{
 "cells": [
  {
   "cell_type": "markdown",
   "metadata": {
    "id": "LBSYoWbi-45k"
   },
   "source": [
    "# **Fine-tuning XLSR-Wav2Vec2 for Multi-Lingual ASR with 🤗 Transformers**"
   ]
  },
  {
   "cell_type": "markdown",
   "metadata": {},
   "source": [
    "## Pre-configuration"
   ]
  },
  {
   "cell_type": "code",
   "execution_count": 1,
   "metadata": {},
   "outputs": [],
   "source": [
    "from ipywidgets import widgets"
   ]
  },
  {
   "cell_type": "code",
   "execution_count": 2,
   "metadata": {},
   "outputs": [],
   "source": [
    "import os"
   ]
  },
  {
   "cell_type": "code",
   "execution_count": 3,
   "metadata": {},
   "outputs": [],
   "source": [
    "language_code = 'ml'\n",
    "language_name = 'malayalam'\n",
    "base_model = \"facebook/wav2vec2-large-xlsr-53\"\n",
    "pretrain_model = f\"gvs/wav2vec2-large-xlsr-{language_name}\"\n",
    "\n",
    "data_dir = f\"/workspace/data/{language_code}\"\n",
    "output_models_dir = f\"/workspace/output_models/mal/wav2vec2-large-xlsr-{language_name}-demo\""
   ]
  },
  {
   "cell_type": "code",
   "execution_count": 4,
   "metadata": {},
   "outputs": [
    {
     "data": {
      "text/plain": [
       "'For wandb login please visit https://wandb.ai/authorize'"
      ]
     },
     "metadata": {},
     "output_type": "display_data"
    },
    {
     "data": {
      "application/vnd.jupyter.widget-view+json": {
       "model_id": "d9c394357a474e4bbbce25a40c9c6ce0",
       "version_major": 2,
       "version_minor": 0
      },
      "text/plain": [
       "Text(value='', description='Token :')"
      ]
     },
     "metadata": {},
     "output_type": "display_data"
    },
    {
     "data": {
      "application/vnd.jupyter.widget-view+json": {
       "model_id": "98cbdeed5c464b559ad6f1ab72224b7b",
       "version_major": 2,
       "version_minor": 0
      },
      "text/plain": [
       "Button(description='Validate', style=ButtonStyle())"
      ]
     },
     "metadata": {},
     "output_type": "display_data"
    }
   ],
   "source": [
    "### Wandb configuration\n",
    "#!wandb login \n",
    "display(\"For wandb login please visit https://wandb.ai/authorize\")\n",
    "\n",
    "wandb_login = widgets.Text(description=\"Token :\")\n",
    "wandb_button = widgets.Button(description=\"Validate\")\n",
    "\n",
    "def handle_wb_submit(sender):\n",
    "    token = wandb_login.value\n",
    "    os.system(f\"wandb login {token}\")\n",
    "    \n",
    "if 'WANDB_API_KEY' not in os.environ:\n",
    "    display(wandb_login)\n",
    "    display(wandb_button)\n",
    "    wandb_button.on_click(handle_wb_submit)"
   ]
  },
  {
   "cell_type": "code",
   "execution_count": 5,
   "metadata": {},
   "outputs": [
    {
     "name": "stdout",
     "output_type": "stream",
     "text": [
      "\u001b[34m\u001b[1mwandb\u001b[0m: Currently logged in as: \u001b[33mgvs\u001b[0m (use `wandb login --relogin` to force relogin)\n"
     ]
    }
   ],
   "source": [
    "# optional c\n",
    "!wandb login"
   ]
  },
  {
   "cell_type": "markdown",
   "metadata": {},
   "source": [
    "## Presentation"
   ]
  },
  {
   "cell_type": "markdown",
   "metadata": {
    "id": "V7YOT2mnUiea"
   },
   "source": [
    "Wav2Vec2 is a pretrained model for Automatic Speech Recognition (ASR) and was released in [September 2020](https://ai.facebook.com/blog/wav2vec-20-learning-the-structure-of-speech-from-raw-audio/) by Alexei Baevski, Michael Auli, and Alex Conneau.  Soon after the superior performance of Wav2Vec2 was demonstrated on the English ASR dataset LibriSpeech, *Facebook AI* presented XLSR-Wav2Vec2 (click [here](https://arxiv.org/abs/2006.13979)). XLSR stands for *cross-lingual  speech representations* and refers to XLSR-Wav2Vec2`s ability to learn speech representations that are useful across multiple languages.\n",
    "\n",
    "Similar to Wav2Vec2, XLSR-Wav2Vec2 learns powerful speech representations from hundreds of thousands of hours of speech in more than 50 languages of unlabeled speech. Similar, to [BERT's masked language modeling](http://jalammar.github.io/illustrated-bert/), the model learns contextualized speech representations by randomly masking feature vectors before passing them to a transformer network.\n",
    "\n",
    "![wav2vec2_structure](https://raw.githubusercontent.com/patrickvonplaten/scientific_images/master/xlsr_wav2vec2.png)\n",
    "\n",
    "The authors show for the first time that massively pretraining an ASR model on cross-lingual unlabeled speech data, followed by language-specific fine-tuning on very little labeled data achieves state-of-the-art results. See Table 1-5 of the official [paper](https://arxiv.org/pdf/2006.13979.pdf)."
   ]
  },
  {
   "cell_type": "markdown",
   "metadata": {
    "id": "nT_QrfWtsxIz"
   },
   "source": [
    "In this notebook, we will give an in-detail explanation of how XLSR-Wav2Vec2's pretrained checkpoint can be fine-tuned on a low-resource ASR dataset of any language. Note that in this notebook, we will fine-tune XLSR-Wav2Vec2 without making use of a language model. It is much simpler and more efficient to use XLSR-Wav2Vec2 without a language model, but better results can be achieved by including a language model. \n",
    "\n"
   ]
  },
  {
   "cell_type": "markdown",
   "metadata": {
    "id": "Gx9OdDYrCtQ1"
   },
   "source": [
    "XLSR-Wav2Vec2 is fine-tuned using Connectionist Temporal Classification (CTC), which is an algorithm that is used to train neural networks for sequence-to-sequence problems and mainly in Automatic Speech Recognition and handwriting recognition. \n",
    "\n",
    "I highly recommend reading the blog post [Sequence Modeling with CTC (2017)](https://distill.pub/2017/ctc/) very well-written blog post by Awni Hannun."
   ]
  },
  {
   "cell_type": "markdown",
   "metadata": {
    "id": "e335hPmdtASZ"
   },
   "source": [
    "Before we start, let's install both `datasets` and `transformers` from master. Also, we need the `torchaudio` and `librosa` package to load audio files and the `jiwer` to evaluate our fine-tuned model using the [word error rate (WER)](https://huggingface.co/metrics/wer) metric ${}^1$."
   ]
  },
  {
   "cell_type": "markdown",
   "metadata": {
    "id": "Mn9swf6EQ9Vd"
   },
   "source": [
    "\n",
    "\n",
    "\n",
    "---\n",
    "\n",
    "${}^1$ In the [paper](https://arxiv.org/pdf/2006.13979.pdf), the model was evaluated using the phoneme error rate (PER), but by far the most common metric in ASR is the word error rate (WER). To keep this notebook as general as possible we decided to evaluate the model using WER."
   ]
  },
  {
   "cell_type": "markdown",
   "metadata": {
    "id": "0mW-C1Nt-j7k"
   },
   "source": [
    "## Prepare Data, Tokenizer, Feature Extractor"
   ]
  },
  {
   "cell_type": "markdown",
   "metadata": {
    "id": "BeBosnY9BH3e"
   },
   "source": [
    "ASR models transcribe speech to text, which means that we both need a feature extractor that processes the speech signal to the model's input format, *e.g.* a feature vector, and a tokenizer that processes the model's output format to text. \n",
    "\n",
    "In 🤗 Transformers, the XLSR-Wav2Vec2 model is thus accompanied by both a tokenizer, called [Wav2Vec2CTCTokenizer](https://huggingface.co/transformers/master/model_doc/wav2vec2.html#wav2vec2ctctokenizer), and a feature extractor, called [Wav2Vec2FeatureExtractor](https://huggingface.co/transformers/master/model_doc/wav2vec2.html#wav2vec2featureextractor).\n",
    "\n",
    "Let's start by creating the tokenizer responsible for decoding the model's predictions."
   ]
  },
  {
   "cell_type": "markdown",
   "metadata": {
    "id": "sEXEWEJGQPqD"
   },
   "source": [
    "### Create Wav2Vec2CTCTokenizer"
   ]
  },
  {
   "cell_type": "markdown",
   "metadata": {
    "id": "tWmMikuNEKl_"
   },
   "source": [
    "The [pretrained Wav2Vec2 checkpoint]( ) maps the speech signal to a sequence of context representations as illustrated in the figure above. A fine-tuned XLSR-Wav2Vec2 checkpoint needs to map this sequence of context representations to its corresponding transcription so that a linear layer has to be added on top of the transformer block (shown in yellow). This linear layer is used to classifies each context representation to a token class analogous how, *e.g.*, after pretraining a linear layer is added on top of BERT's embeddings for further classification - *cf.* with *\"BERT\"* section of this [blog post](https://huggingface.co/blog/warm-starting-encoder-decoder).\n",
    "\n",
    "The output size of this layer corresponds to the number of tokens in the vocabulary, which does **not** depend on XLSR-Wav2Vec2's pretraining task, but only on the labeled dataset used for fine-tuning. So in the first step, we will take a look at Common Voice and define a vocabulary based on the dataset's transcriptions."
   ]
  },
  {
   "cell_type": "markdown",
   "metadata": {
    "id": "idBczw8mWzgt"
   },
   "source": [
    "First, you need to download and prepare the dataset using [this notebook](https://github.com/gauthamsuresh09/wav2vec2-large-xlsr-53-malayalam/blob/main/make-hf-dataset.ipynb)\n",
    "\n",
    "Great, now we can use 🤗 Datasets' simple API to download the data. The dataset name will be `\"common_voice\"`, the config name corresponds to the language code - `\"tr\"` in our case."
   ]
  },
  {
   "cell_type": "markdown",
   "metadata": {
    "id": "bee4g9rpLxll"
   },
   "source": [
    "Common Voice has many different splits including `invalidated`, which refers to data that was not rated as \"clean enough\" to be considered useful. In this notebook, we will only make use of the splits `\"train\"`, `\"validation\"` and `\"test\"`. \n",
    "\n",
    "Because the Malayalam dataset is so small, we will use training split to train and simply use the test data for validation."
   ]
  },
  {
   "cell_type": "code",
   "execution_count": 6,
   "metadata": {
    "colab": {
     "base_uri": "https://localhost:8080/",
     "height": 227,
     "referenced_widgets": [
      "def702d8f8354fa4999587a5c68d0034",
      "2fd148d5587b4139919b0158f9dad71e",
      "edf36819322e4f9fa227a11592fef429",
      "ce337f50183942e6a74ca1b33735ade9",
      "8292dafcd40745958d0f3c563bf6b9b0",
      "93f191a48b3141e1889fd94870b6ac0e",
      "9532db4cdc5e4371a4a02055a4c67a08",
      "e9a702f10538415b970ea1345804d72c",
      "f3adb92e618743cca3299e3e7b6e369f",
      "83b51e16d88046c48dcd745cf09d2e56",
      "b0e3a36279d243ab9943149705c72c3e",
      "12696cc03f464a63a411efb2b5e5ac3b",
      "530f66ac087e4f8f979fcaa33941c60d",
      "a34dae18d9994b848630d4e3d836e0cb",
      "68a3178fe7a54e838e798ff28ff9aa0b",
      "ceb44ba4fdf34da19a52469acf1ce63f",
      "90b8bc59e26a46009e1d3763f86f227a",
      "3e2cd59ac697495f8db14b894b783f95",
      "98e7ab5f7ebf426fbb71a37bbad4c28f",
      "e3b719c0ffcc4fd1b410ffb7f969b7a5",
      "4382726ef043441a9b1a4a647d84f242",
      "2f5406546970425282a881b5d2f7c248",
      "19e263785ea343ba99ee2127d9b83d1d",
      "c9dc4421940241c59f1151aeabedc98b",
      "8701fb161cec47e89fc4d57b599ee7fe",
      "1813458f75514f039ba0214597a09bb4",
      "7f787df324514a8c915785e272a8af18",
      "889da3e5ed2945849d3c8a6a75175747",
      "71ffdf6f26ba4381a8e671958e679f88",
      "7916b06da182435a9cc1d13c73310500",
      "59e0f5200068461cbfb256ad5479c4c8",
      "2cd13e03a2ab45dc8570c8c739a613b4",
      "089428f56e66419f85ea149d9d102454",
      "d649c0f9c1c24634a84b7ef697721ffa",
      "4db5037af3f64a3a8a8a1203018a80ff",
      "6a957c1c17474d8d89c27ddecf702fda",
      "2a6e1185a6a247f5acba8111824ad36b",
      "c0e6b6e6395d4dbd827eb1c0de1ad21a",
      "05f83d714f864a399083f0e34a812467",
      "91fcf0641fe3489ab96f3aaa40adf245",
      "25ba4f4c8b9c44af9885b3903a9261fd",
      "dde7ae43ef954ef1b901c80f0a4e11fd",
      "03b33c17734d49e28c4636dddd6e833d",
      "71c059a0f3c246f3a40d55744331daaa",
      "da1ff50f8b9241108a325ada04224642",
      "bee0f50055eb4f738636142a10da0ddd",
      "cb5666eb8ebb4d1392e98d6b5af8761c",
      "430c3c079d0e4006b90e72df7986ffb0",
      "6c065aa34661469ca1efb4c5e90fe136",
      "540510088d3947f1b3cf6f4c983c1a53",
      "0a9b58c98508420d8f8936189f064316",
      "8dd5b08bb5bd4e608d04122424796ae7",
      "c546bca23ee248a1be7bd8ead3e82a8f",
      "af85713f677243d19cba9fe69a4a5f46",
      "2f18d89c684343b69c3f44ffbb9b42a0",
      "9eb51a6ecf3f41578aa397a5c2a33673"
     ]
    },
    "id": "2MMXcWFFgCXU",
    "outputId": "dc239772-da3b-4ef0-d029-f161f0625fff"
   },
   "outputs": [
    {
     "name": "stderr",
     "output_type": "stream",
     "text": [
      "Using custom data configuration default-56eeb6885c40d104\n",
      "Reusing dataset json (/workspace/.cache/huggingface/datasets/json/default-56eeb6885c40d104/0.0.0/83d5b3a2f62630efc6b5315f00f20209b4ad91a00ac586597caee3a4da0bef02)\n",
      "Using custom data configuration default-6c27624ee9f4d75f\n",
      "Reusing dataset json (/workspace/.cache/huggingface/datasets/json/default-6c27624ee9f4d75f/0.0.0/83d5b3a2f62630efc6b5315f00f20209b4ad91a00ac586597caee3a4da0bef02)\n",
      "Using custom data configuration default-c4d6e66446b3dda5\n",
      "Reusing dataset json (/workspace/.cache/huggingface/datasets/json/default-c4d6e66446b3dda5/0.0.0/83d5b3a2f62630efc6b5315f00f20209b4ad91a00ac586597caee3a4da0bef02)\n",
      "Using custom data configuration default-f728fc42fd240113\n",
      "Reusing dataset json (/workspace/.cache/huggingface/datasets/json/default-f728fc42fd240113/0.0.0/83d5b3a2f62630efc6b5315f00f20209b4ad91a00ac586597caee3a4da0bef02)\n",
      "Using custom data configuration default-47f82cc8b066d265\n",
      "Reusing dataset json (/workspace/.cache/huggingface/datasets/json/default-47f82cc8b066d265/0.0.0/83d5b3a2f62630efc6b5315f00f20209b4ad91a00ac586597caee3a4da0bef02)\n",
      "Using custom data configuration default-6e68636867225635\n",
      "Reusing dataset json (/workspace/.cache/huggingface/datasets/json/default-6e68636867225635/0.0.0/83d5b3a2f62630efc6b5315f00f20209b4ad91a00ac586597caee3a4da0bef02)\n"
     ]
    }
   ],
   "source": [
    "from datasets import load_dataset, load_metric\n",
    "from pathlib import Path\n",
    "\n",
    "data_dir = Path('/workspace/data/mal/hf-dataset')\n",
    "\n",
    "dataset_folders = {\n",
    "    'iiit': 'iiit_mal_abi',\n",
    "    'openslr': 'openslr',\n",
    "    'indic-tts': 'indic-tts-ml',\n",
    "    'msc-reviewed': 'msc-reviewed-speech-v1.0+20200825',\n",
    "}\n",
    "\n",
    "# Set directories for datasets\n",
    "openslr_male_dir = data_dir / dataset_folders['openslr'] / 'male'\n",
    "openslr_female_dir = data_dir / dataset_folders['openslr'] / 'female'\n",
    "iiit_dir = data_dir / dataset_folders['iiit']\n",
    "indic_tts_male_dir = data_dir / dataset_folders['indic-tts'] / 'male'\n",
    "indic_tts_female_dir = data_dir / dataset_folders['indic-tts'] / 'female'\n",
    "msc_reviewed_dir = data_dir / dataset_folders['msc-reviewed']\n",
    "\n",
    "# Load the datasets\n",
    "# We are not using IIIT dataset to train model. IIIT dataset is already in 16k Hz, all others are 48k Hz\n",
    "# So the map functions we use later might fail, hence I avoided using it for now. Of course, you can \n",
    "# modify code to use this as well\n",
    "openslr_male = load_dataset(\"json\", data_files=[f\"{str(openslr_male_dir.absolute())}/sample_{i}.json\" for i in range(2023)], split=\"train\")\n",
    "openslr_female = load_dataset(\"json\", data_files=[f\"{str(openslr_female_dir.absolute())}/sample_{i}.json\" for i in range(2103)], split=\"train\")\n",
    "iiit = load_dataset(\"json\", data_files=[f\"{str(iiit_dir.absolute())}/sample_{i}.json\" for i in range(1000)], split=\"train\")\n",
    "indic_tts_male = load_dataset(\"json\", data_files=[f\"{str(indic_tts_male_dir.absolute())}/sample_{i}.json\" for i in range(5649)], split=\"train\")\n",
    "indic_tts_female = load_dataset(\"json\", data_files=[f\"{str(indic_tts_female_dir.absolute())}/sample_{i}.json\" for i in range(2950)], split=\"train\")\n",
    "msc_reviewed = load_dataset(\"json\", data_files=[f\"{str(msc_reviewed_dir.absolute())}/sample_{i}.json\" for i in range(1541)], split=\"train\")\n",
    "\n",
    "#common_voice_train = load_dataset(\"common_voice\", language_code, split=\"train+validation\")\n",
    "#common_voice_test = load_dataset(\"common_voice\", language_code, split=\"test\")"
   ]
  },
  {
   "cell_type": "markdown",
   "metadata": {
    "id": "ri5y5N_HMANq"
   },
   "source": [
    "Many ASR datasets only provide the target text, `'sentence'` for each audio file `'path'`. Common Voice actually provides much more information about each audio file, such as the `'accent'`, etc. However, we want to keep the notebook as general as possible, so that we will only consider the transcribed text for fine-tuning.\n",
    "\n"
   ]
  },
  {
   "cell_type": "code",
   "execution_count": 7,
   "metadata": {},
   "outputs": [
    {
     "name": "stderr",
     "output_type": "stream",
     "text": [
      "Loading cached split indices for dataset at /workspace/.cache/huggingface/datasets/json/default-56eeb6885c40d104/0.0.0/83d5b3a2f62630efc6b5315f00f20209b4ad91a00ac586597caee3a4da0bef02/cache-75303e9e7abc95e4.arrow and /workspace/.cache/huggingface/datasets/json/default-56eeb6885c40d104/0.0.0/83d5b3a2f62630efc6b5315f00f20209b4ad91a00ac586597caee3a4da0bef02/cache-f9f16ebc53102e2d.arrow\n",
      "Loading cached split indices for dataset at /workspace/.cache/huggingface/datasets/json/default-6c27624ee9f4d75f/0.0.0/83d5b3a2f62630efc6b5315f00f20209b4ad91a00ac586597caee3a4da0bef02/cache-c8443897370b3390.arrow and /workspace/.cache/huggingface/datasets/json/default-6c27624ee9f4d75f/0.0.0/83d5b3a2f62630efc6b5315f00f20209b4ad91a00ac586597caee3a4da0bef02/cache-d47f4628585acd98.arrow\n",
      "Loading cached split indices for dataset at /workspace/.cache/huggingface/datasets/json/default-f728fc42fd240113/0.0.0/83d5b3a2f62630efc6b5315f00f20209b4ad91a00ac586597caee3a4da0bef02/cache-30547fbdc5df1e52.arrow and /workspace/.cache/huggingface/datasets/json/default-f728fc42fd240113/0.0.0/83d5b3a2f62630efc6b5315f00f20209b4ad91a00ac586597caee3a4da0bef02/cache-868af87d536f7d90.arrow\n",
      "Loading cached split indices for dataset at /workspace/.cache/huggingface/datasets/json/default-47f82cc8b066d265/0.0.0/83d5b3a2f62630efc6b5315f00f20209b4ad91a00ac586597caee3a4da0bef02/cache-faa92c178fb1a207.arrow and /workspace/.cache/huggingface/datasets/json/default-47f82cc8b066d265/0.0.0/83d5b3a2f62630efc6b5315f00f20209b4ad91a00ac586597caee3a4da0bef02/cache-4d6ab5327d3ae642.arrow\n",
      "Loading cached split indices for dataset at /workspace/.cache/huggingface/datasets/json/default-6e68636867225635/0.0.0/83d5b3a2f62630efc6b5315f00f20209b4ad91a00ac586597caee3a4da0bef02/cache-8bc93b434018dc33.arrow and /workspace/.cache/huggingface/datasets/json/default-6e68636867225635/0.0.0/83d5b3a2f62630efc6b5315f00f20209b4ad91a00ac586597caee3a4da0bef02/cache-8ad17cdd2eac1753.arrow\n"
     ]
    }
   ],
   "source": [
    "import datasets\n",
    "\n",
    "# Create test split as 20%, set random seed as well.\n",
    "test_size = 0.2\n",
    "random_seed=1\n",
    "\n",
    "openslr_male_splits = openslr_male.train_test_split(test_size=test_size, seed=random_seed)\n",
    "openslr_female_splits = openslr_female.train_test_split(test_size=test_size, seed=random_seed)\n",
    "indic_tts_male_splits = indic_tts_male.train_test_split(test_size=test_size, seed=random_seed)\n",
    "indic_tts_female_splits = indic_tts_female.train_test_split(test_size=test_size, seed=random_seed)\n",
    "msc_reviewed_splits = msc_reviewed.train_test_split(test_size=test_size, seed=random_seed)"
   ]
  },
  {
   "cell_type": "code",
   "execution_count": 8,
   "metadata": {},
   "outputs": [],
   "source": [
    "# Get train and test splits, we set name as common_voice so that there's no need to modify remaining code :).\n",
    "split_list = [openslr_male_splits, openslr_female_splits, indic_tts_male_splits, indic_tts_female_splits, msc_reviewed_splits]\n",
    "common_voice_train = datasets.concatenate_datasets([split['train'] for split in split_list])\n",
    "common_voice_test = datasets.concatenate_datasets([split['test'] for split in split_list])"
   ]
  },
  {
   "cell_type": "code",
   "execution_count": 9,
   "metadata": {
    "id": "kbyq6lDgQc2a"
   },
   "outputs": [],
   "source": [
    "#common_voice_train = common_voice_train.remove_columns([\"accent\", \"age\", \"client_id\", \"down_votes\", \"gender\", \"locale\", \"segment\", \"up_votes\"])\n",
    "#common_voice_test = common_voice_test.remove_columns([\"accent\", \"age\", \"client_id\", \"down_votes\", \"gender\", \"locale\", \"segment\", \"up_votes\"])"
   ]
  },
  {
   "cell_type": "markdown",
   "metadata": {
    "id": "Go9Hq4e4NDT9"
   },
   "source": [
    "Let's write a short function to display some random samples of the dataset and run it a couple of times to get a feeling for the transcriptions."
   ]
  },
  {
   "cell_type": "code",
   "execution_count": 10,
   "metadata": {
    "id": "72737oog2F6U"
   },
   "outputs": [],
   "source": [
    "from datasets import ClassLabel\n",
    "import random\n",
    "import pandas as pd\n",
    "from IPython.display import display, HTML\n",
    "\n",
    "def show_random_elements(dataset, num_examples=10):\n",
    "    assert num_examples <= len(dataset), \"Can't pick more elements than there are in the dataset.\"\n",
    "    picks = []\n",
    "    for _ in range(num_examples):\n",
    "        pick = random.randint(0, len(dataset)-1)\n",
    "        while pick in picks:\n",
    "            pick = random.randint(0, len(dataset)-1)\n",
    "        picks.append(pick)\n",
    "    \n",
    "    df = pd.DataFrame(dataset[picks])\n",
    "    display(HTML(df.to_html()))"
   ]
  },
  {
   "cell_type": "code",
   "execution_count": 11,
   "metadata": {
    "colab": {
     "base_uri": "https://localhost:8080/",
     "height": 669
    },
    "id": "K_JUmf3G3b9S",
    "outputId": "a8fe6d21-b0ce-4d5b-e3a2-abe08ae551f7"
   },
   "outputs": [
    {
     "data": {
      "text/html": [
       "<table border=\"1\" class=\"dataframe\">\n",
       "  <thead>\n",
       "    <tr style=\"text-align: right;\">\n",
       "      <th></th>\n",
       "      <th>sentence</th>\n",
       "    </tr>\n",
       "  </thead>\n",
       "  <tbody>\n",
       "    <tr>\n",
       "      <th>0</th>\n",
       "      <td>എക്സിറ്റ് സ്വീകരിക്കുക</td>\n",
       "    </tr>\n",
       "    <tr>\n",
       "      <th>1</th>\n",
       "      <td>വേറെ വിശേഷമൊന്നുമില്ല.</td>\n",
       "    </tr>\n",
       "    <tr>\n",
       "      <th>2</th>\n",
       "      <td>സമനിലയില്‍ ഇന്നലെ തളച്ചതോടെയാണ് സ്മാരക അന്താരാഷ്ട്ര കിരീടം കൈയെത്തും ദൂരത്തെത്തിയത്</td>\n",
       "    </tr>\n",
       "    <tr>\n",
       "      <th>3</th>\n",
       "      <td>സ്വാഗതവും നന്ദിയും പറഞ്ഞു</td>\n",
       "    </tr>\n",
       "    <tr>\n",
       "      <th>4</th>\n",
       "      <td>വാണിജ്യ നാമത്തോടെ ഇത് രാസവര്‍ഗത്തില്‍ പെടുന്നു</td>\n",
       "    </tr>\n",
       "    <tr>\n",
       "      <th>5</th>\n",
       "      <td>സൂചികൊണ്ടെടുക്കേണ്ടത് തൂമ്പ കൊണ്ടെടുക്കരുത്.</td>\n",
       "    </tr>\n",
       "    <tr>\n",
       "      <th>6</th>\n",
       "      <td>നിങ്ങളുടെ പേരെന്താണ്?</td>\n",
       "    </tr>\n",
       "    <tr>\n",
       "      <th>7</th>\n",
       "      <td>തുണിസഞ്ചി കൈയില്‍തൂക്കി വേഗം താഴേക്കെത്തി</td>\n",
       "    </tr>\n",
       "    <tr>\n",
       "      <th>8</th>\n",
       "      <td>തുളുനാടന്‍സ്വാമിയാരെ തൃപ്പൂണിത്തുറ വരുത്തുകയും ചെയ്തു</td>\n",
       "    </tr>\n",
       "    <tr>\n",
       "      <th>9</th>\n",
       "      <td>അതു കേട്ടപ്പോള്‍ എല്ലവര്‍ക്കും സങ്കടം വന്നു</td>\n",
       "    </tr>\n",
       "    <tr>\n",
       "      <th>10</th>\n",
       "      <td>സമാധാന ധര്‍ണ്ണയില്‍ പങ്കെടുക്കവേയാണു ഇക്കാര്യം വ്യക്തമാക്കിയത്</td>\n",
       "    </tr>\n",
       "    <tr>\n",
       "      <th>11</th>\n",
       "      <td>ഈ ലേഖനം ആറാട്ടുപുഴ പൂരം എന്ന താളുമായി ലയിപ്പിക്കുന്നതിന് ശുപാർശ ചെയ്തിരിക്കുന്നു</td>\n",
       "    </tr>\n",
       "    <tr>\n",
       "      <th>12</th>\n",
       "      <td>താങ്കൾ പറയുന്നത് ശരിയാണ് എന്ന് തോന്നുന്നു</td>\n",
       "    </tr>\n",
       "    <tr>\n",
       "      <th>13</th>\n",
       "      <td>അപ്പോഴും തന്റെ ഗവേഷണവിവരങ്ങൾ അദ്ദേഹം അവളോട് പറഞ്ഞു</td>\n",
       "    </tr>\n",
       "    <tr>\n",
       "      <th>14</th>\n",
       "      <td>അത് അപ്പോഴും പൂർത്തിയാകാത്ത കവിതയായിരുന്നു</td>\n",
       "    </tr>\n",
       "    <tr>\n",
       "      <th>15</th>\n",
       "      <td>ഇത് എന്താണെന്ന് കൂടി എഴുതിയാല്‍ നന്നായിരുന്നു</td>\n",
       "    </tr>\n",
       "    <tr>\n",
       "      <th>16</th>\n",
       "      <td>മനുഷ്യന്റെ ഏറ്റവും വലിയ അഭിവാഞ്‌‌ഛ ജീവിച്ചിരിക്കുക എന്നു തന്നെയാണ്</td>\n",
       "    </tr>\n",
       "    <tr>\n",
       "      <th>17</th>\n",
       "      <td>വംശീയ ആക്രമണങ്ങള്‍ അവസാനിപ്പിക്കണം അധിനിവേശ സൈന്യത്തോടു പ്രതികാരം ചെയ്യുകയും അരുത്</td>\n",
       "    </tr>\n",
       "    <tr>\n",
       "      <th>18</th>\n",
       "      <td>ഭീഷണിയെ തുടര്‍ന്ന് വിമാനത്താവളങ്ങളില്‍ സുരക്ഷ കര്‍ശനമാക്കി</td>\n",
       "    </tr>\n",
       "    <tr>\n",
       "      <th>19</th>\n",
       "      <td>പൊടിയും ചെറിയ വസ്തുക്കളും തടുത്തുകളഞ്ഞ് മുറ്റമോ വീടിനകമോ വൃത്തിയാക്കാന്‍ ഉപയോഗിക്കുന്ന ഉപകരണമാണ് ചൂല്‍</td>\n",
       "    </tr>\n",
       "  </tbody>\n",
       "</table>"
      ],
      "text/plain": [
       "<IPython.core.display.HTML object>"
      ]
     },
     "metadata": {},
     "output_type": "display_data"
    }
   ],
   "source": [
    "show_random_elements(common_voice_train.remove_columns([\"path\"]), num_examples=20)"
   ]
  },
  {
   "cell_type": "markdown",
   "metadata": {
    "id": "fowcOllGNNju"
   },
   "source": [
    "Alright! The transcriptions look fairly clean."
   ]
  },
  {
   "cell_type": "markdown",
   "metadata": {
    "id": "vq7OR50LN49m"
   },
   "source": [
    "We can see that the transcriptions contain some special characters, such as `,.?!;:`. Without a language model, it is much harder to classify speech chunks to such special characters because they don't really correspond to a characteristic sound unit. *E.g.*, the letter `\"s\"` has a more or less clear sound, whereas the special character `\".\"` does not.\n",
    "Also in order to understand the meaning of a speech signal, it is usually not necessary to include special characters in the transcription.\n",
    "\n",
    "In addition, we normalize the text to only have lower case letters and append a word separator token at the end."
   ]
  },
  {
   "cell_type": "code",
   "execution_count": 12,
   "metadata": {
    "id": "svKzVJ_hQGK6"
   },
   "outputs": [],
   "source": [
    "import re\n",
    "chars_to_ignore_regex = '[\\,\\?\\.\\!\\-\\;\\:\\\"\\“\\%\\‘\\”\\�Utrnle\\_]'\n",
    "unicode_ignore_regex = r'[\\u200d\\u200c\\u200e]' # Some unwanted unicode chars\n",
    "\n",
    "def remove_special_characters(batch):\n",
    "    batch[\"sentence\"] = batch[\"sentence\"].strip()\n",
    "    batch[\"sentence\"] = re.sub(chars_to_ignore_regex, '', batch[\"sentence\"])\n",
    "    batch[\"sentence\"] = re.sub(unicode_ignore_regex, '', batch[\"sentence\"]) + \" \"\n",
    "    return batch"
   ]
  },
  {
   "cell_type": "code",
   "execution_count": 13,
   "metadata": {
    "colab": {
     "base_uri": "https://localhost:8080/",
     "height": 117,
     "referenced_widgets": [
      "92a35db69bbf4ad6af44c53aa3870be5",
      "389e43e47a734193a507817ebad955f7",
      "b94e374d92c146009447c3827b977267",
      "1f1faa7b986e475c9e6839b2e7b55c74",
      "4ff7ccffc36a4a0f93031f5cdc3b718d",
      "b177a8cb85a24b88ab6d56205b630f1d",
      "2ca2f397c4ef405bba27ae2b1415cada",
      "b320306eaf264ad9872d507a1a1cb2da",
      "cc9c1e00c2d34516b8fd9edff96bb0d8",
      "6abfbe44a1bd4518b41f5f53f920e936",
      "33c92b5afd1d4b6d88016aabfb434194",
      "998676d59f9c464e8463d65baad6448b",
      "45f0a2f361da4608bc8314a27657a56c",
      "3dc9ea77b842455a91f00e9ca9f41948",
      "7bf5b2b625764f63ad57a360c3fd0a61",
      "7b4cfd2b448643b8a4409dd612aef0d1"
     ]
    },
    "id": "XIHocAuTQbBR",
    "outputId": "cc1a70b2-7b4d-410b-f997-1f1c47c3c9e5"
   },
   "outputs": [
    {
     "name": "stderr",
     "output_type": "stream",
     "text": [
      "Loading cached processed dataset at /workspace/.cache/huggingface/datasets/json/default-56eeb6885c40d104/0.0.0/83d5b3a2f62630efc6b5315f00f20209b4ad91a00ac586597caee3a4da0bef02/cache-9171e49720b20939.arrow\n",
      "Loading cached processed dataset at /workspace/.cache/huggingface/datasets/json/default-56eeb6885c40d104/0.0.0/83d5b3a2f62630efc6b5315f00f20209b4ad91a00ac586597caee3a4da0bef02/cache-d53e57ee6735f7aa.arrow\n"
     ]
    }
   ],
   "source": [
    "common_voice_train = common_voice_train.map(remove_special_characters)\n",
    "common_voice_test = common_voice_test.map(remove_special_characters)"
   ]
  },
  {
   "cell_type": "code",
   "execution_count": 14,
   "metadata": {
    "colab": {
     "base_uri": "https://localhost:8080/",
     "height": 359
    },
    "id": "RBDRAAYxRE6n",
    "outputId": "c3a72eaa-8ddc-4283-ccb8-52e50215b84d"
   },
   "outputs": [
    {
     "data": {
      "text/html": [
       "<table border=\"1\" class=\"dataframe\">\n",
       "  <thead>\n",
       "    <tr style=\"text-align: right;\">\n",
       "      <th></th>\n",
       "      <th>sentence</th>\n",
       "    </tr>\n",
       "  </thead>\n",
       "  <tbody>\n",
       "    <tr>\n",
       "      <th>0</th>\n",
       "      <td>അതിനെ രക്ഷപെടുത്താനായി അദ്ദേഹം കടം വാങ്ങാൻ തുടങ്ങി</td>\n",
       "    </tr>\n",
       "    <tr>\n",
       "      <th>1</th>\n",
       "      <td>എല്ലാവര്ക്കും ഊണു കഴിക്കാം മാളിയയ്ക്കന് ഇന്നു മുതല് നായരായിരിക്കുന്നു</td>\n",
       "    </tr>\n",
       "    <tr>\n",
       "      <th>2</th>\n",
       "      <td>ഞാനിത് അന്തഃപുരത്തിലെ സ്ത്രീകളില്നിന്ന് രഹസ്യമായി അറിഞ്ഞതാണ്</td>\n",
       "    </tr>\n",
       "    <tr>\n",
       "      <th>3</th>\n",
       "      <td>അതിനായി ആയിരത്തിയെട്ട് നാളികേരമാണ് ഉപയോഗിക്കുന്നത്</td>\n",
       "    </tr>\n",
       "    <tr>\n",
       "      <th>4</th>\n",
       "      <td>ഏറ്റവും അടുത്തുള്ള വിമാനത്താവളം തിരുവനന്തപുരം അന്താരാഷ്ട്ര വിമാനത്താവളം</td>\n",
       "    </tr>\n",
       "    <tr>\n",
       "      <th>5</th>\n",
       "      <td>അച്ചടക്കമില്ലാത്ത ക്രിസ്ത്യൻ സമൂഹം എന്നാണ് വില്ല്യം ആദ്യം അവരെ പറ്റി ധരിച്ചത്</td>\n",
       "    </tr>\n",
       "    <tr>\n",
       "      <th>6</th>\n",
       "      <td>ആനയെ പിന്നീട് മനുഷ്യൻ നാട്ടാനകളുടെ കൂടി സഹായത്താൽ കുഴിയിൽ നിന്നും കരയിലേക്ക് കയറ്റുന്നു</td>\n",
       "    </tr>\n",
       "    <tr>\n",
       "      <th>7</th>\n",
       "      <td>അഞ്ചാറ് ദിവസം അവ്ടെ കറങ്ങീട്ട് തിരിച്ച് പോരും</td>\n",
       "    </tr>\n",
       "    <tr>\n",
       "      <th>8</th>\n",
       "      <td>അതിനാൽ ഭ്രമണം ചെയ്യുന്ന വസ്തുവിനു ചുറ്റുമുള്ള മറ്റു വസ്തുക്കളും ഇതിനോടൊപ്പം ചലിക്കാൻ തുടങ്ങുന്നു</td>\n",
       "    </tr>\n",
       "    <tr>\n",
       "      <th>9</th>\n",
       "      <td>അവയെക്കുറിച്ചറിയാൻ ജീവകം നാനാർത്ഥങ്ങൾ എന്ന താൾ കാണുക</td>\n",
       "    </tr>\n",
       "  </tbody>\n",
       "</table>"
      ],
      "text/plain": [
       "<IPython.core.display.HTML object>"
      ]
     },
     "metadata": {},
     "output_type": "display_data"
    }
   ],
   "source": [
    "show_random_elements(common_voice_train.remove_columns([\"path\"]))"
   ]
  },
  {
   "cell_type": "markdown",
   "metadata": {
    "id": "jwfaptH5RJwA"
   },
   "source": [
    "Good! This looks better. We have removed most special characters from transcriptions and normalized them to lower-case only.\n",
    "\n",
    "In CTC, it is common to classify speech chunks into letters, so we will do the same here. \n",
    "Let's extract all distinct letters of the training and test data and build our vocabulary from this set of letters.\n",
    "\n",
    "We write a mapping function that concatenates all transcriptions into one long transcription and then transforms the string into a set of chars. \n",
    "It is important to pass the argument `batched=True` to the `map(...)` function so that the mapping function has access to all transcriptions at once."
   ]
  },
  {
   "cell_type": "code",
   "execution_count": 15,
   "metadata": {
    "id": "LwCshNbbeRZR"
   },
   "outputs": [],
   "source": [
    "def extract_all_chars(batch):\n",
    "  all_text = \" \".join(batch[\"sentence\"])\n",
    "  vocab = list(set(all_text))\n",
    "  return {\"vocab\": [vocab], \"all_text\": [all_text]}"
   ]
  },
  {
   "cell_type": "code",
   "execution_count": 16,
   "metadata": {
    "colab": {
     "base_uri": "https://localhost:8080/",
     "height": 117,
     "referenced_widgets": [
      "304e9130c12f4110941bfbd3db49a28c",
      "5e6bae23461b4378b6e5fc890fe6bc97",
      "75e00c38605f44cfb584067db1160349",
      "8c07a528fc4a4e108b393ab117fe2e46",
      "c01aca3229a24d41841be2b4a3a65bcc",
      "73ecbfc3c5c5456bb42e19b8a34b1576",
      "813fc95246034f5cb9e5198897b4ed42",
      "8bb78a89ff81400791e3005098fdcb94",
      "bd0958ea97b141b1aca367c71721c549",
      "0354ab33471e4c34a0c1b3c062bcd6bb",
      "d080668299ef42fabb8ab6fbcf329cea",
      "aafd4b2c56db43378c4627797665db17",
      "b0f3a205ad4546188fc6e7e7cf96ab32",
      "f972527479e74337a98f236ed018ae1d",
      "ccb720bf256e42f7b0251494ccb7741f",
      "ad428686450f4ebdb50a0356b2e5a8c4"
     ]
    },
    "id": "_m6uUjjcfbjH",
    "outputId": "75a1a23f-a9c7-4c8b-8777-dad120a9aa9a"
   },
   "outputs": [
    {
     "data": {
      "application/vnd.jupyter.widget-view+json": {
       "model_id": "d5257229d26a4390b0ca821ad5292448",
       "version_major": 2,
       "version_minor": 0
      },
      "text/plain": [
       "HBox(children=(FloatProgress(value=0.0, max=1.0), HTML(value='')))"
      ]
     },
     "metadata": {},
     "output_type": "display_data"
    },
    {
     "name": "stdout",
     "output_type": "stream",
     "text": [
      "\n"
     ]
    },
    {
     "data": {
      "application/vnd.jupyter.widget-view+json": {
       "model_id": "395ee5a65d7f408bb9a35c22953939f4",
       "version_major": 2,
       "version_minor": 0
      },
      "text/plain": [
       "HBox(children=(FloatProgress(value=0.0, max=1.0), HTML(value='')))"
      ]
     },
     "metadata": {},
     "output_type": "display_data"
    },
    {
     "name": "stdout",
     "output_type": "stream",
     "text": [
      "\n"
     ]
    }
   ],
   "source": [
    "vocab_train = common_voice_train.map(extract_all_chars, batched=True, batch_size=-1, keep_in_memory=True, remove_columns=common_voice_train.column_names)\n",
    "vocab_test = common_voice_test.map(extract_all_chars, batched=True, batch_size=-1, keep_in_memory=True, remove_columns=common_voice_test.column_names)"
   ]
  },
  {
   "cell_type": "markdown",
   "metadata": {
    "id": "7oVgE8RZSJNP"
   },
   "source": [
    "Now, we create the union of all distinct letters in the training dataset and test dataset and convert the resulting list into an enumerated dictionary."
   ]
  },
  {
   "cell_type": "code",
   "execution_count": 17,
   "metadata": {
    "id": "aQfneNsmlJI0"
   },
   "outputs": [],
   "source": [
    "vocab_list = list(set(vocab_train[\"vocab\"][0]) | set(vocab_test[\"vocab\"][0]))"
   ]
  },
  {
   "cell_type": "code",
   "execution_count": 18,
   "metadata": {
    "colab": {
     "base_uri": "https://localhost:8080/"
    },
    "id": "_0kRndSvqaKk",
    "outputId": "29f5d23f-75b1-44d0-9975-87f9ec4c0aa5"
   },
   "outputs": [
    {
     "data": {
      "text/plain": [
       "{'ര': 0,\n",
       " 'ജ': 1,\n",
       " 'ഇ': 2,\n",
       " 'ഝ': 3,\n",
       " 'ആ': 4,\n",
       " 'ൾ': 5,\n",
       " 'ൌ': 6,\n",
       " 'ത': 7,\n",
       " 'ഠ': 8,\n",
       " 'ണ': 9,\n",
       " 'ദ': 10,\n",
       " 'ധ': 11,\n",
       " 'ശ': 12,\n",
       " 'ഞ': 13,\n",
       " 'ഐ': 14,\n",
       " 'ി': 15,\n",
       " 'വ': 16,\n",
       " 'ൽ': 17,\n",
       " 'ൻ': 18,\n",
       " 'റ': 19,\n",
       " 'യ': 20,\n",
       " 'ഊ': 21,\n",
       " 'ഛ': 22,\n",
       " 'ു': 23,\n",
       " 'ൃ': 24,\n",
       " 'ഭ': 25,\n",
       " 'ന': 26,\n",
       " 'ർ': 27,\n",
       " 'അ': 28,\n",
       " 'ഘ': 29,\n",
       " 'സ': 30,\n",
       " 'ഗ': 31,\n",
       " 'ൂ': 32,\n",
       " 'ഃ': 33,\n",
       " 'ഓ': 34,\n",
       " 'ള': 35,\n",
       " 'ല': 36,\n",
       " 'ഋ': 37,\n",
       " 'ഴ': 38,\n",
       " 'ൗ': 39,\n",
       " 'ം': 40,\n",
       " 'ോ': 41,\n",
       " 'ഥ': 42,\n",
       " 'ഡ': 43,\n",
       " 'ബ': 44,\n",
       " 'െ': 45,\n",
       " ' ': 46,\n",
       " 'ാ': 47,\n",
       " 'ൈ': 48,\n",
       " 'ീ': 49,\n",
       " 'ങ': 50,\n",
       " 'ൊ': 51,\n",
       " 'ഒ': 52,\n",
       " 'േ': 53,\n",
       " 'ക': 54,\n",
       " 'ഷ': 55,\n",
       " 'ഏ': 56,\n",
       " 'ച': 57,\n",
       " 'ഢ': 58,\n",
       " 'ട': 59,\n",
       " 'ഈ': 60,\n",
       " 'എ': 61,\n",
       " 'മ': 62,\n",
       " '്': 63,\n",
       " 'ൺ': 64,\n",
       " 'ഫ': 65,\n",
       " 'ഖ': 66,\n",
       " 'ഹ': 67,\n",
       " 'ഉ': 68,\n",
       " 'ഔ': 69,\n",
       " 'പ': 70,\n",
       " '൱': 71}"
      ]
     },
     "execution_count": 18,
     "metadata": {},
     "output_type": "execute_result"
    }
   ],
   "source": [
    "vocab_dict = {v: k for k, v in enumerate(vocab_list)}\n",
    "vocab_dict"
   ]
  },
  {
   "cell_type": "markdown",
   "metadata": {
    "id": "JOSzbvs9SXT1"
   },
   "source": [
    "Not much preprocessing is needed as Malayalam doesn't have lower or upper cases and doesn't use punctuations usually."
   ]
  },
  {
   "cell_type": "code",
   "execution_count": 19,
   "metadata": {},
   "outputs": [
    {
     "data": {
      "text/plain": [
       "Dataset({\n",
       "    features: ['path', 'sentence'],\n",
       "    num_rows: 11411\n",
       "})"
      ]
     },
     "execution_count": 19,
     "metadata": {},
     "output_type": "execute_result"
    }
   ],
   "source": [
    "common_voice_train"
   ]
  },
  {
   "cell_type": "code",
   "execution_count": 20,
   "metadata": {},
   "outputs": [
    {
     "data": {
      "text/plain": [
       "Dataset({\n",
       "    features: ['path', 'sentence'],\n",
       "    num_rows: 2855\n",
       "})"
      ]
     },
     "execution_count": 20,
     "metadata": {},
     "output_type": "execute_result"
    }
   ],
   "source": [
    "common_voice_test"
   ]
  },
  {
   "cell_type": "markdown",
   "metadata": {
    "id": "b1fBRCn-TRaO"
   },
   "source": [
    "To make it clearer that `\" \"` has its own token class, we give it a more visible character `|`. In addition, we also add an \"unknown\" token so that the model can later deal with characters not encountered in Common Voice's training set. \n",
    "\n",
    "Finally, we also add a padding token that corresponds to CTC's \"*blank token*\". The \"blank token\" is a core component of the CTC algorithm. For more information, please take a look at the \"Alignment\" section [here](https://distill.pub/2017/ctc/)."
   ]
  },
  {
   "cell_type": "code",
   "execution_count": 21,
   "metadata": {
    "id": "npbIbBoLgaFX"
   },
   "outputs": [],
   "source": [
    "vocab_dict[\"|\"] = vocab_dict[\" \"]\n",
    "del vocab_dict[\" \"]"
   ]
  },
  {
   "cell_type": "code",
   "execution_count": 22,
   "metadata": {
    "colab": {
     "base_uri": "https://localhost:8080/"
    },
    "id": "znF0bNunsjbl",
    "outputId": "6dd50862-f4c5-4a05-87a7-da03d157e30e"
   },
   "outputs": [
    {
     "data": {
      "text/plain": [
       "74"
      ]
     },
     "execution_count": 22,
     "metadata": {},
     "output_type": "execute_result"
    }
   ],
   "source": [
    "vocab_dict[\"[UNK]\"] = len(vocab_dict)\n",
    "vocab_dict[\"[PAD]\"] = len(vocab_dict)\n",
    "len(vocab_dict)"
   ]
  },
  {
   "cell_type": "markdown",
   "metadata": {
    "id": "SFPGfet8U5sL"
   },
   "source": [
    "Cool, now our vocabulary is complete and consists of 39 tokens, which means that the linear layer that we will add on top of the pretrained XLSR-Wav2Vec2 checkpoint will have an output dimension of 39."
   ]
  },
  {
   "cell_type": "markdown",
   "metadata": {
    "id": "1CujRgBNVRaD"
   },
   "source": [
    "Let's now save the vocabulary as a json file."
   ]
  },
  {
   "cell_type": "code",
   "execution_count": 23,
   "metadata": {
    "id": "ehyUoh9vk191"
   },
   "outputs": [],
   "source": [
    "import json\n",
    "with open('vocab.json', 'w') as vocab_file:\n",
    "    json.dump(vocab_dict, vocab_file)"
   ]
  },
  {
   "cell_type": "markdown",
   "metadata": {
    "id": "SHJDaKlIVVim"
   },
   "source": [
    "In a final step, we use the json file to instantiate an object of the `Wav2Vec2CTCTokenizer` class."
   ]
  },
  {
   "cell_type": "code",
   "execution_count": 24,
   "metadata": {
    "id": "xriFGEWQkO4M"
   },
   "outputs": [],
   "source": [
    "from transformers import Wav2Vec2CTCTokenizer\n",
    "\n",
    "tokenizer = Wav2Vec2CTCTokenizer(\"./vocab.json\", unk_token=\"[UNK]\", pad_token=\"[PAD]\", word_delimiter_token=\"|\")"
   ]
  },
  {
   "cell_type": "markdown",
   "metadata": {
    "id": "KvL12DrNV4cx"
   },
   "source": [
    "Next, we will create the feature extractor."
   ]
  },
  {
   "cell_type": "markdown",
   "metadata": {
    "id": "mYcIiR2FQ96i"
   },
   "source": [
    "### Create XLSR-Wav2Vec2 Feature Extractor"
   ]
  },
  {
   "cell_type": "markdown",
   "metadata": {
    "id": "Y6mDEyW719rx"
   },
   "source": [
    "Speech is a continuous signal and to be treated by computers, it first has to be discretized, which is usually called **sampling**. The sampling rate hereby plays an important role in that it defines how many data points of the speech signal are measured per second. Therefore, sampling with a higher sampling rate results in a better approximation of the *real* speech signal but also necessitates more values per second.\n",
    "\n",
    "A pretrained checkpoint expects its input data to have been sampled more or less from the same distribution as the data it was trained on. The same speech signals sampled at two different rates have a very different distribution, *e.g.*, doubling the sampling rate results in data points being twice as long. Thus, \n",
    "before fine-tuning a pretrained checkpoint of an ASR model, it is crucial to verify that the sampling rate of the data that was used to pretrain the model matches the sampling rate of the dataset used to fine-tune the model.\n",
    "\n",
    "XLSR-Wav2Vec2 was pretrained on the audio data of [Babel](https://huggingface.co/datasets/librispeech_asr), \n",
    "[Multilingual LibriSpeech (MLS)](https://ai.facebook.com/blog/a-new-open-data-set-for-multilingual-speech-research/), and [Common Voice](https://huggingface.co/datasets/common_voice). Most of those datasets were sampled at 16kHz, so that Common Voice, sampled at 48kHz, has to be downsampled to 16kHz for training. Therefore, we will have to downsample our fine-tuning data to 16kHz in the following.\n",
    "\n"
   ]
  },
  {
   "cell_type": "markdown",
   "metadata": {
    "id": "KuUbPW7oV-B5"
   },
   "source": [
    "A XLSR-Wav2Vec2 feature extractor object requires the following parameters to be instantiated:\n",
    "\n",
    "- `feature_size`: Speech models take a sequence of feature vectors as an input. While the length of this sequence obviously varies, the feature size should not. In the case of Wav2Vec2, the feature size is 1 because the model was trained on the raw speech signal ${}^2$.\n",
    "- `sampling_rate`: The sampling rate at which the model is trained on.\n",
    "- `padding_value`: For batched inference, shorter inputs need to be padded with a specific value\n",
    "- `do_normalize`: Whether the input should be *zero-mean-unit-variance* normalized or not. Usually, speech models perform better when normalizing the input\n",
    "- `return_attention_mask`: Whether the model should make use of an `attention_mask` for batched inference. In general, XLSR-Wav2Vec2 models should **always** make use of the `attention_mask`."
   ]
  },
  {
   "cell_type": "code",
   "execution_count": 25,
   "metadata": {
    "id": "kAR0-2KLkopp"
   },
   "outputs": [],
   "source": [
    "from transformers import Wav2Vec2FeatureExtractor\n",
    "\n",
    "feature_extractor = Wav2Vec2FeatureExtractor(feature_size=1, sampling_rate=16000, padding_value=0.0, do_normalize=True, return_attention_mask=True)"
   ]
  },
  {
   "cell_type": "markdown",
   "metadata": {
    "id": "qUETetgqYC3W"
   },
   "source": [
    "Great, XLSR-Wav2Vec2's feature extraction pipeline is thereby fully defined!\n",
    "\n",
    "To make the usage of XLSR-Wav2Vec2 as user-friendly as possible, the feature extractor and tokenizer are *wrapped* into a single `Wav2Vec2Processor` class so that one only needs a `model` and `processor` object."
   ]
  },
  {
   "cell_type": "code",
   "execution_count": 26,
   "metadata": {
    "id": "KYZtoW-tlZgl"
   },
   "outputs": [],
   "source": [
    "from transformers import Wav2Vec2Processor\n",
    "\n",
    "processor = Wav2Vec2Processor(feature_extractor=feature_extractor, tokenizer=tokenizer)"
   ]
  },
  {
   "cell_type": "markdown",
   "metadata": {
    "id": "fTfFDSS0YfMN"
   },
   "source": [
    "If one wants to re-use the just created processor and the fine-tuned model of this notebook, one can mount his/her google drive to the notebook and save all relevant files there. To do so, please uncomment the following lines. \n",
    "\n",
    "We will give the fine-tuned model the name `\"wav2vec2-large-xlsr-malayalam\"`."
   ]
  },
  {
   "cell_type": "code",
   "execution_count": 27,
   "metadata": {
    "id": "Par9rpypPsml"
   },
   "outputs": [],
   "source": [
    "processor.save_pretrained(output_models_dir)"
   ]
  },
  {
   "cell_type": "markdown",
   "metadata": {
    "id": "DrKnYuvDIoOO"
   },
   "source": [
    "Next, we can prepare the dataset."
   ]
  },
  {
   "cell_type": "markdown",
   "metadata": {
    "id": "YFmShnl7RE35"
   },
   "source": [
    "### Preprocess Data\n",
    "\n",
    "So far, we have not looked at the actual values of the speech signal but just kept the path to its file in the dataset. `XLSR-Wav2Vec2` expects the audio file in the format of a 1-dimensional array, so in the first step, let's load all audio files into the dataset object.\n",
    "\n",
    "Let's first check the serialization format of the downloaded audio files by looking at the first training sample."
   ]
  },
  {
   "cell_type": "code",
   "execution_count": 28,
   "metadata": {
    "colab": {
     "base_uri": "https://localhost:8080/"
    },
    "id": "TTCS7W6XJ9BG",
    "outputId": "9c3b8cc0-3bcd-43fe-87ca-2825239b365a"
   },
   "outputs": [
    {
     "data": {
      "text/plain": [
       "{'path': '/workspace/data/mal/openslr/ml_in_male/mlm_00950_00376900025.wav',\n",
       " 'sentence': 'ഇതില് കൂടുതലും ഗള്ഫ് മേഖലയില് ആണ് '}"
      ]
     },
     "execution_count": 28,
     "metadata": {},
     "output_type": "execute_result"
    }
   ],
   "source": [
    "common_voice_train[0]"
   ]
  },
  {
   "cell_type": "markdown",
   "metadata": {
    "id": "wSBIGEiaKHMn"
   },
   "source": [
    "Alright, the audio file is saved in the `.mp3` format. The `.mp3` format is usually not the easiest format to deal with. We found that the [`torchaudio`](https://pytorch.org/audio/stable/index.html) library works best for reading in `.mp3` data. \n",
    "\n",
    "An audio file usually stores both its values and the sampling rate with which the speech signal was digitalized. We want to store both in the dataset and write a `map(...)` function accordingly."
   ]
  },
  {
   "cell_type": "code",
   "execution_count": 29,
   "metadata": {
    "id": "al9Luo4LPpwJ"
   },
   "outputs": [
    {
     "name": "stderr",
     "output_type": "stream",
     "text": [
      "/opt/conda/lib/python3.7/site-packages/torchaudio/backend/utils.py:54: UserWarning: \"sox\" backend is being deprecated. The default backend will be changed to \"sox_io\" backend in 0.8.0 and \"sox\" backend will be removed in 0.9.0. Please migrate to \"sox_io\" backend. Please refer to https://github.com/pytorch/audio/issues/903 for the detail.\n",
      "  '\"sox\" backend is being deprecated. '\n"
     ]
    }
   ],
   "source": [
    "import torchaudio\n",
    "\n",
    "def speech_file_to_array_fn(batch):\n",
    "    if batch[\"path\"][0] == '(':\n",
    "        batch[\"path\"] == batch[\"path\"][1:]\n",
    "    speech_array, sampling_rate = torchaudio.load(batch[\"path\"])\n",
    "    batch[\"speech\"] = speech_array[0].numpy()\n",
    "    batch[\"sampling_rate\"] = sampling_rate\n",
    "    batch[\"target_text\"] = batch[\"sentence\"]\n",
    "    return batch"
   ]
  },
  {
   "cell_type": "code",
   "execution_count": 30,
   "metadata": {
    "colab": {
     "base_uri": "https://localhost:8080/",
     "height": 117,
     "referenced_widgets": [
      "348ef54c80b2449f8a3bc950cccd62cc",
      "b78413dcc0584a0c8f71731a06aaa1b8",
      "7edbecaccdd94ede8fddc0e1807e777e",
      "5e3aad95e52f4be2bd670d1345398f1b",
      "b9c5c6dd54cc4dc5ad5a2bb69a24ab05",
      "3e3a022a9f304b0f9f7ef067fcee1e56",
      "7aa70322bdfe46938b583a20003093d5",
      "99d5c44ea54b45ee9bd89380cb1ad189",
      "5f48f54986924e418aa4ac22aa54b714",
      "db71db50799c404aafa4a54de8b9b799",
      "a58c203a7cc54086aea45f2029821207",
      "8d409ca0372a48e2972ca1d8eee5ffa1",
      "c8fdf261ac294093a355778a3a4aba3b",
      "b1b6a4649fc34c9996f993c57671766b",
      "d362345c05234c97a675c6bacdad0e92",
      "b0479f03f96241ca959f6fe7bcbd1aba"
     ]
    },
    "id": "afeicUeWlrRL",
    "outputId": "d5e4d41a-61d6-4094-eba9-a5bbed02cedc"
   },
   "outputs": [
    {
     "name": "stderr",
     "output_type": "stream",
     "text": [
      "Loading cached processed dataset at /workspace/.cache/huggingface/datasets/json/default-56eeb6885c40d104/0.0.0/83d5b3a2f62630efc6b5315f00f20209b4ad91a00ac586597caee3a4da0bef02/cache-841e55941a5a27ab.arrow\n",
      "Loading cached processed dataset at /workspace/.cache/huggingface/datasets/json/default-56eeb6885c40d104/0.0.0/83d5b3a2f62630efc6b5315f00f20209b4ad91a00ac586597caee3a4da0bef02/cache-be1f74d3a6a3572e.arrow\n"
     ]
    }
   ],
   "source": [
    "common_voice_train = common_voice_train.map(speech_file_to_array_fn, remove_columns=common_voice_train.column_names)\n",
    "common_voice_test = common_voice_test.map(speech_file_to_array_fn, remove_columns=common_voice_test.column_names)"
   ]
  },
  {
   "cell_type": "markdown",
   "metadata": {
    "id": "ki5sXmzucc9Q"
   },
   "source": [
    "Great, now we've successfully read in all the audio files, but since we know that Common Voice is sampled at 48kHz, we need to resample the audio files to 16kHz. \n",
    "\n",
    "Let's make use of the [`librosa`](https://github.com/librosa/librosa) library to downsample the data."
   ]
  },
  {
   "cell_type": "code",
   "execution_count": 31,
   "metadata": {
    "id": "6Y6AK3Z-kHwP"
   },
   "outputs": [],
   "source": [
    "import librosa\n",
    "import numpy as np\n",
    "\n",
    "def resample(batch):\n",
    "    batch[\"speech\"] = librosa.resample(np.asarray(batch[\"speech\"]), 48_000, 16_000)\n",
    "    batch[\"sampling_rate\"] = 16_000\n",
    "    return batch"
   ]
  },
  {
   "cell_type": "code",
   "execution_count": 32,
   "metadata": {
    "colab": {
     "base_uri": "https://localhost:8080/",
     "height": 453,
     "referenced_widgets": [
      "ee641bbf54a7499597713c517baa81bb",
      "3d929b9e2518402b81a71757ffb753d2",
      "4f8957dc035d4c1a9e8630fc8ab8cd10",
      "757e7bd0e6c5410da0490d191b4e68c8",
      "596aea0362924c7db583203268dd5a3e",
      "47a6c3c427614f21a6dab1c048e5dd37",
      "0b795d4b68014de19bf9579c67b55ffb",
      "9185f86719af476da41e3835e8f06f8d",
      "771959e46cb64b3ebafe931f96f5ff52",
      "0e999af234bd4b63ad2937e61d08b693",
      "f792530a76ee486688cbc2502dfae594",
      "d69468d63dd74fdd807fe061b92aa84e",
      "1261590ef796493798f7068ea0547b74",
      "7e50f8027fb74d669daae5e46082026c",
      "7f5203fde6b64bf7ad53d6ecd3041bfc",
      "84e7f0001ebe458dad3c96e7e9a38cdc",
      "24ea17ae8ab14e8a871e5e115c3f4c06",
      "f57d087016124ebeb073fd7428dcb68b",
      "f3905820a42c499fba04af9c1ad19705",
      "4e1a725fd90b45e280b8b0028ba65250",
      "4c0ad31e73234e46aac0a297ec18bdeb",
      "fc9504846f424542a7feb932964f1f5b",
      "9f79629ad6a94201acf3283862d1ae17",
      "491fd969d61a478f8e85ffcd3e1a3e20",
      "76d162d3ea0845cc837651a77a5a2d36",
      "98c594f1e41e4b3fab10f0763bd93d75",
      "f6b01ad0433a40178ef3ba5657bc1583",
      "eed2ccc12daa4c71b080794a7a18f5cb",
      "beca070c32124a119a08cb21c2ca95e5",
      "69828f4a101f4340916a4be141866904",
      "20347ed29fdc4c0a96da28c09aacf44d",
      "f18eddbd3d994ddc88f37e02d754c206",
      "b7c43fb5efdd4afbb82c81b923f2815a",
      "c0a661f20e7e4649a3c8c42a5fd01956",
      "8dddd0245dcb4532917cbfa0181d2a00",
      "3bdb4058f40f40e3a10e323325a64638",
      "024989cea06f435894776b0a921164b2",
      "b1d93a7521fa47b8a815445b5232da59",
      "751ae6b9e2da4b85be9600561485f1ac",
      "d7f27e9cf8a844349ca90393e0c49a03",
      "82015055d32449b89346ea18e7474c4d",
      "a170c0cb21cf425fbee97fd6d5584e2c",
      "f5f1f0865d7e4d8b810ccb9c3c4d2683",
      "416badb151ee4660b53fdbc136e0c8fb",
      "a47f1ea64f894f0b8e6b277c31ae9f7d",
      "e51b5fd9d5a6416d986fac1526d1666f",
      "824569c63ec445c08362659ca228dd2a",
      "0f3756509e3b405d87936f599b153de2",
      "d96e01ad62c342cdb7d9b1eceb39afa3",
      "e6ce9330460d4a0fb67cc493ca74ae96",
      "e6178f7b148c4bf39f2826f208e0cc64",
      "f78ff14b9c8f46448ed1ecb3fe1f5e0b",
      "929cde17b3484f3e9e8f8774bc43e374",
      "6ba6d07674a34836be53cf173c2b61ca",
      "5a5bc8b4a1c644dea08a60128d888d10",
      "b054b00a32e64fc5988fbd2966ebbce6",
      "5ccd12253fff448f9c15c9b03c70a408",
      "330226a977694de1bd88c0aa3789be47",
      "f203c54e7e054d97aa4d1097f320f611",
      "6266a4019e124aff877bb55f21740180",
      "3ec3285e9f3e4a5abcefabb7f140f4a3",
      "0cd1932178c945d48604ffd299e65d2c",
      "8ad3e4b211e34c048d0f48e36fdbfe48",
      "55071fc1b7484620803aeba453e9af72"
     ]
    },
    "id": "Ws8DyIL_kjwT",
    "outputId": "6176aea2-5986-4da0-a2ad-6ef5e2c85493"
   },
   "outputs": [
    {
     "name": "stdout",
     "output_type": "stream",
     "text": [
      "    "
     ]
    },
    {
     "name": "stderr",
     "output_type": "stream",
     "text": [
      "Loading cached processed dataset at /workspace/.cache/huggingface/datasets/json/default-56eeb6885c40d104/0.0.0/83d5b3a2f62630efc6b5315f00f20209b4ad91a00ac586597caee3a4da0bef02/cache-69926f8783d69e51.arrow\n",
      "Loading cached processed dataset at /workspace/.cache/huggingface/datasets/json/default-56eeb6885c40d104/0.0.0/83d5b3a2f62630efc6b5315f00f20209b4ad91a00ac586597caee3a4da0bef02/cache-17c498da305cfac9.arrow\n",
      "Loading cached processed dataset at /workspace/.cache/huggingface/datasets/json/default-56eeb6885c40d104/0.0.0/83d5b3a2f62630efc6b5315f00f20209b4ad91a00ac586597caee3a4da0bef02/cache-29e1fc6b56ec9de0.arrow\n",
      "Loading cached processed dataset at /workspace/.cache/huggingface/datasets/json/default-56eeb6885c40d104/0.0.0/83d5b3a2f62630efc6b5315f00f20209b4ad91a00ac586597caee3a4da0bef02/cache-d76796c3290a16f8.arrow\n"
     ]
    },
    {
     "name": "stdout",
     "output_type": "stream",
     "text": [
      "  "
     ]
    },
    {
     "name": "stderr",
     "output_type": "stream",
     "text": [
      "Loading cached processed dataset at /workspace/.cache/huggingface/datasets/json/default-56eeb6885c40d104/0.0.0/83d5b3a2f62630efc6b5315f00f20209b4ad91a00ac586597caee3a4da0bef02/cache-9565bdfa25e74838.arrow\n"
     ]
    },
    {
     "name": "stdout",
     "output_type": "stream",
     "text": [
      "  "
     ]
    },
    {
     "name": "stderr",
     "output_type": "stream",
     "text": [
      "Loading cached processed dataset at /workspace/.cache/huggingface/datasets/json/default-56eeb6885c40d104/0.0.0/83d5b3a2f62630efc6b5315f00f20209b4ad91a00ac586597caee3a4da0bef02/cache-edfe3d0250093d0f.arrow\n",
      "Loading cached processed dataset at /workspace/.cache/huggingface/datasets/json/default-56eeb6885c40d104/0.0.0/83d5b3a2f62630efc6b5315f00f20209b4ad91a00ac586597caee3a4da0bef02/cache-b70aafd3fefcb89f.arrow\n",
      "Loading cached processed dataset at /workspace/.cache/huggingface/datasets/json/default-56eeb6885c40d104/0.0.0/83d5b3a2f62630efc6b5315f00f20209b4ad91a00ac586597caee3a4da0bef02/cache-8193c6c38315d62e.arrow\n"
     ]
    }
   ],
   "source": [
    "common_voice_train = common_voice_train.map(resample, num_proc=4)\n",
    "common_voice_test = common_voice_test.map(resample, num_proc=4)"
   ]
  },
  {
   "cell_type": "markdown",
   "metadata": {
    "id": "SOckzFd4Mbzq"
   },
   "source": [
    "This seemed to have worked! Let's listen to a couple of audio files to better understand the dataset and verify that the audio was correctly loaded. \n",
    "\n",
    "**Note**: *You can click the following cell a couple of times to listen to different speech samples.*"
   ]
  },
  {
   "cell_type": "code",
   "execution_count": 33,
   "metadata": {
    "colab": {
     "base_uri": "https://localhost:8080/",
     "height": 74
    },
    "id": "dueM6U7Ev0OA",
    "outputId": "1a3e579d-213e-4c7a-b2ec-9a7725d95afc"
   },
   "outputs": [
    {
     "data": {
      "text/html": [
       "\n",
       "                <audio  controls=\"controls\" autoplay=\"autoplay\">\n",
       "                    <source src=\"data:audio/wav;base64,UklGRvCuAgBXQVZFZm10IBAAAAABAAEAgD4AAAB9AAACABAAZGF0YcyuAgAAAAAAAAAAAAAAAAAAAAAAAAAAAAAAAAAAAAAAAAAAAAAAAAAAAAAAAAAAAAAAAAAAAAAAAAAAAAAAAAAAAAAAAAAAAAAAAAAAAAAAAAAAAAAAAAAAAAAAAAAAAAAAAAAAAAAAAAAAAAAAAAAAAAAAAAAAAAAAAAAAAAAAAAAAAAAAAAAAAAAAAAAAAAAAAAAAAAAAAAAAAAAAAAAAAAAAAAAAAAAAAAAAAAAAAAAAAAAAAAAAAAAAAAAAAAAAAAAAAAAAAAAAAAAAAAAAAAAAAAAAAAAAAAAAAAAAAAAAAAAAAAAAAAAAAAAAAAAAAAAAAAAAAAAAAAAAAAAAAAAAAAAAAAAAAAAAAAAAAAAAAAAAAAAAAAAAAAAAAAAAAAAAAAAAAAAAAAAAAAAAAAAAAAAAAAAAAAAAAAAAAAAAAAAAAAAAAAAAAAAAAAAAAAAAAAAAAAAAAAAAAAAAAAAAAAAAAAAAAAAAAAAAAAAAAAAAAAAAAAAAAAAAAAAAAAAAAAAAAAAAAAAAAAAAAAAAAAAAAAAAAAAAAAAAAAAAAAAAAAAAAAAAAAAAAAAAAAAAAAAAAAAAAAAAAAAAAAAAAAAAAAAAAAAAAAAAAAAAAAAAAAAAAAAAAAAAAAAAAAAAAAAAAAAAAAAAAAAAAAAAAAAAAAAAAAAAAAAAAAAAAAAAAAAAAAAAAAAAAAAAAAAAAAAAAAAAAAAAAAAAAAAAAAAAAAAAAAAAAAAAAAAAAAAAAAAAAAAAAAAAAAAAAAAAAAAAAAAAAAAAAAAAAAAAAAAAAAAAAAAAAAAAAAAAAAAAAAAAAAAAAAAAAAAAAAAAAAAAAAAAAAAAAAAAAAAAAAAAAAAAAAAAAAAAAAAAAAAAAAAAAAAAAAAAAAAAAAAAAAAAAAAAAAAAAAAAAAAAAAAAAAAAAAAAAAAAAAAAAAAAAAAAAAAAAAAAAAAAAAAAAAAAAAAAAAAAAAAAAAAAAAAAAAAAAAAAAAAAAAAAAAAAAAAAAAAAAAAAAAAAAAAAAAAAAAAAAAAAAAAAAAAAAAAAAAAAAAAAAAAAAAAAAAAAAAAAAAAAAAAAAAAAAAAAAAAAAAAAAAAAAAAAAAAAAAAAAAAAAAAAAAAAAAAAAAAAAAAAAAAAAAAAAAAAAAAAAAAAAAAAAAAAAAAAAAAAAAAAAAAAAAAAAAAAAAAAAAAAAAAAAAAAAAAAAAAAAAAAAAAAAAAAAAAAAAAAAAAAAAAAAAAAAAAAAAAAAAAAAAAAAAAAAAAAAAAAAAAAAAAAAAAAAAAAAAAAAAAAAAAAAAAAAAAAAAAAAAAAAAAAAAAAAAAAAAAAAAAAAAAAAAAAAAAAAAAAAAAAAAAAAAAAAAAAAAAAAAAAAAAAAAAAAAAAAAAAAAAAAAAAAAAAAAAAAAAAAAAAAAAAAAAAAAAAAAAAAAAAAAAAAAAAAAAAAAAAAAAAAAAAAAAAAAAAAAAAAAAAAAAAAAAAAAAAAAAAAAAAAAAAAAAAAAAAAAAAAAAAAAAAAAAAAAAAAAAAAAAAAAAAAAAAAAAAAAAAAAAAAAAAAAAAAAAAAAAAAAAAAAAAAAAAAAAAAAAAAAAAAAAAAAAAAAAAAAAAAAAAAAAAAAAAAAAAAAAAAAAAAAAAAAAAAAAAAAAAAAAAAAAAAAAAAAAAAAAAAAAAAAAAAAAAAAAAAAAAAAAAAAAAAAAAAAAAAAAAAAAAAAAAAAAAAAAAAAAAAAAAAAAAAAAAAAAAAAAAAAAAAAAAAAAAAAAAAAAAAAAAAAAAAAAAAAAAAAAAAAAAAAAAAAAAAAAAAAAAAAAAAAAAAAAAAAAAAAAAAAAAAAAAAAAAAAAAAAAAAAAAAAAAAAAAAAAAAAAAAAAAAAAAAAAAAAAAAAAAAAAAAAAAAAAAAAAAAAAAAAAAAAAAAAAAAAAAAAAAAAAAAAAAAAAAAAAAAAAAAAAAAAAAAAAAAAAAAAAAAAAAAAAAAAAAAAAAAAAAAAAAAAAAAAAAAAAAAAAAAAAAAAAAAAAAAAAAAAAAAAAAAAAAAAAAAAAAAAAAAAAAAAAAAAAAAAAAAAAAAAAAAAAAAAAAAAAAAAAAAAAAAAAAAAAAAAAAAAAAAAAAAAAAAAAAAAAAAAAAAAAAAAAAAAAAAAAAAAAAAAAAAAAAAAAAAAAAAAAAAAAAAAAAAAAAAAAAAAAAAAAAAAAAAAAAAAAAAAAAAAAAAAAAAAAAAAAAAAAAAAAAAAAAAAAAAAAAAAAAAAAAAAAAAAAAAAAAAAAAAAAAAAAAAAAAAAAAAAAAAAAAAAAAAAAAAAAAAAAAAAAAAAAAAAAAAAAAAAAAAAAAAAAAAAAAAAAAAAAAAAAAAAAAAAAAAAAAAAAAAAAAAAAAAAAAAAAAAAAAAAAAAAAAAAAAAAAAAAAAAAAAAAAAAAAAAAAAAAAAAAAAAAAAAAAAAAAAAAAAAAAAAAAAAAAAAAAAAAAAAAAAAAAAAAAAAAAAAAAAAAAAAAAAAAAAAAAAAAAAAAAAAAAAAAAAAAAAAAAAAAAAAAAAAAAAAAAAAAAAAAAAAAAAAAAAAAAAAAAAAAAAAAAAAAAAAAAAAAAAAAAAAAAAAAAAAAAAAAAAAAAAAAAAAAAAAAAAAAAAAAAAAAAAAAAAAAAAAAAAAAAAAAAAAAAAAAAAAAAAAAAAAAAAAAAAAAAAAAAAAAAAAAAAAAAAAAAAAAAAAAAAAAAAAAAAAAAAAAAAAAAAAAAAAAAAAAAAAAAAAAAAAAAAAAAAAAAAAAAAAAAAAAAAAAAAAAAAAAAAAAAAAAAAAAAAAAAAAAAAAAAAAAAAAAAAAAAAAAAAAAAAAAAAAAAAAAAAAAAAAAAAAAAAAAAAAAAAAAAAAAAAAAAAAAAAAAAAAAAAAAAAAAAAAAAAAAAAAAAAAAAAAAAAAAAAAAAAAAAAAAAAAAAAAAAAAAAAAAAAAAAAAAAAAAAAAAAAAAAAAAAAAAAAAAAAAAAAAAAAAAAAAAAAAAAAAAAAAAAAAAAAAAAAAAAAAAAAAAAAAAAAAAAAAAAAAAAAAAAAAAAAAAAAAAAAAAAAAAAAAAAAAAAAAAAAAAAAAAAAAAAAAAAAAAAAAAAAAAAAAAAAAAAAAAAAAAAAAAAAAAAAAAAAAAAAAAAAAAAAAAAAAAAAAAAAAAAAAAAAAAAAAAAAAAAAAAAAAAAAAAAAAAAAAAAAAAAAAAAAAAAAAAAAAAAAAAAAAAAAAAAAAAAAAAAAAAAAAAAAAAAAAAAAAAAAAAAAAAAAAAAAAAAAAAAAAAAAAAAAAAAAAAAAAAAAAAAAAAAAAAAAAAAAAAAAAAAAAAAAAAAAAAAAAAAAAAAAAAAAAAAAAAAAAAAAAAAAAAAAAAAAAAAAAAAAAAAAAAAAAAAAAAAAAAAAAAAAAAAAAAAAAAAAAAAAAAAAAAAAAAAAAAAAAAAAAAAAAAAAAAAAAAAAAAAAAAAAAAAAAAAAAAAAAAAAAAAAAAAAAAAAAAAAAAAAAAAAAAAAAAAAAAAAAAAAAAAAAAAAAAAAAAAAAAAAAAAAAAAAAAAAAAAAAAAAAAAAAAAAAAAAAAAAAAAAAAAAAAAAAAAAAAAAAAAAAAAAAAAAAAAAAAAAAAAAAAAAAAAAAAAAAAAAAAAAAAAAAAAAAAAAAAAAAAAAAAAAAAAAAAAAAAAAAAAAAAAAAAAAAAAAAAAAAAAAAAAAAAAAAAAAAAAAAAAAAAAAAAAAAAAAAAAAAAAAAAAAAAAAAAAAAAAAAAAAAAAAAAAAAAAAAAAAAAAAAAAAAAAAAAAAAAAAAAAAAAAAAAAAAAAAAAAAAAAAAAAAAAAAAAAAAAAAAAAAAAAAAAAAAAAAAAAAAAAAAAAAAAAAAAAAAAAAAAAAAAAAAAAAAAAAAAAAAAAAAAAAAAAAAAAAAAAAAAAAAAAAAAAAAAAAAAAAAAAAAAAAAAAAAAAAAAAAAAAAAAAAAAAAAAAAAAAAAAAAAAAAAAAAAAAAAAAAAAAAAAAAAAAAAAAAAAAAAAAAAAAAAAAAAAAAAAAAAAAAAAAAAAAAAAAAAAAAAAAAAAAAAAAAAAAAAAAAAAAAAAAAAAAAAAAAAAAAAAAAAAAAAAAAAAAAAAAAAAAAAAAAAAAAAAAAAAAAAAAAAAAAAAAAAAAAAAAAAAAAAAAAAAAAAAAAAAAAAAAAAAAAAAAAAAAAAAAAAAAAAAAAAAAAAAAAAAAAAAAAAAAAAAAAAAAAAAAAAAAAAAAAAAAAAAAAAAAAAAAAAAAAAAAAAAAAAAAAAAAAAAAAAAAAAAAAAAAAAAAAAAAAAAAAAAAAAAAAAAAAAAAAAAAAAAAAAAAAAAAAAAAAAAAAAAAAAAAAAAAAAAAAAAAAAAAAAAAAAAAAAAAAAAAAAAAAAAAAAAAAAAAAAAAAAAAAAAAAAAAAAAAAAAAAAAAAAAAAAAAAAAAAAAAAAAAAAAAAAAAAAAAAAAAAAAAAAAAAAAAAAAAAAAAAAAAAAAAAAAAAAAAAAAAAAAAAAAAAAAAAAAAAAAAAAAAAAAAAAAAAAAAAAAAAAAAAAAAAAAAAAAAAAAAAAAAAAAAAAAAAAAAAAAAAAAAAAAAAAAAAAAAAAAAAAAAAAAAAAAAAAAAAAAAAAAAAAAAAAAAAAAAAAAAAAAAAAAAAAAAAAAAAAAAAAAAAAAAAAAAAAAAAAAAAAAAAAAAAAAAAAAAAAAAAAAAAAAAAAAAAAAAAAAAAAAAAAAAAAAAAAAAAAAAAAAAAAAAAAAAAAAAAAAAAAAAAAAAAAAAAAAAAAAAAAAAAAAAAAAAAAAAAAAAAAAAAAAAAAAAAAAAAAAAAAAAAAAAAAAAAAAAAAAAAAAAAAAAAAAAAAAAAAAAAAAAAAAAAAAAAAAAAAAAAAAAAAAAAAAAAAAAAAAAAAAAAAAAAAAAAAAAAAAAAAAAAAAAAAAAAAAAAAAAAAAAAAAAAAAAAAAAAAAAAAAAAAAAAAAAAAAAAAAAAAAAAAAAAAAAAAAAAAAAAAAAAAAAAAAAAAAAAAAAAAAAAAAAAAAAAAAAAAAAAAAAAAAAAAAAAAAAAAAAAAAAAAAAAAAAAAAAAAAAAAAAAAAAAAAAAAAAAAAAAAAAAAAAAAAAAAAAAAAAAAAAAAAAAAAAAAAAAAAAAAAAAAAAAAAAAAAAAAAAAAAAAAAAAAAAAAAAAAAAAAAAAAAAAAAAAAAAAAAAAAAAAAAAAAAAAAAAAAAAAAAAAAAAAAAAAAAAAAAAAAAAAAAAAAAAAAAAAAAAAAAAAAAAAAAAAAAAAAAAAAAAAAAAAAAAAAAAAAAAAAAAAAAAAAAAAAAAAAAAAAAAAAAAAAAAAAAAAAAAAAAAAAAAAAAAAAAAAAAAAAAAAAAAAAAAAAAAAAAAAAAAAAAAAAAAAAAAAAAAAAAAAAAAAAAAAAAAAAAAAAAAAAAAAAAAAAAAAAAAAAAAAAAAAAAAAAAAAAAAAAAAAAAAAAAAAAAAAAAAAAAAAAAAAAAAAAAAAAAAAAAAAAAAAAAAAAAAAAAAAAAAAAAAAAAAAAAAAAAAAAAAAAAAAAAAAAAAAAAAAAAAAAAAAAAAAAAAAAAAAAAAAAAAAAAAAAAAAAAAAAAAAAAAAAAAAAAAAAAAAAAAAAAAAAAAAAAAAAAAAAAAAAAAAAAAAAAAAAAAAAAAAAAAAAAAAAAAAAAAAAAAAAAAAAAAAAAAAAAAAAAAAAAAAAAAAAAAAAAAAAAAAAAAAAAAAAAAAAAAAAAAAAAAAAAAAAAAAAAAAAAAAAAAAAAAAAAAAAAAAAAAAAAAAAAAAAAAAAAAAAAAAAAAAAAAAAAAAAAAAAAAAAAAAAAAAAAAAAAAAAAAAAAAAAAAAAAAAAAAAAAAAAAAAAAAAAAAAAAAAAAAAAAAAAAAAAAAAAAAAAAAAAAAAAAAAAAAAAAAAAAAAAAAAAAAAAAAAAAAAAAAAAAAAAAAAAAAAAAAAAAAAAAAAAAAAAAAAAAAAAAAAAAAAAAAAAAAAAAAAAAAAAAAAAAAAAAAAAAAAAAAAAAAAAAAAAAAAAAAAAAAAAAAAAAAAAAAAAAAAAAAAAAAAAAAAAAAAAAAAAAAAAAAAAAAAAAAAAAAAAAAAAAAAAAAAAAAAAAAAAAAAAAAAAAAAAAAAAAAAAAAAAAAAAAAAAAAAAAAAAAAAAAAAAAAAAAAAAAAAAAAAAAAAAAAAAAAAAAAAAAAAAAAAAAAAAAAAAAAAAAAAAAAAAAAAAAAAAAAAAAAAAAAAAAAAAAAAAAAAAAAAAAAAAAAAAAAAAAAAAAAAAAAAAAAAAAAAAAAAAAAAAAAAAAAAAAAAAAAAAAAAAAAAAAAAAAAAAAAAAAAAAAAAAAAAAAAAAAAAAAAAAAAAAAAAAAAAAAAAAAAAAAAAAAAAAAAAAAAAAAAAAAAAAAAAAAAAAAAAAAAAAAAAAAAAAAAAAAAAAAAAAAAAAAAAAAAAAAAAAAAAAAAAAAAAAAAAAAAAAAAAAAAAAAAAAAAAAAAAAAAAAAAAAAAAAAAAAAAAAAAAAAAAAAAAAAAAAAAAAAAAAAAAAAAAAAAAAAAAAAAAAAAAAAAAAAAAAAAAAAAAAAAAAAAAAAAAAAAAAAAAAAAAAAAAAAAAAAAAAAAAAAAAAAAAAAAAAAAAAAAAAAAAAAAAAAAAAAAAAAAAAAAAAAAAAAAAAAAAAAAAAAAAAAAAAAAAAAAAAAAAAAAAAAAAAAAAAAAAAAAAAAAAAAAAAAAAAAAAAAAAAAAAAAAAAAAAAAAAAAAAAAAAAAAAAAAAAAAAAAAAAAAAAAAAAAAAAAAAAAAAAAAAAAAAAAAAAAAAAAAAAAAAAAAAAAAAAAAAAAAAAAAAAAAAAAAAAAAAAAAAAAAAAAAAAAAAAAAAAAAAAAAAAAAAAAAAAAAAAAAAAAAAAAAAAAAAAAAAAAAAAAAAAAAAAAAAAAAAAAAAAAAAAAAAAAAAAAAAAAAAAAAAAAAAAAAAAAAAAAAAAAAAAAAAAAAAAAAAAAAAAAAAAAAAAAAAAAAAAAAAAAAAAAAAAAAAAAAAAAAAAAAAAAAAAAAAAAAAAAAAAAAAAAAAAAAAAAAAAAAAAAAAAAAAAAAAAAAAAAAAAAAAAAAAAAAAAAAAAAAAAAAAAAAAAAAAAAAAAAAAAAAAAAAAAAAAAAAAAAAAAAAAAAAAAAAAAAAAAAAAAAAAAAAAAAAAAAAAAAAAAAAAAAAAAAAAAAAAAAAAAAAAAAAAAAAAAAAAAAAAAAAAAAAAAAAAAAAAAAAAAAAAAAAAAAAAAAAAAAAAAAAAAAAAAAAAAAAAAAAAAAAAAAAAAAAAAAAAAAAAAAAAAAAAAAAAAAAAAAAAAAAAAAAAAAAAAAAAAAAAAAAAAAAAAAAAAAAAAAAAAAAAAAAAAAAAAAAAAAAAAAAAAAAAAAAAAAAAAAAAAAAAAAAAAAAAAAAAAAAAAAAAAAAAAAAAAAAAAAAAAAAAAAAAAAAAAAAAAAAAAAAAAAAAAAAAAAAAAAAAAAAAAAAAAAAAAAAAAAAAAAAAAAAAAAAAAAAAAAAAAAAAAAAAAAAAAAAAAAAAAAAAAAAAAAAAAAAAAAAAAAAAAAAAAAAAAAAAAAAAAAAAAAAAAAAAAAAAAAAAAAAAAAAAAAAAAAAAAAAAAAAAAAAAAAAAAAAAAAAAAAAAAAAAAAAAAAAAAAAAAAAAAAAAAAAAAAAAAAAAAAAAAAAAAAAAAAAAAAAAAAAAAAAAAAAAAAAAAAAAAAAAAAAAAAAAAAAAAAAAAAAAAAAAAAAAAAAAAAAAAAAAAAAAAAAAAAAAAAAAAAAAAAAAAAAAAAAAAAAAAAAAAAAAAAAAAAAAAAAAAAAAAAAAAAAAAAAAAAAAAAAAAAAAAAAAAAAAAAAAAAAAAAAAAAAAAAAAAAAAAAAAAAAAAAAAAAAAAAAAAAAAAAAAAAAAAAAAAAAAAAAAAAAAAAAAAAAAAAAAAAAAAAAAAAAAAAAAAAAAAAAAAAAAAAAAAAAAAAAAAAAAAAAAAAAAAAAAAAAAAAAAAAAAAAAAAAAAAAAAAAAAAAAAAAAAAAAAAAAAAAAAAAAAAAAAAAAAAAAAAAAAAAAAAAAAAAAAAAAAAAAAAAAAAAAAAAAAAAAAAAAAAAAAAAAAAAAAAAAAAAAAAAAAAAAAAAAAAAAAAAAAAAAAAAAAAAAAAAAAAAAAAAAAAAAAAAAAAAAAAAAAAAAAAAAAAAAAAAAAAAAAAAAAAAAAAAAAAAAAAAAAAAAAAAAAAAAAAAAAAAAAAAAAAAAAAAAAAAAAAAAAAAAAAAAAAAAAAAAAAAAAAAAAAAAAAAAAAAAAAAAAAAAAAAAAAAAAAAAAAAAAAAAAAAAAAAAAAAAAAAAAAAAAAAAAAAAAAAAAAAAAAAAAAAAAAAAAAAAAAAAAAAAAAAAAAAAAAAAAAAAAAAAAAAAAAAAAAAAAAAAAAAAAAAAAAAAAAAAAAAAAAAAAAAAAAAAAAAAAAAAAAAAAAAAAAAAAAAAAAAAAAAAAAAAAAAAAAAAAAAAAAAAAAAAAAAAAAAAAAAAAAAAAAAAAAAAAAAAAAAAAAAAAAAAAAAAAAAAAAAAAAAAAAAAAAAAAAAAAAAAAAAAAAAAAAAAAAAAAAAAAAAAAAAAAAAAAAAAAAAAAAAAAAAAAAAAAAAAAAAAAAAAAAAAAAAAAAAAAAAAAAAAAAAAAAAAAAAAAAAAAAAAAAAAAAAAAAAAAAAAAAAAAAAAAAAAAAAAAAAAAAAAAAAAAAAAAAAAAAAAAAAAAAAAAAAAAAAAAAAAAAAAAAAAAAAAAAAAAAAAAAAAAAAAAAAAAAAAAAAAAAAAAAAAAAAAAAAAAAAAAAAAAAAAAAAAAAAAAAAAAAAAAAAAAAAAAAAAAAAAAAAAAAAAAAAAAAAAAAAAAAAAAAAAAAAAAAAAAAAAAAAAAAAAAAAAAAAAAAAAAAAAAAAAAAAAAAAAAAAAAAAAAAAAAAAAAAAAAAAAAAAAAAAAAAAAAAAAAAAAAAAAAAAAAAAAAAAAAAAAAAAAAAAAAAAAAAAAAAAAAAAAAAAAAAAAAAAAAAAAAAAAAAAAAAAAAAAAAAAAAAAAAAAAAAAAAAAAAAAAAAAAAAAAAAAAAAAAAAAAAAAAAAAAAAAAAAAAAAAAAAAAAAAAAAAAAAAAAAAAAAAAAAAAAAAAAAAAAAAAAAAAAAAAAAAAAAAAAAAAAAAAAAAAAAAAAAAAAAAAAAAAAAAAAAAAAAAAAAAAAAAAAAAAAAAAAAAAAAAAAAAAAAAAAAAAAAAAAAAAAAAAAAAAAAAAAAAAAAAAAAAAAAAAAAAAAAAAAAAAAAAAAAAAAAAAAAAAAAAAAAAAAAAAAAAAAAAAAAAAAAAAAAAAAAAAAAAAAAAAAAAAAAAAAAAAAAAAAAAAAAAAAAAAAAAAAAAAAAAAAAAAAAAAAAAAAAAAAAAAAAAAAAAAAAAAAAAAAAAAAAAAAAAAAAAAAAAAAAAAAAAAAAAAAAAAAAAAAAAAAAAAAAAAAAAAAAAAAAAAAAAAAAAAAAAAAAAAAAAAAAAAAAAAAAAAAAAAAAAAAAAAAAAAAAAAAAAAAAAAAAAAAAAAAAAAAAAAAAAAAAAAAAAAAAAAAAAAAAAAAAAAAAAAAAAAAAAAAAAAAAAAAAAAAAAAAAAAAAAAAAAAAAAAAAAAAAAAAAAAAAAAAAAAAAAAAAAAAAAAAAAAAAAAAAAAAAAAAAAAAAAAAAAAAAAAAAAAAAAAAAAAAAAAAAAAAAAAAAAAAAAAAAAAAAAAAAAAAAAAAAAAAAAAAAAAAAAAAAAAAAAAAAAAAAAAAAAAAAAAAAAAAAAAAAAAAAAAAAAAAAAAAAAAAAAAAAAAAAAAAAAAAAAAAAAAAAAAAAAAAAAAAAAAAAAAAAAAAAAAAAAAAAAAAAAAAAAAAAAAAAAAAAAAAAAAAAAAAAAAAAAAAAAAAAAAAAAAAAAAAAAAAAAAAAAAAAAAAAAAAAAAAAAAAAAAAAAAAAAAAAAAAAAAAAAAAAAAAAAAAAAAAAAAAAAAAAAAAAAAAAAAAAAAAAAAAAAAAAAAAAAAAAAAAAAAAAAAAAAAAAAAAAAAAAAAAAAAAAAAAAAAAAAAAAAAAAAAAAAAAAAAAAAAAAAAAAAAAAAAAAAAAAAAAAAAAAAAAAAAAAAAAAAAAAAAAAAAAAAAAAAAAAAAAAAAAAAAAAAAAAAAAAAAAAAAAAAAAAAAAAAAAAAAAAAAAAAAAAAAAAAAAAAAAAAAAAAAAAAAAAAAAAAAAAAAAAAAAAAAAAAAAAAAAAAAAAAAAAAAAAAAAAAAAAAAAAAAAAAAAAAAAAAAAAAAAAAAAAAAAAAAAAAAAAAAAAAAAAAAAAAAAAAAAAAAAAAAAAAAAAAAAAAAAAAAAAAAAAAAAAAAAAAAAAAAAAAAAAAAAAAAAAAAAAAAAAAAAAAAAAAAAAAAAAAAAAAAAAAAAAAAAAAAAAAAAAAAAAAAAAAAAAAAAAAAAAAAAAAAAAAAAAAAAAAAAAAAAAAAAAAAAAAAAAAAAAAAAAAAAAAAAAAAAAAAAAAAAAAAAAAAAAAAAAAAAAAAAAAAAAAAAAAAAAAAAAAABAAAAAAAAAAAA//8BAP//AgD+/wEA//8CAP7/AQAAAAAAAwD3/5wAzgC1AN4A9QASARgBGAEpAVMBfAGeAY8BiwFzAZQBpwGtAZsBaQFwAXABmAGIAWIBLwEqAR0BFwEBAbAAjQA/AEEAKwAMAOL/nP9c/z3/Ff/k/rP+Yv5B/hL++P3X/aD9d/1O/Sz9GP33/N380/zE/Nv81vzO/M/8wfzm/PD8HP0z/Ur9cf2I/az97v0b/mb+kv69/uz+Cv9K/3n/v//y/zUAZwDNACMBmQHOAR0CTgKVAgIDPwOgA7MD2gMFBDUEbASxBM4E+gQZBTcFdwWQBbIFwgWmBZgFbwVDBSwF9gS1BGAE1AOBAy0DzgJ8At8BPgG0ABgAqf///lr+p/3Y/E/80ftm++T6OPqK+Rb5o/hw+AX4m/co99b2v/au9o/2ZPZO9lT2gPZ99n72afZ/9qD2yfbn9gn3J/dv9+L3TPjF+B/5rvli+jj7I/zj/MP9sP7H/wEBOgJbA3AEigXbBkEIhAm4CrQL0gz7DRQPIhDpEI4RMxLPEmYTyhP3EwsUExQVFOITiRP+EmgS1REbEVwQVg9ADhQN8Qu8CogJEQixBkYF7gOKAiABpP9M/vD8svty+vn45vdG9tj1pfM987bxBfCx7+3tye1U7GLrIOod6T/oh+d25jzl/+O54hfiYOGL4frhX+L14i/j5eOr5bbn2OkD6z7sI+7L8OTzavbX+Bb7q/0/AFADQAbHCJIK2Au3DdYPDxJxE00U+BTgFcQWcheiF30XGBe7FvUWdRd7F58WXhVRFMsTrRONEzwT5BKXEqoS2xIUEyoTsBIqEtARnBGfEUMRAhGxEDwQFxD9D+cPoA/pDi4OTQ1ADEILCArhCL4HfAZEBfoDiAIJAUb/ev1/+3H5v/ct9or0ufKo8LHuwuz/6nTp1Ocx5lLk5+KG4VfgG99x3UfcGNsq2lbZ/9cU1+jWFdiF2kTcGN1k3Zve1+Fr5XToPuqT69/tP/G19RH6K/0l/8QAgAOJBxQLeQ1kDjwPJRG5E0wWqRfUF8MXJRhIGWEaXho8GaUXoRZGFsoVlhStEtIQsg8CD2QOag3WDM0MEA0hDeAMowynDHkN8w0rDtoNPg2ODV4O6Q/7ENsQvRACEZsReBI2EowRzhAoELsQDREBETYQug7XDXANvQysC5oJqwcpBskEiwOiAUr/8fwB+5r5PvhP9iL0A/JK8MvuEe3V6n/oaeaw5C/jZuEX3+Xc39qM2XzYC9e21RPU59Jw0jDT2tQ/1u7WZdfa2Irbt96F4ePjW+ZE6WLsRvBT9Dv4dfvr/QoBnQROCGgLpw3LD/gRKhR7FmcY4BmyGh4bvhuRHDodEx0lHPMa5hn+GOQXjBYDFYgTOBL8EAkQEg80DmgNYg0MDnEOKg5LDeIMCQ3yDZwOjw5pDk0OSA+kEK4RWRLqEWQRghHPEX4SkhIeEgQSqRHaEdIRHxEwEOQO7A1MDWoMPwuKCbsHVAa3BBcDJAED/yv9dPvp+TX4EfYJ9EvyyfBA7yDtqeo16BzmcuRx4jjgrd2e2zva0Nhh10HVKtPM0XjQus/KziHO5s7uzyrSUtTi1azXQdkK3PDfreP55nPpJuxy8Hz1gPpm/jIBBAQ8ByoLEA94EpwUPRYZGKkafx1kHxwgHiA9IOkgpSGLIa4gAx+BHV4cdRtBGosYhhbAFIgTkhJmEcUPxw7sDrIPJhBhD+ANuQy7DM0Ngg5BDnwNUw0qDtAPSRFwEZEQiw8/DxEQ6BAvEdUQJhA6EJEQ2hCNEEkP9g38DIUMGAwBC2wJxAdtBlcFIARxAnsAp/46/f37avpm+Dz2f/Qk8+XxGvCv7Tnr/ej95gLlueI54IvdIdth2cXXU9aS1J3SwdDHzhzN2csXy63L1sxwzmfQ8NEA1NPVRdjh207fzuKo5ajoBe3q8fb2QfuB/h0CoAVYCWMNzxAeFHwWrBg1G9UdPCCtIVsiyCI9I8Ej/COJI4Yi7CB+H00eWh0RHEsaURh5FhEVnRMKEs0QPxDpD8YPvA+UD98O9w1UDR0NXQ2TDfENUA7tDgcQmBDxEBsRmBBHEDkQpxCsEfYRNhJbEhESNRK+ERwRWxBaD50O6A0UDRcMkQoACa0HMAaiBOsCHwFM/4n93/sv+lD4afaH9MjyGfEn7+LsgOpP6A/mveOG4U3fPN01213Zstff1Q/UOdJI0LnOHs2My/nJhshiyHXJn8sIzqnPOtE+05vVs9hO3DPgNeRG54Hq2O4Y9ND5Rf6SATYFIwkxDWARABV9GO8a2BxPH+ohYyTtJVEmgyb0JmEneie4Jn0l3CMlIqMgaR/4HQkc8BkFGM8W5hUVFXgU7hNNE2wSehGpECwQzQ+BDxYPcg5kDtIOfQ9EEKEQlhB2EDgQbhCgEIwQlRBgEIkQxRDWEMYQChAMDxEOFA1NDEsLEwqyCE4HDgbVBKYDLQKPAN/+Xf0E/In67PgH9xP1ZPO88UPwx+7i7MDqi+iE5ujkY+O54dLf0t1R3NTaRtmR14HV29OP0obRndAQz0vNt8tUyhTKI8tCzc/Py9FM0x/VDdiq23nf8OJF5tLpf+208br23vt/AHgEvweyC9wP+ROrF3ga5BzRHpsgkSJ6JAYmEidSJ14njyeLJ8smUSV1I5sh9x9bHvcckhv6GWgY+hYuFgMWvRX5FKsTfhLfEeMRChLREf4Q1g9TD34PLBDuEBER0RDPEP4QchFvEesQZBCtD34Ppw+xD1IPlg6zDfUMJww9CxcKoAhJBwYGywSKAywCwwCX/5D+lv12/C775PmG+A33nvXt8yzygfAW78ztXuzC6hrpZ+e65XPk1OI44aLf7d1H3K3aJNnm18LWgtVC1FvStNCGz+PO4c3AzAPLVcqvy7bPp9Sr14LZy9mL3ajghef/7Mnu9fGD88D5awDxB2wNQRA0EvkUAhr7HQ0hwyCgH5cf1iG5Jekn0Sj1J+AmgyYsJsskQiEuHXUZohc3F+cWIhZ/FG4TgxMSFOYTuRIpEfUPKBAJEesR2RH7ELsQWhHuEmQU+hTQFGsUahScFHEUpBN7ErIRVRHHEVgSWRLdEbYQTA+yDQYMNgrMCI8HugYBBv4EFATbApUBQQDg/lf9zvtn+kL5ePiU96X2T/W+83DyFfG17x7uYuzL6gnpZefn5WDk4eKj4QPgK94y3BrapNjI1v/UW9OJ0aTQTtC3z+7ORM28y6/K7MmKyhPMvM/31UvcY+Gh5HLnCOy98Cn1b/gZ+sz8egAqBnsN+hOkGKsasxs0HightSJ2IhMgEB58HYgegSC8IcQh2yDLH84ekh3JGncW/xGcDv4M1gwmDfQNpg7cD4cRfRJ5EpsRZhB+D3AP1Q+UEGMRshK5FNsWcxg+GRIZRxh1F4MW7RVbFeQU6xRCFegVYxY9FmsVLxQ2Eh0Q8Q38C6wKbwmuCC4IrQfkBqgFLASaAp4Aef58/Lb6mPmF+bb5LvlB+Ef3DPYT9D/yG/Bs7e/qs+hj55Dl6uOC4iXgk96s2z/Zr9bh04nSnc8tzgHNwsyFzHHLgMt2ykrKRMlqyLPIWsg8ybLMq9ON34DqPfLd+SD+9gPgBx0JDQzRCsAKsAx/D9YWFxx9Hrog1h87IHYfNxuzF4oRvQxFCgAJdAvDDQ4QGhIiEswR9g+3DWsLIQinBjwG1wcwC0AOdhOJGFYc5R5oHsId6xurGVwYYRdCGK8YixlqG7ccyR0FHSIbLxlyFp8UWRM2E6sUZRU+FvwWLRfxFrwUMRLBD+wM8gqMCVIJigk5CR0JMgg3BzMFRwLZ/zr9ofv4+Qr5uvhn+Ev4pvf89nj1fPPp8FPuj+zW6grpwee+5gnmjeS04STfbdso16TTytDFzdbMAMvqyrvKCMnAywDM/cqZya7Gh8eryPXF3MjsyDXPRNsW6L39hgnJEQwVehV9GGMVEhDvCy4KKQtaDCAORRUuGmcbeRfeEeMPfgoRBRIA7f7SAQIESghCDxsXDhwYHPAYthXyEYANxAm5B5YIMAv7DsMS5RUbFnkUlhBjDVcMfwzVD9sR/hY/G/weMCI0IsUjPyKKH3gcPBlmGCkY/hceGX4ZZhkWGfwWwBXaEj4PjgxUCsQKmAuRDCYOeg/rDwMPlQwwCq0HIAU3A4UCyQKWAgQCNgEAAL792Pq29z/1vPJO8UXwsO9r70TuOO0667jn3OQ34czdutvn15nW8tPB0SDQTM21zYPMoMyczGHMOc6Lzo3M+Mwsy5PMZcwByZrLNstY1FrfpPAcBfUQDRp8GkgcIBzLFaYNhwXhANUAOgGVBOsLlRBmE6oQXQ79DJYINAP0/Db8ef92BMcKaRIUGrkeyB46G54WfRGYCyIGigPWA8QGbgq8DtkSFBVoFFwQagv4BpsEVAZ/DcgWcx9ZJXgpki2sLQ0qlSMoHW8XERJpD1oP4xHgE4cUXxVnFRMUqBEXD4sNqAwYDGcNqhBIFKEWrhZKFcMSAw91ClYG4wMRAscANAAnAT0CxAFY/3/8Ivr29ufz/PCo74bvPO8i71/u+ew66iznyeNB4MTcn9hb1gjUHdRE0xbThdNh0VHPisu7yVfJkMgyyIvHGMnRyvTJs8uqywHQK9ln5SD7+wwLGHkcwxwlHy8cSxLfBY380/gF9yX2vvmpAE8I0gwjDdgNyQ1cC28GqAGnAEME8gkSDwcV+BrzH9Qhuh0AFzgQzgprBncBff4GAN0FMAx/Dw8RNBJhEsYPtgrQBrcFzgZBDMMWASP4LCgwly8eLtQppyEdFqsLpwY4BkwHjgksDRQS/hVnF9wWIRXhE5QScRHCESQT4xXlF+cXbxfoFU4SMQw/BTcB1f+P/4z+8f3//6oCDwSyAiP/2PsJ+Uv1v/HR7qXtqO1Z7cHrG+ra5/zkAuKV3izbm9b508jRGtCt0f/RX9GV0OzOe87ezsDMrckMyZDHVMg+yr7LYM7+1njik/UhDMwZcCBcHuMc+xp+FBMGmvak73fvnfHE8+T3tQB3DOkQRRAFEF8Pjw5kCdoCIwNTCRsPchI1FWoaaiD6HpYW4Q1aCe0GfAHE+qD4Kv7qBk8M+A4SEW8TZhS/EJcLIgjnBusGegddChYTbB/aKMctJy2OKqglORx1ERgIVgPxAkgE5QauC1wSfRgVG6satBmBGGcX9xRZE1oT0hOqFCUUaRPGERgPTwrTBFUAR/4Q/mb+cf8wAagDPgWoBMsBU/7O+VL1kfBt7B3q+OnI6BTpUemA6DTnfeI23eTYMNVM06vRFM+Cz4/OndLa0vTRw9Mh0FLQmsvzxi/HIMeHyWXM/NOG4yH8ThF4HuchgCGiIsscnBBr/Z/vS+mY5zPoTOs79EsCzg4XFJsWShejF44UlwutBAsDfwXlCHQLuQ/rFqQcAhx8FsYPKgu5BgsA4Pgg9hD6XwEyCDoNmBGsFjkZshchE58NmwnGBswE7ANXBtsM7BfoIbgoiiuYKR4lOBwUEykLrAQhAaQAEgTBCvgRpRgFHQofoB+zHQIbPhfZEigQDA6EDfUNSw2HDTkNiQskCUQF9wHl/5n+P/4S/rz+9v91AKUAiv4x+6j3DPJD7n3pH+a75DvjTePI4zHk0uMb4pzfEt1S2bnVic/xyxfJo8r3zITP0NHm0WDSa9CIzt/Mfsv/yfTQbdtk8nQHShZbIUolWirsJswavwnI96XqCOPY3Fzfzua388ID1g4HGlQhHiMQIQ8ZhxBNCdEC7v8tAKsDOwp0EO0VjRj/F1kVUhBPCaQBsvo49wD4//tYAq4IVA/LFcsaSxySGTYU8Q73CQoFRgH//wUDAQpeFL0eVCZNKiAp/iR0HWsU8wstBLP/sf+uA+oKaxJtGUIfJiI2I7MglRucFWYPCAsxCKUGPQc2Cb8L4Q3eDWAMaQloBekBWP4E/K/6avqK+yj8kf30/LX6//bN8Y3tbej549fgE+Dt39vh6OF046njA+JX4TnbhNZUz4fMPcqHyO3KYMorzv3Od873z+rPMM71zRfRK9778/oF3RJKG7El4SvHKPEc1wx9/y/y++JQ2ufaJeIb7vL3HQSUFMghESdkJcIfphrFE50JDgGf/VX/swJUBikLQRG+FtkXZhQXD0kJRgM5/c/4X/j5+6kAgwYADWgUAxqyGwMaGRfvEiANqQaiAdwADQGXBBoHjxFuHJQjfihwJwAo4CAAF+gO1Qe6BJUC8gNYCwwR/BjoHnMhjSNfIBAcchYgEIcLuQauBOIFuQc/CnELugwcDbwJ+AVWAVj9O/qP9t31wfXf9qH3qPfU9pr0JvGR7Cbo+uPV4G7eUt3b3Vjg5+FT4j/hEt7x2GDTls1JySLGR8MrxRDFV8cVypjM8NBkz5PVSt9b74oBowofFjgflSXXJtAcXRJQCAH7ZO383sba+d7B5STuf/blBMkVmSAdJSYkVyJ2H4kWTgyoBPABsAEpAZsCCgftDbUSFRPtEIgN5gnKBJD/Cvyc+1L9MgB0BY4MoROSGHga6xoJGm0WcRDOCWsFAwOBAjUD+AcKE1UeEyVIKCUpYydVIPcVSg0tB2oDLgIhBVsLDBNsGyMiISWkJXoirhw4Ft0OvwfpAUX/cwA3A1MGJgm7C6kMlgoEB9AB6Pyn+JP0rfHx8GjxtPLF81XzXvKp7zfsYekO5V/gityr2gTbvNmw2ZHYe9ft1WnSi88YzKvIDcYOxKzCZsL5wz7GAcgj0P3bC/D7Al4Q8RwTJQ4spSmqHl4SvwXQ+cvq5Nst2PzbI+XH7dj1bwSVFFwgaCWlJAAkpSG1GdYPnAe5BLYDNwIZAr4EjwomDxcQoA5lDKIJbwXcAMP9mf17/m8AGwQbChERfxZOGdQaGRt8GJoT6wx1CBoEPAEO/owALwdRErwf+yOaKyktySo4JW4YcRGyCb0DsQIoAkYJrw8AGDIhNyMHJkckxh49GqoROAneA1X/6/+tAGQDBAc+CScLBAmYBtgCY/16+cP0ovAQ76zu0+7X77jv2O4J7UTpV+YM4tPdidtS2R3ZH9lx1hnWIdKF0jbRRMzKyonFk8WpwiC/u8CIwsrF/M5O2pvwxgSYEegeliaWL+MsnB62EZoE3fkk65/ZbtYt20Hmvu4T9YYDxxS1IPkjTyKBIngiCBu4EIwIiAayBpcEfgN2BXMKiA0zDWgLGwoPCNMDx/8U/mD/wgBtAtYFJAxSElgWqhepGVwaShioEjENTQngBrICIQBxAioMoxz4IDInqyuYLL8q1BycFEYNJQZoA9r/OgXHChkTYR4IIn4nYCi6I/sfaRhzDjMGIv/C/fn9A/+BAgcG1woqC7EJCgePAU39vveB8djtf+z166Lsde1s7YvsiOrD52bkCOAQ3G/YkNbj1E3TnNBVzhnOOcw3yrbGrMSDw9e/8L38vIW8bsXQ0HXkq/qtCrwcJygLMSMzRCihG1UMav1t7q3cXdVw1a/cHejt8Mr+ZQ9cHL4kRCXQI40iVBwoFOcLMgfOBe4EagU5BwULRA5oDpkMjwquBx4D0f6F/Dj9P/95ASkGVQwoE/MXvBlNGyMbrRhPE8INOglwBrACJAMuBhYRxB6fIkApTitULCcoTRvsE88LWwZVAx8BXAduDHwVDh8jIpUnpicWI/geuhaFDdMFmv8b/0P/AwEcBGYH2wtyC+wJaQYfAfz89vZS8Mfs4Oo+6o/qg+ph6vnoIufI43jgi9z712PU0tFaz+rNQ8t8yMrLnsvwx2HHacJHxFzCqrvNvMHAHc4T33Xy7QXfFiom1y/8MfssYx76D1YDGfFa4RLYPNVm3aLmBvBX/tcNoRvBI1gmOCTdIe8bAxNUC2YGJgTxA3MF1gdvDAAQwQ+7DmUMxwjcAyX+pPvg+xP9kf96BKMLgxPIGKQbbR01HZwZfhNHDc4HywPZ/24A8AQlE/ofsiV/LekvzzFkKlsd0hSdCtEEzP9V/1cFCguDFr4eDSSAKc4o1ySLH9UWNA2LBN3+qf2l/mcBUgRECfMMdg0aDLgH1QHJ+8z0Eu4s6uDnu+aN5wfnwOae5VjjMOFi3KvXi9LhzanKHMgwxe7BrcTHxS3GYcZIwoLDscB6u5m9OMb91HTqu/3IDwcgNytdM94vUiWLFEcEPPef5IDYuNS015nka+5O+nYLuRqwJNsnLSZ9I98dEhTSCsIEVAPjASICSQVHCpAQghGkDroMKgqIBVn/ivqQ+iX9J/8KA9EJaxJBGTQcJh4SH3EcbBYQD7gJ2QRSAe3/awdmE8gdWSaVKl0wkS+ZKF4f1RTdDcUGDAMXBOcHgxCnF0UfbSUsJ0gmfCENG6YT7wpdA37/Gf9KAdMDZgfGCpMN9A0LC6EGuQD/+fzyme2j6Xrnw+bc5TDlDuVo40vgYdyv1qLST87EyWvGeMJPwozC7sG5wo3BvMO2wVi+wb75u33EKs424hj9eAxhHnsmoTCyNVQnFReKA/n2G+sM2WTS99Tj4Sjx6vk8CM4ZbCWaKsAm8iKDIJwWfQxoBRsFDwY3BMgE9QjZDzwRqAyXCMsGDQT7/fn4KvmT/ZgB5gRfC64TwxpiHVod7x1MHIYWig4LCQMG9gTpA/sJyxQgIQcp2yqzLkIs9SYGHU4SuAwAB4kF1wc1DRAWLxyeIqgmMydDJUEe0BaaEDEJ7wKo/6f/GQMNBs8ILwtYDCELKQezAhb9xfcx8p/tH+x56uPos+V25FHi3t5B2m/U6dATzC/K88jTxefEKsP4w+nBycD/vfa6QrwCuke75rlaxCTWq/DMCCcWEicfLvo1TDEbHW8Mxvp17qDg+NSP1l/eE+3X+L8EdBTaII8lNCWBIV8ffxrHDtkIrwhdDPsMuQqwDJYQ+RJ+DmUHBANj/wX7nfZp9xT8uwHLBfgLYxT+GtAcNxt0GhoauxVhDiYJgQh8DAIPfxq9IsknXCtcKBcqUCJeGHwQBAnICMYH1Qr2EB8X1CG/JQQnoCigJN8e6xd/EO4LoAbLAu4D2gVlCfYJOQqECo0IEwerATP9i/m19SLzsvJv8WXvH+0d6AHlut062J/T3c47zRLKcsnNyr/HiMhRxXPDqsNSvP+4FrVktMO0WrMqslm//dPu9KYPyhyAK1Ixgzq0MZIZQgb38x/pDt2/0eXXv+RV9DUALwtBGzMmdyV/H4ob0xo1FjAKGQZKCxwT+xRyEfoSvRXFE/4KJwLZ/dv5nvT28kn6rwMVCigNQhN7HOofJhzhFfYS1xGlDH4G5QVxC1ITgRzUJDMw4TRXMBIsLSTJHUcSAgdXBEgFKwv6D4YXMSHRJX0pvif/JAIh9xibEcIMTQv8COgH9wdRCicMdAp8B3AEGQEe/bv68vhq98/20PQp9NTzBe6J5wvgQdlM1OXMzchTx/jDo8YjxfzGcMZmwQHF/bwXvjC3r682sw2xgbO3txDFheFBBlwZKyhYLlAwtjHmHUYI9PLy4yHdmdLa1/nl/vU/BxgOfRvUJ+knoB8RFi4RdRHUDLEGcguWEycbWRvMGDEYpxIXCSX9ZPfU9VPz+PKe+Y0HGBTNGfMaTB6QH2Ub2BJXC0kIEAYjAr0Eeg3YGd0lsCwZNvk3jTIMKfcd8hbKDksItgdUC+gSRxlOH88laScNJqghRx3+GnMWqRFvEO4PxhD/DiwNRgyRCW4FZQDF/XD7g/lk+Kj5LfvP+6L5Evaq89brEONd2ifTjs8CyljGMMSRxaXHiceRxoXCqb0YugW4GbXNsAiuUa0GskC1R8EV13D3zxp2KbgxoCz2K6Ejqwnv8XDfK9m91EnT4t/v9eEIcRJMFrYgYijHI/wWiw1LDuQR/A/pEPYYdyFKIrYa+BQjEKcGdvj87fTuFvTz94/9Zwk6GPkfFSBMHUccqhcwD9MHpAWfCCEIFQsaEqgiqC0bMjY0fzA4LWQgbRdZEmMOxAyjDFgS7xtWIPAimSMeJHcknR/5HMgb/hlIF30UrhOIE+oOpwl8BbgC0gDD/Pb7qfyd+6X8NvsQ/DP6RfVt8RLsV+d+31/ZLtQQ0gXNi8mqxNLBr7/DvwW9UbgquQi0Nrl0sNeyL7IRsvezzq9YxYrb1AabIxsvCzXIL74qtxg8/o/o3doe0R/PddU77HgCVA7ME4QWch9jIQkYmw+JDEgRlBaLGXsiFCseLNki+BayDtUE7fba6vvp9fBq+TkAVQtOGGYfcB39F7sUThKLDPIHKAmLDz0UlhWXGQQgAyojKRMqpCdRJIUfahe/GJ0Y4hgsF5YY2BvwHSkddx13Hjcfrx9xH5gibSMUIKwb9xaNE88Ohwj8BV4DtgKaAToB2QEm/0f9Q/me9yz1IfJ+777s/ulS5MbfYNzr12/QOccExPu/NLxduzK4Q7pVs4WwSrHptd+0xbT5ri+vr7KCtffOzeiKGcwtUjZwM/YoNSM7CPrwkN+O2FDUP9jH5eT+pg99EOoMrAoyEMIPJApQC30QtxtEI8QqBTbgN+8sExmUCM8AZvnD8SjvDPXR/cwE2QpTEq8XNRJfCY8CYAX2Cq4P+xTyHNsitSJiIMkgcChPI+Mh8B8dIYwjTR35HzQeIBuNFgwU9ha7Gm8bAR2KH2AiGCYzJEQlyySIHgEabBRYE9ASNQ5qCwEJVAeXBbUC8v/M/fL4H/b982PzC/IV8GDtu+kN5cHendz11o3U/srExSK8ELvstc22ibZuryO6R6kdtYutKrHssFuo7a1WrcLIS+SMGY4uwzzNM3smwx61BDL6y+is4+3f6eI78jkI9g9oC7/9OvUg+nb7AAFeCSsWjSLWK9kykDzZOoIsSxg7B0ECQ//gALgE/glaCy0InwQ1BckDNv019ubzf/04CnsYoyNXK4MpjCLSGnsd+iY2J9EpQyi0KmgojySDI+gbmRK0CkcLeBGXGpEgniNQIich4iHUIXoigiF2HXQaQBn8GL0ZzRUKEfsJngMfAYUAcAEd/9H6+/a085vx6+8e7sDrfecm4+/e9t4y20fWSc7Rxdy/z7g9tUWzXrPZr5qv1ax3s/exlrGbrmammaf3pnq/Ady6CU8o4zN+MkAjMh3JDHAAf/Vv8rPzevp7A6kQohLeB3f3Kee55iDpDvQiALsPIx1vJpMtqzEZMtEmOhimDtUOPBWqGwkfYSHHG2gRTAUz+/X2SvAN7Szu0faCBGgQMBo0HfcZshLeFDwinS6vNoo56DsJOuIxMiyJJGAaQhF4DDEPLxSKGgge7RuiFtQT5hN4F+YclyDvId0glSD+H84cfxZ4EAwKtgZ+BQ4FTAXoAK/6vPPh7ZrrQurI6svpYeZS4mjdWNkE1bbQpMqPxC6/+roxt661i7X6sXexeLIfsVmxeKvHqA+mjqP2s5DN5u9pEUUhMiTfGmwRAQ/4BrgE1wV5C0UTCxkGHv0b9RF0Aebxs+co54buaPqRBLEO/BDUEWERfg/DDgcKRwsdEXAaFCaSLmUyVS+OI8EXcw3gCDkHKQUtBhkHLwqgCuYIoQY9ArcA6AOQC8cW6R9IKLktxC7fLQkqRyeqJVUl+CX0Ja4l0CQKIngeEBnOFCIRhw+6EGISSBQnEwERPA74C3oKTgpHCnUKCgkBCNUFTwI4/lH5OPYP89nxtPAl76LsLOnF5C7gB9sP1wLTk86ey13ISsaowp6/IbzfuVK5+7hBuu24rrbis1KzTrSbuzfJP9108Ub7d/5U+4r6ePoG/Pf/ugfGD7QWGR0II9coRijUIU0ZtRU0Fj8ZHhmWGRQajhnJFlYRfQtdBeD/FPyD/Mn+oQIJBK0E7wQSBYoE3QKQAY4B+wP5B30NXBJkFq0XdBeAFuEWmxkTHAEfHSF6I7okBCU8JFQjTCFLHw8eYh1VHsEeVR8rHtEchRogGI4UexGeD/oNNw2nC3wK0AdoBeEDZwPOA/8CRwEd/4r93vzD+/f5P/h89l71ivQK9G/zqPFn77rtrOv96UDoVeRU4bXext1B3QncLNs12aHW+9QM1cTUotOY0LvM6Mhyx/LHcslrznrUOtv54BfihOHj4G/gk+Ka5RXryPMs/P4Ddwm/DYkRLhOhE5wUiheeGyofzyG9JKQnfiimJpcjaSC4HXwa2BdRF5wXIRerFKYR1Q6nCz0HQAM3AV0A9P+a/0cAFgJ9BO4Fhwb/Bi4I4glUC4gNQRGfFRQZ5RtQHZgd+BxyHC0dSR8DIkUkZiQfIv0e1hoHFyAUVhK2EHkOoAsfCYoH+wSDAjn+KPsQ+gz5IPpu+D/4vPet9Tj00PGl8YvwmvFP8YjwNPCc7sXuXutr6Z7nruaH5o/m8uYh5Vfj5OCk3t3avdlw12fVtdRq0S7QB89ezS/NBND71PzaWN7X3SndPd1I357hjuWF7Yr16ftKAAwEuQntDSAPwhDEE2UYGhzLHecgOyXfJ0EnXyVYJF0jWSC2HMQbsxwFHSobBRh2FRgSZQ0pCd4GRQb0BKQCagE2AmEDvgPrA5gEcgXJBS8GXQjeC0MP3xERFFsWZxdoF4YX+xhHG+cc1B0pHrsdBBx/GWEX1BVWFLISwRA6Dy8N7AoICVAHhgT1AfD/1v0c/Gv7MvuW+WT3q/Nn83Xy9vEg8o3xYfBb8PvwB+/A74Xs6+vm6prqfusg6qnpK+cc53jj5+IJ4tTf8N9e3KPaNdjy1YHSUdBWz7nPc9OZ16ncn92p3OHbJt2l39LgjuSO623zlvna/XsC2weEC+ALRg3wEb0XuxsyHpAi8SaiKNQm8iQFJKMivB9oHR8eqh+kH/IcyRmNFjsSpQxhCNkGmAZzBX4DMwNDBP0ENwRYAxMDhwO1A6wE4gfsC0YP2BBaEsoTRxQRFJsUihbsGIkalxumHFQcPBrEFw4WwhXxFPQT+xIrEnsQJQ6LC7EIKwflAw8COwBu/4/+Dfzj+GD1n/Py8kTw8O/G8ETw8PBj7+ru6+0W7PDpAOu16o7r4+vw6HjqQ+cz5ArkA+FN4Kzged7o2uzZ9NZD1dvSm8990LXRLdVS2UPeet8d35De4t+b4RvjOuji7hj2Hvth/2UEKQmkCnELiA5NEz0YsBrUHa8i9SVLJhYl6yNmI/EhGB9vHkYfFyAWH+Abuhj7FNUPzApjB2gGmgVkA3oB0AAoAcUAzv+o/wAAYAA+ASYD5wbFCmANvw+wEfMS0xOBFCcW5xjSGpMc9h19HtodpRvFGZEYYRf7FcYUfBNoEksQ6Q1iC68JcAeMBM8CVQHNAQD+qfsL+db3jvYX8m70U/Ix8wLy4O3n7uzuEO6h7LPttek+7E7q3OXr6bXng+aF41zh2t+D35fcn9pl27rXK9UQ0bvPQ80gzbnQutVv3SjgM9+p3TPffd924Ifk0esy9sD7n/8LBUYLXA1VDZUOmhL5FywaCR1dITQmaydkJTUjFSKxIJ8dyhsVHNwdzR3mGqQXhxQfELsKMwbHBL8ETgPaALb/nwC6AAsAa/8SAAMBegGSAhAGxAoBDp4QsBLLFIAVpBXrFt4Z3RyjHj0g1SCTIAUexhtJGgMZ/xeWFrsV5BSrEuIO0wvFCaQIHgbzBEYD3AIFA1QCpv60+o75t/Tn8l3xiPFW8qjxPO717e7srugD6THny+c35nnm6uPZ4C/ghdxs2/DZXdrU1dzS1c7oyr/KhMaywxvExsjyz1vbCOLl42bkaeOE5aXmduqM8ub+0wgMDmMTTxnUG1AX8hMzFuUdLSOCJAYnhinPJkYf9RjWFNcSqw1CCWAKow2ND6MM6AczA/79Cvga9Q34EP7EAXUBTgLFBQgJRgoMDCsQjRQjF/8a5iEtJ9Qn8SRlI/Qi0CGkICoi5SR0IuUdRhzXHOkasxU6ERwQQhCbEecS6xEVDqIIFAfeB5kJAQuNCosIDwa4Bf8ErQP0/677hfkG+En5jfjy9N7vROoa50HkNOHt3hPautXp0V7O48vWxgDA+7ljt6u21LY7swav76obp6uoWbAKxtnjjPoF/+T3pPfK/6kEuQPKDEYhbjNxNp00PjYNMGYbmwUCBMwQrRglEjoKxAcLBBj4E+nL4l3js+Mi5eXwowT3EIoMMwLEAEwHxAwhEdwcQS2QNmc0DTD2Ls8peh4BGJkfdCvOLXYoIiSJHsYS8gbtBOgJagxJDVASMxhkF7kQdgs0CwEO5hKLGiki+CVGJPwe9Rl4Fr4U9hMyFXUYuhp7GP4R6ArqA5X9D/r/+vX90f1V+ZXzHe365brfbdxO3V/dxtzW2xzaEtWtyj/Dar9Hvd67bbgUuVC6erUasFWoBKFGnmucEqn+xs3ukhN+GWENhgXsBxgM+AfeDuEnmz8VQ5A5zTCIIlsH2umO5BL2DQR4A+j7kfvo+wLvS90312Hfq+sH9joJtiRSNXMuRh3fFhobdR9tIVUr8ztTQrU5LipyHW8Q9//k+usFWRZ6HOEZfhhnFIMKpAAYAjMNoRcRIR8qxTDyLWAiNhhJFHIXpByIIqknDymYJEIaihB/CisH8ga8CjITbxgnFtkOmgauABf7zfnp/OgAJQIe/sH5nPN76jviKtxG3Vjex93v3bbYXdJBxLq4HrVWr0StNKqnrXWypasspjaf3Julmuqj9sgm+ZsheypWI7gcdxiAElMHwQ1SIi01azmwLp0kIhKw8szVz8ud2Xvo/e5t80T8hQLO/Grwo+oZ8BH8+wubJN4/dU72SPg2fSrnInwbyhXQFyAhqSWuHp4S2AWJ9zbs7+pE9nYHNBN9HdkkxSaBIygdCB0oIjooqy7WNOQ3szOYJrwY4Q8JDAkLCw0tEkgY1BlNFs0RmQ00CsMJqg0IFtsbgxwlGYwSLwpwAG/6tfjo+bf5kvi09Y3vPeek3RfYYta61QHUr8/BzCbF+LzOtdCvEa/GrCOvbbQGtP6xBKzQp9qoK6tPwQfm5RQ6MXoxWyZTGbUT+ARn/NcDDRiNJnkfwBKCCNr3fN/uxwPI9Nh46ELy7/0NEYcbahXRBkUCzwkaFiQksTfjSTJOUz9QLOoehBTyBi/70PqpAzkJtwdRAoT8FPOg6F/uUgFcGworjzbvQDZD3jwaMD8pnydeJnEl6SbZKGMjlRVgCAEC1QBbACQFfg9AHY4l1iaJJAEguRk/FMoUChu6H/McoBWDDYoEIvp58fvtce5A72vw1/D98GHq5OJP2ovUN9FGzYzNvsuhyZvBZblKtjCxy7Ajs5K4Zb+WuL+zMqtkp8qnbrGV0Ab9DSgIN3ozpCKKGNwIj/e39C8AtRSxGaQRYgmgACjx0Nitx5fKFNuL7Oj84hMpJ10uIiEvEwMSpxhvIa8n3jKEPp0+IDOfIqEUEQRd8VjkYOay8uP8LwI0BDMGOgRvB+EPCCGdMDg92UVaRxlGtT7iNJwoNR3vEv0KPAmsDP8P1g4KCvAGHwbnCmETqh4JKVMuvi+5LGkoPyEDGhgTBg7cCk4IwQaYA2z/bfno80Xvre0X7l/wh/GD8Hfra+Rl3I7VMdD0ybXGP8GIwIG8Gbo1uWO2Lrl4tQ62kbODsSqqTKFEnICiXMFg7Xcljj7rRdw2HiG4DSb1wPFp98kEgQk5BlgF8gOa+MziSMy2wkvKx9zq92sY9C8KPR05MTGbKnMiyCD5IHEmVCohKW4odiUzGysGd+wO2z/X9dvw5rT38ggTF/EZoiPJMVU+LkSXQkVEGj9XORc2ZjPRKeIWVAM69wn08Pbs/rUH9RCcF4wbkyInKf0uhTBeLnYsHil/JTEhIxpoEWQGLvzz9xr3YfqO/d/+OP/k/cf6m/hH9fPylO1K55vjOd3Z2O3R3syRyDnD176zvlO/hb9Nwte7S71gtd2t061znQCf6I/4kuqz5NtRHHo84U1KSw4y+hhg/m/wC/Mt9HPxF/hu/GwHbQK97ILe28wlyojSMOVgDR8sQUDaSK9GLEbfOrYquR3ZEwEO1gq6C3YTNBh0DZf8nel73rLcNd1M7An/vhIXJeo3K1J2YCtfBFEYP4EsIBxpFUQWmxaVDuUDVvtx+Az66v0ZB+kRCx4DKss2/0LdRf4+vzAIIkIWGA2/CFUHqgU4AlT9pfvm/BH/8gBLAzIF+Qb3BU8E5ABt913rD94a1PjOjM6tzOXMFcrSx7/DXcTzxNnFdsKVvPa7VLKRsymqV6qWo/aZRJZ+pGLMEP/pLoBCjE0PP5IvrhZ3/vX0cuoH5BzgzuRx9m8B7f4J9NXmyt+/35jmffvWFVQqbzqRQs1Mak8TRTsyHxvbBg33p+1/8lz9/wRXA13+n/tw/Ln6GvoV/owEcRD2IMY/lF1GbIlnSFSiO3AfHwh2/BX4BvbL9In5AgUvEjYbxB76H1ogWSNkKaw0Fz4VP9w1ficMGjoNwgHp+aj2efSA9cH69wXhEGEWyRYrEesKpAGD+XnytOuU41nb/dM10NjQ79D40ZzPCc1iyXHJN8n/yHXFUr2tsgKsvaVZpIOgN5lPlsCO16ya1J8Rzz7xTINXhUMiNlwadwGU84PhedULzPrUmOrt++L7SPOE7Xzo/OqP7vwBChkiJyM1xD9aUfpZM1D1PCkhtQdx7s3frd8z6f/vmPER+AUBBA+pEF8RXg9sD64ToCGKP1tZGWe5YGpSWzwxIUgKZveq7JXj1eJ57vsCjRuSK7s0zTVaNCoxyi4fMPsuzSlGH7QWABElCxwF8P44+3X32ffw/dkIAxQfGXoaExf3EEoGRfkD66XcMNElx9jEcccwzDjR6NMe17nVTtG7z+HJycGju+eyS7XLrhqqHazooPWdnY9hnAjC2O4sI8s3okzfTR5FtzIpFkgGxOzY12vDncbE2RLqbPUP9Uf7z/pB+kP8iwLaD2AUoxtDJ0w7v0xYT4FIRjiGJBgJIvK05QLiw+D83FXli/V1CvsXMh+SIwMidh6HHzQwckL0TclMekcbQOcvpx46DFf9AO/s467lEPRjC7YfGC5JOEg/ZEDfO4M25y7yIjIT1QeBBDUEFgRJA8kEvgZBB8oJsA2xEjASFQ+AC2AI8QNJ+pHvVeIC1iLMQcYZyPfKWs4X0K3QL9Yh16PUVM8IxyTBZrYIsPWqpKO+o5ia95ahjT2aUsQz8V8kGjdzTQBSOkjcOXYagQta7/zVA8HDwIvWnuZS7xbvlvhS/Or8Qf3kAhcQgBCfFCoibTnWTSVPTEqXP98tGxML+i/sxORw3KvTW9sc7kwFsBO7HKclFSfqI4sngzeSRkxLb0RVQu482jAEIpkQZwPx8jjnoeiZ9tAK5RqYJtwzBj8bQz9BUDszMr8h+w6zAxkAhP7h/RL+fAPCCXgN/RLOFm8YUhT1DIsJiwV9/hz1bOhk3lzUbM6hzMPMQ81pyp7JIsqB0I/RiNGL0CPHDcPTtpOxBbBFp/akWpoRlf2P958BxaLzpCGaM9pKU0xqSvI6PByMDDvrUNUWwkbDv9gt51TuT/B++Rv/CAM4ANQESAxgCrIQ1h0oNmRJLEpCSIE/NTHCG5gExPUy6nbc69Ns2i3s1AHEDtwYYiIoJv8oODFOP+xJqEdsQEY9sTfHLp0gxREhBAT2NO6d8Xr+bw3UGOAhgC9KO2FBC0EEOygxlyBvEIIGiAHS/fT5avlT/xcHHg9OFlsbLhwvFusOeQlJBDH7ge4346Da/NK2zIHLpsyMzkfOvM2U0YnTNtW2z5jGi8DQtpWx/qqqpc+moJwwlSOMN42ysPDZqw0+LMQ9QFKrTyFKXjBSGrEBAeEuxy68Lc2629Tn4uYj8L/8of4vAucAIAnmCbAGZRJuKZZC6ktpSsFIKEJrL4UWiQQn9f/krtFVzqze4vFwAj8MhRpCKc0xvjssR7hPm0yYP4k2tDI2LUghCRQSCQEAY/jz9pgAggsDFF4aviWDNb0+KUGVPD40vSZMFpkJuAKx/YT31fQo+bQD3Q3YFaYbqB0BGjgSEQvjBI765esi3lPUrM+qziPPBM/WzJjIbsbBx/LK5sqxyMXFx7/gusi1WLYzuW+vYKLWleOLEp1uuSPk/BJhJ0pBwEbyR3VFUCngE8Tx9Nbnx6fFOtT+5K/sb+9T+S39rAYiBYUAsQLl+0UDIRMbKVBCgUgZSdJF/DpALdIZpwU/9Jrh5tQH2jznaPvfCfgQoh38JeA0h0KtSAJNDkTZOx80Ji8uLBwhWxRDB3z/BvzqADIIWg+hFWcbYSgzM3Q9UD/CN8IsvB37EpYJagN8/f/3g/ZG+mME5g0fF/0YxhZDES8LFgYY/ZrzeOaM2+TS1M5nzKnJL8Zvwi7At79ZwzbGFcrqxuPB7bplugi4n7RqrdKdUJW1h3CjVciD9/whSC9zSmxF9ERqNZkbxQhk5MfOH8Hmzt7g8u0Q85r1KQCs+3r+qPsy+6j7dPPnAZgYbDUNSkVOF0+jRs02WyLzEHv/ve5n3CDWEONY9HkGlRALF2cddR1KJic3vEJ8SQtDekEXQVI8uTfgKvkb6QjH+U3z7fk6BHEN9RQNHcgstjbKPsRAUzlBLMAZdA5iCTkFRwH6+w37Yf5vA+EK+xHMFJMRDQqKBeYCNP3w9YXrkOG11wTOPMghxpfDHMGYvHq5G7/QwXnHiMn8xKTDp7iBsRWrIaJem+6J0I5XrhjeaxNLLh5GFU+ZRwM5Mh4tDpf2Qts+xcTEytnd7Tv4i/jG/qz6APSB7kPufPfb9AX5cgsqKVFHKFPYVVZR00HcJ14PT//B9YDpc9xv4dHw7QMBEDcUfxmCF5AUdh4JLjxB4klBSS9OtEqLRyQ7WilKGPwBK/IO7Xb2XwQQEaMZFCdFM8I57T6UOpY0XyWkFIUMeQccCJUEXAEdAQcCYwS7B08MQQyfCSQC6v8f/iD6KPYo6xzkVdlKzgXGLcCGvwO8irnqu8vA3cABw3bCAL5KucqreqrAodOW+I3AiLuradU+DcEvYER5VdBIfjwuHesNx/ga3vvMp8a73QXt6/ne+Bb4YPVF6JXk+OKv7p70R/qkDzgrVUu9V8dZ6VLkQEgo6QxDAGD3BvGd58roHfZTA/wNwA4RD9kKwwVqDs4iVz0fUD9WkluzWBhRyUKHLzQcegQe8gnr7PNJA9ARUBvQIy4tLjGLNY81zDIRKqwbJBRTEOYPTA03B2IDcv+D/Vj+LAKqBYEFewGz/gn+F/y6+GPwyubf2YfMGMJGvFe5m7c9tzO6tsHZwgrHUMNmvpa6XqvGpcSaxJNOjEWSb7bu6X0fvzneTPpLOUL/KokL0/597JHggdNP1iDu6P0QAhT5uvCV5rzZMNIi2eLsWvrjCuceiDtpVGpXZ1JDQp4uYhYaATv8yv5mAD39Tf7+A+oJkgceAXT8m/dp+pIKICgDSSdeemZhZeBZJ0qINngjfBJ/Apv4RfilATwPhRnuHcogTSIIJMknOiuvLYcraSS1HhwZOhUqEFsIlQL9+wn6Mvud/88DOgR0Aun9zvvb9i70IO0i4yfXKsiawJm4T7eJtyC4Crs+vcjA6sV4w1m9/LW9rJSjjJeGkNKP36YWy2QDki1HQrlLLz1bMfwSE/0D8yDqzeZP4wnvPQGACU4AjvFQ4kTU9MswyvPdifb+CfcenTB9RtBN1UYlPPQrkRvCCw8GaQwzFUgVchHtDJ8G1f6x8qXtE+2q7hn9gRqyPQ1azmRbZgRdZUiSNdElLx5dF78P0QxZD5wTpxWvE84SIhS/FAka7iMwLrkzNTC7KachvBdBD88HbQUHAycA2v/dAdcDCgPg/sj7CPgV9Z/x+O5d69fkfdkIzEPESrqUuIO1zbk+uPy4cLurueu7Ebf/t3Gw9aZWnPaMmY2rqgXaEBUeNHdG7kU6NGMeagEI+CP1nfLT7DL0uwInEGoK1/f55gvSIsJbvvPM6+2aBdEW2ybiNEA9ljezL/kpxyJMF4oUkxx3K90u4CNJF8sI2fjw6QPiauf87mT2rwpYKiFG4VYvVVNSvkRIM6wrmym8MG8vqCnQIeMa1BIeC7QFNwdvDFMRwRxbKRAyCzORKu8iyBi1EOkMTA1/EWwRWQwHB/wBMPtP9VHwZ/Fa8xv1PffH9rDwO+V51rbIzr7yttqy97SstvG6671nvWK95beMt4KzpawvpK2X1otBlFu4kutAH043CkMQNYkbwANr8mL3wv+5BeAIdA+DFMMR0v4a6TXWRsSlvj/GtOBNAigVah7rHoIdZRqDFNQWjx+UKA8ubTNzOdU9FDUWIYoNzPog8RLrte95/J4EnAnDDKIcESkZMWIy0TZgOsM1FzmGPV9ELT6UMR4kBRjAEWMNlw6iEiYZWxokGlYb2xxuHSMZXRg6GVIbpxzSHA8dABnsD0MEZv2H+Lb3Kfh/+a/6l/fQ8nrtqOeE4VHZB86dxiLBocDEvCu8kLhiubCy7a9EruWu17SSqtSsmZ9UmfuU+6xl2z8NpCsrNQ8ySRmIBAvuE/Y3CWkYqh49HE0bWhNy+2zlF9azzqPMktF446n+Xw2sEFMLEQS+AMX9fgY6HCgxpD+MQ3VB9Ty0LcwdQBJ1DbwKEgqqChMSkA5eB1j+fQXLDbsT0xyYKVg4ETXiNSk3pDhUM04styq4KhEq3ieLJfgg9BzMFfQOvw9vD58TfhUWGbQcQRrzGIEWThXKEroPUQ28DHsJagOl/oH5OPS/7TXqker46F3kGt811pfODMQAvqe6G7kqu0W287bpsOas9akJo2ymjqD5nduX9ZyWv6Pk/xOBJG4rkx34Bnb3JO4BBlke1DU+MwUpRRtwBNntbtg22MfeSeXQ7afy+P7X+kry3+fo5KztLveQDjUmsDvnP284SjCgJX8glxtRJGswTDViMWkjQRlDB9X37fIaA3EUkiAFJ9sqHCl+GnUUpBa5HnsoBTBhOJo8uzcgLk4hGRqNF2kWIRlgICojvyDSGC0RAQ3XB4YJrA/kFrcaWxcGEkIKFwHU91f02POX9Cf07/Eh8Dfo0N8E1uHM5sjHxt/GrcXHwz7CjLqksaGod6YEpXenhaZsoPuXd5TBq5XJ1vSLDygc0Rc5Aez1PPDjBAIi5zqBQpU2OSWWDu37uOzs64vzw/lJ/+L5lfea7evgxNhO1KPeK+2IAdMVxyGOI5EbQBV/E84aLyYkNu5F4knxQwYx5CCmE54KWw2JHEQs9TCgK/UhmhT9A7z/MwpQGbQnki9wMIoqDyAPGK0TIxdcIr0riTCmL3UoixydEXAMtQ2wEwcZJh9LHsQY1Q1KAyb+1Psp+7r9if9s/Q31IOuj4T3aMtWa1EjZSdl62JrNmcg+vzS8B7WmtTC5mrcnt1qplqZrm/6V7o7znJDAyu3lCEsGtf/T8QrsU+NN8psep0VhUco7piMbFKQCwPXk+XIQLB/ZGxsKUv0u71rZgM6I07ro7fcb/EIEggnJBO302O2U/PYTAyYLMm9AdURmOlYkwxkUHjQlNixmPJ9LnEfJMbMbehWzDAIMcBiIKgs0DizcHMcOWgZ2Bd8MjhjnJ0Yv8ihWIMcWIg+9DOcQuh+QJyAozSPPGg0SegjwBA4IYQ5dEFYMmwMK+Uzt6+I/3zjhG99V4IfbwNVzyzHBJ72kuaa6XL11wFa/gL5LtKeuzqRzn/Ccbpo+p5W+XNqC9cL4CPIs5bXfLehE9KcQFzCJRS070yEbCGwBJgU4Dvgfeyu7KvYXL/yX7IfjTONF6nr3IAR0A+74Uu6x6nforOz0950LZh7EI98iiB/NGz4Z0hcXIkMw9DmdPUVDQUB/NNglpSIZKg0s6zDBNKczKyriGy8RwQ27EZMZRCAcIUIfMhetDIoKOQyxElAX9RumHzUbzxTxD5MPHRJeFDgWTBbmEg0KqQGw+XX2efTV8U7wqekK49nXts93yijFcsGiveO8Pbp8tGCxuKxOra+nLKZQoIKcB5uBnve428/V7Z7rKepY5RTlEu6n878SVy6bQSs3RSGaE5ANDxMZG74uSTh+LpkYt/1y9VnswO5u9jYBLAaU+KvpIN9k3xviY+me+AwHVw9QCtUHdQoPDpcU8xkmKfIyXjUGMHovbDl7Oqs3NzUzPYo+9zOSMMIvTi89J38kWCRqIK0bwRc7GIYVghRvEPkN8A9CD0wP8wxID8EQtA6DD/wQ7BOfEqgRPBCDDp0MyQh4CJgEpwGj+xr2fvEB6ufkL97Q2SrU5svVwrDA3Lw/uvSxaa2Mr9mnaqJOmXOVrJSmkhOkWbst1QbeMdd607TUzeGQ6cT++RkJNdI4uSV9GP4SExwoJlI3GkjuRUAyFBXPBt0CIwWgCvYRABcOCGjwKNyB2GbftOaU8XL61vzK81/oIepV9C8DvwvAFmke5B9cGp8XWB/BLDhCi0dTR1c+czssOVAy0DjkPlVCyTyrN2guqyDEGIcauyHsH3Ee9BfDDmIIbwLCBB8HhQx1D6YMRAhRBHEC5gHuBi4LiQ3oC+4F3wIx/dz64vmB+az5kfO/65vjP97q1CrQC8wRykTFrbtdt2Oweal8pWWgAZyZmFqOppgsqsHBc8y5wLPD68hS01/YGOWaAA8biiT9G5AXKxQAHBMkSTOrSqVM7kFrLNMgmh52Gx0f+iaULE8fzgnd9GXtYu4b7hf3l/zl+y7vCN/z3XzkWe5E9Uj+tASRA4b+CfzVBy0SASgNOTM6rzOKKuozrzflO/lEPUyFS69D1z19MxwuTSyUM5M0XS3IKOobnxNADdUMcQ66DFQNkgl4Az38Avuc+p/7mf8LAPwAj/vr9yj1zfM29yT5hPnX9p3yTusE5gvh/96g25/YY9ZYzdvGKr7luaqz+60TrEij4Zz4l3ymSbEcu7K6OrctvYa70MhM0NLf8fF0/0oJMgXFBVcJbxbCIv8wFT4lPWE6HS5aLRwuLS96NWE2HDdlK38dEhG6C8MKNAoZDfoIFgQH+E/ubOsC68rvxfEb9Hv0YvLx72bvI/Vx+7wICR2SIGQbVBQYINgtvCyoM809yEMVP2E9ezwVOZwztTb4Pio5ITahLqsmuCH0Grka8BYBFXYULw8MBh8Bcv48+gb64Pi++k74pPIy8dPt3Oz87QLuHO/B7A7pXuU/4sTgmt152/PWJdZ50izMjMigv369wrhPtD+w/qSiqeqy3bx3vzO5SLm5uVS/RcgZ1CzcReUc8Kf05vdS9hsAww3EFxojiichK/Uohyd5KncvdTMwNSQ3BzSTMFQpYiM+Ik0fch/AG/sXNBNxC9gEIgDv/9T9TPy++PL3jfZO8/rxufMw9SEA4AyODGAJLAaFFGAcDxqkIMIpAS8IL+cxtjOvMeksJzQXOrs1TTV/MdkvIyt5JdckNyGdHn8d8RjCEZUNlgj9A/4AYf3C/fD5LPVe8o3ttOr/6EPoBOfI5RDhm+Dx3TvbBNly1ITRjtB3zpbMg8mbwi3BubunujG2+a++sB+5+sEvw8bAXr+5w9rEGcrq1ezcv+P16GDxMPeb9R76jwU2EWMWQxsZH+kiICPAIwEqUS14Lw0w2C6pLrYrYSkDKAsnjCRYIbMcbRghFmoRRg9BDFQJgAVbAFv9dvyf/CP+9gJnAyUBOv4uAKkItQu6DqoSgxYiGQEafR2eIYEkKSZ+KvMqUyp0KqAqmi1WLJYryyl0JgIkAyJyIBkeWBtyFj0Tpg7lCnMI0AQbA77/EPvU9hnyMu9M7YLsXeoF51ri+97m3V7ZzddP1DfUntBCzKPJQ8awxnfAmsBxvfy4zLWDrpa1gryJw4bHTMPAw1PDd8ke0cvZdN9b59DwT/Lp9OL0v//WCxkRcBhMG0UfYB8mITsnwyxsLyQu4i8LLc4sMyvPKgEtBCl3JU0fFBtYGc4WMBWNEsMQpArkBNX/HP7HAVUBtQcAB7IDX/7x/OwF6wmTDuQPthS+FFQUEhdwGigguCDwJcImSiU3JV0l3ilDKXspWifSJHIiJyA+IHYdYhxFGKAUJBCfCxkKwQYpBWcBf/3N+JvzaPHC7grvBeyx6BLkvN/d3XjaJNn61qDUNdHhzSbLU8iUxafECcFmvS25VbfJszu0G70MxXPITcAlwWPFtsnKz/rUleBC5hfroe608XX2OP3yCIUPbRakGKAbBh+DIe4pGC28L94v+S9KL1MsVC34LvswJSzmJowivB2uG8cXuRhIF/kSqwwlBp0CBgBaAQgF8QiwBpYBeP7u/zAEsAcSDKMPUBEFEqUSKRUBGOwbUyAZIzMjBiIoI70keyfsJ40nwiW5IqEh9R84H58dJRwiGU4UaA+oC+UJEQdZBR0CRv5M+XL04PG37zHuiOsF6RXlluBA3c3akNqs18DUd9LmzRPNmMjAxwPH3cEQwbe6drc7tvq2VsDFw5LGqcTBwjTDqMZ60JfXxN6H4YTpJe5r7rHyAPrOB4YOJxKXFkgZKB0fHyInGy2cMPkvMC4kL6ssWS7TLjIxKDAsKpoklR5DHfsaKxqrGMMVbxHXCJQD5gEwBAEHigf7BqADof9n//wCMAjyCo8NFQ99EGsQRhIQF2waxB7IH+MgWyAkIDsjfCWWJ/QmYiWtIh0gGh9lHmYeQhz/GZgVYhDIDHwJeAj+BUkDO/9q+mb2hfKw8HHu++wz6ZDlMOH33n3cRtqN2BPWK9PDz+3NkMr9yRvGnsQcw/S8N7tutRC22r68wl/KHMV9wVzCzsWRzzbV+trD3lnnTOo+7WfwLvYpBMYJjxDSFNkVBRrfGz8lPixRMP0uXS5QLoQsHi/ZLiwzNDIZLboorSEgH5gc6htFHE8auhW8DJ4HPAOjBQ0GlAZyCUgE8wKA/loBAwYQCEgMOg3yDksN+Q8hE0AYAxy/HBAgNx3nHr8fYSJRJn8lyiYnI+4gGR6/Hd8duBziGyIX1xMODgwLmgm2BiUFugAc/Ur4WvQa8tjvcu7F6lDoguM54KndxNv/2k3YK9ZE097Okc3fy0vKi8q/w5zFOsDzvNq4SLY9wpTGB8xpxu7EKMb4xlvPu9UE4NThLuTh6bbsnvPX9fwAoQnPD5EU3xMhGEAZuiKxKZkuhzDVLEAs6iivLFQwfTGLMFQsDysWJH0fIxy+HMQdeBpJGKkRqwrkBaoF+gswDUAKQQUfAloDsQM+B60JsAxfDPMMgA6pDpwQ8hIhGcYcVhxqG5sZ7hoDHSUhziNSIgsf6ht2G+YZQRrkGUIYHhV8EPANXAqcBh0FrQOMAt/9MfmY9aLyZfAE8IHvPeuc5hriiOEE4PzeG93p2jfYetRp0qrRfM6nzWzNvMo5yTzC7cBovgbAZ8Zvy63O/8oUyMjIxssl0vrZK+EH5A3lnegD7ZnyV/ah/2AHMw1GEO4RTRWFF2wdOiXgKlQszCmkKIUoRipZLWEvzi9BLJYpQSUYIpkfxx4yHz8dGxuGFtcRew02DXAPNA/CDbUKtQkPCDgHdwmEC6MMiQwdDdUNMw2bDcwPaBP/FOEVrRVyFNgTIxQFF3gYFBg+FvwTABK3EF8QBxDPDrQNGwvdCEUGCQTUAtcBoQBu/oL7+fjC9cfzLvOA8ofw++1N7Brp1Oei5DnlfORp4rTgUd573NnZntnL2HnYB9aa1I/ShtApz2rMVM3I0M7TJtdA1k/VVdQF1D7ZD9/d5Hnn6+i/6qztSfF39iD8OACHBMAISQyFD+sQaxNRF4IbxSBVIzkjvSEQITciiyS6JvcnGifyI7IgOR/5HT4dohwFHNEa+heMFdUU6RIFEWQQ9RB7EacPww2rDPEL9gpUDLYNww0XDFQKZAqQCvcKHwxHDUkMrgpyCmEKnQpSCqQLkQueCvIK2AjQCAcIdQcaCOkHmgfwBY0EMgMMAu4BZwGZAOv+Ovx6+0r6Q/gG+Ab3bPXG88zxBPH07mLtMe3c63LqKeh55+PmLOQU5ObjD+MI4jjgq98U3t3cONws21jbA9z73XbgteCR4JvgeuCb4aPkgOjt64HtFe/U8WT0nPa3+Rb9eACuA6IGmgq7DEkOBRAsEgYV7xdZGp4b3xuqGwMcpxxUHUweHx6OHJIa5BjPF+0WJxadFdwUZBQaFJgSmBBIDrcNXg2vDR0OcQ2+C4YJfwhKCeQJ7QkiCowJIQm7COgI4gmpCWsJFApACv0KSAq5CdMJawkUCYgKrwkoCScILAcAB2UFBQbOBKgDiALmAOz/cP+Y/az8nvtg+nj5Avjg9tP13vR48/3ygPEQ8brveO7Q7YjsXew97EvrFuq96e3oZeja54jnNedz5oPlcOWj5KHjb+OD4/bkjuZN6CLp4OhY6B/odOkD7L/uWvE68+T0ufaB+O36e/3e/x8C5QQuCM8KvwwKDv8OEhDDERUUqRUDFoIVdhTPE9ETkxR7Fb4UihOzErsRQxHkD/YPwg8QDkQNBw3JDc8MPwv5CVUJWAoWChMLqwtzCsIJzghjCsYK3QpvC2oLkguMC3EMPwwpDHkL4gu8DOkLAgx0CzkKhwkmCbsJFQkZCNIG5QUlBZ0DfQMYA7sBrQBP/2b+Cv5h/O379/oz+pv5DPgs9+z2ifUG9Sr16fPZ8+Pyb/KC8c/whfCJ8IPv9e4L74Du7u0k7WHtF+1U7Kzryeu76tnpCeme6AfoAOjA6RHs2+wS7UTtHu3G7P3s++/W8hf1m/Z6+DP67foU/AH+dwCqAgQFigdcCS0KLApOChILKwwLDlwPiA8nD0AOGg7nDVIOMg8BD7oOew3nDOIMfwvPCoEKCgsWC5YLDw2xDO0KkwlrCsEKfAthDHkNJQ01C68LuQzGDGUMLA2ADccNJQ2hDcANSwyYC8ULCw36C7ILXgs/CqEIjQcbCTEIkAZGBq8E/gPGAtEBNgL8ALv+3/+a/vL8H/17+zn7EPoR+f/5Wfma91v3xfbs9sH1HPWl9a30BfO683fys/JF8mnwuvE68a7vyu6i7untU+1z7KzsA+0b6x/qD+kp58fmbufS6o7s7O1z7h/uKu0u7A/u9PDC8xP2qviN+r37Wfy2/R//9wBiA5YGOwl5CrAKdAoBCjcK4wv8DSIPUw5VDuINRA17DNQMvA3uDM0LSwydDCMLpQneCB0KLAl8CzkOLw57DIwJzgpfCz8M5w3UD4kPqw3QDaoObQ5VDVoOuQ+2D5cPQxC2Dx4OpQsDDLINVg2gDIMMKQtVB1EImQe2B7EGWgQaBnwDtgIpAm4BsQB7/zn/iP5EAAD9Xfwz/Yz6rPw/+237cPvb+AP6Sfpx9un2IvS78l3zCvGR8VTwU/BT7v7s/OsW7EbqMOoB6M3mn+ZN45/jh+KN4Ifg5N6H3TfgjeI258Dp6+gv6d7oSOl87OzwpPXQ+GT7jP4PAPgB8gPkBW8ImgsYEP4S7hOsEkARIhCREAsSVBTmFP4SBBGSD7oOFw0/DTMMiQybC4cLngq1CKAHAQWuBqwK9w4dEIwOsQyhDGsMdQ7wEjAV6BTmE/UUcBWvE6gS0hMnFI8WsRVmF60VYBBtEPMOiBAvEO4RQA5BDMAKzgd/CJEGTAd8BJ0FLQQLAkUCIP5V/qH9UP03/pD8qfsI+av4XPa89Yn2CvQA8xfxvvGB73Huf+xn6WfpI+d456bkAuOC4Z/fEt+d3MbbGtvg2VrVVdMV0lPPa884zznQXdTY2Ynid+O94DngJ+O66M/sIfW9/Y0DIwVPBugKfg5fEFcTUBf7HZYhziLgINsdkhsFGokaFRzKHZIbghZjEZQP3w18C1gIKwmpCSEHNAUlBK4DQQCE/mwC/AnlDxERBxFHEWwQIBJOFoUdSiFUIQMjkCOpIqogpB/PH28fnCDpIuEijR6fGboVixR8E0UTPRYyESEPdguMCKQGDwMFBJgC4AJdAJf/LP5x+gz52Pht+L34ovmq9mn1VfEN7/LwR+957trrc+pF54rjOeF+4E3eo9qx2GbYg9a00gDQiMyzygLHeMYOxljCor5AviC+bsJby2rXTN9W3N3ZF96t5Drq8fEY/pMJUQ3sED0VYBrwGaMbNSCLJ0AvHTGwL4coRSMbIK0ewx2zH8keHhnfEPcMmQrWBHn+Nv3ZAEkAqv5O/XH97flN9j34TAGYCNAO6xRJGEwaPhkuHTgjPCjVLD0yZjXDNKMx3i79K+opyilILFss4Sj8JP8epBlMFA8TrhMOE88QCw6SDCwGMgL3ADT/vQA6ADYBPQAg/SL4kPY89z327/We9qP0K/LM72Xr6+lb5vDkCuPG4tHdBdk11tjPAM0tyrDGdMXqw0nBq7/muMu1/LHHrrOu2a41uL/Db9S93ODZX9e82Y/i1+rF9V8GVBPkF8oZZh0vI68hGCLAJtIwyTgLOiY27SyWJHwdoRpxG6YdixvYE7AJRgV7AK75WPOI86T4Kvl7+Pb4P/mN9Wvx+fUdAEwK6xD7GaIjmiQ2JYwm8CwMMTk0Kj0CQ4lBbjyFN8AybyxYKvAspi0kKsslfCKWGQ0SBQ6WDm8OHQ0cD5kOOQhlAnkAJACJ/2cAbASFBLwAhP1a/Zn5fPeZ9in3vvao88rwWO7u6C3h8t042tXXndJK0DHMZscJwA28w7u5tlqzfbHCr0etmKWPo4KiUqN4tBPEUttH3Y7a8dsj3nToqfBYAvkSOh2yI/goWysDKsUjtiU8Kpc2+jxqPYszQSXaG4ITVBEIEScTUg+GCDIBGP4c9S/su+bK69Dydfdi/Mb+D/119+n2Yf6kCCERPxv/JRAzezNYNGwyODIONKk380KiR7JEfj0RNmgtOyYJI/sjvyLNIf8gkB+GFjQOdQioBuoHewvoEUcS2Az+Bw0GxQTaA3oFrQlOCV4IgAbQBGD+R/gh9Yr1I/Uz88Tw/upo4tbYWdQgz6XLusXNw07Dr71qu8y0ZLDVqBGnQ6b8qO+kiqL2pX+jKrMev6LZ+N583UHhq+ga9dH4sgTbEsoenSNhK3QwRDEPKKQl9yZ5MNA0CzXYLBghuhhhEDAMjgfnCLkEXwDf+7X83vds7X3mB+qk8nH3dv3HA+MGfwNcAqQITBBRFWsZfSVWL4g5cj38Omg5DDEhNK031jyfPrc5aDRuLWsmwCFXHM0XuRV4F4QaIBkRFT4NXwgdBLQH3Q1CEgIStg9kDuEMTwq6CJcIKwjACGMKdQt1Bp3/GffQ82LwTe/t7qLsP+aq3r/XDtGgzE3GusbmwlbEycCIvQS4cLHLryCtvK65rhut9Kt8qzWpHrcFwq7ZHN8a4WTliuj58hjz9v4wCQ8WORzjJJwppyvfIygfFiARJ3YvajA1LtAlZB4rFRkPpQubDDUJrAdKBi8J6AU2/PP02fEO9Vn2PP3PBHQJPQjtBfkHvgoZC1ENFBOsHdImqS0/NYUzJC/fKT8qKS5yLkYw1DCMLSopziRVIMYZnRPeE9YWnBnHGgoaQxV0De0I0gnUCvYLAA1jDgkPUQtkCJ0FjwBK/Jf+SgAtAQQB+vvg+NPxi+yi7Wfr9upG6CDoCuf53nzdQttq1mbUjtNn1t7XbtPl0M/P5cxSydLKpsuYy07K6Mjxxo3F3cL4xn3MsdSF4Dzjr+id5vHoheot7D7ylPspBJ8KmRC8FW4ZMxalFp0XaB1ZIQIl3SiLKDYmOiKTHkEctBnOFw8Yexf1GPQW/ROcDxMLLgjDAzQDCwTRBT0GzQUgBhYG0gO+Av0CTwYfC0wO/BN/FfsWKBaeFZ8WLhYkF/EY5RqGHJccJBxfGpMYMRZBFzsYbhccGjUXIhhrEuoSCg7WCrMNTwniCkYIiAbUA0YAnf03/AH3gvvp9nH4HvYE9bT1ne8o9lLrZ/Mo79zuDvJo7XfxAOtw8CXqjOsR70zrI+y87ETrfekz603o1+jf6ermRen/5/nltOcp5eTmY+Ww5pvlg+T85Yzj3+SX5ennJesJ8CDyvfO+9Xj1Mff499z6L/4iAVcEqwYPClUL2QsKDMELXgxvDd0OHRAzECQQ8A5eDpgNPQ3ADAEMJgzVC60NIQ1kDVkNmgvcCk0K7QrrCoYLdwsNC/AL4wvlDHwNAQ+QDckN9g7cDQwQyQ4vEXgPdRB2EdwPExEGDkoOGg0hDC8M+AtDC34KmgiRB9cGwASTBKwDNwIjAqQBAAE7AAgA6v6V/vz+YP6V/lv+bP5I/Wv9Nf1H/Ln8evy+/F/8i/tI/JH6FPqX+Tb4m/iM95b3sPZL9tz13fQo9VP1EPUm9bH1nfTh9O30hPRH9RL2N/fR9574yfi1+Gf5q/nW+fD6NvtW+8v7rPs/+8D6RPrr+eX5pPnE+V353vhu+CX4Mfju9/b35PfW9wv4U/it+BH5Mfnh+Yr6Hfsg/Jv8U/0B/ub+zP/OANkBswLwA6kEywV6BpAHSQjaCN0JSQpGC5ILGAwcDEIMOwwGDOoLiws2C6AKSAqgCT4JqghQCKoHOwf5BnEGEQZ2BfkElQRKBBsE5QPxAwEEvgO8A5EDSgMSA/sCIwM5A3QDggOHA74DZgNaAzIDIwMwAwoDDAPQAtcCawIuAr8BowFmAQwB1QCsAPb/cf8jAaL/uf5D//L+h/9v/kv+lv5l/ln+8/2B/Yf9aP0D/fv8P/zl/Nb8W/yO/CL8Z/wh/C78Nvxv/HH8d/yn/Iv8TfxZ/Dj8I/xa/Fv78fvO+4T7L/vP+tT6Svpd+kz6nvpY+qv6tvrR+gv7Bvt4+2j74PtU/MD8N/1q/cn90/0U/lr+p/4L/yz/aP97/6f/u//A/+H/1v8MABwANgBgAEQAbgBMAFAAZgBlAJcAoQCJAI4AtQCyAN8AAQEtAUkBgQHBAesBAQIqAoECtgIPAzkDcQORA7YD0wP1AxcEPwRoBIgEqASeBKgEmASLBKAEmgSFBH0EYQRLBA0E1wOyA3wDSgMLA8oCfQIoAtEBdwE4AQEBzwDCAJgAcgBzAEQAQQAxAEgAbgBtAJ8AlQCTAJMAdgBoAGQAUgBWACoACwDO/4T/Pv/b/sj+kP6S/nH+Z/5i/iP+9f3C/b79tf3L/fz9Fv4v/hX+Cf4i/gv+N/5y/q/+2f78/i//SP9r/4D/yv/+/zkAdQCOAK4AngCfAJ4AnACmAKsAjgCGAGwASQAdAPL/4//U/+7/7f8HAAEA9f/f/+X/BgAUAEAAZACQAJoAqwC4AMAAuAC5AN8A+QAhAQ8BGgEVAQEB+wD2AAIB/gAQAQMBAQH1AN0AwQCQAIQAcwBbAEgACwDv/7D/g/9c/0X/Sf9F/0L/JP8V//3+Av/6/hT/Kf8//2D/Z/+G/5D/sv/J/93/AgAaAEAASQBfAG8AcgB6AIMAnQCjAKAAmACKAHsAbQBtAGkAZABUADcAHgAMABEACgAAAP7/8v/p/+z/4v/i/+//7P8NABYALQA4AEMAVQBLAGwAcACJAJcAsgDcAOYACgEHAQwBGAENASIBLwFFAVUBSAFNAUYBOAEtASABKwEvASUBDAECAe0A0gDEALUAuwCqAKsAqgCmAKUAhACOAIcAmwCwALMA1gDEANAAtQCwAKwAngCuAI4AkABxAE8AOAAMAAkA9f/i/9H/vf+1/57/mf+K/4X/eP9s/2X/Tv9E/zf/Nf84/0j/Vv9b/1X/Wf9i/2b/ef96/5f/vP/T/+//+P8HAA0AIgA4AE0AZQBvAG4AZgBrAGEAZABjAGAAbwBtAHUAcQBxAHEAXgBpAGkAZwBxAHEAeQBzAHEAYABQAFIARQBeAFYAXABWAEgARQAzAEsATABoAHQAggCYAJ0AqgCiAKEAuAC+ANMA0ADFANEAuwC6AKIArQCjAJIAjAB/AIsAbQBrAF4AWQBdAFAATwBHADoAJAANAAAA9P/n/9//0//M/7n/qv+N/4H/cf9r/2//cf+H/4r/kP+Z/6n/qf/D/9j/7f8FABkAKgA0AEIAOgBaAGEAcwCGAJUAmwCNAJEAkQCaAJ0AqAC4AMEAxQDJAMUAwQCyAKoAqACiAJwAlgCKAHoAbQBkAGMAUQBQAFIATABIAEgATgBDAEoASgBSAFgAVwBcAF0AYwBrAHMAcwB8AHwAggCDAI8AlQCZAJoAiQCQAIoAiQCAAHUAcgBhAEYAMwAhAAUA+//k/9v/z/+//6//oP+f/5L/l/+W/6P/q/+5/8j/zf/e/97/4//s////AgAQABMAEgAZABwAHAAcABoAGgAXABMAFwAOABUADAAUAA4AFAAeABMAGQAGAAkAAQAAAAcAEQAcABoAKQAmACgAKQApADMAQgBRAGEAbgB9AIYAjwCdAKgArwC0AL0AwADMAMcAzADMAMYAxgDAAMIAtQCtAKIAogCeAJEAlQCSAJAAjACGAIkAgwB6AHsAeAB7AH4AegB2AHYAdwBzAHYAdQBzAHMAcABzAHUAeQB0AHgAeQBuAGoAZwBmAFwAVwBLAEMAPQAyACcAJQApACgAIQAfACAAEwAWAAsADwAZABUAFAANABAACwD+//P/5//p/+X/4f/i/97/3v/X/+H/2//k/+n/4//m/+v/7//r//T/8//6//7/AAD9/wIAAAAAAAkAEAAYABwALQAyAD4ARwBOAFIAXwBqAHQAfgCDAIoAjACPAIoAkQCPAIwAhwCBAH8AegCCAHoAdQBvAGsAbABoAGYAYQBmAGgAZABhAGEAXQBYAFkAWQBfAGcAZwBmAGUAZABrAGwAcQB0AHMAcwBvAHMAbwBvAG8AawBnAGMAYQBZAFIASwBHAEgASQBCAEIARABFAEQATABNAE0AUABUAFQAUABJAEAAQQBAADoAMAAuACQAGwASAAcAAQD8//r/+//8/wAA9v/x//L/6f/m/+f/5v/e/93/1//U/9L/zv/N/9P/1//S/9T/3P/h/+v/7//7/wgAEwAkACkAOQA/AEwAVQBUAGUAbwB4AIEAhACKAI4AlACUAJYAmACVAJYAlQCXAJsAnACWAJIAkACJAIcAfwB2AG8AawBqAGYAZgBgAF0AYgBkAGIAXgBeAF4AYABjAFwAXQBdAFkAWABPAEoAUwBOAEkASQBJAE8ASgBHAEgASgBVAGAAYABrAG0AdAB5AHAAcABxAHEAcgB7AHoAfwB4AHIAbwBxAG0AaABpAGQAZABhAGEAYABbAFsAXQBbAFsAVABOAEgARQA/ADYANAAwAC8AJAAlACYAIwAoACIAKgAsACgAKwAwADsAOQBAAEIARABMAEQASwBHAEIASgBLAFQAVgBbAFsAXABiAGYAaQBqAHAAcwB9AIAAfgCGAIkAhgCHAIIAfwB9AHkAdwBtAG0AaABnAGAAVABWAE0ASQA/ADYAQQA4AC4AJwAdACIAHQAbABQAEgATAA8ADAAPABMADAATABYAGwAnACkAKAAxADEALQA4ADcAOgBGAEgARwBPAFAAUwBSAFUAVABPAFgAVwBfAGQAYwBbAF8AYwBiAGoAYABkAGMAYwBjAGIAaABpAG8AcAB4AH4AhQCPAIwAkQCbAJ8AqACpAKkArQCuAK4ArACtAKgAqQChAJgAnQCbAJUAigCDAH4AeQB6AHQAagBkAF8AVgBRAFEATgBLAEkARABHAEMARABJAEYASQBCAEQARwBDAEUAPAA+ADwAPQA4ADIANAAnACkAJwAhABoAFQAPAAwAAQACAP//9P/1/+n/6//m/+P/2f/V/8v/yf/N/8f/yf/L/8b/xP/M/8v/0v/W/9j/3//r/+z/8f/5/wAABQALABEAFQAaAB0AJAAeACkALQAvAC8ALAA5ADkAPwA7ADkAOgBAAEUARwBPAEoATQBVAFgAXABlAGkAawB0AHkAfQCFAIgAkQCVAJQAmgCjAKsAqwCxALEAtgC3ALgAvQC8ALoAsACzALMAsQCxAKwAoQCgAJsAmACVAIgAhACAAHoAcwB1AG4AaQBmAF0AXQBgAGAAVgBQAE0ARwBEAEAAPgA/AD4AOgA0ADcAOgA7ADYALAArADAALQAtACcAHwAjAB4AHAAYABUADwAJAAIA/f8BAP///v/4//r//P/5//z/+f/6//z/+/8AAAEA//8AAAAA//8CAAEAAAACAAgACAANABEAEgAYABsAJAAnAC8AMQA3AD8ARQBNAFAAWgBeAGUAaABxAHgAeQB9AIYAhwCMAJIAkQCfAKUArACtALIAtwC4ALgAtgDFAMkAxgDFAMcAywDMAM8AyQDKAMwAwgDIAMYAxQDCAL0AvQCvALEArgCgAJ0AnwCUAJUAkACFAIcAfwB/AHQAcwBwAGUAZwBiAGAAWQBUAEwASQBMAEAAOgAzACwAKAAeAB4AFQAQAAsAAwAHAAQAAgD///v/+P////7/+P/1//f/+P/9/wAA+v8AAP7//P8AAAEABQAJAAwADQATACEAIAAkACgAJwAtADMANwA3AD4AQgBHAEgASQBOAFQAWgBXAFwAYQBlAG0AdAB4AH8AhQCJAJAAjgCUAJgAoQClAKoAsACvALgAuQDAAMMAxADFAMQAxADCAMkAxQDDAMYAwwC/AL4AuwCvAKsApgCcAJcAkgCDAIQAgABxAG4AZwBjAFUAVQBLAEcARAA0ADEALwAuACoAIgAeABQAEgAYAAgABgAFAP3//v/4//n//f/4//H/6v/s/+n/6v/n/+X/5v/e/+L/3P/g/9z/2P/T/9P/0//S/9z/1//g/+L/7P/o//X/8//+//X/7/8UAAsAIwAmACgALgAoAC0ALgAsAC8AOAA1ADoARQBJAE8ASABOAFUATwBXAFcAWQBdAF0AYQBhAGYAaQBrAHcAaQBtAHwAcQB2AH8AfAB7AHoAgACKAJEAkQCRAJEAmACXAJoAngCUAJkAlwCWAJUAkQCIAIUAhQB9AH0AfAB5AHQAcQBsAGkAZgBdAFgAUwBQAEsARwBHAEYAQAA9ADYANQA2ACsAMwAxADIANAAyADQAMwA5ADMAMwA2AC4AMAAvACsALwApACcAJAAoADAALgAtACgALQAzAC8ANAAxADoAPgBCAEsATQBSAE8AVABVAGAAagBqAGoAaQBrAHcAgQB/AIAAgwCHAIsAjwCWAJUAkQCbAJoAnwClAJ0AnQCgAJ4AowCkAJ4AowCmAKAAmwChAKMAnwCdAJwAnQCaAJgAlwCZAJ0AnACWAJYAlgCVAJMAjgCJAIsAjgCLAJEAjACJAIUAewB9AH0AfAB5AHMAcQBuAG8AbQBnAGEAXgBdAFoAVABWAFMAVwBQAEwAWABPAFAAUABOAEsATwBRAFAAUwBOAFEAUABKAEwASQBIAEUAQABEAEcATABGAEoASQBFAEcARgBIAEMARABEAD4AQQBCAEAARQBBAD8AQABBAEIARABCAEMARgBHAEkATQBPAFEATABUAFUAVgBVAGAAggBcAH8AewB1AIkAegCLAJAAmAC9ALoA9wD0ADcBJwFLARsBLwHKAPsAYwJ3AEsBhwDHANEAugDJALkA0gC+APcAYwBjAcYAFQa/BPoEYwPCAdT9ugAyBfX+jwIh/14BpgBnAC8AJ//M/+T+9gBB/9z/MP2i/aj10vp6Amf/5APmAskAWf1JAwAEgP48AeoCTANqA20BFQINAtT/CwAWATgBwwHBA6MCXgD9/wUBCv8M/08AIgDSAHL/pv8l/wP+Yv5g/hT/4/2p/uD/tv9L/8P+9v3f/az+Xf7Q/yUAogD2/5//NQDA/wsA5/9dANwAw/8uAaADyAHmApMBkv+s/9D/jAJfAGYALwBwAFoBKQBq/5z9oQM/BgoFwALlAOkAZf/j/6v/3QBG/8AADQAM/3j/jf3w/r/8Mv9YATMClgNxAkAB8f1i/iD/bQHpAM4AVwAk/+b/WP1j/tj9TP9f/9n/hwJfAgsCu//G/lz+Q//XAFsDKwL6AA4BDv46/8D9sv9oAEoB6QFt/9j/SP2Y/jj9dv0a/kT/Xv61/dD97voc+wj6wftP+578Ifzn+oL66vgv+kv7IPxT/an+9v0Z/ir+BwFsAdUA1wFsAtMD+wEbAj0D/gBQARkCRQD1AYoB7gJCAmABcwJ+AMMBRAAZAQUAYf8LAM8AUQKQAdACDwF6AdsAmQArAgwBRgIzAYwBogG2AQgCggH9A2kBXAOVAnACSASdAhwE3wJuA5wCzQNpA4kDFgM0AmQCVgF2Az0BCwQsAh0BEQPXAEYCggGbAI0AAAFK/x0B4v9a/43+bP0F/gL9CP+3/O/8Yvtm+YL5bPn6+af4PPgq94T1CPUr9U71L/Te8S3yDPHX8IrwHvAb75LtSu3O7Gvt8OwH7tjsbuwx7J3tZe7O7r7uzO7i78jvt/KV8+b1FPcY+fP7Zv7IAa0EpgdICisNnBDSFBIY/RrZHEgf0SFyJNIm7CgaKlgqXCu9KyIsjis9K7YqBSklKJMmJSXiIuofFh5hHJkarhiqFjoUrBE7D/gN/AtBC1AKawgQB3cEVQS6AsQBbgEAAK8A8v5M/pP9Cfwl/C/6J/m8+Db1XvQi8n/vSO7T6tLpm+iM5o3jHuEG3SnbMNlZ2EXXH9Ue0ufQ6MwtzFXN1smnzC/F78YSxYvF38etxQPHgck72DLg3+FS2jTZguTd7ir4I/97BecJjQcpCvYSax+zJc4l9yelK/oyETIjLwospS1bM/I0/TMiL5Ip2yBHGzMcYyDVH4IW0Q3KCQsIpwVAAz8C3APtAkUEegTiBFcHmArXEdYWvRpEHKwdHiETJhMtVzInNXE1cDQXNQw2UDhBOHE3KTUEMuUvsipgJmghQx56G3sWqBD+CHcChvyk+Z/3u/SZ8HnqfuXu4bvfcd873/7fTt5R2zDZ29cL2JnY1tjd2X3YKtUM1B3Rl9FhzxjQOs7AzXDJbsWRw8i9P7+iu86717hwuvS9vsNqySzHoMj6xtrNQdkn4SXotumm76v2Af7NBLILxRSKGGsfCSQhK5suoiyXLwozPDrEOwQ5FDT1LzMvqC3FLacpuiXXH1oZVxZYEoYOdwnyBIwDvAEZ/8f5F/cq9pr4Zf3C/gsBcP6LBbcLOxP3Fd8Xxh5BIG0oVixJMhwz9DKlN/E6Az3IOj06FjiLN4A3EjXaMj4q5yWnIoIfSByOFDoOOAcAA/b+4ftC9zTxd+146UHobOU54gHgK95B33PeBN4v2zLaotlj2knbstm818nU7dN607XSaNBzzsLJgsfUxRDHXMIGveW4vrUttxe30rzpvgTCbMLJwn3DNsXJz/7YL+Dp4kfnt/CK9sL8bQL7DZoYKR7/IZMkaisTLjQzbDjDPQ5BqD33OrQ3WjjuOIQ3rTTYL2csECUVHxsaFxfOFDQPhwtzBqYBifvA9wb4tvg++MP0hfNr9Vv5S/kS/uEFfwpvDloNjxMHGVgcIyQQK1YvZC9GMLwyPTdUOOs5DDz/OIA3kzPYMagwjCx/Kdokqh/FGG4Txw36CRAGSQBv/FP1fvB57Gjpcuev5T7j599b3nPcRdxx3CDcmdsg2knZoNl719HXBdeK1wXWFNZS1CvSc9DkzVDP+sudy+PHWMUKw97BMr/0ug2+nMLNyu3LgcbyxYnGstAT2mrfpuGz5AftPPQP+8X9jQaRDy0WhhxaH5Il0SixK50x3zcQPRc7QjiKNUg4jznBN6k1tjDyLsspTyS2H9YbaxgBFJAQVQxNB1EAUvtO+xH7G/rc9ULyFPLW8er0l/db/af+FwMhBoAK0hC5EOcZpB4+Jo8pGyooLoYwgTUyNyM7xDmzOKI3NTU8N6AyGzGfLA4oGiQ6HTEZrRI3D/sIqAT4/lD4h/S57sLt/enC5pDjeN8B39Lcod0s3F3cH9xR2qnbOdli2xvbi9qk29vZN9r61zLYodeI1+jSGtEw00XR1s/dyhzKicklxcXDicKAwA3C+8fs0PDQf8pIxz3P8dvV4ezir+Qm7s33rvvD/a4Cow3oFnEcCh9yIvon5yo9L0wzgTlHO/w2yzPdMxE3cTYMM/EvBS7xKnAjmh2yGRcZhxb3EFsNcQikA5v9d/uv/MP8mfnN9OHzPvWz9gL4T/wOAx0EQgLCA6kM5hOuFMgY3R44JP8iDiQ9KsMu5y/sLw4ztzI4ML0tXS6fLwgsfSg2JLYgCBwVF0kUCBGrDBwGygBg/NP4efUW8kzwjO2q6VjmdOTE5NPjRuME42fjquLz4G7hCOK64mHipuHY4CLhUODB30/fst5P3W/ZptgY2T7XoNPWz93QCs9ozBLKl8e5xVHCSMcHzRrTStEZzKTNotII3hfiPOOd5lnuvPjt+sH8UAAIDBQWhxhIGi0cbyQnKNAqSS7EMWo0yjCYL4YvJDLlMfgtZyyHKZQnyyDCG4YacxkVF7gQRA0ACpoGHQKF/nn/uv62/OD4C/jF+u/7+f3i/vwBgwIaBEEI7AulEYsT1BcPG/gchR9DIa0lvigfKw0rnSv8K00r0ysyKoMqPijUJEkikR6SHPsYsBWmEY8NDwk7BG8Bdv1m+9r33vRY8inuJexK6j/q/eit54jmauU+5W/jJeQO5JDjZuI84DXgAt9l3wTfgt6M3BLaSNlG1kzVl9RI1bDTgc71y8bKh8vtyG3F98WmyuDRINPMz4nOtNHI2Kfeq+Ki5ebpgfDN9u768vxZAxgMnhI1FSwWjBuDIaUl+CdtKtotPC7+LMsruC0HL9otMSytKfUnryM4H7IclBtOGjUWFBKJDuYLYAiZBIsDoALCAdT+k/xh/Bj98f/tADoChgK5A38GVgmZDbgP1RLcFWcZTRu9G04fiCIsJsImWyeCKCYoyigZKM4oCihxJlIkYiGMH1IcOhr1FqgTSBDYC+YIxAQQAq/+vPv8+Jn1EPPP73Lu6ex168zpB+gO5/zle+RE5NTimeIU4eHfkN4j3cfcQdvX2sDZMdk61zbX6tPq003RRNAI0TrNzcxQypbKtcljxjPFtMnx0bzWy9OazDrPRdsQ5c7kKODN5rj1Y/1N+aH27gBWEKAVchGLEUYbHSQsJTMjRCeuLrsvUytjKTAtRjADLi8qQSrXKk4mdR+vHEYeGh5VGDkTiBJzEW0MxwVlBCUHGQfgAav9f/76AI0BRQC0ASoE5wTcBLwHhQyoDpYPKRJ1Fwka7RirGoEf/iOlJMsjvCXVJ5QnTibTJv8nYydcJLUhDiHWHmsbBhhOFnQUjg+JCogHnQXyAZb9pvq7+Nr1qvEe7x3ua+wZ6oPns+af5VDjw+FN4aThjOBd3lHdxdwF3C/axdlz2qPZNdiV1N/UJtUE1HfS89Dx0aHQC85yzFzMMct+yePJ7sxs0mXX6tbp003Swdmu5WXoPOUe5ozyVP6v/fP4AP4DDScVDRPnEIoYqSNIJQEjVCTDK+Mvjit2KEQrRzD5LpAqTCl2Kl4oGCEQHhMfOx8oG5QVchRUE+gOsghVBkAIHQhxBHD/bv+oADgBxgFbAc8C2QJ7BE4HEwrgCzYN1hBNFDMXGxeWGN4cviAZI4IisSN/JZkmSSbqJdImtCa8Jf8i9yDxHpMcsBorGIAVHRENDeIJKwfSA5T/y/wh+n/3lPMe8FPulOz96mfoZ+bJ5FnjCeIu4drgX99v3tXcnNvW2hja/dr/2H3XX9jC2HPWG9Hy0qXVDNVE0MHMJtEi0AjO4cofy3fLyMqszwzX3Nub1D3QutbP5Drr0OIL4uHu5P6a/yf2AvlnCG0VhBIgDuUUESFuJV0guCFaKRgvgCz1J44qXC7mLhMruykJK8MpqiTyHi8fjB+vHM8X+xRZFX8RqQrgBawGigixBYUAqP0///L+1f1q/70BZwIiACwCeAeqCUkJEAslES0VRhXnFF0YwB1AIFYhICKoJA4mTyWMJcEmWygAJ8ckWiMEIpgfNRz3GmMZSxYREccM2gp8B0MDSP+S/SL7mvY/8uDvyO447JXpfeco5lTk4OFU4PDfJ+BB3zjd0Nsk25baNtmA2GDZ/NhN1+HVZdZf1trU5tJY0YnSdNFM0FLPvcwNzRrMdcqDy4XPgNgM3MHVidAz1k/krupk5KbhQu7V/W4AuPdo94EGPBQwFWUPnBKpHjolOCM1IWUnBi7ALbcpPylALcMt5ivBKu0qfykYJNofhx4bHqIbUBhWFgsU/w/5CXkG/gWcBQoEOwE0/6r9D/yd+tD82ABwAicBr/+YA8gHgwmxCuQNnRI+Fd8WPhj1Gjse/iG2JDIlZiUdJkMn/idhKJEoFyhiJusjTyGiHvAcUxvSGFEV7xAbDeUI9wQIAr7/0/zG+Bv1Y/LH77vsRuop6brngeU344vhSeE24Lvf6N5v3mrdCNxb2sfZU9pA2vLYutj12R7XttVu1LXVjtRe0svTvdO00LPNnc6zz0zOZcoazRzV6d0w3bPTLdLx3BXshevx4cPkSfaYBH7/M/Vu+vkNjBmOE68M+hSyJJooESGbHjsoPjGMLt0mqCbYLfIvtyrCJskohin0ImYcsBsXHkIbIhU9Eu0RzA+nCJoCmwJkBZMEUv/D+xr8bPz7+rP7zv8yAh0BowCnAxQIGArrCi8OihMhGKoYMBh+GzIhlyTBJFIlxSdXKXYoxyfsKGcqwynbJocjgCF1H90cYho6GI8VqRBUC2cHlASQAd/9ufo++I/1gfHw7KfqEOoy6drmXuRl45niAOFh317fMuDL3/HdtNul22PcJtuU2rfaPdzJ26TXV9XN1Q3XANeo1JXTT9RQ0m7P8c0IzmLPsMuWyjbQ9NcA3Q3X49JQ19jhi+gR5SPjyuvC+h0BlPsu+O0B0xDsFTkRVRFaHO0m3Sb2IDAjRyy0MHcs1SdkK98veS4JKYUnUynbJmwgxhuPHGEcIBffEYwQxBDsC/EDXAATAj0Dkv8v+3z69fvM+nj4mfmz/nECXwF3AMwDlQmjCxEMMw+rFa8aJBvkG+YenSNfJj0nfigtKlkr/iqlKuoq6ypyKecmjSQYIsIeYxsPGfcWPBPKDRMJ+gXRAov+UfoZ+Hn2VvP67lLruem+6B/nIuUf5LvjbOPh4UTgt99s4E3gZt8K3urdst3Q2wHcOtvD3Gnby9kW2M3WUtdK1VLUMdJP0zTST9AezgbMi8xoyt3Jj8vN0UHbXdyt1bzRBtlD52Tr2+QF5o31/gXaBPn4XvuPDY0ccRllEjIa5yl2LkolDCKRK5E15jKSKusrBzLUMZspXCU6KdUpNCI7GrEZ9hpEFpgObAwsDmcL/wKN/Nn8of6d/G34GPi3+Uz5K/Yx9ej5lv8hA9oCLQQ5CJgMsg7gD2kVVhxCIWEi7iLZJbYoxypCLEIujzDkMAQv5CyzK4Ar+CnhJucjGCGhHeQYnBSGEcAOlwq8BbgBwv3++RX2ufOJ8mTwiO0Z6tznbub35Tjl6uSM5IPkxePK4dDgVuCM4Pzgd+G94NneU9sG29bbWN0e3OHXsdV41n/Y89PVzivNvNAG073Mq8l6yNzJX8mDw9jG385q2jjd2tPKz6PXwubU663k1+XS9yUK4Qng/CL9qg/GH8Yd4BaUHqwuszPsKJwjjy15Nws1/CokLMQz3zE7J7MgmyXfJx8fExWqEzUWrxGSCNgEQQdTBkf+Pvfv9lz5Sfi99Kv0i/f494n1q/Sg+DAB/Ab5B5cH8QorE58WihZ6GdIhSSoTLHsqECveLX4wvjH/MY0zSDSVMvEuMiu7KRsofCTLIEAe9RptFQwPewuKCbQFoQBV/K357PbP8rfvo+737aHs3enb5wznC+dG5vHlUOYP59DmZ+Sm4tThHOI74sfh1+Bd3+zcpdnB1//X9NeL1mPTttLC0dfODspgx0/Ix8ikx7fEKcVAxH7Aar+4xWDVpt1S19POmNPb5nrwPOgx4wj13Q+GFjUGGv+pENYliidUHXch+zO7PA0yNyf+LDo5dDiFLY0rujIUM4gm5RrzHI4hnRvHD5wKWw2LC5YB9vnr+k39Vvnp8XvvX/IY8+DwLfDF8zH3pPcL9vX4bf68CCYRjxJZEnoT8B0PI4cjDyZXLRg3njezNDQyqTJcNUY2YTajNYc08DD8KoslGSNZIQod7RiMFggTVwz3BJQBBwEU/iX66PYT9Unzw+8+7vbtm+6g7nDt3evS6vjq5+ue7IfshewN63DpUuej5XrlueQC5DfiNN4u2z7X5dXV1A/QvM6ozSrNasi/wAvAwsGWwh2/g7sGu6u9WLtju/3BadHI3X7YYNEm1X/obfM272jtL/85GTUfpxJ/CzIari0OMNophC27PAFDuDcrLNkuijc4NgssbShkLa4r0x0iEGMOuBFdDfwCYv0t/pb82vRn7Ujs5u5b7q3rO+s/7hDxG/H+8Wn2ffse//EAQAVcC74Ujhw7Iy8n5ibdKXQsoTNFOP451jxKPX89vTnjNHcy1TFDMlUxoS3BJ08h1hrHFtATQRGmDhILLwfPAuD95Plp+Cz4gPhi94z1cfSd8h/yuPIc9P71ePWU9FbzWvJm8mDypfHn8JLvgO3b6cbkkOLA4QbhU97w2NrSO89sywvIhsM8wQfDKMIBwN25Fre2tIuz+rJssyu2jrbIuxbERtES2kDYTtYZ2zXsDvsN/QD9qAeoHDYogyGjGToh/DGnOuA2XDWaPCVBAjryLW8q2S6jLiAmzh7EHkIdPhI5Atf6Iv2V/ZD3A/A/7iPvz+sL5nHjO+bR6vjt7PD19CT5cPsA/iMCSAn2Dz8ViRkJH4IkSipgMHI0lzfXNUU3izlDO5o7iDjEN5M1RDIBLnEoeSR9IdUe5BsnGNcTJw9uCn0HrQa3BdsDDQIOAXEA9P5z/Qj+cf+xAAIBJgA0AFkA2f/z/3n/DQB0/4v8q/lN96z1f/N277Ts8+ks51biUN3p2fzWVtOxzXvJbMbQxGbCvr1Zuh67w7sHvky5I7ocumS6X7tguRi+P7+4v8rCI84l4QLwYO1t6Ejp9Pi7BjgHsgf2EQYnkzFKKmEfiB8fKXsuhy0eL+I19Dd9LCkeUBf8GE4YJxFkDVkQdhFmCJf2TezE7OPxCfTh8svzl/V89NjwnO4l8aT3I/8RB9YNvhIOE4YSIxOpGP4fTSb7KSQsBi6MMNY0RzOVL/sqni0uMscvtSv7JnAlBSP7HVIaDxfaFKoTGRJREYsQEg6FCnsHygf6Cs0LPQuAC+QMDQ3WCk4J0gnRChILkgs+C6sJhgauArQASf/a/ZX7L/hG9Grw4+t/6Nfkk+Gy30jcTNkc1RnRxM/OzFvJ+8h1yNnJ5sVIw0XF48SHx8zFGMeDyDfJcMupypXKWMuuzJLNWs4czg/Uwd0u7zD6SPev72Tu+/slBEUDCARWErkmtyrUHigU3BUeHVQdlx1MJhYyDTGxH84PxwyTEO4O3QkZDQEWbhb3B9f16e4U8sH3tPvX/w8FfAUNAGn51fYB+zsCbQrzEtsYLxvSF4YT3xHSFd0cmSMsJk8nmC7wMGMsFCCTHQYlqScdJ4skZCZKJhgg1RnNFOkTMBUDFbkVgxdfGUkWfw6pCW8Llw4cD/8PBRMHFHQQngoACK4G4wXRBqEIDgqeBzYBqPtO9wf2WvWj8xjzMPH97nLq0uRL4CneodwK3Wjbm9p22OfU49HSzg7OfMspyX3Jtss1yrbJAscqyjzKnch2xnLCs8W1x8PKEMjIxh3HN8vS04Dj2PPC9nPw5OxU97IBeQEeAaAP1idEMxUp3hoOGeoeSyB8HyAotDc9Op8ohhOOC2wO3wz2B1MLbBUPFyUHcfIZ6bvrOvEg9ln88gItBG/9WvaA9K75+QGxCoYTexrfHM4a9xYqFqUZ2R/SJXYomSjyJ/ArNi3cKeEiGCBoI30iZSDgHlMgLiACGx4WphKOELwP0A+xEqMWNxjCFFMOhwqYC1wORRAfEzoWKRZqEZcLlwjzB+0H9AhgCscJIAZb/+f59fYC9nz2PvVx81Pw8+wx6dnknuFm4AfgEt5a3P/aLdtw2cPV7dJn0XzRlNB1zufMxMx6zYnNp8pzybfIhsiXx5LGxccMyBDH5sXExOnEUsog19Hq4vbW9OXrReut9/kB3QNkCKUa2i++Mpoj1BdcG6sj5iSXJe8v0DtLNu4fIA3MCsQP9Q0XCdQL5BHPDfn73erg5iXs7/Ga9SX67P4G/qD4/vQ79yX+bAUQDeIUDxuEHfgcVBvgGysfViQkKHgpNSmjLPMxMTEnKlghCyGDIo8g6R5+HzciPx/cF64R4Q2WDEUMPA6hEloWVhXfDwQK1wcTCusMehAYFLUV1xOtDtMKTgmICCMJuAonDGgK5wQ6/yD75vhU95H2+/UX9KHwauu153DkgeLv4O7eud0W3JXardi01vzUlNNB0G/OxsyczJfNw8swzLfL+cySzTbKUskdyBLJtcpfy4vOeM1LzNHJrMq/05PhhPMg+q/31/IY9dT+FwNoBXgNRx9XL2UuJiJIGbQZdh2ZHkwjXC4UNaosgBlRC/MIbglMB2EGFgx+EcIKnPqX7Azqfe5y89v4pf6UAwUCq/xf+fD6PAHUB88PuhdAHe4ecRyEGuYaHB4ZIoYl5SczLRszETPeKyMiiCCaIQohiSAXItQlxyNfHPgUzQ9ODe0L6w2hE7AYMRgXEqwKfQaSBg8JZQ0REtcU2RNlD3kKYAYuBNkEQQi3C4gLRAfqAJX7wffh9Zn1lfXN9ATyE+7h6Tzl3uHt3+zee91e25fZntj21a7SNtCCz3XPQc0czXjOZdBKz6TMdcyPzc/NbMzAzX7Q29K+0evPudCWzx3QNM940vHbTOnJ+dv9rvbH7VPwVf5sBiIIMw6NHsMrOCZsF/gR5BgjHh8d8CCCLtw1MykUEz0IKQzDD2AMygqNET4WqA3D/E7xCvFN9Gf3vPzgA0kIkANu+z33Xfml/5UFkAz+E1oZTBrzFoQTaxPzFpIcBiL1KFAwRTOdLgQlmiDqIYYk1SXwJo0qICvxJdgdtBYeEygRdhFqFRwa5xrTFc8N4AdtBZQFGggQDKUPQRBGDdUIIwRSADP/owESBsUIQgfmAt39SPme9kr1CPYA93z2jfRS8GbroOY146bhfuBo3xPewNxw2v/XqtWr0+7RDM/szZvNo835zFbMyM2cz9LPMc4CzR7N2s2pztXQqdMc1QHUX9JO0nbUmNqr5sv1D/5j+pTy/fIh/DkD6wQ1Ci4ZbSf8JlUbpxPTFZMZ6hlKHusq9zO6LMkZqwx2DJYPdA5fDXESTxgqFO8FZ/h58xn1ZPgT/QcELwnNBhr+lvYQ9tT6uwCrBqcNNhQ+FhUTbg5gDWcQxBV0GxwjPCzQMNYt5CTeH2Uh9yTKJxgpXCwwLvwqFCRjHNoXnRVOFcoXlRvlHA8ZVxHZCUoFzQNjBaoIegvUC3UJ8QWYAd78Gfpp+/b/qwPSA98A7Pxt+GT0jfKq8yP2ZPaH9MHxVu5I6mvlSOLH4U7ihOIO4azea9vQ18PUt9Im0dzQxdF+0izTMdJW0e/Q+8/Lz1rPm9Ce0+XUntXB1G/Uj9WQ1FHTCdXg3bHtwfmd+ifzve0L8qP5x/21AcYLkRrqIYcc6ROXERMUihTyFSEgii9oND0osRZSDv8PcxHMEBgURRtBHp8VWAdg/Ur5ufhg+rsAywkcDRkHWvyZ9DjzCfZ6+1sDdwv9D8oOLwp4BqYFhAd/DBIUsxwmJXYpsyi2Ik0cMRwmIdgnIyzpLVAvuS2JKJwhVxzJGt4aDRxxHoMg1R6dF+INzgahBMUFFggXCnsKfwjvA6X+8/mZ9jT21fgK/bL/hf7b+kH2CfKj7/3vdfPP9rj28fM/8Prsaelx5cvjF+WI51PoV+bT4gfecNki1sHWQtnH2jXaPNjY13rWztV91InTHtTt1CnWqddG2BzXTtX007TUf9X71j7bXuQP74DzdvAW7EftmPMk+L766wAeDYgX6xdKEhwPXhEhE38T8xhSJWovpyx6ILYWuRSXFdUUJhYVHGchrh5zFBoK3gNpAMv+JgEDCNENqgzdBNP7KvZ79Dn2nPs6A2sJ1Aq2B5oD1gBzAIMCLwhEEssdUSXTJJwe+BgEGMwbvSE3KBYuVDFUMFsr8iSNH3EcNhzSHuwiRSXcIhkbwxARCPUDugR7B14JyggbBvIBXPyA9rDyx/IY9u/5E/wU/G75wfTs75vtA+9i8tv0qPU09fjy/O4e6pbnr+f86BnqjOok6efmiON03ybe6dx63YndRd7E3vTcXNuE2ZvYbNeA10zY99kh2gzZBdkO2QPZztfj1X/VsddY3cLmX+8A8hHus+kG7H/y4vbI+Q8AgwuyE1MTrQ/SDpsQdhD/ENwYNSZmLh0qnB+zGCYX4xaUFuoZPSCEI9UfdxfiD+kJ1gSEAh4F4AuyEEoPbAjv/xz5cfVK9rH7CgMnCFgIFwUxAYr+WP1I/iIErg7ZGZwf4h0CGUAVtRRDF50caySZK+IuXy23KC4jQx5hG8AbDR/HIvoj8yB8Gc0PQwcwA+UDXQZDCIoI8gb2Am78YPae82305fbh+OP6vvu3+aD0pu7R62jsW++K85H11fWq8ybvHewj6V7mpudU6j/tMO3K6c7n1eRv4nffX9+d4uDkQOTG4Dbf3t0z3f7cUd103vzeat5U3QzdFtx42gbZ2Nhh2WHZn9qe333nnez+6yfpG+kW7VfxwPM49wv+zQbuC2QM8wvYDDMOJw4DEK0XHyLjJ4clQR9MGxYaahmcGZwcQSETIy8g3hrJFbkQfwuLCBsKhg5IEQcQzgvmBWn/O/pF+Uj9qwLhBdgFaQSOAhoACP+8AR0I4g4lE3sVVhf6F9YWnhUgF+oboCHzJRkodSfvIwgfeBvZGuMbZBysG8MZTBY1Ee4LiwhYB+YGpAbSBmkGjwRmAMT7zfhj95f20/ag+Hf59/YZ9B/zvPDc8QPyh+8G8N7v6vBa8H3u9ezJ6lbqeOlz6CTp6+g16B/ndeVk5IHkCeQj4sbhvuGw4tHjOuOa4enfiN5k3QzdZN1R3gnfxt5Q3c3bQtoJ2VzZct2P5QPtKe/h61zpwuvL79/xVvQP+yUFvwtLDLwLYA3KDk4NOg3jE0gf/iaLJiYi9R7XHCEa5RiDG2kgEiN/ISYerxrcFZgPwQoqCtsMaA9nEFMP6gujBWD+X/p9+3//3gKfBHgFpwXVBOsDiwTcBo0JnQzDEM0VeRksGlgZ7BjmGTIcSB+SIk0k8CLPH8UcNBuZGQgXpxQUEzkS8RAqDzYN3gq3B6MEDgP6ApoCGgG5/gb9XvoU+Mr3IPgT91P0KfN485z0sfLt8K/vFO9M7/ntZO0K7Qbt7ers6Ffno+am5qPkYuQo5LHjzeMQ457iNeEI4BTfmd8v4GHfxd703d/d8Nz827Pb1tvA28HaMNlK2LnZmt5B5qPrdetS6JjnletB8Iryg/Us/KwEQQn6CY0LLA/ZEKgOfQ6LFYkgziaIJRYiJSCZHr4bLxoBHW0h1CJqIH4dRht+F2gRBww6CosLLA02DlQOIQxCBsP+CvpU+qn9oAB/AgsEOgV4BVkFrAXtBnsI2wonD9AU4RlnHI8c3RtqG0wcvx4lInEkaCSMIpwg+x6dHF0ZGhYAFKMSrhG1EPsP3Q0XCmEFSAKsAQIBpAAg/wb8RvpZ+aX3zPX18/zy8PKY8rTxq/Eb8VbwwO5P7C/qKOps60Hq1eeW5d7kOeQT4xHhtuBR4LDead0a3JLcvtxz24DZwdhc2NPYdNhL1z/WOdWT1VLV0NQx1PvUA9l74DLnMunK5tTltekF7/LxqfR1+4AE5gk8ChIM4RGsFkoVixLRFjYhQyj1J4Ql1CXIJZch6xyBHdwh9yJhHxUcpBscGkYUMA2ZCfEIIQj0BrcHCgn0BpEAofrj+D76g/u3/ED/cwOFB8sJEAtTC3kLjwyjD54UWBppH10j/SSlJPMjXyTLJdcm8CZIJ08oYihMJiUiUB3BGIkUORGHD7oOcg24Cg8H+wLj/578zvlX+DD4o/eO9pX1LvUs9FLwqO1Z7BDt6O7s7lnus+2w67fpmuZi5IHjg+KB4cLe0d1e3YvbINl11sDUkdMl0g3RRNDfz8fOrcwxywvLHcu3yl3KSMqqyo7MDNRJ3/jmOuZS4uPkTu3U89/1fPrgBBYOog+/DxEX1yB6IVAafhlrJEoviy/yKkMruy1iKcgg4B5kJNAlGB4pFi8WnRgrFN4KTgWMBBoC4vxb+1j/gwEG/JL0HvOG9xT6tvlK+kAAsQfMC0YOthBrFS4YcBkFHPAh1yimLA4tay0LL7YwZDCXLyMvvS5pLYEqdijlJaciAR5YGaUVKBLnDdwJ1gU9ApT+1vtY+tf4svYZ9Hfy1/Bp7w/uEO7v7UXt+Owz7pru+OzM6Vvn0ebV5cXky+Nl49bhvt5/2rfXtdV000vQdM7nzXHM8cn0xkvEAcJxv1W+nb9hwB7AXL5DwZbK0NYO3ajbONom4BHqHvCM87b7vAjxD1MPSBGrHcQoXSceIJojtDBJNy4yXi6uMjM0QCsZIm8laSwCKBAasxIgFWkU1gqgAkgDSQTx/CL0L/U4+7T5w+9i6mHvTfX99ZL1df5qCREN/QmPCoQUEhzOHY0fHCjEMbAzkzEUNGc4rjiDMxMzZzj8OgU3HjBNLQUqbCOqHO0aLBtMF70OMAnfBlMDYvyS9vr1PvZk9Bfyc/KV8pLuz+hz597p6OxJ7HLsXOz26rfnqeTK5J3kLeIq33je9t3Z3CTX9tMD0PTNk8u/yn/KIshMxDy/6rykuiO7GLpuuuO4L70YxkrTPNna183Vl9o05WXrJPPs/PQKaA+VDgkSTR++KEAnVCMvKqM2SDoxN+I0fTctMtgnlSJnKfMtkiemG1EW8BQxDn4EQ/+jADj99fVP8Sf2Z/nZ9FfrGumv6/vvSfET+6EJQA/ZDeEGZREvGtUediGvKDM0wjYeNIc4VD2uO6o0wTBtOmQ+pT2UN1YzBC0uIhcaShrbGy8YGBAYCkwJwAMi/af18vOI8vXv4u9I86X0XO8757TjnuYK6Wnqc+vP7aLrk+cP40vkkOMs31vcntwc4Fvdo9cS06zP68mBxQTDw8bSxc3A2Ly5uc+4PbbvsXi0y7oexe3R/9M816rWuNtc4p3m0/CN/sEK5RA/Ezsa5yNUJdsk2SVrMIY56DuLPMk9eDz5M8Qp7CabKlop4yNQHWobYhZgDD4CO/2s+uH0DvA58KX0yfRM7jPoy+ZB5+HpW+9V/lAI8wtyC+wNpxbvGHEd2CT9Lek0dzjYPC5CeT9AOu01MjfwOzA9cz1COqI0+SofInMcqhkYFdAPpwsNChYHYAC1+QLzou6m6hHqOO2u7/DtZOln5S3kt+Ny45vkDeYP53rmbOYU5tLkw99x3LTb5NpQ3NLZjtlD1k3RD8zRydbHrcWxw6rAPsF5vgK+sLq4va6/msiZzELSCdVA1cTgTuJk5mrwpP31AsUKIg11GAcgzh/oIg0mVS8GNKs04TRiO303jDGBLLcsNS2HKIAi5x4yHjkYzRKYC2gJ0wMK/Jr3wfig+dv21/EH70HvTu6S7f/07v7LAsgFwQNqDa4R0hLzGPAd6iQfKGYq6TGFNoA0dDOKMJwz6jPyMkoyUjCtLDQmzSBzHiMcZxa5EYEOgQ6RCsoGzQKd/nj6efQe84LzOPNh7/jry+p+6oDoNebN5S3lHuPe4Ffho+F/4KncNtpc2p3ZBNgc1zrWeNU00nnP788rzoXMLsh2xmHGEcVYxMLCD8U7x13NRdL41LjXntia3G3gcuUD7VP1q/oQ/9MCrAosEnMVXhhQG18gfSQIKFUstDBNMDgtMirrKj0sySrKKDImwiSPIWoekRx2Gg0WPw/RCQkIlwfrBXcD9gDW/jX9n/3dACwE/QT9A4cEXgc2C/EOCxK5FMEV1BbwGXMedSLWI0kj7iMPJTImQyfZJqgl3SIJIFkfNh89HqwbFBgsFdMS4BArD6QMFwlgBCIA/f1X/Lz58/Ui8nvvcu2i7PLrH+rw57bk0OJ64hri2uCX3jbcbtoj2ffXs9dH1jbUx9Hhz9fPWs/VzYLLpMhOxz/GWcY6xkDFy8U5yK/MhNA/0wDVcNdF2Q7dMONM6nLwY/P49p383AM6Cq0ORxLZFZUYgxwLIvIniCszK0gq2iokLWQuMS7kLOAqhCi9JqImASf/JLEf/Bm2FcsTHBI/EOQNhAvjCRUJSgqVC3gLVwkVB5sHWQo1DbMP+BCYEcsRYxLlFLAXCxkjGYAZJRvIHZ8fzx9/HsUcURuPGqoakRqbGTgX3RSkE3gS0xDhDSgK4wbnA9oBFwC//aP63vbM88jxMfAT7j/rTujS5f3joOJy4ajfD91o2pbYe9cX1jLUG9Ig0IrOR80SzAfLy8jFxlfFX8QqxKjDZMTRxpfKts200BrSHNTf1mPZAt+45PToI+xs7zj0GPv2AGQFqAj8CmcOJhMdGboe+CHQIqYjniXlKOMr/ixTLMQqiSkHKuArhizfKuYmeCLeH7oexx0IHPEY7xWKFNcU8xVtFu8UohEoDwIP2hDOEuwSFxJPEe4QfhLDFMEVXhU0FD4UJRbFGJ4amBr9GIgXWxdAGB8Z7RjsFo4UVBMiE1MT+hE/DyIMUwlOB78FwwPCAPH8avkw9/v1hfSg8RPuXuqD53nlXuM74WPe9tpC2DXW69Q+00DQT83Ryg/JkscexlzE5cJmwW7A+b/av43AisJuxULIOsr7ys3Mvc9O1FzZid0E4bLjneet7aj0UPvZ/0wCOwXOCRcQ/Ba8G/4dQh8vIfEkFyrmLfsuOi4NLfAtiTDhMiAzqDC+LBEqDSnBKCUo/iQtIYQeBh5YH74fhR4SG00XBRa8FuoXYhcnFTgT/RGDElQUMRUTFB0SPBFvEtUUjhaIFhMVqRO6Ez0VSRZsFvkU6xIkEncS4hIVErYP+wwUC+QJCQlQBy8EWwAQ/br6U/l/9xv0NvBQ7FnpD+eU5Frhet1J2SDWQNT80WbPqstLyK/FssNOwiTA472Tuyy6urnEuba697xYv07BMMLCwu/FUMqNz0rUstcx2x3fa+Ri6/Lyzvi2/Fz/VgPACd0QkRbnGfQbHB5TIkUnMCwFL0Uv3C5dL9Mx0TQWNkc0azH8LkUu8S0ALdYqsSdrJIAiQCOBJH0kQiFYHX8a+xl4G7UbERoFF0sUrROGFFQVnhWnE0sRHhGTEsYUkRVnFIUSWhGgEU0TiRT2E7ISKhGQEDERehEVENANlgtuCiwKMQl1B4oEMwGc/vf8PfsA+Zz1ovFq7q/rG+kD5mjiMN6P2ijXUNSp0SDOrcpExzHEYsHnvgW8v7kQuIS2erXatHe2LbpgvWy+S755v9nDNcrzz8vTg9am2cDeXeYc7/v2pfvL/eoARgeAD5AWJRo3G98czCDAJqQsbDBrMfgwKjGqM/A2/je/NQUyji80L3cvry7XLBQqSiccJV4kASXbJHEith4RHDcbshsPHC8bLhl+FtgU1RQrFQMVJxSREogRCxIsE/0TsBOcEn8RLBHwEeoSDhMiEvwQGRDkD9gPMg+ODdgLvQoVCkEJuwd3BZ8CDgD7/U38HvpD9zb0SfFx7nDrPejT5FDh6d1x2uzWvNP1z6nMoclzxnrDF8DEvOm57bdOtg+1m7NJtMu3Dbu+vCm8uLy2wL3Gxszb0FXTeNaC28rizOuw88H4VPtT/oEE+gxFFEAYsxlbG+Ef+CW0K50v7zAxMQsyfjSRN5g4ZTY2M08xSjF+MTsw+i2gK4opqSdfJvIlrCXsI/QgRB7cHEIcLBwBHMsapRhqFpEVbBU4Fc0U5ROGEgoSrhJuE80TDRPlEQcRAxHREWYSqRFrEGsP0w6gDhoO8Qw5C9gJGQmPCEAHNwWLAtb/uP0J/E760/ff9MXx/e5Y7JfpVuYK46LfI9zs2GnVCtK2znzLZ8gcxdPBqb6tu+64MreJteqztbNXtlq6Z7zDu+G6Fr4txMrKOs9F0b3TJ9gq39fnTPD69Qn5dfvTAGYJgRF4Fh8YpRmHHbojuyn/LSMwBzH1Mekz6zakOHY3dzRXMhYySTIeMc0u1CxmK9op+yePJhcmHCUoI4UgPR64HBocWhz0G4saIhgxFnsVZRV5FRMVqxNbEl4S/xLRE6MToBKXERURoRFsEi0S5hC7D/EOmw4LDgUNfwsQCl8J9Aj+BxgGpwMIAcj+Bf1g+xH5EvYc85rwVu6Q62Loq+Qo4RDeRNtx2PvUAdFuzarK8seDxXPCS79ovPu5V7gltye1gLMEtQ65Ob2mvgu9g72dwoPJ/M870/vUZdh93Tblau7P9TL6cPx4/5gGmw9eFqQZnRrhHPsh8Sf2LEgwvDGLMsEzHzbEOBs5yzbRM3kyhjIEMucvqy1FLPEqCil1Jt8lQSZTJUEi4B6eHGIbBByiHOIbwBi+FfEUYhXWFfUVqhRdErQRIhJ3E/UT0BKeERkRRBE6EhoThxIsEa0PAg95DqANiAzkCsAJSgmSCO4GzwSFAkYAMv4Y/A/6Ofds9P/xV+9A7BTpNeZ347PgFN3K2Y7WJtM10CnNtMkDxz/EdMGRvwG9m7pvuJu2JrVitNq0jLfUu1W+u76Qvr3B4cfMzrTTCdYG2STdluPf6+Pz6vnZ/X8AawVNDQMVmxrkHFYeayF7JtsrbjAOM/ozwzQFNqk4YzqROdM2LDTvMnAyRzFQL3UtlyunKaAnFCeQJ5UmfyOvH1EdiByQHCkc+BrHGE0WURWDFeQVzBWfFKUSxxFUEksTXBM9EkQR3xD6EMURxxKyEpARLRBXD8sOAw63DP4KnQnsCFYIDgdHBT8DCQHN/q78c/oM+DX1lPLX78Tsxuns5pDkBOLg3oTb3NeN1NHR2s65y5fInMXJwujAz768vJO67rdAtlG1zrQXtnG53rxrv4C/wr9FxMnKatHd1cTXytru36XmFO+w9vX7vf/MAl4IiBAJGMUcph7rH2gjtCjTLdox3jOkNGo1DzeNOeU6djl0NtczoDIbMpQwfy46LC8qfSjUJyQozScNJV0hwB5iHXIdnxwiGxAZkRbVFSMW7BWrFdQUUhOCEoAScBN5Ex0SABGAEJMQORENEkMSwhHFEBkQbQ93DkANbQuyCZ8I9wfmBjoFaAONATr/7vwa+9r4H/YU8/7vCO3l6SbnueTj4areptt62HfV6dLUz5nM58jpxZjDGcG8vm68hrqcuI+3QraTtWu2x7lgvsvA4cCwwIzEycqa0Z7WCdma29PfwOaE79r3J/2AAB0DTAhSENQXtRyBHtAftSL5J08tgTFLM8sz1zRxNrw40DmpONU1SDPgMUAx4S+iLWwrXCndJ9QmnCZYJpokoiHxHiodaBzWG+caXhnbFi0VBxV+FZUV3RTWE/cShxLqEl8TyRKIEVcQ7w+kEMkRUxK9EaYQERCwD7kOdg3iCxgKcggnB1YGFwXTAlAAKP5i/LP6Ofgo9RfyGO8V7BnpGeYP46ffWdzc2brXDNV+0dDNK8tQyPrFo8Khvzm91br2uDC4ibdKsv2xHrZSvJDAksFpwYXDzcmtzzfVstex25bf+ONg7KH3LwBiAkADLQk8EgIZtR1+IEsi4SOqJtQqATAhNIE0vTNBNW05wzqcN6kz9jEtMO4sXCv4Ke8odCaGI1MiPCOnJDojhiARHyceYhxmGsAZxxpLGXoVBRQvFgEZHBk6F9MW1RZtFqIViBTGFMUTthHVEDEScxQFFNkRqBDWEAMQpgzHCZIIFgcdBKoBSgH0ADT+zPq1+Of33PVn8f/sOupd6dzkTN9+3K7aEtda0hjPaMzSydLELMD3vBS6jbbrsequsK2PrAeslauErFivhrYywR7IycuGzUnU791+5MPqMfA49mz7wf9iCBYVdR3CHt0dPiJCKxovfy1EK7kr7SuGKbgo7CshL1ksoiaCJPEl4CRmHqcXWBUTFQoTGBBZD6URNRLxD/QOcRAqFd8XiBjaGHUZPBxiHKgdOCGfJFwmXyNZIuglvCcvJpEisCCbIYYh9iCSIPgfzB5ZHPEZdhibGLMXPBT1EFkPkw+vDcIJ3QcOB+EFLAMHAEj+gPuX9wX0OvFf76Dsz+gx5bLhK99i25rWS9K6zYXKwMUhwUu+drt0udu1+LEbsLatx6wiq9eogKgYqLSoo6kFrqq4LMYoz6/T3NfY4brtZ/TP+Cf9WwTtCNcL/hLdHvgoJipRKG8rJjQ1OYY1NS+JLDcs0CkEJuMl7CjKJxIi+BynHaof2htAFJEO/A04DpUMeQsLDBoOLw7gDpwTCxoNH/EdExxrHVwgAiTSJAQlGCZFJoQnwigMKYMpDShYJRUjdSKCI/Mi7h+/HKAbhBvOGpoZ0hcVFqwTEBELD/gMgAtvCYQGCQSwAsIBC//I+if32vQj8mnuJ+pY5ujiPN8v25vX9NNkzxPLa8amw+zAHb0fucO0sbK9sTewb66irLKq7anMqdKq7KwXrUCuELS7wNXOJtgZ3GPgIetg9Xz9GQKHBioMBQ4HEdEYGiSkK2srUClZLYE1NDmqNVMvvysxKoonoyRRJCgkPyGDHAAa1ht7HEoZnRNHD+YNUQ39DA4MXAuTCiwNjROBGpQeix4UINwhwCPvJIolzCZTJXQjASQ+Jh8oUygHJ98lwiVlJgImOSMYH64cjRuLGQUYQRdYF7MVjROcElkRzg+/DEYJ2wUKAxsBjf7Q+gn3cvRK8uvuS+ux59fkXeHk28jXrdMy0GXLt8aKw4jAC74muzq4aLXStCWzkrEwrymtKq0rrBasZay4rTOvk7Kgus/IaNWB3CfgH+bq8Q77RAGJBAYJ/wz4DrQSpxoiJT8qbypwKhEwJTcoOKQzDy4WK54o9CSrIdQgAiCoHUMbDhtoHHgbGBggFG4RTA8lDp4M1grSCEQJ8Q7xFj0dux4PIKcisyWaJ5wnvSeQJsEj+SENI0clRSeQJ6EmnSbTJzQpGSjwI6cfIh3TGnEYZRbjFbsVwxRAFIoTdRKFEKMN8wnEBT8CC/+1+rX10/En8KLuROzo6M3lhuLc3anZ29Tgz2fKJMV4waW9mbsFuqW46bYNtJ6zDrPusTOvvqw8q2GqDKv2q6+tebCptzPFAtPd25PgQebZ8Ff6XgB/Ax0I+wztDuQQihZvId8pmivnKpwuKjaDOSg2RDDULIoqLyZcIQcf/B41HgIccRq4GpMa1RgIFtgTqBFgD7YMBAomCC8I9QwQFBka3huRHYIhziUsKe0oxCiWJ+0kDCMUI3kkxiU0JkAlVSW6JjYpxiloJg4i3R5FHCwZLBa4FHIUeRNtEoQRhBDcD4EOFwwFCLEDsP8S+wP2afEC77LsuulU5pTjFuE83pjaxtbW0B7L5sbNwsS/W7teuXC2m7QCs/GydbNPsdevCq1DrA2rLayxraytrrCfuAbHNtOq2qffqOgp8zD70gCzBBkLYA44D90QxRfEIaEo0SnbKqAwJzb7N+I0njGpL74rlyVxIHkeAx4wHcEaIhm2F6YWIBadFZkUFxK5Ds4LoQkSCMEKwA++FRMYOhmtHTEjlShhKtwqhio6KQsnAyYQJgMmXCbvJCQkeCR1JhMpXCgmJQAiKB/HGycYERXBE1QSMxBYDpsMBQxPDNcLJAkiBf4AUP3K+PrzgvAO7RzpCuXO4TXgUd4f3BfZQtSJz2rL4sedwwO/mrsSuee147J/sX+xbrBPr4Otg6zXq8CrpKwurpWycLuTx8fPx9WI3IbnAPI7+aX+7gQ9C9ENlA+DE7cbryO1J1UozypmMEo1njaDNNcyjjAeLH4mEyMEItkgMB66GiAYGxZKFTUV3xTtEgcQeA0lDJEK5QoIDuYSHBblFr8Zwx5/JH0nCyl/KtcqDCoOKaQo9ChwKTUoNya1JBslLSeDJ6IlWiO8IEMdbxmZFjgVsxPjEAMOYAu6CV8J8AhfBwoEbwAs/ZT5bvVS8lfvTOuB5gniyt8A3o7cRNrE1uvR4c1OylnGe8JhvqC7vbeCtBqy0LG3sBqvs60xrGasuKwOrSeuXLLEuvzF7s2M07Da4+TW7dP0HfvzAksKaQx+De4RyRphI8YnrihaKwAwOjNONNYzyzMeMqEsXSZnIx4jnSL7H5EcvxlzF6EVwxTuE0sSbBDhDbMLZQlzCoYOjBNZFqkXshrgHlYj/iWdKPMqfCuZKfgn7SfDKagruypkKJ0m1ybIJysnniUPJPkg+hsWF2sUsxOaEvEP5gwqCkUIhgdxBq8E8AG3/t76OfaW8l3wmu4u6/nmbuN14ZDffN2s2zDZ19QI0CTLzsYgxBHBF78Wu763crVXtDKzVrHjrzqusqzoqgqr+KtrsBa4k8FVypXQfteh4WnqR/Gw94T+vwUXCU0K4Q6fF48g/CY2KVosczGGNK41YzV7NcY0sS9hKIEkIyQzJFYiIx86HYcbxhhxFq4U3RLuELYNowqjB8UH1gvwEJQUrRaUGnoePSKaJHMniirbKhEpaSdnJxIpjispLIIrRyrkKQAqwSgrJwAmzSLQHNUWlRNfEuAQrw4QDXkL/QjWBlYF1QNvAev9bPlr9F7wNu7a7ADrauiH5tLkL+Kk30beOdzI2DjTF844yR7Fr8KPwEy/g7z0unO4p7antCyzsbGpriSssaprqtOq269CuWPEisyI0j3aD+Q06xjx1PZT/oUEewaxCMkORRm5IkUpDS08MqY2xTcWN/422zewNQovlig+JjAmzyVgJK0jjSK/H1obnReQFKQREA62CmkHtgW9B+gLyhDcE4MYfByPH/AgYyLDJcIm5SUDJYclRydHKmksfi7EL1svjC4JLOIoVSddJF4fphk+FYYTzxHED7gOjQ6hDJ4JHwb5Atz/vftB98fyh+4J7Nbq8ukv6Wvodeff5MjhxN6q3LLYLtRDz03Ll8fBxKDD2sIKwu6/Yb76uh25PbV6sjmvi6tLqlKpDqsQr+u42sLDy93QKdez34jl7+n77Wb1ePzaAPcDxwvfFtUh/ygnLuIzFzikOAA2tzRoNXY1XjFALcIr3yxCLWkrMyrhKIMlKB+xGAUTCQ/oCtcH2QXyBAcIYwshEDcSPhVQGIsZuhmvGEUbhB3eHukfuCIKJyAruS2/L4UxmzHdLyksgycZJTsjBiDYHAAarxl3GKsVPxNmEX4OWgklBLD/dfxr+JH0AfIO8Nfuqu1e7BPrculY50Xk099u3F7ZJdcw1ATS7tBLz0bNWsqqyETGo8P/vy29uLkctqOzX7FWsHev/q5RsAKzOLkZwlXIQs1E0MXWL92j4evlyOzV9v799ALTCOsSBx3JI3knoixGMg818zOaMpA0tDdlOOs1qjTINMQ0czE3LWkqjCenItcbVxbaEmcQbg14C1sJeAlwChEMAg3PCx4NZw79D8EPOREYFhkakhwqHushESbCJ/EnkShhKkQrFyppKGwnUCdLJvAjfyF/H4gd7xkoFSIRJg7kClcGJQKE/4z9x/oS9+zzafEW71fseul55/TlWuTC4Xnfft1+3LDaxdiO1jLUYNI6z5zNusruyM3G0MRmw6fAG7/FvCO7g7gHt4K2araSt+m6R8OJyhzPANDA00DbveBt45HlVO50+Cv/VwI8CfwUOR72IM0hzid2L2Qyzy/1L+o0EzroOZc3TThZOmQ5zTOwLj4sfirxJUwg/hsaGjsYgRUeEp8PaA9NDl4NgwnNBysIVgkOCvsITQu8DlkS1hKGE4YW0RkDG9QZfRqeHSkglCDsH9UgniIaIiYgyx0dHSEc7xkHFxQU8hFnD3MM1QhLBZYC7/92/DT4H/Rj8TjvVuwJ6V7mzeTS4rjfgdx/2mrZntc71T/TWNLg0YbQ787lzefM08umydHHVsYSxrvFvMQCxLzD7MRyxenGTcpQ0eLW2tiy143ZX+Bq5t3p0OqG8Ib4Of8FAo8FxwzuE1YXmxdxGoQgUSYYKH8oRioiLsEwSzHrMKwwKzBgLlIspipeKaUnOSWrIgUgBx1OGtoXuBYTFeES4g8kDRQMSwscC/cJEQlRCM8H9wdFCAQJVwlACRwJkAmCClYLoQujC2kLVQspCxYL6Ap2CnwJpggTCGkH8QbtBcAFgQSVAz4CHAHhAO7+/fxL+sT4dvjw+JL3FfVx89HyMfPE8u/xpe857rvtbe2A7FLreeoG6pzqBeuC6zPrr+ok6uzpSupZ6mzqT+qa6lXrLOyt7Lzswuz/7Hjtzu0U7k3u7O7i7+fw1PF38v7ykPNJ9E71ifaq96X42fl3+3P9Uf+1AO8BYQMsBcwGDQgPCVIK7QtoDY0OgQ+TEL8RmBLuEhsTQxOGE5wTfxNiE2ATehN4E1ATFhPSEmwS6hFFEbAQTxAGELwPaQ8yDx0PAQ/CDloOIA7zDbgNag0bDRgNEg3gDHkMEAzgC4cLAwtGCn4J3wgSCDUHKwYmBSQE+wKYAUMAH/8K/tr8XPsQ+vv4LPgV9yH2QfVp9NHz9PJj8qnxQfEH8aHwfvB08KDwdvBc8G3wqvDy8Ojw8vDz8DrxhfGx8evxL/KF8pbyk/KT8q3ysvJn8g3y6vEQ8izyOvJw8s/ySvOJ86fz7POG9FX19/Wd9lj3Ufho+Yf6ovuy/Nn97f4HAAwBGQIiAwUE4wSVBVkGKAcKCOMIgQkLCnwK6QoxC2ULlgvEC9sLzAvEC98LFgw5DCoMAwzhC+4LAQz/C+0L4Qv2CwoMDAwUDEYMZAxfDCsM7QvVC7ELagsPC7UKTwrcCUEJngj+B10HtQbqBRcFTASEA7YC1QEAATgAdP+0/uv9Sv25/DL8nvsA+5D6P/rz+ZT5OvkP+RT5LPks+SD5Ofln+Zb5vfna+Q/6W/qS+pv6rfrn+iz7WPtc+2b7kPup+6n7ifuA+4H7Yfs3+w77EPsN++L6pvqP+pv6mPp2+jj6DPru+cz5m/ll+Ub5Qfku+Qr58fjl+Or45vjZ+On4Cvkk+UL5Vfl6+bn5/flI+o/69/pr++D7VvzV/GH99f2K/hP/pf9IAPIAogFKAvkCtANlBA4FowU+BtUGXgfFBxIIYQi2CAUJMQlDCVIJYglmCVUJMAkFCc8IiAgYCLQHUgf2BpIGDQaLBRQFnAQGBHAD7AJyAtYBLgGZACoA2v9v//z+rf5//l/+MP7+/ef92/3W/cz90f3t/RH+NP5h/pD+0/4N/zf/Zv+S/8D/3f/2/wMAJABKAGIAcwB+AIUAhwCDAG4AUAA1ABEA5f+8/33/SP8L/9r+pv5t/jn++P3T/ab9fP1W/Sv9D/3v/Nb8uvyo/Kz8rPy0/Lv8ufzA/ML8xPzW/OP83/zd/Ob8AP0o/T/9S/1k/X/9n/22/cT9zf3c/fD9AP4d/jb+S/5h/nr+m/6+/tr+7/4O/y3/Uv93/5n/wf/q/xEAOABZAH0AnwDCANwA7AD+AAcBGgEfASMBJwEjASoBJAErAS4BMwE3AS0BKQElAS8BMgEvATQBNgE+AT0BQgFRAWQBawFhAWQBbAFtAW8BawFmAWkBcQF1AXwBfwGGAY0BgwF/AXEBbQFkAUwBOQEgAQgB4QC7AJQAbQBKABwA/P/Q/6f/gv9d/0P/Jv8M//X+8/7k/tT+zP7F/sf+w/6//r3+tv66/rv+vv7G/tH+2f7c/vL+Bv8k/yz/NP9B/1H/aP91/4b/j/+n/6z/uf/C/83/4v/q//X/AAAJABAAEwAbACwANwBGAFMAaQB+AJYAqQC6ANEA4wDyAPwABgEPAQ8BEwEVARoBIQEkASMBIAEeARMBDAEEAfUA5ADgANoAzADCAK8AsACkAJEAhABxAGEARwA3ACkAHwATAP//9v/2//T/3v/U/8v/xv+//6n/mP+a/5j/if93/2n/Yf9E/zH/Gv8K//v+4f7M/rv+uf6y/qP+jv6E/oP+f/5y/mT+Yf5i/mL+XP5k/m7+gP6M/of+mv6z/sr+4P72/hP/Ov9a/3T/j/+w/8r/3f/q//r/GwA1AEUASQBgAG8AegCJAIQAhQCLAIYAdgByAHQAcgBtAF8AVwBbAFkARAA4ACwAIwAdAAsAAQD9////+f/1//X/+/8AAAAA//8BAAcADgAbACMALwA5AEIASQBSAFkAYQBeAFgAWABTAFgAUgBTAEgAQgBEAD0ANgArACcAIAAZABEACwAAAAAA9v/q/+j/2//L/7v/pv+V/4n/dv9f/1H/Rv88/zn/Jf8g/xj/Ef8L/wX//f77/vr+8f7y/u3+7v7p/uH+4v7q/uz+7v7y/gD/Cv8Y/yb/Mv9J/1f/a/9//5X/ov+7/8z/4P/y/wAAFwAeAC4ANQA3AEAARwBMAFUAUgBVAFYAUgBZAFgAWABYAE8ASgBOAE0ASwBIAEEAPwA7ADAALwAxACoAJwAiABsAHwAeABwAHwAiACYAJwAmACcAKQAvACoAHAAWAA8ABgADAPn/7f/r/+L/2P/N/8P/vP+x/6P/mv+X/5f/k/+I/4b/hf+E/4L/df9s/2r/ZP9e/1j/Vv9U/1L/Uf9O/1T/Wv9e/13/WP9i/2b/Zv9r/2n/bP9u/2v/bP9w/3r/fP+A/4D/iv+T/5n/oP+m/7H/tv++/8f/1//j/+7/8f/6/wIAEgAbACAAIwAmACwAKQAsAC4AMAAqAC4AKQAqAC8AKgArAC0AKAAcABwAGwAaABoAFgAUABwAHQAXAA8AFQAaABIAEgAKAAsAEQAVABcAGwAkACIAJgAqACMALAAqABwAFwAPAAkABAAAAPf/+P/t/+L/1//Q/8n/t/+0/63/of+e/5n/jv+M/4n/e/99/3L/Yv9k/1v/Vf9T/1D/Tf9P/1D/Vf9a/1n/U/9X/1j/Vv9b/1j/WP9d/2b/Xv9c/1r/W/9d/1r/Wv9V/1z/Xf9e/2b/a/9w/3L/b/91/4X/i/+P/5n/lv+u/6//tP/D/83/3f/T/+D/4f/u//f/+v8AAAMADQAQACAAGgAlAC0AIgArAC0ANgA3ADwAPAA/AEMAQQBKAEYAQwBFAEIAQABEAEEARgBKAFAAUwBUAFEAVQBQAFAAWABKAEwASQBCAEAAPwA9ADoAMwApACYAIwAdABoADwAKAAUA///2/+//6v/Y/9X/yP++/7b/pv+b/5H/hP9//3b/af9c/1b/Uf9I/0n/NP8w/yr/Jv8j/xr/G/8K/wT/AP/+/vj+9f7y/u/+9/70/vf+Af8B/w7/Dv8V/yL/KP80/zb/R/9Q/1//Zv90/4T/j/+h/6b/sf+6/8X/0f/Y/+X/8//7/wUACwAUACAAKgAsAC8ANgA3AEEAQgBBAEMASgBKAEUASgBFAEsARQA/AEAAQAA+ADYALwAxADQAMQAxACsAKAAqACcAIAAcABIAFAANAAoADQAIAAgAAAABAAAAAAAAAP3/9v/1//T/8f/0/+//6//o/+H/2//V/9b/0P/I/8b/vv+6/7r/tP+q/6f/ov+Y/5H/i/+G/4P/ef91/2z/av9g/1P/WP9P/0f/P/87/z7/O/85/zv/Pf9B/0P/Rf9I/1D/Uf9R/1b/W/9m/27/cf91/37/iP+O/5f/m/+j/6v/sv/B/8v/2//i/+z/+P///wkADwAVABsAIwApADQAPQBDAEsATABOAFcAWABXAFIAVwBfAGAAYgBgAF4AYgBlAFoAXQBXAFEAUABLAEYAQQA9ADYAMgAxACQAGgAUAAwAEwAJAAMAAAAAAAAA/v////n/9//z//L/8P/o/+b/4//g/97/1f/b/9z/1v/Q/8j/yv/K/8X/wP+//7z/uf+1/6z/rv+s/6L/of+V/5L/lv+P/4z/hf+E/4T/g/+F/4P/g/+B/4T/g/+C/4T/g/+K/4v/jf+N/5D/m/+c/5z/nf+f/6b/rP+y/7b/rv+2/73/v//C/8f/zP/L/9L/0//a/93/3//f/+f/6v/v//P/9P/2//7/AAACAAIACAATAAoAEQALABAADgANAA4AEwAYAAkADQAGAAwACgABAAAA+f/5//T/9P/v/+n/5f/d/+D/1v/S/9H/zf/M/8r/xP/B/7//t/+7/7f/uP+0/7D/r/+u/6z/rf+w/67/r/+r/6v/q/+q/6X/qv+q/6//rf+o/6T/qP+p/6L/ov+h/6j/o/+i/6j/sf+7/7n/s/+2/7v/vf+//8D/vv/A/8P/yf/M/9T/2v/a/+L/3//m/+j/6f/l/+X/6//v/+z/8P/x//H/9//x//L/7//v//D/7P/m/+n/6P/t/+z/6f/s/+T/6P/o/+T/5f/i/+L/6P/p/+3/7f/r/+n/6P/s/+3/8f/t/+v/8P/u//X/8f/w/+//6v/w/+7/7v/n/+r/4P/g/+L/2f/b/9T/0f/H/8X/xP++/8D/uP+v/7j/r/+p/6b/pP+e/5b/k/+I/5L/lf+R/4v/iP+J/4j/jP+E/37/gv95/3z/fv9//4D/f/+G/4D/h/+O/4z/if+O/5H/kP+Z/5n/nP+i/6f/rv+1/7v/uv/D/8n/0P/V/93/5P/k//D/8P/7/wAAAwALAA0AEgASAB0AGwAcACEAJAAqACcAJgAoACsALgAtACcAKAAqAC8ALAAsACcAJwAoACMAJQAhACAAHgAeABgAIAAjAB8AGgAWABkAGAAaABcAFgATABYAEQASAA8ACAAGAAEAAAD9//z/8f/t//D/6//n/+f/2P/Y/9f/yv/M/8X/w//A/7r/u/+2/7b/r/+v/7L/sP+v/6j/qf+n/6X/qP+o/6T/rP+k/6r/p/+t/6z/rf+x/6v/xf+t/7f/wf/E/8j/v//P/9//1f/b/+f/6v/2//b//P/+/wMACAAKABAAGwAhACcALgAwADcAQABDAEsATgBJAFEAVwBZAF0AWQBZAFgAXABaAE8AVQBLAEoARgBFAEAAQgA4ADcAOgAuADAAJgAmABsAJQAcACsAEgAnAA4AKAAUADMAHQAxADQAPABkAIgAUgEsAaQANgAhB0MItwC0/Ln/8QTNAkL+Qf5oAksCSAE4AQ8DCwT8BK0JFQyrDH0HPAYSC9MLOgjaAb4DIwbbBb8CJP81/yoAtAHqAc4DdwLYAQAAdwCtA6oFKwTq/ksBxQPGAzkBgwC5BFYCDgG3ARgEpgJs/M//6v1f/cH8gPt+/VP4JvpJ+2X4a/nR+VP6OPhM9qT3CPeH9i/1kfYP+Nv3TfnZ+EX50viX9z36jvcP+Oz4JvlK+/36Afwg+ij6rPxW/Cz8wfqm+H37YfoG+437CPu0+G/8RPvY+/n6xvk1/O73RP2Y+6X7zfzv+hv+xPyF/PX+d/wS/v77OP/s/+D9jf8y/nn/R/9UAO3/DADt/mkAlALnAR4C1/+JAZUCuAGGBFMB1gHnASsEUgTQAykCRgGsAjoByAT9A6sBbwCUAsQCCALhAqQBBwELAPn/OgHE/6kBo/8w/3j+A//rAkr/nvun+vD7IPti/C39Xvvn+TT5zfuA/Hz4s/er9vb1IPY495z2uPbh9kr2zPa39Hj3wPYT87byV/S/9+b3sPZT93v32/fy9z/51fkr+fr4hvuj/jMATQAuAKsB9gPcBTUHNglCCS4KTgyUD+QSHxQoFNEUDxeIGaIa2xveGrAamRwaHtseWx7VHDQcjhtLHKQdDhr+GE8W+hZ3FwwVwRW6EXMP1Q4/D+gNjAqICLQGQQZJBcMEBAMMAP/8d/1Z/iH+JPzz+Wj4jPbP9x71H/WA8ujvkPHD72Hxfuyo6ZPnOuYg58rlCOYM4ajhzuCK3wveDtt325bWKda31jXVlNQe0YzQL9Ci0h3cRuRd4oraTdnQ4rnr6ewv7GfyA/znAJb/0QGlCVQOFQ7ZDzUbfSXBJDIcnBpJIrco7CfqJccnOilqJRQgDB9oIHEdyBdtFgIZ6hnwE8cMpguqDSQPNw1SDHcO5w1VDPgLgQ+ZEuURHBLjFcUaLxtNGdYaah0lIOEgOiKdI6AiTyCsHrUflyBYHoEaQRh7Fp8TZw+LC5gIwwYPAnD/j/xE+WDz6O5I7U7sjunW4+XgS93Q3DTZQ9iG1krVbtOxz6rPFs72y73IiMZ7x73F6sPtwQLAjr/JvmDElMwF1NbSrM+DzvHU+d6t4zrnAezZ81H7K/0+AEAGiAxqEXEVDB4ZJhgoZiPxIKoklivULuItaiz4K8cokySaIPkeAh0mGWYWlBUhFJIOEwYfAFr/2ABgAZ8A6v/8/msATQGnA58DYAVMCnAP7RTlF0EZ9xmTGwQhbieMK/YsaixcLGosEC6bLoculCywKqopYSdgJEMfmxkBFsgTMxLjDWwHmQE7/F74w/WJ8yHw0OuF553kTeK83x7dItw72k/Y09Wo0nnRlM7hzVbMl8zDytvHX8SFwuLC5r0PvEa30bkBwQHIGc+XzcvKRcqCzcHXUN8d5fbpO+4W9sn6MABcBLYJDRDxFhkgqSacKHclXyKNJakrzjEOM5IwhC27KEAlFSJIIPwdThr7F2IWGhR6DjIGeQDw/ef+0//G/g79lvkW+Db5qfwoAQoJsg0qDq0Mvg5pGGkcLB/kI0QpnS1HLXcufzFNMU8xeTKQNWs2GjMnLdIoaScbJqckOiHXHRcY8Q9dCggIAga4AVr8oPlV90DyT+xR6GnnrOa95KDjO+Li3oXZ8tYh2HTaSthp1Y/R0M6zyxjJBsl7xgTDHr4mu2O50bbWsECzm7YxwefILch6x0DBxsUE0PDZVuID51vuEPb2+PT9zgSvDksUxBkAIlwsLTGHK78nTylVMW43cDczN7c0TC+jKEYjAiOCIdAc2xf/FVwUvg4oBfD9CftV+5P6HPsV+u33dPOe70Dx5/Wc/fIBNgUGCvgSyRWeFJ0U8xwYJ0gsVzGmNIUzDy8JLmQzTDm+OX83UTTLMRguICrnJUoktCGAHtcaRBduErkJuAHe/3oB2QD3+/v1/fA47JXof+gC62zqY+c+48bh7eDG3bHaS9p42wXa9tWK0tLP5sumx7bGlcVXxXO+J7qOt36177Isrpmy07jTxA/I4sUcw9/CQ8yg1Z/da+b47Nn05feI++4DiAz3E6oXLiBTK6QzBDIwLMYqfS5kNPE33DnHOkE1Ei0qJi4k8iOFH/sZYhdvFuASnApHAmD9ofpc+Wr5uvu4+8/3h/Gn7knxOvXj+Qn/rwSoCsgMrBBUFwobaR0oH9QmlTB1M4czSzKrMSwy9jLLNv45PTjUMiAufCs3KhEnHiIhHz0bhxdCEwMOTgkNA7H9uvss+1v5I/RF7d/p8edV52zn1Odm5snicd/a3eTd09zK27PYOthN1iDUTtIF0CvPEcy+ys3I4scmxZ2/cL4Uu9e6kbkfuR+9xMH3yrDMKcy6yjvNXtVM2w3jDOsC8vX3Dfq3/8EGfg5FFMYYNiFSKRwv3y51La4tUi8iMic1wDgeOuY10i8yKqEn1CVAIggfQxyFGWsVTA9cCpMFaAHD/XX8wf3//QD8dPcW9FLz0vMq9uD4qvwJAkYGBAubD1ET/hOZFKoYyiBOKCYsMC6zLQAskSurLH0wDzLYMEUufSvPKNQkxR/NGjAXZRMaEu8OWwyVBgD/HPne9rT2lvRt8tnvkOs35zblH+Tw5N/kTORX41DjMuMq4hDhJ+D23srfEuBv4I7go95v3J/cw9y73D3dI92x26XaK9rD2UnbIdmU2ErXOdfD1ofXO9rR3fXhD+Oo46/keOYQ6k7tfvFR9nP5O/0K/5ACMwatCdIM/A8HFI8YMxweHnUetR6kHoAfXSB/IXMipyEuIOEdPxzOGu8Y9RYgFUwTqRHBD7gOOg2/CyoJEAdiBsAGNQcTB9oGYAaRBSIFqwZMCQILZwtnC4wM4g19DrAPwRBvEWoRiRE1EuASjhKSEa8QThAkEO0PWg+GDrkM7gqdCZYI6QeOBuEEiAOZArMB+wDq/wD/U/3i+/768fp8+ub5UPla+L/3tvZt9nL2cPYK9qv1rfXA9RX1l/RK9HD0RPTm8xv0UfQm9H7zDfPl8sryxvLf8h3zW/Ma8/3y/PI982rzxfMr9Kr0+PQF9Rj1KPUo9VD1jvUA9iv2KvaB9oj2/PYa9yL3Cfeu9qb2vPbg9ir3Xvej9+H3Hvh5+Nr4V/m5+Tb60/rG++f8+f3h/s3/zgDCAegCRQSkBQEHJQguCUAKRQtpDIINag4cD48PGRCrEEQRphHMEcQRhRFDEdwQhhACEGwP2w5aDsYNAQ0SDAoL6wnsCDoIpAfyBiwGjQXFBBoEbAMJA+gCzQLOAq4CxQLaAuAC1wLbAhgDZAOoA9EDAgQbBDYEZwR9BG0EUAQQBOoDowNYAw4DkAIFAmABAwGGAAAAX//B/j/+tP0h/XH8xvs6+836a/oX+tP5kPkv+d/4rvim+L/40PjS+NH42vjY+MP4sPi4+PH4/vj6+Oz40/ic+Fz4IPjT96P3a/c29+r2o/Zn9hf2z/Wg9Z71mvWO9Xb1ZvVX9Xj1xfXt9VP2oPbn9mv34/dv+P/4oPlT+gT7zvuo/Jf9Vf4A/6D/WAAoAewBwgJvAwwEggTfBFQFswUPBkoGcwaoBtAG/Qb/BvwG5AbcBvUGAgcNBwcH/gYEBwsHKgdLB3YHnAfFB/sHIQhPCHgIuAjzCB8JSQlwCaEJtgmxCbIJlgmKCV0JRAkhCfUInQhCCMsHTgfWBlIG4AVgBdcEMwSsAxQDrAIAArQB8QDGACMA+f9c/6z/9v7C/Q7/kP3W/aP9WP0j/QP90/xo/Hv89/sk/Kr7qftl+3b7ZPvt+gz73/qP+p76ovqJ+oT6X/pZ+lH6Q/pN+lD6cPp8+oT6mvqo+rT61vre+h/7X/uk++P7FfxD/Hb8sPz2/EX9fv3M/e39J/45/kr+XP54/of+nP6c/oH+cf5a/k/+Nf4c/gH++P3t/dr92f3T/cz9zP3f/fv9IP5E/l/+hv64/j3/M/9n//n/9P8rAIkAlAAOAV8BXwHeAfgBEgJaAoUCogLcAgkDDwMHAyADMwMhAycDEAP6AvwC1gLJAr0CewJmAkICJAIeAv8B5QG6AaIBpgGiAacBlAGWAZcBlQGnAbIBtQHBAcIByAHMAcoBwwG3AbEBqgGgAYYBgQFWATMBFwH+AN8ArQCNAGUARQAPANX/qv+Q/3D/Wv85/xX/+P7a/t7+zf7e/t/+3v7s/vf+Bf8O/zL/R/9n/4//xP/l//j/CgAfAE0AbwCUALUAxQDLANIA1gDYANUAygDAAMAAugCsAJAAeQBnAFUAWABZAFQARgBAAD0ATQBLAE4AVgBeAGMAXAB3AHUAdQBzAGsAdQB3AHQAagBiAFgATwBFADEAJAAMAAEA/f/p/+L/zf+v/5H/Zv9N/yz/FP/y/s/+v/6g/o3+dv5o/l/+Wv5e/l3+b/5+/oX+mf6w/tb++/4h/0T/cv+X/67/wf/T//f/FQA4AEsAXQBrAHsAfwCFAJYAngCZAJcAmQCXAJsAkQCPAI4AiwCGAIIAfAB5AH4AeABuAHIAZwBoAHIAfQCIAIkAogCoAMIA1gDjAAUBIQE3AUMBUwFpAXsBhgGRAZkBogGlAZ8BmAGTAX0BbgFiAVEBSAE3AR0B/QDrANYAvwCpAJMAfgBpAE8AKgAYAAMA5//T/8T/sf+d/4//d/93/2//Zf9p/2j/af9g/2H/Yv9w/4X/jf+R/6H/rf+r/7b/yv/c/+j/7f/t/+//5//v//b//f8AAP//BAD8/w4A/v/3/+X/6//u/97/8f/f/+L/tf+u/6f/nP+n/5T/j/+G/4b/df98/3//e/+E/4b/mf+o/6v/r/+7/87/2v/n//z/AwAVACIALwA6AEwAVQBUAGIAaQB2AHsAeQByAHQAZwBhAFsAWABUAEgAQAA2ACkAFAAHAPz/+//s/+P/2v/L/8P/wf/D/7r/u//B/8j/z//N/8z/1f/a/+n/8P/5/wIAAgAOAAoADAAPABEAEQANABUAEgAUAAEA9//5//H/4//N/8b/wP+5/6//m/+W/5D/gv94/2v/b/9s/3L/df95/33/e/+G/5j/s//B/9f/3v/v/wMADQAeACwASQBeAHAAewCDAI0AjgCWAKAAogCsAKsAqQCnAJwAkACKAIUAfAB4AG8AZgBYAEwASwA9ADgANwA2ADgAMgAzADAAMwAzADgAQgBCAD8ANAAwACsALgAzACgAIwAXABYAEgAaABcADAAPAAQACgAGAAAA/f/s/+H/2v/T/8j/uv+v/6L/mP+N/4X/ff9v/23/Z/9l/2D/XP9c/1v/Xf9Z/1z/Yv9e/2T/Z/9v/3z/gf+P/5n/qf+s/7D/v//M/9//6f/8/wAADgAQABcALgAzADoANAA+AEwATQBMAEYATQBZAFQAVABWAFgAUABNAEoASwBTAE8ATQBCAEQAQAA4ADMAKAAmACIAIQAbABMAGAAOAA8ADwAPABYAEAAOAA0AEwATABsAIwAoADEAOwA/AEYASgBOAFoAYABlAGcAbQB0AHcAegB+AH8AhgCNAIgAiwCNAIUAjQCMAIkAiACEAIEAegB2AGwAbQBvAGgAWgBaAFUAUQBQAEIAQAA7ADwANwAwACcAHwAYAA4ABAAAAPz/8//p/9//2v/N/8v/yv/E/7v/tf+q/6P/oP+f/6D/m/+b/5j/nf+c/5r/nf+f/6L/pf+q/6b/q/+q/6f/s/+y/7n/vP+4/73/vf/D/8P/xf/G/83/0P/P/9H/z//G/8X/yf/G/8X/wf++/7z/t/+1/7X/r/+t/6//rP+n/6r/qP+j/6f/qf+o/67/s/+w/7L/t//E/8T/x//M/9L/3f/k/+v/9f8AAAgADwAYACEAKgAwADYAOgA6AEMARgBLAEsASQBGAEIAPQA7AEAANwAyAC0AJwAlACMAFwATAA4ABAD9//T/7P/g/9f/yv/J/8D/uf+s/57/lv+O/4n/gP9+/3b/cv9v/2v/bf9v/23/bv9u/3L/c/9z/3f/fP+H/4//jv+O/5z/oP+p/6//rP+6/7z/xf/P/9L/2P/f/+P/6P/1//j////5//r/AAAAAAcACwAIAAYACAAHAAgAAwAIAAUAAAAAAPn//P8AAPr/9f/2//T/8v/u//D/7//r/+f/6v/w//D/7P/u//P/8//5//z/AAAAAAUABwARABoAHQAkACgAIwAoADEAMAA4ADkAOwA7AD8AQgBEAEQAPwA7AD8APgA+ADwANQA0ADEAMQAtAC4AKQAqACYAIwAlACIAJgAhAB4AHgAiACAAIQAbABYAHAAYABcAGAAXABQAGAAWAAgACwAKAAgABQAAAP///v/+//j/9f/0/+z/5f/p/97/3f/c/9b/1v/S/9H/zv/T/9H/z//Q/9f/2//d/+P/4v/f/+P/6P/n/+z/7//u//L/6//l/+v/6v/h/+H/4v/a/9j/1P/D/8P/vP+z/7D/rP+p/5r/k/+O/4v/jf+I/4T/gP9+/37/ff+C/33/gv+H/4v/kf+U/5f/nP+m/6f/q/+0/7//yv/M/9D/1f/V/9z/3P/Z/+D/4P/g/+b/4v/j/+j/5//p/+v/6P/n/+z/7P/p/+v/6P/o/+z/8P/z/+//7//y//v/AAAAAAAABgABAAQADAANAA8ACAAIAAwAEAAKAAUAAQACAAMAAAD7//z/7//n/9//2f/V/83/xv+z/7f/tP+w/6P/mP+Y/5L/k/+G/4H/g/+B/4P/ff+B/33/ev9//3z/g/+K/4v/iv+P/5X/m/+Z/5v/nf+c/5//n/+c/5f/mv+V/5X/mv+b/5n/mf+R/47/jv+N/5L/kf+R/5X/lv+U/5z/mf+f/6P/pv+w/7L/t/+4/7//x//H/8n/0f/T/9z/3//c/9//6f/r//D/7//0//r/+P/6//X/AAD///7/+//8/wAA/f////v/AAD+////AAD8//z/+//9//7/+//+//7//v/7//r/+v/1//j/+P/1//X/8v/p/+X/6P/k/+H/3P/V/9j/0//O/9H/z//M/8j/y//Q/87/y//K/8v/yf/M/9D/zf/U/87/0P/T/9H/2P/X/9X/0v/X/9X/3f/k/93/5P/n/+X/6P/p/+v/6//z/+7/8P/5//T/9P/x//f/9//7//n/9P8AAAAA/v/7//n//v///wAA+v8AAAAA/P8AAP7//v/6//3//P/9/wEA/f/7//v//f/8//X/+P/1//P/7//v//D/8//1/+j/6//o/+r/7v/p/+r/6//r/+7/7//3////+v/9/wAAAgAHAAsABgANAAwADAAVABEAFQAUABUAEgARABQAFAARAAcABwAIAAgADAAEAAAA//////7/+//3//L/9v/u/+//8P/s/+v/5P/k/+X/6f/l/+D/3v/j/+T/4v/i/9v/4P/e/9r/3P/d/9n/2f/Y/9b/1//R/83/yf/L/8j/wv/B/8P/wP++/8H/vP+6/7f/tP+2/7j/tP+y/7D/rv+z/7P/sP+u/6//rf+x/7D/rv+0/7n/uP+9/7r/v//I/8D/w//B/8b/yv/O/8v/zv/W/9r/3f/W/9n/4P/g/+X/3//d/+j/5v/u/+7/8v/z//L/+//3/wAAAAD//wEABgAKABAAGQAXABoAGgAbACAAIQAiAB4AGQAeABwAGQAbABgAEQANAAcAAAD+//f/7v/q/+b/4//g/9b/0f/J/8j/v/+3/7T/qf+p/6r/n/+c/57/lv+U/5H/j/+O/43/if+I/4r/iP+J/4P/ff+A/4P/fv93/3v/ef92/3j/df90/3L/df94/3X/c/91/3r/ff93/33/gf+D/4j/h/+M/43/j/+X/5b/mf+k/6b/qP+w/7f/uP+8/8L/xv/I/8z/0f/V/9n/3v/f/+f/6v/o/+7/7P/u//D/6//y//j/+v/8/////////wcABwAAAAUABAAIAA8ACAANABAAEAANABAAEAAIAAwABwAHAAoACAAHAAEAAAABAP3//f/4/+v/8P/q/+T/4P/b/97/2//Y/8//0v/K/8n/xP+9/7r/uv+3/7P/uv+1/7f/sf+y/7D/rf+u/67/sf+t/67/rf+x/7H/rf+v/7L/tf+w/7T/sv+v/7L/sf+z/7r/u/+4/7j/uf+6/77/wP+6/8D/wv/G/8r/zf/L/9H/1//Z/93/3v/h/+L/6v/k/+3/9v/2//n/+f/+////AAAAAAAAAAADAAAAAAAGAAAAAQABAP3/AAAAAP//BAAAAP7/AAD7//r/9//5//f/9f/x//T/8v/1//X/6//y//b/9P/1//T/9P/1//P/9f/7//j/9f/1//L/+P/1//X/8f/u/+3/6v/q/+j/6f/o/+P/3f/f/+H/4f/e/9z/3f/Z/9X/2P/Y/9f/2P/Y/9X/2P/U/9X/1v/Z/+H/3P/f/9r/2//h/+b/4f/h/+H/4//m/+v/6f/q/+X/0//x//X/6v/g/93/7P/v/+b/5P/1/+//8f/s//L//f/0/+7/4//u//z/+P/s//D/+//5//j/8v/7/wAA+f/1//j//f////n/9P8EAP7/+P/x//z/AwAlACkABgD2/xwAdgBvAOf/Df/1/2YAMgKMA3wALP6r/iABdQFb/2T+6QDLAugAsf4Y//QARQG0/8P+gP8sATwAOf4T/dr+nQhfCh8Cyf2K/30Dnf+Z+dL+7ghkDBcFgv+GAnYExgQOApv+o//hABoANwM9B0MGZQAj/TwBBQQGAeH8XP4bA0QCM/2E//gB5QECA10BywKFBN8EegMMBNYFxATHApICzgV4BNMCowLhBWoEg/8+ANAAdQD9/M370/tS/Rn9m/60/pT7ePq++S/5Pvgz+WP5qvkT+nX8/PsN/Pn8lP1f/DP55foC/NX8Qvvj++gAYQJ8AE3/E/+n/hj+1/vA/Bz8/vow+0H6Hvwo+zv6O/ps+Vj56fi/97n3I/jK98r3SvlJ+0P87fsB+9n77fri+nj6e/s9/dz8zP3K/jUATv/C/+r/OgAF/xT/UQCo/x4BwQBsArkCCAOMA3IDAgO3AsEChgFKAuoBwQHfAWUC/QPBAzADrAOTBNsEqANGBL8EBwSFBCoFaAUtBIME5wQFBGcD7wLIA1QDUQO4A2gETQSPA7ADzAEbATUArf8J///9GP4y/ZD8Y/tX++b6JflC+Ef3h/d79xT33vYX9jb16vS99J7zR/NP8pnxzPBF8JHwze9d7hTuHu5v7ZTtWu3I7QHtnOwC7cLs5+wS7W/t8O3c7kLwKfKC8sbztvWk96X5jfuV/vsAdwNCBlkJewyQD+4R8xOvFbcXWRrMG0kdYR7QH9AgWCEgInoidSIcIqQhrSDFH3kelh0wHLgagBnDGDcYCRdQFo4VNRXSFGQUxxMhE1YSuhE8EYAQ7g/HDugNBQ1aDEkLvQmACIgG8QSRA3UCHwHK/mf8x/pR+XT3avWD847xle4u7Ivq2+gv5xvlWOOM4izhnd+F3f/ajtqO2X3YcNf31XHWUtaT1YPVldSl00nTO9Oa0wXUK9SY1ELVb9Ut2nziW+un8FzxmfW6/QQGdQnkCLsJsQ2GERETmRQzGFocRx2zHOAdpSGMI1og6xrlFRQT9xBoDlILUgcKBCkDUARbBW0EpQLxAboBMwFAAPkANgOIBHgEvQWqC8AUCh2WIvsm6ytjMYU1cjcWN1g1GTOPMOUurC2WLLkq+SelJcIjeyLdILIdmxhIEm4NwAp6CBoFGgEV/rL8/fum+6r6Tfkh96L0m/Ie8b7wJfAb70HtjexW7Jbs3+vH6SbmxOJA30nckthw06nPhMvEyRbI9sb2xerEOcRzw9DBpcBkv42+1700vT29kcDIxzfSwt375EnuqfaiAa0KMw/LEjEUEBdqGB8aQBwoIG0jISUiJhcoxSqXKi8nICAhGfYRGwykBrsAgvs494b1ovWv9uP37Pii+Sv60vkG+hL7Y/1M/zAARwIRB0EOTRW9GoQfuCO+JxMtyTBXNFg1jjY/OIQ3wTcxNu80XTJ5Lj8rSScVJIkhBx4BGo0WghVMFfITwxJ2EaAQJg/NDYIMFQq0B6oFPwPpAK/+qf01/Gv5XPfl9NTzf/Ga7uTqeeae42Lgpdy214zT/8+GzLjIGcY0wxPBR77hvD27Srq2uoi5wbrCuOS5Nbq/uXO7cr7kxYjPodk242ntl/ahAaYKexEdFnEYghp1GwgdbR6PIEsiayTWJlIo5ykwKlAoEiQwHWcWRRCnCRoDTPw994/01PNV9Jj1nvfg+Z37/PwX/p//CQHVAfYCIAT8BloL1BCvFngbTyC4JNIoTyvWK8oqCClJKCwmUiZ7JvQnHyroKZMrkSvxKxErsCe3I/8eMxvyF8oUpRLAEcwR3hJ0FHEWghe6F6oWQxTuEMkM5gheBH7/cPsv+Cb2ffTN8j3xEO/T7OfpRuaq4pLeFNpr1J/PFMwAylPHFcVmw0bB9sDZvpi+VL0ZvFy8LbtFuvG5MLq0u5W7OLwFwkPKN9dF4Cvp8/Gb+5cHYA6nE+EVoBi9GhQbWBzVHqchGCQiJYomhSi9KZAqDSegIUwaxRNVDqQHNAE9+oP1kPPu8jTzwvOD9Zb44/ng+gj8pv5pAQ4CiQKTA7wGkwtJEPUUTRnQHfEilia6KQEriyvyKuoqXSqfKsYrHixuLdcrEiz7K88rmCrbJqsivh7kGyUZZxZBE8sRERFWEdIRwBIfE7oScRFVDzINHAoEB+8CPP4y+kv3QPWE8yTxSu+e7cfrLuog5zvkcOA13MzXWNLczg7LqciAxVXDqMGnv92/Cb7yviS9X71yvWi89bxJvBu9ab07vSa+isMMzOfZKON86/bzzP9ADtYVuBpWHGYgMCPrIywjJyOyJO8lkCVLJU8ntCmCKukl9SBRG7UWUBHSCc4Bzfiu8ozvde5/7S3tb+5C8ub1s/nX/K8A5gQMB7oHewcMCiEOyxHhE10WtRraIOUl8SmdK1QtRi4AL/8wYzC4MAIuqyvmKdAnhic6JTgiPR93HMIayxilFrAU0xGrD3kOpA7iDhoO/AylC2ALjQs1C8YJ0gZlBH4CYQBH/of7Afn69dLy8/BX77jtYeso6PfkjeE63z/cfdjJ07LPxMzLyYPH18RiwjDAI7+DvwDAzr9EwIPAecEMwinD1cPBw4PD/MNix3nOsNmJ5PbsWvQ1/1YMmRd3HQQgiyKpJeEnrCaQI10h7iEII9UiSCL0IuwjwyLNHwkcchjKE5QNQgU9/AL1w/C+7pXs8OrQ6nntIfL59zL9SwG+BFkIjgt9DawOEhBZEqYUNBfqGVUdniFPJt0qfy7TMck0rTaoNgc1rjKQLx4s5yeuIz8fZhuPGNgW3RUJFUsUXRPdEmoSJRLjEHgPvA0oDIMK2ggeCI0HowctB8kGLAagBcAE0QL+/6L8bfnz9Szy5+0+6grnzuSD4g/gdd2s2inYGtWh0YrNrMlPxnfDOsGUv8m+PL8xwC/CjMNRxSDH3cj1ytPKAsuayUjJ+MlvzQbWm99m6nTy0PufBvERXhsdIDQjGCVVJxkmFyIyHSMb8hsWHS4dXRwgHH0cQR3RHJgaRhZPEBsJ3wGo+t/0re8i7Hzqjups7DjvBfTa+WAAAAaVCvgNaxBAEioTzxOAFFQWJhgRGrMbjR5HIoAmOSpMLT8xWzRVN642zTSPMLwsySiuI/4eXRmBFrgTSRLCEC4QpBAEEnMT9xNDE8oRXhDIDhoNqQqVCEMGQgWLBKkEZgQABGMDxQJ7Adj+rfuA9+fz0e8J7Obnv+Ng4ETdJdvb2AfXVNWg0gvQm8z6yVfHrcS7wj3A6r7Xvdm93b7Tv5nCrsR+xzPJaMqty5LLYM0h0MfXauBe6irygvkwAgALZRS1GYsebSHXJGIlnSOWIMsdZR1qHSwezx06HfIboRrXGBUXbRSmELMLcQZtAVP8Vveb8gbwT+/o8Czz0PXH+KX8QAHgBUEKsg24EI4SCBQSFTgWhBcKGTwbwx2+IE0jlyXbJ2Eq/C0wMbkzQTQRM4owZCzzJ58iTR5DGjgX2RSkEiUR8Q/gD0gQahGDElgTVxMwEh8QWg1zCtIH6AWWBNQDNQOgAtkBvAB0/wb+afyO+kP4LfVn8Q/t1Oig5Arh+t1y22/ZUteh1WzTTNHqzsjM1MooyfbH/sYgxhrFyMQPxWLGzsfOyVnLK81szoXPps+5zznR49TI23XjcuxE9MP8EAQGCxgQjRO4Fr0YThsDHHscpxuZG9Ualxq/G8scox4aIMUg8B9oHsUaYxYYEQkMtgdaA7v/s/yK+hj55fj7+FH6hfxN/2kCPQWwB1UJvAnHCS0KOQqsC9gNMxA5E5IW0Bm/HVkicSeQLDswmjJ3M3UzWjJWL94qKyY1IRMdhBqXGCcXXBb+FdgVMhZYFu0VqRTeEusQ2Q5eDEwJpQVZAi0A//6c/jn+3v1s/fT8Svw1+yD5M/bQ8oDvkuzx6Wzny+Rm4jng1N6A3TDcr9rk2FbXKNbt1NHTfNL50PzP8s6izvPOas830OfQmdHw0uTTrtT+1ETUl9Mx0zLT49RN2OTcneI46Ovu9vbl/qwFHgoCDCgNKA7mDuEPfBACEaMRZxJdFOYXMBtZHfcdvR1IHhcf/x5mHTYaVhYTEyYQ5g3yC44JUAf5BWcGkQgXC78MwQ1mDi0PHBBjEKQP/w3rC3UKAgqKCpML5Ay7DrsRsxUUGjUeLiGXI/QkHiU+JEYifh9hHAEZRBZBFG4ScREHEY0RFROlFKgVVxaEFnMWyBXvE2kRbQ4sC0AIngUFA9sAjv6a/G37o/pA+p35ofjl9y33GPbh9CbztfBk7g/sCumE5nHk0uHC38Teqd3i3CTdA91u3OXcXd4b3x/e6NwZ3DPay9h/2MTWFtW+027S39FY0bjRkNHM0G3R3tNF19fagtxO3Bfel+KG6E7t6e5v75zx6PRi+vH/4wMjB48IYAtqEc0Yfh6BILsfSyCwI5gnGSqSKQAnKyWMJE4lMycxJ54kpSAEHlgeUx9NHqAaRhaEE9ISpxJ7EQQPpAuNCP0GagetCCwJrQhTCAYJBAtVDVkPpRFgE94UZRaaFx8ZERqQGS8ZwxiZGIkZ7hmAGm0brhuqG5YbtRs4HA4cuBpVGa4XvhXCEyMRMA4/C0kI3AUKBFUCfwAU/n/7afmv9/D1n/Pm8Eju5uun6XXnC+Vu4o/fudyq2i3Z1dco1jDUTNLZ0LTPlc72zC/LVMmVxzHGPcU+xOrCocEBwJ6/db8SwG3DOchczIfO2M6F0dLYqeFG6Pvqj+xi8BT33/2aBO0JoQzlDX0P6xSdHTUkdCXWIx0kzShMLtMwSDB/LpgstCt/LIYtqCztJ6gh5B32Hd8e/BxzGFAUihI8EnwRMRBiDtkLWwniB14IhwmPCTUIZAdGCFYKPQx2DZ4PiRLTFJ4W5BdnGeYa9hodG8UbYByKHDMcdxxmHd8daR3THMkcfh38HVMdLxy2GtQYtxY+FPARUw8NDAUJoQaxBGUCUf8Q/Hn5evdd9dzyKfDV7XDrw+h85t/jE+Hs3WHamNcr1SrTRNEozw/NFcu8yBXH1sYoxgnF/sKtwHK/PL+uvgK+yLxCu4C7bL6sxP7KF86Nzc7OcdUB4CTpEO0j7pDwbfYq/hQGCwxzD44PARDWFN4d2SWqJ0IlHSQNKNMtejGUMawvgS1OLL4s9C1oLQkplCIfHs8dvB5sHUQZMxVBE9sSQhLeEAwP0QxoChgJoQl3C1UMLwvnCWAKzAzwDloRlxMcFboWwBesGRYc2hziHDIcJhx+HSseQh7xHX4d6hxcHD0cuBz/HCIc6hqOGWIYExegFLIRzw4bDK4JMQf8BKQC8P/6/Fz6Tfg39rfz7vCK7jHs7+l+57jk9eHZ3kzbrdhL1g7UxdHZzqrMj8sNyjPIesZ/xLTDHMMDwvXAgb8fvkS9sLzCvBi9R779wX3HhMxMz3XQLtT927HkUOuM7hzxxfWt+zgCsAjeDcYQVhH2EtsY8SBVJvQmcyVVJlsqOS49MC8wmy7OLKkr8iuLLKUq7iXpIHseyB6eHnAcPxnLFlkVVhQ7ExUSnhAtDjMMnwu9DDUOFQ75DEMMMA0SD1MR+RO3FacWNhd+GOsaSRw8HGYb9hqyG40cCh0aHdIc9RsRG+wafBsEHE8b6BmSGGoXEBbiEx4RPA5wC90IlwaUBHgC/v83/bP6qPiQ9kP0svE179/sc+qu58nk6OHT3sDbINnw1o3U+tGiz7bNZMxly9bJtsfuxYfEnMPHwtvBc8DTvg6+QL1TvYK97L3uwI3G98t2z2TQr9EV2HLhIOkb7ZXuQvEM94L9fASQCgQODg+4DxcUcBwkJE0mvSQWJDQn/CvALjAvDi4PLHgqlirgK9srSyggI8Mf5B/hIKMflByzGQ0Y5RabFU0UJRMGEZEOnQ2nDlgQoxAmDxgO5w6TEJESNhQ9FSEWZBZIF0AZjhqUGiMZNhgbGZwaRBv7Gq4aRBqwGXAZ0RkxGoUZDxijFogVZxRXEosPxAx5CnoIbQaDBKMChAA4/u77y/mw90D1mfIW8KXtGutB6Frlr+Lx3w/dAdpG1/LUFtMH0SHPeM1ey5fJ2cdexmvF88MjwtjAl7/4vtS+7r0+vUG9Or5QworISc0a0BfQxNEI2Q/iUukx7KvswO/v9U39pQTkCaMMtA2JDxEVxR1FJHAlryNiIzcnvSvwLcAt4CsdKmEpFiqYKwsrUyezIiMgryCSIf4fsBzPGR0YNRf6FZkUMBPKELAOMw6OD3oRnBEcEEMPJxDuEf0TLhWJFS4WRhYsFw0Z8RnGGU8YcReaGDwaTRtAG8UaZhoHGtkZ5hnFGX0YwxYsFfsT3hLXEFQOygu4CS4ImgYTBUcD/AC//oP8YfoG+Fb1hPIO8Jnt9Opm6ILlzuI24JbdANuj2BrWk9PX0eXPCM4azJ3JmcfMxWnE58K0wX/AB78xvtG94L0WviS+f7/ow+3JO85Oz8vP0tK92n/jbOil6nbstvBc96b+jAX6CkANEA4JEf0XkyCFJfokWiPaJOMo9yxQLrEtHyw/KtwpmishLa4rKieVIjkhJSIfIpcfARw3GaMXWhY5FS8UuRKIEKkOWA+1EfcS/RGGEIIQ7RHrE+cUGBVRFV4VRBbiF1sZ8xmvGHUXMhgBGnUboBvuGkkaBhrLGZ8ZMBnOFwYWPRQTE0ASaRDaDWwLVgnEBy0GfgTHAo0AJP7q+835a/eS9HvxIO8b7anq4ecK5ajitOBe3qrb+9hm1nbUddJp0EvOx8sHyTnHKMYzxb3DosGZv2m+vr7Xvim/Vb6TvW6/RMRryoHOP8/vzuLSAdu34/no6OpC7Hvw8vbx/qMGLAvwDFcNOREpGcQhvyXqJIQjSyXyKfYtpi/MLoAsaCqfKsEscC5bLGMn+CKwIcMifiLjHw8c8hgZFyEWURWEFBoT4xDDD7sQqBJXE1oSdhH/EZITlxS+FOwUIBXlFRwXSRiGGWcZZRhPGJIZShvbG0YbaBobGkAa9RkdGboXCBZYFP8SPRLhEFgOkQtSCecHVwYzBPYBrv+Y/YH7ZfkU92/0X/F27iLsBOq65wblWuIi4PPdPtuo2AnW9tOw0QHP4MzJypnIEMcOxTnDMsJ6wBy/Vr65vS+9LL2IvAa9TsAexczJj8ykzK7OK9WN3ejkx+dN6WLs/fFP+fQAQQcQC4YMGg7iE8ccNiQ5JsEkUyQAKP0sHjDaMF8vXi3yK9gsMS/gL+ksyicKJJsjVCRMIyogVhxcGZIXexbSFVYVThT4EjISSBJHEycUUhTMFDkV9RScFKAUlRUfF9YX/xcBGAkYnhh3GWAaDhvrGjka9RkwGkUavRkPGA0WdhQeEyoS8xAND7gMMwpACOAGBAWZAun/df2C+5v5d/cC9SDyNe+T7D3qM+ja5RLjjuBX3mbcBNoy17zUB9LFz2LNGMu4yPfGRsUnw8HB0r9lvuq9TL2fvBW8C7sjvH+/l8TYyHvKKcsWzRrUDt3w41nnfOhz62HxAfkFAScHrQoZDEEOmRSkHXYliycTJvUlPSmsLgsyqjI+McwuqC3OLgQxvDHSLvkpViaeJR4m6iTJIYQdTRo9GCUXgxYIFk0VsRNxElESfxOXFFAVKRW4FPkTZhPsE2wVjhbdFtkWVRZTF00YPhkGGvgZkxndGOUYSxlPGQ4YBBYAFKESxBHFEP4O8gyKCjQIkAaxBL0C5f/P/G/6jviu9k/0QPEZ7jTrtOjI5p7kF+L+3mXc7Nkp2FbWeNOS0KfNWMukySzIG8ZNxLXBqb+BvvG9cr3jvIi7G7pPu1W+AsTUx5PIcshNy07Sc9vQ4fbjEeYV6V/v5PbV/gUFfQibCVwMxhPcHFAk/SVhJU4mRSodL2oyKzP5MfkvbS4AMF8yNjNWMMgryShIKHEo5CauI3sfLxxsGfcXpheaF3sWURRwEoMSZRToFWgWPRUqFB8ThBIyE5wUcBUyFYwU5xQgF9wY1Bm5GVYZIhkEGTQZOxl3GHMWdxTTEhUSghEKEAQOBQxDCsUIDQeZBMEBav5m+1n5c/c09TnyEe8T7MvpA+gA5onjWuBE3Zna7tgQ16zUktEZztDLHMq8yDDH98QxworAD79/vny+8LyVuzy6Proyva/CIMZtx/fGLMhjzw3Y0d4B4mTjLOZL7FLzX/tqAgsG+AfHCTwQ6RkSIh0lGCXpJa4pNS/GMnk0AzQsMpgwKjF2M0A1WjPoLq0rjio6Kz8qOSeRI7MfkRyfGlQaYxoEGe0VSBM1E4QV0Bf4F3EWwRS8E0UT1ROqFNQUrhNlEmYTARZTGBwZmxgqGHcYDBmpGW4Z4RdFFcASlhEvEW8QgQ5PDJ8KkgmSCM8GNwTSACL95/mM91r1tfIf77zrY+l/577la+OL4FLdp9oe2PfVsNO40GbNYspJyL7Gk8WFw7DBY7/Hve288Luyu1C6U7mcuaW8s8HDxTbHusY4yZHPLthp3uzgXeJ85YLr7vIU+3QB0gWOBxkKLhG/GuQihyWqJDglnikzL3MzxDTlM24yTjHEMo81QDcgNW8wqiywK3oshyuAKBskNCClHcYcKB3KHJwaGhcXFWMV3BdJGVAYWxZMFJETphM7FI8UERRyEv4RtBMlFusX4xcnF9sWdBcrGLUYEhgRFqAThhGgEBQQ2Q7ODO8KmAmSCCwH7AQSAov+/Pq99/f0EfKp7jjrXegh5g/kyeEv35TcuNnl1grUGdGxzX3KU8fIxB/DKMEvv3y9Hrzeuju6UrktuCK30bZ9uBO9OcFhw7LEW8eYzoLXBN8O44XlYej27PXyxvnKACwFGggyC/gR7Rv1JHEpoykxKW4qwi2XMNcxJzFvL1kuYTCkNHU4+ThpNeEwGy2yKvQneSMxHpsZgBfdGCIcJx93IJ0gcSA4ITAiMSGKHscaJhhcF54XuhjNGSsaRBp3G7gd2R8tIE4eChw7GtEY/hZYFEERrw4TDaIM5wxoDN4KYwjpBXoDiAA+/Dz3pfLh7jPsYumB5l3jX+D33fDbGtpX12LT5s5hyn7GG8PLvrW6UreftOazQbNksnSxlrC7r4ivPrD5r6exMbVUvWTImNGE2Ijds+bf8Y785gJcBX0I6QtBEYgWaRwiIc8iRCODJkMtlDM9NUwxtCyBKUooYybzIuQeNRrtFd8SfxKfE8YTsRE6D3oOWQ+QEBgQhQ5hDDYLNgtyDeoS8xgOHtEfBSI1JtIrfzCbMCYvLizSKXgoISfRJZojSyHrHy0hRiM3JGYjayGrHqkbxRg+FssTAhDGC9sI6gdFCEIIOAcqBqIEIwMbAUP+8fpm9qTxde0H6sTmT+N14Hndfdt72APVo9H6zEfJRsTdv427sLdmtPuxhrCarhWvfa4MrsKuYq4NsL6yabPqtCa4jL94zFrXnN4t45/qJfYxAh0KVQ10EbAUJxhtGsIdeiOCJxAovyYlKUcu4jJvMrktiymBJn0kDCJzHuQZ7RQ5EI0OEg+sDzsPmQ1cDV8O0Q/WEN0QJRBWEAgS4hVkGqYdbyDoIS0lpClsLUgwiDAbLwItjytyKmApGScEJPkhBCFqIa4hACGlH+Ad7BvMGaAXRhVqEi8P2gv8CAgHhAWGBBYDTgH7/0v+VPwq+XT1WPGk7frpduXB4RbdvtlH12/UWtLrzTfKq8YGw2bAT7yBub61wLKTrxWuza1urRWtHKyOrU6vprHIs+q2SL6OyX/Tmts54ADoZPJW/C0EAgmjD6ETuRVxFqcbSiTHKb8pMydMKuQv/jO4Mk0vLy0nKvElyCBeHmgdlRoWFf0Pvw4bELkQGg+ODWYNiA6sDjoOxA/WEr0WShjbGYAcpiD1JFIn6ylBLPMtqy00LaEstCxXLMYpJCemJMsj2yMoI1whYx+nHWgbDBlbFgkV0RMLETMNeglVB6IFKgSnAbf/R/12+rH3p/T+8nrwbO2H6MrjGOBZ3RHbUddQ0ynPecsnyKDFKcPHwXO+vbqQt5K0cLTEsoSxCbB0rvut766WsIKyI7bOubTC4szU1and7+OO7G71DP2zAm8J7Q4OEncTmhWPHJYjzSYbJ40oeSxnMPww2S9aL28tCSnNIpIe+B0yHaUZpRRwEd4Q8hDWD6EPcxC5EEAP+AzFDiATkRelGN8YBhthHlsjbCaiKX0sLi13LPYr+yz/Llov+itCKOUlrCVDJkYldyPfIVYfERySGQQYhRdyFWYRZw2nCsgI7gaYBPsBoP9u/AH5EPYB9KHy0e+U63TmZOJL33zcW9mO1YPSWs0qyZzFncNxwhi/yLtouOu1kLQDswmyNrHErmCtBK2OrgawxLJUtqa+u8kG0uzZKOBj6b/y//la/2gG+Qx5D2cQRBJPGpwiSya/JpgozSyNMHkxtDAXMVovwimZInMeGB7fHUcaMhWWEgUSpRGJEEUQEBH2ENQOrQvnDL4QxhSfFuwW8RlBHbghWyUaKdwsRS5qLT8sCy2OLjwvdywoKSInviVMJYwkuCMgI58gVxwjGUwXNxb3E+EPLAyKCYcG2wMyAssAmv97/JT44/Vw9NnyTfAj7N3nSeSd4J3dxtqA2GTVsdA0y9PHq8XSw67Am7wWuhm3k7SBsouxw7CVr0KtW6w2rfetO7GHtcm+sciZ0BLXOd4+6Azx4/gz/ocFAgvHDG4OBBPZGyQjMiZQJ/sq/i6kMYMy0zI5Mw4wWCkgI4Ygsx/zHeAZPBafFAMTbRF8EDsRbRErEOwMbwtvDTQQShMiFH0WpRn7HJAgRySDKassFS0cLJMsyi0cL3AuOizeKsMo+ybiJQ0l2yScI40fcxtAGC0WGhRcEFoMiQnVBjEDrwDt/jn+TPzK+LD1qPM28kTwh+2V6pvnLuTb4PPda9zu2tPXINPhzlnL4cgBxgrDj8CAve25jLZgtHKzxLGVrwyu3KyCrOesiLBIuGPCLspr0IHW+94O6DzvRfaP/V8ENweRCIQMZRWMHg4kOCe1KiQvpTHoMjg02jWCNNsuuyeXI3ciFCGeHmMbeRlkF78UcBJQEnUScBE/DqcLZgzIDXwQ4xHgFBgYUBvGHs0h0iZxKiQs1yvyK+Es6i3YLeYs7ywILIUqwyg1J/gm/iWwIrse0BpcFxYUCBBDDH4JlwYqA0MABP6u/M36wvfr9GzyEfCz7TTr6Oiy5iDkUOHR3lnd2Nsv2QvWltLEz0rM2MjZxT7Dq8CZvHG6wbejttmzyrHfsHSvYa8hrmuxLbcnwAfHfs3x07XbW+Qc6iXxYvgzAP0DVwY+CmMSDxvyIOolvyoWMHQyRjP3M941fjWQMcMrMCcUJTAj9iBiHigdWBuYGDsVURM2EvcQBA4UDDsM8QyIDk0P2RKmFpQaqB3FIMAkKSfmKIQpWypsK1YsISzsK3gsHS1uLTIsXSorKSAnyyP5HwYcvBhCFFQPbQuaCOAFCAOSAB7+9/uz+Cr1IPJn7+3sLupX50XlROOO4S3fu9223KfbxNmP1iHUJ9HzzvbKGcjkxHDCur/jvHu7WrkbuNi10LTxs0GzmLI+tDO5lMAvx8jMRNLH2UDh4OYy7e7z9/t5ADYDPQfyDlcXpB21Ih4oWi5HMf8xejI9NAA1jDLbLWYqnyjJJick+iERIcYf3Ry4GNMVsBOvEY4Ofw0xDfgNTQ7rDjcSjRWeGQIcCR+JIXIjrSSFJSsn2ij2KT0qvSq7KystzC1aLTsscypPJ2YjWR8gHNQYcxTxD/QL0Aj+BRMDqwBL/nL7jfc581rvMuzf6U3nKuVf41niO+E/4GXf4t7x3Vnbo9i31czTutC3zUPL6chCx4XEN8OJwVjA4r2suxy6MrjWtj60P7X4tzO/WsUWywXRNdco37Pj3+gM7mb1ePpr/fcAfAdZEIIXuB0eJGUrZzBUMlUyVDN+NMEzizBTLaEr5ypdKT8ndSYJJkskGyByG7cX9BQOEd8OXA2dDawNaw2cDxUS9xUAGFYawhu6HJQd7h1PHzMhZCNYJZwmCyj0KYkrLSxuK2wq8ieCJPwfOxxeGWIWDhOVD68Mswm+Bp0DsgCd/f75yvWr8dvtNesX6XnnFuYZ5UrkaONO4hXhA+Bs3gvclNhL1nrTtdGxz3bOeM0XzIDKWci+xmTEjcK+v0u+E7ybuyG6mLqDvU7DQ8vWz6/ULdiP3uPioOXU6CXuNfV++Tv9AwMkDEUVLxvgH6QlUyspLhEtnywILm0wVTADL+AuYDAAMU8vFy39K7kqsSb1IGYbYRjMFecUpRNZFHcU8xPSE8kSdxMME0ATHRJREbkR8hJBFTUXLRpyHZkfniCYIE0hYCFuIPke3h2eHZgcjxuJGjsamxmwF5MURBG7DSoKFgYSAiP/Tvw7+bb1BvMp8W/vLe0p6sfnCuUd4ljf1dxk26TZHtg81rnUldPJ0cHPnM3Byz/K88e9xbjDScJawTnAtb+Nvyi/3b5wwJvEXcso0MjToNat2xHhDeQZ50LrCfMi+Uf9uwEWCWISLRhXGw4fASU+KpgqqCnPKtAuVTF2MAIwcDE4M28xOy1QKlspfSfUImwdixprGSgZZxdWFucV4BR2E2QQ+w6MDgIPvw7cDYoOiRCYE2wVehZiGOMZBxsxGh0aPRuTHDIdmxxAHQQeZR7aHBYbyxmCGOMVTRIED78MmAqlB8IE9AGC/xD84fft87Xw7+3+6rXnpOTz4cbff92p29nZ3dcl1krTYtB/zazLfsoNyfvHksYQxqjEScMewvrAz8AEwEa/Br/JwFPFmcy20ibWyddW2rvfdOSB5wbqpe9Y9yz9/QCSBZwO0xfsG0Icfh0yIzQoDSncJ7YpIy9GMpoxbC81MDEy9TBNLJwnDSYRJvkj7h9xHOIbDh2PHBcaTRZmFIQTIRINEAgOkA45ECsRYxBhD3EQchLIExkT+xFaEjgT8xMnE8cScBNxFJIU5hIMEYwP2g7ADegLOwmYBxwG8gR/Atz/Pf1y+wn6G/eI9CLxG/AI7zDudeu/6Grmt+WB5bTkbeR/4r3iyeFk4Z3fI95Y3l/dmd4/3pneZt533eLd0tx83Tfdrt0g3u3eWODN4LzhAuL04yTmYegs6vXqPuzF7R3wIfI+9In2t/g9+3L9+P85An8EOQbCB5MJdAuYDTgP8BC2El0UtBWZFsMXFxlTGiUblRskHPsczh0VHscdTB0cHUYdSh3yHH0cDRzaG5MbEhteGooZoBiuF8cW7BUZFUsUZxN6EqERzBAEEAoPCA4IDTEMXguLCsoJRgneCGkIwQcIB28G2gVtBbAEFgRDA5MCAgJtAfIAOQB4/4L+pf2//OX77Prs+ff4AfgY9xT2HfUg9F3zlPKv8cTw0O8z76XuF+527QPtzeyP7DTsxeuf67vr3evF66jruevz6x3sMexv7NLsP+167aPt3O1b7tXuMe+T7w7wwfBo8Rjyw/Kg85j0dPU99iv3a/jL+Qf7GfxR/bj+NwBwAYcCsgMIBVYGXQdfCGwJkgp4CyYMwwx1DTAOqw7zDjAPfw/HD/wPDRAiEFMQVRAbELEPYg9QD0APCA+bDlEOMg4jDvwNpQ12DToN/wyHDAIMwwuOC3QLCwuECvwJjwkLCXYI0QccB28GkQWvBNIDDwNSAnkBdwB5/4T+mf2l/K770von+n/50/hA+Mb3cvcU96H2MPbo9bP1e/VM9T31cPWt9cj1zvXh9SD2UfZv9oP2tPb69jX3Y/eS9+L3PPh++Jz4vPji+BH5JPkb+SL5Qvl0+ZH5sPnl+Rv6SfpP+kz6ZfqW+rr6wfrA+uT6MPty+6f73fst/Ib80/wZ/Wb9vP0f/oX+7f5c/9j/UQDJAEkBwgE2AqQCCANtA9cDNgSSBOIERwWzBSQGgwbWBi0HfwfZByIIdgi/CPsIMwlkCY8JvgnTCdsJ4QnVCb0JkAlkCSMJ3Qh7CAwIlgcNB4QG8gVpBdcEQwSwAx0DigL/AWoBywA+ALX/NP/E/lf+9P2c/VD9Df3c/LP8ePxR/Df8Kfwm/CL8JvxB/HP8nfzK/Pf8KP1k/ZX9uv3f/RP+T/6G/rf+4/4S/0H/af97/43/qv+p/6T/ov+b/6X/jP9f/0D/Of8v/wL/0P6n/pH+cf5C/hX+8/3e/bf9kP13/Vn9Sf0t/RT9C/0G/f387/zu/PD8+Pzx/Or87/wB/Rv9MP1E/VL9bP2M/ab9xP3j/Q3+Lv5V/nz+oP7D/t3+D/82/2v/if+d/7z/3P8BAA0AKQA3AFgAcgB8AJYAqgDPAOgAAQESAREBHQEoATgBSAFPAVcBWAFbAV0BYAFlAWABUQFFATMBJgEhARoBFwEWARwBIgEjASABIwErATQBMwE8AUoBWgFyAYIBmAGxAc0B6AH6AQQCFAIvAj0CSwJQAk4CVQJVAlICTgJEAjYCGAICAuYBzwGyAYMBXQEtAQoB3QCxAIkAXwAzAAYA3/+2/4//aP9E/xz/9f7P/q3+kP6A/mf+T/45/iT+E/4A/u393f3V/dj91v3R/df92P3Z/df92/3l/fT9+f38/fv9Cv4g/jT+Qv5P/mz+fv6b/q7+yf7t/gr/Jf9B/2P/iP+x/9j/+/8UADgAVwByAI4ArQDCANEA3ADxAAgBFQEgAR4BJgEoATMBOgE+AT0BNwE4ATEBMwEuATABLAEpASkBKAEnASEBIQEmASwBLAEnASgBJgEmASgBJgEoASYBKAEoASYBHQETAQwBAgHzAOEAzAC3AKMAiwB5AFsAQQAjAAQA5//L/7X/jf9x/0v/N/8m/w3/+P7e/tn+z/7G/sH+vv69/sX+wv7C/t3+7/79/gX/FP8s/z7/Tf9W/2//jf+X/6H/tf/K/+L/7P/y////DgAgACAAHQAkADYAQwA7ADoAPwBIAEkAQQA9AD8AQgA4ADIAKwAvADEAJAAkACgAKgAtADAALQAxAEQASgBSAGAAaAB7AIoAlwCgAK4AtADAANAA3QDvAPwADAERARsBJQElASQBKAEfARoBGAEUAQoB+wDwAOkA4gDIAK8AlwCGAGwAUgA9ACQAEQD//+f/0f++/6n/h/9u/1//Sf87/yf/Gv8T/w//AP/2/vf+9v71/u7+5v7q/u7+9/73/vz+Cf8N/xj/FP8Y/yX/MP8v/zX/Q/9U/2b/bf93/4D/lv+f/6b/sP++/8z/1v/b/+X/+f8FAAoADQAbACMAJgAfACIALAAsADQALwAyADQAOQA2ADQANwAvADkALwAsADgAQABIAEAARgBNAFUAWQBWAFwAXwBpAG4AcAB7AH4AiACLAJEAlgCWAJkAlQCWAJMAlgCOAIcAiACHAIMAegByAGoAZQBiAFgAUABOAEkAQAAyAC0AIgAeABQADQAMAAEA+//x/+f/5P/h/9r/3v/b/9T/zf/J/8n/w/+6/7f/vP+9/7//vP+2/7f/tf+y/7X/t/+1/7L/sP+2/77/xP/A/8X/x//L/9T/1P/g/+X/7f/y//n/BAALABMAEwATABgAHAAhAB8AIQAnAC0ALgAmAC0ALgAwAC8ALAAuAC8ALAApACkALgAsAC4AMAAtADIALwAvAC8AMwA1AD8AQQA7AEQASABRAFMAVwBVAFcAYQBXAFUAWABZAFUAVABUAEsAUABKAEEAQQA9AD0AMwAzADIAKQAkABgAHgAYABIADAAJAA4AAgAHAAAA/v8GAAEAAAD//wEABgABAAcABwAOABcAFgAXABYAHAAfACcAIwAkACQAIgAmAB8AIgAcACEAIgAgAB0AGwAbABgAHAAZAB8AIwAjACMAKQAtADQAOgA8AD4AQgBMAFAAUgBSAFQAWABfAF4AYABuAHMAcwB3AHYAfACFAIEAhACDAIoAjgCMAJIAkwCaAJsAmwCZAJ4AnwCiAKQApwCnAKcAqwCmAKkAqACrAKcAogCbAJgAmwCRAIoAggCBAH0AeQBvAGcAYABVAFAASABDADkANwAxACUAHQAcAA4ACgAAAPX/9//r/+7/4//k/+L/1v/V/8v/yv/K/8f/u/+5/7b/sP+2/7L/r/+p/6L/ov+b/5f/kv+U/5r/nP+e/6L/ov+l/6z/qv+r/7D/tv+5/77/x//T/9v/5P/r//f///8BAAgADAAXAB8AJAArADQAPABBAEgATABPAFYAUQBWAF8AXgBmAGkAagBrAHIAbgBpAGwAZQBtAHEAbwBvAG4AcwB3AHgAdgByAHMAeACAAIEAgAB7AHgAggB2AHQAcgByAHAAZABjAF8AYgBhAFwAVwBSAE8ATABIAEEAOgA4AC0ALQAqACUAHwAWABIABgALAAUAAAD0/+7/6P/l/+X/2v/Z/9L/y//F/77/uP+w/6j/o/+c/6H/nv+Y/5L/kf+T/5P/kP+J/47/kP+T/5j/mf+Y/6H/pv+u/7D/tf++/8X/z//b/+j/7f/7/wMABgAQABYAHAAoADIAOgBBAE0AVABdAGcAbgB2AHcAeAB4AH8AgwCKAJEAjACQAJYAlwCbAJ4AmgCaAJ4AmwCcAKQApACfAJ8AqACiAKQAqACgAKIAmgCaAJwAmwCTAI0AlgCLAIwAjACCAIIAgQB9AHkAeQBvAG0AbQBoAGQAXwBbAE4AUgBUAEcASABCADsAOQA7ADEALQAnACEAIwAfAB0AFQAVAAwACQAKAAYAAwD5//P/8f/p/+j/4//e/97/2f/c/9n/1P/N/9D/0f/N/9L/zv/P/9P/1f/b/+T/6P/q/+3/8v/3//z/AAACAAkAEAAXACAAJgAvADcAOQA+AD8ASwBQAFMAXQBZAFsAXABlAGYAagBtAGcAaQBoAG0AawBvAG4AaQBqAG0AawBnAGUAXABbAFUAVABRAEwASwBDAD0AOgA4ADMAMAAtACcAHwAZAB0AGQAVABIADgAOAA0ACQAEAAcABAAAAAAA/f/+/wAAAAD7//v/+f/7//z/+v8AAAAAAAD+////AAD///7/AAAAAAMAAQACAAAA/v8AAP//BAD+////AAD//wIAAQAEAAsAFAAVABoAGwAeACIAIAAkACQAKwAvACwAMQA1ADsAPQBAAD0AOgBEAEcASgBMAEoATgBTAFMAVABXAFkAWABdAF0AYQBjAF4AYgBfAGYAYwBrAGwAZQBrAGsAbgBwAHEAcgB3AHkAbwBxAHcAcAByAHAAbQBuAGcAaABmAGgAZQBfAGEAXABeAFwAVgBVAFAATABOAE4AQQBDADsANAA2ADAALAArACoAJQAmACAAIwAfABsAFAASABUADgAPAAsACgAJAAoACQAFAAYABAAAAAAA///+//3//v///wAAAgD9/woACwAMAAoACwAPAAwAGAASABIAGgAXABgAHgAkACIAJQAnACYAMwA0ADAAMAA1ADoAPwBDADgANwA8ADkAQAA+AD4AQABGAEgAPwBHAEMAPwBCAEQAQABJAEkARgBLAE0ASgBMAEsASQBPAE4AUABSAFMAVABTAFUAWABQAFYAVQBVAFcAWQBUAFcAXQBXAFwAWABbAFMAVABLAEwATwBOAEcAQQBFAEAARwBDAD4APwA8ADUANQAxAC8ALAAqACgAJgAoACcAIgAcABwAHAAgABYAFgAZABUAHAAfABsAGgAeACAAJQAmACcALAAxADAANQA1ADUAPwBCAEkATQBQAFQAWABhAGkAawBsAHAAdQB5AH0AggCCAIEAggCIAIwAjQCPAIgAigCQAIwAjgCNAIgAiwCJAIUAhgCJAIcAggCCAH4AggB7AHkAcgBzAHUAbQBvAGgAagBpAGoAXwBZAFgAWwBYAFUAVABPAFIATwBMAEkARwA+AD0AOgA+AD8APAAyADEAMgAvACwAIwAmACMAIwAfACAAHwAeABoAGwAcABsAHAAYABgAGAATABMAGAATAA8ADwAQAA8AEQAQAA0AEAARABQAFgAWABkAHQAcAB4AIwAhACUAJgAnAC4AMgA5AD4AQQBDAEsATgBTAFgAUQBbAFsAXABlAGUAbQBvAG4AcwB6AH4AfgB9AIAAgQB/AIYAhACJAIsAiACIAIYAiwCKAIsAigCMAI4AjACKAIMAfwB8AHoAfgB5AG0AbQBjAGUAXwBaAFsAVQBVAEgATABIAEEAQgA+ADwANQA2ADQAMAAvACgAKAAkAB8AHwAfAB8AIAAdAB4AHwAeACcAIwAkACQAKQApACsAKQAqADEAMAAvADIAPAA6AEAAQABFAE0AUgBNAE0ASwBUAFIAXwBUAGMAYABnAG0AcQCBAHAAjgB4AJwAjQDHALAABgEnAS4BJAA7AR0B8AOYCp4FG/+s/5MDpAPYAOz/gAFdAYoApAInA9EBaAEuAvsBsAFHA/oDMgIdAmQENAdYCt4LpQi6A+oCFAjRCicHuwTGA4cDrQafBnoCUwDjAfYEGwNXAaT/ov1A/6v/rgOKA1QDTwOcAsv++f17BeMCKwIGAB7/ygAv/uX+sv7e/lH++f5WAh//CfvM+Qr7UvyV/H78H/qG+qv4dfiK+Uj5BvrO+MP3yPgQ+N340/hf9on7qvnX+gP6Ffmm+tv2ufkg+w/9xPmI+Db71vpj+Qr6Qfw6+3L6Nf6I/Jb57/qF/MP+H/4m+xH+l/vb+aIBNP5Z+pj77f8N/zv7Fv8r/uX6Zv7gAFYCDgCp/mP+CwFNASABpgONAKEBmwERAgoC3gDMAh4CnwHIA/sDTQPcAPYBuwRDBDcBQwMkBD8CmAIuAtsEKANhAe8CbwMeAjkBwgIAA1QDygJkAjICuwA6Adz/9QDcAD0BxABkAHoB5P6Q/hsAcQEc/2P/rf/s/f/+4f6W/i/+Yv9AAIr9//0L/sv8b/3R/u79Mvw4/R39p/4X/hD8Wfyl/B79B/5x/jj8QfwS/wn/9/6Z/6j9LP1L/vQAyABj/yr/KgD1AYQBtQINAigBUQLMBE0FcwNrAgcDjATuBZIGHQYOBrwF+gYICKcHvAfmB1kHQQh7CYQKKQmeCGcJJgplC0wLFguuCXQKlwoBDNIKtwmfCisKugrWCiEKkAj7COoJ1wh/BpgHcwceBk0GqATcBAMEwAL8AUgAkQAMABf+wvyc/OD7yPjC+Mz5RPfl9cD0UPfy8hbzj/Or8CjwaO/c8LTtfO597aTsrOpE6/Trk+pZ6V7pMurK6XbpYOrb6E3oRels6cPpmegh6mrqpeze7vLxu/Hg8OHzYvd2+pD7xvzY/6sDfAYECOQJlw0TEU8TvhWoGPkacRygHXwgWiOoJKsktiXLJsknNSfDJrEnaSdTJvskoiSwIzEhdh8PH1sexhs5GcAXJBYcFZITEBI2ED4PzQ0NDOgKJQqMCAsH5AaABiQFlgLRAJIBKwCm/3n+UfyH+5X4bPnr97n06/GS8U7w3u6a7OvoaeZh5lfluOFl4Jvdk92K277Yd9dS107UzdIq0SHQzM98zSDNFMyPz6zT5dca2FfWk9bw2qXhZeUR50bqqvEO97z5Evvk/n8FmgtCEIATDBd0GbYb4h0/ISoltCaKJwcnISexJuQkMCTpI4cjmSKFH94bPxhRFdUT/BHaD2MO8AxjC88JowcNB74HMgnFCe0JRwqCCwkNRw90EocUfBbxF5UZaRsZHQkfPCESIzgkaCT5I2kj1SJ1Io8hTCBIHhMb3RewFKQRXQ4MC1QHIAPt/pr6Z/ZU8/jwIu4266Xne+PN4Mzeh96d3JnZZdib1kjWGNT90l/SO9FA0XLQU9BCzpPN3MtiynrKSMnjyw/OL9J902bTptXW2BzbwNzm4QToLO0r7l/x6vYX/dMAlQPKCJ0PbxQvFWsWHRpkH/chwCLRJOcm9ibLJG8j+iM4JNMi4SAvHxQd1hndFQITchHQD5QNfQqeB+EEDwO/BJcGbAYsA/cBOwWSCMIIhgjAC5sQzxMrFH0VkRehGu0d+yCeI9Ak9SRXJQMnXSiHKDAnzSarJmUkxSC8HZocEhsrF9QSBA8LC50GQwI1/1v8jvit9A/x8+2I6hrn5+RM43HhkN4l3GvaJdnw1inWLtWU1NXRuc+w0IHO4s2Xy93LFss4yHvFHMVQyJ/MNtCbzuDQztMU17/Wodce31Ho8OyF7EHvyfUU/oIA1AInCeoR8xddF1sXShznIvglYybqJ0MrCCz9KO8mjSdlKZAobSUeI0sh8x0/GZYVfhTbEyIR5QxYCWsGYgSMAacA7ANoBt4EeP/U/u4DCQgDCP4IvgwOEVkRwRAmFK4YAB3YHr0g2iKEI7EiuyP3Jpop3SjFJTIlmCTgIUAewRxYHfQa8hRpD5wM3QkVBn8BLf+W/Jr3GfLM7p7tuOtl6IPlEuXy4QjeM9q+2kbbQNoI19rV/tRi0tbQyM5x0GnPjs41zNjKEMngx1DEecQUycrOL9KZzs3OBdNT1xHYQdrl4Izqle2S7Hfv7fae/94CGAU/DFYUoBeiFu8X5x4JJognAiiXKc8rjStNKCQo/ykGKzspASYcI7ggrxw1GUoXzhUcFFcQFQwhCAwFDAMKAkAA1/8HAmYDWQFu/Bj9EAQJCaIIowdZCjgP/hAnEucVphpGHnEfRCB1Il4kQCVoJ/UpHSwUKo4m7yV1Jgcl/iHnH0QfNxy4FQcRsw7lDKAIaAMhANH8Wfce8k/vo+7j7PXoL+VQ427gNt1i2wzajdp72DvWItRR0r/RUNDKzzLP9s7kzMTLlcpxyWDHMMZixc3EUcgUzBDQS84Pz3vUS9k22bHYUN/+6VPvx+2J8J/5SgNIBZ0ETguwFmkcthrLGvoh9CmiKtcoUSvsL9cwhiyNKqUs/i0mKxQnLiUPJP8fTBoIF+kVVxRNEK8Lagi7BSAD5P+6/S38nvws/0UAaf70+on8fAKPBoMG9gZ2CnEPURJIFJUXlBtHH74haSMgJbcmMShFKmIsES0kK4YonidXJxYlqyEWH10d/xmIFGYP7gvPCMgELAAB/Df48fPI7+bs3OqI6Ifl3+Ip4a3eGNyq2qjaSNpT2BDWCtUZ1QzUX9Om0rDS/9KC0ajPEs/Czv3Noct8yv/JVcmyy33QBtUf1WvU49aF2nncB9+C5DbsTvGd80L3K/0xA3UGvQklEYQZSB35HMYe6yQ5KhgrZytkLhkxLjCCLF0rmiy8LCUq7iZ9JJQhVRxjF84UfBNJETcNDwkoBXcBr/3E+3f6cPqr+LD4Gfr2+2f8QfrI/LQBEAf+B30IFQwbEjgWvBh4G+8e1SIXJMEl0ydyKh4sHiwTLOMrMyqoJw4m2yQSIxIfABsoGJEUEhDaChMHXgSNAJn7R/cy9JnxD+486lfoRee95FDia+Ct4IvfBt7+3KvcMNwo2lLaMdlN2snYUNdO1n3W4te51VzT8dJF04TRb8/8zPTM38oyy27PatQ/2XXXftWM1m/bqeI65p7oTu009Sf8Hv8b/xMDuQvyFFcauBrVHDwiqyeBKbApGSzuMCYy4y7MK0sr0SxVK8YnYiVnI50fThmtE6kRdxCADRkJYwU0Al/+h/nc9hX3nfdn96f06PVP+Qn9Jvx4+iH/sQbMCz0L3QyPEmEZXRxFHnAhSSUQKMsozipELTAvrC7MLUQuhy1kKk8mNyWWJDIhWxtGFw4VUhFWC/kFlAP7AIL81/aV88Hx2O656p/nTecu5gTk9uGe4RniueDm3y/fUt993u7c3Ntp3Ovd4twk21PZs9qj2n3XOtag1WnWztPH0BfPz81PzDDLbM4J0xvYUddi1rXXfdox3+Li2egh7/jzcPin/YwB5AQRCSoQIBlbHfgelyDcJMMpAytDK2ItJTBeL/srKCnHKYApUCYLIwUg9Rw7F0cRMw4rDSQLYgcmA7r/OPy+9271UPXM9gH3GvYr9Y727vnY/XkARwGuBUALbBCOEk0UmRlnHwokdiYKKBYq9yzbLn0wTjGWMWgx+i6NLdUrTSlGJiwjzSAeHY4XgxJeDxcMNggeAxL/Nfwx+Hf08PAp74rtLute6MbmQOZf5SDl+uPV5D7kPeMx4vThCeMZ4Xnfq96+4Nnf6dsW2n/ZtNrs11DV3dNm0lnQIs2bylDJosj3xJPGxMtu1PjWBtEy0KTUu94O5K/km+iD8n79LQLkAJIBhgsXFvkcbx5pIEgn5SvrLFArwixhMbozRTCjLJsrcis7KTAjNCBZHtkaXBRaDYkK4wkoB/wBwv1C+yb5r/QI8f7xffR49g31EvQL9SP3afzrAukIwArdDCwSyhg7HLAdASLdKCAv1jA1MCYwajKmNLs01DNnM18y3y4JK38oSiY5ImMdrRnvFQARiAvzB1sFUwKN/fD4/fWU81Pxj+6Q7TDtI+yx6fDnwedO6Nno1ej66FHpVejp5d3kjuNL5K3hs+Ei4bbeCt6t2I3VotTk1GrUn85+ytPLMsmtxR3Ci8CJv82/pMX70EzWJtJfzi/RBN9a6Fnnx+h59OIGNg4NB48FAREwH2MlpyMaJ74w/TSHMpAt7i4PNAs0UC8wLEkrfClCI3Ab+BdLFYMRTgt3BEUBVv9Q/PX3N/M08XPwoO7Z7E7te/Ck9Kn1fvXZ9kr6iv67BK8PzhibG4oZmR3LJXIqVCzxLtM2GDxSO/A2xTPpNGk2djR5MaUwXi4PKO8fthz6G3AXLBEGDUELbwc5AQb9W/yk+5z4X/Ro8jDzwvLS8CTw0vEv86nwOu6j7krx/PGI8Ojv/e/F79Lp7OVh5MjmruaS4RXeHdrF1tjQis0yzGLPOcxGxV6/qL3Jwc+9arndt5a5QLxbwSXKRtW11inTXdet4ufxOPQD84D9IxGNH6wbURT5GqwqBjJsMFMwljhCPx45HjBqLFcvri+uKP4iAyJKH2gW6QmHArIB5P9c+4D1SPHn72TtM+pT507ns+pO7nbwKPKz9cj6oP9yAnwG4QznE9wZ6SIULaQy6DBOL2s1jTpaPJo7Lj1YQIg+sjj0MFYsYytCKcIkUSHPHlEZVRCTCXUIcQemA7oAYwADAN787/hu+Kz59vre+hT7vfzd/fP8QPsd/MH9u/2O+wv7Jfzs+hD2g/Ky8R3wHetq4xHgjN4R3EzXhc80zajK1cVqv9G8rsB/v7+63LWlt8C4GbiVtuq2IrmFurbD9dD64hrqcuZt5Aftu/8mCCAJKA9EIcoxLTHnJVIhACrBM4A21TO2NX84FjLyIwAYfxYpGNQUKw46CoEHjAB18/3nP+bG6ifvMu6J68brk+zM7JzsJ/C3+IYC/Al6DgoSVBZ0GoYd8iHKKJsvUjS9OdE+XD/YOOMyqzO9NVc11zEDL7EsnierH6QWDBFJEEkQIg4ADJEKQwdaAXf9D/9uAnQE3AXQByUJVwgHBygHWQm7CycNxg0ZDgwNdgl8BQIDgQJlAOf8GfkM9n7y3+xf5hLiAd5m22vWXdLbzuPJosdsw3HDYMFTwqzAgcC+wLTBScPBwVfGdMhPzaDM0suOzRvNUNEO2WvocvlFAXz/A/tN/GEECws2DkwWSSMgLmErYR48FfUUrhkNHVwf9SIMJOYbMQ2HAEH8CP9OAZECNwTGA+L+EPRv62nquvG3++0C2AbsB7AHxQVhBZoI1xCeGoMibibtJvYk/CELII0g0SPEJxMvdzMHMtAorR9uHSYclhu4Gr4cGx8pHRYXsQ7wCFcIjApxDRgRrhTXFM4QMAy/CsoLQg1EESYWyxg4F7gSiw6GCwUKKQphC3IMtQvsBvj/avrg9sD05vLD8anxgO4B6qHk4t8K3ZHZnNfj17/Y1tVv0DTNwMp5yWDHSsnLyrHKo8x9yh7MaMhvyeHL68zQ0MPPg9Bt0KDQj87L1P7ltwBdDBIFMP12/7cKSguACDkRxSg9Oys1kR17DLEMLRHtEecT6xw4JF0Z3ALZ8BLtrvHL9SD6BwImCFgEgfZL61vtU/rkB0oR+Rb3GlAc7BpoGYcaux/AJpwsyC3ALCUpqyUqIOUbeRe7GFweoiEwIAcZkRacElcM9waEBysPiRYhGg8ZORQbD+wLrQukDyAYZSD0IuMf0BpBFmkRyg/FE9oYthsZGpcVPQ+7B4ADIQLgAuUDBwMNAEb7Mvfv8iPuMuuf6vbsL+2v6x7op+RC4X7d0NkR1uvXKNtS2jnVCc68zC3M9cnByDjImc8I0vjTltLZzujNrczG0SXVc9cu11rWXtaA0ybYw+R2/Z4RpBImC1gEWAqVCzwF/AUcGQEy0zRsHroGo/+zAngC2P/RBaEStRXQB8/1te1a8Ir0MfjIAfoOuBXYEX0J+gjCDnwVmxicG/Eh7SjcK7oobyLMHDoYUBVxEkoSRhPTFOsSywy2A+D8rwHCCUETlBaDGnkdDRnUEtQOSRS9HQMmIipuKK4j0xxtF2wUThYZGzkdNBz4GEcWXxImDQkLLQzxDdEOSw5fDgsN2gq3BxUENABf/Zn9j/7T/zD/YPv99VjuvOkL54DnxekM667qMuW83sfXs9Mc1DfWbtkN2d7W2NPezOfH48NyyPTQrtnX29rZ4djg1QfTes9S0tXZA99A4CncFNhL0w7TO97X8rYLnhRKE7kJZAXwAgf+pv+2DJYigyyBIn4PTQMIAToAPv4PACgIlRDSDiAHUf+//kQASgD6AY0IzxGzGKQamRuVG80Z5xTVEMwR4hc4H+4hNiA4GrQSgQnLAZT+iQG2B/4MNA1XCt4E8wTBDbAYOiGgI5EmAyh6JDcfRx3OIcknASkiJFQdQBj7FE8TBRJPE6YU4ROpErcRYRNoE+IR1RGNEs8SyBAuD9IP8A/xDBUHPwEv/VH6u/hE+Iz4cPiz9bDwpOt46VjprOnB6TfqCukC5iLiU94F3HjcNNzG2z7a4dnh1h7ThdJv0fzT59Or1oLVyNa70yTTkNJu0UvUWdPV1QPTptIjzxbOaMukz+3fLPkoFaMejBoZEFYJYQVG/1MChhP+Kb4wMyJVDrAE+AKZ+zHyD/Io/6gMgQx2BawC8wUCB7UAwv1jBAUTyR6OJIImzSWSIW0YLRC4DCsPXRTFGIAaoRe/D1wF5PyU+an6Qv7pAnkI9g1UEVQU1hxoJiIt9ixpKl4ppSZ6JXMlwSf0J9kichl8EH8MagufCwcMYw9SFHMWARb5E7oUBBZqFsUVVxXaFToVpxM4EBgLEgXh/7P7iPit9iX3Wfhl+fT3sPQU8jXwYPCx8E/wXO+M7TTqQOaN4/PivONz4Zre9to22F/V8NLm0S7RSdIr0pHTrtKs0afP+c1xz/fR6NSN2MvaodsW2oHV2NKI0YHTlNO01lvk7v88G1EkTx2cELAKSwTA/Zr+AA46Iy4pfB38DEMG/gIF+VDtUO22+6gI9glwB+gKKxJREPoFUf+MBCMRExrJH40kwyjsJaoaTw4kB5sHwgqQDfwPhhEAEP4KHAUqAcr/iABkA28JTRDNFiAarB+3Kc4whjAEKX8kYSEnHq0axBrQHQ0fyhkoEaYLIgnrC8oMaxDrFq4c9R86HpscURtnGbIWWhNXEp4Qog2MC+4IkQVpAEz7Ofgf91f3dPgB+jv8p/zk+wb44PQ380LymvHu7nPvfe0G60LkTt883Qfbr9qq2IzYPden12PUy8+WyiDJSci+yh/QXtLD02jR49KV1NjS6dGT1YjYgNpe19zVA9bA1ZbdyuwZA9gU7BpuF/8PiQiFAjYA0QTmD3YWBBV+D3sLNwmTAeL45PWV+lIBIgUQCgUSbBnbGaoT5w1BDCUPsxJMF8wcyCBoIP4ZdRIdDIQIiQZRBucHxQlyC+8LDwwmCz4KeAnWCdcLaA/WE9gXHxu3HbskYCvGLc4qnCV9IUgbMhasFS0ZkRwYHHgX9BK5EO0P4Q/dEA8VWBpaHf4d7xyDG74YehRFEMsNOgyLC9ML7AtaCooFGwBx/M76//lk+uD7cf6S/vT7W/gJ9CLyeu/77Wftu+x07Cvp9eSs33Ta2thC2TTactuL2rjZitZR0rTRS9Bz0q7UFNYB1q3TmdQ91RrWLNi62A7Y09f91pHY/Na91sbXz9b91CjRhtiC7KQGdxfaGe4V2BGdDBIDov68B04Z2CHzGvUPWAxNC40Dmffd8+n7uQMmBYkFTAznFMQUoA0ACbYL4xCzE8oX/h/fJmYl7BziFWkS5w6oCWwHqQrUDrEO4ApeCB4IQAdwBEcDfAZ8DCMRshpKKKoy8DPoLJonIiLEHMYaXR1sJCgo5yQcHY8Ujw6SCuMIcAvAERQYlxshHB0bERlLFPIPgw9LEbYTuBRGFdkUFBAZCXoCZf01/AX8ef0L/8b+If0h+MHyN+726hbp1Ogu64Dsx+t66Jrj4N5R2mfYZtd/2sHdDt+i3OfWl9D5yiHJUcvrzhjTF9d92IzXn9HnzXbNcM8B0/HU2Nf22QDZS9cE1QvUIdPV1p7kEfxNEIEV6RGADokOrQhk/or+Pw1wHnMhLBguEQYOGgff+5D23v0JCecL7woMDlsUjBPlCTIE3ggrEQQU4hThGu0i2SP5G0oUKBFJDxYM0QqDD/oUwxQND8EJyAcIBuQC0AIpCMsPiBPIFqMfJCgcKh0lXSKhI2YigCBUIX8m4ypIKDQhHBlfE8wPyA3vD7UV9RomG/MXORUEFNURXw/EEB4VOBjxF9IVbBOPD5cJdATAAV8BxAEqAa8Ax/7T+vz0UO4t68fqIOyS7aruGe8E7Qno0OIg3yPcYds23DzdUt222+LZBdV80LbMocr0y57NA9Nc09nTBdO70OHOyMsCzz7Q6dJ61KbV49Y/1ArUeNMP1fPUPdho5R35/wkhC9wFXgUKC2kKHQIHA+MS2CTEJUIbqhSvEUgLSQBd/xALExZlFTEO0Q0UEHELQgBO/X0I2BNJFi8UZBfjG3sYRREHDxUTwhTAEooTLBndHMkX9g6dCk4LtguFCQsLsxCyFSsVAhUTGgcdVBvWGOodlyRDJQ8jjSL5JBwlwiFJHoUcEhx4GiEZThp2HMMbiBe+FLEUnRRfEqkQ8xKEFaUUSBEpDjsM7glIB30G/AZ3BmkEoQB8/b36sfeT9IPy3/Jd8/fx3e776wzqQ+co5d/hC99e3ajbrdpN1wnXNNbE1PLRQc4ozWzMN8/vzo7P0tER0+jTLNEd0GfPmtDJ0vvUE9Xf1drUh9KB0UvQj9Eg0UjZ1uks+1T/7Pmm+Ov/cgYMA9sCBw34GxEimR2BGhYaiRXCDO4JdhN0HQQdYRXTEuIU3RBCBpcAJgYJD9UR3xGqE/QUShCRCTsJRg7fEUwRExI7F5AamRZuD08MlA60EKYRkRPAFpEXGBZIGN8cgx10GV0XbxxmIc0hniCsIHohOiBfHs0dmR2jHMAbWByJHn0flxy7GBkXfRduF+0VBhX7FCIUZRL5EEAPggylCXkIbQj/Bs0DxgC2/hr9qvr79+L1zvOk8e/v7e4D7o3r0uiD5/bmquWV4brdB9wU2zDZt9Ym16PXnNUE0xjSR9IT0SbQ6M/k0djSg9NC03nRGtER0B7RStJB0zrT0dIN1F/VjdWg033Vq9xo5znvPu8G77XyL/lh/Qj+wgE8CfwNCg/4EFYVzRfuFAgS3xW0HCcfDx3tGkMb9xpaGDUXHBntGhoaRxhyGEEZKxc0Ey4RxhFgEiERFBA7EMoPeA0AC2AKCAs3CzsLuwwMDwkQFBAaEQkT/BPTE6gV2BhUG1kcqxxWHYIdBR3sHCQd/xxuHMIbkhuoGy0bYRp+GUgYVxdmFjQWlBa/FvEVQRXmExMSgxGWEPsO5wxTDPQKIghzBkIFlQLW/g797fsd+rP34fWQ9JjyCvFg7yvt0urj6FrnguW24xvi/d/G3WDc0dvx2mDZY9fx1QLVLdSA03HSp9FM0dHQBNAWzzPOY80BzTnNg81PzbTMVMwpzOvMUs/w09vX7dl72xDexuID6CPs7+5i8cL0MfpsAMkFiAlwCxcNfhA+FXkaPh6xHzogPyEgIxolnCYwJ4InJiigKVkr6Sr0KPAlPiP7IVUhiyDNHpgcdhr6GIsXhhUIE44QRw8vD8YPSRDxD+cOtw1ODcQNyA4kEF8RiRKnE6cUihUiFooWeRa0FtgXXxl1GuQaqRr+GT4ZdBgNGOEXhxcWF3gWuhUIFbsTzxG+D/QNbgwYC2AJUAcXBb8CkAA7/gH86Pnh9+f17PPY8ZHvNO2/6k7oLOZS5Dzir98m3fTaBdlI18LVY9QX03zRHtAAz6nNrczwy1HLwcphyjjKNMoUyo/JGMkVyXPJUso+y8bNN9Lg1cnXKdnE227giOWo6UDtsfDR9J76igA4BfgIHAvIDWgS1hcBHX0g0CHOIigkBCb4J74o2yhyKUYqEyt5KwsqSidCJFwityEEIW0fdx2zGzAayRjwFt8U5RKKEckQPhD4DgINjwuGCwoMFAzjC5MLzAvWDJgOzw9wD14P7RAlE+sU7RVuFpoWHhelGIYaeBtzG78aOxpBGjoaiBmYGBkYyRdGF1cW6RS7ElAQiA7/DBoL8QiHBiMEyQFK/6X8Bfqh94X1mvN28bzusevH6HTmQ+QF4ojfIN0J2yDZD9fR1InSotA3z0fOoc0dzEXKB8llyE3IFMiFx3fHEscRx4/Hecdbx9XHTcmmzeHSr9bE2Fjagt0m4tfm4uqe7kjyQ/c9/YACIAZ8CJIKrA47FOYZUR6jIPchbSMbJQcngihlKZYqICxTLXAtWiwAKkwnDiXLI60iyiCNHosc4hoHGdYWxBQeEz4SqhHZEGEPYQ1BDI8MVQ1iDRAN0QzZDGYNNQ4CD/gOzA43EEgSpBP1E64T2xP1FKAWgRiIGbMZfRkGGfUYyBgyGKEXfhd4FwQX4RVkFKQS1RBcD+gNEwz2CcMHmgVsA/sAfv5K/FP6cfhK9rHzxvC+7R7rBOn+5nfkceGP3hPcotlJ11LVX9Nv0e/P3s5yzaPLPMr4yNrHVMcyxwfHjMbexXvF48SuxCHFssUxx/jKcs+v0hvVV9fx2m/fouP+51ns5vBR9i77h/9kA1MGpAk9Dn8TVhjGGykeNyADItQj3iWUJwEpvSpELDUtMS1rLDUrhikAKLkmHyUoI/cg0B7zHBEbKBlDF7EVlhR5E/cRRhBjD3QP2w95D/MOxw6ZDuMOMA+cDz0QsBDbEboS9hJSE1wTrRPPFO0V/RbXF/EX9RfBF44XqRd4Fx4XBBeBFtQVOBURFL0SVRHSD2sOugykCnUIKwYkBCUC4f+h/Vj7/fjD9pD0K/LE71rtFOu46ADmGeNI4Lfde9tc2THXT9WA03nRpc/szfHLXcoqyeHHFsc4xkHFsMTMwzPDRsPmwuHC0sPmxTbKFc5L0G7SUtU82W3dLeGS5evqOvCf9Yn6Xv4sAi4Gpgr8DxoVTBnKHHEf0SHlI5MlkyeMKV4rEC0KLiku8i1JLTAsjCrsKKInHyYFJKghWx9YHZ8b3Rk6GLEWEhVOE0sRIBAIEOEPWA/XDp8ORw70Db8N5w3IDuEPHRH9ERASdRIaE6MT2RTrFZwWexf/FysY/xewF8UX6he4F3sXyxbNFVAVthSmE0kSsxAvD7wN3wu8CYUHbQWoA6gBRv+y/DL62ve79YDz8PBC7rjrbunR5tnjAuF+3jncOdoo2EfWQtQn0mfQbs5rzOrKkMk/yE7HMsZDxU/EUcO3wnzCacLXwgjEhsY4ylzNTc+d0dvUe9gk3AXgueQ76ofv5/P898v7IQANBRUKIA/aE4UX/xowHtsgNiNOJcsnWipjLJAtNy5ILlQuLS42LcUrUCrHKP4muiQ1IvgfAB5/HOsaEhkmFyMVPRP6EXERKxG3EBYQnQ8PD3wOCA7jDToOCw/7D3YQlhD7EJURWBJZEz4UExWvFRwWfxaeFrkW+xY1FzAX3hYUFjkVuBRFFIYTZxIFEYMPvw3CC7sJtQflBSQEFAKX/+n8Vfry97T1dvMV8Y/u4es66Y3mreMA4X3eO9wS2sHXtdWs06PR9882zlHM4cppySDI98aUxXbEd8N/whPCsMFbwYDCJsVzyIXLtM3rzxLTS9Z12UvdC+J758zsAPET9Sz5b/1hAroHzQxtETYVmRjiG54eECF7IzQm5yg6K6kspy09LncuUy7wLTctJyy0KtMolCYuJBwiOyCTHtgc9BocGSAXaxVyFKkTuBL/EVoRlBDVD0kP/Q4IDxcPXw+sD3IPyw+YEDoRHxLeElMT6BMOFA0UQRR6FP8UWxUwFfwUeRSXExsTqBLsESoROBAND5oNvwvxCSUIcAbgBOUClwA0/s37fflN9wn1s/I98MftX+ur6AvmiuMI4a7eStz92ajXaNWh07/R3c83zoTM28o5ycfHesZQxVrErcMBw2HChcL3w5DGTsm5ywvO3tAG1LDWqtnv3c7i4edN7CvwmPQK+b799QLyB8MMRREtFc4YDhy0Hj8hDiS2JkspHCs/LGYtBy5ELlMuzC0wLVIstirAKHgmTCRxIrAgzR4HHR0bQRnPF48WaxUuFD4TfhJlEV0QxA9jDyYPBQ/hDq0OSw5DDusOqQ9xEEERxxFgErQSlBKREsQSPROpE7kTjxMpE3kSzhEjEU0Qfw+uDrkNlQwJCzUJbwffBV0EfAJQADr+Mfwb+vn3tvVc8/3wnO477MPpYOcM5cbimOBk3hjc29nz1yHWfdTa0iXRo88Gzo/MT8vGyajIz8cFx4XGC8b+xQ/HHckcyzbNRc/A0brUS9d/2oreq+Im5+/qf+6v8gT3svueAGIFCApPDigS0xUcGe4bxh6sIU8k9CbOKD4qdis1LN8sLC01LR8teyxTK8kp3icCJjIkWCJ6IIQelRy9GjoZ/Be7FkcVHBQLE84RvhDjD2EPCQ+KDjEOtw38DLQMqwwMDbsNJQ6kDioPZw+eD5kPkw/YD+8P+Q8DEL4PWw/VDiAOaw2ZDJoLnQqRCVAI8wZvBe0DUAJzAI7+qfzN+vL4J/dM9VrzS/Em7xTtA+v36AXnLOVU43/hj9+p3frbatoP2dvXpNaF1WnUYNN50obR0NBF0MXPdM9CzzDPrc+y0BnSytNg1S/Xf9nC2wneleCo4zvnqeqV7Yrw5fNv9077JP8cA/wGbArdDS4RCBSxFhsZhBv6HSQg9yFdI5gknSVSJsUmHCdXJ0gn8SYiJjMlQiQUI9AhbSD5HngdGxzkGsMZjxhFFzEWLBUIFOoS8hEoEXYQsA/8Di4OfA3yDG0MIAy0C1QLBgvKCqMKTwrnCZYJOQndCHQI7wdlB8AGFgZeBZgEsgOwAqsBpACj/6D+nv2W/Hz7ZPo8+Tv4K/cj9jv1GfQT8+jx0fC577futO2g7M3r6uo+6qDp0+hG6LXnJefv5rfmuOa05pvmqeas5t7mB+dl59znGuiM6ODoQOm66SHqu+p961/sTO0y7ifvT/CK8bLytPPp9HD2FfiA+Z/6x/sV/Z7+CQBkAb8C/QM0BXYGwgfxCPUJ1wrGC+EM1Q2YDj4P4Q+SEBIRdhG/EQsSUhJ1EoMSjRKYEpgSjBKEEn4SZhJKEjUSIBIEEtwRuRGREVERDhHNEI8QOxDQD2wPAA+ODigOvA1TDdgMSwzDCzkLrwoaCoMJ5ghHCKQH/wZZBq4FAQVPBJgD6QI5AnsBzQAlAIz/9f5b/sf9Mf2e/Bb8nfsp+776SvrW+Wz5+PiG+Bn4qfdJ9+T2gPYe9rH1RPXr9Jv0SfQH9LPzfvM88+3yq/Jq8kHyG/IA8t3xwfGW8WzxTvE08SLxDvH18NTwvvCt8Lfw1vDu8PbwD/FT8b7xI/Jw8szyXPMa9Mr0YfX09ab2gfd7+Hb5b/pn+1n8X/17/pL/kgB4AWICcQODBIMFYwY1BxUI9wjOCZQKRgvsC4sMGA2gDRYOcA6xDvUOMA9TD1cPTg9BDzIPHQ/oDsAOdw4SDrUNaA0JDY0MDAyMCywLuAo2CqgJHgmgCCkIwwdSB9UGVwbiBYIFJAXDBFYE7AOaA0ID8AKiAk4C/QGwAW0BJwHfAJEAQgAIAMz/gP8v/+b+kf5J/gT+sv1p/Rb9xvx1/Cn80Pt0+y775vqe+lL6Afqw+W35MPny+ML4ifhR+Bb43/e69473Yfcv9wr36fbE9p/2efZR9in2Dfbu9dT1vfWf9YX1bfVM9TX1KfUd9Q/1CfUL9Rb1M/VU9Xn1n/Xa9SH2dfbd9kz3zfdc+Oz4ifk2+uz6p/tt/EP9I/4A/9L/mwBnAUMCEAPSA44EQAXsBYwGHwejByUIkwgACVwJrQn1CSYKUgp0Co4KpwquCqMKnQqNCmsKRgolCgUK4Am0CYMJUwkfCdoInAhiCCoI7ge0B4AHSwcQB9EGlAZZBiYG7gW0BXgFOQX2BLwEdgQoBOUDkwM9A+QClgJLAvYBnwE3AeEAkAA8AOz/lv9M/wH/vf56/jL+9/24/X39Tf0V/eT8sPyD/E38Ivz8+9D7tPuE+2T7Qvsh+wv78frj+tL6yPq8+qn6m/qU+pb6jvqN+on6e/p6+nf6cvpp+mL6Yfpn+mn6a/p0+nn6g/qG+pf6tPrH+tz6+PoQ+zj7WPt1+5b7vvvd+wD8NfxR/In8ovzZ/Pf8OP1g/aL91f0g/kj+sf7u/k3/FQC8AEsB4wECCDIHLAKUAjoDJAMFAG8A4QJzA4EC2QJRBNID5AKxAyMF9wPoAhQEOQRIAwkDxgM+BKIC8QLaBF0EUwM2A0EEvgO5A6cDfwMZBIoDTALnAtAE+QKIAggCLwQQAtYBiQLiASMDbAGpAXEBJwISAL0BRADrAFACD/8PAQMBhgAqAeP9AwH2AIn/2f8w/mUBJ//+/xT+AwAlADf/2v8m/ZcBCv6I/iT/Vf6X/yT92P4Z/07+dv6Z/j38XwD0/Vn94P+C/Nf+2v7W/b37Rv9YADr+YPzv/uz8sv2vAX78oP9t/ib+MQBO/VkBav8cADACmP4xAlb/HwFV/nn+FQEh/ZgAAwB2AEn9Tv9ZAH4ARP7w/wwB2P4ZAGn/kP9l/KgFz/ya/i8AHv99Bwr5Z/6UASUCYwLO+AgCIgTp/2r7Gf24BCMF/Prw+KQI+f2M/eb+bv7cBLb3pwA5Bev37wKo/mb8YwIfAWL6SP4tB5b3GAGnANX9+ABJ/pT8GwCDBk/7F/wNAiMDKPzH/5IDa/p7ASwBgf6v/OD/6QRf/7b87ABsAmgBMv3+/2UFEP/F+3QAgwjl+iwAjwA2ARkGJvkEA6oAwQBsAEb9VgaP/NUCIAOK/LkALwHmAKAAJP+F/cMGTv3HAEP9UAJMAVgC3/ly/MIMCfXr/4MAPQcx/B71Vg37+0j+cAPU/akEh/q//msDYASD9CUCwwqB+9T78f44CqL9RfkXAg8Ggv0U/Wr/mQY49yr/Mghm/UD7YPsqDP799PZJACIIt//787sDtQzm9fb8AAdKAfn6CfveC9v40QGs/58BdQCR8zQTtfcx/Mn/VP6qDMLvEwDBBZn+XPzR+G8LXv7i++sC1PcbByMA/fjSAYkFk/oX/uYInvbL/+UI9voxAc8D5vt/AGYBuv4/A0z97fyAA6kD7P0O/tsGXfn/AmMBnQDABu/3IwAoAvX9ugGhAKD+9fz6/1EFuf8NAGoA8vyZ+8UFXv4yADn+3/vYAR36ogT6+SIA3//m/AEGhPmlAn77NfmNA4b+WQIo/w/9q/yuBTr8fv3KAcj30wiu++L/ZQeI9NwBoQCW/jECQgTw/TT9OQRP+H8CHQK4/nkD+P87ATUAkQLM+2MAGAn6/wL7Qv7AB1UFePuN+4kFOvzIA80B2f5nBuLyawOaBxf6PASJAij/LPxr/7QHNfun/YkFWf7V/qYFcP8m/qD9PQAUB9T8FAHfAI37gQs7BO/4ZvzN//kJkwFj/UQB6f/cALn9hwIoCTT9ufvLBHP/gARZCSP6d/aSAL0IbgSc+YYAuf1e/XP/aQB2DTv4IfbyBGoDhwdh+Kv8Uv64/KAC/wFJAff6qP2c/PkHr/zg/0ACdfbFBND9EgR//Bz64QKb+38F7AJy/uf9evp6Az8FQ/2X/YgAef9pAvH+kv4bBZX66/wQBmQAqALY/Az8Wv0zBgcFMfY6At0CNQKj+gkA+gbQ/7X83viIDUoE2PYS/iz/YAhA/g//yv9b/oUD2vvAA9/8tAF8Agv12ADpCHQEo/fY+H8Gnwbx+1f5ywdyAdf4JgH+ALIFF/2f/WUBGgGwAmsAu/9n/m0FzQFu+jkBggd0/lr+VwA3BOIBrvoIAK0FOgO9/DUAW/+CAlADqv73/YQCfgDfAOQBfwIlBVz8b//3AlQFswSI/m794ASBAp7/XwOx/xkEsPrL/x4Iyf17A3n6SP36BIb92f+h/Df+/P+8/yb+uv9oAvH9JfxV+2kEMgEG/IP9o/5iAST9Nv/M/WAAV/x1/esB1gBtAH357AB3/CIBWwBb/AgDifshAXH9kv+4/2X+gv6a+HsBbQFC/nP7UgD0AYT7ZwDR/1YBqQB5+hL/HwDHACQByP6CAMf+3v8NApkAzv+IACoBlgBlALwBpwPf/yD+nANNARsDaQGvAA8E2P8DBOwC1QGRAegEtgHtAq4ElwK7A/P/VwZfAl8EGwWDAAYHjAGxAXoF+QINA/ED1gLxAfQFbgMcASABIASxAyECSwFdAQECLwIqASv9uwUtAvr9ygBNAOkBHvwF/kz+EP6l/Qb9of42/PD+0/kz+uD61/pG/fr2qfdx+fX5qPWC9wD6QPas9jb06fhT9sHzs/aa8hH1avjf9Fb2TvcD82r1DPYs9yH4mvfe97n2vPq2+Kr4V/yW+ob8sP5GAAL/wABQAFkBpgNqA3wHpgaiCNUKVAkGCjgLBA39DGYMNxDvEDgQnRDzDhQSGhJHEPoTRxL+EdkTFRE+EZoRYxI+ESYPihFZE+8RZw7VDpUOjQ5oDu8Nvg25C34LSQryCXcI6AmPBooC1QRRBdoCTv84/RX+VP7M+dv6s/tO99XynPJI8sXzrPDG643q/+rj6ibmWenD5S3iFOTT40Pk7uHU3Cndi94S3+ngadwb26TazNto3GXaw9qx2JjbxuQZ8WD1Ue8G7TPycvxp/pYAhAdHDJQO1g1sEnEYhBiMFMkSIxvMIzEkxx1TFkgUIhSSE3kSDBOCE6EQugvGCb4KXghRA+YAUwQSDeYQJxEWDwMN2Q+aEjoX+xp3HpcgqR9RIDEiTCTUItUhkSPSJuAo0CUCIu4cDBplGGMXqhd6FsMTfQ7MCqYHOwYPA8j+Gv31++b77/g79iDyvO9o7z3vm/BD7s3qFefX5cvlYOSK4jff993f3R3dxdsT2OPT9tCbz5rPXc5ey1zJzMYqxt7FJ8afwprCq8tr2mjoBea54Xfi8+x190L63v/OCGQTRhX0E8EXtx7JIDIZkRlxJCIvfSs6HEsUwRNuFLwP9AvYDYQOlQiLACX9efy++DnykvCc9+P+awBo/V37Qf1z//oCywzeGa0iXSSGIqIlOitGLU8tRC+BNGk4Jzc0M4kuIio7JU8hRSJiJQElhx85F8YRlw98DZQLewtgDFUM2wnrBaUD/wBg/hL92/1ZADYBD/6b+IP1g/RR8xry8/AY8NvsPOiU5J7gq9yl17jTZNHczhrNTMzDxvzCRL6+u4O8H7kxu863F7detbm2JMHoz9nikecn52nl7u0D/E4B4wbJC80XOiBzICwiBiRxJ1gi/R2bIYUpFis1HpgR8Aq7CyMKfQT3Av4Ajf88+WHz+/Fa8AnvUu1x81z8oQNqBKgCPgSYBtgL+RAdFzwgEyw4NRM3gDI6MBsytzIANC823TdNNawtayerI94gQB7KGsoY3RlMGSQVbA+OCk8KLwt6Da0RgxMCEpwNZwlICasKCQt8ChYKNwrBCL0DbP5R+4T3WfVO8mXwFO5X6JLiYNyz1xbV6c9MyVDEKsNTxCzDzrw5t/a2NLa1tz204rIIs8ixf7DWtH/ButbV6nPvNfAU7Xv1awLUBsALdhAGHMAmJCedJtYmJya4IPQZwRjyICkifBc5C04CwgWYBR7/kPsd+cv5hvWm73HwKfSM9ur3KfzaBMMNew3bC0gMihCNGB0d2iLlKA0rqzDqNOw1BzOcK1Er1yy5LW8uRyv1JUwgGxv3GNkYQheWFZkRyg/EEsgSQxIlEFwPeRLEFHEXaxhXFhwUjhIjEuAUnRWME04QUQufCKAExP5m+hr2lfMH8nzu9um846Hd0tga0xHPNszHyIrE/L+3vl6+vL2pvI+5Hrh0uEi4+LeLszKyd7WLtVq9+MiH4NP1y/bu8BfsbfnLCB0LvgljEOIfRCdJI5odcCJ3Iv0Xlg+bEMoe1x1ADvIAy/6wBn8EbfyD+bv7Tvv29YPzYPl+AYkBZAL6BugPSRa6EvwQCBNsGQIhZiT4J6EpYChwKsUtgy9LLLYmgSWBJ3koWidIItMbPBibFo4XyBiAGPYWRhO8EucVaxgYGXoXAxfmGAwcIB6ZHewZ+xa+FfAVQRc4FncS0gyPB+gDnABQ/F33m/GO7b/qZef+4urd6tjR1KnRBc5Qy/LHssUtwz+/Ir4RvtO9yb1Tut+5lrkZuH64jLTAtdSz9LnxyD/eQPO09Tb0M/AS+qcEzwdOC/QOEB3fIiYkayOoIgohmhUHEE4RnxqcGqYPLQblAv8HUgXq/zH7Hfr3+kP4fvpm/5oFNgfiBvwKvRANFlEUjxOBFTccDCMoJron7SX3IisfPCJaKOksoihWIvshZyIaI5gdaBigFa0V8RjtGVwbeBrUFxgULhTGGYgdQh7PGh0bXB0PH7AfGhyRGTAW0xSYFK4TLxLrDC0HlwKmALD9F/jC8a7sS+qn503mjeLf3g3bVddl1QfS/9BwzanKo8aBxIDDscLGwsK+SL0uu9282LwNuYGzarBGsc6xwrgaxxPlVPmu+fbw9O2CALkKQwprB+kQEib5LR0qjCR/J9skKBiFDD8RSCCHHRcPUAGDBG4MsQVd+kzyWfUe+b/4ovptATEIPwhUB9UJuhG0FeIToBT2GKsjCyqmKnEnTiJ9H3scfB9SJaYqrygCJKsh3h93HpgYhRRTEl8V4xqgHKUczBnpF0oVgRVdGUkdEB/EHFkcYh1wH8we6RpdFx8VqhQwE1YQdA0ACkMGxwKx/wj8pPay78nqUOh35zHoEeZk5DXh1d2I2qrWnNTz0cnOi8xIzAHLYcnXxRrDl8BCwK+9n7u1uf23v7bTrjmuZ6pWsmjFs+Kr/O754vIT77r/aAvECnIKWRLFKegypTJHLKkrBykMGMkObhJcI98iFRHqAgQDBAzrBAn3E+2q8K73HPjZ+ggAcQfLBr0DBQduDjwVWRQpFQQbuCU7LdwrdiZWIE8eexvYGxgj3yn+K08kIB+1HRIb+hcVEs4RHRVuG7kephysGb4XLxeXFXcYixzvH2ceVxsUHF8dhx19Gd0UUBK6ESYRwA4bDJsJmwdWBCwA1PtQ9jrxQe3B67nr8OvY6h/or+TO4rvfgNyv1xjU5dHI0aLTbdA1zE/H2sPCwZC/HMA9wPe7N7rjtnm1UbP+sfuu863EuqrWkfhWAcf7ufGD+FQKPg+wEXgSSSJkMlQ1CTNLL5sthCHZEo4NpBgMIcoYTQnA/sEDcAR0+6vvNOrE7zn01vdc/dkDVQdEBYsEbAhdEPgUgxf7GgQiaCsLLuQqDiPKHK0ZeRp4ItkrEC8tKM4fvhwMHCgarRVKE5YUdxm+Hu8fkx2/GdUWGxUmF9AbQh+BHiobLxrwGzAdGhuDFZoQDA/6DiMPkQ1gCwEJHgWoAYH9W/mW9A3wOu477/7xRfFS7UznTOLG30TdQ9ve2N7VQNZ30yTT+M5yyhrGGL/4v3i+VML3v2O8ebmZtdy3HbFEsO2qZq+qwkvdwv8SAhr7XfEC+2INSQ9eEugUaidMNNs3lTXlL1Ir3hrCD/4NIhohIS8VzwfM/sADAgJi90vsN+fO7fTzRPrp/toCVgTlAcACxAYyD3AUahgrHRskliwFLkMpQiAHG48boB6OKOAwjTF2Knogjh9PHVwbuBjCFVYYZhztIe0hVB1wGHgVQRRUFgYbIh31HGkZFRnBGuMapRkPE3YOmgwuDkUQhQ5JDEsIoQRmAJn8Fvg29B7xYe808Dnw9e8B7Pvkq+B93UndNNyi2Z7WhtJX0wbQp8zGxcTCMsDSvoa/KsCowLe5hLe9srOxJrKBruOvh7kw0+30VwBW+0HyRfZRBk0MIA82FQAiuy+6M+sxVTGSLC4gpROmDmoYDyC7GT0OhgIqAk4B5fnF8Nnph+uU8cf2BPxn/3gALQB2/9EBnAi7DxMWuRpIH7onyCuDKkojHh0DHf4fuCXpLP40RjKlKacgJx6IHu0ZGRpRGUAbTB4ZILEf1RiHFEITXxRTFtMZURxzG/EZNRhPGVQY6RUNEqcN4Q1sDyQQaA5zCmYHmANc/jT6zvVm83nyyPFx8gnx0u0t58bgv9z73J7cq9o92FbSZ89fyt7KB8fxx2HGqMDlwpu9BsKuvjK4f7kdsQuy/rS4sVe+9saQ3X/zN/Vm+032q/oyBDUJchLGGl8kYC0uMcksES2DJHUcmRqbFeQdlRrmFb8R2wVBAyr99veR9RHwYfCW9F34zfyh/Sb7Y/7C/8AC6AhuDGIWnhtaHyUlOSUbJvkh+x5sJcotkjPCMrYuoCsaKBYjryLuIDodnByWHOkfih6/GlgY7BNtE1sV9RcoGj8ZjxegFooW/ReVF6ET5xBmEDsRJxK/ELIObgv7BqYE3wB0/UP65Pa29FXyE/EI78nqMObR4aDfQ90527zZztTA00vPMc+Ny27GEMbfwfXGHMKqwwzCyLy3v9y2F7vrsjyyT7OQtJHHZ9fe9HX4BvbY7yLzZAMIBQcQLxS7ITkqTitCMsct7ygCGqkVTRxzIkki6xZjE6gNyQjZ/yj66frN9N/w6u9r+PwA9v37+Jr2v/yZAecD+AfTD4kY2hssIGgjeCVXIXwcbiUGMYc3YzSJMGMxJCtFJWAkJiZuIxMeIB6hIdwhSxw/F/wSDBO2FdIWExkzGOYWwRQtFA0XdBZ0EkwPzg8xESQSEhEXEHMMnAZyA3YAh/64+oH25fPW8rDx5O6t6uTlbeE13bLamNnY1xXVNdHqzgrMM8pdyArGsMJKwKrBe8HowWi9bbyQuYK1dLJWsTixD7mAx4He8vPr9CH0Se7H9cD/mAORDvoX5CN4Kdorzy+2LswkthhaGXgeNSbAIMkYIxZ8DrgJXwDU+xP76PT68UH0MPvy/3b8o/dc+JX7uf0mAnQHQxGVFwYaaR/WIeUihR62HfUp7jNYN/Uz1zIgMg4r7SaUJ0gocSP4IGIijyPOIGwaMRe6E4gU6xWFFh0YFhf0FbIThRRLFigUABB3DroP8hDwEHgQPw/yClkGYQMNAcn9jvnC9gD1FPSx8OrsHOjE4xng6dzY3FDbbtdO0a7NOswXyjfHZcYqx6fH78NAwebABsDevx2/NLyiuqu2erd6u3y4MsJBzaHkXvVb9FL1sfEU+3oBMQcpEmcdzyV3JQQpSSyzLtYjrhkqHTUhhCZgHnIYcRbKDmIIrADJ/1r/Ffk69Lr2Yf0Z/8H7svcA+/T9X/4tAykJ1xJFFnwXkByYIA4hMh9KJegvBTbwMy0znTSCMCwsiyn1Kq0puyWJJQglQiOKHo4ZXRZXFkQXQBeAFwMXkRarEzMSPxNEEmUQpA62D2IQwg/aDvgNtAvUBxsFegKsAML8d/mO91T1H/M474Hr8+f+4gLguNyj2z/YudQr0HXNAM1ayK/IMMQwySvEZL6mwLC/DMPhu+i9kr/EvP64R7igvEe4n74syjbj8PXX8wH1R++P++ICowXSEHkZZiQtJfko6y+jMBUlJRpzHdoiAChnIMYa2RmpETUM/AICArAB3fn19ID2Lv1g/5n6/PZm+cT7FvxcAI8G3w9XE3sUARpxHu4faB+DJWswIzZENBg1izbmM2MvCS1ULp4sACmvKGQoniXnICcb7RdOFxEXbBfEFoUWWxUYElAQ6BBxEBsO6QwXDfUOCw7ODVkNiQpoB2AEqwKjALz93Ppe+Gz2KvQm8absHucu46Pevt352y3aG9Vz0X7Myckxx1nDeMTBw+jFC8RCwGi+eb4/u1y8LLvCume4F7a+uV+74cIf0SDoefJy8YvuGPJZ/78A3AcXEjYe0CZeJCAqyS5hLCYh5RtfIicq+icYHh8cuRgZEucI3wLCBSsBfvnm9Sv5bP5A+6H1S/Uw+Sv68Prm/rYHyQ4ZD6ISeRh3HZocLx2WKJQzNDbVMyA2qDe0MgkuTS9vMWUtqCpKK8UqEibUHpwakhdCF4kXpBeHFwkWPBN6D98ONQ8uDrILHQzDDUwOfQ2jDMkLHwhgBboD/QL8ADj9ifrQ+CL3TvSM76frB+dt4qneYd2k3F7ZlNN+z6zMOcm5xpjEjsQ/w6/BysGIwHm/lrzAu/66f7gSuGa02LgrtxrA7swK4OPxHe4T783s5vdC/2YD9A8VGlYkJCRwKBgtqCwWJWscNSO2KIssAyWeHggdqxRrDQcG3QWIBDD9dPiw+fz9T/vS9ZnyO/Wa99b2z/tGAhwKTQzHDaoTgBhCGZ0YlCBqLkU21zVGNa433DRkL1gv2jI7MjstjizZLWYqRCMxHa4ZrhdUFw8YkxhIFw8UeBD4DX4OKA7tC6gKpgvVDLYMUgwdDOoJ0gXLA8ICpQEz/5D8XPov+TD2z/JR7pjpI+Z44ergjN5c3EXWDNGoz3/Lp8hDxE3EY8Q8w+vCC8GnwBy78Lr4vRS9x71NtRO4Xrr7uyDIRNK06V/wau4l7WXw2f3HAAQHYw/YHsQkmCS+KH0qJCzSHwke7CXDKwEs2SAWHokbMhVVDOwGjQdkBBr+1fjS/J3+2vk19OTxI/dv9yT3ZvuNAk0J5Ak/DNwRvhbCFQQXyyLzLyo1VTKCM782BjKFLpkwOzQEMl8ttC44L7UpNyJVHTkabhloGeEZhBlpFh4TNg87DfsN0gxnCjoKXgtNDIwLQgr8CagGYAOzAvsBTAHp/rX8Evui+EH2svJK7sfp9+W14iPhCOCQ3JnXm9JEz27LescLx1vGRMSDwwLD7cILv5i7oLy6u4O607uDupm7bLi7ub3Gh9Kz52bt/Oyg7Nvuaft8/yIHOhBwG74gdCQpKvYrGypUH5kgWiefLJEt/iORIUkcRxUUDxULtQrLBen+6fvd/rj91vhx86zxRvW69JL2k/p4/xQEtQTSCJEOXxLeEV0U7R8gLU0yNjHWMt00EzHGLlUyEDZsM5EvmDG8McArPiSMHyIcAhp4GsQbHxvCFlsSEw6JC+IL0gqMCSUJxQlyCqEJ/AjQB6cEewJeAk8CkwFS/y79nfti+ez3PvW18PHssugG5r/kouKj3hHYP9Qk0YXOhcmnyrbI6MOIxBnAHsNIvf67xr4Duze8lLsru8S5OLhwunzFBNAS4kHtZOyF7QLujvem/hoE9g7HGb4ggyUnKV8qACo8IsUhuScLLN0utSfXIxQgtRegEcUM9wr9B1YCOf/f/5L9+vgM9KDw6/JW86z0jfgY/LgAagLNBOAJMA1/Dn4QyBieJm0vNDBhMGoyhjHsLm8wxDUONvAxUTLCM20vRyeYIYUewhvPGpwclhzuF+4SZw6TC1sKHQprCVMIOQjvCK8IWwegBlwEYQKRAS8CLwL7AJ3/2P1V+2z5zPd/9FXwke2F6uXoXuVD41veW9mZ1i/Sbc+pzGbLkMfIxhPEaMU1wNS/q8Bfvmi/IL0awKa8urqHvce+GMT8yxPedezN7SLt2+zp9wX82gHBCdUV+yADImkmFCk2K0UkFB+GJEIrzy/UKbgmfiLPG1sUSQ2VDdUKGQc3AVUAdAAX/Cb1wO/p8YnzUvT89eP5Jv9J/2oAAAR5CXsMoQyTEZMepiqrLVQt9S7OMawuaC2yMz43gjTTMeUzUDNbK8AjDCH1HZkbgRxJHQwbxRR/D/cLbwleCU4J6gdeB4kHJgf7BVoEXgNoATEAtgHsAmwCFwFS/2z9D/vE+dH37vPC8CjumuxD6aPnGOSZ3xjaE9aC0/DOa80rzHLKUMmJx+HEJ8Jvv+6/ur9nwJvBdsNlv/S+icBvwI7E1cju2WfpCe5A8e/v4fWv+qL9iwZkEWkcRSJzJUUnhir6IzYfFyH/JcctliqmJx0lhx2FFjIOUAsUC7YHIwM3AggBH/5499vvL/Ek8qzzNvYO+U7+yf5r/gcCmga8CbQLYg+1G+8noSvtLJMtHTBjLkEsRjKuNgQ1VjPoNJA0gC3dJKMhzx5pG7Ic2x1QHGoW9g9UDP4Iigf1B20HTweWB+MG9wWXA/cBkgDV/5UBugOuA3gCdAAN/k38EPoA+Sz2cvO58ePvyOwy6bflBuKE3LjYqNXZ0rLQjc6xzYrKxseExFPE5MEuwhTBi8H6wm7B/8K8wO/ABMJ6wU/GSs7Y377uH/GZ7/vvrvjO/GAAkwdlFZ4f2iIyJ18pLikkIDQb8iDOKOotGio6J04jaxsGEb8JOwl0CA0GhQKyA60C5vuo8pTsXO8f8wD22PiR/DsA3P9i/xACRgcGCuQMRxN0IEMrJi2XLOosCS//LGMt0TO6N4Y1FDPkNO0ygyoFItgeqhzmGuocKh5LGxsULw5+CmIHhQYwB88HNQipCEkISwYmA+EA6f8ZATMERwY0BtQDPAEk/qT7+Pk3+bT3rvXq83XxL+5R6Ybkg+DC3LbZRNiC1UTT5s7Uy+PJB8c6xSbG18QUxVLE18MexQTCDcTHwhzDAsO8xdjG/Ms11WrjL/DE78PyAPN1+nj/bAIBDNUVHiAtJOom7SZmJG0d6xqVIRYnEyzyJ8UkkB93FaoNzwb+BRwGZQXWBK0EjgHB+Vfxley/8G/1UPme/eEAwgQfA4cB7wL3BkIM7xGiGg4nOi+iLhMsjCsZLawshi6RNa44IzbMM5Qymi3uIyodNRwQHEgcyh3tHN4XuRAGC8EHuAXwBfsHIAk6CloKoAhhBb4BEADmAHMDoAYoCM4GtQQKAdT9fPq2+Er4pPcv9jL0mfDK6wnnveDY3SPaa9m/1hbUfNJGzYbJbcahxFHCb8J+xMPFZMPlwuTDKsNbv/C/m8FNwz/EkMcR05rdTuxJ8XPyK/Og96z/BgLdCIYSjR/XJXgobCmrJY4g/xmZHVckEipZKoMlHCGOF+EMSQOGANoB7wI8BNUEqAMc+0Twoenx6hvyDPjI/jsEYwicB4QD/gG3BE8LRBMdHT0orDFDM/guGyvpKl0skC5eNAQ6KzlKNBcwMyveIgwbcxlLGyscoBzJG48XShC4CV0GjQXFBrUJGAzQDEIMJgotB/0DjAJuAy0GWgk5C8sJhgZnArT+sPt++U/5iPh496P0l/D46iflU+A13UTaatgx1hDUCtADzKDJVMRAxMrAtMUcxUvFhMamwUPEhL8awwrBocI1xuXIv8ojzHzY5ONr8BHxq/T2+Zv++gROBXMNjRYbIDsmtyf6J0kjQh0/GaAdQyJJJQcklR8EG/MPggbn/9/9/v9qALgCqgNqAKX3eu6+66PwCviI/XcE1gnzDLcKhQZiB2MLnxLrGtEjTi4rNAIz1C2VKukqXSwhL240Zzd7M6guHSqgJKAc5hbFF2kZHhrqGTYYLRO6DP0HzAbCB/gJVg2QDkoO0wyMCuwHXgUGBToHTgo8DNALwAgZBO7/Hvwo+rb4Mfjo97b1KPLx7BXnt+Cq3KDas9mk2OnVQdR20FHKU8gxxZjEtcRgxcDJSsfbxjLGRMTQw6DA4cT7xJvGDcg4x/jNedPf517yS/YZ9ub2kgLWAYYFcwl1Fysk1ijIK/InXCS0GNoVKxloIdgnKiRxIgoZUw9pAlf5kPkV/CgB4QOsBmICzPea63zn4+5k9zMB7weqD3oTjA7KCCEGwwtxFNAdfSirM7U4ozVcLkwppShdKactYTQxN9gzGi25JkEgehfuEtATRhfRGa8ZjRc7EqkLlAZaBTEHgAt0D1cRZhE6D4gMLQlQBkkGyQgZDLUOrA2FCuYETv+b+3P4L/fC9sv2nPV78gXt5uYW4FfbBNk32LvYmdeY0xLPnsp/ybHGKsXfxmPI8smnyVXLj8e3xSfCjcSNxOLERchpyYXIu8am0GngS/MI9pn2bfe//tcFfwL6BkgQ5x8FKSIrJixwJhccJBKXFMocVSQIJDsgrRyVETwFjfjb9Dr4jPvHAFMFSgYf/pnvwufP6xD2of5fBxcQ/xelFqoPggs8DEUTWRsDJtcwjTc5N74yhSwSKFcmlCfFLZ4xJTF9LPolDCAqGMkRBBD1EWcVZxcXF3AUBRDHCgMIcwc6CtgOuxEQFCQToBF2Dr4KIAkPCVoLvg33DkkNJgmhA47+RfqJ9/n1ffX39DLz7e/F6YHjm9252pXZkNne2MrXNtQJ0IXMBsnuyILGlMm6yuPM2M2YyTrJ8sVsxezFgscNyy7LeckoysrInsje0Cbk3PhL/WD6l/zIBPsFSgLNBJoT+SMjKxMviizvJXAYtg35D9kYnyCRIFwdORm/D8L/gPJa7wP0ZPpl/zMGkghnAL/yfOp478L62gO2DBcXyh9aHzcXgBEgE6gXZx5jJ/AyPDpzOCkzAyyYJkkhtCEOJ5IrqSspJ0oj7BwVFbMN6wqpDcARDhaYFwYXRxMKDgcKmQgQC+gO3hNQFyEYQRZ8EfcMOAnXBywJmQt7DvgNzwn2Aib8Pfdh83XxnPEP82fy5u7/6FzjQN3E2LTXAtmn2lnZMdgs0gTOPcgrxubIZcmazkfNU87GzCzLYcnDxirFcMYey5zLN85myezJZcYFyVPbavHPAOn96froAaMJiAY/Ay0K6BpsKIcsdS/pK00fjxC3CJIQUhovHLQZhhapE38JtfiM7nLubPN++YAAtgg1Ch7/zPNc8jL60wN6CToTHB/9Je0jxx3uGbAZOBqtH10q9jKoOQE2DTAqKG0gJx1pGoAfJiPFI88hih8eG3sRrAlRB98LnxChFn8a2Rl0FnoQlA16C1EMkRA+Fqoa7RtjGeYTFw3AByIG/gZVCkMNUw2WCEYCxPrg9AHw1u3e7s/vnPH67qzq1uNG3ZXZ+dZU12HXVthT2NPVw9AyzU7Iq8YZyeDKtc0czczO1874ypvHeMaqxuvHgsnpy8jNtM1jy+zMx9Zr7PT8m/65/TIBQQwoDBcHuApCFqohUyYvKs8sriXiFIcJLQtYE7cWUhIbES0Rxwuk/0LzKvAi8lr0ivoXBY4MjAlS/6f7fABSBiILpxHbHOsm6yibJjojSiD3GwgbRyAVLJUzYTJFLjgoIyNRGuUVnhf8GaQbkh1IICIePxb6DQgKyAl5DU4UdhlBHBAbTBjDFPQPVg60DsoRoBZ/GgEcVhgZEmULgwa/BHgF2wdyCD0I3AQ9AHX5YPJO7fjqZuuf7T/uhuwB6bziX98W2mzYHtcp1tbWgdYQ18XTgs2Zy0rKVsnxy8XMEdGyz0vM1s1MyvfJEclZyVDNrsywzkjQaM3AzK/SGOJv9lf+8gD+AgUIyQyXCssJ+A9bGH8fHycsK+4qfh62D3IK5gt9EKEQgQ6yDxgOxwgCAJz3wPMM8rvz5vx8CHEO3AscBikGJQnfCjsOwBQcHqAl0CicKrUoeSKGG1QZbiB1KoUuWS1hKmcnIiE8Gk4XshUbFAkWkBzTIM4d5BaxEB0MRwtsDxsVPhhMGa4aoxqkF7MTexBwDpoOsRKyGAYaeRbXELkLCAiKBMoD0QIAArIBNQG6/x761fMu7froCegq6Qvrfeom6CXloeCe3VjYctT+0aLRUNWY1JrW09Th0P7Mucr1yvbLfcwdzsTP9M2y0HjPj83mySHGTMkPyb3Mvs2K0AXZSOa095P8k/8K/6sFswnGCf0PfhRxG94eUCS5Ku4nPx41E/0NuA+sETcSlxD8DjAMpQhRA0X99Pc/81L02PuRBf4L2QrxCBwJtAqQDJ4OqBPlGbEfyiSVKYMqBCbkHgsbMx8DJtYp5irOKXIoHCTYHzAdhhioEycTqReaHFcdixoQFvYPiQ1TD00SmxNfFKsWChmNGXsYJBYOEcwNaw7dEqQVmxT8En8PJQxXCAoGRQPG/vr8kvxk/fD7LPgP88Psa+h051vn0Oab5DjikOAj3kfcY9kH1urSbtMm0sHTBtTB07vQFdBw0Y/O+M1wzXDQK86/z7XRCtRWzlzOeM4NznfNk8zR0P7N8NST42n12/lv/NT/uAbbB9cGXwyqDhkSghcLIUQpaip5JSMe1RUIE9UTcBLhD3gPthH1Ef4NaQqeBe78i/Wk9vL81AL/A0MHIAv3DDoM5gsEDVoNbw5wEqoaOSGhJJcjrSL3IQkjlySvJZkm5yWQJn0nyScYJuQg4htSGDYXIhjMF40WWRTdEp8SqRKKEkcRUg8UDkwPzBFRE8MSQRFlECEQ8A8+EH8PhA0DC1UJ0QmPCBEGHgJn/q378Pgy9+j0lPHT7SjrfekA6ATmDOOD4PrcNNyb2wrbotr917/Ya9dC2L/YU9ev2GHVZNV32A7X9Nqf143YrNnM1fXZCNdy16fVTNO01KvTWtSa1LnTf9Z13YToWu8T88323PqQ/rj+mwKBBgUJTAzfEV8aqiCFIn4iHiBgHuAdXB1IHMwafxqpGgIaVxozGZgVug61CT8IjwZzBWIELAUvBaEEcwXnBh8GeATrAqUDSgWnB+AKpg3wDykT5heNG3weBh8oIGMgdSBUIjEjayNXIm8hqCGgIEgfgh2mGmUXzRTPEyUTwREHEHIO1Az5CmQJ4wcoBf0CRAH3ALEAWQAQADT/6P1t/KP7pfpI+Wz3NfZJ9XL1//Qn9db0NvPH8urxdfHH8FTv8O+O743v0/Dc8B/xhfBD73vv+e6x7ivvlu4Y70Du9e7U7nruhu9m8F3vTu1U7g7ule3q7sDuXe3d7SXtce1H7nruVu/C7oXu8u4p7krtRe246zLrPeyd7XLvOfH/8iD0KfVE9ln34PcA+Dn50vqO/Ov+NgH5AncEygUCB40ILQooDFANXg7BD8IQHBIUE9gTJhRCFL4UcBUgFm4WShbAFUwVLRUvFQ0VnRS9ExgThxIJEtwRZxH1EA4QiA96D4YPxw/QD7EPDA+nDo0OgA6HDlYOIw4cDiYOpg4BD/UOyQ5zDjEOvw2DDT0Nfgx4C2EKhAntCBsIFQfxBbcEpAOWAvsBLwEbACr/FP50/e/8nfwj/Fj75fqg+ov6E/pk+YX4U/cN9jX1qPQA9BLzQPK08fvwUPCX783u0e387H/sOuzj67bro+tF67zqNurC6TLpwuhr6FvoRuj455HnAOcx5pjlMeXz5MPkVOQx5BTkN+Rh5HDkJuT949PkKuap5yHpX+q261jtau8v8k704fVQ9y75A/xQ/9ACtwUMCEUKKA1yEGATmBX/FvUXNxkbGzcd3R5JH0wfXh+ZHwsg+x82H7Qd8BveGh4aIxmhF34VOBNaEToQhQ+bDisNqAvACnQKwAoVC8YKUwoVCncKTAsODIMMSAzxC1EMRA17DlMPnw99D1cPuQ8aEGIQHRBxD/EOog7QDpcOog2UDFALcgodCqYJ5AilBykGygScA3YCIwF7/9j9pPzA+wX7OfoS+er34Pbx9Rf1DvTV8prxtPDd703vo+7b7T3tiOwn7OXrlOtf69bqbepR6iDqqekB6bjoeOiq6PjozOjj6M3oZeiW6NHoBekJ6YToIugK6M3n5ucr6MrnseeW52bnuueb53bnSefW5kznjOhV6jPshe2C7i3wYfII9d732fmM+zn9jv/YAjMGFAlBC8UMrg6BEWgU4hZFGLoYSRlwGukbhB0kHt4dkB1YHeUdYx4LHhAdohtsGvkZdhmGGOYWuhTvEr4RDhGbEOAP3w5EDhoOSQ6aDmUO+Q2zDdMNgQ7yDicPLw9DD9wPyhCuETASHBLuEegRBRINErIR4xD0D1kP+A65DhAO9gyVC1EKfQmwCKEHQwa/BHEDWQJdATUAwP45/eH76vo++nz5WPhC9zH2XfXA9BL0LvNT8pHx+PCa8OHvB+/U7aDs4+tI69jqaOqC6ZXo++eA5wznTOaQ5fjkRuSv4zTjmuL84XnhK+ED4dngrOB84EHgQ+BK4DvgduBq4IngzeAy4Zzh5OGW4mfkhea56HrqBezL7Yvwv/Ol9gT5k/rB/N7+swI6BmQKkAtJD2MQXBMHGAQYFhynGnUcIR2+HswgyiAcIecfgyBNID8hXyBLH5EdfBsDG70ZexjdFo8UKBMTEroRhxG6EPQPgw+rDysQbRCqEFEQTxC1EEYRsRG+EcMRPhIGE+kT6xT2FN4UpxSMFLwUlRQUFKsT/RKlEoQS6REwEQcQog7EDb0Mpgt0CrkIDgdtBSkE7AKOAQ0Aqv6A/W/8h/tb+hn53fe09tX19/TU86zycfEt8PzuvO197BXri+kw6CXnFOYx5TPk7+Kw4Xjgzt8I30XepN3r3AncfNs727raU9r52d3Zytlw2XPZXNn02GLZhdn/2XLapNpa297bmt2a4NTjAua155zprOzK8Gz05/fs+Yr7VP4JAjoGbApLDXYPtxEtFBAYAhuXHF8d2x24Hj0gvSGuIswixCGeIRwiYCImIsMgmx6cHAcbKxoiGWEXshUtFCYThBJJEtgRPRHkEA0RvBH6EUUSRRJDEq8SDxPJEzsUtxRxFS8WDhe/FwkY0ReRF1QXVBdgFxcXsRYHFnkVIBVmFK4TsBKZEaUQkg9qDvoMMgtTCcwHWAYMBbADXQL8AIj/Tf4Q/aH7/Pl6+P32pfVu9Dzz6vE58IHu2+xW6+PpR+iQ5rzk2OJs4WbgWt/43XTcvtp/2cDYGdhX1/jVvdTV03nTOtM409HSGtLW0ZTRJ9Jm0mHSmtKg0j/TOtRQ1vfZKd4x4THjcuXB6LPtcPJH9g/59PoZ/mkCGAfICxQPQhFwEy0W+RmUHZQfcCDrIKEh2yJMJDAlciXsJD0keCRmJKsjFiK8H5AdgRsSGuAYbRf0FYwURBMBEiARtxBTEFIQfhDdEDcRQBF4EbERPRLEEjsTzRN4FGIVCBa2Fn8XsReWF4YXpRflFwQYDxjQFzoXlxZDFuAVNhV0FKkT7BLQEX8QNA9kDVoLmglKCBgHogVQBPcCaAHS/2r+8Pz0+vb4JveY9R30s/JT8Zvvu+3q617q8uhe53nldePV4U3g4d6y3TfcTdrI2ELYstfc1uTVvtTx03LTLtMX01DSbdFS0SzRXNGo0TDRN9F90VjRb9LI1LHYit1n4A3iHuRw5/nsJfJ/9QD4Kfph/f0BEQfCCwIPFRFdE2cWHxqoHZMfOiCyIJAhyyLtIygloyUfJYskaCRNJFYjfyFCH8EcihoWGdAXqhZaFfMTehL4ECgQlg/yDk0ONQ6/DmsPvg+ID4cP7w/yEAASsxJcE7YTLBTzFOQVlhaRFmcWxBZcFwQYexhvGAUYOhe0FnMWFhaeFSEVjxSyE5ASUhH3DxYOIQx8CgYJqAc8BvkEjwPFAQQAdf7S/AL7GPk+9231ufNK8sLw8e7T7OLqS+nA5yTmGuQV4g7gbd4f3Z7bB9pt2JvX7NZy1kzVPdRt07XStNIu0iHSfNEA0QTR7dBt0Z3R6NEa0i/SXNKC04fW69vT4NLiy+OK5VbqkfBC9WX4IPoE/CIAAgULClMOkhCXEu8U+Bf7G9oeLCCWILkgtCG0IqsjuSQmJaIktyNCI+4izyHkH3Ed/BoLGZUX1BYwFgMVghPKEXsQ9A9zD3wOXQ2KDCcNZQ4LD/0Odg7IDgIQYBF3EjYTORNOE/AT7xTbFfcVEhaEFjoX+hegGN0Ylxi5F9MWQhbcFa4VhhVDFVoUNBMPEvoQkw+tDbgL+wlwCOUGnwU0BHsCmgDX/nD93fsB+gH4GPZF9GzyyfAd7zrtV+un6Troo+aY5G7iZeCl3v7cd9tV2vrYyNf71m3WrtXw1KjUytN903jS0tEM0oLR4dF20TvRmtGu0T3SStNA0yvTJdWL2RPgT+P+4/zkSOhr7vLzgfeX+Xr7X/4yA8kHSAw6D3MRMBSDFroZxRz1Ht4fBCCPIGshtyHbIhgklSTNI3AiISJ3IQUgqR0RG/UYWxc+FuIVSBX7E0MSxhBbEAgQBQ/GDYcMowvyC/4MLw5TDhQO2Q7ID+sQLBJGE64TWRN0EzsU/xSKFR4W8hbnF1cYwBhBGUsZiBg9F2wW+xWfFXkVdBXMFJ0TmRK1EZgQ0A7VDAQLHwlgB7sFQQTMAgkBTv/U/XH8xPr4+Dv3dPVR8zfxne847pHsweoq6Zfn1+UV5KLi/OAP3xTdtNu+2gbaI9mo15/WwtWR1SfV5NSK1HfT6tK30r7SctK20qLSk9Li0inTA9TK1AHVWNYu2sbfwuT05bTmgOkR7j3zFPcK+kP8y/5dAu0GXQvxDtQR5RMCFlMY9xqEHRgfZx9JH6gfTiBOIZsiZiMYI8UhlSBPIDgf9BxdGk0YCRfoFQIVkBTuE6sSExESELsPCA/5DdMMIAwEDJIM2A3eDi8PgA9JEHURtxLuE7QUnxRJFH4UfBV7FiUXrhdDGAIZohkgGloayBmQGGEXyhZ+FgYWoRULFTMUMBMkEhQRlw/WDecL8gn5Bw0GWwTLAj8Bkv/u/ZL8PfvJ+Sr4OPYw9A/yUfDH7uvs7uox6dPnnuZ55fLjEeIf4Ffep9y222Xbr9pg2Q/YINdZ1jDWNdb31TLVkNQ31MbTm9Nn043TdtO406TTmNNR1BrVAdbO1gTaJ9/z43rmNufo6BHtZ/KG9mH5dvvf/UkBhAU6CjsOyhBDE7wVDRiiGvkcuB5CHyMfhB9BIB4hKSITIzkjgyKcIbYgph/xHYobZBmvF5UWmRXKFFIUeBMkEs0QNBDQD0APVg51De0MBA3TDfMOxw9FEO4QlBGXEsET2hQ8FQgVKxWXFVwW/BZ7FzkY1BhJGaEZuBmPGdEYuBfyFloWwhUvFdwUIhQDE9ERuRB7D+kNHQwdCkgINgaiBBgDegHz/zv+y/yD+xb6c/ir9tH0APMh8XLvs+3Q6yrqo+gs577lN+TB4iPhnd813ufcVttj2k/Z0ddl1/jWJtdR1l/VLNVC1bLVHNYc1enUI9S+1FnUf9C20sDRj9G00x7Uwtal2r7hGuiO65PsiO5782P4Q/yF/xwCYANdBYEJIw7KErcUJBYzGcIbbB2oHmsfuh9FHg8cBRycHPQcjhwFHHYcxBtYGiwZFRjmFi4UxBGBELcPRQ9WDkQOrw5iDqQOLg8aEI4QJhBJEEkR3RIZFD8VthZCGNQZlxptG1ccuhvYGgoa9xnqGVEZSRl/Ga0Z4hmkGcoZZhlRGPMW3BUxFfgTpRLGEYUTbxIeEbcQJQ/9DegKzAguBokDCwHu/iP+kPz/+mX59vfp9brzp/Fq71nt9up/6KLmXeVy43nhVd+T3Z7bCtnz1h3WV9XW09fTldPt04/TGNS/1WnTVNKT0LjPV9DozkbQ188J0DPSctJ81ZnWXtaN1pXVvNlz4dHrRPVw+Kr8sARPDFIQfw+4D04Q4Q2dC5kMghEdFTEVTxbkGZ8cuhogF6AVxBPUDiMJewjGC94OLBAxEu8VGhisFwIWeRSxEkUP+QsODN4N0g/rEHQS5hS4FdUUshKdEMsOaAy5CYQIYgpzD6EV8Rq1H08jnyQYJNciOCEGHqMZiBflF1MZ7hpuHIQehB9tHgEcVBkLF6gUWRK6EXcSgBNnFD4VuxVvFHIR6w38CtgHZwR5ARYAHAAYAOX/gP+n/uX8JPqO93z0vfAg7Zbqt+k26dXoR+jR5w/mq+O+4KneUNsn2BPWj9QD1DLTndQ21R/WLNYL1orUmtNr0m7RO9HB0HfS1dF21EjVRtYb2CvXudhR16bXyNen1k7YVdxd5yz14/8ZBukKoRHsFpkV/A9RDYIM2wq5CRwMURI9FuIVLBWOFkEXbRMUDuMLGAvFCKgGjwiTD9oVeRg6GvYbVhxoGT4VshJBEcQPvA7yDy4TdBXbFc8VoxV8FPwQtwzoCR4JtQmgC5AQ3RdiH88jgiYCKFwnryQ1IIQdSBsOGUoYUxkUHOkdrh32HKQboBm3FrwTnhJhEsIStBN8FUsXjhcqFscThxCCDHwIAwXxArYB9wAyAcMBuAGCACz+yvug+C71UPJW8CLv6e327LzsgewU62Hpoebo5Mvhpd4y3EDaPtpt2GjYqdd11tLVk9TR09PSBNI10lrSkdG40ljTttQT1qTUY9WK1MPUf9XM09vVv9Wm1lHYR9iO2urex+kC+QMDOQjUDLwSxxe5FJkP5Q0ODlMNWAosC9QQ2RMQEycS2BM5Fe0QUQvWCasKvAquCVMMYBN7GNsZsBnxGjscvxmJFewSZBEmEM4O4w9LEwcVgBTvEv4R1xDfDZ4KXglhCqcMhBCyFroelySnJ1wpVSl1J64ibh7EG8wZ5xi3GFAaTBy3HA8cbhqrGK0WTRTaEnoSxBK0E0YVFBf3F7gWMhQPEZkN5AlVBu0DcQJVAeQA4QC6ANb/8P2A+9f4+vVM89fwgu8a7+ruMe9/7tft3evc6JDlWOFj3lvbSNqa2irbrtvw26XbStks173UddO30CbPQM7dzRnOMs3Nz/7RcdT/0zzUNNUa1eHSINJF09HUpNcN1ondtOeb91EEjwd8DTARdhW/EsgMbQpfCrcJGgizCDMNexG8EfgQcRHFEb4OQQkWBwwJpgrhC68NQRN+GXYbvRsvGzgbohnKFEUR+Q/fD9gPQxCKErkU4hOHEX4Ppg4nDQwKRQheCQQM8g+PFSseFiZLKa0q2CrrKa4ldSBWHT4bgBl8GCcZARseHGYb7Rn3FxcWChTOEh0TVRS8FRsXkxiSGTYZahYqE18PmQsvCL8ELAM4AgQC0gGCAQwBAf+j/J/5jPc99U3znvE38OTvOe7d7W/sueoT6FvlmeJU30ndtdtj29/aBdzb2/ba6dlu1+PVsdKp0inQ4NDJ0PXQmNKGzwTWXdJe1kDUmdN11mLQrtSp0AHUmNOZ0wDWRdwB7Wj8XwZlCT4QXhdZGAYTrwzPDMYMFQlpBykJ0A/WESUQZhHXEdMQoQqZBboGOwgfCW0Jiw2lFCEa8RvIHJEdXR20GXgUHxJOEagQ+Q8yEeMT2xSEEq0Qfw+FDkgLdAeyBusIgQzHEcYY2iCQKLwqTizqKpUoBCSPHQQcrhm6GG0YlxldHCsczBryGMoWmBSAEqcRexLtE1EVZRfOGEQZ8heIFPcQ9gwDCZYFvQK0AX8BSAFSAXkAnf+9/Ur6cvdv9E/yNfCf7j/u8e3l7ZTsBOuq6IzmiePT3pjcUdrx2e3YktmQ2Y7XLtfK1gnXhtQf1VbTYdT10f7Rc9Dwz9bR+9GC1RrUi9cn1cDWK9bH1krX+NUV1+zWXt7m6zT7eQQECQMQARiRGIsUww6BDlYNMQriCFsKpA+yEV8SORONE0oRcAv3BqIF+wZ6BxgI1QsWEn4YIBv9GxYd8RzZGRAVPRLoEbEQFxBlEX4UwxXTEwES8RBzD80L+AfiBrEJyw++FokefCSDKPIpRik/KBEkpB9sG6QZzBnSGfMaJhxhHVwdmRvFGGYVxxIfEQoR7RFrEwAVLxajF6UX9BWTEq8NHAp0BrwDzgE7AB8BCQHAAP3/Gv72+0v4UPU685Dw2u6T7cvtYO4e7i3treuE6PrkeuHa3Yjb6din2YnZCNva27HbH9sF2T/XodQM08PQr8+rzv/QzdC503jUndXe1azUvNWx05bTWNGT0u3RZNQ31KnWh98z7U78bQI/B8cOmRVzFpQShA8+EeQPZg5lDvsQZRSqFCYUTBQLFFUQqQpsBbwETgbUBsgHagpdEGoVmRf6GGoaTxrHF8cUrhQ9FUQUARTaFXoZBRr/F4YV7xN0EV8OmQr8CSQKLg0LEuEXUh5VIwMotCdYKIkl+iJ2HsYbRBwfG/0bWxy0HdodOBxbGkgYLRVlEqkQ0BBUEX0S2RMLFXoVihT7Eg0PvgsvCBkF7AK9AGoA3v+A/63++/39+2T5IvbE8/HxyO/Z7sztfe4G7gXt6euW6QLn8+NX4Xfeptsk2zbbntyU3ajeYt/T3ZXdd9tq2SLXe9XM1V3UUdWb1b3VFdgu19bZ5Ng21z/Zt9WL2HnWYtbD2HPXTdth2zLdzd1x4l/q9vTy/PEBoAmhDj0U2BQSFJ4UphPAEnoTlROBFYsWChf3GDcZ/xiqFYgQ6QwjC8cJhgjnB0IJ5AtgDtEQHBPOEyQTQRI0EoMSMRIhEpoTxBbxGS0cuhydHGcbXRpqGHUXUhWcFE0UUReXIVUjciZ0JhEnkSaHIJkgBBs8F1YX3xjvGqQaTRsCG/IaRBmCGFQX6hG3Dx8PUhA1EEkO4g+lDhkMSwvVCD4FRQBD/Rv8uvo3+cH3Afcj9kL2Qvb89DvyPO/F7m3uxOwn7A3rUOpE6WvoHOi95Yjj2eG54d3hIOEB4uLh/OJE42TkZOQh4hXh8d7P3fbcX9023n7eHeBc4ULiyuNj4gLjS+E/4ZHh0OCu4oXiMeS55sLnFelz6RzoEOgH5rnlleRJ4/fiROXP6YzvQ/Zf/IYDVQjHC7UPRBCwEPsQjxHaFMQWbRruHOUeySBQIjUiUCC9HGQYHhSVEMgNkgxaC+IKUgw/Da4O4g1cDRkMUQtlCigLDQsZDqQSsxUsGW8bUCDsIA0lESfgJ0ApCyk4LJIpviinJ3kkpyPoILYgNh7IGrwYqRYeFpATMBNpEaMPiQ4XDTEN6Am9B/0GJQWtBJ4DewP8AUsAPADp/zL/Jf21+5j6/fli+db4qvdG9iX1RvU/9P/xBfG97tfsv+vP6gjq7Oia507ogOjV54boHOid56znCej357XnSufs59joGere6nnqFOvM6mfqw+va6yLsU+zN7CruE+5o75juVO8W8N7vHPGv8EHx4/D08U/zH/MT9MDz1vPh9Cb1lPbI9ir30fhC+i38TPzD/cD9nP08/5H+sP47/639xf4BAC//qgAmAMr/mABFAHAAoADo//gAQwHdAe0CagKNA/QDlQTRBSsG1gWEBswGSgeQCJAIKgnRCcIJxQnPCncKVAroClgLnQvJC9MMCwyxDLUMxwzqDI0MMw3XDOIM2QwPDQ0NzAxMDEYNjQwvDecMqQxxDagLqQwLDFgMmgsXCx8K9gqGCkUJnQkiCAwJVQjNB0MHogYABpYGZQVbBCUFUAXfA0EEJAMJBGkDvAExBN8AsQG3AfT/0/4z/wH+AP/a/sX8ov8p/dD9Yv76/Rj7Z/1Z+x76Uf2t+DD8RPwg+qL6mPwp+in57vnN+Ej4kfex93r3rfZl9rP3ifa794T1cfi5+Mfztfkt9vH2FPkW9bP6OfgN+JT6xPgt+Wn7PPio+gz7Mvf7+uP5TfpE+QD8uvqi+vL8nvs6/IP5If1Y+zr8Y/wH+qH9KvyC/fD7xf1i/Sz9rQCu/hX/EQHJ/3oAGwA+AHMAWADhAK3+ogMrAYkBlQJMACkF3AAHAgAENAGdATQB6ALGAHICMwIaAXQBAwEqA5ABbgGOAbkBxgMZAVkBeAHNAYYAdgCsA6wBOQRSAdkDmAWcAAQHFgMJBJsHRQJ7Bw4E1wUwBdECoQcUAcYGQgUJAKYGVALcAi4CAgO9Asb/2QMNASoB6AFfAiv/FAPKA6j+8wP+A13/HQUBBe/9UAd2AIL/egQ5AWIBXAKMAiEDlwGCA0EFXf5RBYgBawALBCQCg/5fBCQB+/2ZA0H/FQHH/8D/oQA0/qT/GwEM+xsC2v4w/XsCD/wfATr/6v0HAN7/K/9r/k3/UgDW/Qz/lP8Z/8r+5f4VAA789wAt/Zn/f/0D/tP+hv2P/r/8bQAS/Yr8fgH//3b6rgOT/sb8qAN8/XL+zADs/Wz92v9SADv7TP8mAK36mv7s/9/6Kf84ARP60v8nAYP53P8R/sr9dP8O/0QBLPxLBE39vP4WA7L+pf2AA4P+D/8nBFr8+QF7/98ByP4vA/oAzP8HAyL/aP+BAkoA7fwrBLP+tQBYA40A0f+KA53+/QARBE/87wVV/vkAxALD//8ATv9GAoQAWQHf/tkFHv0qBPr/YgAyBGD74Qaz/d0AdQMoAFoAFANWATD/QwW8/b0ENwHc/p4FPvxdBLkAxv/W/4MEjfxyAlMFYPjpB9T/nP10BDgBm/2TAocAwfyoAAMBlf3LAdv9Rf51Ah/9V/8iAgH9/P8AAfb+3f8a/hQBgv0W/5z/5gAh/q4A4v3zAYz+7/vmBU36Ev+vALj8jQGV/GUAWP4w/uEDSvzC/ygCK/1A+4gDkPpf/YoDPPf9AqH/dvyV/1D/3fwg/CkEfvne/30ClPoUAon+zv6nALb8QAIF/pn/FQSa+6gCu/+m/TcA/gCS/yH+CwPx/MkBxwBK/qgDw/1GAFcC8QA5/LsErv+l/fEEIP2CBLn9JAGS/8YBSv6EARX/SwA8Acj9pwcZ+9UBUgS+/Zz9igct/RgBCQPj/bkChAHI/8kDzgDf/28F0P5AAqEBy/8BAjwAAwLw/y8BEQEc/yMALgB/ArH9SwKa/pwBwgDCALz9ywE8/+P/Fv8S/zMCH/unAlr98f+e/lsDSvhhArECLPZoBlr7mf0YAFD+mv9b/pwC7/ofAH3+OP7SAAH8gAGW/Xz/6f/D/KIBM/2d/y3/of90ARP6FgYw94YCqgEH95YJBvcSAtcB8fkfA3395f4zAUT9BQNW/FUAcANW+TkE0P4c/9IA3/5r/tgB0//A/nECtf4g/6n+2QNh/JoA+ABJAYQAUPudBrH+SfvHBXcAgfzIBF/+Vv89BHv6+gQPAc73Qwqy/e357gUMAOr7AQXu/N3/uwUG+kkF7P1PAwwAxfp7CAP62wGDA138tAF1ADQD+vxlAsUAnwCT/poEy/6E/xgB0/9WAF7+iQYR9iMHfQHe/EsAuwSe+5D89gcY9+wEDgDF/eoCHf/f/9v/LwFC/nr85gNO/QX+HAF0AaT7nwEk/wD/UQMR+mEDx/+5/+78nQLQ/Oz/wvoJBKL/XvmeBvz9Cf9B/8gBrP+Y/Jv/rAPE+80AdQHq/Fr+ZQGX/2v/b/7BA8L70wDVAYb7QQRS/TH/gf9BAMv+ggAr/03+VQGDAP794ABVA0H7+f9NAsD/nf28AfEBvv6WA0v6tQaR/uD7yAWz/M8CtvpQBl8AdvoSBPMCVvuaAHEETPlCCPT4tQMaAiL+rQFs/tAEI/wvBA/+DgSd/wr9fwba/n3+FgS1/nAD2v55/1QGjPw4AVYDQ/+pATsCNP4yBPn9EwII/xkCfgBU/rwElv38Alz7NgVU/L0AYQBHAz7/If7rBNf8/wCz/IAEbPqSBa77RgEfAXv+SwEG/nsDLvzOAoP46wc/918D8wLT+VoFivmlBVH6lwBRAmT7WAAvAzL6V/9qAqP+1/kFBrj+yvlzCK/3QACeAsz9/PtVAIoFxfT+ApgFC/bABbn7aP+7/3H/FgDW+90CdP+Y/qgA0P4R/VUFN/v//5cCl/ylACn74Aaw/H38kwZ7958G5v0v/WcB+gB1/0j+9wSa+i8DAAPE/KX8SQlo+CoBlgYW+9YBogBKAy/56Ae0/XMByf/oAMn+t/zXA4YAzv53/WAFaPr5CV74uQPQAeD6gQWe/pz/dgIaANr9bwcZ+R4EPQJX+10FR///+tAF8v3zAKQBDP65ArL/kv+g/hABZgGv/fwAvfwiAwf8tgNQAF/5TwuY9hkFSvr+AWYCxfiiBfz/B/5w/3UC5v5K/LwBlf4q+6QJmvdIAWABAwBmAsP43AiC+PgBggHS/OIATPxpBqP2xgcu/EH+xQO6+z4AT/3ABePzzQdSAYD8bPsVBm4DQPSiBmT+CQH5+lEEiPujASQDIviPAyYB6PyHAcwBZf73/s0BgwBh/ekCqQOa9UADSQmx8k8HDP6YAGz+VgKPA8z18goO+XgBzv6v/bMIZfJCDGf5+wDbBab3qAmc9mgJ1fpn/IkHF/6HAEP+DwRr/tUAdP1lBI/8mQE3AUX7AQct/PUAoP8UBcP5MwN/B1/06wVbACcAJv1/AQQDR/zJAGsC9gAV//QDH/pVBUr/tfzvAzL7NglO99wE3QHE+9oCHv3oBi/0uwgdAH7+dP4vAdIC4PuvBJD4Mwkm+9b6ewx39tICdgA+Aln6A/+PDBzuQgx0/yD7pwJeAEkB1PvBBq75Nv9aBBj+6v07/5EDQf1//7cE1vquA7kAcfgXB8b+GPsMBtr8BgKa+0MEYACk+oP/DgRDAfT3bgLNBLD9Rve0CPn+0/vfAdIDuPdICAr6eP4vBs31FAnq+fQEv/zZAhn9FwPt+UEFLQEA9XYNKvZnA7IC+PgdAysDefptAbMADf/BAEP7GAfM+pz75whc+uf++/4YAZ8BBfzYAJwD/fiHARMCpfvQAa3/RPwRBXT7IP06CyzywgqU/mP4kAsH9S0FpQTH9jIIm/2rAOX9jQDNAcz3xQwG81AIUv/G+7AD1fozCD34JASd/5P+NgEhAEL9IQGWAYb+7/9yAxoBC/tsCGz86v44AkICOwCM91wM/P7R9kQHbAL7+FYEawBs/I0I0vd9A7gA/P5WAgf7Ewi3+sj9VAWqA1z3vQVTAbX+JAEw/zYCMP6E/S8E0QCp97YKHPhvBFMD2fXYBmkFdfJoBawCJgAe/iv8jgRHALv6i/90CLr4NQGmAG8BqgEO/BX/FwdO9j0EYwAv/g0COPxhACYGHPn8/C0NWvQ0Av8CMvuBBoD7XftyB2T8jf8l+F8O4vqM9DsM/frG/7j7YAFKAtL8TABP/p4C7AAl99cHQ/yEAan8jQM6A7z0QAbT/+QAtPuLA7z+cgMZ+pECTQKC+3cBO/vRBsz4HASJ+mkFQgIZ8C4Pr/v7+9kFmfSdDPz8bfaeCG/9Rf6z+7cF0/3h/XoBlAMC/bT91wK+/bMDzfkMAZICKAKS+9v82QiT+TsEj/sm/oAJMPSOCIP98gGx+zoCgQPZ/ar+b/6oCPz4hQJo/iQC8QJt9+EE2QqH8ZsFLwT4A3T25wCKCGr92fuA/TQMffK3CD3/qv1VA2j7CQta+DwDc/+7ALUD2vgBCiz7AQRL/hEA9gWZ95IC7gRy/P8Apv9/A/P9ewGg/CMFc/uu/4AIgfU1Bvz8VAK9+oQKjfnkA/EB+P8iAFP9nwPa/VP8hAVR/az+QgX/+E0JjvdDCPX5JAZY+BoFjgIM9T8FDgWa/RX7VgKmAI8CUQEf+kv/uQ3Q8KICSweK+Vv+3wT++IAKevSaAd4Jq/OPCRf0YQ1R+p35Owa7AaT7afzgBzb7yAFW9qsL4Pwa/CD8Yw2J/ODyfw6Q/Pv7hf5UAn//PAJd9I4Kr/yK/nwCm/1nAvv9zgCd/uj/Uv7aAsv9IP1n/5cE5vn4A7D37weY/MH8cQb098sI1fWNBCkBK/88AB38pgPA/db/Qv+//EwHyPZDBPMB8f23/UIDfwP+8tcKCPmgBsz+off4Cb//6vx8AaD/zQE6/aP/AgRM+kECrgR1+HcFKwH3/0v7CwGqB134xQJO+bcI7vlOADQBEf5KBlP7HwI5/4P95QR0+0L+7QSM+3sEGfxdBMf89wCi/LYD3P5e/asCCwR1/bL4qw1Z90cD3/s/AJ0HT/dBBnD5KwZ+/734BghW9iEMvfXRA439Yf5wBkf2agO5/2EFr/jsAtj+2QOw+7j+mwPC/3QAXPtZBOP9mwNm+7MD1P7n+ekKHfrw/xgBUgNO/RsA+v+q/XoFxvlDAGgFH/hlAjIHUvcUAkP6AASWBa3ziQcu/SICt//6+msFKwCpAJj5QAOw/rkCl/8l+xsA1QdR+ZQEHQLp/G4AzfxACqT0lwfy+/0CFAAsAH0BEPkBCf/35QTn/3T9DwMiA8/6Wv8LATgG2/rK/fEC8P1YApz9DAMx+w0HW/06BDX68wBqAjn/nQD9+z4IGPygAib8ggN8/zX8GwN2+3wEqf38AUn+4AEnAvr6XQeU+CADdAB5/JwCE/siCEP8dfwvACIDkwE7+MECWAHjA6z6wABLA/X5/ATy+4wEPf3T+h0JpfsO/5r8iAT8/SEChfmMArYFJf0pAoH6VAU+/EYC8PsJAt3/yP9iAXb7NQNL/QMDIf5J+sIExfwsBff7of3SBZb8dwCi/rQC4ACi+8YDvAA++zMDy/2lA677RAJtAMX//wFh/W0BHgH9AKv9lAPQ/RcALAFs/80F9vq//4MAlAOzAsz6lQB3ADoGMv38AXL6FgcIAAP+nf+5/DgHvgKj+jn7iAq//UgECfkfBngCsv+U/8n+LAJE/67/Kf8NA+b7qwcZ+eQCOPw2BUwA5vslA6IAtf+s/xn+WwG0AvD5uwUu+w0G4f6m+xz/Ugds+rkBgvy1AaUD9/1a/6z9fAYy+1QD0fewBL399wAs/q4AgACu/1YCZ/qcAYT9ywV+95kCmQO4+04CS/oIBif+h/5I/1sAHQGZ/3362AIhAEH8CAYQ+zEFa/tPAk39swEF/8z7ggCy/EYGPv7aAej8GwbiAMD5AQKW/4IEavkF/ncCPgJwAXH84vtNBKsD1fhDA4r8gQaS/kv7KQCCA28Bev2d+pkAOwV7/CMBJPyHBN78zQSV/F//4QNdAf0Az/f9AGr+EAb1+7L97f8VAnwFdfxg++wDqwGt/8EBXfaHBJ8EkAHT+vT7YgJuCHf98Pss/h4BBwz98ycBbv0kBzUBif3O+/z9swvd+HICGvVfBDsJGv3A+zP9qgYfBrX78PcOAM4G3f65+hz+kv5GBmn/Gf1r/4YCTwQE/+b65QQF/cQEiAAi+RkDRgD5AtH+hv6x/cgCtP6HAoUAwPkCBhwBtgHU+Ab/AwSU/ggAxve1BlcAfwHC++z8VwbL/iMB0vx5/2wFxf9a/rb+BgC2Bdb7LgIB//EB4gMs/joAHvtECt37qf8h/LMA4QWG+E8FePbaBkgBSP+B/pD85QW7/cECQvpRAKEFNwCCAEL7kwFXCQL/9f6L+jMFAQap/JH/m/6BAVsA5wBJ+7H+0gGzAa7+7f1vAKcH4v+7/Q8AQAE9BcT3KANU/LkA7wHq/SAFhPwCBTEAov6Q//7/EgJM/qv/v/61AhkB//4a/in/lwRq/Uv9rADM/TcDoQGE/qoBegKWASYBef7M/MMA4v4l/+f67QE2ABMAoQKw/3gCCP4SAv0AxgAp/lgBIQE7/78A6/wEA0oAYv+rAX/83v7P/hMBnP3M/FMBcgH6AO7/Z/5PAeD+q/0R/gz+LQId/3sD7fyMABwCUP5iACn9CgGeAbn96/5gAGD9if8E/poCx/0/Ae8DGf7jATP6rQJb/439UwC5/N4EvfzyAbv+FP7bAPX/jAIz/4gB/wBgBJr/n/6YAJb+0gKJ/9D8DwMO/o0Bnf/7/y8AZP9fBFUAYAH6/1YAlQBWAOX93v5K//QA/QGUAFMAKP+VBGEAHv9O/az/rwLD/eD+PvzBACv/NAEz/2gA9gCiAe4CH/63ANEAlwOGAckATP9eAogD7gLt/5f/QwJcAgYBqvwQ/u7/AQAe/1/9Wv2G/7QAqf4H/l/+4AAIAqL/1v9M/vYA5wD1/xz/BP/dAB4B2f/F/P3+yP4iAMj+HP1YAG4ANQCc/vf8Zf5f/wj+wv2l/f3+swDrAP/+TgBYAAkA0QBR/rv/oP8ZASMAqAD/AHsB6wGLADQBnf+xAlwAjQCg/0YAFQJhALr/rv9/AZ4BcwHU/68BOwE9ARsAtP4SAEIBmgCGABgB3QDbAUsBE//o/oP/LwDe/7f+1wCFAKEAqADv/tr+Xv+s/oX9YP3x/bL98f2s/nT+tP/p/1IBAwE/AWQB5gBAAX7/M/8h/3j/tv7d/iD+Nf/t//n/Df8J/gf/ov4R/lT9x/1A/r/9vv2H/Sz9zv27/T3+Pf72/vr/+f68/dD9S/5T/gr9eP1f/aH9n/5H/3j/Zv+OAKwA8f9B/1T/9P7e/i/++f5F/+3/TQBy/+P/OwCYAUAB6ADeAH0BugEHAcsBHgLeA2ADtQP7AzMEwQT4AwcEeANdBBwECwQ+BMoE9gTKBOoDGAQRBMEDOQSOAxsE7APGA/gDqQOtA9sEJwVoBfkESQTaBG4EMQSkA40DgAORAx0D1QEiAsYBMAFoAAEAsAB8AGr/wv4N/yb+g/6j/QX8Q/zZ+gD6IvnP+KT5nvlz+UD5oPjm+Jv4C/du9ZH0e/TU85PyNfJi8gHzsPKs8njzC/Sg9JHzvvLt8fvxRfEc8ILvM/BA8X/xYvLZ8yH2Ofcp+Fj5CPue/KL9S/6U/y4BLwPBBF8GuggLC5wNTA/FEbcThxWYFoUXFxjcGFMZJRlOGSEZhRkTGRMZ5RjYGHAY/Bd8F9QW+RWsFJ8TgRKpEdoQGBApD2EOmg31DBcMZQvpCvQJWQmHCKEH3gbWBekDyAJWAc//f/4a/a/8pfoJ+7j5T/jy9qH0GfPR8Anw1O4x7gzt6Os46jbqCujK5krmB+RU5K3jlOIc4g/he+Cn4Hrf0N8F3/7esd5L3iLerN1V3h7dZ90O3VvdOt4M3sHgGeT35+Prau8k9Hb5S/7mAgQHpgrQDbcPAhJaFFMXMxlfGiocIR5wILshuyI6JDgkKCPAISYguh6BGx4YvBQSEs0PoQ1pDDUMAw3WDUIPdBGMFAUX0BhJGigcfB0uHsYeVh9WIJAg7iCvIQAj5COLJGMkEyRHI4whIh+eGzMYNxTEDxELZQf3A4wBwv/5/aX8D/yl+tr4oPbh86vx/e4N7STrMOnE56jm3OX35QflNOXJ5LTkDuSu4vzgKd9P3UzaA9jm1C7TO9DLzjHMz8sgyy7K0MrtyfbKO8piyazJN8u3zW3R6NMw2Z/eU+Ua7Nfy8PpMAa8H7wufEfAVkxlGHOgdjyCfIocjGyWSJjkoFSn2J+En0iZ7JVkivx5bGykXSBLXDMYIbgUAAsj+DPwR+9X6gvr6+mr8OP7IAB4DzQa4C6EPdxQwGHIdMSKcJpwqJS4lMb0ySjRpNBA1FzR7Ml4wzS0uKyUo3CQZIsUe+BphF44TRxBBDBgIyQMNAFT8+/j29W7zMvEo79DtnuxA7L3rw+sc61vrBuvY6mjqWOlr6bzn4ObR5Cnjy+Bd3qnbAdlF1mPT8tCxzpvMPsoayfLFLcUFwvHAGr/zvMC90b2dwRfFQsoa0KLWpt4a503vDPcP/icFtgoZELQU1BgnHUEf1iIMJTAo8Cq4LBEv+y/NMA0wui7ULDMqcSaRIUIc7hYsEfML0QaSArf+0vrQ+Bv3Pff/9mv3CvgQ+Zb6q/xN/5oCXwYaCm0P4xNbGmcfgSWaKikvaDPiNWM4IjnAOSU4MTZmM2Ew2iwvKXwlTiKPHscbqxgFFpYTRBC6DX4JJgbRAST+3/m79cnx3+3t6h/oweZ25UHliOVW5ijnJOiz6JPpWekP6dbna+US4wLfa9yW157UWNB8zSTL4senx6vEJsXywsbCYMGjvwK/TL6tvyzAQ8P+xVfL1M8T18/ec+c97zn3Kf+JBrQN/xKvGeMdNiMHJk4pECzxLnAwGDHeMa0xjTGVL9cu+yxcKtolnSHvHKYYBBO3Db8IfAPH/gD6Nfff9GfzMfHj8Bvxo/If9P/1KvkZ/HL/UwRPCqIQdxb+G6wiVSjyLXcy0DZpOTM7MDvUOhQ6QjhENjIy1S4tK6wnXiR5IYse/hrxFs0TJRHADbYJeAXqAPb7Hfe78ijv2uo25y3kYOKv4YHh8uGO4ovjauRQ5UHmsua25lHlP+M54VfelNs22DTVEdIXzuvKyMhaxmnEc8EFwKu9obvtuiO73bwHvq7BpMTkyW/OOdWx3ILjMOvr8Y35sQAKCL0OHRXOGkggnSTyKBAtETFxM181oTZ6N6o3pzYINk8zADCaKzgnXCLmHGsXoBHlC84F5wBu/Pv4/vUc8yvxzu/I78vv5PAg8sr02fWg+fP9NQPcCRIOBxb+Gg0iHSiDLqszqzdrOsY7XT1vPOk8ODptNy00ty9qLAApHSXjIbUcSBnAFfsRYA6lCk4GUQFt/FH3NPTa7jTrHuck46fgKN6J3VPde91p3kPfpOCR4jTkGeXJ5CbkO+Kg4Ord1tug2NfUsdExzi/M18ijxzLF5MOSwWq/Vr+avsW/9cCHw3rGVsqbzhDVRdvQ4ajoQ+8+9u78GQNACjUR9BbHHJsg+CVpKm4u6zGPNHI2mzfsN+c36DenNWszrS9fK+YmqiGkHIoXUhGAC+8FBQFA/VP5NfbF85vxye9G7zLv2fDW8ajzEPaT+T3+awM6CZ8OGRUxGq8gESb1K5Mw7jO5NmE4gjmsOeY5VjgxNqgyoS9qLL8o4iQDIbEclxglFCkQJwx8B/wC9f0/+bX0yPCb7C3pVOUo4sDfC97O3Xfd893I3uHfPOF+4sbjX+Qh5DTjEeJi4Kfei9wq2r7XmtRc0uXPN84izG/KdciCxv7EocJ7wnfBFsMGxLrFHclBzP7RJNcU3m/ksetV8kX5CwBSBtsNfBNkGeYdVCJFJy0r+S4GMis01DW9NiI3/zaQNrw0gDK0Lssq5iYLIq0d7RdvErQMeweZAoz+t/pz9230uPEg8LLv6e+E8Y7zD/bK+TX92wLtB9QNYxP8GOAdyyJGJ4ErUy+FMfczlzRUNbE1hzXJND0zuDBQLiArFSjlJOsgjhykF2ISaA1XCDsDbv6y+Jvz6O6+6l/nsOSa4mPhe+Bu4CThrOEs4sPhhuES4VDgF+C/31bfTt6I3TbcpNt62pjZdNiJ1inV3NLj0XXPIc43y5TJqcZXxCzDmsK9xALFBcg5yv3POtW/28PiVOpg8jX41P6kBPQLvBHCFn8aJB4ZIsIlHClDLAkvjTGqMsEznDStNeM1hDQjMn0uLyu6Jm4i7ByHF4oRNAt/BXUAAf14+VT2cfN58S3xK/Fl82z11fi7+w7/mwMdCAAOjRK7FzUbUR+NIqsmMir4LHcvUzCmMS0yEzN8M+EySjHaLu0ryih7JYwh+xy2F40RDQwsBnQBiPyl9+byne5U6+LolecS5j3luOOV4tjh4+Bk4Jvf1t4T3gDdDt253B3d39zB3PvbOdtO2mzZ4Nji1qvVwNLk0GLO1Mu9ySPHosTZwh3CUsOrxBfHLcr1zhfUodmC4ITnsO8h9Vv7PgCvBicMLxF0FVIZ4B07IVUlqCgHLVowyzJtNMI1MjfENxY3RTVoMukuDio6JeIfBxtOFUEPkglyBNwAPP29+hT44PaU9Uf2Cvc++c77Tv5tAQ4EDAj4C20QCBQBGPwaaR6YITMllSgpK0YtKC8+MGox4TG8MbMwUS6uKykoYCTeH38b3xWZEHkKbwWSACn8I/g19CLxN+7Y69/paOj25izlqeKA4EneYdzp2kTakNnF2YzZyNoC2zrcUtyH3Pnbj9qc2c7WsNXc0SXQ9sujyWfGRsTswcbA7MAbwhfFhcc5zJbQAtcZ3MHiEOhF79Lzufg2/PAA0QVaCqsO5xJWGAwd4SJhJ5otMjJcNnk4jTqGOws8UDq+Nwc0jS9RKtYkoR8CG1UWgBFXDXUJ5QZmBDwCJQBn/uj8i/yI+zj8h/w3/kf/QwHlA7wHoQuRDxAU+xeKHDMgmCT/JxsrOi3xLmsv7C9uL7Au3CyUKv0nLCWrIR0eaBqcFsQSCA7BCUkFKQHD/Az5DvWf8RPu6upU6LrlmOMx4QHfDN2T26raONo12hjaYdpx2bPZUtnv2AHYYtYX1bvS7dBazrLMtck+yHTF9MOMwXfAkMCywSTF4sYNyzTO8NTk2abf7+Qw6yLxyfTT+KL8hwJvB/MLaBDJFdIbjyGCJqcsHzLVNlc44TmyOm87yjmKNmUzKy88K6YlmyELHgcbWhdKE0UQZw0FC5sHjwSPAfv+R/20+oz6VPpp/JX9vf8fA2sHMQwaEBYV5RgcHcYf5SJvJWonIinwKZ8qNyvRKzYs1yt6K4YqOylUJj8jpx9wG5MWDxEkDN4GAQIO/fv4uPUV8zTwfu0Q6yvpT+b948fgmN4Z3NvZOdj91uPWO9Zh1hTWudZc1sTVr9MH0qzPU82Pys3HOcUawxDBh7+vvfK9274lwnvGMspLz7fSS9kX3UniveVJ6wDwH/Pd9lf6KAHYBk0NjROdGggiqCelLH4xIzYNOX04mjcLNos13zIdMAUusCusKfElzyPtIRAg1BxWGDIUdg+8ChoFbwCA/q383fuM+v77WP9IAsIFvggVDbQP+hFpE60VOxi/GZob8BzbHxwjAyYbKdMrmC6OL9Uumi3eK3wpIyWmIJobRheDEkMObgvrCNMGQwP+//H87fke9ibxdOz659PjSOAC3Z7aj9n32MzYuNk+2Z7ZZtjK1g7VFdEgz6HKcsiRxrTE+cOPwd7B8MAAwb3Av767wDTAdcVSxzzKmc5p0bjZ5tux4tzm/u2J80P21/svAL4IpQ2pEjIZ9R6oJhYpHy2HMUA1szc3NcI18DQ7NaMy0S+4L/gsCyuvJT8jfCGmHa4ZQBNOELcLjwcxAyECzQJKAp8BfwF0BMgG5AcnCRILmw3tDn4PyxHYFMkYHRvIHQYh+CTVJ+kofyqZK/wrCipLJ9sl/CMiIg0fpxyJGqUXXRRREDENPAkaBdf/evqO9m3yR+8Q7FXpnuZZ5MDh9d4L3t7bh9kT2IzVONQ80jzPOM1VylLKbscUxtTEMMMtwxLAXL9Evb68Srq0ucm7lMBMx4XK1c5h0jnZ1d4q4hrmXeuQ8Sb1nPgh/hIHGg8NFFIZ6B+6JzYsOi0NL2IynzSWM2cxMDJWNAc0GzFnL5gvVC7sKbwjPCCVHY0ZAxQyDyoNxgp6CPQGqgcpCcsHBQdBBiUIWQmACaoK6gueDkEQIROiFlQa6hzMHZAfciFvI7skFyUJJqMl0iQJJFYj/SJsIa0fHR04Go8W/xLKD84LpwcNA5j+Nfty+Cn1CPLn7ijs6+dg5IjgI95M3BTY0daA1MPT09BgzWHMk8lNyS3Gz8Smw+jAVb/qu2O7Kboyufu3A7h2u2TBrMjzy8HOV9C71Dvbmd8I5OTnLu6c8zj46/32BtwRORc2GSsaAiCnJw4rjSxILjMyqzOBMTgwwTKeNjI1cTB0LLQrbSsWJ5giDB8VHX8ZgRQ2EWsRcRKIECYNJQpACoQLhAuCC/wK0QoUC+0LOg4kETwU8hV3FrMVfxZBGSMcoR35HDscwRxdHZ4dxxxZHEQbJRkFFlcTzREKEAUOggmjBdoBKQDB/Zj6vfbZ81DwWOxv64rrUOov5nrkzt9n3ZfcCdoT13vVUNWk1I7TvdHX0XjQVM+ZzJrJCsmvxxLI+8eIxk7I/8oC0B/Uo9X61V/VxNct3FjhweT555TrpO5H8sD11Pr6AE8GdwpPDBkPFBO+FrcZBRsLHVofGCJVJM4l9SYAJ4gmvSV/JRwmeSYmJnwkByK9H/Edqh2EHSMdWxvqGD8XKBYDFl4VshToE9sS8hFzER0RTxFOEG0PtA2qDP8MRA33DWMM6gubCioKcwsXDPkLrwzLCuEJ5go2Ct4JfwmTCHcHZgd1BlUG6gRLBL4CcAG2AP7+Pv5L/J76/fg399f1TfQW813xn+8d7oDsUOuH6Qvov+aU5bLkgONa4mzhpuDY38beJd673XLdeN2H3RPe8d5j35/f9d894R7j4+RQ5nPnD+nH6j/s0+3Q70/ysvQI91X58fvs/k8BPQMOBUQHjwmoC4wNcA8vEZISshP9FIcWDBgBGYgZJhrMGoMbyRvzGy0cORwZHLEbWhtFGyob2homGmkZyRgvGLMX7hb9Fd4UwBO1EssRFhFDEJAPrw6fDaUM5gtgC94KCAoUCVcIsAcvB2wGjgWzBOwDDQMeAm0B0AAVAAb/4P3D/Oz79/rn+bL4hPd09j/1NvQw80PyT/E98BXvFe457W3sdOtn6onpyOgq6Hbn0OYw5qflEeV05A3k3+Pg49zjyeO74+XjPOS+5HflZuZ854/onum76gjsa+367prwRvIa9Bn2Rvhj+lH8Qf4zADkCWgRFBhgIugk7C54M+g1eD84QIRIeE/cTvhSTFTIWtBb7FjUXVxdlF2oXLBcLF7wWRxa/FV0VBhV0FK8T0RIEEjgRjhD5D1MPhw7HDRcNdAzpC2oL8AptCgMKsAllCRYJwAhmCPoHogdPB+UGZQbMBTsFmwTjAzMDeQLDAfoAEQAx/1f+c/11/HP7ifq3+ef4CPgZ9zD2YPWh9ObzF/NV8rHxEPF48OnvdO8E75juPu7k7aXteO1H7Q3t3ezO7L/ssOyY7I7shOx07H/srewF7UbtZ+187dDta+4p7+LvkvBt8VfyXfNp9Hv1r/bj9xn5aPrj+3f94/40AHcBygI0BIEFygb2BxEJEQrzCuQL0gynDVsO7A5dD9EPPhCBEK8QwBDCELsQtxCZEG0QNRDlD6cPZw8kD9MOhA4zDuMNqg14DTAN0wxwDBUMyAt7CygL0ApsCvwJnglBCd0IagjXB0MHqQYRBoIF5QRVBMADIAN/At0BLwGEAOH/Of+d/vv9W/27/Bz8hfvs+ln60vlN+cj4Q/jE90/37/aK9iD20vWF9UT1CfXH9J/0dPRO9DP0FfQE9Ozz3PPK887z2vPf8+rz9PME9Af0FvQj9Cn0LPQ09Ev0a/ST9MD09fQq9WD1nfXu9VD2wvYq96T3NfjP+Hj5C/qt+mL7IPzm/Mf9tv6Z/3gATQEjAgwD7QO2BHQFHgbLBmoH+weECPkIWgmxCQAKRAp2CqIKwwrYCvAK/woQCxULIQsjCyALFgsHC/4K3wrGCqMKfwpgCikK8AmzCXYJOAnzCKQITwgCCKwHSwfmBn0GJQbBBVoF8AR7BAgEiQMTA58CMQKtASQBpQA3AN3/Zf/x/oL+HP7B/Wb9Df20/GX8FfzK+4X7TPsY+9r6n/pl+j36HvoA+t35rfmI+XP5YvlO+T/5K/kc+Q75Avn7+Pb47vjs+N740fjF+LL4p/iU+I/4hPh7+HL4bvht+Gv4aPhp+HL4dfh4+Hv4gPiU+Lj41vj2+B/5WPmZ+dz5F/pb+qT6Bfts+9L7R/zB/EH9zf1r/gP/pP88AOUAjgE3AtkCdwMYBLcEUgXdBWwG5QZbB8QHJQh/CNkIIglRCXcJmQmxCcIJzAm9Ca4JjQllCToJBgnLCH4IJAjCB18H+gaMBhcGowUxBb0EQQTIA1ED5QJ6AgYCnQEwAdMAfAAoAN7/nP9j/yn/+f7M/qb+j/5t/kf+Lv4W/gn+/f32/en94P3c/dL9yv2//bz9rv2b/Yb9dP1v/VL9Nv0X/f385fzG/KT8evxh/D38IfwF/Ob7zvuw+5P7gvt6+3T7cftk+1v7Yvtm+2v7efuD+5T7ofu2+8H71fsA/Bj8NPxR/HL8l/y8/OD8Af0w/Vn9h/2z/d79E/5J/nr+oP7U/gn/Rf96/6f/2f8EADIAYgCSAM8AAgEzAV4BgwG2AeQBFAI1AlwCfgKZArkC0ALoAgQDGQMmAzwDSwNLA08DSAM1AzIDHgMNA/EC0wLDAqcCkAJwAk4CLAILAuYBxQGmAYEBZAFCASIBDgH2ANkAwgCoAIsAeABkAFEAPAAvABwADgABAO//4f/W/8z/s/+o/5P/j/95/3z/bP+F/4b/gf9C/5v/v/+o//j+lwBXBAkBiP3R/UT/Gv+n/VT+v/7T/nX+n/7e/pn+gP7A/vT+a/6W/u/+Lv4N/nb+lv5X/ib+gf69/pn+w/7j/sr+af60/iD/T//e/pT+1P47/1//VP9e/9b+yf60/q3/XP9d/1v/L/9M/zz/+/+v/6//NP/c/1MABQCk/5r/JwCG//D/LgBYAHP//f+yANf/WwCrAGMAk/7Y/00AwgAj/yf/GgAzAJQA+v7h/43/rQHK/lz/ZAB6//X/Ev9V/8b/vgCu/vr+mP/rAM3++f5nADn/RAAY/1L+nACYAGP+HP8P/3IABQF4/fz/hwCT/pz/tf+mAOH+m/6QANj+Nv8IARj/Yv8i/wEAPACH/7H/+f5RAEcAIAA6/4sA5v9H/xkBHP9c/xwBM/8p/4gAfwHY/5n9RwNF/xf/xP/C/WgBxv5r/gMBBgBa/5X9QQFyAaj8q/91ANP/bP1tAIv/B/+Z/rb/Tv8Z/2H+KQBTAl/+8P92AIQBhf90AYMB2QL+AkEDdgdDBXkBcAGXBBH/OAHKAYT+2v5D/3v/WAKi+9n5Dwci/Lb8jf4p/1D/AwAT+j8A8wDc+C4D//YRAGL7uv+9ADf7p/5P/5MGDffn/iAF2gAD+3r8WQT8AYH7+fmyBxgDFvWA/7wIqQH79WP7YQfwAtLztv8RBFcAOP3n9MYJovq6/db+/fiOB2P7SABK/bf+YwGo/ScE8PZ/BmgAovo0ABL9tgia+d8CovzHAEEHRvNEBIcFMPu5/tP87waF/wz+m/04Aq8Bx/lrBhP7/QKj/aH5ZQcoBgD6TvnWCmD9tP8r/d0AlwP085AIowBt/qf+/gBvBRj37AQ9AkL/+/3A9xMFJwdF+iv+8gO7AfD+xgeQCEr+m/w5BDQH4v03CJf6B/6EBB4B+wI/+gIAhP8SBfAAhf0NAx0AdAONAJr6NAbxCMXzJ/nwDIoBmPTp/ycBNPuiAyP6aQL++j74kv3QBFj/Z+9jCYgC8fNA/+oIv/6r64gBcQqh+in0Mvr5BfP6Wv5D9nAHdv118J8DPANBAVH57P2nAOr7qQPIA2T5YPwE/U0C1QC4AXL9uvmkBBn/a/1SBvj0tv3YB8YGp/cr/agFBfx7/Y79ZQTe/1L87/YXBsoFVf/U+XsD8/y2APQBSv3VBGL31PzxAjcKUPhT/OUFgwZz99v5ZQ9S+075nAEQBzH7/vjMBH4BKgEz+zv/zAbV98n8FwSL/PT7rf4WB+v6s/xABpIARvW1+mQLiv1b+aD2GAbJBqrvDQYuBrb6ovge/A8JDQUf+GH2EgZeAHT7zP77BKP94vMDBwAA7/zlBS/6Ff4HAL/89wOm/2X+3f6L/ogDwwIiAqgAzfrFBNgFYf90/3cCmwRGAFsB2ANOB8v+fgBJAAkK1wdE+TT+uQFWDgUEs/tAArAFswHfAx8EAwR8AJL8NQG9A/cM9/xV/Yz+VATkCicGLPoR99UFlQDpBmj8TgGE/g/3bgL5Al8FUPsO+Fb5OP8qAiv+/PWt8sT//AED+uf2rPnz/ijzBfpg/6n3Nfh/85D8z/qa+p/3WvWO+Tf7avs/+RL3OfFx+2L+tfmA/IL4v/Zv/SP/L/6o97362P+//5AAif/j/yn/RwCN/Z4JhQRa+9wCAgaMChgH6gdWBncCGAlCDhQLOAo2ByMGCAvwEaYS8QsNCC0JzxACEsoLgw3eDHsEKA6WFvgSQwnJAtIO4w4jD88NjwWnBIYCMgsUDT0HegMV/83/MwRTBQ8Csfpz9NX5sgAl+LP6EvpS79/xBvXc9gLwZ++h6tTvrO0J6QzqM+0K72HiSux+6fvpk+ej4kvmnOa65F/h6+ig5DjnbegK6cHsYuuf7X7r+O/19bf04/S3+LT/hwDD/j0E/wjICbsGqQtPEQsTvBNWEuAW0BhNGiYb8Bp6HKEc2BrsHHwfqh6FHJca7RuqHUQcARrrGtwacxl+GMUYgBb/FgMWLRXQFCoWehYxFM8TZxLVFFgQWw66D6YMfQggCOMFagbTBvUCz/48+yP7Evsy+BnzxfEq7Tntzurb6RHrWuGJ3qDh4eDM4LjZENQn1RXV+tRF1v7Rgc7qzjPN7M4r0RDVntfX2JXZztyt3kTiZeQj5xTuSPNo+cL2l/fX/mwFMgvgC0URWhVGFuEVwhb5GhAdIh/OHsgfYCEdH6oZNheMGrUbyRdyFNgSABH6C9UIkQkhDJ0MpwmYCEUHtQe/B8gIQAzsDlgQMg9FED0S+xRnFwIaRB6BH1QgTR7UHlogNiIzI+QihSKIHpMbsRjRF+sVLBJnD4UKDAfmAff8rfpG9Xv0k/Hg7kHoseQS39Hd2t0D26LbetOx1XvReNFz0BPOKMy7xzXKUMgpypfGW8emy8HPwNY11XDU+9P11gXcrOH/6bfuzfCg7/f09/vV/0IClgbRDlwSpRSmFmQYBBsWHZUgmCM+JScjoB8VHs4eayHUIDweZRt0Gc4UvxBkD3AOpg2lCWMKGgzlCjAGTgFyBPYIngv5CrEKyQt5C9AM/xAmGCYa0RioGCMb+x4aH6ggKiIeJDQkqyL8IYogex4CG9oa4hnLFioR0goXCEwFUQMk/6v7iPfF8nnurerG6ALnYuRj4PnestvY12LUI9NY1BDUHNG1zgbMzMoryjHJ1clUySHK1M0j03zUDdNE0/LXW9ux3R3jGuk+68/pVe1S9ur9OwAfAnUGuQotDcEONRO7F7oaWRvNHDEgtiA6H78cGx4DIZUgTx24GskZsxeaFF0SJBOcETQNCQlwCeIMNQzWCDsGnggCC8sKhwpwDGcO4Q3VDvIS/xerF/8V+RajGlwdKh1NHvAelB7UHLscQx1jHPkYhxWSFH0TABJBDuYKOgigBUUDawAF/hT72fYq8wvyhPEF70Hr3ue55qTki+OV4c/gc+Bl3ETbKdtW23DYo9W31X7VdtS90q7Sx9Ip0w/WmNjY2E/YQtpY3DPdw98t5ODnCOjk6efui/NF9k35Wf6oAogECwZuCXwNeRD/ErcVrBhaGpca6xoBHI8d3B1CHZQcQBwHG/MYVReQFjwWQxQVEl0QfBBnEWQQ0w6ZDQEOGA6cDQMORQ+nD8YOKw9xEVkTlhIBEvAS+hNFFFgU3hRKFTYUchNcE0ATBBMTEYMPeA7dDW8MngoFCXIIqwbSAjMBNACf/uL7a/r6+Nj2ufRt8yzzQvEU78/sj+zC68fq9OjZ51DnJuZc5mrkHOTh4zvi1OAE4Ljfvt7e3Gbcptw93SHfa+D+3+feOt+J4EriveO95uLoUemb6nvtYvG88xL2lflu/PD98/+9A6QHGgoJDHgOyBA3EvISYxSEFuAXfRjrGAYZ5xj5F+UWfhaTFjoWBRWrE4QSfxHpEPgRmhJEEiQQjw7wDokP8w/pD3YQ7Q+lDigOwA/xEFYQvg+kD9wPVQ8cD5IPyg8yD5EOWQ76DV8NuQtBCzILNAqoCbwHsAa5BRgEFwONAtABrf/t/Wb9gv3o+yf6UfmE+G73VPWJ9PLz1PJs8ofxdfAU7+DtOe2J7C/rKOpR6ULokeeF5pblYeRd48PinOEc4AHgsuCg4Tzi+OEU4ifiROJf40bl3OYK6FjpM+tv7XjvvvHP8/z1ffj5+pP98f9yAtAENAd0CbQLow23DqgPLRH0EkcUHxVsFU8V6RTOFBcVbBWhFYgVThX3FC4UsxN5E1gTuROvE/8SkhGgEPEQJREJEb8QUBBSDzMO2w1wDgUPQA5aDcAMZAzNC7kLVww/DHkLpAorCu0J1gkXCeUIfgjbBzoHigY/BogFrwT2A3ED1wJNAtsAcv+b/tj9XP0s/Nv6gPn89/D2Vvae9T70rfJB8TzwC+8+7uXt7OyN61bq0ulh6Y/o7+eD5/PmVObK5TzlvORp5GDksuR15VbmB+cm5z3ntedf6LvpcusJ7QfuGO/x8FbzO/Xn9v/48/qp/Ef+igBGA3AF8AZ+CDQKrQudDHkN1A4hEC8RxxFXEuES0xLgEi4T2RMyFA8UshNhExwTqRI+EugRwRE3EQERyxBeEK4P/Q4CD9wOWw64DW8NHQ3FDK4M3wz+DEEMpgttC3QLgAt5C5kLUQudCtAJeAldCQEJVwitBx0HWgZpBY0EwgP2AuwBuwDk/wv//v3b/Ov79foA+gT5E/hO92P2bPVy9PnzgfO48tfxH/HC8Ebw2O+B71vv+e547m3uaO5K7gLuIO4+7jPuE+777SruCu4H7vTtBO4K7hPuhe4H77XvDfA78H3w3/CC8UXycfOM9JH1kvbJ9zL5Rfp0+9L8df7k/y4BogI7BLsF1QYLCEQJUgoEC8wL1AzqDdYOUg/WDysQThBBEGEQsBDQEMoQZBAqENQPRQ/aDqcOpw6RDi4OcA2bDC4MFQzUC3oLIgu3ChkKqgmjCbYJXwnJCGgIIQjCB2wHWQdaBwYHcQb5BZAFFQWHBA4EwAODA9oCCAJXAcUALgCO/w//g/4J/kf9h/wU/KP7IfuH+h36v/kw+aj4SPgY+Nv3d/cp98n2SPbd9b/1sPV09Qn1sfSR9FL0MPQf9C/0IPTr87TzofOb83rzdvN284vzf/N+82PzY/Ne85XzGPSY9Bz1O/V49bX1F/ak9l33W/gS+a35Wfpw+3f8Pf0U/ur+6v+tAIIBoQLJA48EGwXbBZcGLgeIBxYI2gh+CdoJGwpmCm0KXwphCpwK8gr+CtMKuAquCosKhQqxCvYKxQpVCh0KJgo/ChMKAwo8CiMKywmiCZ4JkQlBCQEJ7AjsCLwIZQgKCNgHrQdNBwsHzwYoBlkFFQUpBcgE/gNrAyMDoALFAT0BDAGsACAAov8T/3/+Mf65/TL99Pxp/Mj7i/u6+177sfo3+iL6SPqr+ST53PjP+JD4Evg5+Bv4jfcD9+32Hff+9rb2W/Yp9r31YvWZ9bL1TvWt9Fv0h/Rs9B70nvM881LzYvPA8x30afRx9Hz0tvRO9dn12vVj9iz3Qfj3+Hr5e/pW+w78gfy1/Rj/0/9jAF8B3wKMA/MDmgSOBVcG3gaRBxoInAjfCEIJpgkLCk8KTwpqCroKTgtGC0gLnwvhC7kLJQtuC5ULXgs/C6MLzAtzC2ILMwspC+8KnQo9ClkKQgrJCTgJeQllCaII+weJB+0HywY3BhYGjgXsBBQEbQQJBO8CdAIDAm8BUAGOAD//1v79/vr+Iv0//Kb8cvwD/Hj7y/tC+/v66vok+4P6Kvmb+WT5FPkt+T/5PPhp93X4NfgT9zr3lvda96P3AvxL/0j7Z/ZN9Zb29vTP81vziPEm8T7zA/cm9pXzp/GL8GfwnPHL84jznPLy8vjzJvQs9Kn0bPQr9HL2/fn0+5D71Prd+x39uP4XAMcAKwIXBKgFdwYkByYHvQZtB2cJPQtcCz8LwAsODFIMggxyDPkLlgt6DHcN0g23DZ4NlgxbC8oLoQwADUgMRwxXDNMLvgvQC1ELFAvzCuUKcAqJCi4LuAlVCVMIWghlCTcIyAf4Bv8GCAapBawFZwRzBEAC1AIBA88CDAMjAWwAp/49/yj/9f18/RX+Lfxx+hX9a/wQ+jP4BvlY+vf3yffh+nz7qvof+Pj33vhf9Tr1y/OF8KXxi/J08tDvAu9J8fTuGu5C7zrvz+0A7QHuTO7A7MDr2Oxr60vrL+wy7WnuJO5K8IXxAvF48q/zR/TT9Sf4hfoD/O38r/7r/xABNAOoBJoGtAfWCPwKhAtsDBwNNg3/De0OLQ/4DkMPag9yDzIPGA9TDhoO6g23DZsNxgwKDtEOIA6mDEQMVg3UDU8Ncg2VDhwOug2qDY8OpQ6nDcUNbg4lD10O/g1KDlkOag0GDbAMRAwuDMYKMQopCvsJHQiABuYF5wT4A/UCYQJRAjYBIwDW/o/9Hf3k/Gn7H/kL+f/37/eF98/1BPVK84PzlfOK8nbwOu7f7qXuse047AHsCOx+6pbpnune6M/m9+ZT5lrlSOXR5e7l1uKx4XLhBuJ84evfQOLS5KXoR+uo6Q3oi+mN7SvwdvHR9NL5Yv0l/vT/ogJYBc0GGQkjDsgRgBS4FOgUThYJGOkY1hioGe8ZSBogGTQYNRdbFdQTfhGHEWQR/Q+fDXEMrgzQDDcN5wtaC9wKdgzjDXQN/Q3kDnoQHhH/EQkUEBW0FNUUlRZgF5gXwBezFx4XYRZPFs8UpBOREnQRixD3DwIOZAusCQAIUQcGBYUDkwL6/4f+xfpy+aX44fbx9Tfz+PHa8ArxPO5p7Knrk+v06rjorehC52zl5OM55CDjcuB035nfnN7y3ETdKtxN2QXYAthZ18rUW9Qh1NjRmNNs2NbedOG/3vveC+HM5SPq6OxG8Nj1cf3UACIDaQSGCBsM1A7YFXMbqR8wH68esCCQIiwkGSMFI+0jDyUdI8YfXh3GGYkXjRRfE+QRqQ79Cq8HGgbRBOgCYgGqAxIGDgeYBTgGign+CjYM1Q7eEz0X6BjyGlIeyCDpICYiRiQCJ4YnuyY0JmMlrSO1IHEehRwvGhMWCBJuDwoN0gnqBQ4DbwEo/x78e/h69kz0cfGF7hrtO+3J6xzqkejd51/mPOXU4/riIuJY4t7fMt6q3fTa1tmW11rYpNTU0rzS1c+wzDHLVcrJxsLFnsKvxabJl9Pn2fbULtON1CvfyOP45eTqGfSU/r8CWAVcBQ4NuBIgFjEccCQqLooqHSbGJxQtry5zKuwpzSsCLd8nzCEnHbYaOxgAEnsPbw5yC/IEQf44/rD9YfsG9jL33f98BEsE2P6wA1sKJQ3PDoITkx0bIPggqCSwK9YscCrrK7Uw0zVkM40xBzBwL3ktByi0JdojGyD3GKgTfhG2DosG8/7//A37vvaQ8OjtB+4N6+/nCeYf5kjlyeKx4gvkfeWK4W7eV97m4M3dJtrr2UzaSte91MzSAdBPzRDIKMiUwyDBHb3SuAy3HbsrwkXKJs/ozMDKL8ow1R3ebeGO5+ryNAH5BbsEFwcDD2wWCh1+JEsuDTZzMpAtdi3AMhA1UDATL/IxFzFjKg0hVxuYGHEU3Q9JDUYKFgbF/oX4i/dh94P1UPJu8HP1m/+iBBcG0gKSB8wQjxXxGgYgrCcwK9otnjJrNl41dTOgNRA4KDtaOKc0uzFWLgQtfCeKI2IgZRuhFb4QnQ66Co0DQ/zI+SX39PKu7k3rpuqb51HlkeQ35E/j4OFi4lPj6eHi3q3bPtoF2zra8NfH1QHUv89Wy6nFGsT+vnq6ebeds/SxDK7ys2a5n8KixfTFjcVuxTDRcti04ODldPLYAbYHeAkgCZYSORsPIw4q4DIhO7c3ETOCL8c0fzfbMiownS/zMNgogR0KFnAT7RDmCpEH1gSUAY/57PKm8mjzS/RT8BjxEvQ8+BYBeAd0DvQNXREhGpYisSgFK34xNzaAOhc7lDtLO/s53TkIOPs49DbaMuUshSj7JpEiBR2kF6AUwRBkDMAI5wV6Ac37M/gd9sP0qfHG7v3sGOw16/PpEOjx5zrn6uYY5rfjQOC72sjagNnj13DS9syBysnGEMK1vbu3hbOasH6q9aYcoWSoVrAHuwTCx8ETw6XAwsoq1Bjf2eYL82MEnQzUEOoNdBRIHJYlpC+eN0pBbj5OOLQxtDK3NQ0z8S+LLWsudydLHPoQPQtOCeQEDAO+/zH9QPaI76rtJu/B8B7wqfBr9UL58v5kCdERVBflFFwcGSf+LnMylzTFO/s9NT/kPQM/OD2xOs43ljX/NS4xBSypJE4idCCKGucUnhB9DgwKDAZTBBMDYP6d+aj3KPeb9lTz0fHC8RbxoPDM7aft3e147KzpiuaV5LThJtwq2RjXbNOszYvFFsVLwZq+QrZvri6pW6MDoqScLKJ2qOW338Dbv9e+87qjyHbTgd9h6L/0RQhbECAS0Q5MFyIhAiokMTI7+UZ9Qsc5AjD+Mg431jIXL0ks4i33JUoYgAwDCOMFKgFm/nj85/sU9EXsLuoy7MTw2O6Z8J30qPuz/q8Bzw6nGUQgPhw2JO8wGzfFN6A3RkAUQZI/aj0oP+k9GjiOMlEvaDC4K+glwR49HbcbHhT4DeAKNAtDB/UCxwI9A9L+8PiN90j50/mq9hH1mPXt9JXzp/BO8NLwIu4p7Mjn+uUN4JXautaW0tnPq8hxxsnCjL4/uBmvzajKo4yhbp1Fm2WhUq7Yvfi/Tb2JuZK/S8+b2m7lIe1s/tYNORPRES8TIB06JpAuFjdqQ8FG9z5kNEMwyDW1NT4xECymKz0qbR86EQwHQgQdAjj/Ofwq+yf3GO9Z6f3o/u0S8Izvd/Gr9z7+kgD4AMgMjRxlJDUjsyMqMv04dDgBOL49g0JFPv881z5qPjY27C6UKxUtRiuKJIMffxueGqkTIgyyChwL+wgNBLUDzQUOAnb6bfg6+xn94Pqb97b4L/gk9rTyEvF38rbwN+zp5yjmTOKw3NPTstJUz9HJmcT7vsK9qrSyrvioPaasoeWbhZgXnpGptLbDvwC+ir4/vv7JKtjg46ft/febCYQVlhdZEzQY9CIJLy03Gj4ERuJBlzkKMZQxrDVbMostZiozKgAkyxVGCGMD6AJDAQT+SfpU+BDyruu16ajrs+/T7/vww/XM+wMAcwCaBgMWCiIyJD0iBCrINWE4uDYgOds+MT9nPa49Tj54OD8wFCy0K7MsRSh/IuQdPRtKF+gPgAuVCyUL8AfsBWMGxgQG/rT5bfs//ov9/fms+Az51PfH9FzyX/ED8qrv+Owx6YzkFOAw2QHWENPZzjrJ4sJIwTO8LbW1rqCpkqasnrya8JiUn5SpX7ilwSe+67n0uYjLrNkc497qRvklDsEUgRGuDeQX4SYSMeU3qUBTSMNBDzcwMMk1STpCNvAxbC80LxAlaBUNCpYHoAjLBRsBnPw2+ZfxResw6bHrCe8h7rDv2/LZ+FL7vftX/UsI9xhbI7wkgiLhKsIxAjQtNOo4UT8qP2g+9T14O2gz3SyeK80uAy/sKbMjxh1aGmMUDg+gDcsONw7mCfsGTgWRAbz7Evrw/PP++vxU+c747PYx9I3xxfDz8Vrwle7p69Lo6+P43aTZOdiE1T/Qe8o+xXDBsruTt/e0u7BdrbqnhqUHnkOYxJyWrNPEscjzwWe3R8FT1eveIeIZ6KABeRQAGFcO8Q5QHNInwjDoNldFW0kvQYs0jzF3Ot07FzcbMXQzgjLGJjsVMgv/CwoMngg9AUL+JPoj8pDq1uco7BXugez86+vwWvdq+A32G/iVBpMYAyCOHasdECioL8svGDK0OBI+Fj2EPbA/pzv4Misu2DAvNPwxLiv2JUMijx19FsgQWRG0ES0O3wjRBnEFCv+b+H/4Tfw1/K34gvUD9XDyKu/N7dDu5O8f7s3r1ero6a3ieNyl2RrbNdl0z2zKZ8jTxZnA4rjwuKG0dK1cp9mjoKGwmXCcjq+qyfHKd7mjrey+fdrj3vTa4OIKA6IXDBCzA2MJFB94K+YumTaeRsJKZz+JM2Y1ykHmQWk7YTYUORQ48SjtF24Q6hJJExIMiQJv/g768PE56drlw+p17OHod+aO6i/yKvIu7urwIf6ADJUUZRpFIEwkTiSmKNIx/DiHO4c8l0EjQxI+WTZXM082EzjmNbcx/C62KRchrxiqFrkX2xTAD7kLowlHBEX9afm9+Zj5n/cE9uj05PJa7k3sa+0F7k7tMOtw7JrtvOkU5Bfgxt823WbY+NOU03jP9Mc9wle+Jr4xt7izpq7nqUijxJs7oDCp0byzw3fASLePuH/Lm9ac3PHcZ/A6CFUSnwtjA4cQoyL8MOAyHDsoRoJH1z73NPc730KXQ108yDkuO7MzUiTmFWMUtxWpEmEIwQC5/OX13e3I5ojnfekl6A/mruVC6jPsAO1U7HD2+gekEdURdw4GHPEmfSmQKdcwNDwePfA93z9GQQ47MDfPOP085jyFNe0wWyxYKm8iaRlTF4UY5RZGDkUIiQV1AVX5ovau+Ov5pfZL8cDw+e6V7ODpbupj7ZXtPexa69nqduc/4jzfgd+d3ijaEdVG0eHMSMcqw0TChr8ftw+y965lrPWhd5kQot+x7sOzwsS66rQ/vCnOc9bc2pzg/PaACaMNGQU7BLUUpiV0MuU07T12RW5Esjx5NxVAG0ZwRMI8vTsWOxEyjCKjF4MYzhdSEt4G8/8V/Db1P+1o5/7nbugx5qTjY+Xy6GLqtunD63L0SANVDvQQMhFcF9giUycmKgcwDTlePj0/8EDDP+Q7GDm+O8E+Mz4WOXozCi+bKbIjAR1zGvwZkRYuD0wIiwSkANn6Kvfi98L3s/Qz8MftPu2S6wPqvukH6zDseeu+6l3qs+eP4grgfN8y35vauNVv06zP98qexXbBU78KutW2RLNqrTKntJz8oImr7b21w8K8KriDuQXKJdEn17vbAu74A6ILSgh5AX4O/h4SLjEzNjn7Q4hFpEHjOFE9UkR/RkdBljwRPfI25yqPHGkZjxkOFiIMFQJX/if5JfKt6cbmweeA5ofjJeKx5efo1+gx6HvrovkQB44MkguoD64dKyTNJagoADO/O/g9LkA5QbA/hDunPCU/VkFUPuI40DQkL2MqTSJ8HaQctRppFFYMFgiSBGv+EvjL91D4CvY08ajtle1d7GXqq+g+6T7rtOvw6efpzend5/fjDeK04Qng89vp2HLWd9Gmzn7IG8dewi7ATLzItfWwQarHpbKgvqUbsT3DzcZIvVmyU7dgz7/aztq923HysAzDDtQAa/3jE3QrITW8Mog6Q0ZjRqg9OjdcQoRK2EeuP1I9yj7hNbsl1ho7HFcdJBZLCAIAmP4m+S7w+ub45WDo1OWF4Vvg3OT35wDmUuS57fX+9AcDB/UGAhVaIX8hLiLuKh45eT1XPvVBq0NoQNE8vT+hRKpFBj+7OTQ2DTJRKnsguB4QH1cbkRI5C+AH0QHm+Uz29veL9tDxw+xh7AbswufS5c3m+OqC6h/o2Oes6mPqK+aS4hbkLuVR40fertpG2JLTaNBnyhzMP8gQxF+757Y9tWet1KaEnhen9a9LwYnFW7rGsE+xNszY15LYdtc761YH+goj/yb40Q/JKKo0ujDCNCxEk0WOP+s3o0J0TX9KuEKJPjFBrDkuK5of7CDdIUMZxguBAagB9Pve8l3pQObr57zkB+C93TnhfuRG5Kjhs+Zh87gASQWjBboMthiJH4cg8iZZMko8zD5tQe1DfEJVQIpBsUbxRx1EZT61OqQ2bS9iJ00iZiKGH04XBA6LCPcEQf4U+Fn22PW78WDs/OkF6pHo8OTo5Jvmeeju5irm9Oda6EboauVw5sTkV+Op35veyd7/2dfTT9De0O3OS8jnweu/3brTtGCt+avop6CmXqvBu6nJ8sDUr96qLcbC3jzer9NA3gQAsw71AS717gZZJ9k1gzAVLYU7JEZZQ5w6oD6HTGhO70XcPG89PT0NM50mbiEbIzoeOhFAA1IAwQBB+njup+XD51ToruKt24fdjuUz6Mnis+CI66r8iwReA2EGtxJRHU0eRiIELYM4MDxnPihDY0Q9QQFBwEaaSpxHaEClPGw6czWILewmMSUrI28b1BHGCxUIeAKV+k33ePaB8sjsDunn6RnprOV347zkMeaG5TPkjOUG6Q7oleZc5eHls+aN4wviN+L63+Dbm9Or0Z3RoM9dy8TDa8IYvPi5TbEfreKn86RRsFi5bcf6vFay+LGgwpzYGNcp1rHduvjUBk8Bz/qXBOIgSS2+L6osJDefRJVDqUBbPqJIUUyRRzFBtj49P8Y2sC0rJREkZh6EE6cKeAQpBOL7T/Kb6kPouOdF4s/eM9/W5F/lruKM4RTqGfmJ/kcAKwMnEE0aTxt4H6goaTTuOKk8KUG3Q7dCvEI4R9RIpkf3QT8/4j30OKQxbCkvJxUlAx4iFIwNZwr3BCL9AfcG9QfyuO0b6ijotucT5Ubje+Lj4ljjtOMw5W/nQefk5I7lMuYN507k8uNc4zzfQdv52mTZeNPezf3Ncc9Fx1S/S7qkuRiy4auEpmqrC7TXvFzDPrkytDG1NccI1irXUNd74lf6CQUq/6H4MAkdIysuKCwuK/o6MkW/QUU8Sj88S8lMm0U2QF9AmT5QNb8rBCdCJigepRNNC9IGUgTb+gDz7+x26sTneOLy3xPh8+Sy5Hfi1uE561b5C/4U/4oB1g48GUoaVB4bJwMzbDjBO4c/1kF/QbdCx0YCSDFHekIxQK0+JjlWMhArmSgiJjMeIBV5DzEMJAax/cb3WPbO8mftu+lu6IHoP+UX4pvhQuLA4lXj2+T75knmSeQa5aPmZuYc5YbjtOSE4erd0dkc1+XWdtVa1GvNEcdawvLBH74GuAOw+q3irHev3bPnuFDAJL28u0270cdb1djZGdyX5Bv5cASjA8v/2grrH4greS4dLhA5OkL+QTU+Xz5dR3hKtUVPPzs9cDw2Ne0rfyVcJGIf4hRGC5QFhQSY/d70cu5e7EfrfuVL4evh0ebV53PlseUa7tz64f1//qACvg8nGoQaFR6fJtIxrDamOeM9OkEQQVVBzkQcRo1FdkFSP/E9vTgaMkQr+CdHJTUeOxaPEGMMRQa//qD5Z/eZ8/ntdutb6kjpR+V44mbjC+Sj45bipOQr58fnDOXx5H7mq+gK5+fjBeM94ADgk9sf2/HWldN50jbQfc3uxM/BZ70bvJa1hrEFr4up6a6Es2bB+sMxvJe47bva0FDbgdzN3IXsRgIlCBcB1/2kETomhy9LLQ81mUKQQzxBJjvUPq5Jk0rTQco4sTRMNFUwgSl1JkEhExNjB74CqgKlApz53vFB6jznh+TI4Kvhe+Yj7ZDq6+d/6TT52ANYBooImw6IHtci5STwKfo0ODyJPBdANkQiR+NDrkMnRahEDkEjO9c6EjdqL8gl0x7VHiEb5xKsCi8GwALi++v1p/OO83zvK+ug6UDpnemX5xDpVuqS6bznyuil7YfvZe3b6TzsG+4Z7CjopOTR45rhOd7D2dPUotJ6zxLLXsUVv7u9HbnctRmwfq1/qKmmtaURpLSsBrVcx6jH7b9+vHHIeOIQ7bHvIfSWBu0VeBSbD7wYkDNMQgpAKzg9O/BIdUlSRARANEQySDQ/WDQSLZYrpiabHVEWkhFdDEz/3vXT8Jzx7PDW6VXlmuI/4jbfPt3N4bHrzfJG86jyofrnB9UPlBLmGAEnWzAOMQkylDkHQhdFYUfvSsRLr0fHQ5tDd0NjQNw6LDdgM5srcyHfGWwY2Bb0DxwH3gDt/XH5WPT58fvxIfCT7MXqH+vg69XqAOxp7rTviu1W7ZHwXfO18iXwFPEK8lXwreyy6JDm5OOX30Hds9jd1mjP4sgVw5LCKMFiuZ60vK6mrpmo9qTQo4Glu6PIpcmwa8MTy5zA67nHxXbiVfA672fxiATkFgQXnRDcGOcyJ0MCQN43MTv+SB5MU0XRP4VDHkg3QtY1bi0zK9AnayCcGNQSZg2tAs33F/OA8mDy6evr5cvjI+RB4VDdQeAl6pPyXfMl8n74tgXbDakQXxXMIWgtYzAFMnI3fj7YQUlEmknfS5JIGkTxQz1EUkG1O/k3wDW+LoMlgh15GrIYZxKZCnIERwAk/EL3dvQ78wTxuu2P7H/s/esc68Xqr+367pHuIO5q7/rxfPGK8VjxW/IT8OHsUOvv6I7mBuIm3jbcHdiP0+XMVMhWxl3ACr3auNi3crPyq6+ohaezqb2nuaUdqy+0P8SayFLEAcE8yZXgb+7r8tXyPwAwEZ0WDxQzF0krAjt/PHg2tzawQptGCEMrPu4/g0RgP4k2sy4KLJooOiL1HKoXOBKCB2r+Qvr8+FP48PFk7fnq6Ol258PjVuVB63byU/XL9Tn8AQS6CfwKPBDGHf4mxSogLDkx9DXCN/g7rEJGRrNCeD9OPyJAzT0LOcw30jUvMA0ogiAHHjUbARYTEBgL2gZAAVn7Jvj89vv0QfKG8PDuyuwl6rLpY+wQ7RTtOuxg7brt8+tK6/nrqe0R7XfqXObT4vzfj95U303dJdm20drNQMz4yOPF/sFFwUy8rLc0taK1X7UdscOvq65wsVO4pcNv0JTPEMkAx2rVCeqL8knzSfalA4EONxDtEDQZrSe4L1Ew7DDZNHM6aznWN6k4sDw/PoU4uTFeLLwqOyh4IwMghRxiGFEPiQZhAiECLwKr/XL53fbR9HTx9+xT7iLz9fdg+Gv5jgCIBOQESgMuC/gXlB2dHjUgkSUOKAEprS7fNYc4FjV6NEw2rDZTNLEyOzXSMxkukCf6IzIjPx9dGpcW3xOaD6kIbQNTAIb+TvvX+EL36fOw70zsEux47FDrreqO6g3q2eeg5Rzmlebv5vPlAuX947jgBN0221XbXNs92WjY5NZf0UDOh8ylzQHNWcmIyFnHGMXFwsDBOsHewF/A18DBxVfLQtSR10LUTdFW1BziPO7F8b3xWfVK/V4DpwWuCrcS8BjKGpsdNyPPKKUoYCVzJ5QtXDI9Mc4raSk+KWspBSg9JuAkryIRH3oZdRbbFEsTLxFVDsYNOgzmB3QC///pAT4ENQQsA2IGmgiTBqQCDAReCx0QlBDWEY8UZRX2EwgWcBypIDcgSR9qIV4jzCLiIVgjxCQaI/ggCSDHHh8b7hYsFgsXqhUSEWUNbQtrCbMG4gR5BPQCMv88+yj5A/jl9S3zt/GG8eLvp+3P653pXeca5R7l++WI5OTiKuEy30Ddgdu33OzdIN0V2l3YB9kx2cnYRtha2d7ZFdlr14DXQ9hn2BTYMteI2I7ZV9j813nbRuBd48LhE98O4Bvknufx6B/qPuxF8NTynPMv9Yf4IPxq/kcBkgULCnwMQQwtDQkRFxbLGUMbVhxIHpYg+yE8Iysl4ybPJ8UnEigQKSEpmCfVJXolXSYtJjYkgyJuIesfah3iGygcqxvZGLAV1hTTFHATdRGWEKgQTQ91DR0N0Q3jDYAMGQy7DIcNag1VDfwN2A1gDRENUg47D74O7Q2cDdENMg0ADEsLWwsdCsQHjQazBR8EOQG2/h/9WvuQ+O/1f/WG8g3w9u3U6T/pz+ec5LPjhOLH4eLfDt3y20Lb4dwb3fHaQtkB2fTYl9qH2jfZAtnb1+PYidnS2pXZnth617zXjdnH2Q7aVdpq3i/gD+Du3f7e/OIJ5tPniegB7BXvFfJy88n1cPno/P7/IQMtCGYMNQ9FEFARHxUyGncenyBpIaoi/yQSJ9cnGyleKt4qryoEKksqCypEKF0l6yMZJEYjCSHzHUwcSxuEGUAXfhV6FK0SchALD5EO+Q1cDGoLRQvwCrkJCwnwCckK7ApvCmgLhQzqDBsNtQ2zDr0OrQ5UD9wQVxFtEPQPZQ84D6sO4Q08DokMPArJB0kGxAUsBAoCIP/x/b35r/c7+A/13/Ke7iDrN+sr7DjoKuVM5Jnjn+Kc4MngSd//3svac9zA3vnc+Nto3azdQ9vu3A/bGNup2u7akNuM3EjbD9oR2wjayNqt2sDZotnE3FDgZeKg4kXgOeCp48rnj+rL6/ntP/HG9OD29vh6/G//lQJdBj0LMhDYEoQT1ROhF3McMyCfIhQj8yNbJfYmiicAKDIozCfQJywnzCZxJhUk7CCSHmYeKh6YHNIZ0hc4F4MVOBO6EaMRvhCnDlENYQ1pDUQMTAukC/ULgws2CwoMTA1IDfsMfQ2UDu8Ocg9QEOoQ9xCoD7cPFBGKEdEQ4w8cD54ONw2zC24LLQqrB4MF3QMtA74BQv8P/Rj7DvhO9z72mPQY8rXvMu3u6uDvgukY6RnoMOQ45sXiHuVX5bzjfN613+vfVOFg4X7eFd+r3KDg3N2k3pbfUdwl3TPdZt5n3vLdB9t43DjdLtyL3fbcwdzE3lfibOPC41/jRONd5orqsuw87kbwEfOs9/D6nftG/kkBIQR+CMEMzBBWE1IUXxRkF9Ib3R6oIPAg1SFmI8kkuSSeJNUkcySuJFck6SNaI2UhuR6XHCccuBuRGrYYtBZAFkIVcRMtEkgRwhCqD6IOoQ6tDiEOSg0nDW4NEQ0WDZ4NwQ4zD9EO5A5hDwUQPxDAEIERNREMEEEPiw/vD2sPlQ7oDUAN3gqmCZIHKAfYBfQCtgE3AJ3/x/yj+7v4u/eR9Zr0afKO8rjxAe3A73jn1+k87SzoaeoY5xDkXeVt5fDjUOar5ArhheML5bjkR+VH40niYeOF5i3kdeOa4uPfV+Ot4VDiiOJo4wLhB+Fq4jPhhOHH3hbgCuGg5XrmHue65/bk2ufq69Tv2u+a8RvzsffQ/Dr8g/61AF4DUQalCsgOoBHjE5wScRRaGOMaUB06Hvge5x8PIg4i6yE3ItogOSEhIR4hESGIIOYdPxs3Gu8Y7BgOGIcWSxYwFRgTzREnEQ4RPBAQD2oOHA8OD5oNXg3LDKMM5AwuDUIOVw8ODxQOgg6iDv8O9Q+KD9APiw/2DcQN4A2VDaYMxApjCZsIUQieB58GRAVtAn4Aev9WADz+FftB+k742Pcx9/r13/P1897vQPBS8ZjtGPGs6tTrjevl6Pbr4eVL55bmLeiT6H3nreNN4jzkueKt53vjteIu4qngLeQd5CjjSuEx4ADf8eEb4yXi+OFP4AviyeEN4/zi6eGn5PDlw+nh69/qL+p77bvvZ/ER9H712vmM/eD+kQBcA0AFTgZqCVkNbhFsFUUVTxVXFw0ZOBs3HckdhR75IO0griD1IC8fhx5AHvwcRx2UHiMd1Bq9GG0WQRVgFGsS1xHoEqkRtQ9oDr4MuQtnCxQKlwrKCxwLpwtHDAoMlgvACp0KXQwdDsYOrg+kD/AOAw9aDxoQBhE7ED0P5g/QD2IPIQ9EDqILbwooCncJrQrGBpAEiAK0/wUCTv8K/8762vd8+UH4G/hh9QT1OvAe8SHwGu8a80fuFO4t7FrpFOt47K7qiOgm6PLmCumf53DlYuVi5jjoiOZd5ifk9+PR5bnjQeQ45KTjJuTD5ITkJeTA45fhGuLL4sTk0+Wt5EHjf+Kh5bXoaOv961TqxeoN7m7ynPS28yT03Pcj/db/uQGXA2QFCgfBB8gLgRAIFLAUyBSbFlsZMRsOGw8b8Bu3HS8fph+iH+Uedh0VHKwaXhq8Gt4amBlzGJkWZBTvEXsPBw/mDhwPWg7JDdINjQyoCpAJzQjHCX4K2gr7DEkNpQyLC58KegvKDIENOA/dEIARChH5D+IP4A+PEGMPuBAqEeEQOg8ADmQO3Qt/CvIHOwevB4EHWwUNBjwAJf3c/Fz6aP5G/QD65Pf79DT2i/U/83D0AvFd9lD6//Xm8TLum+kl7Cbs9+fJ6ujpD+rC6iTrA+fx53LqLOjg6TXpI+c85l3jxuCY43/lteBZ4vjjXuFd4QvfrN273uvc9Nr63uHeydtw2xrbh9s635Plneq57Y/roelk7xf1Kve/+QwAjwiaDdINzA3RErcX1BZBF04dSSRTKPwmOCNMInkhkR66HSUgeyHvIEUdJBcZE+wPoQwZC3MJsAdJCboIaAWhAmP/lPwl/IT9AgLZCDgLCwwtDecNjg/KEagVZhtQIMoieCTKJvsnDCbGI20ktyb4KHkpFCgxJlghyRuPGZwYSxfVFCUSfhCtDhUL5wZIBJcBcQBiAA4BWwERAGH9FPsT+yP6QfrD+iv7EPvk+Gv3gPaw9K3x8O4Y7pntwet86NfkF+I33r7abti/1rXVstNc0fHONsyRyTnJjcaVxs/GKMd2yHXHlsbFxt7G68X1yD3Kt82izznQ3dCw0VnRkdPS3KruzgDHBcL8uvNq+ooH3hCtEvEY7iJKKNkj5R/dIe4ihRwvFiAcDymBLwwlnBOoB9kFcAdGCXsKagtRCnoFVP/u/NP8l/xq/DT+Wga0EGEWJxRvDowLMw8TFnwdICXDKuYr2yjVJegnzyy6LkIuey5iMAYxby1FKEwkzx+3G9UawR0TIAIdXha2EQwQfg+VD5wRRhS+FJ0TfBPsFCcVjhIiELMQ5BNpFvQVShR4EVQNdwgGBiEFPQSeAd/9Hft892rzIO4a6Znl/OKJ4e7g/N+J3YrZtdQq0a7QFtBD0EXQxc52ze3J2sdex5PHy8juyNjJXsreyTHKdcg8yIrIDsYLyMLKWM4q0C7Lv8gYyWXJfM6A2+X0JQ3EDvT+rvQg/tYOmhUDFdodii15M18rhSDxHBEaHBBLCqoUFCZtKi4ZywFo9Tn1FfeL+ar+YwbOCiIHqwFZ/20AYgN/B6YP9RvZJoQrkigLI6kgvyICJSInlCllLY8vXSzmJ9YlLiT7HgYZZhl+H0Einh6sGWAXNxR4EBQQShXAGp8blxrXG9AdkByxGTUZuhzJH0ogph8PHykdjRj1E1gS8xKJEdQMDAmKBzYFMQCR+u33+fbx9AHz9PGP8DHtlOgI5ifm9OVY5fPjXOMf4mvfqNt/17DUAdKJz/bNMs1GyljIF8aFxMXDsMJixVTHGcfxxlTHgsd6yKvJu8vYzrHOE8/Ez7nR9NJG1LbcCPLFDOsaWhYvCRkFCwngCwMMMRY3KDYzpCmZFpcLrQh1BQoAegI0DVgVjQ/OAyr9/v4w/5X6qfiwAcsQ8BvkHi4dvBoeFqMSzRIqGwMmPy2nLvwqQCQZHPYSMwyWC34PQhUZF+QVMxR6FdIWVRXXExcVIxrhHmEjCyh/Kz0pBCPoHqAeFiHZInkjJCTnIukeGxooFr8UcBO0EnMSzRL3EkEReg9eDSkLBQguBUQEtAXgBpEFyQII/zj6KPbZ8wD07PP08Tzvt+xU6hbm7eJ24Iresdr018rXI9in1UjQ/cyWyU7IbMRPxcrFtsaQxV3GD8qsymPNxMtR0UDRS9LQzsLOu9GZ0q7SNM4t0SzQ1tO+2QfwAg2oHRUa/gsXB8sHrQm5CTgWBidhL2ckfxS8Du8PPwzT/6/5Ef7eCLQLHAtmCrQKPAXl+kf3vf5zDj0boCEtI+kifx5xGa0VbxZgGkAdWB4OHmIdchvJFhAOPgX7/2sAMQV8C+IRlRgCHfofBSFmIhYk3CQhJrYn7SrrLKwtGSvhJkwgwhizE3kRARMeFfcWcBg3GAkVCBIlEHoRvxM6FUQWhBZwFhcUThAaC6UGqAE5/tL7pPt0/A/7avgt9KPw9u22667q7er26lbqC+hN5bni4uCr3Vjby9io2PXXvNbK1P3QNs/lyu/Hl8McxYrHUcouzGnNRdD5ze/Ms8k9yffI1svQzp/QcdGi0YjTodFc1Y/hmP2AGi0pMiPXFi0SKBHzD+sKoA9OF6YazRSIDcsN5w2wA+vxSud37H37CgYLDdARqxVaFA4OxQvEEGgaKSDOINsg4iPKJ1Yn3SDlFhINjAarA9oEpAm+DYwOaArWBcoEdAcGDMkPkBL6FaQcFSdvM7Q8lD5LOHstSCNKHZwbzBwtHVcaKRU3EbAPLg8mDloNsQ1RD3YU2hs1JAgpGSiUIT8ZLhOzD8oNogvbCc4HRwTCAMP91ftp+QH2J/OW8rL12Pn//B79cvu99ivx9Or154fnZuh658TjQuGI3QDcY9jC1hvVkdWO1z7WJtQ00SXMUMXRvtG+6sLzx9PO9dFN1B7Ts9JG0a3PXtC80MfQstJM1f7YpdhZ2Ifbl+eEAlsb3iibIi4aIhWXEHIL5AaVCT0L4wrsBscG8AoYDHIEwfat7wXysflXAsQMexfzHZYebB6JH4whkCCYHPMYkxb1F1IZ1xvQG1IXwg50BFD/zv7rAf0E6QZZCikPmBUcG3MeJiDjHlEc2hoMH3wp0zNIOKw04SzgI40acxMrD4sNSgwXDGEPVRXdG3cfWh9RHLQYcBcKGZUcAyBfIPscARd8ESUNnAh5BAQAIP1++0D9NAGqBJAGggVyAy4Aof30+7/6JPl29pnyIu8r7NLpNedZ41ngh90t3LTbjtyC35Tgd+Hc3x7eDtwb2ZrX79J0z8rJucWXw6LFA8o2z4XVt9ga2hHXr9eK1QXUi9F+0S7TZNKy1XfWMNmt1y3bPevGB54jmivfJfEe9h3qFzIMLgMqA1QDRP1o9yn8IwqTD7cGvPjE9Qb7ev5eAAoINBb/INMj4CS6KhIxVi+tIgoVeA34CjEJQAgeC5ANqAz9B30F5QYDCYgIZQWBBecK6BS/HrYmBixPLcIoDyKHH7chySX8JKkhtR5nHaAbsxj7FvAUQRGCDDsM4BExGnggzSKSIqohlx80HTQbwhk6Fi8QWwsHCksM9gwJDEYJnAZZBHUC4QJKBO4EHAIE/oP7tfst+3j5m/a588nwJ+0n69vqmOsX60HpNeic6T7qoenj5ZDiDuBD3JTZx9cx2PDWXtRp0pfPGc00zZzMv80mzanPAdNu01/Y+9p620PXPtPR0qDRfdBN0sPSxdQI1bTVrdeG3HTw4wqZIZAmryDeHREg4hwFDVX+f/lr+Q/0We5e9hUJmBJtDPQBogR1EdMV/w+ODAUW3iClIikihil/Mh8tnBq9CiwGTwZ9ARn69/mCANEH1gsbEUIaVB9pGwcTRxFzF/sdbB+tHogg1iKJItAhQST8J+4mgx49FgQTihQ1FVkTphPVFeUY0xnrGxcgNSI+IEobVRnyGtEcxxv0GKwWuxSDEbkNLAu/CS0H7gLSAFwB3wPVBAsEdwODAtcBWP8U/fT6Oflf92f1jfVI9S/1rfLY74nswukW6BjmsOUS5aTkieKv4NLe4twD2pDXHtec1ZjUvtIG0oHRS9F70mvRXtGs0arURddk1UjTjs+7zOTK18r1zQPRF9NJ05HTXdZz2JvdlOmJAKUYnSOJInQf5SJgIUsVCwPN91n1R/EQ7Fnubf2aDJkOBwlnC0kXJx4dGIUPlxBYGAgcihqYHSEmXSk7IE0TPw5+DrEJxP5c+AP8gwROCkAPWRf6H1IiIh6SGvkbOR51G0wWxhRiGE4d8iAFJhAsNi4ZKQYg6Bn/FkoUDhDJDTgQ0hVnG2cfpSKhJMsjZR+dGk0YgheWFUwSgRDJEMQRxBAyDnML/ghiBlwDYAFTAU0CmgJyAooCnQOgA3cB5/0A+k33UvUz84bxLvBn793tEuw268bq5umy553kGeL24LngPOG54FfgrN6Z27fXIdXh0ifPjcrByOXKtMyhzmTP0tFW04LVaNWy1A/VPNXG1UXUStU617DYFNiV2KHZQdwi5g36Vw7CGAwZaxe6HGwetxavCEz/Sf54+731MPVVAQcO0Q86C+cMZBioHh0YEw6UDQMVJxicFCEVQR05I+wdNBVBE38V5BKeCEcB3AKeCDILUwuSD3EXBBx0GmYYlxplHdEbCReuFEkX8RsAIFIkzClBLnktyicEITYcKRjIErcN1wsXD4oUPRnCHB8gESMHIx4gqRwLGoQXuhNrD+MMwAx3DUIMwQkBCH8HrAbuA8oB+wDNAdkBGgFeAQ8CHgJo/4r7YviY9oX04/A37ePqmOpN6hTq5Okd6u3pYee94xbhI+Bu3gLc89hZ18/VktUi1lnVZNSL0+7SS9L/0AnQBs8CzoTOI89V03PVwda/1UbWGdk82UTZCddD15/VCNZA2Fjg7fUrDJ8ZUBryGtQh7CXrHSYNWQI4/jP8j/Yk8wb82QmDD24MagxSFssdHRmeDicLdREuFqEVGhSUGVQi3yLNHOgXyxcEFosOWAbEAtUEfAdsCcgLRxALFv4Y9xiWGCUZwBk+GcUY0RmxHr4miyzPLc0rdirGJyUhABnsEb4N5Av9C9oNQBIiGdcehyDTIAIiMyLrHm0ZghQtEWcP3Q0wDAYLTAtQC4oJ6wf5Bu4FvAOhAbgAIAB4AKYAKwC1/jT9l/uU+Oj1ZvNA8Tbup+sX6l3pT+kZ6ajobeZM5Fzio+FP4MbdTdlL1cjTlNPP00LT9dNx1d/XedgI2LrWv9Xb0xrR5M50z+XRjNLG0yXVUNii2qbcatww20zbS9tl2gTZZd4b7oUE3hTeGdMaDyBRJ4Qk3xZ7CD0COwDO+k/1HviyA0EN5A43DqITvRu5HNcU3A2KDqgSVxSoE+AVchslIF0gQB1JGo0X9RPJDnUJqAXGBE4HMQt2DpIQaBMQF20ZRRl+GK0Z6xzGIMkkhihzK3ssVCtYKIgjFB46GGwS4g1GDLoN5xAIFWMZ+ByTH1whtSEIIHQcQxhZFBoR0Q7EDJULKgvZCtYJWwiiB6UG5wSRAqMArf9O/wv/Yv5//ar8W/vK+Db2MfRt8tDvkuz96WvoF+gB517l8OND4wXiOeDy3TTbJ9iz1UrVmNWD17nXCNXm0cnRAdUM16bVnNPV0cvS+dQv1cnUs9Kp02bU7dRx1kDWs9ex2CjZ0tpF2wHeL+cb+asNGBhBGdoZjSDtJXEfkREgB70DKwJC/Xf5Rv6aBwEN3gyEDfMTWhmmF/YRjQ5AECgTJxUAF2wZ1xzwHikfnR2RGQsVlhEpD80LAAfrBAYI0gw1D38P7hCXFPsX9hgzGX4b2iD0Js8q7yt/Ky8rCipbJlcg8BkEFbsRmg+TD0ARXxS1GAUcyR2FHh8fFx8tHZkZyBUkE98R8xAjD/cMrQtGCyYKfQf3BE0DqgIHAmkABP+X/mn/Df+u/NP5cPda9XTyju/p7Ajr++lG6XXoMuf95YXkPuIw38nby9hY1lnU1dK30ejQF9HZ0i3VuNYZ1j/VRdRv1OvTrNKd0BPPd8+KzxbSiNLn1HbWj9dy2TDYmNkh2pfcDuTc8zoInRUhGWsZQB6EI2EhvRUPCpoDDwJXAPb8Lf8CBfUKBQ5bD8QSFhUfFF0RIQ8ND3sQeBPcF8wbqx3pHV8e2h4sHJsVQg/YC7YKiQj9BQEH0woAD/EQ9RDHEV0TERUdFnEX0RqpILYn4izSLtEt9CtTKZ4kJh4LFwgSjw+wD2IRhBMpFykbVx6pHygfHx57HBMaLRcwFEESqhGkEUoRyg+GDSULAQmnBpwDYQBU/qf9E/7B/u3+vv6b/cn71Pj/9P7wiO3J6rXoi+eu5zfoiefx5V3j2OCk3ezaK9hx1cTTJNJF0anPKNB30fzTWtao1ofWQ9Pe0fHPPM/KzkXNyM52zvzQEtPQ1LzWh9a+2AzaztvJ34fqGv0FD58XChdtFxUbAh+tGnAQ8QcdA5ADvwK6A7kG5gk9DfcNrg+KEI4P5A2+DGENIQ4EEIgUFhv3H/Mgbx/aHbMcgRl1FBkPQgtdCesHBwi8Cf8LEA7NDmcP5g8bEB4R9RJmFp8bayL1KP4s8i3gLJUqvCZZIr0cXBfoEg0RAhKzE5AWGxlyG6Acuhw/HOYaTBmXF+UVehTYE7ATWRNaEk0QkA1cCn4HzAQzAlYArv4f/vz9Yv6u/vz9i/zg+Ur2ZvLG7trriel459zm+eZ05+3mdeVq48zfedy62OrVKtMW0s/ShdPu1IbVu9Zr1s7Wbdbf1HHTZdK80brQaNBc0KLRrdJb1UvWbNbI1T/Wftdn2Yvb1N035yL2xwjiE6AXPxhkGdoa3RdGE6ANGAobCFEHqQh2C3sOsxAAEjUTPxOhEDMMbwmACRwLGw2bD/kTSRjaGyYeHR9yHp8bNxj0FHwSSxAnDhQNvA19D7IQaxDkDwQQNxBtEEsQ0xBhEo4VnhqUH44jTSVdJgcmSiQiImAetxu0GNgXuhcYF4wXGxcRGBkYXhhaGFUXChYBFDETERKREfoQchDiDyUOogztCYUH2wSQAsUAd/6b/ZX8Ofyk++f6Ufpy+G72P/RE8uvvTu0v67XpAOmk6Bno2ubZ5LPiVOGy39jda9w/27raItqq2q3aq9lB2TvZ/9lo2UTZW9i11qvVstTJ1ObTxNOX0/zTv9Qk1Z7WM9eJ2OvZ29tf3h/jDOx39V79DQJiB+4LHA+wDzIOZA2+C4kNlQ9IEiYUjRPdEyIUAhcyGr0a6RhLFdwSzRCEDyYPmQ9nEDARcxN4FZoWexUnFG0TzhKHEjYRMxBZD2wPfRAoESUSYxPbFC0W7xaIF6YX6hcGGX4bbB0pHrIekx76HlYeAx7XHOEatBqDGjUbOBotGWoYKBcsFxEXFhcPFn8UKBP0EdUQSQ8CDnYMaQteCvsIXAcOBZMD/wGvAD7/8v0X/aj7iPov+eP3c/Zn9cP0ufOO8vPwqe8h7nnswerY6PHmDuWA4xHiy+B4337ewN223LTbFtsw2ubYo9f71jTWM9Vi1HnTddLg0fDR6dEw0hrSdNLg0i7T0tRv1THXl9gk22DiquoS8/j2Tfno/JQAwQRVBdkEPwTEBAYICwvfDr4QBBF3EasTbBj7G+8c3BqfGA8XGxbDFS8VQBUaFZIV5RbGF7oXABakFOkTgRMFE6URhRCKD2EPrw8VENUQ6BGPExIVaBbxFiYX/heMGZsbqRwoHV8dfR2iHWkd+BzlGwkb6BpFGzgbZRpbGTQYwxe1F6MXPhcjFiIVBxRGE2gSRxE3EAMPJw7+DKML0gnaBxYGZAT3AqoBpAB1/xP+uvwu+2v5g/cg9vX0k/Mr8m7w5+517Rnspuq56MjmweTs4jzhXN/+3bXcftuR2tXZi9nJ2CbYn9e31qTVldQS1GfT9dKm0j/SLNJm0rnTEdX41fzWadcQ2BHZRtrj3T/kSOvl73byjPX1+ar+DwFmAYsBBQJqBKsH3womDvMOTQ8REQUVahpwHYsdJhyvGtUZORntGI4YGhh+F5gX3BiaGeEYIBf5FYwVJxXsE/kRNBCrDuoN2A03DjMPWRDEEUUTYRQNFUwVvxW6FgcYWRkXGmEajhriGmsbrRuiGyQbtRqPGoAaWxqYGcEYBhi3F+0Xpxc6F2AWGxULFOsSEBLPEFcP+w2MDD0LvglnCNYGPgXpA58CdAHd/yv+bPy7+ir5oPdz9hj1l/Px8UXwy+4z7YzrrOmC51vljOMV4ojgsN4y3U3cYNt/2rXZCNnf11nWU9W01GzUzNNS097SONJT0oXSHNN005fTmtQl1S/W6taN15PYWtq14GjoZO5l8efy/vYX+1T++/+nAI4ByALzBV4JJQ0fDy0P+hAaFKcZFB6HHk4d1RoJGqAZchnLGSoZnBi3F5AYDBoOGsMY2BY1FgMW1xT8EqYQyQ42DXAM8Ay+DcUOOw9VELsRVhLTEhMTuBP/E7gUnxb2F5YYARkRGhkbURvpG/4bGRscGosZtBlNGbQYSBjBF48XThdoF18XRhbKFFQTRxIGEbIPqQ4gDWoL6AkNCQIIdQYnBbADQgLRAGP/5v3j+y76xvim93b21vQg80nx5++a7t7sFetL6WTneeW94zfiUuB33uDckNve2nraA9oO2evXzNYv1vjVJ9Xz0+3ShtKn0vHS0NNd1ErUktQn1ezVl9Zh19XX+dcP2qLfquc77t7xqPS4+Fv9ygBrAgoDiAPZAwUG9ghnDJ8OmQ4nEOYTihlYHoofVh5HHIAavhk/GeUYyxfdFbUUdhWWF6EYHRgPF+UWRxedFrwUPhLoD/0N2AwLDecNhQ7vDsAPoxFlEycUhRTUFDoVVBW7FYkWRBcxGF0ZphqWGyEcehyVHFkc3RsXGy0aTRlaGKcXGBd6FjoWSBY4FscVzhQzE2cRqA8tDugMdws6CiIJ9wfSBmUF6AN3AhEBr/8D/mP8ffq5+BT3k/Wx9OXz7/KH8RDwg+7J7PrqHelr59XlSOSP4qHgut4C3Z3bhtqL2fDYINhQ1+PWb9Zb1YLUqNNS09fSl9LN0rXSDdPt0vzTstOE1C7Vg9VW1sPWhtid3NHkqu1A9Kv3nfuyANAEfAYHBz8H0gYiBjQHiAsGEDkR0BAwE50YDR6vHxce8RswGdQVlhP7EnwSfxCYDSwOeRK8FoEYcxj5GLYZpRiLFdESFxF1DzINlwyCDmURuRIEEw4VuxdpGDQWLBToE9sTWBPvE6MX4hvWHlshzCODJWAk2iFoHw0dEBraFkAVRhUJFjUX8xiOGhYbpBrRGSkYoBX6EogQhw79DOELaQu5CswJtQgnBwkFywFj/ln72fh89uD0dvQI9LXzuvJ98UPvF+ws6e7mZeSC4Q/fVd0c3drbTNu72bfXytRk0SPQic64zdXNrdDV0o3U79Rk1Q7VAdPt0lbRwdC00PjQJdKz0nXTCtan1uDXX9me2VTeTeeI+OkHzw0kEkgYsR/lHaoVsBP7E3oPSwYKA8QKwBArDsYL0g9gFjAVcw2OCSgKVAq5BoAFzAx5FuQakxotHfYjdyUIHzgY1BaRFksQrgm0CkoQ7xFNDtgNhRF+Eh8OHQo9C2kNfwvUCcYMORPbF40Zox7GJYIrLSt1KLInsyVQITYbFhjCFxkW2hNZE+wU+hZ4FvoVXxfaGFsZRRiTGOsZthnzF3oVkhNaEX4NoQliBv0DxgFk/7P+vv6r/m79GvwI+5r5Wfdh9MHx2O5W7Hrpqudi5q7l4OSX49zix+Ha4J/do9p91+DUCNTV0nfTbNSx0pjTLtNW1KXVQdF506vQU9Jt0WXPp9NR0S3UHtMF1f/WX9Z+1pLWjNc+1w/ZiN9a8pgFxRDUEw4XsR9WIDgXZg7vDBQMVgQR/Y4B6wuzD5UMYgvJETMUGw6RBgsGVQvcC+EIGAzgF50hMiLzHxUj3yWyH9wVhhHCEi0QOQm9B24N9RKSEc8NVA6EEKkOEwrpCBANaRAzEKMRIRiuHyAhuSEwJNcoaiojJ9gm/SOGIcocYBeYFiYV+hT2EjIS/RQIFzQXnBcdGiAcmBuBGf0ZIho8FzcT2w4GDeYJiwajBKwCMwKYAFX/yf4i/hX+zvvK+JD3VvbM9CDyYvAr71TsEeka59DlTeSs4lngX94O3Uzch9zh2zjaM9pp1+bWOtSj0WrRts4o0ezPu9B40QXQ+tA7z0PPcNAe0XHROtIO0oLSWtPo003YI9hl2bnhkvCxBO8M3hBoFVEbAR1cFDQNTAz/CwUFsf5PANoJ0Q04CsUJ9g2nEZgMJQbsB5INtg68C1sOiBlnIlAiHCASIV8iexxHExsQ+RAEDzkJSgd4DHMRIRAVDSQNcQ8oDmIKbgorDwoTyRMeFagaEiEQIrsi9SPKJoskIyM3JeYlPiQIHccb1BjdFsoUUxIDE3kS2xTWFUgYoxvJHbcdYxwaHMMasRdJEw4Qbg1iCZ4GQwWxBMEDYgHlANf///0l/FX6h/m29pP0bPNj8l7xGO+Z7MjpOudu5TzkR+IB4Wnf4N1m3EPaadoj2T3Y5ddh1o/UTc+FzizP785m0GLQDtS108LT/dOZ1MjUs9KY1GvS+tTT1EnWodiI1y7aCNjz3ZLrCf5rDH4OuxEVGWwd+BfzDqoLegxdB8X+CP+fB4UOGg1/CcgM2BHzD18JhwbIC6sOOwvKCl8Tyx+WIu8e7x58ITkfQhY3EHMQ3g9lCoIGLwq1EHESmQ4JDTwP2A+VDOIJ6gyZEbMSyRJJFnEdSyFrIKkgGSP0IxkgVxu8HQ0jaSL6Hrkbyh2xHFkXWxQIE88U9xI8EqUVRxorHYUcIxz8HCAcJRcXEsUOTgx2CQ0FQQPgA9QDvQIsAIb/mv45+6X4ivaW9vj05/K08kfyjvGD7gPsm+nc59LkG+L73/3d/9xv24bbz9ut3A7cYNmk1oPTLc95zeLLq8zYzFjMcdBD04DWFtUK1DbUE9Me0sbQItJT1LHVN9ah2KbbLdzc4ILuNwFHDX8MLA4UFe8ashbVCzIKhwzfCb4B1/9cCasQEA2TB38L4xJJEb8Ivga2DWERUg1MC8QTUh/9IPUb1RqJHqIdzRTdDh4QDBHmC+gGgQrGEcoS2Q2qC6MOUxArDaIKyQ18EocTsBKrFUIcBCCXHhEeACA+Ij8g9ByXIgAmVCXfHgMb8BwyGSwWEBF2EbsT5hLLE3cW1huaHcUbPxpIGy4apBUXEecN+wxECooGOwUzBUIFsQLQ/6z+V/1j+4n4Kff59oT2IPWx9DP0DfPs7/frPOk059rl4eKY4bXfDeB63iXf0N4j3fjcXdkb2vvVKtN2zz7MQ81pzCfO88/dz57QCtAj0oHS0tD30KrOZ9Gs0FHTldSA14raY9iA4VbvNAWfDTAMhw/lFEgaXxIzCtEIogv4B8T/iwBRClcSTw6jCLILaBFgD34HdQZyDUYQEw3bC3kVIiFAIkUdrBpjHeobBBSWDnAPjRCLDCsJcAwaEwYUNA8tDGwN3A5EDHgKQQ2mEboTaxMzFj8byR1EHWIcCx57HwAgoCD1IlQkQiLHHrwbCBsQGYQVihLfETAT+hMtFdMXhhrcGyYbgxplGgAZ5xXQEQIPMg2fC3EJ7QdBBzAGeAQPAtYAx/9Z/oP8evq7+TP54vjB94X2MvX68avusuvK6T7oeOYj5Tfj0eF/4Z3gq9/v3Uvcstvb2U7YcNUa00XQec6F0D7RMtTs1NPVpta71RHWaNND07TTQdTA1V/Wgdnc2g3bv9sg26bam9i/3e3r6v3KCGkJDw5ZFowcThhvD2UNgg1xCdUBLwKgC/ARPw+hClEOuxMYEb4IdgXXCV4LGAj6B4URnRzYHiccJhw7H9QdlhZ3ETsRzhDEDJAK+g4gFcwVnBFoD1kQAhBlDJsJzwp/DawOCRAGFI8aQB6dHpseyx+HIMcdWBu9HM4iKiTdIXsfnx+pHgQZjhUBEvIQxA8KD04RtxRaGJkZphktGuwZpRZJEkwPqQwHCr8G0ATbBEYEhQPQAZEAbv4j+8z4ZPeo9kP1JfQY9EL0pfNB8eLukOz76V3n/uP64bDf890o3cLcZ97d3W3c1dyD20fZzNRrzyDNK82c0MrRx9MB2HjZMdpl2PbX69Va08/RztE80wzUu9ec2APb6duH2kLeEOpY/EUG0AbICJ4QKBhkFv0PIg+/EMwN+Ab+BGMMgBKeDmwISQrwD6oP9AhxBtgKigwgCacHHQ/IGOUaORiMGLgcpxwHF7gTDRWqFL8PPgzMDy0VZRSvD9MNaA8fD44L2QmmDNIOCQ5yDc4RWRdmGQcZAhq8HZ4fNh9pH4YjYSV3IsUdhRwhHesZ4RXgEjIT+RK2EQASTBReFzAXzBU2FtwXURf7E3QRSBBKD5MM1gkyCZUIVQaFAl8AAAAK/8v8o/qV+q76t/lc+Pb3w/fI9SvyAO8B7XLrzujG5bPksOMH4iPgF+Dn39ndM9t62VzZvdiV1STUNdQI1qPWo9Y02JDY5dnU1yzWsNSi1YXV8dXl1l7Z5Nr+2WLcs9ym3QrcWdr22GPfY+7W/lkIOAq3DsIV1RlcFXUPPg0CDS0JnARlBxUQ5RQrEcQNkA9sEUAM+gRCBCoI4QhgBioJ5xJuG+EbrxnJGjkcIhjgEcEQRxOpElAOOQ46FO4YUhYNEWMPfg+FDJsHHwf7Cs0Ncw33DnIUZhqGG6MZjBlCG1IbEhihF90aEyLbJOgjgCO9InkgKRlhFcYS1Q8uDTkMzA+8E2gWARcoF3UXUxaMEskOhQ1PDGoKwghkCKcIbAdwBVsDVAEy/sr5RfeP9p/2C/al9An18/QR9Hfx4e4V7ZLpGee24xniW+Ai3/jeMd9g4L7e1N163OTaGtj81a3UOdM10zfS0NAN0fbRL9Pz08PUg9Wn0y3TetRY1UvW89Us2KLZeNeV3RjomfreBhsHTAnuDHsUBxLDDG8KWAz5C8QFwQYRDRUUUhGcC18LWw0yDDcFCQQrCdgLPAr0CBMQrhiiGaYWlhVLF0kVJBCGDlsS7RRNEUsOxhCDFaoU8g6VC3YLwwpPB8wGYAuQD2UQbA+eEVMVuRV6ExsT3RU/F68WMxcxG9YeHx+QIPghzyEWHscYQBblE0gTNRH7DzkSlxT8FcAVuhYwF34VRxKSEMcPuw4lDpUNxA0yDQkLWQjCBdICpf8K/OD55/jZ+KX5T/oO+x/6z/ff9DXyKu8L7FLphOfP55PmxuZw5nXliOS64DffzNym20/bUdm42GfYodiG2MvXONjp1nbV0dW61dLWSddx2EHY+9jZ2f3ZvtvH2x7dPNwY2p3Zv94a7HX7TAQMB04KfA9wElUPNAy+Cs8KIgiYBTkJNBDWE9EQlw1ADUENogjaA84E2ge+CEkHrQn+EHAWyRbVFNoUvxRkEfcN6w6TEiATPhDRDzoTkxVHE8sOBwyLCiYIFga7B6sLaA6DDhIPkhFbE5ASHBGeErkUWxV5FSAYZBzgHfgdDx1OHaQd3ho2GNUVlBUaFIIRORJZE+UTpBLpEa4SnhJVEaYPNg+HD1APDg59DaUNowuuCIUFqgPvAe/+uPxL+yP7F/pk+cv4yveA9hbzDPFe75vuFO0U69PpdOdE5uLlQ+ZM5gTl1eE94OndqtzI2q3ZRNlB2Q7ajtr52wbcDN3i2hvb/9j+2cLZjdrz3AndVt+Y3jjgu9+g3UHcu+Gn7er5fP8PBJAJJQ6lD+ILaguKC44KAgeXBWgJcA6pD1gNVA0YDd8K8gViA9EFKgeRBvUFZgklD/MRFxINEjISgRDDDGQLzg09EPwPiw4yD1IRtREpD4QMYwpiCE8GjAUtCEELHg2WDVQOoA+9D7sOgw8SEgMU4xTpFVYZWhszHFEcMBtIGTwWXRQMFEUUhBTHExETihPFE1ATZhKpEZ0QlA/FDgUPWg80DycPVw47DesK+wd9BQcDvwBL/k38e/t6+nf59Ph/+Mv2//OI8Q7wqe5K7QbsauqG6QXoHOfQ5brkbeM34bLgcuBt4Nve+t/P4HPhP+GA4f3iCOCf4VHfDODy3/jeYOAr3bfeudx22RLZhd7w6L3xwvY//pMF5ApfCwoJZArHCkMJvQXgBhkLnQ4qDYoLeQy2Cl4H1gGOAI0CbQIvAtMCYQeOCykMjQyNDQcOxwtHCQQKlQzLDWINqg0rDzEQcQ57C5oJawfbBGcCXALDBBAGWAd9CPQJqAoWCtEJPwpODR8QxBPBFYQYQxpUGlwbsRlXGKkUZhKUEe4QfxEDEQAR4RByEHgPZw4LDpoNlw2mDW4OHw/1DhIPOw7ODB0KewZ/A8AATv/w/Vz8fPpT+Oz2SPV69EDz1PGh71/uEe5g7Qrtp+uI6n3pUefR5V/k1OMH45/hWeSk5DLmcOe752LoROZc51nlxuM94w3iL+H83k/e3t0V4ajnju7o8iT2M/1uA/EG3QYNBuoHVghzCAMIhAnXDP0MWgvyCdAJYwjJBHACRALHAlACHgKzA6MGnQhzCHEIFAmzCXgJjQmKC9kMEg0ZDYsNVQ5dDR8LdgieBk4FAQQiAzMDfwN9A5YD8wM5BAAECwRqBOsGCQsJEFkSsBR8F0oYjheyFY8VTRNGEX0QSRAUEEEP6w77DRgNBAxCCvoIJQkOCnEK8grqC1kM6QslCyYKFwhQBXwCTACN/hX9DPvC+d/4Aviq9lv1A/QC8qfvIO6E7e7s0Owr7JPs8uvH63zqWOmr6NjnoOcu5ynoLumw6ZPpLur46Wfpceei5qzlNeVK6Dbsf/E19LP2SPmJ+s/8lP4pAWEC5wLiA4MFoAcxCIUI+wd/BwEG7wNpA6UDzgQHBRgF+gVsBh0HRgfyB0QIUAeiBr8GZggXChoLbgsvC6IKpQkFCXAItwdmBgQF7wSgBXAGngZwBjYGYQXEBJsEKwX1BrgJcA2yEN8S9BNkFJ8U8hMiEhEQig6wDU4NUw0rDYsMkgtvCnUJZwjRB3YHuweFCFIJ6An0CcYJ7ghjBxcFhAKg/0f96vsy+2f6x/g491P1+PM/8qDwHO+Q7SLs3uqC6ljqKeoG6TzosOfn583nbecY6NHnq+dh5i/ld+QU4znlf+kG8Nb0qfcB+x3+bAHdAQ8BGQB5AHoBPgJ/A60EEAZXBs8FlQSUAmkBrgAxAToCAgM8BEUF1AYHCHsIOghEB1UG8AXlBlYIlAkQCu8J0AlnCbYIOQdHBXoDPAIwAt0CtwNfBNAESAVQBeUEWgQjBI4EMAXoBbYGsgfbCLkJIApmCvML/Q1zDxAQPRA+EPgO1A3ADKYLdgpMCYcIqwdaByEH7gaGBsIF4ARGBFMElwSvBEkEewN+Aj4B9f9S/xr+tvxn+5T6AvqE+WP5Qfjb9l/1QPRy8y3z3/JI8lXyX/I/8jTyf/LJ8nXyN/Ji8oTy6/J28/TzufTk9Ab1AfUy9bH15/XB9u73X/lf+lz7Cfxh/IL8evwf/bf9S/66/kP/PQDxAHIBqAGnAbYBmwHSAUQCvQIxA3IDugPQA9kD0gPgAwMECwQpBIcERQXyBY8G9gYLBwcHAwcfB1YHkQfdBy8I5QjmCf8K1AsiDAkMewvbCkEK2glaCc8Ifgg4CNgHVQebBtwF3ATkA+ECGAKcATwB6AA3AGz/gf78/UH9n/wN/LP78voK+s35NvmI+MX3Rve29gX2sfWT9Sj1AfWy9KD0fvRn9Cv0mPNc88nymfI78jjzyfTI9pb4q/nT+g/8bv6YALMBoQGGAeABfQLZAtQCpwJoAhgCqQE+ATUBgQHWAd0BogGrASwCXQOPBBAFzQR7BL0EVwX4BTkGBwZ+BREFFAVDBVkFxwTDA7sCFALwAfYB7gGwAUwBKgFUAbsBIgJmApcCsALdAkAD1gONBCkFXAVYBVoFpAUBBmMGYgb2BYMFXAV5BW0FXAUbBaYEKwTVA6ADcAM6AwkDCQMuA0sDNQMJA/ECjAIAAlcBywBYAMn/Sv+y/jb+y/2I/Vv9Gf21/Ez8Evzv+9n7sfuE+0n7NvtE+1X7YftT+1n7Zftc+1T7WPts+1T7PPtC+0/7XftG+2z7gvua+6D7qvvs+xb8S/xq/JH8xfz//Dv9cP2y/cj9Dv6Y/kz/EAClAEEBtAEUAlECXQJyAn4CqALGAucCHQM9A0oDLQMBA7QCaQI4AhcCDwIDAgIC5gHqAQIC6gG8AXMBTAEoAR0BIAEHAfYA5gDdAKkAcgAjANz/p/9w/2X/Pv9F/1n/Qf84/xr/Ev8K/wT/Nf8v/zP/Qf9G/33/d/9U/x7/8P7P/qH+qf64/rb+hf5T/hj+s/1u/QL9s/x2/Fb8TfwX/Cb8Bvza+7D7jvuP+8P7i/yZ/c/+1f+yAFkBvAELAhACKgJTAoIC0wIMA0sDdQOCA20DJwPYApYCnwLZAjQDogMNBHYExgQOBScFGgX0BNAEvASvBLYEuwSiBGUE+wOLAwkDfQIEAosBMgHvAMgAnACJAGcAHwDn/67/if9i/1H/Uf9A/0P/OP8b//X+wP6N/lj+N/4h/h7+Lf5D/kL+L/4f/gv+7P3O/bz9tv28/d79+v0F/iL+If4d/gf+9/35/fn9Ff5C/oH+xP4B/yT/Nv9D/03/Y/98/5j/w//r/xsAOABFAFAAPAA0ACMAJQAzAEQAYwB6AI4AlgCfAKAAmgCQAIwAmwCyAMgA4gD1AAgBBAHmAL0AmAB+AGQAXgBcAGoAfQB3AHAAagBWAD4AKwAoACsAQQBRAGMAdQCFAJEAgABnAEoANQA+AEsASwBKAE8AVQBYAEkAQgBRAFUAZwB3AJAAtgDQAOQA6QDdAMgAtwClAJ4AmwCNAHoAagBiAFUATABBADIAIgAZABsAJQAsACkALAArACQAHQAVAAAA7f/W/8H/sf+k/4//gP97/2r/XP9Q/0n/Rv9N/1X/Wv9p/3j/e/+A/4f/fv9y/3D/bv9q/2X/Vv9L/0X/Pv84/zT/M/80/zH/Nf87/0n/WP9v/43/pf+8/9f/9v8SACsAOwBOAGUAfwCTAKkArQC0ALcAtgC4ALoAsACoALAAqQCpAKoAqQCoAJ8AmwCmAKsAtAC+AMIAzgDaAN8A3wDiANoAxwCzAKsAnACFAHIAWgBGADcALgAfAA8A/f/0//b/+P/3//7/CgAbADQAOwBPAFoAXgBeAFQAWABdAE8APAA1ADIALQAlABsACAACAPP/5v/h/+D/3v/b/+3/6//q/+3/7v/t/+v/6//t//z///8IABAAGwAfABQADwADAP//+f/w//H/9P/7////AAAGAAAABAACAAMADgAQABkAJQAzADcAPQBCAEMAPgAxAC0AMAAqACgAJQAmACIAJAAsACEAKAAuAC0AJgAsACsAKwAxACsAKgAsACUAGAAQAAMAAAADAPv/+//8//n/AAD9//n/8f/r/97/0//Q/87/0//V/9L/1v/e/93/2P/N/8X/v/+//8n/1P/c/+n/8P/7/wAAAAAAAAAABwAHAAcAEwAWAB8AJAAjACUAHQAdABcAEQAQAA8ACgAOABoAGgAeACUAIAAsADcAOwBGAEYASgBSAFoAVgBMAEMAOQApABsAAQDz/+j/3//c/9L/0//T/9r/2//c/93/5v/p/+z/+/8DAAwAGgAXABAAFwASAAwA/v/u/+j/4P/e/93/2//e/+L/4//m/+r/5v/x//b/+v8LABAAHAAfACYALAAxAC0AJwAmACMAJwAeAB4AGQAUAAgAAAD+/+//7f/r/+3/7f/o/+n/8P/5//L/8P/y//X/+P/4//r//f8DAAEA//8AAAAAAAD///3//P///wAAAgAJAAwADAAYABgAHQAkACoAMwA7AEIAQgBIAEoAUABTAFsAXABhAGAAYQBlAGEAbQBqAGwAdgB6AIcAkgCTAJ8ArACvALMAuAC9ALgAuQC9AMEAuwC2ALUAqgCoAKAAkACMAIUAfgB3AG0AZABcAFIAPgBAADkAKAAhABIADgANAAAA9P/k/9f/z//C/7v/qv+i/5v/lf+U/5v/n/+Q/43/hf+H/5P/kP+O/5b/oP+m/6n/s/+z/7n/t/+5/73/u//D/73/w//H/8f/xv/I/8j/zv/R/9H/2P/Y/+D/5v/u//b/9v/0//j/+v/7//7/+v/9//z/+/8AAAEA/P8AAAQACQATABYAIgArADUAOQBFAFMAWwBjAGgAcAByAHUAdgB2AHIAcgBvAHIAcwB6AH0AfgB9AHQAfgCBAIAAfQB6AIAAewB8AHwAbwBqAGAAUgBLAEMAPAA1ADIAKwAtAC4AKwAkABwAIgAbABcAEgAMAAUAAAD7//b/8v/q/+j/5f/c/9f/1P/L/9L/zf/I/8v/xv/H/8X/x//L/8b/yv/I/8v/z//M/8//zP/R/8//1P/b/9r/3P/c/+D/3v/h/+P/6P/w//P/+P/8/wEAAwABAAMABgACAAwADAAGAAsACwAMAAgABQAFAAcAAQD9//////8AAAAA/v/9/////v/9//r//f8AAPz//f8AAAAAAgAEAAYADAAPAA8AFQAYABsAHgAfACIAJQAnACsALgAyADQAMgA8AD4AQQBIAEcATwBRAEIARABWAFkASwA9AEsAVgBUAE4AQABBAEMANgArADIAOQApAB0AJwAsACYAHgAXACIAHgALAAsACwAQABUACQALABcAEQAHAAEADAAOAP3/AAABAAQACQAAAAAABAAGAAMACgALAAgACAAIABQAFgAXABUAGQAeABYAEwAUABsAGwAVABsAFQAWABYAEAAXABMACwAJAAwAEgAQAA8AEQAOABAADQAKAAcACgAEAPv////7//j/9//v//L/7v/j/+H/2f/d/97/4f/e/+L/4v/c/+D/3P/o/+n/5f/o/+n/7v/y//T/6//t//L/8f/1//H/+P8AAAAABgAGAAsAEQANABQAEgAWAB0AGQAgACgALgAvADIAMQAzADYANQA1ADQAMwAzADQAOQA6ADoAPQA+AD4AQQA6ADgAOAA2ADMAMgAyADMAOwA5ADYAOwA6ADsAQAA5AD0APwBAAEQAQQBBAEUASQA/AEYARQBBAEgAPwBEAE4ASwBKAEMASQBJAEkATwBMAEwAUABTAE8AVABQAE0ASgBGAEUAQABAADoAPAA8ADQANQA1ADMAMwA2ADAANgA2ADEANQA3ADUAMAA2ADAAMgAyAC8AMQAqACoALgAoACcAKgAnACkAKAAmACcAIwAgACcAIwAmACsAKQAnACMAKQAqACcAJgAjACgAJwAnACMAIAAkACMAJQAfABsAHgAhABoAIgAmACMAJQAlACQAJQAlABwAHQAcABoAGQAYABoAGgAWABgAFwAYABgAEgAVABIADgARABgAEwASABcADgAPABAACAAFAAIAAQAAAAAAAwAEAAgACwAIAAoADwALABQAEwANABMAFgAfABsAGQAeAB4AIwAeABsAIgAgACMAJQAmACMAIwApACEAIAAlACQAIQAfACMAJgAmACUAHgAjACIAHAAZABUAFQAUABkAFQATABQAFAAQAA0ADgAIAAUABAABAAYACQAIAA8ACAALAA8ACQAHAAMABgAFAAEAAAABAAMAAwAHAAMABQAIAAMABgACAAMABAAEAAYABAAOAAoACQANAAoADAANABMADgAPABQACgAMABEAEgATAAkADQANAA4ADgANABEAEgAPAA4AEAARABEAEQANABkAHwAfAB8AGgAkACYAJQAiACEAJwAoACMAJAAhACEAJAAhAB0AJAAlABwAIAAeABoAHAAkACQAIwAtADAALAAzAC0ALwA3ADIAMAAxAC8AMwA4ADQAOgA2ADkANwA6AEIAPQA8AD4AQQA9AEMAQgA+AEEAOAA9AEIAQgBAADsAPAA8AD0AOAA4ADcANgA3AC8AMwA3ADAAOwAuACAANgA8ACYAGAArADkAIwAjADIALwA5AC4AIQA4ADEAKgAyACUANQAtACQANwAvADIAMQApADAAKAAiACIAFQAWABkAGAAeABsAEwAQABIACAD9/wAAAAD//wAA+v8AAP7/9f/8//n//v8CAPr/+f////v/AAD9//f//f8AAAAAAAD//wcAAwAAAAQAAAAAAP//AAAAABEAEAAHAAsADAAQAAkABwAAAAgACQAFAAUAAQAHAAYACAAHAAwAEAARABUAFAAUABUAFAARABUAFwAUABIABwACAAsAEQAWABsAKAA1ACoAKgAxACgAJgApAC4ANQBBAEIATABEADsAOwA4ADkAJgAfACMAIQAfACQAIQAiABwAGgAfABMACAALAAQAFwAeAAcACwAAAAMAAgAFAAMACAAQABQAGwAMAA8ACgD//wMAAwAKAAoADQAbAA8AEQATABQAGQAbABIACQARAAUABQAJAAQADAASABQAFAAMABQAEQAHAAIAAAABAAIAAQAGAA8ADQASABUAFgATABQAEgAQABQADwAWABAAEAAfAB4AHAAhACkAKwApACoAMgAsACIAJwAkACQAKwAnACsAKwAqACoALQAvACYAKgAnACwALQAtADEAKgAxADMANABEAD4ANwA6AD0AUwBFAEUAMAAqADwALwA3ADQANgA5ADUAMAAoACwAJwAeACEAIgAdACAAJAAhACsALQAsADEAJgAgACQAHgAgABkAGQAeAB8AIwAiABoAHwAkACEAIwAaABYAIQAlABkAHQAWABcAGAAWABoAGgAdAB0AGQAWABMADAAVAAwABwAMABQADQAJAA4ACwAJAAcABQAJABEADwALAAwACAAPABgAEAAQABUAFgARAAgAAwAIABAAEQAPAAoADwAWAB8AGwAWABgAFgAVABgAIQAeACEAKgAuADYALAAnACcAJgA2ADoAOgBCAEYARAA5ADoAPAA+AD4AOwA/AEYATgBMAEoASABCAEoASQA/AEAATwBLAEgATwBEAD0AKQA0AD8AQgBHAEAATABUAE0APAAzAD0AOgAvAC4ANgBAAEMAMAAbADAALQAbAC0ALwA0AEUAPQA3ACoAMQAoAB0AHQAGAAoABwASAA0AAwANABAAHQAgABYAAAD5////AAAAAP3//v8KAA4AAQDs/9z/6v/8//X/+f8EABUAIQAUAP//9v/1//P/5f/b/+j/8P/9/wQABwD+//X/7//5//n/8/8AAAgADgADAP//6//w/wYAAAD3//L/9f8EAAkAAAABAAMACgAMAAoACAAMABIAGwAuACIAEAARACgAIQAGAAkAKgA/ACUAJAArADkARQA4ACsAIAAvAEUAMgA0AEgARgA/AC0ALwA2ACkAIgAqADoAQQAsAC0ANgA5AEYARQBFAD0ANQA3ADsANwA9AD4AOwA9ADcAMAAfABYAFAAmACoAIQAdACMAKAAoAC4AKAAjABcAKwAnACIAHwAbACUAGwAeABgAFwAcABcAHAAXABYAGwAdACwAIgAtAC0AHAAXABEAKQAqACoAMAA8ADoAMwA1ADIAOwA7ADIAOQBBAD8ANgAwAC8AJgAvAD8APgA2ADsAOwA3AC4AIgAgACEAIgAuADgAMgAtACEAIQAgAB4AHwAhABwAHQAgACIAHwARABEAFAAZAA4ABAAIABEAFAAPAAsABAAKAAsABgACAAAAAAD///3/+//7//7//v/7//3/AAABAAIAAAAAAAAAAQD//wAA//8AAAAAAAD6//r/+f/3/wMAAAAJAAkACwANAA4AEQAQABMACwAMAA4ACAAUAB4AFgAXABQAGQAZAB4AJwAlABwAIwAtAC4AOwA5AEEAQgBCAEQASwBLAEkAUABSAFsAVwBgAGUAbgBxAGIAZgBjAHAAegB9AIYAhACLAIQAgwCIAIoAigCAAHsAdQBzAHoAegB3AGsAXwBiAFgAWwBZAEYAPgAvACQAHQAbAAgAAwAHAPb/8//b/9H/y//C/8P/uv+9/7T/p/+f/5X/jv+Q/4z/gf+F/37/ef96/4H/ff90/3n/d/95/3r/ev98/3v/ef92/3z/hP+I/5b/lv+f/6X/pf+t/7X/yv/G/83/1P/Y/+X/7f/4//r/AwADAA0AGgAeAC8ANgA5AEQAQgBGAFEAVwBjAHAAdAB1AHwAgwCMAJQAlQCXAJEAjgCZAJ0ApACdAKEApwCbAJsAmACdAKEAmwCVAKUAmwCRAJIAjwCQAIUAgwB4AHoAfQCCAHgAYQBdAGYAZQBbAF4AWQBXAEkAQAA7AD4ARAA6ADAAKwAuACYAIQAYABgAEwANAAgACQAUABAAAADy/////v/6//r/+v8AAAAA/f/5//v/AAAAAAAAAAD7//3/AQAEAAMACwARABwAKAAnACUAHAAkACoAKAAuADQAPQA/AEQATwBQAFYAWgBcAFcAZgBuAGcAcQBuAGYAZQB4AIIAjwCNAIoAhACEAI8AjwCQAIgAfwB1AH4AhwCKAHwAbwBwAGUAYABqAGIAVgBTAEoAPAAtADEALwAoACUAFwAMAAgA///7//P/4v/d/9L/x//F/8f/vP+1/7z/u/+7/7H/pP+X/5P/jf+P/5L/k/+T/4r/mv+m/6v/rP+t/7D/pP+Y/5H/lv+b/5v/o/+q/7P/yv/c/+//8//z//X/6//x/+j/6//t/+r/9//6/w4AGgAhADYAQgBTAFYAUgBeAGAAWwBXAEwAVQBfAF0AaQB5AIUAjQCiAKgAtADNANoA3QDTAN4A4ADcAN0A3QDrAO4A+AACAQUBEQEZASMBGwEjASYBEwEHAe4A4wDWAMMAsQClAKoApACaAJAAggBtAFQASAArABUA+f/l/8z/of+c/5b/l/+S/33/a/9g/1H/Sv83/yX/EP/5/vL+2v7c/tj+0f7V/tT+1f7X/t7+8P70/uj+5v7j/tj+1/7o/un++P4d/yz/Mf9F/13/cP97/4P/k/+f/6L/r//F/9////8ZADkAWgB+ALQA0AD3ACgBQgFcAXMBkAGmAb8BzwHrAf4BBQIjAj0CTQJLAksCSwJBAjwCKgIVAg0CAwLyAdMBxQHDAbMBqwGuAaUBnQGcAZkBlAGLAY4BhQFwAXcBeQF5AXoBeQF4AWEBYQFeAV4BWQFJAUYBLgEUAfQA6ADQALQAlQBrAEsAGwD1/9H/o/9t/0L/E//P/pj+YP4t/v79wf2J/Un9C/3V/JT8Yvwu/Pr7zvud+3z7WvtB+xr7/Pru+tX6y/q++r36qfqe+qH6nPqv+rD6u/rW+vD6Efsx+1L7e/uo+8z7//st/HL8q/za/CD9Wf2i/e39M/6S/un+Of+M/+T/RACVAN8ANQGMAdQBIgJtAr4CIwN5A9QDLgSFBOIETAWuBQ4GcwbTBjwHnQf+B2UIwAgkCX8J0gkmCnQKxQoKCz8LcwunC84L6Qv8C/8L+QvxC9QLsQuGC1ALCAuqCksK3wlpCdsIUAi+Bx0HbAa3BQcFQgSCA60C3QEIASEASf9m/oP9mPy0+9X6+Pkg+U34j/fX9iH2c/XO9Cj0k/MC83by+vGG8RTxufBf8BDwzO+J713vK+8K7+zu2O7J7tTu5e717hTvIu9A71nve++k78Pv7e8P8D3wgfDD8C3xnfEl8svyivNZ9CL1Cfbv9vL39fjw+ff6Bvwt/Wf+vP8gAaECKwSwBTsHzghoCucLUw2rDvgPRhGDEqsT1hQJFigXQhhOGVsaZBtgHEodIh7lHn0f6B82IHggriDMIMcgoyBqIBkgrh8uH6Me9h0THfsbuhplGfwXcBbCFAcTMxFQD2cNfwunCdUHBAYjBEkCdACd/sf8+Po9+Yr33fUs9JHyHPHH74ruau1m7HHrjOq26fvoUOjF5z7nweZX5vblreVz5UDlJeUR5fjk4OTD5LvksuSq5J/ki+Rp5E/kOeQU5Pvj6OPP47zjuOPP4//jMOSN5BLlxOWN5mfnX+hW6XLqxus67a3uH/Cg8UPzJPUv91X5i/vU/RMAUAKUBM4GEQkqCwYNxQ6EEEwS8hN2FeIWRBiiGcwa6hv+HAAe6R6nH04g0yBLIZkhwSHqIRkiOiI3IigiDSLsIb4haCEgIdIgWiC6H/QeNx5/Hbwc1xvjGusZ5hjDF44WaxVOFCgT1RFhEPEOhw0KDHkK9QhyB+sFUwSuAh0BsP9P/uH8dvsh+sr4cPcX9sn0q/OP8nHxVfBI71ruee2h7NnrLOuA6tLpJ+mJ6P/ngucM55fmLubM5WrlD+XA5ITkTuQQ5L/jeuNE4wnjzuKf4nPiQ+IR4tvhyOG64bbhxeHX4QXiWOLG4lrjG+QN5SDmQOdp6KrpI+u17Eru5O+P8WTzX/V796z58PtX/r4AJgOABdsHLwplDGsOTxAvEv4TuRVDF7MYGxpwG6wc0R3fHtUfvyCKIS8iyCI8I5IjuSPLI+Qj+SP2I8MjkSNaIxojyiJqIggikCHsICMgTR+DHqcdtRyaG20aRRkMGMIWZhUaFM0SdREIEIsOFw2ZCxYKgQj2BncF8QNgAskAQ//V/YD8IPvS+Y74Yvci9gT10fP28q/y1vHg8Kfvhe6r7eDsRuys60nr2+qI6v7pk+kU6Zro6ucV52HmuuW25W7lZuUS5ZLkuOOS4obh0OBy4NnfXd+W3hTeW92E3JPbk9rn2cPZz9o43eXgQeNb5TXmJea+5yHpDOux7BvuG/Cb8kD1n/eU+dD7Xf4HAcEDBQZSCNkKDQ3NDsQQKhPlFV8YTBoKHNwdXB9CIEEgGyAxIE4gTyA5IM8g7CHSIhkjzCKsIp4iJiJOIY4gOyDPHw4fKB7BHbcdMB2PHO0bjhsiGyQaQhlaGPMXGRf+FfkUPhR8E3QSeBGAEOsP9g6mDU8MFgv3Ce8IVAc6BggFugNWAs4ANP/s/Yr8CPvC+Sv49faB9t70v/Px8bzvx/Cr7DrtzuzZ6jLs++ik6Wnon+e954vmeOYP5sXkF+Qh5FrjrOO143bifuIP4ibh9OCN3zDfZd7t3f3dft013ZHc8dsr21naXdmQ2AnYltcS2JfZddwv4ETjdeWS57Pqcu4I8aPyEPSZ9hf6K/1NAPMD1AjGDZsRAxWCGBkcoh6GH9If9SAlI8YkXSWxJewmpihWKcgotif6JmEmWCSzIf4fEh9tHvwchxsUG54bahsQGg8Z5xjqGOMXfRbTFdcV1RUdFV4UxhRlFVkVZxRWFPkUxBV3FcsU4xRFFRsVqRNIEtERzxMqEkwOgQz+C1oMigurCesHEQZXBJ8BAv+z/bX7Afp99zH2CvZ/9YPzNfGq79juae5V7FTr5uk46SLpzeir6Nzo7ucJ5gTlTOP/40jj9OF14XfgueDE3+LdXdz12tfZLNip1kDWjdV41AjTs9Hl0FPQ+c7uzIPLncpgytTJw8l6y7jPzdW12i7eEeA14/jn6uuI7szwkfWx/LkDSgnSDtAVzhzyIZgkMSfAK64vEDHkMFQyEjdIOxk8hDquOeM5kDicNH8vqywmK3EoFSQCIJcezx2CGngVhhHQD0AOpgs9CUYJnQrxCoIKkgpiDHcO8Q7QDg0QzhKkFbkWxRdGGrcdrh8qINEg1CGFIn4hMSD+H2Mgvh+RHakaDxmBF9UUQxEcDuMLjAiTBNcAgP66/PH5Q/ZF8+vx4/Dn7kPseOq86TroZuaO5LLj3OLi4SLhX+Bj4F7f891S3B/b09qx2WXYQNco1nfVJdO/0QfQu84Izr3MDMzayoTKHclzx7LF1MQRxXDE2sPrwwPEp8S7xl7L8dIQ2Ync8d1N4Qfo9+1k8fvynPi/AYsKoRC3FLkbEyPQJ8kp7itpMUE2cjdeNtU3RD3oQANAqzsdOaA5+DelM+0tFislKt4msiGLHDgasxe+EvkM6gglCJkGjgOEAXcC8gXpBpgF7QQlB60KRgyUDawQ5hUoGuobVR5rIiMnnSm0KVsrmC5ZMV8xLzAUMboyhDIyL4srESlIJjUi4BxVGZwWiRLYDJYGmALh/uP5PPQw70/s3+j25PDgCN+D3o/c7NkY12fWxdUY1BLSaNHi0T3SVtEh0MLPis8Zz9PNtMx9zPjLV8rOx/jFMcVdxPXCBcDuve67+rpQura3MbQvtFq4YMC4x6XK9ss+zebRhNgy3qDhHubk7eL3zwE1CdUPCBevHMAhPyYwLHszwTiMO9Y9c0LiR7JJMUYqQR9AAkEeQEY8TjcoNXoyqy0zJ2Mh+BxuGCQSNgxOCSII4QWrAbn+EwBTA98C6f81/gcBBAYtCcEL1Q8FFZMYrxoJHrIjkSniK+Es1C98NKY49DhkOMw55DuVOzY4yzTaMuMw7yyCKColTSGFG9MTDQ0NCeAEjf9C+czziu806xnmb+Ev3hrbN9gT1Z7SutHzz+PMfcsNyrjJmcmAx1fHg8aYxcjEMsM8wjzBZsArvim9rbwvvEO7o7eMtOexorHFsPCvFbLHtgnDhsoAzH3ITMbazznbd+Io4wPn+/M2AzUMaAwjEM0ZZSPsKCop0jCYO41BeUEsQMBGZU1QS7RBOjwfQQJGqkOiOVoz6TPVMDEpOh4BGWYY7BQPDusHqwVaA0/+FPmH91r6sPoq+cX5xvyoAk8EfwV1CSYPhhRNFk8Z0h++JxgttS/GM8U3tDq/Og07Vz9jQj1DlUByPug9hTv1Nrcxoi6BK+klox7bF0kTtw1pBjYA3fqh9kXwJ+lS5M/hLt/22arVMtJf0bzODcuKyQvJo8mCx6PFdMSKw9zAVr4gvoLAKcHTvfq6gLmXuYO4NLU6s5axT6/grE6qr66ttZG8d8GAwtLFzMYwydDP3NhH4sTmiu3C95cDSwpzC2sR1hqVJoYsrS6LNF47xEFeQ51EbUiUSZpGyECKQBhE2kOcPvw2WDQTMR4q+SCCGcIXtRV0EfQK1QRUANj69fYs9Ij14/V/9NTyivON9ij8pwSzBnkIewfqDFwXqBtwINskvSuJMj41zze2OfU8jz57Qj1FJEbpRaVA4D7tPTc9jTotMmAsXycVIvobahUPEfAJXAMZ+xf2kvAM6Y3kE+D33SrawdQM0GXMS8pQyFrHjcXQxJDDHcG+v66+qb1gvJa6gLlWu8i65rdctm+1JrVrs52tjayXrWqwebfWvTzFB8fYxIDD68jq1NvcnuDI4T3r4vrSA8IGuAYhD64b6iMkJz8pbTD2N9k9XUBcQqNF8kPQQD8+zD7BQptAsTtXNowzaDDzKAkg9xncGKQX6RLsC28EzABV/W354/bX9F/00/HQ8FHw6vPq8134f/3lBDAL6gWEBywNrRnMI58j9iX2KckvGjPVNfg6zj15QU4/KkIlQjw/Vj0WOqs9gzyqNfEstCTjIrceihk6EzMNKAdC/f336PGC7nro2OHK3+zbWteB0KzL08vIy6bLXMhaxaXDKcCCwDO/EcIAwdC8nbvHuhq947qOuXe47rr9uCm2V7QRscmzi7gfwPPLJMwpx6bD6cdL12PgRuGp37PovPUTAC8AGv8DCd4WdyBxI4whrCYSLfgydzjhPFRBMUCuPK44STvyPbA8hDmqNTE25jT3K9MiWRzMHA4e9RkYElULIgfLA/MAmf4R/Yb8zPev9R30cvRY9V72n/mT/pQLNAkCBPEADQcMG8we6RzIHo0hHij3J6AstjGZNt81LzZfOss2ezaSMDI01jmyNZUvKyTZH2of8BmMFu0Q3Q0zBOD7o/ZS8kXvR+ao5RPlKuHx2bPRIdFB1dTUBNNd0JbPTM3Jx1vLJ82Lz3zNjMqszLXL4Mo7yGXLRM36zI3MX8geyH3HJ8hzyCHGJMpiy1PPOdP80F7R/dC41+7hWOYe5g7lOuoW8dX3Fvxm/y0GmQt2EUwVCRY+GhceZSPTJ4AqCS3WLCktHC1FMFwyeTF1L18sZCz5K2IoACYEI1UjQyKmHnwachadFKsRVxH/D7oOcAyMCPEGDgcqBg4IXgkpC50LIAj6BzkKLg6MEPERyBICFKcUzxRzF78ZGxvYHPgdfx9OHmcb3xryGxwe3Ry1GXMWEBPUECcNGw2wCt4JfAXvASj/v/6C9rz01f3O73bzP/JP7Mfr+OzF6Sfp+etd5Ojlb+PU5IXiP+RF5CfhB+YT4x7dBd5t37HdmN253Qnd8N3c2yjbvNx33ZLdRtp52djaBdop2aXX19o/3ALe2+Oh4WPhAeBT4Nnl7us17Dzs8O2l8ZX1Xvdc+AX6KQDcA9gF2wYpCS0KWAyUD28TMBZZF7sWBRfAGC8bTByZHF4dOh1vH2sfQB4rHaodax8BIH0feh76HN8bQhscG+wbtht3GhYasxqUGfwWCxYTFrEXXhd4FZkTGhKeEb8QbRFYEcEPqg2hDMULTwt2Cu8JZAm7CpQKxgcwB/AF0gUTBXEGPgZeBLEDUAL2AdwDKAP8ADID+wBkADwA8/96/nT93f4K/Qz9Oftt+V73//d894f1ufU683rx0/BE7//tge1c7IHrrepQ6ljoZebS5tjmqeZ55rzlWuUx5e7kz+QH5RTlfOVk5bHlvOVz5ZnlF+Y951Po0+mE6RXpO+k96vLr++2j7r3uuO/z8GXydfNj9J31XvfS+EH6VPvV/PX9Zf8aAfoCsgTVBeUGDwjOCYMLEA1CDmkPWhB1EbcSmxNzFDsVVRY8F5QX9xcsGJQYoxi/GOoYQBkqGW4YHhitF1sXJxeVFvQVWRWiFLoTHRPCEjMS9xE2EZkQMxC0Dy0PhA4fDvUNwg2oDWINuwxwDDQM+guGCwwLsAoaCkAJeQjiB24H1QYFBvoEEgTiAnoBggBQ/1r+Y/0T/Jv6Rvld+BL39PXb9N7zEvMD8vvw1+8c72vu7e1S7cfsNeye6zXr8urP6nnqSuoF6g/q6OmT6WXpUukv6U7pcOkr6R/p5ugB6fno+Ogf6THpeemN6bHp9elJ6sPqjetJ7CHtue2x7qLvAfHi8Srzp/TI9T/4Ovmx+ln8+v2+/4ABLgN3BAAGFQd/CP0JewuhDKANtw6ID30QaRHaEVIS/RKfEycUhBR0FH8UjhTKFAQV9RTFFHAUThT/E9UTnxNOE+QScBI/EvMRsxE5EcUQrhB2EC4Q2w95DzIPGQ8PD8YOeA4dDsANhA0RDZsMIAymCxULcAq7CQ0JSAhyB6wGuwUJBTwESQNYAm4BmwDX/xD/Rf6O/c78Bvw2+4r61fke+XX42/ck93f22PUq9aD0HfSu8xzzjPLy8XPxAPGR8C3w9O+D70Lv7+5a7iLuwe217YLtUO0Q7dHsq+x37GbsTexG7DPsF+wD7AjsI+xB7GTssuwS7Ybt1e1G7sTuce9N8OvwsvGO8ovzsPS69aX2ovfM+An6Z/uq/Mz97/4bAFQBowLaA+YE6QX2BhsIIAkfCu8KtQuHDGwNNA7YDk0Pxw9UENwQaxGuEfURQxKQEqgS2hIIExUTLRMvEykT9hLMEokSShIpEvcRjREZEaMQOBDzD4wP/Q52DgQOhw0MDYsMDwyTCy8LqwosCrEJIAmTCPgHdQfxBoEG1wVFBcYEQAS2AxcDlwIEAnUB3gBhAMX/L/+a/iP+tP0z/Z785fte+8z6UfrE+T/5ofgi+KX3BPeE9uf1bvXn9ID0DvSk8zjzv/JW8gry4PGb8XDxLPH78NfwvPCd8I3wlfCK8IjwjvCW8JjwsPDP8OTw/fAc8RzxKPFI8WjxkvGl8bTx2PES8kjybfKq8uPyLPOA8+zzZ/To9G717fWi9mH3H/i9+Hz5Uvpj+4z8iP15/mX/dgCaAcUCwgOwBLcFuQaxB5oIZwk3CgULvQt1DCgNvw1LDsYOPQ+yDyMQfxCyEOAQEhE0EUwRShE9ETMRLhEHEc0QkxBSEBAQtg9wDxIPxQ5TDvMNfw1cDdwMOgwSDG4LKQvRCpIK+Al1CTwJvgg9COIHXQfOBoYGEwaeBQsFigQSBJsD+AJXAs0BNAGPABoAhP/e/kP+rP0f/YP87/s6+6n6Kvqr+ST5n/gO+Jz3K/fH9m328PWP9UT1D/XR9JT0YPRH9Av08fPl89DzxPOm867zs/PA86PzofOs87TzzfPW89rz5fP68wD0F/Qw9E70R/RT9Gj0fvSd9KT0s/TT9AD1FvUu9TP1UfWF9ar19/VA9l/2nPb19j33nvcA+HL4AvmH+Rf6rfpK+/L7p/xU/f39x/6l/2kAFwHPAaYChgNYBB8F4QWkBmEHCgihCEwJ7AmECgMLbgvsC1EMugwmDXMNtQ3tDTIOZg6WDrUOxw7wDv4OAg8NDywPHw/5Du0O2A63DoUOVg4nDu8Nsw1uDR0N0AxmDP0LmwsoC7IKKQqhCRQJhgjbBz8HqgbtBUUFlATlAzsDgwLSASEBdgDb/zr/l/7r/UX9ufwv/K37H/uc+h/6rflQ+e74kvgz+Ov3p/do90H3DPfb9sD2nvaT9or2bPZn9l/2Z/Zt9oH2mPaa9rL21Pb39gv3Ifcv90r3afd795P3nvei97b31vfz9/33A/gQ+B/4RPhP+F74aPhu+JP4q/jI+Nj48fgK+Rv5OflX+Wv5hvm1+e/5JfpH+mv6jPq9+vT6LPtm+6H74vsl/Gv8qPzl/DD9fv3N/Tf+i/7a/kn/w/8iAIMA7wBaAdUBTQLEAlcD0AM1BKwEHgWLBfkFYQbUBkkHwQcFCFsIrwj1CDAJegnSCf4JVwqlChgLJQufC9QLcQ/eD5QJfgn1CrAJGQnXCVMKkgmYCZcJ/AhVCB4ISgilB2UGQQa2Bn4FUQThBAEE+AL5Ag0DOALBAc4B0gBEAN7/u//Y/z7/bf2G/jb/Vv3g/OL8zf1k/FP69fyM/Ln6u/tn+xv73fmO+8f6Qfn4+rH6jfvC+Xj4efoW+xn6FflB+oz66fk2+uH5u/nN+Tj70/nf+Sr8P/rQ+bT6zfvP+X76m/x0+bP6IPxG+iL67/s//FH6OfsE/UH7Kvz8/O763fy4/Bj7z/26/Jb7KP38+0b+Ef1P+wP+Wv53/CX+O/5u/Of9YP10/jn9Pf83/Yf85wB8/ZD9rv+I/mD9fQBw/8f+kv8NAHn/+v1cAvv/qAENAaL8kQT2AvT9nwGuAx8BkwAeApQExwP3/60CggWxAigEhANhAkUGCgLhBuwAfQbCBfUCegfvAfoIWgJiCYkDmAG7CSYFeADiB6AKZv4zBGgGggoBBLr54A4uCZz7uALhBTkJDflvBU4DLAKFAnP9pAuM98EE5wCcAZwC0Pd9CH//w/uC/NwDh/9k+Wv7EQig+pvyzgmH+hv8Of85++kCLPSuAaQBvvAWDWLzz/PrDTX24vnkARX6Y/uDAaT9hvhN/E8EaPVr+XAJwPQs/5gE5vMvCwD+uf5E/Iv/nAQV7lYIC/w1/D//w+52CCsCTPNU/r73MQPZ+5r04AG5+uH56/jm/kL6OPUp/8T/gfgE8277YhMs+TXvtxGvAnf1P/1iAJ0CB/kU+ToCCvzz+Ij5LgTrAPfvd/0DCJH2wvDLDMX+6+lKB78EEfxE838AAwS4+okBDvGECQkFA/cT/e8IKAin8d0Ihgmj98AJ/QeN/9wAhAIPDDUEZAVZBC0I7gOSAf4KEQQCCSYCiAE3D34AMQQcDb8Csf9JB8EOav3PBncI3/9yB40CtwZ0AvIBXwk/AS782xCYBAb3pATKCi0G/PT6A4cLyP0H+vEISgdc98oCkABLAVIA1/k/Bo74XvnMBlkAwfQh+l0EFPvH/ML6Jf7b/f73+ffNAd38S+0q/jkBp/G49b4EfvWP7rX/c/0s8Sj3cPoz6RH8fviW7QT9DO759T760/RV+urub/Tb9OHywf7Y75jyy/Yw9gH1Zvgt/lnuYfoj9qz7IPjG9Uj5Hu/I/9T7qPvc+rX1Dvwd/4H9PPtI/k78efmMAawBUAGTAE0AYwO6BEYESga4BtsCwQrhA7ULLxJnB68L5A51FY4MKw1pFBQPSRRYFx4RZRNPGKcUuRb2GFIWZhS0FF8SPhjEGDQUZw/6Fs0YXA2FFawUAQybDEAOsg0REwwIfQR9DAQNXwp6ArAASQSo/00IWgSe/HUBwvWiAC3+dv5C/ZL22/HO9DX/ivc+9BPuve0j84Hzjvwj7H/dBe5O667rzOhL6evnAN2O4TToIujj3l3e6d142oblXeGY20/WzNhj4BLahN5J4E3XVNIe3frkU9yN1uPh+Orb7KHp3OcH6/HuA/Ww+qn8Sv/sAe0CEQh3DMwQeg7BEU0bGR67HpYfwh5oHEMd9iPuJ5QmPiHyH78hCyF+H1wZHxeZGUgclxnRE/URKhICEZcShhSJEywRcg4UEn0RIxKJE0QSrxdtGVEc7xdLGD0bhBsHIakhDiCRH1ggUiDyIJweexwQGtcbjBwjG0MU1xFYD0wL0wtaDX8Ecf4n/R78Sv3o8rLyVu2a71DtEOrx6m/j6N3U3YrhHeDr3a3XjNHX0sjY+dXIz7XIEs9UzXzIu8xfyAXEnr6FxObIJMWsv3a6P7uVv2PAgL2wwj/R+9u62AXPlc5a3aDqje6I7TP0/gH2Ct8MXQb8CV0YNyT9KKcqwS7BMZ0yuC4hLeE0xzp6ORszzi0hLzUu9SYKHlscOiFRIdgYiwyhBNUEbAVAAi4A4/9D/o37Dvj8+l8BegFnAp0GYg6UFL4UZhVeGv4hEyjpK/kwLDT7NFw2FDhNPfE+Bj7oPLM81zyyN6kzjy/PLRAqFCRrH00ZSBLmCUkF7QDa+9v18+6H6pjmDuIf37XbCdla16fUZtG70G3S8s6ZznPNg8sdzZjK7cjNxLu/uMPdxC7Cdr9tu+a6Sbt7uGe4TLg1sUewUKwvrXa2csiL1FLM5sPjwkfVCOg868jlaehrACEXWRenCpEKFR/KLvozRTTYOAs/8j1fPP86WkDqQ+c97zUmNCw5eDVOJioa9Bn3H3QbERDTAWP7bf8kAZr7LvHN7p3yJfI37rzud/Lv+z8F7QphDqkN4RGiGRsk+i7ENa44TDqBQKhE/EQqRelHe0x7TRdNf0jgQfc7vjlaORU1di/PJh0eMhg3EzcN1AV6ANH7yPbl8HvqX+W/4S/gveBY4PnbhNcu1MfSJNZ614/WiNUW0w3UENF7zLrLFMWBxZDECsMmvfuwN7FqrQOv06s9pBih05nOl1GYYJ+Gs1PCNMHfs22ycMU723Lii90Q6JkBhhxOH90QxBEtJNs7rUUDRjxL4lCuUaxKVUbJSLpMBUl8Pz88HTxZNWwi2g8+DMAQ4A9zA7ryIuuk7KbsJ+TO20jbM+N95jnl0uZ96h3vYfOFA+MUux4lHIUdWS/6Ph1GKkP8RXBQ11YPWVpY5Vi0VvlRKE42TblKpEB1Oaw1JTR0LCcdPRMsDnYMMQe8ABT8xPaj74fpX+dr5sLj8OCH4vblUeQ93i7aFtw44FLi5+J13x/cPtdq1RbUj9BTzL7GeMBmu+C2NLKvqdqmwKB/nsKZlo5kkbyH74jKjQKmncU+w7evOJ4SubXibvLZ5WbjTwl9LQA2SBtWElYtUUtqXSNWMFfKXTZbBlDiRdxKolBiTLw9GjahNOcrtBiL/bv2HAB1B9z8p+JZ1SzZXeC82hXQzs9u3Qfp/Of05HbpCPMz+00AMxJpKS80PTYwNjJDxUwITcFPsFd+YrxjkF7ZWWZW+U4pR8tDGkRuQ2o4tC06Js4d7RSaCfgGnQk/Brr+oPZD8irvcepq6HzrbO247NPpSejt6Wnm+ePk5q7ql+w+6ezkQOOD3ynaENUm0tLQ4Mp/wPu2ZLMBrvymAaHanBqb9JM+jBGJkYQBgJ+B8Jeuv0PNvrcJm1yoN9s6+fvwP+Re/4wus0JcKyAVMCU4SeVik2DNXN9gi16yUhxEiEacT1NNxj7ZMf0u7imiFej33uoX9QADjvwT4QjNl83v13bY4s0GzArZ1uav6IXlkegm81n7OwPxEdkmwTSpNp48Y0g2UQ1OZk1PWVBl5madXqVZT1YmUHRITEMpQhw/NDewLN4l9h11EogIrQXeCU8HR/6j9TzyaPEG7oDs7u0b8AfuCO147B/t4uoO5wrrse+O8Ebqz+Rr5djjA+Dj2LzVFNL5y9rF5rmUtaOrkaipopaelJ3qkquMRIJ4gjKCdokDoGy7c8TvrjaegbAi3KDz8up66J8GAjFMOH0glhSmLGJTmWJXXY5as2AXX3FQhUX9SnxUHk8EP3wzWjASJ3wPJPkm8/79gwKh8xDbNM1v0PDVQNLWypXNwtjC4Pvfj96V5RDwPfeHAEcPECJ9LJAx5ztMReBKuEmhT61cqWMUYyldnlr6VzBSW0ucR+FF4UDfOKEuyCdTHpgTtQ2TC9gLNwTe+hr1YvKL8MjtUe327brsiOnr6D7qV+tw6G7o3ezx8H3ueehN5dnmM+pe5TjeadiF1rfRPMgJwZu+crpWsIKo7qKgoiOdYZODix2Gy4bfiROT4qhguom27aedpWzDeeJW6e/jPe5hEXot2ClnGH0chjm4V6lda1eFWa1dlF3PU1tNFVK+U6JNhUKyORYzSySEDpUBTgKRBu3/3Oon2jTWS9g/1p3MuMn50GTZxNo/2JLZiOKb6j3zRP6FD7kgxSjZLbEyGz9ZRfhLplTPXcRj2V9yXnRc6VldVHlQn0/JTXZHmjvPMScoKSE4GW8ShRDfClUDO/lk8vjvEu1M6tjoY+jo5tnlhuNl5KPkZOUt6BjqV+xU65Hpveln6UHpgeX04S3iv94F2nfQ/8o1xci+07eAs+mwCaugo4mYrZL5jjKMvoW7hU2WbbPxvvGu3Zd3ntrHR+cs6PLbWuz8FMcqSB3QCrMbVUUaYW9cG1GVVfxfJGDRU2ZS9Fv/Xz1VOUQ4PD43xCmKFmIMYQ+7EP4BHOkC27PbpN+r2A/MOcpV0svXttIVzR3TyeC76eDsIfQICBkaDiAuIN0oIjm5QsFIzVFrXSNhRl45Xd9eCV4BWotZRFovVx9Mbz4zNmUwRyrrIdIb5xdBD8MBqPfw9GjzDe7S54PnWef24mfd89vA4O/j4OOd48blneg+6Pzn3Omr7DLuJOwP6DLmtuOO47/dVtfD0ePKc8aGv2G69rHPrgap+6JTmjqSxZOzjTmHL4RolPS2/8DzrDmQGJ0f0Frw2uWq0HfnjRdYMKgakQbiHSJLkmRgVRxIxVP2ZWBnV1fOU9RdB2OqVXxEHD6zPYk0rR4BEqcRVxL8AyrsfeHW5CLnWNsSy4bIC9JN18TQQc061RriheSa5LH0hgl/FO4RuRj3LI85MTvpP2RQh10PXulZw1xrYT9gWF1NXF9emFhmS5xBYz1ZOf0t5iLsH/cciBB6ANX4YPjS9ALr7OR75YPjad742Bnbed4L3oXckd4Q453kO+RT5MHqXOxi65/oAepc6rznCeQC4r3eZNcH0yfLLsp5xLq/lrlYruepkKNmoUKYopGMiwiMCJUkod+zo641pPGaaq5R0gvfadoo1W/xthOUHH0MWwgYJ8hIjVXZR5VGdVYsYptgy1NmV8xfI2G2VURJRUUCQYE27CVdHxEdERe4B0L2lvG28FPrsN2w0yjWF9tg2PnPDdFy2vziJuZF6Z/00/6uBswPPRoTJVgqXTGoPeFJQFBhUUNT71fTWz5aq1n9Wf1Zk1V3TMRFaz8pOBUxhCvEJZkcdhCYB+0B3vp68xruceyo6Xbistu12orc19xz2uPZYt2O4BTg3t523/3js+hN6RHqReYw5lLk7eIb4o7cWNkB06/Q1c15yXHDz7t/tLuvVqpBp1ufvJidlQaTvZnPnlyw8bI9qbme/KdUyxHcRdmIzkvj7wb7FG0J2v2ZGZY8YEx6PyU4qEuCXEVfR1GEUZZcDGEyWMdK/0nGSClCADOiKdcnEyHpFQoHKAO7ALf4pOvh4Z/jAeSU4OzZbt2442bnueX55VXwSPkuA48IRhBQGAwe0yV7LrA53D9ZQ8VG2UuAT0VO4E8gUttUk1CwSF5EokBiPWs2iS8+KWYi+BlvERMKEQO//Tb4HfQg7iXnmOIw4STh392w2lTZhdtJ3Cba1NlD3HLgNuFr37PeVd9z4CnfYN5M2wnYitLzzznQOMvIxz/Csr+YuzOyPatWqUemKKN0nOWclqaRsrm3nayuomioyMJK1jHV5cwF1pT0WAa+Afj3PAa/KKQ6xjQXK8Y4U0+LVg9MDEaeUtpcbVn3S39H2UwOS+o/yzLsLi4tRibZGqwSRg/PB5z9+/Mj8rPxR+z35RXmm+oS7f3o9+WO7Dv1Qv3g/7sCMwqMEVkYlB4pJUUs6zHjNvg7Wz+qQAtEmkcvSt5IHUQcQ5lBgD9MOjs07C8gK0Ek5Rz5Fg0RpgssBY7/PPq68+fu9Ou96Zvmj+Eo38veTN7i27Daftol3AXdsdu03EraU9zx2XjZT9h31onV5s95ztPLFsyKyBXDZr9quzW4NrR0r7WrrarhpnCkHKdKrRu9sLspskCs9bV80cjbR9Y90jzkt/54BzH8H/kpEkwsxDXlKmgopjz+Sl1MbELpQ6ZQC1Y6Tr9Ex0XjSClHqTr6MWMwfyxNJvUboBbYE8EMMQPw+/D55/e89NPw5PBI9ZTyIu8M7fDzt/7PAHgB4gSnDJYSshUZGYMh0ih5LN0wLTIbNgQ51jrDP8o/Sz63Oyw68zrUOO8yKS5NK6snvyI4GhsVGBLBDI8HQwBy+z73R/NX8Cnt7+hS5Bbi6ODs3+LccNuy29Hb6dqo14/X69dq2N/WStTg0inQZM6vy+3L7Mn/xqXCc78lv8a7s7ausbetia9qrp6qIqwor468OsCKuKmylreuzczbKdr80/LeIPa3Aon+Y/cCCZsh7S1OKE0i6zGVQl5HNz8vPQdIp1DETVtD90IfR/xHbD9DNDkyKjFZLTMkwhzAGVAV3A2cBB8Bfv8k/kj66/Zi+uP3ifRE8Q72vP+vANz/iQEcCosOIxB2EqQZcSLoIzknQSk9LloxojLDNkg4+jfjNDA1wTZDNgExuys/K/0oLiRQHBAYLxeKErALigQUAfr9mfnw9Jjxi+4x6tLm5ePf4UTfkd2c3Ofbotnt12rXRNgJ17/U9NGj0YnRrc7ozYrJ/8iHyFDHIcN+v8m8Cb1Mu8+z27HKr+iwd7BOsrS3PsCpwbK6VbnDv9DS3dtq2abaOeWU93j94fmj+/MMSSBwJpkimCGcMP888z7kO7A750WQSmtG3UDTQWFGQUXNPS41RjSlMessqyZsIacfJxnZEPMJNQdzBtkD5/+N/0gA0/sy94n2zvyTAiwBqgBDBK4JywtMDPMQMxglHYod2x+KI/gnXSrSK5kvKTA0L6ctgC+tMdwvYCtQKGgoRiULIOwaPBn4F2MSOgztBtoDuv+B+274zPWn8X7sauk+58zkUuFJ38DeMN5r2uXXqdeq2PXX4tNW0YfRu9Eo0CXNFskhy6XJ2MdnwzHAssNWvxC+H7kQunW5SLUNtKuxkbrvvtPIr8fLv6a/q8Xo2wvi0N603DvpSP/7AFH6fviqD9glXCbzHF4aGjCOPVI85TOiNTVEJUfVQS05hD2yRLBDezzgMU0xfy9gLagofCNnIZ4abxQ+DfwKqwmNB9MFVwQjBTv/4fpw+uIAiAaTA5UCYQTdCZYLNgzCD24V4hmmGVQbuh24IlgmhScGKlUplCiIKLAqFS0hK9Yn3CUWJl4iKx3+GT0ZqBn2EiAM7QeaBbUDaP7p+vP3HvUk8PXrquk75wnm1eKJ4fje+Ntz2hHap9oR2I7UPtGQ0v/REtDXzVTNR85gywfH6sQhxnHF+MN/wR7B8L/4vVy7OLzCu0O4ALw7w2nOVNBqxXDD3Mxv3tzl4d/h3u/r1PwEAHj78/oXDPsdgh81GnMY/CbkNb427DBgLw05BEAIPvc15TaTPsxAHzvbL/gsJi/MLgcr+yTpIa8e6xmrE0wQaQ5eCzALIQnMCUwGYwDgACYDigfmBVIDTQWiCSgMHwtKDesP0BSFFb4VMxlbG6MfESGIIswi+yHBIqMkaCftJRQkWSI4In8h1RxKGv0YkRh2FU0QJgzdCcoH3wPFAKb8m/mr9hrz/vD57evqU+gd5gPkJuHK3lHdjt3p28XZ7taL1NXTf9KN0mPQc86ly0rKkMtFymvH0Mazw3vEXMORwO7Bx761vkC/J76Bvz7CKsiY0BLP/cg/yUDVgOOj5mPfI+Ih8pX+Zf5r92/+6hFoHfUZDhNNGvoqXTNmLpMpyDCYOug8kjXxMeQ3zT4zPX80Ry7gLyAy6i5lKGclWiR3Itkb7hU1FIMSYRD9Df4NyQzOCJ4DAATIB9sHxgUVBBkHsAlBCMQHlgpkD3oQxg/+D9QT5xZiGJgaIxxKHaocLR20H7UgFyCRH7Ag3yCpHSoaQhnvGlwZ/xQ2EY0Pag5ACh8GuQMJAvX+f/qO97f0U/IC7+zrMerp5mTkGOFu4Djfb9zR2dPWsdbJ1APTXdLFz8HP6M3azNfLjspNypXIo8jFxsnIJsfuxk7DN8PxxBDFm8SSw/7JjtDn1fPQNMwl0NHb6uZe5c3hJeZ98/P9G/qk97X9Ow9aF0wTtA9YFnUmoyswJ6EjmSpeNVY1HDAqLW40mzr4NzYxWSzcL34wky6zKR8nsya5IyMgfxujGGEWXxTHFFYTeBBjCyIKBQuxCzsJpAYPCTAKEwo4B/AHtgu2DR0NKgz8DX4QtRJ0EyYVXRdTF/IXXhhwGmIb+BqsG0Uc0hxEGoMYTRiLGJYXTxRuElcQnQ6aC64ImwZ6AysBj/1G++j3bPRs8k3wH+7T6U7mwOS44/bhct7o3M3bzNq310fUVtQ808bShtESz1vQaM+Xze/NPcouzKjMxskhybfHPslDyk/JTshMxzvJMs7H1V/VFNCezsjWY+QP5hbgnN5A66P5Rfqm8rvzcQTBEdgPVAmaC4Ub3yRHIrAdCyKTLQ8yXy1CKPAs4DQsN3EylixeLqQxwzAjLPQnySgMKTYm1yC7HQkcPxouGDEWBRZFEooOCg4pDuANvAm5CN4KcgugCPoFMAgPC08M1gmWCQYMCA1HDtMO1hBWElkSYhMMFfAVvhRkFZQXJRnnF/AURxUZF3sWmBMZEdkQnxBMDeMJjghTB/sEmQE9/nP8Ufl79jn0kPLz7/fs3Oo36CrnEeSF4UDfYt5Y3Rvb7tmp2fPWY9aC1SjTQtRK06bSldFY0kTSZ9G80ATQ1M86z8LPbdBOz5XQBc+dzo/SvNVf21TaC9ba1bvdreYL6GPloeX27674TfdC8572tARADocMfwcZCxIXPR4KHZsZih5VKFIrvScFJAEowy8zMoUu2inMKpwtxy0IKuAnWigSKN8lYiFZHigdUhtdGqQZghgnFO4QRxDKEBgQlAviCxMNbwwECaoG0wgBC8UK0wi+CO8JFQraCsYL+Q0oDnUN6Q4LEOYQfA+AEEQTNBRoEhYQ6hDbEUQR4A6lDTcO/Qs0CokHoAb7BC0C4QC4/XL8xvmH9zr2kvQb8hbuS+yY6nnpS+iT4wTkjuQH4pHfJt8d3dfbdt1P3ATbp9lK20rZldit1/DYKNn+1iDZbtd81+7XZtct2AbWsdVa1rjWTNk52kfedd+U3krdjt0R5APppOmG55PrnfNY9rX1B/UQ/HAFmwfCBq0GLw1cFGcW+RYBGZ4ezyEPIlIhgCJLJ8wp9yrrKCAoNSkcKe0oYCdRJ9EmkSUtI0wgZB8mHR8c7RrqGckX4xPqEtcRqxH3DrEN5g2qDP0KIAh+CIIJ8Ak2CT0I8Qh6CNsITQl3CvoLEAupC3gMOgy2DEMNlQ5xDpYOdQ23DF8McAsDDGAKGQraCEwGZwUbBmsC4v+r/8b/ZvxK+T35/Pav9yz0U/Fw8AjuoO777Xbs+uhj5jLpzed36AHiduSh5JHlzOa039njPeHN443iu+Fl4CXkHuQV3y3iWuRH4pLhq+IR4u/jgeHb4ZLjUuTJ4dbhyeUi5Zzmw+nT507ocOj/6lPwavEy8DzwofWQ+pL6zPnr+uoBXgfZB5wF+gdODnkRiRLeEfUU2hiqGqYaehr5G/QediBVIJ0e9h6sHwEgCh94HYYdTx3QG6oZTBiMF3IWeRVBFPUTfxJkEPcPQA/RDlwNGw1fDYkM0AvQCpEKEgw5CkALagt7Cr8KhAoPC5AMxws7ChcMyAsDC/cKlgpBCg4LBAlxCN0I5QfNBQ8GFwVDA60DNgL2/3P/JP7E/Cb9kv0G+nH3LPhE9yz44/Mz9Zf1SPLB8EXxXfN/8Jfuhe867y/uYO997WDs6OuH7b7tAuyi7NHsNOsy6/3srezt6rHqGeyX7JXrB+sL7M3rmOy361PsaOye6wHsOO1R7Q3tfe3X7HDure5B7n3wBPLV8WbxBPJ985r0rvaI9mn3OflD+9D7S/yu/Uf/FwImA2QESgXMBXcHMgmpCngLpwwKDl8O0A7oDjUQrRCLEagRuxHqEZARnhHZEYESfRJGEq4R8BFJEXoQSRHGEWgQyBFuEakPQhBND5kPtg/dDyYPNQ6nDqoNKg4GDdoMaQ1tDaELKguXC5oJqgu5CWEKZwlaBy8IEgcDB38F/wbFBI4ENQTuAhcDxgDGAb8AVQDi/57+Cv6v/Q79YPyD/Ir7/voc+mv51vgU+M74hfdh94T2FvY19iP1PPVU9Lj0y/O/813zAfPt8tby9fPU8o/yYvOV8svyq/Kc8vLyUfNw8yjzUvPh8/bzpvNo9MjzGfVQ9Nn00PQE9d71XfVa9nb1LvYG9mf2Y/Zc9uf2+fZT9zT3Yfe99+X3T/gj+L/4P/lO+aX54fm7+jn7jvv8+5T8N/3L/Vj+Kf/X/3YATQHMAX4CVAPvA6YENQX5BZoGagf5B2oI3QiICQoKgQrMCicLxwsaDGUMUgy7DNsMAg0vDWMNfw0tDVINgg1FDRoNAw3ODK8MUQwoDAEM7Au8C1MLEgt3CgoKzwlrCf0IfggXCKsHIQe7BiMGowVVBcwENwSTAx8DmQLuAVkB9gCOANv/Of+z/lj+2v0t/bf8Xfz2+5T7H/uv+n76KPrb+YX5RvkG+dH4ivhw+In4XfhB+Bv4Jfgn+Dj4Cvgp+GP4Z/h2+Hf4rvjD+Nf43fgH+Uz5ifmQ+br51Pnc+RT6NPpv+oP6ovqt+rD6u/rU+uL6+PoK++T6EPsc+z77QPs++1z7W/tK+1L7rfvM+/377fv3+wL8Hvxr/Gb8qfzW/AL9Wf10/Yb9nP20/ev9Xv6V/qL+7/72/jn/bP+o//n/GQBOAGkAwwABATsBRQGMAbkB6gEMAh0CjgKuAvICFAMlA0MDuwMDBOkD3gMeBGkEhgSkBMoEyQTQBBIF8wQCBe0E5wTmBMwE/ATdBHoEWARUBEkE/wOdA3wDWwMqA8ECggJDAvIBsgFvATwByQCBAGYAOgD6/47/av9S/xL/xf6n/rj+u/6P/k7+TP4//lH+XP4+/hz+Ov5S/lr+bP5e/nr+h/6k/qT+ov7L/uL+6f78/h//Lf8p/xb/JP86/yb/L/8o/y3/A//Y/uX+0P77/vL+t/7C/un+2f67/sP+8/7n/sr+xv6Z/q7+6v7v/tn+z/75/gb///70/v3+NP9R/23/SP9f/3X/eP+R/4r/jP9w/3D/hP+C/2T/dv+U/4H/Tv8m/03/P/8k/zf/VP9g/0X/Fv/8/iP/K/83/yL/Q/9R/z3/XP9L/13/Y/9L/4D/uv/H/8D/pP/w/+r/i/+P/8X/y/+b/6n/sv+o/4T/bv9w/3T/Zf9Y/0z/Tf9a/zn/B//P/vb+AP/w/tj+1/7a/un+FP8H/w7/HP9e/3H/e/+j/9L/BQABAPX/EwBXAIYArQCqAMYA8wDzANoAEwFEATMBAAEeASwBIQENAfsAFgHaAN8AdwDjAAcA0//7AJYAIABnAEcAVv+G/5v/YP9s/x8Arf91/9//ef+d/5n/v//w/wYAGAAFAE0ADQDw/1EAhQCFAIoAqQCZAKQAmQCTAJgAvADKAKcAqwDQAN8ArQCOAJcAlgCXAFoAPgA+AC4ADQDj/93/x/+h/6X/lf+S/3r/WP9d/zb/Cf/z/vn+9v7i/sf+yf7D/sP+jf5R/nf+bv6C/nv+Uv5E/hj+M/4b/gX+Hf76/Qz+Kv4D/tr93/3J/a79uv3x/fT9xv30/QT+5/37/Rf+Bv4X/kz+Z/5u/nb+s/7R/s7+5P4A/wb/MP9G/23/w//P/9r/8v/U/w4ALwAOABMAMABmAEwAWgByAH4AWwBrAJ8AhwBZAEgAWABSAHUAUAA8AEwAHgANABUA+v8dAAoA8f/u/wEAQAAeABgAGgAgACcAJgAjAFEAWQByAFsAOgBdAGAAkwCGAIgAiwC8AN8AzADLAMkA1wDZANIA1gABAfMA4gDMAKIAnQCcAIsAdwCHAJgAdgBWAEQAMAAtAAgACAAUABMA2/+s/8f/iv9g/0z/W/9H/xj/R/9Y/zn/Bv8N/yH/6P7H/uH+9f4A/+3+x/7A/sP+pP6t/qv+gf6d/s3+tf6c/qX+zv7L/rb+Af///tn+1f7b/uz+Af8T//v+7v4s/0D/Ev8C/0P/e/9H/0P/af+E/3H/i//R/9H/e/99/87/zv+S/3//vv/X//P/vv+r/8n/yP/g/+H/0P+m/8b/5P/J/9r/DwAUANX/kf+z//P/7//h/9z/+v8GAOT/xv/k////QQBeAGQAaAA6AEMAMwBFAHQAbgBkAGQAXwCBAH0AewCfAKMAjACGAJMAiwCTAIsAiQB6AF4ATQAyABsAOQA9ACsAHgACAP3/4//e/9D/0P/J/7H/o/+V/4L/aP9r/1D/RP9K/1D/UP8p/zL/Lv8q/xD/2P7y/hX/Kf/s/uD+Ev8h/+D+x/7O/gD/Mf8D/x//Af8p/yv/Jv8h/wv/MP9E/1H/Tv9j/3H/cv9m/5P/tf/I/8L/t//O/9n/yP/S/83/2//9////+P/T//D/0/+9/+7/CwACAN3/AwAOAAAA1v++/8f/y/+9/7X/tv+z/9//uf+0/63/1v/r/6//3f/p/+v/6f/K/93/7v/q/+r/DwAhADUAJwAiABUAFgBQAFgAaAAwAGcAfQB8AFAAawBnAJgAVQB6AIQAowDlAM8A0gBhAAwDtf5N/rQBvf+y/7z/7QDf/9X/MwDO/1gA2//E/ycAAQBd/7T/8f8W/9v/xf85/5n/rP+w/37/e/9u/5j/Pv9l/3D/Sv9F/xX/bf8W/1z/OP/8/kP/2f4e/z3/W/8b/xD/W/95/1v/Xv96/1//hf9m/3//iv+D/4H/uP/O/7b/o/8BADAAoP/W/ykA1P/B/zYAOgAJAPL/7//i/83/yv/s/+j/2/+u/+f/GABF/3v/RAB+/3D/3P+//zgAYv+f/zkAr/+6/+v/t/+t/yQAAwDj/xsA///w/9z/BQAmAL//TgAeAPf/MQAvAAUAzf+LAO//CgAhAA8A+P8PAEcAXP8VAEcAEwDZ/yz/tP/i/xEAAv+H/8T//v4lALb++f81/6z+OQD+/sn+BwDQ/2b/RQF6AXADrQO3AicCFv/0/vn+cf/H/xn+pv/JAWEAof/8APr/GgB2ANb/6v97/+b+d/9T/+7+qf4B/xYAFf/d//3/L/8M/53+z/+s//7/Df+Z/u//AACr/1b/HgBp/rv/BgBW/yYArf/HACn/FgCSALT+PQApADYAJ//v/xUAav8OAI7/u//f//3/0/6rAVwA1v71/5L/DwH7/WgALQJR/iUAZgC0/7YAXwCc/5wARwEz/ZoANwPW/CEA2QCo/779RQKxAez7vAL8/gYArv8g/1r/RAEi/o3/ZAJu+u4EpP5A/fkBD/9c/6n/xgHA/LAAhQDm/bMAXgGR/8/91QDPADz+JQI+/Qb+lgRI+34CCv1OACv/T/xTBu77gQC4/UAC2ftqAQ7/EP3JAsL6MwTa/tz+af76ADv+2f/g/5ECOv4a/EkFSfsdA9X+of/D/2z/EAXN+KYDYP/l+ycGzfu9AVsABwAX/qj7wghy+eAB8//z+iQHrv2F/SYAHgMn+KYEjgIq+sYGlvpYAvsAvf9kADkBXv9J/hcFXfuJA1H+ZwBQAL39XAXJATL+evqpCN3/J/inCLj9VvwrAnsAGAIO+VwGRf57+J8JefiCA+X9FvygCIH0VgcO/Lz9SAc69G4GmgOL++v6zAc9Ajf8X/2hBNUCq/heBqL6zQdg/Tf4bQj1AYf9TgOC/WH/gwSy+y7/BwABAxIAL/nIBn//rfWXD67x1gbTBH7yuQ5e92/+3QLp//QBgvg7Cmn9PviCCIUBI/8f9SYK8gLR9h36QA0n/7zr0RHWA//4FQHj/5P//ANUA0v+kQr4/pb/vAg3B6X+T/nBEUP3lABqBi4BUfzy9Q4Oiv69Ac77rv75CSv+Vf3c+JoEKwJI884Kh/dgAdX+5/6m/0cBIQ1d8XQK8AUBAO4A/Qo3/yH+SQ3s+V8A9ARLAyf8lfu+CKcCa/Wd8F8BTBHL8DbrrxHoADnwNwFcB2X3Bv0W/pD38P1r/8sFPuplCZX+yQBaCIzuIQ1q/+z8Sfn4Bx0KsuxD+3oOJgBe8tgKv/r3/jsBlv3CB7jxmQFv+94BJPhDA3H8V/ZQBGX7oQK+9SAKofB4/aL+i/8yCUL0+/rr+BEJWQBFAsT3mwjF/y35fBEq8+/1XQsYBvrrjQgyDkr1Jf+w/pYKmft68k0LHQgJ9CP4wwmsBJT0hgHb/sYCVQjm8Y4F7P288poNcgCy9joHgQxH+SLzOgl0C8b6JPCED98Bd/oqB6T5Awk7+0ABwQHFBvIGI/Gv/nkDpwJl/xICvv1M+xMNuP+nAMX8twC5BDb1FgexAzoIr+yB/wMNpf1HCg7tUwwdAXD9UgMwAAUCN/OsEVX3agP/BMEAsv7n9TcPMgD2/vXztQRhDGP8//PgCTcDzvKxBRQDbwap9EwDCf9f/FcGAPpBBN75hwGKCZMItgBa9IYF1QRbBfwDegY0Ai/9+gnnAsUO8f3l/C8ASf49Be76lgNO8YT8BwYEAZz6zf4oAQn4yfq6+8EIPP368bYGZAPD/FwA1fbxBez94f/Z/2YAigZM9E8J8Ac79aABAARL/XcARgVC/cn+H//GALIIPflnA0wCdvnVBYT/3QIm/iT/mP9sAE8Bl/3yAQn7sP6l+2cGvP8++GEH3vb0/jQC3vtNAU0AVgCh/BkDqf38/tP+KwLT/S39eQTG/M0CR/7n/jECqv6j/ycAj/9rAfr8QvyJAZL9ngD7AmD7UgGaA1r+B/tJAOwBBv4LAY7/MgRR/8b9bP5qAZ0CIvtHAQkB8f+FAvz/yP+IAeEAxQDyAQgD8APz/RH/jQFQA6kCXAJkAbP+hQHv/8AAoQDiAGb+5P+wA6kCN/5Z/nP+2/yJAXL+HQL1ACL6hQGjAE3/Sv+9+qYBPf9G+x3/rf51/Jf9pv4PALMBxPvDAEb+v/4RAYv8zv9w/4P/KgLi/hj/sQH8+cP8VQDUAQIArv6f/tQADv/f+1UARfyv/nX9jf8WAlcAiQAi+cb9JAMAAaD/EwIzASr++v2FAeEDMv6S/l4BrwHEAt8Buv+1/ckACQOVAJ4FdQLrAG0B1f8JBIoFqwC3AegGYATDBAQEDwTKBaoDaQW+CJ4HeAXBAbcFegZ1BnsGLwepBzsHBgiyBlcI/gN4BbQEhAV6COgFUwW3AXUDdgTvAtECzAQ5BL0BjwJJBmIFawAMAUACrgFMABAB5f0/AOb8c/6VAJ/9QP0B+mj6wvfV+Rn3ivOF8OHwZ+6O7S7v6elK6TTnu+iA6TPmJObf43/kgeJ/5ffl3eRL5OrhvuY75cvpMOrv6B/qu+kp7iDxbfWw+d/8XgD0ArsGIgmkC14OoxEMFawZLB3pHR8e9B2gH2Ig3yFSI8QjGCM/I/ki8yKcIiAhICAnIM4fnx5CHdEcsxtRGrcaZxowG60ZEBjFF90WwhYbFikWdxZdFhwV/hRAE3sRJhDLDcUNegwgC58I6QUMBNoA7/32/ID6ffmT9in01PTl8Ofux+xe6pvqn+iB5XLlI+Jl4OPgN+D24EbeodzN2cvZRNpW2XDWuNPM1F7PMNCSzELNbcxVxnnEC8A4vym9gbrku1nQh+Se9ATuft7h5MbyeQJ+BGMEehM9IosnBCXaJKgoBidwH0sfYSzzNns0aCDzESMRthOHEiILeAW3BTYEmABf/e74p/ZX9Of0JPy1BE4M7g1sCRcHFQyqFeIdECG+Iyos1DFTM5wyyDM5NvQ0bjXROVE8FzguLu8lGiPBIrkgih5CHY4bdReXERcQaw9kDRYLBA3sEkkVqhKKDqsMzgysDPYLrg23DtEL/AYmBE0D9gDh+u72qfUY9Zzyz+xY6VTlrOCB3A7br9pe2KbSV86XzL/Lnslixt/DbMQ1wcu7JbrQsxq21LItsbW176/CsAyn0aMRsJi+s94e7tLys/BG7DT5OwKOCaQLmBJoIt4uDTXpMXQuXCXkGScU3hX1I7ol7BsSDbgB3QHc/Zf3AvHB7qHygPaN+T/8zfzz+X/3Y/onBUgTSBwxINwfgiDTJKwo3SvcK+srqi0dLj8tpSl5I+cbKRVcEi0XJR3yHpwZJhNKEewQGhJ0E5cWDBoqHOsdACC/IU8f5RoaGiMeYiXTJ+EmtSM3HyQbiBfvFlgYKhcqFE0RLQ9WDXoGzv76+dD4yPlk+VT4evZk8RvsnujE6JPqq+qA6SDomOgU52vj9N2e2JnWAdem2MfYytf90AbML8W7wZe/07qbuky28bi1uDC87roNt/ez2a34rbOrxrXFyOPiCv0cBhgJ/gf/CsIRxhISGMseVCt8NXc6fzopNAop3BiVDakK1Q+QE+EPPAiw/1/6v/aw8J3rn+gB65HyWvu1AkYHjwg8CPIIwQ0AF9EggifzKe8qvyw7LvosQCmhJSEj9CAiH8YcXRlDE98LGQWVAnwCygIDA4wECQaSCEEIzA/SHz0lOyzdJyIoLS3lKK0rTiZrJMknBiO0JBsl5yJaHfgQpg3fEIcTUxT9Ej0PLQ+HDAkJJwjkAloAkPz1+Sn+y/6A+3L1Y++07rDud+0Q7kXsu+uG6sbmxuXs4hvf29tE2O/Yotls1yLUXM30yyDL3Mn6yZjJAMYPxlfAx8GJw3zCDci+wffD9cBawCG8RbtgxurXxO9z/WAGLghfCHoNJgzMDIIPaxMrHp4jnCt2LWgoXh65ES0I3gW1B3cJ3ghxBFkD2QKjAEH8pPaK8w71o/niAMoIZQ+cE7MTqxIwFUwa6h+HIiojOSR6JvMn3iYBJD8fsBq7FocTzhFDEGENWggzA6gAGQB+AAMAw/87A8kFrwu+D64aeiWsJ5ErwiYeKaMqEiqyK4slGyTjJDcjcyKaHnscvRexEWMQoBEhEi4P7wutBz8GLQYsBh0Eov9c/Qv9q/ri+sz5fvhp9unzXfVa9vj2V/Yz9TXynPCW7uLtZOp86Gjn0+a25U/iReCu25nXYdNT0kbRVNIs0SfRwc34ywnLqcgPxhvDB8T/xUbJv8jeybvFEsIXwknG/c8Z3q3qsPfz/noDIQohDCoO1Q1gDqgRHBhlIJAomCl+JsshYBxCF6USLw++C0AIvQUhBvQFWAV7Ai79ZveM9NP1DPlN/LD+5AJqBy8MfhDNEzcV9hW+Fr8YlBw+IMkjXCTlIgkhQyCrHiEcRxgGFQATbRFWEfsPIQ8vDIoLmgzqDl8UfBbDGK0YYhjFGoUbXhzmHMUcdx4tILohvSKQIE8daRlZFigVWRRIE6wRiA9bDhkNAAvNB9wDaQAT/oj9m/39/QP9zftj+ov5Afna9y72//No8l7xs/Ek8Zvwm+8J7nrsz+pP6Zbov+Zd5SPlXeR85XLk1+P84cffod+s3zTfS97p3a/dT94z3kHe4dwd3OTaAtuC23fcOt3S3ITcf9vt2/ba89nb183XdNrP4O/odu9G9IX2Wvkd/HL+4v/tAIUCnQW4CW0PHhUuGecbMBw2HP8b4RuNG7YZ1xcVF0kXrRh6GY0YzBb/E5YRMg/6DHML3AleCEwHTgeKCAUKGAsQC08KTwqEClYLcgxrDYMOxA/kEV8U0hYxGJMYuBfaFn4WWRdPGL8YHhloGLwYYRgbGMQWUhRZEroQJxAEEAIQsg8rD28OIQ7TDcYN5gz+Cx4L3QlNCSYIJgcrBQgDiQE5APv+7P0N/cH7wPob+Wj4Rvc09on1yPR89LH0o/Wl9db1jfVw9Xz1NfUv9ez08fTq9N/0vfRT9PHzjPMF85HyKPLA8dDxVvEi8Rjx7fAf8aLw5vCv8NnwW/Go8TfySPJL8jDyFvKl8X/xL/Ev8dDwlPDO8KPwvvB68NTveu8n78Tugu5B7tft9u1b7hnvw/Ap8pXz1fTa9e32FPgm+bf5Ofob+5j8lf55AIkCoQRhBuoHYQm8CiwMXw0kDhgPSRDhEXQTnBQqFVMVOxVGFSwVABXLFEsUzBNEE94SiRIPEg4Rqw9UDj4NWgzRC+YKFgpSCawIfgh4CNoI7QgZCfcIRgmpCRcKbgoRCu4JqwnACdIJpglgCfoImgiKCIAIiAgiCHUHwAbuBcIFaAXzBJAEPATyAw4EGgS6A3IDFAP6AqoCPwI5AgQCugFyAeEATADa/37/+/4u/pD9Iv3h/FX8xvty+7r6SPr2+Z/5Ffmn+LH4q/hm+DL4//dr9x336vbo9uD2v/Zt9kT2l/aX9oL2Hfab9Wz1ivVw9V71pfUE9h72PPZg9gf2DPbp9c31DfYf9lr2hfaX9pj2xfbC9rr2Lff+9t72v/aF9nz2JvY69mz2YvZF9mH2UfZW9lv2WPa39v72Avge+Qv6Dvvg+8n8s/2p/n//NQAFAcsBvQLuAxYFTgY6BxAI1gh9CS8KsAr/CkMLowsiDMgMXA3CDQwOUw5/DnYOUg5HDgsOiw1BDQANvwyKDEcM1gsbC5UKSgrgCVEJ8giICCsI4AeIB5EHcAc+BwgHzgbEBt0GwwbMBpAGMAYsBu8F3QWcBTgFuwRDBOIDigNqAzwD7wK2AhgC0wGrAZYBgQHvAAEBIAE8AS8BbgF5Ac8B6AHpAWMC+AEGAtQBdgGEAWMBIAHjAE8AMgDW/+f+tP4T/lH9f/yl+2X7T/vM+i/6APrI+br5g/ka+dr4jPiU+K74afig+ML4m/jJ+KD4r/ij+Gz4Ivgz+F/4VPiM+JL4uPii+Mf4/Pgn+U35ePmG+Zz58vk3+pn6lPq8+rj62/op+2P7o/uI+2P7dvtN+yb7XPst+1D7Pvsv+xz7lvpb+ir6J/oN+hn6Tvpe+m/6mvrD+vH6PPuI++H7Wvz3/KX9Uv78/sH/eQAWAZgBPgLkAokDIAS7BH0FOAbqBn4H6wdjCNMIIwmACcoJFAoyClkKUwptCnIKXQpGChwKMAomCiMKzgmlCYEJNwkTCegI0wibCFgINQg5CPgHvAdoB8QGcAYJBu4FxwWhBW0FRQUbBaEEdgQQBBAE+APCAw8EDwSuA68D1gOkA1IDMwN1Az0D+AIpAzgDUgNVA/ACEAPgAnACOQKHAW0BTgHkAJ0AZAAeAOf/dv8M//r+i/7D/Z39Zf33/JX8fvzS/Gf8WvwX/Lv7mftH+wj7qvpU+kX6Evqm+c750/nY+eP52Pnx+Rz6C/oU+hn63PlP+lv6ufrF+vL6LPtP+5r7fvvz+8L7u/uT+3f7Wvsi+z/7I/sI+2365PmW+ar5rvmV+Q/6KPpj+mf6QPp1+q/6pfoF++X6HvvR+6T7A/wi/Fj8e/y7/O78Cf0n/VT9ef3F/Qb+Cf6k/uP+Bf92/8L/BgBUALUAOwHHAUkCtAJaA6QDIwSrBPkEVwW9BWsG0gZBB7wHEQhoCJoI9ggvCXgJqwnCCdAJ9wlMCjsKhwpYClkKgAokCkAKFgocCkYKAQokCgEKygmsCX0JQwn4CNUIbwh6CCEIpAe+B0YH/QbjBrcGUwbtBQ0GzwVHBe8E4ASFBEIEpQOoAykD1gKBAhsCEQIPAX8BlAAxAM3/rf9g/5v+uv7q/Tb+Zf16/Qr93/wm/VL81/xM/F/8Wvxr/VX9SP10/QX8ZPsc+ir5Ufj092j3JPi/9x33ifZN9p/1CPUL9jD1y/aC9qr2avfi9nT39vbD9lD2SPd+9mz3lvd693r4S/f09wv3Uve+9vz1KPZN9Yf1/vS39ID0ePQu83LzMPN78lbz6PH58SDx6fAg8XLwcPDa74HwoPE79Dj4s/u+/Ub/+ADAAvEE+gXZBowH2wjPC3UO1RAjEuASChNIEr0RUBG8EGkPyQ0HDSQNow0MDvQM/go9CQIIogeeBpUFPwVIBboFkAbNB+AICgmRCBMIHwi6CHcJRgpmCukKKQynDaEOUg6NDcsMoAwdDbcNZg5wDjEOSw5KDlUOtA05DMIKwAnBCWIKeApWCtsJnAmYCVQJ4QjGB6UGlQVlBbYF3QWKBaYE1QMAA4ACgAFUANH+av3p/OP8zPz3+xT71flG+Zv43PeP91r2w/Wm9Y31rPXg9PbzDfMo8hrywvGG8dzwJvAi8J/vtO/j7uLtHe0f7Gns/+v666LrYut86+HrzesP7I3rfup66n/pI+pt6SnpuOhC6Abo2Ods5z3maeUz5Enj4OFA343drN+W5QnxhPo+AVcECAaFCiAOBRA8DoAMFA6rE34ath8AIbQfKx1uGSsWghKXD9kLmQd/BZAGCArMC6QJ3QSrAML/dwH9AnQD+QPnBhEMHhHMFGMWYBZqFTkUXxTtFdYX1Rh1GKMXmhfBFywWxxFQDC0IAwe8B+QHtQfcBsQI9gqkDH0NWAwUDIULMw0NEH0SdhQWFQsVKBXSFAwUnRH6DdwL1ws0DakNqAyICisIQgb9BN4CWwDZ/Qf99f0g/5sADQCv/nn8Kfs0+/T6rfqv+VL5RvqH+0n8TvtN+Nf1L/Sy87bzJPNp8vrxcvF88Qvxbu+J7YHqvOnm6QXrJO2W7Qrufu647vXu0e3s65vqxOmN6j/r0OuU61/qWOm+587lNuR045niNeMb4wPkJeMF4WzeXdpd2oTd4uZ58Wf8nwW8C+MPoxFbEs0Qyw5vDd0O6xFUFhAaiRolF14R1wtaB2UDhv9S/Pv6P/xr/24CjQPiAqsBdAGQAlEFRQlXDcAQpxPsFvYZjhsEG+wYmBY9FRgVRBUFFJgR2w40DN8JMwfoBNsCsgF7ARcDdQVzB8kH1QdNCVkM5BDKEwwWyRZ0GDwarxomGVcVOhLcD7IOxw3JDFkLWAljBzIGLwXqAwgCKQDD//YAqAPlBbsF/wRWBBgERQRjAmYAhP6C/Xv+K/51/vj8Ivsp+on4YvgY9yL2tvS38zr0P/Xu9QX1afNX8hDyjfIG80/yqfHN8MnxgPL98djxNvDR70HwuPBA8qnxa/F18fDwOfJY8Y7wEu9c7dfsN+zq67Lq0OlI6T7qZ+oi6hPph+ck5uDkJ+OB4IjfTuLy6tD1aAEpCT0MugzjC2IMNgz9CrMJNwmRC9IPQxMqEywOcQf6AVX/dP7L/aj8M/zx/Kb/LQOSBVoG4AUABngHvwrbDqYRsRIAE6sTVxXBFosWeRR2EaoOuAwbC/UIXQZfBJMD7gOmBAAFlQSXA94CoANeBXYHfQloC/kO2RLEFiAYVRdFFdsSYhJoEX0Q6g5tDawMkAs/Cs8HxgQGAlcArQBVAusDrgTEBM4EewVtBp0GkgXMA/QCAwMqAyQDoAHY/7P+ov3l/QX9hPv5+ez3Dfi191D4m/jv94f4xfil+bH52vhJ9871c/Ws9cv1I/YD9q71tPWz9Yr1A/U29ETzgPN99Pz1o/bN9mL2gPUf9ej0bPTG87bz8fPq8/bzDvRX87DyQPJ78rPy+fIe807yr/Eb8Wrw2u5P7DHqMuiP5kjmIOmc8On6ggRwCTIJ9wanBr4IewrRCZ0HUQc/Cs0OchGXD24K3ATOAa0BGQKAAXj/yf18/q0B8QV6CFcIvQbRBfMGRAkkCwAMUwwuDToPhhFwEuAQMg0oCVgGagWGBXMFEAWpBPYEWQUMBfADWwJqAQ4CTASmB7IKTAzdDIgMYw28DrQPQA9+DQENtQ33DmIO0guxCEkGjQVQBV0EqgKdAQoCCwNMBBwFhQXXBOsDnwPeAwYELwPAAaUAQQF5AtgCCgFe/nL8Dfwx/H/7VPpj+Z755PrZ+yj8l/uS+tz56fmY+gb7Mvv9+pX6WPq3+lD64Pjn9uH19fUy9sv22vbG9pD2evb19mr23PUe9VH0pvRz9Sj3zPdG+H34gvjJ+Nb4O/jB9mz2IvaD9r32Evc692P2l/YN9kz14/Mf8tXwb+8y793une7q7l/wNfTD+ukCuggBCg0I0gVIBgcJbQv4CuAIUgggCn4MggxfCVYEFgBd/uT+1v/2/yT/uP6j/1sCZQWwBtkFHgQABPIFCglgC34M6QxQDaYNXQ0vDNwJXgdoBXsEggTMBMEE+gMVA4cCeAJaAkMCQQIMA8QE7gamCFwJdAmJCZcJPwpSDPYM+gsdCtkJ7Ql4Cc4IUgagA0YCBwNAAzkCMgEEAVYB6gHlAiwDowJ8Ae8AvQEfA20E/AMFAygC+wFSAuoBpACX/sH90/3C/SD9rfy+++n6mvr8+pv7X/t6+zf7RvvF+x/8APz++jH6E/o5+jT6WvpR+rr6tvpk+mv65/lq+bn4iPh++Kn4//gx+Qf57fi9+ff52fmi+Vb5QPog+pv6C/u1+gb7HfoO+rT54vle+lv6ofrj+p/73Pvw+3D76/qP+vb5yvkH+Zn4yPel9iT2fvWW9WH2uPnp/uwDmgYuBtEEdQQ2BlwI4AjWBwIH3weyCeQKYQoWCDgF/AJQAnICbAKNAWEAWgDLAdIDyQQfBL4CGwItAx8FwQbGB3oIGAmHCcgJewmgCHMHcAYLBh4GOAbVBQoFUwTWA60DRgN1AnYBQQHyAdkCwAMUBbkGagdWBzkHwgc6CDIIiweYBkYGxwb/BvcFOgQBAycCJgFlAKH/RP/u/rD+wP44/8v/8P+n/yT/Vv8WAH4AUgAvAIEAGAESAWYAUf9K/m79i/wa/Oz72PuA++z6VPpO+nX6/vlK+d34SPnO+Zz6J/t1+zz8dvxe/NP7xfvj+4P7TvvC+gj7GPvq+pb6Gfp0+sv5Yfmy+JT4K/mg+aX6ovob+477ivtc++/6u/s//G782vzw/ED9Fv3j/Cf8HvtW+l/5Y/hI94r21fVL9bT1ZPjx/B8BSwMgA5gCEQOFBD4GAwceBxsHegdvCE4JjgllCOUFcAMGArIBbwGOAKz/m/+EAKwBHgLHATUB5AB4AbYCWwTzBeAGWAeLB+YHSQgDCDcHXwbLBWYF5AREBJsDHgOTAggCbwHZAG4AIQBeAA4BBgLoAkoDWgPSA7QEWgVYBUUFSga4BzsIfgegBikG3wV9BX0EYAOmAi8CfQHrAM0AlQDh//j+kf6a/g//NP8J/1H/HAD7AAIB2QCGAGgASADk/4T/F/8R/5T+8v2T/Wj98vy6+/76mfr3+nj7PPtG+3D79fvp++L7IvwW/Cf8Gfx3/Bb9m/2Y/QX9t/yt/HH8Hfya+3j7mPvF++P7v/vS+7P7nPuM+7z76vsI/Br8Nvz2/Gf9zv2I/Tz9Yf0x/Uz9/Pzd/Mb8N/yU+5z66fk7+VP43vfr+BH8DgCZAsUCxAFbAWMCxAOYBMwEoQT9BPkFcwedCDsIVAa5AzoCMwKjAqMC5AFxAccBcQKtAkgCdQGhAHwAPQGUAsgDUwRiBJEEIwXDBekFVwV+BNoDvwPpA/kD0QONAzQDkgLHARIBjAAfAO3/GwCqAD4BWgEsAQABKAGPAb8B3wEMAnkCCwORAxwEbAQ1BJUDFgPfArgCVwL8AfAB4AHZAaEBHQEtAID/6/6r/uT+3v4L/+v+Ef8S//3+6/6f/qL+jP6r/vb+Kf8i/wH/8/6X/iT+tv0r/fz8v/yo/J38ofyO/Ev8OfzY+8X7w/v8+0z8hfzf/P38Qf1//XP9W/0d/fL86fz1/DT9PP1j/Vb9Nv1n/XD9bv05/RX9Af0M/TX9Pf1D/VP9U/1F/aP96f0n/gv+Cf4z/hX+Zv5b/n7+k/5U/j/+6v3N/Y39S/0K/cD80vwA/Wz94/25/q3/eAD2AFoB0gFbAhwDhgPdAywEoAQQBSgFHwXlBKQEPATFA5ADTgPuAngCIgLsAbMBjgFvAUgBJQEyAVgBuAH7AT8CoAL3Ak0DagOtA70D3APlA70D0gOhA34DQwPZAmMC7QGsAasBUgG2AJgAAgFlARsBpACbAOAAJQFrAcgBNAJCAvkBsQHeAfgBsAH6AFgAZgBZADUAkf8n/wP/6P6o/lb+eP5d/i7+1P0R/or+qv6Q/mj+j/7J/tf+vv4O/zX/OP/n/q7+wf6N/lH+2v2y/aT9g/1C/f38Hf0b/Tv9KP08/Wr9dv2m/cP9NP6E/rL+i/5z/or+n/61/oP+YP5q/oj+f/5m/nb+i/6G/lH+Q/5K/kn+Z/5g/pT+2v7l/qL+S/5D/mD+Ov7h/bD9hf1g/Zz9pP73/88AxwBvAOAAtwFqApECdAKZAgADlwMbBH4EbQTXA0IDIANSA2YDAgN4AjQCXgKLAlwC+AGMAT8BTQGIAdwB9gHuARMCSALGAhIDEwPrAt4CIwNYA2cDRAMjAygDDwPaApkCMAKvAVIBOAFPAT8B3gB4AEIATwBgAFQAQAA3AB4ARwCOAMcA9AD6ABMBKgFHARgB9gDeANwAuQB8AGwAIwDp/33/Yv9T/zf/Iv/L/sr+zf7K/sL+nf6f/qz+s/7d/gz/MP84/yX/P/9f/0v/Av/z/hL/CP/R/oH+X/5d/kX+Cf7i/fL99v3K/bT94/0A/hj+Bf4K/kr+gf5t/kX+pf7d/rr+gf6O/tr+8f64/pD+lf6K/mX+Tv6B/rT+qf6V/pX+vP72/gL/5/7U/vv+Mv9H/1r/bv+g/7f/qf+y/8L/x/+l/5j/4v8jADYAOAAvAFkAeQB8AHYAggCLAJ0AwQDnAB8BNQE7AUYBawGmAdYB0QHdAfUBIAJHAkgCUAI/AkMCLQIIAgUC8gG9AYwBhwFzAUQB/QDHAKwAigB1AGEAVgBKAEEAVABUAEkAQwAxADMALQBKAHMAaABgAFcAYABZAEYAJAD+/+r/zP/S/8b/qP+e/4L/gP95/3X/gf9X/zv/QP9O/3D/Uv9F/0X/QP9U/0f/Rv8w/zz/Vv93/53/jP9q/27/af9Y/0f/F//7/sT+1v4D/wn/I/8e/x7/If86/zX/Jv8e/x3/M/9M/2T/Tv8n/w//G/9H/1b/Pf9M/1r/XP9U/1j/a/9U/zr/Nf9j/4z/iv+V/6v/yv/P/9f/9f8GACwAUQB6AJ4AwQDoAAoBMgFqAZIBnwG5AeYBIwJOAlcCZwKJAosChQKEAocCfwJdAk8CRwIoAg8C4gG2AZoBXgETAd4A2QDIAJEAawBhAFgAdQBqAFsAdwB7AHMAbwCCAJ8AtwCkAKcAywDOALUApwCgAJgAggBQADkAHwD8/97/u/+z/7f/pf+a/4b/kf+Y/4b/gf9z/4//ov+j/7L/yP/L/7r/rf+K/4D/dv9Z/0z/R/8z/xn/EP/u/tX+tf6J/on+g/6G/n/+bv55/mj+c/5z/oL+qf62/rb+qf68/sn+1v7b/s3+1/7Q/sf+3f7k/vX+2P7O/sb+0P73/hD/Hv81/2r/j//b/xoAVwCMANMAHgFcAY0BuwHZAe0BEwIWAkcCXwJYAlECNwInAgsC7QG6AYUBYQFCASUB+ACvAIMAXgBCACMA+P/i/8b/vf/E//b/DAASABIAJQBTAHcAkgBUAEcATABCAEQAOwA9ADcANgAxAC8AKwAnACIAIgAfABwAGAAVABQAEQAOAAoACAAGAAQAAwAAAAAA///9//z/+//5//f/9v/z//H/7//u/+3/7P/t/+v/6v/q/+n/6f/o/+f/5v/m/+X/5P/l/+X/5f/l/+X/5f/l/+X/5f/l/+X/5v/m/+b/5v/n/+j/6v/p/+n/6v/q/+z/7P/t/+z/7f/u/+7/8P/x//H/8v/z//T/9v/3//f/+P/5//n/+//8//v//P/9//3//////wAAAAAAAAAAAAAAAAAAAQADAAMAAwAEAAUABQAEAAUABQAHAAgABwAIAAkACAAJAAoACgAKAAoACgAMAAoADAAOAA0ADgANAA4ADQAOAA4ADwAOAA4ADwAOAA8ADgAPAA8ADwAPAA8ADgAOAA0ADQANAA4ADQAOAA4ADAAMAAsACwALAAoADAAKAAkACwAJAAoACQAIAAkACAAJAAgABwAIAAcABwAGAAYABwAFAAcABQAEAAUABAAFAAQABQAEAAUABAADAAQABAADAAQAAwAEAAMAAQADAAEAAwADAAIAAQAAAAEAAAABAAAAAQAAAAEAAQAAAAAAAAAAAAAAAAAAAAAAAAAAAAAAAAAAAAAAAAAAAAAAAAAAAAAAAAAAAAAAAAAAAAAAAAAAAAAAAAAAAAAAAAAAAAAAAAAAAAAAAAAAAAAAAAAAAAAAAAAAAAAAAAAAAAAAAAAAAAAAAAAAAAAAAAAAAAAAAAAAAAAAAAAAAAAAAAAAAAAAAAAAAAAAAAAAAAAAAAAAAAAAAAAAAAAAAAAAAAAAAAAAAAAAAAAAAAAAAAAAAAAAAQABAAAAAQAAAAEAAQABAAEAAQABAAEAAAABAAAAAQAAAAAAAgAAAAAAAAAAAAAAAAAAAAAAAAAAAAAAAAAAAAAAAAAAAAAAAAAAAAAAAAAAAAAAAAAAAAAAAAAAAAAAAAAAAAAAAAAAAAAAAAAAAAAAAAAAAAAAAAAAAAAAAAAAAAAAAAAAAAAAAAAAAAAAAAAAAAAAAAAAAAAAAAAAAAAAAAAAAAAAAAAAAAAAAAAAAAAAAAAAAAAAAAAAAAAAAAAAAAAAAAAAAAAAAAAAAAAAAAAAAAAAAAAAAAAAAAAAAAAAAAAAAAAAAAAAAAAAAAAAAAAAAAAAAAAAAAAAAAAAAAAAAAAAAAAAAAAAAAAAAAAAAAAAAAAAAAAAAAAAAAAAAAAAAAAAAAAAAAAAAAAAAAAAAAAAAAAAAAAAAAAAAAAAAAAAAAAAAAAAAAAAAAAAAAAAAAAAAAAAAAAAAAAAAAAAAAAAAAAAAAAAAAAAAAAAAAAAAAAAAAAAAAAAAAAAAAAAAAAAAAAAAAAAAAAAAAAAAAAAAAAAAAAAAAAAAAAAAAAAAAAAAAAAAAAAAAAAAAAAAAAAAAAAAAAAAAAAAAAAAAAAAAAAAAAAAAAAAAAAAAAAAAAAAAAAAAAAAAAAAAAAAAAAAAAAAAAAAAAAAAAAAAAAAAAAAAAAAAAAAAAAAAAAAAAAAAAAAAAAAAAAAAAAAAAAAAAAAAAAAAAAAAAAAAAAAAAAAAAAAAAAAAAAAAAAAAAAAAAAAAAAAAAAAAAAAAAAAAAAAAAAAAAAAAAAAAAAAAAAAAAAAAAAAAAAAAAAAAAAAAAAAAAAAAAAAAAAAAAAAAAAAAAAAAAAAAAAAAAAAAAAAAAAAAAAAAAAAAAAAAAAAAAAAAAAAAAAAAAAAAAAAAAAAAAAAAAAAAAAAAAAAAAAAAAAAAAAAAAAAAAAAAAAAAAAAAAAAAAAAAAAAAAAAAAAAAAAAAAAAAAAAAAAAAAAAAAAAAAAAAAAAAAAAAAAAAAAAAAAAAAAAAAAAAAAAAAAAAAAAAAAAAAAAAAAAAAAAAAAAAAAAAAAAAAAAAAAAAAAAAAAAAAAAAAAAAAAAAAAAAAAAAAAAAAAAAAAAAAAAAAAAAAAAAAAAAAAAAAAAAAAAAAAAAAAAAAAAAAAAAAAAAAAAAAAAAAAAAAAAAAAAAAAAAAAAAAAAAAAAAAAAAAAAAAAAAAAAAAAAAAAAAAAAAAAAAAAAAAAAAAAAAAAAAAAAAAAAAAAAAAAAAAAAAAAAAAAAAAAAAAAAAAAAAAAAAAAAAAAAAAAAAAAAAAAAAAAAAAAAAAAAAAAAAAAAAAAAAAAAAAAAAAAAAAAAAAAAAAAAAAAAAAAAAAAAAAAAAAAAAAAAAAAAAAAAAAAAAAAAAAAAAAAAAAAAAAAAAAAAAAAAAAAAAAAAAAAAAAAAAAAAAAAAAAAAAAAAAAAAAAAAAAAAAAAAAAAAAAAAAAAAAAAAAAAAAAAAAAAAAAAAAAAAAAAAAAAAAAAAAAAAAAAAAAAAAAAAAAAAAAAAAAAAAAAAAAAAAAAAAAAAAAAAAAAAAAAAAAAAAAAAAAAAAAAAAAAAAAAAAAAAAAAAAAAAAAAAAAAAAAAAAAAAAAAAAAAAAAAAAAAAAAAAAAAAAAAAAAAAAAAAAAAAAAAAAAAAAAAAAAAAAAAAAAAAAAAAAAAAAAAAAAAAAAAAAAAAAAAAAAAAAAAAAAAAAAAAAAAAAAAAAAAAAAAAAAAAAAAAAAAAAAAAAAAAAAAAAAAAAAAAAAAAAAAAAAAAAAAAAAAAAAAAAAAAAAAAAAAAAAAAAAAAAAAAAAAAAAAAAAAAAAAAAAAAAAAAAAAAAAAAAAAAAAAAAAAAAAAAAAAAAAAAAAAAAAAAAAAAAAAAAAAAAAAAAAAAAAAAAAAAAAAAAAAAAAAAAAAAAAAAAAAAAAAAAAAAAAAAAAAAAAAAAAAAAAAAAAAAAAAAAAAAAAAAAAAAAAAAAAAAAAAAAAAAAAAAAAAAAAAAAAAAAAAAAAAAAAAAAAAAAAAAAAAAAAAAAAAAAAAAAAAAAAAAAAAAAAAAAAAAAAAAAAAAAAAAAAAAAAAAAAAAAAAAAAAAAAAAAAAAAAAAAAAAAAAAAAAAAAAAAAAAAAAAAAAAAAAAAAAAAAAAAAAAAAAAAAAAAAAAAAAAAAAAAAAAAAAAAAAAAAAAAAAAAAAAAAAAAAAAAAAAAAAAAAAAAAAAAAAAAAAAAAAAAAAAAAAAAAAAAAAAAAAAAAAAAAAAAAAAAAAAAAAAAAAAAAAAAAAAAAAAAAAAAAAAAAAAAAAAAAAAAAAAAAAAAAAAAAAAAAAAAAAAAAAAAAAAAAAAAAAAAAAAAAAAAAAAAAAAAAAAAAAAAAAAAAAAAAAAAAAAAAAAAAAAAAAAAAAAAAAAAAAAAAAAAAAAAAAAAAAAAAAAAAAAAAAAAAAAAAAAAAAAAAAAAAAAAAAAAAAAAAAAAAAAAAAAAAAAAAAAAAAAAAAAAAAAAAAAAAAAAAAAAAAAAAAAAAAAAAAAAAAAAAAAAAAAAAAAAAAAAAAAAAAAAAAAAAAAAAAAAAAAAAAAAAAAAAAAAAAAAAAAAAAAAAAAAAAAAAAAAAAAAAAAAAAAAAAAAAAAAAAAAAAAAAAAAAAAAAAAAAAAAAAAAAAAAAAAAAAAAAAAAAAAAAAAAAAAAAAAAAAAAAAAAAAAAAAAAAAAAAAAAAAAAAAAAAAAAAAAAAAAAAAAAAAAAAAAAAAAAAAAAAAAAAAAAAAAAAAAAAAAAAAAAAAAAAAAAAAAAAAAAAAAAAAAAAAAAAAAAAAAAAAAAAAAAAAAAAAAAAAAAAAAAAAAAAAAAAAAAAAAAAAAAAAAAAAAAAAAAAAAAAAAAAAAAAAAAAAAAAAAAAAAAAAAAAAAAAAAAAAAAAAAAAAAAAAAAAAAAAAAAAAAAAAAAAAAAAAAAAAAAAAAAAAAAAAAAAAAAAAAAAAAAAAAAAAAAAAAAAAAAAAAAAAAAAAAAAAAAAAAAAAAAAAAAAAAAAAAAAAAAAAAAAAAAAAAAAAAAAAAAAAAAAAAAAAAAAAAAAAAAAAAAAAAAAAAAAAAAAAAAAAAAAAAAAAAAAAAAAAAAAAAAAAAAAAAAAAAAAAAAAAAAAAAAAAAAAAAAAAAAAAAAAAAAAAAAAAAAAAAAAAAAAAAAAAAAAAAAAAAAAAAAAAAAAAAAAAAAAAAAAAAAAAAAAAAAAAAAAAAAAAAAAAAAAAAAAAAAAAAAAAAAAAAAAAAAAAAAAAAAAAAAAAAAAAAAAAAAAAAAAAAAAAAAAAAAAAAAAAAAAAAAAAAAAAAAAAAAAAAAAAAAAAAAAAAAAAAAAAAAAAAAAAAAAAAAAAAAAAAAAAAAAAAAAAAAAAAAAAAAAAAAAAAAAAAAAAAAAAAAAAAAAAAAAAAAAAAAAAAAAAAAAAAAAAAAAAAAAAAAAAAAAAAAAAAAAAAAAAAAAAAAAAAAAAAAAAAAAAAAAAAAAAAAAAAAAAAAAAAAAAAAAAAAAAAAAAAAAAAAAAAAAAAAAAAAAAAAAAAAAAAAAAAAAAAAAAAAAAAAAAAAAAAAAAAAAAAAAAAAAAAAAAAAAAAAAAAAAAAAAAAAAAAAAAAAAAAAAAAAAAAAAAAAAAAAAAAAAAAAAAAAAAAAAAAAAAAAAAAAAAAAAAAAAAAAAAAAAAAAAAAAAAAAAAAAAAAAAAAAAAAAAAAAAAAAAAAAAAAAAAAAAAAAAAAAAAAAAAAAAAAAAAAAAAAAAAAAAAAAAAAAAAAAAAAAAAAAAAAAAAAAAAAAAAAAAAAAAAAAAAAAAAAAAAAAAAAAAAAAAAAAAAAAAAAAAAAAAAAAAAAAAAAAAAAAAAAAAAAAAAAAAAAAAAAAAAAAAAAAAAAAAAAAAAAAAAAAAAAAAAAAAAAAAAAAAAAAAAAAAAAAAAAAAAAAAAAAAAAAAAAAAAAAAAAAAAAAAAAAAAAAAAAAAAAAAAAAAAAAAAAAAAAAAAAAAAAAAAAAAAAAAAAAAAAAAAAAAAAAAAAAAAAAAAAAAAAAAAAAAAAAAAAAAAAAAAAAAAAAAAAAAAAAAAAAAAAAAAAAAAAAAAAAAAAAAAAAAAAAAAAAAAAAAAAAAAAAAAAAAAAAAAAAAAAAAAAAAAAAAAAAAAAAAAAAAAAAAAAAAAAAAAAAAAAAAAAAAAAAAAAAAAAAAAAAAAAAAAAAAAAAAAAAAAAAAAAAAAAAAAAAAAAAAAAAAAAAAAAAAAAAAAAAAAAAAAAAAAAAAAAAAAAAAAAAAAAAAAAAAAAAAAAAAAAAAAAAAAAAAAAAAAAAAAAAAAAAAAAAAAAAAAAAAAAAAAAAAAAAAAAAAAAAAAAAAAAAAAAAAAAAAAAAAAAAAAAAAAAAAAAAAAAAAAAAAAAAAAAAAAAAAAAAAAAAAAAAAAAAAAAAAAAAAAAAAAAAAAAAAAAAAAAAAAAAAAAAAAAAAAAAAAAAAAAAAAAAAAAAAAAAAAAAAAAAAAAAAAAAAAAAAAAAAAAAAAAAAAAAAAAAAAAAAAAAAAAAAAAAAAAAAAAAAAAAAAAAAAAAAAAAAAAAAAAAAAAAAAAAAAAAAAAAAAAAAAAAAAAAAAAAAAAAAAAAAAAAAAAAAAAAAAAAAAAAAAAAAAAAAAAAAAAAAAAAAAAAAAAAAAAAAAAAAAAAAAAAAAAAAAAAAAAAAAAAAAAAAAAAAAAAAAAAAAAAAAAAAAAAAAAAAAAAAAAAAAAAAAAAAAAAAAAAAAAAAAAAAAAAAAAAAAAAAAAAAAAAAAAAAAAAAAAAAAAAAAAAAAAAAAAAAAAAAAAAAAAAAAAAAAAAAAAAAAAAAAAAAAAAAAAAAAAAAAAAAAAAAAAAAAAAAAAAAAAAAAAAAAAAAAAAAAAAAAAAAAAAAAAAAAAAAAAAAAAAAAAAAAAAAAAAAAAAAAAAAAAAAAAAAAAAAAAAAAAAAAAAAAAAAAAAAAAAAAAAAAAAAAAAAAAAAAAAAAAAAAAAAAAAAAAAAAAAAAAAAAAAAAAAAAAAAAAAAAAAAAAAAAAAAAAAAAAAAAAAAAAAAAAAAAAAAAAAAAAAAAAAAAAAAAAAAAAAAAAAAAAAAAAAAAAAAAAAAAAAAAAAAAAAAAAAAAAAAAAAAAAAAAAAAAAAAAAAAAAAAAAAAAAAAAAAAAAAAAAAAAAAAAAAAAAAAAAAAAAAAAAAAAAAAAAAAAAAAAAAAAAAAAAAAAAAAAAAAAAAAAAAAAAAAAAAAAAAAAAAAAAAAAAAAAAAAAAAAAAAAAAAAAAAAAAAAAAAAAAAAAAAAAAAAAAAAAAAAAAAAAAAAAAAAAAAAAAAAAAAAAAAAAAAAAAAAAAAAAAAAAAAAAAAAAAAAAAAAAAAAAAAAAAAAAAAAAAAAAAAAAAAAAAAAAAAAAAAAAAAAAAAAAAAAAAAAAAAAAAAAAAAAAAAAAAAAAAAAAAAAAAAAAAAAAAAAAAAAAAAAAAAAAAAAAAAAAAAAAAAAAAAAAAAAAAAAAAAAAAAAAAAAAAAAAAAAAAAAAAAAAAAAAAAAAAAAAAAAAAAAAAAAAAAAAAAAAAAAAAAAAAAAAAAAAAAAAAAAAAAAAAAAAAAAAAAAAAAAAAAAAAAAAAAAAAAAAAAAAAAAAAAAAAAAAAAAAAAAAAAAAAAAAAAAAAAAAAAAAAAAAAAAAAAAAAAAAAAAAAAAAAAAAAAAAAAAAAAAAAAAAAAAAAAAAAAAAAAAAAAAAAAAAAAAAAAAAAAAAAAAAAAAAAAAAAAAAAAAAAAAAAAAAAAAAAAAAAAAAAAAAAAAAAAAAAAAAAAAAAAAAAAAAAAAAAAAAAAAAAAAAAAAAAAAAAAAAAAAAAAAAAAAAAAAAAAAAAAAAAAAAAAAAAAAAAAAAAAAAAAAAAAAAAAAAAAAAAAAAAAAAAAAAAAAAAAAAAAAAAAAAAAAAAAAAAAAAAAAAAAAAAAAAAAAAAAAAAAAAAAAAAAAAAAAAAAAAAAAAAAAAAAAAAAAAAAAAAAAAAAAAAAAAAAAAAAAAAAAAAAAAAAAAAAAAAAAAAAAAAAAAAAAAAAAAAAAAAAAAAAAAAAAAAAAAAAAAAAAAAAAAAAAAAAAAAAAAAAAAAAAAAAAAAAAAAAAAAAAAAAAAAAAAAAAAAAAAAAAAAAAAAAAAAAAAAAAAAAAAAAAAAAAAAAAAAAAAAAAAAAAAAAAAAAAAAAAAAAAAAAAAAAAAAAAAAAAAAAAAAAAAAAAAAAAAAAAAAAAAAAAAAAAAAAAAAAAAAAAAAAAAAAAAAAAAAAAAAAAAAAAAAAAAAAAAAAAAAAAAAAAAAAAAAAAAAAAAAAAAAAAAAAAAAAAAAAAAAAAAAAAAAAAAAAAAAAAAAAAAAAAAAAAAAAAAAAAAAAAAAAAAAAAAAAAAAAAAAAAAAAAAAAAAAAAAAAAAAAAAAAAAAAAAAAAAAAAAAAAAAAAAAAAAAAAAAAAAAAAAAAAAAAAAAAAAAAAAAAAAAAAAAAAAAAAAAAAAAAAAAAAAAAAAAAAAAAAAAAAAAAAAAAAAAAAAAAAAAAAAAAAAAAAAAAAAAAAAAAAAAAAAAAAAAAAAAAAAAAAAAAAAAAAAAAAAAAAAAAAAAAAAAAAAAAAAAAAAAAAAAAAAAAAAAAAAAAAAAAAAAAAAAAAAAAAAAAAAAAAAAAAAAAAAAAAAAAAAAAAAAAAAAAAAAAAAAAAAAAAAAAAAAAAAAAAAAAAAAAAAAAAAAAAAAAAAAAAAAAAAAAAAAAAAAAAAAAAAAAAAAAAAAAAAAAAAAAAAAAAAAAAAAAAAAAAAAAAAAAAAAAAAAAAAAAAAAAAAAAAAAAAAAAAAAAAAAAAAAAAAAAAAAAAAAAAAAAAAAAAAAAAAAAAAAAAAAAAAAAAAAAAAAAAAAAAAAAAAAAAAAAAAAAAAAAAAAAAAAAAAAAAAAAAAAAAAAAAAAAAAAAAAAAAAAAAAAAAAAAAAAAAAAAAAAAAAAAAAAAAAAAAAAAAAAAAAAAAAAAAAAAAAAAAAAAAAAAAAAAAAAAAAAAAAAAAAAAAAAAAAAAAAAAAAAAAAAAAAAAAAAAAAAAAAAAAAAAAAAAAAAAAAAAAAAAAAAAAAAAAAAAAAAAAAAAAAAAAAAAAAAAAAAAAAAAAAAAAAAAAAAAAAAAAAAAAAAAAAAAAAAAAAAAAAAAAAAAAAAAAAAAAAAAAAAAAAAAAAAAAAAAAAAAAAAAAAAAAAAAAAAAAAAAAAAAAAAAAAAAAAAAAAAAAAAAAAAAAAAAAAAAAAAAAAAAAAAAAAAAAAAAAAAAAAAAAAAAAAAAAAAAAAAAAAAAAAAAAAAAAAAAAAAAAAAAAAAAAAAAAAAAAAAAAAAAAAAAAAAAAAAAAAAAAAAAAAAAAAAAAAAAAAAAAAAAAAAAAAAAAAAAAAAAAAAAAAAAAAAAAAAAAAAAAAAAAAAAAAAAAAAAAAAAAAAAAAAAAAAAAAAAAAAAAAAAAAAAAAAAAAAAAAAAAAAAAAAAAAAAAAAAAAAAAAAAAAAAAAAAAAAAAAAAAAAAAAAAAAAAAAAAAAAAAAAAAAAAAAAAAAAAAAAAAAAAAAAAAAAAAAAAAAAAAAAAAAAAAAAAAAAAAAAAAAAAAAAAAAAAAAAAAAAAAAAAAAAAAAAAAAAAAAAAAAAAAAAAAAAAAAAAAAAAAAAAAAAAAAAAAAAAAAAAAAAAAAAAAAAAAAAAAAAAAAAAAAAAAAAAAAAAAAAAAAAAAAAAAAAAAAAAAAAAAAAAAAAAAAAAAAAAAAAAAAAAAAAAAAAAAAAAAAAAAAAAAAAAAAAAAAAAAAAAAAAAAAAAAAAAAAAAAAAAAAAAAAAAAAAAAAAAAAAAAAAAAAAAAAAAAAAAAAAAAAAAAAAAAAAAAAAAAAAAAAAAAAAAAAAAAAAAAAAAAAAAAAAAAAAAAAAAAAAAAAAAAAAAAAAAAAAAAAAAAAAAAAAAAAAAAAAAAAAAAAAAAAAAAAAAAAAAAAAAAAAAAAAAAAAAAAAAAAAAAAAAAAAAAAAAAAAAAAAAAAAAAAAAAAAAAAAAAAAAAAAAAAAAAAAAAAAAAAAAAAAAAAAAAAAAAAAAAAAAAAAAAAAAAAAAAAAAAAAAAAAAAAAAAAAAAAAAAAAAAAAAAAAAAAAAAAAAAAAAAAAAAAAAAAAAAAAAAAAAAAAAAAAAAAAAAAAAAAAAAAAAAAAAAAAAAAAAAAAAAAAAAAAAAAAAAAAAAAAAAAAAAAAAAAAAAAAAAAAAAAAAAAAAAAAAAAAAAAAAAAAAAAAAAAAAAAAAAAAAAAAAAAAAAAAAAAAAAAAAAAAAAAAAAAAAAAAAAAAAAAAAAAAAAAAAAAAAAAAAAAAAAAAAAAAAAAAAAAAAAAAAAAAAAAAAAAAAAAAAAAAAAAAAAAAAAAAAAAAAAAAAAAAAAAAAAAAAAAAAAAAAAAAAAAAAAAAAAAAAAAAAAAAAAAAAAAAAAAAAAAAAAAAAAAAAAAAAAAAAAAAAAAAAAAAAAAAAAAAAAAAAAAAAAAAAAAAAAAAAAAAAAAAAAAAAAAAAAAAAAAAAAAAAAAAAAAAAAAAAAAAAAAAAAAAAAAAAAAAAAAAAAAAAAAAAAAAAAAAAAAAAAAAAAAAAAAAAAAAAAAAAAAAAAAAAAAAAAAAAAAAAAAAAAAAAAAAAAAAAAAAAAAAAAAAAAAAAAAAAAAAAAAAAAAAAAAAAAAAAAAAAAAAAAAAAAAAAAAAAAAAAAAAAAAAAAAAAAAAAAAAAAAAAAAAAAAAAAAAAAAAAAAAAAAAAAAAAAAAAAAAAAAAAAAAAAAAAAAAAAAAAAAAAAAAAAAAAAAAAAAAAAAAAAAAAAAAAAAAAAAAAAAAAAAAAAAAAAAAAAAAAAAAAAAAAAAAAAAAAAAAAAAAAAAAAAAAAAAAAAAAAAAAAAAAAAAAAAAAAAAAAAAAAAAAAAAAAAAAAAAAAAAAAAAAAAAAAAAAAAAAAAAAAAAAAAAAAAAAAAAAAAAAAAAAAAAAAAAAAAAAAAAAAAAAAAAAAAAAAAAAAAAAAAAAAAAAAAAAAAAAAAAAAAAAAAAAAAAAAAAAAAAAAAAAAAAAAAAAAAAAAAAAAAAAAAAAAAAAAAAAAAAAAAAAAAAAAAAAAAAAAAAAAAAAAAAAAAAAAAAAAAAAAAAAAAAAAAAAAAAAAAAAAAAAAAAAAAAAAAAAAAAAAAAAAAAAAAAAAAAAAAAAAAAAAAAAAAAAAAAAAAAAAAAAAAAAAAAAAAAAAAAAAAAAAAAAAAAAAAAAAAAAAAAAAAAAAAAAAAAAAAAAAAAAAAAAAAAAAAAAAAAAAAAAAAAAAAAAAAAAAAAAAAAAAAAAAAAAAAAAAAAAAAAAAAAAAAAAAAAAAAAAAAAAAAAAAAAAAAAAAAAAAAAAAAAAAAAAAAAAAAAAAAAAAAAAAAAAAAAAAAAAAAAAAAAAAAAAAAAAAAAAAAAAAAAAAAAAAAAAAAAAAAAAAAAAAAAAAAAAAAAAAAAAAAAAAAAAAAAAAAAAAAAAAAAAAAAAAAAAAAAAAAAAAAAAAAAAAAAAAAAAAAAAAAAAAAAAAAAAAAAAAAAAAAAAAAAAAAAAAAAAAAAAAAAAAAAAAAAAAAAAAAAAAAAAAAAAAAAAAAAAAAAAAAAAAAAAAAAAAAAAAAAAAAAAAAAAAAAAAAAAAAAAAAAAAAAAAAAAAAAAAAAAAAAAAAAAAAAAAAAAAAAAAAAAAAAAAAAAAAAAAAAAAAAAAAAAAAAAAAAAAAAAAAAAAAAAAAAAAAAAA==\" type=\"audio/wav\" />\n",
       "                    Your browser does not support the audio element.\n",
       "                </audio>\n",
       "              "
      ],
      "text/plain": [
       "<IPython.lib.display.Audio object>"
      ]
     },
     "execution_count": 33,
     "metadata": {},
     "output_type": "execute_result"
    }
   ],
   "source": [
    "import IPython.display as ipd\n",
    "import numpy as np\n",
    "import random\n",
    "\n",
    "rand_int = random.randint(0, len(common_voice_train)-1)\n",
    "\n",
    "ipd.Audio(data=np.asarray(common_voice_train[rand_int][\"speech\"]), autoplay=True, rate=16000)"
   ]
  },
  {
   "cell_type": "markdown",
   "metadata": {
    "id": "1MaL9J2dNVtG"
   },
   "source": [
    "It can be heard, that the speakers change along with their speaking rate, accent, and background environment, etc. Overall, the recordings sound acceptably clear though, which is to be expected from a crowd-sourced read speech corpus.\n",
    "\n",
    "Let's do a final check that the data is correctly prepared, by printing the shape of the speech input, its transcription, and the corresponding sampling rate.\n",
    "\n",
    "**Note**: *You can click the following cell a couple of times to verify multiple samples.*"
   ]
  },
  {
   "cell_type": "code",
   "execution_count": 34,
   "metadata": {
    "colab": {
     "base_uri": "https://localhost:8080/"
    },
    "id": "1Po2g7YPuRTx",
    "outputId": "96b0b82c-a5df-4ae6-d17b-9c7d4f710b42"
   },
   "outputs": [
    {
     "name": "stdout",
     "output_type": "stream",
     "text": [
      "Target text: ആകാശത്തെ തൊട്ട് അജയ്യത തെളിയിച്ച് തൊട്ടടുത്ത നിമിഷം ഭസ്മമായി \n",
      "Input array shape: (82241,)\n",
      "Sampling rate: 16000\n"
     ]
    }
   ],
   "source": [
    "rand_int = random.randint(0, len(common_voice_train)-1)\n",
    "\n",
    "print(\"Target text:\", common_voice_train[rand_int][\"target_text\"])\n",
    "print(\"Input array shape:\", np.asarray(common_voice_train[rand_int][\"speech\"]).shape)\n",
    "print(\"Sampling rate:\", common_voice_train[rand_int][\"sampling_rate\"])"
   ]
  },
  {
   "cell_type": "markdown",
   "metadata": {
    "id": "M9teZcSwOBJ4"
   },
   "source": [
    "Good! Everything looks fine - the data is a 1-dimensional array, the sampling rate always corresponds to 16kHz, and the target text is normalized."
   ]
  },
  {
   "cell_type": "markdown",
   "metadata": {
    "id": "k3Pbn5WvOYZF"
   },
   "source": [
    "Finally, we can process the dataset to the format expected by the model for training. We will again make use of the `map(...)` function.\n",
    "\n",
    "First, we check that the data samples have the same sampling rate of 16kHz.\n",
    "Second, we extract the `input_values` from the loaded audio file. In our case, this includes only normalization, but for other speech models, this step could correspond to extracting, *e.g.* [Log-Mel features](https://en.wikipedia.org/wiki/Mel-frequency_cepstrum). \n",
    "Third, we encode the transcriptions to label ids.\n",
    "\n",
    "**Note**: This mapping function is a good example of how the `Wav2Vec2Processor` class should be used. In \"normal\" context, calling `processor(...)` is redirected to `Wav2Vec2FeatureExtractor`'s call method. When wrapping the processor into the `as_target_processor` context, however, the same method is redirected to `Wav2Vec2CTCTokenizer`'s call method.\n",
    "For more information please check the [docs](https://huggingface.co/transformers/master/model_doc/wav2vec2.html#transformers.Wav2Vec2Processor.__call__)."
   ]
  },
  {
   "cell_type": "code",
   "execution_count": 35,
   "metadata": {
    "id": "eJY7I0XAwe9p"
   },
   "outputs": [],
   "source": [
    "def prepare_dataset(batch):\n",
    "    # check that all files have the correct sampling rate\n",
    "    assert (\n",
    "        len(set(batch[\"sampling_rate\"])) == 1\n",
    "    ), f\"Make sure all inputs have the same sampling rate of {processor.feature_extractor.sampling_rate}.\"\n",
    "\n",
    "    batch[\"input_values\"] = processor(batch[\"speech\"], sampling_rate=batch[\"sampling_rate\"][0]).input_values\n",
    "    \n",
    "    with processor.as_target_processor():\n",
    "        batch[\"labels\"] = processor(batch[\"target_text\"]).input_ids\n",
    "    return batch"
   ]
  },
  {
   "cell_type": "code",
   "execution_count": 36,
   "metadata": {
    "colab": {
     "base_uri": "https://localhost:8080/",
     "height": 509,
     "referenced_widgets": [
      "4797f1acd9924b4e97f12f964c83078c",
      "73940df84ffd4e0f96637342e9fd12b7",
      "5370c0f2d54b45c0a89f11fb5b70cd4b",
      "018c1f8e198e4df4b480e609bd1be602",
      "fa7926bbe77e48b3a0648b45f5d2dc7a",
      "020bdb330b0d40f5b89697ff37025f69",
      "d35c15beeb33476894b07c3563f8facd",
      "768ab09956774f50a79b2493a8bf179b",
      "7ef969e47c2d429a9848d5ab3f5bb2d9",
      "fe62265afdc74026b7e9c5a50ef61d2c",
      "015c5690e1ea4281954c7efda1c80a6a",
      "f4135dd72864445391f43f387635bfdc",
      "2f727c76652944e3892dd584bea11af2",
      "dec796237765477ea904834d9a824b61",
      "8df9d19602cb4951b397c385458a11ef",
      "923ed9e127524187ab8cfcac31164ba7",
      "bf9e57d81135412d9a9a2281f28bd52a",
      "c41610c0baef412984f8661d96e08b7e",
      "579b6055028f473981ce789a0733a753",
      "4fb7347e9ca542e6ab9003bf4db218e0",
      "3133b378b9294a759c8dfb786ed8f815",
      "6de66d6b7a73434cbdc59b2109bdf0a0",
      "6d4a26d876fb4ac6b5948a09945bdc6b",
      "0987aac282af415da2fbc9dc1b4d5069",
      "ac35dca0845149a284b9867d9e607232",
      "b54bff6261964119bcb562c1a9f74ce6",
      "5071a31d06f544a5b7340a4e863d8fdf",
      "542027ba12f444d586e8072452badea0",
      "49defa4284554baf85f32de242b22709",
      "b2473405490e4556bf30c0cc81237aa5",
      "02bdb06c176145feaa842b97ae58609c",
      "bc41384bbae04044b9780651c6b5a47c",
      "7040945accce4739a41746cc75bb7fce",
      "71011f0d2bc942ac8f9ea1d1fd30c78d",
      "6f60626242534f44a6381195e6eb6530",
      "9fee9d9dd1164d97a9109e942444c332",
      "5ab30242cd154ec0b560c23c0f178546",
      "0ffcbedb8d4444508ac0c3c0b41ea8ac",
      "f9efaa7678c2450f847ff2c2f21ff96e",
      "c126ea97019149848396e593cfab016f",
      "0f99011a13754ed99f3c51a478b0e793",
      "4abe2731ec624729b401d60a392cae63",
      "bd187486ac2548f2961cfcb63d852de1",
      "3f780f0aa8834fc189b292e0474e2ffa",
      "231c66f195d34f86b216805518f4bccd",
      "58f3e8002f984594ac05c973aa78ef69",
      "ec36a94ee2574ac8b227ccaefdee5520",
      "a868dea9d9b047a4b853b390e138e4c1",
      "6462bd9561e24abb98fce6ce4675d810",
      "bd3447291ce54812af10ac6245ea4328",
      "e273548a15aa4d4994132b317adb66fc",
      "f6930dd5519d4dfda64c597def220a30",
      "7d62810674c8482abe46c60fc08884b4",
      "80697300a4394b909f1c499ba80aeb13",
      "ab72c80dfd5e4ab19a183f4204486b59",
      "56ad6231a0a04228be29ceecbc6b7c0e",
      "b6221b4c04e64c9da9eb9e11539bac89",
      "dc6862530f6e429ba61a169b4c95722c",
      "02d1f77324854fbca0df9384c57faac8",
      "8e63ba7f1fd24555bf11bc9dbe9c770b",
      "704ea5e05fd744d998b76d6435992995",
      "d4a3f79644fc41848450ba29e6fdfc3d",
      "405b5de4ae854cf9896f63d15f2207dd",
      "26e7bab0f3bf4797bfcef83dcace24f0"
     ]
    },
    "id": "-np9xYK-wl8q",
    "outputId": "6155b5f0-a5a2-4e20-d0e2-0b3a60c13f98"
   },
   "outputs": [
    {
     "name": "stdout",
     "output_type": "stream",
     "text": [
      "    "
     ]
    },
    {
     "data": {
      "application/vnd.jupyter.widget-view+json": {
       "model_id": "c39c84cf389243d2a884b8cf3c91747e",
       "version_major": 2,
       "version_minor": 0
      },
      "text/plain": [
       "HBox(children=(FloatProgress(value=0.0, description='#3', max=357.0, style=ProgressStyle(description_width='in…"
      ]
     },
     "metadata": {},
     "output_type": "display_data"
    },
    {
     "data": {
      "application/vnd.jupyter.widget-view+json": {
       "model_id": "429411d4ac3548e7addd249afc11df6a",
       "version_major": 2,
       "version_minor": 0
      },
      "text/plain": [
       "HBox(children=(FloatProgress(value=0.0, description='#0', max=357.0, style=ProgressStyle(description_width='in…"
      ]
     },
     "metadata": {},
     "output_type": "display_data"
    },
    {
     "data": {
      "application/vnd.jupyter.widget-view+json": {
       "model_id": "5e7c5827231a4aaeb1be0f7c26198fd0",
       "version_major": 2,
       "version_minor": 0
      },
      "text/plain": [
       "HBox(children=(FloatProgress(value=0.0, description='#2', max=357.0, style=ProgressStyle(description_width='in…"
      ]
     },
     "metadata": {},
     "output_type": "display_data"
    },
    {
     "data": {
      "application/vnd.jupyter.widget-view+json": {
       "model_id": "291f10862754448dbd55f4bebbc6db6c",
       "version_major": 2,
       "version_minor": 0
      },
      "text/plain": [
       "HBox(children=(FloatProgress(value=0.0, description='#1', max=357.0, style=ProgressStyle(description_width='in…"
      ]
     },
     "metadata": {},
     "output_type": "display_data"
    },
    {
     "name": "stdout",
     "output_type": "stream",
     "text": [
      "\n",
      "\n",
      "\n",
      "\n",
      "    "
     ]
    },
    {
     "data": {
      "application/vnd.jupyter.widget-view+json": {
       "model_id": "cb47e08d906546d293736417aa9cac87",
       "version_major": 2,
       "version_minor": 0
      },
      "text/plain": [
       "HBox(children=(FloatProgress(value=0.0, description='#3', max=90.0, style=ProgressStyle(description_width='ini…"
      ]
     },
     "metadata": {},
     "output_type": "display_data"
    },
    {
     "data": {
      "application/vnd.jupyter.widget-view+json": {
       "model_id": "8b11f1bed1e14d5c8d195b0fe5b7620b",
       "version_major": 2,
       "version_minor": 0
      },
      "text/plain": [
       "HBox(children=(FloatProgress(value=0.0, description='#0', max=90.0, style=ProgressStyle(description_width='ini…"
      ]
     },
     "metadata": {},
     "output_type": "display_data"
    },
    {
     "data": {
      "application/vnd.jupyter.widget-view+json": {
       "model_id": "a06fe344b2ab4b37b5389bc615795aa0",
       "version_major": 2,
       "version_minor": 0
      },
      "text/plain": [
       "HBox(children=(FloatProgress(value=0.0, description='#1', max=90.0, style=ProgressStyle(description_width='ini…"
      ]
     },
     "metadata": {},
     "output_type": "display_data"
    },
    {
     "data": {
      "application/vnd.jupyter.widget-view+json": {
       "model_id": "11d1493155044af1bfb788da76fa6a97",
       "version_major": 2,
       "version_minor": 0
      },
      "text/plain": [
       "HBox(children=(FloatProgress(value=0.0, description='#2', max=90.0, style=ProgressStyle(description_width='ini…"
      ]
     },
     "metadata": {},
     "output_type": "display_data"
    },
    {
     "name": "stdout",
     "output_type": "stream",
     "text": [
      "\n",
      "\n",
      "\n",
      "\n"
     ]
    }
   ],
   "source": [
    "common_voice_train = common_voice_train.map(prepare_dataset, remove_columns=common_voice_train.column_names, batch_size=8, num_proc=4, batched=True)\n",
    "common_voice_test = common_voice_test.map(prepare_dataset, remove_columns=common_voice_test.column_names, batch_size=8, num_proc=4, batched=True)"
   ]
  },
  {
   "cell_type": "markdown",
   "metadata": {
    "id": "gYlQkKVoRUos"
   },
   "source": [
    "## Training\n",
    "\n",
    "The data is processed so that we are ready to start setting up the training pipeline. We will make use of 🤗's [Trainer](https://huggingface.co/transformers/master/main_classes/trainer.html?highlight=trainer) for which we essentially need to do the following:\n",
    "\n",
    "- Define a data collator. In contrast to most NLP models, XLSR-Wav2Vec2 has a much larger input length than output length. *E.g.*, a sample of input length 50000 has an output length of no more than 100. Given the large input sizes, it is much more efficient to pad the training batches dynamically meaning that all training samples should only be padded to the longest sample in their batch and not the overall longest sample. Therefore, fine-tuning XLSR-Wav2Vec2 requires a special padding data collator, which we will define below\n",
    "\n",
    "- Evaluation metric. During training, the model should be evaluated on the word error rate. We should define a `compute_metrics` function accordingly\n",
    "\n",
    "- Load a pretrained checkpoint. We need to load a pretrained checkpoint and configure it correctly for training.\n",
    "\n",
    "- Define the training configuration.\n",
    "\n",
    "After having fine-tuned the model, we will correctly evaluate it on the test data and verify that it has indeed learned to correctly transcribe speech."
   ]
  },
  {
   "cell_type": "markdown",
   "metadata": {
    "id": "Slk403unUS91"
   },
   "source": [
    "### Set-up Trainer\n",
    "\n",
    "Let's start by defining the data collator. The code for the data collator was copied from [this example](https://github.com/huggingface/transformers/blob/9a06b6b11bdfc42eea08fa91d0c737d1863c99e3/examples/research_projects/wav2vec2/run_asr.py#L81).\n",
    "\n",
    "Without going into too many details, in contrast to the common data collators, this data collator treats the `input_values` and `labels` differently and thus applies to separate padding functions on them (again making use of XLSR-Wav2Vec2's context manager). This is necessary because in speech input and output are of different modalities meaning that they should not be treated by the same padding function.\n",
    "Analogous to the common data collators, the padding tokens in the labels with `-100` so that those tokens are **not** taken into account when computing the loss."
   ]
  },
  {
   "cell_type": "code",
   "execution_count": 37,
   "metadata": {
    "id": "tborvC9hx88e"
   },
   "outputs": [],
   "source": [
    "import torch\n",
    "\n",
    "from dataclasses import dataclass, field\n",
    "from typing import Any, Dict, List, Optional, Union\n",
    "\n",
    "@dataclass\n",
    "class DataCollatorCTCWithPadding:\n",
    "    \"\"\"\n",
    "    Data collator that will dynamically pad the inputs received.\n",
    "    Args:\n",
    "        processor (:class:`~transformers.Wav2Vec2Processor`)\n",
    "            The processor used for proccessing the data.\n",
    "        padding (:obj:`bool`, :obj:`str` or :class:`~transformers.tokenization_utils_base.PaddingStrategy`, `optional`, defaults to :obj:`True`):\n",
    "            Select a strategy to pad the returned sequences (according to the model's padding side and padding index)\n",
    "            among:\n",
    "            * :obj:`True` or :obj:`'longest'`: Pad to the longest sequence in the batch (or no padding if only a single\n",
    "              sequence if provided).\n",
    "            * :obj:`'max_length'`: Pad to a maximum length specified with the argument :obj:`max_length` or to the\n",
    "              maximum acceptable input length for the model if that argument is not provided.\n",
    "            * :obj:`False` or :obj:`'do_not_pad'` (default): No padding (i.e., can output a batch with sequences of\n",
    "              different lengths).\n",
    "        max_length (:obj:`int`, `optional`):\n",
    "            Maximum length of the ``input_values`` of the returned list and optionally padding length (see above).\n",
    "        max_length_labels (:obj:`int`, `optional`):\n",
    "            Maximum length of the ``labels`` returned list and optionally padding length (see above).\n",
    "        pad_to_multiple_of (:obj:`int`, `optional`):\n",
    "            If set will pad the sequence to a multiple of the provided value.\n",
    "            This is especially useful to enable the use of Tensor Cores on NVIDIA hardware with compute capability >=\n",
    "            7.5 (Volta).\n",
    "    \"\"\"\n",
    "\n",
    "    processor: Wav2Vec2Processor\n",
    "    padding: Union[bool, str] = True\n",
    "    max_length: Optional[int] = None\n",
    "    max_length_labels: Optional[int] = None\n",
    "    pad_to_multiple_of: Optional[int] = None\n",
    "    pad_to_multiple_of_labels: Optional[int] = None\n",
    "\n",
    "    def __call__(self, features: List[Dict[str, Union[List[int], torch.Tensor]]]) -> Dict[str, torch.Tensor]:\n",
    "        # split inputs and labels since they have to be of different lenghts and need\n",
    "        # different padding methods\n",
    "        input_features = [{\"input_values\": feature[\"input_values\"]} for feature in features]\n",
    "        label_features = [{\"input_ids\": feature[\"labels\"]} for feature in features]\n",
    "\n",
    "        batch = self.processor.pad(\n",
    "            input_features,\n",
    "            padding=self.padding,\n",
    "            max_length=self.max_length,\n",
    "            pad_to_multiple_of=self.pad_to_multiple_of,\n",
    "            return_tensors=\"pt\",\n",
    "        )\n",
    "        with self.processor.as_target_processor():\n",
    "            labels_batch = self.processor.pad(\n",
    "                label_features,\n",
    "                padding=self.padding,\n",
    "                max_length=self.max_length_labels,\n",
    "                pad_to_multiple_of=self.pad_to_multiple_of_labels,\n",
    "                return_tensors=\"pt\",\n",
    "            )\n",
    "\n",
    "        # replace padding with -100 to ignore loss correctly\n",
    "        labels = labels_batch[\"input_ids\"].masked_fill(labels_batch.attention_mask.ne(1), -100)\n",
    "\n",
    "        batch[\"labels\"] = labels\n",
    "\n",
    "        return batch"
   ]
  },
  {
   "cell_type": "code",
   "execution_count": 38,
   "metadata": {
    "id": "lbQf5GuZyQ4_"
   },
   "outputs": [],
   "source": [
    "data_collator = DataCollatorCTCWithPadding(processor=processor, padding=True)"
   ]
  },
  {
   "cell_type": "markdown",
   "metadata": {
    "id": "xO-Zdj-5cxXp"
   },
   "source": [
    "Next, the evaluation metric is defined. As mentioned earlier, the \n",
    "predominant metric in ASR is the word error rate (WER), hence we will use it in this notebook as well."
   ]
  },
  {
   "cell_type": "code",
   "execution_count": 39,
   "metadata": {
    "colab": {
     "base_uri": "https://localhost:8080/",
     "height": 67,
     "referenced_widgets": [
      "d5fb02debe4347e781543a996ce39be3",
      "da12267c52144292adb9896249d61a6a",
      "8e1a85a4a6214a16b7431da23a301ada",
      "57198e3250374e1fa64c5a4be255861e",
      "a3c04c75ec9743feb795f69e7c4dff4f",
      "d453bd4a35e54bfba20dac1fe86c60c1",
      "969080b52ad44ee997829986d198c505",
      "8f737725708c4097a8caaf4da6229636"
     ]
    },
    "id": "9Xsux2gmyXso",
    "outputId": "58e0e6f5-6131-4147-bccb-6c42223833db"
   },
   "outputs": [],
   "source": [
    "wer_metric = load_metric(\"wer\")"
   ]
  },
  {
   "cell_type": "markdown",
   "metadata": {
    "id": "E1qZU5p-deqB"
   },
   "source": [
    "The model will return a sequence of logit vectors:\n",
    "$\\mathbf{y}_1, \\ldots, \\mathbf{y}_m$ with $\\mathbf{y}_1 = f_{\\theta}(x_1, \\ldots, x_n)[0]$ and $n >> m$.\n",
    "\n",
    "A logit vector $\\mathbf{y}_1$ contains the log-odds for each word in the vocabulary we defined earlier, thus $\\text{len}(\\mathbf{y}_i) =$ `config.vocab_size`. We are interested in the most likely prediction of the model and thus take the `argmax(...)` of the logits. Also, we transform the encoded labels back to the original string by replacing `-100` with the `pad_token_id` and decoding the ids while making sure that consecutive tokens are **not** grouped to the same token in CTC style ${}^1$."
   ]
  },
  {
   "cell_type": "code",
   "execution_count": 40,
   "metadata": {
    "id": "1XZ-kjweyTy_"
   },
   "outputs": [],
   "source": [
    "def compute_metrics(pred):\n",
    "    pred_logits = pred.predictions\n",
    "    pred_ids = np.argmax(pred_logits, axis=-1)\n",
    "\n",
    "    pred.label_ids[pred.label_ids == -100] = processor.tokenizer.pad_token_id\n",
    "\n",
    "    pred_str = processor.batch_decode(pred_ids)\n",
    "    # we do not want to group tokens when computing the metrics\n",
    "    label_str = processor.batch_decode(pred.label_ids, group_tokens=False)\n",
    "\n",
    "    wer = wer_metric.compute(predictions=pred_str, references=label_str)\n",
    "\n",
    "    return {\"wer\": wer}"
   ]
  },
  {
   "cell_type": "markdown",
   "metadata": {
    "id": "Xmgrx4bRwLIH"
   },
   "source": [
    "Now, we can load the pretrained `XLSR-Wav2Vec2` checkpoint. The tokenizer's `pad_token_id` must be to define the model's `pad_token_id` or in the case of `Wav2Vec2ForCTC` also CTC's *blank token* ${}^2$. To save GPU memory, we enable PyTorch's [gradient checkpointing](https://pytorch.org/docs/stable/checkpoint.html) and also set the loss reduction to \"*mean*\".\n",
    "\n",
    "Because the dataset is quite small (~6h of training data) and because Common Voice is quite noisy, fine-tuning Facebook's [wav2vec2-large-xlsr-53 checkpoint](https://huggingface.co/facebook/wav2vec2-large-xlsr-53) seems to require some hyper-parameter tuning. Therefore, I had to play around a bit with different values for dropout, [SpecAugment](https://arxiv.org/abs/1904.08779)'s masking dropout rate, layer dropout, and the learning rate until training seemed to be stable enough. \n",
    "\n",
    "**Note**: When using this notebook to train XLSR-Wav2Vec2 on another language of Common Voice those hyper-parameter settings might not work very well. Feel free to adapt those depending on your use case. "
   ]
  },
  {
   "cell_type": "code",
   "execution_count": 41,
   "metadata": {
    "colab": {
     "base_uri": "https://localhost:8080/"
    },
    "id": "e7cqAWIayn6w",
    "outputId": "0a5ab559-6c38-47c6-b4f5-64480ed1df65"
   },
   "outputs": [
    {
     "name": "stderr",
     "output_type": "stream",
     "text": [
      "Some weights of Wav2Vec2ForCTC were not initialized from the model checkpoint at facebook/wav2vec2-large-xlsr-53 and are newly initialized: ['lm_head.bias', 'lm_head.weight']\n",
      "You should probably TRAIN this model on a down-stream task to be able to use it for predictions and inference.\n"
     ]
    }
   ],
   "source": [
    "from transformers import Wav2Vec2ForCTC\n",
    "\n",
    "model = Wav2Vec2ForCTC.from_pretrained(\n",
    "    \"facebook/wav2vec2-large-xlsr-53\", \n",
    "    attention_dropout=0.094,\n",
    "    hidden_dropout=0.047,\n",
    "    feat_proj_dropout=0.0,\n",
    "    mask_time_prob=0.082,\n",
    "    layerdrop=0.041,\n",
    "    gradient_checkpointing=True, \n",
    "    ctc_loss_reduction=\"mean\", \n",
    "    pad_token_id=processor.tokenizer.pad_token_id,\n",
    "    vocab_size=len(processor.tokenizer)\n",
    ")"
   ]
  },
  {
   "cell_type": "markdown",
   "metadata": {
    "id": "1DwR3XLSzGDD"
   },
   "source": [
    "The first component of XLSR-Wav2Vec2 consists of a stack of CNN layers that are used to extract acoustically meaningful - but contextually independent - features from the raw speech signal. This part of the model has already been sufficiently trained during pretraining and as stated in the [paper](https://arxiv.org/pdf/2006.13979.pdf) does not need to be fine-tuned anymore. \n",
    "Thus, we can set the `requires_grad` to `False` for all parameters of the *feature extraction* part."
   ]
  },
  {
   "cell_type": "code",
   "execution_count": 42,
   "metadata": {
    "id": "oGI8zObtZ3V0"
   },
   "outputs": [],
   "source": [
    "model.freeze_feature_extractor()"
   ]
  },
  {
   "cell_type": "markdown",
   "metadata": {
    "id": "lD4aGhQM0K-D"
   },
   "source": [
    "In a final step, we define all parameters related to training. \n",
    "To give more explanation on some of the parameters:\n",
    "- `group_by_length` makes training more efficient by grouping training samples of similar input length into one batch. This can significantly speed up training time by heavily reducing the overall number of useless padding tokens that are passed through the model\n",
    "- `learning_rate` and `weight_decay` were heuristically tuned until fine-tuning has become stable. Note that those parameters strongly depend on the Common Voice dataset and might be suboptimal for other speech datasets.\n",
    "\n",
    "For more explanations on other parameters, one can take a look at the [docs](https://huggingface.co/transformers/master/main_classes/trainer.html?highlight=trainer#trainingarguments).\n",
    "\n",
    "**Note**: If one wants to save the trained models in his/her google drive the commented-out `output_dir` can be used instead."
   ]
  },
  {
   "cell_type": "code",
   "execution_count": 43,
   "metadata": {
    "id": "KbeKSV7uzGPP"
   },
   "outputs": [],
   "source": [
    "from transformers import TrainingArguments\n",
    "\n",
    "training_args = TrainingArguments(\n",
    "  output_dir=output_models_dir,\n",
    "  group_by_length=True,\n",
    "  per_device_train_batch_size=16,\n",
    "  gradient_accumulation_steps=2,\n",
    "  evaluation_strategy=\"steps\",\n",
    "  num_train_epochs=30,\n",
    "  fp16=True,\n",
    "  save_steps=800,\n",
    "  eval_steps=400,\n",
    "  logging_steps=400,\n",
    "  learning_rate=2.34e-4,\n",
    "  warmup_steps=500,\n",
    "  save_total_limit=5,\n",
    ")"
   ]
  },
  {
   "cell_type": "markdown",
   "metadata": {
    "id": "OsW-WZcL1ZtN"
   },
   "source": [
    "Now, all instances can be passed to Trainer and we are ready to start training!"
   ]
  },
  {
   "cell_type": "code",
   "execution_count": 44,
   "metadata": {
    "id": "rY7vBmFCPFgC"
   },
   "outputs": [],
   "source": [
    "from transformers import Trainer\n",
    "\n",
    "trainer = Trainer(\n",
    "    model=model,\n",
    "    data_collator=data_collator,\n",
    "    args=training_args,\n",
    "    compute_metrics=compute_metrics,\n",
    "    train_dataset=common_voice_train,\n",
    "    eval_dataset=common_voice_test,\n",
    "    tokenizer=processor.feature_extractor,\n",
    ")"
   ]
  },
  {
   "cell_type": "markdown",
   "metadata": {
    "id": "UoXBx1JAA0DX"
   },
   "source": [
    "\n",
    "\n",
    "---\n",
    "\n",
    "${}^1$ To allow models to become independent of the speaker rate, in CTC, consecutive tokens that are identical are simply grouped as a single token. However, the encoded labels should not be grouped when decoding since they don't correspond to the predicted tokens of the model, which is why the `group_tokens=False` parameter has to be passed. If we wouldn't pass this parameter a word like `\"hello\"` would incorrectly be encoded, and decoded as `\"helo\"`.\n",
    "\n",
    "${}^2$ The blank token allows the model to predict a word, such as `\"hello\"` by forcing it to insert the blank token between the two l's. A CTC-conform prediction of `\"hello\"` of our model would be `[PAD] [PAD] \"h\" \"e\" \"e\" \"l\" \"l\" [PAD] \"l\" \"o\" \"o\" [PAD]`."
   ]
  },
  {
   "cell_type": "markdown",
   "metadata": {
    "id": "rpvZHM1xReIW"
   },
   "source": [
    "### Training"
   ]
  },
  {
   "cell_type": "markdown",
   "metadata": {
    "id": "j-3oKSzZ1hGq"
   },
   "source": [
    "Lets train model using our training data\n",
    "\n",
    "In case you want to use this google colab to fine-tune your model, you should make sure that your training doesn't stop due to inactivity. A simple hack to prevent this is to paste the following code into the console of this tab (*right mouse click -> inspect -> Console tab and insert code*)."
   ]
  },
  {
   "cell_type": "markdown",
   "metadata": {
    "id": "VYYAvgkW4P0m"
   },
   "source": [
    "```javascript\n",
    "function ConnectButton(){\n",
    "    console.log(\"Connect pushed\"); \n",
    "    document.querySelector(\"#top-toolbar > colab-connect-button\").shadowRoot.querySelector(\"#connect\").click() \n",
    "}\n",
    "setInterval(ConnectButton,60000);\n",
    "```"
   ]
  },
  {
   "cell_type": "markdown",
   "metadata": {},
   "source": [
    "### Init wandb"
   ]
  },
  {
   "cell_type": "code",
   "execution_count": 45,
   "metadata": {},
   "outputs": [],
   "source": [
    "import wandb"
   ]
  },
  {
   "cell_type": "code",
   "execution_count": 46,
   "metadata": {},
   "outputs": [
    {
     "name": "stderr",
     "output_type": "stream",
     "text": [
      "\u001b[34m\u001b[1mwandb\u001b[0m: Currently logged in as: \u001b[33mgvs\u001b[0m (use `wandb login --relogin` to force relogin)\n",
      "\u001b[34m\u001b[1mwandb\u001b[0m: wandb version 0.10.23 is available!  To upgrade, please run:\n",
      "\u001b[34m\u001b[1mwandb\u001b[0m:  $ pip install wandb --upgrade\n"
     ]
    },
    {
     "data": {
      "text/html": [
       "\n",
       "                Tracking run with wandb version 0.10.12<br/>\n",
       "                Syncing run <strong style=\"color:#cdcd00\">clear-sun-2</strong> to <a href=\"https://wandb.ai\" target=\"_blank\">Weights & Biases</a> <a href=\"https://docs.wandb.com/integrations/jupyter.html\" target=\"_blank\">(Documentation)</a>.<br/>\n",
       "                Project page: <a href=\"https://wandb.ai/gvs/uncategorized\" target=\"_blank\">https://wandb.ai/gvs/uncategorized</a><br/>\n",
       "                Run page: <a href=\"https://wandb.ai/gvs/uncategorized/runs/eziql6yy\" target=\"_blank\">https://wandb.ai/gvs/uncategorized/runs/eziql6yy</a><br/>\n",
       "                Run data is saved locally in <code>/workspace/wav2vec/wandb/run-20210327_122252-eziql6yy</code><br/><br/>\n",
       "            "
      ],
      "text/plain": [
       "<IPython.core.display.HTML object>"
      ]
     },
     "metadata": {},
     "output_type": "display_data"
    },
    {
     "data": {
      "text/html": [
       "<h1>Run(eziql6yy)</h1><p></p><iframe src=\"https://wandb.ai/gvs/uncategorized/runs/eziql6yy\" style=\"border:none;width:100%;height:400px\"></iframe>"
      ],
      "text/plain": [
       "<wandb.sdk.wandb_run.Run at 0x7f09cf538190>"
      ]
     },
     "execution_count": 46,
     "metadata": {},
     "output_type": "execute_result"
    }
   ],
   "source": [
    "wandb.init()"
   ]
  },
  {
   "cell_type": "code",
   "execution_count": 47,
   "metadata": {
    "colab": {
     "base_uri": "https://localhost:8080/",
     "height": 348
    },
    "id": "_UEjJqGsQw24",
    "outputId": "2e23b190-ca76-48ad-8117-376d1d7c058e"
   },
   "outputs": [
    {
     "name": "stderr",
     "output_type": "stream",
     "text": [
      "/opt/conda/lib/python3.7/site-packages/torch/optim/lr_scheduler.py:136: UserWarning: Detected call of `lr_scheduler.step()` before `optimizer.step()`. In PyTorch 1.1.0 and later, you should call them in the opposite order: `optimizer.step()` before `lr_scheduler.step()`.  Failure to do this will result in PyTorch skipping the first value of the learning rate schedule. See more details at https://pytorch.org/docs/stable/optim.html#how-to-adjust-learning-rate\n",
      "  \"https://pytorch.org/docs/stable/optim.html#how-to-adjust-learning-rate\", UserWarning)\n"
     ]
    },
    {
     "data": {
      "text/html": [
       "\n",
       "    <div>\n",
       "        <style>\n",
       "            /* Turns off some styling */\n",
       "            progress {\n",
       "                /* gets rid of default border in Firefox and Opera. */\n",
       "                border: none;\n",
       "                /* Needs to be in here for Safari polyfill so background images work as expected. */\n",
       "                background-size: auto;\n",
       "            }\n",
       "        </style>\n",
       "      \n",
       "      <progress value='10710' max='10710' style='width:300px; height:20px; vertical-align: middle;'></progress>\n",
       "      [10710/10710 17:07:09, Epoch 30/30]\n",
       "    </div>\n",
       "    <table border=\"1\" class=\"dataframe\">\n",
       "  <thead>\n",
       "    <tr style=\"text-align: left;\">\n",
       "      <th>Step</th>\n",
       "      <th>Training Loss</th>\n",
       "      <th>Validation Loss</th>\n",
       "      <th>Wer</th>\n",
       "      <th>Runtime</th>\n",
       "      <th>Samples Per Second</th>\n",
       "    </tr>\n",
       "  </thead>\n",
       "  <tbody>\n",
       "    <tr>\n",
       "      <td>400</td>\n",
       "      <td>6.818400</td>\n",
       "      <td>2.306603</td>\n",
       "      <td>0.999724</td>\n",
       "      <td>344.320100</td>\n",
       "      <td>8.292000</td>\n",
       "    </tr>\n",
       "    <tr>\n",
       "      <td>800</td>\n",
       "      <td>0.653100</td>\n",
       "      <td>0.267497</td>\n",
       "      <td>0.593362</td>\n",
       "      <td>354.571000</td>\n",
       "      <td>8.052000</td>\n",
       "    </tr>\n",
       "    <tr>\n",
       "      <td>1200</td>\n",
       "      <td>0.283600</td>\n",
       "      <td>0.212670</td>\n",
       "      <td>0.531673</td>\n",
       "      <td>360.088900</td>\n",
       "      <td>7.929000</td>\n",
       "    </tr>\n",
       "    <tr>\n",
       "      <td>1600</td>\n",
       "      <td>0.200100</td>\n",
       "      <td>0.182815</td>\n",
       "      <td>0.492130</td>\n",
       "      <td>365.550600</td>\n",
       "      <td>7.810000</td>\n",
       "    </tr>\n",
       "    <tr>\n",
       "      <td>2000</td>\n",
       "      <td>0.165400</td>\n",
       "      <td>0.179117</td>\n",
       "      <td>0.481803</td>\n",
       "      <td>382.114100</td>\n",
       "      <td>7.472000</td>\n",
       "    </tr>\n",
       "    <tr>\n",
       "      <td>2400</td>\n",
       "      <td>0.139000</td>\n",
       "      <td>0.170023</td>\n",
       "      <td>0.465400</td>\n",
       "      <td>385.355100</td>\n",
       "      <td>7.409000</td>\n",
       "    </tr>\n",
       "    <tr>\n",
       "      <td>2800</td>\n",
       "      <td>0.118000</td>\n",
       "      <td>0.164343</td>\n",
       "      <td>0.448721</td>\n",
       "      <td>399.138900</td>\n",
       "      <td>7.153000</td>\n",
       "    </tr>\n",
       "    <tr>\n",
       "      <td>3200</td>\n",
       "      <td>0.104000</td>\n",
       "      <td>0.167198</td>\n",
       "      <td>0.444911</td>\n",
       "      <td>403.651600</td>\n",
       "      <td>7.073000</td>\n",
       "    </tr>\n",
       "    <tr>\n",
       "      <td>3600</td>\n",
       "      <td>0.092600</td>\n",
       "      <td>0.170064</td>\n",
       "      <td>0.438007</td>\n",
       "      <td>404.601500</td>\n",
       "      <td>7.056000</td>\n",
       "    </tr>\n",
       "    <tr>\n",
       "      <td>4000</td>\n",
       "      <td>0.081300</td>\n",
       "      <td>0.179965</td>\n",
       "      <td>0.442757</td>\n",
       "      <td>425.622300</td>\n",
       "      <td>6.708000</td>\n",
       "    </tr>\n",
       "    <tr>\n",
       "      <td>4400</td>\n",
       "      <td>0.074200</td>\n",
       "      <td>0.182167</td>\n",
       "      <td>0.437069</td>\n",
       "      <td>403.916200</td>\n",
       "      <td>7.068000</td>\n",
       "    </tr>\n",
       "    <tr>\n",
       "      <td>4800</td>\n",
       "      <td>0.065900</td>\n",
       "      <td>0.176711</td>\n",
       "      <td>0.426465</td>\n",
       "      <td>402.242100</td>\n",
       "      <td>7.098000</td>\n",
       "    </tr>\n",
       "    <tr>\n",
       "      <td>5200</td>\n",
       "      <td>0.059900</td>\n",
       "      <td>0.182116</td>\n",
       "      <td>0.415254</td>\n",
       "      <td>402.010600</td>\n",
       "      <td>7.102000</td>\n",
       "    </tr>\n",
       "    <tr>\n",
       "      <td>5600</td>\n",
       "      <td>0.056200</td>\n",
       "      <td>0.181752</td>\n",
       "      <td>0.413873</td>\n",
       "      <td>401.938100</td>\n",
       "      <td>7.103000</td>\n",
       "    </tr>\n",
       "    <tr>\n",
       "      <td>6000</td>\n",
       "      <td>0.051900</td>\n",
       "      <td>0.188582</td>\n",
       "      <td>0.409621</td>\n",
       "      <td>405.205000</td>\n",
       "      <td>7.046000</td>\n",
       "    </tr>\n",
       "    <tr>\n",
       "      <td>6400</td>\n",
       "      <td>0.048000</td>\n",
       "      <td>0.190677</td>\n",
       "      <td>0.405479</td>\n",
       "      <td>424.564800</td>\n",
       "      <td>6.725000</td>\n",
       "    </tr>\n",
       "    <tr>\n",
       "      <td>6800</td>\n",
       "      <td>0.043600</td>\n",
       "      <td>0.196675</td>\n",
       "      <td>0.407632</td>\n",
       "      <td>413.973100</td>\n",
       "      <td>6.897000</td>\n",
       "    </tr>\n",
       "    <tr>\n",
       "      <td>7200</td>\n",
       "      <td>0.039800</td>\n",
       "      <td>0.192090</td>\n",
       "      <td>0.396532</td>\n",
       "      <td>451.450600</td>\n",
       "      <td>6.324000</td>\n",
       "    </tr>\n",
       "    <tr>\n",
       "      <td>7600</td>\n",
       "      <td>0.039000</td>\n",
       "      <td>0.209994</td>\n",
       "      <td>0.397250</td>\n",
       "      <td>451.988500</td>\n",
       "      <td>6.317000</td>\n",
       "    </tr>\n",
       "    <tr>\n",
       "      <td>8000</td>\n",
       "      <td>0.035900</td>\n",
       "      <td>0.207163</td>\n",
       "      <td>0.396090</td>\n",
       "      <td>431.335200</td>\n",
       "      <td>6.619000</td>\n",
       "    </tr>\n",
       "    <tr>\n",
       "      <td>8400</td>\n",
       "      <td>0.032600</td>\n",
       "      <td>0.198780</td>\n",
       "      <td>0.389518</td>\n",
       "      <td>430.234100</td>\n",
       "      <td>6.636000</td>\n",
       "    </tr>\n",
       "    <tr>\n",
       "      <td>8800</td>\n",
       "      <td>0.030800</td>\n",
       "      <td>0.196629</td>\n",
       "      <td>0.386204</td>\n",
       "      <td>425.729300</td>\n",
       "      <td>6.706000</td>\n",
       "    </tr>\n",
       "    <tr>\n",
       "      <td>9200</td>\n",
       "      <td>0.029700</td>\n",
       "      <td>0.208841</td>\n",
       "      <td>0.386757</td>\n",
       "      <td>435.987300</td>\n",
       "      <td>6.548000</td>\n",
       "    </tr>\n",
       "    <tr>\n",
       "      <td>9600</td>\n",
       "      <td>0.026600</td>\n",
       "      <td>0.205306</td>\n",
       "      <td>0.382835</td>\n",
       "      <td>436.838200</td>\n",
       "      <td>6.536000</td>\n",
       "    </tr>\n",
       "    <tr>\n",
       "      <td>10000</td>\n",
       "      <td>0.027100</td>\n",
       "      <td>0.204567</td>\n",
       "      <td>0.379853</td>\n",
       "      <td>443.627800</td>\n",
       "      <td>6.436000</td>\n",
       "    </tr>\n",
       "    <tr>\n",
       "      <td>10400</td>\n",
       "      <td>0.025700</td>\n",
       "      <td>0.205098</td>\n",
       "      <td>0.380019</td>\n",
       "      <td>439.238800</td>\n",
       "      <td>6.500000</td>\n",
       "    </tr>\n",
       "  </tbody>\n",
       "</table><p>"
      ],
      "text/plain": [
       "<IPython.core.display.HTML object>"
      ]
     },
     "metadata": {},
     "output_type": "display_data"
    },
    {
     "data": {
      "text/plain": [
       "TrainOutput(global_step=10710, training_loss=0.3496999371953371, metrics={'train_runtime': 61644.0597, 'train_samples_per_second': 0.174, 'total_flos': 5.756016538735586e+19, 'epoch': 30.0, 'init_mem_cpu_alloc_delta': 9486498, 'init_mem_gpu_alloc_delta': 1262058496, 'init_mem_cpu_peaked_delta': 18306, 'init_mem_gpu_peaked_delta': 0, 'train_mem_cpu_alloc_delta': 84108321, 'train_mem_gpu_alloc_delta': 3777430528, 'train_mem_cpu_peaked_delta': 818006949, 'train_mem_gpu_peaked_delta': 10465582080})"
      ]
     },
     "execution_count": 47,
     "metadata": {},
     "output_type": "execute_result"
    }
   ],
   "source": [
    "trainer.train()"
   ]
  },
  {
   "cell_type": "markdown",
   "metadata": {},
   "source": [
    "The training loss goes down and we can see that the WER on the test set also improves nicely. Lets save the final model"
   ]
  },
  {
   "cell_type": "code",
   "execution_count": 49,
   "metadata": {},
   "outputs": [],
   "source": [
    "trainer.save_model(f\"{output_models_dir}/final/\")"
   ]
  },
  {
   "cell_type": "markdown",
   "metadata": {},
   "source": [
    "## Evaluate model on test dataset"
   ]
  },
  {
   "cell_type": "code",
   "execution_count": 63,
   "metadata": {},
   "outputs": [
    {
     "name": "stderr",
     "output_type": "stream",
     "text": [
      "Special tokens have been added in the vocabulary, make sure the associated word embedding are fine-tuned or trained.\n",
      "Loading cached processed dataset at /workspace/.cache/huggingface/datasets/json/default-56eeb6885c40d104/0.0.0/83d5b3a2f62630efc6b5315f00f20209b4ad91a00ac586597caee3a4da0bef02/cache-0a0084846aaf15cd.arrow\n"
     ]
    },
    {
     "data": {
      "application/vnd.jupyter.widget-view+json": {
       "model_id": "83530a882f0947ab8db90fdc8fe4faed",
       "version_major": 2,
       "version_minor": 0
      },
      "text/plain": [
       "HBox(children=(FloatProgress(value=0.0, max=319.0), HTML(value='')))"
      ]
     },
     "metadata": {},
     "output_type": "display_data"
    },
    {
     "name": "stdout",
     "output_type": "stream",
     "text": [
      "\n",
      "WER: 39.465753\n"
     ]
    }
   ],
   "source": [
    "# Evaluating on first 4 splits of dataset as there's an issue while using the last split.\n",
    "# Last split only contains 300 samples, so score should be similar to what we get here.\n",
    "test_dataset = datasets.concatenate_datasets([split['test'] for split in split_list[:4]])\n",
    "\n",
    "wer = load_metric(\"wer\")\n",
    "\n",
    "# Load the model we want to evaluate. Here, I'm using the final model but \n",
    "# you can also load from a checkpoint.\n",
    "eval_processor = Wav2Vec2Processor.from_pretrained(f\"{output_models_dir}/final/\")\n",
    "eval_model = Wav2Vec2ForCTC.from_pretrained(f\"{output_models_dir}/final/\") \n",
    "eval_model.to(\"cuda\")\n",
    "\n",
    "resampler = torchaudio.transforms.Resample(48_000, 16_000)\n",
    "\n",
    "# Preprocessing the datasets.\n",
    "# We need to read the audio files as arrays\n",
    "def speech_file_to_array_fn(batch):\n",
    "    batch[\"sentence\"] = re.sub(chars_to_ignore_regex, '', batch[\"sentence\"]).lower()\n",
    "    speech_array, sampling_rate = torchaudio.load(batch[\"path\"])\n",
    "    batch[\"speech\"] = resampler(speech_array).squeeze().numpy()\n",
    "    return batch\n",
    "\n",
    "test_dataset = test_dataset.map(speech_file_to_array_fn)\n",
    "\n",
    "# Preprocessing the datasets.\n",
    "# We need to read the audio files as arrays\n",
    "def evaluate(batch):\n",
    "    inputs = processor(batch[\"speech\"], sampling_rate=16_000, return_tensors=\"pt\", padding=True)\n",
    "\n",
    "    with torch.no_grad():\n",
    "        logits = eval_model(inputs.input_values.to(\"cuda\"), attention_mask=inputs.attention_mask.to(\"cuda\")).logits\n",
    "\n",
    "    pred_ids = torch.argmax(logits, dim=-1)\n",
    "    batch[\"pred_strings\"] = eval_processor.batch_decode(pred_ids)\n",
    "    return batch\n",
    "\n",
    "result = test_dataset.map(evaluate, batched=True, batch_size=8)\n",
    "\n",
    "print(\"WER: {:2f}\".format(100 * wer.compute(predictions=result[\"pred_strings\"], references=result[\"sentence\"])))"
   ]
  },
  {
   "cell_type": "markdown",
   "metadata": {
    "id": "RHIVc44_fY2N"
   },
   "source": [
    "The resulting model of this notebook has been saved to [`gvs/wav2vec2-large-xlsr-malayalam`](https://huggingface.co/gvs/wav2vec2-large-xlsr-malayalam)\n",
    "\n",
    "As a final check, let's load the model and verify that it indeed has learned to transcribe Malayalam speech.\n",
    "\n",
    "Let's first load the pretrained checkpoint."
   ]
  },
  {
   "cell_type": "code",
   "execution_count": null,
   "metadata": {
    "colab": {
     "base_uri": "https://localhost:8080/"
    },
    "id": "J8E8pxJ9hgZS",
    "outputId": "5d137935-475d-4dbf-d833-d26780311e18"
   },
   "outputs": [],
   "source": [
    "model = Wav2Vec2ForCTC.from_pretrained(pretrain_model).to(\"cuda\")\n",
    "processor = Wav2Vec2Processor.from_pretrained(pretrain_model)"
   ]
  },
  {
   "cell_type": "markdown",
   "metadata": {
    "id": "QsfGCQYSvY8C"
   },
   "source": [
    "Now, we will just take the first example of the test set, run it through the model and take the `argmax(...)` of the logits to retrieve the predicted token ids."
   ]
  },
  {
   "cell_type": "code",
   "execution_count": 56,
   "metadata": {
    "colab": {
     "base_uri": "https://localhost:8080/"
    },
    "id": "EA6fxk-jiHby",
    "outputId": "8b91a977-2559-4adc-8298-b4ad6b7ff196"
   },
   "outputs": [
    {
     "name": "stderr",
     "output_type": "stream",
     "text": [
      "It is strongly recommended to pass the ``sampling_rate`` argument to this function.Failing to do so can result in silent errors that might be hard to debug.\n"
     ]
    }
   ],
   "source": [
    "input_dict = processor(common_voice_test[\"input_values\"][0], return_tensors=\"pt\", padding=True)\n",
    "\n",
    "logits = model(input_dict.input_values.to(\"cuda\")).logits\n",
    "\n",
    "pred_ids = torch.argmax(logits, dim=-1)[0]"
   ]
  },
  {
   "cell_type": "markdown",
   "metadata": {
    "id": "1JDyVCMDvlYd"
   },
   "source": [
    "We adapted `common_voice_test` quite a bit so that the dataset instance does not contain the original sentence label anymore. Thus, we re-use the original dataset to get the label of the first example."
   ]
  },
  {
   "cell_type": "markdown",
   "metadata": {
    "id": "ApS3MmN4v5P7"
   },
   "source": [
    "Finally, we can decode the example."
   ]
  },
  {
   "cell_type": "code",
   "execution_count": 57,
   "metadata": {
    "colab": {
     "base_uri": "https://localhost:8080/"
    },
    "id": "Phqxa1O1jMDk",
    "outputId": "60d48c9f-f745-45ac-9105-446dc71025ca"
   },
   "outputs": [
    {
     "name": "stdout",
     "output_type": "stream",
     "text": [
      "Prediction:\n",
      "അതിനെക്കുറിച്ച് തന്നെയായി അദ്ദേഹം മിക്കവാറും ഒന്നും എഴുതിയിട്ടില്ല\n",
      "\n",
      "Reference:\n",
      "അതിനെക്കുറിച്ച് തന്നെയായി അദ്ദേഹം മിക്കവാറും ഒന്നും എഴുതിയിട്ടില്ല\n"
     ]
    }
   ],
   "source": [
    "print(\"Prediction:\")\n",
    "print(processor.decode(pred_ids))\n",
    "\n",
    "print(\"\\nReference:\")\n",
    "print(test_dataset[\"sentence\"][0].lower())\n"
   ]
  },
  {
   "cell_type": "markdown",
   "metadata": {
    "id": "4n_8vhzUv7aw"
   },
   "source": [
    "Looks good :)"
   ]
  },
  {
   "cell_type": "code",
   "execution_count": null,
   "metadata": {},
   "outputs": [],
   "source": []
  }
 ],
 "metadata": {
  "accelerator": "GPU",
  "colab": {
   "collapsed_sections": [],
   "include_colab_link": true,
   "machine_shape": "hm",
   "name": "Fine-Tune XLSR-Wav2Vec2 on Turkish ASR with 🤗 Transformers.ipynb",
   "provenance": []
  },
  "kernelspec": {
   "display_name": "Python 3",
   "language": "python",
   "name": "python3"
  },
  "language_info": {
   "codemirror_mode": {
    "name": "ipython",
    "version": 3
   },
   "file_extension": ".py",
   "mimetype": "text/x-python",
   "name": "python",
   "nbconvert_exporter": "python",
   "pygments_lexer": "ipython3",
   "version": "3.7.6"
  },
  "widgets": {
   "application/vnd.jupyter.widget-state+json": {
    "015c5690e1ea4281954c7efda1c80a6a": {
     "model_module": "@jupyter-widgets/controls",
     "model_name": "FloatProgressModel",
     "state": {
      "_dom_classes": [],
      "_model_module": "@jupyter-widgets/controls",
      "_model_module_version": "1.5.0",
      "_model_name": "FloatProgressModel",
      "_view_count": null,
      "_view_module": "@jupyter-widgets/controls",
      "_view_module_version": "1.5.0",
      "_view_name": "ProgressView",
      "bar_style": "success",
      "description": "#1: 100%",
      "description_tooltip": null,
      "layout": "IPY_MODEL_dec796237765477ea904834d9a824b61",
      "max": 109,
      "min": 0,
      "orientation": "horizontal",
      "style": "IPY_MODEL_2f727c76652944e3892dd584bea11af2",
      "value": 109
     }
    },
    "018c1f8e198e4df4b480e609bd1be602": {
     "model_module": "@jupyter-widgets/controls",
     "model_name": "HTMLModel",
     "state": {
      "_dom_classes": [],
      "_model_module": "@jupyter-widgets/controls",
      "_model_module_version": "1.5.0",
      "_model_name": "HTMLModel",
      "_view_count": null,
      "_view_module": "@jupyter-widgets/controls",
      "_view_module_version": "1.5.0",
      "_view_name": "HTMLView",
      "description": "",
      "description_tooltip": null,
      "layout": "IPY_MODEL_768ab09956774f50a79b2493a8bf179b",
      "placeholder": "​",
      "style": "IPY_MODEL_d35c15beeb33476894b07c3563f8facd",
      "value": " 109/109 [00:56&lt;00:00,  1.92ba/s]"
     }
    },
    "020bdb330b0d40f5b89697ff37025f69": {
     "model_module": "@jupyter-widgets/base",
     "model_name": "LayoutModel",
     "state": {
      "_model_module": "@jupyter-widgets/base",
      "_model_module_version": "1.2.0",
      "_model_name": "LayoutModel",
      "_view_count": null,
      "_view_module": "@jupyter-widgets/base",
      "_view_module_version": "1.2.0",
      "_view_name": "LayoutView",
      "align_content": null,
      "align_items": null,
      "align_self": null,
      "border": null,
      "bottom": null,
      "display": null,
      "flex": null,
      "flex_flow": null,
      "grid_area": null,
      "grid_auto_columns": null,
      "grid_auto_flow": null,
      "grid_auto_rows": null,
      "grid_column": null,
      "grid_gap": null,
      "grid_row": null,
      "grid_template_areas": null,
      "grid_template_columns": null,
      "grid_template_rows": null,
      "height": null,
      "justify_content": null,
      "justify_items": null,
      "left": null,
      "margin": null,
      "max_height": null,
      "max_width": null,
      "min_height": null,
      "min_width": null,
      "object_fit": null,
      "object_position": null,
      "order": null,
      "overflow": null,
      "overflow_x": null,
      "overflow_y": null,
      "padding": null,
      "right": null,
      "top": null,
      "visibility": null,
      "width": null
     }
    },
    "024989cea06f435894776b0a921164b2": {
     "model_module": "@jupyter-widgets/controls",
     "model_name": "ProgressStyleModel",
     "state": {
      "_model_module": "@jupyter-widgets/controls",
      "_model_module_version": "1.5.0",
      "_model_name": "ProgressStyleModel",
      "_view_count": null,
      "_view_module": "@jupyter-widgets/base",
      "_view_module_version": "1.2.0",
      "_view_name": "StyleView",
      "bar_color": null,
      "description_width": "initial"
     }
    },
    "02bdb06c176145feaa842b97ae58609c": {
     "model_module": "@jupyter-widgets/controls",
     "model_name": "DescriptionStyleModel",
     "state": {
      "_model_module": "@jupyter-widgets/controls",
      "_model_module_version": "1.5.0",
      "_model_name": "DescriptionStyleModel",
      "_view_count": null,
      "_view_module": "@jupyter-widgets/base",
      "_view_module_version": "1.2.0",
      "_view_name": "StyleView",
      "description_width": ""
     }
    },
    "02d1f77324854fbca0df9384c57faac8": {
     "model_module": "@jupyter-widgets/controls",
     "model_name": "FloatProgressModel",
     "state": {
      "_dom_classes": [],
      "_model_module": "@jupyter-widgets/controls",
      "_model_module_version": "1.5.0",
      "_model_name": "FloatProgressModel",
      "_view_count": null,
      "_view_module": "@jupyter-widgets/controls",
      "_view_module_version": "1.5.0",
      "_view_name": "ProgressView",
      "bar_style": "success",
      "description": "#3: 100%",
      "description_tooltip": null,
      "layout": "IPY_MODEL_d4a3f79644fc41848450ba29e6fdfc3d",
      "max": 52,
      "min": 0,
      "orientation": "horizontal",
      "style": "IPY_MODEL_704ea5e05fd744d998b76d6435992995",
      "value": 52
     }
    },
    "0354ab33471e4c34a0c1b3c062bcd6bb": {
     "model_module": "@jupyter-widgets/base",
     "model_name": "LayoutModel",
     "state": {
      "_model_module": "@jupyter-widgets/base",
      "_model_module_version": "1.2.0",
      "_model_name": "LayoutModel",
      "_view_count": null,
      "_view_module": "@jupyter-widgets/base",
      "_view_module_version": "1.2.0",
      "_view_name": "LayoutView",
      "align_content": null,
      "align_items": null,
      "align_self": null,
      "border": null,
      "bottom": null,
      "display": null,
      "flex": null,
      "flex_flow": null,
      "grid_area": null,
      "grid_auto_columns": null,
      "grid_auto_flow": null,
      "grid_auto_rows": null,
      "grid_column": null,
      "grid_gap": null,
      "grid_row": null,
      "grid_template_areas": null,
      "grid_template_columns": null,
      "grid_template_rows": null,
      "height": null,
      "justify_content": null,
      "justify_items": null,
      "left": null,
      "margin": null,
      "max_height": null,
      "max_width": null,
      "min_height": null,
      "min_width": null,
      "object_fit": null,
      "object_position": null,
      "order": null,
      "overflow": null,
      "overflow_x": null,
      "overflow_y": null,
      "padding": null,
      "right": null,
      "top": null,
      "visibility": null,
      "width": null
     }
    },
    "03b33c17734d49e28c4636dddd6e833d": {
     "model_module": "@jupyter-widgets/controls",
     "model_name": "FloatProgressModel",
     "state": {
      "_dom_classes": [],
      "_model_module": "@jupyter-widgets/controls",
      "_model_module_version": "1.5.0",
      "_model_name": "FloatProgressModel",
      "_view_count": null,
      "_view_module": "@jupyter-widgets/controls",
      "_view_module_version": "1.5.0",
      "_view_name": "ProgressView",
      "bar_style": "info",
      "description": "",
      "description_tooltip": null,
      "layout": "IPY_MODEL_bee0f50055eb4f738636142a10da0ddd",
      "max": 1,
      "min": 0,
      "orientation": "horizontal",
      "style": "IPY_MODEL_da1ff50f8b9241108a325ada04224642",
      "value": 1
     }
    },
    "05f83d714f864a399083f0e34a812467": {
     "model_module": "@jupyter-widgets/controls",
     "model_name": "DescriptionStyleModel",
     "state": {
      "_model_module": "@jupyter-widgets/controls",
      "_model_module_version": "1.5.0",
      "_model_name": "DescriptionStyleModel",
      "_view_count": null,
      "_view_module": "@jupyter-widgets/base",
      "_view_module_version": "1.2.0",
      "_view_name": "StyleView",
      "description_width": ""
     }
    },
    "089428f56e66419f85ea149d9d102454": {
     "model_module": "@jupyter-widgets/controls",
     "model_name": "HBoxModel",
     "state": {
      "_dom_classes": [],
      "_model_module": "@jupyter-widgets/controls",
      "_model_module_version": "1.5.0",
      "_model_name": "HBoxModel",
      "_view_count": null,
      "_view_module": "@jupyter-widgets/controls",
      "_view_module_version": "1.5.0",
      "_view_name": "HBoxView",
      "box_style": "",
      "children": [
       "IPY_MODEL_4db5037af3f64a3a8a8a1203018a80ff",
       "IPY_MODEL_6a957c1c17474d8d89c27ddecf702fda"
      ],
      "layout": "IPY_MODEL_d649c0f9c1c24634a84b7ef697721ffa"
     }
    },
    "0987aac282af415da2fbc9dc1b4d5069": {
     "model_module": "@jupyter-widgets/base",
     "model_name": "LayoutModel",
     "state": {
      "_model_module": "@jupyter-widgets/base",
      "_model_module_version": "1.2.0",
      "_model_name": "LayoutModel",
      "_view_count": null,
      "_view_module": "@jupyter-widgets/base",
      "_view_module_version": "1.2.0",
      "_view_name": "LayoutView",
      "align_content": null,
      "align_items": null,
      "align_self": null,
      "border": null,
      "bottom": null,
      "display": null,
      "flex": null,
      "flex_flow": null,
      "grid_area": null,
      "grid_auto_columns": null,
      "grid_auto_flow": null,
      "grid_auto_rows": null,
      "grid_column": null,
      "grid_gap": null,
      "grid_row": null,
      "grid_template_areas": null,
      "grid_template_columns": null,
      "grid_template_rows": null,
      "height": null,
      "justify_content": null,
      "justify_items": null,
      "left": null,
      "margin": null,
      "max_height": null,
      "max_width": null,
      "min_height": null,
      "min_width": null,
      "object_fit": null,
      "object_position": null,
      "order": null,
      "overflow": null,
      "overflow_x": null,
      "overflow_y": null,
      "padding": null,
      "right": null,
      "top": null,
      "visibility": null,
      "width": null
     }
    },
    "0a9b58c98508420d8f8936189f064316": {
     "model_module": "@jupyter-widgets/controls",
     "model_name": "FloatProgressModel",
     "state": {
      "_dom_classes": [],
      "_model_module": "@jupyter-widgets/controls",
      "_model_module_version": "1.5.0",
      "_model_name": "FloatProgressModel",
      "_view_count": null,
      "_view_module": "@jupyter-widgets/controls",
      "_view_module_version": "1.5.0",
      "_view_name": "ProgressView",
      "bar_style": "info",
      "description": "",
      "description_tooltip": null,
      "layout": "IPY_MODEL_af85713f677243d19cba9fe69a4a5f46",
      "max": 1,
      "min": 0,
      "orientation": "horizontal",
      "style": "IPY_MODEL_c546bca23ee248a1be7bd8ead3e82a8f",
      "value": 1
     }
    },
    "0b795d4b68014de19bf9579c67b55ffb": {
     "model_module": "@jupyter-widgets/controls",
     "model_name": "DescriptionStyleModel",
     "state": {
      "_model_module": "@jupyter-widgets/controls",
      "_model_module_version": "1.5.0",
      "_model_name": "DescriptionStyleModel",
      "_view_count": null,
      "_view_module": "@jupyter-widgets/base",
      "_view_module_version": "1.2.0",
      "_view_name": "StyleView",
      "description_width": ""
     }
    },
    "0cd1932178c945d48604ffd299e65d2c": {
     "model_module": "@jupyter-widgets/base",
     "model_name": "LayoutModel",
     "state": {
      "_model_module": "@jupyter-widgets/base",
      "_model_module_version": "1.2.0",
      "_model_name": "LayoutModel",
      "_view_count": null,
      "_view_module": "@jupyter-widgets/base",
      "_view_module_version": "1.2.0",
      "_view_name": "LayoutView",
      "align_content": null,
      "align_items": null,
      "align_self": null,
      "border": null,
      "bottom": null,
      "display": null,
      "flex": null,
      "flex_flow": null,
      "grid_area": null,
      "grid_auto_columns": null,
      "grid_auto_flow": null,
      "grid_auto_rows": null,
      "grid_column": null,
      "grid_gap": null,
      "grid_row": null,
      "grid_template_areas": null,
      "grid_template_columns": null,
      "grid_template_rows": null,
      "height": null,
      "justify_content": null,
      "justify_items": null,
      "left": null,
      "margin": null,
      "max_height": null,
      "max_width": null,
      "min_height": null,
      "min_width": null,
      "object_fit": null,
      "object_position": null,
      "order": null,
      "overflow": null,
      "overflow_x": null,
      "overflow_y": null,
      "padding": null,
      "right": null,
      "top": null,
      "visibility": null,
      "width": null
     }
    },
    "0e999af234bd4b63ad2937e61d08b693": {
     "model_module": "@jupyter-widgets/base",
     "model_name": "LayoutModel",
     "state": {
      "_model_module": "@jupyter-widgets/base",
      "_model_module_version": "1.2.0",
      "_model_name": "LayoutModel",
      "_view_count": null,
      "_view_module": "@jupyter-widgets/base",
      "_view_module_version": "1.2.0",
      "_view_name": "LayoutView",
      "align_content": null,
      "align_items": null,
      "align_self": null,
      "border": null,
      "bottom": null,
      "display": null,
      "flex": null,
      "flex_flow": null,
      "grid_area": null,
      "grid_auto_columns": null,
      "grid_auto_flow": null,
      "grid_auto_rows": null,
      "grid_column": null,
      "grid_gap": null,
      "grid_row": null,
      "grid_template_areas": null,
      "grid_template_columns": null,
      "grid_template_rows": null,
      "height": null,
      "justify_content": null,
      "justify_items": null,
      "left": null,
      "margin": null,
      "max_height": null,
      "max_width": null,
      "min_height": null,
      "min_width": null,
      "object_fit": null,
      "object_position": null,
      "order": null,
      "overflow": null,
      "overflow_x": null,
      "overflow_y": null,
      "padding": null,
      "right": null,
      "top": null,
      "visibility": null,
      "width": null
     }
    },
    "0f3756509e3b405d87936f599b153de2": {
     "model_module": "@jupyter-widgets/base",
     "model_name": "LayoutModel",
     "state": {
      "_model_module": "@jupyter-widgets/base",
      "_model_module_version": "1.2.0",
      "_model_name": "LayoutModel",
      "_view_count": null,
      "_view_module": "@jupyter-widgets/base",
      "_view_module_version": "1.2.0",
      "_view_name": "LayoutView",
      "align_content": null,
      "align_items": null,
      "align_self": null,
      "border": null,
      "bottom": null,
      "display": null,
      "flex": null,
      "flex_flow": null,
      "grid_area": null,
      "grid_auto_columns": null,
      "grid_auto_flow": null,
      "grid_auto_rows": null,
      "grid_column": null,
      "grid_gap": null,
      "grid_row": null,
      "grid_template_areas": null,
      "grid_template_columns": null,
      "grid_template_rows": null,
      "height": null,
      "justify_content": null,
      "justify_items": null,
      "left": null,
      "margin": null,
      "max_height": null,
      "max_width": null,
      "min_height": null,
      "min_width": null,
      "object_fit": null,
      "object_position": null,
      "order": null,
      "overflow": null,
      "overflow_x": null,
      "overflow_y": null,
      "padding": null,
      "right": null,
      "top": null,
      "visibility": null,
      "width": null
     }
    },
    "0f99011a13754ed99f3c51a478b0e793": {
     "model_module": "@jupyter-widgets/controls",
     "model_name": "HBoxModel",
     "state": {
      "_dom_classes": [],
      "_model_module": "@jupyter-widgets/controls",
      "_model_module_version": "1.5.0",
      "_model_name": "HBoxModel",
      "_view_count": null,
      "_view_module": "@jupyter-widgets/controls",
      "_view_module_version": "1.5.0",
      "_view_name": "HBoxView",
      "box_style": "",
      "children": [
       "IPY_MODEL_bd187486ac2548f2961cfcb63d852de1",
       "IPY_MODEL_3f780f0aa8834fc189b292e0474e2ffa"
      ],
      "layout": "IPY_MODEL_4abe2731ec624729b401d60a392cae63"
     }
    },
    "0ffcbedb8d4444508ac0c3c0b41ea8ac": {
     "model_module": "@jupyter-widgets/base",
     "model_name": "LayoutModel",
     "state": {
      "_model_module": "@jupyter-widgets/base",
      "_model_module_version": "1.2.0",
      "_model_name": "LayoutModel",
      "_view_count": null,
      "_view_module": "@jupyter-widgets/base",
      "_view_module_version": "1.2.0",
      "_view_name": "LayoutView",
      "align_content": null,
      "align_items": null,
      "align_self": null,
      "border": null,
      "bottom": null,
      "display": null,
      "flex": null,
      "flex_flow": null,
      "grid_area": null,
      "grid_auto_columns": null,
      "grid_auto_flow": null,
      "grid_auto_rows": null,
      "grid_column": null,
      "grid_gap": null,
      "grid_row": null,
      "grid_template_areas": null,
      "grid_template_columns": null,
      "grid_template_rows": null,
      "height": null,
      "justify_content": null,
      "justify_items": null,
      "left": null,
      "margin": null,
      "max_height": null,
      "max_width": null,
      "min_height": null,
      "min_width": null,
      "object_fit": null,
      "object_position": null,
      "order": null,
      "overflow": null,
      "overflow_x": null,
      "overflow_y": null,
      "padding": null,
      "right": null,
      "top": null,
      "visibility": null,
      "width": null
     }
    },
    "1261590ef796493798f7068ea0547b74": {
     "model_module": "@jupyter-widgets/controls",
     "model_name": "ProgressStyleModel",
     "state": {
      "_model_module": "@jupyter-widgets/controls",
      "_model_module_version": "1.5.0",
      "_model_name": "ProgressStyleModel",
      "_view_count": null,
      "_view_module": "@jupyter-widgets/base",
      "_view_module_version": "1.2.0",
      "_view_name": "StyleView",
      "bar_color": null,
      "description_width": "initial"
     }
    },
    "12696cc03f464a63a411efb2b5e5ac3b": {
     "model_module": "@jupyter-widgets/controls",
     "model_name": "HTMLModel",
     "state": {
      "_dom_classes": [],
      "_model_module": "@jupyter-widgets/controls",
      "_model_module_version": "1.5.0",
      "_model_name": "HTMLModel",
      "_view_count": null,
      "_view_module": "@jupyter-widgets/controls",
      "_view_module_version": "1.5.0",
      "_view_name": "HTMLView",
      "description": "",
      "description_tooltip": null,
      "layout": "IPY_MODEL_ceb44ba4fdf34da19a52469acf1ce63f",
      "placeholder": "​",
      "style": "IPY_MODEL_68a3178fe7a54e838e798ff28ff9aa0b",
      "value": " 139k/? [00:00&lt;00:00, 2.38MB/s]"
     }
    },
    "1813458f75514f039ba0214597a09bb4": {
     "model_module": "@jupyter-widgets/base",
     "model_name": "LayoutModel",
     "state": {
      "_model_module": "@jupyter-widgets/base",
      "_model_module_version": "1.2.0",
      "_model_name": "LayoutModel",
      "_view_count": null,
      "_view_module": "@jupyter-widgets/base",
      "_view_module_version": "1.2.0",
      "_view_name": "LayoutView",
      "align_content": null,
      "align_items": null,
      "align_self": null,
      "border": null,
      "bottom": null,
      "display": null,
      "flex": null,
      "flex_flow": null,
      "grid_area": null,
      "grid_auto_columns": null,
      "grid_auto_flow": null,
      "grid_auto_rows": null,
      "grid_column": null,
      "grid_gap": null,
      "grid_row": null,
      "grid_template_areas": null,
      "grid_template_columns": null,
      "grid_template_rows": null,
      "height": null,
      "justify_content": null,
      "justify_items": null,
      "left": null,
      "margin": null,
      "max_height": null,
      "max_width": null,
      "min_height": null,
      "min_width": null,
      "object_fit": null,
      "object_position": null,
      "order": null,
      "overflow": null,
      "overflow_x": null,
      "overflow_y": null,
      "padding": null,
      "right": null,
      "top": null,
      "visibility": null,
      "width": null
     }
    },
    "19e263785ea343ba99ee2127d9b83d1d": {
     "model_module": "@jupyter-widgets/controls",
     "model_name": "DescriptionStyleModel",
     "state": {
      "_model_module": "@jupyter-widgets/controls",
      "_model_module_version": "1.5.0",
      "_model_name": "DescriptionStyleModel",
      "_view_count": null,
      "_view_module": "@jupyter-widgets/base",
      "_view_module_version": "1.2.0",
      "_view_name": "StyleView",
      "description_width": ""
     }
    },
    "1f1faa7b986e475c9e6839b2e7b55c74": {
     "model_module": "@jupyter-widgets/controls",
     "model_name": "HTMLModel",
     "state": {
      "_dom_classes": [],
      "_model_module": "@jupyter-widgets/controls",
      "_model_module_version": "1.5.0",
      "_model_name": "HTMLModel",
      "_view_count": null,
      "_view_module": "@jupyter-widgets/controls",
      "_view_module_version": "1.5.0",
      "_view_name": "HTMLView",
      "description": "",
      "description_tooltip": null,
      "layout": "IPY_MODEL_b320306eaf264ad9872d507a1a1cb2da",
      "placeholder": "​",
      "style": "IPY_MODEL_2ca2f397c4ef405bba27ae2b1415cada",
      "value": " 3478/3478 [03:59&lt;00:00, 14.53ex/s]"
     }
    },
    "20347ed29fdc4c0a96da28c09aacf44d": {
     "model_module": "@jupyter-widgets/controls",
     "model_name": "DescriptionStyleModel",
     "state": {
      "_model_module": "@jupyter-widgets/controls",
      "_model_module_version": "1.5.0",
      "_model_name": "DescriptionStyleModel",
      "_view_count": null,
      "_view_module": "@jupyter-widgets/base",
      "_view_module_version": "1.2.0",
      "_view_name": "StyleView",
      "description_width": ""
     }
    },
    "231c66f195d34f86b216805518f4bccd": {
     "model_module": "@jupyter-widgets/controls",
     "model_name": "ProgressStyleModel",
     "state": {
      "_model_module": "@jupyter-widgets/controls",
      "_model_module_version": "1.5.0",
      "_model_name": "ProgressStyleModel",
      "_view_count": null,
      "_view_module": "@jupyter-widgets/base",
      "_view_module_version": "1.2.0",
      "_view_name": "StyleView",
      "bar_color": null,
      "description_width": "initial"
     }
    },
    "24ea17ae8ab14e8a871e5e115c3f4c06": {
     "model_module": "@jupyter-widgets/controls",
     "model_name": "HBoxModel",
     "state": {
      "_dom_classes": [],
      "_model_module": "@jupyter-widgets/controls",
      "_model_module_version": "1.5.0",
      "_model_name": "HBoxModel",
      "_view_count": null,
      "_view_module": "@jupyter-widgets/controls",
      "_view_module_version": "1.5.0",
      "_view_name": "HBoxView",
      "box_style": "",
      "children": [
       "IPY_MODEL_f3905820a42c499fba04af9c1ad19705",
       "IPY_MODEL_4e1a725fd90b45e280b8b0028ba65250"
      ],
      "layout": "IPY_MODEL_f57d087016124ebeb073fd7428dcb68b"
     }
    },
    "25ba4f4c8b9c44af9885b3903a9261fd": {
     "model_module": "@jupyter-widgets/controls",
     "model_name": "HBoxModel",
     "state": {
      "_dom_classes": [],
      "_model_module": "@jupyter-widgets/controls",
      "_model_module_version": "1.5.0",
      "_model_name": "HBoxModel",
      "_view_count": null,
      "_view_module": "@jupyter-widgets/controls",
      "_view_module_version": "1.5.0",
      "_view_name": "HBoxView",
      "box_style": "",
      "children": [
       "IPY_MODEL_03b33c17734d49e28c4636dddd6e833d",
       "IPY_MODEL_71c059a0f3c246f3a40d55744331daaa"
      ],
      "layout": "IPY_MODEL_dde7ae43ef954ef1b901c80f0a4e11fd"
     }
    },
    "26e7bab0f3bf4797bfcef83dcace24f0": {
     "model_module": "@jupyter-widgets/base",
     "model_name": "LayoutModel",
     "state": {
      "_model_module": "@jupyter-widgets/base",
      "_model_module_version": "1.2.0",
      "_model_name": "LayoutModel",
      "_view_count": null,
      "_view_module": "@jupyter-widgets/base",
      "_view_module_version": "1.2.0",
      "_view_name": "LayoutView",
      "align_content": null,
      "align_items": null,
      "align_self": null,
      "border": null,
      "bottom": null,
      "display": null,
      "flex": null,
      "flex_flow": null,
      "grid_area": null,
      "grid_auto_columns": null,
      "grid_auto_flow": null,
      "grid_auto_rows": null,
      "grid_column": null,
      "grid_gap": null,
      "grid_row": null,
      "grid_template_areas": null,
      "grid_template_columns": null,
      "grid_template_rows": null,
      "height": null,
      "justify_content": null,
      "justify_items": null,
      "left": null,
      "margin": null,
      "max_height": null,
      "max_width": null,
      "min_height": null,
      "min_width": null,
      "object_fit": null,
      "object_position": null,
      "order": null,
      "overflow": null,
      "overflow_x": null,
      "overflow_y": null,
      "padding": null,
      "right": null,
      "top": null,
      "visibility": null,
      "width": null
     }
    },
    "2a6e1185a6a247f5acba8111824ad36b": {
     "model_module": "@jupyter-widgets/controls",
     "model_name": "ProgressStyleModel",
     "state": {
      "_model_module": "@jupyter-widgets/controls",
      "_model_module_version": "1.5.0",
      "_model_name": "ProgressStyleModel",
      "_view_count": null,
      "_view_module": "@jupyter-widgets/base",
      "_view_module_version": "1.2.0",
      "_view_name": "StyleView",
      "bar_color": null,
      "description_width": "initial"
     }
    },
    "2ca2f397c4ef405bba27ae2b1415cada": {
     "model_module": "@jupyter-widgets/controls",
     "model_name": "DescriptionStyleModel",
     "state": {
      "_model_module": "@jupyter-widgets/controls",
      "_model_module_version": "1.5.0",
      "_model_name": "DescriptionStyleModel",
      "_view_count": null,
      "_view_module": "@jupyter-widgets/base",
      "_view_module_version": "1.2.0",
      "_view_name": "StyleView",
      "description_width": ""
     }
    },
    "2cd13e03a2ab45dc8570c8c739a613b4": {
     "model_module": "@jupyter-widgets/base",
     "model_name": "LayoutModel",
     "state": {
      "_model_module": "@jupyter-widgets/base",
      "_model_module_version": "1.2.0",
      "_model_name": "LayoutModel",
      "_view_count": null,
      "_view_module": "@jupyter-widgets/base",
      "_view_module_version": "1.2.0",
      "_view_name": "LayoutView",
      "align_content": null,
      "align_items": null,
      "align_self": null,
      "border": null,
      "bottom": null,
      "display": null,
      "flex": null,
      "flex_flow": null,
      "grid_area": null,
      "grid_auto_columns": null,
      "grid_auto_flow": null,
      "grid_auto_rows": null,
      "grid_column": null,
      "grid_gap": null,
      "grid_row": null,
      "grid_template_areas": null,
      "grid_template_columns": null,
      "grid_template_rows": null,
      "height": null,
      "justify_content": null,
      "justify_items": null,
      "left": null,
      "margin": null,
      "max_height": null,
      "max_width": null,
      "min_height": null,
      "min_width": null,
      "object_fit": null,
      "object_position": null,
      "order": null,
      "overflow": null,
      "overflow_x": null,
      "overflow_y": null,
      "padding": null,
      "right": null,
      "top": null,
      "visibility": null,
      "width": null
     }
    },
    "2f18d89c684343b69c3f44ffbb9b42a0": {
     "model_module": "@jupyter-widgets/controls",
     "model_name": "DescriptionStyleModel",
     "state": {
      "_model_module": "@jupyter-widgets/controls",
      "_model_module_version": "1.5.0",
      "_model_name": "DescriptionStyleModel",
      "_view_count": null,
      "_view_module": "@jupyter-widgets/base",
      "_view_module_version": "1.2.0",
      "_view_name": "StyleView",
      "description_width": ""
     }
    },
    "2f5406546970425282a881b5d2f7c248": {
     "model_module": "@jupyter-widgets/base",
     "model_name": "LayoutModel",
     "state": {
      "_model_module": "@jupyter-widgets/base",
      "_model_module_version": "1.2.0",
      "_model_name": "LayoutModel",
      "_view_count": null,
      "_view_module": "@jupyter-widgets/base",
      "_view_module_version": "1.2.0",
      "_view_name": "LayoutView",
      "align_content": null,
      "align_items": null,
      "align_self": null,
      "border": null,
      "bottom": null,
      "display": null,
      "flex": null,
      "flex_flow": null,
      "grid_area": null,
      "grid_auto_columns": null,
      "grid_auto_flow": null,
      "grid_auto_rows": null,
      "grid_column": null,
      "grid_gap": null,
      "grid_row": null,
      "grid_template_areas": null,
      "grid_template_columns": null,
      "grid_template_rows": null,
      "height": null,
      "justify_content": null,
      "justify_items": null,
      "left": null,
      "margin": null,
      "max_height": null,
      "max_width": null,
      "min_height": null,
      "min_width": null,
      "object_fit": null,
      "object_position": null,
      "order": null,
      "overflow": null,
      "overflow_x": null,
      "overflow_y": null,
      "padding": null,
      "right": null,
      "top": null,
      "visibility": null,
      "width": null
     }
    },
    "2f727c76652944e3892dd584bea11af2": {
     "model_module": "@jupyter-widgets/controls",
     "model_name": "ProgressStyleModel",
     "state": {
      "_model_module": "@jupyter-widgets/controls",
      "_model_module_version": "1.5.0",
      "_model_name": "ProgressStyleModel",
      "_view_count": null,
      "_view_module": "@jupyter-widgets/base",
      "_view_module_version": "1.2.0",
      "_view_name": "StyleView",
      "bar_color": null,
      "description_width": "initial"
     }
    },
    "2fd148d5587b4139919b0158f9dad71e": {
     "model_module": "@jupyter-widgets/base",
     "model_name": "LayoutModel",
     "state": {
      "_model_module": "@jupyter-widgets/base",
      "_model_module_version": "1.2.0",
      "_model_name": "LayoutModel",
      "_view_count": null,
      "_view_module": "@jupyter-widgets/base",
      "_view_module_version": "1.2.0",
      "_view_name": "LayoutView",
      "align_content": null,
      "align_items": null,
      "align_self": null,
      "border": null,
      "bottom": null,
      "display": null,
      "flex": null,
      "flex_flow": null,
      "grid_area": null,
      "grid_auto_columns": null,
      "grid_auto_flow": null,
      "grid_auto_rows": null,
      "grid_column": null,
      "grid_gap": null,
      "grid_row": null,
      "grid_template_areas": null,
      "grid_template_columns": null,
      "grid_template_rows": null,
      "height": null,
      "justify_content": null,
      "justify_items": null,
      "left": null,
      "margin": null,
      "max_height": null,
      "max_width": null,
      "min_height": null,
      "min_width": null,
      "object_fit": null,
      "object_position": null,
      "order": null,
      "overflow": null,
      "overflow_x": null,
      "overflow_y": null,
      "padding": null,
      "right": null,
      "top": null,
      "visibility": null,
      "width": null
     }
    },
    "304e9130c12f4110941bfbd3db49a28c": {
     "model_module": "@jupyter-widgets/controls",
     "model_name": "HBoxModel",
     "state": {
      "_dom_classes": [],
      "_model_module": "@jupyter-widgets/controls",
      "_model_module_version": "1.5.0",
      "_model_name": "HBoxModel",
      "_view_count": null,
      "_view_module": "@jupyter-widgets/controls",
      "_view_module_version": "1.5.0",
      "_view_name": "HBoxView",
      "box_style": "",
      "children": [
       "IPY_MODEL_75e00c38605f44cfb584067db1160349",
       "IPY_MODEL_8c07a528fc4a4e108b393ab117fe2e46"
      ],
      "layout": "IPY_MODEL_5e6bae23461b4378b6e5fc890fe6bc97"
     }
    },
    "3133b378b9294a759c8dfb786ed8f815": {
     "model_module": "@jupyter-widgets/controls",
     "model_name": "ProgressStyleModel",
     "state": {
      "_model_module": "@jupyter-widgets/controls",
      "_model_module_version": "1.5.0",
      "_model_name": "ProgressStyleModel",
      "_view_count": null,
      "_view_module": "@jupyter-widgets/base",
      "_view_module_version": "1.2.0",
      "_view_name": "StyleView",
      "bar_color": null,
      "description_width": "initial"
     }
    },
    "330226a977694de1bd88c0aa3789be47": {
     "model_module": "@jupyter-widgets/base",
     "model_name": "LayoutModel",
     "state": {
      "_model_module": "@jupyter-widgets/base",
      "_model_module_version": "1.2.0",
      "_model_name": "LayoutModel",
      "_view_count": null,
      "_view_module": "@jupyter-widgets/base",
      "_view_module_version": "1.2.0",
      "_view_name": "LayoutView",
      "align_content": null,
      "align_items": null,
      "align_self": null,
      "border": null,
      "bottom": null,
      "display": null,
      "flex": null,
      "flex_flow": null,
      "grid_area": null,
      "grid_auto_columns": null,
      "grid_auto_flow": null,
      "grid_auto_rows": null,
      "grid_column": null,
      "grid_gap": null,
      "grid_row": null,
      "grid_template_areas": null,
      "grid_template_columns": null,
      "grid_template_rows": null,
      "height": null,
      "justify_content": null,
      "justify_items": null,
      "left": null,
      "margin": null,
      "max_height": null,
      "max_width": null,
      "min_height": null,
      "min_width": null,
      "object_fit": null,
      "object_position": null,
      "order": null,
      "overflow": null,
      "overflow_x": null,
      "overflow_y": null,
      "padding": null,
      "right": null,
      "top": null,
      "visibility": null,
      "width": null
     }
    },
    "33c92b5afd1d4b6d88016aabfb434194": {
     "model_module": "@jupyter-widgets/controls",
     "model_name": "FloatProgressModel",
     "state": {
      "_dom_classes": [],
      "_model_module": "@jupyter-widgets/controls",
      "_model_module_version": "1.5.0",
      "_model_name": "FloatProgressModel",
      "_view_count": null,
      "_view_module": "@jupyter-widgets/controls",
      "_view_module_version": "1.5.0",
      "_view_name": "ProgressView",
      "bar_style": "success",
      "description": "100%",
      "description_tooltip": null,
      "layout": "IPY_MODEL_3dc9ea77b842455a91f00e9ca9f41948",
      "max": 1647,
      "min": 0,
      "orientation": "horizontal",
      "style": "IPY_MODEL_45f0a2f361da4608bc8314a27657a56c",
      "value": 1647
     }
    },
    "348ef54c80b2449f8a3bc950cccd62cc": {
     "model_module": "@jupyter-widgets/controls",
     "model_name": "HBoxModel",
     "state": {
      "_dom_classes": [],
      "_model_module": "@jupyter-widgets/controls",
      "_model_module_version": "1.5.0",
      "_model_name": "HBoxModel",
      "_view_count": null,
      "_view_module": "@jupyter-widgets/controls",
      "_view_module_version": "1.5.0",
      "_view_name": "HBoxView",
      "box_style": "",
      "children": [
       "IPY_MODEL_7edbecaccdd94ede8fddc0e1807e777e",
       "IPY_MODEL_5e3aad95e52f4be2bd670d1345398f1b"
      ],
      "layout": "IPY_MODEL_b78413dcc0584a0c8f71731a06aaa1b8"
     }
    },
    "389e43e47a734193a507817ebad955f7": {
     "model_module": "@jupyter-widgets/base",
     "model_name": "LayoutModel",
     "state": {
      "_model_module": "@jupyter-widgets/base",
      "_model_module_version": "1.2.0",
      "_model_name": "LayoutModel",
      "_view_count": null,
      "_view_module": "@jupyter-widgets/base",
      "_view_module_version": "1.2.0",
      "_view_name": "LayoutView",
      "align_content": null,
      "align_items": null,
      "align_self": null,
      "border": null,
      "bottom": null,
      "display": null,
      "flex": null,
      "flex_flow": null,
      "grid_area": null,
      "grid_auto_columns": null,
      "grid_auto_flow": null,
      "grid_auto_rows": null,
      "grid_column": null,
      "grid_gap": null,
      "grid_row": null,
      "grid_template_areas": null,
      "grid_template_columns": null,
      "grid_template_rows": null,
      "height": null,
      "justify_content": null,
      "justify_items": null,
      "left": null,
      "margin": null,
      "max_height": null,
      "max_width": null,
      "min_height": null,
      "min_width": null,
      "object_fit": null,
      "object_position": null,
      "order": null,
      "overflow": null,
      "overflow_x": null,
      "overflow_y": null,
      "padding": null,
      "right": null,
      "top": null,
      "visibility": null,
      "width": null
     }
    },
    "3bdb4058f40f40e3a10e323325a64638": {
     "model_module": "@jupyter-widgets/controls",
     "model_name": "HTMLModel",
     "state": {
      "_dom_classes": [],
      "_model_module": "@jupyter-widgets/controls",
      "_model_module_version": "1.5.0",
      "_model_name": "HTMLModel",
      "_view_count": null,
      "_view_module": "@jupyter-widgets/controls",
      "_view_module_version": "1.5.0",
      "_view_name": "HTMLView",
      "description": "",
      "description_tooltip": null,
      "layout": "IPY_MODEL_d7f27e9cf8a844349ca90393e0c49a03",
      "placeholder": "​",
      "style": "IPY_MODEL_751ae6b9e2da4b85be9600561485f1ac",
      "value": " 412/412 [03:04&lt;00:00,  2.23ex/s]"
     }
    },
    "3d929b9e2518402b81a71757ffb753d2": {
     "model_module": "@jupyter-widgets/base",
     "model_name": "LayoutModel",
     "state": {
      "_model_module": "@jupyter-widgets/base",
      "_model_module_version": "1.2.0",
      "_model_name": "LayoutModel",
      "_view_count": null,
      "_view_module": "@jupyter-widgets/base",
      "_view_module_version": "1.2.0",
      "_view_name": "LayoutView",
      "align_content": null,
      "align_items": null,
      "align_self": null,
      "border": null,
      "bottom": null,
      "display": null,
      "flex": null,
      "flex_flow": null,
      "grid_area": null,
      "grid_auto_columns": null,
      "grid_auto_flow": null,
      "grid_auto_rows": null,
      "grid_column": null,
      "grid_gap": null,
      "grid_row": null,
      "grid_template_areas": null,
      "grid_template_columns": null,
      "grid_template_rows": null,
      "height": null,
      "justify_content": null,
      "justify_items": null,
      "left": null,
      "margin": null,
      "max_height": null,
      "max_width": null,
      "min_height": null,
      "min_width": null,
      "object_fit": null,
      "object_position": null,
      "order": null,
      "overflow": null,
      "overflow_x": null,
      "overflow_y": null,
      "padding": null,
      "right": null,
      "top": null,
      "visibility": null,
      "width": null
     }
    },
    "3dc9ea77b842455a91f00e9ca9f41948": {
     "model_module": "@jupyter-widgets/base",
     "model_name": "LayoutModel",
     "state": {
      "_model_module": "@jupyter-widgets/base",
      "_model_module_version": "1.2.0",
      "_model_name": "LayoutModel",
      "_view_count": null,
      "_view_module": "@jupyter-widgets/base",
      "_view_module_version": "1.2.0",
      "_view_name": "LayoutView",
      "align_content": null,
      "align_items": null,
      "align_self": null,
      "border": null,
      "bottom": null,
      "display": null,
      "flex": null,
      "flex_flow": null,
      "grid_area": null,
      "grid_auto_columns": null,
      "grid_auto_flow": null,
      "grid_auto_rows": null,
      "grid_column": null,
      "grid_gap": null,
      "grid_row": null,
      "grid_template_areas": null,
      "grid_template_columns": null,
      "grid_template_rows": null,
      "height": null,
      "justify_content": null,
      "justify_items": null,
      "left": null,
      "margin": null,
      "max_height": null,
      "max_width": null,
      "min_height": null,
      "min_width": null,
      "object_fit": null,
      "object_position": null,
      "order": null,
      "overflow": null,
      "overflow_x": null,
      "overflow_y": null,
      "padding": null,
      "right": null,
      "top": null,
      "visibility": null,
      "width": null
     }
    },
    "3e2cd59ac697495f8db14b894b783f95": {
     "model_module": "@jupyter-widgets/base",
     "model_name": "LayoutModel",
     "state": {
      "_model_module": "@jupyter-widgets/base",
      "_model_module_version": "1.2.0",
      "_model_name": "LayoutModel",
      "_view_count": null,
      "_view_module": "@jupyter-widgets/base",
      "_view_module_version": "1.2.0",
      "_view_name": "LayoutView",
      "align_content": null,
      "align_items": null,
      "align_self": null,
      "border": null,
      "bottom": null,
      "display": null,
      "flex": null,
      "flex_flow": null,
      "grid_area": null,
      "grid_auto_columns": null,
      "grid_auto_flow": null,
      "grid_auto_rows": null,
      "grid_column": null,
      "grid_gap": null,
      "grid_row": null,
      "grid_template_areas": null,
      "grid_template_columns": null,
      "grid_template_rows": null,
      "height": null,
      "justify_content": null,
      "justify_items": null,
      "left": null,
      "margin": null,
      "max_height": null,
      "max_width": null,
      "min_height": null,
      "min_width": null,
      "object_fit": null,
      "object_position": null,
      "order": null,
      "overflow": null,
      "overflow_x": null,
      "overflow_y": null,
      "padding": null,
      "right": null,
      "top": null,
      "visibility": null,
      "width": null
     }
    },
    "3e3a022a9f304b0f9f7ef067fcee1e56": {
     "model_module": "@jupyter-widgets/base",
     "model_name": "LayoutModel",
     "state": {
      "_model_module": "@jupyter-widgets/base",
      "_model_module_version": "1.2.0",
      "_model_name": "LayoutModel",
      "_view_count": null,
      "_view_module": "@jupyter-widgets/base",
      "_view_module_version": "1.2.0",
      "_view_name": "LayoutView",
      "align_content": null,
      "align_items": null,
      "align_self": null,
      "border": null,
      "bottom": null,
      "display": null,
      "flex": null,
      "flex_flow": null,
      "grid_area": null,
      "grid_auto_columns": null,
      "grid_auto_flow": null,
      "grid_auto_rows": null,
      "grid_column": null,
      "grid_gap": null,
      "grid_row": null,
      "grid_template_areas": null,
      "grid_template_columns": null,
      "grid_template_rows": null,
      "height": null,
      "justify_content": null,
      "justify_items": null,
      "left": null,
      "margin": null,
      "max_height": null,
      "max_width": null,
      "min_height": null,
      "min_width": null,
      "object_fit": null,
      "object_position": null,
      "order": null,
      "overflow": null,
      "overflow_x": null,
      "overflow_y": null,
      "padding": null,
      "right": null,
      "top": null,
      "visibility": null,
      "width": null
     }
    },
    "3ec3285e9f3e4a5abcefabb7f140f4a3": {
     "model_module": "@jupyter-widgets/controls",
     "model_name": "ProgressStyleModel",
     "state": {
      "_model_module": "@jupyter-widgets/controls",
      "_model_module_version": "1.5.0",
      "_model_name": "ProgressStyleModel",
      "_view_count": null,
      "_view_module": "@jupyter-widgets/base",
      "_view_module_version": "1.2.0",
      "_view_name": "StyleView",
      "bar_color": null,
      "description_width": "initial"
     }
    },
    "3f780f0aa8834fc189b292e0474e2ffa": {
     "model_module": "@jupyter-widgets/controls",
     "model_name": "HTMLModel",
     "state": {
      "_dom_classes": [],
      "_model_module": "@jupyter-widgets/controls",
      "_model_module_version": "1.5.0",
      "_model_name": "HTMLModel",
      "_view_count": null,
      "_view_module": "@jupyter-widgets/controls",
      "_view_module_version": "1.5.0",
      "_view_name": "HTMLView",
      "description": "",
      "description_tooltip": null,
      "layout": "IPY_MODEL_a868dea9d9b047a4b853b390e138e4c1",
      "placeholder": "​",
      "style": "IPY_MODEL_ec36a94ee2574ac8b227ccaefdee5520",
      "value": " 52/52 [00:31&lt;00:00,  1.67ba/s]"
     }
    },
    "405b5de4ae854cf9896f63d15f2207dd": {
     "model_module": "@jupyter-widgets/controls",
     "model_name": "DescriptionStyleModel",
     "state": {
      "_model_module": "@jupyter-widgets/controls",
      "_model_module_version": "1.5.0",
      "_model_name": "DescriptionStyleModel",
      "_view_count": null,
      "_view_module": "@jupyter-widgets/base",
      "_view_module_version": "1.2.0",
      "_view_name": "StyleView",
      "description_width": ""
     }
    },
    "416badb151ee4660b53fdbc136e0c8fb": {
     "model_module": "@jupyter-widgets/controls",
     "model_name": "HTMLModel",
     "state": {
      "_dom_classes": [],
      "_model_module": "@jupyter-widgets/controls",
      "_model_module_version": "1.5.0",
      "_model_name": "HTMLModel",
      "_view_count": null,
      "_view_module": "@jupyter-widgets/controls",
      "_view_module_version": "1.5.0",
      "_view_name": "HTMLView",
      "description": "",
      "description_tooltip": null,
      "layout": "IPY_MODEL_0f3756509e3b405d87936f599b153de2",
      "placeholder": "​",
      "style": "IPY_MODEL_824569c63ec445c08362659ca228dd2a",
      "value": " 412/412 [03:01&lt;00:00,  2.28ex/s]"
     }
    },
    "430c3c079d0e4006b90e72df7986ffb0": {
     "model_module": "@jupyter-widgets/base",
     "model_name": "LayoutModel",
     "state": {
      "_model_module": "@jupyter-widgets/base",
      "_model_module_version": "1.2.0",
      "_model_name": "LayoutModel",
      "_view_count": null,
      "_view_module": "@jupyter-widgets/base",
      "_view_module_version": "1.2.0",
      "_view_name": "LayoutView",
      "align_content": null,
      "align_items": null,
      "align_self": null,
      "border": null,
      "bottom": null,
      "display": null,
      "flex": null,
      "flex_flow": null,
      "grid_area": null,
      "grid_auto_columns": null,
      "grid_auto_flow": null,
      "grid_auto_rows": null,
      "grid_column": null,
      "grid_gap": null,
      "grid_row": null,
      "grid_template_areas": null,
      "grid_template_columns": null,
      "grid_template_rows": null,
      "height": null,
      "justify_content": null,
      "justify_items": null,
      "left": null,
      "margin": null,
      "max_height": null,
      "max_width": null,
      "min_height": null,
      "min_width": null,
      "object_fit": null,
      "object_position": null,
      "order": null,
      "overflow": null,
      "overflow_x": null,
      "overflow_y": null,
      "padding": null,
      "right": null,
      "top": null,
      "visibility": null,
      "width": null
     }
    },
    "4382726ef043441a9b1a4a647d84f242": {
     "model_module": "@jupyter-widgets/controls",
     "model_name": "ProgressStyleModel",
     "state": {
      "_model_module": "@jupyter-widgets/controls",
      "_model_module_version": "1.5.0",
      "_model_name": "ProgressStyleModel",
      "_view_count": null,
      "_view_module": "@jupyter-widgets/base",
      "_view_module_version": "1.2.0",
      "_view_name": "StyleView",
      "bar_color": null,
      "description_width": "initial"
     }
    },
    "45f0a2f361da4608bc8314a27657a56c": {
     "model_module": "@jupyter-widgets/controls",
     "model_name": "ProgressStyleModel",
     "state": {
      "_model_module": "@jupyter-widgets/controls",
      "_model_module_version": "1.5.0",
      "_model_name": "ProgressStyleModel",
      "_view_count": null,
      "_view_module": "@jupyter-widgets/base",
      "_view_module_version": "1.2.0",
      "_view_name": "StyleView",
      "bar_color": null,
      "description_width": "initial"
     }
    },
    "4797f1acd9924b4e97f12f964c83078c": {
     "model_module": "@jupyter-widgets/controls",
     "model_name": "HBoxModel",
     "state": {
      "_dom_classes": [],
      "_model_module": "@jupyter-widgets/controls",
      "_model_module_version": "1.5.0",
      "_model_name": "HBoxModel",
      "_view_count": null,
      "_view_module": "@jupyter-widgets/controls",
      "_view_module_version": "1.5.0",
      "_view_name": "HBoxView",
      "box_style": "",
      "children": [
       "IPY_MODEL_5370c0f2d54b45c0a89f11fb5b70cd4b",
       "IPY_MODEL_018c1f8e198e4df4b480e609bd1be602"
      ],
      "layout": "IPY_MODEL_73940df84ffd4e0f96637342e9fd12b7"
     }
    },
    "47a6c3c427614f21a6dab1c048e5dd37": {
     "model_module": "@jupyter-widgets/base",
     "model_name": "LayoutModel",
     "state": {
      "_model_module": "@jupyter-widgets/base",
      "_model_module_version": "1.2.0",
      "_model_name": "LayoutModel",
      "_view_count": null,
      "_view_module": "@jupyter-widgets/base",
      "_view_module_version": "1.2.0",
      "_view_name": "LayoutView",
      "align_content": null,
      "align_items": null,
      "align_self": null,
      "border": null,
      "bottom": null,
      "display": null,
      "flex": null,
      "flex_flow": null,
      "grid_area": null,
      "grid_auto_columns": null,
      "grid_auto_flow": null,
      "grid_auto_rows": null,
      "grid_column": null,
      "grid_gap": null,
      "grid_row": null,
      "grid_template_areas": null,
      "grid_template_columns": null,
      "grid_template_rows": null,
      "height": null,
      "justify_content": null,
      "justify_items": null,
      "left": null,
      "margin": null,
      "max_height": null,
      "max_width": null,
      "min_height": null,
      "min_width": null,
      "object_fit": null,
      "object_position": null,
      "order": null,
      "overflow": null,
      "overflow_x": null,
      "overflow_y": null,
      "padding": null,
      "right": null,
      "top": null,
      "visibility": null,
      "width": null
     }
    },
    "491fd969d61a478f8e85ffcd3e1a3e20": {
     "model_module": "@jupyter-widgets/base",
     "model_name": "LayoutModel",
     "state": {
      "_model_module": "@jupyter-widgets/base",
      "_model_module_version": "1.2.0",
      "_model_name": "LayoutModel",
      "_view_count": null,
      "_view_module": "@jupyter-widgets/base",
      "_view_module_version": "1.2.0",
      "_view_name": "LayoutView",
      "align_content": null,
      "align_items": null,
      "align_self": null,
      "border": null,
      "bottom": null,
      "display": null,
      "flex": null,
      "flex_flow": null,
      "grid_area": null,
      "grid_auto_columns": null,
      "grid_auto_flow": null,
      "grid_auto_rows": null,
      "grid_column": null,
      "grid_gap": null,
      "grid_row": null,
      "grid_template_areas": null,
      "grid_template_columns": null,
      "grid_template_rows": null,
      "height": null,
      "justify_content": null,
      "justify_items": null,
      "left": null,
      "margin": null,
      "max_height": null,
      "max_width": null,
      "min_height": null,
      "min_width": null,
      "object_fit": null,
      "object_position": null,
      "order": null,
      "overflow": null,
      "overflow_x": null,
      "overflow_y": null,
      "padding": null,
      "right": null,
      "top": null,
      "visibility": null,
      "width": null
     }
    },
    "49defa4284554baf85f32de242b22709": {
     "model_module": "@jupyter-widgets/controls",
     "model_name": "ProgressStyleModel",
     "state": {
      "_model_module": "@jupyter-widgets/controls",
      "_model_module_version": "1.5.0",
      "_model_name": "ProgressStyleModel",
      "_view_count": null,
      "_view_module": "@jupyter-widgets/base",
      "_view_module_version": "1.2.0",
      "_view_name": "StyleView",
      "bar_color": null,
      "description_width": "initial"
     }
    },
    "4abe2731ec624729b401d60a392cae63": {
     "model_module": "@jupyter-widgets/base",
     "model_name": "LayoutModel",
     "state": {
      "_model_module": "@jupyter-widgets/base",
      "_model_module_version": "1.2.0",
      "_model_name": "LayoutModel",
      "_view_count": null,
      "_view_module": "@jupyter-widgets/base",
      "_view_module_version": "1.2.0",
      "_view_name": "LayoutView",
      "align_content": null,
      "align_items": null,
      "align_self": null,
      "border": null,
      "bottom": null,
      "display": null,
      "flex": null,
      "flex_flow": null,
      "grid_area": null,
      "grid_auto_columns": null,
      "grid_auto_flow": null,
      "grid_auto_rows": null,
      "grid_column": null,
      "grid_gap": null,
      "grid_row": null,
      "grid_template_areas": null,
      "grid_template_columns": null,
      "grid_template_rows": null,
      "height": null,
      "justify_content": null,
      "justify_items": null,
      "left": null,
      "margin": null,
      "max_height": null,
      "max_width": null,
      "min_height": null,
      "min_width": null,
      "object_fit": null,
      "object_position": null,
      "order": null,
      "overflow": null,
      "overflow_x": null,
      "overflow_y": null,
      "padding": null,
      "right": null,
      "top": null,
      "visibility": null,
      "width": null
     }
    },
    "4c0ad31e73234e46aac0a297ec18bdeb": {
     "model_module": "@jupyter-widgets/controls",
     "model_name": "ProgressStyleModel",
     "state": {
      "_model_module": "@jupyter-widgets/controls",
      "_model_module_version": "1.5.0",
      "_model_name": "ProgressStyleModel",
      "_view_count": null,
      "_view_module": "@jupyter-widgets/base",
      "_view_module_version": "1.2.0",
      "_view_name": "StyleView",
      "bar_color": null,
      "description_width": "initial"
     }
    },
    "4db5037af3f64a3a8a8a1203018a80ff": {
     "model_module": "@jupyter-widgets/controls",
     "model_name": "FloatProgressModel",
     "state": {
      "_dom_classes": [],
      "_model_module": "@jupyter-widgets/controls",
      "_model_module_version": "1.5.0",
      "_model_name": "FloatProgressModel",
      "_view_count": null,
      "_view_module": "@jupyter-widgets/controls",
      "_view_module_version": "1.5.0",
      "_view_name": "ProgressView",
      "bar_style": "info",
      "description": "",
      "description_tooltip": null,
      "layout": "IPY_MODEL_c0e6b6e6395d4dbd827eb1c0de1ad21a",
      "max": 1,
      "min": 0,
      "orientation": "horizontal",
      "style": "IPY_MODEL_2a6e1185a6a247f5acba8111824ad36b",
      "value": 1
     }
    },
    "4e1a725fd90b45e280b8b0028ba65250": {
     "model_module": "@jupyter-widgets/controls",
     "model_name": "HTMLModel",
     "state": {
      "_dom_classes": [],
      "_model_module": "@jupyter-widgets/controls",
      "_model_module_version": "1.5.0",
      "_model_name": "HTMLModel",
      "_view_count": null,
      "_view_module": "@jupyter-widgets/controls",
      "_view_module_version": "1.5.0",
      "_view_name": "HTMLView",
      "description": "",
      "description_tooltip": null,
      "layout": "IPY_MODEL_491fd969d61a478f8e85ffcd3e1a3e20",
      "placeholder": "​",
      "style": "IPY_MODEL_9f79629ad6a94201acf3283862d1ae17",
      "value": " 869/869 [05:48&lt;00:00,  2.49ex/s]"
     }
    },
    "4f8957dc035d4c1a9e8630fc8ab8cd10": {
     "model_module": "@jupyter-widgets/controls",
     "model_name": "FloatProgressModel",
     "state": {
      "_dom_classes": [],
      "_model_module": "@jupyter-widgets/controls",
      "_model_module_version": "1.5.0",
      "_model_name": "FloatProgressModel",
      "_view_count": null,
      "_view_module": "@jupyter-widgets/controls",
      "_view_module_version": "1.5.0",
      "_view_name": "ProgressView",
      "bar_style": "success",
      "description": "#1: 100%",
      "description_tooltip": null,
      "layout": "IPY_MODEL_47a6c3c427614f21a6dab1c048e5dd37",
      "max": 870,
      "min": 0,
      "orientation": "horizontal",
      "style": "IPY_MODEL_596aea0362924c7db583203268dd5a3e",
      "value": 870
     }
    },
    "4fb7347e9ca542e6ab9003bf4db218e0": {
     "model_module": "@jupyter-widgets/controls",
     "model_name": "HTMLModel",
     "state": {
      "_dom_classes": [],
      "_model_module": "@jupyter-widgets/controls",
      "_model_module_version": "1.5.0",
      "_model_name": "HTMLModel",
      "_view_count": null,
      "_view_module": "@jupyter-widgets/controls",
      "_view_module_version": "1.5.0",
      "_view_name": "HTMLView",
      "description": "",
      "description_tooltip": null,
      "layout": "IPY_MODEL_0987aac282af415da2fbc9dc1b4d5069",
      "placeholder": "​",
      "style": "IPY_MODEL_6d4a26d876fb4ac6b5948a09945bdc6b",
      "value": " 109/109 [00:58&lt;00:00,  1.88ba/s]"
     }
    },
    "4ff7ccffc36a4a0f93031f5cdc3b718d": {
     "model_module": "@jupyter-widgets/controls",
     "model_name": "ProgressStyleModel",
     "state": {
      "_model_module": "@jupyter-widgets/controls",
      "_model_module_version": "1.5.0",
      "_model_name": "ProgressStyleModel",
      "_view_count": null,
      "_view_module": "@jupyter-widgets/base",
      "_view_module_version": "1.2.0",
      "_view_name": "StyleView",
      "bar_color": null,
      "description_width": "initial"
     }
    },
    "5071a31d06f544a5b7340a4e863d8fdf": {
     "model_module": "@jupyter-widgets/controls",
     "model_name": "FloatProgressModel",
     "state": {
      "_dom_classes": [],
      "_model_module": "@jupyter-widgets/controls",
      "_model_module_version": "1.5.0",
      "_model_name": "FloatProgressModel",
      "_view_count": null,
      "_view_module": "@jupyter-widgets/controls",
      "_view_module_version": "1.5.0",
      "_view_name": "ProgressView",
      "bar_style": "success",
      "description": "#3: 100%",
      "description_tooltip": null,
      "layout": "IPY_MODEL_b2473405490e4556bf30c0cc81237aa5",
      "max": 109,
      "min": 0,
      "orientation": "horizontal",
      "style": "IPY_MODEL_49defa4284554baf85f32de242b22709",
      "value": 109
     }
    },
    "530f66ac087e4f8f979fcaa33941c60d": {
     "model_module": "@jupyter-widgets/controls",
     "model_name": "ProgressStyleModel",
     "state": {
      "_model_module": "@jupyter-widgets/controls",
      "_model_module_version": "1.5.0",
      "_model_name": "ProgressStyleModel",
      "_view_count": null,
      "_view_module": "@jupyter-widgets/base",
      "_view_module_version": "1.2.0",
      "_view_name": "StyleView",
      "bar_color": null,
      "description_width": "initial"
     }
    },
    "5370c0f2d54b45c0a89f11fb5b70cd4b": {
     "model_module": "@jupyter-widgets/controls",
     "model_name": "FloatProgressModel",
     "state": {
      "_dom_classes": [],
      "_model_module": "@jupyter-widgets/controls",
      "_model_module_version": "1.5.0",
      "_model_name": "FloatProgressModel",
      "_view_count": null,
      "_view_module": "@jupyter-widgets/controls",
      "_view_module_version": "1.5.0",
      "_view_name": "ProgressView",
      "bar_style": "success",
      "description": "#0: 100%",
      "description_tooltip": null,
      "layout": "IPY_MODEL_020bdb330b0d40f5b89697ff37025f69",
      "max": 109,
      "min": 0,
      "orientation": "horizontal",
      "style": "IPY_MODEL_fa7926bbe77e48b3a0648b45f5d2dc7a",
      "value": 109
     }
    },
    "540510088d3947f1b3cf6f4c983c1a53": {
     "model_module": "@jupyter-widgets/base",
     "model_name": "LayoutModel",
     "state": {
      "_model_module": "@jupyter-widgets/base",
      "_model_module_version": "1.2.0",
      "_model_name": "LayoutModel",
      "_view_count": null,
      "_view_module": "@jupyter-widgets/base",
      "_view_module_version": "1.2.0",
      "_view_name": "LayoutView",
      "align_content": null,
      "align_items": null,
      "align_self": null,
      "border": null,
      "bottom": null,
      "display": null,
      "flex": null,
      "flex_flow": null,
      "grid_area": null,
      "grid_auto_columns": null,
      "grid_auto_flow": null,
      "grid_auto_rows": null,
      "grid_column": null,
      "grid_gap": null,
      "grid_row": null,
      "grid_template_areas": null,
      "grid_template_columns": null,
      "grid_template_rows": null,
      "height": null,
      "justify_content": null,
      "justify_items": null,
      "left": null,
      "margin": null,
      "max_height": null,
      "max_width": null,
      "min_height": null,
      "min_width": null,
      "object_fit": null,
      "object_position": null,
      "order": null,
      "overflow": null,
      "overflow_x": null,
      "overflow_y": null,
      "padding": null,
      "right": null,
      "top": null,
      "visibility": null,
      "width": null
     }
    },
    "542027ba12f444d586e8072452badea0": {
     "model_module": "@jupyter-widgets/controls",
     "model_name": "HTMLModel",
     "state": {
      "_dom_classes": [],
      "_model_module": "@jupyter-widgets/controls",
      "_model_module_version": "1.5.0",
      "_model_name": "HTMLModel",
      "_view_count": null,
      "_view_module": "@jupyter-widgets/controls",
      "_view_module_version": "1.5.0",
      "_view_name": "HTMLView",
      "description": "",
      "description_tooltip": null,
      "layout": "IPY_MODEL_bc41384bbae04044b9780651c6b5a47c",
      "placeholder": "​",
      "style": "IPY_MODEL_02bdb06c176145feaa842b97ae58609c",
      "value": " 109/109 [00:58&lt;00:00,  1.88ba/s]"
     }
    },
    "55071fc1b7484620803aeba453e9af72": {
     "model_module": "@jupyter-widgets/base",
     "model_name": "LayoutModel",
     "state": {
      "_model_module": "@jupyter-widgets/base",
      "_model_module_version": "1.2.0",
      "_model_name": "LayoutModel",
      "_view_count": null,
      "_view_module": "@jupyter-widgets/base",
      "_view_module_version": "1.2.0",
      "_view_name": "LayoutView",
      "align_content": null,
      "align_items": null,
      "align_self": null,
      "border": null,
      "bottom": null,
      "display": null,
      "flex": null,
      "flex_flow": null,
      "grid_area": null,
      "grid_auto_columns": null,
      "grid_auto_flow": null,
      "grid_auto_rows": null,
      "grid_column": null,
      "grid_gap": null,
      "grid_row": null,
      "grid_template_areas": null,
      "grid_template_columns": null,
      "grid_template_rows": null,
      "height": null,
      "justify_content": null,
      "justify_items": null,
      "left": null,
      "margin": null,
      "max_height": null,
      "max_width": null,
      "min_height": null,
      "min_width": null,
      "object_fit": null,
      "object_position": null,
      "order": null,
      "overflow": null,
      "overflow_x": null,
      "overflow_y": null,
      "padding": null,
      "right": null,
      "top": null,
      "visibility": null,
      "width": null
     }
    },
    "56ad6231a0a04228be29ceecbc6b7c0e": {
     "model_module": "@jupyter-widgets/base",
     "model_name": "LayoutModel",
     "state": {
      "_model_module": "@jupyter-widgets/base",
      "_model_module_version": "1.2.0",
      "_model_name": "LayoutModel",
      "_view_count": null,
      "_view_module": "@jupyter-widgets/base",
      "_view_module_version": "1.2.0",
      "_view_name": "LayoutView",
      "align_content": null,
      "align_items": null,
      "align_self": null,
      "border": null,
      "bottom": null,
      "display": null,
      "flex": null,
      "flex_flow": null,
      "grid_area": null,
      "grid_auto_columns": null,
      "grid_auto_flow": null,
      "grid_auto_rows": null,
      "grid_column": null,
      "grid_gap": null,
      "grid_row": null,
      "grid_template_areas": null,
      "grid_template_columns": null,
      "grid_template_rows": null,
      "height": null,
      "justify_content": null,
      "justify_items": null,
      "left": null,
      "margin": null,
      "max_height": null,
      "max_width": null,
      "min_height": null,
      "min_width": null,
      "object_fit": null,
      "object_position": null,
      "order": null,
      "overflow": null,
      "overflow_x": null,
      "overflow_y": null,
      "padding": null,
      "right": null,
      "top": null,
      "visibility": null,
      "width": null
     }
    },
    "57198e3250374e1fa64c5a4be255861e": {
     "model_module": "@jupyter-widgets/controls",
     "model_name": "HTMLModel",
     "state": {
      "_dom_classes": [],
      "_model_module": "@jupyter-widgets/controls",
      "_model_module_version": "1.5.0",
      "_model_name": "HTMLModel",
      "_view_count": null,
      "_view_module": "@jupyter-widgets/controls",
      "_view_module_version": "1.5.0",
      "_view_name": "HTMLView",
      "description": "",
      "description_tooltip": null,
      "layout": "IPY_MODEL_8f737725708c4097a8caaf4da6229636",
      "placeholder": "​",
      "style": "IPY_MODEL_969080b52ad44ee997829986d198c505",
      "value": " 3.90k/? [00:00&lt;00:00, 23.0kB/s]"
     }
    },
    "579b6055028f473981ce789a0733a753": {
     "model_module": "@jupyter-widgets/controls",
     "model_name": "FloatProgressModel",
     "state": {
      "_dom_classes": [],
      "_model_module": "@jupyter-widgets/controls",
      "_model_module_version": "1.5.0",
      "_model_name": "FloatProgressModel",
      "_view_count": null,
      "_view_module": "@jupyter-widgets/controls",
      "_view_module_version": "1.5.0",
      "_view_name": "ProgressView",
      "bar_style": "success",
      "description": "#2: 100%",
      "description_tooltip": null,
      "layout": "IPY_MODEL_6de66d6b7a73434cbdc59b2109bdf0a0",
      "max": 109,
      "min": 0,
      "orientation": "horizontal",
      "style": "IPY_MODEL_3133b378b9294a759c8dfb786ed8f815",
      "value": 109
     }
    },
    "58f3e8002f984594ac05c973aa78ef69": {
     "model_module": "@jupyter-widgets/base",
     "model_name": "LayoutModel",
     "state": {
      "_model_module": "@jupyter-widgets/base",
      "_model_module_version": "1.2.0",
      "_model_name": "LayoutModel",
      "_view_count": null,
      "_view_module": "@jupyter-widgets/base",
      "_view_module_version": "1.2.0",
      "_view_name": "LayoutView",
      "align_content": null,
      "align_items": null,
      "align_self": null,
      "border": null,
      "bottom": null,
      "display": null,
      "flex": null,
      "flex_flow": null,
      "grid_area": null,
      "grid_auto_columns": null,
      "grid_auto_flow": null,
      "grid_auto_rows": null,
      "grid_column": null,
      "grid_gap": null,
      "grid_row": null,
      "grid_template_areas": null,
      "grid_template_columns": null,
      "grid_template_rows": null,
      "height": null,
      "justify_content": null,
      "justify_items": null,
      "left": null,
      "margin": null,
      "max_height": null,
      "max_width": null,
      "min_height": null,
      "min_width": null,
      "object_fit": null,
      "object_position": null,
      "order": null,
      "overflow": null,
      "overflow_x": null,
      "overflow_y": null,
      "padding": null,
      "right": null,
      "top": null,
      "visibility": null,
      "width": null
     }
    },
    "596aea0362924c7db583203268dd5a3e": {
     "model_module": "@jupyter-widgets/controls",
     "model_name": "ProgressStyleModel",
     "state": {
      "_model_module": "@jupyter-widgets/controls",
      "_model_module_version": "1.5.0",
      "_model_name": "ProgressStyleModel",
      "_view_count": null,
      "_view_module": "@jupyter-widgets/base",
      "_view_module_version": "1.2.0",
      "_view_name": "StyleView",
      "bar_color": null,
      "description_width": "initial"
     }
    },
    "59e0f5200068461cbfb256ad5479c4c8": {
     "model_module": "@jupyter-widgets/controls",
     "model_name": "DescriptionStyleModel",
     "state": {
      "_model_module": "@jupyter-widgets/controls",
      "_model_module_version": "1.5.0",
      "_model_name": "DescriptionStyleModel",
      "_view_count": null,
      "_view_module": "@jupyter-widgets/base",
      "_view_module_version": "1.2.0",
      "_view_name": "StyleView",
      "description_width": ""
     }
    },
    "5a5bc8b4a1c644dea08a60128d888d10": {
     "model_module": "@jupyter-widgets/controls",
     "model_name": "DescriptionStyleModel",
     "state": {
      "_model_module": "@jupyter-widgets/controls",
      "_model_module_version": "1.5.0",
      "_model_name": "DescriptionStyleModel",
      "_view_count": null,
      "_view_module": "@jupyter-widgets/base",
      "_view_module_version": "1.2.0",
      "_view_name": "StyleView",
      "description_width": ""
     }
    },
    "5ab30242cd154ec0b560c23c0f178546": {
     "model_module": "@jupyter-widgets/controls",
     "model_name": "ProgressStyleModel",
     "state": {
      "_model_module": "@jupyter-widgets/controls",
      "_model_module_version": "1.5.0",
      "_model_name": "ProgressStyleModel",
      "_view_count": null,
      "_view_module": "@jupyter-widgets/base",
      "_view_module_version": "1.2.0",
      "_view_name": "StyleView",
      "bar_color": null,
      "description_width": "initial"
     }
    },
    "5ccd12253fff448f9c15c9b03c70a408": {
     "model_module": "@jupyter-widgets/controls",
     "model_name": "HBoxModel",
     "state": {
      "_dom_classes": [],
      "_model_module": "@jupyter-widgets/controls",
      "_model_module_version": "1.5.0",
      "_model_name": "HBoxModel",
      "_view_count": null,
      "_view_module": "@jupyter-widgets/controls",
      "_view_module_version": "1.5.0",
      "_view_name": "HBoxView",
      "box_style": "",
      "children": [
       "IPY_MODEL_f203c54e7e054d97aa4d1097f320f611",
       "IPY_MODEL_6266a4019e124aff877bb55f21740180"
      ],
      "layout": "IPY_MODEL_330226a977694de1bd88c0aa3789be47"
     }
    },
    "5e3aad95e52f4be2bd670d1345398f1b": {
     "model_module": "@jupyter-widgets/controls",
     "model_name": "HTMLModel",
     "state": {
      "_dom_classes": [],
      "_model_module": "@jupyter-widgets/controls",
      "_model_module_version": "1.5.0",
      "_model_name": "HTMLModel",
      "_view_count": null,
      "_view_module": "@jupyter-widgets/controls",
      "_view_module_version": "1.5.0",
      "_view_name": "HTMLView",
      "description": "",
      "description_tooltip": null,
      "layout": "IPY_MODEL_99d5c44ea54b45ee9bd89380cb1ad189",
      "placeholder": "​",
      "style": "IPY_MODEL_7aa70322bdfe46938b583a20003093d5",
      "value": " 3478/3478 [03:16&lt;00:00, 17.67ex/s]"
     }
    },
    "5e6bae23461b4378b6e5fc890fe6bc97": {
     "model_module": "@jupyter-widgets/base",
     "model_name": "LayoutModel",
     "state": {
      "_model_module": "@jupyter-widgets/base",
      "_model_module_version": "1.2.0",
      "_model_name": "LayoutModel",
      "_view_count": null,
      "_view_module": "@jupyter-widgets/base",
      "_view_module_version": "1.2.0",
      "_view_name": "LayoutView",
      "align_content": null,
      "align_items": null,
      "align_self": null,
      "border": null,
      "bottom": null,
      "display": null,
      "flex": null,
      "flex_flow": null,
      "grid_area": null,
      "grid_auto_columns": null,
      "grid_auto_flow": null,
      "grid_auto_rows": null,
      "grid_column": null,
      "grid_gap": null,
      "grid_row": null,
      "grid_template_areas": null,
      "grid_template_columns": null,
      "grid_template_rows": null,
      "height": null,
      "justify_content": null,
      "justify_items": null,
      "left": null,
      "margin": null,
      "max_height": null,
      "max_width": null,
      "min_height": null,
      "min_width": null,
      "object_fit": null,
      "object_position": null,
      "order": null,
      "overflow": null,
      "overflow_x": null,
      "overflow_y": null,
      "padding": null,
      "right": null,
      "top": null,
      "visibility": null,
      "width": null
     }
    },
    "5f48f54986924e418aa4ac22aa54b714": {
     "model_module": "@jupyter-widgets/controls",
     "model_name": "HBoxModel",
     "state": {
      "_dom_classes": [],
      "_model_module": "@jupyter-widgets/controls",
      "_model_module_version": "1.5.0",
      "_model_name": "HBoxModel",
      "_view_count": null,
      "_view_module": "@jupyter-widgets/controls",
      "_view_module_version": "1.5.0",
      "_view_name": "HBoxView",
      "box_style": "",
      "children": [
       "IPY_MODEL_a58c203a7cc54086aea45f2029821207",
       "IPY_MODEL_8d409ca0372a48e2972ca1d8eee5ffa1"
      ],
      "layout": "IPY_MODEL_db71db50799c404aafa4a54de8b9b799"
     }
    },
    "6266a4019e124aff877bb55f21740180": {
     "model_module": "@jupyter-widgets/controls",
     "model_name": "HTMLModel",
     "state": {
      "_dom_classes": [],
      "_model_module": "@jupyter-widgets/controls",
      "_model_module_version": "1.5.0",
      "_model_name": "HTMLModel",
      "_view_count": null,
      "_view_module": "@jupyter-widgets/controls",
      "_view_module_version": "1.5.0",
      "_view_name": "HTMLView",
      "description": "",
      "description_tooltip": null,
      "layout": "IPY_MODEL_55071fc1b7484620803aeba453e9af72",
      "placeholder": "​",
      "style": "IPY_MODEL_8ad3e4b211e34c048d0f48e36fdbfe48",
      "value": " 411/411 [02:58&lt;00:00,  2.30ex/s]"
     }
    },
    "6462bd9561e24abb98fce6ce4675d810": {
     "model_module": "@jupyter-widgets/controls",
     "model_name": "HBoxModel",
     "state": {
      "_dom_classes": [],
      "_model_module": "@jupyter-widgets/controls",
      "_model_module_version": "1.5.0",
      "_model_name": "HBoxModel",
      "_view_count": null,
      "_view_module": "@jupyter-widgets/controls",
      "_view_module_version": "1.5.0",
      "_view_name": "HBoxView",
      "box_style": "",
      "children": [
       "IPY_MODEL_e273548a15aa4d4994132b317adb66fc",
       "IPY_MODEL_f6930dd5519d4dfda64c597def220a30"
      ],
      "layout": "IPY_MODEL_bd3447291ce54812af10ac6245ea4328"
     }
    },
    "68a3178fe7a54e838e798ff28ff9aa0b": {
     "model_module": "@jupyter-widgets/controls",
     "model_name": "DescriptionStyleModel",
     "state": {
      "_model_module": "@jupyter-widgets/controls",
      "_model_module_version": "1.5.0",
      "_model_name": "DescriptionStyleModel",
      "_view_count": null,
      "_view_module": "@jupyter-widgets/base",
      "_view_module_version": "1.2.0",
      "_view_name": "StyleView",
      "description_width": ""
     }
    },
    "69828f4a101f4340916a4be141866904": {
     "model_module": "@jupyter-widgets/base",
     "model_name": "LayoutModel",
     "state": {
      "_model_module": "@jupyter-widgets/base",
      "_model_module_version": "1.2.0",
      "_model_name": "LayoutModel",
      "_view_count": null,
      "_view_module": "@jupyter-widgets/base",
      "_view_module_version": "1.2.0",
      "_view_name": "LayoutView",
      "align_content": null,
      "align_items": null,
      "align_self": null,
      "border": null,
      "bottom": null,
      "display": null,
      "flex": null,
      "flex_flow": null,
      "grid_area": null,
      "grid_auto_columns": null,
      "grid_auto_flow": null,
      "grid_auto_rows": null,
      "grid_column": null,
      "grid_gap": null,
      "grid_row": null,
      "grid_template_areas": null,
      "grid_template_columns": null,
      "grid_template_rows": null,
      "height": null,
      "justify_content": null,
      "justify_items": null,
      "left": null,
      "margin": null,
      "max_height": null,
      "max_width": null,
      "min_height": null,
      "min_width": null,
      "object_fit": null,
      "object_position": null,
      "order": null,
      "overflow": null,
      "overflow_x": null,
      "overflow_y": null,
      "padding": null,
      "right": null,
      "top": null,
      "visibility": null,
      "width": null
     }
    },
    "6a957c1c17474d8d89c27ddecf702fda": {
     "model_module": "@jupyter-widgets/controls",
     "model_name": "HTMLModel",
     "state": {
      "_dom_classes": [],
      "_model_module": "@jupyter-widgets/controls",
      "_model_module_version": "1.5.0",
      "_model_name": "HTMLModel",
      "_view_count": null,
      "_view_module": "@jupyter-widgets/controls",
      "_view_module_version": "1.5.0",
      "_view_name": "HTMLView",
      "description": "",
      "description_tooltip": null,
      "layout": "IPY_MODEL_91fcf0641fe3489ab96f3aaa40adf245",
      "placeholder": "​",
      "style": "IPY_MODEL_05f83d714f864a399083f0e34a812467",
      "value": " 1647/0 [00:00&lt;00:00, 14016.07 examples/s]"
     }
    },
    "6abfbe44a1bd4518b41f5f53f920e936": {
     "model_module": "@jupyter-widgets/base",
     "model_name": "LayoutModel",
     "state": {
      "_model_module": "@jupyter-widgets/base",
      "_model_module_version": "1.2.0",
      "_model_name": "LayoutModel",
      "_view_count": null,
      "_view_module": "@jupyter-widgets/base",
      "_view_module_version": "1.2.0",
      "_view_name": "LayoutView",
      "align_content": null,
      "align_items": null,
      "align_self": null,
      "border": null,
      "bottom": null,
      "display": null,
      "flex": null,
      "flex_flow": null,
      "grid_area": null,
      "grid_auto_columns": null,
      "grid_auto_flow": null,
      "grid_auto_rows": null,
      "grid_column": null,
      "grid_gap": null,
      "grid_row": null,
      "grid_template_areas": null,
      "grid_template_columns": null,
      "grid_template_rows": null,
      "height": null,
      "justify_content": null,
      "justify_items": null,
      "left": null,
      "margin": null,
      "max_height": null,
      "max_width": null,
      "min_height": null,
      "min_width": null,
      "object_fit": null,
      "object_position": null,
      "order": null,
      "overflow": null,
      "overflow_x": null,
      "overflow_y": null,
      "padding": null,
      "right": null,
      "top": null,
      "visibility": null,
      "width": null
     }
    },
    "6ba6d07674a34836be53cf173c2b61ca": {
     "model_module": "@jupyter-widgets/base",
     "model_name": "LayoutModel",
     "state": {
      "_model_module": "@jupyter-widgets/base",
      "_model_module_version": "1.2.0",
      "_model_name": "LayoutModel",
      "_view_count": null,
      "_view_module": "@jupyter-widgets/base",
      "_view_module_version": "1.2.0",
      "_view_name": "LayoutView",
      "align_content": null,
      "align_items": null,
      "align_self": null,
      "border": null,
      "bottom": null,
      "display": null,
      "flex": null,
      "flex_flow": null,
      "grid_area": null,
      "grid_auto_columns": null,
      "grid_auto_flow": null,
      "grid_auto_rows": null,
      "grid_column": null,
      "grid_gap": null,
      "grid_row": null,
      "grid_template_areas": null,
      "grid_template_columns": null,
      "grid_template_rows": null,
      "height": null,
      "justify_content": null,
      "justify_items": null,
      "left": null,
      "margin": null,
      "max_height": null,
      "max_width": null,
      "min_height": null,
      "min_width": null,
      "object_fit": null,
      "object_position": null,
      "order": null,
      "overflow": null,
      "overflow_x": null,
      "overflow_y": null,
      "padding": null,
      "right": null,
      "top": null,
      "visibility": null,
      "width": null
     }
    },
    "6c065aa34661469ca1efb4c5e90fe136": {
     "model_module": "@jupyter-widgets/controls",
     "model_name": "HBoxModel",
     "state": {
      "_dom_classes": [],
      "_model_module": "@jupyter-widgets/controls",
      "_model_module_version": "1.5.0",
      "_model_name": "HBoxModel",
      "_view_count": null,
      "_view_module": "@jupyter-widgets/controls",
      "_view_module_version": "1.5.0",
      "_view_name": "HBoxView",
      "box_style": "",
      "children": [
       "IPY_MODEL_0a9b58c98508420d8f8936189f064316",
       "IPY_MODEL_8dd5b08bb5bd4e608d04122424796ae7"
      ],
      "layout": "IPY_MODEL_540510088d3947f1b3cf6f4c983c1a53"
     }
    },
    "6d4a26d876fb4ac6b5948a09945bdc6b": {
     "model_module": "@jupyter-widgets/controls",
     "model_name": "DescriptionStyleModel",
     "state": {
      "_model_module": "@jupyter-widgets/controls",
      "_model_module_version": "1.5.0",
      "_model_name": "DescriptionStyleModel",
      "_view_count": null,
      "_view_module": "@jupyter-widgets/base",
      "_view_module_version": "1.2.0",
      "_view_name": "StyleView",
      "description_width": ""
     }
    },
    "6de66d6b7a73434cbdc59b2109bdf0a0": {
     "model_module": "@jupyter-widgets/base",
     "model_name": "LayoutModel",
     "state": {
      "_model_module": "@jupyter-widgets/base",
      "_model_module_version": "1.2.0",
      "_model_name": "LayoutModel",
      "_view_count": null,
      "_view_module": "@jupyter-widgets/base",
      "_view_module_version": "1.2.0",
      "_view_name": "LayoutView",
      "align_content": null,
      "align_items": null,
      "align_self": null,
      "border": null,
      "bottom": null,
      "display": null,
      "flex": null,
      "flex_flow": null,
      "grid_area": null,
      "grid_auto_columns": null,
      "grid_auto_flow": null,
      "grid_auto_rows": null,
      "grid_column": null,
      "grid_gap": null,
      "grid_row": null,
      "grid_template_areas": null,
      "grid_template_columns": null,
      "grid_template_rows": null,
      "height": null,
      "justify_content": null,
      "justify_items": null,
      "left": null,
      "margin": null,
      "max_height": null,
      "max_width": null,
      "min_height": null,
      "min_width": null,
      "object_fit": null,
      "object_position": null,
      "order": null,
      "overflow": null,
      "overflow_x": null,
      "overflow_y": null,
      "padding": null,
      "right": null,
      "top": null,
      "visibility": null,
      "width": null
     }
    },
    "6f60626242534f44a6381195e6eb6530": {
     "model_module": "@jupyter-widgets/controls",
     "model_name": "FloatProgressModel",
     "state": {
      "_dom_classes": [],
      "_model_module": "@jupyter-widgets/controls",
      "_model_module_version": "1.5.0",
      "_model_name": "FloatProgressModel",
      "_view_count": null,
      "_view_module": "@jupyter-widgets/controls",
      "_view_module_version": "1.5.0",
      "_view_name": "ProgressView",
      "bar_style": "success",
      "description": "#2: 100%",
      "description_tooltip": null,
      "layout": "IPY_MODEL_0ffcbedb8d4444508ac0c3c0b41ea8ac",
      "max": 52,
      "min": 0,
      "orientation": "horizontal",
      "style": "IPY_MODEL_5ab30242cd154ec0b560c23c0f178546",
      "value": 52
     }
    },
    "7040945accce4739a41746cc75bb7fce": {
     "model_module": "@jupyter-widgets/controls",
     "model_name": "HBoxModel",
     "state": {
      "_dom_classes": [],
      "_model_module": "@jupyter-widgets/controls",
      "_model_module_version": "1.5.0",
      "_model_name": "HBoxModel",
      "_view_count": null,
      "_view_module": "@jupyter-widgets/controls",
      "_view_module_version": "1.5.0",
      "_view_name": "HBoxView",
      "box_style": "",
      "children": [
       "IPY_MODEL_6f60626242534f44a6381195e6eb6530",
       "IPY_MODEL_9fee9d9dd1164d97a9109e942444c332"
      ],
      "layout": "IPY_MODEL_71011f0d2bc942ac8f9ea1d1fd30c78d"
     }
    },
    "704ea5e05fd744d998b76d6435992995": {
     "model_module": "@jupyter-widgets/controls",
     "model_name": "ProgressStyleModel",
     "state": {
      "_model_module": "@jupyter-widgets/controls",
      "_model_module_version": "1.5.0",
      "_model_name": "ProgressStyleModel",
      "_view_count": null,
      "_view_module": "@jupyter-widgets/base",
      "_view_module_version": "1.2.0",
      "_view_name": "StyleView",
      "bar_color": null,
      "description_width": "initial"
     }
    },
    "71011f0d2bc942ac8f9ea1d1fd30c78d": {
     "model_module": "@jupyter-widgets/base",
     "model_name": "LayoutModel",
     "state": {
      "_model_module": "@jupyter-widgets/base",
      "_model_module_version": "1.2.0",
      "_model_name": "LayoutModel",
      "_view_count": null,
      "_view_module": "@jupyter-widgets/base",
      "_view_module_version": "1.2.0",
      "_view_name": "LayoutView",
      "align_content": null,
      "align_items": null,
      "align_self": null,
      "border": null,
      "bottom": null,
      "display": null,
      "flex": null,
      "flex_flow": null,
      "grid_area": null,
      "grid_auto_columns": null,
      "grid_auto_flow": null,
      "grid_auto_rows": null,
      "grid_column": null,
      "grid_gap": null,
      "grid_row": null,
      "grid_template_areas": null,
      "grid_template_columns": null,
      "grid_template_rows": null,
      "height": null,
      "justify_content": null,
      "justify_items": null,
      "left": null,
      "margin": null,
      "max_height": null,
      "max_width": null,
      "min_height": null,
      "min_width": null,
      "object_fit": null,
      "object_position": null,
      "order": null,
      "overflow": null,
      "overflow_x": null,
      "overflow_y": null,
      "padding": null,
      "right": null,
      "top": null,
      "visibility": null,
      "width": null
     }
    },
    "71c059a0f3c246f3a40d55744331daaa": {
     "model_module": "@jupyter-widgets/controls",
     "model_name": "HTMLModel",
     "state": {
      "_dom_classes": [],
      "_model_module": "@jupyter-widgets/controls",
      "_model_module_version": "1.5.0",
      "_model_name": "HTMLModel",
      "_view_count": null,
      "_view_module": "@jupyter-widgets/controls",
      "_view_module_version": "1.5.0",
      "_view_name": "HTMLView",
      "description": "",
      "description_tooltip": null,
      "layout": "IPY_MODEL_430c3c079d0e4006b90e72df7986ffb0",
      "placeholder": "​",
      "style": "IPY_MODEL_cb5666eb8ebb4d1392e98d6b5af8761c",
      "value": " 325/0 [00:00&lt;00:00, 7071.04 examples/s]"
     }
    },
    "71ffdf6f26ba4381a8e671958e679f88": {
     "model_module": "@jupyter-widgets/controls",
     "model_name": "ProgressStyleModel",
     "state": {
      "_model_module": "@jupyter-widgets/controls",
      "_model_module_version": "1.5.0",
      "_model_name": "ProgressStyleModel",
      "_view_count": null,
      "_view_module": "@jupyter-widgets/base",
      "_view_module_version": "1.2.0",
      "_view_name": "StyleView",
      "bar_color": null,
      "description_width": "initial"
     }
    },
    "73940df84ffd4e0f96637342e9fd12b7": {
     "model_module": "@jupyter-widgets/base",
     "model_name": "LayoutModel",
     "state": {
      "_model_module": "@jupyter-widgets/base",
      "_model_module_version": "1.2.0",
      "_model_name": "LayoutModel",
      "_view_count": null,
      "_view_module": "@jupyter-widgets/base",
      "_view_module_version": "1.2.0",
      "_view_name": "LayoutView",
      "align_content": null,
      "align_items": null,
      "align_self": null,
      "border": null,
      "bottom": null,
      "display": null,
      "flex": null,
      "flex_flow": null,
      "grid_area": null,
      "grid_auto_columns": null,
      "grid_auto_flow": null,
      "grid_auto_rows": null,
      "grid_column": null,
      "grid_gap": null,
      "grid_row": null,
      "grid_template_areas": null,
      "grid_template_columns": null,
      "grid_template_rows": null,
      "height": null,
      "justify_content": null,
      "justify_items": null,
      "left": null,
      "margin": null,
      "max_height": null,
      "max_width": null,
      "min_height": null,
      "min_width": null,
      "object_fit": null,
      "object_position": null,
      "order": null,
      "overflow": null,
      "overflow_x": null,
      "overflow_y": null,
      "padding": null,
      "right": null,
      "top": null,
      "visibility": null,
      "width": null
     }
    },
    "73ecbfc3c5c5456bb42e19b8a34b1576": {
     "model_module": "@jupyter-widgets/base",
     "model_name": "LayoutModel",
     "state": {
      "_model_module": "@jupyter-widgets/base",
      "_model_module_version": "1.2.0",
      "_model_name": "LayoutModel",
      "_view_count": null,
      "_view_module": "@jupyter-widgets/base",
      "_view_module_version": "1.2.0",
      "_view_name": "LayoutView",
      "align_content": null,
      "align_items": null,
      "align_self": null,
      "border": null,
      "bottom": null,
      "display": null,
      "flex": null,
      "flex_flow": null,
      "grid_area": null,
      "grid_auto_columns": null,
      "grid_auto_flow": null,
      "grid_auto_rows": null,
      "grid_column": null,
      "grid_gap": null,
      "grid_row": null,
      "grid_template_areas": null,
      "grid_template_columns": null,
      "grid_template_rows": null,
      "height": null,
      "justify_content": null,
      "justify_items": null,
      "left": null,
      "margin": null,
      "max_height": null,
      "max_width": null,
      "min_height": null,
      "min_width": null,
      "object_fit": null,
      "object_position": null,
      "order": null,
      "overflow": null,
      "overflow_x": null,
      "overflow_y": null,
      "padding": null,
      "right": null,
      "top": null,
      "visibility": null,
      "width": null
     }
    },
    "751ae6b9e2da4b85be9600561485f1ac": {
     "model_module": "@jupyter-widgets/controls",
     "model_name": "DescriptionStyleModel",
     "state": {
      "_model_module": "@jupyter-widgets/controls",
      "_model_module_version": "1.5.0",
      "_model_name": "DescriptionStyleModel",
      "_view_count": null,
      "_view_module": "@jupyter-widgets/base",
      "_view_module_version": "1.2.0",
      "_view_name": "StyleView",
      "description_width": ""
     }
    },
    "757e7bd0e6c5410da0490d191b4e68c8": {
     "model_module": "@jupyter-widgets/controls",
     "model_name": "HTMLModel",
     "state": {
      "_dom_classes": [],
      "_model_module": "@jupyter-widgets/controls",
      "_model_module_version": "1.5.0",
      "_model_name": "HTMLModel",
      "_view_count": null,
      "_view_module": "@jupyter-widgets/controls",
      "_view_module_version": "1.5.0",
      "_view_name": "HTMLView",
      "description": "",
      "description_tooltip": null,
      "layout": "IPY_MODEL_9185f86719af476da41e3835e8f06f8d",
      "placeholder": "​",
      "style": "IPY_MODEL_0b795d4b68014de19bf9579c67b55ffb",
      "value": " 870/870 [05:35&lt;00:00,  2.59ex/s]"
     }
    },
    "75e00c38605f44cfb584067db1160349": {
     "model_module": "@jupyter-widgets/controls",
     "model_name": "FloatProgressModel",
     "state": {
      "_dom_classes": [],
      "_model_module": "@jupyter-widgets/controls",
      "_model_module_version": "1.5.0",
      "_model_name": "FloatProgressModel",
      "_view_count": null,
      "_view_module": "@jupyter-widgets/controls",
      "_view_module_version": "1.5.0",
      "_view_name": "ProgressView",
      "bar_style": "success",
      "description": "100%",
      "description_tooltip": null,
      "layout": "IPY_MODEL_73ecbfc3c5c5456bb42e19b8a34b1576",
      "max": 1,
      "min": 0,
      "orientation": "horizontal",
      "style": "IPY_MODEL_c01aca3229a24d41841be2b4a3a65bcc",
      "value": 1
     }
    },
    "768ab09956774f50a79b2493a8bf179b": {
     "model_module": "@jupyter-widgets/base",
     "model_name": "LayoutModel",
     "state": {
      "_model_module": "@jupyter-widgets/base",
      "_model_module_version": "1.2.0",
      "_model_name": "LayoutModel",
      "_view_count": null,
      "_view_module": "@jupyter-widgets/base",
      "_view_module_version": "1.2.0",
      "_view_name": "LayoutView",
      "align_content": null,
      "align_items": null,
      "align_self": null,
      "border": null,
      "bottom": null,
      "display": null,
      "flex": null,
      "flex_flow": null,
      "grid_area": null,
      "grid_auto_columns": null,
      "grid_auto_flow": null,
      "grid_auto_rows": null,
      "grid_column": null,
      "grid_gap": null,
      "grid_row": null,
      "grid_template_areas": null,
      "grid_template_columns": null,
      "grid_template_rows": null,
      "height": null,
      "justify_content": null,
      "justify_items": null,
      "left": null,
      "margin": null,
      "max_height": null,
      "max_width": null,
      "min_height": null,
      "min_width": null,
      "object_fit": null,
      "object_position": null,
      "order": null,
      "overflow": null,
      "overflow_x": null,
      "overflow_y": null,
      "padding": null,
      "right": null,
      "top": null,
      "visibility": null,
      "width": null
     }
    },
    "76d162d3ea0845cc837651a77a5a2d36": {
     "model_module": "@jupyter-widgets/controls",
     "model_name": "HBoxModel",
     "state": {
      "_dom_classes": [],
      "_model_module": "@jupyter-widgets/controls",
      "_model_module_version": "1.5.0",
      "_model_name": "HBoxModel",
      "_view_count": null,
      "_view_module": "@jupyter-widgets/controls",
      "_view_module_version": "1.5.0",
      "_view_name": "HBoxView",
      "box_style": "",
      "children": [
       "IPY_MODEL_f6b01ad0433a40178ef3ba5657bc1583",
       "IPY_MODEL_eed2ccc12daa4c71b080794a7a18f5cb"
      ],
      "layout": "IPY_MODEL_98c594f1e41e4b3fab10f0763bd93d75"
     }
    },
    "771959e46cb64b3ebafe931f96f5ff52": {
     "model_module": "@jupyter-widgets/controls",
     "model_name": "HBoxModel",
     "state": {
      "_dom_classes": [],
      "_model_module": "@jupyter-widgets/controls",
      "_model_module_version": "1.5.0",
      "_model_name": "HBoxModel",
      "_view_count": null,
      "_view_module": "@jupyter-widgets/controls",
      "_view_module_version": "1.5.0",
      "_view_name": "HBoxView",
      "box_style": "",
      "children": [
       "IPY_MODEL_f792530a76ee486688cbc2502dfae594",
       "IPY_MODEL_d69468d63dd74fdd807fe061b92aa84e"
      ],
      "layout": "IPY_MODEL_0e999af234bd4b63ad2937e61d08b693"
     }
    },
    "7916b06da182435a9cc1d13c73310500": {
     "model_module": "@jupyter-widgets/base",
     "model_name": "LayoutModel",
     "state": {
      "_model_module": "@jupyter-widgets/base",
      "_model_module_version": "1.2.0",
      "_model_name": "LayoutModel",
      "_view_count": null,
      "_view_module": "@jupyter-widgets/base",
      "_view_module_version": "1.2.0",
      "_view_name": "LayoutView",
      "align_content": null,
      "align_items": null,
      "align_self": null,
      "border": null,
      "bottom": null,
      "display": null,
      "flex": null,
      "flex_flow": null,
      "grid_area": null,
      "grid_auto_columns": null,
      "grid_auto_flow": null,
      "grid_auto_rows": null,
      "grid_column": null,
      "grid_gap": null,
      "grid_row": null,
      "grid_template_areas": null,
      "grid_template_columns": null,
      "grid_template_rows": null,
      "height": null,
      "justify_content": null,
      "justify_items": null,
      "left": null,
      "margin": null,
      "max_height": null,
      "max_width": null,
      "min_height": null,
      "min_width": null,
      "object_fit": null,
      "object_position": null,
      "order": null,
      "overflow": null,
      "overflow_x": null,
      "overflow_y": null,
      "padding": null,
      "right": null,
      "top": null,
      "visibility": null,
      "width": null
     }
    },
    "7aa70322bdfe46938b583a20003093d5": {
     "model_module": "@jupyter-widgets/controls",
     "model_name": "DescriptionStyleModel",
     "state": {
      "_model_module": "@jupyter-widgets/controls",
      "_model_module_version": "1.5.0",
      "_model_name": "DescriptionStyleModel",
      "_view_count": null,
      "_view_module": "@jupyter-widgets/base",
      "_view_module_version": "1.2.0",
      "_view_name": "StyleView",
      "description_width": ""
     }
    },
    "7b4cfd2b448643b8a4409dd612aef0d1": {
     "model_module": "@jupyter-widgets/base",
     "model_name": "LayoutModel",
     "state": {
      "_model_module": "@jupyter-widgets/base",
      "_model_module_version": "1.2.0",
      "_model_name": "LayoutModel",
      "_view_count": null,
      "_view_module": "@jupyter-widgets/base",
      "_view_module_version": "1.2.0",
      "_view_name": "LayoutView",
      "align_content": null,
      "align_items": null,
      "align_self": null,
      "border": null,
      "bottom": null,
      "display": null,
      "flex": null,
      "flex_flow": null,
      "grid_area": null,
      "grid_auto_columns": null,
      "grid_auto_flow": null,
      "grid_auto_rows": null,
      "grid_column": null,
      "grid_gap": null,
      "grid_row": null,
      "grid_template_areas": null,
      "grid_template_columns": null,
      "grid_template_rows": null,
      "height": null,
      "justify_content": null,
      "justify_items": null,
      "left": null,
      "margin": null,
      "max_height": null,
      "max_width": null,
      "min_height": null,
      "min_width": null,
      "object_fit": null,
      "object_position": null,
      "order": null,
      "overflow": null,
      "overflow_x": null,
      "overflow_y": null,
      "padding": null,
      "right": null,
      "top": null,
      "visibility": null,
      "width": null
     }
    },
    "7bf5b2b625764f63ad57a360c3fd0a61": {
     "model_module": "@jupyter-widgets/controls",
     "model_name": "DescriptionStyleModel",
     "state": {
      "_model_module": "@jupyter-widgets/controls",
      "_model_module_version": "1.5.0",
      "_model_name": "DescriptionStyleModel",
      "_view_count": null,
      "_view_module": "@jupyter-widgets/base",
      "_view_module_version": "1.2.0",
      "_view_name": "StyleView",
      "description_width": ""
     }
    },
    "7d62810674c8482abe46c60fc08884b4": {
     "model_module": "@jupyter-widgets/controls",
     "model_name": "ProgressStyleModel",
     "state": {
      "_model_module": "@jupyter-widgets/controls",
      "_model_module_version": "1.5.0",
      "_model_name": "ProgressStyleModel",
      "_view_count": null,
      "_view_module": "@jupyter-widgets/base",
      "_view_module_version": "1.2.0",
      "_view_name": "StyleView",
      "bar_color": null,
      "description_width": "initial"
     }
    },
    "7e50f8027fb74d669daae5e46082026c": {
     "model_module": "@jupyter-widgets/base",
     "model_name": "LayoutModel",
     "state": {
      "_model_module": "@jupyter-widgets/base",
      "_model_module_version": "1.2.0",
      "_model_name": "LayoutModel",
      "_view_count": null,
      "_view_module": "@jupyter-widgets/base",
      "_view_module_version": "1.2.0",
      "_view_name": "LayoutView",
      "align_content": null,
      "align_items": null,
      "align_self": null,
      "border": null,
      "bottom": null,
      "display": null,
      "flex": null,
      "flex_flow": null,
      "grid_area": null,
      "grid_auto_columns": null,
      "grid_auto_flow": null,
      "grid_auto_rows": null,
      "grid_column": null,
      "grid_gap": null,
      "grid_row": null,
      "grid_template_areas": null,
      "grid_template_columns": null,
      "grid_template_rows": null,
      "height": null,
      "justify_content": null,
      "justify_items": null,
      "left": null,
      "margin": null,
      "max_height": null,
      "max_width": null,
      "min_height": null,
      "min_width": null,
      "object_fit": null,
      "object_position": null,
      "order": null,
      "overflow": null,
      "overflow_x": null,
      "overflow_y": null,
      "padding": null,
      "right": null,
      "top": null,
      "visibility": null,
      "width": null
     }
    },
    "7edbecaccdd94ede8fddc0e1807e777e": {
     "model_module": "@jupyter-widgets/controls",
     "model_name": "FloatProgressModel",
     "state": {
      "_dom_classes": [],
      "_model_module": "@jupyter-widgets/controls",
      "_model_module_version": "1.5.0",
      "_model_name": "FloatProgressModel",
      "_view_count": null,
      "_view_module": "@jupyter-widgets/controls",
      "_view_module_version": "1.5.0",
      "_view_name": "ProgressView",
      "bar_style": "success",
      "description": "100%",
      "description_tooltip": null,
      "layout": "IPY_MODEL_3e3a022a9f304b0f9f7ef067fcee1e56",
      "max": 3478,
      "min": 0,
      "orientation": "horizontal",
      "style": "IPY_MODEL_b9c5c6dd54cc4dc5ad5a2bb69a24ab05",
      "value": 3478
     }
    },
    "7ef969e47c2d429a9848d5ab3f5bb2d9": {
     "model_module": "@jupyter-widgets/controls",
     "model_name": "HBoxModel",
     "state": {
      "_dom_classes": [],
      "_model_module": "@jupyter-widgets/controls",
      "_model_module_version": "1.5.0",
      "_model_name": "HBoxModel",
      "_view_count": null,
      "_view_module": "@jupyter-widgets/controls",
      "_view_module_version": "1.5.0",
      "_view_name": "HBoxView",
      "box_style": "",
      "children": [
       "IPY_MODEL_015c5690e1ea4281954c7efda1c80a6a",
       "IPY_MODEL_f4135dd72864445391f43f387635bfdc"
      ],
      "layout": "IPY_MODEL_fe62265afdc74026b7e9c5a50ef61d2c"
     }
    },
    "7f5203fde6b64bf7ad53d6ecd3041bfc": {
     "model_module": "@jupyter-widgets/controls",
     "model_name": "DescriptionStyleModel",
     "state": {
      "_model_module": "@jupyter-widgets/controls",
      "_model_module_version": "1.5.0",
      "_model_name": "DescriptionStyleModel",
      "_view_count": null,
      "_view_module": "@jupyter-widgets/base",
      "_view_module_version": "1.2.0",
      "_view_name": "StyleView",
      "description_width": ""
     }
    },
    "7f787df324514a8c915785e272a8af18": {
     "model_module": "@jupyter-widgets/controls",
     "model_name": "FloatProgressModel",
     "state": {
      "_dom_classes": [],
      "_model_module": "@jupyter-widgets/controls",
      "_model_module_version": "1.5.0",
      "_model_name": "FloatProgressModel",
      "_view_count": null,
      "_view_module": "@jupyter-widgets/controls",
      "_view_module_version": "1.5.0",
      "_view_name": "ProgressView",
      "bar_style": "info",
      "description": "",
      "description_tooltip": null,
      "layout": "IPY_MODEL_7916b06da182435a9cc1d13c73310500",
      "max": 1,
      "min": 0,
      "orientation": "horizontal",
      "style": "IPY_MODEL_71ffdf6f26ba4381a8e671958e679f88",
      "value": 1
     }
    },
    "80697300a4394b909f1c499ba80aeb13": {
     "model_module": "@jupyter-widgets/base",
     "model_name": "LayoutModel",
     "state": {
      "_model_module": "@jupyter-widgets/base",
      "_model_module_version": "1.2.0",
      "_model_name": "LayoutModel",
      "_view_count": null,
      "_view_module": "@jupyter-widgets/base",
      "_view_module_version": "1.2.0",
      "_view_name": "LayoutView",
      "align_content": null,
      "align_items": null,
      "align_self": null,
      "border": null,
      "bottom": null,
      "display": null,
      "flex": null,
      "flex_flow": null,
      "grid_area": null,
      "grid_auto_columns": null,
      "grid_auto_flow": null,
      "grid_auto_rows": null,
      "grid_column": null,
      "grid_gap": null,
      "grid_row": null,
      "grid_template_areas": null,
      "grid_template_columns": null,
      "grid_template_rows": null,
      "height": null,
      "justify_content": null,
      "justify_items": null,
      "left": null,
      "margin": null,
      "max_height": null,
      "max_width": null,
      "min_height": null,
      "min_width": null,
      "object_fit": null,
      "object_position": null,
      "order": null,
      "overflow": null,
      "overflow_x": null,
      "overflow_y": null,
      "padding": null,
      "right": null,
      "top": null,
      "visibility": null,
      "width": null
     }
    },
    "813fc95246034f5cb9e5198897b4ed42": {
     "model_module": "@jupyter-widgets/controls",
     "model_name": "DescriptionStyleModel",
     "state": {
      "_model_module": "@jupyter-widgets/controls",
      "_model_module_version": "1.5.0",
      "_model_name": "DescriptionStyleModel",
      "_view_count": null,
      "_view_module": "@jupyter-widgets/base",
      "_view_module_version": "1.2.0",
      "_view_name": "StyleView",
      "description_width": ""
     }
    },
    "82015055d32449b89346ea18e7474c4d": {
     "model_module": "@jupyter-widgets/controls",
     "model_name": "HBoxModel",
     "state": {
      "_dom_classes": [],
      "_model_module": "@jupyter-widgets/controls",
      "_model_module_version": "1.5.0",
      "_model_name": "HBoxModel",
      "_view_count": null,
      "_view_module": "@jupyter-widgets/controls",
      "_view_module_version": "1.5.0",
      "_view_name": "HBoxView",
      "box_style": "",
      "children": [
       "IPY_MODEL_f5f1f0865d7e4d8b810ccb9c3c4d2683",
       "IPY_MODEL_416badb151ee4660b53fdbc136e0c8fb"
      ],
      "layout": "IPY_MODEL_a170c0cb21cf425fbee97fd6d5584e2c"
     }
    },
    "824569c63ec445c08362659ca228dd2a": {
     "model_module": "@jupyter-widgets/controls",
     "model_name": "DescriptionStyleModel",
     "state": {
      "_model_module": "@jupyter-widgets/controls",
      "_model_module_version": "1.5.0",
      "_model_name": "DescriptionStyleModel",
      "_view_count": null,
      "_view_module": "@jupyter-widgets/base",
      "_view_module_version": "1.2.0",
      "_view_name": "StyleView",
      "description_width": ""
     }
    },
    "8292dafcd40745958d0f3c563bf6b9b0": {
     "model_module": "@jupyter-widgets/controls",
     "model_name": "ProgressStyleModel",
     "state": {
      "_model_module": "@jupyter-widgets/controls",
      "_model_module_version": "1.5.0",
      "_model_name": "ProgressStyleModel",
      "_view_count": null,
      "_view_module": "@jupyter-widgets/base",
      "_view_module_version": "1.2.0",
      "_view_name": "StyleView",
      "bar_color": null,
      "description_width": "initial"
     }
    },
    "83b51e16d88046c48dcd745cf09d2e56": {
     "model_module": "@jupyter-widgets/base",
     "model_name": "LayoutModel",
     "state": {
      "_model_module": "@jupyter-widgets/base",
      "_model_module_version": "1.2.0",
      "_model_name": "LayoutModel",
      "_view_count": null,
      "_view_module": "@jupyter-widgets/base",
      "_view_module_version": "1.2.0",
      "_view_name": "LayoutView",
      "align_content": null,
      "align_items": null,
      "align_self": null,
      "border": null,
      "bottom": null,
      "display": null,
      "flex": null,
      "flex_flow": null,
      "grid_area": null,
      "grid_auto_columns": null,
      "grid_auto_flow": null,
      "grid_auto_rows": null,
      "grid_column": null,
      "grid_gap": null,
      "grid_row": null,
      "grid_template_areas": null,
      "grid_template_columns": null,
      "grid_template_rows": null,
      "height": null,
      "justify_content": null,
      "justify_items": null,
      "left": null,
      "margin": null,
      "max_height": null,
      "max_width": null,
      "min_height": null,
      "min_width": null,
      "object_fit": null,
      "object_position": null,
      "order": null,
      "overflow": null,
      "overflow_x": null,
      "overflow_y": null,
      "padding": null,
      "right": null,
      "top": null,
      "visibility": null,
      "width": null
     }
    },
    "84e7f0001ebe458dad3c96e7e9a38cdc": {
     "model_module": "@jupyter-widgets/base",
     "model_name": "LayoutModel",
     "state": {
      "_model_module": "@jupyter-widgets/base",
      "_model_module_version": "1.2.0",
      "_model_name": "LayoutModel",
      "_view_count": null,
      "_view_module": "@jupyter-widgets/base",
      "_view_module_version": "1.2.0",
      "_view_name": "LayoutView",
      "align_content": null,
      "align_items": null,
      "align_self": null,
      "border": null,
      "bottom": null,
      "display": null,
      "flex": null,
      "flex_flow": null,
      "grid_area": null,
      "grid_auto_columns": null,
      "grid_auto_flow": null,
      "grid_auto_rows": null,
      "grid_column": null,
      "grid_gap": null,
      "grid_row": null,
      "grid_template_areas": null,
      "grid_template_columns": null,
      "grid_template_rows": null,
      "height": null,
      "justify_content": null,
      "justify_items": null,
      "left": null,
      "margin": null,
      "max_height": null,
      "max_width": null,
      "min_height": null,
      "min_width": null,
      "object_fit": null,
      "object_position": null,
      "order": null,
      "overflow": null,
      "overflow_x": null,
      "overflow_y": null,
      "padding": null,
      "right": null,
      "top": null,
      "visibility": null,
      "width": null
     }
    },
    "8701fb161cec47e89fc4d57b599ee7fe": {
     "model_module": "@jupyter-widgets/controls",
     "model_name": "HBoxModel",
     "state": {
      "_dom_classes": [],
      "_model_module": "@jupyter-widgets/controls",
      "_model_module_version": "1.5.0",
      "_model_name": "HBoxModel",
      "_view_count": null,
      "_view_module": "@jupyter-widgets/controls",
      "_view_module_version": "1.5.0",
      "_view_name": "HBoxView",
      "box_style": "",
      "children": [
       "IPY_MODEL_7f787df324514a8c915785e272a8af18",
       "IPY_MODEL_889da3e5ed2945849d3c8a6a75175747"
      ],
      "layout": "IPY_MODEL_1813458f75514f039ba0214597a09bb4"
     }
    },
    "889da3e5ed2945849d3c8a6a75175747": {
     "model_module": "@jupyter-widgets/controls",
     "model_name": "HTMLModel",
     "state": {
      "_dom_classes": [],
      "_model_module": "@jupyter-widgets/controls",
      "_model_module_version": "1.5.0",
      "_model_name": "HTMLModel",
      "_view_count": null,
      "_view_module": "@jupyter-widgets/controls",
      "_view_module_version": "1.5.0",
      "_view_name": "HTMLView",
      "description": "",
      "description_tooltip": null,
      "layout": "IPY_MODEL_2cd13e03a2ab45dc8570c8c739a613b4",
      "placeholder": "​",
      "style": "IPY_MODEL_59e0f5200068461cbfb256ad5479c4c8",
      "value": " 1647/0 [00:00&lt;00:00, 14767.90 examples/s]"
     }
    },
    "8ad3e4b211e34c048d0f48e36fdbfe48": {
     "model_module": "@jupyter-widgets/controls",
     "model_name": "DescriptionStyleModel",
     "state": {
      "_model_module": "@jupyter-widgets/controls",
      "_model_module_version": "1.5.0",
      "_model_name": "DescriptionStyleModel",
      "_view_count": null,
      "_view_module": "@jupyter-widgets/base",
      "_view_module_version": "1.2.0",
      "_view_name": "StyleView",
      "description_width": ""
     }
    },
    "8bb78a89ff81400791e3005098fdcb94": {
     "model_module": "@jupyter-widgets/base",
     "model_name": "LayoutModel",
     "state": {
      "_model_module": "@jupyter-widgets/base",
      "_model_module_version": "1.2.0",
      "_model_name": "LayoutModel",
      "_view_count": null,
      "_view_module": "@jupyter-widgets/base",
      "_view_module_version": "1.2.0",
      "_view_name": "LayoutView",
      "align_content": null,
      "align_items": null,
      "align_self": null,
      "border": null,
      "bottom": null,
      "display": null,
      "flex": null,
      "flex_flow": null,
      "grid_area": null,
      "grid_auto_columns": null,
      "grid_auto_flow": null,
      "grid_auto_rows": null,
      "grid_column": null,
      "grid_gap": null,
      "grid_row": null,
      "grid_template_areas": null,
      "grid_template_columns": null,
      "grid_template_rows": null,
      "height": null,
      "justify_content": null,
      "justify_items": null,
      "left": null,
      "margin": null,
      "max_height": null,
      "max_width": null,
      "min_height": null,
      "min_width": null,
      "object_fit": null,
      "object_position": null,
      "order": null,
      "overflow": null,
      "overflow_x": null,
      "overflow_y": null,
      "padding": null,
      "right": null,
      "top": null,
      "visibility": null,
      "width": null
     }
    },
    "8c07a528fc4a4e108b393ab117fe2e46": {
     "model_module": "@jupyter-widgets/controls",
     "model_name": "HTMLModel",
     "state": {
      "_dom_classes": [],
      "_model_module": "@jupyter-widgets/controls",
      "_model_module_version": "1.5.0",
      "_model_name": "HTMLModel",
      "_view_count": null,
      "_view_module": "@jupyter-widgets/controls",
      "_view_module_version": "1.5.0",
      "_view_name": "HTMLView",
      "description": "",
      "description_tooltip": null,
      "layout": "IPY_MODEL_8bb78a89ff81400791e3005098fdcb94",
      "placeholder": "​",
      "style": "IPY_MODEL_813fc95246034f5cb9e5198897b4ed42",
      "value": " 1/1 [00:00&lt;00:00, 13.94ba/s]"
     }
    },
    "8d409ca0372a48e2972ca1d8eee5ffa1": {
     "model_module": "@jupyter-widgets/controls",
     "model_name": "HTMLModel",
     "state": {
      "_dom_classes": [],
      "_model_module": "@jupyter-widgets/controls",
      "_model_module_version": "1.5.0",
      "_model_name": "HTMLModel",
      "_view_count": null,
      "_view_module": "@jupyter-widgets/controls",
      "_view_module_version": "1.5.0",
      "_view_name": "HTMLView",
      "description": "",
      "description_tooltip": null,
      "layout": "IPY_MODEL_b0479f03f96241ca959f6fe7bcbd1aba",
      "placeholder": "​",
      "style": "IPY_MODEL_d362345c05234c97a675c6bacdad0e92",
      "value": " 1647/1647 [01:20&lt;00:00, 20.38ex/s]"
     }
    },
    "8dd5b08bb5bd4e608d04122424796ae7": {
     "model_module": "@jupyter-widgets/controls",
     "model_name": "HTMLModel",
     "state": {
      "_dom_classes": [],
      "_model_module": "@jupyter-widgets/controls",
      "_model_module_version": "1.5.0",
      "_model_name": "HTMLModel",
      "_view_count": null,
      "_view_module": "@jupyter-widgets/controls",
      "_view_module_version": "1.5.0",
      "_view_name": "HTMLView",
      "description": "",
      "description_tooltip": null,
      "layout": "IPY_MODEL_9eb51a6ecf3f41578aa397a5c2a33673",
      "placeholder": "​",
      "style": "IPY_MODEL_2f18d89c684343b69c3f44ffbb9b42a0",
      "value": " 1726/0 [00:00&lt;00:00, 13986.88 examples/s]"
     }
    },
    "8dddd0245dcb4532917cbfa0181d2a00": {
     "model_module": "@jupyter-widgets/controls",
     "model_name": "FloatProgressModel",
     "state": {
      "_dom_classes": [],
      "_model_module": "@jupyter-widgets/controls",
      "_model_module_version": "1.5.0",
      "_model_name": "FloatProgressModel",
      "_view_count": null,
      "_view_module": "@jupyter-widgets/controls",
      "_view_module_version": "1.5.0",
      "_view_name": "ProgressView",
      "bar_style": "success",
      "description": "#2: 100%",
      "description_tooltip": null,
      "layout": "IPY_MODEL_b1d93a7521fa47b8a815445b5232da59",
      "max": 412,
      "min": 0,
      "orientation": "horizontal",
      "style": "IPY_MODEL_024989cea06f435894776b0a921164b2",
      "value": 412
     }
    },
    "8df9d19602cb4951b397c385458a11ef": {
     "model_module": "@jupyter-widgets/controls",
     "model_name": "DescriptionStyleModel",
     "state": {
      "_model_module": "@jupyter-widgets/controls",
      "_model_module_version": "1.5.0",
      "_model_name": "DescriptionStyleModel",
      "_view_count": null,
      "_view_module": "@jupyter-widgets/base",
      "_view_module_version": "1.2.0",
      "_view_name": "StyleView",
      "description_width": ""
     }
    },
    "8e1a85a4a6214a16b7431da23a301ada": {
     "model_module": "@jupyter-widgets/controls",
     "model_name": "FloatProgressModel",
     "state": {
      "_dom_classes": [],
      "_model_module": "@jupyter-widgets/controls",
      "_model_module_version": "1.5.0",
      "_model_name": "FloatProgressModel",
      "_view_count": null,
      "_view_module": "@jupyter-widgets/controls",
      "_view_module_version": "1.5.0",
      "_view_name": "ProgressView",
      "bar_style": "success",
      "description": "Downloading: ",
      "description_tooltip": null,
      "layout": "IPY_MODEL_d453bd4a35e54bfba20dac1fe86c60c1",
      "max": 1764,
      "min": 0,
      "orientation": "horizontal",
      "style": "IPY_MODEL_a3c04c75ec9743feb795f69e7c4dff4f",
      "value": 1764
     }
    },
    "8e63ba7f1fd24555bf11bc9dbe9c770b": {
     "model_module": "@jupyter-widgets/controls",
     "model_name": "HTMLModel",
     "state": {
      "_dom_classes": [],
      "_model_module": "@jupyter-widgets/controls",
      "_model_module_version": "1.5.0",
      "_model_name": "HTMLModel",
      "_view_count": null,
      "_view_module": "@jupyter-widgets/controls",
      "_view_module_version": "1.5.0",
      "_view_name": "HTMLView",
      "description": "",
      "description_tooltip": null,
      "layout": "IPY_MODEL_26e7bab0f3bf4797bfcef83dcace24f0",
      "placeholder": "​",
      "style": "IPY_MODEL_405b5de4ae854cf9896f63d15f2207dd",
      "value": " 52/52 [00:30&lt;00:00,  1.68ba/s]"
     }
    },
    "8f737725708c4097a8caaf4da6229636": {
     "model_module": "@jupyter-widgets/base",
     "model_name": "LayoutModel",
     "state": {
      "_model_module": "@jupyter-widgets/base",
      "_model_module_version": "1.2.0",
      "_model_name": "LayoutModel",
      "_view_count": null,
      "_view_module": "@jupyter-widgets/base",
      "_view_module_version": "1.2.0",
      "_view_name": "LayoutView",
      "align_content": null,
      "align_items": null,
      "align_self": null,
      "border": null,
      "bottom": null,
      "display": null,
      "flex": null,
      "flex_flow": null,
      "grid_area": null,
      "grid_auto_columns": null,
      "grid_auto_flow": null,
      "grid_auto_rows": null,
      "grid_column": null,
      "grid_gap": null,
      "grid_row": null,
      "grid_template_areas": null,
      "grid_template_columns": null,
      "grid_template_rows": null,
      "height": null,
      "justify_content": null,
      "justify_items": null,
      "left": null,
      "margin": null,
      "max_height": null,
      "max_width": null,
      "min_height": null,
      "min_width": null,
      "object_fit": null,
      "object_position": null,
      "order": null,
      "overflow": null,
      "overflow_x": null,
      "overflow_y": null,
      "padding": null,
      "right": null,
      "top": null,
      "visibility": null,
      "width": null
     }
    },
    "90b8bc59e26a46009e1d3763f86f227a": {
     "model_module": "@jupyter-widgets/controls",
     "model_name": "HBoxModel",
     "state": {
      "_dom_classes": [],
      "_model_module": "@jupyter-widgets/controls",
      "_model_module_version": "1.5.0",
      "_model_name": "HBoxModel",
      "_view_count": null,
      "_view_module": "@jupyter-widgets/controls",
      "_view_module_version": "1.5.0",
      "_view_name": "HBoxView",
      "box_style": "",
      "children": [
       "IPY_MODEL_98e7ab5f7ebf426fbb71a37bbad4c28f",
       "IPY_MODEL_e3b719c0ffcc4fd1b410ffb7f969b7a5"
      ],
      "layout": "IPY_MODEL_3e2cd59ac697495f8db14b894b783f95"
     }
    },
    "9185f86719af476da41e3835e8f06f8d": {
     "model_module": "@jupyter-widgets/base",
     "model_name": "LayoutModel",
     "state": {
      "_model_module": "@jupyter-widgets/base",
      "_model_module_version": "1.2.0",
      "_model_name": "LayoutModel",
      "_view_count": null,
      "_view_module": "@jupyter-widgets/base",
      "_view_module_version": "1.2.0",
      "_view_name": "LayoutView",
      "align_content": null,
      "align_items": null,
      "align_self": null,
      "border": null,
      "bottom": null,
      "display": null,
      "flex": null,
      "flex_flow": null,
      "grid_area": null,
      "grid_auto_columns": null,
      "grid_auto_flow": null,
      "grid_auto_rows": null,
      "grid_column": null,
      "grid_gap": null,
      "grid_row": null,
      "grid_template_areas": null,
      "grid_template_columns": null,
      "grid_template_rows": null,
      "height": null,
      "justify_content": null,
      "justify_items": null,
      "left": null,
      "margin": null,
      "max_height": null,
      "max_width": null,
      "min_height": null,
      "min_width": null,
      "object_fit": null,
      "object_position": null,
      "order": null,
      "overflow": null,
      "overflow_x": null,
      "overflow_y": null,
      "padding": null,
      "right": null,
      "top": null,
      "visibility": null,
      "width": null
     }
    },
    "91fcf0641fe3489ab96f3aaa40adf245": {
     "model_module": "@jupyter-widgets/base",
     "model_name": "LayoutModel",
     "state": {
      "_model_module": "@jupyter-widgets/base",
      "_model_module_version": "1.2.0",
      "_model_name": "LayoutModel",
      "_view_count": null,
      "_view_module": "@jupyter-widgets/base",
      "_view_module_version": "1.2.0",
      "_view_name": "LayoutView",
      "align_content": null,
      "align_items": null,
      "align_self": null,
      "border": null,
      "bottom": null,
      "display": null,
      "flex": null,
      "flex_flow": null,
      "grid_area": null,
      "grid_auto_columns": null,
      "grid_auto_flow": null,
      "grid_auto_rows": null,
      "grid_column": null,
      "grid_gap": null,
      "grid_row": null,
      "grid_template_areas": null,
      "grid_template_columns": null,
      "grid_template_rows": null,
      "height": null,
      "justify_content": null,
      "justify_items": null,
      "left": null,
      "margin": null,
      "max_height": null,
      "max_width": null,
      "min_height": null,
      "min_width": null,
      "object_fit": null,
      "object_position": null,
      "order": null,
      "overflow": null,
      "overflow_x": null,
      "overflow_y": null,
      "padding": null,
      "right": null,
      "top": null,
      "visibility": null,
      "width": null
     }
    },
    "923ed9e127524187ab8cfcac31164ba7": {
     "model_module": "@jupyter-widgets/base",
     "model_name": "LayoutModel",
     "state": {
      "_model_module": "@jupyter-widgets/base",
      "_model_module_version": "1.2.0",
      "_model_name": "LayoutModel",
      "_view_count": null,
      "_view_module": "@jupyter-widgets/base",
      "_view_module_version": "1.2.0",
      "_view_name": "LayoutView",
      "align_content": null,
      "align_items": null,
      "align_self": null,
      "border": null,
      "bottom": null,
      "display": null,
      "flex": null,
      "flex_flow": null,
      "grid_area": null,
      "grid_auto_columns": null,
      "grid_auto_flow": null,
      "grid_auto_rows": null,
      "grid_column": null,
      "grid_gap": null,
      "grid_row": null,
      "grid_template_areas": null,
      "grid_template_columns": null,
      "grid_template_rows": null,
      "height": null,
      "justify_content": null,
      "justify_items": null,
      "left": null,
      "margin": null,
      "max_height": null,
      "max_width": null,
      "min_height": null,
      "min_width": null,
      "object_fit": null,
      "object_position": null,
      "order": null,
      "overflow": null,
      "overflow_x": null,
      "overflow_y": null,
      "padding": null,
      "right": null,
      "top": null,
      "visibility": null,
      "width": null
     }
    },
    "929cde17b3484f3e9e8f8774bc43e374": {
     "model_module": "@jupyter-widgets/controls",
     "model_name": "ProgressStyleModel",
     "state": {
      "_model_module": "@jupyter-widgets/controls",
      "_model_module_version": "1.5.0",
      "_model_name": "ProgressStyleModel",
      "_view_count": null,
      "_view_module": "@jupyter-widgets/base",
      "_view_module_version": "1.2.0",
      "_view_name": "StyleView",
      "bar_color": null,
      "description_width": "initial"
     }
    },
    "92a35db69bbf4ad6af44c53aa3870be5": {
     "model_module": "@jupyter-widgets/controls",
     "model_name": "HBoxModel",
     "state": {
      "_dom_classes": [],
      "_model_module": "@jupyter-widgets/controls",
      "_model_module_version": "1.5.0",
      "_model_name": "HBoxModel",
      "_view_count": null,
      "_view_module": "@jupyter-widgets/controls",
      "_view_module_version": "1.5.0",
      "_view_name": "HBoxView",
      "box_style": "",
      "children": [
       "IPY_MODEL_b94e374d92c146009447c3827b977267",
       "IPY_MODEL_1f1faa7b986e475c9e6839b2e7b55c74"
      ],
      "layout": "IPY_MODEL_389e43e47a734193a507817ebad955f7"
     }
    },
    "93f191a48b3141e1889fd94870b6ac0e": {
     "model_module": "@jupyter-widgets/base",
     "model_name": "LayoutModel",
     "state": {
      "_model_module": "@jupyter-widgets/base",
      "_model_module_version": "1.2.0",
      "_model_name": "LayoutModel",
      "_view_count": null,
      "_view_module": "@jupyter-widgets/base",
      "_view_module_version": "1.2.0",
      "_view_name": "LayoutView",
      "align_content": null,
      "align_items": null,
      "align_self": null,
      "border": null,
      "bottom": null,
      "display": null,
      "flex": null,
      "flex_flow": null,
      "grid_area": null,
      "grid_auto_columns": null,
      "grid_auto_flow": null,
      "grid_auto_rows": null,
      "grid_column": null,
      "grid_gap": null,
      "grid_row": null,
      "grid_template_areas": null,
      "grid_template_columns": null,
      "grid_template_rows": null,
      "height": null,
      "justify_content": null,
      "justify_items": null,
      "left": null,
      "margin": null,
      "max_height": null,
      "max_width": null,
      "min_height": null,
      "min_width": null,
      "object_fit": null,
      "object_position": null,
      "order": null,
      "overflow": null,
      "overflow_x": null,
      "overflow_y": null,
      "padding": null,
      "right": null,
      "top": null,
      "visibility": null,
      "width": null
     }
    },
    "9532db4cdc5e4371a4a02055a4c67a08": {
     "model_module": "@jupyter-widgets/controls",
     "model_name": "DescriptionStyleModel",
     "state": {
      "_model_module": "@jupyter-widgets/controls",
      "_model_module_version": "1.5.0",
      "_model_name": "DescriptionStyleModel",
      "_view_count": null,
      "_view_module": "@jupyter-widgets/base",
      "_view_module_version": "1.2.0",
      "_view_name": "StyleView",
      "description_width": ""
     }
    },
    "969080b52ad44ee997829986d198c505": {
     "model_module": "@jupyter-widgets/controls",
     "model_name": "DescriptionStyleModel",
     "state": {
      "_model_module": "@jupyter-widgets/controls",
      "_model_module_version": "1.5.0",
      "_model_name": "DescriptionStyleModel",
      "_view_count": null,
      "_view_module": "@jupyter-widgets/base",
      "_view_module_version": "1.2.0",
      "_view_name": "StyleView",
      "description_width": ""
     }
    },
    "98c594f1e41e4b3fab10f0763bd93d75": {
     "model_module": "@jupyter-widgets/base",
     "model_name": "LayoutModel",
     "state": {
      "_model_module": "@jupyter-widgets/base",
      "_model_module_version": "1.2.0",
      "_model_name": "LayoutModel",
      "_view_count": null,
      "_view_module": "@jupyter-widgets/base",
      "_view_module_version": "1.2.0",
      "_view_name": "LayoutView",
      "align_content": null,
      "align_items": null,
      "align_self": null,
      "border": null,
      "bottom": null,
      "display": null,
      "flex": null,
      "flex_flow": null,
      "grid_area": null,
      "grid_auto_columns": null,
      "grid_auto_flow": null,
      "grid_auto_rows": null,
      "grid_column": null,
      "grid_gap": null,
      "grid_row": null,
      "grid_template_areas": null,
      "grid_template_columns": null,
      "grid_template_rows": null,
      "height": null,
      "justify_content": null,
      "justify_items": null,
      "left": null,
      "margin": null,
      "max_height": null,
      "max_width": null,
      "min_height": null,
      "min_width": null,
      "object_fit": null,
      "object_position": null,
      "order": null,
      "overflow": null,
      "overflow_x": null,
      "overflow_y": null,
      "padding": null,
      "right": null,
      "top": null,
      "visibility": null,
      "width": null
     }
    },
    "98e7ab5f7ebf426fbb71a37bbad4c28f": {
     "model_module": "@jupyter-widgets/controls",
     "model_name": "FloatProgressModel",
     "state": {
      "_dom_classes": [],
      "_model_module": "@jupyter-widgets/controls",
      "_model_module_version": "1.5.0",
      "_model_name": "FloatProgressModel",
      "_view_count": null,
      "_view_module": "@jupyter-widgets/controls",
      "_view_module_version": "1.5.0",
      "_view_name": "ProgressView",
      "bar_style": "info",
      "description": "",
      "description_tooltip": null,
      "layout": "IPY_MODEL_2f5406546970425282a881b5d2f7c248",
      "max": 1,
      "min": 0,
      "orientation": "horizontal",
      "style": "IPY_MODEL_4382726ef043441a9b1a4a647d84f242",
      "value": 1
     }
    },
    "998676d59f9c464e8463d65baad6448b": {
     "model_module": "@jupyter-widgets/controls",
     "model_name": "HTMLModel",
     "state": {
      "_dom_classes": [],
      "_model_module": "@jupyter-widgets/controls",
      "_model_module_version": "1.5.0",
      "_model_name": "HTMLModel",
      "_view_count": null,
      "_view_module": "@jupyter-widgets/controls",
      "_view_module_version": "1.5.0",
      "_view_name": "HTMLView",
      "description": "",
      "description_tooltip": null,
      "layout": "IPY_MODEL_7b4cfd2b448643b8a4409dd612aef0d1",
      "placeholder": "​",
      "style": "IPY_MODEL_7bf5b2b625764f63ad57a360c3fd0a61",
      "value": " 1647/1647 [00:45&lt;00:00, 36.39ex/s]"
     }
    },
    "99d5c44ea54b45ee9bd89380cb1ad189": {
     "model_module": "@jupyter-widgets/base",
     "model_name": "LayoutModel",
     "state": {
      "_model_module": "@jupyter-widgets/base",
      "_model_module_version": "1.2.0",
      "_model_name": "LayoutModel",
      "_view_count": null,
      "_view_module": "@jupyter-widgets/base",
      "_view_module_version": "1.2.0",
      "_view_name": "LayoutView",
      "align_content": null,
      "align_items": null,
      "align_self": null,
      "border": null,
      "bottom": null,
      "display": null,
      "flex": null,
      "flex_flow": null,
      "grid_area": null,
      "grid_auto_columns": null,
      "grid_auto_flow": null,
      "grid_auto_rows": null,
      "grid_column": null,
      "grid_gap": null,
      "grid_row": null,
      "grid_template_areas": null,
      "grid_template_columns": null,
      "grid_template_rows": null,
      "height": null,
      "justify_content": null,
      "justify_items": null,
      "left": null,
      "margin": null,
      "max_height": null,
      "max_width": null,
      "min_height": null,
      "min_width": null,
      "object_fit": null,
      "object_position": null,
      "order": null,
      "overflow": null,
      "overflow_x": null,
      "overflow_y": null,
      "padding": null,
      "right": null,
      "top": null,
      "visibility": null,
      "width": null
     }
    },
    "9eb51a6ecf3f41578aa397a5c2a33673": {
     "model_module": "@jupyter-widgets/base",
     "model_name": "LayoutModel",
     "state": {
      "_model_module": "@jupyter-widgets/base",
      "_model_module_version": "1.2.0",
      "_model_name": "LayoutModel",
      "_view_count": null,
      "_view_module": "@jupyter-widgets/base",
      "_view_module_version": "1.2.0",
      "_view_name": "LayoutView",
      "align_content": null,
      "align_items": null,
      "align_self": null,
      "border": null,
      "bottom": null,
      "display": null,
      "flex": null,
      "flex_flow": null,
      "grid_area": null,
      "grid_auto_columns": null,
      "grid_auto_flow": null,
      "grid_auto_rows": null,
      "grid_column": null,
      "grid_gap": null,
      "grid_row": null,
      "grid_template_areas": null,
      "grid_template_columns": null,
      "grid_template_rows": null,
      "height": null,
      "justify_content": null,
      "justify_items": null,
      "left": null,
      "margin": null,
      "max_height": null,
      "max_width": null,
      "min_height": null,
      "min_width": null,
      "object_fit": null,
      "object_position": null,
      "order": null,
      "overflow": null,
      "overflow_x": null,
      "overflow_y": null,
      "padding": null,
      "right": null,
      "top": null,
      "visibility": null,
      "width": null
     }
    },
    "9f79629ad6a94201acf3283862d1ae17": {
     "model_module": "@jupyter-widgets/controls",
     "model_name": "DescriptionStyleModel",
     "state": {
      "_model_module": "@jupyter-widgets/controls",
      "_model_module_version": "1.5.0",
      "_model_name": "DescriptionStyleModel",
      "_view_count": null,
      "_view_module": "@jupyter-widgets/base",
      "_view_module_version": "1.2.0",
      "_view_name": "StyleView",
      "description_width": ""
     }
    },
    "9fee9d9dd1164d97a9109e942444c332": {
     "model_module": "@jupyter-widgets/controls",
     "model_name": "HTMLModel",
     "state": {
      "_dom_classes": [],
      "_model_module": "@jupyter-widgets/controls",
      "_model_module_version": "1.5.0",
      "_model_name": "HTMLModel",
      "_view_count": null,
      "_view_module": "@jupyter-widgets/controls",
      "_view_module_version": "1.5.0",
      "_view_name": "HTMLView",
      "description": "",
      "description_tooltip": null,
      "layout": "IPY_MODEL_c126ea97019149848396e593cfab016f",
      "placeholder": "​",
      "style": "IPY_MODEL_f9efaa7678c2450f847ff2c2f21ff96e",
      "value": " 52/52 [00:31&lt;00:00,  1.66ba/s]"
     }
    },
    "a170c0cb21cf425fbee97fd6d5584e2c": {
     "model_module": "@jupyter-widgets/base",
     "model_name": "LayoutModel",
     "state": {
      "_model_module": "@jupyter-widgets/base",
      "_model_module_version": "1.2.0",
      "_model_name": "LayoutModel",
      "_view_count": null,
      "_view_module": "@jupyter-widgets/base",
      "_view_module_version": "1.2.0",
      "_view_name": "LayoutView",
      "align_content": null,
      "align_items": null,
      "align_self": null,
      "border": null,
      "bottom": null,
      "display": null,
      "flex": null,
      "flex_flow": null,
      "grid_area": null,
      "grid_auto_columns": null,
      "grid_auto_flow": null,
      "grid_auto_rows": null,
      "grid_column": null,
      "grid_gap": null,
      "grid_row": null,
      "grid_template_areas": null,
      "grid_template_columns": null,
      "grid_template_rows": null,
      "height": null,
      "justify_content": null,
      "justify_items": null,
      "left": null,
      "margin": null,
      "max_height": null,
      "max_width": null,
      "min_height": null,
      "min_width": null,
      "object_fit": null,
      "object_position": null,
      "order": null,
      "overflow": null,
      "overflow_x": null,
      "overflow_y": null,
      "padding": null,
      "right": null,
      "top": null,
      "visibility": null,
      "width": null
     }
    },
    "a34dae18d9994b848630d4e3d836e0cb": {
     "model_module": "@jupyter-widgets/base",
     "model_name": "LayoutModel",
     "state": {
      "_model_module": "@jupyter-widgets/base",
      "_model_module_version": "1.2.0",
      "_model_name": "LayoutModel",
      "_view_count": null,
      "_view_module": "@jupyter-widgets/base",
      "_view_module_version": "1.2.0",
      "_view_name": "LayoutView",
      "align_content": null,
      "align_items": null,
      "align_self": null,
      "border": null,
      "bottom": null,
      "display": null,
      "flex": null,
      "flex_flow": null,
      "grid_area": null,
      "grid_auto_columns": null,
      "grid_auto_flow": null,
      "grid_auto_rows": null,
      "grid_column": null,
      "grid_gap": null,
      "grid_row": null,
      "grid_template_areas": null,
      "grid_template_columns": null,
      "grid_template_rows": null,
      "height": null,
      "justify_content": null,
      "justify_items": null,
      "left": null,
      "margin": null,
      "max_height": null,
      "max_width": null,
      "min_height": null,
      "min_width": null,
      "object_fit": null,
      "object_position": null,
      "order": null,
      "overflow": null,
      "overflow_x": null,
      "overflow_y": null,
      "padding": null,
      "right": null,
      "top": null,
      "visibility": null,
      "width": null
     }
    },
    "a3c04c75ec9743feb795f69e7c4dff4f": {
     "model_module": "@jupyter-widgets/controls",
     "model_name": "ProgressStyleModel",
     "state": {
      "_model_module": "@jupyter-widgets/controls",
      "_model_module_version": "1.5.0",
      "_model_name": "ProgressStyleModel",
      "_view_count": null,
      "_view_module": "@jupyter-widgets/base",
      "_view_module_version": "1.2.0",
      "_view_name": "StyleView",
      "bar_color": null,
      "description_width": "initial"
     }
    },
    "a47f1ea64f894f0b8e6b277c31ae9f7d": {
     "model_module": "@jupyter-widgets/controls",
     "model_name": "ProgressStyleModel",
     "state": {
      "_model_module": "@jupyter-widgets/controls",
      "_model_module_version": "1.5.0",
      "_model_name": "ProgressStyleModel",
      "_view_count": null,
      "_view_module": "@jupyter-widgets/base",
      "_view_module_version": "1.2.0",
      "_view_name": "StyleView",
      "bar_color": null,
      "description_width": "initial"
     }
    },
    "a58c203a7cc54086aea45f2029821207": {
     "model_module": "@jupyter-widgets/controls",
     "model_name": "FloatProgressModel",
     "state": {
      "_dom_classes": [],
      "_model_module": "@jupyter-widgets/controls",
      "_model_module_version": "1.5.0",
      "_model_name": "FloatProgressModel",
      "_view_count": null,
      "_view_module": "@jupyter-widgets/controls",
      "_view_module_version": "1.5.0",
      "_view_name": "ProgressView",
      "bar_style": "success",
      "description": "100%",
      "description_tooltip": null,
      "layout": "IPY_MODEL_b1b6a4649fc34c9996f993c57671766b",
      "max": 1647,
      "min": 0,
      "orientation": "horizontal",
      "style": "IPY_MODEL_c8fdf261ac294093a355778a3a4aba3b",
      "value": 1647
     }
    },
    "a868dea9d9b047a4b853b390e138e4c1": {
     "model_module": "@jupyter-widgets/base",
     "model_name": "LayoutModel",
     "state": {
      "_model_module": "@jupyter-widgets/base",
      "_model_module_version": "1.2.0",
      "_model_name": "LayoutModel",
      "_view_count": null,
      "_view_module": "@jupyter-widgets/base",
      "_view_module_version": "1.2.0",
      "_view_name": "LayoutView",
      "align_content": null,
      "align_items": null,
      "align_self": null,
      "border": null,
      "bottom": null,
      "display": null,
      "flex": null,
      "flex_flow": null,
      "grid_area": null,
      "grid_auto_columns": null,
      "grid_auto_flow": null,
      "grid_auto_rows": null,
      "grid_column": null,
      "grid_gap": null,
      "grid_row": null,
      "grid_template_areas": null,
      "grid_template_columns": null,
      "grid_template_rows": null,
      "height": null,
      "justify_content": null,
      "justify_items": null,
      "left": null,
      "margin": null,
      "max_height": null,
      "max_width": null,
      "min_height": null,
      "min_width": null,
      "object_fit": null,
      "object_position": null,
      "order": null,
      "overflow": null,
      "overflow_x": null,
      "overflow_y": null,
      "padding": null,
      "right": null,
      "top": null,
      "visibility": null,
      "width": null
     }
    },
    "aafd4b2c56db43378c4627797665db17": {
     "model_module": "@jupyter-widgets/controls",
     "model_name": "HTMLModel",
     "state": {
      "_dom_classes": [],
      "_model_module": "@jupyter-widgets/controls",
      "_model_module_version": "1.5.0",
      "_model_name": "HTMLModel",
      "_view_count": null,
      "_view_module": "@jupyter-widgets/controls",
      "_view_module_version": "1.5.0",
      "_view_name": "HTMLView",
      "description": "",
      "description_tooltip": null,
      "layout": "IPY_MODEL_ad428686450f4ebdb50a0356b2e5a8c4",
      "placeholder": "​",
      "style": "IPY_MODEL_ccb720bf256e42f7b0251494ccb7741f",
      "value": " 1/1 [00:45&lt;00:00, 45.03s/ba]"
     }
    },
    "ab72c80dfd5e4ab19a183f4204486b59": {
     "model_module": "@jupyter-widgets/controls",
     "model_name": "DescriptionStyleModel",
     "state": {
      "_model_module": "@jupyter-widgets/controls",
      "_model_module_version": "1.5.0",
      "_model_name": "DescriptionStyleModel",
      "_view_count": null,
      "_view_module": "@jupyter-widgets/base",
      "_view_module_version": "1.2.0",
      "_view_name": "StyleView",
      "description_width": ""
     }
    },
    "ac35dca0845149a284b9867d9e607232": {
     "model_module": "@jupyter-widgets/controls",
     "model_name": "HBoxModel",
     "state": {
      "_dom_classes": [],
      "_model_module": "@jupyter-widgets/controls",
      "_model_module_version": "1.5.0",
      "_model_name": "HBoxModel",
      "_view_count": null,
      "_view_module": "@jupyter-widgets/controls",
      "_view_module_version": "1.5.0",
      "_view_name": "HBoxView",
      "box_style": "",
      "children": [
       "IPY_MODEL_5071a31d06f544a5b7340a4e863d8fdf",
       "IPY_MODEL_542027ba12f444d586e8072452badea0"
      ],
      "layout": "IPY_MODEL_b54bff6261964119bcb562c1a9f74ce6"
     }
    },
    "ad428686450f4ebdb50a0356b2e5a8c4": {
     "model_module": "@jupyter-widgets/base",
     "model_name": "LayoutModel",
     "state": {
      "_model_module": "@jupyter-widgets/base",
      "_model_module_version": "1.2.0",
      "_model_name": "LayoutModel",
      "_view_count": null,
      "_view_module": "@jupyter-widgets/base",
      "_view_module_version": "1.2.0",
      "_view_name": "LayoutView",
      "align_content": null,
      "align_items": null,
      "align_self": null,
      "border": null,
      "bottom": null,
      "display": null,
      "flex": null,
      "flex_flow": null,
      "grid_area": null,
      "grid_auto_columns": null,
      "grid_auto_flow": null,
      "grid_auto_rows": null,
      "grid_column": null,
      "grid_gap": null,
      "grid_row": null,
      "grid_template_areas": null,
      "grid_template_columns": null,
      "grid_template_rows": null,
      "height": null,
      "justify_content": null,
      "justify_items": null,
      "left": null,
      "margin": null,
      "max_height": null,
      "max_width": null,
      "min_height": null,
      "min_width": null,
      "object_fit": null,
      "object_position": null,
      "order": null,
      "overflow": null,
      "overflow_x": null,
      "overflow_y": null,
      "padding": null,
      "right": null,
      "top": null,
      "visibility": null,
      "width": null
     }
    },
    "af85713f677243d19cba9fe69a4a5f46": {
     "model_module": "@jupyter-widgets/base",
     "model_name": "LayoutModel",
     "state": {
      "_model_module": "@jupyter-widgets/base",
      "_model_module_version": "1.2.0",
      "_model_name": "LayoutModel",
      "_view_count": null,
      "_view_module": "@jupyter-widgets/base",
      "_view_module_version": "1.2.0",
      "_view_name": "LayoutView",
      "align_content": null,
      "align_items": null,
      "align_self": null,
      "border": null,
      "bottom": null,
      "display": null,
      "flex": null,
      "flex_flow": null,
      "grid_area": null,
      "grid_auto_columns": null,
      "grid_auto_flow": null,
      "grid_auto_rows": null,
      "grid_column": null,
      "grid_gap": null,
      "grid_row": null,
      "grid_template_areas": null,
      "grid_template_columns": null,
      "grid_template_rows": null,
      "height": null,
      "justify_content": null,
      "justify_items": null,
      "left": null,
      "margin": null,
      "max_height": null,
      "max_width": null,
      "min_height": null,
      "min_width": null,
      "object_fit": null,
      "object_position": null,
      "order": null,
      "overflow": null,
      "overflow_x": null,
      "overflow_y": null,
      "padding": null,
      "right": null,
      "top": null,
      "visibility": null,
      "width": null
     }
    },
    "b0479f03f96241ca959f6fe7bcbd1aba": {
     "model_module": "@jupyter-widgets/base",
     "model_name": "LayoutModel",
     "state": {
      "_model_module": "@jupyter-widgets/base",
      "_model_module_version": "1.2.0",
      "_model_name": "LayoutModel",
      "_view_count": null,
      "_view_module": "@jupyter-widgets/base",
      "_view_module_version": "1.2.0",
      "_view_name": "LayoutView",
      "align_content": null,
      "align_items": null,
      "align_self": null,
      "border": null,
      "bottom": null,
      "display": null,
      "flex": null,
      "flex_flow": null,
      "grid_area": null,
      "grid_auto_columns": null,
      "grid_auto_flow": null,
      "grid_auto_rows": null,
      "grid_column": null,
      "grid_gap": null,
      "grid_row": null,
      "grid_template_areas": null,
      "grid_template_columns": null,
      "grid_template_rows": null,
      "height": null,
      "justify_content": null,
      "justify_items": null,
      "left": null,
      "margin": null,
      "max_height": null,
      "max_width": null,
      "min_height": null,
      "min_width": null,
      "object_fit": null,
      "object_position": null,
      "order": null,
      "overflow": null,
      "overflow_x": null,
      "overflow_y": null,
      "padding": null,
      "right": null,
      "top": null,
      "visibility": null,
      "width": null
     }
    },
    "b054b00a32e64fc5988fbd2966ebbce6": {
     "model_module": "@jupyter-widgets/base",
     "model_name": "LayoutModel",
     "state": {
      "_model_module": "@jupyter-widgets/base",
      "_model_module_version": "1.2.0",
      "_model_name": "LayoutModel",
      "_view_count": null,
      "_view_module": "@jupyter-widgets/base",
      "_view_module_version": "1.2.0",
      "_view_name": "LayoutView",
      "align_content": null,
      "align_items": null,
      "align_self": null,
      "border": null,
      "bottom": null,
      "display": null,
      "flex": null,
      "flex_flow": null,
      "grid_area": null,
      "grid_auto_columns": null,
      "grid_auto_flow": null,
      "grid_auto_rows": null,
      "grid_column": null,
      "grid_gap": null,
      "grid_row": null,
      "grid_template_areas": null,
      "grid_template_columns": null,
      "grid_template_rows": null,
      "height": null,
      "justify_content": null,
      "justify_items": null,
      "left": null,
      "margin": null,
      "max_height": null,
      "max_width": null,
      "min_height": null,
      "min_width": null,
      "object_fit": null,
      "object_position": null,
      "order": null,
      "overflow": null,
      "overflow_x": null,
      "overflow_y": null,
      "padding": null,
      "right": null,
      "top": null,
      "visibility": null,
      "width": null
     }
    },
    "b0e3a36279d243ab9943149705c72c3e": {
     "model_module": "@jupyter-widgets/controls",
     "model_name": "FloatProgressModel",
     "state": {
      "_dom_classes": [],
      "_model_module": "@jupyter-widgets/controls",
      "_model_module_version": "1.5.0",
      "_model_name": "FloatProgressModel",
      "_view_count": null,
      "_view_module": "@jupyter-widgets/controls",
      "_view_module_version": "1.5.0",
      "_view_name": "ProgressView",
      "bar_style": "success",
      "description": "Downloading: ",
      "description_tooltip": null,
      "layout": "IPY_MODEL_a34dae18d9994b848630d4e3d836e0cb",
      "max": 5925,
      "min": 0,
      "orientation": "horizontal",
      "style": "IPY_MODEL_530f66ac087e4f8f979fcaa33941c60d",
      "value": 5925
     }
    },
    "b0f3a205ad4546188fc6e7e7cf96ab32": {
     "model_module": "@jupyter-widgets/controls",
     "model_name": "ProgressStyleModel",
     "state": {
      "_model_module": "@jupyter-widgets/controls",
      "_model_module_version": "1.5.0",
      "_model_name": "ProgressStyleModel",
      "_view_count": null,
      "_view_module": "@jupyter-widgets/base",
      "_view_module_version": "1.2.0",
      "_view_name": "StyleView",
      "bar_color": null,
      "description_width": "initial"
     }
    },
    "b177a8cb85a24b88ab6d56205b630f1d": {
     "model_module": "@jupyter-widgets/base",
     "model_name": "LayoutModel",
     "state": {
      "_model_module": "@jupyter-widgets/base",
      "_model_module_version": "1.2.0",
      "_model_name": "LayoutModel",
      "_view_count": null,
      "_view_module": "@jupyter-widgets/base",
      "_view_module_version": "1.2.0",
      "_view_name": "LayoutView",
      "align_content": null,
      "align_items": null,
      "align_self": null,
      "border": null,
      "bottom": null,
      "display": null,
      "flex": null,
      "flex_flow": null,
      "grid_area": null,
      "grid_auto_columns": null,
      "grid_auto_flow": null,
      "grid_auto_rows": null,
      "grid_column": null,
      "grid_gap": null,
      "grid_row": null,
      "grid_template_areas": null,
      "grid_template_columns": null,
      "grid_template_rows": null,
      "height": null,
      "justify_content": null,
      "justify_items": null,
      "left": null,
      "margin": null,
      "max_height": null,
      "max_width": null,
      "min_height": null,
      "min_width": null,
      "object_fit": null,
      "object_position": null,
      "order": null,
      "overflow": null,
      "overflow_x": null,
      "overflow_y": null,
      "padding": null,
      "right": null,
      "top": null,
      "visibility": null,
      "width": null
     }
    },
    "b1b6a4649fc34c9996f993c57671766b": {
     "model_module": "@jupyter-widgets/base",
     "model_name": "LayoutModel",
     "state": {
      "_model_module": "@jupyter-widgets/base",
      "_model_module_version": "1.2.0",
      "_model_name": "LayoutModel",
      "_view_count": null,
      "_view_module": "@jupyter-widgets/base",
      "_view_module_version": "1.2.0",
      "_view_name": "LayoutView",
      "align_content": null,
      "align_items": null,
      "align_self": null,
      "border": null,
      "bottom": null,
      "display": null,
      "flex": null,
      "flex_flow": null,
      "grid_area": null,
      "grid_auto_columns": null,
      "grid_auto_flow": null,
      "grid_auto_rows": null,
      "grid_column": null,
      "grid_gap": null,
      "grid_row": null,
      "grid_template_areas": null,
      "grid_template_columns": null,
      "grid_template_rows": null,
      "height": null,
      "justify_content": null,
      "justify_items": null,
      "left": null,
      "margin": null,
      "max_height": null,
      "max_width": null,
      "min_height": null,
      "min_width": null,
      "object_fit": null,
      "object_position": null,
      "order": null,
      "overflow": null,
      "overflow_x": null,
      "overflow_y": null,
      "padding": null,
      "right": null,
      "top": null,
      "visibility": null,
      "width": null
     }
    },
    "b1d93a7521fa47b8a815445b5232da59": {
     "model_module": "@jupyter-widgets/base",
     "model_name": "LayoutModel",
     "state": {
      "_model_module": "@jupyter-widgets/base",
      "_model_module_version": "1.2.0",
      "_model_name": "LayoutModel",
      "_view_count": null,
      "_view_module": "@jupyter-widgets/base",
      "_view_module_version": "1.2.0",
      "_view_name": "LayoutView",
      "align_content": null,
      "align_items": null,
      "align_self": null,
      "border": null,
      "bottom": null,
      "display": null,
      "flex": null,
      "flex_flow": null,
      "grid_area": null,
      "grid_auto_columns": null,
      "grid_auto_flow": null,
      "grid_auto_rows": null,
      "grid_column": null,
      "grid_gap": null,
      "grid_row": null,
      "grid_template_areas": null,
      "grid_template_columns": null,
      "grid_template_rows": null,
      "height": null,
      "justify_content": null,
      "justify_items": null,
      "left": null,
      "margin": null,
      "max_height": null,
      "max_width": null,
      "min_height": null,
      "min_width": null,
      "object_fit": null,
      "object_position": null,
      "order": null,
      "overflow": null,
      "overflow_x": null,
      "overflow_y": null,
      "padding": null,
      "right": null,
      "top": null,
      "visibility": null,
      "width": null
     }
    },
    "b2473405490e4556bf30c0cc81237aa5": {
     "model_module": "@jupyter-widgets/base",
     "model_name": "LayoutModel",
     "state": {
      "_model_module": "@jupyter-widgets/base",
      "_model_module_version": "1.2.0",
      "_model_name": "LayoutModel",
      "_view_count": null,
      "_view_module": "@jupyter-widgets/base",
      "_view_module_version": "1.2.0",
      "_view_name": "LayoutView",
      "align_content": null,
      "align_items": null,
      "align_self": null,
      "border": null,
      "bottom": null,
      "display": null,
      "flex": null,
      "flex_flow": null,
      "grid_area": null,
      "grid_auto_columns": null,
      "grid_auto_flow": null,
      "grid_auto_rows": null,
      "grid_column": null,
      "grid_gap": null,
      "grid_row": null,
      "grid_template_areas": null,
      "grid_template_columns": null,
      "grid_template_rows": null,
      "height": null,
      "justify_content": null,
      "justify_items": null,
      "left": null,
      "margin": null,
      "max_height": null,
      "max_width": null,
      "min_height": null,
      "min_width": null,
      "object_fit": null,
      "object_position": null,
      "order": null,
      "overflow": null,
      "overflow_x": null,
      "overflow_y": null,
      "padding": null,
      "right": null,
      "top": null,
      "visibility": null,
      "width": null
     }
    },
    "b320306eaf264ad9872d507a1a1cb2da": {
     "model_module": "@jupyter-widgets/base",
     "model_name": "LayoutModel",
     "state": {
      "_model_module": "@jupyter-widgets/base",
      "_model_module_version": "1.2.0",
      "_model_name": "LayoutModel",
      "_view_count": null,
      "_view_module": "@jupyter-widgets/base",
      "_view_module_version": "1.2.0",
      "_view_name": "LayoutView",
      "align_content": null,
      "align_items": null,
      "align_self": null,
      "border": null,
      "bottom": null,
      "display": null,
      "flex": null,
      "flex_flow": null,
      "grid_area": null,
      "grid_auto_columns": null,
      "grid_auto_flow": null,
      "grid_auto_rows": null,
      "grid_column": null,
      "grid_gap": null,
      "grid_row": null,
      "grid_template_areas": null,
      "grid_template_columns": null,
      "grid_template_rows": null,
      "height": null,
      "justify_content": null,
      "justify_items": null,
      "left": null,
      "margin": null,
      "max_height": null,
      "max_width": null,
      "min_height": null,
      "min_width": null,
      "object_fit": null,
      "object_position": null,
      "order": null,
      "overflow": null,
      "overflow_x": null,
      "overflow_y": null,
      "padding": null,
      "right": null,
      "top": null,
      "visibility": null,
      "width": null
     }
    },
    "b54bff6261964119bcb562c1a9f74ce6": {
     "model_module": "@jupyter-widgets/base",
     "model_name": "LayoutModel",
     "state": {
      "_model_module": "@jupyter-widgets/base",
      "_model_module_version": "1.2.0",
      "_model_name": "LayoutModel",
      "_view_count": null,
      "_view_module": "@jupyter-widgets/base",
      "_view_module_version": "1.2.0",
      "_view_name": "LayoutView",
      "align_content": null,
      "align_items": null,
      "align_self": null,
      "border": null,
      "bottom": null,
      "display": null,
      "flex": null,
      "flex_flow": null,
      "grid_area": null,
      "grid_auto_columns": null,
      "grid_auto_flow": null,
      "grid_auto_rows": null,
      "grid_column": null,
      "grid_gap": null,
      "grid_row": null,
      "grid_template_areas": null,
      "grid_template_columns": null,
      "grid_template_rows": null,
      "height": null,
      "justify_content": null,
      "justify_items": null,
      "left": null,
      "margin": null,
      "max_height": null,
      "max_width": null,
      "min_height": null,
      "min_width": null,
      "object_fit": null,
      "object_position": null,
      "order": null,
      "overflow": null,
      "overflow_x": null,
      "overflow_y": null,
      "padding": null,
      "right": null,
      "top": null,
      "visibility": null,
      "width": null
     }
    },
    "b6221b4c04e64c9da9eb9e11539bac89": {
     "model_module": "@jupyter-widgets/controls",
     "model_name": "HBoxModel",
     "state": {
      "_dom_classes": [],
      "_model_module": "@jupyter-widgets/controls",
      "_model_module_version": "1.5.0",
      "_model_name": "HBoxModel",
      "_view_count": null,
      "_view_module": "@jupyter-widgets/controls",
      "_view_module_version": "1.5.0",
      "_view_name": "HBoxView",
      "box_style": "",
      "children": [
       "IPY_MODEL_02d1f77324854fbca0df9384c57faac8",
       "IPY_MODEL_8e63ba7f1fd24555bf11bc9dbe9c770b"
      ],
      "layout": "IPY_MODEL_dc6862530f6e429ba61a169b4c95722c"
     }
    },
    "b78413dcc0584a0c8f71731a06aaa1b8": {
     "model_module": "@jupyter-widgets/base",
     "model_name": "LayoutModel",
     "state": {
      "_model_module": "@jupyter-widgets/base",
      "_model_module_version": "1.2.0",
      "_model_name": "LayoutModel",
      "_view_count": null,
      "_view_module": "@jupyter-widgets/base",
      "_view_module_version": "1.2.0",
      "_view_name": "LayoutView",
      "align_content": null,
      "align_items": null,
      "align_self": null,
      "border": null,
      "bottom": null,
      "display": null,
      "flex": null,
      "flex_flow": null,
      "grid_area": null,
      "grid_auto_columns": null,
      "grid_auto_flow": null,
      "grid_auto_rows": null,
      "grid_column": null,
      "grid_gap": null,
      "grid_row": null,
      "grid_template_areas": null,
      "grid_template_columns": null,
      "grid_template_rows": null,
      "height": null,
      "justify_content": null,
      "justify_items": null,
      "left": null,
      "margin": null,
      "max_height": null,
      "max_width": null,
      "min_height": null,
      "min_width": null,
      "object_fit": null,
      "object_position": null,
      "order": null,
      "overflow": null,
      "overflow_x": null,
      "overflow_y": null,
      "padding": null,
      "right": null,
      "top": null,
      "visibility": null,
      "width": null
     }
    },
    "b7c43fb5efdd4afbb82c81b923f2815a": {
     "model_module": "@jupyter-widgets/controls",
     "model_name": "HBoxModel",
     "state": {
      "_dom_classes": [],
      "_model_module": "@jupyter-widgets/controls",
      "_model_module_version": "1.5.0",
      "_model_name": "HBoxModel",
      "_view_count": null,
      "_view_module": "@jupyter-widgets/controls",
      "_view_module_version": "1.5.0",
      "_view_name": "HBoxView",
      "box_style": "",
      "children": [
       "IPY_MODEL_8dddd0245dcb4532917cbfa0181d2a00",
       "IPY_MODEL_3bdb4058f40f40e3a10e323325a64638"
      ],
      "layout": "IPY_MODEL_c0a661f20e7e4649a3c8c42a5fd01956"
     }
    },
    "b94e374d92c146009447c3827b977267": {
     "model_module": "@jupyter-widgets/controls",
     "model_name": "FloatProgressModel",
     "state": {
      "_dom_classes": [],
      "_model_module": "@jupyter-widgets/controls",
      "_model_module_version": "1.5.0",
      "_model_name": "FloatProgressModel",
      "_view_count": null,
      "_view_module": "@jupyter-widgets/controls",
      "_view_module_version": "1.5.0",
      "_view_name": "ProgressView",
      "bar_style": "success",
      "description": "100%",
      "description_tooltip": null,
      "layout": "IPY_MODEL_b177a8cb85a24b88ab6d56205b630f1d",
      "max": 3478,
      "min": 0,
      "orientation": "horizontal",
      "style": "IPY_MODEL_4ff7ccffc36a4a0f93031f5cdc3b718d",
      "value": 3478
     }
    },
    "b9c5c6dd54cc4dc5ad5a2bb69a24ab05": {
     "model_module": "@jupyter-widgets/controls",
     "model_name": "ProgressStyleModel",
     "state": {
      "_model_module": "@jupyter-widgets/controls",
      "_model_module_version": "1.5.0",
      "_model_name": "ProgressStyleModel",
      "_view_count": null,
      "_view_module": "@jupyter-widgets/base",
      "_view_module_version": "1.2.0",
      "_view_name": "StyleView",
      "bar_color": null,
      "description_width": "initial"
     }
    },
    "bc41384bbae04044b9780651c6b5a47c": {
     "model_module": "@jupyter-widgets/base",
     "model_name": "LayoutModel",
     "state": {
      "_model_module": "@jupyter-widgets/base",
      "_model_module_version": "1.2.0",
      "_model_name": "LayoutModel",
      "_view_count": null,
      "_view_module": "@jupyter-widgets/base",
      "_view_module_version": "1.2.0",
      "_view_name": "LayoutView",
      "align_content": null,
      "align_items": null,
      "align_self": null,
      "border": null,
      "bottom": null,
      "display": null,
      "flex": null,
      "flex_flow": null,
      "grid_area": null,
      "grid_auto_columns": null,
      "grid_auto_flow": null,
      "grid_auto_rows": null,
      "grid_column": null,
      "grid_gap": null,
      "grid_row": null,
      "grid_template_areas": null,
      "grid_template_columns": null,
      "grid_template_rows": null,
      "height": null,
      "justify_content": null,
      "justify_items": null,
      "left": null,
      "margin": null,
      "max_height": null,
      "max_width": null,
      "min_height": null,
      "min_width": null,
      "object_fit": null,
      "object_position": null,
      "order": null,
      "overflow": null,
      "overflow_x": null,
      "overflow_y": null,
      "padding": null,
      "right": null,
      "top": null,
      "visibility": null,
      "width": null
     }
    },
    "bd0958ea97b141b1aca367c71721c549": {
     "model_module": "@jupyter-widgets/controls",
     "model_name": "HBoxModel",
     "state": {
      "_dom_classes": [],
      "_model_module": "@jupyter-widgets/controls",
      "_model_module_version": "1.5.0",
      "_model_name": "HBoxModel",
      "_view_count": null,
      "_view_module": "@jupyter-widgets/controls",
      "_view_module_version": "1.5.0",
      "_view_name": "HBoxView",
      "box_style": "",
      "children": [
       "IPY_MODEL_d080668299ef42fabb8ab6fbcf329cea",
       "IPY_MODEL_aafd4b2c56db43378c4627797665db17"
      ],
      "layout": "IPY_MODEL_0354ab33471e4c34a0c1b3c062bcd6bb"
     }
    },
    "bd187486ac2548f2961cfcb63d852de1": {
     "model_module": "@jupyter-widgets/controls",
     "model_name": "FloatProgressModel",
     "state": {
      "_dom_classes": [],
      "_model_module": "@jupyter-widgets/controls",
      "_model_module_version": "1.5.0",
      "_model_name": "FloatProgressModel",
      "_view_count": null,
      "_view_module": "@jupyter-widgets/controls",
      "_view_module_version": "1.5.0",
      "_view_name": "ProgressView",
      "bar_style": "success",
      "description": "#1: 100%",
      "description_tooltip": null,
      "layout": "IPY_MODEL_58f3e8002f984594ac05c973aa78ef69",
      "max": 52,
      "min": 0,
      "orientation": "horizontal",
      "style": "IPY_MODEL_231c66f195d34f86b216805518f4bccd",
      "value": 52
     }
    },
    "bd3447291ce54812af10ac6245ea4328": {
     "model_module": "@jupyter-widgets/base",
     "model_name": "LayoutModel",
     "state": {
      "_model_module": "@jupyter-widgets/base",
      "_model_module_version": "1.2.0",
      "_model_name": "LayoutModel",
      "_view_count": null,
      "_view_module": "@jupyter-widgets/base",
      "_view_module_version": "1.2.0",
      "_view_name": "LayoutView",
      "align_content": null,
      "align_items": null,
      "align_self": null,
      "border": null,
      "bottom": null,
      "display": null,
      "flex": null,
      "flex_flow": null,
      "grid_area": null,
      "grid_auto_columns": null,
      "grid_auto_flow": null,
      "grid_auto_rows": null,
      "grid_column": null,
      "grid_gap": null,
      "grid_row": null,
      "grid_template_areas": null,
      "grid_template_columns": null,
      "grid_template_rows": null,
      "height": null,
      "justify_content": null,
      "justify_items": null,
      "left": null,
      "margin": null,
      "max_height": null,
      "max_width": null,
      "min_height": null,
      "min_width": null,
      "object_fit": null,
      "object_position": null,
      "order": null,
      "overflow": null,
      "overflow_x": null,
      "overflow_y": null,
      "padding": null,
      "right": null,
      "top": null,
      "visibility": null,
      "width": null
     }
    },
    "beca070c32124a119a08cb21c2ca95e5": {
     "model_module": "@jupyter-widgets/controls",
     "model_name": "ProgressStyleModel",
     "state": {
      "_model_module": "@jupyter-widgets/controls",
      "_model_module_version": "1.5.0",
      "_model_name": "ProgressStyleModel",
      "_view_count": null,
      "_view_module": "@jupyter-widgets/base",
      "_view_module_version": "1.2.0",
      "_view_name": "StyleView",
      "bar_color": null,
      "description_width": "initial"
     }
    },
    "bee0f50055eb4f738636142a10da0ddd": {
     "model_module": "@jupyter-widgets/base",
     "model_name": "LayoutModel",
     "state": {
      "_model_module": "@jupyter-widgets/base",
      "_model_module_version": "1.2.0",
      "_model_name": "LayoutModel",
      "_view_count": null,
      "_view_module": "@jupyter-widgets/base",
      "_view_module_version": "1.2.0",
      "_view_name": "LayoutView",
      "align_content": null,
      "align_items": null,
      "align_self": null,
      "border": null,
      "bottom": null,
      "display": null,
      "flex": null,
      "flex_flow": null,
      "grid_area": null,
      "grid_auto_columns": null,
      "grid_auto_flow": null,
      "grid_auto_rows": null,
      "grid_column": null,
      "grid_gap": null,
      "grid_row": null,
      "grid_template_areas": null,
      "grid_template_columns": null,
      "grid_template_rows": null,
      "height": null,
      "justify_content": null,
      "justify_items": null,
      "left": null,
      "margin": null,
      "max_height": null,
      "max_width": null,
      "min_height": null,
      "min_width": null,
      "object_fit": null,
      "object_position": null,
      "order": null,
      "overflow": null,
      "overflow_x": null,
      "overflow_y": null,
      "padding": null,
      "right": null,
      "top": null,
      "visibility": null,
      "width": null
     }
    },
    "bf9e57d81135412d9a9a2281f28bd52a": {
     "model_module": "@jupyter-widgets/controls",
     "model_name": "HBoxModel",
     "state": {
      "_dom_classes": [],
      "_model_module": "@jupyter-widgets/controls",
      "_model_module_version": "1.5.0",
      "_model_name": "HBoxModel",
      "_view_count": null,
      "_view_module": "@jupyter-widgets/controls",
      "_view_module_version": "1.5.0",
      "_view_name": "HBoxView",
      "box_style": "",
      "children": [
       "IPY_MODEL_579b6055028f473981ce789a0733a753",
       "IPY_MODEL_4fb7347e9ca542e6ab9003bf4db218e0"
      ],
      "layout": "IPY_MODEL_c41610c0baef412984f8661d96e08b7e"
     }
    },
    "c01aca3229a24d41841be2b4a3a65bcc": {
     "model_module": "@jupyter-widgets/controls",
     "model_name": "ProgressStyleModel",
     "state": {
      "_model_module": "@jupyter-widgets/controls",
      "_model_module_version": "1.5.0",
      "_model_name": "ProgressStyleModel",
      "_view_count": null,
      "_view_module": "@jupyter-widgets/base",
      "_view_module_version": "1.2.0",
      "_view_name": "StyleView",
      "bar_color": null,
      "description_width": "initial"
     }
    },
    "c0a661f20e7e4649a3c8c42a5fd01956": {
     "model_module": "@jupyter-widgets/base",
     "model_name": "LayoutModel",
     "state": {
      "_model_module": "@jupyter-widgets/base",
      "_model_module_version": "1.2.0",
      "_model_name": "LayoutModel",
      "_view_count": null,
      "_view_module": "@jupyter-widgets/base",
      "_view_module_version": "1.2.0",
      "_view_name": "LayoutView",
      "align_content": null,
      "align_items": null,
      "align_self": null,
      "border": null,
      "bottom": null,
      "display": null,
      "flex": null,
      "flex_flow": null,
      "grid_area": null,
      "grid_auto_columns": null,
      "grid_auto_flow": null,
      "grid_auto_rows": null,
      "grid_column": null,
      "grid_gap": null,
      "grid_row": null,
      "grid_template_areas": null,
      "grid_template_columns": null,
      "grid_template_rows": null,
      "height": null,
      "justify_content": null,
      "justify_items": null,
      "left": null,
      "margin": null,
      "max_height": null,
      "max_width": null,
      "min_height": null,
      "min_width": null,
      "object_fit": null,
      "object_position": null,
      "order": null,
      "overflow": null,
      "overflow_x": null,
      "overflow_y": null,
      "padding": null,
      "right": null,
      "top": null,
      "visibility": null,
      "width": null
     }
    },
    "c0e6b6e6395d4dbd827eb1c0de1ad21a": {
     "model_module": "@jupyter-widgets/base",
     "model_name": "LayoutModel",
     "state": {
      "_model_module": "@jupyter-widgets/base",
      "_model_module_version": "1.2.0",
      "_model_name": "LayoutModel",
      "_view_count": null,
      "_view_module": "@jupyter-widgets/base",
      "_view_module_version": "1.2.0",
      "_view_name": "LayoutView",
      "align_content": null,
      "align_items": null,
      "align_self": null,
      "border": null,
      "bottom": null,
      "display": null,
      "flex": null,
      "flex_flow": null,
      "grid_area": null,
      "grid_auto_columns": null,
      "grid_auto_flow": null,
      "grid_auto_rows": null,
      "grid_column": null,
      "grid_gap": null,
      "grid_row": null,
      "grid_template_areas": null,
      "grid_template_columns": null,
      "grid_template_rows": null,
      "height": null,
      "justify_content": null,
      "justify_items": null,
      "left": null,
      "margin": null,
      "max_height": null,
      "max_width": null,
      "min_height": null,
      "min_width": null,
      "object_fit": null,
      "object_position": null,
      "order": null,
      "overflow": null,
      "overflow_x": null,
      "overflow_y": null,
      "padding": null,
      "right": null,
      "top": null,
      "visibility": null,
      "width": null
     }
    },
    "c126ea97019149848396e593cfab016f": {
     "model_module": "@jupyter-widgets/base",
     "model_name": "LayoutModel",
     "state": {
      "_model_module": "@jupyter-widgets/base",
      "_model_module_version": "1.2.0",
      "_model_name": "LayoutModel",
      "_view_count": null,
      "_view_module": "@jupyter-widgets/base",
      "_view_module_version": "1.2.0",
      "_view_name": "LayoutView",
      "align_content": null,
      "align_items": null,
      "align_self": null,
      "border": null,
      "bottom": null,
      "display": null,
      "flex": null,
      "flex_flow": null,
      "grid_area": null,
      "grid_auto_columns": null,
      "grid_auto_flow": null,
      "grid_auto_rows": null,
      "grid_column": null,
      "grid_gap": null,
      "grid_row": null,
      "grid_template_areas": null,
      "grid_template_columns": null,
      "grid_template_rows": null,
      "height": null,
      "justify_content": null,
      "justify_items": null,
      "left": null,
      "margin": null,
      "max_height": null,
      "max_width": null,
      "min_height": null,
      "min_width": null,
      "object_fit": null,
      "object_position": null,
      "order": null,
      "overflow": null,
      "overflow_x": null,
      "overflow_y": null,
      "padding": null,
      "right": null,
      "top": null,
      "visibility": null,
      "width": null
     }
    },
    "c41610c0baef412984f8661d96e08b7e": {
     "model_module": "@jupyter-widgets/base",
     "model_name": "LayoutModel",
     "state": {
      "_model_module": "@jupyter-widgets/base",
      "_model_module_version": "1.2.0",
      "_model_name": "LayoutModel",
      "_view_count": null,
      "_view_module": "@jupyter-widgets/base",
      "_view_module_version": "1.2.0",
      "_view_name": "LayoutView",
      "align_content": null,
      "align_items": null,
      "align_self": null,
      "border": null,
      "bottom": null,
      "display": null,
      "flex": null,
      "flex_flow": null,
      "grid_area": null,
      "grid_auto_columns": null,
      "grid_auto_flow": null,
      "grid_auto_rows": null,
      "grid_column": null,
      "grid_gap": null,
      "grid_row": null,
      "grid_template_areas": null,
      "grid_template_columns": null,
      "grid_template_rows": null,
      "height": null,
      "justify_content": null,
      "justify_items": null,
      "left": null,
      "margin": null,
      "max_height": null,
      "max_width": null,
      "min_height": null,
      "min_width": null,
      "object_fit": null,
      "object_position": null,
      "order": null,
      "overflow": null,
      "overflow_x": null,
      "overflow_y": null,
      "padding": null,
      "right": null,
      "top": null,
      "visibility": null,
      "width": null
     }
    },
    "c546bca23ee248a1be7bd8ead3e82a8f": {
     "model_module": "@jupyter-widgets/controls",
     "model_name": "ProgressStyleModel",
     "state": {
      "_model_module": "@jupyter-widgets/controls",
      "_model_module_version": "1.5.0",
      "_model_name": "ProgressStyleModel",
      "_view_count": null,
      "_view_module": "@jupyter-widgets/base",
      "_view_module_version": "1.2.0",
      "_view_name": "StyleView",
      "bar_color": null,
      "description_width": "initial"
     }
    },
    "c8fdf261ac294093a355778a3a4aba3b": {
     "model_module": "@jupyter-widgets/controls",
     "model_name": "ProgressStyleModel",
     "state": {
      "_model_module": "@jupyter-widgets/controls",
      "_model_module_version": "1.5.0",
      "_model_name": "ProgressStyleModel",
      "_view_count": null,
      "_view_module": "@jupyter-widgets/base",
      "_view_module_version": "1.2.0",
      "_view_name": "StyleView",
      "bar_color": null,
      "description_width": "initial"
     }
    },
    "c9dc4421940241c59f1151aeabedc98b": {
     "model_module": "@jupyter-widgets/base",
     "model_name": "LayoutModel",
     "state": {
      "_model_module": "@jupyter-widgets/base",
      "_model_module_version": "1.2.0",
      "_model_name": "LayoutModel",
      "_view_count": null,
      "_view_module": "@jupyter-widgets/base",
      "_view_module_version": "1.2.0",
      "_view_name": "LayoutView",
      "align_content": null,
      "align_items": null,
      "align_self": null,
      "border": null,
      "bottom": null,
      "display": null,
      "flex": null,
      "flex_flow": null,
      "grid_area": null,
      "grid_auto_columns": null,
      "grid_auto_flow": null,
      "grid_auto_rows": null,
      "grid_column": null,
      "grid_gap": null,
      "grid_row": null,
      "grid_template_areas": null,
      "grid_template_columns": null,
      "grid_template_rows": null,
      "height": null,
      "justify_content": null,
      "justify_items": null,
      "left": null,
      "margin": null,
      "max_height": null,
      "max_width": null,
      "min_height": null,
      "min_width": null,
      "object_fit": null,
      "object_position": null,
      "order": null,
      "overflow": null,
      "overflow_x": null,
      "overflow_y": null,
      "padding": null,
      "right": null,
      "top": null,
      "visibility": null,
      "width": null
     }
    },
    "cb5666eb8ebb4d1392e98d6b5af8761c": {
     "model_module": "@jupyter-widgets/controls",
     "model_name": "DescriptionStyleModel",
     "state": {
      "_model_module": "@jupyter-widgets/controls",
      "_model_module_version": "1.5.0",
      "_model_name": "DescriptionStyleModel",
      "_view_count": null,
      "_view_module": "@jupyter-widgets/base",
      "_view_module_version": "1.2.0",
      "_view_name": "StyleView",
      "description_width": ""
     }
    },
    "cc9c1e00c2d34516b8fd9edff96bb0d8": {
     "model_module": "@jupyter-widgets/controls",
     "model_name": "HBoxModel",
     "state": {
      "_dom_classes": [],
      "_model_module": "@jupyter-widgets/controls",
      "_model_module_version": "1.5.0",
      "_model_name": "HBoxModel",
      "_view_count": null,
      "_view_module": "@jupyter-widgets/controls",
      "_view_module_version": "1.5.0",
      "_view_name": "HBoxView",
      "box_style": "",
      "children": [
       "IPY_MODEL_33c92b5afd1d4b6d88016aabfb434194",
       "IPY_MODEL_998676d59f9c464e8463d65baad6448b"
      ],
      "layout": "IPY_MODEL_6abfbe44a1bd4518b41f5f53f920e936"
     }
    },
    "ccb720bf256e42f7b0251494ccb7741f": {
     "model_module": "@jupyter-widgets/controls",
     "model_name": "DescriptionStyleModel",
     "state": {
      "_model_module": "@jupyter-widgets/controls",
      "_model_module_version": "1.5.0",
      "_model_name": "DescriptionStyleModel",
      "_view_count": null,
      "_view_module": "@jupyter-widgets/base",
      "_view_module_version": "1.2.0",
      "_view_name": "StyleView",
      "description_width": ""
     }
    },
    "ce337f50183942e6a74ca1b33735ade9": {
     "model_module": "@jupyter-widgets/controls",
     "model_name": "HTMLModel",
     "state": {
      "_dom_classes": [],
      "_model_module": "@jupyter-widgets/controls",
      "_model_module_version": "1.5.0",
      "_model_name": "HTMLModel",
      "_view_count": null,
      "_view_module": "@jupyter-widgets/controls",
      "_view_module_version": "1.5.0",
      "_view_name": "HTMLView",
      "description": "",
      "description_tooltip": null,
      "layout": "IPY_MODEL_e9a702f10538415b970ea1345804d72c",
      "placeholder": "​",
      "style": "IPY_MODEL_9532db4cdc5e4371a4a02055a4c67a08",
      "value": " 23.0k/? [00:00&lt;00:00, 72.2kB/s]"
     }
    },
    "ceb44ba4fdf34da19a52469acf1ce63f": {
     "model_module": "@jupyter-widgets/base",
     "model_name": "LayoutModel",
     "state": {
      "_model_module": "@jupyter-widgets/base",
      "_model_module_version": "1.2.0",
      "_model_name": "LayoutModel",
      "_view_count": null,
      "_view_module": "@jupyter-widgets/base",
      "_view_module_version": "1.2.0",
      "_view_name": "LayoutView",
      "align_content": null,
      "align_items": null,
      "align_self": null,
      "border": null,
      "bottom": null,
      "display": null,
      "flex": null,
      "flex_flow": null,
      "grid_area": null,
      "grid_auto_columns": null,
      "grid_auto_flow": null,
      "grid_auto_rows": null,
      "grid_column": null,
      "grid_gap": null,
      "grid_row": null,
      "grid_template_areas": null,
      "grid_template_columns": null,
      "grid_template_rows": null,
      "height": null,
      "justify_content": null,
      "justify_items": null,
      "left": null,
      "margin": null,
      "max_height": null,
      "max_width": null,
      "min_height": null,
      "min_width": null,
      "object_fit": null,
      "object_position": null,
      "order": null,
      "overflow": null,
      "overflow_x": null,
      "overflow_y": null,
      "padding": null,
      "right": null,
      "top": null,
      "visibility": null,
      "width": null
     }
    },
    "d080668299ef42fabb8ab6fbcf329cea": {
     "model_module": "@jupyter-widgets/controls",
     "model_name": "FloatProgressModel",
     "state": {
      "_dom_classes": [],
      "_model_module": "@jupyter-widgets/controls",
      "_model_module_version": "1.5.0",
      "_model_name": "FloatProgressModel",
      "_view_count": null,
      "_view_module": "@jupyter-widgets/controls",
      "_view_module_version": "1.5.0",
      "_view_name": "ProgressView",
      "bar_style": "success",
      "description": "100%",
      "description_tooltip": null,
      "layout": "IPY_MODEL_f972527479e74337a98f236ed018ae1d",
      "max": 1,
      "min": 0,
      "orientation": "horizontal",
      "style": "IPY_MODEL_b0f3a205ad4546188fc6e7e7cf96ab32",
      "value": 1
     }
    },
    "d35c15beeb33476894b07c3563f8facd": {
     "model_module": "@jupyter-widgets/controls",
     "model_name": "DescriptionStyleModel",
     "state": {
      "_model_module": "@jupyter-widgets/controls",
      "_model_module_version": "1.5.0",
      "_model_name": "DescriptionStyleModel",
      "_view_count": null,
      "_view_module": "@jupyter-widgets/base",
      "_view_module_version": "1.2.0",
      "_view_name": "StyleView",
      "description_width": ""
     }
    },
    "d362345c05234c97a675c6bacdad0e92": {
     "model_module": "@jupyter-widgets/controls",
     "model_name": "DescriptionStyleModel",
     "state": {
      "_model_module": "@jupyter-widgets/controls",
      "_model_module_version": "1.5.0",
      "_model_name": "DescriptionStyleModel",
      "_view_count": null,
      "_view_module": "@jupyter-widgets/base",
      "_view_module_version": "1.2.0",
      "_view_name": "StyleView",
      "description_width": ""
     }
    },
    "d453bd4a35e54bfba20dac1fe86c60c1": {
     "model_module": "@jupyter-widgets/base",
     "model_name": "LayoutModel",
     "state": {
      "_model_module": "@jupyter-widgets/base",
      "_model_module_version": "1.2.0",
      "_model_name": "LayoutModel",
      "_view_count": null,
      "_view_module": "@jupyter-widgets/base",
      "_view_module_version": "1.2.0",
      "_view_name": "LayoutView",
      "align_content": null,
      "align_items": null,
      "align_self": null,
      "border": null,
      "bottom": null,
      "display": null,
      "flex": null,
      "flex_flow": null,
      "grid_area": null,
      "grid_auto_columns": null,
      "grid_auto_flow": null,
      "grid_auto_rows": null,
      "grid_column": null,
      "grid_gap": null,
      "grid_row": null,
      "grid_template_areas": null,
      "grid_template_columns": null,
      "grid_template_rows": null,
      "height": null,
      "justify_content": null,
      "justify_items": null,
      "left": null,
      "margin": null,
      "max_height": null,
      "max_width": null,
      "min_height": null,
      "min_width": null,
      "object_fit": null,
      "object_position": null,
      "order": null,
      "overflow": null,
      "overflow_x": null,
      "overflow_y": null,
      "padding": null,
      "right": null,
      "top": null,
      "visibility": null,
      "width": null
     }
    },
    "d4a3f79644fc41848450ba29e6fdfc3d": {
     "model_module": "@jupyter-widgets/base",
     "model_name": "LayoutModel",
     "state": {
      "_model_module": "@jupyter-widgets/base",
      "_model_module_version": "1.2.0",
      "_model_name": "LayoutModel",
      "_view_count": null,
      "_view_module": "@jupyter-widgets/base",
      "_view_module_version": "1.2.0",
      "_view_name": "LayoutView",
      "align_content": null,
      "align_items": null,
      "align_self": null,
      "border": null,
      "bottom": null,
      "display": null,
      "flex": null,
      "flex_flow": null,
      "grid_area": null,
      "grid_auto_columns": null,
      "grid_auto_flow": null,
      "grid_auto_rows": null,
      "grid_column": null,
      "grid_gap": null,
      "grid_row": null,
      "grid_template_areas": null,
      "grid_template_columns": null,
      "grid_template_rows": null,
      "height": null,
      "justify_content": null,
      "justify_items": null,
      "left": null,
      "margin": null,
      "max_height": null,
      "max_width": null,
      "min_height": null,
      "min_width": null,
      "object_fit": null,
      "object_position": null,
      "order": null,
      "overflow": null,
      "overflow_x": null,
      "overflow_y": null,
      "padding": null,
      "right": null,
      "top": null,
      "visibility": null,
      "width": null
     }
    },
    "d5fb02debe4347e781543a996ce39be3": {
     "model_module": "@jupyter-widgets/controls",
     "model_name": "HBoxModel",
     "state": {
      "_dom_classes": [],
      "_model_module": "@jupyter-widgets/controls",
      "_model_module_version": "1.5.0",
      "_model_name": "HBoxModel",
      "_view_count": null,
      "_view_module": "@jupyter-widgets/controls",
      "_view_module_version": "1.5.0",
      "_view_name": "HBoxView",
      "box_style": "",
      "children": [
       "IPY_MODEL_8e1a85a4a6214a16b7431da23a301ada",
       "IPY_MODEL_57198e3250374e1fa64c5a4be255861e"
      ],
      "layout": "IPY_MODEL_da12267c52144292adb9896249d61a6a"
     }
    },
    "d649c0f9c1c24634a84b7ef697721ffa": {
     "model_module": "@jupyter-widgets/base",
     "model_name": "LayoutModel",
     "state": {
      "_model_module": "@jupyter-widgets/base",
      "_model_module_version": "1.2.0",
      "_model_name": "LayoutModel",
      "_view_count": null,
      "_view_module": "@jupyter-widgets/base",
      "_view_module_version": "1.2.0",
      "_view_name": "LayoutView",
      "align_content": null,
      "align_items": null,
      "align_self": null,
      "border": null,
      "bottom": null,
      "display": null,
      "flex": null,
      "flex_flow": null,
      "grid_area": null,
      "grid_auto_columns": null,
      "grid_auto_flow": null,
      "grid_auto_rows": null,
      "grid_column": null,
      "grid_gap": null,
      "grid_row": null,
      "grid_template_areas": null,
      "grid_template_columns": null,
      "grid_template_rows": null,
      "height": null,
      "justify_content": null,
      "justify_items": null,
      "left": null,
      "margin": null,
      "max_height": null,
      "max_width": null,
      "min_height": null,
      "min_width": null,
      "object_fit": null,
      "object_position": null,
      "order": null,
      "overflow": null,
      "overflow_x": null,
      "overflow_y": null,
      "padding": null,
      "right": null,
      "top": null,
      "visibility": null,
      "width": null
     }
    },
    "d69468d63dd74fdd807fe061b92aa84e": {
     "model_module": "@jupyter-widgets/controls",
     "model_name": "HTMLModel",
     "state": {
      "_dom_classes": [],
      "_model_module": "@jupyter-widgets/controls",
      "_model_module_version": "1.5.0",
      "_model_name": "HTMLModel",
      "_view_count": null,
      "_view_module": "@jupyter-widgets/controls",
      "_view_module_version": "1.5.0",
      "_view_name": "HTMLView",
      "description": "",
      "description_tooltip": null,
      "layout": "IPY_MODEL_84e7f0001ebe458dad3c96e7e9a38cdc",
      "placeholder": "​",
      "style": "IPY_MODEL_7f5203fde6b64bf7ad53d6ecd3041bfc",
      "value": " 869/869 [05:47&lt;00:00,  2.50ex/s]"
     }
    },
    "d7f27e9cf8a844349ca90393e0c49a03": {
     "model_module": "@jupyter-widgets/base",
     "model_name": "LayoutModel",
     "state": {
      "_model_module": "@jupyter-widgets/base",
      "_model_module_version": "1.2.0",
      "_model_name": "LayoutModel",
      "_view_count": null,
      "_view_module": "@jupyter-widgets/base",
      "_view_module_version": "1.2.0",
      "_view_name": "LayoutView",
      "align_content": null,
      "align_items": null,
      "align_self": null,
      "border": null,
      "bottom": null,
      "display": null,
      "flex": null,
      "flex_flow": null,
      "grid_area": null,
      "grid_auto_columns": null,
      "grid_auto_flow": null,
      "grid_auto_rows": null,
      "grid_column": null,
      "grid_gap": null,
      "grid_row": null,
      "grid_template_areas": null,
      "grid_template_columns": null,
      "grid_template_rows": null,
      "height": null,
      "justify_content": null,
      "justify_items": null,
      "left": null,
      "margin": null,
      "max_height": null,
      "max_width": null,
      "min_height": null,
      "min_width": null,
      "object_fit": null,
      "object_position": null,
      "order": null,
      "overflow": null,
      "overflow_x": null,
      "overflow_y": null,
      "padding": null,
      "right": null,
      "top": null,
      "visibility": null,
      "width": null
     }
    },
    "d96e01ad62c342cdb7d9b1eceb39afa3": {
     "model_module": "@jupyter-widgets/controls",
     "model_name": "HBoxModel",
     "state": {
      "_dom_classes": [],
      "_model_module": "@jupyter-widgets/controls",
      "_model_module_version": "1.5.0",
      "_model_name": "HBoxModel",
      "_view_count": null,
      "_view_module": "@jupyter-widgets/controls",
      "_view_module_version": "1.5.0",
      "_view_name": "HBoxView",
      "box_style": "",
      "children": [
       "IPY_MODEL_e6178f7b148c4bf39f2826f208e0cc64",
       "IPY_MODEL_f78ff14b9c8f46448ed1ecb3fe1f5e0b"
      ],
      "layout": "IPY_MODEL_e6ce9330460d4a0fb67cc493ca74ae96"
     }
    },
    "da12267c52144292adb9896249d61a6a": {
     "model_module": "@jupyter-widgets/base",
     "model_name": "LayoutModel",
     "state": {
      "_model_module": "@jupyter-widgets/base",
      "_model_module_version": "1.2.0",
      "_model_name": "LayoutModel",
      "_view_count": null,
      "_view_module": "@jupyter-widgets/base",
      "_view_module_version": "1.2.0",
      "_view_name": "LayoutView",
      "align_content": null,
      "align_items": null,
      "align_self": null,
      "border": null,
      "bottom": null,
      "display": null,
      "flex": null,
      "flex_flow": null,
      "grid_area": null,
      "grid_auto_columns": null,
      "grid_auto_flow": null,
      "grid_auto_rows": null,
      "grid_column": null,
      "grid_gap": null,
      "grid_row": null,
      "grid_template_areas": null,
      "grid_template_columns": null,
      "grid_template_rows": null,
      "height": null,
      "justify_content": null,
      "justify_items": null,
      "left": null,
      "margin": null,
      "max_height": null,
      "max_width": null,
      "min_height": null,
      "min_width": null,
      "object_fit": null,
      "object_position": null,
      "order": null,
      "overflow": null,
      "overflow_x": null,
      "overflow_y": null,
      "padding": null,
      "right": null,
      "top": null,
      "visibility": null,
      "width": null
     }
    },
    "da1ff50f8b9241108a325ada04224642": {
     "model_module": "@jupyter-widgets/controls",
     "model_name": "ProgressStyleModel",
     "state": {
      "_model_module": "@jupyter-widgets/controls",
      "_model_module_version": "1.5.0",
      "_model_name": "ProgressStyleModel",
      "_view_count": null,
      "_view_module": "@jupyter-widgets/base",
      "_view_module_version": "1.2.0",
      "_view_name": "StyleView",
      "bar_color": null,
      "description_width": "initial"
     }
    },
    "db71db50799c404aafa4a54de8b9b799": {
     "model_module": "@jupyter-widgets/base",
     "model_name": "LayoutModel",
     "state": {
      "_model_module": "@jupyter-widgets/base",
      "_model_module_version": "1.2.0",
      "_model_name": "LayoutModel",
      "_view_count": null,
      "_view_module": "@jupyter-widgets/base",
      "_view_module_version": "1.2.0",
      "_view_name": "LayoutView",
      "align_content": null,
      "align_items": null,
      "align_self": null,
      "border": null,
      "bottom": null,
      "display": null,
      "flex": null,
      "flex_flow": null,
      "grid_area": null,
      "grid_auto_columns": null,
      "grid_auto_flow": null,
      "grid_auto_rows": null,
      "grid_column": null,
      "grid_gap": null,
      "grid_row": null,
      "grid_template_areas": null,
      "grid_template_columns": null,
      "grid_template_rows": null,
      "height": null,
      "justify_content": null,
      "justify_items": null,
      "left": null,
      "margin": null,
      "max_height": null,
      "max_width": null,
      "min_height": null,
      "min_width": null,
      "object_fit": null,
      "object_position": null,
      "order": null,
      "overflow": null,
      "overflow_x": null,
      "overflow_y": null,
      "padding": null,
      "right": null,
      "top": null,
      "visibility": null,
      "width": null
     }
    },
    "dc6862530f6e429ba61a169b4c95722c": {
     "model_module": "@jupyter-widgets/base",
     "model_name": "LayoutModel",
     "state": {
      "_model_module": "@jupyter-widgets/base",
      "_model_module_version": "1.2.0",
      "_model_name": "LayoutModel",
      "_view_count": null,
      "_view_module": "@jupyter-widgets/base",
      "_view_module_version": "1.2.0",
      "_view_name": "LayoutView",
      "align_content": null,
      "align_items": null,
      "align_self": null,
      "border": null,
      "bottom": null,
      "display": null,
      "flex": null,
      "flex_flow": null,
      "grid_area": null,
      "grid_auto_columns": null,
      "grid_auto_flow": null,
      "grid_auto_rows": null,
      "grid_column": null,
      "grid_gap": null,
      "grid_row": null,
      "grid_template_areas": null,
      "grid_template_columns": null,
      "grid_template_rows": null,
      "height": null,
      "justify_content": null,
      "justify_items": null,
      "left": null,
      "margin": null,
      "max_height": null,
      "max_width": null,
      "min_height": null,
      "min_width": null,
      "object_fit": null,
      "object_position": null,
      "order": null,
      "overflow": null,
      "overflow_x": null,
      "overflow_y": null,
      "padding": null,
      "right": null,
      "top": null,
      "visibility": null,
      "width": null
     }
    },
    "dde7ae43ef954ef1b901c80f0a4e11fd": {
     "model_module": "@jupyter-widgets/base",
     "model_name": "LayoutModel",
     "state": {
      "_model_module": "@jupyter-widgets/base",
      "_model_module_version": "1.2.0",
      "_model_name": "LayoutModel",
      "_view_count": null,
      "_view_module": "@jupyter-widgets/base",
      "_view_module_version": "1.2.0",
      "_view_name": "LayoutView",
      "align_content": null,
      "align_items": null,
      "align_self": null,
      "border": null,
      "bottom": null,
      "display": null,
      "flex": null,
      "flex_flow": null,
      "grid_area": null,
      "grid_auto_columns": null,
      "grid_auto_flow": null,
      "grid_auto_rows": null,
      "grid_column": null,
      "grid_gap": null,
      "grid_row": null,
      "grid_template_areas": null,
      "grid_template_columns": null,
      "grid_template_rows": null,
      "height": null,
      "justify_content": null,
      "justify_items": null,
      "left": null,
      "margin": null,
      "max_height": null,
      "max_width": null,
      "min_height": null,
      "min_width": null,
      "object_fit": null,
      "object_position": null,
      "order": null,
      "overflow": null,
      "overflow_x": null,
      "overflow_y": null,
      "padding": null,
      "right": null,
      "top": null,
      "visibility": null,
      "width": null
     }
    },
    "dec796237765477ea904834d9a824b61": {
     "model_module": "@jupyter-widgets/base",
     "model_name": "LayoutModel",
     "state": {
      "_model_module": "@jupyter-widgets/base",
      "_model_module_version": "1.2.0",
      "_model_name": "LayoutModel",
      "_view_count": null,
      "_view_module": "@jupyter-widgets/base",
      "_view_module_version": "1.2.0",
      "_view_name": "LayoutView",
      "align_content": null,
      "align_items": null,
      "align_self": null,
      "border": null,
      "bottom": null,
      "display": null,
      "flex": null,
      "flex_flow": null,
      "grid_area": null,
      "grid_auto_columns": null,
      "grid_auto_flow": null,
      "grid_auto_rows": null,
      "grid_column": null,
      "grid_gap": null,
      "grid_row": null,
      "grid_template_areas": null,
      "grid_template_columns": null,
      "grid_template_rows": null,
      "height": null,
      "justify_content": null,
      "justify_items": null,
      "left": null,
      "margin": null,
      "max_height": null,
      "max_width": null,
      "min_height": null,
      "min_width": null,
      "object_fit": null,
      "object_position": null,
      "order": null,
      "overflow": null,
      "overflow_x": null,
      "overflow_y": null,
      "padding": null,
      "right": null,
      "top": null,
      "visibility": null,
      "width": null
     }
    },
    "def702d8f8354fa4999587a5c68d0034": {
     "model_module": "@jupyter-widgets/controls",
     "model_name": "HBoxModel",
     "state": {
      "_dom_classes": [],
      "_model_module": "@jupyter-widgets/controls",
      "_model_module_version": "1.5.0",
      "_model_name": "HBoxModel",
      "_view_count": null,
      "_view_module": "@jupyter-widgets/controls",
      "_view_module_version": "1.5.0",
      "_view_name": "HBoxView",
      "box_style": "",
      "children": [
       "IPY_MODEL_edf36819322e4f9fa227a11592fef429",
       "IPY_MODEL_ce337f50183942e6a74ca1b33735ade9"
      ],
      "layout": "IPY_MODEL_2fd148d5587b4139919b0158f9dad71e"
     }
    },
    "e273548a15aa4d4994132b317adb66fc": {
     "model_module": "@jupyter-widgets/controls",
     "model_name": "FloatProgressModel",
     "state": {
      "_dom_classes": [],
      "_model_module": "@jupyter-widgets/controls",
      "_model_module_version": "1.5.0",
      "_model_name": "FloatProgressModel",
      "_view_count": null,
      "_view_module": "@jupyter-widgets/controls",
      "_view_module_version": "1.5.0",
      "_view_name": "ProgressView",
      "bar_style": "success",
      "description": "#0: 100%",
      "description_tooltip": null,
      "layout": "IPY_MODEL_80697300a4394b909f1c499ba80aeb13",
      "max": 52,
      "min": 0,
      "orientation": "horizontal",
      "style": "IPY_MODEL_7d62810674c8482abe46c60fc08884b4",
      "value": 52
     }
    },
    "e3b719c0ffcc4fd1b410ffb7f969b7a5": {
     "model_module": "@jupyter-widgets/controls",
     "model_name": "HTMLModel",
     "state": {
      "_dom_classes": [],
      "_model_module": "@jupyter-widgets/controls",
      "_model_module_version": "1.5.0",
      "_model_name": "HTMLModel",
      "_view_count": null,
      "_view_module": "@jupyter-widgets/controls",
      "_view_module_version": "1.5.0",
      "_view_name": "HTMLView",
      "description": "",
      "description_tooltip": null,
      "layout": "IPY_MODEL_c9dc4421940241c59f1151aeabedc98b",
      "placeholder": "​",
      "style": "IPY_MODEL_19e263785ea343ba99ee2127d9b83d1d",
      "value": " 1831/0 [00:04&lt;00:00,  4.82s/ examples]"
     }
    },
    "e51b5fd9d5a6416d986fac1526d1666f": {
     "model_module": "@jupyter-widgets/base",
     "model_name": "LayoutModel",
     "state": {
      "_model_module": "@jupyter-widgets/base",
      "_model_module_version": "1.2.0",
      "_model_name": "LayoutModel",
      "_view_count": null,
      "_view_module": "@jupyter-widgets/base",
      "_view_module_version": "1.2.0",
      "_view_name": "LayoutView",
      "align_content": null,
      "align_items": null,
      "align_self": null,
      "border": null,
      "bottom": null,
      "display": null,
      "flex": null,
      "flex_flow": null,
      "grid_area": null,
      "grid_auto_columns": null,
      "grid_auto_flow": null,
      "grid_auto_rows": null,
      "grid_column": null,
      "grid_gap": null,
      "grid_row": null,
      "grid_template_areas": null,
      "grid_template_columns": null,
      "grid_template_rows": null,
      "height": null,
      "justify_content": null,
      "justify_items": null,
      "left": null,
      "margin": null,
      "max_height": null,
      "max_width": null,
      "min_height": null,
      "min_width": null,
      "object_fit": null,
      "object_position": null,
      "order": null,
      "overflow": null,
      "overflow_x": null,
      "overflow_y": null,
      "padding": null,
      "right": null,
      "top": null,
      "visibility": null,
      "width": null
     }
    },
    "e6178f7b148c4bf39f2826f208e0cc64": {
     "model_module": "@jupyter-widgets/controls",
     "model_name": "FloatProgressModel",
     "state": {
      "_dom_classes": [],
      "_model_module": "@jupyter-widgets/controls",
      "_model_module_version": "1.5.0",
      "_model_name": "FloatProgressModel",
      "_view_count": null,
      "_view_module": "@jupyter-widgets/controls",
      "_view_module_version": "1.5.0",
      "_view_name": "ProgressView",
      "bar_style": "success",
      "description": "#0: 100%",
      "description_tooltip": null,
      "layout": "IPY_MODEL_6ba6d07674a34836be53cf173c2b61ca",
      "max": 412,
      "min": 0,
      "orientation": "horizontal",
      "style": "IPY_MODEL_929cde17b3484f3e9e8f8774bc43e374",
      "value": 412
     }
    },
    "e6ce9330460d4a0fb67cc493ca74ae96": {
     "model_module": "@jupyter-widgets/base",
     "model_name": "LayoutModel",
     "state": {
      "_model_module": "@jupyter-widgets/base",
      "_model_module_version": "1.2.0",
      "_model_name": "LayoutModel",
      "_view_count": null,
      "_view_module": "@jupyter-widgets/base",
      "_view_module_version": "1.2.0",
      "_view_name": "LayoutView",
      "align_content": null,
      "align_items": null,
      "align_self": null,
      "border": null,
      "bottom": null,
      "display": null,
      "flex": null,
      "flex_flow": null,
      "grid_area": null,
      "grid_auto_columns": null,
      "grid_auto_flow": null,
      "grid_auto_rows": null,
      "grid_column": null,
      "grid_gap": null,
      "grid_row": null,
      "grid_template_areas": null,
      "grid_template_columns": null,
      "grid_template_rows": null,
      "height": null,
      "justify_content": null,
      "justify_items": null,
      "left": null,
      "margin": null,
      "max_height": null,
      "max_width": null,
      "min_height": null,
      "min_width": null,
      "object_fit": null,
      "object_position": null,
      "order": null,
      "overflow": null,
      "overflow_x": null,
      "overflow_y": null,
      "padding": null,
      "right": null,
      "top": null,
      "visibility": null,
      "width": null
     }
    },
    "e9a702f10538415b970ea1345804d72c": {
     "model_module": "@jupyter-widgets/base",
     "model_name": "LayoutModel",
     "state": {
      "_model_module": "@jupyter-widgets/base",
      "_model_module_version": "1.2.0",
      "_model_name": "LayoutModel",
      "_view_count": null,
      "_view_module": "@jupyter-widgets/base",
      "_view_module_version": "1.2.0",
      "_view_name": "LayoutView",
      "align_content": null,
      "align_items": null,
      "align_self": null,
      "border": null,
      "bottom": null,
      "display": null,
      "flex": null,
      "flex_flow": null,
      "grid_area": null,
      "grid_auto_columns": null,
      "grid_auto_flow": null,
      "grid_auto_rows": null,
      "grid_column": null,
      "grid_gap": null,
      "grid_row": null,
      "grid_template_areas": null,
      "grid_template_columns": null,
      "grid_template_rows": null,
      "height": null,
      "justify_content": null,
      "justify_items": null,
      "left": null,
      "margin": null,
      "max_height": null,
      "max_width": null,
      "min_height": null,
      "min_width": null,
      "object_fit": null,
      "object_position": null,
      "order": null,
      "overflow": null,
      "overflow_x": null,
      "overflow_y": null,
      "padding": null,
      "right": null,
      "top": null,
      "visibility": null,
      "width": null
     }
    },
    "ec36a94ee2574ac8b227ccaefdee5520": {
     "model_module": "@jupyter-widgets/controls",
     "model_name": "DescriptionStyleModel",
     "state": {
      "_model_module": "@jupyter-widgets/controls",
      "_model_module_version": "1.5.0",
      "_model_name": "DescriptionStyleModel",
      "_view_count": null,
      "_view_module": "@jupyter-widgets/base",
      "_view_module_version": "1.2.0",
      "_view_name": "StyleView",
      "description_width": ""
     }
    },
    "edf36819322e4f9fa227a11592fef429": {
     "model_module": "@jupyter-widgets/controls",
     "model_name": "FloatProgressModel",
     "state": {
      "_dom_classes": [],
      "_model_module": "@jupyter-widgets/controls",
      "_model_module_version": "1.5.0",
      "_model_name": "FloatProgressModel",
      "_view_count": null,
      "_view_module": "@jupyter-widgets/controls",
      "_view_module_version": "1.5.0",
      "_view_name": "ProgressView",
      "bar_style": "success",
      "description": "Downloading: ",
      "description_tooltip": null,
      "layout": "IPY_MODEL_93f191a48b3141e1889fd94870b6ac0e",
      "max": 4662,
      "min": 0,
      "orientation": "horizontal",
      "style": "IPY_MODEL_8292dafcd40745958d0f3c563bf6b9b0",
      "value": 4662
     }
    },
    "ee641bbf54a7499597713c517baa81bb": {
     "model_module": "@jupyter-widgets/controls",
     "model_name": "HBoxModel",
     "state": {
      "_dom_classes": [],
      "_model_module": "@jupyter-widgets/controls",
      "_model_module_version": "1.5.0",
      "_model_name": "HBoxModel",
      "_view_count": null,
      "_view_module": "@jupyter-widgets/controls",
      "_view_module_version": "1.5.0",
      "_view_name": "HBoxView",
      "box_style": "",
      "children": [
       "IPY_MODEL_4f8957dc035d4c1a9e8630fc8ab8cd10",
       "IPY_MODEL_757e7bd0e6c5410da0490d191b4e68c8"
      ],
      "layout": "IPY_MODEL_3d929b9e2518402b81a71757ffb753d2"
     }
    },
    "eed2ccc12daa4c71b080794a7a18f5cb": {
     "model_module": "@jupyter-widgets/controls",
     "model_name": "HTMLModel",
     "state": {
      "_dom_classes": [],
      "_model_module": "@jupyter-widgets/controls",
      "_model_module_version": "1.5.0",
      "_model_name": "HTMLModel",
      "_view_count": null,
      "_view_module": "@jupyter-widgets/controls",
      "_view_module_version": "1.5.0",
      "_view_name": "HTMLView",
      "description": "",
      "description_tooltip": null,
      "layout": "IPY_MODEL_f18eddbd3d994ddc88f37e02d754c206",
      "placeholder": "​",
      "style": "IPY_MODEL_20347ed29fdc4c0a96da28c09aacf44d",
      "value": " 870/870 [05:39&lt;00:00,  2.45ex/s]"
     }
    },
    "f18eddbd3d994ddc88f37e02d754c206": {
     "model_module": "@jupyter-widgets/base",
     "model_name": "LayoutModel",
     "state": {
      "_model_module": "@jupyter-widgets/base",
      "_model_module_version": "1.2.0",
      "_model_name": "LayoutModel",
      "_view_count": null,
      "_view_module": "@jupyter-widgets/base",
      "_view_module_version": "1.2.0",
      "_view_name": "LayoutView",
      "align_content": null,
      "align_items": null,
      "align_self": null,
      "border": null,
      "bottom": null,
      "display": null,
      "flex": null,
      "flex_flow": null,
      "grid_area": null,
      "grid_auto_columns": null,
      "grid_auto_flow": null,
      "grid_auto_rows": null,
      "grid_column": null,
      "grid_gap": null,
      "grid_row": null,
      "grid_template_areas": null,
      "grid_template_columns": null,
      "grid_template_rows": null,
      "height": null,
      "justify_content": null,
      "justify_items": null,
      "left": null,
      "margin": null,
      "max_height": null,
      "max_width": null,
      "min_height": null,
      "min_width": null,
      "object_fit": null,
      "object_position": null,
      "order": null,
      "overflow": null,
      "overflow_x": null,
      "overflow_y": null,
      "padding": null,
      "right": null,
      "top": null,
      "visibility": null,
      "width": null
     }
    },
    "f203c54e7e054d97aa4d1097f320f611": {
     "model_module": "@jupyter-widgets/controls",
     "model_name": "FloatProgressModel",
     "state": {
      "_dom_classes": [],
      "_model_module": "@jupyter-widgets/controls",
      "_model_module_version": "1.5.0",
      "_model_name": "FloatProgressModel",
      "_view_count": null,
      "_view_module": "@jupyter-widgets/controls",
      "_view_module_version": "1.5.0",
      "_view_name": "ProgressView",
      "bar_style": "success",
      "description": "#3: 100%",
      "description_tooltip": null,
      "layout": "IPY_MODEL_0cd1932178c945d48604ffd299e65d2c",
      "max": 411,
      "min": 0,
      "orientation": "horizontal",
      "style": "IPY_MODEL_3ec3285e9f3e4a5abcefabb7f140f4a3",
      "value": 411
     }
    },
    "f3905820a42c499fba04af9c1ad19705": {
     "model_module": "@jupyter-widgets/controls",
     "model_name": "FloatProgressModel",
     "state": {
      "_dom_classes": [],
      "_model_module": "@jupyter-widgets/controls",
      "_model_module_version": "1.5.0",
      "_model_name": "FloatProgressModel",
      "_view_count": null,
      "_view_module": "@jupyter-widgets/controls",
      "_view_module_version": "1.5.0",
      "_view_name": "ProgressView",
      "bar_style": "success",
      "description": "#2: 100%",
      "description_tooltip": null,
      "layout": "IPY_MODEL_fc9504846f424542a7feb932964f1f5b",
      "max": 869,
      "min": 0,
      "orientation": "horizontal",
      "style": "IPY_MODEL_4c0ad31e73234e46aac0a297ec18bdeb",
      "value": 869
     }
    },
    "f3adb92e618743cca3299e3e7b6e369f": {
     "model_module": "@jupyter-widgets/controls",
     "model_name": "HBoxModel",
     "state": {
      "_dom_classes": [],
      "_model_module": "@jupyter-widgets/controls",
      "_model_module_version": "1.5.0",
      "_model_name": "HBoxModel",
      "_view_count": null,
      "_view_module": "@jupyter-widgets/controls",
      "_view_module_version": "1.5.0",
      "_view_name": "HBoxView",
      "box_style": "",
      "children": [
       "IPY_MODEL_b0e3a36279d243ab9943149705c72c3e",
       "IPY_MODEL_12696cc03f464a63a411efb2b5e5ac3b"
      ],
      "layout": "IPY_MODEL_83b51e16d88046c48dcd745cf09d2e56"
     }
    },
    "f4135dd72864445391f43f387635bfdc": {
     "model_module": "@jupyter-widgets/controls",
     "model_name": "HTMLModel",
     "state": {
      "_dom_classes": [],
      "_model_module": "@jupyter-widgets/controls",
      "_model_module_version": "1.5.0",
      "_model_name": "HTMLModel",
      "_view_count": null,
      "_view_module": "@jupyter-widgets/controls",
      "_view_module_version": "1.5.0",
      "_view_name": "HTMLView",
      "description": "",
      "description_tooltip": null,
      "layout": "IPY_MODEL_923ed9e127524187ab8cfcac31164ba7",
      "placeholder": "​",
      "style": "IPY_MODEL_8df9d19602cb4951b397c385458a11ef",
      "value": " 109/109 [00:56&lt;00:00,  1.93ba/s]"
     }
    },
    "f57d087016124ebeb073fd7428dcb68b": {
     "model_module": "@jupyter-widgets/base",
     "model_name": "LayoutModel",
     "state": {
      "_model_module": "@jupyter-widgets/base",
      "_model_module_version": "1.2.0",
      "_model_name": "LayoutModel",
      "_view_count": null,
      "_view_module": "@jupyter-widgets/base",
      "_view_module_version": "1.2.0",
      "_view_name": "LayoutView",
      "align_content": null,
      "align_items": null,
      "align_self": null,
      "border": null,
      "bottom": null,
      "display": null,
      "flex": null,
      "flex_flow": null,
      "grid_area": null,
      "grid_auto_columns": null,
      "grid_auto_flow": null,
      "grid_auto_rows": null,
      "grid_column": null,
      "grid_gap": null,
      "grid_row": null,
      "grid_template_areas": null,
      "grid_template_columns": null,
      "grid_template_rows": null,
      "height": null,
      "justify_content": null,
      "justify_items": null,
      "left": null,
      "margin": null,
      "max_height": null,
      "max_width": null,
      "min_height": null,
      "min_width": null,
      "object_fit": null,
      "object_position": null,
      "order": null,
      "overflow": null,
      "overflow_x": null,
      "overflow_y": null,
      "padding": null,
      "right": null,
      "top": null,
      "visibility": null,
      "width": null
     }
    },
    "f5f1f0865d7e4d8b810ccb9c3c4d2683": {
     "model_module": "@jupyter-widgets/controls",
     "model_name": "FloatProgressModel",
     "state": {
      "_dom_classes": [],
      "_model_module": "@jupyter-widgets/controls",
      "_model_module_version": "1.5.0",
      "_model_name": "FloatProgressModel",
      "_view_count": null,
      "_view_module": "@jupyter-widgets/controls",
      "_view_module_version": "1.5.0",
      "_view_name": "ProgressView",
      "bar_style": "success",
      "description": "#1: 100%",
      "description_tooltip": null,
      "layout": "IPY_MODEL_e51b5fd9d5a6416d986fac1526d1666f",
      "max": 412,
      "min": 0,
      "orientation": "horizontal",
      "style": "IPY_MODEL_a47f1ea64f894f0b8e6b277c31ae9f7d",
      "value": 412
     }
    },
    "f6930dd5519d4dfda64c597def220a30": {
     "model_module": "@jupyter-widgets/controls",
     "model_name": "HTMLModel",
     "state": {
      "_dom_classes": [],
      "_model_module": "@jupyter-widgets/controls",
      "_model_module_version": "1.5.0",
      "_model_name": "HTMLModel",
      "_view_count": null,
      "_view_module": "@jupyter-widgets/controls",
      "_view_module_version": "1.5.0",
      "_view_name": "HTMLView",
      "description": "",
      "description_tooltip": null,
      "layout": "IPY_MODEL_56ad6231a0a04228be29ceecbc6b7c0e",
      "placeholder": "​",
      "style": "IPY_MODEL_ab72c80dfd5e4ab19a183f4204486b59",
      "value": " 52/52 [00:31&lt;00:00,  1.63ba/s]"
     }
    },
    "f6b01ad0433a40178ef3ba5657bc1583": {
     "model_module": "@jupyter-widgets/controls",
     "model_name": "FloatProgressModel",
     "state": {
      "_dom_classes": [],
      "_model_module": "@jupyter-widgets/controls",
      "_model_module_version": "1.5.0",
      "_model_name": "FloatProgressModel",
      "_view_count": null,
      "_view_module": "@jupyter-widgets/controls",
      "_view_module_version": "1.5.0",
      "_view_name": "ProgressView",
      "bar_style": "success",
      "description": "#0: 100%",
      "description_tooltip": null,
      "layout": "IPY_MODEL_69828f4a101f4340916a4be141866904",
      "max": 870,
      "min": 0,
      "orientation": "horizontal",
      "style": "IPY_MODEL_beca070c32124a119a08cb21c2ca95e5",
      "value": 870
     }
    },
    "f78ff14b9c8f46448ed1ecb3fe1f5e0b": {
     "model_module": "@jupyter-widgets/controls",
     "model_name": "HTMLModel",
     "state": {
      "_dom_classes": [],
      "_model_module": "@jupyter-widgets/controls",
      "_model_module_version": "1.5.0",
      "_model_name": "HTMLModel",
      "_view_count": null,
      "_view_module": "@jupyter-widgets/controls",
      "_view_module_version": "1.5.0",
      "_view_name": "HTMLView",
      "description": "",
      "description_tooltip": null,
      "layout": "IPY_MODEL_b054b00a32e64fc5988fbd2966ebbce6",
      "placeholder": "​",
      "style": "IPY_MODEL_5a5bc8b4a1c644dea08a60128d888d10",
      "value": " 412/412 [03:06&lt;00:00,  2.20ex/s]"
     }
    },
    "f792530a76ee486688cbc2502dfae594": {
     "model_module": "@jupyter-widgets/controls",
     "model_name": "FloatProgressModel",
     "state": {
      "_dom_classes": [],
      "_model_module": "@jupyter-widgets/controls",
      "_model_module_version": "1.5.0",
      "_model_name": "FloatProgressModel",
      "_view_count": null,
      "_view_module": "@jupyter-widgets/controls",
      "_view_module_version": "1.5.0",
      "_view_name": "ProgressView",
      "bar_style": "success",
      "description": "#3: 100%",
      "description_tooltip": null,
      "layout": "IPY_MODEL_7e50f8027fb74d669daae5e46082026c",
      "max": 869,
      "min": 0,
      "orientation": "horizontal",
      "style": "IPY_MODEL_1261590ef796493798f7068ea0547b74",
      "value": 869
     }
    },
    "f972527479e74337a98f236ed018ae1d": {
     "model_module": "@jupyter-widgets/base",
     "model_name": "LayoutModel",
     "state": {
      "_model_module": "@jupyter-widgets/base",
      "_model_module_version": "1.2.0",
      "_model_name": "LayoutModel",
      "_view_count": null,
      "_view_module": "@jupyter-widgets/base",
      "_view_module_version": "1.2.0",
      "_view_name": "LayoutView",
      "align_content": null,
      "align_items": null,
      "align_self": null,
      "border": null,
      "bottom": null,
      "display": null,
      "flex": null,
      "flex_flow": null,
      "grid_area": null,
      "grid_auto_columns": null,
      "grid_auto_flow": null,
      "grid_auto_rows": null,
      "grid_column": null,
      "grid_gap": null,
      "grid_row": null,
      "grid_template_areas": null,
      "grid_template_columns": null,
      "grid_template_rows": null,
      "height": null,
      "justify_content": null,
      "justify_items": null,
      "left": null,
      "margin": null,
      "max_height": null,
      "max_width": null,
      "min_height": null,
      "min_width": null,
      "object_fit": null,
      "object_position": null,
      "order": null,
      "overflow": null,
      "overflow_x": null,
      "overflow_y": null,
      "padding": null,
      "right": null,
      "top": null,
      "visibility": null,
      "width": null
     }
    },
    "f9efaa7678c2450f847ff2c2f21ff96e": {
     "model_module": "@jupyter-widgets/controls",
     "model_name": "DescriptionStyleModel",
     "state": {
      "_model_module": "@jupyter-widgets/controls",
      "_model_module_version": "1.5.0",
      "_model_name": "DescriptionStyleModel",
      "_view_count": null,
      "_view_module": "@jupyter-widgets/base",
      "_view_module_version": "1.2.0",
      "_view_name": "StyleView",
      "description_width": ""
     }
    },
    "fa7926bbe77e48b3a0648b45f5d2dc7a": {
     "model_module": "@jupyter-widgets/controls",
     "model_name": "ProgressStyleModel",
     "state": {
      "_model_module": "@jupyter-widgets/controls",
      "_model_module_version": "1.5.0",
      "_model_name": "ProgressStyleModel",
      "_view_count": null,
      "_view_module": "@jupyter-widgets/base",
      "_view_module_version": "1.2.0",
      "_view_name": "StyleView",
      "bar_color": null,
      "description_width": "initial"
     }
    },
    "fc9504846f424542a7feb932964f1f5b": {
     "model_module": "@jupyter-widgets/base",
     "model_name": "LayoutModel",
     "state": {
      "_model_module": "@jupyter-widgets/base",
      "_model_module_version": "1.2.0",
      "_model_name": "LayoutModel",
      "_view_count": null,
      "_view_module": "@jupyter-widgets/base",
      "_view_module_version": "1.2.0",
      "_view_name": "LayoutView",
      "align_content": null,
      "align_items": null,
      "align_self": null,
      "border": null,
      "bottom": null,
      "display": null,
      "flex": null,
      "flex_flow": null,
      "grid_area": null,
      "grid_auto_columns": null,
      "grid_auto_flow": null,
      "grid_auto_rows": null,
      "grid_column": null,
      "grid_gap": null,
      "grid_row": null,
      "grid_template_areas": null,
      "grid_template_columns": null,
      "grid_template_rows": null,
      "height": null,
      "justify_content": null,
      "justify_items": null,
      "left": null,
      "margin": null,
      "max_height": null,
      "max_width": null,
      "min_height": null,
      "min_width": null,
      "object_fit": null,
      "object_position": null,
      "order": null,
      "overflow": null,
      "overflow_x": null,
      "overflow_y": null,
      "padding": null,
      "right": null,
      "top": null,
      "visibility": null,
      "width": null
     }
    },
    "fe62265afdc74026b7e9c5a50ef61d2c": {
     "model_module": "@jupyter-widgets/base",
     "model_name": "LayoutModel",
     "state": {
      "_model_module": "@jupyter-widgets/base",
      "_model_module_version": "1.2.0",
      "_model_name": "LayoutModel",
      "_view_count": null,
      "_view_module": "@jupyter-widgets/base",
      "_view_module_version": "1.2.0",
      "_view_name": "LayoutView",
      "align_content": null,
      "align_items": null,
      "align_self": null,
      "border": null,
      "bottom": null,
      "display": null,
      "flex": null,
      "flex_flow": null,
      "grid_area": null,
      "grid_auto_columns": null,
      "grid_auto_flow": null,
      "grid_auto_rows": null,
      "grid_column": null,
      "grid_gap": null,
      "grid_row": null,
      "grid_template_areas": null,
      "grid_template_columns": null,
      "grid_template_rows": null,
      "height": null,
      "justify_content": null,
      "justify_items": null,
      "left": null,
      "margin": null,
      "max_height": null,
      "max_width": null,
      "min_height": null,
      "min_width": null,
      "object_fit": null,
      "object_position": null,
      "order": null,
      "overflow": null,
      "overflow_x": null,
      "overflow_y": null,
      "padding": null,
      "right": null,
      "top": null,
      "visibility": null,
      "width": null
     }
    }
   }
  }
 },
 "nbformat": 4,
 "nbformat_minor": 4
}
