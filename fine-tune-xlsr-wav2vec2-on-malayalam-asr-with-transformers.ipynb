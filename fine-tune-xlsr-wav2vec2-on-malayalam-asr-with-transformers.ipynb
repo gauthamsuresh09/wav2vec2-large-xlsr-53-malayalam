{
 "cells": [
  {
   "cell_type": "markdown",
   "metadata": {
    "id": "LBSYoWbi-45k"
   },
   "source": [
    "# **Fine-tuning XLSR-Wav2Vec2 for Multi-Lingual ASR with 🤗 Transformers**"
   ]
  },
  {
   "cell_type": "markdown",
   "metadata": {},
   "source": [
    "## Pre-configuration"
   ]
  },
  {
   "cell_type": "code",
   "execution_count": 1,
   "metadata": {},
   "outputs": [],
   "source": [
    "from ipywidgets import widgets"
   ]
  },
  {
   "cell_type": "code",
   "execution_count": 2,
   "metadata": {},
   "outputs": [],
   "source": [
    "import os"
   ]
  },
  {
   "cell_type": "code",
   "execution_count": 3,
   "metadata": {},
   "outputs": [],
   "source": [
    "language_code = 'ml'\n",
    "language_name = 'malayalam'\n",
    "base_model = \"facebook/wav2vec2-large-xlsr-53\"\n",
    "pretrain_model = f\"gvs/wav2vec2-large-xlsr-{language_name}\"\n",
    "\n",
    "data_dir = f\"/workspace/data/{language_code}\"\n",
    "output_models_dir = f\"/workspace/output_models/mal/wav2vec2-large-xlsr-{language_name}-1\""
   ]
  },
  {
   "cell_type": "code",
   "execution_count": 4,
   "metadata": {},
   "outputs": [
    {
     "data": {
      "text/plain": [
       "'For wandb login please visit https://wandb.ai/authorize'"
      ]
     },
     "metadata": {},
     "output_type": "display_data"
    },
    {
     "data": {
      "application/vnd.jupyter.widget-view+json": {
       "model_id": "ee05ff818232436882d0ec62201b0a70",
       "version_major": 2,
       "version_minor": 0
      },
      "text/plain": [
       "Text(value='', description='Token :')"
      ]
     },
     "metadata": {},
     "output_type": "display_data"
    },
    {
     "data": {
      "application/vnd.jupyter.widget-view+json": {
       "model_id": "989952e0c82e45e781b7708482a15757",
       "version_major": 2,
       "version_minor": 0
      },
      "text/plain": [
       "Button(description='Validate', style=ButtonStyle())"
      ]
     },
     "metadata": {},
     "output_type": "display_data"
    }
   ],
   "source": [
    "### Wandb configuration\n",
    "#!wandb login \n",
    "display(\"For wandb login please visit https://wandb.ai/authorize\")\n",
    "\n",
    "wandb_login = widgets.Text(description=\"Token :\")\n",
    "wandb_button = widgets.Button(description=\"Validate\")\n",
    "\n",
    "def handle_wb_submit(sender):\n",
    "    token = wandb_login.value\n",
    "    os.system(f\"wandb login {token}\")\n",
    "    \n",
    "if 'WANDB_API_KEY' not in os.environ:\n",
    "    display(wandb_login)\n",
    "    display(wandb_button)\n",
    "    wandb_button.on_click(handle_wb_submit)"
   ]
  },
  {
   "cell_type": "code",
   "execution_count": 5,
   "metadata": {},
   "outputs": [
    {
     "name": "stdout",
     "output_type": "stream",
     "text": [
      "\u001b[34m\u001b[1mwandb\u001b[0m: Currently logged in as: \u001b[33mgvs\u001b[0m (use `wandb login --relogin` to force relogin)\n"
     ]
    }
   ],
   "source": [
    "# optional c\n",
    "!wandb login"
   ]
  },
  {
   "cell_type": "markdown",
   "metadata": {},
   "source": [
    "## Presentation"
   ]
  },
  {
   "cell_type": "markdown",
   "metadata": {
    "id": "V7YOT2mnUiea"
   },
   "source": [
    "Wav2Vec2 is a pretrained model for Automatic Speech Recognition (ASR) and was released in [September 2020](https://ai.facebook.com/blog/wav2vec-20-learning-the-structure-of-speech-from-raw-audio/) by Alexei Baevski, Michael Auli, and Alex Conneau.  Soon after the superior performance of Wav2Vec2 was demonstrated on the English ASR dataset LibriSpeech, *Facebook AI* presented XLSR-Wav2Vec2 (click [here](https://arxiv.org/abs/2006.13979)). XLSR stands for *cross-lingual  speech representations* and refers to XLSR-Wav2Vec2`s ability to learn speech representations that are useful across multiple languages.\n",
    "\n",
    "Similar to Wav2Vec2, XLSR-Wav2Vec2 learns powerful speech representations from hundreds of thousands of hours of speech in more than 50 languages of unlabeled speech. Similar, to [BERT's masked language modeling](http://jalammar.github.io/illustrated-bert/), the model learns contextualized speech representations by randomly masking feature vectors before passing them to a transformer network.\n",
    "\n",
    "![wav2vec2_structure](https://raw.githubusercontent.com/patrickvonplaten/scientific_images/master/xlsr_wav2vec2.png)\n",
    "\n",
    "The authors show for the first time that massively pretraining an ASR model on cross-lingual unlabeled speech data, followed by language-specific fine-tuning on very little labeled data achieves state-of-the-art results. See Table 1-5 of the official [paper](https://arxiv.org/pdf/2006.13979.pdf)."
   ]
  },
  {
   "cell_type": "markdown",
   "metadata": {
    "id": "nT_QrfWtsxIz"
   },
   "source": [
    "In this notebook, we will give an in-detail explanation of how XLSR-Wav2Vec2's pretrained checkpoint can be fine-tuned on a low-resource ASR dataset of any language. Note that in this notebook, we will fine-tune XLSR-Wav2Vec2 without making use of a language model. It is much simpler and more efficient to use XLSR-Wav2Vec2 without a language model, but better results can be achieved by including a language model. \n",
    "\n"
   ]
  },
  {
   "cell_type": "markdown",
   "metadata": {
    "id": "Gx9OdDYrCtQ1"
   },
   "source": [
    "XLSR-Wav2Vec2 is fine-tuned using Connectionist Temporal Classification (CTC), which is an algorithm that is used to train neural networks for sequence-to-sequence problems and mainly in Automatic Speech Recognition and handwriting recognition. \n",
    "\n",
    "I highly recommend reading the blog post [Sequence Modeling with CTC (2017)](https://distill.pub/2017/ctc/) very well-written blog post by Awni Hannun."
   ]
  },
  {
   "cell_type": "markdown",
   "metadata": {
    "id": "e335hPmdtASZ"
   },
   "source": [
    "Before we start, let's install both `datasets` and `transformers` from master. Also, we need the `torchaudio` and `librosa` package to load audio files and the `jiwer` to evaluate our fine-tuned model using the [word error rate (WER)](https://huggingface.co/metrics/wer) metric ${}^1$."
   ]
  },
  {
   "cell_type": "markdown",
   "metadata": {
    "id": "Mn9swf6EQ9Vd"
   },
   "source": [
    "\n",
    "\n",
    "\n",
    "---\n",
    "\n",
    "${}^1$ In the [paper](https://arxiv.org/pdf/2006.13979.pdf), the model was evaluated using the phoneme error rate (PER), but by far the most common metric in ASR is the word error rate (WER). To keep this notebook as general as possible we decided to evaluate the model using WER."
   ]
  },
  {
   "cell_type": "markdown",
   "metadata": {
    "id": "0mW-C1Nt-j7k"
   },
   "source": [
    "## Prepare Data, Tokenizer, Feature Extractor"
   ]
  },
  {
   "cell_type": "markdown",
   "metadata": {
    "id": "BeBosnY9BH3e"
   },
   "source": [
    "ASR models transcribe speech to text, which means that we both need a feature extractor that processes the speech signal to the model's input format, *e.g.* a feature vector, and a tokenizer that processes the model's output format to text. \n",
    "\n",
    "In 🤗 Transformers, the XLSR-Wav2Vec2 model is thus accompanied by both a tokenizer, called [Wav2Vec2CTCTokenizer](https://huggingface.co/transformers/master/model_doc/wav2vec2.html#wav2vec2ctctokenizer), and a feature extractor, called [Wav2Vec2FeatureExtractor](https://huggingface.co/transformers/master/model_doc/wav2vec2.html#wav2vec2featureextractor).\n",
    "\n",
    "Let's start by creating the tokenizer responsible for decoding the model's predictions."
   ]
  },
  {
   "cell_type": "markdown",
   "metadata": {
    "id": "sEXEWEJGQPqD"
   },
   "source": [
    "### Create Wav2Vec2CTCTokenizer"
   ]
  },
  {
   "cell_type": "markdown",
   "metadata": {
    "id": "tWmMikuNEKl_"
   },
   "source": [
    "The [pretrained Wav2Vec2 checkpoint]( ) maps the speech signal to a sequence of context representations as illustrated in the figure above. A fine-tuned XLSR-Wav2Vec2 checkpoint needs to map this sequence of context representations to its corresponding transcription so that a linear layer has to be added on top of the transformer block (shown in yellow). This linear layer is used to classifies each context representation to a token class analogous how, *e.g.*, after pretraining a linear layer is added on top of BERT's embeddings for further classification - *cf.* with *\"BERT\"* section of this [blog post](https://huggingface.co/blog/warm-starting-encoder-decoder).\n",
    "\n",
    "The output size of this layer corresponds to the number of tokens in the vocabulary, which does **not** depend on XLSR-Wav2Vec2's pretraining task, but only on the labeled dataset used for fine-tuning. So in the first step, we will take a look at Common Voice and define a vocabulary based on the dataset's transcriptions."
   ]
  },
  {
   "cell_type": "markdown",
   "metadata": {
    "id": "idBczw8mWzgt"
   },
   "source": [
    "First, you need to download and prepare the dataset using [this notebook](https://github.com/gauthamsuresh09/wav2vec2-large-xlsr-53-malayalam/blob/main/make-hf-dataset.ipynb)\n",
    "\n",
    "Great, now we can use 🤗 Datasets' simple API to download the data. The dataset name will be `\"common_voice\"`, the config name corresponds to the language code - `\"tr\"` in our case."
   ]
  },
  {
   "cell_type": "markdown",
   "metadata": {
    "id": "bee4g9rpLxll"
   },
   "source": [
    "Common Voice has many different splits including `invalidated`, which refers to data that was not rated as \"clean enough\" to be considered useful. In this notebook, we will only make use of the splits `\"train\"`, `\"validation\"` and `\"test\"`. \n",
    "\n",
    "Because the Malayalam dataset is so small, we will use training split to train and simply use the test data for validation."
   ]
  },
  {
   "cell_type": "code",
   "execution_count": 4,
   "metadata": {
    "colab": {
     "base_uri": "https://localhost:8080/",
     "height": 227,
     "referenced_widgets": [
      "def702d8f8354fa4999587a5c68d0034",
      "2fd148d5587b4139919b0158f9dad71e",
      "edf36819322e4f9fa227a11592fef429",
      "ce337f50183942e6a74ca1b33735ade9",
      "8292dafcd40745958d0f3c563bf6b9b0",
      "93f191a48b3141e1889fd94870b6ac0e",
      "9532db4cdc5e4371a4a02055a4c67a08",
      "e9a702f10538415b970ea1345804d72c",
      "f3adb92e618743cca3299e3e7b6e369f",
      "83b51e16d88046c48dcd745cf09d2e56",
      "b0e3a36279d243ab9943149705c72c3e",
      "12696cc03f464a63a411efb2b5e5ac3b",
      "530f66ac087e4f8f979fcaa33941c60d",
      "a34dae18d9994b848630d4e3d836e0cb",
      "68a3178fe7a54e838e798ff28ff9aa0b",
      "ceb44ba4fdf34da19a52469acf1ce63f",
      "90b8bc59e26a46009e1d3763f86f227a",
      "3e2cd59ac697495f8db14b894b783f95",
      "98e7ab5f7ebf426fbb71a37bbad4c28f",
      "e3b719c0ffcc4fd1b410ffb7f969b7a5",
      "4382726ef043441a9b1a4a647d84f242",
      "2f5406546970425282a881b5d2f7c248",
      "19e263785ea343ba99ee2127d9b83d1d",
      "c9dc4421940241c59f1151aeabedc98b",
      "8701fb161cec47e89fc4d57b599ee7fe",
      "1813458f75514f039ba0214597a09bb4",
      "7f787df324514a8c915785e272a8af18",
      "889da3e5ed2945849d3c8a6a75175747",
      "71ffdf6f26ba4381a8e671958e679f88",
      "7916b06da182435a9cc1d13c73310500",
      "59e0f5200068461cbfb256ad5479c4c8",
      "2cd13e03a2ab45dc8570c8c739a613b4",
      "089428f56e66419f85ea149d9d102454",
      "d649c0f9c1c24634a84b7ef697721ffa",
      "4db5037af3f64a3a8a8a1203018a80ff",
      "6a957c1c17474d8d89c27ddecf702fda",
      "2a6e1185a6a247f5acba8111824ad36b",
      "c0e6b6e6395d4dbd827eb1c0de1ad21a",
      "05f83d714f864a399083f0e34a812467",
      "91fcf0641fe3489ab96f3aaa40adf245",
      "25ba4f4c8b9c44af9885b3903a9261fd",
      "dde7ae43ef954ef1b901c80f0a4e11fd",
      "03b33c17734d49e28c4636dddd6e833d",
      "71c059a0f3c246f3a40d55744331daaa",
      "da1ff50f8b9241108a325ada04224642",
      "bee0f50055eb4f738636142a10da0ddd",
      "cb5666eb8ebb4d1392e98d6b5af8761c",
      "430c3c079d0e4006b90e72df7986ffb0",
      "6c065aa34661469ca1efb4c5e90fe136",
      "540510088d3947f1b3cf6f4c983c1a53",
      "0a9b58c98508420d8f8936189f064316",
      "8dd5b08bb5bd4e608d04122424796ae7",
      "c546bca23ee248a1be7bd8ead3e82a8f",
      "af85713f677243d19cba9fe69a4a5f46",
      "2f18d89c684343b69c3f44ffbb9b42a0",
      "9eb51a6ecf3f41578aa397a5c2a33673"
     ]
    },
    "id": "2MMXcWFFgCXU",
    "outputId": "dc239772-da3b-4ef0-d029-f161f0625fff"
   },
   "outputs": [
    {
     "name": "stderr",
     "output_type": "stream",
     "text": [
      "Using custom data configuration default-56eeb6885c40d104\n",
      "Reusing dataset json (/workspace/.cache/huggingface/datasets/json/default-56eeb6885c40d104/0.0.0/83d5b3a2f62630efc6b5315f00f20209b4ad91a00ac586597caee3a4da0bef02)\n",
      "Using custom data configuration default-6c27624ee9f4d75f\n",
      "Reusing dataset json (/workspace/.cache/huggingface/datasets/json/default-6c27624ee9f4d75f/0.0.0/83d5b3a2f62630efc6b5315f00f20209b4ad91a00ac586597caee3a4da0bef02)\n",
      "Using custom data configuration default-c4d6e66446b3dda5\n",
      "Reusing dataset json (/workspace/.cache/huggingface/datasets/json/default-c4d6e66446b3dda5/0.0.0/83d5b3a2f62630efc6b5315f00f20209b4ad91a00ac586597caee3a4da0bef02)\n",
      "Using custom data configuration default-f728fc42fd240113\n",
      "Reusing dataset json (/workspace/.cache/huggingface/datasets/json/default-f728fc42fd240113/0.0.0/83d5b3a2f62630efc6b5315f00f20209b4ad91a00ac586597caee3a4da0bef02)\n",
      "Using custom data configuration default-47f82cc8b066d265\n",
      "Reusing dataset json (/workspace/.cache/huggingface/datasets/json/default-47f82cc8b066d265/0.0.0/83d5b3a2f62630efc6b5315f00f20209b4ad91a00ac586597caee3a4da0bef02)\n",
      "Using custom data configuration default-6e68636867225635\n",
      "Reusing dataset json (/workspace/.cache/huggingface/datasets/json/default-6e68636867225635/0.0.0/83d5b3a2f62630efc6b5315f00f20209b4ad91a00ac586597caee3a4da0bef02)\n"
     ]
    }
   ],
   "source": [
    "from datasets import load_dataset, load_metric\n",
    "from pathlib import Path\n",
    "\n",
    "data_dir = Path('/workspace/data/mal/hf-dataset')\n",
    "\n",
    "dataset_folders = {\n",
    "    'iiit': 'iiit_mal_abi',\n",
    "    'openslr': 'openslr',\n",
    "    'indic-tts': 'indic-tts-ml',\n",
    "    'msc-reviewed': 'msc-reviewed-speech-v1.0+20200825',\n",
    "}\n",
    "\n",
    "# Set directories for datasets\n",
    "openslr_male_dir = data_dir / dataset_folders['openslr'] / 'male'\n",
    "openslr_female_dir = data_dir / dataset_folders['openslr'] / 'female'\n",
    "iiit_dir = data_dir / dataset_folders['iiit']\n",
    "indic_tts_male_dir = data_dir / dataset_folders['indic-tts'] / 'male'\n",
    "indic_tts_female_dir = data_dir / dataset_folders['indic-tts'] / 'female'\n",
    "msc_reviewed_dir = data_dir / dataset_folders['msc-reviewed']\n",
    "\n",
    "# Load the datasets\n",
    "openslr_male = load_dataset(\"json\", data_files=[f\"{str(openslr_male_dir.absolute())}/sample_{i}.json\" for i in range(2023)], split=\"train\")\n",
    "openslr_female = load_dataset(\"json\", data_files=[f\"{str(openslr_female_dir.absolute())}/sample_{i}.json\" for i in range(2103)], split=\"train\")\n",
    "iiit = load_dataset(\"json\", data_files=[f\"{str(iiit_dir.absolute())}/sample_{i}.json\" for i in range(1000)], split=\"train\")\n",
    "indic_tts_male = load_dataset(\"json\", data_files=[f\"{str(indic_tts_male_dir.absolute())}/sample_{i}.json\" for i in range(5649)], split=\"train\")\n",
    "indic_tts_female = load_dataset(\"json\", data_files=[f\"{str(indic_tts_female_dir.absolute())}/sample_{i}.json\" for i in range(2950)], split=\"train\")\n",
    "msc_reviewed = load_dataset(\"json\", data_files=[f\"{str(msc_reviewed_dir.absolute())}/sample_{i}.json\" for i in range(1541)], split=\"train\")\n",
    "\n",
    "#common_voice_train = load_dataset(\"common_voice\", language_code, split=\"train+validation\")\n",
    "#common_voice_test = load_dataset(\"common_voice\", language_code, split=\"test\")"
   ]
  },
  {
   "cell_type": "markdown",
   "metadata": {
    "id": "ri5y5N_HMANq"
   },
   "source": [
    "Many ASR datasets only provide the target text, `'sentence'` for each audio file `'path'`. Common Voice actually provides much more information about each audio file, such as the `'accent'`, etc. However, we want to keep the notebook as general as possible, so that we will only consider the transcribed text for fine-tuning.\n",
    "\n"
   ]
  },
  {
   "cell_type": "code",
   "execution_count": 5,
   "metadata": {},
   "outputs": [
    {
     "name": "stderr",
     "output_type": "stream",
     "text": [
      "Loading cached split indices for dataset at /workspace/.cache/huggingface/datasets/json/default-56eeb6885c40d104/0.0.0/83d5b3a2f62630efc6b5315f00f20209b4ad91a00ac586597caee3a4da0bef02/cache-c7ad0a7853dbee5e.arrow and /workspace/.cache/huggingface/datasets/json/default-56eeb6885c40d104/0.0.0/83d5b3a2f62630efc6b5315f00f20209b4ad91a00ac586597caee3a4da0bef02/cache-1fd286eca101e132.arrow\n",
      "Loading cached split indices for dataset at /workspace/.cache/huggingface/datasets/json/default-6c27624ee9f4d75f/0.0.0/83d5b3a2f62630efc6b5315f00f20209b4ad91a00ac586597caee3a4da0bef02/cache-b09b96bfc0150ae1.arrow and /workspace/.cache/huggingface/datasets/json/default-6c27624ee9f4d75f/0.0.0/83d5b3a2f62630efc6b5315f00f20209b4ad91a00ac586597caee3a4da0bef02/cache-9d24c9ef19336cf5.arrow\n",
      "Loading cached split indices for dataset at /workspace/.cache/huggingface/datasets/json/default-c4d6e66446b3dda5/0.0.0/83d5b3a2f62630efc6b5315f00f20209b4ad91a00ac586597caee3a4da0bef02/cache-83be0924b048277a.arrow and /workspace/.cache/huggingface/datasets/json/default-c4d6e66446b3dda5/0.0.0/83d5b3a2f62630efc6b5315f00f20209b4ad91a00ac586597caee3a4da0bef02/cache-fc94d82405726b4e.arrow\n",
      "Loading cached split indices for dataset at /workspace/.cache/huggingface/datasets/json/default-f728fc42fd240113/0.0.0/83d5b3a2f62630efc6b5315f00f20209b4ad91a00ac586597caee3a4da0bef02/cache-116cc8facadd63c4.arrow and /workspace/.cache/huggingface/datasets/json/default-f728fc42fd240113/0.0.0/83d5b3a2f62630efc6b5315f00f20209b4ad91a00ac586597caee3a4da0bef02/cache-ff617400fbb79b78.arrow\n",
      "Loading cached split indices for dataset at /workspace/.cache/huggingface/datasets/json/default-47f82cc8b066d265/0.0.0/83d5b3a2f62630efc6b5315f00f20209b4ad91a00ac586597caee3a4da0bef02/cache-ad740e412fb04e81.arrow and /workspace/.cache/huggingface/datasets/json/default-47f82cc8b066d265/0.0.0/83d5b3a2f62630efc6b5315f00f20209b4ad91a00ac586597caee3a4da0bef02/cache-ca39599be1d3dc15.arrow\n",
      "Loading cached split indices for dataset at /workspace/.cache/huggingface/datasets/json/default-6e68636867225635/0.0.0/83d5b3a2f62630efc6b5315f00f20209b4ad91a00ac586597caee3a4da0bef02/cache-1613b4b9c9599d92.arrow and /workspace/.cache/huggingface/datasets/json/default-6e68636867225635/0.0.0/83d5b3a2f62630efc6b5315f00f20209b4ad91a00ac586597caee3a4da0bef02/cache-3f6d907063eaee17.arrow\n"
     ]
    }
   ],
   "source": [
    "import datasets\n",
    "\n",
    "# Create test split as 20%, set random seed as well.\n",
    "test_size = 0.2\n",
    "random_seed=1\n",
    "\n",
    "openslr_male_splits = openslr_male.train_test_split(test_size=test_size, seed=random_seed)\n",
    "openslr_female_splits = openslr_female.train_test_split(test_size=test_size, seed=random_seed)\n",
    "iiit_splits = iiit.train_test_split(test_size=test_size, seed=random_seed)\n",
    "indic_tts_male_splits = indic_tts_male.train_test_split(test_size=test_size, seed=random_seed)\n",
    "indic_tts_female_splits = indic_tts_female.train_test_split(test_size=test_size, seed=random_seed)\n",
    "msc_reviewed_splits = msc_reviewed.train_test_split(test_size=test_size, seed=random_seed)"
   ]
  },
  {
   "cell_type": "code",
   "execution_count": 6,
   "metadata": {},
   "outputs": [],
   "source": [
    "# Get train and test splits, we set name as common_voice so that there's no need to modify remaining code :).\n",
    "split_list = [openslr_male_splits, openslr_female_splits, indic_tts_male_splits, indic_tts_female_splits, msc_reviewed_splits, iiit_splits]\n",
    "common_voice_train = datasets.concatenate_datasets([split['train'] for split in split_list])\n",
    "common_voice_test = datasets.concatenate_datasets([split['test'] for split in split_list])"
   ]
  },
  {
   "cell_type": "code",
   "execution_count": 9,
   "metadata": {
    "id": "kbyq6lDgQc2a"
   },
   "outputs": [],
   "source": [
    "#common_voice_train = common_voice_train.remove_columns([\"accent\", \"age\", \"client_id\", \"down_votes\", \"gender\", \"locale\", \"segment\", \"up_votes\"])\n",
    "#common_voice_test = common_voice_test.remove_columns([\"accent\", \"age\", \"client_id\", \"down_votes\", \"gender\", \"locale\", \"segment\", \"up_votes\"])"
   ]
  },
  {
   "cell_type": "markdown",
   "metadata": {
    "id": "Go9Hq4e4NDT9"
   },
   "source": [
    "Let's write a short function to display some random samples of the dataset and run it a couple of times to get a feeling for the transcriptions."
   ]
  },
  {
   "cell_type": "code",
   "execution_count": 10,
   "metadata": {
    "id": "72737oog2F6U"
   },
   "outputs": [],
   "source": [
    "from datasets import ClassLabel\n",
    "import random\n",
    "import pandas as pd\n",
    "from IPython.display import display, HTML\n",
    "\n",
    "def show_random_elements(dataset, num_examples=10):\n",
    "    assert num_examples <= len(dataset), \"Can't pick more elements than there are in the dataset.\"\n",
    "    picks = []\n",
    "    for _ in range(num_examples):\n",
    "        pick = random.randint(0, len(dataset)-1)\n",
    "        while pick in picks:\n",
    "            pick = random.randint(0, len(dataset)-1)\n",
    "        picks.append(pick)\n",
    "    \n",
    "    df = pd.DataFrame(dataset[picks])\n",
    "    display(HTML(df.to_html()))"
   ]
  },
  {
   "cell_type": "code",
   "execution_count": 11,
   "metadata": {
    "colab": {
     "base_uri": "https://localhost:8080/",
     "height": 669
    },
    "id": "K_JUmf3G3b9S",
    "outputId": "a8fe6d21-b0ce-4d5b-e3a2-abe08ae551f7"
   },
   "outputs": [
    {
     "data": {
      "text/html": [
       "<table border=\"1\" class=\"dataframe\">\n",
       "  <thead>\n",
       "    <tr style=\"text-align: right;\">\n",
       "      <th></th>\n",
       "      <th>sentence</th>\n",
       "    </tr>\n",
       "  </thead>\n",
       "  <tbody>\n",
       "    <tr>\n",
       "      <th>0</th>\n",
       "      <td>പാദസേവ ചെയ്ത പത്രക്കാരനും വിപ്ലവ നായകനുമായ നമ്പൂതിരി നേതാവിനെ ആക്ഷേപിച്ച നാവുമായി നേതാക്കളെ ആക്ഷേപിക്കുക എന്ന ധര്‍മ്മം തുടരുന്നു</td>\n",
       "    </tr>\n",
       "    <tr>\n",
       "      <th>1</th>\n",
       "      <td>തോട്ടത്തിലെ ആഞ്ഞിലിത്തൈകള്‍ പിഴുതു നശിപ്പിക്കണം</td>\n",
       "    </tr>\n",
       "    <tr>\n",
       "      <th>2</th>\n",
       "      <td>ആളുകൂടിയാൽ പാമ്പ് ചാവില്ല.</td>\n",
       "    </tr>\n",
       "    <tr>\n",
       "      <th>3</th>\n",
       "      <td>ഉള്ളതു പറഞ്ഞാൽ ഉറിയും ചിരിക്കും.</td>\n",
       "    </tr>\n",
       "    <tr>\n",
       "      <th>4</th>\n",
       "      <td>കുറെ കഴിഞ്ഞപ്പോള്‍ മാനം ഇരുണ്ടു</td>\n",
       "    </tr>\n",
       "    <tr>\n",
       "      <th>5</th>\n",
       "      <td>ഇന്ത്യയുടെയും ചൈനയുടെയും പരിശീലകരും ഒത്തുകളിക്കു സാക്ഷികളാണെന്നും അവരും സംശയം പ്രകടിപ്പിച്ചിരുന്നതായും മലേഷ്യന്‍ കോച്ച് വാലസ് ടാനും മാനേജര്‍ നൂര്‍ അസ്മി അഹ്‍മ്മദും പറയുന്നു</td>\n",
       "    </tr>\n",
       "    <tr>\n",
       "      <th>6</th>\n",
       "      <td>ചുരുക്കിപ്പറഞ്ഞാല്‍ ഗുളികന്‍ ആറ്‌ പതിനൊന്ന്‌ സ്‌ഥാനങ്ങളിലൊഴികെ എവിടെനിന്നാലും ദോഷം വരുത്തും</td>\n",
       "    </tr>\n",
       "    <tr>\n",
       "      <th>7</th>\n",
       "      <td>അന്‍പത്തിയെട്ട് മുതല്‍ നിലവിലുള്ളതാണ് നിയമം</td>\n",
       "    </tr>\n",
       "    <tr>\n",
       "      <th>8</th>\n",
       "      <td>അവിടത്തെ പഠനത്തിനിടെ അദ്ദേഹം എഴുതിയ രണ്ടു കവിതകൾ ഒരു പ്രാദേശിക പത്രം പ്രസിദ്ധീകരിച്ചു</td>\n",
       "    </tr>\n",
       "    <tr>\n",
       "      <th>9</th>\n",
       "      <td>ഒരു പ്രതിപുരു‌ഷന്‍ മുഖാന്തരം ആ സന്യാസിയോടപേക്ഷിച്ചു</td>\n",
       "    </tr>\n",
       "    <tr>\n",
       "      <th>10</th>\n",
       "      <td>ശതാബ്ദി വര്‍ഷത്തോട് അനുബന്ധിച്ച് പുതിയ നിക്ഷേപ പദ്ധതി അവതരിപ്പിച്ചു</td>\n",
       "    </tr>\n",
       "    <tr>\n",
       "      <th>11</th>\n",
       "      <td>സമര്‍ഥമായി തങ്ങളെ സമന്വയിപ്പിച്ച് കൊണ്ടു പോകുന്നു</td>\n",
       "    </tr>\n",
       "    <tr>\n",
       "      <th>12</th>\n",
       "      <td>നിങ്ങളുടെ ചായയ്ക്ക് ഉപ്പുണ്ടോ?</td>\n",
       "    </tr>\n",
       "    <tr>\n",
       "      <th>13</th>\n",
       "      <td>വിധി അറിയാന്‍ അതിരാവിലെ മുതല്‍ കുടുംബ സമേതം വീടിന്റെ മുന്നില്‍ ചടഞ്ഞിരിക്കുകയായിരുന്നു</td>\n",
       "    </tr>\n",
       "    <tr>\n",
       "      <th>14</th>\n",
       "      <td>സൈനികോദ്യോഗസ്ഥന്റെ അഭിപ്രായത്തില്‍ മേധാവി പഴയ തലമുറയ്ക്കു മാതൃകയും ഉത്തേജനവുമായിരുന്നു</td>\n",
       "    </tr>\n",
       "    <tr>\n",
       "      <th>15</th>\n",
       "      <td>തീയില്ലാതെ പുകയില്ല.</td>\n",
       "    </tr>\n",
       "    <tr>\n",
       "      <th>16</th>\n",
       "      <td>അങ്ങനെ ഗര്‍ഭംധരിക്കുന്നവരില്‍ പലരും കുടുംബത്തിന്‍റെയോ ആണ്‍ജാതിയില്‍‌പ്പെട്ടവരുടെയോ പേരുകള്‍ പുറത്തുപറയാറില്ല</td>\n",
       "    </tr>\n",
       "    <tr>\n",
       "      <th>17</th>\n",
       "      <td>അവയിൽ തിയ്യതി രേഖപ്പെടുത്തി നൽകാൻ ടിക്കറ്റ് കൗണ്ടറുകളിൽ പ്രത്യേകം പഞ്ചിങ് പ്രസ്സുകൾ ഉണ്ടായിരുന്നു</td>\n",
       "    </tr>\n",
       "    <tr>\n",
       "      <th>18</th>\n",
       "      <td>അവ നിർദ്ദേശങ്ങളുടെ അർത്ഥം വേഗം ഗ്രഹിക്കുകയും അതിനനുസരിച്ച് പെരുമാറുകയും ചെയ്യുന്നു</td>\n",
       "    </tr>\n",
       "    <tr>\n",
       "      <th>19</th>\n",
       "      <td>പാദരക്ഷകളില്‍ പ്രശസ്തമായ നിര്‍മാതാക്കളുടെ സഹോദര സ്ഥാപനമാണ്</td>\n",
       "    </tr>\n",
       "  </tbody>\n",
       "</table>"
      ],
      "text/plain": [
       "<IPython.core.display.HTML object>"
      ]
     },
     "metadata": {},
     "output_type": "display_data"
    }
   ],
   "source": [
    "show_random_elements(common_voice_train.remove_columns([\"path\"]), num_examples=20)"
   ]
  },
  {
   "cell_type": "markdown",
   "metadata": {
    "id": "fowcOllGNNju"
   },
   "source": [
    "Alright! The transcriptions look fairly clean."
   ]
  },
  {
   "cell_type": "markdown",
   "metadata": {
    "id": "vq7OR50LN49m"
   },
   "source": [
    "We can see that the transcriptions contain some special characters, such as `,.?!;:`. Without a language model, it is much harder to classify speech chunks to such special characters because they don't really correspond to a characteristic sound unit. *E.g.*, the letter `\"s\"` has a more or less clear sound, whereas the special character `\".\"` does not.\n",
    "Also in order to understand the meaning of a speech signal, it is usually not necessary to include special characters in the transcription.\n",
    "\n",
    "In addition, we normalize the text to only have lower case letters and append a word separator token at the end."
   ]
  },
  {
   "cell_type": "code",
   "execution_count": 10,
   "metadata": {
    "id": "svKzVJ_hQGK6"
   },
   "outputs": [],
   "source": [
    "import re\n",
    "chars_to_ignore_regex = '[\\,\\?\\.\\!\\-\\;\\:\\\"\\“\\%\\‘\\”\\�Utrnle\\_]'\n",
    "unicode_ignore_regex = r'[\\u200e]'\n",
    "\n",
    "def remove_special_characters(batch):\n",
    "    batch[\"sentence\"] = batch[\"sentence\"].strip()\n",
    "    batch[\"sentence\"] = re.sub(chars_to_ignore_regex, '', batch[\"sentence\"])\n",
    "    batch[\"sentence\"] = re.sub(unicode_ignore_regex, '', batch[\"sentence\"]) + \" \"\n",
    "    return batch"
   ]
  },
  {
   "cell_type": "code",
   "execution_count": 13,
   "metadata": {
    "colab": {
     "base_uri": "https://localhost:8080/",
     "height": 117,
     "referenced_widgets": [
      "92a35db69bbf4ad6af44c53aa3870be5",
      "389e43e47a734193a507817ebad955f7",
      "b94e374d92c146009447c3827b977267",
      "1f1faa7b986e475c9e6839b2e7b55c74",
      "4ff7ccffc36a4a0f93031f5cdc3b718d",
      "b177a8cb85a24b88ab6d56205b630f1d",
      "2ca2f397c4ef405bba27ae2b1415cada",
      "b320306eaf264ad9872d507a1a1cb2da",
      "cc9c1e00c2d34516b8fd9edff96bb0d8",
      "6abfbe44a1bd4518b41f5f53f920e936",
      "33c92b5afd1d4b6d88016aabfb434194",
      "998676d59f9c464e8463d65baad6448b",
      "45f0a2f361da4608bc8314a27657a56c",
      "3dc9ea77b842455a91f00e9ca9f41948",
      "7bf5b2b625764f63ad57a360c3fd0a61",
      "7b4cfd2b448643b8a4409dd612aef0d1"
     ]
    },
    "id": "XIHocAuTQbBR",
    "outputId": "cc1a70b2-7b4d-410b-f997-1f1c47c3c9e5"
   },
   "outputs": [
    {
     "data": {
      "application/vnd.jupyter.widget-view+json": {
       "model_id": "b61c76591bbb480fb5efcdefd4165798",
       "version_major": 2,
       "version_minor": 0
      },
      "text/plain": [
       "HBox(children=(FloatProgress(value=0.0, max=12211.0), HTML(value='')))"
      ]
     },
     "metadata": {},
     "output_type": "display_data"
    },
    {
     "name": "stdout",
     "output_type": "stream",
     "text": [
      "\n"
     ]
    },
    {
     "data": {
      "application/vnd.jupyter.widget-view+json": {
       "model_id": "d45b5907b3294e54bfad4ac143e8d763",
       "version_major": 2,
       "version_minor": 0
      },
      "text/plain": [
       "HBox(children=(FloatProgress(value=0.0, max=3055.0), HTML(value='')))"
      ]
     },
     "metadata": {},
     "output_type": "display_data"
    },
    {
     "name": "stdout",
     "output_type": "stream",
     "text": [
      "\n"
     ]
    }
   ],
   "source": [
    "common_voice_train = common_voice_train.map(remove_special_characters)\n",
    "common_voice_test = common_voice_test.map(remove_special_characters)"
   ]
  },
  {
   "cell_type": "code",
   "execution_count": 14,
   "metadata": {
    "colab": {
     "base_uri": "https://localhost:8080/",
     "height": 359
    },
    "id": "RBDRAAYxRE6n",
    "outputId": "c3a72eaa-8ddc-4283-ccb8-52e50215b84d"
   },
   "outputs": [
    {
     "data": {
      "text/html": [
       "<table border=\"1\" class=\"dataframe\">\n",
       "  <thead>\n",
       "    <tr style=\"text-align: right;\">\n",
       "      <th></th>\n",
       "      <th>sentence</th>\n",
       "    </tr>\n",
       "  </thead>\n",
       "  <tbody>\n",
       "    <tr>\n",
       "      <th>0</th>\n",
       "      <td>അതിന്റെ ഭാഗമായി ഇപ്പോൾ മക്കയിലെ മസ്ജിദുൽ ഹറം വടക്ക് മുറ്റം വികസനപദ്ധതി പൂർത്തിയായി വരുന്നുണ്ട്</td>\n",
       "    </tr>\n",
       "    <tr>\n",
       "      <th>1</th>\n",
       "      <td>തകരാറുകൾ എത്രം പെട്ടെന്ന് പരിഹരിക്കണം</td>\n",
       "    </tr>\n",
       "    <tr>\n",
       "      <th>2</th>\n",
       "      <td>അവയെക്കുറിച്ചറിയാന്‍ അശോകന്‍ നാനാര്‍ത്ഥങ്ങള്‍ എന്ന താള്‍ കാണുക</td>\n",
       "    </tr>\n",
       "    <tr>\n",
       "      <th>3</th>\n",
       "      <td>എന്നാല്‍ ക്ഷേത്രങ്ങള്‍ ഇന്നും ഇതേ രീതിയില്‍ തന്നെയാണ്‌ നിര്‍മ്മിക്കുന്നത്</td>\n",
       "    </tr>\n",
       "    <tr>\n",
       "      <th>4</th>\n",
       "      <td>ഇന്ന് ജയിച്ചാല്‍ മത്സരം ശേഷിക്കെ കിരീടംചൂടാം</td>\n",
       "    </tr>\n",
       "    <tr>\n",
       "      <th>5</th>\n",
       "      <td>അന്നത്തെ റസിഡന്റ് കേണൽ മൺറോയുടെ നിർദ്ദേശപ്രകാരം ആലപ്പുഴയിൽ താമസിച്ച് അവർ മലയാളം പഠിച്ചു</td>\n",
       "    </tr>\n",
       "    <tr>\n",
       "      <th>6</th>\n",
       "      <td>സുഖമല്ലേ</td>\n",
       "    </tr>\n",
       "    <tr>\n",
       "      <th>7</th>\n",
       "      <td>ഇതു ചന്ദ്രനില്‍ നിന്നു കാണാന്‍ പറ്റുമോ എന്ന് എനിക്കും ഇപ്പോള്‍ സംശയം ആയി</td>\n",
       "    </tr>\n",
       "    <tr>\n",
       "      <th>8</th>\n",
       "      <td>താഴ്ന്ന നിലവാരത്തിലെ കെട്ടിടങ്ങള്‍ വാങ്ങലും നഷ്ടത്തില്‍ കുറെ ഭാഗം തിരിച്ചു പിടിക്കാന്‍ സഹായിച്ചു</td>\n",
       "    </tr>\n",
       "    <tr>\n",
       "      <th>9</th>\n",
       "      <td>കടം അപകടം സ്നേഹത്തിനു വികടം</td>\n",
       "    </tr>\n",
       "  </tbody>\n",
       "</table>"
      ],
      "text/plain": [
       "<IPython.core.display.HTML object>"
      ]
     },
     "metadata": {},
     "output_type": "display_data"
    }
   ],
   "source": [
    "show_random_elements(common_voice_train.remove_columns([\"path\"]))"
   ]
  },
  {
   "cell_type": "markdown",
   "metadata": {
    "id": "jwfaptH5RJwA"
   },
   "source": [
    "Good! This looks better. We have removed most special characters from transcriptions and normalized them to lower-case only.\n",
    "\n",
    "In CTC, it is common to classify speech chunks into letters, so we will do the same here. \n",
    "Let's extract all distinct letters of the training and test data and build our vocabulary from this set of letters.\n",
    "\n",
    "We write a mapping function that concatenates all transcriptions into one long transcription and then transforms the string into a set of chars. \n",
    "It is important to pass the argument `batched=True` to the `map(...)` function so that the mapping function has access to all transcriptions at once."
   ]
  },
  {
   "cell_type": "code",
   "execution_count": 15,
   "metadata": {
    "id": "LwCshNbbeRZR"
   },
   "outputs": [],
   "source": [
    "def extract_all_chars(batch):\n",
    "  all_text = \" \".join(batch[\"sentence\"])\n",
    "  vocab = list(set(all_text))\n",
    "  return {\"vocab\": [vocab], \"all_text\": [all_text]}"
   ]
  },
  {
   "cell_type": "code",
   "execution_count": 16,
   "metadata": {
    "colab": {
     "base_uri": "https://localhost:8080/",
     "height": 117,
     "referenced_widgets": [
      "304e9130c12f4110941bfbd3db49a28c",
      "5e6bae23461b4378b6e5fc890fe6bc97",
      "75e00c38605f44cfb584067db1160349",
      "8c07a528fc4a4e108b393ab117fe2e46",
      "c01aca3229a24d41841be2b4a3a65bcc",
      "73ecbfc3c5c5456bb42e19b8a34b1576",
      "813fc95246034f5cb9e5198897b4ed42",
      "8bb78a89ff81400791e3005098fdcb94",
      "bd0958ea97b141b1aca367c71721c549",
      "0354ab33471e4c34a0c1b3c062bcd6bb",
      "d080668299ef42fabb8ab6fbcf329cea",
      "aafd4b2c56db43378c4627797665db17",
      "b0f3a205ad4546188fc6e7e7cf96ab32",
      "f972527479e74337a98f236ed018ae1d",
      "ccb720bf256e42f7b0251494ccb7741f",
      "ad428686450f4ebdb50a0356b2e5a8c4"
     ]
    },
    "id": "_m6uUjjcfbjH",
    "outputId": "75a1a23f-a9c7-4c8b-8777-dad120a9aa9a"
   },
   "outputs": [
    {
     "data": {
      "application/vnd.jupyter.widget-view+json": {
       "model_id": "ebf14a35813a4ecd83c513cabfb23e43",
       "version_major": 2,
       "version_minor": 0
      },
      "text/plain": [
       "HBox(children=(FloatProgress(value=0.0, max=1.0), HTML(value='')))"
      ]
     },
     "metadata": {},
     "output_type": "display_data"
    },
    {
     "name": "stdout",
     "output_type": "stream",
     "text": [
      "\n"
     ]
    },
    {
     "data": {
      "application/vnd.jupyter.widget-view+json": {
       "model_id": "84178ffbf0bf42d2aa7cadb44d6ceccf",
       "version_major": 2,
       "version_minor": 0
      },
      "text/plain": [
       "HBox(children=(FloatProgress(value=0.0, max=1.0), HTML(value='')))"
      ]
     },
     "metadata": {},
     "output_type": "display_data"
    },
    {
     "name": "stdout",
     "output_type": "stream",
     "text": [
      "\n"
     ]
    }
   ],
   "source": [
    "vocab_train = common_voice_train.map(extract_all_chars, batched=True, batch_size=-1, keep_in_memory=True, remove_columns=common_voice_train.column_names)\n",
    "vocab_test = common_voice_test.map(extract_all_chars, batched=True, batch_size=-1, keep_in_memory=True, remove_columns=common_voice_test.column_names)"
   ]
  },
  {
   "cell_type": "markdown",
   "metadata": {
    "id": "7oVgE8RZSJNP"
   },
   "source": [
    "Now, we create the union of all distinct letters in the training dataset and test dataset and convert the resulting list into an enumerated dictionary."
   ]
  },
  {
   "cell_type": "code",
   "execution_count": 17,
   "metadata": {
    "id": "aQfneNsmlJI0"
   },
   "outputs": [],
   "source": [
    "vocab_list = list(set(vocab_train[\"vocab\"][0]) | set(vocab_test[\"vocab\"][0]))"
   ]
  },
  {
   "cell_type": "code",
   "execution_count": 18,
   "metadata": {
    "colab": {
     "base_uri": "https://localhost:8080/"
    },
    "id": "_0kRndSvqaKk",
    "outputId": "29f5d23f-75b1-44d0-9975-87f9ec4c0aa5"
   },
   "outputs": [
    {
     "data": {
      "text/plain": [
       "{'ർ': 0,\n",
       " 'സ': 1,\n",
       " 'ം': 2,\n",
       " 'ഋ': 3,\n",
       " 'ഹ': 4,\n",
       " 'ധ': 5,\n",
       " 'ഢ': 6,\n",
       " 'ഠ': 7,\n",
       " 'ട': 8,\n",
       " 'പ': 9,\n",
       " 'യ': 10,\n",
       " 'ീ': 11,\n",
       " 'ക': 12,\n",
       " ' ': 13,\n",
       " 'ര': 14,\n",
       " 'ഏ': 15,\n",
       " 'ഉ': 16,\n",
       " 'ൃ': 17,\n",
       " 'ൺ': 18,\n",
       " 'ണ': 19,\n",
       " 'ി': 20,\n",
       " '\\u200c': 21,\n",
       " 'ൽ': 22,\n",
       " 'ൊ': 23,\n",
       " 'ല': 24,\n",
       " 'ൗ': 25,\n",
       " 'ഘ': 26,\n",
       " 'ൌ': 27,\n",
       " 'ദ': 28,\n",
       " 'ബ': 29,\n",
       " 'ഛ': 30,\n",
       " 'ഝ': 31,\n",
       " 'ഊ': 32,\n",
       " 'ന': 33,\n",
       " 'ോ': 34,\n",
       " '൱': 35,\n",
       " 'ഇ': 36,\n",
       " 'ഐ': 37,\n",
       " 'ൈ': 38,\n",
       " 'ഃ': 39,\n",
       " 'ാ': 40,\n",
       " 'ച': 41,\n",
       " 'േ': 42,\n",
       " 'ഥ': 43,\n",
       " 'ഡ': 44,\n",
       " 'എ': 45,\n",
       " 'ഷ': 46,\n",
       " 'ആ': 47,\n",
       " 'അ': 48,\n",
       " 'മ': 49,\n",
       " 'ഒ': 50,\n",
       " 'ശ': 51,\n",
       " 'ഖ': 52,\n",
       " 'ഫ': 53,\n",
       " 'ു': 54,\n",
       " 'ഗ': 55,\n",
       " 'ള': 56,\n",
       " 'ഓ': 57,\n",
       " 'ൂ': 58,\n",
       " 'വ': 59,\n",
       " 'ഞ': 60,\n",
       " 'റ': 61,\n",
       " 'ഭ': 62,\n",
       " 'ൻ': 63,\n",
       " 'ൾ': 64,\n",
       " 'ഈ': 65,\n",
       " '്': 66,\n",
       " 'െ': 67,\n",
       " 'ങ': 68,\n",
       " 'ത': 69,\n",
       " 'ജ': 70,\n",
       " '\\u200d': 71,\n",
       " 'ഔ': 72,\n",
       " 'ഴ': 73}"
      ]
     },
     "execution_count": 18,
     "metadata": {},
     "output_type": "execute_result"
    }
   ],
   "source": [
    "vocab_dict = {v: k for k, v in enumerate(vocab_list)}\n",
    "vocab_dict"
   ]
  },
  {
   "cell_type": "markdown",
   "metadata": {
    "id": "JOSzbvs9SXT1"
   },
   "source": [
    "Not much preprocessing is needed as Malayalam doesn't have lower or upper cases and doesn't use punctuations usually."
   ]
  },
  {
   "cell_type": "code",
   "execution_count": 19,
   "metadata": {},
   "outputs": [
    {
     "data": {
      "text/plain": [
       "Dataset({\n",
       "    features: ['path', 'sentence'],\n",
       "    num_rows: 12211\n",
       "})"
      ]
     },
     "execution_count": 19,
     "metadata": {},
     "output_type": "execute_result"
    }
   ],
   "source": [
    "common_voice_train"
   ]
  },
  {
   "cell_type": "code",
   "execution_count": 20,
   "metadata": {},
   "outputs": [
    {
     "data": {
      "text/plain": [
       "Dataset({\n",
       "    features: ['path', 'sentence'],\n",
       "    num_rows: 3055\n",
       "})"
      ]
     },
     "execution_count": 20,
     "metadata": {},
     "output_type": "execute_result"
    }
   ],
   "source": [
    "common_voice_test"
   ]
  },
  {
   "cell_type": "markdown",
   "metadata": {
    "id": "b1fBRCn-TRaO"
   },
   "source": [
    "To make it clearer that `\" \"` has its own token class, we give it a more visible character `|`. In addition, we also add an \"unknown\" token so that the model can later deal with characters not encountered in Common Voice's training set. \n",
    "\n",
    "Finally, we also add a padding token that corresponds to CTC's \"*blank token*\". The \"blank token\" is a core component of the CTC algorithm. For more information, please take a look at the \"Alignment\" section [here](https://distill.pub/2017/ctc/)."
   ]
  },
  {
   "cell_type": "code",
   "execution_count": 21,
   "metadata": {
    "id": "npbIbBoLgaFX"
   },
   "outputs": [],
   "source": [
    "vocab_dict[\"|\"] = vocab_dict[\" \"]\n",
    "del vocab_dict[\" \"]"
   ]
  },
  {
   "cell_type": "code",
   "execution_count": 22,
   "metadata": {
    "colab": {
     "base_uri": "https://localhost:8080/"
    },
    "id": "znF0bNunsjbl",
    "outputId": "6dd50862-f4c5-4a05-87a7-da03d157e30e"
   },
   "outputs": [
    {
     "data": {
      "text/plain": [
       "76"
      ]
     },
     "execution_count": 22,
     "metadata": {},
     "output_type": "execute_result"
    }
   ],
   "source": [
    "vocab_dict[\"[UNK]\"] = len(vocab_dict)\n",
    "vocab_dict[\"[PAD]\"] = len(vocab_dict)\n",
    "len(vocab_dict)"
   ]
  },
  {
   "cell_type": "markdown",
   "metadata": {
    "id": "SFPGfet8U5sL"
   },
   "source": [
    "Cool, now our vocabulary is complete and consists of 39 tokens, which means that the linear layer that we will add on top of the pretrained XLSR-Wav2Vec2 checkpoint will have an output dimension of 39."
   ]
  },
  {
   "cell_type": "markdown",
   "metadata": {
    "id": "1CujRgBNVRaD"
   },
   "source": [
    "Let's now save the vocabulary as a json file."
   ]
  },
  {
   "cell_type": "code",
   "execution_count": 23,
   "metadata": {
    "id": "ehyUoh9vk191"
   },
   "outputs": [],
   "source": [
    "import json\n",
    "with open('vocab.json', 'w') as vocab_file:\n",
    "    json.dump(vocab_dict, vocab_file)"
   ]
  },
  {
   "cell_type": "markdown",
   "metadata": {
    "id": "SHJDaKlIVVim"
   },
   "source": [
    "In a final step, we use the json file to instantiate an object of the `Wav2Vec2CTCTokenizer` class."
   ]
  },
  {
   "cell_type": "code",
   "execution_count": 24,
   "metadata": {
    "id": "xriFGEWQkO4M"
   },
   "outputs": [],
   "source": [
    "from transformers import Wav2Vec2CTCTokenizer\n",
    "\n",
    "tokenizer = Wav2Vec2CTCTokenizer(\"./vocab.json\", unk_token=\"[UNK]\", pad_token=\"[PAD]\", word_delimiter_token=\"|\")"
   ]
  },
  {
   "cell_type": "markdown",
   "metadata": {
    "id": "KvL12DrNV4cx"
   },
   "source": [
    "Next, we will create the feature extractor."
   ]
  },
  {
   "cell_type": "markdown",
   "metadata": {
    "id": "mYcIiR2FQ96i"
   },
   "source": [
    "### Create XLSR-Wav2Vec2 Feature Extractor"
   ]
  },
  {
   "cell_type": "markdown",
   "metadata": {
    "id": "Y6mDEyW719rx"
   },
   "source": [
    "Speech is a continuous signal and to be treated by computers, it first has to be discretized, which is usually called **sampling**. The sampling rate hereby plays an important role in that it defines how many data points of the speech signal are measured per second. Therefore, sampling with a higher sampling rate results in a better approximation of the *real* speech signal but also necessitates more values per second.\n",
    "\n",
    "A pretrained checkpoint expects its input data to have been sampled more or less from the same distribution as the data it was trained on. The same speech signals sampled at two different rates have a very different distribution, *e.g.*, doubling the sampling rate results in data points being twice as long. Thus, \n",
    "before fine-tuning a pretrained checkpoint of an ASR model, it is crucial to verify that the sampling rate of the data that was used to pretrain the model matches the sampling rate of the dataset used to fine-tune the model.\n",
    "\n",
    "XLSR-Wav2Vec2 was pretrained on the audio data of [Babel](https://huggingface.co/datasets/librispeech_asr), \n",
    "[Multilingual LibriSpeech (MLS)](https://ai.facebook.com/blog/a-new-open-data-set-for-multilingual-speech-research/), and [Common Voice](https://huggingface.co/datasets/common_voice). Most of those datasets were sampled at 16kHz, so that Common Voice, sampled at 48kHz, has to be downsampled to 16kHz for training. Therefore, we will have to downsample our fine-tuning data to 16kHz in the following.\n",
    "\n"
   ]
  },
  {
   "cell_type": "markdown",
   "metadata": {
    "id": "KuUbPW7oV-B5"
   },
   "source": [
    "A XLSR-Wav2Vec2 feature extractor object requires the following parameters to be instantiated:\n",
    "\n",
    "- `feature_size`: Speech models take a sequence of feature vectors as an input. While the length of this sequence obviously varies, the feature size should not. In the case of Wav2Vec2, the feature size is 1 because the model was trained on the raw speech signal ${}^2$.\n",
    "- `sampling_rate`: The sampling rate at which the model is trained on.\n",
    "- `padding_value`: For batched inference, shorter inputs need to be padded with a specific value\n",
    "- `do_normalize`: Whether the input should be *zero-mean-unit-variance* normalized or not. Usually, speech models perform better when normalizing the input\n",
    "- `return_attention_mask`: Whether the model should make use of an `attention_mask` for batched inference. In general, XLSR-Wav2Vec2 models should **always** make use of the `attention_mask`."
   ]
  },
  {
   "cell_type": "code",
   "execution_count": 25,
   "metadata": {
    "id": "kAR0-2KLkopp"
   },
   "outputs": [],
   "source": [
    "from transformers import Wav2Vec2FeatureExtractor\n",
    "\n",
    "feature_extractor = Wav2Vec2FeatureExtractor(feature_size=1, sampling_rate=16000, padding_value=0.0, do_normalize=True, return_attention_mask=True)"
   ]
  },
  {
   "cell_type": "markdown",
   "metadata": {
    "id": "qUETetgqYC3W"
   },
   "source": [
    "Great, XLSR-Wav2Vec2's feature extraction pipeline is thereby fully defined!\n",
    "\n",
    "To make the usage of XLSR-Wav2Vec2 as user-friendly as possible, the feature extractor and tokenizer are *wrapped* into a single `Wav2Vec2Processor` class so that one only needs a `model` and `processor` object."
   ]
  },
  {
   "cell_type": "code",
   "execution_count": 13,
   "metadata": {
    "id": "KYZtoW-tlZgl"
   },
   "outputs": [
    {
     "ename": "NameError",
     "evalue": "name 'feature_extractor' is not defined",
     "output_type": "error",
     "traceback": [
      "\u001b[0;31m---------------------------------------------------------------------------\u001b[0m",
      "\u001b[0;31mNameError\u001b[0m                                 Traceback (most recent call last)",
      "\u001b[0;32m<ipython-input-13-8de28d3b6110>\u001b[0m in \u001b[0;36m<module>\u001b[0;34m\u001b[0m\n\u001b[1;32m      1\u001b[0m \u001b[0;32mfrom\u001b[0m \u001b[0mtransformers\u001b[0m \u001b[0;32mimport\u001b[0m \u001b[0mWav2Vec2Processor\u001b[0m\u001b[0;34m\u001b[0m\u001b[0;34m\u001b[0m\u001b[0m\n\u001b[1;32m      2\u001b[0m \u001b[0;34m\u001b[0m\u001b[0m\n\u001b[0;32m----> 3\u001b[0;31m \u001b[0mprocessor\u001b[0m \u001b[0;34m=\u001b[0m \u001b[0mWav2Vec2Processor\u001b[0m\u001b[0;34m(\u001b[0m\u001b[0mfeature_extractor\u001b[0m\u001b[0;34m=\u001b[0m\u001b[0mfeature_extractor\u001b[0m\u001b[0;34m,\u001b[0m \u001b[0mtokenizer\u001b[0m\u001b[0;34m=\u001b[0m\u001b[0mtokenizer\u001b[0m\u001b[0;34m)\u001b[0m\u001b[0;34m\u001b[0m\u001b[0;34m\u001b[0m\u001b[0m\n\u001b[0m",
      "\u001b[0;31mNameError\u001b[0m: name 'feature_extractor' is not defined"
     ]
    }
   ],
   "source": [
    "from transformers import Wav2Vec2Processor\n",
    "\n",
    "processor = Wav2Vec2Processor(feature_extractor=feature_extractor, tokenizer=tokenizer)"
   ]
  },
  {
   "cell_type": "markdown",
   "metadata": {
    "id": "fTfFDSS0YfMN"
   },
   "source": [
    "If one wants to re-use the just created processor and the fine-tuned model of this notebook, one can mount his/her google drive to the notebook and save all relevant files there. To do so, please uncomment the following lines. \n",
    "\n",
    "We will give the fine-tuned model the name `\"wav2vec2-large-xlsr-malayalam\"`."
   ]
  },
  {
   "cell_type": "code",
   "execution_count": 27,
   "metadata": {
    "id": "Par9rpypPsml"
   },
   "outputs": [],
   "source": [
    "processor.save_pretrained(output_models_dir)"
   ]
  },
  {
   "cell_type": "markdown",
   "metadata": {
    "id": "DrKnYuvDIoOO"
   },
   "source": [
    "Next, we can prepare the dataset."
   ]
  },
  {
   "cell_type": "markdown",
   "metadata": {
    "id": "YFmShnl7RE35"
   },
   "source": [
    "### Preprocess Data\n",
    "\n",
    "So far, we have not looked at the actual values of the speech signal but just kept the path to its file in the dataset. `XLSR-Wav2Vec2` expects the audio file in the format of a 1-dimensional array, so in the first step, let's load all audio files into the dataset object.\n",
    "\n",
    "Let's first check the serialization format of the downloaded audio files by looking at the first training sample."
   ]
  },
  {
   "cell_type": "code",
   "execution_count": 28,
   "metadata": {
    "colab": {
     "base_uri": "https://localhost:8080/"
    },
    "id": "TTCS7W6XJ9BG",
    "outputId": "9c3b8cc0-3bcd-43fe-87ca-2825239b365a"
   },
   "outputs": [
    {
     "data": {
      "text/plain": [
       "{'path': '/workspace/data/mal/openslr/ml_in_male/mlm_00950_00376900025.wav',\n",
       " 'sentence': 'ഇതില്\\u200d കൂടുതലും ഗള്\\u200dഫ് മേഖലയില്\\u200d ആണ്\\u200c '}"
      ]
     },
     "execution_count": 28,
     "metadata": {},
     "output_type": "execute_result"
    }
   ],
   "source": [
    "common_voice_train[0]"
   ]
  },
  {
   "cell_type": "markdown",
   "metadata": {
    "id": "wSBIGEiaKHMn"
   },
   "source": [
    "Alright, the audio file is saved in the `.mp3` format. The `.mp3` format is usually not the easiest format to deal with. We found that the [`torchaudio`](https://pytorch.org/audio/stable/index.html) library works best for reading in `.mp3` data. \n",
    "\n",
    "An audio file usually stores both its values and the sampling rate with which the speech signal was digitalized. We want to store both in the dataset and write a `map(...)` function accordingly."
   ]
  },
  {
   "cell_type": "code",
   "execution_count": 29,
   "metadata": {
    "id": "al9Luo4LPpwJ"
   },
   "outputs": [
    {
     "name": "stderr",
     "output_type": "stream",
     "text": [
      "/opt/conda/lib/python3.7/site-packages/torchaudio/backend/utils.py:54: UserWarning: \"sox\" backend is being deprecated. The default backend will be changed to \"sox_io\" backend in 0.8.0 and \"sox\" backend will be removed in 0.9.0. Please migrate to \"sox_io\" backend. Please refer to https://github.com/pytorch/audio/issues/903 for the detail.\n",
      "  '\"sox\" backend is being deprecated. '\n"
     ]
    }
   ],
   "source": [
    "import torchaudio\n",
    "\n",
    "def speech_file_to_array_fn(batch):\n",
    "    speech_array, sampling_rate = torchaudio.load(batch[\"path\"])\n",
    "    batch[\"speech\"] = speech_array[0].numpy()\n",
    "    batch[\"sampling_rate\"] = sampling_rate\n",
    "    batch[\"target_text\"] = batch[\"sentence\"]\n",
    "    return batch"
   ]
  },
  {
   "cell_type": "code",
   "execution_count": 30,
   "metadata": {
    "colab": {
     "base_uri": "https://localhost:8080/",
     "height": 117,
     "referenced_widgets": [
      "348ef54c80b2449f8a3bc950cccd62cc",
      "b78413dcc0584a0c8f71731a06aaa1b8",
      "7edbecaccdd94ede8fddc0e1807e777e",
      "5e3aad95e52f4be2bd670d1345398f1b",
      "b9c5c6dd54cc4dc5ad5a2bb69a24ab05",
      "3e3a022a9f304b0f9f7ef067fcee1e56",
      "7aa70322bdfe46938b583a20003093d5",
      "99d5c44ea54b45ee9bd89380cb1ad189",
      "5f48f54986924e418aa4ac22aa54b714",
      "db71db50799c404aafa4a54de8b9b799",
      "a58c203a7cc54086aea45f2029821207",
      "8d409ca0372a48e2972ca1d8eee5ffa1",
      "c8fdf261ac294093a355778a3a4aba3b",
      "b1b6a4649fc34c9996f993c57671766b",
      "d362345c05234c97a675c6bacdad0e92",
      "b0479f03f96241ca959f6fe7bcbd1aba"
     ]
    },
    "id": "afeicUeWlrRL",
    "outputId": "d5e4d41a-61d6-4094-eba9-a5bbed02cedc"
   },
   "outputs": [
    {
     "data": {
      "application/vnd.jupyter.widget-view+json": {
       "model_id": "b03b69d4762e4c6e8f74f4a48a3174b1",
       "version_major": 2,
       "version_minor": 0
      },
      "text/plain": [
       "HBox(children=(FloatProgress(value=0.0, max=12211.0), HTML(value='')))"
      ]
     },
     "metadata": {},
     "output_type": "display_data"
    },
    {
     "name": "stdout",
     "output_type": "stream",
     "text": [
      "\n"
     ]
    },
    {
     "data": {
      "application/vnd.jupyter.widget-view+json": {
       "model_id": "2b7c970693fa46c98c0e5cf3f0ba1a89",
       "version_major": 2,
       "version_minor": 0
      },
      "text/plain": [
       "HBox(children=(FloatProgress(value=0.0, max=3055.0), HTML(value='')))"
      ]
     },
     "metadata": {},
     "output_type": "display_data"
    },
    {
     "name": "stdout",
     "output_type": "stream",
     "text": [
      "\n"
     ]
    }
   ],
   "source": [
    "common_voice_train = common_voice_train.map(speech_file_to_array_fn, remove_columns=common_voice_train.column_names)\n",
    "common_voice_test = common_voice_test.map(speech_file_to_array_fn, remove_columns=common_voice_test.column_names)"
   ]
  },
  {
   "cell_type": "markdown",
   "metadata": {
    "id": "ki5sXmzucc9Q"
   },
   "source": [
    "Great, now we've successfully read in all the audio files, but since we know that Common Voice is sampled at 48kHz, we need to resample the audio files to 16kHz. \n",
    "\n",
    "Let's make use of the [`librosa`](https://github.com/librosa/librosa) library to downsample the data."
   ]
  },
  {
   "cell_type": "code",
   "execution_count": 44,
   "metadata": {
    "id": "6Y6AK3Z-kHwP"
   },
   "outputs": [],
   "source": [
    "import librosa\n",
    "import numpy as np\n",
    "\n",
    "# The IIIT dataset has 16k Hz sample rate. Hence we add condition to exclude it from resampling\n",
    "def resample(batch):\n",
    "    if batch[\"sampling_rate\"] != 16000:\n",
    "        batch[\"speech\"] = librosa.resample(np.asarray(batch[\"speech\"]), 48_000, 16_000)\n",
    "    batch[\"sampling_rate\"] = 16_000\n",
    "    return batch"
   ]
  },
  {
   "cell_type": "code",
   "execution_count": 45,
   "metadata": {
    "colab": {
     "base_uri": "https://localhost:8080/",
     "height": 453,
     "referenced_widgets": [
      "ee641bbf54a7499597713c517baa81bb",
      "3d929b9e2518402b81a71757ffb753d2",
      "4f8957dc035d4c1a9e8630fc8ab8cd10",
      "757e7bd0e6c5410da0490d191b4e68c8",
      "596aea0362924c7db583203268dd5a3e",
      "47a6c3c427614f21a6dab1c048e5dd37",
      "0b795d4b68014de19bf9579c67b55ffb",
      "9185f86719af476da41e3835e8f06f8d",
      "771959e46cb64b3ebafe931f96f5ff52",
      "0e999af234bd4b63ad2937e61d08b693",
      "f792530a76ee486688cbc2502dfae594",
      "d69468d63dd74fdd807fe061b92aa84e",
      "1261590ef796493798f7068ea0547b74",
      "7e50f8027fb74d669daae5e46082026c",
      "7f5203fde6b64bf7ad53d6ecd3041bfc",
      "84e7f0001ebe458dad3c96e7e9a38cdc",
      "24ea17ae8ab14e8a871e5e115c3f4c06",
      "f57d087016124ebeb073fd7428dcb68b",
      "f3905820a42c499fba04af9c1ad19705",
      "4e1a725fd90b45e280b8b0028ba65250",
      "4c0ad31e73234e46aac0a297ec18bdeb",
      "fc9504846f424542a7feb932964f1f5b",
      "9f79629ad6a94201acf3283862d1ae17",
      "491fd969d61a478f8e85ffcd3e1a3e20",
      "76d162d3ea0845cc837651a77a5a2d36",
      "98c594f1e41e4b3fab10f0763bd93d75",
      "f6b01ad0433a40178ef3ba5657bc1583",
      "eed2ccc12daa4c71b080794a7a18f5cb",
      "beca070c32124a119a08cb21c2ca95e5",
      "69828f4a101f4340916a4be141866904",
      "20347ed29fdc4c0a96da28c09aacf44d",
      "f18eddbd3d994ddc88f37e02d754c206",
      "b7c43fb5efdd4afbb82c81b923f2815a",
      "c0a661f20e7e4649a3c8c42a5fd01956",
      "8dddd0245dcb4532917cbfa0181d2a00",
      "3bdb4058f40f40e3a10e323325a64638",
      "024989cea06f435894776b0a921164b2",
      "b1d93a7521fa47b8a815445b5232da59",
      "751ae6b9e2da4b85be9600561485f1ac",
      "d7f27e9cf8a844349ca90393e0c49a03",
      "82015055d32449b89346ea18e7474c4d",
      "a170c0cb21cf425fbee97fd6d5584e2c",
      "f5f1f0865d7e4d8b810ccb9c3c4d2683",
      "416badb151ee4660b53fdbc136e0c8fb",
      "a47f1ea64f894f0b8e6b277c31ae9f7d",
      "e51b5fd9d5a6416d986fac1526d1666f",
      "824569c63ec445c08362659ca228dd2a",
      "0f3756509e3b405d87936f599b153de2",
      "d96e01ad62c342cdb7d9b1eceb39afa3",
      "e6ce9330460d4a0fb67cc493ca74ae96",
      "e6178f7b148c4bf39f2826f208e0cc64",
      "f78ff14b9c8f46448ed1ecb3fe1f5e0b",
      "929cde17b3484f3e9e8f8774bc43e374",
      "6ba6d07674a34836be53cf173c2b61ca",
      "5a5bc8b4a1c644dea08a60128d888d10",
      "b054b00a32e64fc5988fbd2966ebbce6",
      "5ccd12253fff448f9c15c9b03c70a408",
      "330226a977694de1bd88c0aa3789be47",
      "f203c54e7e054d97aa4d1097f320f611",
      "6266a4019e124aff877bb55f21740180",
      "3ec3285e9f3e4a5abcefabb7f140f4a3",
      "0cd1932178c945d48604ffd299e65d2c",
      "8ad3e4b211e34c048d0f48e36fdbfe48",
      "55071fc1b7484620803aeba453e9af72"
     ]
    },
    "id": "Ws8DyIL_kjwT",
    "outputId": "6176aea2-5986-4da0-a2ad-6ef5e2c85493"
   },
   "outputs": [
    {
     "name": "stdout",
     "output_type": "stream",
     "text": [
      "    "
     ]
    },
    {
     "data": {
      "application/vnd.jupyter.widget-view+json": {
       "model_id": "a49e9ce256ee42409b663ec68f578e14",
       "version_major": 2,
       "version_minor": 0
      },
      "text/plain": [
       "HBox(children=(FloatProgress(value=0.0, description='#0', max=3053.0, style=ProgressStyle(description_width='i…"
      ]
     },
     "metadata": {},
     "output_type": "display_data"
    },
    {
     "data": {
      "application/vnd.jupyter.widget-view+json": {
       "model_id": "ce65a409b7b04236a67d3d389c1dce72",
       "version_major": 2,
       "version_minor": 0
      },
      "text/plain": [
       "HBox(children=(FloatProgress(value=0.0, description='#3', max=3052.0, style=ProgressStyle(description_width='i…"
      ]
     },
     "metadata": {},
     "output_type": "display_data"
    },
    {
     "data": {
      "application/vnd.jupyter.widget-view+json": {
       "model_id": "26a78a70ce9146aea7d009b7febe9243",
       "version_major": 2,
       "version_minor": 0
      },
      "text/plain": [
       "HBox(children=(FloatProgress(value=0.0, description='#2', max=3053.0, style=ProgressStyle(description_width='i…"
      ]
     },
     "metadata": {},
     "output_type": "display_data"
    },
    {
     "data": {
      "application/vnd.jupyter.widget-view+json": {
       "model_id": "3de27d3e6f7f4b0c80c13b2f8f2e06fd",
       "version_major": 2,
       "version_minor": 0
      },
      "text/plain": [
       "HBox(children=(FloatProgress(value=0.0, description='#1', max=3053.0, style=ProgressStyle(description_width='i…"
      ]
     },
     "metadata": {},
     "output_type": "display_data"
    },
    {
     "name": "stdout",
     "output_type": "stream",
     "text": [
      "\n",
      "\n",
      "\n",
      "\n",
      "    "
     ]
    },
    {
     "data": {
      "application/vnd.jupyter.widget-view+json": {
       "model_id": "308f394364664b3aa20bb54f800c6798",
       "version_major": 2,
       "version_minor": 0
      },
      "text/plain": [
       "HBox(children=(FloatProgress(value=0.0, description='#2', max=764.0, style=ProgressStyle(description_width='in…"
      ]
     },
     "metadata": {},
     "output_type": "display_data"
    },
    {
     "data": {
      "application/vnd.jupyter.widget-view+json": {
       "model_id": "8abd433df5cd4398ad48ff7acdb84d4c",
       "version_major": 2,
       "version_minor": 0
      },
      "text/plain": [
       "HBox(children=(FloatProgress(value=0.0, description='#1', max=764.0, style=ProgressStyle(description_width='in…"
      ]
     },
     "metadata": {},
     "output_type": "display_data"
    },
    {
     "data": {
      "application/vnd.jupyter.widget-view+json": {
       "model_id": "77b006e828cb45a598af0b01dbc21b65",
       "version_major": 2,
       "version_minor": 0
      },
      "text/plain": [
       "HBox(children=(FloatProgress(value=0.0, description='#3', max=763.0, style=ProgressStyle(description_width='in…"
      ]
     },
     "metadata": {},
     "output_type": "display_data"
    },
    {
     "data": {
      "application/vnd.jupyter.widget-view+json": {
       "model_id": "de9a1ddf5e90472099d3c90841f93eb6",
       "version_major": 2,
       "version_minor": 0
      },
      "text/plain": [
       "HBox(children=(FloatProgress(value=0.0, description='#0', max=764.0, style=ProgressStyle(description_width='in…"
      ]
     },
     "metadata": {},
     "output_type": "display_data"
    },
    {
     "name": "stdout",
     "output_type": "stream",
     "text": [
      "\n",
      "\n",
      "\n",
      "\n"
     ]
    }
   ],
   "source": [
    "common_voice_train = common_voice_train.map(resample, num_proc=4)\n",
    "common_voice_test = common_voice_test.map(resample, num_proc=4)"
   ]
  },
  {
   "cell_type": "markdown",
   "metadata": {
    "id": "SOckzFd4Mbzq"
   },
   "source": [
    "This seemed to have worked! Let's listen to a couple of audio files to better understand the dataset and verify that the audio was correctly loaded. \n",
    "\n",
    "**Note**: *You can click the following cell a couple of times to listen to different speech samples.*"
   ]
  },
  {
   "cell_type": "code",
   "execution_count": 46,
   "metadata": {
    "colab": {
     "base_uri": "https://localhost:8080/",
     "height": 74
    },
    "id": "dueM6U7Ev0OA",
    "outputId": "1a3e579d-213e-4c7a-b2ec-9a7725d95afc"
   },
   "outputs": [
    {
     "data": {
      "text/html": [
       "\n",
       "                <audio  controls=\"controls\" autoplay=\"autoplay\">\n",
       "                    <source src=\"data:audio/wav;base64,UklGRu4KAwBXQVZFZm10IBAAAAABAAEAgD4AAAB9AAACABAAZGF0YcoKAwAAAAAAAAAAAAAAAAAAAAAAAAAAAAAAAAAAAAAAAAAAAAAAAAAAAAAAAAAAAAAAAAAAAAAAAAAAAAAAAAAAAAAAAAAAAAAAAAAAAAAAAAAAAAAAAAAAAAAAAAAAAAAAAAAAAAAAAAAAAAAAAAAAAAAAAAAAAAAAAAAAAAAAAAAAAAAAAAAAAAAAAAAAAAAAAAAAAAAAAAAAAAAAAAAAAAAAAAAAAAAAAAAAAAAAAAAAAAAAAAAAAAAAAAAAAAAAAAAAAAAAAAAAAAAAAAAAAAAAAAAAAAAAAAAAAAAAAAAAAAAAAAAAAAAAAAAAAAAAAAAAAAAAAAAAAAAAAAAAAAAAAAAAAAAAAAAAAAAAAAAAAAAAAAAAAAAAAAAAAAAAAAAAAAAAAAAAAAAAAAAAAAAAAAAAAAAAAAAAAAAAAAAAAAAAAAAAAAAAAAAAAAAAAAAAAAAAAAAAAAAAAAAAAAAAAAAAAAAAAAAAAAAAAAAAAAAAAAAAAAAAAAAAAAAAAAAAAAAAAAAAAAAAAAAAAAAAAAAAAAAAAAAAAAAAAAAAAAAAAAAAAAAAAAAAAAAAAAAAAAAAAAAAAAAAAAAAAAAAAAAAAAAAAAAAAAAAAAAAAAAAAAAAAAAAAAAAAAAAAAAAAAAAAAAAAAAAAAAAAAAAAAAAAAAAAAAAAAAAAAAAAAAAAAAAAAAAAAAAAAAAAAAAAAAAAAAAAAAAAAAAAAAAAAAAAAAAAAAAAAAAAAAAAAAAAAAAAAAAAAAAAAAAAAAAAAAAAAAAAAAAAAAAAAAAAAAAAAAAAAAAAAAAAAAAAAAAAAAAAAAAAAAAAAAAAAAAAAAAAAAAAAAAAAAAAAAAAAAAAAAAAAAAAAAAAAAAAAAAAAAAAAAAAAAAAAAAAAAAAAAAAAAAAAAAAAAAAAAAAAAAAAAAAAAAAAAAAAAAAAAAAAAAAAAAAAAAAAAAAAAAAAAAAAAAAAAAAAAAAAAAAAAAAAAAAAAAAAAAAAAAAAAAAAAAAAAAAAAAAAAAAAAAAAAAAAAAAAAAAAAAAAAAAAAAAAAAAAAAAAAAAAAAAAAAAAAAAAAAAAAAAAAAAAAAAAAAAAAAAAAAAAAAAAAAAAAAAAAAAAAAAAAAAAAAAAAAAAAAAAAAAAAAAAAAAAAAAAAAAAAAAAAAAAAAAAAAAAAAAAAAAAAAAAAAAAAAAAAAAAAAAAAAAAAAAAAAAAAAAAAAAAAAAAAAAAAAAAAAAAAAAAAAAAAAAAAAAAAAAAAAAAAAAAAAAAAAAAAAAAAAAAAAAAAAAAAAAAAAAAAAAAAAAAAAAAAAAAAAAAAAAAAAAAAAAAAAAAAAAAAAAAAAAAAAAAAAAAAAAAAAAAAAAAAAAAAAAAAAAAAAAAAAAAAAAAAAAAAAAAAAAAAAAAAAAAAAAAAAAAAAAAAAAAAAAAAAAAAAAAAAAAAAAAAAAAAAAAAAAAAAAAAAAAAAAAAAAAAAAAAAAAAAAAAAAAAAAAAAAAAAAAAAAAAAAAAAAAAAAAAAAAAAAAAAAAAAAAAAAAAAAAAAAAAAAAAAAAAAAAAAAAAAAAAAAAAAAAAAAAAAAAAAAAAAAAAAAAAAAAAAAAAAAAAAAAAAAAAAAAAAAAAAAAAAAAAAAAAAAAAAAAAAAAAAAAAAAAAAAAAAAAAAAAAAAAAAAAAAAAAAAAAAAAAAAAAAAAAAAAAAAAAAAAAAAAAAAAAAAAAAAAAAAAAAAAAAAAAAAAAAAAAAAAAAAAAAAAAAAAAAAAAAAAAAAAAAAAAAAAAAAAAAAAAAAAAAAAAAAAAAAAAAAAAAAAAAAAAAAAAAAAAAAAAAAAAAAAAAAAAAAAAAAAAAAAAAAAAAAAAAAAAAAAAAAAAAAAAAAAAAAAAAAAAAAAAAAAAAAAAAAAAAAAAAAAAAAAAAAAAAAAAAAAAAAAAAAAAAAAAAAAAAAAAAAAAAAAAAAAAAAAAAAAAAAAAAAAAAAAAAAAAAAAAAAAAAAAAAAAAAAAAAAAAAAAAAAAAAAAAAAAAAAAAAAAAAAAAAAAAAAAAAAAAAAAAAAAAAAAAAAAAAAAAAAAAAAAAAAAAAAAAAAAAAAAAAAAAAAAAAAAAAAAAAAAAAAAAAAAAAAAAAAAAAAAAAAAAAAAAAAAAAAAAAAAAAAAAAAAAAAAAAAAAAAAAAAAAAAAAAAAAAAAAAAAAAAAAAAAAAAAAAAAAAAAAAAAAAAAAAAAAAAAAAAAAAAAAAAAAAAAAAAAAAAAAAAAAAAAAAAAAAAAAAAAAAAAAAAAAAAAAAAAAAAAAAAAAAAAAAAAAAAAAAAAAAAAAAAAAAAAAAAAAAAAAAAAAAAAAAAAAAAAAAAAAAAAAAAAAAAAAAAAAAAAAAAAAAAAAAAAAAAAAAAAAAAAAAAAAAAAAAAAAAAAAAAAAAAAAAAAAAAAAAAAAAAAAAAAAAAAAAAAAAAAAAAAAAAAAAAAAAAAAAAAAAAAAAAAAAAAAAAAAAAAAAAAAAAAAAAAAAAAAAAAAAAAAAAAAAAAAAAAAAAAAAAAAAAAAAAAAAAAAAAAAAAAAAAAAAAAAAAAAAAAAAAAAAAAAAAAAAAAAAAAAAAAAAAAAAAAAAAAAAAAAAAAAAAAAAAAAAAAAAAAAAAAAAAAAAAAAAAAAAAAAAAAAAAAAAAAAAAAAAAAAAAAAAAAAAAAAAAAAAAAAAAAAAAAAAAAAAAAAAAAAAAAAAAAAAAAAAAAAAAAAAAAAAAAAAAAAAAAAAAAAAAAAAAAAAAAAAAAAAAAAAAAAAAAAAAAAAAAAAAAAAAAAAAAAAAAAAAAAAAAAAAAAAAAAAAAAAAAAAAAAAAAAAAAAAAAAAAAAAAAAAAAAAAAAAAAAAAAAAAAAAAAAAAAAAAAAAAAAAAAAAAAAAAAAAAAAAAAAAAAAAAAAAAAAAAAAAAAAAAAAAAAAAAAAAAAAAAAAAAAAAAAAAAAAAAAAAAAAAAAAAAAAAAAAAAAAAAAAAAAAAAAAAAAAAAAAAAAAAAAAAAAAAAAAAAAAAAAAAAAAAAAAAAAAAAAAAAAAAAAAAAAAAAAAAAAAAAAAAAAAAAAAAAAAAAAAAAAAAAAAAAAAAAAAAAAAAAAAAAAAAAAAAAAAAAAAAAAAAAAAAAAAAAAAAAAAAAAAAAAAAAAAAAAAAAAAAAAAAAAAAAAAAAAAAAAAAAAAAAAAAAAAAAAAAAAAAAAAAAAAAAAAAAAAAAAAAAAAAAAAAAAAAAAAAAAAAAAAAAAAAAAAAAAAAAAAAAAAAAAAAAAAAAAAAAAAAAAAAAAAAAAAAAAAAAAAAAAAAAAAAAAAAAAAAAAAAAAAAAAAAAAAAAAAAAAAAAAAAAAAAAAAAAAAAAAAAAAAAAAAAAAAAAAAAAAAAAAAAAAAAAAAAAAAAAAAAAAAAAAAAAAAAAAAAAAAAAAAAAAAAAAAAAAAAAAAAAAAAAAAAAAAAAAAAAAAAAAAAAAAAAAAAAAAAAAAAAAAAAAAAAAAAAAAAAAAAAAAAAAAAAAAAAAAAAAAAAAAAAAAAAAAAAAAAAAAAAAAAAAAAAAAAAAAAAAAAAAAAAAAAAAAAAAAAAAAAAAAAAAAAAAAAAAAAAAAAAAAAAAAAAAAAAAAAAAAAAAAAAAAAAAAAAAAAAAAAAAAAAAAAAAAAAAAAAAAAAAAAAAAAAAAAAAAAAAAAAAAAAAAAAAAAAAAAAAAAAAAAAAAAAAAAAAAAAAAAAAAAAAAAAAAAAAAAAAAAAAAAAAAAAAAAAAAAAAAAAAAAAAAAAAAAAAAAAAAAAAAAAAAAAAAAAAAAAAAAAAAAAAAAAAAAAAAAAAAAAAAAAAAAAAAAAAAAAAAAAAAAAAAAAAAAAAAAAAAAAAAAAAAAAAAAAAAAAAAAAAAAAAAAAAAAAAAAAAAAAAAAAAAAAAAAAAAAAAAAAAAAAAAAAAAAAAAAAAAAAAAAAAAAAAAAAAAAAAAAAAAAAAAAAAAAAAAAAAAAAAAAAAAAAAAAAAAAAAAAAAAAAAAAAAAAAAAAAAAAAAAAAAAAAAAAAAAAAAAAAAAAAAAAAAAAAAAAAAAAAAAAAAAAAAAAAAAAAAAAAAAAAAAAAAAAAAAAAAAAAAAAAAAAAAAAAAAAAAAAAAAAAAAAAAAAAAAAAAAAAAAAAAAAAAAAAAAAAAAAAAAAAAAAAAAAAAAAAAAAAAAAAAAAAAAAAAAAAAAAAAAAAAAAAAAAAAAAAAAAAAAAAAAAAAAAAAAAAAAAAAAAAAAAAAAAAAAAAAAAAAAAAAAAAAAAAAAAAAAAAAAAAAAAAAAAAAAAAAAAAAAAAAAAAAAAAAAAAAAAAAAAAAAAAAAAAAAAAAAAAAAAAAAAAAAAAAAAAAAAAAAAAAAAAAAAAAAAAAAAAAAAAAAAAAAAAAAAAAAAAAAAAAAAAAAAAAAAAAAAAAAAAAAAAAAAAAAAAAAAAAAAAAAAAAAAAAAAAAAAAAAAAAAAAAAAAAAAAAAAAAAAAAAAAAAAAAAAAAAAAAAAAAAAAAAAAAAAAAAAAAAAAAAAAAAAAAAAAAAAAAAAAAAAAAAAAAAAAAAAAAAAAAAAAAAAAAAAAAAAAAAAAAAAAAAAAAAAAAAAAAAAAAAAAAAAAAAAAAAAAAAAAAAAAAAAAAAAAAAAAAAAAAAAAAAAAAAAAAAAAAAAAAAAAAAAAAAAAAAAAAAAAAAAAAAAAAAAAAAAAAAAAAAAAAAAAAAAAAAAAAAAAAAAAAAAAAAAAAAAAAAAAAAAAAAAAAAAAAAAAAAAAAAAAAAAAAAAAAAAAAAAAAAAAAAAAAAAAAAAAAAAAAAAAAAAAAAAAAAAAAAAAAAAAAAAAAAAAAAAAAAAAAAAAAAAAAAAAAAAAAAAAAAAAAAAAAAAAAAAAAAAAAAAAAAAAAAAAAAAAAAAAAAAAAAAAAAAAAAAAAAAAAAAAAAAAAAAAAAAAAAAAAAAAAAAAAAAAAAAAAAAAAAAAAAAAAAAAAAAAAAAAAAAAAAAAAAAAAAAAAAAAAAAAAAAAAAAAAAAAAAAAAAAAAAAAAAAAAAAAAAAAAAAAAAAAAAAAAAAAAAAAAAAAAAAAAAAAAAAAAAAAAAAAAAAAAAAAAAAAAAAAAAAAAAAAAAAAAAAAAAAAAAAAAAAAAAAAAAAAAAAAAAAAAAAAAAAAAAAAAAAAAAAAAAAAAAAAAAAAAAAAAAAAAAAAAAAAAAAAAAAAAAAAAAAAAAAAAAAAAAAAAAAAAAAAAAAAAAAAAAAAAAAAAAAAAAAAAAAAAAAAAAAAAAAAAAAAAAAAAAAAAAAAAAAAAAAAAAAAAAAAAAAAAAAAAAAAAAAAAAAAAAAAAAAAAAAAAAAAAAAAAAAAAAAAAAAAAAAAAAAAAAAAAAAAAAAAAAAAAAAAAAAAAAAAAAAAAAAAAAAAAAAAAAAAAAAAAAAAAAAAAAAAAAAAAAAAAAAAAAAAAAAAAAAAAAAAAAAAAAAAAAAAAAAAAAAAAAAAAAAAAAAAAAAAAAAAAAAAAAAAAAAAAAAAAAAAAAAAAAAAAAAAAAAAAAAAAAAAAAAAAAAAAAAAAAAAAAAAAAAAAAAAAAAAAAAAAAAAAAAAAAAAAAAAAAAAAAAAAAAAAAAAAAAAAAAAAAAAAAAAAAAAAAAAAAAAAAAAAAAAAAAAAAAAAAAAAAAAAAAAAAAAAAAAAAAAAAAAAAAAAAAAAAAAAAAAAAAAAAAAAAAAAAAAAAAAAAAAAAAAAAAAAAAAAAAAAAAAAAAAAAAAAAAAAAAAAAAAAAAAAAAAAAAAAAAAAAAAAAAAAAAAAAAAAAAAAAAAAAAAAAAAAAAAAAAAAAAAAAAAAAAAAAAAAAAAAAAAAAAAAAAAAAAAAAAAAAAAAAAAAAAAAAAAAAAAAAAAAAAAAAAAAAAAAAAAAAAAAAAAAAAAAAAAAAAAAAAAAAAAAAAAAAAAAAAAAAAAAAAAAAAAAAAAAAAAAAAAAAAAAAAAAAAAAAAAAAAAAAAAAAAAAAAAAAAAAAAAAAAAAAAAAAAAAAAAAAAAAAAAAAAAAAAAAAAAAAAAAAAAAAAAAAAAAAAAAAAAAAAAAAAAAAAAAAAAAAAAAAAAAAAAAAAAAAAAAAAAAAAAAAAAAAAAAAAAAAAAAAAAAAAAAAAAAAAAAAAAAAAAAAAAAAAAAAAAAAAAAAAAAAAAAAAAAAAAAAAAAAAAAAAAAAAAAAAAAAAAAAAAAAAAAAAAAAAAAAAAAAAAAAAAAAAAAAAAAAAAAAAAAAAAAAAAAAAAAAAAAAAAAAAAAAAAAAAAAAAAAAAAAAAAAAAAAAAAAAAAAAAAAAAAAAAAAAAAAAAAAAAAAAAAAAAAAAAAAAAAAAAAAAAAAAAAAAAAAAAAAAAAAAAAAAAAAAAAAAAAAAAAAAAAAAAAAAAAAAAAAAAAAAAAAAAAAAAAAAAAAAAAAAAAAAAAAAAAAAAAAAAAAAAAAAAAAAAAAAAAAAAAAAAAAAAAAAAAAAAAAAAAAAAAAAAAAAAAAAAAAAAAAAAAAAAAAAAAAAAAAAAAAAAAAAAAAAAAAAAAAAAAAAAAAAAAAAAAAAAAAAAAAAAAAAAAAAAAAAAAAAAAAAAAAAAAAAAAAAAAAAAAAAAAAAAAAAAAAAAAAAAAAAAAAAAAAAAAAAAAAAAAAAAAAAAAAAAAAAAAAAAAAAAAAAAAAAAAAAAAAAAAAAAAAAAAAAAAAAAAAAAAAAAAAAAAAAAAAAAAAAAAAAAAAAAAAAAAAAAAAAAAAAAAAAAAAAAAAAAAAAAAAAAAAAAAAAAAAAAAAAAAAAAAAAAAAAAAAAAAAAAAAAAAAAAAAAAAAAAAAAAAAAAAAAAAAAAAAAAAAAAAAAAAAAAAAAAAAAAAAAAAAAAAAAAAAAAAAAAAAAAAAAAAAAAAAAAAAAAAAAAAAAAAAAAAAAAAAAAAAAAAAAAAAAAAAAAAAAAAAAAAAAAAAAAAAAAAAAAAAAAAAAAAAAAAAAAAAAAAAAAAAAAAAAAAAAAAAAAAAAAAAAAAAAAAAAAAAAAAAAAAAAAAAAAAAAAAAAAAAAAAAAAAAAAAAAAAAAAAAAAAAAAAAAAAAAAAAAAAAAAAAAAAAAAAAAAAAAAAAAAAAAAAAAAAAAAAAAAAAAAAAAAAAAAAAAAAAAAAAAAAAAAAAAAAAAAAAAAAAAAAAAAAAAAAAAAAAAAAAAAAAAAAAAAAAAAAAAAAAAAAAAAAAAAAAAAAAAAAAAAAAAAAAAAAAAAAAAAAAAAAAAAAAAAAAAAAAAAAAAAAAAAAAAAAAAAAAAAAAAAAAAAAAAAAAAAAAAAAAAAAAAAAAAAAAAAAAAAAAAAAAAAAAAAAAAAAAAAAAAAAAAAAAAAAAAAAAAAAAAAAAAAAAAAAAAAAAAAAAAAAAAAAAAAAAAAAAAAAAAAAAAAAAAAAAAAAAAAAAAAAAAAAAAAAAAAAAAAAAAAAAAAAAAAAAAAAAAAAAAAAAAAAAAAAAAAAAAAAAAAAAAAAAAAAAAAAAAAAAAAAAAAAAAAAAAAAAAAAAAAAAAAAAAAAAAAAAAAAAAAAAAAAAAAAAAAAAAAAAAAAAAAAAAAAAAAAAAAAAAAAAAAAAAAAAAAAAAAAAAAAAAAAAAAAAAAAAAAAAAAAAAAAAAAAAAAAAAAAAAAAAAAAAAAAAAAAAAAAAAAAAAAAAAAAAAAAAAAAAAAAAAAAAAAAAAAAAAAAAAAAAAAAAAAAAAAAAAAAAAAAAAAAAAAAAAAAAAAAAAAAAAAAAAAAAAAAAAAAAAAAAAAAAAAAAAAAAAAAAAAAAAAAAAAAAAAAAAAAAAAAAAAAAAAAAAAAAAAAAAAAAAAAAAAAAAAAAAAAAAAAAAAAAAAAAAAAAAAAAAAAAAAAAAAAAAAAAAAAAAAAAAAAAAAAAAAAAAAAAAAAAAAAAAAAAAAAAAAAAAAAAAAAAAAAAAAAAAAAAAAAAAAAAAAAAAAAAAAAAAAAAAAAAAAAAAAAAAAAAAAAAAAAAAAAAAAAAAAAAAAAAAAAAAAAAAAAAAAAAAAAAAAAAAAAAAAAAAAAAAAAAAAAAAAAAAAAAAAAAAAAAAAAAAAAAAAAAAAAAAAAAAAAAAAAAAAAAAAAAAAAAAAAAAAAAAAAAAAAAAAAAAAAAAAAAAAAAAAAAAAAAAAAAAAAAAAAAAAAAAAAAAAAAAAAAAAAAAAAAAAAAAAAAAAAAAAAAAAAAAAAAAAAAAAAAAAAAAAAAAAAAAAAAAAAAAAAAAAAAAAAAAAAAAAAAAAAAAAAAAAAAAAAAAAAAAAAAAAAAAAAAAAAAAAAAAAAAAAAAAAAAAAAAAAAAAAAAAAAAAAAAAAAAAAAAAAAAAAAAAAAAAAAAAAAAAAAAAAAAAAAAAAAAAAAAAAAAAAAAAAAAAAAAAAAAAAAAAAAAAAAAAAAAAAAAAAAAAAAAAAAAAAAAAAAAAAAAAAAAAAAAAAAAAAAAAAAAAAAAAAAAAAAAAAAAAAAAAAAAAAAAAAAAAAAAAAAAAAAAAAAAAAAAAAAAAAAAAAAAAAAAAAAAAAAAAAAAAAAAAAAAAAAAAAAAAAAAAAAAAAAAAAAAAAAAAAAAAAAAAAAAAAAAAAAAAAAAAAAAAAAAAAAAAAAAAAAAAAAAAAAAAAAAAAAAAAAAAAAAAAAAAAAAAAAAAAAAAAAAAAAAAAAAAAAAAAAAAAAAAAAAAAAAAAAAAAAAAAAAAAAAAAAAAAAAAAAAAAAAAAAAAAAAAAAAAAAAAAAAAAAAAAAAAAAAAAAAAAAAAAAAAAAAAAAAAAAAAAAAAAAAAAAAAAAAAAAAAAAAAAAAAAAAAAAAAAAAAAAAAAAAAAAAAAAAAAAAAAAAAAAAAAAAAAAAAAAAAAAAAAAAAAAAAAAAAAAAAAAAAAAAAAAAAAAAAAAAAAAAAAAAAAAAAAAAAAAAAAAAAAAAAAAAAAAAAAAAAAAAAAAAAAAAAAAAAAAAAAAAAAAAAAAAAAAAAAAAAAAAAAAAAAAAAAAAAAAAAAAAAAAAAAAAAAAAAAAAAAAAAAAAAAAAAAAAAAAAAAAAAAAAAAAAAAAAAAAAAAAAAAAAAAAAAAAAAAAAAAAAAAAAAAAAAAAAAAAAAAAAAAAAAAAAAAAAAAAAAAAAAAAAAAAAAAAAAAAAAAAAAAAAAAAAAAAAAAAAAAAAAAAAAAAAAAAAAAAAAAAAAAAAAAAAAAAAAAAAAAAAAAAAAAAAAAAAAAAAAAAAAAAAAAAAAAAAAAAAAAAAAAAAAAAAAAAAAAAAAAAAAAAAAAAAAAAAAAAAAAAAAAAAAAAAAAAAAAAAAAAAAAAAAAAAAAAAAAAAAAAAAAAAAAAAAAAAAAAAAAAAAAAAAAAAAAAAAAAAAAAAAAAAAAAAAAAAAAAAAAAAAAAAAAAAAAAAAAAAAAAAAAAAAAAAAAAAAAAAAAAAAAAAAAAAAAAAAAAAAAAAAAAAAAAAAAAAAAAAAAAAAAAAAAAAAAAAAAAAAAAAAAAAAAAAAAAAAAAAAAAAAAAAAAAAAAAAAAAAAAAAAAAAAAAAAAAAAAAAAAAAAAAAAAAAAAAAAAAAAAAAAAAAAAAAAAAAAAAAAAAAAAAAAAAAAAAAAAAAAAAAAAAAAAAAAAAAAAAAAAAAAAAAAAAAAAAAAAAAAAAAAAAAAAAAAAAAAAAAAAAAAAAAAAAAAAAAAAAAAAAAAAAAAAAAAAAAAAAAAAAAAAAAAAAAAAAAAAAAAAAAAAAAAAAAAAAAAAAAAAAAAAAAAAAAAAAAAAAAAAAAAAAAAAAAAAAAAAAAAAAAAAAAAAAAAAAAAAAAAAAAAAAAAAAAAAAAAAAAAAAAAAAAAAAAAAAAAAAAAAAAAAAAAAAAAAAAAAAAAAAAAAAAAAAAAAAAAAAAAAAAAAAAAAAAAAAAAAAAAAAAAAAAAAAAAAAAAAAAAAAAAAAAAAAAAAAAAAAAAAAAAAAAAAAAAAAAAAAAAAAAAAAAAAAAAAAAAAAAAAAAAAAAAAAAAAAAAAAAAAAAAAAAAAAAAAAAAAAAAAAAAAAAAAAAAAAAAAAAAAAAAAAAAAAAAAAAAAAAAAAAAAAAAAAAAAAAAAAAAAAAAAAAAAAAAAAAAAAAAAAAAAAAAAAAAAAAAAAAAAAAAAAAAAAAAAAAAAAAAAAAAAAAAAAAAAAAAAAAAAAAAAAAAAAAAAAAAAAAAAAAAAAAAAAAAAAAAAAAAAAAAAAAAAAAAAAAAAAAAAAAAAAAAAAAAAAAAAAAAAAAAAAAAAAAAAAAAAAAAAAAAAAAAAAAAAAAAAAAAAAAAAAAAAAAAAAAAAAAAAAAAAAAAAAAAAAAAAAAAAAAAAAAAAAAAAAAAAAAAAAAAAAAAAAAAAAAAAAAAAAAAAAAAAAAAAAAAAAAAAAAAAAAAAAAAAAAAAAAAAAAAAAAAAAAAAAAAAAAAAAAAAAAAAAAAAAAAAAAAAAAAAAAAAAAAAAAAAAAAAAAAAAAAAAAAAAAAAAAAAAAAAAAAAAAAAAAAAAAAAAAAAAAAAAAAAAAAAAAAAAAAAAAAAAAAAAAAAAAAAAAAAAAAAAAAAAAAAAAAAAAAAAAAAAAAAAAAAAAAAAAAAAAAAAAAAAAAAAAAAAAAAAAAAAAAAAAAAAAAAAAAAAAAAAAAAAAAAAAAAAAAAAAAAAAAAAAAAAAD+/zYAbABGADsAPAArAEsATAA2AC8AFwA5ACoANwAYAEAAGQBJABsAOAArADUAQAAgAE8ADgB7APr/qQDm/wABaP8uAdcAPgGlAd4J1Qhl++UOiw0jCDAJ7QQ+C7kJ9goXCUMCZAJ7BQsCLQWbBXL/EwJ4AG7/JAOA/lEEhwbY/rf/9f6U/m8AsQF4AQsD4/+p/5ECUP7CAQMEl//vAYwA7v9JAXz+ywDZAIMBwgJNAq/+DP+kAIb+HQSFAl4CmgPo/bf/cAAL/8AC/AGo/3v/FP0R/sr/UP7a/jH/kfsf/TT88vpy/vv7jv0K/iz7cv3e/ED8Ov9Q/j3+DP8B/gD/i/+F/tP/+//3/d3/Tf4q/r7/Wf7q/1z/Sf4c/6P+Vv4Q/3j+9f1A/iL9mv3//UT9nf4s/iX9B/4U/ZT9ZP7E/Xr+p/3U/YD+aP5D/g//Nv/l/sX/9/52/5L/LwDJAOv/v//Q//L/UwB7AOr/Mv9I/2v/MP9L/5n+Wv53/ej8Cf2w/Aj8zvv2+nD6e/nZ+DX5QPgh+N/3CfhC9+H2MPdS98X31PfI96v3lfjS+WH63vpq+/b7jP0p/jL/2P/AADwC9wKVBCIFtQZDB7wHYQhKCU8KdwqMC8gLKgwVDF4MsAyzDKgMJwwxCo4IkAacA64A7f5B/rL7EPgC9BbyefA5777s9OgJ5YLixeHT4Erf8dwG3KLcEd4J3mHf3ODG4k3lqukL7p7xzPbv/K4DoQiYDkEUBRouH9ck1ijmKyUv4TGJM6wztjTCM9MyFTB1LV4qRCZkIocc+hXMDg0J0ARk/5n3lO986gDnyuMx3/rZ6NRj0ZLP2s08yqDFKMOCwa6/C7+kv2i9R8Jg0yLkaOD/1sPe2PKUBHAOYhJbD1IYDTBMQ1lAKzlNQWtOMVSuUUNPzEu+SVNJMkMMOP8zBDZPL/oeGRT3EQUPvAdU/Ajx+Oqe7U/uz+QO29rZLtuF2EXU8tDuyzXEOcLWwK69PLeHuFq9IsFRygbSqdO7zOTYIu3q+Hj7FQFwCxgT6iSiNq496Te5OqpHAlLWVKBTf0+wRxRFCEfJRdc73zKjKtwhpRvRGdEV4ArDAE/7rfl99+n1G/OR7SPpHOhG6W3paOce5M/cXNS40CTOZMlEwSC/Sb4Lugu3f7/nzZrN3cacyEXYwOY28/L8d/50AV0SwCpwNlQ1gDNSOZ1GclMHVcdMAEU2R8tK3UepP6E3UDAuKLsiNx0sF3sQAgoxAi/8jfuW+733rPJq8Djvle397A/sRumr5YPfJtfjzfzJJsarwvm8+bcYshivqb5JzNXI/rfXwMPYD+ki8Mv0ivl1/nIYFi+YNTgukTLoPg1L8FICUR5NBkl7S29JfUV7P6I7UzHkJPEe7x2+GkEQjAZY/t79mAD5/1P3DfCU8uX1oPQp8ELuKeuE6GDlgd0d0nnLGcrIwOq30LJ7tb2ueK/Nu8vBSLrctdvMsNx65Unqc/fl/hwM4yRMMuYzgTENP3RLkFXCVXhQrkpJS3NPa0tLQn05VDRXKpAjNR+aGtEPeAaqAVP/CQDy/nL5uvD18OD3hPlX80fvIu8a78zraeZh3JnRscqCxbO9/LXFs62xGag7p3e5UsOHt1WxYsmZ3Mrjwu2p+4z/CQsBKqY5EjaLM5FFwVGiVdtU3FMBUMZMI09NSqFCJDkLNKcnhR/jHI8YAw0dAfH+dv5t/7f74fWN7wfy//lv+YTxse758G3wJe1c6Crd7s9DzMXH8r09tSyzOK/Fog2oC7zYxN+ytascx5LfkukC7Az3lPyhD4AvOz32NeoxPkcSVkhZKVTzUIxNp00+UR5Lhz3eMiUwSSjxHlAYXxPxCIoA0/7O/uT85Plt9zL0nPW3++n8gvbU8sL2APjh8vjqfuHI1wvPTMuHwc+1BqwprHOoaaTjsJu8+rSIp5y+6tzN5l/lWvGKABQP1CqSPAg6fzLIRada7V2eU0JOwk9pUIdUdEy7O8ksci9ULvogBRTTDeQJ1QJdAVz/APz0+Dz6+PmL+Mz7mv7x+pv23PlE+7/1/et64pnaDdI2yq29gbQkrcipKKS6n9iqPbd/triozrZ91efn/+gN8FABdxGVKY88ZEDNORRGIFp2YPZX31GxUHRO50xrTNRDbzA1JZ4kgyRtGIwNuwOb/iv/EwNpAOb2TPVJ+Sz/e/9X/xr7TfjI+p7+A/p97p3iRN5w1ZPLYL+LsvqpiqXdp+Ocwqfvtee1wqRns5La3OUY57HungRaD88pdUHZQbU4RUTiXV1iJFn6T/dOxUvGTtZNkz5CKaIi3CadIQMVDAkmAj79Sv/rAmv+m/dD95H8hv9SAfMC1v67+kb8PAL+/Tf0A+Zl3ITUeszPwUyzJ6tgodigNJ0dqMyyaLENpXiuxdVv6a3pXum7/1YUySzTPyBCODtjRCNeiGWmW85Ovk4CTPpM4ktQQJ8qdR66IjQhXhecCIMAiPvb/iQESgGY+Cz1SP2pAoQEgAOkAAf99f3xA4f/fvSm5enc19OOy2LAyK8Xpm+jS6T1lxGdgLBBt9ClIqpc0Jfnzemk7yIE/xC4JwRDxUonPlBEnl0bZ6Jb8E/ITAFKKE1iTMw+FSY4HnkjDCOqE8kEdQDk/rYBkQJUAJn48fnnAAgFwASeAwIDvgAFAgUDw/5k9R3plt3O0bjH5b1cskOnMJ7CmsyVDp+qsFaziKGGpmzPFuzL7KnsNwDpFN8tL0UoS55AdEbuXzBrYl/lUBlPVEzZSCdH3EEKLiUbHRnXHUoY5QnG/rD4Z/tmA5IGI/2G9d36QgZZC9cIRQN1/44CZAgSBrf2iuXS3YHYis1Mu+mqbqK0oIqflJPvldSn+bHvo3mnzstI5PHnGu8PB8cVjirrRKxOqEWYS29kd2tHX1JUJFTwUIpO4EjCOrsnrSBaIgIbqQz1AYkA6/1F/K78ffxh+i370f/JAZsDjwY6B48EmgLsBBkDaPq86dHe49elz62+uKvroxqg054uk7ebuKwXsFOf16cK0mjnZOfL68gFKhinL3BGw0rEQapMsGe/bPBbe06/TqxMEkyJR8g5gSNRGwUfIB2qEGoCZ/zu+hsALQQ2AYD4dPh2Ao0JzAkCCHwGDAQRBjALDQcq+b7nweAw2WbNjrvOqbafiZw0oUmVEJS2olKxY6YxpynLj+Xe6RXuhQixGhktuENWUE5JUkvPYpVtmGDZTm1OmE6pS2JEDDeIJHkaWh5ZGgAM1P7C/UP+kv2P/hD/Gf1i/CICQwZKCIIIeQnSBesEZwfzBrD6y+fR3I3VOc5Ju76q3Jt4mpCb+pSeliuka64UoEiqm88t6fnlEe4GC+YdgTCeRRlQkEb3TmlnQG77XIVPoVCUThFK3EFeNOghjRuuHb0XGQkL/0r+qfze/EL/kP9a++b7oQJaBykIvAegCDIHFwh8B4ICG/eE6f/frtKEx263sKogn6eZr5Vhj5+cp6srqw6bhq2l1lzrAepo8YMKxh9mOVlLaU0SRh9Uu2rdbCdbxU4eUCxNs0cDPvsxniFyG1caQxOYCAsBWP7A+WL7bQCuAjb9lfuLAU0IYgvjCvYHrgUvCUYKZwJx8rnlndy00aXCUbTmp+qc95hdll2TLJomqu2q7KEqs63Y1ewh7Rr4LhAfJ1E8w0yrTnxLBlgNa0RqPVj4TOFNpFD1SRg61CjDIOofaRqkDmoDwf8N/5/9tfxw/Vv+Sf57AFUClgV+CnsK5QW6Ay4INAie/pPtlN8R2mfT5MC7qvue0J7mn4SXmpJTnCGti6tyqdC/vt5H7MvwXwMRGEAsqkCHT7JNe03ZXVdrLGSnUrZLO0vzSjFE9DZQJdEbGRzMGb8OSQGZ/br9uP+WAIsA5v2f/VkD4AecCpgK7QlYCFAKngpxBJn4J+wy4dDVX8msty+o3548oGaZsovdkLap/bLrnkmknsuL603t8/HqByodhjQ9SzxTNUm6TslmR3CsX4xPmE8iUKhIuz4qNCQlJRrfF0EV+Anf/4T97/v8+jv+igL3/sj6l/5xB1YMjwhQBBoEjAi1BwQBLPNi5PDYI9HzxnOz16S7nDKddZQLk1Ghxa1tpvqfir4O36fqFOtH/dQTqiceQEVOYEuGSBdcoWyjZY1T0EwkTYpK+kTxOrQrpBxzGdwZWBPbBWL9mfzJ/coAvwGk/pb65P0kBjYLYgnwBCIEAAfHCSMGg/pL6Cfcktaezgu8SKkjnhSbdZy2lxOZRKFaqxinaa//zYnmPeuW8FsL0CF4M+NCBk6JTHZRhmO2aRFctE2pT7xPnEZbOgIzLCe6GkEWyBQcDc8ADv3w+zL9Ef+QAQ7/UfvV/ssGvgx0CJ8DEQNQCMAHJgDY8AHiPthE0JPFSbKKpl+eXJ3jk6iT+aJsr6KpnaGivbXe6O4g7wz9thLRKG9BHk6VS9xHeVlVap5lVVMbSyVK/EdqQ0I9Ly1TGVQUZhkmGE4HZfut+Nj9owPnBNT+8va1+4gGhQ6JCSkCGgEMBjkJQgNs9ujkv9gd0oPJLbhwpSicZ56LmpuU3Jz4rIKqVaCxt5PbT+rD6Jf5ORLDI7Y47UtQTsZHW1X7aDJo6FViTZ1OOExURAc8+i8tH2YZIhrpFW0HpP4b/Rn93/5gAA4A1Pp6+4oB5wjYCFAEfgJgBBsHRQME+YLogN2S1rzM67l0qXyjyKIGnU+UXp3xrAquuKLQsijVIOiu6jb1JAvBHQE20UiKSlVEi1GbZkZnflbiSwxMakvMRp8+iDHfII4aoRvQGMsLQwDq/Gr+AwKtA2IA6/pR/CkEPQrYCXEFTwJvBKcIdwfW+1vr4d5Z2pzRFMAgrvyjn6EXnpaXHpnGp4mvcaa4qh/LuOYx60PvOgTtGnovdEOwS9dGSEtjYEpqEF0pTeBM104xSTI+jjPeJ7seQhtZFtENxgO+/979Uv6q/18Aqv6V/J/+eARcCKEHAwKOAbwF5gXr/OXup+R32EXPF8O9twWnRp/En1ecH5t9pDmyrag4qGDFIecr6/Tp5P9rGUUrGDwlSpBHykdxWUdpe17QTDFMplFPSyU+IjZLK3UgqxuJGZAP3AMKAQ4BlP6F/Gz/2f9s/FP72QEgB7EFKwGOAOED0AFS/FPwTOPI1krQaseDuVqrdKBZnqCb36HIqiWwzKZqqCPI8+U57QLp/PoNFUUsHj0NRIlCmUUjWc5lB12RTERLv06xS+ZAcTb3KQ0gEh6eGqkRvQQ4Afr/V/8B/67/Bv66+mr85gGsBXgEawAw/xgCQwOD/ETuCuK82pfTSsSDtLuosKavo5+d9pxYp+Cw0Krerx3HcN+Y5uzungEDFKomnzk2RXxDKUidV/9helk1T+JMck6TTBxBTjKaJdQllSPXGO8JhwP/BeUDFP8i+hT8/P1sAGX/J/1V/ysEUwbmAcH+RP1S+zryvuXI2IDOxcOxuZ2uR6XSod6diJ9zqUq0lax/qljF1+X87O/pl/uNFSoqDjklQ31CnUUkVoJjxFpKS49KvFDtTDg9BDLTKeMkIh9GGCsOIgUCBKgCU/91+/v9BQD9/tv8Hf8FBAoFNwM9ATUBuv+s/CHzROQL2KDRF8gPuTWsRKiNpeycspwfrB64lqz7pyHEp+Xx7W7spPuBEaYlzTo9R3NCWEBcU2JlaF3oTMJIdE65TEdCBjWqJ2YiySBFHNsNfANbA40EcQDG+3D95P4//w7+L/+6AYUDzwMiAhkBxP7I+53yNOVh29zSCshVuXav7qg2peafIKAnrL60zK/PrJrFueH165vtSPz8EWskTzjNQqpCuEJUUyVgkFrvTNRJhE//S4BBtTICKkwkZyLCGpgN0QUfBc0FVf9a/NP88v9G/wX+qv7tAIIDNANCAi0AYv9++oLxlubA3DTSucZduxSv2KZgpZakzqMAqUWxC7G4sXDFed+o6/fslvuAE6ImjTT2PopDOEU9UWBdYlouTZJLwVLgTQg8nC/6LkMrtSCEFEgNLgmQB0sEE/1g+FD7GgKBAEz5yfed/8QEUAIS/Z37C/zt+TfxneLq1xDP8Mg2u1WuE6fipvekxKO+sH+2ELA5ryrNMehH7HHsOv0sFrgnqzgHP/g+DkIHVMlfblbiSFZIvlAoTOc9dy/RKGEmRiLxGOAL9gTIBBEFbf/7+Xz63f1//in7qfrC/acA//8+/sH7/fi/90nwFOKo0vrMdsYgu9iu4af0pXGjGazss9S036x7uF7VMehn687tFQPqGMAsdTdOPDA+ekaWVsVah1G3SJpOAVJpRug1ADBoL6UosxwyEs4M6glmBxcBJvrm+PD9lgAk+1319feR/9MC7/0N+cX2Cvlz9pnqbdv/0RXP7cLvtP+qm62+ql2mj602uCG4d6++wkrecOu06a/1Qg2gHZYtcTgKPqI96UmEWL9XRUu3SHRQh0ywP4k2mjM7KmoiRB2jFs8MPwceBvMA+vwA/ST/o/uy97342f18/sb8Kfpl+Gz3/fbO8a3h6dR50EjOLr+qraGp76+asCys4q9TuMG6CL6zz0XjAOw079z+mhRmJNktwjWaPC9Ce0t5U85Pa0cnSqBO1kZONnoxuTIALuIi1hjzFPMRMBBjCvgCyv7XAS8FOQCX+EH4R/3B/5T6bPUY8+/zLvIn5xbZUMxbyWfBBLShqeuqHq0cpZCpLbnIwgy7osF33ibzZffU+hINlhymKlU4UT0nOkI8WUyRUSNJSUQFSVNF0zYUMWMzyS76II0YcBbEFgEVGxGwCD4DyQgEEFwMNP+O+mYAtwVvAqj6Y/Te8RLxouvg3ojPFMWUvhC3Ma7oo6SePJ8zp5ev/LO/tjm88c5K5tT3x/sTA8gWUizBOV88JT7sQEFKq1H0T/hIXEUAR5ZBRjYQLf4rqijaHb0TeBHvE3oR/wo7BK0EoQkSDIsGXP0t/S8C5QV9/1z2SPE8863yrea61cLHR8RhvPqxWKPyoVmlhaOhpPitr7w3ul/CtdmN8RH3UP0wE5cjpS73N1RD1UJ4QwVNpFKrTihJr0m/QR42ETL1MyQsGhxEFDIVnBaeEWsLbwR7AjQI+wx5Bzz7pvk+AHgEUv/u9XXxMvKG8l/nQtdjy+HGS8DasZyja6Hwqbqo1aIlqda5tr8bwU/UG+ze9tr71g1fIbMruTUoP7xCEkI3TC1T5U7xRpFHAUkOPDYx2y1jL/kj3ReVE+gTChTQDjUJBAKFBA0K0QoGADz4ivyCAuYAjfex87fxiO+154PdDNGLxMm8UrUirTCkZKRcpQansK24tiC93sHz0o3m6fU7/zUKFhkhKXA4kz1oPhhBhEuqUE9OF0tpSB1FSz3jN68xjSzVJRIeFxeiE98UHBKwCs4DDwb/Ce0H6P9j+rz7fv5R/if4t/Ee7jHuteeL2nfL/8ScwMy1FKsapROnQqTGqRW0abrIuVbB+9m77HD2SPzGCvQaiSqdOCM9CzxEPi1LZ1LmS95FN0eESKM+SjOXL5MucykxHlkWNBRUFm0V6w09BRwEYQpqC7MC2fm3+TT+mv75+Jjv7epP7KLp5toDx4zBmMAYuJOpPqR/pkylTqvHtnq8qbj2wYrdivJS93b6wwqoHhUtrjdhO6U6zz59THRS0UtPSKZInUMoOSo3azfbLvwgERoCGwsbzxfaEA0JGwWUCkQP4wfs+m33pP1nAZr7vvHY6sTryew/4xTTtMXnwfO7BbHfp5ilkaewpq2rP7VevK7Aacus30fuevg1BHoTth+FKoQ3pT1lPrFB5kq9TrNL5UkUSItBnDhXNV40ki14IroaABkHGUgXGBIaCpEF/AeECwkGjfsy9975UPwY9/Hvzurv6Kfkw9vi0AvGuLxjtPGtcKgmpyWnC6mkria5HsFvxhDUUOca9WT8lQkwGs8lbi6oNyE90j9hRRJLR0qeSVZLaEaoOnozVTcUNi0qjRwDGQscCBwMF3sNhAYfB48MNgrD/mT2Mfet+6/5B/F06fXnZeeN3mXSosdEwWq5orBgqQOlLKj4qPSt5bTkvmzEyswj4afxXftMAdUR0yD0KxE0lzldO4E/HUkSTA9KlEe3R1Y+/TZMN6s4oi7+H2AcDx79HrEYthErCkYIAAzqC1ICgffG9iX67PiD8e7poeak5T7gPdOux9jCjr1os66nCqSfp/Ctaa/asGq5H8Yb0dTcLe3J+X8CJQ4wHuUpWDEGN1A74j59Q4lIOExPS8xDqzoxOFY7djnFLsUhAx0CIPchxRzMEooLEgvVDskNggRU+gv3xvjc+R/1++mg5Nri2eGL1lzHfMEvvUq086Wio+Oox60JrDutxbc9xf/R0Nw/6nH1PgHAD4sfvSi0LcMzuTrmQKxEyke1SsdJVkMoPTI8ljxjN3wueiW/IS4i7yGkHAgUmA5rDmsPtwtCAyr8i/ij+ED3V/Gz6YHkoeE73HrUJsnVwD+1Rq/PrPuocal9p1yqsrK0wenMVtDA1xTqtAE0DMQPZxj0JQQz3zl9PKU78EClSNVMfUlmQvQ8HToNO583rTHvJlki2yONIfAcVRdCEs8OXg0VCmUEUP0h+MT2uPS77WboEOTE34fYIs93x0u+aLY/rsCofaZkqjWuaK3BsYDA1c+z1Rffpe9d/u0IRBY7IRsn7y2HOAE/DD/vP7xE0kr6SAxDnTpZN1Q5kznVMV4lTiGvIxwlTR81F1oR3g4rDkQKtAI2+qT2nvYE8+7pY+Mm4R7ddtQLygXC2rjksYyszamkp5mnN6thsG+7Q8e10PbWDOXp+BEGag4nFgki4CosM+A6cDxIPXxAFEoFTVpFoDpCOew9cDtXNPgqnCV2JAomXyMhG4UUshFLEIMLFQXa/jL5sPQ/8afsfeXy4VHektb4y3HDHb4/tamsnqfUp/mpvak3rXS29MLtywPVA+F472L9awr4FXUbtSPCLuw4BDqjOyU/lUQQSexHIkNyOrY55Tr+OaExNin0JiclyCN+INobyBRPD/EMRQgaArv7K/dE8sbsKOd54hbeQNh10MrGNb+Ity+xi6pfprymD6sUr/ixQ7psx3HSU9uY6er4oAJMC34Y8iMHKucvETcSO5A9XETTSyNKDUFlPKU+0z8NPIo0SCxtJwgoXCgbI7obABc0E6oO7AkdBHH9zfbM8lPulOhY4+vd19YDzwzKlsSLuVGuXKh0qairpKyvq6qsQreGxk7SJ9ew4djw/QA4CPsQMB+HJDotMTVkOAo7S0O0S7pNIUVXPcdAfkS5Qis6EjDdKtwrriviJdwdBBlNFZkP2wiLA4b+Fvme8lXs2ubt4RbeM9gt0V3JEsOzutuyeK2yquasna2XrLytC7iWxjXOytKD3UnuzvpKAtkLFhfYH+ImWS8RNn45TT+qSWZOfUjxQeFCFEfJRdo+czYCMTUv7CyCKJQibh1eGN8R9wqNBO3/JPuU9B3tdubv4WbeadqX1G/NDceSwJW5EbQ9ssqyzrEhsc6yj7iBwWjK7tG42KTiPO8/+TEBpAkNE5sb7CLlKT8vojaSQJZI0URkQs5DvkVRSKhBwTxhOPkzSDAbKysl+h8aHKIVjgu/A83/gfub9ZPvLusd5p3ieODc3ZDantjL10bURs+ny9HLrswRzNvMdc22ze/PYdUW2mjdU+IZ6I7s7+4V8wj4I/zj/1oEbAkCDhYTkhj1HLsgciV0KjgtZi4xMPkx1jL6MuUzXzQXNKYzBTN0MXYuhyvqJxQjtR3MGJ8U0w9CCk0EfP5D+ffz+O0c5w/ggNlJ00jN3McMw0K/Xry/ume52LgIuSS667vWvUrBGMXMyZ7O/NSz2x3jEevM9O//ugr8FC0eNig0MVg6TEIiSRBNUk+RUQ9TyVOCUxhTxFAETVhItELiO540my2WJU4c/BKuCc0A8vfJ78vnoN8D2KLQhsmWwgO9bbirtKqxhK+vrrKuza4Hr0ywZrMxt7+7ocFPyJ7OCNVP3QXmd+/N+OgEKhDJGXwj2S1vOP8/oEj7T35UzVTfVa5XNVdaVttUU1IwTX1In0MFPJszCyzmJGEcZBMWC3oB+fcm8PjoIOFN2fzSV8yJxbK/aruct2C0j7IesaWwwbAysWyxIbMJt3m7icAEx9DNZNMe2rfiVet18y39YAntE2gd0ia4MCo5yUAMSQxPAlJgUlJTKlNVUpdROVBCTaNIhEQTPwE42DDhKaYilxrJEm8K9wAy+IPw8ugi4VvaDtQxzc7GOMG/vMC4KrYutKKygbK5sn6ycrK0tFy4obwXwu3IEM+m1PXb7uTe7J31P/8ACz0V8R5cKH8wejlkQAJIBE2PUPpQPFHqUSBRRVBSTqhMikgdRCY/QzjiMGMpuyIVG54SZwpXAWv41e8w6IngT9kI05jMVsbuv3a77rc3tUCzNLKzstaypbIJs3m1L7mnvcPD2coq0f/Wkd5C5z3v0/cdAnsNQxe6IP0pcDLwOVRBf0gRTaBPt1C/UZhRDFFZUL9OMEy7SIpEZz4GN8kvdyjCIMoYwxD3B4P+nfUQ7d3k9dwx1oLP18h3wui8cLj+tHSyh7B2sHyxeLIZskOzRLZ6unO/EsZqzdvTfNpi4oXqtPIl/AMHWRIOHAcmbi4NNzs+HUX2SiJP8lG8UuFTMlNfUtRQG0/uS5ZHHUN/PD00nyu+IyQcvRNBC2YCRflD8FnnKt9W19LQb8pXxDm+9LgztTqyabCXr9Swr7KIs9azjLVGuR++2MN+ymrRcNjD38/nY+/n96cBKg0fGB8iOSt4M6w7yEG5RwhM608gUnZTTlOUUUNQfk7WS2pHKEMNPlE2RS39JHgddBXADI0Eqvvt8qXqT+IC2lHSTsx9xrbAOrtBt2a0GbJDsQCy0bNktRy2Zbf5uSi+WcM2ybrPe9Zm3ejkAO3w9U//9gk3FXIf4SjtMBY5MD9rRM1IgUxaTxJRoVHfT4JOf01/S8lGEkLoPYA3wy4WJsoemBd0D+AG+/0s9SLtzuT322DTgMxDxrm/OLkhtTe0+bO5sh2yaLTDt0m5lblJu7i/78UdzAfS0tjv4IzpiPF5+UcDeQ+XHA4nDS/yNRM+7UOwRc1FsEeOS6pNUUx+SAVH5UbKRRZBiTuFNgcxEyjEHYsWtBFhDPoDovn473fp8eEh2I3NWsbMwBe52q/HqaSoeKkVq3Wuy7NFucG+0MMxydjOxNeq4lfr7+/588/7oAYiEhwd8imyNiI9eT5EQpNLrFHoT8hMREyKSphD1zoyNQQ2YTd6NF8ruiKsHe8VfwqcAFsB/f4a8yzk39lR1trSG81oxPO81LbMsKqoE6PmoympY66ssp24fb5RxdTOu9u/6On0bwBeCrAR8RceICgqYjWJQFJKq04qTMFIRUsqURRSkEzFRmpDcT5zNfsrGyczJq8ifRjrCl0AiflU83bt0+m05pjf59RnyzbH7MWHw7G9m7V7raanxqYtq0Gy8reVvSDGlNDI2M3fR+sr+zMJfBHVFkwdtiXxLWY0Zzq+Qt1KiEsKRbVA50O9R9dE6T0hOU82LjEsKfwh4R4IHSUX1wv8/zj3HvE87Ezo6+PF3LfUk86TynDFab9suaCzva0YqrGrD7GBuCe/QsYtzyraz+XV7236+wXjEP4YSh8dJj0siDGdNlw8mEHRQ/ZCBUDSPVc9XTzjOFU09jDILewoJSNBHicaLRVVDk0FzvuI9Nzv6utN5h/fB9ch0WPNEclmwdu45bLwrYmpIanQr564rr8CxgDQVtwR6IDyQ/ydB1gSWBukIdAnzy4uNB84rjs1QIhC3EExP3o8rDpGONA0bjClLTorWCdGIrYdUxk2ExYMSwQy/HD0nO4r6mLlNN9P2PHRYc1cyUnD+7rmsZ+r+6dlqQ2wMLlEwmXKi9UE4ajr9fXUASwOFhcwH2kmrSy5MI00yjjZO60+MED0P1w9KjtKOVY2MzIPLvkqCSgtJeggxxv0FZ0PfQcG/v31hPDn7LjoH+PY2/jUbs+TytnE8r35tfetFqlvqNGs7rM2vl7Jd9Ov3WTn1fId/RgItxLGHOgmdC3mMeczxzeCO9w9Cz+dPk4+XTxkOos2tDLoL7Qt+CrxJp0jUB8UGtISnQo1ATH4TfEn7MvnVeJ53E/WBdGCy0fFN77zthCvPqi7pHinka+dujnH29EA3dbmj/I2/dQF1A3BFVshbCo6MXQ0CTlkPf0+sj4kPRg+oj2LPGg4vzTXMeQuJys1JhEjtB8OHMMVVw6/BST9MvV67lnpM+Q83pjXvNLizlbJV8Aht7mvZKoqphCm/KsQt3DEz9DS3ALnc/Ke/YsH0g5eFlYi7iy+MpUzzTYPO248xjrEOAk6XzsrOzs4eTXLM1wx+yzCJ6Yj0h+rGw8Wog4RBb37HvT87fvn4+Gf3CLYkdMhzSXG/77OtySufaWjoZakHq3Et03F7NF24BDtQvd0/jwEFwzVErIc9SXWL/k2YzxyP6k+oT0XO346oTj5N4w2bjU2NP8wWyw+Jv0hGR3LGIITYg5oB2T/QvdD79ToZuK63LXW2dIbz8rJCcJCui6yoqpFpXOlvazdt07GSdM04qHvM/vZAlgIlA9iFqwfeSeIL9g0MjpMPX08uDleNiE2bzQRMwMxkTH9MfovcSsmJk4iAx0UFwwQMAquAsP6I/Np7WTo+OG62w/W2dJkzmPIXcFCuryyr6tqp02oka4guqLIC9cu5mfzL/9zBoELXw9gFI4cmySFLHczlzuFP4k/zDznOeY28jJKMAcuei7KLk8uDCvPJrAhfhvhFGANFgZy/m34cPJs7YfoTONe3WrXrNICzZjGur9quaayY6zeqO+qPLKuvHHJRdhi6JH17f/KB+QN3RHlFfobGSMgK9kyVjr1PvJAxz+cPKE48jOxL2ksGyxILOIr6ClWJ14jjR1NFpAN0wS3+yD02+0g6r7m0+J03hPaSNWEzkHH9L5stwiwFqvWqMur+LNhvz3NxttF63/33AEuCWMP9hMgGWwfTiX/K4MyEzq+Pfo+iD33O6g4ZzPgLlIseSxvK4YqzShRJwwjtxz7FBYMigKW+Mzwvurd5vTi+9+D3ILYOdMQzZXGwL5ttqCupam2p1KrFbSKwQ7QTd9w7pr7gQXVCtIOZxIfF3YbZSJ1K6E1kz3ZQR1EvkM2QYA6szP9LQArRym6KOco2CgNKJwkCh+zFkQNBQIv9xru/Oc+5KbhPN+j3Bvax9V2zx3HJb4BtRStRqdYplWrb7XQwhXS0+LI8SX+kwYZDDkPChKgFXIa2iHPKkw1tT1+Q+FF50W9QjA8FTW/LtIqTCifJ3An1ydYJ60kOx/mFsYMGQGk9bfr6uSl4NvdFtz82ifZb9UF0AvJrcBPt+auUalNqPysCbfNxO/T++NF837/SQf/CygPKBFnE3AX9h4cKNwxpDqYQbZFj0ZURDE+xTbwL2Ur2SeBJcokIiXnJHwiKh7yFicNPQHZ9dXrNOQw3z7c7tpo2vDZBthh1GfOo8aUvXO1j6/rrRexbrkExtnUYuRO8i/+FAbzCj8NSA80EVkU+xkoIg4spTQcPCtBB0R/QtA9sje/MUAsYCeMJBAjwSKwIQUgBByrFdYMXAJ/93rtD+bQ4Ofdf9ym3JbccNtd2LHTFM3NxAC9SLcotaW2Kb2tx6zU8+Fa7kX5EQGsBSAIJQoADJcOmRPfG1Al4i3MNYw8b0BeQHs9KTnpMxYuJSkSJvcjLCLAIB8fbxtdFZcNKgQE+g/xMOoa5cHhH+Do34jfld7p3NzZmtTMzWvH7cEQvue8n8DOx73QydqD5TjvJPYy+8n+TAHmAhoG4gsiFLgcnyWxLiE28jr9PAI9KTrHNQMxEi2UKcAmgCTcIuggtR04Gb8ShAp2AUP5DPKW7IroF+bf5Brka+NC4jjgJdy11uvQqssZxx3EKsTmxznOmNXG3evl6OzJ8ZD1b/ii+tb8hwDEBhgORxYXHxkofy+3NKE3mThlN0Y0oDBRLWcqcyd2JdQjriFaHoAaIhVJDv8GSwC7+pz1yfEK7yLtK+t36YrnfeTw39Da6NXS0BjMocgiyIDKSc9f1fvbqeE45r7pHOxa7YXu4PAA9fn65wFuCqQTphwoJGoqny6yMPYw1C+wLYUrCCryKH8o5Sd1JxomjiNGHygaqhQfDw8KmwUXAsP+4Psb+Un2sfIQ7rro6+IK3VnXbdJgzvPL8ctazsTRvtRN1kjXVdhD2TPaUNuy3V/hKudc7oP28/65B2kQGRinHhwkwyjjKykuMTAmMlszXjRwNWU2ajaUNc8z0jDZLDIoISOHHe4XJRJQDCwGIAAR+qjz0ey25Zvewtd70fnLZsfPw5DBPcGnwpjEicUrxu/Hgsr/zK/PntOS2N/ei+aP76/4QQJMDOYVex6pJkQu1TOcN946/D2qP45AfUFyQk5COEFzP6c8QTilMnEsbSXvHRYWPQ4sBnf+M/cb8KToC+Hp2UPT0czCxsDBm72cumq5orrrvNK+LsC7wlbGDcqVzTPSoNeV3efkle399nAAvwq+FCke2iaZL4I2KTvWPmdCoUQdRaJFMEbPRfFD8EE8Pwo7HzXHLusnZyBZGBIQyQeY/yD45/Bq6ajhiNry03/NeMdpwkK+8bryuC+5SLvuvcS/0cFexdHJt82z0bzWQtyL4gnq8fLW+2gFbQ9QGVwiYyvHM645tz1oQZZEgUV4RX1FTkWNQyNBqT5YO0E2KzDaKQcjkht2E3YLVQNs+9XziOwC5cHdLNcA0QrLqMViwQe+Yrt6ugi8tb6gwBzCEsV0ycbNjNHz1c/aWuDT5r/uAvej/z8JMRPZHA4mQS9eNjA7ED+UQhtEvkMwQ99Co0FKPxQ9oTr8NtgxVCxaJpsf6xfmD5gHOP9g973vSugC4Z3attQGz9PJhMXUwYy+M7z5u5690b9mwVTD6caTy+/PMNRD2bjeouRs63vzyvu2BBMOsxf4IGMqwTKzOPs8zkB+Q8NDTkPuQhhCyz9tPQw7BDhtMxkujChOIh4bExMAC7QCrfr38oXrB+Q03THXr9GMzAfIS8QHwXu+gr28vsTAU8Kuw7/GWcvlz1TUO9mO3gTkkOoq8gD6GQITC1YUTR1yJjcv6jV9OoM+k0F7QvhBdkGCQG4+3zujOQ03ITNOLjcprSPVHEkVZw01Bf/8EvWQ7S3mYN9+2R3U6s5oyrHGdcOPwDa/u78rwWDC1MPAxuHKNM+W06vYF96V43zpqvBK+GMA6AjfEdwaFCT8LP8zKTlcPaBAn0FxQQ9BY0BpPvY70DlZN6Uz+y7sKTAkpx0TFjcO/QXU/cL1HO7o5jngM9qz1NHPfsv1x3nEnMEOwILAq8HYwl/EGcc/y6jPc9SP2VLf6OT36t/xf/lhAZwJTxIRGwAkdSyLM844Nj1MQINBX0EMQR5A7j0+O644zzW9MQwt2Sc6IqsbXxTDDMsEyPy39AXtieXU3rnYYNNszoDKU8dpxBXC8cC9weHCF8RhxaPI68ys0TXWgttE4fvmGu3b86b7WwOjC7oTohxZJXwtrzOWOK48XT8zQLo/RT/kPYU7WDi6NYAyci5/KXskAh9mGP8QRAmgAZz55fFp6qDjVN2q14zSRM7syijIl8Wuw1PDS8TCxfbG1MgezJ/QYNVP2rTfQ+W36p7waPfP/j0Gww3UFV4exCYHLrszNTjOO8E9Dz52PYE8uTrhN9E0+jHKLrUq+yX0IFgbtxRuDeoFYP6c9v7u5+eq4d7bmdbk0RDOCcuIyIXGR8WjxcbGRMiVyf/LqM8k1JPYXt3l4pPoIe4A9B/7igICCl4RXhlqIQIpPi8iNAg44zoRPN07PDsQOg84HTVVMmgv7CtlJ4QiVh1+F84QpwmcAkj7zPNd7OXl+t+D2qLVrdF7ztjLxMlKyAbIpcjKyZ/KCMzCzvHSU9eu27TgcuZB7MvxKPhE/4EGVA2aFFoc9iN8Ks4vLzStN8s5Uzr7OSg5wTcdNfAx4i7UK9onICNLHjIZQhNzDKYF9f7T92PweulX497d09iR1EXRrM59zPDKacrdysPLp8zDzajP0tLi1hDbet+u5IzqafBb9hj9RwQiC78R0hjoH1AmoSsYMLwzejb1Nyk4tze7NvI0LzIlLwgskChPJHgfcRohFfkOZgjzAXf7rPTh7a3nGeL13DvYhtTN0ZLPrM2nzJfMOs0czvrOJ9Bs0vzV49nk3YjiQOga7t3z9vnCAIYH5A1cFCIbvyFUJzQsKjB+M5g1aTZeNs41qTR2MqEviyx4KZwlICFBHCoXdBESC84EkP45+GvxG+s/5fbfH9v81szTC9EVz6/Nhc3fzZ/OYc+V0GnSFNWS2F7cxeC25WfrGPFK9+X9vQQoC5ERSBixHoQkdinILeUwUTOzNBs1yTT1M3cy/S8zLRkqnyZpIrAdihj3EvAMtwapAIX6MfT77Tro9uI13g/ak9at03DR388HzxzPxs+o0J7RANNd1Y7YNtwM4Jjk1+lz70P1kPskAosIxA71FDQb+iAMJicqhi1LMDUy+DIGM5wymDGuLxktQir/JhUjdR6LGUkUpg7ACOMCBf0l9y3xhust5kPh4NwB2fTVi9Ov0YzQS9Cv0HfRYNKn02TVDdhZ2wjfN+My6LjtV/NF+aX/JQYkDAwS/BeqHa4iHCfYKrQt5i8iMZAxWDGpMC8vzywIKvkmayMhH4QaixVLEKsK/AR9/9T5HvSk7n/pquRK4H7cRdmn1szUYNOx0rTSQdMA1P3UXNZR2DXbsd6I4t/mCuxr8fb2yPzNAqcIRw7XEzkZPh7MIrMmzSlFLBMu/i4sL+Au9y1BLNApCSfrI1MgARxMF0kSMg0ECLYCcf0t+O/yve3j6FHkQ+Cw3NTZmdcK1gHVldTw1KrVfNZM15bYrNqA3cLgtOQ/6Svug/NA+TP/4QRtCr4P5hS7GT8eUiKvJZgo8CrDLKMtBi7LLcEszio1KFUl9SERHqUZFxVfEJkLwwb8AQv98fcB8y7uf+kH5RDhq9352gTZtdcH19HWLdfH13LYL9lq2l3c5d4M4vvlq+qQ7830NPrl/1MFggqKD1kU9xgrHQ8hdyRsJ7cpWytMLKksUCwzK0QpvCbUI3wgrhyQGFcU4w9JC4oG2gEN/SX4R/OW7iDq6eU54hvfu9zd2q3ZHdkR2U/ZutlZ2hPbMdy73TPgReMd553rcvBs9XX6s/+8BI0JGA6ZEtAWsBpKHp8hiSS/JmUolSkzKvopBSlZJ+8kDiLjHlsbkxeuE5sPfQtnBycDt/4u+qr1KPHi7PHoieWT4ifgeN5Q3ajcPtwr3Gnc79x23Tregt9s4efjBefp6lPv8fNv+P/8gQHqBRgKGA7lEZ0VKhlTHEkf4CHXIyolAiZdJgIm1CQAI7kgHB5BGxwYthRIEbsNBwowBksCOP4L+ur1CvJ37g/rTujf5fPjZ+JK4ZHgDeDh3/vfUOCo4EbhbuJf5M3muunx7IHwYfRW+EL8LwAOBKcHRAvbDmASnBV+GBMbUh0zH4ogYiHKIa8h8yCfH/Id6Rt0GbIW0xPkEMgNjgo1B8gDVgDN/GT5//W08rjvAe2b6qToCOe75e7kZuQN5NrjB+R/5DnlJOY659fo3eo17cfvxfIK9lz5s/whAKwD5wbpCcUMgg83EngUgRZKGLgZ1BqaGxkcCRydG84alhnUF7UVaRP3EI0OBgxpCZsGyQP1ADz+kPvH+EH25fPu8QPwM+7B7GDrQ+pv6Q7p3OjV6ArpfulE6j3raezw7djvCPIt9IT2KPmw+yz+tQBoAwMGgAjYChINHg/sEIcSyBOuFFcVzRULFgAWohUFFRIU6hJ6EcsP+Q36C/cJ6QflBdIDpgFx/1z9Z/ti+Xz3tPUV9Lfyg/Go8OHvOu+v7lDuN+5N7pDu6O6R71XwcfG68kP01vWB91H5M/sk/Rn/IAEBA9EEowZoCOcJUQuSDK4Njw49D8YPFBA1EB0QwQ80D4sOsQ2cDH8LPArbCF0H7QV/BAYDnQEqAL/+Wf0M/MP6mPmA+JL3q/bt9UL1wPRc9Bn0AvQW9FX0p/Q+9dj1fvYw9yH4D/kO+h/7Wfyt/fb+VQCYAbkCyQPgBNUFtQZ7BxsIpwgYCXUJtAmxCaMJgQlUCQQJkwgGCG0HuQbpBR0FOwRmA30CmAHVACQAWv+S/tr9K/2J/P/7jPsO+5n6QfoL+hL6Gvof+jv6bvqy+gT7cfvN+zn8rvw9/c39d/4X/7z/YQAJAacBKwKnAg8DegPQAxkEXwSlBMkE3ATYBNQEwQSoBHsEMwTvA6EDVwMBA5wCIgK3AVUB/gCdAD4A0/9o/yn/3/6f/l/+P/4R/vv98/3c/cz9wf3I/cD92v3u/QH+Kv5q/pL+yf4c/3b/qP/Y/yEAUAB6AJ8A3AAAARwBVAGNAZoBqwHbAQECGAImAisCHgIZAhkC+AHLAasBkQF7AUwBHgHvALUAfABVADgAEwDr/93/wv+r/5T/jf9u/1r/U/9L/0j/QP9a/03/av9z/4b/ov/I/9H/5v8WACgAOQBWAIsAlQCuAOAABAEIARoBPgFQAWIBbAF8AYIBjAGQAYoBeAFuAVsBOgExARAB/QDjANMAwgC3AKEAiACCAH4AagBZAFYASwA5AC0ALAAcABcAGQAZABwAJQAfACkAKgAtADEANAAyACsALgAwADYAQQBIAEAATABYAGkAcACBAIwAkwCtALcAuwDCAMQAxwC8AM4AygC2ALgArQCrAKIAqQChAJUAjgCIAH8AeAB3AG4AZgBpAGAAXwBhAFkAVQBSAF0AUQBQAEMAVABMAE0ARwA+ADoAJwAuACYAJQAVACoAFQBBABoAXQAJAHEAmf8jAjcHNASvAGP+Sf/ZAcUBuf+N/DL8cf6MAj0FvAM+ADb/6ACJAr8ByP5s/L/8M/8TATgBHwDx/zQBfgJIAnsA/v7j/sT/AgBW/5v+Q/+zAI4BMAFkAE0ArgDZACIALf/g/lr/4//c/5n/4v+MAAkB3AB2AEYAbgBkAPj/gP93/+b/JQAcAOj/BgBkAKkAggAjAPf/DQAqABcA9v/4/x4ATgBpAGMAZwB5AIIAcABcAE0ATQBcAGUAawBqAGUAcAB2AHcAdABZAEYAQQA/ADcAMQAjACkAMAA0AC8AKgAuAC4ANgAvACkAJQAnACgAOgA1ADMAOQA6AEIAOgA1ADsAPgBCAEcARQA8AF8AmACOAIEATwBaAJYAogClAHMAYwCEALUAygC8AJgAjgCsAK0AnAB8AHkAhgCZAJUAegBsAHMAjQCiAJMAcQBYAGwAiACBAHEAUgBJAEcAVgBWAEcAQgA6AEEAQQA+AD0AOwA2ADIAMQA4AD8ARABTAFUAUgBXAGcAZgBwAHIAcgB5AHUAhACJAJ0AnACPAJMArgC+ALIArgCpAK0AqgCxALoArgCbAKYAvQC5AKcAlQCnAKAAhgB+AGwAYgBUAE0ASwBBADUALwAqACcAKQAgACEAGAAJAA8AHQArACQAIAAiAD4AWQBkAG0AXgBlAHoAkgCRAIwAhQCIAKEAqwC5ALwAwADGAMwA1ADSANEAxwDBALwAsQCzAKcAmwCSAIUAfQByAHUAZwBSAEkAQABAACsAGAASAAsAEQAWAAwABgAMABQAKgAvAB4AGAAmADsATgBUAFYAWwBvAIcAlwCcAJkAqQC8AMcA1ADYANsA7QDqAOgA0gDWAOIA1gDaAOEA3QDRAM0AxgCpAJAAjgCDAHIAYwBeAFoAUwBCAE0ARgAqACQALAAdABAAGwAfAB8AKgA6AD8APQBEAFcAXABhAF4AYABwAIAAjQCXAJUAnQCoALkAyQDBAMQAvADGANMAzQDFALMAsgC7AMAAvwCxAKMAmwCTAJAAdgBgAFgAUgBPAEEAOAAtACwAKAAkABwAGwATABUAGwAaACkALgA4AD0ARQBNAFgAXwBmAGcAbgB8AIoAmgCjAK0AsQC5AMAAxwDFAMcAyADEAMoAzQDLAMgAwQC6ALYAsACnAKAAmACMAIcAhQB8AG8AZABbAE8ATABFAEMARQA3ADIAOwBCAEYARwBLAE0ATQBUAGEAZABlAGUAbgB8AIcAlwCRAJEAlACWAKIAowCoAKMAowCvALEAswCtAK4ArwCoAKAAmACTAIsAiQCGAIUAggB9AHoAcQBsAGMAYgBYAEwATABMAE8ASABEAEkASQBNAEoASgBTAFAATgBWAFgAXgBmAGAAZgBrAHYAdgB1AHQAdAB9AH0AewB9AH0AdwB+AH0AewB9AHsAeQB7AHcAbwBvAG4AcABqAGUAYQBfAF8AXwBZAFcAXABWAFIAVgBeAFwAWABVAFYAYABmAGcAZQBpAGwAdgCAAIUAigCFAIkAjACOAJEAkQCRAJcAmgCaAJoAnwCbAJgAmgCWAJkAnACXAJQAkwCPAIwAiQCLAIIAgwB/AIEAeQBzAHwAdwB9AHUAdgB3AHQAdwB6AHgAdwB6AHcAhACJAI8AkACVAJcAmQCiAJ8AqwCoAKcArwCuAK8ArQCsAK8ArwCrAKoApQCeAJ0AnwCXAJIAjACSAI8AigCHAH0AgAB4AHoAdQBsAGsAYgBoAG0AbgBpAGUAZABjAG4AbgB3AIIAhgCKAIsAkACZAJ0AogCmAKYArQCqALEAugC6ALcAtgC5ALcAvAC3ALQAsACxALAArACqAJgAnACTAJUAlgCLAIgAfwB+AHoAeABxAG8AaABnAGQAYABlAGgAaABpAGwAawB3AHsAfQB8AIQAkgCdAKMAogCmAK8AtgDBAMYAwwDKAMwA0ADUANQA0wDPANAAzwDPANEAzgDKAMQAxgDCALgAtwCqAKQAoACWAJQAjQCMAH8AfgB8AHQAdwB0AHAAawByAG4AbgBwAHMAegB5AIMAfgCHAIoAjgCWAJkAoQCkAK8AuAC4ALYAuQDDAMkAxgDMAMwAzQDSAM8AzgDLAMYAyQDHAMAAvAC1AK4AqQCnAJ0AmACSAIYAgwCCAH4AdgB4AG8AagBoAGQAXQBaAGQAYQBhAGQAYABiAGoAbAB3AHcAcwB5AH8AiQCOAJMAkQCSAKAApQCmAKkAqgCwAK4AswC0AK8ArgCxAKoAqACtAKAAoACeAJoAlgCWAI4AjACJAIIAhAB8AHsAewB6AHUAdgB0AG8AcQBxAGoAawBrAG0AdwB1AHUAeQB8AIIAggCKAIgAjgCTAJEAmgCbAKQAqQCsAK8AtAC7ALoAuAC+ALsAuwC5ALgAtACwALAArgCuAKkAqAChAKUAnQCZAJgAkACUAJYAkwCLAIcAggCHAIQAgACFAIAAewCCAIIAfgCCAH0AhACIAIcAhgCEAIUAjgCSAJQAmgCZAKcApgClAK0AqwCwALIAswC1AK8AsgC1ALIAsQC1ALEArQCtAK4ArwCxALAArgCyALEArgCqAKYAowCpAKsAqQCmAKYAoQCmAKYAoACgAKAAoACaAJsAngCjAKMAngChAJ8AnwCgAKEAqwCmAKkArACrALUAtwCzALcAtACzALoAuQC2ALMAswCxALYAtwCyALAArQCyALYAtwC5ALAAsgCxALAAswCvAK4ArQCuAKoAqACnAKEAnwCiAKQAoQCcAJgAnwCeAJoAmACXAJYAmQCZAJkAngCfAKQAoACnAKMApgCrAK4AsgCvALAArgC8AL8AwADAAMUAyQDLAMkAywDQANEA1wDUANkA1gDXANEA2QDOANMAxgDPAMcAzQDFAM4A3QDTAOUA3QD8AOsAKgEKAVoBPQGUAYwBzwJGAbkH2Q/tBs4EKAZpBdsCtQCtAdoF9A3kCrQHvgeZBNgBSwHtAXj//v53ANIAOwLWAawAzQHeAi0DUQIwASQATwEPAjgCRgNsBFgGZAXpCPMKZggYBaYC/ALEAAUBEAJKAZ0BlwHKAM8A1gDY//3/NwDsA+UHjQc9CHkIPAgtBs0DxALiAAABGwAq/XH8ffvC+Y74Cvg3+Gz3s/dY+Nj37fds+Ff5vvn1+U78fv09/sz/K/9j/yb+tP9IAdP+P/9a/z79nvu7+3X6xfi8+L34jPht+Hv4s/jZ+D361/pe+5/8mP32/h3/XQAFArsCUgODAz8DMwMCAz0CQAG+ANUAAADx/pX+Zv6C/X/8Evzr+pv4Bvd99OTxhvBA7xPufuxg7C7snOum6v7pB+st7APtNu4v8PTxpfO59Ib28Pn3/YkBwgMgBuoIoAtpDVsOzw8oEVsSXRNREwETLRPXE/ITiBMqFDgVvBV8FTcVEBXUFFAUNxMuEQIOLwl+Arj8Evlw9bzxtu4l7Svrr+bp4WLdk9qd1uvRk85jy/TKKsyoy73Lp9JT4hn0SARaE3MesCbvK+MriSdHJkIr3C/yLfknDSKQG4wSlgmIBhEJSA/2FTgaYBzSHj0gNB/jHQMgUiMVI3IfVxniEBcHfv659zfzP/Er72brb+c54jzbjdLgyxHGTcB+unq3vbRxtXzGZt3f8GgGCyNKNL4x+S7/LVolChtuGtAb7haxEhAUQhLABnT/kQPfCN8KghH/GloeAR+TILQeXRu9HQUiqiGFIJ4hJyD5GVQTmA/uDOwJRgePA67+ufov9lzu6+Q33iDZXNSo0HvOwss/yMnDRL2Stia1WsGA1n/uIAp5J+06YT0GOMEueiBZEggLlQi7BU8DIAKcAXn8GvY8+HwC8Q0+GMQjtSvVLI0pXCP5G2cXyRfwGU4b4RtsG70Y4hIoDXcK1gr1C00MHgrwBK/+APg973DlY95E2oLYR9dU1ErNSMWLvRW0RKs2qqq5Y9Vi8hEPjizMQXRCvTZIKnwbEQvWAM3+R/yb+IP3Xvol+6X3G/vVCCEYZSKaK14yEjEiKrUg1RZQD/INpBCBE+sVkRimGTcXvRPCEnYUEBaNFSISRgqq/vDzsuo14qTctNyc3p/dOtoa1QTNOsCPshapLqQMqZm+NeC3AM8cmjhOSV9EzjJwIjUTPQKJ9sfzaPTv843zBvfj/HwAAQcRFA8j5y3iMyc1Fi5cIloWcQt6BB4EMwlLEI0WnBpfHdEdAByDGpMaixqPF24RQgf1+L3r/OK73ZHaxNso4vHnUec+4KXUn8dAuMOnBJwloFe2xNIl8z0WUjjkSqFIRDovJ1cTaf/Y8m3u6O5x8Xz1w/Yx9kr+ugqBFLYe6i6XPHw8+jG1I1QVbwYF/Pb52f2EBesPbBqgHiUgWSPuJCciYB7HHIMXAQxe/YXvxONZ3D7ba9+F5rTu6/Mu8pDoedlwyfu4/Kk0ocel7LQzy4DoLwo/KkI/sUXwPX8uOBtaBun0CeoL587pAe8X80b15/1lDI8WIhwaJkc0ljhUMLkjCBiwCxEAu/qw/A8EqA4ZG08kuyd+KSEqriXcHLoWtBJ7CnX+mPOQ6zDlCuOD5lvu3vWV+6v84/aa6jHZAsXysJWkKKFDpq+yPcfr4l4COSEkOJVBOj37MDogvQvB9ibpKuXS5mbqc/Au+Jf/OAtkGCEh2iaAL3A3qDRaKC8aWA6ZAjn5SfcV/cAHNxSzITQrzy33LH4pPyLbF2sPHwjM/tD0du2r6XPoGOwM9K38gALMAwoAg/Wl42rPiLvlrFSiM5+PplC1nsgk4OoAyyG4Ob5E2UVkPMQnxA+a+UPortwG22ni8+uH9Eb90gvaGkQieSUrK6kyUTKtKVQcNw4IAnj5C/aC92AAUA+VIFgtXDIxMhgutCWdGScN1gLA+mf1x/IJ8sPy/PW2/PUDKwhyB0ACIfiC6ZLWQsOKslOp66gjrbqysbunzFjiafrqFMwwHkTGSCJBdDGNGZX70uCu0cbOf9SH4YrzUgQ5Em0h/ysxLEso0ynULa8o2xpXDfAD0fv/9Kv0fPytCsIcAS8WOm06YzTCKwUf9AxG/PTyFfAV8JbxNvXq+tABqQgxDLIKXgQb+0juNd3iyyy9s7Q6sZ6ze7cIvKLDcc4d3sfzMxNaM+lH7EvjRBA1EBnQ9dHWMMYzxELPveOJ+iMNmRpRKPkwXy1PIiAeQiJaIk8YBgufAt78Zfj99qb8AgkNG+8uijw2Ptg1LiohHDoK5PeT7Gjr8fCZ+BUAhAcYDt4SRROtDWcD6fYG63Pe3dG8xkjAq745wJfD+8eWyhLKy8qF0XDkewKOJi9D+k7ESvQ6RSDe+qrV4b3/unnJpOIE/hYVnyQtLugxAytLHGMQrw+VFCkVww5lCHYFIAMCARgCsgmRFyspAjjhPc44nCzMHRQNm/sr7vvpl+/W+SkErQwOE1gWzxREDUEBjfTs6BjfH9bUz7/Mgc2Oz4LRMdLi0L/KUcPAwa3HAdxW/aUm60PvTWhJfzo3GqfrbsYBtai57stg6jQLsyUZNqc8dznFKLcSVAMPAx8IWAi7B1MM7RJEFAgSlBGiFYIdRycPLmctkSVrGwEShQdQ/E/26vqGBvERpRiZGrAYZxGeBPL0debY3DDaVd314gbpc+6g8UXu1uPw1ejI2L4ZtiWxELRxww7ikAsjMbNEWEXHOjMnrgc44qPFK71tx5LdefjwEa8kSS9PMs8tDCGLEXYJ3gsqEcwRnRAYElcV/BSJERkQ5xMJHAklDCuiKhAlDx2lFJQKav87+If5FQK5CsUP0xGLEngPAgcA+3/vkedx5PXlZ+mO7Nvu/e/R7IzjndZ/yojAWbp6tqe3n75bzk/rIRBRMHw+Vz1lM0ghVQNW4FzH18Dlyr3fY/rrE7omkTHaNCEwLCIlEU8H5wY+Cd8JwQzHEzUbBB2RG94a4RwaIKciLSPqH68ashQSD8MHFwBW/I3/fAc4DvcRchNjE5gOewQE+Fftx+Y/5O3ls+kx7qLx5/J77ovkkteCyxrC0LpMt9G30b85zXTi0P94HvkyjjcEMkIl2g+28jHZB83Gz7Pd5vInCh0diChuLQIt4CWyF9AJugMQBSUINQuKET0apCALIp4h0CCLH1gdbBtzGHcT0w4JDJAKowcKBZ8FeAphDz8RjRDYDtYLQAXT+2/ymuwR6kzq+ezP8Gf0bvZ09UrwDeWF19vLBMU4wZW9gLulvebG6dUV7vgLzyYhNK804C4JIeAHi+nZ1DrPP9b35B76ABHsIgYt4jAoLrQhYRAjBH8BdANUBssNIRtmJ5crdSmmJaUgHxkaEQIMzAmRCXoL7g7FEPYPMw9/ELwRtg/YC14JwAe3A3/8QPXk8N/uL+7+7i3yf/aL+fr4cfNr6W/dJdP2yWXCO760v2rEHsoD0YbdQPNcDK8gxikYK20mSxpvBdbttty51hzc1Ol9/EUPOR95KukvySxCIbMSqAg8BXsF3AcaD7kbMCebK5Up2STLHhcX7Q7FCM8F3QZTC64QxhNtFPAUABYoFZIQggpQBuMDFQAQ+v70XPM+9HD17PVa9ij3EfgO9vjvR+bi22HUP88ry7rIR8mIyvjL/8zf0OLc3PJTDOsfgynsKpon7RqRBNLrmtuY14veRO0IAGgT6CIHLkYy1CxrHjsPugZvBIkE4geGEgch+CqmLMsoxSKaGj4Qkgb7AH4AEAX7DFYUxRjLGrYbHhr9EygKZgGo/Pn56/Zi9Pb0GfgA+7P7Evs2+t/4N/bi8KPoyN6X1q3RP88wzfLLX81YzzrQI89+0Ojb0vK2DJ4e2yZBKrMoexvSAm7pZNq518/eiO0wAV4VpyXyMGM0DC3lHBcNtQQsAgICswYAFLYjUC0ILrQpkyIvGMwLpAFn/ez+pwXbDrcXLB0SH1Eeqxm6EJcFtvzY96r1L/SP9OL3P/zh/m7+tfyv+gH4jPMF7dXl9N5d2XXVc9Ox0jTSpNKx0jXQcsw+zNvWC+zoA0gXgiTXLJ4sESBXCSTx4N/72O7c9enJ/OkQIyJBLqwyMi3JH3AQ5QVgAZsBswYNEr0gaSuDLtEqEiNdGFUMNAJj/dP+ogWqD3MZ2x9iIRYfKhnLDxwEH/qT9EjzK/Qu9jH6z/4AAvQBcv+D+/r2I/IY7cbn/OFY3UTabNjK1u3UIdRU0/DPvsrXyHvQg+Pa/BAUFiQ3LKwsmCP2D3T2qeDJ1qLZruUU9wILsR3PKzwycy6bITQRwQQR/8r+qQJODbAdDyzQMbkuGycUHdsQKQTl+xb7agFPDMgXOiC8I8Uijh3FE2sG6/nN8m7xTPN89m/7bAEdBqYG1QIP/fj26fCW6gzlUOAM3YXbndsi3OTbZdmr1avQQcrNxEvF/9Mn7g0Ksx3YKY8wmy14HCYBDujb2NjVHN1k7X8CgRePKIUz5TM/KEYWTQcAAIj9X/+XCBsakCs3NAczEiyEIaMT2AQH+ij3sPx5CFIWZCHzJlwnGiMaGRYK1fo78ajuQvDk8+L5/AF8CB0K5wa7AEj5pPGM6kvkNt+e3GzdEeAS4QjfR9yP2f/SlciDwMzA3c1f5f4ANBkSKaAwTy80IgUJR+3Y2jPW7tvH6K/7/BEoJWAwIDJuKuwbFgzbAZb+VwBcB2AWQih4MyQ0FS7OJcEZKAp9/In3xfv0BVUSAh4xJgkpLiY/HTUPQf9M8yruZ+5U8Q/32v90CA8MQAnlAmf7OfOM6hfjRd443MXbN90l3zffkNzu2J/T2MpZwcu9wsha4O77VxI8I14vLzEYJYwNjvK43ibXHdl75Kv2DQwUINAuBjM8LB0eXg4dBKX+FP5jBBMULya2McYznS+WKDkcEwyX/Yr3efqZA58P/RtcJYApHCibH/EQEwBo8yrtPeyJ7jj16/9kCUANogpgBPD7I/Kn55nfVdsN2gPbGd2633rggd1115zPHMchwHW+OMqA4ygAdharJLotti26H5UG2O213Y7XU9vd6O/8qhG+IuEukzJIKjMaZQtOA4L/Xv8QB1AYGipOM+0z1i+PJ20Z3QiH/Gj45/uWBfQSbh9NJ/wpZCfRHdMN5vxv8bHsEuzx7tf2zwFsCuwMzAljA2z64u8A5sjekdp62BnZNdyw3n7eE9u11RnO2MTuvYHAFdJn7PUFXRlYJwIvZCrDF0z+tOir20jYQt8p73sDNRd+J6Ux6zA4JZQVxQkdA8//jQL5Di8hQC/KNP4zty6sI34T0gOA+nb5pf9dC+sY9iMjKvUqNyXJFwMGcPZu7fbppOqK8I37AAdFDTUNcQgXANT0qehr3p3XptOG0wbXFtsM3QzcX9gz0QjIocDSwbjPVeYG//gTgiPkK08pURqqAyvult8x2sveauyk/5wTNCQGLwAx3ijQGtcNfQWgARIDiAzHHMkr1TMCNRoxkieQGIsIS/3j+RP+RAhkFXEhUSnGK5Mn1hvSCkT6F+/t6Zvpb+6s+NYEJg3WDvsKJAP396DqJt5x1fzQm9C602vYcdzw3CDZLtEayHrBW8FIzdjjCv6bE6Qi1CsOK7Ac6gSX7srfXNlI3GXpuv2HEq0jCDDyM0IsDh0bD1wGJQG9ANcJMhs9K7czETYDNO0qURrHCP78oPhF+8wE+RKWIKcpTi1kKuweBw1O+xnviei85g/rAvYPA/ALuw5EDPME9fiU6n/dNdTwzbbL6s0v08bX5NhA1wHSoMvzxYTIrNZl608AQBH2H1goJyUJFvYBDPDI4qDcbOCH7YH/phHyIpsvzDHGKccdXhMyCkcDWAPhDbwcpyg3MEw07jIVKZAZQQqj/+n6D/3YBTUSKh55JyMs0SjHHCcMgfxG8NHn8+Tc6cH0IwBDCBUMkArtAkD21udB2uXOBMcTxenHGcxp0B3Tl9TR0jnPY9D02hPsJvy8Cc8VEh8pH9AU6wXI9/7rPOSG5BrtYfpMCVsZmSdkLcwpcSJhG3wTsAo6BzENaRgdIm8ply+PMbQrhh8sEvsGnv9U/qwDSQ21F70hDSlUKaogaBLfA8T2g+u05P7lVu6u+DQBCQcYCWYFn/un7Z3edtC0xWTAFsCWwonGm8v9zyfSs9PW2iHp0vcNA5QLOBSlGCwUagnn/er0Wu1F6m3tyvVYABsMDxmUIgAlNyL+HrIb6xWOEIgRnhimHxgk8yeQK50qGSOsGFIPNghSBGAF+Aq4EpEaqiF2JZkiIBkLDTQBBPaO7GfoL+sU8hb50v4HA3oDKf7D8xfnHdrLzfjDoL4kvpjAIsQryDbNq9Jt2VPlYfRPAioLHhFHFf4TpQvD/8z2y/Cg7ZvuTPWP/0MKdRXJH/IkkiPHHxgdrhmNFEgS3haWHjokAiihKx8tWSjQHvkU/QwnB8kEhgf0DbUVMx3lIrEjDh4TFNsIh/1z8rjqP+nm7Dfypvcc/YwA2P6X97Ts4N+80dTEXbyPuDS4grprwKnI7dEF3rDubwCtDIQSGBW6FPUN7AF49j3vuutZ7IvyF/0UCOkRxhv0Inkjxx5UGrkXghRkEbIT1xsfJKgphC12MJYuTiZRG2IRhwkmBMsDiAgLECAYyB/WJO4jlhybEekF8vnm7jLouOd+67Hwavb2+8f+Hvwo9LbowNpRy0i9PrRgsCGwvLSXvt7Ll9qe7C4ALA9WFdsVQhRdDVMA1vLQ62XpFOoC8BP8OAm/EuMaYCKWJL8fbRkzFncT3g8GECQXkCBKJ4oslDHfMrksOCL5F8sOzQacAjwEKgqZEYAZiyCGIywg6heoDUECP/Z97Afoe+hE637vBvWl+Sb6s/Ve7aHhLtMOxDq3U67HqbaqnrLfv1LRKei+AKoUnB47IVYeURR5A7bxMeZk4A3guOZL9VIGwhRlIVQrMi4XKTMhdBoFEzIMFQtgEbYaqyIjK4MzYTcqMw0qISBpFSkLLwQiA4YGiQw1FO8bpyADIOMasRLoB5f7yvD26avm7uUC6LDsXfH+8vbwpuvD4rjVE8dDut+vAKn9p9+uVbwx0MHp4wNdGIojESgHJaoYjwVU82zmuN2g27riCvIDA1gTlCOdL6szhDCoKooimxf4DccKyg34Emca9yS5L+c0mzMSLzooTh7wElAKUAb7BRwIqgxrEroW1Bf5FYQRHgreANf3SvDx6WLlu+OV5JHl9OQB42Df+djGz0/F1Lr6sXqsLq3MtIrEetu49BkLhxvSJvkp4iKTE5wCYPMu5kTer95q5wX0cAOhFXYl+i4JMxk0azBgJ8IdbxciFM0RmBI9GJsfeySsJjcowyfsIzEeMRmcFagSuxA9EHgQsQ9mDZIK7wYAAln8bPd282LvyuuK6SDoyuXU4ZvcHNaszajEGbymtDavRa4Us6K9iM+A5tn9pQ9NHGYkFSUyHEwNRf+48gHocuJZ5R7upvhYBmMW2COjK94vDDJhL2UodSGVHZkarheJFzUbUh+aINggrSFpIbYeaRvEGToZNxggF8wWQBZkE1kOvwjxAoH83/Wp8Nzsyum+5xbnZuYa5N3fX9oy06/JUr8HtmqvNav9q2WzpsOe2enwcQZDGGEl6ymWJlscOQ9gAIvy5+gK5QPnH+2l+GwHdxX+INkqTTKENHcyQy+6K+UmhyGXHqsdSBz6Ga4YnxhiF2MVjhTTFY4X1himGsUcfh0TG24WWhByCB7/uPXY7TDnzeGv3v/dGt6v3WTcmdkR1AbMDcMfujSyk6w0rAiyOsBg1NTqy/8fEk0hXCmNKTEjSBo9DisBwfZZ8TTvYe949Yb/cwkWEn4bfSQFKmIsHy6WL2YvJC5WLbMsKSrEJcAg2xsbFrkPzwreCCcJKQoADa8RFhb+F84XVRZzEmALYgJR+Szw+OYC3yDZc9Toz97LvMh0xTPBOrw0uK616bQEt/q+GM3H3VXuX/4HDs4Z8B8cIbsfGRvmExoNJgg1BKoAygB2BIwIbAuTDyQVjBljG5Ecvh7NIG4ihCTmJ9oqRiykLKAssyrCJXYfzBnXFHoP7QqQCIMHAQY6BEADSQIJAI78CfmN9YnxEe2y6Hrk299+2nfUnc4CyYfDG74husC4ibmDvfbFStLD3m/pOPQM/8kGQwrcDG0PaBDQEN4SyRX7FjYYBRvhHV4enB1hHUwdExxbGUAXjhaaFp0WkBe2GaMbdBw5HRceqh2LG1QZGBiPFpUUdROPE/oS5hBdDrYLGQgQA2z9A/gY83ruAeox5nXifd5P2tXWmtP9z6vMAMsTy7fLec4g1LvbC+Lz5onrh+9P8frwQPB87wDvEvBj89/3/fwtA6cK8hG4F04cnyAXJKElHiVDJK8j3SInIiEiUiLYITkhOyFTIW8g0x6hHfscGBzbGrkZehiaFi8UzBFbD4EMOQnuBesC2P+V/CD5ovWH8b3sv+e+4oDdNtih04HQKM+kzjLPCNJo1+3bQd1a3QneRd3J2UTWKdTW0rfS4NVd25PhH+gb8OP4GQEdCDkOQRQVGQwccx5FIjMmdiktLcUxMzXwNpQ4YTq6OlA5UjiDOJk4XTeVNa4z7TCiLKUnciK5HDQWmQ/NCWkExf69+OTy2ewx5t7eq9dd0KLIWMGEu4+3HLV5tJy2e7t4wYnGP8p2zefPm9DVz/bOl85czxTSgNeb3vHmAPAx+tMEJw+EGPEfrSVZKSos7y5fMp41uDjTOwA/bEGuQh1D60F/Pxg93DucOks4UzV3Mk8vBiu4JdwfuhktE4EMRAa1ABH7G/VV7/jpaOQk3lbX+M8lyCXAJ7lWs+ivqa4asHi0c7tAw0bJUc5n0u7U49Qx1FDTn9Jw02nX2d0u5Rzue/h6A6cNWhcWII8nXiymLvUwezTiNyY67TxZQMhCmENrRGBELkIMPxE9DTwgOv42lTNEMBIsvyagID4afxOwDGEGtwBZ+//1wvB76+DlDeAK2hTT3cptwgm7XbQ6r4msR61Lsem3eL/JxYzL7tCQ1GDVW9VQ1TDVB9ax2bffhOat7m34EwMgDZUWFR8tJ/UsQS/fMFg0GjjlOSI8ij8cQshCwkMoRBxC2z7ZPPE7GzoUN68zNzD1K6cmlyD9Ge0S8wuqBfn/Sfrr9BHwQ+ui5cPf+NmD03jLBsNmu+u0PLDnre6u5bJQuf+/2cVUywbQldL00gvTxNKe0hLUjNjy3mzmY++d+YMEHA8HGVMh3yjlLR8w5zFBNUg4qDm8O50+kEAZQRZC8UHLP0c9DjwdO2E5yzakM+gvYisBJqYf5RjTEQML5wRm/+75mvR/7xjqHuQ03hvY29BNyErARblps4uvba7XsJe137unwTHHWswa0ILRu9Hw0Y3RA9KD1KrZ/d8b6Ibx9fsBB+sRxRsjJDYr7y7rMOgzuDedOR873z2FQLJBikI8Q9FBSj9zPVs8xjqGOIE1AjL6LVApnyMqHWEWmw8rCTUDbf3G91nyvOy/5rzg2Nr806zLGcPHu2G1i7D1rd2uebLtt629CsNwyBPNBNCf0NrQ59BU0ZvSV9YT3KDjdeyP9jcCGw5GGSoiqCmRLoAxJDRnN7k5NjtbPf0/EEJPQ0tEjUOCQbg/jz6hPM45TTaEMjkuSimyI2YdwhbzD20JbQOY/bb3HvKr7NnmyODR2jXUjsxSxAS9pLa3sbGuAa80st22yLvwwL/Gnsvezl3QZdHD0YfS9NNI1xPc8eI269r0PAAJDJEXLyGYKegubzJwNaw4fDqLOz49Aj+1QPJBAkNtQi9BEkAnP2I97TqsN2Uzny5gKZUj5RwEFmUPXAmHA739L/jJ8j7tI+cV4crazNPPy/bDA73ztg2yfq9VsFGzaLebu9LAJ8anyrrNyc8+0ezRRdNu1f3Yo92L5JnsBfY9AXkNrRjqIUgqZTB6NF43kDqNPLE9qT4xQLhBnULGQu1BEEE3QCs/Rj3QOmA3ATPjLVgoKCJUGzwUhQ18B78B8/sk9rTwM+tg5TTf19gP0p/KG8NSvOW257IgsQ6y37SHuLO8/8Ecx0zLas7n0JPS3NO81SfYztu24H7n7e40+FsDBw9PGUIifiqUMMw0DzhcOzw9Vz5GP69AuUEDQndBakCXP6A+Uz1TO+I4czUmMREsbSYbIDkZOhKSC7IF8P8O+lH0Ou/y6SDk4d2B17nQeclcwsC7dbaqsrSxC7P8tWS5pr3VwuvHB8zizm3RX9M/1THXSdpE3qrjReoS8s772AbkEYQbUSSDK98w4DSQOC87mzzGPQ8/hUCJQdJBLUFpQLE/mD7YPJs6hTduM4suGCkcI3ocZxVsDisIYQJ+/Lv2W/H060XmW+BH2gfUfM21xjXAxrqMthu06bOstTq4SLuiv5HEJ8nFzOTPgNLn1J/Xk9pD3rLiq+h676f3jwEqDCAWuh4BJ48thTJVNno5kju1PJU9cz5iP7Q/Vz+KPg0+cT1FPHc6ETjONJgweiuqJVAfVBggEScK8APs/QP4Y/IO7eHnn+Iy3VbXe9FSy1rFsb8pux+4vLZLtwG5sbv+vi7Dpcfry3vPqNJ81XnYkNvf3tTioOd/7RT0iPzpBbwPPxhPIMgnii0nMq41mThYOp07fzxSPco9tj3oPAY8dzuNOvA4xDYXNMIwiixaJ6IhWRubFKgNIgcYAff69PSO74nqlOWu4JrbSdbS0IXLbsbjwUC+5bsGu3m7LL14v9nC0cYZywXPjdIF1i3ZetyZ3zPjEOf461Tx6vfm/3cIuRDkF6AfNSZ0K3wvKDP2NeE3VTlyOnA71juaO9I6YTqqOUI4LjbSM/QwUy2cKDYjkR19F80Q+gnUA//9Tvgc8zvuiOkA5Yng/9uV1yPTsM5JyrjGxcO5wSnBf8HbwsnEyMcGy9nOtdJS1rvZCN2H4MjjYOce64HvQPQ9+g8BWAgUD24VKBwJIswmcSryLbUw2zJ9NOo1FDfIN9k3ezc+N402CDXgMncwhi2uKeckxR9XGnkUNg5CCPECAf4x+bT0bPAi7AnoIOQ74ETcaNiB1M3Qjs0EyxzJ7sePx07I6MkUzJnOh9G51NXX69rJ3dDgyOMC52HqJe5T8l33U/2oA78Jkg+uFUsbFiDfI10nUyrPLMEudTAMMkwz/zMcNDY03DPNMu8wli6ZK+8nZyNeHigZ8BPpDiQK4AXHAY/9ePmU9Yrxou1t6UTlW+HX3ZLaTteB1DTSjdBxz/7O485/z6fQE9LR09TVGdhc2sTcWN8j4hrlWOi360rvW/Ms+IL93QIJCCsNdhJwF7QbWh/AItslgSjGKtcsni7pL7QwIzFAMa4wNS/+LEgqCif7IpMeVRpZFkQSnw4nC38HmwOt/9X7t/fS87PvwOvy593kMuKp32/dVdu12WXYadeG1vfVuNWz1S3WCdcp2KHZjdvX3V3gGuME5iDpRuyN7+vyzvYG+2z/tgMECIgM/RAtFdoYZBytH8UiZCW7J7UpPismLG0sPixeK8EpgSfLJAQidx+/HAkafxcHFewRjQ4WC3EHSQMW/y37PPfA83vwjO206nLojObJ5Bvje+Hf30ve9ty926razNlW2UnZz9m62hnc39313zrituR252LqY+1r8KbzHve/+lH+BgLfBcoJmQ1YEQcVghi7G5IeGSEaI5skZCWmJWklqCR6I3IieyF/IGwfNB6IHFgaFBhLFUwSzw5JC3YHtgMfALX8lPmv9hr0q/Gn76vtxOvV6fnnAuYn5FHiiODy3q/d0txZ3Fbcldwt3SnenN964Zbjz+U76PPq6+3t8Obz6PYG+kn9mwDwA00HpQrrDScRNBQKF48ZpBtFHZsepR9FIJQgqyCTIEAgxR8HHw0ewRw/G2AZRxfpFCYSLA8RDPEIvwWtAq7/3/w++tz3iPVW81TxUu9h7YPrqOnd5yfmm+Qr4+nhA+Fa4AngC+Bt4CHhJOJr4/Dkv+bU6AvrVO2970ny8/So92v6Mf0OAPUC3QXZCLoLeQ4OEX4TtRWzF1oZsBrMG6IcSh2fHcwdux2JHQkdSxxIG/4ZdBh7FmAU8RFkD50M2wkLB0AEnQEE/5L8K/rn97T1m/ON8ZTvrO3S6xzqf+gO59Xl0eQE5IXjN+M943Dj9+Ot5LLl2OZF6N7pn+uk7bPv/vEk9Ln2CPnV+yX+DQFOAzQGYghCC20NHxCBEuMWPiZPKponBCU9IrcekxktGYgZ2RsqHRkdphwJG/MWIBMOEG8LEwaVAz4Bb//E/Wz75Pnh9sL1+vMt8QPuv+q/6NDll+OF4tvhXuFT4Ibg2uCz4NDgNeGF4n/jEOXP5xnr++7d8sb3Nv0lAlkHDAxmENATUhZYGDoZqBmcGbYZCxrYGfgZNxpaGgwa/RgsGLcWvhSLEkQQ4w2LC54JxAdFBnkEzgJHAVz/lf29+8r59/f69R30U/KE8GfuN+wg6tnnWOV/4uPfft1927TZjthh2P3YgNoW3cvgXOWm6pTwLPc1/msFNgyNEm0Ybh08IZkj6SQ+JXkkpyJpIFEebRyPGg4Z+Bf5Ft0VfBQ8EyIRsw6wC2oIggXZAlYAef1A+2n53/cl9tf0yvOL8n7xFPBH7nTsg+pR6IrldOI132XbIthz1VvTtNGF0SrTjNUT2SXeu+Qb7NfzK/wYBSsOdhbBHVYknikbLaYu0i60LVgrIyhWJNMgwR3NGhYYohVfE0cRDg9eDEcJHQbQAof/S/xr+QH34PRQ8wfyL/Fp8JDvx+4b7lPtWOwH65Hp1+dA5TPist5d2xDYPdUj0y7SltIU1DjXuNug4XvoNPCY+HUBNgrAEh0bCyLSJ10sii/sMIUwdS91Lc4qgicXJBsh8B2AGuMWcRPsDygM4gjwBZwCHf/N+9f4JPYx9JDyKPFy8OPvgu8l77fuCO5V7UHsnurB6IDm/ePx4BLeONtW2CvW79QA1dfV9Neb223gQebK7HH0tvwHBRQNLhUOHXUj4ChaLXAwqzFfMUUwGy42K9MnaSQ4IegdsRqyF9UUvBGqDskLaQjfBEcBnP0d+tf2GPTT8Qbw3u467ujtte1u7RXtb+w262rpFedm5GnhSN6E2+XYwtZn1czUKtV91irZ+9wK4h/oJ+8B92j/6QdxEP0YiiApJ94sgDF0NJc1WzXcM0gxxS2iKbwl1yEtHsIaaBexFOwRfQ+8DEMJbQU6Aff8s/js9MnxUO+M7bzs+utM67Dq2+kL6evnbOak5DbiZ9/P3Dfap9cu1anTENNk06LUONc821Hgjuaf7ZT1DP6FBgYPwBelH7Im7iwcMq81ijf2N8s2WjTaML8smiiLJFMgjBxJGTQW/hIYEOkMOAmpBcUB2/2l+bH18fG57oLs0uq+6d3oXOj+52nnbObY5B/jx+DT3QTbbdjs1XXT8tGe0T7SytOl1uLaVeDG5hnuOPbi/psHPRAZGQghHShgLp8zWzdBOeM56jh1Nr4yVy7kKVQl8CDiHIAZdRZkE0kQ8wxmCWIFOwG2/CH4zfMA8LTsEepa6BfnauYF5qjlEuVQ5PPiHuGk3ovbp9j21YDTO9EX0EnQPNFK0+nWB9wI4tHo1/CT+YgCMgsZFOYcdSQ4KxEx1TXQOE46mjovOVc2XzLxLTspbCQCIC0ckRgzFUESAQ9xC8IHIAQoAMf7hfdQ82/vQ+xu6ULnv+XX5D7kveNF407iMuEX31bciNnK1unTIdGRzwbPZc/S0BTU6tjJ3o3ll+2B9oj/gwh1EZMaiCJ5KcUv8zSnOKE6eDvUOqI4QzXlMEAscSe6IlYeSBqeFkMTGRCqDAQJegW5AeD9n/kT9arwVuwI6ZbmEuUO5Ezj8eJm4rXhfOCo3u7b5NjR1cjSF9D2zWHNxM0ZzybS2tYC3fPjEewn9Yf+BAgEEVka0yLwKTwwejWSOYM7PzzTO7U5RDauMeAs5SffIjceJBp4FuYS+w/lDF4JrQXIAaP9Yvky9RfxUe316R3n2uRS42HipOHv4F7gVt/o3dDbTdmi1r3T9tDEzs7N2M0cz+7Rg9Z63GzjiOuo9CP+pQe3EBQatCLxKVIwhzW4OQA88DygPNE6tzc7M1suNCnUI6geBRocFnQSZg9UDAsJngW3Ab79ZfkE9cHw5ex46ZLmi+QM4zfif+HY4BPgAt923RjbS9h61bfSBNALzjPNnM0lz1PSGdc53Vrkjey19Rz/qgisEewaciN7Krww+zUwOks8Ej3ZPCk7PTjkMz4vfiqLJZEg4xu6F34Tfw/ZC0QIawRaAA784/cB9F3w4uyu6ezmweQq49bhruCZ32be19zR2j/YiNWO0rrPPs3Ly5HLWMy3zsjSQtgA3+Hm5+91+RYDyAzmFQEf7SacLWgzGjioOzU9tz38PPE61jdqM8EuBiodJTUgvRu0F6sT1g/OC4gH9gIX/jb5YvT07xHs2eg85h7ksuLT4Q3hCuDy3m3dT9vg2PPVy9Khz9/M7MrxySLK38tkz5zU9tq94qjrZ/VO/0MJ9xLcG4QkmyuFMUc2DjqZPDk9ET3kO8M5jzZgMkMu2SkWJRogZBvvFloSFg6RCfMENwBN+5H2EvL77Wnqkuce5UfjBOLw4P7fq94s3Ujbntiq1W7SJc8GzG3JHMjdx/TI2su50BPXp96c55zxBfwXBh8QdRkvItYp4y/5NPQ45DsyPWI96jxrOwY5nTXHMcstXimBJI8f1Br5FfgQ9Qu0BnYBKPzd9gryqO1B6ovni+X+49jiOeJw4YXg4d7O3BjajNa50pXO1MqYx4zF9MSixVzIL83n09Lb9eRN7xn6igSQDuoXVyDfJ94tmzJKNkM5CzuRO5I7FDvWOZg3mTR4MektgSmRJGAf5xnxE84NhgdzAZf7/fUG8cDskelg55vlV+SA4wXjqOKr4T/gt92I2orWA9JnzZrI0MRawpvBW8IvxcXKWdIG29/kse8n++4F3A/UGK0guif0LNswxjNyNnc4QDm3OS86TTp5Ock3ojWvMqMubylYI54cMxWjDd4Fmf46+LvyGu5n6i3oAed35gnm1OWj5S7lBeS84VDeJNpQ1ZHPusl2xJ3Aer4nvvO/SMQbyxnUE97r6Cn0U/+0CZwSVRqSICgmOyoZLYcvTDL6NNI2vDj4OtI8ez3gPDs7UjiGM/8s8yQRHJ4STQlhAMH4+fLL7ufrEeqa6Z/p/OkI6nvpeOge557kv+C72zvWINCfyQnE8770uzm7Br35wBfHqc/f2YPkUe/y+cUDewyWE3oZzR0hIp8luiigKy0vDTRUOOI7Uj+BQtxDqkKOP+86yDPHKnwgxhVgCwUCBfqv857vw+1u7aPtR+4T75nvku5f7JfpGOaD4eDbB9YJ0CfKE8XewMG9sbyTvm7Ce8dazlbXMOFA6jHzxPtfA8oJjQ9XFFoYBB1EImYnIiwcMtI4qz61Qs5FxEdAR95DOT7oNtEt4CNzGU0Pfwbz/+z6J/cK9Vv0JvRd8wTyN/Do7U7qJuYA4sDdXdnO1HzQ/sseyFPF6sIDwcvA3cKWxhXL+9DM2GThwek+8p36bwKQCVIQiBbHG5MhxSe8LZIyzTc7PX9BFUQDRctEpEKFPlk47zCKKC4gkBcpD9cHJwK4/cX51faf9OnysPAQ7nDr2Oiu5Ubi9t5W3IzZUdbK0g/Pgcvmx+/EOsJqwcHCFMZiyrrQVNmh4obrmPSr/YQFswz/Et0YYR2nIjAomC02Mkc36DwPQcBDu0SXRCBCtT0fN34vziYvHqcVcA2jBloBg/39+XX3hfX/84zxne5162no5+T74I3dvdoW2OXUJtKYzhXLiseAxMbBmcAxwmnFI8qT0LvZUOPC7B32Kv8SB7sN7RMgGdcdBCPnKLgu+TOvOY4/OkTZRklH90WxQjU9jDW7LLcjVxtGE+ULNAZHAlr/kfy4+QT3OPSO8OvrPucf43nfCNw02SDXHdX70l3QI80WyUXFnMEGv++9rb/nwwrKjNKV3MDnIPJx/DEFvgypEv8XkhzJIOYlESumMaI30j3TQu1GLklZSNVEPz+FOLQvgiZSHeYVZA/0CfEF3wKoACz+JvvS9nvyZe0w6ErjDN873CPahdll2W7YAtbI0qTOJskyw9q9o7pfuoe9g8Pky83Wf+Op7xr6+QIoCrYPshMhF2gaFB9dJaUsujSuPDFEfEl0TIFMr0jLQU85YTC0JqUdgBb4EasODwxACk0IhgU8Aaj7t/Sn7dLmQeE13RLbxtrQ25/dRt4f3ZnZJtRCzFLDoruAtW2yYLTPu2LGfdKd4CvvyfqnAk0Iuws1DX4OoBHZFlseMCghNL8/pEjITytTTFF8SnRBqjfjLLkiixvnF+IVOhUGFd0TbRDwCgkEBvv08GboeOIm3ljc8t2B4Ybku+XZ5SbjXNxq0snHNb0UtPSujq7uspu7lsi21iXjgu0V9mP7Pf0Y/hsANAQLCzMV5iHSL/Y8TEihT9BR70+iSnBCjTgJMGMqiSYlJFEjTSPSIeIdcxfDDlwE7vmV8ePqj+Z75YTn9un16zDt9exW6S3jjtyO1JzLMcP0vQC6b7inuYG9EcJkyD/Rw9hE3pHjROso8u33pf4QCIwSvByPJycyoDqMQFRFsEepRplDhUFJP886kTVOMv8vMyvaJJIeEhiEEPgIMgLq+9L2zvMq8izw8e117Kzrqem85SHiMt8A3IXXV9JUzbrH1sHGvBe6VLkfulC+csZQ0BzZkeEg6+zzXfqQ/xwGpw3vFVYfPirSNDA9bkQ6SaxK5EioRWhBtTvPNXIxXS5PKtAlDyHQGx8VZg0EBiz/RPnY9HfyxvB274ful+0b7CTpjeWp4Rfdk9mI1YHQXMo/xLK/ervtuPG3bbpFwGLJNdNz2yTkHO0N9h38+wGKCRMSRxwNJyMyqjrTQVtH8Ek/ST5GZUMsP0c6TzWeMdkt0SgJI18c7xUwD5sIrQIn/cP3ZPTi8pPxte8V7ePqaejB5SnjD+CL3XPaqtTkzEfFv7/Iuq6237WsuPC+wccD0iXbbuH65uXtdPUx/IkDhg2VGponljIwO4FBmkX7RXJE1kHSP7c+0T0DPI03AjIjLKol5hxIE3YLmwZmA/D/7fy7+nP5kPbW8djsBuki56PlyORz46vhd99g26LUi8qNwPm4hLWLtZC38Ltfw2bOPNhO3YTf/ePm7I/2E/9cCJAUGiOSLz441zy0P+BBEEMjRAxEdENsQSM/dDwkNxEvayVdHRoXGBHVCngFcQJrAGT9tPgm9HDwN+396bDnEOd259nnJuYu44Pentid0HDHdb9Ause5Wbw1wKjDb8jNzwXXettJ3vzi2uu99rgBLQtvFM0ePykFMjQ3wDpaPfJAYURPRoJFHEK2PiY7BzepML4oIyHGGpQVsg9jCc0D6v/k/Cz5lPR774Hr9+jh5y/npuYI5pzkJuJM3sLZKNRZzp3JgMaRxTvGWsgey7HOMtM618HZb9s/3w/mc+499lP9HgUPDjIX6B4ZJfUqSDFFN3g7vD0mPkw95zvpOZc2gDHJKwgmZCCCGlkUCA4ZCYoG2QSXAob/QfwP+dX25PWM9Wf1nPWN9bfzSfEx7+HseOrb5g3jYt+22/DY9tau1c3Uo9Tv1B3VCdVa1QXXztqK3+Xj++eu7C3y3vco/moFqA0wFYQa2x47JL0pFi0PL84x0TSmNlo2JDSnMfgvuS5QLFQpPCd0JXQi/x0dGaUUihCqCwkGCQE+/f35B/Y88S/s2efQ4/vecNmZ03HO98mUxlXEiMPgww3F/cb4x5HHRsdjyS7N79Ap1arahuEp6RjxpPiXAG4K+hMfG1khSyhwLg8zIDgrPZpAs0KHRFxFv0QBQ+Y/czwGOt03WjPELBQm4x+FGcASOAw2Bt4AePtX9TTuaufv4T/dO9hV0wnPf8ohxlrCgb+EvWG9rr63wJPDJMW+xDrFnMmRz7DTj9dq3WXlDO6T9dX6CwC4Ca8WwSB9JRUpVy6UNJc6jz78P8lBhEYnSlVIAkOwPhE9PTyrOc8zzix4J4kiZRuvEvoLyAd/Azv9rfWK7sDo6uMt3uvXStPO0A7OVslyxJPAZ74AvmC/H8Jmxd/H5MY6xRvIW8/51ODWbdo/4gvsrvPF9636VQGoDe4ZICFHJBgoVi6xNbM7/T0DP6VCI0irSVdF+D+uPQ4+AT09OFoxDSxAKO4hXRjHD2sLFAgVApD5ZvHM60/nbuGw2ZnTAdGGz7LLfMVhwPW9172cvhDAZcIfxdbFLsSSxR7MgdJd1AHWo9ya5mvvHvSD9kf7gAWJEhAd5iMvKBYsdjEhOeU/G0KuQgZG0EppSwhH3EFZP9Q+VzxJNoIvAisrJo4dexN/DPAIqARw/YP07uyT537iC9xq1W/RUc8EzH3GiMF2vvu8F724vQC/98HoxGLEBsNOxtzMWdGj07rY6+E/643xPPXG+UgCrQ6aGiAjgClMLk8ykDibQfZGYEY7RpxKKk+YTYtGyT/GPeg9QjpTMu0q5CVQH5cV1wwKCIQELv4l9Yvs8eZJ4zneI9db0R/Pqs0iyrvExb8Svdq8rb2LvvvAeMRrxVHDJcQhyxrSLNTp1Vbdnujq8Zv2OPmA/9ULCRnXIQ8oai5YM2o3ST7zRb9IlkenSMpMpE5mShpC4zuhOs85FTQ+K0kkzx5kF60O/geIA8n++vez78zoieS34OfacdR00BnPVM0eyW7DY75lvOW9EMDdwE7CXMSQxObEUsnFz/LSi9S22mblCe9+9Ov3Wf1AB+UTvh3XI6oqfDMGOZA6xj7JRt9LVEqSR8xIsEuDSVxAZjcmNUY2VTI3KEgeLRi3E6UNQwZa//757/S57kno+uJo3sTYPNNTz/7MLMp1xRbADbydu7+9E8BwwX/CLsPcw0vHB83e0EvS69YG4dLrlfI09hj7+wPWD5EaESKfKK8woTeiOsw9s0TNSt1KiUhqSSFMs0rCQq055zVoNqgzniprIK8Z/BT5DogHsgBN+232mfAG6hLkP98g2qLUc9DczZLL0cevwuG947sUva+/r8G3wnrDVMQOxzHM4NCs0iXVU93J6LTxNvak+U8ADgsQF00g2ibpLFIzFjkMPghDo0bmR2pIR0rfS6pJSUMGPHw3tDXbMmcs9iN6HGoWchAaCpUDQP129zDyIu0q6MXiv9wj15LTrdF2z1DL0MX6wLW+bL/gwKPBRcIRxCvGpccYyhfOtNEn1E/ZF+NQ7Rn07vee/A8FwBCUG+QixSjKL+E2aDsUPz9EVUhdSHNHY0mrS9dIUkDtN9E0HDXhMeIoAR+cGFgUgg7OBmP/3/mt9crwC+tz5VzgDNvj1UfSD9D+zVPK4cRrv0a9qr+rwr/CycFOw9HGsMr6ze7PNNE+1Yzerulo8Rj1O/kmAdsLfRaoHgMltitcM8s5sz0VQatEBUeqR6ZIMEqnSYxEVzzkNV8zqTEQLBMjzRpZFeUQqgq8Aqf74fYr82ruwOgx4wPeyNj80wDRKM9tzMXH78LRv26/pMBIwZDBkMPtxjDJ28rCzcrRUNVg2bXgzOrb85H5Hv5sBCEOfhm0InYogy2cNKc7R0CsQo1EIkYYR3tIWUlkR2JB2jk6NE4xZy5DKMEfNxgdEx8Ohwf2/3n5r/SH8DbsmefV4vXc1tab0uvQwc9LzKrGkMF9wNXCFMQOwnbAOcSsyvvNjc0uzp7SwNj73lrleexi9Ev8UQNfCd0Q0RpqJGgquS5WNeE8NkE+QgJDnkSORuVHIUdSQ8k9RTieM3MvXiraIwEdHRfkEQkMHAXJ/c33U/N072/r+uYU4obcd9fW0wXSxc96y6fG4cNcxDzF5MOXwb7CHsjjzD3Oas4V0fjV4Nq9397lvO2j9d78oQNwCoYSrhtQIwwo3C2PNjQ93T6KP3xCIkVeRXpEzEMfQg4+6jfuMb4tcSlRI+obyxUMEdoLGAWY/cX3cPOH70fr6+Zk4obd19i81LPRzM5Fy33HbMS+w7/EA8X7w3bEtsfAyhjNCdD609vWXtnX3mDnNfAo9/f8PgMkC5kUEB5nJLcoTy6UNzk+6kG6Qv9Iu1T1WUlVQUhxQ/NCXkB9NV4ozx7KFHcMgQifCekE2vbC52/jeuU95c7dSNXaz8nMJcvWx8bEiL6yuCy3pLlavs3AWMNzyanUbd6a4uLmEO4M907+wwbmEKoZmB/fIj4nCyycMLA0bziGOgk4/DQRM9ovfCkxJbEmnChsJfMcUBWZEUwRGQ8GDNAKfApnCbwEOgDc+7n5RvnC93b0F+/N6yTotuJo2sPRR8qGwcS3Iq2Wp3ell6fvq9GzisBUzxXfVOdP79X7Ug2gHG8n7TFpOpRBi0SdQwVBuUH1Q4A/DDPlJu8gURqjDwQHaAV6B2MFdQBL/WIAEwZLCowOixJIFrwYhBqQGR8XcBVCFEIQyAiAAB36nvMO6LrYyso6v/KxmKLvlKqN041qlSOfGarxuIDO6+Wm9RsBkg9sJUg5nUTPSSROWVMfUxZOzUazQBk40C0qJAYYTApn/tb6W/h69eXzSvcB/p8C1QaiDDEXrB/WJGcnBypmKs8njSNgHI8UIgzXBN77ie/d3y7QW8NxtFOj7ZIIiduDoII/idqVpKdRvA3XD+9gABoP8CGCNqpEok6CVFRY+FYOUUFIvz4oNSMpnBzSEQoIRP/B9gbxvO7G8Pf1z/vjAq0KgxRRHdQljCvGLyMzSTR0Ml8sTiUKHfMTYgjg+7bwvuWc2FvJ2LpJrfqelJHWhuSBLoSijSibn6q0v6PaMvaFCiEZbyjuOXtHQ06yUFdRQ085Sd8+BDPBJlEbXBBTBQn+rvjQ9ZPyGfFg8yr61gM6DZoWnx9pKeEw1zVKN8Q3hzfMNLIuHCU2G2oQLwXq97XrQOHb1ZjHS7g4rOSg/JWAjCKI0ImukZefnq4DwODWm/PzDDUc4yczNDpBAknTS1tKRUdjQ6s67i5CIdYU5AkYAvr7gfiu9iP1qfR09ij9FwYMERYbVCRELOYy0zYhODM4gzb8M28uJSYLG1IQdwXM+UPuFuSE2ojPb8LLtIqp1J5IlmKQzpAKlqueQ6ouubHNzOa0AJwTyyD7K2o3fz/PQqVDkkJuQKU6cjByJGgYYw3LBFD+ffsT+8b54fel9xX8ZwOLDJEWvB80KGcvDTRINd40mjNeMrAuwyf8HtAVIQzXADD1sumH4BHXXczxvpeztalroZiaJZT2kguXQKJOr0PAvdR87ugG9hY2IbIqjjXtO6c/7UDyP5k8qjbtLG8heBUjC8UDcwBI/t/71vr8+oT84/90BqEOsBigIbMpxS8LNEE1SDRhMu0upSqiJIsd7xMfCp/+JPMM6KLeCtSCx8u7xbEiqNWcMZWDkXKTn5cToQOvPsOu3Ob1kQpOGC4l2y+fOXw+skEeQ51DXUEiOTcuiCGYFmULkwMK/4X99fuM+ov6dftE/ywFyw3RFaUeDSiZMO00LDWGNC4zBTAoKt4jhhyIFCcLJADz80Hokd6X00/H1LoNsRunEJyKkz2P0Y+0lJKhk7FgxbzeTfrsD/4c2ietMbI6TEAnRE1FXEV9Q7w8mzEyIwAWogq3ArT9Kfup+Qz51Pkn+9z9ZgKBCqgT0R3AJxcwdTU+N+o28DO8L0IqGSUxHkMW2AzEAZf1cOlq3sPRKMVkuVGvN6SnmVCRUY7fjuCTG5/Urw/G9N4Y+dYMbxvEJxg0ZjxxQC5D0EWMR4FE+T2kM04n0xlDDmkEwf2K+mz5yPjg+F/7Vv4SA5EIRhCZGVIjyCsOMog1ozX+Mz4whSpGI1cc/BQoDNcBuvZf7Nvg+9ODxoq5uKwhoXyXZo6HimeMIZRTnl2uW8W43oL2nwlAG6AoezPJO3pCMEWfRjNJY0jZQhw5uS62IcYUCAqAAtX86vgi+DL5j/oG/F0AdwUuC44SzhtSJHkqky+4MqcybC/OKiEl8x3NFYQNmgSk+l/x2OY62j/Mx75osSij1pafjeiJT4ovkLuaG6vZwFbZZvAQA08UaSNFMLo4Fj/wQ6xISEx4TB1JE0LWOAkt3iDoFPgKbANJ/nz7VPqS+rv7MP7lAO4EewpIEUsYCR8KJXopByzoK3cpviTPHrQXBRDVBxwAW/i/7n/jVNcRyqa6JqsznUeRRYlXh5yM7ZZnpR+5uNBN5/345QgSGIQkOS2RNSo+P0UAS3xPTVE+TVdFjzuYMOgjABjNDroHcwJ8/0v+M/3k/In9lv+SAYcERwlFD+wUCxrwHt0hQCJtIDIdnRekEHIJGANv/FD0dOuR4ZPVScfHuFGqfpwekgWON4/jlIyhCLUWyoLcAe41/wkNMxf5H1koHzDFOBdCzkmxTphQsU9ySlNBEDa8KlQfohTHDH4HpwNZAcwAaADt/+L/ewATASgCjQR0CMwMjhAIFKwWMRdpFcQRlgxXBrT/MfgI8GLnaN6i1ArJw7zusGKn3Z8OnO2cY6Ocr1q/B9Az4Pnwof8UC38T+hrIIaYoRjCmN1g/8EX3SrZMnUvRRvk+JTU2Km0frBUzDooIeAXbA5EDpQPLAx8D/wEVATMA+/+fAGMCYQToBvwI9gl4CeYHeATr/hf4uvCM6FbfVNYszXbEHLxMth6y6K+NsXS3BMAWyZvU7ODJ7H72m/+hB7AOTxVxHA8k0yq0MlY6pkCRQ6VFVkWIQc86OzN1K6gi0BomFIwPlQtaCeYHkQZsBNECmgF3/zX9Efwx/J/7Dfzv/Bv+qP4s/5X+Rfy++Ef07+5L50DfUtf8z0fITMIGv5C9cL5cwtvIls9M1/zfpOhX7/X0ufqAAOkFeQtyErAZ5yEhK54zpTmKPmZCkELpPoI5mTNMLEokCx2SF1MT/g/DDRIMFQpRCN8GYwSKADD92foj+DD2q/Vp9oX3ZflE+6r7kfq/+OT1nfCi6ULigtuR1GnO88mPx/fGEMhXy1vQ/dWM25/hUOcG7NfvGPRn+Mb8xgEoCCMPWxcoISYq5DGBOFY+P0CqPi47rzZDMJoomyGeG/gWQBNaEdMPoA5hDUMM5QgMBLj/P/sF9+zyLPEf8brycPV2+NP6o/uk+8T59fS17kvowOGz2+TVy9Frz5LO/M6k0KTTJ9f42tre7eKZ5kDqI+4G8tH1O/rR/xIG4gyVFdUeKSd6Lnw15jpPPDo76TgWNe8uISi4ISQc+hbZEwISiBAyEDUPDA3pCOsDNv/v+k72SfPA8ZzxCfNl9Z74FPql+sX6/Pj39GHwj+td5hnhD9ww2GTVuNP90mDT79Ro15vaON7L4WzlR+nz7IbwAfQq+Mv8FwLsBz0PtReuHxsnMi7tNG04FTkXOLQ18jCPKuwjhh3BF3sTSBGTEPoPkg8ND9cLWAgJBJH/R/q39bzzm/JU83n1Dvi3+kn7t/pg+ob3f/QN8E3r/eY54jne4dpr2BPW7tTT1HzVVdf42SXd5uAb5Xfpuu0R8i32gPoI/7oD+wirD84Wqh1eJEUraTGqNPw1kzWIM9wuqighIuAblRZ3EjoQ+g7ADjcO4gzBCt8HaAR1AEH81fj79pr1evWC9v33Vfmq+k77cfo0+NP1EPPd7jXqgeUf4fDcltkb13fVotQw1QTXV9k/3D3g/eRl6dftSvKY9oz6tP4nA5IHJw2/E14agSAHJ2YtTTHDMt0yvDG3LcUneCFtG7gVCBGFDjINOA1eDcYMOAt6CLoFxAKV/on6xPdE9pf1ZvZv+DL6Z/sq/Hf8avqy92P07fDy7K7ow+Ry4CrdXNoM2eXXVdf313LZuNve3ibjn+f464zwLPVF+Tv9TgGcBRsKkw9MFR0b9yAHJw0s8C44MEcwVi7QKVIkux5jGVsUfxBADvANtA07DWIMsAn+BucD2ADt/k/88fm9+KL3TPef+Dj6zfou+8T6o/kL+Dj1hvGc7QXq8uUf4v7eP9wd2qvYddhC2QPbdt3s4DTlrOkn7qryDfcU+0f/dwNjB0wM5BFCF3gcEiKUJ1ArqS0EL7IuCyz7Jy4jxx38Fy4T3w+jDY8MVgwoDMcKOwi7BbICdP/N/E/6Kfnq+Cv5QvpV+0f72/sx+zz5e/em9W3zafAP7YbpEObi4WveWNse2WrXLNdB2O7ZBd084Q/m5OpH8HL1Zvr9/twDIAisDPsRHRfVG2ggtyXOKVcs0C2QLjQt9im6JccgYRvbFUERmg0oCxMKegnMBwYG/gM8AhYAav0i/L76jfkf+Wv5+vlf+Sv5Y/lh+NL3dfZ/9N7xKu6T6tzlHuGu3E7Z6NY/1enUo9WU13vazN4L5IDpae9t9Uf7gACzBVwK8g7iE6IYFh1kIWYmWSr5LJ0uii+xLuMr1SfiIiwdcBc0EocN9wkOCIEHagYCBW8D6gECACP+Wfxu+xH6Z/jD98/35feX9/73O/e+9sf1DPSS8aftj+mu5Irfr9qm1lzThNHB0UPT3tXK2XXfleWh6/7xbvh2/pEDqwgnDeURqRZVG64fFCQWKc8saS8bMegxyzC/LUMpwSN1HdkW+BCwCwwIsQXQA74CfQHZAMj/ZP7N/GX7aPrU+D74M/ff9Sn1N/UR9b30a/TV8r7wq+2E6dTkXd8g2tLVa9LSzyHP69Cs037XCd3O45PqlvHY+Kf/VAXcCsIPSBQ2GbodFSIOJqkqgS4MMZYyXDPdMkkwIizuJsYg8BlME/EMYAdiA6wA7v6J/ij+Af6X/Yz8uvsB+1P5cvca9mj1fvSq87jz9vKM8qLxzu9g7MbneuKh3CbXldLTzhTMEsztzUDRBNaS3EDk4+uP8y/7SwJpCEAOPBP7FxUdvCFjJo4qJC/eMgQ1NjZ6Nlg1JjKnLRQomSElGi8TdQyWBh4C9v5d/Wr81vvP+5/7Hvsk++j5mPh299P1IPSb8m/xyfAz8Nfulu0B64fn6uK13bLYwNMV0NjMNcv4y3zOs9KX2BfgMui+8EL5ZAGnCA4P/hSRGYQeLiM/JxIr8i7fMi01vTaCNxg30zQXMSUs+CUdH9wXxxD9CUQEv/9z/Iv6hvmp+f/5BPr5+db5Sfk9+E73o/WV85Lx3e++7SrrKOnT5o/jl98K2+XVQtF7zdLKW8n9yc/MTNGW1z7f7efl8M75MwIxCusQWxelHIYhpCbhKm8uIjJPNgI42Tg3OTI4VDUrMQssFybeH00Y/BCfCvkEFQB+/BX6cvgm+Eb4Vfg4+Ez48vcX90/24vQX8xHxP+/X7PXpFefu4+PfQ9uz1srRJs2qye7HacfSyIjMWNK02fjhIOu49AP+ZgYmDgoV3RqpH94kaCkMLb8wuzQwOHQ5QDpoOgE5jzXlMHorACW7HQsW4A5lCP8CXP7R+qz4mfdu95D3tPfH9/j3OPdE9pn1fPTu8vPwGe+F7JHp5+V+4YHcJNfU0dHMDsl4xo/FLMYMySPOGNU+3dblYe/f+OoBNgrwEacYHB6FI+Io6ixHMPczujcmOuQ6OTt1Ojg4KTRHL48pDSO3G1QUkQ1RBy8CpP19+l34O/fK9mH2NPZx9k/2lfUj9Xb0c/PC8dDvku0a6rvla+Cy2lnU1s1IyMnDzsD+v9zBKMZ4zJ7UON5K6GryLvwyBcEMMBO8GFsdRCF+JQcqwy2iMXQ1HTnUOgg7WzrsN4MzqC24JzghoBo6FA0P6gqyB3wFzgPfAhACXQErAGj+WPxA+tr3OfUX8wbx4O4P7PXoVeWe4Lva7dO2zFXFmb7uuJm1ebQ0tvy6lcK3zHDYN+UN8ob+4wn5E0EcxSLTJ68rTy+5MnM1EzhmOlc8zzziO0A6MjdVMiks9iWfHy4ZzRKoDYsJVwYjBIICgQG7ABkATf8x/rj8MPtI+f726/Sy8ljwS+3O6ezlzuCh2oLTycvow668ibZpsvuw0rLztwjAAMu51xvl0/I6AFoMlRYCH8QlqyoqLosx/DRON3E5SjvxPPw8ezuOOSA2DjHDKt4kuB5TGBcSSQ2KCUwGOwTdAioCcQEFAYcAof8z/qf84PqN+GH2GPRi8c7tz+lR5a7fldix0ITIIcBruFqyka6LrdGvhbWwvhnKk9fF5Sf0xwHxDW4Y0CBkJzUsETBMM5Y22DjtOp48sz1KPYY75TjXNIcvSSmLI4gdiRfiEZwNPwpWBy4F1wMWAzgCoAHfAMj/KP5U/GP6KPjy9aXzwPAF7djo0+NT3WjVqcyzw72697JLrTyqSKrzrV+17b/YzCHb/+l7+BIGPRJQHC4kFyqtLkAyyjXkOCw7Ez1fPg8/8D2hOyE4ezOxLYonySErHKcWthFUDmgL8wjpBp0FWgTaAoMBJgCA/lj8UPos+DL2U/Qa8kXvh+so57Dhxtpw0mDJXcB4t0ewLKtIqayqr6+BuPXDkdH+3yTvlv0BC2oWsB8AJ2osszALNKk3Gjo5PMM9vT6oPsk8NzovNlAxUSuvJTEg3xrLFdEREg9DDBsKZAgrB3kFwgMlAkwADv6O+2f5DvcL9eXymPCQ7a/pQ+Vc3/TXVM9Sxiy9srTvremp/ah2q6exirvDx8bVuOTp8ygCyw6RGT0i3ii6Ld8xmjXgOCY7dj3UPmc/dT44POc4QzTILggpmiM0Hk4ZAxXtERkPtAzbClUJnQeMBYYDVQHd/vH7SPmz9lX0cPJY8AvuAutv567iUdyW1L3LhsI8uXWxdKt7qN6oMq0itde/As1725TqNfnuBsUShBw4JIsqry+YM3Y3ozpTPSk/IEBdQH4+cjtaN48yeyySJjohPRyTF8gTWBHXDpIMsQpSCRcHbQQQAqL/nvxO+c/2o/SJ8onwxO567DTpN+Xc3+fYf9Blx1O+oLWnrhaqx6jcqrewEbrBxTvTiOFb8Bv+ogpXFTIeOCUgK0ww2DQMOVc8XD/kQI9Bv0A/PnQ6kzUFMAAqiCRoH+wa3xb8E4oRLA8dDUILMAlcBpID4wAD/nn6XvcP9RjzRvGW7+rtY+vf52jjsd1d1sfN8cRivKy0266Mq32r7a7QtWe/Bcv217rlYPMDAFIL8BQ8HTQkVSq8L/00oDmvPalANELFQlVBWz4kOhc1Ny8wKc4j/B6DGrAWBhRyEe8OwwzFChsI7AT/AQv/ivvP9wP12fK38MfuUe3A6/HoV+X34Dbb29Ovy53D4btjteOwFq80sHm0xLs0xSjQEdyU6Jv03f8ACrwSRxoUIbInuy2yMyY5ED4HQctCeEMqQi0/xDraNRswVirsJEsgxhvcF4wUhRG3DvALFQmpBSACwP5c+2/34vNv8Yfvwu1M7E3rqenr5rvj0d+N2ozTFcznxIu+Y7kytp61rreDvJPDUswG1m/gAesQ9WH+zAZzDl0VARyIIhEprS/jNTw7tT40QUZCd0G9PgI7jzZrMT4sWSf+IrEe+BpCF+ETeBDxDPwIuwS2AMf8v/i89L/xvO8W7p3sy+sd63Pp4OYj5JPgX9vW1GbOWsgpw9S+V7xcvM++uMMKynbRgdkt4rXq4vJ5+nYB7AfeDS4UvhrCIeoo4y/SNSk6uT1vPyg/DT0/Oq42mzJmLpYq8CYtI60fBBx6GEAUsA+7Cv4FhgE+/QL5QfXO8gjxce8o7lvtROwr6qLn5eQ24R7cfNYa0dHL+cZWw5PB0sEExBbIt80E1M3aHeLJ6djwIPdV/AgBXAU9CqoPOxbbHUclESxTMVw2nzl2Ohg57jY/NOAwIy3PKSMnbiTMIfMeNRzvGNAUIxCvC58HewM5/5b7WvmZ97X1UvSZ80/yn++R7K7pXuZ+4QvcztbR0b3Mv8jexn3GdMfOyWnONNTn2sPhzuca7NzukvBg8o/02/di/FECcgofE0obdSFvJ3MsHC9aL+su3y4vLqcsNCuKKm4pIyjmJi8mxyTJIcUdqxnOFYwRBQ0SCV4GOQTwAQcAp/6s/Pb4oPSm8Kzsbudr4Tvcitfm0jzOQMssyrLKVcx1z33TndbN2EDa+dus3YnfLOFj417mcOo77/r0g/wpBBALfhC6FqYclSCiIqEkESeKKJQpYCuJLvswVzIRM9czbTMiMdYtrCqdJ7YjmB83HAIaixddFC0RIA4JCkAE4P38993x5uoY5IbesdnD1ATQKsyAyVzH9MUpxYPFYcaSxxXJHMu1zRfQpNJC1dnYdtzT4F7lsuuX8537PAMoCi0S4RgCHj8iVSf2K18vbTJzNpo6Mz35PpBA3kFBQfo++DvpOOk07S8PK/MmLSOXHq4ZPxWrEJsKSQM5/KP1ZO6g5tHfMdrK1B7PL8oxxqDCYL9Qve+8gb1Evmu/v8HgxDbIS8vtzm3SSNb/2c3e6+Nk6arwEPlLAv4J4hE1Gdgf8STbKaUuhzLTNT85bj2kQABDeESARRdFYkOAQM48YjhJM0wugik1JcwgCxwaFxISgQzZBZb+I/fj717oXOE8293VotCly3LHfMMVwAa9frs4uwi8br05vyXCtcWaySPNxNA61AfY3ds74BTl1OqD8lX7lwTwDNQUDRx9IrgnoSzcMFI0nDcBO7o+mUG1Q/dEf0XMROlC7j8MPH43dDKMLc8oLyR/H5oafRUIEB4KlAN2/Pf0lO2h5hfgHtqQ1G/Pkcr4xcHBOr5vuzC6o7oovAG+HMCTw6jHhsvJzjbSmtX22HLcruDA5XnrwfLY+/UF+A5oFgUdvyN8KbQtCTGENPY35zq7PbVAL0MNRMFD0EJjQZQ+XDqcNR0xrizIJ9wiYB4GGtcUCw84CS8DR/yJ9Fbt/ebV4Hfas9Tuz5DL4MaCwhi/zLzWu1q8C74XwJTC88UQytPNJNEX1DXXFtp43T/hReap60LyAPv6BP0OFhaUHMsipSinLJgv2jI4Nrg4DDtEPt5A+0EuQWNAYj8OPQ45bTQuMPErViduIjYe8xn5FEUPowlEBNb9afYn7yPpOuMB3SfXm9JXzq3JB8VuwQ2/pr37va+/IMJ3xFDHO8tMz37SLNUU2Ojaud0L4Vflceom8ET4pQF1CgASIRklIF4lACkTLRIxtzPaNWk4vDvPPXc+qj5KPs88SDouN7oz2C+FK28njSOkH0gbNhbGEHILkAX//i74nvGY62Tlsd952ufV+tBVzPDHDMTxwBW/qb9dwXfDQ8VCyEXMI9DZ0mDVDdia2qPcrN+r47Loyu0X9Zf+rQdzD6kVdR2VI7snpSq/LpEytjSBNnw5ejxPPUM93jxIPAE66DZ+MzIwpyymKJMkvSD+HFUY0hIyDeoH+gEy+1b0l+716PLiF92D2DbUNM9HykvGs8N/wXLBA8OFxV/Ho8kLzb/QfdNY1aDX7Nli3N7euOIw543sXvKG+q4D0QsHE0kZcSCfJVMp1SxhMDUz9jTCNjc5tDqHOgg6IjkAONo1PTOSMNAt0ipvJ5UjlR8rG/QVMRCGCvoEEv+y+Lzyd+1T6Mriht3G2MjTqM56yanF8cKvwqHEAMe4yI7KLs7H0ePTIdXY1onYudmz2x/fpeMa6NPtsPQd/dUFQw0SFG4ZmB9bJNAn5yowLl4xUTMRNV83wDjnN4U2YzWZNHAyqy+wLSss0ymKJkQj1B9aG5gVvQ9MCpEEa/5i+DvzhO6m6WPkfN+x2pnVGtCDyjfGIMRqxbfHWMmcytrNCdJ51IPV69ZA2GTY7thz20Xf2uJW57/t2PWh/RoFygtQEs4X7hvbH2wjlye0Kn4tgzBrM5M19zUmNSc01jKuMDQuIywkK44pbCesJTgkaiG0HKEX1hJ4DY4G+v+E+r31V/B865znwOOa3v7YBdQAzw7KvseDyaXLIszIzNjQ6NR11vvWa9hS2a/Y5dhO26XekuHO5S7s0/Nm+z0C1AibDgsUVRgrG5YdpCAeJcco3SvfLhoybTOFMocx8TDdLi4rAymxKOQnlyU7JDIk5iJSHwkbNxc+EmULVwSX/nb59PPF7r3qKOfW4gHeCdkI1E7P9M04z+/PCc/mz8PTY9YD19TXftlR2U/YKNny2wfeBuBX5LvqOvFI9xL+gwQpCrkOFBObFjIZcRuLHngiQybFKV0sUy6FLnguNC6OLPUpHCh3J3Em1SQOJPEjhSLdHxUdWBrfFbwP4wnpBIP/dvlm9I7wb+yJ5/biyd4A2qDUnNI01EzV69N305fWRdlS2enY6dnk2X7YYtjI2i/d494z4urnOO7l8535Fv9ABM4I+wxZEPAS+hUcGTAcMh+SInImeigaKXopWyrsKZQnHyYSJrglEiQbI3MjASNxIK4dmRukGKYTOQ4ACs0FiABI+y33ofP87g3qY+UM4QLcMthx2BTaFdqc2PzZxdyL3W7cBNzQ2zfa+9je2Qvcl90o4Ofkr+oW8Iz1+fpN/8oCIwaSCQwMZA5CEa4U5BekGh4e3yA+InUimCOmJNIjkCJ0Ikcj9yJWInAiryJnIQ0f1RyFGvUWaxJ6Di0LxAeEA/X/4PyP+RP1mPAG7Aznq+EI3nve5t/739DeZ+Dc4gvjUOEh4CHfqdyJ2sDahNzP3TLgt+R36sjv//T0+az9aADnAhcFUga9B/AJDA0IEB8T2haAGlccnxxyHWEeaB1XG5AaTRtrG/EaaBxcHm0fFR6FHRkcfRv6GVUV5xHhDO8H+QMiAR3+Rvqe9hDzyu4s6YziDdyJ1k3U3dXK2Bbbot6C5Gfpvet07HvsRuqO5xvnz+kW7c7wjPaF/SkEbwkzDogR3BIVE1MTaBO6Ei8SiBJnEwIUpRSeFZ8V/hPSEeUPeQ3KCT8G3QMEAvb/Wv7q/Zb97Pzv+5D7Dfu1+Rj4C/fE9kr2QPbh9pD4dfpv/MH+NwFsA9MELgZFB9wH5QfzByUIJAgFCBkITggOCFoHqwbWBVwEewLLAEz/wP1k/IX7GPuf+jH6Jvpk+j76x/lz+U355PhF+Pj3C/g9+En4p/hi+RH6dPrq+qv7PPyn/Bz96P27/n3/dACLAZcCJAPjA5UE3gTBBEUEywPwAtEBgwAk/0v9H/sE+Sb3ovVm9Ab0hvTY9Zz35vmZ/Dj/hwFYA+0E/AVzBmkGKwbDBSUFTARPAz4CDAHE/3n+Uv1I/H77Ifs2+6D7ZPx4/a3+vf+8AJABBQIQAtgBpwFRAdgAjwCdAOQAMAGQASMCnwK8Ap4CegI9As4BUQEUARcBOgG2AZ8C7ANYBcMGNAiGCZYKNAtsCy8LcQpECbgH0gWeA0IBEv8X/Vj7Fvpu+Vn5rvlv+nv7rvyo/Wb+5/4W/+L+Q/6Q/bb89PtP+xr7XfsM/C79qv5mAAYCbANiBNkE6gSNBM0DzQLBAcMAvf/b/iP+nv0f/a78WPxn/Lz8DP24/aL+pP9VAOEARwFSAdsA+v8c/yT+NP1W/OP7zfvt+1z8+vyo/TH+mv7v/hL/+P6c/n/+5/6d/54A4AFdA6sE0wWvBgUHswa/BXoE9gKMAVcAZf+7/m3+l/7n/iP/Hf/j/nj+wf0J/WH83fuP+537HvwB/ST+O/9IABsBsgEFAv8BkwH8AIIAFwDR/8H/IgDDAFgB/QHPAoYDzQPBA6EDaQPiAiQCegH7AHwACgDQ/8L/zP/T/9//+P8HAAEA7v+8/4v/Vv8l/+j+qf6J/l/+NP4c/ij+Nf5B/mv+vf4Y/1//ov/n/ysAVwByAIAAkACfALoA3gDyAAYBHgEiAQUB6wDKAJ0AVQAjABUABQD0/wAAOwBvAJMAtQDfAPUA6QDEAJUAYQArAPP/w/+1/7//4/8bAFYAlQDCANwA3wDHAJUAVwAGAMn/n/97/2r/Zf96/4P/if+A/2r/SP8b//D+x/6j/oj+kP6s/tP+Cv9L/4T/qv/d//r/9v/j/93/2P/B/8L/0v8AAEQAeAClANsA+gDsAMEAqAB3ADcADgD3/+X/1//7/x4AMABLAFQAVwBOACsA8P+5/4//WP8x/x//Gv8V/yD/Qf9i/2P/Y/9r/2v/bP9n/3H/hf+n/8P/4/8NADIAMwAnACcAFADr/7n/mP96/1X/O/8x/zf/Rf9R/2z/k/+3/9L/5f8IAC4ATQBlAIcAnACgAK4AuwC+ALYArQCgAJwAjwCDAHYAZwBjAGMAcwB4AIAAiQCWAJ8AkQB6AGIARwAdAPf/1v+2/5H/ef9l/1j/RP8z/zH/Jf8l/x7/IP8x/0X/Vf9r/47/tv/R//L/EQAuAEoAVgBtAG8AcgBvAHIAdgB2AHIAdwCHAJIAlwCSAIkAegBsAE8ANgANAO3/0v+3/6P/if93/27/cP93/37/lP+x/8X/2//w/wEAGAAkACEAJwArADkALgAqADQAKAAoAC8AJwAdACQAHAASAAoACAD0/+X/4P/I/8D/q/+U/4n/eP92/3L/Z/9p/3X/gf+Q/6L/r/+4/8//4f/l//f/CQAZACwAQQBjAHoAlgC1AM8A6gD3AAUBDQEEAfoA6QDLALkAlgBpAE8AMAAPAOn/zv+x/5X/gv96/3P/Zf9Z/1H/Sv9D/zn/LP8e/w7/Ef8K/w3/G/8d/zL/RP9U/2X/c/97/5D/qP+w/8j/3f/4/xAAIAA9AFYAZQBvAHUAgACJAIUAgwCCAHwAdgBuAGAAVwA+ADIAJQAfABgACgAIAAQACgACAAcACAALABAADAAHAP7/8P/k/+H/0f/H/73/s/+q/5//lf+K/33/dv9u/3P/ef90/3r/ev+B/4T/iP+M/5H/mP+d/6f/sf+9/83/3v/r//z/BgARABwAJQAnACkAMgA0ADUAOABBAEMATgBRAE4ATwBKAEEAOwAwACAAFwAHAP3/7P/b/8z/wP+v/6H/jv+A/3r/b/9y/2//bP9q/2//cv9//4T/h/+W/5//sf/D/9b/6f/3/wYAFQAkAC0AMgAzAC0ALgAuAC8ALAAmACYAJQArAC4AMAAvACoALQAuAC0AJAAbABsAJAAsACUAIgAVABAADgAHAP7/9P/w/+//8//5/wIAAgAHAA4ADQALAAwAAAD3//j/8v/o/+H/2f/N/8z/vP+3/7L/rP+k/6X/qP+p/67/qP+w/7L/uf+6/8P/zP/R/9//9P8LABwAMgBEAF0AbgB/AIkAjwCUAJcAmQCVAJQAmACbAJsAmwCVAIgAfgB6AGwAYwBPAD0ALQAaAAcA8f/Z/8f/tP+Y/4z/ef9y/2n/Y/9g/2b/af9r/3f/fv+F/4v/mf+o/7b/uv/I/9j/4f/u/wAADwAdACwAMgA2ADoAQABDAEcATgBOAFAAUwBZAFMAVQBWAEkASwBGAD0ALwAmAB0AEwAPAAoAAAD+//r//v////3/AQD3//r/9f/z/+n/5v/j/9P/1f/L/8f/vf+x/6T/m/+X/5L/kP+D/4L/if+O/5T/m/+a/5r/of+i/6T/pP+h/6L/of+n/6z/s/+5/8L/0f/e//L//v8LABYAIgAuADcASgBQAFIAWQBcAF4AWwBaAFIASQBDADoALAAcAAoAAAD0/+j/3//Z/9b/0v/P/87/yP/F/7z/s/+6/63/pP+e/53/nv+T/5f/k/+Z/5//nv+o/6//tf+9/8f/1v/f/+j/9f/5////CwAMAA0AEwASAA8ADQAPAA8ACAAFAAAAAgABAP3/+f/x//P/7f/t/+v/5f/i/+r/5v/r/+j/6P/r/+b/6P/e/9r/1f/W/8//z//T/9j/1v/d/+L/3v/i/+H/5v/o/+n/5//p/+v/5//l/+v/6P/q/97/4v/i/9//5f/w//b/AAALAAAAHgATACkABAAWAEAAHAAzAAsARwAVAOn/JgDF/8b/DAAyABUA/f81AEEARQA8AFAAUADK/9P/FwBa/1P/6P/T/6L/w/8eAE4Av/+2/+X/g/+b/yf/bf+n/3b/0P+r/9b/EADS/6v/uP+l/5X/bP+k/8b/qf/u////FAAhAO//BgAHANX/2//N/+3/GgAVADMAUwBlAF8ARABFADUAHAAbAAAACwAmABoAJAAiAB8AKAAQAPn/7v/n/+P/3f/n//T//f8KAAQABAAAAOP/zv/D/7b/rP+n/6f/vP/E/8n/0v/i/+f/2P/W/9f/3//n/+b/6f8AAAgADwAXABgAFgAPABAAEgAaABAAEgAkAC0AMAAwADAAMAAtACgAJAAlACcAIgAmACgAMgA1ADEALQAoACcAFgAQAA0ABgAIAAMAAgADAP7/+v/y//H/8//s/+P/6v/q/+n/8//4/wEA/P/2//r/9f/z//D/5//l/+7/8//+//3/AgAHAA4ADAACAAkAAgD//wMADgARAA4ADQAYABsAHQAdABwAHgAZABQAFwAiACIAHwAgACsAMgAsACkAIQAfAB0AFwASAAkADQARADsAWgBmAF4AVQBMAB8A3P+Z/3X/W/9M/0L/XP9+/67/x//p//H/+//e/8r/tP99/7b/dQD+AWgDbgOiAhUCcwHE/1v94/vj+6T8iv3Q/pcAcgJ+A5UDqgIcAZv/d/5r/Yn8Vvxi/SL/fQARAToBewFOAUoA3/7b/Zz9/v21/rj/2AALAg4DYwO8AngBLAAO/wn+EP2s/Fz90/5CAEYBEAKmAqQC7gHKAKf/o/7Q/U/9Qf3C/Y3+YP/M/9r/nP8o/2v+fP2q/DT8R/y9/HD9TP5U/1kA2QDKAF8A4/9j/+H+lP62/m//cwCRAYkCRwO2A6QDDQMbAhkBTgDX/8T/AgB8AC8B9wF9AnMC7wE9AXwAq//4/qr+x/4t/5P/BABTAFIAEACG/wb/fP4M/sD9o/3B/fv9fP4J/4f/3v8cAD4AIgDN/3f/RP8i/wr/IP9y//D/WgCHAJUApgDDAKwAfwBhAFUATgA5ABkAAAASADsAJQDj/6//2P9RAK4A4ADuAP8A5QBOAHL/kv4K/sr96v1Q/uD+nP9YAOYA2QB5APT/av/V/kX+H/5E/ub+uP85AHoAmwCSADcAbP9z/sz9nv3X/S7+qf5P//X/YwBVAP3/hP/8/pf+Wv5U/qH+Nf/U/0UAmwDXAAQBMwE/ARgB9wAcAWYBlwGMAXIBewGMAYIBSQEUAQsB/QDlAMIAsACnAJYASgDj/63/n/+v/8T/5v8SACsAAACc/0D/5/6U/hL+xP3Z/Sf+gP7D/g//MP8k/97+p/6R/pf+oP6D/lr+aP6+/h7/Uf99/+f/hgAVAUIBNQFHAXsBlQGSAbEB6AEkAlYCcgJ0AlYCMwL8AbMBSwHWAJ4AsgDpAOwAvAC1APkAWgF2Af4AKgCX/1T/Cv+z/on+2v5x/wAADQCu/zT/6v62/g/+bf0o/aD9Nf6O/mT+Qv6Z/vv+CP93/vb9xv3t/eH9vf3J/Vr+Yv+wALYBJgJnAtoCIwPIAiQC0gEnAnQCtALjAkQDuwMfBC0E5gOpA3oDXQMbA4gC2wF7AXwBYAH3AIYAYQB9AH4AUwDo/3L/J//p/m7+6P14/Uj9Hv0//T/97vx5/CX84/tZ+8n6XfpH+kP6bPqN+qj6t/rU+uz68voB+zr7/PtT/dz+RQCbAQYDdgR/BeUFwAVVBd4EhwQ9BPoDDQSNBFwF/AU4BhMG0AWDBQEFIARKA/ICCgMUA88COQKbAe4AIgAf/yT+of10/aD9hP02/ZP8/fuP+yj7dvrJ+S351/iR+C74qPcD97b2L/a99TH1bPUX9kD39vgq+/f97gD9A0QGvQezCEMJBwnOB0oGHQWLBJME7ASpBeEGfwjHCT8KIgqICZwIWQcMBsMEygNwA14DKgOVAgYCQwFDAOX+ev0v/IT7dfsQ/HP8pPxv/AD8Xfsm+qT4tPZg9XP08/ND8xfzWvPs80n0ZPRB9JP05/UZ+HL6jf1fAqQHbgsbDQYO+w0yDJcIfgR4AVEA3gCSAmUFSAlTDSgQGRFBEOoNvQqKB6IESwJXARECgwOTBDMFNQVxBJ4CCQAj/aH6Dvmk+Cr5Wfqg+8T8Rv0K/bL7DfkW9onz8fH78NHwZPGB8pnzIfTy8x7z7/GN8TvyZfQi+Bb+qQXYDLARXxMWE+wQgAztBbD/VPx+/BH/OQPhCBwPKhSUFuEVnhLrDREJywSiAUIADgGpA50GxwhnCUUIfAVkAeH8rPj/9T/1qfZ9+Z38+P6l/zb/PP0I+rv1L/LR77zum+6V72bxIfNF9PjzovJZ8Pjt4Ov/63Dw2vkwBXcO3hPVFskXMxWqDX4DHPtK9/n3Ufv7ALQIjBGkGGgbhxmQFG0OTgjCArj+3/0mAc8GCAwWD9QPVw5oCicEhvx09WvxmvFQ9aP6EQDFBO8HPQhrBP78ePTD7cbpSehH6c3sh/LY+H/9k/7m+6/2DvAJ6dHieN+F4JrmNfGD/l8MEBgJH7UfsBoVEoQHxPx99GbxPfTV+yUG7BDrGUEfxB9TG3wT2QplA0j+kvzi/poErAvaESoVzBQxEccKeALh+XfzpPCS8bb18PtFAvcGvAg+B6MC5PuD9NXtdeka6LHpX+0R8kr21vgF+Sz3B/Pr7L3lHOFF4JbiAea76zn2lwRaEu4ZjxuPGVMWzQ/SBXL7XfV09S/6IQHtCEcRShlvHn0e+xmsE8gNvgi8BG4CMQMuB7sMJBGxEoYRWw7WCUAEQf7h+Mv1hfZH+rn+BAJSBJYFrQQsAMv44vAa6xnoG+eK58Xp8u1F8pj0EPTB8Mnqa+IS2c3ROtB014/pUQObG2sqUy+iLlwn2hU4/NXkj9jy2GniQPHUA/wX9SgNMSUuhyKQEvkCHPdz8G/wEfliCdoa8SaqKwUqoyFGE0oCFfOL6c7oj/FQABUQSh2uJWsnHyGbEsr+9uu83wTbkdx15DPyqgGyDVkTtREOCXz7BO3J4KbYTdUm18PdLOai7LntP+vB6A7pO+6S+I4FGA8kFIcXLRlsFGsHVPjj7cnqAO1/8jn7OgdwFIQdEyAZHeAW2g6/BsUAMf71AKkJwxRcHXUh8CFGHowVyglK/hH2ZfPZ93kBVgyFFZ4bHR19GJkNGv6Q7gjkN+Ct4ajnZfJ6/7sJHQ5LDIUF8Prz7inkqdyh2TXb9d/a5fXqUOyx6D/i6d0y4Orsh/+GD3UXoRy/IbcgaRNa/uLs1ONS4+/nKPG7/uMP3B7sJVckIh3kEqAHuf2N91r3E/8LDT8b9SSNKbgoLSE9FMAFyPgq8LvvVfifBUwSVhygIlAjNxw/DTX6y+mg4IXezeHy6v74wwdYEmQWvxLWB+34aerR3iXXGdXC2UHjC+5Y9pX5nPZH7QLfOs/0xWfLf+FW/ZITnSG4LC8zdCyaFcb3aeBK1aTVY90H7NoAlBgnKwwzyC9iJIoUVwQB94fvFvH6/DkPviBwLTIzXTC6JOYTvgFr8avn/+gI9Z4FWxWpIfko8ihCH+UMifeR5mHdZdsz4L/rNPvVCRAU8heFE3EH2feq6fneqdjy1xzdC+fE8ar5ZftN95/tT99FzuG//ru7ycbojAstJCwwkzdzOGQqfgta6e/RVsp/z7ncnvCSCQsjDjTVN8svriA7Dsj8NPCw61Tx1gD9FNkmmzLJNkAxqiLkD5X9Me7s5cnp1vimC70bEyfqLEArsR9WC8L08uMr3JjbX+H+7e7+Sw7rF5gaYBXiCK346OlH3/LZU9qi4FnrCfcZ/2IA5vpv8MniutIpw5q38rUkxgjqYxOtLpg3fjkdOOQpugn+403KKcTIzQDfovSmDTcnODh3OlUvLB1mCYD4Zu0K6u7wmgJqGXcsHzdDOc8yuyJiDoj7e+ws5Kvn8vcsDYcePiniLf0rOSH0DCj1auNC3CDd8+Jl7q/+Nw6yF5QZCBQnCJH56ew85ObeiN7D4+7tZvi3/iX++fed7qPisNSgxvW8dLknwMLX+P5PJFA2KDd8NGIuoxrO9z3WPcVFyJfX6OocAHIXHC1eN60yTSO8EOn/2/P67frvBvykEKEl7jK9N3Q1aSpoFy0DfPPx6P3lQ+9dA3oYwSYqLfMtVSiNGW4CQuuf3VXbwd9f6JH2zwc5FdkaLhnIEAUDbPQa6cbheN5N4CLo6vIh/MH/Zf3M9nPt5eBL0vnFML+/vbHCyNMY9BoZizGqNpQx1ikiG5QA8OCfy1nIzNTI53r8iRGGJRoymTG2JfcUHgXQ+N7xR/KX+3AMWB+YLa00qTRdLN4bgQjm+JLup+nf7TD9hBGBIawpeyvJJ4Ic6Amz9BDlI98f4QPogfM0AhQPDxbEFkISvQhh/K3w+OeI4nzhsuXx7Ur2LfuX+/f3o/EH6APc3M8YyKTFDsZ1yc7WfvT2F7QuSzDiKB8iDxjjATnk7s4szPDZ0uwK/7MQzyIkL8IvPiWnFZoGV/tJ9bv15/0ZDaceMiwvM+UyRSrlGQAIN/rz8EnsN/AL/1wSLSHOJxMokiNPGbQIqPVD5+ThKORD6/P1lAJfDW0TbRQMEIYGXPpe7y3nVOKs4TPmge4f9538Av6w+grzgudd2q3O1sbswtLBZMbZ1sT2NhrzL3cxcirBI1YYhAD24WXNKczo2l3uHwFAEw4lfDCtL+wjkRNGBFX5WPRN9sz/2A/pIZwvzTWwM08pExiDBQ339+266ovw8wCSFVsl/CtVKzglIBkTBwnzMuQf3xTjBuyX91wEaQ9eFWMVtg/jBJT3DOzw5Lzhr+JC6ArxdvkC/x8AHvtU8GDiNtXTylfEd8FwwvHIB9on+KYZOi9ZMe0ooh8DFDn/3+Md0FnOM92F8QoESxRDI/wsRCx/IdARkgOf+gD4c/vRBJkTCSQJMAw0yC+VJCQUMQOF9rTvvu5N9asEyBceJgYrQijOIB0V6QTV8i7l8OC/5RPv0vnhBGYOchOJEjQMqAH69YbsB+fp5JvmPuzo80X6lPyr+lz0c+o13kDScslcxVrFVse4zSzeyPsEHCUvIS/bJSQd5RGS/fDiodBP0APgL/SqBYAUXCKIK8gqNSBIERwELvxd+jn+fgc8FR0ksC4VMowtOyISEk8Ca/cu8tfxevidB9IZxCZNKrEmlB6bErwCwPFt5fThy+Yv8DT7AQZZDhMSyhBmCm8AnvX+7KXnreX+5kvrNvFq9gz5E/iZ8hbpG97i06fMGMiLxmDHKM6A3xD9WhymLjQv4CYpHukRmPy24bfP0M/i32f0qgYnFoAkry3rLBAiaBJABIv7W/lK/e8GIRVpJFMv1DIsLpkiNhJQAkj3DfJC8r/5Wwk1G04n/imWJQod1RAdAefw+uX048npCfMK/XAGqg3+EG0P8gjM/iT06usY5yPlg+ZC65HxsPZX+Pr1Xu+k5TLanc9TyBHFZcTwxTzP2ubUCSQoaTTcL34mTBy3CybxONbIyZnRd+ZN/KMOUh40KywwMSqBG38KGv3n9lP4gADeDRwedCy8NJk03Cv6G7gJYvtU8zPxC/UgATAT+yNGLNcqyCIAF4wIZ/h36objaOWL7V34JQNGCxAPHw5ZCRkBl/Yd7Z3nPOat56HrBvEl9mr44fUa7//kV9n/zrTHccSkxFbHqM5e4EH/BCHKNMYzqSg0HoARgvtD38zLGsxZ3tz1SQlRGEolwy13LDch2xC5AdX4fviI/yALXRlmJ04x8jNILrsgWA5i/sz1LvTB9gb/Rg7JH+YqcSulI/QXBAsq/eXv+eYc5nfsSPZIABcIuAu7Cg0HWQGC+YrwNupc6Irps+ss7jjwme8X7cjnkOAe1yjO4Mh8x83IoMlFzxjiIwXPKGg5izSYKAsfnxA89jPXWMVHyl/gg/mUDVwd5yoxMl8uFiB9DU39PPUD93IAJA6qHbUriTSaNcEteh2gCb368PSj9aH5QANREwgkoiwFKvsfmBPtBsX59u2b5xbpWPDf+QED8Qi2CSsGfgEt/G319+266d3pr+uR7HvsHeyt643pHuQg27/Rm8s1yFPGU8S7x5/XB/q2Iow8zj1vMtYnIRnM/Rnat8HxwMDVmvExCk0d3SwENvEzBiZWETb9afH/8cL8Ugz/HGQskzakOGQxmCF6DM/6XfNS9fX6yAPgEU8ikyxSK+QgkhNyB2v8KvK061/sk/Lr+ScAeAQOBaEBff2w+rT3xfL37V3r3OoL633q++iC5o7ijtzE1TbQh8uhxq/CssKay23irQjwL7tEUkBWMeEiqg8U8JrM9rk7woXelv3rFaYmQDLpNccuvB0uCIf1RO4F9ZMEdBXAJNUw4TaONMIpTRgqBWX4QfYW/E0EGQ4yGv4l6SqPJdYY0QsJAqL6PvRy8Qj0bfk7/j8B7AEL/+/5K/bL9G/zS/G6703vcO7262jnD+Jy3WHZs9REz+PKmci4x5bHIcmP08nwsxxMQLFH1jnFKfgaRAJI3tu/ALmfzMjtvAxYIoIvaTXtMi8npxOC/eHux+8o/rsQriA7LN4yoTOxLSggJQ0g/YT4cP62BosNJxV1HkIlfCS7G4kPfgUZ//P6dPgQ+NP48/le/Ob+z/0C+dD1Gvdb+VH3wPEj7NXoQ+XL3rfWyNA7z3nQz9F10dPOkcqTx4TKZdsp/V0mDUJ4RVI4YieKEo/zL9DhubS94dd0+iMYqiuNNKM01SwfHvMJGfeN78T31AnNGzAoeC7CL0UsaSNgFdYG6P4vAakJjRHwFZMYOxssHK0YTREOCsoF5QOOAsEAnv01+cX1XvVg9sL1gvRH9vn64v1P+33zKepK4m/bmtSez6zNpM2szkrP681eyVjEacRw0C/wTx8RSKFSBEJMK1AW0/m303K2fLTazt/1DRkxLwk3gjOiKRgc9Ar++CXwSvhlDLkf+yroLrIsSCb3HQoVxAqIA1cFjA92GTEcXxkRFrkUtBJIDtkJ+ghPCkoKKwj6A1D86/Lf7Rbv0PGi8hf1Fvu5/yH9bvPw6Kzg/9lH04vOAs2vzNfLqclKyF3HtcaIx97SC/O+I/dLblRaQSon+A6s8qvSFrwevIzTwfjCHCIyCDReKjIguBf0Cyf+HvkYAzsVOCTuKskp1SKfGvIV7hO+EHMN0w8hGKweoBynFDEObAyHDIEMqw1MDwQPJAx9CFoC2ffv7CrpLO2L8lX1Zvfy+vj7NvcU7VHjR9sZ1GvOnMw6zrzNz8r9x8nHGcdKxvrMt+WvEAQ8hFENSmQyRhec+8jeycfZwLLOWO1xECMpzy56Ju8bwBVlEHoIPQMACLgU1CAmJiUkLx1DFRgSSBTuFmAWUxYFGr4dmxvrE3EMgAnwCvENaRGeE3MSxw1ACP0BBfkf7x3quewq8lP18vV/9t71u/Ho6hPjLNuD1ODQQNJN1GTRWspGxFTCxcGBwmPJJOIzDh48lVM3S+kwUxRy+gziWtA9zE7YZfHaDm4jxCXtGfIORQ47EtwS/hH/FfgcayHVIEAcaxQSDSUNsxWtHqogEB6mHPgbxBdVEJcKFQpeDfQR4hUYFnwQXQjNAnz/SPqg82zwqfKf9Zr1MfNc8E/sRuay4BPdINty1/nTl9JZ0hDQiMvNxqrCC8BpwiXRgvFLHopCikvgOS0g7glQ9vLj59hM2ybqCACdEz0bTRMBB80F2hD4GgUdTx2pIKQiiB93GRYTrQxCCi8RkB1GJNchYR0EHJsaWhUkDxoMvwzTDisSQBU9E8ULYgWWA48Be/uR9BjyrvIs8uvuC+yy6aHnOOZ45ubkvNsD0kLOUNB/zVPFab+mwMzF68os1SXryw7wMeJDNzz3JAYM9vm+7i7pNOk57837yAmBESMNnQRrA5AMIhfhHb0izyWxJGogwBzgGMoS4g0BEO8WIxs0GjcZVxr4GqIZ4xc+FhQTqw8NDyMQwg16B10CxwBs//37aviK9sD00/EG73vsEOiu4OnaW9jX1a7RDs9zz+3P787Ly53IwMW3xErKwttx/EkjwTy5PH8p+hLnAKz0SO4h7iLzwvvQBqAN5gkP/nP5FgU/F3QiQCWsJXYjrR7bGjwZLheVFCIWrhsRHksYERFHEK4UwxjYGxAevhzJFygTpBBfDOYFiAGzAewB1f77+WL2h/Tt8knxXu/Q6uTjz93r2eTVBtAKzK7Kf8ppytHKjMr4yPTGscmw187z1BcnMrM2GCiwFTwISf8O+aj2yviA/cQD2gZ7Ain4JPTLANYVWCOjJO4hfx+mHaIdJx9rHyYdbBw7HjkdwRRNC/EJDBAQFxEczB5OHYIYdhQcE5gQuQvLBy8G6ALb+9X0QfFK8RvyBfMV8gTu0eZT4EvaC9Ppy/LJX8r5yXHKUcrmyPjDEsQtyonXmOzaC10rXDbtKYQWbAs+BCUAowF6BZwDEQAAABT+hfX770b8TRPpIS4iAR/oHNgZ9xreImcpgiezI6kivh4oFGEKAQpSEIEWUBoCHAwZRROeERMVSRbfEnQP3AvGA4f4U/B/7ZzuzPCx8kvy4eyM48Lb89bm0f3NCcz0yejGi8aJyAzHfMPdxPLNx9xx8rkPNSdxKuAdGxOKD5wMkwoUDBIMxQVoAJ/+8Pla8YHzbAXEFq4aEhfXFR0WSRkHIsIrYC3xKKEl/SJtG/IRpg+pEwQXxBecFzsUxA4uDhsU8xguGJoUuA+jBwz9cPSr8MbwHvKs8iHxXOsN5G7eTtrz1ezR0c6vyo3FLcA8vvG/ZcPhxcHJwdT16jwJhx+CI44bRBVeFA0Wdxd2FVAPGQk2BvACyfvG8m/zLgGUDnMRUQ4IDckOZRckJe4uzy8ELFsoFSXyIFUbGRgKGawaVRlvFTsP+Ql8C2wScheaF40UvA2PBa/+YPld9fLzL/OF8B3tCueH3wHZw9V60g/QxczsxrLA4rscu3q88MGWx0jR3N8A9KYKfhkzG8gVRBZQGgAd3RxIGgMTjQtvB3UEnv5o+V/9KwY9CnoGVwTlBl8NOhjjJLwszyzdKXEnNiZzJBMjKSJYIZAd4hfIEpkO8wyYDlASXxMdEdILVQVK/8L6mPjh9172cPGH68Dm7OGd3A/ZoNQszwfJWcXUwrW7kbbmt6HAHcfazWfbN+4IAhoPUhRjE4IVrhueIa4jsCAKGg0U0g9pC7AFawKfBEUHPAYxAaH/fgLDCGQR0xqoIKsh1SIVJQYoqykkKgQplyY3IiYcXBd0FDATURNmE1MQ+gqyBeMAFPxM+P/20vX98pHtgugN5PPfw9x12vLVps5GyoXJRMfmwYy+x7wFvdXAF8073fztEv46CB4MNQ0QE9ca6iAMI3kiRCDNG+MWxRIlD84N0g6wDQwIZgIIAloEPgh/DQ8SnRRBFgEZZh26IhAnvilsKgMo4SNnIJYdphr7GCEY3xQyD9oI6wJD/UD5Tfes9Xfx/+rU5c3ib99z2+7X4tS/0LHLYsriyELGIcQnxZTGGMX5yJnVYeTR8EX+pgimCQkJABIcHY8g/R+3ILMfehvTGH4XDBaHE+URIxB7C8EHRwhOC/cLhQzIDk4Q7RGMFUsaSR5TIq8l4iaIJSMj2CFSIfQeyBtXGRkVAQ4TBxYBePvr95f1xPHl653lGuB93CzaYNdF09PNPMk/yaXKYMg/xObCfsUAyMDMgdYc4sftK/msAhYGnwhCEYIanh65H/IgViCdHmEdHxvqGbYYuxUlEasMMgtDDIsNPgziCqoLogxJDyMT8xUZGegdyyF8Iq0itiLwIj0jlCGaHigbnhZXEOcJVQNx/Z76OveB8K7od+LV3NPY9tUF0qLMJseJxUHHHsjMxATD2MRVxs7HAdGr3hnpOPKn+6MCOAXpC50Wdx6cHzkfsyH3IaofbR2RHWUc6BgVFccQyw0bDfcNEg3/Cc0HCglDDMUOhhCuE3UYaR2lIN8hfyKRI6Ul6iWpI4MgGx2PGGwRjwmkAsr9gPlr8/DrkOTD3rTZhdUu0G3J8cI2v9K/1cFkwom/Ob/GwifI39B92xLpC/XB/IIA1wXQEDoaNh8QIRYiNiI/I9Ik/CH3HVIcGRvMFhERCw8vD2MOdguvCGEHegcwCtsMyA3jDioTjhjXG+EdJyAqI3Ql9yXEJFgioh/SG/kVUA5sB/wCTP4u9xLtPeTO3WLY89Lmy+zEEMCQvY28ALrBuGm7Tr9yw1nG8c413efsAvnL/ggCYgioFfYgZiVbJBMkyiXBJ+MnvSPmH0cdNRr3FN8QMA+ADg8NKwlkBcQEKAfnCXUL7AvGDhYUtRj+GlMdJyBLIogkLyUuJBUi4B8rGykUmQ17CL0ENf6E9XzsCuWr3WLWp875xXG+bbh1t4y1m7Nns5e347xVvwnImNZt6P7zN/r9/zIJyxWlIMAoKykyJ00pAC9bL5wpAyVuIZQczBZWE0MRbA6RCkwGJQJuAC8DEwchBzQGWQkGEA8WYBqHHVYfCCJeJYQnFiZlI0chRR1XFlEPTQvoBnz/avZH7SDlMt4m2FvPZsTku8q387V0sWCuPK7Jssa4kr+OyMPTeuVL9Lr7Kv/nCewZ0iUkLKss2CtVLWUzaTUqMIEoRSM2HxManxXwEdAN9QfOApf/I/7s/o0BfgI3AhoF4AtCEvIWExu+HgEi8ySMJ+0ncCYpIzceOhjKEmEODgiW/4/1zew15UTdf9QRymjAeLhQtEaxV63KqZ6strNVuGa9IMmm3ODqRPLM+NUDiRGfH6greC5rLMctrTa/OuA2nTDsKuclJiDyHGAYnRK1DJUHPwLQ/b/9zf8gAIr+6v9mBP0JKBDTFbcZshzUIB0lhyb5JfAjbiCUG78XLxS7Dd0Ecft6807qyOAP19jMJsI3uHOxLq1VqMOlI6mRrDOuH7Z8ydrcm+Yu7ED1BgOFFHUlei43LsctIDUNP41APjsXNgQwlymBJKsg3RlxEv4MTwbp/vf6f/zL/Xr81PpZ/JkAYQaJDc8SbRXEGLUeWiMfJV4laSTtIM4ccBp+F8gQ3AfH/2H2Q+v14TXaQ88sws23ZbDpqYuls6RhpVOmmKskt7vIoNlo4/TozPI+BWMYkyZ/LeMvqTIVO+BDSkWnQGE5szOZLqopOCPGGxwUJQyoBCf+Jvou+eP54PjP9xb5/vzXA5MLVxHRFIAYYR0EIkAlXiXcIZoddRsVGngVSA32A1P7JPNJ6tDf9NNIxyG81LOirUGonaJmoZqjM6hyshzEbtSQ2gLgGe4yAiYTVCH2KvstIzJsPQVIE0glRG5AITumMywu3CkQIrQYOxANCCb/2Pmf+fb4W/WS83/1zfiJ/YYEkwtbEBMVghrFHlEhYiPxI4QhBB7EG48YJBGKCOsAd/j97YziKNfByda8vLR4rgCntaBxoQykqqXRrkfC/dKc1yzdEuy9/iEPzh8dK7Asfy8tPKFIV0mxRYhCUD22NcExUy4RJXIa+RJICwUBnvrP+Zz4DvW98wz1P/bk+VMC+glpDc4Q6BbHGykeaSAnIZoeJxzBG2oYvhBACNgBE/oD8Pzk1Ng8yhG+IrZ1rtKl7aADoqmhGqV0slHF7s/71AXfte7a/+AR2yKmKpktAjXFQeZIwkl7SEpEzjyvNk8zlizuIpoaUROyCY8Az/um+QT3m/XK9UT1lPVk+nICxQj6DHkRlBWrGHYbIh2WHC4bOxvOGMoRbgnSA/b9ffU36uXcVc9XwwC7pbEXqUqj5KLNohelU7KHxIzOtNBt2nTr5vzEDs8fMydpKdYzNEN6Sk9KY0maRtxA3TvVN/Yv0SX+HRAXZQxcAfD7xfmI9nj0PfT58hHzj/j+/ysFlwmMD3wULxceGdYZnRn9GUYbFRmvEEoHyADg+wH1GupT22nL+L8tud+yOqqxo62hgqMEq4W5uMeqzZLSbuCq8t0CERIxH9EnKC/JOppEbEhfSS9JZ0YAQUM7bTQFLOMjqRzPEy0JjADD+0n4PPWF9KP09vMo9Y/5Mf/aBFIL9BARFJoV1RZEF+UXERn4GL0U+AxUBWr+9PfG7wfleNZRx3m8f7RFrXGnVKTDooulHbPXwwbMHs/R2G3q6fvDDLUa5yLDKSM2HUNESIJICkg/RxlEpz+uOKMu5iULIP0YFw69A6n97/nB9nv1dPRH8330FfkC/qUB3QafDdMSVxXwFbcUMxReFrEYQxZkDqkFz/049hnvVeWB2GnKWr7etOSs36c6pbqkbKimtDrDSMu0znzYxekj+ykM/xkkIkUp9jWxQjVIZElKScFHe0SRQH050C9lJ0ghqhlGDoIERv7x+Z73i/bx9GnzXPST+E39MwEaBmgM0hDbErATgRJSEpIUQhaLEtMKGQNj/FH20+5x43zV+8evvWu1WKyypgukoqVyrXy7TsctzLfREt6I7q7+vw4QG8ojRi0JOmpC9EXuR7FILEcMRO4+KjZXLTYm3R84FycNnwSZ/636Gvi99sH1ZPXr9m/70v1BAuMHYwwwECQS2hGQEFkRuxJ9EmYOggd1AFD5VPH55sTb3M8yxdq6j7BErU+r+aR6pgG1GMWqzRHRK9de5J/2tga/Em0fCSkWMhI9EkMvRflF2EWiRTZFoD7JMngpuSNhHVsUuwqKBL4Awvw++fr2ivYt95T5T/3OAP0DzwcdDOMO0g4mDRoN8Q/QD20MvAXw/jX69vIV6uDeItMgyHe+dbXfrdupeKk/rSW3l8Twza/RoddJ5Bbzof8XDMoZGSa9MA85Sz9UQRlChEPgRIpEKT/PNkguWSe2H94VMA6HCSYGSQHq/Nf5gvc390n2qvnM/PD/vAO8BgwJ9ge0BioHIQqwChgHAALl/uT6PvT26uDgFNd/zqvHnMBQuse1nrXBuP2/Fsrj0crVo9o/5Lzv8PhDATEM4RilJM4sUjG8M0Y2UDjjOH04CjefMwouoSdGIPMXXBDFCuUGtgPrAEP+DPsT+J31LfRc9OX1BPjf+TD7W/tI+o35bfru+lb6jfjY+D/69fnn+Pb0zvD27XrtJ+7b7grvKu/i7sDtC+5Q7+zxz/If81D0PPYQ+Kn4Lvlw+sP8w/4bACkBpgJGBJwFMwaRBkoHSggQCSYJ/Ah+CbUK0wtPDJ4MvA0ZDzMQnxD1EJsRfBJTE3kTHhO5EqMShRLdEccQSA/4DboMPAuHCbgHGwZmBM8CDQGW/0j+Bf3T+6v6h/lZ+If3sfa69cv0DPR98xbzh/Lz8c3xH/J78rDynfKs8iXz8POt9PP0EvVD9Sr2c/fK+Cz6kfsV/bP+QQBSAe0BrQK/AxMFlQbgBxgJOQpvC2cMDA18DfsNmg62DlwOkg32DL4MrwxGDD0LUwqcCe0I7AeFBhAF0wO7ArMBgQAf/+L9Tfy7+kP53ffJ9tf1HPVl9LjzWfMr8+TyUvLx8RjyP/JH8mny8vJp8wD0pfTq9Bv1XPXM9SD2Q/Zm9gD3LPib+eL6+/sO/SX+P/8RALoABwKSAykF6QaQCGoK+gstDVUOrQ/fEHYSmRc+G8oWdQ6qCp0PFxbLF8cVxRP4EXcO9geo//L5Mvmj/IX/Xv+S+yb3nfO18PftHOyY7MzupfEr8x3zKfI28WvvJ+6l7TTuQu+88ADzavTM9C30sPN881Pz8/JS8z31MPmS/VIAFwIQBLcGiAhdCUIJ6gm3DOgQbxNEEwATBRQtFkEWPBP5EIAS/xJEEVUO3g1lDQwLPAdTBQcDpP7k/aP8F/02+wv6Ovm1+Nj2fPWH9MDy4/F48C7wku+g8JntSeta6orpAehA5kvlEeUr5RPk0uUK6XjrlO318C/0kPeB+8T/+gNcB3kL7BC0FfYXmRizGRcbHhyoG4Ya5RmxGvsaQRxjHrMeShtZFPUQVA8ODhAMCwp1CaoI/weXBUAB8fpP9fjxyfBV86L0UfNq8T/wpu4e6Uni3dyi2lDYLNTk0THSEtLYz3jPcdNF2iThuuZk7KXzGPzsA40Jxw26Exkd+SamLBwusS4rMKAw3C2nKEUkJCOSIw0i0R2bGTwXfBXrEdMMeghaBo4FmwOk/yP7h/i493n32fY/9RDz/fGZ8aDvMusZ5nniZt/j26bWBdGTywDGqMDFvYDA18nr1u7hf+kK8PD3df+wA3gEsQZaDrIaNiewMKw3Hz0kQF8+CTimL+UojiR8IYoeOhw0Gy0aXxd5EoAM8gasAmr/OP1n/FH9qf4Q/0b+N/2b/Hn7v/jb9Bjxyu4j7W7qDOaX4I7adNN8y6DDP73Due66DMJfziXb7+Qi7NPyBvri/2ED7gVMC74VHiMULyM3NjwSQABCuD+yONkv8ijkJNchIx6AGkIY/xZuFEIPgQiBAnb+qPuA+ZX4fPmf+1r9wv09/YP8lvtp+e71PvKk793tWesl5wrh7NmS0kHLB8Tpvc278r+rybjUvN3e5KHrtfKn+Fj86f5IA58L/RbSIsQsljT/OmA/bUB2Pdc38DHhLCYoeCOcHx0dXBsRGVoVOhCWCikFGACU+0r48vaJ9zT5uvq2+1/8fvxy+8b4DfVu8W3uz+vX6OrkF+DC2v7UFc8IyaHDLcFRwxbK59Jp28DiZOkV8Cf2Ffvq/hUDGgl6ES4bpCRLLbs0fjp4PUE9czovNh4xjSv+JSUhnB07Gx4ZTxaSEjoOmAmBBHv/Kfsq+JH2QPbQ9tf3Ivkb+lT6Pfnf9k7zq+967BzppeXA4Z3dGdlr1N/PRssayLzHKsua0eHYuN8B5kXsOPKK99P7mf8rBDwKjhF+GXwhNCl8MEg2ZDmYOZ03JjR/LyMqkCSCH8IbChmPFpYTSRDcDAgJuQQcAM77iviL9q31pvU89n/3Gflg+iX6A/kt9x70HfAi68nmAOTY4RDf7Nu22CDV9tGg0ETRadMj1zPcIuIv6PPtQfMb+F/8bADPBNUJbQ99FRIc6SKYKTQvDTPFNF40DzIqLjUpyyPFHrQaeBe3FDQS8A+WDeYKwQc7BLMAhv3D+nr4Evey9jn3//dU+AP4yvZA9AbxSu6h7G/qmucV5KjfHtsh1hfSnM8Jz6nQmdRl2tfg2uYc7JXwAPSd9tz4A/xUAL8FEgwAE0kavCHfKJ8uTTK9Mx0zkTCtLMknsiI8HsQaXBiFFugULBMfEYwOuArEBawARfwY+Y323fRe9PX0OPZ19/73Z/e69cTyTe/l6zvoD+Xn4XDemdsW2RTXqdXQ1VbXCtq03YbhduVK6VntY/Fi9Sb5Dv1sAUkGnwsoEdcWiBwVIuAmfSqpLF4tmiwsKksmviFgHZcZqxZRFI0SCxG8D4wNogn2BVECGv+y/Dr6h/g2+H/4m/hX+Ov3ovf99uD1L/Qx8jLwPe6n61XoJOWD4vDfcd2r2+batdu73YTgj+PJ5lDqJe7/8Uv1MPgs+5f+dQKSBvYKvQ/VFPgZrB6VIlolmCY4JkIk4iA3HbIZmhYHFKgSChKIEEYPLQ7ICwgJRwYjAx4BYP9T/cX8P/0Z/RP9ZP0i/dP7g/o3+V73FfaH9PvyQfEz78zsW+oY6Hrl7OLu4BrgMOAX4Y7idOQQ52zqFO7J8T31X/h++67+xgHIBOUHWgtDD0oTGhdXGtEcCR7OHVAcAxqzF9cVTxQ7E7ASXRIFEtIQgw4HDMoJ/weqBiUF3gNhAyYDzgKyAukBewBs/3L+R/3M+/P5Rvi59rP0xfLz8BPvRe2k6wnqZejW5mTlS+Ts40rk+eQr5t3nXeqE7drwDfTx9t355Pz2/70CdgVcCH4Lpw5ZEVwTxhSDFYwVdxW3FQkWGBY1FocVnBTGEg4RfxARD20NBQwZC1wKzQm7CHsHgAZKBRwEGAMQAoEAWv8z/sv8ZPsT+gP5ZffD9Qz0ivI88bzvX+7n7JvrV+pN6YPo7ufU50XoIulE6qfrbO2u7xTyaPSp9g75pPsz/pcA+wKIBfUH5QluC9gMPA4PENoREBPQE2AUuBROFEoTkRIbEp4RBxFpECEQvQ8PDw4OygxvCxoKowhGB/YFqwRpAxMC7gC4/yv+qfxA+5r53vcC9lT0zPJM8cPvYO4T7ePr2+ob6obpBOna6O7of+lg6nfrv+xk7l7wjfLH9AX3cPnk+0L+fACdAqoEfwY4CPkJ9wsMDsQPEBEHEtESWhOHE3MTdhOFE48TOxPjEpUSCRI7ESAQxg6DDWsM8gqtCR8IdQYHBZkDIAJhAKv+E/2Z+/j5Nfhp9qP07PJn8f7vk+5j7XTslOvW6jrq0+m26a7p3Olr6mDrcOyu7THvAfEO8wL1CPc0+Vv7W/1F/zsBOgMcBfUG4AjnCtEMdg7aDwoRNRK3EvASXxPREy4UHRTwE9cTsRNLE28SmhGXENIOZQ1SDOMKMAlsB+QFfwTmAioBZv/G/Qb8HPo3+Dj2Y/R48sLweu907lLtIuwt61vqwelX6RnpAukz6bvpwerq6xXti+5A8DHyI/Qb9kb4kPrG/AH/TQGHA5IFlAedCYYLLg27Di4QixGqEkETyBOiFD4VuBUQFrkVhRXOFAQVUBS2EkIRkw8RDzkNgAtZCZgHxQWxA5sCFAHh/pn85/rK+OT2Q/V981Dx1O937k7tRuwy6ynqRenX6HPoR+gS6Ero6Oj76Rjrb+w67lDwW/JY9Jb26fhA+5P9IQDiAmUFawdlCZwLdQ3EDvgPZhHuEikUqhQ/FfMVNhbpFgMXQBaDFdEUPRRVE8sREREnD+MM5wuQCXUHKQaLBUgD/QBk/7f8e/s6+lz4WvYY9PDxdvBT78Pt3ut06oPpuehE6LTnR+fY5rXmNecr6DzpW+ru6xjuX/CP8gb10vej+mv9mQAyBKYHPArgC3AN9A51DxYQ6hHzFNcW5Ra8FjoWoxalFj0W2BXJFA8UdRMGE8MR/Q8qDkgMegpFCP4G2wVfBD0DzQD7/o393vuI+k743/bT9InylfCD7jDtg+ut6WvoR+fw5fnkbuT448njteQb5mnn/OhZ6wLuNfCZ8mn1d/hk+9P+8QJ5B80Lng+aEnAUKhXTFAcU9BOhFRUXjhg3GcAYehdoF4MWVBTAE7ERXREvENcO7w2pC7EJxwjmB68FCgVVA2kBGwCm/gP9yftQ+v73PfZK9Lvx5O8l7n7rE+nF5tXkF+ME4hfhleDj4CXinuP85EznSeob7VbvKPI29U74yvsiAPcE8QmPDx0Vchn0G7QcABx3GrsYkxewF3wZGxvnG+4aTRg0FiMUeBKAEA8OdQwECzoKngmPB/sF2wTEA6sBOwCn/+/9Mv3c+w365ffu9Rb0wfHX7tbrV+lg5pHjueAB3kPb4dm12tHccd733y7jJOdU6hXtcvBp8wX2Qvo7AAMGqwt1EtoZ4R+wI+UlYCYNJWIiACC2HmQd2hyGHRIecxxjGQgW3hHkDWIKJwi4BjQFWwRUA8wB/QB2/7z9RfzX+q75ivjV90H2UfR68rHwAe5E6gfmT+Hz3GTZ+9Uu01bTvdYT2hrcqt/94+nmauls7UPxS/S1+eAB8gkzERsZ+SBWJ2orpi2xLoUuDS2SKxErCirCJ6klcCMrH8IZFhXBEOQLLAi+BUUD+QBm/r77YvlZ99H1fvQO843xJfBP70ruLuy46WLng+Rx4Ozb/tYQ0u/N9MvYzcPTNdp23eTfVOS56GjrEO8O9PT4+f+6CncVDR1jI9ApEC9qMjc0lDToM60yMzGuL0ktLynGJOgg1htyFSwQ/gtMB/wC9/8c/fj5ofdp9dnyU/HW8KzviO3d693q7+nv5+fkO+F/3U7Z39SL0D3LWsZkxTTMzted3/vfXeCT5mntofFK94b+5AM5DFEaQiUFKHEpDy6FM943kjnxN681HTTnMegu5ClGIjEczhnnFRMPBgq3BhkDgwDH/gX7Kvez9X30vfLy8WnxuO8x7uTszuq15wLk0t+U23HWBdCRyt7GI8PCwFjHWdV+3lrdp9zv4zfsbfJ8+7sFWwtyEsog1CwkL90ujjIuOG88YD4KPRM5fTQLMWcuiygeHycYdxVfEV8LSwf1A9T/yP1+/QP70Pf+9iD3QvaA9Vz1mvSA8nvvEO2S6iLmq+Ag3HPWbM6pxwPEJsAVvdXDSdNA3FjYN9Zi32HqefKS/c4Iew0JFMEj6TDAMqcxmDVvPGBBj0LKP7E6KTWvMakvGSnXHTcW7BPJD6EJggVzAcn8PvuM+6X5g/cV+Ef50fif9zL3G/cV9WXxMe8H7vfpaeMR3S/VksxFx7nEc7/JujzCpNKb2q3UftHo2r3nAfPz/3EJfAsREvIjtTKtNCQztjZyPbNCdkQ6QUM66TO3MQcwQyiSHF0V4RLRDnoJEwX1/wr7KPo4+xD6ovjk+XL7afpP+Dv4QvkJ+Ov0zvK58NbrFuUw3nHWYM77xyXDv74ou5K+8stJ1+PTMM2U1SnmZPE7+zUGFQvcD8UfJzHYNZ0zuTXbPD1D90SbQXU78TQHMe0vZir6HToUyhHtDiYJUASE/zL6yvik+vr61vk8+oz7PvuD+X754/u3+zz3ePO98sbvqOh84ETYyc9QyWfFvcD0uRK4hMNP1GnXfc1NzWvdg+6F+j4Fmwo8DPoX/izaOEQ30jRtOZZBk0YNRek9XTX8LyovMSwLIW0UVA+yDVwJGwQr/7D5Hvc6+UH7pvps+kf8I/2M+5n6ef3j/zP9Gfip9BPyxe1w51/elNNiygzF7MEpvU63orv2y3rV4M2syKjV3ufh9H4AnQj/Ca4RgybsN6E56jXJOLtAvUZTR1tCYzmrMeIv7C5kJSgXyg8WDiEKgwR9/3v5IPXy9vD6YPvj+er64/wn/M76a/3oAMP+bvmo9tj1N/I26yHiadjwzi3I6sPdvjS3bLbfxWPVNtJkxlbMK+GI8qP9nQUzCM0L2R3qNKo82DbRNTo9R0WsSDlG9DwBMjIueC9oKioc3xBwDe8KiQXhAL77tfX79Nv5qfzD+rj6kP0Z/if8qv18AmEDK/5D+SX3m/Rt8NHpk98e0uTI6MVfw+W7mrOduEnK+9SAzfLG7dKL51z3TgIcCOkIDRLEKDE7AjyMNk44o0DmRwBJg0JRN+wu3S2QLQ8knBWFDSsLIQcYAn39wPdE9Nz2+/po+7z6k/zn/lX+6/11AXkFNgMU/UH5SPcC9ZnvaeV+2BXPLcrKxP+9Kbals/S++M/u0WTGgMfG25jwO/wXA5UGoAuGHI4zlj3rOBA20TyJRr5KXUciPqkzyC5SLyQrqh31ED8MWAlSBJr/jPrX9OXzcPi8+w77hPoK/cb+Pf6q/2sEqAXt/0/69fho+Hb0LewW4AnTDssJyCXEPrsPsj62P8jT08vLAcPCzvDl2va6/xQENAYlEaooNzsIOzs14zi1QnhJv0nNQ804VjBdL/4uTCUyF00PAQyVBvIAev2q+Kn0LvYr+q36H/qi/Oj/Nv+Q/nYCygaNBAj+lvpz+b73wvK56HjaSM+Ey8/ITMAKtfOwx7vkzGjRfsf5w6nU6use+90AyAI0CFQZgTCfO2Y45DVLPMdEbUqaSZVArjSgL7kw9CwVIcQUNA53CX8EAAEx/eb24/NS9/76GvuC+wT+qf7y/TMADQUpBlIBfPuX+Z35wvZL7lrhjNV3zoLKWMTXuzWzVrILwc/R4s/1wbTG5d+c9I/8wgB9BcoNdyHQNhc8dTX7NWFAoUgdSVpE2jtNMoguJC9+KX0bhhA9DLoH6AHX/lz78/W29Nz48vtP+0n8v/8CAdH//gHMBjcHxQGi/AH7l/mA9QzsT98X1BPN1cjzwuq5uq8OsU7DxNLKzEDAdcnQ4s31Qv4bA3YGjA/2Ja46CTzgNF44IUP9SJVIsEO+OVQwhC7kLl8mBhjFDsIKSQUoAGn+9vqe9Sf1wvlG/In8M/81AisB+v9hBIYJygeFAQr9Fft2+aT1resO3WnRbMwCyIW/GLXorUS0Icc50tnHPr7SzWPpSPkE/g4CzAfvFVkt0DyEOXc08zszR5VKYkfuQDk3uC+WLhstUyJiFJsMgAhvArH+zv1k+bTzdfQx+hz9Lf6KAKQClQGSArUHvgr0BsYAv/2X/Jn6YfTE6IPaH9CfyuvFF728saCrS7ZRynLQ+sPkvtDSmewP+z0ATwTYCTMagjKYPgU5GjbMP1tIEEngRS1AlTUZLvosvin7Hc4RSwthBcn+2/xh/WL43/KA9J/6wv3+/2UDZgR3AjQEbgpYDSIJKAJc/ln91fx59nroW9jtzlnLAsX/uT6vTKtRtDfHfM/VxPi979CO7cT8lwB7BLIMZByrMg0/aDtZOJ9AAkkcSf1EGj/NNYAtpSrbJrMc4RCKCVwDuPzq+hv8xPgh8xL09Pm7/mgC7QWuBowELwYsDJUPswuQBMP/sf0h/Tb3T+kU2UHPK8pXwvy4BLCHqZ2u0cLHz4TGTr1rzm/rB/xLAtEHgQ5AG/Mxi0EiP2I6VkGZSWZJX0VqQPo2+SwLKWwlKhuBD6kIAQIM+gr4ufq3+F3zdPMU+QH+ngJoB7sIzwV0BqQMZRBTDTQHMALB/iL8Dfdv6xjbI8/uxxHA5LUIr1qr+65TvkrLP8eMvz7O3+mn+wMCuggpEc0dBDJiQftA0zxaQoBJtElxRUZAljZ8LGcnnyMUGoIOLQeQADP5d/bv+PL3CfT28/j45/07A9UItgo+CCgIkA1GEVEQYgqwA5z+IvxM+HPtW93jzezDnL7muHWwSqfYpye6NMyaylnALcoE5dT6XAbRDEURyBr+MHBEE0XHPjdCIkmYSdVFCUF7N1QsBSZGIcgXmg2sB+IAGvfN8oP2Kvir9eL0OPhw/EoDEQv/DV0KnAicDXIS3hG1DP8FOf8O/EP4Ce7B3TvQaMYpveizS61pqCSoKrfWyGDJE7+2yJDlm/uvBJ0LDROcHNAw5UQbR5w/hUI6SkRKSEUKQX84Mix0JPofWhehDKYGLAAG9ozw5PRS+K/1ffRR+BD9HgOVCwIQag0BC9QOExM0ExEPsAjyAGj8NfnV7xrfvs4fxea9ILbqrBalSKJDsFjGccw1wtLDg93X9xoHwg5EFNMa2CyYQ3JKa0TkQxZKSEk9RKpBKDx/LzUkXx3hFA8MmAdoAkT2me258L32Pfdo9t74wftmAcIKBhL+EB8OgxD2E/gTFBHdDOQEef2u+MrxauKP0hHHnb5wtEurjqWKoO6qC8ERza7C/b8x1wn03ARUDrsVOBp3KCNAv0ydRsJEjEqqSxxFkEHhPcsyXCdxHtwUFwrDBiUE8vno7aDtdvPT9Rj3SPqZ/GD//QcmECwSKRAyEh4UPBPBEDkOZAiDAHj6//FJ5TrVjcm5v+C2Da72pgmhtaUluwfMB8kcwQbQYOv8ACoO9hYGG7Yj8jijSURJaEUXSrBLh0TkPos9ajZGKxAhSBZHCgEFCAWD/gfymuwx8H3zu/Ur+kj+KADaBYANcxENEYETFxaAFPgRgQ+9CkQCrPxx9tfq2tqvzG/BhrhcsW+qDKMVoqCyD8YGyt7CwMnr4Mj3Tgj8Er0YnR9kMa5DXUeRREZJG074SJJAiz0DOc8wEyj2HA0PTwacBVYCd/cV723vzvFc8yX2p/oD/gEEWgvfDmMOWxAhFUoWCBRCEOEL1gUTAWH7CPFn4tnUisjbvd20i61rpoGiPa77v+nGQcHlxHDXN+wv/RMLkBNEGfEnuzoGQ91B7kcKT3NMIESyQI09qjY0MMUmlxgfDBkJTwYY/fTz+fGT8ULw9vE49rn5df4lBuMJ5QmLCzUQsRJlEmgRtw0HBw4CQv+3+IfsVt6x0YzFNrx6tYqu3qa+q2K9RccOwl2/4c3D4GfxugCSC74PhxoJLkk72TtpP8VK+E0/RwtBO0AVPLQ3LTGwJOAVbA9SDowGrftE9gb2VfO38ZPyH/XV+NIAxQYGBgYG9gmSDoUOKQ+EDnsKzASqABb8APOQ6DHe/tImxye+nbefsHms2bYLxQ/IxcG+xMjSKeFv8Bf/TAiVDfUaeSoXMsgzuz0oSYFKN0TEP4M+iTsWOpMzwie6GwkXTRI2CIT/kvx5+533q/RO8pXyl/bH/m0CTwFXAosFHQekBpYIcQlZBx0D2f6l+OLx9+r34zfbxNF5yZjC07wouUi/csoK0HvM7svp0vrcPugb9T//fgUkD70aTiKCJF8rmzbEPfE91zrNOMA2IDYNNPUtPSaLIU8dChXjC38GpgR5AsD/2/tw+MD30/qy/Zn9I/4hACUBtP9p/qj+/v4K/4j94/nc9CHxZe2n6EjiGN2E2b3VW9JEznTQM9bp2tvaIdqd3E7gDOZ27Nny8veO/1cITA5yEG4TxRnKIP8lWCiXKfwpiirxKU0nNCR3ItQhpR5NGWETsw7uCvgHtQXmAw8D2gLgAhUBIgAJANsAcQFPAED/hP5Q/rj9w/yk+8f6KPoo+Ub3hfQm8oLwvO6C7Lnpx+dX5svmsejQ6droVuef537otukH60rt0O9r8473qvoM/Jr9qwAYBIcHLQqcDNMOUxFPE84TshM5FGUVpRVpFPwSMhIbEkQS6REuEa8QxhDfEHAQvg8wD4UOWg3YC6IK3Ql8CdkIfwftBWAE/wJ3Acr/Jf61/HT78/lD+JH2HPWn8w3yY/Ai7z7uPu0+7JLryOsg7EfsBuyL60vrkOtd7CztB+5O7xfxrfIT9Kb1uvcH+nj80f78AEkD3AVFCBYKdAvQDEYOoA8nEacSARQZFRkWtRb3Fk8XzhcnGDwYSRgcGGoXWxYpFYYTshEDEHAObgwPCqIHEAVEApb/cf1m+0/5Z/e69Rr0e/I98RHw0u7p7VXtyOwS7KDrk+uw69Tr8Ovr6+3r9+sP7CjsXezo7Lrtz+4g8KvxPPPs9Mr2qfiA+qn8BP93ARAEqQbcCI0KUwwXDtUPoBGLE1IVuhbxF/8YoBkFGncauBqzGoAaUxqnGWwY5xYZFSUTJxFWD1UNBQuVCAQGVQOqAE3+Ivwr+mn4yvZE9crza/IV8b3vqu4C7nnt5exw7Arsoetd60brAuvC6rXqs+qD6lDqmOo06wrsIe2Y7kTwLvJZ9Iv2f/hy+uT8pP9eAh0F5QcyCvELjw0iD6QQNxLuE4cVvBa2F5EYNBmJGcYZAhoMGvIZoRkCGfoXkBb6FCoTPBE2DxcNzgpHCNAFSQO9AFn+Ifwb+jv4nPY19fLzp/Jw8VDwQe907gbuy+1v7QDtiuwV7O/rEew57CbsAezk68nr0esR7JbsRO1Q7tHvlvFw81D1OPcx+VT75v28AHoDFAaLCMcKmAw5DrYP+RAnEmoTtxTGFXkW5RY6F1gXaReLF3oXRxcCF4oWjhUqFLQSPhGvD/YNKAwmCvsH3gXFA4EBNf83/Wj7pvkR+Lr2Y/Xn84vya/F08MHvUu/n7mXu+u3G7YbtOe0+7ZPtBu5y7sju9O767hrvfu8c8OTwCvKD8xD1ifYR+K/5Svvv/Nj++QAgA1EFbQczCZMK1wv4DPMN1w4DEGcRmxKCExQUbBSRFOsUUxV+FYMVgBVFFYoUdxM4Er8QFQ+CDe8LIQotCCcG8AOWAXH/r/0C/FX69/jU9732rvXA9NDz8vJj8h7y5PGx8ZfxZPEC8YzwSfAs8EPwbPCI8HfwSPAh8Ovv8O9F8Pnw6fET83T04PVT99D4Zfob/Br+YACrAtIEvgZpCOEJMQtxDJ4NwA7oDyQRQBIRE7cTFhQ+FGgUohTkFAIV7BR/FKITkxJgEQ4QqA43DcULLwpeCG4GZwROAlMAef7V/F77B/q++GP3BvbG9MXz6PI+8sPxXvEC8aLwO/DE727vPO8871rvou8G8ELwWPBR8FjwifAg8RLyNvNt9M31Rvem+A/6j/s6/Qv/+gACAwEF0AZZCK0J2Qr7CzANfQ7TDwMRHhIOE8sTRhSGFMgU7xQMFRoV6RRUFGATMBK/EB8PeQ3pC0YKfwiOBnoETQIuAET+gvz2+pr5ZPhA9yD2EPUW9DrzmfI68v7x4fHU8arxbvE78RvxIfFA8W3xsfH+8UXydPKT8rPy6PJN8+nzzPTB9dn2CvhM+ZP68fuO/UD/CQHIAosELwa1ByIJZQqSC7YM5g0ODxsQDhHoEXoS0RIAExETFBMFE98ShBLfEfwQ+w/BDmgN+guGCg8JiAf9BU8EjgLHACL/n/1O/Bv7AvoC+fj3+PYC9i/1ivQS9MTzgPNQ8yTz8/LS8rHyr/LM8v3yN/Ns86Hz2fMT9Ez0oPQJ9Yj1Fva/9n33R/hJ+XL6r/sD/XX+/v9sAecCYwTbBUgHwgg4CpgL7AwuDkoPNBABEbIRRxKZEt0S3BLLEmISAxIuEWkQYg+DDmUNcQyIC+YKswp9CrEO5wokA+oA//12+9j59vmR+JH3k/e19on27PXv9MDz1PKe8Oru9e1v7Z/t+u3C7nDv4vBx8ATwivAY8RPy0fJs9Fb2x/eW+SD7LPzp/SwBygP8BuII9wl0CygMrg3MDk0QBhK8E28UYBWvFbcWYBerHZ4k3iNgIqQd6RgjFccUyhZ9E4sOIwjPAjX/Bf1m+n73avRz8Lftm+od6eDn3+aU5djl2OQO45fhGeBL3y7fOOB74Fvg9+KZ6NDsZO3+7k/xtPMr93T6Df5ZAKkFIAv9DXgOwxDXFHEY+Rt1HaQe/x7wH80fKB3MG0EcnhykGkkY4xWfE98Rwg/oDUgLjgphCqgHWQT8AXYAyv5I/Zr7x/mj99P1jPN37/rsfuqp55fkPeF33WbZj9UK0uTN48qSykHMY9Jt3Cbk7eQ65z/t2PMb+fYAKwq+ERUZax+iISggNyQUK4Qvui/vLhQtUyiQI/UePxovF38XexViD1AJYQbIBGgCngI+BJUF4waEB9QF1gIXAgQD6gIwAuQAGv7y+EL08e+x6ifmTOGv2/DTG80vxt3AsLxevOO9GsOy0Obcg+H74dbq2vVk/9EJqxU8HwYntS+FMr0vVTDbNxs8QTmQNF0v+ycEIJEZmRLNDEQMpAqpAzH71PhO+kz7iv1/AScFDwhtC9MLQwo9Ck0N+A4FDbsJPgW4///5ofMZ7Crkp9yx0zvIb72MttGx9q8+sXC5Aslg12LeWOEI6xf4bAVvErEfPyqcM3Y7Sz0SOls5Dj/iQIg8kjTnLJ0jnxnrEFoIwwKaAZ//xvjQ8XPwo/Mc9wv8TQJhCCwOyxIHFXkV0RYtGR8ZCRb5EUwMbAXP/Rn2ZOy34JTVxskxvpOzpqxWp7aluaaosAPFjtd+32rkqfPWAuUPJh0mLKY2fUD1SHpIcUHlPeNBPkCdOOEucybxGjQPcgV3+3r1FfaJ9sjwruvY7P/xLvde/vMG2Q6MFjwduh//Hysi6yScInkdhRjEEb0IHf9w9SvqUd/c08jGALiorASlN6CynfCfDKars6fLVOA36jLy2gPQFPsg7SwyOqdDBks8UClM6kGjPCY9FzeAK2ohghhnDG0A9PZd7rXqvu187w/sYuqE8DX4vv4HB0YR/hr7Il4omCguJ74n+Se9IlkbhhQgDW8CvvZ26lLe19Kmxx66Dqz+osed4JvpmySiJ6k2u9zWeOxK9Hj91xExIcgrdjYKQyRJbk+HUTxJfDxcN6g2TSz1H3kWNw6hAQL31u6N5wbnieze7knspu4/95D/8QUyD/wZISNKKqMtOCyzKQIpoyYEH3YXRRETCFf7mu4L4ojVAMsXwMKyI6cvoUqdIZshne6lYLCXwsPcCfKR++0F3hh7JiEv1zn2RYhKxU3cTUZF5DgiMwswcyVGGgYSkwkE/Q7zYexB527n7uxQ8NnvgPPz+0ED0gluE9Ud4SXiK4UuSCxjKZwnzSPTGxgUaA3xA1f3lOoI357T58kBvxazMqnAo0mgB5/loTqpsLMTxQrervJ0/mIIShjYJEQtgTZPQNtFIElqSWhBgjb0Lwks2yJGGeIRRAoTALz25O/46kDrKPDS88v0ffgAACQGbwu0E1gdSiV2Ku0sCSveJ0ckUh8SGIIRWgtGAtn2cepc3xXUUMojwGC1Yqz7pnekzaK9ox+qHLWixnTeQPIn/ZsGchUYIXUolTHxO31CnkbNRoE/YzWSL9crayPoGooU3g0ABGD6/fJS7jbuePKL9Yz2+vnk/xYFSAnYEKQZzSE9J4EpJyh9JW0iZh05F0wR+QsXBD/5Tu094kbYVs/ZxXS8ObSkrt+p+KYxp7ur9LR5w7jYUOxD+dUB9Q0kGWghfyquNLo8f0EMREY/wDZKMOMsCie4H9UZkhMIC3gBQ/ni8vrwM/MR9lP3R/lg/WQB9gS2ClwSVBoKIdQkKCVNI84gaxwFFwwSiw3vB6r/p/Xz6tXgo9eszs7EF7xptkuxj6zZqdSrurFYvMnNc+Do7gH5IwTrDv4Wqx9RKjk0bjvBQO1AwDusNQQyey1MJ0Ei/RzKFcQM5QPD+0P2JvUW9jP3bPi/+gn9GP+dAisIMg85FtUbxR5oH+MdnRotFmgSIQ8hC10Fw/3r9DPrleEv2HHOi8Uivta37bKvr5OtWK74tDnCa9NT4rrtV/cqAr8L4BNGHYgnCzIdOwRAsD62OuU3PjWVMFAr/SYMItcaJBEWBxj/uPpE+Wv4UPgT+VT60vqM+1H+3wOuCjAR4BWyGLEZoBjDFaESjxB1DikLqwW0/qL2YO4J5SjclNPly/fEBr+dufW0FLIrsky4McT10qferui78c/66gL1CpYUNx+5KmM0gjp/Ojg5CTnKN8cz2S9lLeMoOiIdGW8PlQdeA4MACv7F/Fz8HfzD+sr5yvqQ/tAD2QghDfMPhBE0EQYPFQ0EDAQLVQi2BKD/BvqR82fsX+TQ3JvWp8+jyb3DV7+QunG65b7JxtbQa9pP44TpUfGJ+CEAQwj8EvMdVSeBLiMxQjJXMyU18jMeMicxuS6PKeQhNBr0EhQOnAqLB9AEmwKvAF79t/q++TX7+/1YAXoE5wb/CJgJIQnLB4MH0gdzB6cFnQIT/4360/UM8ITqJeUJ4CTbkNVA0D3Mscgmx/PIrsxz04TZt9815ZPql/BH9iT9WgXfDkEXeB5kI40mJilvLGEuWS7TLn4uKSyyJ2Qiax2vGO4URRGfDXUKMQfTAw0Ag/1P/KP8Zf11/uL/lgE5A1cDNgNxAiQDLgNCA3YCrwDz/kr76Pf88/rwy+wp6sLlz+H33h3apNc81IHTj9TN1jDaJt5D4k/m9+qt71v0MfkDAA8H1w26E7AYlhxqICwkmib1J/AolikdKIolViLPHn4b3Rd/FM4QSg0fCj8GjAK7/8r9o/0k/jL/8f+e/wYBRwB5AIgBFgElAm8CZQEeAZ//hf4v/bT4ivmF9UjzSPH461nrPudT5NLhpd4V3evcV9xJ3+Pgf+PN5tboLO0w8Nzz+ver+wUBuAUwCt4P6xK/F1YanxwmHgAfpB+GHrId1xs1GtUXqBU7EqsPswyjCh8J0geaBZcF5gMRAzcEzAO2BJwCOwQcAz0CVwQsA1IDeATdAcEBnv8C/7j+XvtW+0r2h/Vs8w/xTfCz7G3r4ukL6cLn6edT51PnrOc16FvqKeyi7uDvqPI29bf2Ivlz+/z9GgFmA28GCQn1CvAMQQ3IDjEP+g+tEK0QVBHTENgQvA87D5sObw4jDngOOg6FDvINVwxnDfIJ9QqiCHQJwQhVBiIIbQR5BNkEjgIVAc4C4fw3//37Tvrl+9z1wPn283P1vvYa8yv0N/Na8ibynfMq8fHz7/H+8rv0zvJv9Q7zRPbD8xH2g/dq9dr4zvbu+Bn5EPrR+/T79/wp/sb//wD7AjgELQWBBqAHKwkpCisLvAsPDXgN3g27DsgNuQ+jDS4N0A6rC5EMKguhCqwJBwgCCYoF3geqAjME4gO4/yQEGv8IAZ/+eAFG/SD/mP8k+lABLPns/rP7H/um/Fn43vxE9xf6lvrA9mP6Vvjb9rb6Hvaq+TT2p/dc+TD3P/qk+E76Wflo/CL6a/2j+xj/i/68/jIB6v7RAgAADATXAdIDeAM8BMQD6wPqAxkEOAQtA5oFQgKOBXEDrwKIAw0EJAMnA1sDGQQEAtYDgQKQA6QEGwDPBQQBBgSDAmMCPARsAMMEg/6dBIsBRwAuA339ZQRT/YoAD/+G/879jP5e/wf8rgF/+qD/Y/5m/kH90v9S/PH/mv2h/hv/nP2JAZn6owKG/I8AkP3yAGD9If/mAFn86AF6/VgAn//2/oEB8f1lACYAUP6jAjz8pgMT/f8AFACU/kwBXf7nADL+eAGl/o0Bwv9YAC0A0ADZAAsBWwAdAfcB3f7uA1D/ewCpA1b+JwQb/+kB9QKr/UwE3P4CAUEDG/04BNj+aADoAmj84AR5/ckAUgEZ/kQD2/72AHcAOQAKAj7/iAF4ABoArgBLAGQBrv94AfT+DAEaAHr/AQGn/UsAiQDj/HwBbf38AJb+Af2OAzj4IQUd/Lv+7gL2+ecE6vtTAkkACP3tBVr6PwX2/zH9kAcX+dgGgv5u/7AEXfmACBP6TwJiAxf4DQqk+A4D5wEB/EEGbvmFBOoBYf2hBBb/OwCmBC38rwZO/nX/yAZG+rcFov35AoUC6PtMBiD9IwJYAYX8cgRk+1EERf+N/PwFn/iTBA390f+dAZ/5WQcI+G0FMP3l/WgFGPfxBnb8wv6LAhr9OQBp/7D/WQA4/UUCkP1b/ucDuvnhAgv/OP7uAP38IAIg/FAC2P4u/5EDivt2BJ/9fQKlAMT9TAaf/B0EFv8gAnoC3f5wBTP+XAOA/2kCqP+tAJUDufwIBHD+dACaAd39yQF+/2H+YwJF/uz/av8sACQABf3cA276KgSW/HMA3QA0+wUGJ/cbB4X6SQF2Aav68AQo+60CM/2E/3QA5v69/8r/uv6o/ywA1P7p/zn/KQH0/vQAgf5PAPMAPP76Am3+KADoAgD+NAPuAMf9mAMP/RED4v8kABsB6v6FAkL9xwK0/6z/ZQH5/sgA6v49AS/+YgF7/5n94AM3/bkCGv+cAIgAUwBc/6UBvf9E/zoBo/3SBJT6hwO+/gcAbwCx/U4C5f0bA4T8TwKG/ZsBGgHM/BEE0P7nABUBawAA/5UCKP+fAOYBy/6ZAb//eACwAMD/WQHi/mwBWQAh/ksCfP2ZAOMAF/5vAK8Aq/2JAUX/f/51AYb+/wCo/noByv0wARYBJP19Agn+wQEv/9wBg/0gApcAUv04Bcv7BwMP/iEDDP74ABEBt/0oBPb83QPf/UwC7f7iACQBqAB6AE8A3AKw/XoDe/6KASsAFgHY/6MA1f8TAMsAAv+1AWP9bwP7/NYAvwA8/lkBrv53AFP/BQAi/x8AE/90ANj/S//W/3sB2/1LAKsAlv50Ad7+BwH1/pUBq/9kAO//OQBy//MAKgDo/08B9/7jAiX+8gKI/1ABDQGb/ikC6/7LAHYB6v+QAGkAov8IAn3/uP8zAV3+wf92AHb/cAAmALYA8v1iATEAFf/q/0j/fgGZ/UECjf5p/xoBA/+p/yz/xQET/SwCi/5o//EBOv+nATv/AQH2/c8APAA9/lYB2P4RAHcAXP91AFoAK/98AIH+AwFN/+H/GgDe/a4Dsv21AWUBL//RAO7+JAEo/6MAAwFk/xAAIP8HAWn/UwEAAC/+sgEa/hkBxv/5/wX/cgCE/x3/xwHH/h4BQQAo/xgBvP9cABUAtgCOAAgBKgFO/64AL//IAe3+PwEj/oz/IAFK/nkC/P4UAYb+7AFS/93/DQIc/qoCZv/dACsAZv+bANj/YwB9ABoBiP8s/8oAA/+tAHkACf/9AKr+h/9NAD0A8P6EAev+oAAaAA0AxwCU/gkAG/8BAlz/PgFX/gYC0P8M/2MDaP42Aij/awCJAFn/WQI//xsAPgEuAE7/JgHf/xQA+wCM/7sBLv+3AJ//NQHo/lAATAEw/5YA/f6QAP79EgK2/0wBff+HAFr/e/+nAGT/FAH2/jkCHPzRATH+XgFuANP+QQIp/T0CtP8eAOP/IwBzANn/P/6CAiT++/+7Aar+swAd/j3/0P/T/lb/igNH/KACT//3/S0Cs/yaAvH/hwCxAAYAxP81/8gBF/8rAKkCuP0GAaH/pP9hAWf+QgKO/34A+/+5/+z/YADWAJ7//QAx/iUCBv4bAKQC3v2XAWj/AQBW/zoAyQAe/yIAa/9F/0L/zf8B/wwB0P5i/+wAyv0lATv++P4DAFT/iQCLAP7/NQAB/1IA8wC3/yMAUP99AaT8FgJz/1//ZAEH/aUBu/6x/hMAZv9k/wr/8P/3/jv+bwDr/zT/zwApAHL/8gBx/igAPwEcAIUAiwDL/w7/zP76/97+DwDNAAQAfAHv/XMB2P4bAYEAov/VATf9qgGY/oQAxwEl/7gAFv9hAd7/1wG/AFz/EgEG/nUBYf8OAP3/CAAbAIT+xwAk/wQA4gCV/xv/owCI/6EAHAAs/zr/XQDMANcB2wBh/u3/2P53ACMBRAIrACcA/f/A/w4B5wB6ADIA/AA2/5IBLwDD/7IBEf/o/3kAqQAzAS7/2QBP/6UA9gCM/6oBGP9MAUIA5P+SAev+HwEd/+//jgHO//YAHf9jACcBpv///yIB6AD9//L/AwD5AEwBuP/i/8H+RQBvAekAuwEy/30AFADn/0gBqwDtAE8AeP8d/zf/XQAAARMBSgCB/vr/PwCsAPMBbP/Y/07/JwDqAekABgFgAP8A+QCVAPAAZgFpAMcBvwC/APEALgGZASUBawIcAOIBWwGzALEB9wACAX8B7ADdAHsADAB9AB8BowBWANMAgP8tAM3/3/9+/97/gv+K/9v+ef6v/hD//v4N/iz/Xv7U/tn+3P60/R3+T/7o/XX+6v3t/Uv+nf58/uv+Hf5w/v/+HQAkAKIACgE1ACMBXAFkAt0CiQPfAncCoAJfA1IEDgXDBNsDZwSzA6sFpwVEBWcEIgR2BFUE0gRABBAElQIwAp0BKQEoAED/lv1y/TP88/wH/Dn6EPoA9933gfbN9lT2evWS9LvzcvPB8+/0OfMj9JP0IfVb9rb2G/hZ+WP5P/sf/HD99f/AAeQCFAM6BLcFoge4CcILcQzPDOwNHg/iD8IQAxHNEUkRGxGmEQ8RfBHsEB8QGg9EDgUOQg3fC24K0QdPBVIDAALHAB//n/zy+QX4PPaH9Q30zfGH7/nssesi7PHqA+qp6C7nweZx5hTmOeZK5p7nD+k76G3ouuof7+/xx/P69Jz3qvt3AaoGnwk4DJkPURQWGIobkx7XIAIiWyMQJHclXiaoJkYlQCJMIPkeuR0dG6kXURNcDyoMMgm0BbIBPP5p+4340vVS87vx2fCT7/vtQuw96zPrlerA6drmiuQP42bi/eLA4S/gxdwc2+3aK98S4pPiLuOc5MXnauvP8fX18/j3+8AB5wYiDN0RgRcsG3of7CS7J2EpJisULvktFi1bK90peifeJd4jQh9iGlgWvhPLDzYMLwnpBYwCZgDJ/uX8rvt1+qr4u/bC9tf3SfcC9d/ysPGe8YHxvu8y7BPoV+a95FviJ96n2sbYZ9dl1h3V+daG2qjdnd0G3ovh9OeZ71j18fiX++wBEQtaEyQYZRvTHn4knCtEL1UvVi56Lzow8C4PLAEpUSZ7I5wfVxoCFSoRwA4ZC2cGhAKvAMb/pv7O/Ab7afrc+pP6s/js9175v/o6+dH1uvOK8yD03fI475npl+UC5NfhZd0L2CnVLNSh04rTKdba2PfYXNhg3CniT+eX7WvzBffH+r8DVw21E8wXURwzII4kfisqMQoyZS9TLrwuiS60LVMrICZKIKsc9hnhFTgRhQ0vCZgE+QERAfH/pv6r/Tr83/qY+4j9mP3T+836nvsW/GX7Svlg9yL2jPWJ82/v+Opy58PkreCq20vXBNXo1HfTidKg1DjXSdcC1xbc5eCA5WfrzvF19SD66AOGDBESDRabG1wg7iTjKrgv5TDiL1kvNS8pLost1CuqJskg7xxaGnYWdRI/Dl4JHAVUA5AC4gBJ/zD+O/1V/D/9yv7n/rj9a/zq+4z8Q/02/JH5EPfj9fL04/L/7l3qj+X04ffd3tkG1ifUy9K30NrS5dWH1p7TX9bi3AzixeYc7PLwgvRz/W0HEw58ESEXrR2AIuAm7ivOL+0wMDF0MOAusy1ILh8sKyZQIBIdMRrWFhYTTw7oCKUF0QRKA+4ARf+n/oX9+/x1/Xv+d/73/b38FPs9+6n8mvy8+Zb2B/XY8zTyXu+M6tDl/eGb3iza7tXX1BvTjtFD0yjWxdXP0i/Xb92z4Tjll+pg7xrzhvwHBhEMEw8tFRwc8SCCJfQpki1CL90w6jCVLjwtHC7iLKknVSLZHnUbTBg6FfIQLQuiB2cGigQYAncA4f9m/jz9jP0W/qX+Av9G/vT7uPpg/In9ovtu+Cz2xvTV8wLy3u5a6eDkMOF33fTYMdW41AvSntK91HHWZ9N30mXZT94h4j7lsuo67qb0YP8fBx0LCQ9mFtEcuSGAJiMqySxvL2cx5DCGLpsu3C49LDknIyO7H/8bBBlaFQsQAgu+CL4G7wNuATcA1f53/er84vz9/LT9bf4m/Q77Xvol/AH94Psa+VX2fPQS9Fzz1e+B6rzlTONr33Xb9daW1WjTudKe1cHWw9ST0W/X4tzI4P7jtOiK7P7wcPseBDcJ2Ay3Exka9R4oJMMoNCu4LYowQTE+L4MuRC9OLV8pXSUIIqkdTBpNF+cSoA2GCmUI+wQrAuYABAA7/g/9mPxJ/Pb8hf6Q/qv8B/tp+5T8/Pzp+4L5w/YV9Vr0nvJl7w7rKudc4wLfzNov1xXWFNTh037VA9az03XSBdjO3NjgCuRr6Prr1vEg/AQEIAk6DQkUAxoXH48k9ChrK4wtXzD+MK8vai+rL0MtVynWJUwiGh6ZGkgXkRLHDZQK3QdoBLMBWgDd/gX99fuj+5X7S/yV/br9rvzG+537fvxm/Q/9+/pZ+BH3J/bT9Fryne5n6gnmAeIt3uHZrdd81bjUh9Vi1g3VHtIj1dLZi9494Qrlveh+7Ur2m/4JBWsJnQ8OFkwbgiB4JVopHyyKLmMwpS+QLw4wKC94K8AnxCSqIAUdKxlNFUcQkQytCSMGxAKDAFr/u/1I/K77Qvtn+238df2X/fv8w/yu/Av9kP16/Sn8H/qU+DT3iPU680PwX+wC6H7jSt/a2qvYP9eu1cHVSNYU1j/TA9VJ2SzdjuBk5OPoWuyu8wP8DgMTCMYNHBQEGRweRCPSJ60q2izbLuQuYy7bLpUuDiw4KAMlLCETHZ0Z6BWfEXcNXArQBkgDzwB5/2X+yPzY+x77Ffv3+yz94f3X/cv9h/39/HP9J/72/XT8m/qt+LT2DvX18uXvsuva53PjM98Y22HZbteE1qXXMdhB1rTT5tbM2sreQ+Jc5pHpo+2U9Qj94wIBCIsObBS4GF4d4SHuJRMpvSv4LBssCixLLOArSClHJgUjBB92GxIYhxR8EGgNawrfBq0DsQFwACX/Ff58/dL89fyi/Uz+nP7+/rv/Yf+y/iP+df5H/ov9V/x/+mf4NPZl9MXxTe4N63Hn8+PM31vcZNpp2E7ZmtpP24DYpNdy2pLdVuHr5Gnp7eu/8E33Ev3rAX8HVw5oExwX0BoGHoQh4STWJ84o6yf3J30noSadJLgiJCDFHNAZNhaTEkoPXA0nCzIIrgVqA9MBowBNABQAmP/M/+D/uv+G/+H/hgBnAOT/Df9f/uj9QP2a/B77tPkj+I/2P/Sd8Urvm+w06v7mGOSB4SbgUt9x33LguOBi3+LeU+Ag4rbk7+dz6wTuxvE09mL6Nv7EAsUH3QtYD1YSGBWeFwIaSxxfHeEdjx6WHscdgxzBG0MabBh2FlUU/RHkD1YOiAypCiYJDAjqBs0FEAWGBBcEBwTaA1kDqQJkAg8CZgHRADYAkv/L/m3+y/0c/T38evvv+tj5xPij92X2SPXv82byvPBN7y7u7ewN7KnqoupF69frFOsv6p7q+epJ7LLtk+/e8ObysPXd94r5a/v7/YAAnQKsBCwGkgcWCaEK4As5DFsNjQ5hD2kPTg8+D8MOaA70DXANAA0SDU0NIQ3/DCgNeg2nDZgNgQ0yDQoN8wymDBsMdgv+CmkKvwnyCCwISgdFBkcFLQQNAwwCJQESAPD+4/3d/Lr7nfqY+Y/4pPe/9sr1p/St8+PyLPJm8Zjw2+8L7wnvfe+z7zfv6+7m7qjuhu6u7hDvXe8h8ETxUPI/8570PvbO91P5Q/tI/R3/8ADLAmcExwWKBy0JUApZC6EMvQ2QDk4PABCHECYR1BFVEp0S3BIcEx0T6RKnEncSIRK7EUoRiRCVD5sOgg0rDLAKcQknCMUGVQXiA2AC5QCd/2H+E/3q+/r6CPoF+R74VveE9t71OfWU9NfzNvOa8vDxOPGM8O7vTO8B79HucO7D7WXtKe3M7KDs1OxK7dPtw+4H8EvxnvIy9Of1jvdN+Wf7cf1X/yYBCAOPBO0FXQeiCMEJkArXC5sMNQ3YDUQOwQ4TD54PDBB/EO4QXBG0EdIR7BEPEgsS8xHMEYgRFRGOEOcP9Q7rDdUMwQuGCjwJ6geMBigFzQNwAg0Bx/+b/nf9MfwE+/L56Pju9/L28vXz9BP0RPOB8qvx6PBJ8KHvDe9+7g/u0O2n7WHtCO3N7KnsnuzI7CPtse1o7mLvqPD68WPz7PSX9iz49vn3++H9x/+iAVYDvgQWBn4HtQi+CdEKxwuJDCwNvw0iDmEOxw5ID7UPBhBdEKkQ4RAUEUcRahF2EZMRkRFVEfMQeBDWD/wODg4QDfMLrgpqCQkIgwYJBbYDYgL/ALv/hv5I/Q/8//rs+eD4+Pct91j2hPW99PbzPfOa8hDyf/H+8IbwEfCj7znv/O7R7qHucO5J7ivuAu4O7lnux+5e70LwbPGu8gL0fPUK94b4KvoI/Of9rv9xARsDhwTWBRgHOQg1CTgKMQvqC4UMDw13DcENDQ5xDs4OJA+AD9YPBxArEF0QhBCdELgQwxCRED8Q2A9ID4MOsA3MDMcLqAp6CTkIzQZ0BTYE8QKxAZAAeP9a/kD9PPw/+0n6bPmg+ND3BPdI9oP1s/T481Tzq/Ia8pbxE/GJ8Ajwi+8l7+ruw+6X7mzuV+5I7lPuj+4K77DvlPC78Q3za/TW9Wf38viS+mP8SP4RAMIBcgPjBCcGVQdvCGMJPQopC9wLXwzVDDUNdA2nDfENRQ6RDuYOOQ9tD5MPxQ/+DxYQMxBKEDsQ+A+fDy4Pgg7EDQENIgwUC/4J2AibB0oGDgXWA5gCZwFBABv/5/3O/L77tPq4+c747PcS9zX2ZfWa9M3zI/OH8uzxZfHk8GTw8u+G7ybv4e7C7q/um+6S7p/ute7p7l3vBfDP8NDxFfNz9Nn1V/fj+Gz6BPzQ/Zb/NwHMAkEEkQWwBsMHvAiUCW8KNQveC14M2AxCDYENzw0tDpUO8w5fD8QPAhBAEHYQpxC5EL0QuBCMEDQQuw8cD08Ocg2ADHgLUAobCdcHgQYoBdsDkwJJARIA8f6+/ZL8gfts+mf5bviJ96v21/UY9VX0mfPx8mHy4vFt8QHxqPBM8PTvt+9671bvW+9m72HvdO+U773v/+998CXx2/Ha8gr0XfW09ij4q/kW+578TP7//48BGwOUBNYF+wYQCAYJ3QmtCnsLHAylDCANgg3PDRMObA7QDiwPlA/qDyEQUBB6EJkQnBCYEHkQMRDBDzAPdg6PDZEMjgtsCjcJ+weuBlEF8wO1AnIBNQAQ/+/91PzC+8f6yvnP+Pv3MPd09r71D/Vl9MTzPPO78kny3/GG8TXx6vCu8HnwRPAk8CfwLPA48EvwbvCN8L7wL/HR8YryZ/ON9MH1E/d/+Ov5V/vV/H3+HgCuATUDqgT0BSAHPAgzCQUK1AqhC1QM4AxjDcENAA5KDqUO/Q5DD6MP7A8nEFMQaRBqEE4QMxD7D6APGQ90DqMNqAynC5QKYQklCOMGkQUuBNkCjgFAAAT/2v29/Kz7q/qz+cn46fcm93b2zfU69a70IvSh8zjz3vKA8jPy/fHF8ZfxZ/FC8Q7x/PAH8RbxI/Ey8VzxfvG/8RzyovJM8yH0NPVf9pv35/hE+p/7A/2H/hUAkwEIA3cEwAXiBvgH9QjPCaUKdgssDMoMUQ26DQwOZQ7JDigPfA/dDyIQThBtEHAQXRAmEN0PhQ8TD3gOtA3ODLwLngp9CUAI/Qa5BW8EGgPMAYsASv8i/hP9Ffwg+zr6YfmN+M33IveP9gb2kfUn9bn0VPT/87bzcvM68xTz7vLO8qfyhPJc8jbyNfI+8lPyXPJ08pXywfIH82nz9POn9Ib1jPaz9+T4Ivpw+8H8If6Z/xEBdQLNAx0FTAZSB0kIKwn1Cb0KdwsWDKIMFg2BDeANQQ6cDvsOWw+fD9sP+A/7D+EPqw9dD/wOgw7kDSENMAwlCw8K5gjCB4wGTQUbBOMCqAFvAEv/LP4n/T/8Y/uM+rr5AflQ+LT3K/e39k728PWe9Uf1AfXG9Jv0fvRs9GP0UvRJ9Dr0JfQd9B30IfQ29Ez0afSL9KL0zPQG9VD1vvVF9u32rPeD+H/5ivqn+9f8Df5I/4sA1QERA0UEaAWCBoEHbAhUCR0K3gqRCysMuQw/DbQNEQ5gDqwO7Q4hD0EPQw8dD9wOhg4WDoMN0gwUDDQLOAotCQ4I3wasBXsEUQMpAhAB/f/p/uD97PwN/Dr7f/rZ+UD5sPg1+M33afcZ9+X2u/aa9n/2aPZV9lD2TPZY9mr2ePaU9qH2sPa/9tH25Pb/9iD3QPdo95X3vPfm9yf4avi5+Bb5fvny+XX6DPuz+3D8Pv0b/gf/+v/2APMB8ALvA/gE9gXsBtkHsgh4CToK5gqGCw0MegzYDBcNSQ1TDUwNJg3rDKQMRQzBCyELbAqXCcEI3AfgBt0F1QTDA7MCmgGEAHj/d/6D/aX80fsD+076pvka+aj4QPj598b3nveJ94f3i/em98/3+/c++H/4w/gO+Vj5ofnr+T36jPrU+hL7UvuL+8X7+Pso/FT8f/y5/OH8C/02/Vz9h/29/fD9Jv5b/pP+3f4d/2f/sv8CAFkAvQAeAXkB4AFJArICGgN8A9wDPgSTBOMEKgVuBaIF0QX5BREGHAYkBiIGEQYABt0FrgV3BTkF8gSbBEAE4wOBAx4DswJGAtEBYgHyAIEAHwC2/1D/8/6X/j/+6P2b/Vj9Gv3j/LX8j/x0/GH8UfxQ/Ff8Z/x4/I78q/zE/OX8CP0w/VP9e/2g/cX97f0L/iv+Tf5y/pb+tP7L/u7+Dv8k/zv/Uf9g/3T/jf+X/63/tf++/83/2P/p//L///8DABUAJQAtADoAQwBOAFsAawB5AIcAigCTAKAAowCqALQAtgC0AK4ApQCeAJgAjAB3AGEATgBDACsADwD2/9f/yP+y/5z/hv90/2H/Vf9J/zf/Nf8y/zD/J/8r/yn/Lf81/0L/Uf9b/2v/ev+L/57/tP/C/93/8P8CABsAMABBAFMAXQBtAHkAfgCIAIgAiACEAH0AeQBzAG0AYgBSAEsAQAA3ACoAFgAHAAAA+//y/+j/4v/a/9b/1f/P/87/zP/O/8//0f/O/9X/4P/m/+3/9f/1////CAAUABcABQAiACYAHQAcABgAFAAWABAA/f///+7/3v/T/9H/wf+y/6r/of+g/5n/if+G/4L/fv9//3z/hP+B/5D/iP+e/4//rv+o/8b/wf/R/9n/5v8GAP3/QADB/3cAOAA6AIUAQwCSAFwAmgCAAJwAkACCAJYAggCmAJMAIAErAWwAXgBNAD8APwADAB8ADwAlAAAAXgBOApwBiQAUALH/4//B/9L/sv/k/9//EQBXAFkA/P/o//n/3f/S/8n//P8IACMABwAzAE0AYABLAFIASgB0AKsARACaAE8AuABdAMMAbAAEAVgAegE6Bt0CIQGsAPz/owA9AMr/mf/2//b/SgCWAIYA8P/W/+v/0v+O/3T/T/+P/5v/yP9DAK4ArwAJARMBZQGyAb0BegK0AngDRQRLBXcGiwe3B6kJkwl/CKwINgiABzgEeQNyAwcGPQgoBb8Bvv90/sv9h/7p/Jb7jPsu+7j7BP1e/VD+Fv/t/fL+9P7n/zQBfQHYAnQEqgakB/MIigrfDHoPew8eDgsMVgnBB1kGVAN5AZT/+fy4+2z6ZPp/+Lf3nven9Vr1S/WM9dX1Nvch+Yz6nvrA+u78Jf0O/oj/AgDGAOQAvgBUAGgAHP+x/5j+q/2T/Rr87Puh+9/7u/r++R/69Pkv+Z75GPmf+J74AvmV+eL4efm5+Zz5Z/l1+X75zvjx+Bj5nPiO+FL5XPkl+Fz4RfjF+K75Wvrx+lj6kvox+mn6ZPrE+jL84fwD/Wz9Sv0D/Xb9S/x8/IX9SP5c/nL9+/z//N785vxp/an9Nv5f/hv+Qv3Z/LH8Bv3v/GH98v2r/fL9af2W/bX9Tv44/nz93P1Z/oD+EP4x/qr9If0C/d38Qf1G/TX9qPxj/Mf87/yt/Gf8q/xS/Zv8h/vi+wT8Kvyc/Hz87vuv+/36Wfsb/Fz88/wi/ZH8Rvz/+6H78Pu5+7n8/v1w/mv+g/55/mL/kgC1AS8DTwO8A5cDGAMhA3gD3AOOBUIGNgVKBVwFBAWtBFcF9wb2B+cH2QerBloFIAZBB2oHWAfxB+UHugYXBgEGYAUHBWcFVwU0A/IAAgBL/sT8r/3N/Vn8ePuA+u351vdi9xb5kfl7+Kr2nPUK+Ev6+/nA+mj6x/os+s73J/cZ+f36VvxS+0j6cvvS+/77Jvpi+w3+6/82AasA9P5j/4kBQgJ2A2gDvwXbBwYIvgcBCD8KagtuC0kMIQ3iDF4OWA0eDKgNAQ9MEAIQBA9zDwEQIQ9SD1oPOQ93D9AOEw6SDLgLcQs/CogIVAffBS4DuABL/wr/xv7v/TX9lvyF+6j5UviE9bvyWPOK9Iv0NfXC9X70OvRt8r3v2+5E7yTxw/Ix8sjyB/MK8DfwH/Db8Q73Kvfn9iD5l/dW96D67Pqo/XACkwNJBVoF/AO8BgAIeAgGDOoLmgxsDp8LmAyDDgsOyBHGEdwO0xAzEE4PhBGrEUMTUxVVE/sR7hDXD7gRlxIMEigT9BKCEFAOjwraB8QHNQYTBDcDxwAw/of8x/k6+db5BPlB+MT2nfRW84Px3/AZ8RrwNPF19GPzZu7y7N3syOpv6vjrs+qE58rmPOke6R/nc+rP7sjvRfIY9m72FPey+U38sPwG/UYCrQWoAwsDKQXCBf0GuwjWCR8KsgqeDYcNKwtSDDAPFxBjEK8P1g82EQkRkBEsE38TqhSQFpAUcxKnEkASehHJEEYQ2RATEB8NZQssCmII4gZlBdoCjgCI/7v++fzX+i76fvmy93P1qPPR8d7vIe1o7MTte+0q7c3ure1667jtIu2Y6RHnG+ac5W3nfeZn5E/nBOq/7xf0YPOA9Of3YPcC9uj2Mfr6/rQA/gDzAQMCIgGuAnYEVgc3C68NLQ+tDtsMVQ3pDmkPihF5EqETqhU0FNQRGREcEZ4TYBXYFDAW6BVIE98QCQ94D+IQ2BDREFYQ3Q0oC6oHRQPV/6j+Tv7C/ev8XPtM+TH2m/Ll76nuMe0W7Srs6Onu66XucuvR5qnm4uik6Ufo/edb6P3nG+lQ6WjlxOOO5wzrc+1U8SX1cfb89qz6cf1w/iUA/QB5AvQEDwZ9BggHCQfSCVQOQw95DqYPchAUEC8PoA5bEMMSVxNGFFwVxxRuFO0T7RP7FXQXRxc/FjAUnxJ1EOQNew13Di8Pjw7zC5kIzwTRABb+aftf+u76h/km91r1AfOO8EvvsO2T62nqQOr+6Dfo+ei86LvoYOoE7ZfsC+qW537kauEJ37XgreSF6EzuNfaZ+Fr4+/yrAFkAZ//9/80BWwVwBnoFVwa7BzIJPwxJDVMNThDBEfwQcxBgD3MPzBDZEHESYRQ0FYsWahcVFlgVmhXNFEcUWhO/EikTrxJcEDkO6Qu0CJEGqwOdAMAAXAF///P8bvoc99XzIfBb7RPtBO3T6y7pguXL5HfmWee+5qXo2u0h8A7sieW14jXf/Nom2o7f7OiC8Hv11vpB/3b+mf70/6r95/5eBiIJ1wcZCRgKiwl2CdIJGw0yERATnRUkFloTxxFSEp8R8RA5EikW5Bg7F0UWsBZlFS0U0hQxFM0TNhRmEpkPeQy/CG0GaARAANn+uQDV/5T7F/ii9fjyTPCR7YTrU+ni59LnOOe55tvoE+rf54bmu+Vp5LLjFOIY4TTikuIG5DnoPulU6pTzz/1jABkACARbB7oF7gMHBtwIdwppDqURixDyDSgOxg6oDOEL4w/UFJwV8BVIGC8YBBVzFBgWvRVBFdoWhxfgFFwSnhETEBgNlwxSDikN9giaBSsD+v0m+Sr5YvoA+db3nvjN9vLwJut16Dbm3eNI5EnmPeZ15N3kyeSS4hTh1eGr4r/hTuDk4QHp9O387oTzZ/uO/4v/9ABoBbYJcguxDbAQYRHRD4UOYg3YCwwMWA4SEZ8SlhQJF90XJBe9FhIXKheSFyIXlBU+FEATiBHED7YPshAxEZMPlQ1ODGgJxwRZAET8fvj49gP3PPdg9q71IvWf8hntmue55EvjMeNo4Wbh+eO45O/iSuFh3xreP9//36vgH+Tk6pzx2floAYsESwfwDLoR2hFoDusMQw8wDlIJ8gjXCxINxw6bESIUlRYMGQ4b6htyGqIZ6xloF8ISYBCAEKUQpBCiEDgR/RFuETgPeQxCCaoFigLb/mv6ffYk9IrzS/OM8hDyqPE/8BLub+r15cLjVOS240PhmOCi4P/eW9223ZvdjNpm2T7g/uqa8En1ugFbDmcRLhADEqwSEw6iCY4KpgwTCzYKrw0rEA4PRxA3FQIZkRqhHNQeZh4NG5kXbRWyEjEQdxD8EQASbBE0ESEQMw4oDOwJxQeCBXcC5P64+lr1ePAw7pHtxe2B7qXuL+4R7YTpr+OD3zDeT90w24zaet4F4s/f6to02azYpNhy3tHpzPaEBBESlho/G2IVNQ0vBUr9TfgH+uEAZwlNEzAcTCCHH8EcihmIFkcU+hNdFp0ZIRvJGpAZQxekFMsS8xHeEWkSvhIREisQPA1ACj4I5QZaBVcDagAp/GX2RfC069HpIeqe64ntk+5C7fTpR+XR3yTbvNfc1ZbVMtfN2WDbWdvt2+TfHub87N/21ASlEaQX2BaDEjsL5gCJ95Xzf/Ws+6IFjBJfHswkMSXaIXYcYxZ0EYcPAhFmFF4YfhvFHMsbGhnlFT0TUxEeEAUQohCrEEQP4QykCrsIVwYMAzz/CPsk9jrxb+2A6+nqdusE7S7uKO146ofo3eUw4JjZrdUW1BPTO9Pu1APXi9qp4jDui/j7AfENCBiJGDMRHQnrACL3H/Cx8EL3vv/sCQMWLiAFJGQiyx6uGSATNg58DSAQKBRfGP4bxB2zHE4ZFRUkESoOOA1EDiAQgBHmEWIRyw/qDOMI3AN2/g75pvNF7wHttewa7VHu/u8H8YHvgOt15kLgydm+1a7VZ9YQ1j/VO9aO2b/fE+lu827+owoQFvoZ+BSPC/wBcvha8GjujvOD/F8GexDZGAce5B9KH7YbBRaOEX4QjBGUEg0UgxZNGU0a+RhDFg8TGhD/DW4NNw4VEA0SPBMMEwQReA3aCEMDG/zD9KXv2O0Q7uPugvBw8yz26PX38bPrz+T+3RjZMNbQ07PTYtfF2uHZuNil3WTnr/CB+mIIDhb0GgYXyA8+Brr5uu8N7r7y7fn/A9UQdRstIIEgFx9dG0gVPxAiDxERuxOKFo4ZoBs6G1QYXxSGEH0N0gv3CyQOBhHiEjsTfRLyDzwLrQUXAPj5OvMu7srsMu597z/wP/Kz9If0CPAo6eDhTNq506PQvdAK0rTUQNkD3U7eDeGl6Pjz0QDPDT4XKxmiFNwMbQLj9eLs4uxd9G/+NgkCFD4cayAiIYMe+xj9E2USJRMUFEsVEhglG9MbixkVFsUSMBCDDpMNtw1sD2cSfBQrFAsSUA91C/sFgv+n+Dvyu+2x7Fvub/D48bbzJvXJ88Lun+fs39HYvdLCzx7QntEo0/bV59jh2kbgQOs0+RYGABH5F6QYXBKqBzb86/E47EruePegAkINzRbaHcYg6x8pHNMW1RK4EbsSthR2F6IaKh08HZAanRaYEssOMAzlC90NKxGwFOsWnBaTE+AOMAmMAmb7dvRM7wrtvu3z70Dyq/NQ9Ej0FvIe7JvjJ9zT1vDSps/izsXQmNP91JvVhNrE5BXzlAK0ECMZSBqrFSAMFf+I8XLpJupD8kb9+wjHExwbth0FHUga+hXIEmcSHRQ5Fs4Yxhu/HRod+Bn0FTYSCA/SDFwMvw3oEAgVIhizGOwWeBNbDqsHfwCY+S7zfO5s7aLv7PKq9TT3bfcY9XvvTOdI3mTWJdFXz/7PBNPq1gTZltiO2ZDfjOjp800CvhD9FykXUxIRCmX9QfBd6h3t9vRN/5oLSBbzGwMeUB5nG9gVVhKqEksU/RUXGZEczB3gG5oY8RTgEJsNgwxlDV4PxBLrFjcZFRjHFGEQewptA5r8uvbv8VTvMfD48hn1tfVw9d/z4O8L6iPjY9zY1rLTZdIN0pzSC9S01SLXkdyB51/1EwN0D6wXPRh/EiYJSP5U86HsS+2l9Mb+ZQkdExQZ4xreGi0abBdxFFkUmxYuGO0YKxoaGyYahxfqFKQSGxAvDh8OfA9QEdITaRZGF58VQRLLDd8H8QAS+vzzfu/y7UXv5vGT9EX2ofYG9IjtzuQt3BjVq8/QzEvNwNCf1S3aFN3p30zl/u3T+dgGKxEWFd4TWQ8gB9T78PEa7orwQ/fCAMIL4RTBGccbyBylG4cYgRaaFpoWTxZRF9AY5xiLF+0VeBSoEnkQMQ8oD7EPDxGNE4IVSRVaEz8QYAsXBYD+Gvgt8mTu4u257wfyqfN79Bb0cPH76zzkJdsB0yTNe8rdyojOX9Qq2Gna5t9T6x75RAWMDg4UvxReEFUI+/2/85/tse5d9Sb+ywdPEbsXnxncGWQa0hnWF9MWmxeLGAAZlBnmGcAYQhY4FPgSFBHyDkIOKQ/AEAsT2BUvF+QVyBKhDuoIqQFI+tzzV+8k7ePtbPCY8t3z+fPm8Y/sYOWh3XfVj86fyw3Mls1P0ATVvNpL4Pzmw/CT/YYJyxDxEiwRyQs4A835zfLL8NDzVvoEA/YLfBKMFfEWjhhtGUcZhhnOGv4b6BsHG6MZtRdqFXgTkhIiEo4RcBHqEUkS1BL/E/kUvhQlE28QbQxCB3gBffuF9bzw3e6o743x8PJK8xbyde416OngU9kg0jHNnMs9zdTP79Lg1TrZtN4o53bz4AEqDisUvBTKEbkKxP8X9X/vru8O9P/74QbTEBUWMRfKF/MYGRnNGJ4ZHhsMHLgc8xyKG9kYJxZZFB8TyRHhEEoRAxIbEgcT6hTRFdcUsBLbD88Llgb0AAH7DPWR8OruaO9J8MzwAvEu8EPtP+jx4XXaJ9MEztPKNsp4zGfQbNSx2Wvi6O0d+5EHKRBIE+kRkg0QBmL8lPRS8pT0I/lmAO8JZxH2EyQUaxVqF3cYgxlcG/8cnx1FHTMcVhoGGPEVahR/E7ISORLdEUsRMBFCEt4TiRT7E1oS+g8+DJwHqgGE+xj2iPGY77Xuz+6f7x3wVu+R7AjoBeKM2sfS/swayqPJW8vxzqPT6tm34dzsbvvXCH0QixLnEQwOlAXi+xP2qPTR9dP53gH4CmYQNhLsEsATAxU3FygaZhzXHVQfzh8AHggbvhioFjMUkhIyEgMSTRGXEM4Q7xEFE5YTeBMOEnEPCQy2B0UCFfxt9jbywe+w7rfu2O4B7hTsdumJ5Qvg3dn501vPEMxfypPKi8yU0KHXLOGr7LX5hAY0D+4RwRDfDBYG+P1O+Bz3SPlf/WsDBgqODloQrRBbERETyRX7GCgc2R6CIGAgoR5THPMZYBcTFRUUphPIEtsRNBGLEC0QVxC0EJgQyw+ADo0MdgkMBdf/RPoK9S7x7e6m7bHstet+6njoK+WZ4M7awtRdzyfLzsjtyPrKdM6c1BzeaOrR9+oDcwxzEFoQFw1dB/AAcvxL++H8KgBrBVcL8g6JDygP+Q/zEVEUFBdwGqMdvx84IHcfPR6fHJgabxjxFssVXhShEr4QQg+uDokOSA6+DRwNZQzuCqUIfQWQAQL9j/j69Abyku+n7QjsBOrY57/l/+KP3jPZW9Tb0C7Oo8z9zMPOsNFT1/TgLe0m+cECkQnVDIwMkgkJBh0DZQGzAWME6AiMDWAQaRGnEdcRYRI4E1gUoRUOF8QYTxpVG/obURwWHBob9RmAGEAWmRNPEbYPxg4kDnENgwwlC2gJWgcFBTYCD//p+xz50/Yr9eDzZPLz8CjviO2261jpu+av48jgR94Y3CvaqNim17jXednk3IzhSOdE7Vvyc/Xe9qj3Uvj8+DT6MP16ARMGBQsXEJcTSRVtFukX6xhHGYQZehkdGbsY+RigGQ0a7BnGGfAZixkdGFEWnhTCEt0Qtw8NDy4O5gyoC4YKCglRB78FIARHAo0Aaf9k/uX88vrz+MP2Y/Qv8gzwUu386QHndOQH4nffKd0n27LZMdkd2v7br94X4bXiiONa4xzjt+NE5VPnc+rG7jn0WfrOALcGwAuKEIIVyBlbHKodAx+jIFIiVyR7JhAoASnqKXQqlylvJwslgSJMHwgcSRm8FsgTwhA0DsMLCAk7BrQDIgGA/j78ifqo+EX2x/NS8Z3u5Ot56SDnnOT74affkd1j2wzZQtf41b7U6NOy1EPX89lv287bYdyU3W/f6eEZ5evoEe4v9e78SwNSCIYNxRI/F3QbvB8yI04l1SfbKjYtQi4QL0YvnS5nLU4rUymvJSQi+R7dG6QYXhWJEj4P8QvkCH0G3QM8Af3+Nf1G+4P5JvjV9vf0BvNW8WfvM+0G60/pNeeX5MThWN+W3AjaLtj31tzVjdVU1wHafdtO20Tb19uj3CDeHeHa5Efphu9p907+agNGCE8NUBHKFHoZOR6RIVYk5icsK8csfS38LX4t9ivGKssprye6JEMiHiAXHakZyhb2E4gQUA0PC+wISQbbA+QBsf8g/Sj7qvnI95b14PNW8iXwzO3o6y/qvecg5Xni7d8l3evaYdnv15DW+NU510nZ39qw2kHan9rD22rdWeBV5KPoLe599VP88ABUBWUKrw4nEuUWERzUHxEjJieMKuYrhywsLa4sNStZKrEp+yesJdYj3SHwHr0b/RgSFrESug94DR4LTQi/BYUD+QBJ/iD8YvpW+F720PQi89Pwhe637Pnq2Oil5nDk8OF834bdKNxI2o7YcNeT12fYxtnM2mjaC9rw2v7cIN8P4gXmt+pX8Pv2z/wrAXsFbQr+Dk0TMxjjHIgg9yOTJzUqZisDLCUsZit5Ktop6igeJyElTCMiIW4etBvkGOAV9hJ5EBcOVguFCOwFTQN+AMr9eftA+R33QvWA83/xO+9B7WrrjOlw52/lTuMU4RXfet2t26vZg9gJ2ErYINme2hTbvNob24nc/d3k31/jcefo65Dx4ffU/PMAoQV3CogOGxNgGOocfCA7JMUnxymlKkIrRytiKq4pTClHKHkmzSQqI8kg5h1HG5wYjBWlEjIQlA2aCt4HUQVbAkf/rPxd+gf44fUn9FHyNfA/7qvsC+tI6aHn+uUK5CDiqeBF36PdA9wT25Hab9ok22Xc2Nyg3CDdXd6X32jhguT957zrvPB09gv7+f55Aw4IDgxrEHEV8hmnHU4hjiSrJtwnvCgAKX8oCyjaJ0cn6iV4JP4i6CBnHvcbYxmEFsMTQhGPDpcLtwjfBcQCq//m/Fz64/e29dbz6vEE8D7upOwJ653paug75+/lruR74zHi3+Cm377eD97P3Vfefd+E4OXgC+GG4V7iouOu5VDoMuvt7rbzTPj/+7L/uANqBwALWA+7E5oXURvoHoQhDCNUJCMlLCX4JCYlQyXSJPgj9CJ0IWYfQh3zGkoYnRUqE6oQxg3WCvQH4wS9Aeb+Xfzh+bz37fUk9EfypvAu767tWuyE687q4+na6BXoMOc85mLloOTl4x/j9uIh49LjnuRj5arl4+V95kvngegi6krs6+448gv2s/nW/AkAbwO3BtAJTg3kEF8UrxePGsQcSh6QH2cgzyAEITUhdCFmIcAgqB9SHo8ceBorGL8VTRPjEG8OsAvdCDkGoAMFAYH+Pvw3+nr4/PaR9Qn0iPIb8env7O4y7tTtbu0O7YDsIuy961Xr6Op66hLqxumY6aHp3ulW6tvqXOsR7HfsEu347VvvtvBr8sr0Rve4+U388f4rAXsDBAaPCDULTQ5dEdMT7xXOFysZMRomG7sb+Rs4HHwcHhwfG+AZURhjFlgUdRKMEKAO+wxPC0cJMgc9BU8DKAEy/3D9svsX+pP4HfeJ9T/0RfOJ8u/xo/F08QbxtvBF8NfvPu/U7rXui+567nnuoO6N7pruHu+k7yXwsvCS8UXyzvJ28xb0vfR29cL2OPi8+Yj7nf2c/2cBYQNiBW8HtgkbDDMO7g9zEcsSuxNxFBUVaRWOFZgVaxWzFKgTghJtEWIQbw+rDsYNzAx+CxkKVQh2BpYEmQKxAOT+W/3e+4H6Q/kH+Nz2EvZm9c30LfTE81bzzvJk8gzyzfGl8cvxCPJq8sPyI/Nz88HzHvRo9LT08fRD9Yj15fVE9pT2xfYa95f3Mvjm+Mf5xvrT+xf9U/6R/8EAIAKmA0EFxwYjCG8JtQrbC98Mrw1IDscOUQ++D+gPyw+tD2oPew+HD78OPg5pDVIMLgvVCWsIzwZPBZMDLgLeAGD/+/2Y/Hn7IvpA+VD4avew9v31p/UP9bL0T/Qx9DX0SPR69LP0EfVD9Yv12/Uh9mL2zfY695P38/dX+Jn45vgt+V75ofnn+Sr6UPqm+gP7afsJ/L/8i/1i/kb/OQAUAewBzAK9A7UEtgXLBr8HqAhzCTIKtwpBC8oLRQykDOEMAg3PDKAMLgy2CwYLcgq0CREJRQh1BzsGYgZDBrQC+QASAEL/Qv4h/Sb8GPtW+m755PgX+FP3Uvbs9ZD1U/V09Xv1k/Wv9eT1CvZ89tD2FPdp98D3NfiN+On4Wfmr+db5X/qk+mP7qvtk/E38hf6YA6IDUQQmBvIGNgcqB10HwQYpBzoHQwdBCAMJYgkWCjUKZwp4CiUK+wlZCZkJdglYCYcJ6QjCCK0ITQjmB3IHpQYnBtcFpgSeBI4DbwICAVD/y/3W+5X7r/mI+IX3jvVj9Hzz8fEI8PjuL+6t7Lrr0Opk6avoBeiZ52/nR+ed5zHpf+s07orwP/Mh9g75Xvwh/0wCFQYOCvoNAxKeFqwZwhpkGzUbQRpNGXYY3BdXFwEXPhZqFHESehDaDjoNQwxaDCkMpQuSCmAIjwUTA68ATf6z/Pv7J/uJ+TL3v/Sb8kLwrO1f60jpreYL5Bvhxd0p2vnVntJS0LXOq8xhztPUb9vU4aLqtfSt+mT/qwWJCrgNGRPjGYkeDCCqIoQjJh9PG1oZwxhXF44WnRWXE+gQRw11Cb0FswXwB9kIEAqnC4EMGgwdCwcMgA3TD1QTSxVdFVIU1xH/DNIGrwF9/ZT5HfZ+8errmeZa4ZTbz9Wz0fvP4M5dzAbKNcmOyLXHp8jSzG7VU+F27m78RAkTEQsVpRjWGakYgxnvHNYexx6yHQMaahOWDBQJegh1CFcJ3gvpDVcN3AvdCqkK7wxlEYMVnhhLGzscVhpjF80VchXUFb0WMxcyFlcTxg5kCHcA+vgH9MXwF+3L6HfkueCL3IfX1dKtz/PNXcz0y0zLaMnhyNTKfc3X0i/eFO6s/lkMMxX7GbQc9xtwGCUWsxaAGNQZERkHFYkOxAfMAi8BBwOqBlwLBhDhEsUSVxEmEdYSxhVpGXEdaSA6IFMdohkmFgAUoRN9FF0VMRWgE4UQjgsFBTP+SPjd8yrxd+6U6u/lmeF73RfZZtRF0DLOVc60zSXLo8m3ySTLQc4g1hjjt/TRBvoS5hlLHhsfphp0FdgSQRINEz4UjBIODYIGzAAq/MP6NP8MBloLIxCMFKoVFBQNFEwW1hh4HLkgLSK2Hwoc+hguFZcRfxHyE34VLxUzFMsREg3sBz4CcPse9hL01vG+7A7n6uJ934DbBtfB0tXPws4KzdzJdMY/xdbHNs3w1e3hb/K6BCwSvxjaG+0cHRqaFfASbhG8EEQR4A+fCv8D6P7j+n/5X/0VBEUJ4w02ExMWVxVHFVcYdRsUHiMhDCNuIaodZxqhFtwStxFeE64UZxS3EwYSZQ58CQwEVP3r9j7z3PCj7KbnBOQc4bvdCtqE1qHSfM8czWvLislsx9XHccvI0CHZpOja+7cKhBSPG8ke4RwpGEYTfA/tDUsOlQ4rDEYHvwJF/qr5//hh/rEEywiIDrUUMhcNFxsYGxrPG1ge8iBvIVwf0hxVGlsWPxJJEXwS7hKDEk4SARGvDQ4JoQKw+j/0NvGk7hHqB+ZV5BDi+t2F2Z7UhNAGz/7NEMuMx6rGUciiy6TRWdxu7SQA/w3iFTYbrB16GkcUfA/hDOQL6wyrDecKaQYkA3z/L/sT+4cAzQVRCdIOTBVMGLQYUxpBHBUdGR7NH9cfSB0fG9EZ1RblEsoR4BJkEgQRkhCoD5EMCQjpAUT60PMJ8Nvs1ed34wbiseFc3yTbndeP1GjRuM2Dyz/KG8gIyFbMB9QX3W3rZ/3WCiASwxcJHAQaHhSkD30N6QsAC6ILXgvACKAFCwMlAMz+VAFABEcGqQooEUQVwxY9GSwcax1LHccdJR42HQUcoxtJGlYXpxVSFXITDBAiDkENvQpuBn8BCfyc9hzyIe526VLlV+NF4prgzt2+2lXXMtRu0LbLwsivx/bHL8qj0OraqehI+LME0gwaE9kX8RdfFI0QXw7vDfoNGQ4cDmINhwvTCFgFUgJOAuEDjgRSBgALIhBTE/YVixhMGiob5huGHCQckRsCHJUcKxvjGMgXUxYAEzoPxAyAChYHBAOA/pH56fQG8fDsDehe5OHiAuIZ4EzdHdtQ2RTXcNPZzzbN4srEyQbMgNKw2yLozPVXAcIJwRDxFGUUSRGMDlgNAg3DDYsP3hE+E+ES/BDjDWsKHAg2BnIEiwS4B7cL5g4gEkIVkBeDGOQYnBglGDAYABnCGaQZZRlPGScY/RTgEPcM6Qg2BD7/lfrY9t/zKPEf7hvrfugo5u3jcuHS3nLcvtpn2TDYOdf51ZDUm9MP1KbWL9sP4pfqg/NP+2ICUgglC2kLEwv8CowK9gr4DPoP3xIVFZsWEBdMFrAUXBJDD2EMFQskC3wLbAxmDq8QGRLqEmsTLxNGEjQRlhA3EAgQNhCeEJsQnA8YDggMBQnkBH0Avfyi+SH3bfWV9PrzL/Mu8tTw2O5D7JLpOuc95aXjfeKh4Zjgat8t3mDdnN3C3u7gI+T253jrCO+T8lj1RfdF+dz7uP71AcMFLAqyDssSTRZwGQYcjB2wHcUcNRtLGTMXRRXwE2gTaROVE5QTBxOxEaAPVw35CrgILQd4BigG7wXWBcAFSwVbBOYCJAGm/4f+m/30/Kv8ZvwF/Ef7M/rM+On2x/R68kDw+e3h6xrqb+ig5s7kNePp4Uvhg+Ga4i/k9+Va537oteke64fsFe4L8InyjfX6+MH8igAmBJQH6goGDrkQyhJkFLAVAxdpGPYZlhsbHT8e8h5gH3cf7R6vHTgcpxr7GCoXYhV7E3cRdw9tDW0LbAl8B08FBgOsAFn+Efz0+f73wvWm88nxMvBj7pjs9epT6d7nguZg5UDkL+NU4qzh++Bt4I3guOFu4yXlrOYi6HHpgOqG65DsrO3j7v3wK/T99737rP8RBGUIRAynD+8SzxX8F7gZRhuwHM0d4R45IGYh8CECIg8ieyHMH4odeRttGREXyRQAE3QRog/QDQ8MBgqdBxgFtwIbABL9YPpQ+I72rfT28q7xdfAX77btfezr6g7pTuf55aTkQuNX4vnh2uG84TvibOP55FrmQOfs53zo7uhL6evp2urr66ntxvDv9CL5Tv3aAZwGtAr5DaYQ7xLYFGgW6xd2GQAbfhxBHgwgQyGCIVgh5CCxH6kdgBuwGRIYgBY+FW4UhxNhEu0QJA/EDOUJ3wbdA8QAwP0g+wz5RPeU9Sf03vJ18cHvCe557PTqNemP5xLm3+Tp4xjjfuLr4YHhYeE34rvjGuW85Rbmneby5hPnZech6AjpjeqW7fzxhfbc+qb/DwW/CU4NGhB9EmUU0RV0F0cZDhu0HMIeASGTIvsiryIsIuMgth51HKQa+RhYFzEWjRXYFKwTSRK0EHQOiwt4CG4FHQK1/tX7x/kM+Fv2+PTL82zyu/AY72jtWOsU6Ujn3OVj5A7j/+Fb4Yrg+N/d33rghuHN4s3jAeQI5Cjki+S35DzlPOYL6BbrkO9+9E35Rv7NAxAJKg1HELIS6xS5FmMYGhrqG9Ad+h9hIlckGyX3JGAkFiPYICIeyxvcGSAYthbyFWAVfRRME8ARqg/WDL8JrgZ5AxkACf20+gf5b/fo9X30FvNx8ZDvt+2d6z/p8uYq5ZnjNuLO4K7fi97K3Ynd+d0I3zXgGuFq4c3hNOJk4kfi6OI95FTmieln7uPzTvnT/s8EcgqnDsQRNRRxFgsYehkIGwkdQh+OISEkXiZoJxAnJibAJCQisR7AG7MZ9hduFsoVsBVNFUkUDRNkEaoORgviB9UEfQFP/g38s/p3+Qf46/bV9RT0pfFH7/7sVOqF5zjlT+Nt4XPfL94n3S3cSdtH22Tcnt1k3nnezN793gnfON9F4KDhaeOy5kHsbPIt+CD+yAQaC9wPkhNyFrEYLRrDG5sdkB9EIboj3CZvKUUq5CkFKQ0nyCP6H58csRlCF8UVbxUwFb8ULxSHE9YRBA/SC6YISwWuAbT+n/w8+xX6P/mr+MD3J/Yk9PfxV+9S7Ffpy+Za5Onh2d9x3iLdutve2ujaiNtd3DLdG91W3Mrb3du42+LbKN2W3wvjXeg07/f1W/zkAroJMQ8NE8EVURhxGikcCR5vINQiLiU/KCorqiwnLOYq8yjUJb8hER4ZG5UYtBb+FeMVWBWDFIcTDRJUDwcMpwhMBbkBfP40/Mj6yvn4+Gn4yPd49nn0U/Le7+nszuk359zkk+Jr4MreHt0o25zZ7thB2QXa9Nr42i3aydkt2ljaa9p1267d4ODY5bHsm/Pc+VIAiAexDe4R6BSaFxQa/BvaHSIgryIvJeYn8yoZLTst6CsLKkUnKCPuHr8bWRk0F9YVnxWfFdcUnRMgEuIPpQwrCQMG6QLN/z794Psw+3P6vvlD+YX4v/ZO9MbxN+8z7Bvpd+YE5JvhVt9/3WvbctkN2MjXhNi+2TfaZdnj2CTZHNlw2OTYrto23RvhlOcq7/z1h/zUA/8KABBQEyYW7BgQG9YcRB83IhIlriegKqItCi8VLu0rdinBJd0gtRwcGsYXqhX6FI4VjxVbFOYSZhHzDkULzAcsBXsCkP/A/Tj9q/yo+/b6k/pe+eT2RPTy8Unv0uvB6FzmEeSt4dHfS97526LZA9it1yfYRtl42fXYO9jm2KbXJNZS2BLa49wi4RToPfDF91z//AchEKYVaRkcHWUfPSC7IMQjqChJKoksPy+/MVwyADCcLN0nqCETG10WMBMqEIMOGA/ZD8EPPg93DtMMUAqTB3IF0gP8AYQAx/8X/7v9DPxQ+sn3JfQN8EnsXeip47TeHtqd1cTQF8wuyMLEcsIGw/jGf86n2RrmVfBw+GoAlQbeCKwISwmcCp4L6A3lEqMYrhubHFEduxujFSwOgwfrAIP6M/fu91f6Lf2DAPIFgguRDmgQVBP4FRcXBBmmHKcfjiBsIaEi9CFuHqkaHhhQFecRGBCLEFgQcw6pDJkK6AVI/+n5LfZF8l3udOw47KzqCOfV4u3dJNda0CzMEcmLxVzDHcMfxBLHzM3f2Grn/PXRAMUIlA9rEuUPhQttCOYGyAZNCA8MTxBFEe4PgA7rCpwEgwDp/3gATQPdCRYRPxayGXIbEhxyG6EZ7RcBF7gVaxQbFIQSbQ+3DHEK/weMBucGdAjuCpMNGBBCEtUSTBGNDqAKSgWLAOj9Uvyl+rr44/a/9I/wyOkd4tTa7dPaziLM48l1x6PGVcfpx+LJjdA43jLvDf00BjoOrBPQEa4LcwYQA/AASQLKBo8LkA0ODRgMUQm6A2//rgBQBAwJzxBfGRYe8R7THZMbBhmNFooVYRY0F2UW/RQ/EnkNGwmiBoMFRwaWCboNNBHvErQSXxEADzYLXgcTBH0Ah/3H+yj6zffg9ILx2+326fDk+94v2cvUDtJX0J3O98wQzDvLkMvnzlLWL+IH8qsBFAysELURDBAMC4QEQgGvAtcFKwmyDMcN6gqSBr0C1/+9/mIBGwjXEGUYDB3zHVYbhRdCFeoUiRauGQ4c1xtmGZcUjg0NB6EDMwR2B0IMShE1FcUVTBM7EEkNwwqVCYEJHQiyBPf/8Pq79crw3ey16prpXOgu5lPiCd271gnSXs/BzQHMvcuAzdDPU9Oe2YrlyPRmAmkKEw8WEeYONArSBccDBASiBiIJdgr7CGgF+wGM/0/+2P8lBVYLkxH6F+EbWRqvFr0UORXLFtoZ1B2QH/8cphcOEqULMQYfBfkIeg0fERYU+BRfEmYOOAzNC0YMaA2FDocMhwbP/hr4sfJu76Pus+5C7h7tQ+o444bZ/9LE0XfQP86ozoDQRs/yzLfOMtTp3LrrA//mC6IO/w5VEOAMogUZA7MGfwrUC7kMugtyBgoA/f3Y/jsAIwV6DWQTXRb1GBkYIxQFEksUIRjeGxEfQiAJHaUVIg+zCv8GAgaOCpAPNRFJEQER0g6YC+0KVg2UEM0RkhFYDvAG1P2I9xT0W/Je80v0uvKJ7WznLuEL2vbTbNIV02bRQc/izezLssgJydXOSttU7cH/YAtvDrwNUgtFCBEFgAUjCWQN5w4RDbwHuQBC/Lf7Uf69ArcJFRATEx4U/RV9FaMT5BRhGZkd8h8dITkf3BmAEqUNOAujCbYJiwyoDt4NuQxUDNgLawtODX4QzRKKElkQ0gvZBOn9kvmS98H2VvaP9B3xa+xO5i/f39il1GbUvdU+1YHTitEVzo7JUsgzzAbXCemv/P0I7wsIC80JagdjBB8F5wlgDvgOCwz1Bcr+Yfov+1n/7QNXCcQO5RBLD18QIxToFRYXCxusHwQh9R/FHYIaeBVjER4QAg9ODCkLYQy/CxkK8AqzDZkO1g5cEBASkxFaD64MNggaAj39tPro9wr1y/LA8NPsiOcb4i7d4ddF1AjVv9QQ0VDNtMz6y1HKm8wA1gvkdfMtArIKOwrWB4kJuQqECXYKeg64D+cLDQZXAbT9QvyA/2IE1ga6CMoLWAxSDNsQVBYwGCwZCxzPHX0c0RpeGpwYtRRuEm0RQQ5RCi8K4QvCC6oL3A23D+kOZA4BEDgRZBBXD1YNIQhrAfX87vmI9tfzd/If8BnrieVX4LHa1tVg1A7VltPgz0DN8MsKyznMRtHe2QrnN/iMBMcGuAVMCFQLRAuJCwcOuw8SDjwKVAUAAHT9dwAqBVkGfgYhCSwL8wnDCx0ToBhxGWYahBzwG38aPhu6GyMZvxVGFOsRvwzrCB0K/wuUC00MWg57DvoMqg0QD/sPKBATEMsNpgaRAKj8lPlY9nn0n/Ob7xbqKeW74H3blda81E/UE9IJz9jMMMtpy+HO4tN92W7mafnVBIkEBwSzCPkLhgwjDnEQUA8mDfALPAjpAGn+zgPuB0sGcgW7CBgKqAm7DXQUQRY/FuwZaRzQGSsZsRxBHSYZAhYlFfcRsQyeCgEM1AsUC98M1g1RC1gKDw36Ds4OVA9WDzkLWgSP/yD94/kv9931iPOZ7vbo4uMc3jDYo9Tk1MTUltFKzorL98jbyE3NW9RQ3pLtG/1nBHMDagQqCXMMog5VEUQSNRBLDXIKmQXYAFgBtgUWCP8FfAXHBnsGygjkDzAVqRWfFlUaphs4GpcbqR4oHl4a8xdDFaAQgQwUDLIMgQsjC28M3AvYCLkIbwsoDbENdQ6+DGsHdgGt/QT7Uvju9uT03vDG67nnQuPZ23LV0NNQ1M3RKc2DyjrJlMhly7DRsNgV45/zagGIA0UBWwXCDD4QIhG4EjkTExE0Du0KGAapAtcEughVB1gDQQNWBYIF7wasDdkTrhQ6FSIYrRmiGakc+h9sHmIa3xiCF5sSIA69DZ4O6gxYC58LMwtGCUwJVQsLDPMLewxiC0MGwwA1/sT8IfrP9wL2LvIB7FvmtOFp3B3XX9SS0wfRhMwSyYLIBsmqyoPPt9fw4ljxHP3j/wb/RQSfDF0Q0BHmFCIW7xMrEhYQmguiCAALSA21CvEGYAbOBqkG5QgWDd4Ong7kEEAUCRW8Fb0Z8hxnG3gYpheqFtgTvBFnEZ4Qnw5DDX4MwArTCKMIugkpCkQJ1AeTBUUCpf4c/MT6XfkA9/bzMfFO7rjqNeaK4QndHdq92N/W0NLgzpLNNc32zKHP6tbz3xnpyPCc9JL1nfkCAYsGKQk8DYUSrhT2EwATvhLtEoUUEBagFdoTNRL8Dy4NxQs3DD0MCAsDCnUJlgirB4gHegcmB4MGIwYcBqAGjAeQCFEKBQ19D34QnhDXEEYRhBE6EngTARSAEzET4BL0EVEQmw7QDTANrQs+CbAGOgRQAcn9Mvoh9+7z4O9l607nnOPY33vcqdk113bU4NEy0N7PLNCF0PHQmNH80kXV6tjw3AThX+XX6nvwv/Vf+wgBXQfYDc0UWBuJIGwkpid7KnssUi7PL8kwsDAUMAEvPC0CK+Io+CajJBIiPB/PG64X4xObEKcNKwsnCTUHwwQ2AsD/Kf2Y+qP4Tvf49bP0YfPB8ZXvf+3e66Hqnuly6AXn5+St4k/g+N2f2/DZ89iD2J7YwNhP2CfX+Nbk16bZ9dsI393hzOTz6KbtoPG99YD7twHoB3IOsBTjGGAcGCAaI+wkyyanKFgpiinEKXop7CejJsUlfySuIiMhWh95HHEZ9RaeFBISbRBlD+MNHQzwCqUJmgfDBYkEEgM8AeD/gf6N/KP6TPm497D1BPTc8nbx4O9R7nvs9Olp5x/lV+JW36ncmdqS2ETXcdbU1aTUrdPH08HUbtaa2EDb0d0z4WTl3ukU7hLzAflL/9UFcwxrElMX1BvkH/4iUCVYJ7goLyleKTUpfSiGJ5MmniVDJNEiHSEOH2gcnRkKF5oUaxKrEGsPAw7IDM0LrwozCdYHogYyBacDKQJ6AIL+0Pw6+2T5dvfg9cP0jfMz8pLwdu7/63Tp7+bs4+Lg691e2wDZRtcq1jTVC9TQ0m3SwtLy057VNNj42iDeHeK15kbrCfDo9VT8xgJ3CSQQkxX8GT4e9yGKJIwmRSgrKU8pYyklKS0oESczJi4lvCMmIlcg9R1PG9kYhBZNFG8SDBG9D2gOQw0WDLMKOQntB4EG9gRcA6MBvv/c/Tf8lvrr+Gv3Hfbg9JnzOfJ08D/uz+tk6bLmouOd4JDd+tq02E3XOtaB1aDUvdN/0xbUqdWc14nabN2/4JvkIOmG7Sryofd1/XoDrwnKD6wU9xjpHFAgsyLWJDAm5SatJoMneiqrK1goDiOZIR8jMCP7Hgsa0hjwGCMXyBPNEWkRAhCiDVsLEQouCSwIKwfxBdAE6QNOAtX/B/7n/Nf7bvo6+dD3PPaN9LPyLPA27erp/ubn4qvcItcJ1RbXvtiT2ZXaddxD3ZDa/dfC2Avck94d4XjlUOrZ7gnzq/Za+nr/lQVvCkQOqhIOFy4agxyZHjIg0CHvIgUiVx97HfgcYxw8G04afBlZGBkXHhVoEiIQvw/TD+YOmQ31DOMMfgwZDLoLsQsoDBsM5gqVCTYIVwa8BMQDzQKdABD+b/xR+pL2LvRB88/wcOwP6LDk+OBf3PjX+tPiz0TM+MqUzJnP9dJj1rfZu9sY30vkseka7xv2jv2TAvgGfwtgD2YSWRe2HMkfLyE7IioixB8iHaIaGxgWFn8UlhE4DdgJUwhCCPAIcQlUCa4J8QpaC6wKmAvNDpYRvRJyE1gUABXhFbIWehb8FbsVtBSUEdYNjQpRBzEEZgFk/o768Par81DwNO3M6r7og+Yf5N/gQ93q2qjZg9c81NDR5NDJ0BnRf9Lf1o3eqeSm5TDmrutZ8h72qfopAh8IVgsZD4YSixNBFRAaIR7DHuYdLh3zG+YZfhfBFckVfhX2EWwN6QsUDDwLIgugDNMMcQt3CyAMiQumC1gOBBGZEX4RhhFjEXURBxItEicSyBGYD8ULMwgjBQgC4/9f/mD7PvfM84vwWOzV6Bjn3+RI4VLeuNyT2njX/NSw0znSxdBC0CLRANS12iXjeef451Prq/KD94D6vwBwCM0MNhBEFK0VexV1GP4cIh4ZHdgcjRyYGlgYbhfcFrYUfxFYDxIOegy3C60MNg0EDIELPAxODNIL9AxDD5QQOhENElsSoRFqEfcRBRJTETQQSQ7sCv0GXANvABr+1ftN+f31xfGb7bXqOugK5TPimuDp3kTcsdnB19rV89MM0wTTd9NU1P3W1d1V5orq5Or47kf2S/rm/M0DhwopDZgQFxXmFfQUPRhDHFwcExtQG9sasxhzF28XJhZjE6kRyRCIDjsMggzEDU0NhAwlDYcNHg1sDd8OtQ9mEN0R3hIVEgkRSBGMEfAQ3g+lDjYMxQjpBGwBQP5y+3r5Dven88zvsuzR6eLmaOSh4u3gHd/v3T7c3dl/14zWmdXJ1B/Vc9bC2HTd2uRx6WvrHO/b9IH43/v5AYkHKQtTD7ITxxR7FY0YtRuYHLEcIR2OHFcbAxvmGtYYPxZRFQ0UmxD6DeQNmg1rDPIL5ws0C8gKNgthC5gLzQyDDhQPyg65DucO6w6aDiUOFg17CxEJwAUpAu3+jPxd+uf3J/Ve8mbvcuyK6dLmW+TN4knisOCf3nDcodqs2LzXntdu13/XUdjZ2z/h6ebc6YnsqfBP9WL5cf08AuQGjwutD7YSPhRwFpEZ8RvSHGIdJB4vHhUeEB4JHf4afxkfGDsV7hE3EGIPuA0lDG0LoAqnCSgJ1whPCKkIywmLClwKHgpNClEKMgoRCvsJbgkjCO4FIAMiAHf9S/uJ+fP3Avao8wjxz+7c7Anrduno56zmDuXN49riueCc3+LeI94B3hneNt6b3rXho+YC6q/rd+5g8lL1mfdu+5H/CANDB4wLAQ7bDx0TFhbCF4kZyxswHQQeAx80H8UdbRyaG94ZXhd8FQAUyRGOD6oNpQvCCdII9QfJBv0F+QUUBikGlwZ0BiAGmAbrBrAFGAWSBSoE7gCm/3P/o/0C+xz8F/yL9m730fmm88fxqfTn8HPvkO+d7HvtP+zM57Pq4usP54nn3umW5//lo+c258jmbegF68ntxu948MLyXvVZ9t/4lfzB/3EDhQcQCioMww7yEVkUNxbgGHEbuxxVHfgcuRsaG4gaOBmlFwsWGhT+ESQPeAx9CqsJjwkSCfYHEgc0Bm0FBARvA1YCggQLBJ0ADgSuAL//rACZ/2f8f/2G/5/6Tvo0/ZD6DPV9+xP4ZPJY+Fz2Gu+19cbzDOxA9BLyGu1G8BLxzO0O7uvu++x/7sfuC+wg7s/vu+xV7r/x8/Go8pr0dPbg90D5Svuv/cD/UgJkBUIHDAktCxEN6A7qECwTdRT5FIgVzRVRFMkT+RPBEzsTDxOQEowQeA6ADQcNZQhaDPsJoQf2CnEFvQWkAxoGo/8AA2EFGP6eAMQB0P/B+ej/2P79/Y75ewDU/T32Qf4Z+aH6JvkM+hD6Qff7+Tn3XvYp+Mb4SvYN9VP6E/bM83z3a/ak8/b2LvWp80n5PvNL8+v4LPS78sz3wPY19fL2MfnQ9pj33vup+UD6e/63/dr9twAkAaUBQgOsBWcFWgZqCWEJ8QhhC18M+gnYDboN0ApbD80MUwxCDbMNvAqXC8QN9Qh9C9oJYAjgCDAI4AfaA6AHdgj+/mEFfQYR/qYC2AL8/V0BFwHD/FYAugBW+mP+BAH495z8dQA++Ob5zv4M+6T1yv1r/eHypf4r+xH08P1u+Gj3FPsH+f/3yvi/+k/4Yfj6+e/5evmr+fL5SPuy+UP5mPyB++n6E/yC/Yn97vxP/SAB3P7b/CcC5gET/uYCDwTl/UAGjAPK/o8HwwM3AKMIQgLdAKgKqgB8AzoHNwPnBLUD1AMFBm4CdgM8BnsB2QbWAicCywdvAuD+6Ac2BJn+igWHAk4CjgDeAusBmAFp/sYDqwKs+jsDHgEt/d/9BAO+/En8OgEK/wv7i/4Q/o78TwAk+lr+bf3m/TP8c/t3Af75E/y7Auv5nf0MAQf7sf8m/yL9v/40AR39E/9fA9v7rP/vA5f81v9HAh3/bv9yAO//BQK//W8ADQQc/B0Cy/8kAxn9swHuAiT+1gTD+9EGFgAj/usElgPC/LwE+wPI/O8J5PcRCWECn/m2B2T/Rv8mAXMD4/rzBCj/1vyeApf9/v9Z/iT92AAi/dz81QEY/E//R/09AS78vPxgBhf18gK9A2f4WQHuBMf4dwDyB5n1jgV8A/H4yQSQA7T56gMsB9b3IQbEBjj19woLA9z1qQwQ/xL5FAvz+7v+Ngdp+AAEfgPx+18A/gMd/ev+eAfS9mgERQaz9YQHBQIW+ksIaP7v+2sLL/q0/cwLXPkX/hELSfilAHoJ9/QvBl0DrfihAlgDtvp4/jYG7PZ9A1//eflqBEn6lv5q/zT9GP5z/VYBHfp3/60AHvqZAjj7Of+dAiv4NAQNAGr5FAeN+q//gwbZ+AwCVwWn/an8aQnq/db60Qq0/Ob/wgJPAon/8/4hB0X6EAU0Adj95wJ5AfkA7/uYBb//uPwQBLcCfPlMBqQAsvsBBrT+Iv5BBQ//kPxeBgH/K/2YBMv/Y/5uAREDP/24/KUKnfX/AdMFuvjkAgL+pQH7/Zv9cwG6/u35fAXZ+T/89wgg8S8GMwGc85wK0fa5AH8Cz/bXBZP9gfsVA/X8vAGGASX4Ogq7/DX8/wZC/7D/KAD3A/v/Av/OA6EDFftsBMsFlvkLBAMGW/dxB1ABcPsqBdf+zAG4/ooC4/5MATUBPf3xBET84gLP/gr++QbZ9ukFwAAz+34Eav4zAFj/eAKf/2n98AJ2APn7rQMHAJz8YAHZAs376P2GB4b5g/7kBUD5PwLh/vn+AQHV/MQBMf50ABv/r/4FAKsAIf5NAGb/BAJ9/8X+SwOd/QcD7//GAdYBRP+fApr/bgFpAVEC2/6IA3QCKv3BB8n7xgAZBn37VQTv/YADgACa/fUExPzaA8T//v85AFv/kAEP/7MAxP/M/77/5wH7/DQBxv97/mcAMf5VATf/df4TAJwAWf74/xT/cgCm/XMANQBH/fAAO/9s/or/zQCP/WsB7v10AIz+LP9RAEv92QHf/ScBUv5uAGr/df4jA0n+j/8/A/n+of83AgIAswLQ/20A+QK//wYAoQLaAAgAAAL8//EAGgGeAQUBG/6eBFL9lwFjAST+uQP6/JsCQv3VAzD+uv7GBAH8ogFR/2b+YgJB/qf+QAOQ/AwCcf7o/q8BJ/1AAFoAQP+6/hEABP7MAGD/Cf4cAAn/v/4B/xL/5v9v/jj+SgFL/sH9XgDr/Zj/gP9R/tv/h/8RAf/9OwC9AYv9ygES/8wA3QGl+0gF6P5qAEEFf/r2CFH9yP7gB1T6pQQmAO0AEQM1/iUFZP96/XUH3fnvAQAFKfp7BJ7+UgC0/94APACq/2L/bQDiAMr9ZwMS/Q4AJQKG/eMBGgAwAef/KP4UAk7+UP/qAen9XwEV/5j8XgTC/EL/WgNu/HMA2f/W/Q7/N/55AFD+LQAlAOb9N/+6/1r/gv41Aef7PwLj/4n89gLK/uX/bwEuAT79SQKlAZL9HANI/u8BPgHi/jAD7f8SANoC4f+Y/5wD0/1mAgQD2P1ZAvL/3f9AAef/zgJIAEH/RALy/gkBtQLU/rcBCQJu/c0BeQCQ/ssBBf+xACj/tf+F/1T/BwGG/noB8/6HAsgA6/3SAXj/cgABAKwCff9J/8MByv1nApMARP+iAaP+HwBMAIL/YP9d//kAcf9cAIgBs/79AO7+mf/tAcr+vQJb/0H/IwPO/qn/0gDIAYv+/wH+AVX9mQKp/lICFQGI/S0DLP4TAYEBWv77AdL+KgG/AsH95gBVAl7/3/84Awr/Ff/8A6/9nQEAAOj94gFo/t3+Zv/K/yL+hP/U/+X+MwCr/3X/CgApAH7/O/8HAcv+FgDsAJ/+ggDG/zgAl//Y/iL/aACV/3T/VAEl/wj//AC2/gT/twA0AK0AL/7c//sAgv5cAOgAaQGWAHP/UgG9AFT/jQGnAM396v9uACoAtP/A/5//o/8jAFEArP+Z/2AAzv7Q/+D/g//q/4MAnf/K/68Bq//qAAgBpf/9AKUAlQBdAMAANQCdAJIBQwCVAZEBJQADAcwAXwC/AIwAoAD3/x8AhwDq/5X/0P8TAcr/E/+6/4v+NP8TAPD+VP+z/vf9pf8L/3D/F/9b/lD+av5Q/0T/AP+1/uj9Lf1g/vb9jv6E/kD+KP6m/E/9vP2I/jP/mf4J/p/9Ev4k//z/swBkATQBZAFwARgBvAFoAuICtQPrAykEYgQiBDcEDQQZBfAEagVsBXEEpgR/BA8F/wVqBlgFBwXkBLgEdgQ/BE0EhQPCAyEDoAGBABX/+v0m/Tj8W/uC+v74q/Zq9ZL1YvV79f/0cvMc8h7yiPK78ijzVfPQ883zBPQi9ST2gPe1+Lb5YfoY+/X8dv47/7YAuAIrBDUFkwZGB88HZgkrC9EMIQ5oD+YPdxDSEEoR3xFgEvASDxPNEiESyREfESUR1xCpEK8PYA5ODToLhwkLCF0GNgQTAq3/Zf0/+z/5c/d/9dHzUPGO7g3tXeyg63PquOjf5kjlbeMB423jQuRq5DLk7+O745Tko+ZZ6aLqQO/l9S765/znAJwF0QkdD3sUChhnG/sfLCJsIgYjMSSqJMojfyLPIA8eRhxzGlAXyhSME+kRBg+WDM0K0wncCGEIxQffBo4GRAbDBCADLQJeAX8AGP9+/Vj72vnJ9x304O+A7O/oQ+W74kTfd9rp1s7UoNFKzxDP7c4/znbRPthr39jmLe+89m77GAL8CS8QFhY1HTIjQSadJ6UoaigyJ9UmDSccJsch9RyRFxASRA7DC0AJmwYpBSwDBQEgAMcA0QKaBZsIwgo+DOQOOxIeFZkXGRqUG9cajRjQFHUQvwxTCQkFFf/E+H/yFOxK5TzfRNpM1VTRkc3xycnGWsUQxQvHbsqwzEbOxNLZ25bn//S9/uwDmAhsEFcX9xsaIfwltCnmKoIpQCUmITgffx7LHEQZUxTdDpAJswT0AbsAxgDiAFYAZf+N//IBVAX4CIgMPhDkEg8VXBfJGT4cYB54H+Yd5xoXFz8SMA0mCNsCRP1g91nwK+kI487epNqM1YbQD83QyjDIhscHyFHJd8vFzojS0tUU243kO/Ii/loEkQfYDJUTCxk9HqsiTiW1JvIm2CNpH34c3xsrGoEW2RLRDk0KDQZ7AxgBEQCUANkAkP+a/4UCGwaUCbEMpw/XEQkUzBYaGQ0bXh2+HuYdhBvAGIYVjREWDd8HlAES+yT1Ue8v6XfkIuCF27jWmdJRz5bMvMsmy43KgMoDzHfOwNFa1Rjal+KS78/7/wFtBIEInQ+iFg0diCFoIxQkSCVRJJ4gwR1sHXYcSRjgE3UQDw2tCWgHvQRVArwBBgJZAeYAEAPABskJBAz/DYsP7hFgFS4YiBnRGiMcuhvmGcQXeRVOEkEOFwlZAof7ePYi8lXs8OaA4gLeHNha0xDQZM5DzZrLKMotyWvKb8zuz1PT8Ncm3/Hr5fiV/8UBIQaMDjMWHB3tIWIkPCVAJ/ImxCM4IdggwR/2GkkVQxECD0EMQAmQBeEBbgB+AMb/3v7IAHAEXAfvCJIKcgxrD8AT2xZiGK0ZwRv2G6QaMxm1F7IVARKyDLoFUf/u+Zr1dPC26qXlyd/82c7Uw9GczhvNH8yuycHHS8grym/LdM8g1fvaZ+TS8zD+3v8UAjwLbBSzGk0h6yQkJTUmYCmUJy0jCCJ/IqEeOBcwEfINuAzjC7sIugKV/qr+hf+C/hD/qgLxBZIHFwlhCswMLRLtF4gZbBkSG/kc6hziGxYbaBknF3MTNg30BM/+4fq19uHw5eok5XXfrdor1nrSS89kzX3Lqsm0x+PHecmFzIXP09Is2Nvh4PAM/MD/BQGiCHMSEhoFIDYkiSXuJqIp9yj3JPwijCO8IAAamhKhDioNowymCYoDaf4z/Zb9bPwq/AL/pwKrBKUF7gZqCa0O2BT1F40Y1xlXHH4dUR2lHK0bxRnAFmARxgn2Anr+UfqN9N3tWOcp4ZzcwdhY1CfPm8wcy5jIVcY7xh7IacknzMHPntTy25TqNfnE/rL+ugSED6EXwB6WJIEmjSY9KmArjCd8JJslFyRYHawVAxDVDE8MqQscBsn+lvv0+936t/nW+2r/QQF3AtsD1AV+CrERhBYnF9gXzBqyHQAfLB+jHjsdAhv9FqQQzQm0BEYAQ/pq843sN+aW4Inc+ddh02LPlMywyTLHTcaoxu3HMckmzCnQjdV43aPrJvms/jj/YQXuD/8XQB+VJI4m2yZKKnwrPyiiJVcmpiQ6Hs8W3hBVDd0LWAt0Bkr/H/sQ+0D6FPnk+o79Sv9hAPwBEATXCB8QrxVLF1UYwRoxHTQfmyCWINEerhwFGSYT1QwWCDYDXPyC9fru8Ohz40bfctoD1TPQ7MxbypXIhseYxrvHecnUyxvOgdLc2Djk0vL9+zT9j/8oCdcSSxqxIPMk3SUXKGQrxirGJ3wnYCjxJKMdhBYQEqwPYA4GDCoGev8e/DT7VflE+Cr6Z/z9/Bz9gv7YAbwHUw5IEvQT2RUcGSUcXR6xH3Eg+h8HHsAZqhRpD/cK+Qbv/rH4J/OZ7NfmPeLu3JbXB9PUzsvLnsobysjIVcjxyMHKu8vlz7vV194M7Lj21vgK+TABigxqFIEa2iA7I70k5iibK44pJilzLJErSSTNHV8abxduFbQTQQ5TBlEBgf9N/GP5jPk7+h76Z/iN+Eb6Vf6QBAoJLwuHDZQQrRMAFyAaxhzBHfEdhBteF/gTZBGtDU8I3wLu/LL2B/EW7BvnMuJK3XbY+tOX0DrOeMwwy5bK0MoLy1fMc89d1Fjc+uYH71HwvvGo+XYDygn3D2sXfxvNHYEiQCb4JYYneCxNLWQoXSS2InQgZh4xHSYZahLFDf0KogY8AhABoQD7/fv6d/nX+Jb5kPxs/0wAVwGtA8oFhwfsCb8MzA4WEAIQLA4IDJ8KGQmVBs4DxACM/dX5pfbX85/x7+9x7q/qv+ap5hvlDuN34o3iAeHo3xbgBuDu4bHlkuoq7DHrFewI8Jrz+vWu+Z39HQDZAqgG1AhKCgIOuBKvFAAVSxaxF5AYwRkYGx0bbRoiGi4Z3xbSFMgTpBKiEGIOWwxsCnwJGAltCHAH+AbkBgYG3ARlBMkD5QPVBDgEPwJIAVcBhABV/9z+6v9a/2D+Nf7B/Qr9Pvxb/Gv7VvrR+ZL4vvbt9Zf0nfJL8Tvwsu6u7EHr0upN6w7s6uuW6vbp0Orn667sXu6d8Ify0/St93H5ZfpF/awB3QTRBiYJmAtvDbQPlBLcFBMXgBmuGgUaixkWGnMaLxp2GeAXaxWgE2gS4BCwD78PWQ+vDSQMqgpwCFwHKAd7BpcEBAK3AjEB7f0V/+H/UP77/aD9//s4+iP6sPqB+G33Z/fi9UnzvvGP8P3tRu3T7P3p1OYy5dbjkeIO5GvnIOgr5YrjquWP53/ovOuQ7xzxZfPm96j64vtuAE0HhAujDb4QkxN2FbUYdxwQHrUexiD/IbYgWx9SH6Ae3RxKG/YYbxWsEiQR1Q7xCx0KeQj/BfwD8gIlAtQBnwLDAqIBpwD/AIkBKQIqAlUB+wHdASsA7/5l/tH9Bf1W/Jv6ePem9UPzMvF+8EHsWOmd6IHk5OBF3+Pdy9sS3Ovet+BV4RDg0N9a4/XnwOqf7hbzBPa4+aH/FQS8BhUMpRLmFRwX1xlkHAEebyBlIlghIyDHIJsg7h2cG7caOhjIFAkSIw/sC1QKgQkEBxoEIAN4Ag4BsgBWAaIBYALmA9wEKgXSBgMIIAcGCEsIFgboBOgE4APNAcT/d/05/C77KPVI8nj0XO8J6S/qgudm4FHg598826/Zsdpp2J3Y4t324STj3+KX5M3pw+6b8cP20Ptr/gEDpAlKDN8NSxROGjsbyBtOHj0f/h9OIm4iOCDmH/AfvRyUGKwWWxXdEtgPgAzgCG8G0QXIBH8CJwEiAbcAGQCJALkBNAMtBWAGBQYoBtwHQggiCDcJigb6A/IF5gO8/4H+/Pzc+hX49PXR8M7rte0X6pnj6OI+4BHd6du12R3YVdj12CHclOLD5N/hquRz62HuCvKr+DP8r/4LBfMKUw2SEGkW3hrcHIUe2h+NIC4iAiSjI8ghwCDlH+QcBhndFkMVNhK/DoEL0Qc6BbkEygNbAeD/xP///pb+qv/DAB0CPgTCBaIFwQUTBzcHkAasCHYINQTuA/YELQEE/sr9cPpm9131zfEJ74jrmeno5pfihuAe3zjb+dkj2xfY1dnf3ynjX+Lm4crlQ+sM8Dj08/gp/Ir/9AW/C9gNCBKfGMEb4hwZH5ggTCG/IyQlWiPEIb4hwR/MG3QZ6hfnFJYRmw6KCkIHUQZcBQ4D2wDq/zn/P/6F/nj/SgC2AXsDDgTeA9QEZwUxBKQF/wXyAtUDLgODAqb/y/ux/aH6qfdR9Wjx7e/T7EfqYugQ5W/hkOCU3tvbxtt73B/fTOPJ5FLiqONT6bTtHPHM9Rb56fuJARkHRwp4DRMTyBfWGTUb/xyFHn4gpSJOIuIguiAXIIsdxBoKGSAXGRQREdUNRgpOCH4HrwXvAjYBeQBK/+j+Yv/w/8cAKgIZA5gCnAJ0A2MEjgQjA0wDIgOPATICWACY/UD+Gv3M+BL3dfXu8uXwmu2X6/jpOeaN4/rjkOFu4CPfAt9y4kTleuf55V3nM+vo7QryWvbi+Jz7nwAKBVAHqgqMD2ATyRWgF9kYMhq6HJAeux6BHo8eCR7mG6oZchj1FnoUDhLeDogLzgnhCBsHqwQ1AzUC3gBmADIBeQHwAqsD3wIb/0QEqQNnAtQISADVAaECyf/fAfj/5/1s/nD9PvmC9wr3OvQ/8WPxjO4g7Cjp2ugL6NTlHOUs5FninOQf557oy+qC6HDqA+4A8LryzPY5+Xn7qv+MAicE1QeKDH4PQBGmEiUUDhZVGJoZERp6GvIaKxr+FzQWWxVwFBkSmQ9XDC8KeQkrCOAG3wTnBEgEfgTGAy4FXQB0BJ0ILP9uBlYECgO8BcgBBAMyAkECOf+mAL0BTfwe/8j+8vdh+2P5zvJL+dz0i+9u88LwCO1A7yHuCuqJ7vnoyelA6w3qb+5K7vbthuyS7y3xTvOm9cP2ovej+nn9L/+NAYwEGQjNCVsL0wyyDnwQRRO1ExYTJBRcFO0TGhOMERcRDhCtDlwNCAurCtMKVAurCcIJnwfIBhwL5AQZBk4LvAQ9BkQHLwSSBlcFoAQyBpQCuwAJAuECxf6b/38CN/s4/Yz95/mH+qr8xfdv+CD4CfOA+P7yLPNq9QDyyfGm8VXwefAm8PbuSfC/70zxMfKE8WbxaPKn8/z0P/YD9xf48Pmj/Ln9Nf/kAU4DZgXWBk4IVAnVCmAMtQwmDaoNeA5EDhgO1Q2sDZAN0A3zDBQNDAsHDCAM0gqwCzgJYwtXCvAHwQrUB+EHeArbBVEHxAZbBH4GYgPrApwDJgGpAWkABgB3/0T+5P3U/Mv8tPuC+jz70PqO+KP5YfjZ9wT4gfeD94z2+Pbs9Yz1Avam9Rn18/T29On0z/Qv9VT1wPWX9lD2JvdA9/L3Kflt+b/63/q6+zv95P1w/1UAOAGxAnADjATBBbsGFgiVCDEJlgkJCikLIwvlC+0LLwxjDAoMmgy8DHsMnQslDMgLkwoGC+UKnAmCCcUIwQeKByAGfgW4BBAEAgNKAoIBMgDa/7/+l/4w/eH8/vxh+1v7Svt4+iX6CfrA+ZH5efmI+XT5rvlB+Y75ifmI+cT5vfn2+cX5E/oh+iz6MvpM+mn6i/qQ+pH6FPsd+wj7mvuP+8H7ZvyP/C79qf3q/dr+M//D/5kAJwEJAo4CaQP1A20EYQXCBUAG0wYcB5AH0QceCIYIngibCMcItgieCK0IeAhZCBwI1QduB/oGpwYvBrYFUQWdBBoErwPpAoMCBQIyAeUAYwCo/27/0/5x/iz+mP1I/Qj9qPx5/E78EvzO+7z7tPuD+3/7e/tn+3L7aftx+6T7oPvY+9v79vsr/ED8hvyq/PL8H/1I/aT9wP0c/lz+ov4P/yL/g//S//3/YgCwANoAJQFnAZ8BywH/AT0CUgJ8AocCpQK3AqUC1gLRAr8C2ALBArYCsgKaAq8CqQKEAo4ChAJqAmgCYQJJAjgCLQL/AfQBvwGUAXwBPgEJAeUArQBwAEMA9f/O/5L/a/8i/wf/0f6I/on+Q/4k/hj+5/3c/d39uP3S/dT9t/3k/dz94P0S/ir+PP5f/o3+r/7U/vv+Kf9U/4v/sv/r/xgARAB/ALIAzADuACYBHgFOAWoBbwF8AYYBjQGCAYgBbwFtAWsBWwFUAV0BWwFXAVsBTAFQAVkBSgFgAV4BQgFUAVMBUwFPAUwBSgE2ATYBJQEFAQUB9QDaAM8AswCJAHQARAAmABgA5f/M/6r/df9n/0D/Gf8L/9/+z/61/qj+pP6P/pr+l/6i/qD+p/7F/tT+9P4P/yj/Rf9x/5H/uv/k/w8ARwBkAIMAvQDxAAIBPQFNAWMBjAGUAbIBqAGpAboBugGtAawBkAGBAXwBbwFhAT0BOQEaARkBEwH/AP8A6ADfAN4A2QDTANYAwgC5AMoAsgCwALIAnwCiAJoAiwB8AG0AXgBiAEQANAAoAAYA9v/m/9D/rv+h/4T/av9b/0v/Mv8p/wv/9v4E//D+8P72/uL+4f70/vb+B/8a/yP/NP9V/3H/kf+y/9b//f8dAEIAXwCOAKEAwwDZAOkADwEfASUBMQFEAUMBUQFVAVEBVgFQAU0BRQE5ATkBMAEfARYBCwEFAfcA4QDbAMkAtgC2AKgAmwCUAH4AdQBpAFsAUgBCAD4AJQAbABgABAD///T/5v/T/9X/yf/A/8b/pf+x/6f/l/+i/4j/jP+A/3f/dv93/3P/bf9x/3L/eP9z/4n/k/+g/6v/v//X/+r/+/8UACwAPwBjAHEAhgCgALYAwgDfAPQA/wAPARwBIwEoATEBKQE7ATcBLwE7ASkBHgEeARUBCAECAfMA2ADPAL4AsACfAH8AcQBnAE0ARgA+ACAAIQAMAAAAAADt/+r/4//U/9P/1v/M/8T/vv+//7z/uP+y/7H/qf+l/6b/nf+U/5j/kv+Q/5v/mv+h/5z/nP+l/7L/wP/L/9b/5P/4/woAIgA4AE8AXgB5AIgAnAC3AMIA2gDoAPkADQEWASABMgEzATUBPAFCAT0BNgE0ASUBIgEWAQoB/QDxAN0A0QDBAK0AngCOAIQAbABiAFIARQA3ACoAIwAbAA8ABQADAPj/7f/n/93/z//Q/8n/tf+2/67/oP+d/5n/kP+K/4r/gv97/3v/fP98/3//g/+K/43/lv+k/7T/vv/N/+P/8v8IAB0ALgBMAGEAdgCGAJkAsgDAANIA3gDoAPAABQEKAQ0BEQEPARgBCQEHAQQB+gD1APEA4QDXAM0AvgC8AK4ApgCYAIUAgQB3AG0AZgBXAFUATwBCAEAAQQA4AC0AIwAiABkACgANAPz/9//v/+X/5f/V/9L/yP/D/8D/tf+v/63/nv+i/6P/ov+k/5j/of+d/5//o/+q/7L/tv+9/8j/2//m//f//v8QACcALABEAFsAZwB1AH8AjwChAKcAsAC6ALsAygDQANUA1wDXANsA0wDXANYAzgDPAM8AxQDBALsArwCmAJ4AmACLAHsAcABnAFgAUABFADAAKgAmABkADgANAAAA//8CAPj/7f/q/+n/5//u/+f/6P/r/+v/7P/u//T/7f/w//L/8f/t/+v/8v/r/+n/7P/z//P/9f/6//X/BAAAAAIABgAEABYAFwAfACEAIgAuADgAPQBHAE8ATwBbAGoAcQB8AIUAkQCaAKMAvQCxALsAtgC7AMMAwwC+AL0AtwD7ACMBAABSAMwAJABcAGEAJgA3AEIAEwAhABgA0f/V//3/zP+//+f/yP/A/8j/z//O/9r/2P+5/9X/1//M/97/2v/f/+P/5v/s//P//f8AAAgABwAAABoAEQAdAB8ALQAtACgAKQBlAJwAHgB1AGsAQACAAFkAbABpAHYAfQCSAJYAcACZAKIAnwCmAI8AygDCAMMAngCdANEAigC9AKUAbADpAL8AWgCxALYAaQCDAIYAaQBuAEsAmABuAAgAXABbABcATQAyAAsATAAQADIA4f8NADUA1P/9/8b/MgDm/6D/KgCy//D/FwC+/4r/EwAtANn/8/+w/y8ACwBhAKX/1//AAOz/LABgACUABABBABkAWQATAAgAgwCDAFQAr/9+ALIA8/8AAJUAPAAlAMgAkwAxAF8A3wA1AEkAQQC7AJMABwABAVIASQDUAIUA7/+jAJAAxP/7AF0ACgDeAEkBEgBAAC8BQP/A/6MApQGZAJwAqwEd/0b/uQBm/yr/FwCM/8H/dAAwAAn/MAAY/2X/l/80/z0Aov7r/+QA3/5b/5cAv/9X/vD/pwBy/3UApP+FAHX+QgEpAKr+jwGh/qQAlAGM/h0AZQEX/w8BSQHI/TYADQMl/nEA2QAAAc3+GwFOAUb9+QFxAGQAgf2IAzr/wf6UAk/8/wNS/1f86wNI/iMAvwGZ/AcCEADB/iYB1/++/lsArAC9AHr9bQEEAGH+HgIk/1X/YP/BAmz8sQIF/5L+XQT5+XYDUQGt/M4AbgA4AS/93wBJARn+nAFx/2j+eAGj/oUANgACAB0By/sWBDMAf/wxAtEAr/7a/2kD6/0sAEkBFP8dAecAWf+//3wDTv7a/gQDg//t/jkBagKO/PICcQAh/pYEiP5yAD0BYf/e/qcFw/wS/zEFL/02ACj/XgSe/5z9qgIk/8H+uAUf+w8B6wZB91IGsQL4++YClgIc/ckAhQVP/BIBRQUbAfT8YgRq/vv+tgJJ/HoCC/8z/98CbP32/ZMEpvxq/xD/igE1Awn59QIqA0H9zP5bAjYA6f9TAOz/dwGkASv+9QCz/+IBYAN8+O4H8/22/isEl/4mAP//bAPH/LMB9ABi/0b+5gQ1/dkA0gEZ/SgD9P9P/kkCvwEy/D0DzQOd/pwAwASI/joBwQL1/fIBIgOw+R4EPgQq+cQBpwVoABX6bAbd/vP5nwSQ/YUAofqbAEkEWfwcAEoDGv9O+7ADI/+gAJT+WALyAQL/i/9IAF0D5PwBBJb9+P10BcH8u//DBNb9sP9/ACcAyP3gAi8AHPyzBpP7df3CCXn6GPzQCWb+af3cAZMEnf3TAhsEg/kLAFgBD/36ADsBH/dGB3ABHPhqBScAFPuI/j0Cyv2m/qUAEAHG/7L+BQBnASMAnf4GA4n9Nf55AuT+eP5u/80Brf5zAGj/Ov9RA3j9vP3SAQP/9vxaAkMBaf+G/H4BMgPr+xcBhgN//Z/9qAKr/mz/df7sAaYCS/s9/0IC7/8r/dkAYAJx/Bj/nQF+/+7+MgCTAzf+8v1/AZQCdAA7/4kBsv9c//f+vQFaAY38TgNe/gf9vAQv/lAB0P8LAET+h/8xAkP9XQNv/RT+pwEM/1sAhQDAAJ3+awEF/+3+1gA3AGD/Vf+//60AxQFM/e4BgAFT/p7+eQEnAr792P/fBFcBVfrIAq4ESv/c/ZsCrwBv/p0AIwDeA5n++ADzAXwAGAD//58Cf//Q/h4BZAM1//H8AwKDADAABAGc/jECLADv/gMB5wJA/Qr9gwT7AaD9///XAYP/7wBF/QQBdAC5/b4CMgI9//b9ZQI6AfQAuACM//0CPQHA/wYB8AHc/J0AvQUz/fv+NAKsAh3+cf9HBCP/qgHx/+oEYwKi+u8DiQMi/tz8oAFMAhEAbAAAAnQBK/6+/TcBSgKw+2MAUgR//fX+9QOc/w3/n//8/hkA2f4r/ekB4ACA+4H/m/6B/2j8FQFfA/35pf0BAsj+v/1hAzYATfwlAZEAGgAUACoBBgOrAIf+rAArBfv/kgBoBeL/HP41A40FbwA3AW4FKAFP/qYCJAThASQCrAOpAGj+4gJWAm4BkQCa/doCx//Z+zADmwEK/e39p/82/bD74/4F/hP88PpL+pr73Poi+wr7o/ob+jH50fl2+dD7q/y8+Uv7fvub/KT+bv1o/0QAgAAtAGsDlAOwA+wG+gVxBaEHQQkqCRwLzAmkCNsJZAo0C6kJTAppCpgIgwj3Bj4Izge9BEgE7AQJAvwAWwMxAB79WfwX/D/8hfqp+Uz4QPjD9WzzqfRO8rHvu+/W78Xtju067Uvteeyz6wjuju4n78DxMPQA9z75dfrY/mkE1AfUC4kOSw/nEnwWXxgSGQAalBtBG90aNRruGUsZJBdKFNMRdBCpDtAMAQqIBoUE8QIoAAr+lvxm+/L5kPhS93n1+/Qw9W30GfN78V/wf++c7XrrK+mP5kPi4eBZ4Y3e995q5Rbs7e3N6njqMPIh/NUACAKuBWUKURDRFgAbZx+jI3QkHSMKI2slbCcfJlMh0huFGNAX9BUZEkIOcQrkBmIDMQCT/kb/Q/6/+i/4UveT+Nb6bPst+RX36/Yo97H2ZvWR9EzxDexH58XjF+B/20DYN9fG27HlWumy4U/eTekp9lj4pPmK/zsGNQwuEyAZAx2cIoknvygvJcEkCCoTLXwlzxsvGpAaHxczEiAOsgkPBtICNP9Q/G39gf6a/Ff4bfaW+ab8P/1b/FP8/PuQ+gf6hfro+Kb1FfHb6urkGuAc2mnUzdHa02HcTuSj4EPYBt4p7s72X/Yw+jkDYwvWETsYfB5dJB4qMSyqKR8n3SoCMLErYR+ZGOMZAhmXEr4M+QhMBT0B4fwr+sX6Xv1u/Ez42vSX9uD79f4a/nP8V/wl/H37kfps+bT2BfIa6s3h4NqE1o7Svc/s0+TeVePD2tvW1OIP8n/2uvj7/gMHEg/VF8EetyMeKfYtPy6+KUIpFC//MBQmCBoAFxAYyhTMDkcJygQDAZP9bvru+FP7Xf1L+/j18fNK+FX/1wDO/Uf77Ps//PP6DPmN9XrxzOp14cjWJNFezgbQsNey4E/fuNd+2p7nifMG+PP8aAN2C78SmxtjIwUpCi3ILokszighK4svbiyHIDsXORShE2EQ5Av7BrUC8P7u+wz6VPrZ/K/9lvqy9YT1dPvYAH0AU/02+zr7dPqr+Pj0ovAz6xnjwdeqzuPJY8si1jriMOKm2AHaiOdT9Pr5vv/gBp8OShXCHLkkHyteL3Qv3ys2J+Yoiiw0KaAd4hSSEaQPHgxrCIgFpAIDAJ/89/qp+0H+zP4Q/ED3CfjB/VQBs/6U+0v8DfwQ+R/07fCH7M7l/dpP0T3I0cTXzpngMeYO3CfaxOYW9Af5jv+TCEoRZBZlHBgjoCmTLoYvtysGJf0ktihyJmYaEBFmDgQOMwo5BtMDzQLLAcz/Jv4e/s4AGAIK/2b5gfoLAOUCmf5j+837mPuf9yvy8e0P6SHi09bazLPEmsYZ1BnjwOM53RPiXe9L+X7+XgZmDy4XXRuKILgmNCw0LXgqOCWHIUkiMiJwG54QigqmCOsHlgUmBGQDFwP6AR0BeQFcA9wEeAOe/wn+xQAXA04Bqv2Y/ND6iPZK8AXsRufq3+LV28vVwgjDUtKc4mTlDuFO5gPyOfzCA/kLwxPaGpUfSSRBKeQrICufJzgiFx13HBobzRTNC0YGWQNRAvIBlQK0AzIE0wOeA/oEYAbNBuUEHwO3AlcDxwFp/1j+UP0q+dHxU+sc5j3gCdfQzSjFJsFGyhLcX+W146fnLfSf/usEZg2dF5AfXCMbJ4or/is0KIEldCLiG6MW1BShEGwIeALd/1L/eP4C/7QBvQR6BU4F2wW5BfUEjgXfBtkFFgPr/4j+0/we+nf16e926DXghtjr0STLM8S+xmfUtOGh5I7nh/JC/84G7QxRFdgdAiSyKAEt1ixiJ6QifCChG1sV1hFZD+QICgIx/kH++v4M/wsAbALcBG4GLwiOBwIFvAQEB5MGQwOeACkAAv6y+cr0AfB76b3hk9ps033M0ceBy0jW/uAv52btzPYOAJUHug8XGLge+SNkKqouQiuCI64edx2VGGgRCQ0lC2MHEwJQ/mD9S/49AOICJAR5BLAFfwfSBbYDIQXhBmoEW/8f/eP86vrd9gXyQ+zy5JLel9lm1DrQgs9i1ETcWOYp8JL4Cf93BUcO5RboHDIhDCjyKx4oux+bGlcZ/xX0DzMKiwcZBt0DHgHe/tD+zwF7BVYGSQX5BRcHAQYaBKgDjQPaAej+C/xl+Wv2UfNK7z/qROR431DcOtrf2IbYSttr4BrqX/a6AIsFCwlAEUga1SD5I3wkHyJ2HkAbTReGER4MRAnAB0oE9AA6AfoClgIGAtQDxwZuCB4IXAbkAzIEgQW7BD4APfz0+tj4RfRP7/nst+pa5lXhbN6O3dfczd1U4l7oIu6u9skByQlNDsIUuR1XIkggnhxZG/YZUxXnD0MMBgmLBQIDGwGS/2MAWQN7BZAFAgasBxgIyAUzA5sD5AQNBKUANP0k+yv5V/aP8gHviOwI6qbmMOM84mPjF+VP5wnr//CF+EQATgYoC0UQdRY+G0YcpRrJGOgWoRODD9gLxggjBnMDCAHy/1gAfAFvAiMDMwSgBQEGywS4Av8BGQJ3AVz/6/wy+0L5FPeH9FHybfDO7snsvuou6n3rC+1g7lbxU/az+5//YQOwB6cLhg6PEHwSqxMzFJcTTxE+Do0LrQk5B2kErgIiAsEBtAAgAJ4AfwH/AfkBSAFQAMX/jf95/rn8n/sk+/b5e/eS9c/0WPQC883xC/Id8wv01/Qj9v/3p/p7/fj/cwJWBdoHAgmJCWgK4Qu4DJwMgAznC7AKqAi5BgMF5QN0A8YC8QEZAfUAlwDw/0D/O/9G/6T+Hv73/Zj9SfwZ+xj6nvkT+aD4LfjT94X3HPet96f4GvpQ+yT9Gf+0ACoCrwOVBacGSQedBx4IDwiSB74GEQbxBcsF4gVPBe8EUASoAwADRALDAQwBywBzAPT//P5M/tn9OP3S/L78r/wQ/Dz7mPp8+jH6xvnQ+X36W/vI+zH8IP1P/lz/CwCeAEcBeQFMAS0BkQE3ArECRwPzA/YEtgWFBfIEqwTDBF0EmwP1ApIC8AHxADoA4f95/9f+o/5G/tr93P3z/cT9N/39/Bj9Q/07/X/9t/14/WT9vv1u/nz+rP5f/9n/5//V/1wA9wBJAXsB5QFIApkCmgIiAtwBDwLuAm8DbANjA4QDmQP4AmwCGQLlAYEBngCU/6H+7P1r/ev8z/wj/VT9Z/2D/Rf+6P5C/2//zv9VAJwAQwA2ADcAggCnAGYAhgCMAF0Avf9+/87/LQBIAKQAPgG+Ae8B/wGTAvQCKwNKA3sDZQOZAtcBPAG5AOD/6P5p/jP+4v2I/Uf9Rf25/fr9V/7K/jr/wv8FACwAcgCxAAEB9gDYAAABFQEsAeUA7wAJAdgAnwBvAC8A2v+X/7j/RwCNAOYAOwGoAewB4wH8ASQCiAKZAlgCtwEUAVcAYv+g/g3+1/2l/Y39gv11/Yb91P08/qr+N//c/4EAywDuACYBdQGdAYgBnAGUAUkBwgByAD8A9P+T/27/sv+M/2v/k/8MAG8AgQCzAP8AagHDAcIBaAEfASwBEAGlAD4AFgAJAH3/xP5t/nH+Zv5W/nL+3v5Y/3n/Z/+N/wwAVgCaABgBlwGVAU0BQAE3AQsBtgC5ALEAfQA7APv/1f+y/7v/v//S//r/RgBXAFEAUABbAIIAoQDEALMAmwCmAL4AagAWACIARwAPAMD/5/8kAAkA3P8LAEcAXABaAHoAlACmAMgA+QDsANAA3wDfAK8AhAB5AEYA+//E/7D/hf9z/3z/h/90/3L/p//C/73/vP/1/ysAQwBTADMA/P/v/w8AIQAWACcAVABtAFkAVwB+AJ8AsADtAFABfwFgAScB+wDbAJ0AZABNAFgAhgB8AF0APQAoAAsA8v/g/9P/vf+N/2T/Qv82/yH/LP89/1X/ff+c/63/xv/s/xYAEwACABEADgAZACUAdACyAOAA6wAAARcB3ACqAOkAXQFvATwBHQEOAdgAvQB6AJQAuAC1AHgAOgAIAOj/zP+T/6n/uP+9/5b/dv9D/zj/K/8m/0P/Xf90/4H/kf+t/9H/7f8YADsASQA8ADwAWQCKAMgABAE1AUcBOQEJAeYA1ADTANYAtwCuAKoAjgBxAGkAXgBUAD8AHwARAAAA5f/D/6//nP+c/5f/gv9r/1T/Sf8s/x//H/8g/yz/LP88/1X/gv+v/9v/CgA0AGwAkgC+AN4A5ADjANwA2wDGALUApQCLAG4ATQA0AB8ADAD+//f/+P///wUAAwD5/+7/3P/L/73/vv/A/7n/pP+K/3b/YP9T/03/P/88/zz/NP81/zD/QP9Y/37/rf/g/xYATwB9AKYA2wD2AAkBGQELAewA0ACbAGcAPAAMAO7/zf+r/5f/jP+E/4L/jf+f/7D/u/+//7v/wP+8/7v/sv+d/53/g/95/2T/Tv9M/0T/Qf82/zb/Pv9T/2v/jf+z/+L/FABGAH0ApADEAN0A7wD3APMA5wDUAKQAbwBAABwA+v/M/6X/hP93/2z/a/91/3v/ff+B/4v/lv+c/5z/mv+Z/5j/mf+d/5P/kP+J/4j/m/+h/6z/vP/N/+b//f8TADoAYwCFAK8AzADpAAMBFwEgASMBIwEXAQoB8gDWAMcAqwCGAGcASwA4ACoAFgALAAIAAAAAAAMAAwAAAP7/AAD6//f////8//z/9f8BAAEAGAAzAEgAYQB7AJ0AuQDeAPcAAgEUASwBRQFeAW4BdgF2AXIBaAFZAT0BMgEiARkBCAH6APEA4wDbAMwAxQC/AMQAwACwAKQAnwCIAFUANgAcAAIA9P/3/wgA/f/t/+X/7v/7/wUAHQBDAGcAggCpAMIA2ADpAOgA4ADpAPgA7gDZAMYAtACeAJQAjgCQAIsAgQB/AHkAgwCFAIYAggCEAHwAbgB3AHYAfQB6AGsAXgBUADIAGgAKAO3/4//W/9v/4f/w//3/CwAgAC4APABEAFcAYgBxAHYAdgB+AHkAbwBZAEAAMAAlACYAJAAWAAkA/P/u//f/CwAgAC8AOwBDAEwARQAxACUADgD8//r/AQAIAAwABwD9/+r/2P/b/+z/AAAWAB8AHgAPAP3/8f/0/xEALgBSAFkAXQBSADUAEQDr/9n/w//D/7f/uP+6/7//yf/S/9z/6v8KAB8ANQA2ADgAQABIAD4AKgAYAP//4f/O/9n/5//1//7/CgAUAAsADgAhADsAQwBFAFIAWABTAEIAPAA9ACsAJgAzAEcAOgANAOH/wP+i/3P/Uf8//1T/c/+n/9r/BgA4AEsAQwA1ACcAEQALAA0AGwARAPP/1v/G/5//e/+T/8z///8BAPj/BwAKAP3/9/8BAAAA4P8BABgAJQAxADcAVQAzAN3/wv+8/4n/Z/9p/5n/jP9g/1T/Tf9E/0r/kP/N/+v/6//8//T/t/+W/6v/4P/n/wsALgBgAE8AEQDu/9T/s/9y/3r/nf/K/83/IABiAIUAcABdAIkAYgA/AAAAGgA7ACcACwAMAPf/kf8g/xL/dv+P/5z/7v9YAFgA+f++/87/3//Q/9P/7f8wAEYALwAjADEAOAAIADoAgQCRAF4A+v/5/9H/l/94/6z/3f/J/wYAVACTAGEAQABVAGcAZwBMAB0An/8c/7r+rv62/vf+n/9gAOAA8gDXAC0Agf9Q/2n/yf8UAF4AbgAvAI7/H/+D//P/IwBwAK8A0QCHAEgAFgDi/0cAUgCVAM0AwABOAAwAFAD1/+P/rv8yAHgAjABSAEcAVADu/4n/gv+p/5X/1P8RAFwAQAA8AEgAMAA3ACQASwAnAAEARQCJAKQAqQDQAK4ATwAWAPH/AQADACYAWQBuABIAn//e/1cAmwBjAJcAnABQAKz/E/9X/zr/CP8Z/8v/CADF/7//9/9KALX/bf/C/w0A+/+F/8v/PQAuAND/w/8+ALAAXwBHANcA5ADvAIoA4wAeAfQAswBiAMEAjgA/APP/bABIAOL/wf8QAKAAMwA/AOQAiwHoAPr/3P86AAkAyv+OAAsBiQBy/yD/3f4t/i3++v40ALsAtQDyANwAUwA8ALsAGwEGAaIAXwCE/3P+Kf7V/qr/sgDAAQ4CygFvAFv/fP5t/rf+Tv9mAPkADAGnANcAhABaAN//1P/F/8X+oP7q/n7/gP/1/4QAWAAcABYAnwCCAEUA3QBXARQBOgAoAM//Qv8o/9P/ngCMAJ0ARgBjAFL/Uf+R/1H/CwA5AMEAbAC4ANwAQgC3/woAxgCuAKAA/AB9AfsAMwAYAA8AcP8S/wsABAE5AeIAjADBAB4ANP8P/8P/m/9//77/bQBgALv/CwB8/83/lv/4/9H/Gf/c/qP+t/44/sn+7P6l/2z/zv97AHkARwCF/63/Bf8X/7P+q/6T/of+jP6+/ioAZgAHAScBbwF+AfgAQADb////jP++/8T/UABVAFUAcAArAEMATgDbAEgA0/9M/xD/T/+X/83/2P7+/hr/M/9P/6P/KgCCAMUAgAB/ALn/3/5e/uD+5f7S/sH/RQB0AGIAVwA3AGgAPgAwAJ8ArgBEACEAjAA6AH7/Uv+f/wUAUAAgAdkBiwF+AIj/T/8A/97+2v/xADwBuQAZABEA8v+E/7T/mQAcAUwB3QB/AAsAhv/I/+f/LgBVAKUApQBuAGMAfgB8ADEAkgDRAJIA9P93/0n/3/6d/jf/KQBUABoAUAA8ALD/cP9m/7v/mQC+APUAaAHxAB0Al/+K/zz/BP/d/iD/T/+e//X/QgDCAMMA5wDVAMMAQgDo/3//nv/3/9f/6v86AOQALgE/AWQA7/+y/6L/xv8rAKMA/ABzAScB6gAvAP7/sv+f/2v/pf7Q/rr+XP5d/pz+w/+aAOQAnwEaAf8AbwDr/8L/qP/R/8P/qQDJAHwBgAF1AaMByQArANr/EwAbAGkAhQCXAEsAv/9S/x//Gv+H/0QAfwBrAB4A1v+y/jr+jv4//9P/LAA0AK7/x/+o/3v/dP/7/7oAZwFNAdsAsgAQAKL/r/9mAN0AowCUADsAuf9z/27/PwBFAFsABgHrAMn/Pf40/nj+Ev+2/5oAWwHhAB0Auf/I/z3/Wf9bADEBrgAtAGwADACr/5H/yP8qALwAcQAsAGsAUADv//T/WAB8ANUAswBgAa8BswASAB8A4P/+/n/++f4TANz/zf/OAGEBhwAiAIgAxAAwASABQQH9AAQAFv83/4X/iv8DALYAGgE2ADH/6v4E/1f/RgCCAeIBhgHFAGEA9/96/1n/u/9QACMAjv86/zr/v/5W/zIAWwDLAL0Aqv/8/vH+of4d/xEAlwCDAPoAagDz/08ABQA6ANUAOwGBAGkALwAEAF8AlP+p/2oAgABvAEEAIgCDAC4AW/+i/8H/OP8w/6v/PwCdAFgALQDy/5T//f8CAPH/HwAYAAwACADf/7H/pf+L/3j/y/+LAJIAaQBqAJkAYADs/wUA6v+7/x//Gf9j/3//l//I/68AfQCh/6T/CACx/8H/+//2/wIAbP8b/yv/gv/y/8IA/gDmAMcA7/9s/x7/SP/0/5UAMgFyAScBxQAvAWAB6QDcACQBDAFIAFD/z/4G/9/+v/6V/58AXAB+/zL/f//N/wEAwQBVAYoBuwBk/8r++P7S/kD/ewAWAVoBVwGlABcAWwDE/7T/LwApAPb/IACHAOMA+QBUAB8BowEnAagAZQBEACQA5f/M/xcAOf9c/l3+v/6y/iH/LwCgACQAg/+b/3//O/8f//3/yQCZANsAewGTAZoAy/8yABoBKQFxAT4C+wHrADsAEgASACQA9f9YAE8ADwDv/5j/cv+E/0QAVwCX/w3/t/89AMv/1v+DAHwAh/8K/1L/2P85ALoAewGCASgA6v7c/vn+9v57/xAAvgDUAHUAPwCh/2b/ZP9S/7T/OgAJAOD/sP9e/5n/XP/5/jH/cf+r/1sAhgDOACIA9/4G/2P/BAC+/4P/r/+AAK4AlACAAPz/DgCU/8P/n//I/0UAxgC+AAUAt/+x/n3+HP/U/00AcwHRAQMBvQAEAIX/zP8mAFEAGgFOAV4Anf8r/zT/zf+EAFgBkgGSAWEBegDF/6D/of/g/6IApwApAaUBlACG/4H/q//e/2UATACzAAQBdQC8/4D/aP8S/5/+qv6k/+f/xP/5/0cA5P9U/z3/T/+i/7L/CACyAIMA4f8oAIsA3v/I/2sAwwBOAVIBzwBWAOL/Nf8d/0n/Nv9n/5f/PgCoAPIApACv/0//cv/H/10ABAH3AMIACgBq/0H/5/78/n3/MwDGAIMABgDB/wn/uf4j/13/ef8cAKMA2wBgALb/uP9d/13/+f+OAMgA7wAHAVcBbQHLAJcAgABRABEAr/+e/08AowB/ALkA3QDtAEsAaf8oACUBtACRAPQAzQA7AM7/9/9RAHEA2QAUAegArADG/03/Sf/X/mn/OwHdAaoBfwG1ABQAFACLAPQAVQGJAbkB5QAyAHoAPgAgAL//QP/A/zIAWv9PAOsBDAEdAGYAYwALACgAyf/n//L/Nv89/3f/eP9l/5//HwARADQAVADi/5n/q/8LACsA3f8CAFMA3/9+ALUB5wHvAZABqABVAAEAe/93AFwAhP8TAIcANwB9/6T/jgDCAMkAiAGTAakAuP8QANMAiAARAJkAXAH0AIIAPgA1AAwAqP/4/7YA2wDsACkB4ADLAGwA4v9WAB4B3ABPAIQA5QBpAH7/fv9PAH8AlP8//zMAygBWAHkAAwHGABAARv8k/xUAWAAlAN8AkAHVAbABmQG0AWEByQCiAPUAEgE4ALD/PACCAFQAQwCDAHEAYwCMAH8ASABx/1T/lv83/9z//ABoAT4B2gBvABoAgf8l/7f/DwDl/08ARQCC/9f/jwD9ACIBaAF8AbQAQAD7/0AAawAdANkAnQFHAWkAQADy/6j/RgC2AOAAIwAi/3X/Lv8b/gP/CAD6/8X/jf8AAEgACAALAJoAEwCU/1oAxwDvAJ0AswA/AS8BHgESAeAAjQCFADcBwAExATAA+/8jAM7/CwDGABMBGgFPANH/KgBIAJ7/Ev+H/9X/FQBXAFMAIwCp/+v+Xf8gAJH/fP+9/8j/6//w/23/sP/1/wwAwADoAGoBJwL1AVEAEwCYAFcALwCU/0IAGQF9ALj/OgDeAAAAbv9OAKABbAHx//P/gABd/0/+S/6m/6EAxP8yAGABvwHSAE3/4v7w/g7/h//VAGYBvwDn/xT/aP+2/zf/9f/zACQBIAHVAOIAnADm/ycA3wCJAJj/+/9CAOD/BwC6AGEBUACO//X/SQAIADQABwH3AEMAMv9J/4T/B/9f/4UANQECAQEASv9Y/xL/M//B/8cABAHlABcByAARAGD/6v84AO3/FAA1AKcAmgHdAe0BlwG1AGIAlwB7AI8A4AAvAOv/WABHAC4AVgCxAG0BNQHwADcBjQCR/xX/cv82AG8ALQCmAKkAfv8S/2z/UwDjAFYA6gAJAnkBZABXANMAPgHOAKMA7gHEAQQAoP9HANwAwAAsAHwAwQBMAMr/3P/y/xMAYAA4APP/qf9F///+AQC7APX/1P/PAAIBoQDl/+//TgHkAEsATwHIAX4AkP/J/zoACAECAUQBEgKVAZQAQwCnAOsAjQC1AHoBmgEcAe0AMAGXAML/6//BACYBMADX/4EANwBl/xn/xP+FALcAywDZAA0BpQCS/4D/FQBlABQBEwGbAI8A7v8u/4z/u/+S/wAAEQB6AF8Alv/m/zEAJwCBABsBbwFTAf0AhwATAC//kv8WAeIA///c/xkBQgGh/5f/KQA1AIX/Ov/EAMMB/ACNANQAjwCDAFcAcwBYAbkAzP98AM4ACgElAVgAzQC+AYsB1QB0AGsAWgDK/yQAigFiAdIA7gAPAWQAkv+q/xEAEQDt/8YAhwGCAZUA3v8yAH4ANAA1ANsAnQAVAHL/DP8z//D+JP/DAOoBRgGoAB4A6v/6/3f/vP9HAAcAUwAPAfsA9AB+AL7/4v8EAL4AdgGIAH//TQA5AaIAtP+p/wgBLQEdAAwAbQBFABT/yv6d/yIALwCkAAgBtwBaALP/wP/2/0P/Vf+jAAMB0QDjALcA9gDxALgAJgELAWEA2wAzAcMA8wBtAVcBaQC2//j/EwDA/wsA0ABjAUMBRgDu//L/Yv+4/20AugBVAW4B6QCMACwAaQCtAG0A+gCoAWcBjwCe/2P/MACJABcBBgJDAlcCzQHoAGgA3v9c/6b/0P/w/10A9/+8//v/if9l/0QAAwH+ALQAWgBoAAkA8P4M/2QAYgEkAbUAyADCACQAuP9jAKQB2AE9AV8BsQF9AcAA1v+C/83/+f+ZAGkBXAHcAMkA+gCbADAANwAVAWgB5wC2ADwA0/+6//7/XwDkAHwBcgGqANb/pP+1/2b/Wf82AKgAxAD2AH4A8//d/wsAqwDfAKAALwFjAccACwDG/yQADwCX/xoAGwEIAaYARQAAAK7/Qf/R/9kA5gC5AB4B/wChALT/k/+AAKEA0QAzAQEBiABmAHkARgDs/z0A8QAQAZYA6gAaAScAnf/i/50A1AC4AN8A4ADn/y3/lf/J//P/wQCaAa4BRAGoAF4ATwDu/1MAowGkAScBZAFOAQgBJAFHAWQBnQH6ACwAFgAcABoAov9A/w4ASACg/w3/lP/eAPAAmQDJAAoBiQDZ/2D/7v+hAJgATgG2ASsBqQBQAMH/BgAxACoABwE4AVcAM//W/jb/sP/K/08AZwHTAV0BSgDq/1sAPwB5/9z/sQChAIYAOQDV/+r/TABmAK8AtgBsAH0AgAD0/53/BABEAI0AhACFAIEAmQDoAA0B+QDhAAMBfQB/AAEBWwHRAaYBYAG2ATsB0f84/57/IgBiAKoAfQGpAa8A6/8DAJsAJQCU//3/zQDSAEQAlQBUAXcB+gDfAOgAogBHAB0AWACNABMABQC2AMIAhwBlAH0AMQE5AZwAewAZAI//QP87/+7/qADyAAUB0wCUALEAuwA+AFwA9QCvAFMAFQCW/2L/ZP8jAOUAwgDbAAcB7wCQAOz/BgChAG0AOQC5ABMBCAHqAH8Ayv+z/xEAlQDZAO4AlgH3AZEBjgBf/z7/rf+4/wgAyAAwARwBBwHGAI8ADABt/4P/3v9GAJYAkAAdAOH/xP/W/wAA4v9zAC0BPwF8AVcBdQA7APb/LP8e/6f/aAD8ALEAmQDzAL8AcwBoAGMA4AB5AfsAuQCdAPb/FwAVABMACgEuAbwABwHXAFQAIgAUAFUARwD1/0QAYADI/6r/vf80APcAzgBzAGoANQAuAIwAzAA2AYsBGwG8AKEASQAKAMz/7v96AO8AfAGaAeEALgA9AH0AagB3ANIA9AACARoBFAEMAX8A4/8yAKoAuAAIAXIBRAHmAJYAFwBlAHkAFQCjAF4BCQKBAXYAggBiAPD/MwDZANcAnwB0AGgAigANAFj/pf+aAFkBeQFLAaQBlQHTABoAx/8GAA0Auf9ZAHEBHAFEAEgAuAChABAA6/+fAGkBawETAUkBowG+ALr/nf+d/77/1/9iAEwB4QE8ArIBzwCrAKgA8f8PAMsA3ABCARYBzwDYAEMAtf8SAL8A+gAiAeIAxQCiAAkAPwDYAEcBigFEAd0AswBMAKb/r//M/4f/uP8/AIcAdwATACsAdgAUAPb/0P/6/0EADAAnADoAYgCnAMcASgCm/6X/0v+w/57/JgCMAGQALwBcAFkARAB5AJQApQBpAH0A1ACpALwABQEJAfAAzwDjAC4BHgHJAMwAygCBAGwAggDBAOkAmwBrAK8ApgAGAP//bwC1AG0A3/8hAGcAzP9d/woAxwDjANkA9AA2AQgBcQBeAIMANAAQAIQA8gCNACEAeQDUAKQAVAC3ACEB9gBwAB4ARAAkABgAaQDRAN4A7QDqAG0ADAC5/5n/y/8mAJUAJAFuAYUBPAGJACwANwB1AHcAuQBIAbEBhQEwAVkBGAGIAC0ASQB6AA0AyP8hAGwAFgC6/wAAaAAOAJX/5f9HAHAATQA8AGUATAAJACIASQDG/63/CQBlAGYAHgBRAJYAegCDAPEAJQH9AIIAkACsAPX/gf+3/wgAJgBKAMUAcAE5Aa0AwAC/AGMA2f+d//3/bQBpAIsA0gCmAF4AIAAuAH8AgQBwAL8A9ADvAMAAWgAFAMn/4P/8/zEAtADjAOMADQEXAcwAjwBRACwACgDD//H/VwBNAGIAmQB4AGwALAANAFMAUABoANwA6wDPAOsAzwDAAE8ArP/W/xUA7v/x/zMAhwCpAIwAvAAJAdcAcwBpADoA0v/J/xIAOQAuAH0APQHFAV0B5gAjAUYBCAHdAN8A9QDcAGkATwBUABIAUABWAAgAJAAqAFcAaAAUACMAkQCQAE0ATAA7ABgA3P+///r/JQBUAKoA1gDJAKwArgD8AP8A0QD5ACgBOAEHAQIBNgEfAdQAwgCyAHcAIQDP/wAAEgAXAKUA+QDOAMoArgBEAN7/eP+d/xIATQCIANcAAAG2ACoA+P/5/9X/zv8eAKYAFQEeAf8AGQEtAfAAowCDAJQArgCuANMAFwFIAUsB9gByACwAGgAiAPL/s/8GAHgAkQBHADIAZQBOAA0AHQCcAOkA8gDNAJYAkgBMAPT/AABPAKoA6gAmAWABagFFARgBywCAAGsARwA/AFoAUwB/AKQAawBNAEwALAArACYALgB5AI4AeAB1AFgAbABzACoACAD2/wAASwCDAF0AMgArAAcA6f/b/wAATABxAJkA2QD4AN4AngBYABUA7f/0/ygATgBdAKAA5wD8ANwAuwCkAIAAVgA/AG0AdwBoAG0AcACDAIgAowC/AMYA4wC9AJ8AqgBiACAA9v/Y/+T/+v8EADwAqgDTANMAxgCVAHIANADr/8H/mP+c/7z/zv/1/zYAZwB5AIwAqQCgAHUARgAfADYARgA9AHsAsAC5AKoAhQB1AHMAOwAoAF4AVAAwACkAHgA9AEoAQwBmAGcAeQCSAJQApACxAKYAsADEAJ8AjgBvAF4AYABGADcAKQANAPz/EAA2AF8AfQC0AOsA6ADaALwAdAA5ABAACQACAPr/GQBJAFQATABoAHQAcABJACAAJgASAAAAFABFAGYAdwCsANsA/ADlAK8AsQCpAJgAlACRAJ4AmACTAJMAmACBAFcAPwAnABUAHgA7AEcAQgBXAIQAlQCfAJwAkgCRAG0AWgBZAEMAIQADAAcAFQAnAEYAfgDUACMBTwFCAQYBuQBnABUA6f/b/+P/CwBPAJcA0gD1AOQA5QDcALwAtAB9AEkAMwAnADwAVwBkAHsAgwB8AJMAowCnAIgAPQAkADUAGgD6//H/6P/k//f/GQBDAEIAJAAeAA8ADwD+/+L/BAAVACEAUAB3AIoAgABmAF8AXQBLADwAOwBHAF4AVwBlAHEAUwBjAIkAlAClALIAqAC4ALEAngCoAKkAogCRAH8AcwBrAEsAPwA/AEoAagBpAGUAZQBlAGMAagCMAJ0ArQCnAI0AjQCIAGgARwBLAEsASgBoAI8ApgCaAIsAeAA0APb/5P/n/97/1//0/xUAGQACABMALAAOAPv///8RABwAGQA0AF8AhwCYAKEAqgCZAJgAiwBpAEgAKgAkABEAAAAdAEkAZwB3AH4AeQBzAFsARQBRAEQAMAAtACcAMwBGAFwAjgC9AMsA4gDZAKQAfwBiAFYAUQBHAFoAfQCOAJ8AuwDMANEAwQCvAKkAhwBhAFkAWwBaAGQAdACEAIAAZgBQAEAAKwAMAPn//f8KABwANABgAHgAdwBzAHIAZAA4ABUACQAHAPz/+v8SACsALgAsAC0AJwAXAAEA+P////7//f8GACAAQwBYAF4AXQBhAGEAUgA3ACEAEwABAPb/AAAcACsAKQAvADQAOAAzACIAHQANAP3/9f/0/+7/5//x/wQAIgA4AFkAdAB4AHgAbwBqAGAAUAA/ADcANQAwAC8ALAAqACkAJAAgACUAKgArADkASwBTAFsAbQB9AH4AeQB3AHYAcwBzAHcAfQB/AHwAdQB0AGoAWgBVAE8ATQBNAE4AUQBYAFkAWgBbAFUAUQBKAEAAOgA1ADsAQQBGAFMAWwBgAGYAZwBcAE0ANgAmABsAAwDz//b/AAAFAAoAFwAnAC4ALgAyADMAKQAaABQADgAHAAYADAAXACAAKgAyADoAOgA3ADQAMQAqACIAIwAhACIAJAAqAC0AKQAoACMAJAAfACAAIgAkACoAMQBBAEkAVABYAFEAUABHAD4AMgAjAB0AHgAkACYALwA2AD4ATABbAF8AXQBZAFcAVQBOAEkARgBBAEAAQgBJAE0ATABQAFEAUwBQAFMAVABWAFgAVgBUAFcAWABTAFMATQBKAEgAQgBEAEMARABIAEgAUABXAFsAXwBgAF8AWQBUAE4ASAA+ADkAOgA6AEMARABGAEkASwBMAE8AUgBMAE0ASwBJAEsARABCAEUARwBFAEUARgBBAEIAPQA6ADkAMwAzADYAPAA6AD8AQgBCAEEAPQA9ADcAMQAvADMAMQAyADgAOQA5ADsAPwA7ADwAOgA1ADMALgAuACwALwAwADIANgA5AD8AQABDAEIAQwA+ADsAOgA7ADkAOAA8ADoAOwA8AD8ARQBFAEIAQwBBAD8AQABEAEUARQBCAEEAQwBEAEoARwBKAEgASABJAEYASgBIAEkASABNAE0ASgBLAEgASQBIAFAASgBFAEkASABIAEoASwBJAEcARwBHAEkASABNAEwASABPAEwAUQBMAEoASABKAFAASgBPAEcATQBUAFYAWQBVAFIAUwBWAFUAUABNAEoARwBLAE8ATwBMAE0ATgBSAFEASwBMAEoAUABQAE0AUQBNAFEAVABSAFEATwBPAFIAUABJAEoASQBLAE0ASgBPAE8ATQBOAFAAUABRAFAATQBNAE4ATgBRAE4ASgBNAEkASwBLAEkARABEAEkAQwBAAD8AQQBDAEIARQBFAEEAPQA6ADsAOgA5ADUANAA0ADYANwA3ADkANgA2ADEAMAAyAC0ALQArAC0AKgAnACMAIAAfABsAGwAYABoAEwAPAA0ACQAFAAAA/v/7//f/8//1//H/5//r/+b/5//p/+L/4v/e/+T/5P/i/9//3f/g/93/4f/e/93/2//X/9j/1//W/9D/0//N/8r/zf/J/8j/wv/A/8L/xP/C/73/vv+7/73/wP+9/8D/u/++/77/vv/A/77/vf+8/8H/v/++/7//vv+//7//vv/B/8H/xv/H/8j/yv/N/83/z//c/9j/4P/i/+X/7f/v//j/9//9/wAAAgADAAMABgAIAAoACQAIAAoADwAMAA8AEQAUABcAFwAcABwAIAAjACUAKgAqADAAMQAyADYANwA3ADYANQA0ADYAMgAyADEANAAyADQANgA6AEEAQgBLAEsASgBQAFQAUABWAFYAUQBTAFQAVABVAFEAUQBQAFQAXABZAF8AXwBjAGkAZwBqAGwAbgBpAGoAZwBiAGMAYQBiAGEAYABhAGAAYwBkAGQAZgBmAGEAXABcAFsAWgBVAFYAUgBRAFUAVgBaAFkAVwBVAFwAWwBdAF0AXgBiAFkAXgBhAF4AYABdAF4AXABbAF0AVwBYAFYAXABfAFsAYABgAF4AYABkAF8AYQBeAFwAXQBaAFkAVwBWAFgAWABaAFYAVgBWAFYAXQBaAFQAUQBTAE8AUwBSAE8ATwBUAF4AVwBbAF0AXQBbAFsAWgBVAFQAUwBUAFUAUgBQAFIAVABZAF8AZwBpAHAAdQB+AIQAggCGAIMAgwB/AH4AeQBuAGgAXwBaAFIASQBAADkAMwAzADgAMAAvAC4ANAA4ADcAOgA2ADcAOwBAAEMARQBFAEgATQBOAEkARgBHAEMAQwBCAD8ANwAyADIAMQAyACwAKwAlABkAGQAWABAACQAJAAoABQAFAAsACwASABYAHwAqACsALwAyADoAOQA9AD0ANwAwAC0ALwAsACUAIQAjABkAGwAdAB0AFwATABgAEQAQAAoADAALAAQABgAGAAQACQAOABEADQAUAB0AHQAmACEAJwApACgALQAqACgAHwAkACEAHgAcAB8AHQAYAB8AFwAZABUAEwAVABAADwAMAA0ACAAEAAUAAgAHAAYACAALAAoADQAQABgAGAAdABsAHAAhACEAJgAeAB4AGAAUABIADwANAAsACwAJABEADwATABMAEgAUABgAGgAZABcAFQAcAB0AJQAgAB8AHAAaABoAEQANAAMABAAAAPz/+v/3//X/9P/2//j//f/9/wAACwAQAA0AFQAbABwAGgAcACgAIgAaAB0AIAAbABAAEgAWAA0ADQAPABQACgAFAA4ACgAJAAgADAAIAAAABgAMAAsAAwAEABAADQAKABIAGQATABEAGgAbABQACgAJAAYA+//8//z/9f/l/+f/8//l/93/4P/t/+n/6//4/wYAAwAEABsAHgAZAB8AMwAwACIAIgArACUAFQASABUADwADAAIAAQD9//b///8AAPr/+//9/wEA9//v//r/9P/s/+r/7f/0//T///8HABUAFwAdACQAHgAcABwAHwAWAAcAAAD///f/7P/h/+f/4//f/+T/6P/u/+7/9P/9/wEACQAVABwAIgAbACUAKgAoABwAGwAYAAsADAAHAAQA+f8AAAQACQABAAgAFwAcACIAIAApACsAMgAwADIAMAAtAC0AMAArACgAKwApACwALQAqACkALgAlACAAGgASAAsABgD+//P/6v/k/+j/2f/U/9L/0P/B/77/xP+8/8D/wf/I/9L/2//m//T//f8DABYAMAA4AD8AUABkAG8AbwByAHUAdQBxAHMAbABaAFUAXgBaAFgAVABbAFoAUgBXAFUAUQA/AD4ANgAdAA8ADAD+/97/0//O/8H/q/+e/6X/kP93/3X/c/9o/1n/Yf9a/0//Sv9S/1r/T/9P/2D/bf9r/3z/kf+i/6n/vv/d//P/CQAbADwAUABmAH0AoACuALIAzQDjAO4A7gAHARMBFQEdASkBMwEkASEBLQEfAQwBCQEIAewA0wDIAK0AjABwAFwANAAMAOP/wv+N/1j/Kv/3/r7+hf5U/hP+4f2w/YT9Wv04/R79GP0W/Rz9K/1F/XP9rP3b/Qv+X/6p/vP+O/+m////VgC5ACQBjwHoAVgCuAIfA2UDuwMEBC8ETwRlBH4EbwRaBEYEMgQIBN4DxQOmA3wDVgNAAxcD3AKtAncCKgK7AUIBsgDn///+AP76/Nf7rvqn+bP41fcZ95D2MPbr9df19/Us9m722PZk9//3qvhu+VX6PPs0/ET9Zv58/6gA9AEpA0kEeQW4BrUHlQhzCTcKtQoIC1gLcQtQCxEL4gqDCvUJfwkdCacIKQjRB4AHJwfQBosGNgasBQ0FSwQwA74BLACP/qr8n/qd+Mf2EPVk8wzy8/AA8CjvnO4/7tnth+1+7Zvtme3K7Vzu/u6t79rwh/JE9FH2OfmH/O7/wgM+CJ4MhxB/FGcYXhszHbQefh/qHlgdkRs1Ge8VjxKOD4UMVgnGBv4EVAPAAeIAhwD3/0v/5/5V/kn9Gvz9+oj5qvf29Y70CfNr8TbwQ+8u7g/tQ+yX67DqqOnH6Pbn6Obh5b/lAefT6Kjqju208qz4C/6/A7QKPREcFuYanB82IoIiDCNpI0Ehfx3RGnwYRhS6D9AMWArdBhsE+wKuAcn/Mv/a/7b//P6R/wQBlwG1AcECGgR0BGoErASJBFUD5AGOAJ3+xPvp+E72GfMy71jr9+dJ5GTg6tw12sPX1tXN1fzXNtv13rXk+uza9fz9rAYkEFMYWR74I9Uo4SrNKtUqHiqhJi0i9R6cG04WNRG8DUUK+QW1AtgAf/4T/Cz7SvuQ+vj5+vqq/JD9kv6cAIQCYAMEBOUE3wSlAx8CnADw/Ub6f/bB8gzut+jD4wDfzNmY1LHQUM4NzoXPd9Lo1oveauge8r/7oAa0EUka7CEkKfMtHi/UL2kwvy2ZKIYkaiH0G5IVUxH/DVAJJwX5AqcAYf2b+3f7gvrJ+PP4kfqG+0P8df6FAegDSgbpCAQLyAsUDAEMeApPB3oDgf90+kL0uO1j5+XgJtoE1HnOe8mRxbvEJMelyhbPp9Ze4jLu//iHBE4R5BuoI2QrnzHJMykzsTOaMnwtmSc6JEYgbBmAE/gPBgyeBvYC6gCU/fz53fi1+O72h/UC9zj5cPpB/CAAGwQcB14KyA3eDzYQTRCGD60M/AcmA/b9Ofd57/7nEuGP2ULS5cuIxszBdr8rwc3EMsnfz1LbVugN9AoAhA3oGekidCv7MrU2zDY7NzQ3/jKnLDEooCQkHvcWPRIhDnkIdAOJACb93viG9jT2BvUc89Hzofba+Ln6m/62A94HsAvPDyoTTRScFGwULxJZDcMHTwJS+8zyVuqs4sraztLmy9fFOcA/vPy7477CwiTIN9Ed3jfri/eaBFsSFx5cJwswmjZGOZc5WToeOecz3y3dKUkl3x3GFu0R2QyMBoUBEP7C+X310fNP86LxivCu8gj2e/iR++wAkgYdC7kPaxRTFy0YhhihF98TBw4XCHkBAvmp7w3nut5K1mfOtMdkwZu7LrhSuGi7e79gxR/P49yz6o33hgVeFMogkCogNEo75j1VPpA/Cj6xN0oxVS21J7IeDBfQEVML6APH/gb7x/WB8ZzwSPB07jTumvFd9S34YfzAAqIIig30EvkXlRpxG+sbmBr/FaUPWgn3AYr4kO6l5bbcetMmy0jEir0OtzqzarOHtpm65cBgy+7ZjuiP9t4FvRXhIoMtFzjPP1NCuUIdRCdC7zrfM6EvPilmH0MXxxGqCoACNP0/+Xjzq+7b7ZjtneuT66nv/vNO93v8EQTZCooQAhcEHRkgHCHlIYcgSRsMFPUMngTF+b/u++RT21PR2sgqwny7D7XbsIuvIrF+tbS7H8SB0J7gOfAv/1oPsR+FLA03MUFlR29IOkhYSJpDwjqYMwUuCiUsGmUSCAyuA+n7bvce84Xtkur86szq2eko7HTxNPa9+pUBzQm6EA4X1B0BIxoleyUBJYshehowErsJt//+89To1N7k1DzLasOhvL+1Xa8DrH+r/q3fslC6sMQA04TkaPUFBuAWkyegNFc/80eDTLRMl0trSZxCOTmHMa8q2iA1FmUOfgdT/zH4n/ML7xrqJOiO6IfojOhF7Dbyy/e6/fcF+g7BFvcd4iSaKUsrNitUKRIkmxs3EiMIlfzc72fk/dn3z3vGEb+AuOOxB6zhqOSntKk0r5G3HsJC0Ajj2fWSBxkZECtjORJEvkzaUZdRrk5sS6dEVTrgMD0pyx/tFFcMhQXu/Zf2pPGV7cfo+uXw5aHmE+dD6mzwVvdx/jYHRRGAGmsioikIL+ow6C/uLDsn7R0ME8AH3/v77u7iatjczt/FTb4JuAiywqv6phylcabDqpWxLLydykTdCPElBYcY5irQOnNH1lBXVV5VPVLLTQ1GYzsbMZIoeh9kFd8M2wXF/vT3tfIm7vLoaOWb5MjkEOXQ5+vtSfV5/S4HIhJqHK0l3C2gM7M1szSJMTArTCGjFaIJLf0z8C3kWtm3z9TGXb+0uAOyaqtEpayhZqBeo7SpELSUwYTT1ulsAFEVkihyO3hJklIIWHdZQVVZTn5HGT4qMusn2iDTGFwPNQjaAg/8xfSF71nqUeSh4GXgNuGn4vHnFvF0+wcGOhLsHrIp8TFAOBI7izneNCcujSREGJoLtP/z8/Lnsd341IrMvcOYvHG1f62+pGie2Jocms6eX6hsttXGrt2g9xAQ1iRhOFJJQlOfWBFap1Y7ThFGez5+NCIqQCOaHs0XehDNCn4E7ftk80HsPOQW3bHZStpX3A3hiOpq9w0FlxKgINss4TWUOwA+8DvsNfUttCSxGd0N5QI4+bbvseY/3rrVaswLw2G5yK4IpNmZspKPjyOTvZv4qTC9zdSF7+IKKiQ3N0pGDlGgVpdVCFGfSstChzuxNakweSvpJ0clICCPF+QNlAMs9yvq8t7r1S3Qn8+F1HncjOcd9vQGqhbmI98usja/Ou46MjiPMoEr+iOTHOkUKQ2iBT3+TPa07JLhS9USyF26mqycn9GTqIoth1GKBZSroiW3uc4Z6NECqBtDLoA6SETFSSJK4UeXRTdC7D6CPt4+kzzkONM1si9EI0oUWQU99bPkCtgQ0LHLqsxa1CHge+wV+hsJExfiIIUnQSzbLvAu2i14LFMqpydVJfkiDx5oFpINLgOq9Ynl9dSDxE+0cKYXm/SR/onjh72MxZbLo++0WMoK36f0cwpKHeYoYTImPN5C/kViSIdL50yeTQRO1ksAReU7zjHfIw8SYwBK8QXkiNnj0/HSmtXn25nlme+a+GABnwpaEuUX5hxMIsgnRSwmMOsy2DMxMj4uMSdZHNYOKQD98IbgdNAcwgm2IKvwofaa5ZNPj9aPcZbCn2OsMb470l3n0P3jE3EkzzCRPIhGCkzOTuFQjlF3UKVOXUuCRMk6WDCaJJYVQQVX9jvqOOBD2VTW5taS2gvhk+n08cn5cgKuC/0TSxt0IqgpSjAqNfY3VjiqNfYvxicLHVMPogBW8n3kSNZAyXC9FLM7qfifiJZEjkGLfI1olRSivLTByEvfGfkuEVwivi6cOnFCvUb4SUBN+k1kTlBQzFCeTIJE3jqOLkQe2AvU+gzskd/D187V6tZ32qbhzeqi8mb5UwDxBi8NexN3Gh4i5imhMEQ2fzlRODgzayt+IDUSzgK18/XkLNcOy8G/hbXWq6KidZiljyOLJIxKk/efU7L/xaHcB/bsDaAepCrgNao9tUKfR9hMeU8eUsVVVVdtU2tK0j6qMCMfxguU+r7sr+Ge20PbYN1C4GPl7OvL8Gf0nfg4/s8ExwxKFikhhSuMM3c5CzzTOMQwxibAGqEMov5v8tnmU9zM0UTHOrxpsAOjNJT4iU6FeIi1keShNbfWza7lvPy0EJwcXiTWK1sz4jl1QfBKF1QVXE5hKWLfW8lOPj0rKuoWywMF9Obq/Obf5XznZ+rX65vrReuG6tzpqOvQ8X/8RwqwGBAnrTMeO+E8ozmdMWslWBmXDnQEofvL9O/tSeW82jnNJ70Zq/qX64cBgMiA1omvmhSxH8fW3BTy8QGACskPXRZQHjcpqzfvR2tXN2RsbLpt92W5VZ1BXi0dGu8JP/8o+qX4Jvlg+bf27/AF6QvhW9tQ2Vvc8uWW9d4HcRlpKFwyujWhM6At2STuGxoVFxEFDx4NsAmXAo33PeeA0/G9GqmollaIZoNCh5eTYqPTtanG99I43lHoPPC/9YsA1hA9JOk5WE+2X31ovGvQZ89cDE1GPP0tMCQgHnMZHhb6EWALQwKF9u/ocdwg1U3Te9dY4ZruWP35CzYXGh2DH9AejBxmG/Yb6RxvHoggrh/qGvoRowPv8bnf7M0QvfivEaXHm0iY6JlxnuekH65Rtkq+i8pM2F/lAPNZA4gU2Cb8OFxHplEWWA9bsVpgV3hQu0fSPxM4KDDRJ/4dKhNHCV3/gfQ/6z3ksd/T3uDhy+br7BP1vv3QBbMMBRJBFj8ash0RIJMhGSGVHooadxRXC/r/BvQN56LZY8tzvumxN6XqmwuZ6pxpohyrirXUv4DKmtbm4irtX/mSCO4aly1aPl1LRlSBWfBZ41bGULtIw0B3OkI1SS9AJ4EdWRNMCE781fAQ6NziZOEJ5Bfp7O4S9Yz7dgEQBp8JbA3iEcgWaht9HkIfBB10GKMRIAnk/QfygOYf3H/R7sVguamrFaPgngCgMKU8ru+2zL7ZyqrW899R6GP1UATnFKYnwjgiRhpOa1P+VBVTd03xRmZCzj3mOKYzTS2vIj4XWwzGALD1VO1x6T/oIupO7QfxJvWx+FP8sABwBX4Jmg7sFIgZfRvvGhAYChPYDDAFBPz68jHqzOCV1THJ9bq8raGlGqPbpSKsoLRGu4vBUcro0mjZMuII8Q4CTxR0J/g3/UF2R4hLjUzwSmJI6EZjRnZEPkAEOs8w4CPWFicMOwMq+3n1BPPR8X/x7fBX8CrxTfMd9+X8gwP9CJkNiRLHFbAVBxO3DwEMSwi0Ayn9Q/V06/7gSdXZyEa6HK4nqX2qyK9YtXq6QryOwGvI08++1lrhU/KxBDMY6CiVM1A5GT5rQ4lGYUinSOtJy0oiSCRCmDnpLj0ixBgGEv4K6gNp/lT68vV18jDvOO4Y8EfzTPgw/pcDZAYJCa0Lawz6C1MLgAo5CF8F0QBq+qvxr+cv3XTSD8ftupizdLKltXC43LrTvDa+vsJZyjvTSNvL5nz3rwlkGV8kYixLMok4Oz9IRBZHS0hySW5IdERfPeQ0BC25JWweZRalD2AJ5QJD/OD2kvPK8ZHyE/U9+N36c/2mACMDogQGBv0HNQnnCAsHIQSYAL/6JPRM7DXj6tqy0ofIVr4SuSO40bluvHW/qL+lv4vFW8/T1zPe1Ok1+QAIpRXIIGIoPS10NCI8PkHHQ+FEpkXYRGtCvTytNXsv5SmHIxQckRTfDIMGVAEJ/fn4ZvaF9ur38fkM+wr8LP3n/r0AgAH+AdkBwgCB/vf79Pjk8/Ts0uWP38DZ1dDCxQi+kb0fwbjCmMPXw5rDkcXszDTW6Nu+4svu7/31CtcUixzJIl8qqjLXOOk7cD7yQKBBnkD/PSg5aTN3L0wscCZMHs8WqBAaCysG7QEp/iP8Nvx8/Oj7ffsN/J38Pf32/Rn+mf3e/Hv7sfhX9eDxWO2k58HhJtym1fnNg8cVxA/E38VvyHHJ9cdNx1nLINP02cLfcecS8p/9UAiPEHcWwBwLJRkt6TF9NOI2ajkTOzY7bDlCNoUzazHdLaAnLSC/GW4UqQ8QC1IGBQJ4/3/+OP0Q+0H55fh5+Rj6e/lA+In3HPcc9ubzcfEo7yftE+tJ6FPlt+F83QjaH9gN2HDZgtuk3OvbadpQ2tPc1uAq5Qbqfe8j9WX6wP4ZAjoFlwnyDp8TaxasF9sY0RoKHRMe+xwwGs4WzBMnEaQOtwzHC8ALEAw+DOYLagtFCzAL/grKCjQLMgx2Db0O2w/QEFoRBhGxD+YNGQynCokJdAgNB1gFVgP7AGH+lfsC+cv24fT08u/w7e4B7X3raOqV6d7oQejQ557n3Od56Cjp0ums6s7rFu2M7iTw0vGe84H1Vvfv+IH6bPzZ/msBlgMxBX4G2geKCZQLtw3YDzQSvhQeFxIZkBq1G8wc8R3gHkQfFR+GHokdDRwTGsMXSBWWEq0PjgxmCV0GcgOQAJ79vvrr9xv1X/LM76ztCuzB6oDpEuiI5hHl2uP94rHiAOOS4z7kB+Xs5dTmv+fD6NvpNOvq7MTufvA38mD0Cvf6+Zn83v5pAfMEYgkODbMOXQ6xDdQNYA/CEXcUNxd9GkofsyKeIjEguh5dHxogHB9tHIYZiBcrFvIUMxOpEGkPMw+hDPsFvf3J+Jn4Z/mU90DzgO9B7UzrougS5tPkZeRW40LgCdwv2UDaaN1n3o/cYttA3QbgUeHw4UbkR+l27+HzgPX99gf80gM2CokNDBCwFDgcySQBKzMtAS5eMD0zDDXZNIIy9S6OLK4rWykdJC0eeRtzGmMXZhEFCywGSQL8/Br22e92673pSuje5ODgh96n3O7a39cc1NvRStHOzpTIjcTFx8XQAdfA1SXRmtG312LePuLn46HoC/JZ/CAC7AOdBzsQhxpfIeEjRyVDKHAtgTOgN6U3IjU1NDk1fTQ8L9wntCKpILceORkrESALYgnDCJoFtQAa/en7Kvsl+YT1APKL8GLwwO6S6jPmHeR44+jh+d5p2/fX1tOpztLKPMsxz3rS3dNK1MLT/tP01w3fmeRC6OztPvYa/gcEvAnED0IWeR24I4Amxyf/K58yTDd9N940jDLJMRIxpy3AJ/wi2SB3HkUZ3hLJDcoKGwkcBwMEnQCQ/lz9gPvv+E72MPSF8sDwKe666qjnc+XB4qfeAtok1YLP08pSyoHNetBT0VzRTdGj0SvU19l24OXl3uvK8/H7hAK8CFMP6xUOHfsjqihpK44vajU6OXw5aTh7N/o1ZzMNMK0rCycvIzgfzBmzE6oOpgpjB/kEwwLL/438IPoS+LD1TfNo8cbvKO4C7KPovuTW4c/fdNw5123R+8xiy13Mhs440DDSMdRm1DrUVddV3ijl3erN8Tz6ggKTCeIPbhVyG48ipShRLHUvJzSVOFg6qznpNwk2MzTYMZIt9Sc8I1QfpxrrFG8PngrKBmUEbgKd/1v8xPmx93j1NvMU8QTvNu2a6+zo9+Rk4d/eRtw82AzTNs2JyTzKos070FDRFtN+1BvVcNcJ3YzjTemH8J35kAJQChIR0Rb+GygifSgXLXswfTTbOPE6ijreONo2nDSUMYgtlCjoI4sfrxopFacPogojBvQCBAFG/wP9uvqW+BP2fPPs8IzumewU62/p++bY4yHg2duR1+fSGM0ryHDH48o9zs7PEtFO0jvTSdVB2mrgy+bR7nn4vwG7CVERtxfFHFQilijALb0xfzZDO089UTz7Ob83wzU/M/ouginfJPAguxsAFe0OSgp5Bm4DDAG0/hH83/ni92/1wvJl8ETuEuz36YjnveS24Yjey9qE1rDRacsAxqDEmcd8yxTOTNCi0afSS9XZ2vDgbeYm7oj4eQOzDJsUKxtXIKklICv3LxQ00TiIPbo/9z5SPCg54jVgMtAtIygJI6cekxn8El0MGAcYA0AA/P3c+8H5Ifif9kz0lPHb7r3sJuvQ6bjnyeQF4hHfCdt/1X/PWMloxY3FsMjxyyvOmtAX0jzTC9YE21jgceb472v7LQZQD2EXrR2TIuYnAS1iMcI18zptP0pBQEDdPM44FjUGMWkrhSUCIbwcFBdrEEkK8gSdAKz9b/ur+a/4TPgv9xX1mfLD71Ttvutb6tnn/+QC46vgX9yt1p3Qasr0xSrFfsdpypjNHdE602XUM9ff23zgH+Yo75768gVNEG4ZHCCzJPMoPy02MTM1wjlGPklBiUGyPvo5CjWRLxopECNdHh8aNhUhEAkLlAV0AJf89vk8+If3Zfcp93b21fTy8c3uZuxV6qDn6OTm4r7ga93P2HzSD8uaxfDDZcUdyBTMVNA909TVhdmC3X7gU+Uh7lb50AQ2EMoaQiI2J2sr5i4eMcIzFzj2PIdAf0HDP9E7kzatL3gnBSBTGrsVnxEqDnEKuQXNAIj81/jQ9Vz0O/Sr9AT15PSN81jxfu4o69nnO+Up40/gj92O2qPVj86byb7HMcdCyP3LFNH/04zXzNxg4e7j0Oev7/X4LQPvDXwYFSHLJxAt3C+UMVgz5TUaOSc8oj22PHM6wDaKMDwoIiA6GVYT0Q5dC2AISgUnAuD+Vvsc+E71ZPOl8uTy9fKH8hHyg/Co7QXqpOb44rje6dq317TTZ86ByvLIMclmyirNrNBA09nWedxJ4lDmIevc8gb8lQVQD8MYfyAsJwkt6zDqMm00nDYzOQk77Tp2OVY3GDRkLt0mXh9NGPMRwAynCP8E+QHi/xf+5/tw+UX3nfV09IvzvvIb8tjxAPE8737sMOmV5UTh1dwU2NLSLs2OybXIY8nayqzNq9Fk1LfXm9wi4ZTk4emQ8pj77wRTDzoZ1CBzJ2ctbjDBMV4zCjayOCU6HzoGOao3UDQjLnkm9h6XF/kQJgzTBwcEsQHAAE7/u/xH+iv4a/az9D/z+/Ft8Unxg/A77/Ts/ekx5gniRt2717rRaMxDycnHicggy2TPW9N41sPah99J4z/mzeuQ89D7SgU1EIUaKyJGKUkvIzKbMmwzjzX8NjA34zbnNtk1XDLXLCwmnx5SFmQP3AmeBIcABf/s/v39ePw7+/j55feB9Y/z2vGI8Nnvq+9G76rtYutU6D7kD98X2ULSCcy/yKTHkchpy3LQ2NSr2EfeOuPL5Qjo0e3Y9O/7NgU7EFUapyINKx4xfDPBMzs0UjVnNWw0djPaMyEz8C9vK/YllB4ZFlsP6QhkAgP+yfyM/PT78fsb/Lj7Jvrk90f1b/Ld7yvuq+0g7dPrx+pq6Tjm8eBC247Um82ryMfGtsduyp3P7NTp2rLhN+cr6sPskvF39lj8eQRnDrgXBCHRKpUxuTTvNRk3LTdCNXIyeTCrL9wtLysBKMgjrR08F0wR/gmwAtP9b/uH+Yz4KvlX+hH75/oV+v339PTe8UjvJ+3B6rDoouep5hLkQ+DH27HVA9COyxLJU8gzyuTO2NN22hHinOjY7IfxBvd5+28AOAeUD0gX7h/OKIwv0TO2NkA5XjkSN4Az3jAULgUqFCZ8IocecBkrFWsQPgpWBE4ACP11+W73/fZu97b3GfhH+Jf35PXu89Txxu4d6zvoX+Zk47jfn9z/2BPUC9DWzZPMWcxnzi3Sb9Zs3C/j4+gF7gj08/lp/7wFtwytE80aoyJFKRcu0zHvNBU3GzdFNZMyQTDeLEQoriMgHwsa/xS8EK0LUgZPAqL/1PxI+v/4b/hF+A34s/cE9+H1YvTl8i3xm+7F68TpnecL5CzgStxJ1wfSpc4VzVjMDc0/0NPUPdrA4BTnW+x58Qv3QPyJAXMH2Q3eFIMcHyQCKuguzjLHNVg3Sza5M6kw/i2WKWYkzx9hG7kWWBJ8DoMJAwW/ASr/9ftP+Rz4n/d+9xD33vaY9gf2HPXn8//xEu9q7CTq9+be4g3fZ9te1jfSts9WzvHNYs8f0wvXl9zp4t/oCe6V81D5UP7tA8IJHRCZFssdYSTBKXou/zHANOc1HTWXMtEvsCwBKLcixB0WGSsU3w/MC5EH+ANXAQL/dPyL+lX5ufgu+In36PZy9qH1ffQg82nx0+5U7C7q3ebu4u3e+Nrj1e7RYs82zm/OZ9B61DbZm9/s5frrrPF495L8NAGPBtALcRF0F0ceHiQgKfstozEmNM000zNkMUQuTioDJagfgBqsFeUQ8wwgCaQFLwMeART/6/yS+2n6l/mq+Kz30/Ye9mX1d/R88/Tx2O/M7TfriOdF4zLfa9oP1YrRJM+AzubOsNHI1b7aZeG158HtJvMV+fT96gL+BxQNfRJOGKgeyCPUKAwtfzDIMnUzRzLRLxAtyyhcI8UdqBhqE5QOowrmBtUDxgFcAK7+N/1D/JT74vrh+d34BPg89xD26PSd8/zx4O/S7TvrqOfQ4/LfL9tn1uPSNdApz5jPS9K91efapOFB6Jnu5PRI+1QAmwWoCoEP/BMWGXYe5CIxJ/UqRC6CMHExpDDLLhcs8CenIgMdbBeXEW0MAwgLBAoBVf9X/mP9+fzw/N/8jfzV+6X6UfnS9w32U/SP8ovwn+767KXqf+dJ5BThM9zD12vU39FO0HTQMtNh1qPbS+Je6c/vo/Zd/c8CLAjuDKcRphU3GnYeNCLfJfYo0yvbLckuGS7PLJAqkCZvISccjhZVEPEKOgYCAt3+Sv16/OL7HfzZ/H/9mP0+/Ub8BPsa+dT2bvQE8mnvOO1v6/zoFeZc46fgiNwD2RTWKtT/0qDT89X12CveTuT86kbxXvjb/s8EkAqfDxoUHRh8HN0fzyJsJZYnJyl3KrsqySlbKF8mKiOoHgQa+RSBD0MKjwVOAQP+/vvW+mj6qfqW+7j8sP3f/Yr9xvwn+8P4/fUq88nvxezz6RPnmOO34PXdAdtQ2GvWXNZ61s7XHNp43k7jWugy7oj0oPr4/08G8gu4ECAVPRpjHiUh8SORJtwnOiiwKAAoPSYJJMchVR4HGukV2BE/DYoInAQ6AV/+K/wf+7b6qPpI+3v8Lv0e/Sf9v/xD+9X4gfaj8xLwh+wm6V3lWuHX3cTa2tft1fHVrNYu2NLaZ99i5CjpfO5N9Mb5pP4bBFAJ3w1HEl0X3hsgH0wiUiVNJ8In2icvJz8l8SIvILMcYxh2FMcQnwxTCL8E8QFb/2L9F/yZ+2v76fvQ/G/9sv36/QH+Av0++yT5xvag8/7veOyU6IPkg+Ag3fTZXNfo1nzXutiu2uve9OOB6H7tPfPA+F39nwLCBx0MBxDNFCcZQBwYHysiWyQLJUYl0yReIx8hpB5sG4sXrxNAEJsMqwhaBbQCaAB3/kr9xvym/Bj9DP7c/mD/5f85ALH/bv68/F/6g/cG9HHwWewb6OLj099k3B3Zw9ei12zYvtn03MjhMubz6lXwGPa9+r3/5QRYCTANkBEQFkUZGxwhH80hBCNbIy0jViJTILEdsBobFzsThA8vDJ0ILAWYAsgAAv+s/Un9bP22/WP+df9aACoB5AEXAoABYgDs/pb8hvn69VTyOe7V6WblXuGV3ULaFdnG2P3YKtq13RTi4OWA6iLwjvUK+j3/SQSOCI4MEREuFQIYxRrQHTYgASE8IQ8hECAKHlobZBiSFLsQRQ3uCUAGEAP7AFX/1v3f/PL8Wf0M/h3/VwCEAcAC+AN2BEQEkwOkArkA3f2E+u327fJj7ufpjuVw4bDdwduv2gHagNr43ILgvuPL58/sB/KV9n37fAD3BCMJgg2sEb0UiBeeGkQdZh7xHkgfxx4iHfkaZhjdFEER0w1oCpEGSQMWASD/V/1G/En8j/wh/TX+rf8OAYsCRQRxBe8FFQbzBeUE1QJEAFD9lvlS9f7whewb6PPjlOBg3v7cYtz13PHer+HM5JboCe2P8ev1fvom/24DawdxCz4PWRIpFfIXNRp6G0IcqxxLHPkaDRmnFpsTOBBsDLsI8wSSAbj+X/yg+pb5ePnf+e36X/xa/mYAtQLjBMgGawieCToK8wknCZYHZQVcAtn+6fqV9i3y6O3J6QfmN+NV4SXgnd9k4BjiUOTt5kXqE+7v8fH1G/pG/iICIgYMCnMNVxBDE/MV2BcIGdwZKBqkGYEYyBZWFEoRKQ7ZCjUHWwMlAI/9NvtK+S34D/h6+F/5wPq4/OX+PQGfA7kFnAdPCawKRAsdC3wKZwmoBygFPgL6/oT7u/fi8xvwiOyM6QjnU+X+453jJuRy5SXnT+lA7Hrv/fJv9jP68v2nASMFcQh1Cx0OqBDIElcUSxUGFkYW1xXAFEMTWxHwDjAMNwn9BcsCwf8K/Xb6OfgA91P2KPaN9tD3qPm2+/j9hgAvA4oF3gfrCYgLtwyXDQYOqQ2rDHsLzQlQB4MElAFs/tX6Pffl83vwOO1j6mboruZg5QnlhuVy5rbn7umV7IHvnvIo9tn5av34AIkE4weeCkYNrw98EZ4SiBMAFMYTDhMDEqQQvg6oDHcKIQiNBSQD4gCV/kr8ZfrU+GX3Q/ak9Yv1v/WN9sD3SfkP+zH9cf+UAbMD4QXdB80JkAsPDXQOmg+bEAsRDBG6EAsQlQ6SDCgKVQf2Az4Ab/xL+BP0D/Bk7MLofOX/4jvhD+Cb3xTgZeFg4wzmVenq7L/w4PQJ+fL8wQCnBEIIXws2DsgQBhPDFBYW8BY9FyIXoxaqFRUUNBImELgN5Ar0B/kE3wG2/qn72Pg49gX0OPLS8NTvb++i7ybwD/FK8gH0sfXp9zL6fvwK/48BXATFBj4JpQsVDu8PnxE2E1cUCRUxFT4VhBR5E/sRMhDgDTwLdAhfBQwCgv4z+7n3O/TS8Kjtiuq751flVeOr4YrgUeDc4PfhweOJ5tXpee1n8a/1Ffpo/okCewY1CocNlRA0Ex0VcRZ0F+0XtRftFr0VPhRQEggQmw0OC1AIlgXcAhEAYP3d+oP4PfYh9HvyO/Ew8IbvYO+v71DwW/G+8l30PPZX+In6rPzM/vEA/AK7BE0GvQcCCf8JwgpiC9ELEgwkDA0MvAtOC8UKCgoVCfQHwQZnBdkDOAKNANP+HP1x++L5c/g89z32cvXy9L/03vQ79c31o/bA9/r4T/q7+zv9v/4xAJ8B7QIeBDEFJwboBnsH7Ac5CFAINQj7B5oHEwdgBooFkwSKA28CRwENANz+vv2q/Kv7yfoW+oX5GPnY+Mf44/go+ZL5HvrQ+p/7hfxx/WD+Yf9YAEkBHQLYAokDFwSLBNkEBgUaBRgF+gS7BGcEBASUAw8DeQLjAUcBpgD7/1T/tv4h/pL9Cv2U/C786Puy+4r7gPuP+7n78Ps6/JL8Af13/fX9ef4E/5b/HwCfAAoBmgH6AVoCqgLsAjgDYQOIA5wDuwO0A7oDuwOiA4ADVQM4A+cCqAJPAhcC5gGAAVoBAQHeAIEAHQCM//r+Qv5b/Yn8Yftp+in5TPhQ92r2yPWF9W/1cPXo9Z72yffD+Cj6vvtX/fH+kQAnAnADsgTFBbsGKAeBB9UH1geMBykHywY3BocFxgQfBEEDbAKyAd4AAQAz/4z+x/0B/Vb85/tr++36rPqP+oT6j/rV+if7lvsh/NX8jv06/gj/3P+UADYB5gGEAgIDWAOmA+QD9wP3A+wDxgOTA2YDKAPcAoUCQAIEArQBYQEdAeIAmABLAAQAwv97/zL/7P6j/mD+Kf4C/tb9tv21/cD9y/3e/Rb+Uf6T/tz+Jf91/7v///86AG0AlwC6ANAA0QDUANYA0wDBAKwAqACmAJkAkACOAI4AkgCWAIwAfgBzAGQAVAA3ABsABADv/83/s/+b/4r/ef9n/2T/Xf9j/2H/Z/9s/3P/if+T/5j/ov+6/8b/1P/g/+v/+/8DAA0AGAAfADEAPABFAE8AXgBxAHoAgQCEAJEAlgCdAKAAmACSAIoAfABqAFcAPAAqABEA+f/k/9H/u/+g/5L/h/92/2T/W/9V/1P/Vv9X/13/Zv9w/3z/i/+h/7T/0f/p//7/IAA9AFkAdQCVALQA0gDtAP4ACQETARgBEAEEAe0A0wCxAIkAWwAlAO7/sP92/z7/Dv/g/rX+kf5+/nH+b/5y/n3+lv65/u3+GP9L/4X/xv///zgAdACjANMA/QApAUcBXgFzAYMBjAGPAZEBiwGAAWcBUQErAQUB2ACiAGgAKQDt/6f/aP8o/+b+qf54/kz+Kf4Q/gH+//0N/iX+Qf5p/pf+0f4M/0r/hP/C/wQARACDAL4A8QAjAU8BdAGWAbABxAHKAcsByQHAAakBjQFpAT4BDgHZAKUAbQAyAPj/wP+J/1j/KP/+/tr+uv6m/pf+k/6Q/pz+sv7N/vL+E/9A/2//pP/W/wQAMgBZAIEApADBANcA5QDtAO0A7wDkANUAwQClAI0AcQBXADYAFwD6/97/xP+l/4n/eP9g/0v/N/8j/x//Ff8R/xP/Gf8n/zr/Tv9s/5L/uP/e/wAAKgBLAHEAkACsAMIAzgDYAOEA5QDcANgAyAC8AKsAjwB6AGMARgAqABcA/v/n/8v/u/+w/57/lv+M/4j/iv+L/5H/mv+g/6n/tP/D/9D/3v/u//z/DQAeADEAQABRAF0AZQBxAHYAfAB/AHsAdgB1AG4AaABiAE8ARAA2ACoAGgAJAPf/5//d/8//xv+4/67/qP+k/6b/ov+g/6P/oP+n/7L/uf++/8r/2P/o//r/BQARAB4AMAA2AEUATwBTAF0AXABmAGoAaQBqAGgAYwBiAGIAXwBaAFIAUgBNAEsAQgA+ADwANQA1ADMANAAsACsAMwA0ADUAMgA0ADEANAA0ACsALQAnACQAIQAbABIADAAEAPf/8f/k/9v/zf/H/8b/vP+9/7v/uf+6/77/xf/N/9n/4v/x//z/CQAVACIALgA3AEQASwBaAFwAYwBsAHEAeQB5AHcAcgBwAGkAYgBYAEwAQQA2ADAAJAASAAEA9P/m/9v/1P/I/7//uf+0/7b/tf+0/77/w//I/9T/4//x/wEAEAAWACcANABEAEwAVABfAGYAcgB1AHcAdAB2AHEAbQBoAFoAUQBGAD8AMAAjABAA/f/v/+T/1//F/7j/qv+f/5j/lP+P/5D/k/+Z/6P/s/+9/8n/2v/o//7/DwAoADoASwBdAGcAegCMAJMAmwCfAKAAowChAJwAkgCKAH8AcABhAE0AOgAuABwAEAAAAO3/6v/d/9T/0P/K/8b/zP/M/9L/1f/Z/+X/7v/+/wcAFAAeACcAMQA9AEUARwBPAFUAWQBcAGAAWwBVAFIASABBADUALAAhAA8AAQD0/+v/2//S/8b/uP+0/67/r/+v/7H/tf+6/8X/yf/V/+T/7/8AAAsAHAArADwATwBhAHEAegCIAJQAowCpALEAswC1ALsAuAC2AKsApgCbAIsAfgBpAFMAPAApABQAAgDw/9j/zf+8/6z/p/+h/53/mP+Z/5r/nv+k/63/tv+4/8n/1v/k//X/AAARAB0AMgA/AE4AWQBgAHEAdgB8AHsAfAB9AHwAfAB1AGoAXwBUAEMANgAoABoADgD9//n/8v/p/+X/3v/c/9f/2P/b/97/3f/e/+b/6f/2//n///8JABYAKgAxADcARABOAFoAaABsAHIAewB+AIEAhgCEAH8AfQB4AHQAbgBpAGIAWABRAEwAQgA+ADgALwAqACsAJwAjACIAHQAgACEAJAAeACAAJgAnACsALQAyADEANgA8AEMARwBGAEgASQBNAEgASgBHAD8AQAA/AEEAPgA2AC4AMgAzAC0ALgArACYAJwAnACkAJQAeAB8AIQAhAB0AIQAhACcALAAwADIANAA7AD4ATQBTAF8AZQBxAHoAgACHAI4AmACZAKYAqgCuAK4ArACpAKUAoACeAJMAiwCEAHUAbgBhAFwATQA/ADQAKwAhABkAEQADAAQAAAAAAP3/+//6//3/AQAGAAkAFgAaAB8AKwAwADgAQwBQAFMAYABnAG8AeACBAIkAjgCTAJwAngCWAJgAlgCUAJQAjACCAHsAdQByAGwAYQBbAE4ATgBIADkANAAkAB8AGQARAAoA/P/9//f/8//x/+z/6//m/+7/8f/4//3//v8JAA8AGgAiACYAKwAxADoAPABBAEcAQwBCAEcATgBTAFIAUgBQAFMAVQBXAFcAUgBUAFIASwBLAEMANQAwADAALAAnAB8AGgAcABsAGAATABEADwARABcAFQARABYAGgAiACoAKAArADIANwA6AD0ARABLAE0ASwBUAFcAUQBRAEwAUQBQAFIASABIAEcAQQBCAD8AQQA+AEEAQwBNAFMAZgBwAJIAsgD2AEIB8wH0AuMDDgVUBvMHWAmiCrkL8QzjDSYOOw4LDo8NVwzMCtkIrgYyBGkBn/6q+7H4x/Ut857wIu7660Tq0uh055DmLeYb5kPm5OYQ6LHpp+vp7b7w7fND99X6rf5qAhMGtQkgDSsQrhLKFHIWkRflF70XMxcXFmMURRIBEG8NoQqsB/gEXwLa/579zvtm+jH5bvge+DH4d/gc+Sz6dfvf/Gz+LwABAsADbwUhB7QI9wkDC+ELbgx9DCkMkguMChUJMQcPBbQCBgAm/Uj6X/dq9Jbx+u6o7I3q2eik5/Dmoebj5sDnMukb62XtU/Ck8y336vr5/iYDTQdOCx8PzxIfFv8YcRtkHcsenh/kH50fuR5MHWQbFBlRFjMT2Q9VDJcIpgS1AND89/gW9Wjx7u2w6r/nBOWr4png5t6A3XHc69vW20rcNt3u3mXhduQc6GHsUvGm9iz8uwF8BxANJRLEFu0aWx7oIK4ikSOYI8siHiHQHu0bahh9FIwQhQxfCHQE5gDc/SP76fg/9z72sfV+9e313/Yl+J35gfuo/ej/LwKTBP8GMQkrC+IMTw4rD20POg95DgcN0Ao1CDIFqgHJ/av5qvWV8ZjtA+rv5mbkXuIx4dbgPeFh4lTkFedy6i7uZPId9/j70ACaBXQKGQ9TEycXpxq7HSAg8yE8IwIkDyR5I2MiuyCCHsAbnBgZFTsRDg3ECF0Exv8s+6z2X/In7h7qa+YT4xbgSd3q2ujYNNfX1RTV69RJ1TjWItg12+feL+M36EHuxfRi+/kB5gjfDwwWeBtdIK0kxCejKXkqeCpLKRcnCiR3IIYc8heAEygP+ArdBlwDgAD7/fb7Y/qr+U/5OvmL+W36uPv4/Fr+DgAKAqwDKgV6Bp8HRQhACLkHqAYCBY4Cq/8p/E/4BPSk70nrAucc483fV92V29vaRdvo3Hrf5eI451js5/Gl93L9NAPCCOENdBKaFkEaVB3iH94hZSN9JDIlaCUZJVIkQCO/IbofOR1dGjwXuxPdD8MLtweVA2P/S/tr97rzTPAH7QvqZ+fv5KTiduBs3mXccNpl2JPWQdV+1B/UoNSM1qbZqd2M4rvo0e+N9yP/sAawDkkWuxz0IbEmWip2LBItoiw/K9QoqyX4IVgeTxpYFsYSwg/NDMMJlAfjBUoEPwK8AAUAZP9A/ln9Xf3N/QT+/v25/s7/twDyACoBVgHnAHr/if0h+//34/Nl75jqceUY4CTbZtcm1PDR+tBd05nWutrF3+DmtO9F94L+DQUUDZwT5Re5GtQdxSChIWAhBSHeIeohmiH8IFQhtyFMIegg3R/WHn8c4xnvFhkTkg7MCeYFDgL0/Sj6I/gC99z1cPT984f0ifRv83vx/+/l7Z3qyOXZ4N/btdYu0VjMUsmAx/vHFsqkzvvUHt2s5q/w8Pp3BLMN8hXsHPohcCUBKIkpqSm+KOInHyeSJokltSR7JGwkCyS9IiohCh9kHH4YmhOxDqAJhAR3/zT7HfhO9ln1hvWU9lv4d/o6/IL9yv0o/Sv7Avhz86HtQ+eE4KbZ0NLEzCvILsXvwwvFnMgOzhnVit025zPxhPrXApQKqREXF84aox1uIMci+CP6JLYmGSkLK0ksmi3pLosvgS4cLNMomyQeH2IYTBF3CgUECP47+fD1T/QA9Oz04PZD+b37xP0b/zD/1v0H+wH3BfIJ7Fnlo95x2A7TPM5IyuPHf8cgyTXMfdD91e/cxuRu7F/z3flKAGYGpgvuD/ITgBhTHZQhKSUPKa4t7zGqNPQ1sjbwNno1qzFILIImlyDRGTwSGwuOBVgB4P00+wX6nvoT/IH9mv6A/xcA9f9A/hH7+PaC8p7t+Oct4qLcXtiJ1EHRKs7My7HKF8r8yqTMm88e09TXKN4W5VrsG/OZ+u8CMguBErYYeB9qJmUsnjCgMxI35Tn1Ous5ITguNjczrC7VKPoijx3gF6gRpAuJBq4CP/82/AT6Nvk3+V35WflG+Tn5+PjC95311/KM71zsdOht5BXgRdyq2C7VfNHmzR3LYsmgyR/LwM0q0f7Wht4q5yHvWPZ2/hQHfQ+3FdEaOSBeJvcrXC8TMj01vjj9OrQ6czmjN1E1QDFFK6Ak9h3NF0IRxQrzBJ4A6f3v+6v6K/qv+r/7b/xN/E/73/m697X0ofAL7GbnPOM031Tbe9fm08bQmM3typ3HC8YyxpnIoMsrzzjVaN3F52nwgvjwAO8K3xQNHLYhtiZILZMzmjfVOYk7YD5dQDJAcD1IOag1NDEVK/Qiixp/E2UNigcZAe37A/ng97j3Gffj9mj3j/jz+MP3dvV88tHvrOzN6GHkReAc3XnagdfT08zPcsyNyYbH8sYGyMDKu84K1Rfdy+bz7x34dgBNCWMSZBkHH84jfCkIMFk1HTnvO0c//EE2Q3RBKz12ODYzoSxYJKYbhxMhDecH6gLM/j38MftD+6L7aPuy+oz5LfhZ9obzwu9m66TnmuT54dPeQ9sj2DDVL9KBzQXI08JqwMbA28LNxfrJBdIA3VfphvPf++8DIA1rFvQciiFJJc0qFDIdOVM+AUJ4RVZIFEqLSAlDlTtrMykruyLBGasQIwkrBD4Bm/8N/lL8S/su++f6SPnQ9X/xnu216iPoDuW44STf490T3aTbfNiR0wvOrMhDw/e+ML0cvhfCc8jl0JjbA+jo80T9EgX6C+YSBRmZHZAhMiZwLeM1/z13RGBJs0zrTZdMPkchP341MCtIIcIYqRHHC50HlQT9ApACAgIAAOH8Tflo9bvxlu096XvlOeNW4hji3eHI4O7e/dvT19jRfMr+whu89bcfuGu8t8OnzJvWs+Hq7Xz5PQE6BmEJdA0VE1MZ5x9wJrIvQDocRWlN7FGcUutP8kr4QoU5Vi/FJXsdjBf7E8QRTxDiDa8Kywa+AsP95fe78ffrBOjq5WXlmeU15pPmXOa75Ljh8txO1ujNtMSGvDq3P7Xotl68I8SszjDZieM07I7z//gZ/IH/8wJeCUQRdRtHJiYycz7oSG1Q7FJAUrhNskfAP3s3HTCEKsMmnyPCIUEfJBzbFs8PUAfn/jn3N/AB67Dn+Oa053Dpserd6q7pfuZa4abaINNly+nDk71KuTO4M7qOvzrHqs842OfeWeR16NzsafAo9PX4pv+KCfAUgCGqLFQ3fj8qRUxHgkZSRK5AIz3yODQ2VTTuM+QybTB/LHsmIx/yFY4MegOg/L730fSy8/DzBPVV9VX0HfFU7DzmQN8B2CjRUstfxkXCLL+qvb29+76ZwavEqsgNzQnR8tRm2Trf3uX87bv2ygDICz8XASJfK2szaTloPhZB50PQRQ1IxUl0S8tNyExcS1NGOz/INsYrDCDVFI0LowTD/+v8svth+Ur2AfHQ6iXjd9rw0qHL9sZ6w2PArr4cvQ67Abm2t163qrmevfLCrclb0fXYJeE26nvylvsMBIIMRxVhHlEnXTDJOGk/F0XIR7tJwUrRSilKR0lMR0tED0GzO8s1rC4vJrwczhP/CkEDZv1u+BH1GvLP7gPrFucm4gXd49eV0inOxslAxQ7Bqr3GumO5frnOuvG+68NByRvPmdQZ2lDgLede7gr3igBACoIU8B6dKKAxlji0PZtBmUNORaRGsUfeSJJJA0kcR7JD8j10NiwumiRYG+MSLgsuBT4AMvxE+Cf0Ku+S6VHjE91E143RvcyTyL3EeMDGvKK5ebfjtkC3K7q9vvLD3ckJ0HvWcN3S5DnsnPS5/f4GkxDvGnAlyi4QN7w92UIhRkZIzknqSj5Mo0waTFtK0kYgQdw54DHjKNkf7xbkDtwHgAEV/OX29/Gd7K7mUOA52lLUPM4NyVfEur96uwW4c7XLtGG1ALf9usW/9sSQym/Q0dba3WzlTO2h9mIAQAq2FEIfrCmfMiw6/T+ZRPpHY0r3TONOuVDaUEtPPkwLRwFAxzc4Lw0mOh15FNUMwgVg/0r5DvPz7DHmgN9m2BvSH8yvxifCBr7XuWm2D7Q5s2q0Q7ZFuhW/c8QKysDPUNah3Yfliu1T9pz/TQnJEn8d2idPMWg5aj+2RFZIRUvHTQ5QjVGzUc5PXUyER7xAIjnnMIgogB+9FokOxgau/3z4d/G46tPj29xl1n/QJsuLxSvAGrtxtpOyFrBcsOSxcrXGuhLA3sX5y9LRe9gX4JLno+9R+OEBvgt8FvAhoCx+NvE98UNNSOVKU00oTx1RjFJSUnJQ7ExfRxlA0TfzLrclDRwAEwkKwwH++WDyf+uU5D7eTdeS0CDKSsMavYS31rL+rpetCK4WsDC0e7kjv/HE08p60IfXNd+Y54Pw3PkABO4NiRhrIywulzc1P9NFMEoeTaVPP1HBUuRT61JtUKBMYkbpPsg2Si5nJVQcWhNQCssBkfjw7yfoq+AG2iPTdswXxqa/KrlEtACwwKzwq66sSq8stC+6yL97xrLM9NL32orjvuxv9lgACQofFJAeTSlHNNg98kXPS6JOmFCuUUtSbFOMU75RZ07KSGBBrDmoMXYpgCBuF5cNwgMp+v/whulH4sfbCNUPzi/HpMDauUe0PrCarImrOazjrrez57l/v4HFuct20e7YU+GY6i70Xf5GCJcSqR2YKDA0TT61RptM60+6Ud5SsVNiVKFUolLgTvNIrUGXOZIxbSmBIJgXmA2LA5b5jfCz6IDh29oB1OrMm8W4vhy4D7PkrtKr4ap5q0iuLLNeua6/QsZVzGrSsNnX4fDq3PRC/3IJ8RPCHm8qOzadQExJC0/zUXNTHlSkVMNVuFWNU4BPLklhQRo5ozDSJ78epBTTCXf/UvVv7Ojkyt0K1wzQOMjYwCC6D7SDr1isHKquqWOr1q6itCS78MGtyCfPyNUu3RTmoO8q+oYE3w6qGQol5zCYPCZHm05TUxlVpFUEVqRWxlaaVdVSIk0KRqQ9FjU7LMAiWxgLDdYBovYx7R3lCt4619jP88cywHS5s7Oer4esRqqUqa2q+K18s1e6e8GhyBrPd9W93Arl7e5j+eADJw60GJIj7S6NOv5EWk0vUotU91QGVUhVJ1UfVGlRvEzpRWA+FTakLT8k0RlHDpcCk/dv7Y3lN95811zQVsh2wKq5DLTor2OtHquiqqKrfK65s+G64MIpyhXRy9ZH3THlSe4a+QcE4g5JGTQkpy8ZO4xFJ009Uk9UyFShVMNUelRfU3RQPktNRWQ9cjVyLNkiIBgLDE8ALPUO7Ojj0txc1aXNO8VYveW24LHhriGsMauSq2OtHLHPtka++sUvzWvTytmv4PboR/L7/F8IdhOkHoQp5TQKP4VHVk55Uo5UM1XkVD1UMlPRUDdNOkiqQb45/zBkJ7IchRHBBZH6pvBl52rfFNhv0KnI/cDKuQy0/q/VrEWrnKuhrHmvkLQuuyjD+coA0szY598q58LvtfmNBDIQyxvOJsMxSzx7RPZLSlH8U45VSFUMVJ1SjFAaTSRJaEPtO3wzrSmvHkwTxgc0/Fvykuix3xDYE9CByK3BaLvOtQWyTa7bq7ircqwlr2W0LbsEw2zL09Ig2orhwOgX8QP74QXMEckdVigeM+08PERMS05Q/VIAVdVUIFOnUT9PbEuLR+lBXzqPMcgmwho5D4kDU/hQ7/LlL9161STNt8Wev3q5l7QksVWtOqs9qzOsBLBrtri9CcZizmPVSdzG4/7qGfS+/toJQRY3ImctFDjdQKhHlU01UWNTvlR1VHlTtVHQTpZK3EVKPzI38S1sIjoW1gl7/ZPyY+mt4PvYctGzyeTCjLwTtxqzGbBFrfyroas3rfqxoLgxwYbKTNO+2uXhY+jD79z4VQNMD9wbHij6Mvg8oET7StdPzlJzVJRUYlM5UcNOAEsIR9BBNzu/MiQo9xu7DusBg/UW6/3hd9qZ0+PMq8aQwAG7/LUCslWuCKzZquWr+K9XtsW+C8hb0U/ZgOCw5l3tcvUK/1gKfRZCI8IuXDnKQYtI2E0NUfNSfVP+UkZRUk8VTIVI4kOVPZg1nCspIAwTFwYW+eHtUuR13PTVss/byQvEmb7uuCG0269rrXasU63fsHK29r0jxirPltdF3wLmk+z+8+78UAeWEg4fsCpfNQM+8kRdSvtNZ1ByUbxRhlCGTphL50dBQ3M9GzbrLG0i7hUACWr8D/FE5xHfENjM0SjML8bwwP27pLffsyqx0a/ur3WyDLcmvjfG585Y1xrfJubd7FT0i/wuBicQDhvmJQ8wCTmMQNxGIkvfTcNOzU6HTYFLv0hORSxBhzuVNKUrrSFMFjgKD/7H8g7pluDB2aXTec6byQnFk8BvvP+4Qrb0tDa1abd1u27BjchW0DzYp9/A5p/tEPUl/e0Feg9BGZkiZCtNMx86FUDCRO1H3kmPSsFJ80ctRV5BpDzMNtUv0SdeHvITPglb/vjzyuqo4pbbDdbm0FDM8siCxQrCaL9bvSO8VrzEvTPBfcbNzCTU8dt444vqP/Hp9wf/iAZqDsgWGR/gJv4tYzTiOXM+ykGpQ1hEkENQQQQ+tTmVNMguYShGIUMZkRB0B2f+gfWw7RznbeED3IvWONLyzqXM2so+yQDILcc5x4/IY8tmz/DTi9kh4Jnm5ewM80n5xf8zBogMGROlGZof9ST9KbkuzDL1Neg3vzhaOGk2nzPzL44rJybiH4QZyBLeC0MFS/+w+Sj02u7T6d/kb+Bx3PfYeNbV1NjTcdOS02fUNNZ72GLbnd734cHlI+og7wf0FPli/roDFgnuDVoSZRbHGY0cCh9dIWMj5iTKJWAmWCZaJUcjViC2HHkYJRR5D5EKhAV6ADn8ifha9U3yce9e7YjrGOql6GDnIObK5DzkXuQE5fflR+f36Cjreu0K8OHyvvXC+Ov7Cv8EAuMEZAejCZALQA3jDnEQ8BGKExUVBhY0FpEVMxSIEt4QHA9GDcYK3gdfBTwDVQF3/8j9EfxV+rD4ivef9mH1aPTb84XzX/Nb85Xz3PMe9Er0evTg9GP1PfZj98f4M/qg++j8JP48/0kAfgGFAnADXQRSBRwG3waiByMIGAipB/cGMwaJBeIEWgTIA/8CWgLkAU4B1wBvAMz/Q//G/mv+bf58/mv+L/7j/b793P0Q/v79n/1l/UT9Lv3e/AT9PP0+/WP9cv3G/dz98f3a/bf95/0k/or+5f4Q/07/rf/f//3/8//N/6f/kv9q/yj/8v66/sb+vf4Q/1z/hf/E/+X/OgCYAPQAWAGxAfABRgJlAoECrQKeAnUCXgI0AiwCywF4AUkB6ADAAIUAZAAcANz/mf9H/8v+Z/43/hr+9P24/Zn9ff1x/Ub9Lv0x/Q/9Gf3t/OH8Df0Y/Y79x/0y/pr+7P5I/37/xP/9/2wApQD5AC4BZwG3AcsB6wH6AfAB0gG7AagBqQGbAYkBbwFFAUoBUAFBAR0B6QCjAFoADgDW/67/Zv86/xT/6f7O/qP+df45/vn9yP2q/aH9p/3f/RX+Xf6k/un+O/9n/6n/1v/4/ygAQQBZAHgAjQCgAKAAnwCzALQAmwCpAKgAqQCvALgA4QDhAPoABwERAREBCAH0ANgAxwChAI0AZwBeADgAGQAGAN3/rP9b/y//Af/k/t/+0/7g/uz+6/75/gf/CP8X/yj/K/8t/zH/Nf81/zL/P/9J/1v/Xv9p/33/kf+9/+T/GQBSAIYAxAD4ADEBWQF1AZUBrgHJAdUB4AHgAd0B0gHAAa0BhQFTARIB1gCaAFwAIwDv/7z/h/9Q/yH/9P7N/qL+f/5b/jH+Ev71/eP90f3Y/eX99/0R/ib+Tf5+/rf+9/5G/5T/7/9LAKkABQFZAa4B9AE4Am8CnwLMAukC+wIGAwID+QLeArMCegI2AuYBkAE8AeAAigApAMr/av8O/7n+af4c/tb9j/1N/Rz97fzR/MX8zvzn/Af9N/1w/a799/1K/qf+D/95/+n/WgDQAD4BpAEKAmQCtAL6AjIDVgN1A4IDgAN6A10DLwPvAp0CRALiAXUBCAGgADIAv/9O/9b+cP4P/q/9Yf0S/cr8kPxh/D38Lvw4/Er8b/yi/Nz8Kv2B/eL9Tf69/jf/sv8sAKcAGwGPAfEBSAKeAtoCCQMtA0kDVQNSA0UDIQPyArUCbgITArMBQwHLAFUA3f9r//r+iP4h/sf9dv0y/e78ufyD/GH8TvxK/Ff8afyS/MX8+/xD/Zf98P1S/rf+Kf+Z/xAAggDsAFsBvgETAlkClQK1AswC1gLSAscCsgKVAmgCNQLpAZQBOQHTAGcA/f+N/yD/t/5Q/vb9of1Z/Rn93/yy/In8bvxm/Gz8fPyY/MX88Pwp/Wj9rv3+/U/+sf4P/3L/1v84AJoA9QBQAZwB3AERAjoCVwJkAmMCWQJEAigC/AHDAYYBQQHsAJ4ARgDo/5D/L//X/n7+Mf7n/az9eP1C/RP98fzV/Mj8w/zG/Nz89vwd/VH9hP28/QT+R/6S/uH+Lv99/9D/HQBmALMA8AAqAVsBegGNAZsBoQGbAY0BdwFlAUABDgHcAKAAYQAXAND/f/86//D+pf5q/jL+Af7Q/ar9hP1o/Uz9PP08/Tr9Rf1b/W/9kv24/ef9Fv5G/nz+sv72/jX/dv+x/+3/KABdAI0AtgDUAOEA9QD8APoA8gDeANEAtgCWAHMATQAmAPr/y/+U/2D/Jf/u/rv+j/5r/kb+Lf4S/gH++f3m/eP95P3s/ff9Bf4a/iv+TP5s/o7+t/7g/gr/NP9f/4r/s//X//v/GwA5AE8AYABtAG0AaQBoAGEAUgBAACwAFwAEAO3/zf+r/43/cv9W/zj/F//7/uX+1v7H/rb+qf6h/p/+mv6b/p7+o/6q/rb+yv7V/un++/4Q/yX/Ov9R/2T/ef+J/5r/qP+w/7z/xv/M/9j/3v/h/9r/1//T/83/yf+8/7H/ov+V/4//jP9+/3D/Zv9b/1D/U/9L/0T/P/81/zb/Nv8y/zH/Nf8z/zT/N/87/zf/N/87/z//Qv9G/0j/SP9O/0//R/9I/0v/R/9I/0X/Q/9E/0j/Rv9H/0j/TP9P/1H/WP9a/1z/Yf9o/2n/cv9y/3L/ev99/3//iP+I/4n/if+M/5H/lP+S/4f/ff94/3T/bf9n/1n/T/8//zD/JP8X/wz/+/7w/ub+3v7Y/tH+0v7N/s7+1f7Y/uL+7f75/gf/Ff8m/z3/TP9f/3P/g/+U/6D/rv+7/8H/x//O/9L/1//V/9T/0P/H/7//tP+m/5n/h/92/2f/VP9B/yj/Dv/5/u3+1v7C/rL+nf6P/oP+f/6A/oL+iv6S/p7+rP7D/tf+8/4J/xn/Pf9V/3T/kv+h/7X/yv/Z/+z/+P/7//r/AQD8//v/+P/o/+b/0f/D/7T/of+H/3H/Wv87/yT/Cv/u/tX+wP6r/pr+jP5//nL+av5q/nD+dP58/oz+o/62/sr+6P4I/yX/SP9n/4H/pv/C/9r/9/8MABgAJQAwADEANQA0AC8AKgAeAAwA+//p/8z/tv+c/4H/af9K/zP/Ff/4/uP+zP6w/p3+iP54/nD+cP5r/mn+cv55/pD+nv65/s7+4P4C/yH/Qv9c/3j/lv+0/9L/6f8EAB4AKwA2AD4AQQBDAEMAQQA0ACQAFgAAAO//1/+8/6X/hf9u/1P/Nv8Y//f+5P7L/rL+nv6K/oH+dv50/nH+d/6B/ov+mP6n/rn+0v7u/gr/Iv89/1r/dP+T/7L/zf/h//b/BQAYACUALgA0ADMANAAvACkAGQALAP3/5//U/8D/n/+H/23/Vv8+/x7/CP/r/tb+wP6s/pz+lf6M/ob+iv6J/pD+nv6v/r/+1f7p/gH/Gf80/1D/Z/9+/5L/rv/G/9n/7f/7/wgAGAAaAB8AJQAgAB0AEgAMAAMA8f/i/8r/tf+h/4j/dP9c/0f/N/8b/wf/9/7l/tb+yf69/rr+tv62/rv+v/7O/tf+6P7z/gf/HP8p/z//Vv9w/4T/l/+t/77/yv/X/+P/7P/x//b/9f/4//j/8P/q/+T/3P/N/8H/sf+d/4r/d/9h/0z/Ov8r/xj/CP/+/u/+5f7b/tf+1P7S/tb+2P7g/ur++f4F/xH/I/80/0f/Vf9i/3b/hf+R/6X/r/+5/8b/zv/W/9r/2v/b/97/2//T/87/xP+8/7T/pv+d/4//ff9n/1j/Sv84/yv/G/8I/wH/9f7y/uv+4/7j/t7+5v7l/ur+9P7z/gL/Dv8S/yH/Mf8//07/Wv9i/3H/ff+J/5f/nf+g/6n/rP+v/7L/sf+2/7D/pv+i/5v/kf+K/33/cf9i/1j/Sf89/zX/KP8d/xb/Ef8D/wD/+/70/vL+9f72/vf+/P4A/w//E/8S/x3/Kv8w/0D/SP9S/1f/X/9v/3r/hf+F/4//lP+c/6L/of+g/6H/o/+n/6b/oP+Z/5L/jP+H/3z/bv9j/1v/Uf9K/0H/Of80/y7/IP8a/xr/FP8Y/w3/Df8Q/wz/E/8c/yD/If8n/yz/NP9A/0D/Rf9T/1v/Yf9o/3X/eP9+/4H/hv+L/5D/k/+Q/5P/lP+X/5j/mf+T/4v/gf+A/3v/df9u/2H/XP9U/0z/RP8//zn/OP8y/yz/Kf8l/yX/If8e/yT/JP8q/y3/Kv8v/zn/QP9E/03/Tv9a/2P/af9x/3b/e/9//4j/iP+N/5D/mP+a/5n/nP+Y/5b/k/+T/4v/iP+I/4L/f/96/3H/a/9k/2D/Wv9P/0r/RP9B/z//Of81/zf/OP8z/zH/Of84/zT/Ov89/0X/TP9M/1H/V/9f/2P/af9x/3X/gv+F/4f/i/+S/5X/mf+a/5f/mf+Z/5j/kf+Q/4n/hf+H/3//ev93/2v/af9l/1v/Vv9P/0f/Rf9I/0H/Qf87/zr/PP85/z//P/9C/0L/Rv9G/07/U/9Y/1v/Xv9r/2v/dP94/3z/f/+F/43/jv+R/4//kf+Z/5T/lv+T/4r/jP+I/4X/fP99/3j/cP9s/1//Xf9X/1T/T/9K/0P/Pf88/zj/NP8x/zL/L/80/zT/NP86/z//RP9M/1L/Xv9k/2L/bP9t/3P/fP+B/4X/hP+H/4v/kf+S/5D/jf+J/43/h/9//3z/eP92/3T/bf9l/13/Wv9Z/1T/Uv9H/0X/Qv9B/z3/Ov83/zj/OP80/0D/QP9B/0j/S/9X/1j/W/9j/2r/cf91/33/gP+G/5H/lv+Y/57/nv+h/53/mf+b/5n/lv+R/47/if+K/4X/hP92/3D/Y/9e/1z/Tf9L/0D/R/8+/0H/O/9C/zf/RP81/0n/QP9N/0T/Tv9a/1v/d/9j/5L/a/+z/3P/zv91/+X/ev/+/4L/EgCj/x0Asv8aA9QPmQViABYDKQN8BX8D7gQhBTcGJQSzBMkEAgKzAP8BgQA//1r/nv8j/xT/rwTqBXsFMQL9AS8DZwE8AEn+Sv+YAFYBLAJfAo8BmgH/AMP/q/4i/rz98v1w/vb96v5o/yEAIABP/0T/8f4l/yn/W//p/04A8gCLAegBMwI0AsEBFwGXAA8A8v/i/2n/N/8v/07/Zv9Z/w//+/6o/qH+If7X/RD+0v3v/Zf+5wKwB58HxgKa/mD92fx4/Yz9UP5l/+b/IwCG/5P+RP0v/AT7tvoL+4P7d/x1/Qz+Qf5M/i3+OP5Y/lf+UP6R/hP/7v+QAM0A8wADAZgAewAJAID/JP/I/s3+1/6m/qn+Lv+E/pT+JP7S/ef9c/1L/Sj9Ov1E/Wv9Y/3i/cr9BP4t/uH9Yv08/Yz9WP2k/bv9w/2k/U39x/0w/iT+3v3Z/TL+yf3U/dn98f3b/Z795f2W/aT97v1R/lv+Q/7F/ev9R/4Q/kX+MP5p/vb9YP2g/Zb9kv01/jL+8f2I/QP+I/9E/6j+5P2w/QL9sfyC/BL9lv0R/vP+NP/T/qH+7f1k/NP7Q/v7+yb9DP7Y/tX/SQCu/pf86fpM+l36G/ud/En/7QCBAHT/K/0T/Y/9lPw1/ML8xf0m/Yv9uf7B/zv/pv0f/kn9Nfz/++78IP2E/Cn9Ef2k/DL89fwO/ef7zvow+mL6g/oR+xn8K/yE+237bPuH+5P7xPsE/O370vs7/HL8U/yH/HP8MPyf/L78L/yw+3b70vsC/Oz7Z/tA+6f7fPwr/Y/9lP1l/Pr6JPo++mj6o/pm+9L8T/4O/+b+P/7Y/G38WP1d/VL9IP1i/aT9VP1Z/QP+Qf9CAHMAVP+Z/sf9df2L/pj/wwCYARECQQJLAusBXwGGAFf/ff6D/jH/RgBwAXoCaAPLA/4DywOgA3cDPgNcA2IDZANtA3oDtQPlAzkEVAR2BHwEQgQlBJkDMAOpApcCwALCAuwC5AIeA50DVAR0BGIEJwRkA6cCRwJHAqACLAO0A5IEAAXHBEYEhQMbA9ICoALBAuYCIgPAAtgCvAL+AQYCtwFmAQwBRQGJAWEBOAHlAIsANgAiAA4ALwD2/5P/Iv8A//T+Df83/63/NgD0/z8AxgCNAN//hv87/7H/gwDdAL4BVAKCAvQCYQOnA30DRQMrA1MDLwNVAwUE4wOMA2ADlAPMA+sDQQSNBFYEMAQoBBsE3QN5A7gDbQPvAlICeAENAP79CPzz+dn3HvY09db08/TZ9EL0GfOh8ZXwWvBC8B/wA/Ep8jHzlvQ/9rX4Lfst/U7/tQH+BJQI2wuVDtgQcRJnExkU6xQmFk0XJRiRGLUYaRidF0wWERXcE6ESZxHVDzUOtgvJB1YC4vxy+Mj0+/Ec8Ebvp+176knm8eEF3qzZ5dRp0FDNOsxtzPLMhs7q0uHaX+V88IH7+QX4DvUUKRk3H9soODPZOQU9qj7WPbM4sjCyKWElDyJwHj8b5xk4GdMWghKfDbYJngaVAxsAofyH+Uv2VPKw7c/preeZ5oPkv+D627jW7M84xyS947Ptr/Oz58Bm02LoA/tSB1EM+Qt5CtgKshAZG/YoNzdlQ8xKWEvBREo4dCoiH1gZtxeRGUgcfR3HGrQTVguKBG4BuABnAvQEagdbB/ADjv6h+KnzD+/S7HTsFO3v6gvlPNu+zSO/frEEqUymVqvpto7IQNxX7fb4GP8RAygGZAsOFCoiIDLtPxlIwUl6Ra08WzInKGwgvBuJGrIZJBcxEiMMOQYCAT/+Bv/WA/YJ1g45EJYOdwq1BB7/l/tw++78SP42/VH5e/Gd5X/WsMYZuQivN6pdqgevebbLwJfNDttC59XxKvzMBuYROx0dKaI07j27QvJC1j+jOtozfiwwJtMghBs1FRoPrAmzBJkApP7O/wMDJwcXC2QO4g8oDwwN+QrfCXEJUgkkCfQHsgRJ/4j33O3V4dTUJcgxvGSx3Klwp0apK65itybG99Ys5k/yXv3dB0kS8RyMKL00Tj/7RfxGYEOwPOozbCpSIgcc0xZAEd0LqQbgATr+Av3G/oUCZAczDIoQ0BLiEnkR/g/jDvANBw00DJsK6wZCAdj53/Bw5SzYX8qpvXWy36nwpJOkBamMsd++Qs/F36LsFvfkAZENIRkDJRgynD19RNdFckMHPiM2LywHI5sctxjbFG0PRQnSAlj9FPoH+2L/5QVsDHARkxM1E+wR1hCPELMQfhGZEYQQ1gzvBmX/f/Y+7Dfgm9Ngxye7Da+KpR6htaG7peOujL5L0XfhMO2r950CWg7NGm0oBjasQAdHaUfTQkM7HzOAKtYhWxupFzUUFg49Bhz/5Pr2+Wv8SQHfByoOaBKzE1gTVBMFFFwVEBZWFjgVShLnDIcFa/329Nfr7OBy1BjHVrnsqnWfcZpRnD2ifKzGvLbP+99m66D1ewBtDZgcCC1tO1pFNkpRSYlDMDtmMxYsXyQGHQAYFhQuDlsFzvw4+ML4wvx4AgMJ3g7NEuETnxPrE6gV4RfkGF4YXxanEtEM8gS8/PD0be1/5I/Y5sn+uT6rMaCDmw+d06KNq2q43Mhv2Sjn0vIm/0sNrRwwLBA6rUMVSONHBUS8PQc3fjB5KOceSBa3D24JCgK1+2z5R/vF/jcCEwauCkEP0xI+FUYXixl+G+gbahobGBcVlhDyCgAFSP/I96HtkeAt0brBL7TqqVmiOZ/hoGylGqxYtzzIM9qR6YX3vwXVE2chIS9GO+ZCX0YcR0tECz39M5wriyKZGO4RRw9mC84CfPoG97n37/qUAK0H4w0AEwwXXhkDGgIbIR3cHsce/RyjGZsToQsJBD7+SfjK7xPkWtXCxU23AKtfoeacdZ6rosGnYLH0wb7VXefy9dwCLRCGH/gu/zrKQYJFukYWRaE/AjcoLZ8jUxr4EBkKlQVvAdL8G/pZ+jT9XwJHCGUN5RKrGIEcRx0pHSYecB9GIOIeixunFrEQkgnLAUn6BvIv6LrbNswEvOqt6KM+nYeb0p/mpfOrNLaUyQvf0e7R+wgL8hrZKKs2i0EMRfxELUZxRHA7ZjAfKDof0ROmCtYGtATt/8/5Nvae97n8UAOcCQwPkhRLGtsdKR73HTYgziJzIk4f5xrdFSMP9QfgAHD6mfK/5xHZXMgLuuCu0qVunpGc1J90pA2qjLVDyV3fjvGr/8kMsxkHJ5I1DEHRRC1FGEbZQz068S5vJeMbexKeCvoD+P2l+3D6ovdk9hf7wQLQCEgOaxT5GfMdgCDJIUEiEiO2I/8h7x3KGNoTeQ1UBZr8dfQo67/eGs/DvnGxQ6iNonmf7J/gosimMK4ZvrfVZew9+xQGoxKZISMwyTwJRPlEzkSfRCc/VjKNJt8etxe5DpUFQwDP/LX41vIT8dj2Lv45BF8JXQ9ZFfobFiL3I30ktCbnKCEnESPhH8EbchWNDDkET/zD8zrp4ts1zWC+JbJyp+Oft53RoJWkV6ccrm295tQt7TT+TQivEjEimTLSPp5EeERPQxlCKD6sM+omAhwUE1gLPQMP+/X0xfKi8izykPTl+qACkgl7ELkY9B+vJRIp/SrRK0Ms/CsxKbMkVx9iGYoQ1wXF/IP1vez+36DRt8Kftb2riqWfoGCeXKHeplKr8LK3x8vk0fraA84LLxmjKG43BUMnRU1A2T4YP0I3Pik3HhwWig2pBNP7WPWT9KP1dfP78Zv4TwKnCaEP6RYaHxEnLy0WLpgsKy3/Li0tmCfmIUMc+hRZCzYBa/ii8Nrog9xbzeC+C7VdrE6k2KAZovqlMqoNsFy2EMf+49f+0QhdDekZLSnaNbVA8UR+P0I7aju5NAImtRoLFCAMuQKx+/r1nPMy9B32sfZw+o0CRwuDEV4XUyBNKNosHC5xLoIteiwOKxcnGSFfG4MULQveAFb44vB46VPfptKOxVy63LHvqlWnNKawqCyrYK6jtQXFfNzw8z0E1wqLEcIeeS6nOA48rTvUOMk0UDCKKEYeuxSUDnAH8v6696j0WPhC+4b6fvhC/9UIoA+0FR0dDSTYKL0tGC5cK1kqhyuFKVkjkh0VGD0QpAbD/Xj2DO/056LevNFYxUK897R4rZqpFasPrpSw6LLduFrFe9vI9CUFzAiMDMEZBipPNFA41jcVM0QwQi70KDkeaxY3EP4ICABP+pP5T/md+Vn6j/0lALEGrQ/vFoYcaSTzKpQrwyqYK7Yr1SmuJ+0jOB6LFxERtghwABz4TvGI6RfhFNcgzInCWbq1tYuw4K8PsOSx5rKut03Amc5r55v9MwbuBBMOBB6mKzY0+jdCM2AtXC5TLtQlHRzhFYsOwgVp/+r6OPna/XX/b/uX+QEDDA3mEhYYwR6ZJOcovyzeK9wp+yn8Kn4mMh8rGv4V8Q4sBu/9LfYT72LpzuGQ1tjL2cNIvUC17rBDsj21QrSxs824KcCsznjo+wAlBfcBBw3eH4osUTS9OIAyLSyGL9UwECZXGjQVSA7NBIT+kPqe9Tn35P49AOX6A/4MC+QUBhqYICkmxCcjKwMvhy1iKVQofSZ4IAAaIBaSENYH8/6H9w/x6+ob5ZbbUdDixl6/OrnztFa17LUHtRe0qrZPvZLK1eEK+CkBFwCZB0sZ5yn2Mg41/TEfLscvcTATKTsekhYJEKoHVwDU+nr2lPQ6+ar/OP+4/W8ERhFyGR4fkySYJyoqMi4hMFMr9CZwJY4jxx08FzQSrgu+A5L7P/Xd7r7preJP2PTMK8XEv5m6xbaQtHu0K7Wat+m5D79ozXDnHf3eAUAA9wryHbEsfjQjNZAvbSwrMU4wKSb0Gi8VpQ2oBC/+Y/m29mr1z/gM/Pj9vQDDCG4SnxmhIOEloiisKl8uji6dKk0meyPJIEIduBfFEPQIOQIl/Jz22O/h6Gzh0NdNzpjGycCgug25C7gJt4S0XrbauuPA7c9r5xv7Rv+5ARkNhR2BKhw0rzV4L3ssjzC3LiwkLBv9FF4MAQOz/nH5s/Ss9Iv5ZvsK+yYA8whcEa8Xdx/aJN4ncitmLnQtByp7KNslXCFUHIwXehG0CloE/v31907xwOt65DPcU9OXy3PDtLvHuNi4LLp3uCm26rVdvLvJs+DM92cApPxMAnYX6imyMboy5i+QKqks7y9uKdobkBSxD2UGXf3O+fr2MfPK8zH3wvu9ALQHpwzrEsYcaya5KWQqRSzSLTMtWyquJpkhWh6uGrEUCg2UByYCv/sQ9enuPukQ4t3Z4s/Hx7vBcb1Cu8m6pLhMtQu2VruJwQLP6eit/Cz9Ifu8CiQfMirlMEgzcSzFJ1ouRi9/IrMXkRSoDL8APPyG+q31HfPp9Ff4fftvAoQICg0bFVQgwiegKPUpziyWLkgtyyrqJTghUh49GokTjAygB+sBT/u49D7uzehG4mHZ0c80yCnCR72Ju+e6DLl0tnG36bu7wu7RbOkk/KX+8v2RCbocsisPM2wy1iozJ9orhy0xJPwYXRH1CX8Bg/xB+cv0VPE18vb2F/3DA98Ivg1wFdEg2ShzK5srDi0pLsEtCyvmJdQgKh3DGVIUeQ6PCIIC8Pv09bXvt+pH5OXbw9FhypLFA8GOvaC6IrpqtwS49L0xxRHNbt+L9woBR/58BToZHScVLkAyri5RJsEn4i2AJ8YYuhBsDCQD9vo2+dv3HfOB8JzyFfc9/7AJBRCxEpUZLSWBLLctVy16LaUt7SzKKfojwB6+G98X2hE/CwkG1wAS+yj0Fu4w6WjiudhfzpvHEcNQwIC+x71ruiu2eLa1vebGKNXq6qL6Jvzt/E8NuiBPK7suVi6WKGcm2SsZLHcgSBRkDtAHBwDB+wL5GvNC8HjyZfWn+PkAPwpXD1EVbB9WKGEr4yzbLs8vzC4/LN4nuiJiH5ccmhdfEDEKFgVGAHn6avMu7Tbntt/n1gnPPMffwda+t76mvBW5yrYDua2/l8bZ1aPsiv1D/Vj+EQ0LINMqpi/LLeglPiQHKygroR1nEroMlgZl/jv7cPi99Lrx1fEb84H5hARKCzwOIRTlH9snPiwPLgowoC/8L/wthSipI2whox5VF4AQlQrqBZz/V/pe82ntpucf4EnX3M/7yUDCy70jvqS/8rvfuHW3cryvxSbVmOkA+UT92vwUCTQc2yl2LHwrkibFI/EmFSmoICIURQ1aB7j/B/rd+Tb2YvK58N3zw/mlAvsKyw7SE2wdVigHLTsvDDDUMGsvOS1VKUElcyIVH74Y9xA7DNwHTQNu/P71Ku4J6Unj+9tI0w3L78TXvne+Fb52vRy6lrgIu97BuswX3xz07v3i/WkCmxKHIhYsHC6cKcAiESRKKO4koRmqEJkKaAI3/Oj5xPg29DPxMPEq9ur+OwjIDLsPNxg7I1ArRi5xMO8w3TDJLw0txCgeJcQh9RsbFZ4PiAugBU7/ZPh78t3r9+aZ4PPXQ9E0y8vFFsAWwKW//7zruTO6gr4vxPXPk+L99bD9rv3LA1UU2CMhKy0rbSb0IkolSig2IncXyA+FCuEC5/zY+mb6QvdP8mDxDPbbACUKcQ7iEEUYHyMeLIMvRDCFMFkwny/JKyIo6SRJIXwa4hJQDakJ9gSW/jz3OPB76sDl4N5s1qzPsMohxtrCy8AFvxG+KbyKuj++Ichn0obhl/QnALn+wAMfFSIjgSc+KRApiyOMIsglLiJTFnAPUgsABEL8K/qH+F/04/Ks82320v1UCa0PehKTGXUkiSs0L3wxajGUL8YucixWJzgjMSAUGyMTvg2ICSEFeP/o+W7yaevr5qjhV9qO0z7Ow8dowaO+tcK4wne+ZbqXvdLDjsoN3LPyjv4F/D//4g2uHFMlESsnKrAiriAYJtQkNBpBErAOOQZM/az89fy4+ETzTfT09TT5oAGkCh0QzBS3HZ4lkiovLqYxdjFnL6otsSrKJqEiYB53GOYRLwzDBloBZPzm9cPuuedq4oPcY9cP0uDKu8T8wC/DwMIlwGe7j7s/wsbKVdWf4330rv3vAD8GtBFMHOck/yniJ/EhoCEgJO4fqBZaEVIN5QSb/pX7OfkB9R322/nt+bv7xgKxC6ARxhicIW4n0CksLagvhS/iLsst2ynTI7IfrByfFxwRnwtoBcH/pflF9AjtR+am4f7cDtd0znjIhsRoxELDmcAhvoa8pb1OwQ3KA9nY65H6gPxH+2oEEBQMIOwl3ye0I4gh9iM8JAYdGBfjFe4OsgOS/qT/vP1g+cz3sfZQ9vL7rQOoCBcOVxj4H70hGCQLKiIv5DBSMLgslSiYJqckGR+TGAQULQ/BB7YAwPpW9UDvIunN4YrabdXTz/fIkcPpw3XD2r/Bu966SL5XxV3NSta25Yb2afyO+xMDyxBYGuogvSakJHkgXyOQJgsfVhcXGHkVXgvyA4kCMv4p+8b9fv1I95H3iQAPBrII3xD5Gckccx/GJU4pQyoLLuYvrisqJ2smZCNJHdcY3xSvDdEFuf/Q+O3w1+te53DftdYH0SvM2sUYwtTBLMFLvly96r7cwezFDM953pfu7/YP+O/6XANGDnIY1SAsI7QhJiL+I6QhZR2zHT0eGhi4Dv8IuwbTBFQDiQH8/ZL7mvyZ/n0A9wUHDm0TahWfF7kbJyAfJcEobik9KMomYCQmIKocsBpFF48QTwiAAAn6TvS37sDoNeIz3JjW6tCvyzzJZcmFyd/HlcVqxcjHH8xA0jHc7egv8iX0ifP39q7+pwcZEDIVVhYjF3UZThrTGDYZqBzHHakZIxTcEIQPlA4rDtgMVApMCEgH8QUJBf0G1wpHDW8NXQ0gDocPVRH6EvUTSBSBE5kRZA7NC4sLWAt1CXQGygNoANX8RPru9+/1IfR48uHvIO2n68Xr3+sq68bqb+kx5/XkHeQp44ziW+UL6ebpu+dj5gbnOejW6kHv7/Jn9Zz5dv6hAP4BhAaWDAoRFBWyGGEZ8hgoG0gdMhwYGwccVxsSGPkVAhUbE+0RdxIMEWANkgs6DDQLeAnICZgJvQecBqcGegWuBLsFIwYOBD8CDQJkAQ0Agf8H/5r9avyk+/X5SPew9WH0TfLX7+HtkuvB5znk0OEX4Evg5uJl5CHjuOFm4gbkLuZc6qrvBPQa+OX8gQCTAvgFrwvLEFkUihgTHQEf8x5CHwEfdR27HB8drhuzGIAWehRiEfIOKA42DQ4LcgnRCBUHiAVpBZQFvAQyBFgF7QS7A4gEmgQUBIIDuwLJAYP/e/6C/Q/7Mfnm9mXzxO8d7JHoXuWv4fXdetoK1wLVKtXn11Xch9+y33XgauQd6TDuKfXM/OsCRwl4D2USYRNsF6YdQCFMIZog4yDaIDUgNh+zHVcbOBhvFHcQqQ3HDF0MtgoXCIsGjgaHB18IZAk5Cx0N1w1LDYMMlQz3DQcPWQ4vC78ILwbCAvP/Hf0e+gD2oPHf64Hl797x2IXT5c3ryHjDX77Euy29w8EWyxLZ5OPv5b/ntfBp/FAHtBM9Hpoi3iXHKq8r9yf+J/8qlSlXIyEcAxNdCnsIrgolCJIBqv27++v5y/sVAoAHdAtYEAsUBxVEGG8f1SQ9JlcmtyQpIIUb9RhaFpoSEQ4DB8L8UfPI7aPpveSa3s7X+M9AyC7CQ74MvJu5u7dttlS3hLzcxWXTv+SG9qv/FQHpBUoRshw+JQ4tcC9pK9knMSWqH2IYXRYmFn4OGwJS+Xn37vYp9374Vfgn+HH8NQb/DgwWRx7HJU4q9yvuLWcvli8WLx4siybtHrAYdhPPDdIIUgTS/pv2/e5+6VnlCuIL3u7YEtMuzrfJocStwMC+Ib6evZC8fb6cw7jNwN6X8xwAWP9aACELIxg0IH0nQCymKJAj0yEnHuAVFhJTFGgPFQQK/OH6ofk++Oz6D/3W/Y4BjAnaEIsY4yLCKmUs8iuGLe4uHi7ULKgpAyRlHTEXmhE/DMkJdAejAgL7FPQp7/DqQ+e/42vfEdlt0j7MiseawwrCar/qvN+5VLpCvizFyNQ36if9hQCp/w0HjhQVIJQo7C7NK9gkTCJSH+8X5xC8Ea0OgAOP+eL1Rfa19KX17fXm9MX3twE9DtYX6SJJLugyrTHSMAw0tTQZMxkv4yctH6wXtRNUD1cLCgksBgMAEfgb88Twme1i6fHixt2914HU9M5fyjXIdscKxZ68Q7Ystee8KsiD2Sbt/vmq+rr7WQjZFwoiSCqwLsMp9iBYH+keexgVEwsStQxL/x32xvVj+FH3EPZC9NzxNfTa/7IQcx9JKhcwdC+MLf0vgzVNN2IzPCyMI4gbMhU3EgsQEg6XCs8FdP7j9/b0uPQ/8qnrd+Pg3FHZe9Zf1IPPG8x4yRLHEr8xtDGzVbu6xbrRJuXA9vL5f/q9BaEUwB0FJ+svxSsjIcUdzR9JGvkSuxHcDSgCiPe49ML1GfV49D7zffD48pX8swwEHPQo5jE8NAIzszEvNIg2zTRILm0l8BwOFYcQUw6tDF0KHQemAmL7jPaE9Vf0iO9K54bgLtuY1yjVt9N40WTNkMgvw/a8erXktK66+ca82Nrtivuf+lz7bgcIGZ0kyivfLdEmyx5bHUkeJxnIEloQuglD/vn0KPOm8lLvgfBz9Eb38PheABIQdCFwMIY3MTa/MaQx9TTTNCswDSl9IsAagBPzDvkMXgyGCjwHZgEH++P2OfRw8BvrTeXN36bbLtlT1mDSSc4AzDTIw8Ccuf+1lLcgup3FeN3D9ML7AviP/VAL0xixJb4vtSwWIYEetyGkHbcVvxPmEVYHpPxg96Hz2u/l7XrvsPLh9jf8fQEdDXkf/DFBO3w4kzKZMMYzjjTQLxAoKiE5G74Uaw+3C7wKHAsmCfQC7voZ9pzzje8q6zPny+K43BPXstSu0yTSsM5zyg/EUbrAsTyxtbgzx+Pd4/LN96ryFPn1Cr8ZUCSqLJIrHCJYH00iUB+DGE0WOhQ8Clv/ufiQ9CbwfO7O7o/wvfUM/pQGFBAWHpcqbzHtM7s0FTOnMOcvhS0nKHAidh1jF4YRCA/bDfwLCAjJAnH8cfYf8sDtYuhd4wPfbtvM2CHXLdaZ06DQ1cu/xQ69mrR9s+u69sdg2CbrGfXH86b3QgesFcMc+iQ2Kr8kth9HIpkiqxudF3kXHBHtBfr9GPn484Dx//K78o7wpPRkAWIPeBrPI5wqBS5aMEoy/jAfLs8scSuvJsEewheiExoSiBAaDgAKYgRN/kT5FPX37xXr0+Yg4qzccNlj2BbYQdbC07zPdMnFwPq4rrZzupPACcxu3qzuTPNZ8w38kAijEyAeEydkJo4h2iKLJZwh+xs5G6MZIxKQCb0Bx/rH9Y71xvYn9W/1QftDBUIOvRb4HukkqiiTK6ksTStuKlsrJSoYJTYeQxkTFv0T7xGDDnYJ+AJJ/ff3CvKU7LfoveXm4PDbydim1zLXktQj0gTPqMpPwbu5orqXv+jEwdBq5HLvPe6Q8TD+aQdyDpkbiSXaIosg7yRAJRYfZB4eIT4dtxQcDgwHF/56+er45fl3+03+2f7+/yEI3BJPGroe2SLJJKck3iXoJg8mAiXIJNMhtxuWFsoTPxL6D0cMpwWp/lf5XvSG7m/pS+ZB49rf19u312/UXtOa0UPOw8hDwvu8sbypwJLFFNC435HrJ+738J34CQHvCtIXniBmIYghyCQ1JbIi7yEKI78hEx1eFucNqQY5A3QCSAAD/lX9Ov5v/0gDBQlHDvUTwBmOHBYcPh3KIIQjGSQdI0Yg3RwDGqAXchRFETwOcQq3BKn9BPeC8a7tKeph5v/hj93a2UDWKNOG0K3O3cz2yE/EA8J1xJLG+8sW2qfo7es76w31J/3a/8gKwRkGHQwbBSLKJvIgkx6oJLcluR8LHJ8YCxFmCzkLDgkhBPICaQSWAqMAdQOOBwcL2w+rE1IT/BM+GAIbuhqGG4kcQhuGGdwXVBSCEEsP2w2JCcwDz/53+T30VPCv7E3op+SY4WPdIdmm1gPVHNOz0XfP38sIyvnKZMzS0XDdD+h46gDsL/Ku9zf89AVCEEkTFBb5HKAfOBz3HL0hiCKJIE0ffxuHFRMTsBKeD/oL/gpQCuoHKAaJBXAFFQduChkMlAtiDCwOEg//DwcSoBJEEsoSDRIWD0QNWA2EC5oI6QX+ATP9Afp/91H0GPB/7cnqiOZ54+Lfp92k2obaxtk/1lLUmdIZ09XTc9lV4iTo9ekq7DHxyvQa+c4AvAdrC6UQtRZEGCIXIhlxHAodyx3JHoAc1xgZGB0XlBOBEYURxQ9jDFoKeQjCBe0EIAYEBg0FuwX9Bv8GHwdmCFUJJgriC1YMLQtpCi0K2Qg2B/EFkgQsAgkAuP3m+Yv2XvQG8rPuBexr6Fjlp+Ke4VDged5V3uLcWNz029rc2t895YLqDOwQ7gbyHfUy+KT9gwKjBWcKAxDHEYQRnRNcFhkXXxgiG5AbyhnlGDYYlRU4E9QSwhGdDggMOApoB8AEFQQSBFgDiQNeBFAEDwTgBGcF8wUaB8AH+QdGCFgI9gfYBlYGRQU9AwICvf94/X76Ffi39dbyAvFO7yHtLuu56XPocudI50/n2+al5r3lzuUf5xbqmu1z8IHyPvQO9sn3NfoR/Q4ArAOpBzYKoQv2DHEOIBDwEQ4ULhYBF7gWGBaQFFMSnhBqD6gN3wukCvcIDwfMBQcFYQTrA70DYwNHAwsDOgOXAxME3gSHBdgFmwVWBYgEmgODAi0BEQAe/9H9RPxG+sH43fZE9Tf0FPN58q3xR/GZ8O7vje96707vP+8s78vuCu/o7+jwRvIf9E715fVK96L4mfle+7b98//8AW4EdQZ+B78IngrgC1QNtA9cEVsRAhF9ECcP2w1bDZEMmwtPC74KVwnqBywHSgZ8BQUFBgVjBDYELwS9AzgD6AJIA8gCaALqAWMBnAANAHb/bf7W/Tf9lfxp++H6QPpf+eb47vdb97H2wPbL9oH2afYX9uH1V/U09cz01PQE9e308fTh9OH0b/V99ir36PfD+IL5Tfp7+7j8LP7A/6IBdAPeBEAGrgdOCfkKRAzNDBYNJQ23DAwMZAvJCp8KvAo4CnkJqwjbB94G9wUOBWEE+QPAA5IDtAJ2AuwBowHsAHUA/v9//1f/tf58/pD9W/31/LD8a/yD/FL8BvzO+x/7yvp/+q36Z/qO+j368/lt+bL4TfjR97j3o/eL91f3H/fo9vn2P/ez9zH42/ib+VD6EPsE/EH9U/51/8AAzAHPAu8DvwRYBQoGjgbwBjsHZQd0B8YH/Qf9B+sH0wfDB54HlQdrBz0H6AaPBtkFHgWdBAQEhgPsAmgCtAECAY0AAQBv/zv/MP/q/vr+Fv8N/6/+ff4e/sP9wf1q/Rf9ufxF/K37Ufu++mb6APqc+XD5bflF+fD4HPnj+P74avnF+Tb6ofrl+hv7b/uv+yr8kvwK/Y79GP6S/u/+Yf+1/zEA3ACGATUC5AJ3A/YDXgS+BAEFawXTBQgGTQZMBjoG2wWGBVMFCAXiBIoEZAQpBAIEmgNnAxsD2gK6AnICTALUAdsBYwFIASABpQBMAM//Mf9p/iX+Y/29/MD8fvwz/EP8EvzK+8L7lftz+377jvuQ+7X72vuF+zH78foK+9n6yPoa+zv7fft9+4X7hPuR+8/7Vfwl/br9S/4a/2X/k/8nAJQAHQG7AScCgALYAiID+AJCAy4DPQOuA6IDlgOkA7ADfgOCA1gDlgPDA+wD+QMeBPQDzwPAA1gDagMYA8UCTwLjAVMBGAHlAJ8AJQAAAPf/kv8V/7b+g/6x/dH9b/1i/Tn9Bf3X/H78YfzL++L7uPuL+4j7XPs8+z/7OftI+5H74Pv4+0n8gPzj/Ev9dv2e/RD+Hf4h/tD+FP9X/77/QABuAMcA1QAmAVsBYwHiAVkChgLVAioDJQMVA+oCGAP5AiIDEANRAw4DIQPjAsgC3wKYArsClgK+AooCbAJzAs0BtQGgASMBFgF6APsAXgD6/xEAvv/0/rH+CP4T/Sz9gPyx/HT8VvzR+wf8hPsU+1776Ppo+4r70vsT/Cz8BPzy+8L7jPva+4v8Cf3W/Tz+cv6+/nL+1/7P/kf/q/9xACUBgAEEAuQBBgLpASgCFQJ/AskCWQNHAxAD1gJ3ArgCggLnAjEDqwOwA/sDygOCA5QDUQM0Aw8DHwMNAxsD1wIxAs0BIwG6ACIAcf90/xH/lv6N/g3+gf1Q/aT8a/wY/KD7o/va+8T7l/tM+7z6xPrI+n/6ivow+i36UPp4+un6F/uk+yr83vz2/BT9Ov3r/DP9Ev7Y/ub/BQGqAc8BugGRAXEB6gE1AkIDAASeBCMF+ARpBAMEKAR4BAYFjQUHBhMGHgZdBSwFpARoBGAEoAT7BMUERgS7Aw4DZQFGAGj/Ov/0/rD/aABtAJz/gv5A/Yf7nfr9+nv7G/zd/Mb8kvvI+VT4+faM9n32ePdi+Kr41fhg+F73o/ZW9pT2Sve6+Bn6A/sF/D38PPw7/On8Zv6V/xEBzgIKBXYGBQdzB9UHdAiXCNMJugp7CxMMNAzsC8wK7wnuCCsIwgdhB9AHvwerB24HlgYQBioFVgSCA9wCwAEzAUsAoP80/8r+q/5P/lb+V/2o/Hv7H/r/+LH3nPa09Yr1ePXw9Lj0a/MI8orwBe4A7R3sy+vQ66bsku3y7trwK/Ie9E32wPib+/P+vAEEBQ8I3gopDiERyhOBFoIY7hgTGdoYvBcuFlsUlxJeEbkPzw3HC8kJtwcsBogEIgPAAp8CugMwBJIEfQSdBPQDhgKMAaEABAHBANEATwD1/j793vpF+OH0XfKF8KzucOyc6aPnK+UO4lbfS9272inZ39ni3OnhnuaF7KDyGvcg+wsAKwN1BeEJPQ9sFEwYMxuoHfQdYxyDG+0ZHBddFW8VgxTaEmoRfg/EDNgJxAfgBTEEhgPuBOYFlwa1B8cIKwl8CSIKlgpOC40LuwvcCu4I1wbsBPIBKv7N+ob3W/R68T3uHuvt553kUeES3V/ZbNUd08jRttBl0VDU2Ngd3ofmhe6R9UL8yQKiB/MKIg/ZE8gYJBzYHrMfMh5GHPQYrxS7EacP/g3vDUIPfg9OD78OqQ0JDMUJbgh0CIAJaAunDngRUBMWFSgWmhUgFI8SDBGRD/oN0wteCQMG0wIl/4j68fW18SHuAOqw5nbjkeDp3M7YHtRszwPMLsm3x83HncrOzw3ZOuTn7lX3+v4dBqUKEQ06DxESMhRWF2UahhsWGksYWRW1EMoLiQgHB5UGggjaCxwPLREoEywU9xNXE9wTgBXBF3Ia9xy0HtMexx0jG1UXChO1D3kN1QtUCv8ILgdQBH4ATvsZ9YjuI+k55CfgJ9072/7YX9V+0A/LQsbXweW+Qb5OwUTIJNXD5ZH0Rv8BCagR2BTdExUThBNUE+kUTRjFGRAYdBYgFIcOUAfoAjIBfQArAiEHxwwHEVcVdBilGVoZjBqDHOkdFR8GIYciiCEnH+MbzxfDEkUPUQ22CzgK4wkeCSYGxAGC/Pj1X+6u5/fh190y23DZR9ZH0hjOs8l/w3G89bcpuMC8t8Ue1r/pdvraBmkTGhuIGbAU+hKfEEIMTg2EEoAUBxPsE0ETqwwRBboBXP9r/XYASgiqD20WDR4rJHkmkSavJo0l1SL/H6seYh0iG+AYNBfdFNwR3g+PDj8MwQlrCGcGaQKn/aH4CPKm6szjn94M2v7W49RB0p3OycnFxEq+hrhdtai3XMC10JTlzPl+CvgX3iCYIesb/xMSDVwHjQWHB98Kug2FEEMRSg6WCHwCev0C+yP85gAICf8TISCGKcgvsDJKMiwukif3H4YZoxULFN8ThhQ3FsQXHRg6Fr0SZQ5DCqMFlAC3+5T39PJ37a/nYOI+3hraiNXvz0bLL8YawGy5dLTAst+0Mr10zerinvcSCgMapSSoJWwgCBnND8IFugCOAZIDBQb/CvIO1Q3aCpgHQAJX/Lf7dP8CBbEN8Rp2J5MwFDeOOUA2NS4VJX0b3RJTDVYMOw7rEYcWzhrHHEYb+xbLEF8JCQGp+Y3zGe6p6dbmceTJ4UPfzdvE1Q/Orsarvp21Wa6frJGwYblEyY3fFvdzCtgZtCQ5JyQh8xegDjUEj/zU+8X/QQPuB7sNFRDADSQKGQYtAGv8N/7FA+oK5RXXI94vvjf8O4U74TR/KnIfIhVUDOgHwAjoDEgSXBjYHeYfsx1MGJwQuAZ2/J3zVOwi5mHiWuHU4JDfkt1O2s7UMM0txOC5ErDnqqGrUbGkvmvVae8rBVkX8iZDLfonEx4+E0AFvfj59EX3JfpZAPgKPRJvEzYSmw/pCHMBWv7W/sYBJAkoFpUlxDLjO+FA9D8LOC4rox3REB4G/QC9AhsIiw81GYkhSST9IeIcixNNBtb42u3o5NTe0txp3abeEeDb4ALeetbzy4PAurQ4qqilNKgYsrPERN94+gQQDCKVL7Ex/CdwG28O//6y8sLvh/ID90sAZwxVFLEWQxfrFGcNTgXmAPT/FAKuCUsWdCRPMdE7yEFoQDw4YSwnH/0QYwXl/3IAmQQiDAsWWh41Iu4hbx1sEw8GkPgd7OPgU9m41qDX8tl13CrehdwV16LOuMNOt2StmqnVqm6zisaa4GT4fQ18IjAwzzBJKici1hOoAtT3NPTB8bnzF/3SB08P5BQ3GYAYHBTyDtMJXgX4A5sHahDRG1cnQDL7Oh4+mDovM64oWhvhDsYGFAIKAQwFJQxKEvkWhBqpGS8TnAnQ/o/yp+Z73VrXTdQt1JnVSdaP1RbTec5xx0+/p7i0tCG1RLzRyp/cge48Aa0TFiDVJJUlbSLgGaUPxQjZA2D/ev7KAUkGpArdDv4R9BKMEiQREQ8hDT0MYQ2PEfcX3x4oJsgsAzH/MQ4w5CpBIy0btRMdDQQJ8AdpCJMJmgtKDawMjgmrBB/+6/Vw7azlZN/92nXYKddB1vbU6NLpz4XLJcYowSe+mr3DwbbLZtjt5KbyrwEaDVMTUhcKGQUWVBHADlkNMQu7CvEMwg+gEvwUWxY7FiUV3RJ0EFsO/gwCDaIPKxTWGCkeZiNEJ68oRih1JRMhMBwTFxgSbw6RDFILlQpuCgsKKwhDBSoB5/un9VXvdumD5Ovgqt5c3Zrc5tvD2jTZftax0vXOzcz/y2zNMdIP2VLf2uXC7U703/ef+jX9v/3c/eT/ZAOwBusKSxCjFXQaTh6lIIghfyEDIOMdzBunGZAX+RbBF44YsBk0GzAcGxygGx8a0heFFZMTgBHlDwoPCA7pDPEL/ApSCWwHNQVxAh7/o/tE+Pn09vEc74Hs0ukm5yjkUuFQ3qPax9bp0/3RddFM1MHZtN4v4fLi/uOv4wvjNOMc4xjjIuXQ6WHv+PQO+8YBoQi8DoITahf+GqQdjx/VIKUh4yF8InMjPiTsJOQl3CaYJ9EnOCfwJXUk7CK9IGgeTxxqGjMY9RXNE4AR/A42DD4J8AV1Avb+g/v/91H0rfAz7cHp1eWC4S7dA9lP1VHSadCozsTNec5i0HDRU9Fg0aLRuNHA0UnSwNI91L3XmN0E5PXqufLG++kEzgwoE7YY4h01IhUm7CggKxotDjAAM0U10zb9N+E4eTkDOWY3SjX+Mk4w6yw6KScl6yBNHJoX9hKlDlgKDwbzAfv9CPoV9gbyqe0o6dLk/uBb3YHZj9Uk0jfPsszFyiTKIMrnygfNCtAv0hDT5dO51BLVA9Vo1SrWLNhJ3NjiS+op8rb6EgQ9Da8UhRr8HpciDiXgJxordi3HLu8wIzRZNl03ljclN+A1eDSQMvUvwCzCKR8nkyRuIXQduxkgFvERVQ1MCXkFYgFh/d/5cvbR8irvMus55zTjh98g3KXY19Rb0RvPrc3UzELMz8yPzp/RMtRO1cHVTNaO1kbWL9ZR1ljXjdp64DvnS+5J9mn/WQj4Dx8WChv2Hooh2iMpJ4IqmSxnLn8xXjTcNag2ojYONf0yYzF2L4wsUCnlJgEl1iKUHx4cHhmnFUARFA14CXoFMwFm/eT5H/ZG8o3ukepb5kbiy96w2y/Yc9SW0Q7Qns5izfPMBc4l0PPSNdUH1mjWDNeu16TXc9eV1zLZ2dxU4jvoqu5c9gX/aweFDn4UnBnwHfggiyP3JoIqzCyJLhoxbjOuNFw1FDVaM1Ax/y9jLq8rpChpJtkk4CKzH00cfxkuFvsRGg7FCtkGtgIm/5/7nfe/8x/wLezJ55TjI+D93HDZwtU406bR7M9xztHN6c3UziDRsdOx1ATVENZb19jXL9jg2A7af9z04F7mGeyf8mP6oAI5Cs0QdhauG9AfISNyJiMqvixWLk0wfTK4M1c0mDSvM/AxozCZL6Mt9ipUKGwmaCSGIeMdlhpMF1UTYQ8DDGoIUwSyAGv9rPmg9erxIu4E6svlQOIj3wncvNj+1SXUetKH0CzPt861zr7P9NEh1PfUC9bJ1zrZz9le2jHba9z73g3j6edH7cvzU/tCA8kKVREfF3Ac6yBSJIMnjSqqLBYusi9WMTUy0jLnMhcy2DD/L+kuFi22KmwoYyYbJAkhQR3AGSQWKhJKDuUKTgebA14AKv2B+cH1NPJk7kvqTOa24nnfitzQ2ZLXztX60y/SCNGE0AfQE9Bg0XHTJtWk1krYs9nG2hvcn93Z3m/gjeMn6Evt5PJS+bcAKgj7DvUUZho+H3UjJyfuKZUrsiwoLo4vKTArMEwwUjDPLwgvKC7xLD0rSikXJ3YkMCF4Ha0ZwxWrEd8NsQqLB0gELQFO/h37hvfE8+HvyevO5zDkAeE73tvb8Nlu2PfWYdUZ1DzTltLc0SvSj9OK1Q3XndiQ2lzcE97F31Xhe+Je5Kzn4+sZ8P70Fvv/AY8IxA52FLkZgR7/IgUnbimxKqMrCi3RLb0tVy0aLbgsIyygK/cq1il0KCYnZCX0IuMfkRzNGK0UhxDgDIcJMAYHA1IAzf32+uL3hfTd8PzsSuni5YDifN9P3efbwtqS2ZLYwdcl17TWWNYe1pLWDNj82Yzb1dx53mvgaeI75Jvl+OYs6ZnsZfA29LH44f3IA7kJWQ8nFLAYnR19IiIm3Se3KJEpdiqUKt0psSizJyknCSe4Jg4mZSXwJFkk7CLNIA8evBqxFm0SSA5sCtcGnwPpAIb+UPwi+oT3QPS18EHtDuq+5rbjOuG437LeY9433gDeAN7E3YPd0dxZ3AbcbdyG3dbePuAG4hHk/OXy59LpZuvc7O/uj/FW9Gv3Ofuu/2YERQklDroSKReYG9gf3yI/JM4kESUKJXUkeCNYIqAhgCHAIQQiISIgIgwiviGuIMQeDxynGJ0UUBAMDAMITgQPAVX+Ovy0+i35K/eT9Aryo+8T7WLq8OcQ5o/k5+P741rkYeR45Nfk/+S/5FbkD+Tj4w3kyeQW5kfne+i36XjrVO0K72fwk/EP8/P0RPeL+Rj8D/+bAm8GLAq4DRsRvhRUGCsbvRx/HfgdKB7NHecc9RtmG0cbZBuvGxwcshwkHUMdnBwuGyIZiRYvE0kPYgvwB+wETwJmAOj+8f3P/KL76vnK9y31k/JJ8NHt2+t36u7pgemr6Tfq7uqD69vr4uuD6wXrSOqH6RbpDOlr6W3qs+sI7XvuMvDP8VnzjPR29VX2cPfW+FX6IPxO/tIArAPDBuAJ4AzcD6kS5xRDFgcXlBe0F1sXkhb6FaMVmhW+FQQWWRbKFlMXohdcF3AW+xT2EnAQnA3oCk0I6gXRA14C6wC9/37+U/3e+zL6rfjH9gH1M/Pp8c/wRfC+75rv5+948OvwL/FT8QXxpfAX8J/v4u5l7ibuLe6d7mHva/B18YHyjfOh9Jv1cfYn98X3e/h2+bH6GPyN/U3/NAFaA54F6gchCi0MAg5uD5MQThGzEbYRlxFQER0RBhEkEWMR4hGcEkgTrBPBE1gToRJwEbYPiw0XC+8IwgYFBVEDEALiAPf/A//p/bv8UfsQ+qH4SPfb9dP05PNP8wnzCPM184jz6vMr9Gj0k/Sg9Gb0MfT98+jz2vPi8wn0XPTT9Gf1BPaU9ir3zvd1+AP5fPn7+Y76Kvvg+6T8h/2T/sb/IAGbAjIEzgVSB7YI6Qn0CsALVAysDN4MIA1fDaIN4g07Do8O5A4GD+EOfQ7rDUcNVwxICwgK2AirB4kGbAVTBEoDVwJ8AaMAtv+1/q39mfyk+7765vkf+YT4A/it92j3O/ca9wX3D/cX9yb3K/cz9zf3PvdN91z3aveO97/3+fdD+In41vgq+Xv5z/kn+nn62vo9+6X7Hfyo/Eb9+P24/of/agBHATgCIQPuA7cEeQUkBsYGVAfYB1kIxAgpCXoJugn1CRsKJwokCv4J0QmPCT8J2ghdCOAHUAfCBigGggXhBDcEkgPgAicCcAGsAOz/Jf9g/qD97PxF/K37OfvV+oX6Tvom+gr67/ns+ej53vna+eD56/ny+QH6E/oo+j76YfqF+q761voQ+1n7p/v++1f8uPwU/X/96P1a/sP+Kv+T//7/ZQDDAB8BdAHPASACbAKtAuwCMwNxA7AD6QMdBE8EdQSZBKYEswS0BKMEkwR0BF8EOAQgBAEE1wO6A44DZwMoA+wCqQJfAhECtAFfAf8ArwBfABUA1/+U/1v/LP8C/8/+m/5q/jX+/v3L/ZX9Xf0r/QT95vzR/MD8ufy8/Mr85/wG/Sv9TP13/af90f33/Rn+Q/5e/oH+of7B/uT+Cv85/2L/jf+x/9j//f8hAEcAaACOALAAzgDpAPsADwEfATABMAEzAUABRQFQAVcBXgFoAXIBdAF1AW0BYAFYAUkBPAEpARYBCQH8AO0A4QDZANIAygC+ALIAoQCGAGkASgArAAUA6P/J/6n/j/90/2n/Xv9X/1H/Q/9A/z3/NP8q/yT/Fv8R/xD/Cf8J/wX/Ev8c/yj/NP9E/1T/W/9m/3H/fv+E/4r/kv+Y/5//pf+v/7r/xv/U/+X/8f/9/xAAJAAzAEIATwBgAGcAagBuAHQAfACBAI8AkgCkALMAvgDRANsA4ADgAOEA2ADWAMwAwgC0AK0ApgCiAJwAjgCOAIAAeABnAFUARwA6AC0AJAAdABgAFAAPAAwA///4/+z/4P/W/8r/x//A/7v/uP+y/7X/sP+o/6H/kP+I/3//eP9w/2T/ZP9j/2z/b/92/4T/iP+N/5X/kv+J/4f/h/+H/4T/h/+K/5r/qf++/9T/5f/5/w4AIgAyAEkAWABrAIgApwC4AMwA2wDdAOYA6ADoANsA1QDQAMMAxAC7ALYAtACvAKwAowCaAIYAfQByAGAATgA7ACoAFQALAPf/7f/k/9D/xv+9/7j/rP+s/6L/nf+d/57/pP+h/6f/p/+u/6//tf+4/7P/sv+s/6f/o/+b/5H/kP+L/4f/fP97/3v/ef99/3//g/+M/5f/of+t/7j/wv/P/9z/5f/1/wEADgAkADcASwBhAHMAiACXAJ4AqgCyALEAuAC8ALkAvwDAAMgAygDOAMgAwAC8AK8ApACVAIwAewBoAFwATwBFADoAMgAkABsAEwAEAPz/8P/m/93/2v/V/8z/xf+9/7j/vv+3/77/tP+5/6//s/+q/7L/qv+u/63/nv+p/5L/sf+Q/7//hP/W/3n/8f8F/1kCbQg8BXAD0QOCAzkDsQIGAk4BfgGoAW8CEwM/AoMB9QF4AdMApgA3AMj/dADpAFwBgQIeBloJfgcvAygBvwAmADABbAKXAugCKAQIBe4EFQM5ARYAyf7n/SX+nv6Q/pb+n/7D/k3+ef6M/uL9qf3N/SL+T/5i/q3+Kf8n/zv/pP+U/5T/c/+f/5L/Ev9A/1j/Nf/M/un+Ff/t/gf/Ff9R/xH/4P4u/yD/4P7n/vv+5v4H/yT/L/9C/xX/I/9W/zP/Cf8z/1z/Jv9Q/4b/VP+i/5b/Z/+m/43/kv+4/6z/0P/P/9j/8P/J/wEA+f/r/9n/4P/j/9b/v/+Q/5f/eP+R/zv/Tv8w/xL/VP9S/w3/6P73/sn+5/7K/p/+bP6U/oz+cf6J/mn+rP6//pj+oP6L/qL+ov7B/sn+zP7a/v3+Ff/U/sP+y/7Z/sP+Cv8p/0P/Mf9S/17/NP9W/1T/nf94/4z/qf+m/9z/zv/w/wMA///2/+D/BwArAFEAPQABABUAIAA8ACUA9f/t/+f/+v/f/8L/1v+7/57/qf+g/4//j/+Q/6H/if9+/4j/Rv9I/1z/R/9E/zT/Lf8p/xL/6/4W/x3/4v77/ub+8f74/tX+Ev8c/x//QP8j/yn/Pf8w/wb/Vv9j/1//rf9r/43/lv+6/wAA/v8WAOb/CgBOADkAQABJAI4AhgBCAI0AkQBlAG0AXgBlAE4AZAA7AEIAYgBIAGUATgB9AIEAZQBcAFQASgBRACYAJwAfANr/9v/t/9v/7//U/+T/5v+//8f/r/+9/4n/b/91/zv/S/9b/zj/Tf9q/0z/dv9t/27/cP8p/2b/av9q/2v/Zf9p/2b/qf+5/9f/9P/v/9L/vP+A/4P/mf+H/5P/kf+2/9z/1P8AAFMANQAUABcA+P+0/7z/7f/h/8v/t//X/9b/1/8bABQAMgA8AEIAYwBJAEgANwDu/7D/qf/H/w4AGQD3//r/DQABAO//2v+//9L/4//P/7b/oP+U/6L/jv+C/4f/dP9V/yv/NP9F/2H/jv/O/+v/xv+3/8v/yf/r/ykAPgBYABMAoP8W/+n+Uf+k/9H/5f+6/8b/1v+n/6L/Zf89/zv/Tv9o/zv/E/8B/+L+3v7C/tP++v77/vL+w/7E/sb+0/4A/wf/5v7r/hT/EP/a/qr+rP7Y/iz/m//q//7/9v/o/wIAKgAiAAQA4f/W/+P/6f/+/xQANgB1AOsAVQFpAUAB3gB3AFoAjAAHAYsB3wEVAgUC5wHLAawBjAGQAbkBygG+AYkBMgGrAOL/E/+h/mP+Sf5Z/kX+4P0z/Wj8yvtO+9z6Y/oN+s/5vvnd+cX5qfmO+Yz5qfnK+dz5//lA+rj6SfvC+1H89fyV/TX+C//h/7AAaAEBApoCLwO4Az0EwgQ4BdEFbgYBB40HFwiACNEILwmECccJ2gn0Ce0JywmICTUJ7QhpCN4HWwfeBhAG+wTTA6oCdQEZAKb+Hf3A+6L6pPmV+Lj3C/dg9q/19vQ79HvztvL48T3xYfCR7+buaO4b7vDt0u3o7TXuvu5r72Dw5/Hy81H2IfmA/DQAGQQTCCQM/A+CE68WQBkAGwUcYhzgG54a0BitFmIUPxJ1EAIPtQ2CDJYL7AprCtAJ6winB0YG0gRXA+MBggBi/5f+Bf54/ff8U/xU+wD6zPiO90T25PSG8yfykPAA70DtHeuB6NDl2uLR32DdFdzI2wDcm90A4Yzlq+rj8Bj4PP8jBkgNGBSLGfIdwyFAJMUkDCTOIosgCh0PGVcVwxGDDg4MOAq6CMUHqAfRB8sHnAd8BzwHrgYJBpYFUwUfBTAFkQVrBqwHFglpCmEL2QsCDJgLHQrUBxoF/AEs/g/68fXk8Qbuj+po5yfkH+Fo3vnbuNny19fWfNYo1x3ZDtyj31PkMeqf8A733/0PBc4LxxFvF4AcMCDFIqckaCVYJFAiESAVHQMZphTcEF8NKwqEB6AFKwQ0AwwDJQMxA3ADQARCBR0GHwd4COIJBAvyC+EMnw0XDmAOTw6YDV0M7Ar1CDoGDAPI/1f8ePhh9HDwlezI6Crl6OG+3r3bPNlA163VkdQ51PLUFNdh2lreOePB6TnxZviw/70HUw+HFVMbxCBsJDsmsyc7KHYmUSNgIO8cFxgZE+gO5wruBiYEVgKTAF//fP8WAEkA4wBfAv0DVwX3BuwIsgpODPANZQ9aEAwRthHlEUARBBB+DmgMhQkOBkUCFv6D+fH0pPB/7JzoT+Vi4mPff9w12ibYBdZw1MzTktMh1HDWMtov3univel98ZH41P9FCCYQaxZrHFIiSSY0KMEpeCqzKGAlRCKgHl4Z3BNeDx4LwwaHA5cB2f+L/o3+Tv+r/0YAzgGPA94ETwZQCD8K9QvEDZkP9hDrEccSNROZEhURPQ/dDIIJgAVcAfT8Tvi483DvWety5wrkGuFg3q7bS9kJ1/TUWNN50h7SjNKs1E/Ym9yp4ZDoqPCJ+G0ALwmtEbIYIx9HJYYpmCvkLEktWiuEJ40jJR9iGTUT8w0WCT4EoABy/rj8ePui+7L8m/2X/m4AkAJYBDQGZgilCrYM5w4OEdMSKBRLFRoWBxbyFDgT7BCkDXgJ1wT+/+f6ufXS8ETs+ecj5M7gzd0p2/DYM9eF1f7TzNJI0kvS/9Iw1cPYG90q4vnoE/Eq+REBvwl/EtAZFSAMJpgqtCyMLbEt1SvFJzwjpx7gGFwSwgzvByUDSf8G/XD7O/pf+qb73Pwg/i0AlgKeBJcG6gg+C2MNpQ/lEcsTaBXIFqwXxBf6FlcV3RJxDxMLFAbIAFH71fWd8OPrmOe743zg4N2G21PZfdf11XDUANMe0tTR+tEb0/rVONrh3p7kXuwO9Ub9nwXZDnEXSx5wJBIqaS1lLqku1i1HKgslDiCiGtwTIA21B7oCBf7M+iX53Pc69zn4EPqo+2v9CADRAikFiQdKCu0MYA8KErIU3RaXGCQaKBv7GqwZmxesFIIQYAvCBcL/iflu89Lttego5Gbgdt0R2+XYN9cJ1gfV7tMR06TSitLI0tnTb9Zj2vjeVOSV6zT0qvzhBAcOIRdRHmEkJSoBLugurC7dLXwqtCT5HoEZmhI8C3MFsQDY+zb4vvbM9fj01vUt+CL67/vh/lQCEQW1Bw0LTA4OEQgUNhfBGaQbTR14HmMe9Ry3GoUXCRNtDUYHxgD9+WLzWO365zrjb9+l3HfaldhJ16PWGtZW1ZTUL9TP05PTx9P21IHXZtse4Nrlne2i9nD/Kgi2EZcahCGCJ7csTy8kLzIuDywpJ44ggBpYFAENHwbrAHD8S/gM9mv14vT39NX2ePl/+8j9/AA8BAIHCwpuDZUQsBMVF0oa0hzeHoIgYSHZIPIe+xsDGLgSTwxwBV/+O/ds8HnqTuXU4JLdjNsb2g7Zkdie2IfYStjf10DXP9ZB1ZvUjtT81UDZmt3U4njqHfTX/TMHbBFzG0IjgynlLs4xSjFtL7csVCe7H4MY7xF8CkYD/P0S+pv2ufS59AL1cPU/9wL6Hvwg/vcAKwQBBxsK1w2hEVAVUxltHa0gGyPzJO4lPCXgIkIffxpcFCQNoQUC/nH2e+/M6f/kCOFK3uncMtyf25Dbq9t028Ta+Nmx2LLWhtS30oTRndEN1FDYn90Y5YTv2/pnBToQdRucJAsrKjBMM8Yyui8VLKkmpB59FroPFAlOAkX9KPrN93P2vfac9yj4U/lg+yT9SP7n/zYCrQR6Bw0LRA/RE8MY3h2DIicmuygrKvoppyd3I/cdPxdHD8YGi/6z9n3vk+kW5ZPhLd8g3vPd/t1C3tPeMd+53pfd7Nt42SzWxdLVz/bNZM6D0ZzWKt3C5ijz1f+CCzoXaiKbKtUvQzPfM5QwiCs1JhUfHRZADmwI9gLc/en61vkj+S/5Xvo/+0D7k/ty/I38/fu+/Av/vgEKBUkK7RCXF0IeHyXeKlIuLDCOMDsu8ihoIi0blBImCZQAM/lO8ojsk+jN5XbjLOIA4rzhCeG34K7g0t/O3VDbjNgH1fnQU82Iyi3JnsqYz+/Wj9/L6t748AbkEskdiSfvLaswZjGsL3Uq8SMSHqoX+Q+YCdIF+QIzALL+ev4V/pH9Yv2U/Hf6afha95b2AvbZ9u/57v51BVANDRYAH30nvi7bMyc2yTUyM1YuHidZHlsVvgx7BPf8q/a88Qrubetx6Xzn3eWQ5G/jpuGt3/bdWNzz2f/WY9Re0evN+MrqyfHJLswI0tDaTuQ37+T8aQpEFUoefyZaK2UsviuqKcIkmh6sGRcVig/RCnEIpgZxBLMCqwHo/4P9Q/vM+IX1VPKy8GnwFPFO8574cQCJCXETOx6JKN4wQzcfO1o7GTj1MiosVCOqGeUQSAmGAuT82fjM9T/zGvEc75bsm+mU5o3jO+AO3WvaTthM1g7UUtKY0HrO+MsFy57Lj8090krayuPE7Uv63wcYE70briNwKVQr3ippKdYlhSDOG/AXUxODDmoLIglFBg8DawCI/dP5RPYe8+/v/uza68XsPe9x8z/6gwPuDdUYAiQ2Lvg1Ojv7PTs96jiUMigrgiJWGSMRRgp3BM3/Xfxy+YD2kvOm8BLt9+gT5bPhot4f3Lna+tl82cvY4dcP1qfTHNGDzhLM9MpezXDTndvB5Jjw/P5pDC8XTyCFJ8oqAivhKYUmhSDVGkQXpRMuDwMM7wqNCQcHeQSLASf9MPgP9MbvPOtf6LjoY+vM79D2fADwCwMY5SN2LpA23jtNPnE9DjksMnwqkyKYGkATbA0ZCc0FEQMxALz81Ph+9J3vCeqw5IDgwN0S3DbbldvG3NXdI92R28vYX9SfzgjKasZ9w9rF986R2m7ld/T3Bk0WbiDJKDYuOC0qKYglEiC5F9sRBBGjEK0OYw40EKAP3QufB7cB2Pjf78Tpj+Tj323foeTL7I/2zALNEEoeOyoqNE46ITxGO8A4gjMOLPUknh8sG1cXdxTbEckOUwvjBjgAJfiI8AzqSeSD3zbddN2V31riNOUM51nnc+Xc4JzasNJ1yn/C1b1pvO6+RccU1WLl9fSOBQAV2R/MJD4moySXHxMaYhYRFMkSUhSnGFAcPB0fHIkY/BDeBSn6Ve5N46LbYdlv24Pgu+kI9gwD1Q6LGXsipCiDLN8u4y94LwsvTy8KL3stWSusKC8ksR0oFsQNyASK/Mj1PPAL7D/qpurC63rsEO1p7T3s6umm5gnjYt6Z2dnV0tI8z4fKWMe/xdvEe8YczkHZB+SO8GgAWQ5PF/kd8yJvIwQhuR/fHqoc9xpKHAQexxxDGUIViw4BBPD4i+9f5vze5Nxi39Djm+q39H//7Qh1EUcZYh/bI4YouS2CMbEzAza2Nwc2cTHYK4MkVRt7Ev0K3APO/Vj6i/iz9kb0zPKo8XjvMezH6fznPuYC5YLkruMp4rPght1a2K/QnsjAwFW7Ebl8vJfHjtf26LH6uAwnGlIhxSOqIjwe6hnDGDoapxxxIFYlhShtJsIenRMLBVr0YeX92kDVLtWe2/PlaPGS/PYFsAwqESAU7BY/G24hfSmxMvw6EkCTQZk+kTZGK60emBIICU0D1wD3AGsCcwOEAgz/jfgW8YXqfeWx4nTjAeeA6wbwvfKY8djr/ePd2WnOrMLzuQa1XbTTuCPEwtVU57j1TQJRDsQU5RVaFrgXlxgsHBwkpiuxLggv1y18J1Qa6Akb++XtIOPR3SLfoeLf5p/tx/Ry+G35tvvN/6IFiQ59G8wpgjajQCBHMEcGQEY1PipbH+8V4xDLDxcQlBBcEPsMqQWj/PHzYezJ5t3l2OkF8KL1zvmA+8v4JPIY6orhmtgK0gnPC83MyBLEb8Ddvfq7qb9LzJ/d0u3E/Q0QGB0aIgIk9iSzImsgCSMtKFgqLylVJ7kiIxfGBkb35ul03q/YFdtd4MjlfOzD9E76YfwI/4wEigzDFg4l7jNQP4ZFs0c4ROw56yy2IWkZ3hOeETwSlhJ7EC8MZAVb/JryU+wI6izrMe9O9Z/6nfx8+2P3iPCr6IfidN1y2eTW8tTVz37Hsb14tE2v37FZv5zT8egB/L4NjhuXII4e8Ru+G10e0SQTLss06jT6L60mVRidBEXyyuUU4HbeuOB45s/q+Otv68ns6e7I8uP7FAxRH4Mw/TzMRFNGb0EuOa8weSkAJDsiXiI3Icob1xP6Ct4BFPkX86fxRvNe9iL50fpE+pT3vPPK8MTu1+2S7evt6OwT6B7hTNjNzbTBhLcLsVOv5LJrveXPpuWK9hH/GgY7D2MWfRgMHAMlzi54Naw5aThNLvoegBLVCaL/9vRd7qLsA+rJ5Rvi6t/c3QHfveda9V4Cig2oGpQn4DCCNXU4MjpxOgE64zjWNVEvHidbHwQYrw/dB6ACqQDP/l78vPlu97L0svH+8BDy5fO49OX11Pb49e/xWex75hPgAtok01jMm8ORu2m167KMtFm93s+I5jP35f4rBuYPxBfPGVkdUyUcL/c1sznHN/0tyB8iEyUKBAEO+CzxEu7d6jjmA+FQ3lfeb+EY6Tr1iAKgDYcXUSGDKe0tIzIvOEU+Nj/VO483hTJyKtIfqRbcEAANQAmwBYMBcvyK9jfyV+/I7cjttfCu9AL2pvN78FjuLezC6Mvj7N8u3EbYx9BHx3a+mLjHtke5nMS413Hr1vUR+SX+8QfaDysUWhoOJXYvvTQdNSYw0CesHhUYkRI9DLoE5/zJ9U3vK+l749Xgo+ID6B/uWvSh+90DoAwyFSEeKieTL/Q1VzntORc4gzQWMI4ryCaUIQIcrxbKEPYJpAL0+9f2DPPW7wftp+so7IjsKOvs6KTnFucT5jfkUuE13hrcDtv71i/PgseqxH7F3cfgztjcley+9Pj0TvVF+1sDKwqOEEkZcSJfKP8oCSXTIO0elR5sHCgYXhPsDWUHawCi+lT2nfPK8j/zovOs8z30TPay+hwBBQjzDawTxBmqHmAgtx9SH0wgTCH6HyocZhenEz0QWwt7BaYABP5J/MH5Qvba8z30EPY69Y71vfo2AQkBgvid8jf03ftWAGj9WPef82z1fPYb83nsQOgF6NLnlub/5PvjO+Lt33reVd6f31HivubM6yjwOPOf9Sv4TvxUAsIHwQu/D+0UsBmXHCYe3R4dH64fDiGNIQ8g8h2fHHob2Bn5F8kVCRSmEwYU+xJGEFwOWw4dD0EPsA7KDb8MPwyTC0YKHQmOCDAI4AZdBdMDxwFV/7/8mPrS+Jr3TfYE9Dbxou4c7CHpLubL48DhrN+83fvb5dqD2yTdUt1K2lbX4Nhm3VffEd3z3G3j4Ozv8lHzufKK9tv/0wljDtAOthBUF5Yf9iNmIw8hgSIuKEYscSoaJcUiAiT5JE0iQx3GGToZ7hm+Fx0TuA9AD1YPYw2vCiAJLAkTCfwGegNTAecBuQIoARX+Mvwt/EX88voY+Lr1gfVn9kr1K/FY7SvsX+xJ6j7l7N+33QTfN+AA3znbONcl1fzWx9ql2pjWTdXt2x3ly+kA6irq7e5L+FsCgAcZCAUL5xJhG1QfoR/rH0gi3SbfKrwq4yauI7UjtiRgI9EfDhxKGhMazBhhFXQR7Q8WEJwPMw6NDOELZQtWCoYIigYfBjIGbAVDAyUBcQAyAGD/Cf2a+qj56vl0+bn2NvPJ8Fzvye116y7ovOMm3yPd093x3Xbbv9dV1c/Uq9Zl2bnYyNRw1ELc+OWp6ZDoh+kM8CH6bQPnB5QIvQthFDEddiCEHzofBCLjJqoq0illJcQiQiSwJdIiqh2rGsga3BrnF0kTmhDsEF4RYQ+6DBcMIw02DfYK7QejBpoHUggvBmMCmQC9Ac4C0wDV/A76O/pw+y/6y/VG8czv7u9N7rDpSOSd4OfeCt7325LZ1ti12GXWnNO31SPaqdlm1cHWsd/K54bqtur57O/ydPyqBc0IfghcDMwVoh1LH9MdjB0GIZImjSn1JksiViGjI8ckTiK6HQAahhliG3gaLRVsEG8QqRI7EiQPIgwXC60LswuCCVQGTQU2BvYFxAOqAR8BRwHSAPf+avw8+7L7GPu69xH0VPJL8f3uLOvQ5nLiCN9N3QXcjtoO2dTXrtWh0yDVSthp2FXVx9b23pTmcukT6prtx/PV+xcEUgjRCV8NohXHHFMekB1rHgci0SXVJzsmyCK8IWsjYCSlIV0dyBoMG8kbcRlbFAoRwhHrEgERRA0+CyoLagtgCpcHMQXyBBEGYAWPArkA8gDFAT4BS/9M/Y38Hv2R/ND5v/Z39c/0S/IX7vXpuOY/4/zfxN2V3IXb9tn71zrVDdTE1T7YodfT1WzZMuF75xvpLOr17mr2XP+4BYEIcQrGDyEY4xxpHQgdex/dIyonlieaJAwiXyJuJDwkyCACHQkbKRv5Gh0YnRPLECQR7BFDEAcNUwpYCXMJMwl7BwkF4AMcBOsDeALcAAQA6v+y//b+bv37+0n7rvod+br2pfTY8s/wf+1S6TPld+LB4LPeN92w3KDbztdY1OrVttmp2SPWItfd3UPkV+e56Hzr/u8g+FcBxwVHBgEJLhF+GNYa3hppHDUgJSR9JloloCKmISojfyRKI+0fVBwVGwscNxuKFvwRghEgEyYS4A6RCwoK/QlLCggJygX9A28ENQV/AwEBt//N/1MAqP+U/W37EPsz+wD6RPcz9b/zz/EW76frDehX5DHiv+DT3lbdwtym20vYwNWc1zTb9toe2KTZEuCl5fnnf+mo7HDxJflwASsFfwW1CBcRmxcfGUgZmxuDH94iziTII3Mh1SCVInsjHyKzHw0d6xptGq0aUBirE5kQWRFbEr8Q8QxhCV8IhAltChQIQAS+AhQE9gT1AvX/nf4r/xAARP+f/HD69/kJ+pD44fV3817x5+4Y7G7p4OX34ZPfRN8i35rdt9s52dHWDdgh3MHcsdh92MDf1eaa6JzoIewt8en3LwDQBJoEaQZUDzMXgRiCF1Ua1R6qIaEjqyOyIXsgoCIcJB8i5R6YHeccUhvVGQ0YhhXmEjwSwhEXEJ8NoAszCi0J8QgtCF8GQQS7A8QDBgNuAQIAXv8V/4z+Pf2P+zX6OfnZ9xH26vNY8Y3uSuzf6Y/miOJN4Ivf9t573qXc3dl1123ZBd1x3BXZ59mk4L/l3uey6aLsffD39nz/kAOXA6kG6Q5XFZIWxRfjHEAh3SESIhsjKyJCIYgiQSONIfse/R0SHLUd1h+3HC8VvBDHEY0QrQ9GDqYLJAj9B0oLOwvOCDkGCQb+BIgDwAIBAfkAVwFiATr+Fvua+UP3Y/Uk8/3vo+kT5KXfWdp507HNo8tSyhvLCs7E0ZrRk8+a027d1+Tn58nu2Ph9/9gDhguAFLYZ+x9UKN4qACj2JxQssCtQJ1UkySBGGrYTWA8uCfsCGgB+/QH3hfE18WDy3/NH9/76Nvzq/iMGsw2oEl8YTB/uI2omQSnPK4AsrSx7LMAolSEKHMcXQRGUCtMD/Ppq8S3qfeQt3h7YmtKxzDHGAsEVv06/9bx8uEu1Fre8uyzEeNIv4WXndeX76bL4UggtEsYZJh+WH6cioivwMdgwQi9UMLIqtyDkGmsZKhX2DD4Fc/zL8wzuoO1a7SbqZOZk5ffn7ux09Tv/kQZ8C04Rkhk6IrkqFjKtNXE1jDSzNY82QTUzMasq4SERGZkSvgxeBQH9QPVQ7QXlwN7+28LZ5tU80T/O9sx7y97Jssl/zELN+siLxOnHU9Fb2erhI+xl8X3uNfEXADIN5xDiEqEXABj+GLwh+yjqJbwfKx+UHaoX2xPqEugOWAdAATL89fZa9XP29PQJ8IHuy/K4+Lz+hAQRCroOkBSIHJEj2ihxLEUv8C8YLzgvni9GLg8pJyJxG1QV3A+2CX0C6fm48jvtT+jJ4lzdVtk21nvTENAszi7M0MlCyJXJ1MimxOHDd8rv0ajXuOKl72byee7r9oIJnBRJFTEYLRyeHRMj0CsYLMIjMiD7IXoe1BWdEDgOaQhMAGf6qvWT8c3wW/GG7hTrxu2V9dz8gQL2B2QOZhXpHeYl2StaL9MxwjPgMxkzQDIjMXAsZCQ7HBQWtRAtCukBwPiM8CPrGee44jrdn9jw1JfSF9Id0bLOp8wIz6/PFcvLxcLHWc8U1TnY4d3f6D7xvvLj9WsAbAvfEOUUTBhyGEYcjyXKKQgjsxzMHQgfTBqrE4MOswh9AxAAFPyW9VbyWPOy8kLvR++D9Yz8NQL2BoIMNhOoGwckNCnhK00u5DHfMyEzCjEIL74r8iXtHlQYDxKaCxQEhPth8xXuieoE5t/fiNq/1+jVotQ00gvRMc/7zXbMYMxAzKvLWMytzQfSj9lJ55vwyPCi7iH47Qe2EOsSxBSeF8YaGiJ2J0Al+R+QH9wf4xrUE3sQxg3XB7IAePso95jzffNM86nwNO4j8jz5Tv9MBPoJ8hD6FioePiU+K/Ytny9IMYMx1TDSLzIueCgJIaoaqRWbD+UHCwA9+KPx9uzd6KrjXd7I2j7YvdTY0ZTR2dFgz73MpcwIzBvKxMlqy8vNhtKT3sXrvvCC7C7vTP+rDl4TORITFcsY8h96J0opUCPdHuIgUyDQGa0SBRDjC58E2v2m+Q32pfNX81LxMe5P7+T1vfwJASgGwgzDEvEYSSFIKXMs7iwxLl0wDjGjMOIu9SkOIxsd9xhWE6YLwQNl/Fr1N/DF7HLoEOIk3Q7aG9jW1rXVFNK1zbTNn8+WzhfJk8dryOjKcc5N1nTib+vW7drsG/XZAmsOnROWFRkW2BjSItApzCi3InMgICBRHaAYvxMXDxMI3QHK/Gv4R/RO87bype9m7SXwJveK/tkEOAkYDucUwR07JowrIS2hLYQvhTGjMX8vGywKJw0hBxs2FSgPFAiqAJD4s/Ed7Ujq3eUB4ALbYtio16nWFdWn0e3Pus+y0NHOisspykDLO8+x08LbvuWa7n3wavGO+XkGZRCyE28VHxZWGtEhNCczJUUfER2BHA8ahhTwD98KZQUsALr7OPfA8x/0EfRx8hzxXPXS/NoD1ginDXMTlRlJITMoayy+LIQt/C56L0Qu8SuGKGciAxwmFiMRbAo2A+37LPWv73/r6OfR4pjeH9v62CHXNtYG1LTQNNA60brP3MryyTrL2cxV0PHXaON87Bnw0e5u9TsEihC/E7gT1xVhGTAhcCcoJ0AgQBy7HHkbORbXD3YL5gViAK/78fcP9MHyk/N78ofx+/NU+78CSQmaDusS0RfjH1YpNS7SLS4soi22L8svySy7J8ghBBxKF9kRqQrdAlD8G/Yx8OHrLugU5GnfxNyz2hfZ4Nb61FvTT9L60ZbQLc/pywLKYsuE0enXreDc6gfvZu6Q89wCLw6pEbISqhVnGc4eqSVuJoohPhxAHOoa6BU4EIULFwZe/6v7UfgG9SbyR/Il8ofy5vSf+u8BygiHDx0Urhj5HjIoZy44Lw8t2iyDLuUusSxcJ2ohVRvTFp0RtAoiA4T8s/bX8JnsLekD5gDiBt9Q3CPabdjd15zW3NOb0oPRcs40yzfMh85B0OzRhtnL5v7xQPPQ8Gr5xgikE38WnRcVGGwbeCMAKW0lPx0fGy8bsBcyEPAKowYFAeD73Pcf9FHw6PDY8orzvfOp+NYAOgj7Dm0VoRqpHpQlhi1vMY8vai0hLRAtLiubJzoi5RpIFLQP2QpIA8P76PVx8d/saukm5ujiiuC/3xveztmp1q/W8tcI1krSms67zezNk8x3zG/Q3tre59Tww+/z7Uf5VAvHFHgUIBXJF7Uc1CNzKMEkOh1jGqkZDhaUDxULKAZZ/4X5sfbA81zwkPCn8r7z4fST+rYCeAprEQUY9RzZIJInLy+iMgYwzyySK/4q/CjuJCYfdxcfEUAMsgerALr5W/QJ8ILsfuk8507ksOIT4THfydsQ2pnYV9mY2PfUYNB2zcnMAcrQy/XR/9206ELusO0l8Pv8uguUFY8WHhZGFzYeXyb6J68jXhwyGUsWnhN9Ds8I4QEl+zP3qvOJ8Z7vXPFL8kz0hfd4/jUHTA/gFkgcxCDKJGgrvTDYMiowZSz6KM4m7iTwIP0alhL3C9IG2QKw/Qb4TfKF7Tvr8elk6P/l0eR/4zHilt+K3K3addsk2zfWIdAFzejKxcfmyUnSHd5u6HTuee6f8L798g6FGNMY+xdZGt0ghifoKMMjOBysF/sUGBG/CoMErP6R+HnzmO/d7XLuU/Fd81v1tfn8AfQL9hQ7HAgh5CQvKbwuWjJGMv4u9yoQJ2IjjB/eGnAVqA5XCNACV/4M+sX1s/FL7gPt6eud6nXpEuls58fkyeLl4Bvezdsh25rXzM/tyCrG88Xfx//ODN226mPu3urE8NwCAhPzGbEcoRwIHHMivStuKz8hwxm1F+ETCQwDBdn/FPmZ8nDv5uzL6TPrWPFQ9Sf3Dv0ICHASxRqVIg0ojSpGLRkyKzRbMeAsHSm3IxIdZxhjFcIQlQmDA9z+y/p994H1nPJi79buvO+n7n7slewn7c3rfeee4nbfiN7T23fUmctvxczAO77YwQnM4dpL6EbuI+7Q8/IE0RZ3H+EgLyGpI28oDSywKd8hVxr2FW8QCwei/YT3h/KP7ULqUugY52jpqO8q9gj8+QMBD9EZuCLeKYUunTDuMf4zPTRCMMwpayN6HXkXehJxDioK7QRxAAj9LfrI90324fSo8x70GPXC9EnzkPJL8S7vTesz5tPhF99U2uHQfsZ9v2O7JLnvujDD3NRf6UL0TfMr9lUG5BmgJckp1ylGKLcpmyxgKe8eZxbOEtwMgwBD9FftYent5vbmYedd5mnoi/DB+nkE8w4YGq8j9Sp6MEIzCzQkNBo0XzE2Ko0hRBoHFSQQAwxCCHkEEgHL/p/9avyP+776xfnR+AD67Puq+xj5Jvf19RfzIe/Y6Q3irtk31JTN0cE+t+uz1LTVt8e/udCn5hL3Y/wZAMUMixy9J/8uQjL3LqYq/Sg0JIEZ6A/zCn4EM/gr61rjs98u3wfjhejN6lbt5/U9AoIO5Bq8JrYuDDM/Nvw2TDRyMOgtbyqxIggZvRBaC5IHlAWSBAkDXQEVAQYCnAFkABMAuwBnAFwANwCt/r/7lPms9xD0Zu4T6GDgHNYnzNnDrLzztbqxKa+2sWO9bdIr67X+VwddChITBiGpK/EwcjNdMYAqViL6GX8PkwWu/lz5fvA35dHcnNmD26jiMu0c9SL6lQFlDQMaZiUFL8g1wjh1OIc0gS0nJnwhgR5QGSUR2AjGA+0BXwIWBBAGgwdtCOoILQiMBoYF3AXMBfMEAQM/ACr8Y/ik9YzyuOyG40bZ58/lyOvAzbmPtJWyXrLDttTD4NWd63kB1xBgFekX9yCIKcoshi3xLOMm5BtYETEGmvsc86Tv0esh5d7etdwj3zvlf/G2/rYIkA8JGHkh0Sm7L48zTDW3M1wu2CW1HDQVmxHhD/gMKQiTBIkDaQQtBjYJ8gyxD4wQTQ98DOYIogbjBW4FGQR9AUX9Gfg+8zHvKuq04wjcIdPayvPDH748uHC1y7aKuu3CDdDb4gH6Qw/dGS0bXB7bIw4n8yfnJxMkTRvREGEG3vpZ773pE+k26LrlHOTL5PXnbPHX/2sMyBQEHUwlfCrfLPotKS6yLIApySOQGvkQ+AqcCUUJrQfZBmUH3whNCtMMZA+6EfIT9xTxEpMNTQgrBasDZAJbARf/AfsY9q3x/uuQ5HXd5tbmz9rIu8JGvpO79bsuvobBEck+1vfquAOgF78ePB6iH1AiKSLKIAsfdhrPEqQKAABl8hfnDOR/5zHqFesF7PLupvNJ/e4JRxQKHBgkzipJLDgq+Cb0I0ohoR7IGUgSAAv3Bs4GpwcuCOIJQg3oDyIR2RGIEkETZBSmFNYR9QxdCD8FlgJgAO/++v05++b2PvI07Ovkq90A18jPrMpoyHzGW8PwwdvBx8CNwyzQcuaX/6MUlB9mINwdYhwRGhkXJRVpE1sPiwgF/s7wj+Z+5Mrp6fCU9uv67/7mArQIlhAsGGQenCRsKAgnuiFaG2EVjRFOEMUOrQsiCYwIMAlxCkgMaQ9SE7IWIBiaF6oVkxN/EqURjg+bDLsJdAa+AoP/+P2C/U78F/mX9Ebvs+jt4EXZrNKNzs/NfM27ybbEocLewAbAi8Yv2OTx8Q0LIjolyR0lGIsUpg79Ce0IzAc3BH7+2fTg6O7h3uVa8T/83ANlCsEP3RL+FWYa7B0rId4kwyUPId8YWxDVCSgHXwcDCOYIxQrUDJIO0w8GETMTlhYsGVgZPRfxE7cQfA59DBEK2gdsBqIENgLD/2f+If2q+m322vEc7XznLeED2u7UItMd047PVsr/xzbHM8N0wfzIgdrt9HgSYyXWJHUcbBdeEbwG4f/n/pH+O/0e+3v0lekG5AfqTPZZAbwK4hPdGYQbABw2HWEcYBtAHQAfmRvTEzkMpAYsBLgEfgcGC+YO/BKUFo4XdBWlE8wUjhZkFggVSROUEGQNiwpoB30EOwNaAw4DhQGN/1n95vnA9Mzvq+ty5/zhh9z92EnXGdbH0/rP2MrsxZ/B1cD3xlPY3fTiE5An2CinHxEVZApG/5746PcF+vT8RP5y+Ufv2Og77Pf2VgPSDmYYiB4jIOIe9BtiFygUMxVpGP8XQxPXDIUHugTMBP8GtQpwEOYWiBvnG3IYjBQ2E2wTQxOeEikSFxHaDksLrQZpAocA0wB3AXoB2QBS/8v7b/br8Ivs8uha5TLhgtwk2BTW39M10PLL2sipwya+DcFo0YnuIg8HJxEs2ySfGgsOnP6c8sDvY/Oe+jUA1v5K9pPug+7i9ZQAxQsuF3EgnyTnIoMdmRXyDr8NMhHyE0wTkxDFDNQJ5QcOBxoISA1KFUMcXh9tHWIYpxP6EC8PEw6fDgoQhhCfDhAKRAQ7AM3+4f7a/4UBbAKBAOz7TvU/7xLqEuZ14Q7dINpz2fjY6tS6zTzGHcGavMO8k8eH4roGESVYMOIpgB3jDwwByvJN7Dfu8/Xr/r0Cm/31873vVfQp/s8IkhO1HSwkfCQCILoYWhCKChkLABDsErkRsw5hDHQKqwhlCFULxhF2GRUf4B+RG30VJxGpDkIMogp6C8INgw7wCxQHUgK0/3X/wQCJAsQDKAMtAKH6HPTi7Unob+LL3B/ZBdg22HzVM9A2yxTIBsK9u2u/PNIf8IMQaCq7Mfgn3xjQCvT51+lO5YzsofctAPADlQAl+Sz1kPg/AVkLYRXLHrIlJSYvH3kUTgvwBmMItg0SEtkSXhH3D9INfgpPCLkKMxK7Gu0fqx9EG/MU2Q5qCucHqge0CQwNlg6UDLsH8gIFAKL/JgGUA6MFywQsAMf4mvGf6jzk697h2zvZotdU14PVq89SyAXEnL/DvP7Bx9fg+sUe8DLeL5AhaRPABKfx8OMq5LntEvqYBEAIfwFN+If2IPyWBGINURcsIU8nqiWNHEcRtghgBToI0Q6QE/YTvRK3EdwOgApHCKMLxhMqHFMgkR40GWkSLQzxB0MG3QZaCVUNcA8lDbsH3gKoAL8AaQJrBFUFJAMt/TD1ge1X5mPfuNox2trbRdsw15DROsz9xt/AWLxKvkXMpehWDZYqNDLKJx0ZRAsD+gnppOJa6A70CQAACBkHJf+9+EP5yP/PCE0SihshJHEoASR5GBwNHQfbBikLFRGcFIUU0xJYEIUMswhCCHUNjxZhHiggXhxEFtkP5Ak5Bj8Gegh+CwsOgg4oC4gFuwD6/mcAgwOiBXQEkf87+FPwzeg74qXcytjq1kLY69qF2gPTYcgvwTm+mr3pwhrZnP8iJUs0Siz9HNwOWf6Z6yTiV+a68T3+TgjgCvECJPl79tf79wTPDlkZzyK3KIUmYRyiEAcJEAeZCfMPtRWmFsUTKBC8DNkIMAeMCuESVBwvIU4f3BitERwLjwbSBfAHewomDBMNqgs/B90Blf4L/44CDwalBSYAN/iR8GvpxOEh2q7VP9al2TvaSNb6z/7J/sOlvvO93cYU3VL+nR8ZMLIq4RqoDMX+C+/P5TjpX/Qe/3cGFQh1Aq36LPeA+nsDaw9yGl4iRSdIJqodWxJvC/MJmgtpEBEWzxc9FHgOtQkxBzEIXwy7EiYaih9TH2sZzxE3CxwH9wb0CboMBw3jC78JJgbvAcb+ev46AcAEYAQ5/nX1U+1z5lrguNtm2MbWoNdS2fXXpdEmyYbBK71wvnnJW+LyBe4kTS7zI4sVAgrg+9vsM+js7wH8VAVwCWQGJP4993f1S/o5BfgSRB5IJQ8ofiPxGNUP7Az9DfAQNRZDGo0YahEUCYQDCQOxB20OoRXeHLMgwR3IFR8ORAn9B2gK7g05D3INywmtBGf/jPyH/NT+IAIXBOcAr/hf78Hn5OGF3BPY1tRv1NPVCdYS0k7LmsRRwIDBM8sw4NH95Bm8JmohRxXcCgkAKfRb71L10/7GBQ0ILQWl/QL3fPWN+VUDXRASHAUjoCWRIjYapxKwEOISyxUiGUAbuRipESEJvQI2AbgFaQ14FOAZqhwfG5wV2A9uDMYLvg14ENkQ1g3yCAwD/PyL+VL6Vv0BAPEAqP5U+PHvNujY4azcBdnm1uDVRdVh0xbPrMn1xD/CS8Rzz1bllABOFm4d/xdpDx0IdgBd+tz6eQDqBbMIQgiHA4D8iveo9h77MgV9Ea4aWh9OIO8cCRfBE1YVDxlmHFke9BxlF5wPAgiiAvwB8gYpDgEUaRf6Fy8VlBBsDb4MUg4vESgT3BFqDY4H5gAJ+2X4svk0/Mn9sf3r+hf1ie105tfgudz92WvYv9cd1+vUEdCuyfnEI8XJy/DYyusRAKINFBAqCzIFZwC8/Q8ArAZ6DQQRqhA1DEYF4P8X/Rr9vQAcCNEPeRUCGRUZfBV/EQwRLBT0GNgdRyDuHeEXuhBqCmoGrQZMCiwOjRALEYgPcgzYCdsIegmUC1UOdg/ADUMKpwVgAC388foC/LH9Ef8Z/4r8yfey8nXuSuv66OzmmOTm4YHe89nr1AjRh87TzSzQ+9Zx4VfsEPQn90D38PYm90z4UPwdA0gKYg/fEakRERBoDjoN4AwpDnURnBRMFpcWfxVsE3cRdxB2EM8R+hOIFWgVrRMbESQOzQvdCnELrgxODd4MnwtUCoUJBwkVCbMJjwqrCqgJ2QegBYwD7wE8ATUBvwE5At8BXwAO/nj7+vig9n70c/Lz79Ts7+iw5FzgvtzM2TbY09dx2I7ZVNpk2qfZzNkH2x3d198D5P7ofu479MH5Gv4IAnQG8AozDw4UmBnkHekgXSOXJYEmrSasJjYmUSXbJEQkvCLKIAwf2xzxGZgXkBUeE1YQGg5FDKQKbwlyCGgHcAaABeoDzAHF///9afwF+/L57vjK95H2IPVl84nxqe+c7Yfrh+lZ58Hkp+ES3jPaSNea1UfVZtaH2NfZAdr72sHced6F4IjkQ+nP7lD13vuUAN8E9QltDnMS3BYiHBkgPyNsJSwmWCVeJKIjkyKRIRYhAyEbIOQeJh3pGgAYcRVqE6URDBCZDk4N+QvoCuEJFgl8CCYIxwc4B0oG2wQAA84Alf56/LT6/vhY96H17fP68bvv9ezv6enmEeRc4UvePNs92CfWd9RC1EfVytZC197Xl9l/25bdX+Bw5MHojO4J9TT7MACCBQ8LChD2FPIZ6h6JIoslcCfgJ/cmiiVFJNEityEJIcAg2x/YHm0dVRt9GL8VZRMTEToP2Q3vDNkL6grOCb0IvwcCB10GfgWUBKEDcAKJAHj+bvxp+lf4o/ZQ9Rb0nPK48O/therq5k7j299i3D3Zo9bt1M/UGtZH10vXCdce2NfZidvY3UThceXD6gzxE/cg/EcB0wbZC7IQ5hUjG50fYiObJjQoPyhwJ2wmHCWpI3cinyHTIM8f0h4kHeEaQxjlFXUTKhFED/YN4wzFC/IKLApaCUkIIAeeBSMEzwKMAQ8Af/4R/Ur7NPkK9yP1NPNj8Xfvf+396v7ncORj4FncTdg71eTSqNID1P/Vu9bH1pLXydhD2lfc5N8q5PHpqfBk9+H8KgKoB28MCBHsFSUbqR+HI/QmKCnAKQkp0ic7Jq4kSCNUIkUhESDqHksd9Ro/GPEVjRMTEdIOZA08DCkLVwq1CQMJMAg0B6wFswPAAQUAJ/44/IP63fj59v/0NPOG8YTvTe3c6jjoX+VV4iTfttu12FXWg9Qd1E7VA9eE18HXCtnW2q3cH9+x4tTmVewf87b5BP9cBN0JlQ7EEk0XLBz4HzcjNyaMKCspwCjkJ4QmriQDI/IhjSBTH3Uech1FG8oYpRYoFBYRpg45DdkLmgrVCWIJiAiSB3MGxwR8AnIAp/5w/P752vfx9bDzkfHP7wPuXeuy6O3lDeOF3yzc6dhO1svUbtR+1bDWCdgZ2HnYOdnW2tTcE+Bq5JDp5u+H9oj8aAGiBnUL/Q8/FCcZux2bIfkk0ye5KQcqhylDKMsm4yQ6I5wh7R9fHjkd1BvIGcIXzBWZE88QhA6fDOIKTwldCKIHywbVBZcE7ALrABz/QP0k+9z48/b49N3yiPB37jHsZOle5lHjQ+Dr3JDZjNaY1JLTP9TM1W/X29de2LvZMdvV3E/fQ+Pt5xfuYvU9/MoBIwdMDJgQDxRZGNwcxiA8JOIn6CoKLBEsVivJKVYnDyUyI0ohbR9EHuoc8xrNGOAWeBRYEa0Opgy3Cs8IhwerBq8FYwQQA0EBK/8F/c/6Jvhc9THzV/Fq74jtkes+6T7m+uLT32LcO9lK1oXUb9NT1KDW/9ix2azZrNoE3HHdhN9U4/LnGO6z9VP9PAOkCNQN/hEaFfUYCx1NICkj+yavKpgsTC04LR0s0ylzJ/8kPSLTH3IeNh1nG7QZJBi7FSwS+A5kDNsJOwdqBX8EdwOSAhQBWf+L/B/61/a68w7wHu7k6+jp6eZl5DDhY9Qmx4a2K61OrsC3AsaN0+zjOu6774LvSPCt9Zz+QwkpFikhuSjfJ2Uksx/GGLQSEg4gD4UVsRmGGpoYAxeaFOoOxAqWCTkPnBcOHQEgZCBZH7Qa9RICDo8NjhBME6IUCRacFTASXwvHA6z+6ftm+sr4Fvdy9GfvvOeQ38zYgNNV0AbPrc6pzTDL8MfNxFLD3cSty8vZGOwo/YUIlA5MEVEQaAxkCNMIMQ49FGoX7RYHFFsP1AdbANX9hAFVCP0OCBVGG94eyx0HGjEXIxgqG3Ye0yCvIvgiVR+4GHESMg+HDtMO8Q9MEU0RQg7AB7H/0Pic9EDy9/Cv7zHuPuuS5bPe6NcC0xDQpc4fzvjNf82ezFLLO8tg0bDdUu3s+wYHlg+CEx0TCg8VC4QKjwyoDxgReRE9ENgNlAstCd8IEQyBETAYXxyCHgAf1xzpGT0X4RZoGAsbYh2nHdwb8Bg9FQ0Rmw2wDG4NcQ0iDKQI+gLG+0D1dvAb7a7q5ugq50LkEOAo2t7TH8/Ey8HJgsgRypLM1M1V0qPbNei+88r+VQn+D0QSBRKOETUQsg4JD2IQTxAIDwwQIBEzDzoO/Q9GE2gVWBfBGgMdKRwPGmEZ6xh3GJIYUBmTGeYYExilFTcS9Q+yDuYMbAoZCDcFjgBf+/v2xfL87X/pGeZt4kTe8tlr1kPSR86My3LJH8m/yPjKUNKe3T3qMPapAdoKiQ/yEPQRUxIfEmMS1xKsEk8RCA98D+YPQg7ZDtkRGhX9FY0WPBiSGbQYVRdHFxMY7hjtGCUZVhj0FoYVaxPYEAsPWg5hDMcIogTXAOL8c/iK9CPxCu7E6UzleeC920LXodJ1z0LMzsqYysfJm8qP0G/bTuig9KD/lwlvEMcSQhJCEgkT2RM1FKAUUhRiFAMVbRKcD1UPhhF1Ex0U7hWeGEIZpBarFKIUABWmFFsVGhfTFyQXOxUmEp4O9wtSCTsGzAIGACD91/i285fuM+rj5f3hzd7724rZldaV0jvPDc1qyyHJrcq00zLg0+xS+GAEOQ0zEW4RbRF8EmMTEBWvFnUY3xhJGnoYsRPJEBsRihIuEqQTDRdyGaEX5hSPE+ES2BGbEbMTPxXNFSwV5xLfDqsKCwfOAon+0/s/+mv3IfPV7oPqnuWy4Ovcc9qL1zjUuNHVz3PO+stJyq7OytfL4sruhfs1BzwP9RJvE60TLBTMFJwVZhcqGf0awxyiGowWRxTaE9cS+xGZE68WVxhxFxgWCBW7E8gRGREiEjAT4hOqEx0S4Q7zClIGggA7+8X3evVc8gbv3ush6CzjW93L2MDUBNHYzkHOEc70zG3LQs7a1Ivde+jk9LYBtQu1ElwWGBjSF1sXNBdpF6UY7RobHuQdmxtuGSoY0RXvEpsSaBRIFpsWNRdXF0kW6hPEEcYQEhBKEHAQEBBvDh8MTQiuAuL8SPiC9BzwE+z66DXm1uHX3CzYUtRP0LDMj8oUyrLJMcq9z7LXuOFZ7J34pwPlCxISaxX3F5cYcRmrGcgaBBwbHtEfZB5nHKcaPhn/FXkTPhOBFA4V5hTlFWEW3RX5E2cS/hCdD68O1g3uDH4LEwr7BooCEP4g+rD1hPAF7FXoseRI4Ojb59ek03rPzsveyA/HssZvyurQidlV5GDw6/sHBesMaRIRFqEX5hhBGnYb5BwmH/UhziGhIP0eOB0IGvQVUBPvEY0RKBH6EeoSmxOIE+MSvRGyDxMOZAzOCggJ2gdnBvIDPwFK/u36qvYm8r3taOnp5KXg2twN2TbVBtJrz9DMjMr6ygXOitN7223lovAL+4wE2AueEQkVEhdkGDkZaxobHFQfeSFoIpoiQCKEIJscOhghFMAQaQ2CC0ULwgt6DAwNww1eDTgMXAoWCF4F6wJNAc7/8v6I/nH+xP1C/Df6hfcd9BPwbuw16TvmgeOR4S3gkd5B3fzcfd2I3hDhruQT6bLtxvL892v8KgBVA1sGfAhyCmIMsg6/ED0S9xNZFX4WthaxFjQWIRVeE4MRIRDHDrIN0QyHDGQMTAwtDB0MqwvICq8JVAgOB+sF+QQUBE0DlQLoAREB7v9x/oH8PfrN90z12/KU8IHuxexo62zq3OnR6S7q6+rN69Ps1+3g7uDv1vDk8RLzb/QM9hz4Zvrj/Gz/HAKeBP8GPwlICy0Nsg4fEEkRJxKwEi0TshMKFEoUZhRkFBcUYhM9EuUQRw9uDV8LSglNB00FbwOBAan/uP3w+0X6sfhO9931ofR987fyFfKc8U3xRPGy8U7y//Ka8zv05PSI9Rz2rPY699v3kPiC+Zn6tvvZ/A/+Sf90AJsBlQJqAxUEtgQwBYAFugXzBS8GUAZ9Br0G+gYcBxwHHgcNB+UGmgY0BsIFRwXXBGEE5QNrAxADrgJcAusBhwEPAaoAWQAaABIA7f/V/63/rf96/zX/1v5w/vb9ev0h/bv8XvwB/Mf7hvtr+1X7Xvt7+7b7Afxe/LT86fwT/Uz9iP2v/fX9OP6F/s3+HP9k/6v/8f88AHsAwQAEAU8BhAGzAdsB+AETAhUCKgIpAjYCLAInAh4CBgL9AecB5QHpAfwBGAI3AkwCRAIoAukBjQEnAcMAVwDy/6D/X/8U/9v+qf6K/oP+ev6E/qL+0P7u/hb/Jf8v/zT/QP9S/2v/jP+k/8z/3f/y//P/8v/l/9z/3//s/wIACgAYABsAGwAfABYADAAMAAkAEQAcACgAKgAtADUAQABOAGIAgQCaALQAyADJALsAowCOAIAAcABoAGEAZgBuAIQAkwCWAJUAmgChAJ0AnACSAIAAXAA8AC0AHAASABsAJgAsACoAEQDu/8f/nv99/2L/ZP9p/3f/gf+G/5D/jf99/2j/Yf9r/3f/if+W/5//uv/K/8v/yf/X/9f/1f/b/+D/6f/1/wkAJgBLAHIAmADDAOoACwE3AU0BbwGFAZgBrAGlAaABfwFaASwB9gDOAKIAewBfAD4AEgD0/8n/nP9p/zL/DP/o/uT+3f7R/tf+2v7Z/tr+1v7P/s7+1/7b/ur+BP8W/zL/R/9e/3P/kf+i/63/v//G/9n/7P8FAB8ANwBRAHEAlgC4ANgA6wD+AAwBCwERAQQBAAECAfcA8QDkANMAswCXAHYATAAqAAUA+P/m/9P/wf+r/6T/jf+A/3j/df9+/4b/nf+i/6T/ov+P/3z/aP9c/0//SP9E/z//Mv8s/yb/I/8x/0L/X/+D/5f/rv+9/9X/6v/v/wYAHAA4AE8AYgBxAHIAcgB3AIQAlACeAKgAswC8ALUAowCSAH4AcABtAGcAYABjAF8AWgBTAE0ARgA7ADYAKwAcABIA/P/g/8j/q/+Q/4H/df9b/0//O/8p/x//Ev8Q/wv/FP8m/0H/Wv9y/5T/rP/M/+7/CQAmADwAVwBzAIcAmAChAKoAsAC3ALQAsQCuAKMAlQCBAGwAXABHADUAGwABAPP/4//W/8j/yf/F/8X/yf/A/7j/s/+n/57/of+f/53/ov+n/7D/tv+6/8L/yv/U/+T/9P/+/wkAEAASABgAJAAvADUAPwBRAGAAZQBnAHUAdgB9AH8AggCJAIAAgABzAGUAWQBLADcAJgAXAAcA7P/R/7//pf+g/5v/l/+h/7D/v//C/8v/0v/W/9v/4//t//3/BwAJABIAFAAXABAAEQAVABcAGgAgABwAFQANAAIA/f/0//j/7f/x//L/9v////z/AwAJABYAHgAuADYAOgBFAEUASgBPAFcAWwBaAGAAWwBRAEkAQAAwACUAHgASABEADAAHAP3/9f/v/+H/3f/V/8z/1P/W/9X/1P/O/9D/y//L/8//xP/L/87/z//Y/9L/y//J/83/1P/e/+f/8////xAAJQAxADQAOAA7AEAARwBHAEoASQBMAEgARwBLAEsATQBGAEIAPgA5ACcAGgALAP3/9v/r/+L/3P/U/8r/xv/D/7z/sv+r/6D/mP+Y/5f/l/+c/6H/rf+q/6r/tv+5/7n/tv+9/77/xP/E/8j/0v/i//X/BQAfACsAOQBEAFEAUgBQAFQAVABcAFwAXwBfAGcAYgBYAFkATQBJAD0AMwAlABQACAD8/+z/1//O/7z/rf+j/5b/kv+K/37/ev98/3X/eP95/33/hf+K/5D/lv+h/6b/qP+t/7T/vv/F/87/2v/i//L/AwAWACsAQwBRAFoAaABtAHEAdABtAG8AawBjAF8AWgBZAFEASgBBADkAMgAmACMAGgARAAsACgAAAPb/5v/U/8f/tv+v/6L/nv+e/6X/rP+1/8H/xf/S/9v/4P/o/+//7v/v//H/8v/3//f/+//8//7/BwALABEADwAUABkAGQAhACYAJAAgACQAGgAZABsAEQAPAA8AFQAQABMACwAHAA8ADQAXABgAHAAmACkAJwAmABoAEAAJAAQAAAAAAAcABwATABkAHgAeACQAKwAoACQAGgATAAcA///4//H/6f/k/+b/6f/s//H/9v/7//z//P8FAAoADgAXABYAGwAdABcAFwASABIAEQAYABwAGgAYABcAGwAXABUAEgATABYADQALAAEA+v/x/+n/4P/a/9v/0f/Q/9H/3P/b/+H/6//w//T/9//8//7/AgACAAUACAAMAAwAGAAXACQAHAAwACwAPwA+AFIAWABjAGIAZQBqAGUAbwBRAGkAOQBpABsAdgAAAIgAj/8oAj8EAwINA00C1AJ/AfUB6wAUBCwJhghoB0wD0gElAUkCCQPMAgQD+wSUBlAFyQM2AoABeQE9AeUAAAEBARoEVgXJA9ICsAHpAHQApACvANgAyQCJASkCAwK2AVQBVAHRAF0AWwCRAKQAkgCpAKwADwEPAQkBzAAqABgADgD9/4n/U/+o/4n/Wv8a/6j+gf7x/Zj9a/1C/TT9ev2d/Vf9x/1//Un9Rf2J/Q3+JP7E/hP/FP/1/qP+Pv4H/i3+Zf6R/vX+U//C/83/Zf82//f+1P6N/pX+uP7j/gz/Jv9B/zP/QP80/wL/B//3/r7+t/6Y/qv+2v7t/r7+pv6j/rr+lf5o/mX+eP58/o/+c/4m/l7+Tf5p/oj+jv6l/un+M/88/yX/1/4l/iv+FP9u/1j/Vv/B//7/0P96/y//6/7O/kn/if9T/2n/5v8+AM7/Tv8r/wP/qP5f/pj+0v4R/2b/av9W/zb/E/8H/5/+MP76/S3+gf6a/sT+Av8Z/5T+ef6V/n/+j/58/mT+gP7d/iD/JP+//of+c/5X/lf+YP5l/ob+1v73/k//ev9c/zb/Kf9I/1P/Wv9o/6n/6v8EACMAOwAaAMD/bf8n/wf/Vf/N/xYAQwA7AC0AFQCU/yL/2v7c/sL+pv67/rr+2f7A/rr+c/5H/jz+E/49/jn+Pf4y/i3+KP7r/d390v3d/QP+Cf4H/gT+E/4Z/lb+of7V/hb/EP8B/8P+rf7e/hD/dP/P/xwAXAB8AHAAbgCgANUAGAF7AaQBsQHMAaoBewGEAXUBdgHFARACHwIkAioC/QHVAZMBLwELAQkB3gCrAFsA1v8+/5b+m/1w/H37iPqn+QP5ePjg93P37vYs9pT17PQP9Efz3fK58ivzM/RQ9Xz2nPer+NP5yPp8+zr8dv0Z/8YAaALDA/sEZwa5B6UIkAmRCqsLhgwDDSwNOA1jDVINOA08DW8Nmw2BDSsNsgxNDLYL2QoGCicJEwiUBmUEoAGo/hX89Pkp+K72gvWy9K3zK/IX8M3th+st6Q3nI+Wt49viNOLL4e/hbeI149rjHeUQ6PHsVPMe+hQBMgi7Do8TcBZzGNAayh2aIGgiTiOXI/Ii1iAgHdoYLxVwEloQsw6vDUYNIw3fDEwMigvOCtUJSAhiBr4EsgMRA4wCLwIiAmsBvf+p/Zb7Zvk79sjy/e/37d3rg+ka5zDksOEr33jdOdzR2yve8+F45mTrp/HA+Bj/YwNYBWYGKwcMCE8JBguRDeoQvxMAFZ0UKBMHEbMOJwxKCtQJigqRC2QM8gxzDdkNNQ1fDHkLRAsbDBkNuw2mDroOKw6qDbcMQQ3XDKEL7ApiCT4IzQYxBVYEYQM2ApYA3f4U/cz7hftP+zz7C/u2+lH6n/ko+VH54flV+kX6zflO+eP4hfgw+Cb4dvgH+Yn5ovmZ+Zj52PlH+rT6OfvX+638p/3Y/k4AygFHA20ESwX9BaEGagdNCHoJxQrnC7oMNw1fDUcNHg0QDcEMaAwCDGMLEAulChwKbgnWCHEIsQfyBvUF6AQvBHwDjAI5ARcACv9X/jP+Yf55/Vb6xPZb9f72SPnT+X34uPYa9in2rfWa9MHzJ/Rk9SH2hvUw9IjzNvT49dr3Qfny+QH6tvmr+UT6Z/vk/HP++v9PAXcCUgMSBM8EZQXtBYgGRwcPCDUJlArkC8gMKw0kDeIMeAzxC5ELXguyC5cMUAzHCqwIewatBe8E3QO2AkYCsAG5AOT/p/4s/lT98PzX/P/7RPv6+b/4tvch93r35Pe591H3Cvdu9k32r/WD9Ej0J/TI84fy9PGM8gzziPOl8yz09vTX9Xf2ofaO9zz5Y/vh/QIAKwImBY4ICguYDmATBxe9F04U4hA5EPEQmxG6EXkSNxNVEnYPWguzBwUGRwbIBywIWQbWBd8Gcgg5BzAEmQLLAuQB+P5q/XT+8P/L/Yv75PkO+Hvzqux26CznHeXV4cffFN6Q3MXZCtZx0sDPf88p067azeSb8EH9MQgHD8QRnhLTE0kV1BZbGYUd8CEbJDEjWSDeG3UVIw5lCLoFfgVWBgIIKQqgC30L5wk9CHMHPgiXChAOLRLWFRkYQhhjFhgT9w64CsUGTwOcAFT+zPtb+Ofzi+5Y6MzhOdts1V7QYMyQyefGysSww5fEKsfuyv/Rrt1j7fv8WwlqE7QbFyEAItcfGR6vHgMgxh8SHnobvxcwEiwLIwTG/gD82vvb/fUATwShB2QKxQtbDF8N5A/4E64YTR1NIQ0kVCT4IdwdGhnXFEQRSw60Cx8J1QWqAZv8xvaa8MjqlOVc4RjeOduA2BLVYdEHzU7JNcfpxVDG/Mgdzm3WKOJ/8Nf+dQoDE0sZcx2BHv8cWhugG7ocsByRGokWZBKaDbkH6wGw/dr7y/zO/9UCAAZkCVQMhg4hECYStBWZGoIfRyOhJTAmUiQyIJwagBUdEtIPOQ7vDDALOAggBLj+bPiw8lzt2uj45MDhW9/e3HrZPdUV0XHNycrFyDjHNcdFypjPGNgH5QP0fQL5DRAWcRsVHrUdKhsrGUkZXxpqGloYxxTvEJkM+AYRAVz8HvpN+yX+2wAeBA8IxwvhDpERvxRZGZkezCI+JUAmkyW7IjEeAhnrFIMS+hDeD9sOGQ0uCtQFBwDN+Qf0oe466vPmPuQg4tjfEN2N2XPVhdGHzs/L7sgQx9rHcstw0hvewezu+84IURLOGDscbBzJGW8XXRejGEsZIxgVFiMT6g4+CfICU/2y+er49vlP/Mj/CARBCDcMMBBSFPcY2h0zIk4lFSf+Jo8kgCAKHAoY4RSzEi8RLRDCDkAMPwjyAhv9bPcG8h7tROln5iLkL+Ih4KrdjNrI1gTTH8/iy/jI38YHx9LJu9Cj3O7rP/unB/kQxBdmG0MbUxjmFQMWpReNGOUXZBbTE9oPHwpiA5f9fvkB+Hv4c/r//WsCWwcKDIsQeBXTGuYfHCTnJjQonyedJOsf4hpwFtwSUxDEDvUNJg1iCzkI1AOl/lj5Q/SV75jrvuid5vvkcuPC4aff/NtH2OHUPNHRzCbHgMO6wzvHGM/R23/siv3cChYUoRm2G0kafxbSE1AU5BZjGXQashkEF0USrQv/A7D8iPfH9Yb2sfho/FABEAdvDOkQVRVgGqcf7COlJvMnlycPJbEgiRudFowSlg/wDTsN0AzyC6kJuQWdAPD6K/XT7zvrB+g05nzlf+VC5RzkLeFF3G/W9NAxzFvH6sKowYjEJ8x/2ILn5fZCBOoOUhacGRcZihbOFHoVnxevGcsayBrAGEgUMQ4wBzAAPPrh9mP2yPeB+pH+DwQGCl0PPhSCGTcf9iNcJtkmUiZ7JLEgfhuLFusSrhAxDxMObg3tDIsLWwiIAzj+8vgE9I/v/Oty6dLnhudS57DmRuQ/4DrbaNVpzwLJPcPKv86/T8MhzJ7a8evA+0II/BHYGJ0bKBoUF6gVOxcAGvAbjBwZHLgZoxSZDZgFnv2Q94f0IvSo9dj4v/0rBA0LKxFrFksbaCCkJLgm2ybTJbEjCyBiG4gWSxJyD8kNuwxNDA4MRgv1CAcFJADU+rn1/PDy7PDptOjg6AjpP+gP5iDidNzE1ffOkcjjwRa9lLydwN3JT9h+6az5kgfwElAayxx+G78YMBftFwsa7xsBHW4duhtfFt0OEwdE/x34qvNd8nfzrPYp+3QA3gbxDUMUiBl0HiEjSiYnJy0muSMVIN0bZRfoEpIPOg7qDaMNnQ1gDeULyQgnBKX+I/lE9AjwnOyG6gbqZOpv6iTpG+al4djbXtVJzpLHccEUvaG8xsCkyiPZ4+nA+awHThP/GoUdIRyrGUYYkRjmGZgbAh3lHagc6BfOEBkJCgFM+ejznfE28hr1jfkd/4sFkAzmEjUYpxy1IMYj0iQhJEYihR8sHKMY6RTQEQMQIw9MDq0NGg0DDKkJzgUDAfD7D/d+8m7ufOsc6q7pheme6NHmleP63jDZTtJwy17FAcBzvUS/y8Wq0WjhuPHb/6MMLRcuHSMedhyPGrMZHBpBG2gcQB2dHWQb9xUUDwUIHQCK+I/zdfG38QP0QPiU/QIEYQtfEhUY5hwsIdUjSiQXI8ggmh05Gv4WBRTxESMRvBAOEGMPkQ6/DHgJBQXs/576t/VX8ajtRetQ6s7pIOlG6JXmj+Mf3wjal9T2zmnJmsQmwqDCwMYy0Cne8eyU+vgHCxSpG5EebR6AHFgadhltGTMZehluGi8aYxfeEoANsQb2/kr4tfNF8Tfxu/Nc+Ir+AgbhDdYUYRqQHjch6yH/IPoechwPGjYYyBavFfkUIxTgEhYR4w4fDLgIpAQJAIP7WPeC8yLwhe3l6/7qNepf6SDov+bH5AbiSt7e2QnVA9A8y8XHs8a4yJPP7tqU6ML1twLkDhIYvRyeHU0cKRqrGL0XEBfpFhUYZxkEGXwWrhJ1DaQGTv/J+AL0b/GB8RX00fho/0gHBw97FZEaEx5yH8we7RyDGlMY5xY7FgwWNRZNFqoV/xNYEb8NVwlkBGr/+vpf96n0bvKr8HTvru7l7fDs7+vS6oTp2ufC5SPjF+A43MrXC9MDz73Mnczxz3bXHeK67bf5rgXvD9wWgBpeG2UavhgrF70VqRTpFA0W0hZHFpsUzRFRDUQHmQCq+jj2svNG8131HvrnAJkI2Q8KFs0ahx3SHQ0cJBlOFjsUXBOHE3EUvhVzFt0VohPsD0ALEwbdAEL8pfg19pz0bPOM8hHy3vHB8Wnxs/C/75Lu/eyn6sHnh+Ts4NLcBdiP01nQz85h0NTVa94V6IXy7/2aCJcQbRXWF4EYGRgHF1QVpBNFEy8UOxU+FYUULhNtEMMLtwXD/w779feP9jX3P/qh/y8GmgwBEjQW1hiOGXgYMRbMEwgSRRFkES8SLRO9E0oT3hFRD+EL7QelA4f/+fse+S/3E/ZW9VD10fVh9or2TfZ59Rz00fHf7vvruehD5U3hQd1L2a3VHNN80RzSU9a43YfmyO/H+boD8wu1EfgUZhbrFpMWHxUGE8gR1hFuEpASzxGIEOkOXAxLCLcDJQAM/vr8Fv32/qoCVQfxC+QP2xLNFG0VsRT7EiAR3Q9qD40PGhCxEOwQ4xDzDycOqQuwCGwFUwKn/2T9D/wk+9r6Rfoc+pn5cfis90z2JPW18pbv++wJ6gbn7uOx4JrdcNp71w3VzdMA1UPZ99/X58bwdfoeBOYLAxHUEwIVNhX6E1MRcQ4uDZ8Njg5JD3cPZw9RDyQOPws8B8wD5QEdASsBNwL2BPQI9AzyD5YRQBIqEjIRrg8qDlENag0nDh0Pvg8FECYQ2g/TDgwNsApaCOsFmgP5AMb+Vf0t/GD7VPom+Zz3Kvaa9NLyufCO7nHsNero56HlQuOc4Lndfdrg1/jVotUY2Izd0eT+7Br2hv/dB9gNWhG4EtASyxGzDxQNfAvVC2YNWw+0EBoRJRG1EJQOmAouBhEDjwEXAYkBMgNtBpsKQg5jEEYRixE/ESIQog6mDakNhw4bEGIR9hFsEksSPxFcD7sMxgnHBrkDVwEf/1D9uvtu+kj5+ff19qL1qvSJ8ynyPfAJ7tbreukE5zrkNOEU3vPaENi01UDU+tTo2NXfEujx8E362gM7DOYRUxR7FLETIhKhD/EMzwuwDNMOrRBREc8Q7g9oDj4LjAYEAmP/xf6n/3sBhwTuCNcNvRGrE/kTXxMVEm0QBg9uDtsOPxAoEnUTsBM0ExYSURDpDQsL1AdxBM4B0f/b/QX8kfqW+cf48fet9vz0bfMU8mzwFu57663o1uVC41Tg89xf2QzWgtO/0ePRU9Uy3ArlrO7P+AkDaQw0E24WoRZxFWkTbhAeDQ0LOgsXDTUPahBBEEkPzA3xCmUGWwHo/eX8Cv56AOADhAgBDsoSfhX7FRgVdhNnEaEPvA4LD5AQxxLfFAcW4hWAFDISgA8vDLUISQVHAtj/2P1g/Lf6WfkA+P72vfUf9M3y7fDv7n7s6+lb51jkd+Eo3nbaLdck1NTRSNCx0LXUcNx05uDwVfu5BS8PDRb9GEQY3hU7E3kQgg2EC7ML5g2OEPwRRBEBD00Msgi6A0r+evqh+YX7R/8MBK8J1A8IFQMYbBgvFyUVwBL2EHEQPREFE2MVgBd8GAIY6hW2EhEPRwuTBwAEAwG1/gf9jfv4+Uz4hvYe9dzzlfIR8ZDvF+5P7O3p+ubc4zXgTdxA2C7UYdCqzZDMUs6K1H3eDOqx9RkB6wvcFCwa+RqNGIgVCBPKEIIOkw3mDmgRixOeE+4QzAwDCEQCGPwf9z71vPbg+sMAugcRD4kV4xlrG4cabRjHFU0TJRKmEnoU6BYgGWEa7RmWF9MTSw/oCh4H+wNAASn/nv0Q/Jj6p/iU9p/0vfIx8c/vse587cHrFenR5Rvi+91H2SbUds9/yxPJusi5y5LTj98j7Tf6SgZCEbkZHx6zHQcadxY9FMMSgxENEdoRNhOzE74R4AylBkIA9/l+9DTxkfFX9Zz7fgP2CzMUpBoTHpAeIB0OG4MYPhZwFU0WSRgkGvwagRqcGFoVARFHDD0ISAUWA0gBwv9H/m/8Lfp994r02PG/72Duhe0D7SvsC+qz5n3imd0Z2AXSHMwqx/vD+8MTx0HOpNr86QD53wW1ECYZDR4VH14cOxgbFjoWxxaTFlkW1xXGE8sPiAnIAWr6Z/Qc8C7us+/F9In70wJNCsMRShhuHC4eXx41HmQeLB5yHfIcuBw2HKEaKRgxFfwRGQ+vDOYKlglpCKwGxQMrAEf8Jfgu9Prwye7b7b7tN+5x7uzt0OtH50vhhdpR1AnOSscZwrG/2cAkxXjMktg86MD4Mgd6EZYYUh1WH/gdxBoYGcEZcRuUHKsbvRgIFMEN8gVH/fD1oPBg7cvsR++D9ND61QA7BhkMFhOUGUAeQCGtIzEmWSchJv0ish6dGhsXCBSOEf4PUQ/8DsMOMw5ZDLEIWQNy/VP4P/Rs8crvYO948EnyI/NP8q3vTeua5afeutds0d3LT8fMw6XBOcKCxQvLhtQ54iLyMgGMDYcWTxyRH4AgCB8eHeccHh76HkkevRu0FpUPewcF/033mvHn7VXseO158Vz3Uv2cArEHwA3zFNkbgSHFJcQogSoIKgMnQiKlHJ0XDhQBEkwRMhHpEAsQfA4jDGsIMwNE/eb3Q/Rj8tnxF/K08lXza/NK8t3vYOyq5yniLN3r2EPVMdGdyy7GssIBwiPEA8rO1J3jZfRgBCgQDxeZGs0b5BowGUMZfhudHq0hLyMZIYIbhROlCQv/fvYb8Qjui+3s72T0s/mh/mUCIAVJCLINRhSQGskgNybRKQ4rqSmJJR0fjBiFEwEQbg6jDmkP1Q9dD7QN8QkBBH79ifcd8zXxi/FP83H1mfd6+LX2JPO17uvp7eT84PDe4N0m3MXYp9MUzq3Jw8ZbxlPK89Pz4Szx9f40CbsOjBHkEtcRXhBsEWgVBBuUIGsktCRtIEcZfxB/Bub9jPi39V71nvdn+2X/PQIEBNYEOAXsBgoKkg24EVoWZxrbHIAdWBxXGa4V0hLrEMIPiw+hDy4PKw66DJkJ9wTv/wL8bPdH9LD0HPbg+Or5DPqH+mr4FvSR8k7xtvBC8f/vXvAx8Mbt6Oon5qDhruA63bXZk9jx2F/dQuRK6ovw5vXP+In7I/y5/Iz+rgHjBtEMwhFQFjsZmBnIGJ4WDBS5EegP4w6aDqYO/w7NDrINUwyvCrQIvQZSBYAEfQQRBVEGhgcMCRILngw8DTAM1QtcDMYMhgyoDKgKVwrUCsUK6gobBzkF/QKwASsBX/8f/Ib6xPoX/Mr7rPik96X2qvdN97X1VPON8Drwsu7B7PrqOOgs5/jk3+Gr36Lcbdyo3tXh9Obt6y3wKfS+9tX4Kvvd/Ez/RQPxB2sN4RJ2F/AapRy3HFkbpRgwFiUUNBIkEXMQug8xDxkOSwx5Cn0IHwciBr0FnAWlBokIawgmCvsKBQunCyEKQwmGCZEJ2gnxCM4G4QeuCOAIVQfYA+z/zv5j/Rv9RP4e/YL8//lG+VT47vZV9D3yrfES8dnvvO1Z6qDomefV5XnlB+Of4Mre1dxL3VrgVeQK6TztsPEs9kv50fte/mQAygJ5BqIKWw6dEboUvxbyFnYWKxXuEjcRNRAQD70OXA/nD/MPXw/GDq0NIQx7CkQJcwifCckKUwoYCosLOg1pDUoMkAp+CREJLwnGCo4KAgrOCkwHCAhyBGMD7QXBAcUBvf2w+WL5yPoD+ED3wfVd8pbyFO7v6i/oC+Zt5WPmjeR+41Thxt1Z2zTYQtcS1+zZq9/J5wjvh/Zn/E8AKAKBAq4DSQWKCBgO2BMUGLwbzRwQG6oWVxHXDMIJKQmzClwMFA5kD1YPKA6uCwoJRAfpBiYI8QoiDo4RRxQqFd0UwxONEqcRhxEWEhITBhTyE1sSVA94C4EI+wMXAu7/hfyY+wz5uvno9/PzJ/Hu7e/r9Oo/6h/q+enR5zzlDeMN4SrekduH2DbWpNQ40//SotJy1Eba5OEZ6dTv9vZY/cUB1gThB3cKNg7UEyIYGBtBHVEedB13GXIUkxDtDS4NxAy8C+8KmAq0CXYHlgWjBCsFXAcFCosMdg+rEsEUghW3FV4WFhdWF50X4xe8F4MXgxa+ExcQ6Qu5BzIESQFRAIn///sk+f31bfMY8/Lwyu4H7fzr7esN7HbqbOnG51Xki+JG35jcXNrL14rWXtXp08rTqtSL2AzgwuZi7ef00vvMALIDUAaTCU0NwhJKGOYboR6UIKQg2B0+GswXjRUxE04RXA/IDekMpguxCZ8HfgZ3BqIGIAdaCG0KBQ1jD3kR3xJpFK8VyRWVFWUVExVCFB8TZREjD7IMvgmbBiADBACz/Zv7wvke+BL2T/Tx8hPxd/D87hLuv+0R7ELr+ul+6KvmFuUh4+vgg99h3cHbBto42WvZC9qv3efi+edr7G7x6vaA+vr8MACDA0MHIQwSEV4VcRhEG9McJhxAG14aQRnnF8kWsxVqFGsTIBLkD2QNcwuRCf8HGAcJB/0GcwcUCHwI5QiHCZUJnAlZCe8IZQmJCMUI2QeGB/8FFAXgA9cBuQGs/3r/LP7S/Tf9svsY++352vgO+Df30fZd9of1j/WI9PfzWvOm8lXy2/Gs8Unx2PBw8NvvGe+c7ifuee0D7fvsme1u7j3vdfC08e/yH/Qa9Tr2k/dI+Xb7yP0/AM0CRQV/B20JMQvoDIIO+g9iEbcSyROqFCwVcRWBFUoVEBWdFP8TahOhEucR8hACELUOVw2gCxwLSA3uCUEFrgTHBCAFrgPhAuMCfAKCAfX/Vv/T/gb+yP18/t7+KP64/ZT9HP1E/MT7H/x7/FT8F/zn+4X75PoH+oL5N/kj+a/44fc59232jvW69DD0o/MB81ry6vGn8VrxMfFN8YXx9/GM8mnzPvQc9TL2Wfel+OD5WPv8/NT+qACDAnoEbwYvCMcJNguHDJwNgg5KD80PThCxEOoQBBEBEc8QghD0D0MPaQ6KDZEMbgtQCgoJ3AeoBmkFQwQdA/cB3QDI/8X+0v38/DH8h/sE+6b6bvpK+jb6MfpF+kX6YfqN+rb6+vo0+237oPvL++f73fvP+7n7pPuK+2X7Qfv8+qT6OvrE+Uz54/if+FD4Cvjd99T36fcI+Ej4nvgY+Zv5JfrI+n77O/zm/JP9Mf7b/nn/JQDbAIMBKQK1Ak8DxQNKBMkEOAWoBQkGdgbeBkEHjgfcBwoIJAg1CCoIHgjyB54HNwe9BjoGmgXkBCkEZQOfAtMBFgFcAKr/9/4//oz98PyB/CL86vvN+8f7zfvh+//7Gvw3/FD8d/yb/MH86vwI/Rv9Jf0r/ST9If02/Un9YP15/Z79xP3n/Rj+U/6I/q7+0/72/h3/MP9F/3b/mf+i/5H/hv96/2D/Nv8U/wH/7v7t/tr+y/6+/sX+3v4V/z//fP/L/w8AsQDxAC4BjAHsAUECpALwAvECHAPsAnoDHQNkAswC5gJsAp0BVQEBAYwAIgDX/4//Q/8Q/wT/uP59/g3+q/3S/bP9TP32/C39BP3W/MD8rPzL/Kf8tvzg/Bz9PP2H/QT+Nf6M/vv+RP+I/wAASQCHAPUARQFqAZEBuAG5AdIBtgGvAbsBhgFlAUUBBgGeAF4AKADa/6f/dv9n/13/Rv9G/0X/Sf9Z/3D/mP/P/wEANQBcAHUAgACPAJcAlgCaAJUAmgCeAJEAgAB7AG0AYABVADYAKwAUAAIA5//I/6X/df9G/wb/y/6M/l3+If74/cj9nf19/V39Sf0x/S79Jv0q/Tv9X/2C/bb97P0u/nT+vf4J/1T/of/r/zgAgADLAAYBRwFrAY0BpQGrAbIBqAGbAYYBggFvAVoBRQEuARgB+wDiAMkAswCjAJcAkgCEAHEAYgBSADkAIQAOAPr/9v/x//T/8//k/+H/zv/F/73/vP+6/67/rP+p/63/r/+j/4//hf91/2b/Wf9B/yr/Ef/5/uH+u/6e/oX+Zv5U/kH+Nf4w/i7+Nf49/kv+ZP6F/qb+xP7m/hH/O/9l/4z/uP/a/wEAJgBBAFoAcgCNAJ8AsAC6AMYA1ADeAOsA9QD5AP4ABAEEAQAB9QDoAN0A2wDPAL4ArACUAIEAYgBWADUAIwAKAPr/0f++/8//h/+H/2r/Uv9C/zH/Mv8m/yj/Hv8p/x7/G/8X/x3/Fv8Q/w//Bf8D//n+9P7y/vj++P75/vv+//4I/w//Fv8o/zf/S/9o/37/kv+m/7X/x//b/+j/+P8IABcAKwA3AEEATgBXAGEAYwBvAHkAiACZAKcAuQDAAMwA0ADOAMwA0gDVANUA1wDNAMoAxwC+AK4AmQCDAGwAWgBDAC8AEQDz/9n/v/+v/5P/gv9u/2P/Vv9F/z7/L/8l/xX/C/8C//P+5/7f/tL+xf69/rD+rv6m/qT+pf6q/rP+tf7E/tT+8P4F/xv/Of9S/3D/if+j/8L/3v/1/xEAMQBHAFcAagB5AIYAkwCXAJcAngCiAJ4AnQCcAJAAhgCGAH0AeAB+AHwAfwCFAIAAhQCBAHwAcQBlAF8AUABPAEEAQAA5ACsAKQAfABUACQD///T/7//l/9z/1P/N/8X/tv+i/4z/fv9s/1//SP8v/x7/A//0/tn+yP6x/pv+mf6Q/pH+gf6B/oP+jv6d/qX+tv7J/ur+Af8j/z3/WP97/5n/v//f//3/FgAsAEMAVQBpAHsAhgCOAJoAowCmAKsAqgCqAK4AsAC2ALgAtACwAKcAoQCSAIAAagBWAEEALgAbAAkA///m/9z/yf+//7n/rP+m/6X/qv+o/6j/p/+r/6v/tP+4/7X/uP+0/7X/s/+u/6n/nP+R/4H/b/9i/1j/RP8t/yT/EP8K/wP/Gf8d//r+BP///gn/C/8O/x3/KP85/0D/Uf9g/2n/cf97/4n/lf+o/7z/0P/k//L/EAAuAE0AXgB1AIsAmgCzALkAwgDEAMoAxgC+ALcAogCTAHsAagBTADwAJwAIAPP/2P/I/7f/o/+S/4X/ev9x/27/af9m/1z/Wf9k/2f/av9r/2z/bP9t/2v/Zf9o/2b/aP94/33/jf+P/5n/l/+n/6j/mf/E/6r/tP+8/7j/xf+9/8T/yP/L/8j/zP/E/8H/w/+//7z/w/+7/8L/yv/I/+D/6f/2/woAFAAlADAAPwBOAFoAZgBoAHUAfAB/AIMAigCLAIcAggBvAGkAXQBNAEMANQArAB8AEwAKAAAA9f/o/97/0P/I/8P/tf+p/53/kP+G/4H/dP9r/2D/Vv9V/1X/V/9P/1L/T/9S/1v/Yf9s/3P/hf+O/5f/pv+0/8X/1P/g/+X/7v/6//7/BwAJAAwACQAOAA4ABwAIAAMACAACAAIA/f/7/wAAAwALABAAGQAgAB8AIgAlACMAKQArACkAJQAfACIAIwAaABwAIQAZABoAFgAYABwAEgALAAUACAAEAAEA+P/v/+//7P/i/9P/z//D/7v/rv+h/53/jP97/3P/Z/9Z/1L/Sv9F/0f/SP9J/0n/Sf9L/0z/T/9S/1f/YP9p/3j/if+Y/5//q/+y/7r/xf/L/9H/2f/i/+j/9//6/wAACQAPABYAHAAjACYAKQAuADgANgAyADAAKwAwADEAMAAoACAAHgAcABcACwAHAAIA/f/9//r/7f/p/+7/7f/q/+n/6v/l/+D/4f/g/+D/4P/a/9j/0P/U/87/yP/F/7n/uf+y/6z/o/+e/5X/kf+L/4X/ff9s/23/av9p/3D/bf9p/2z/cv93/3L/c/9x/3j/ev99/4j/gv+N/5H/mv+h/6j/tf+2/7//yP/Z/9v/4P/w//n/BwAJAA8AEwAWABYAFgAQAAsACgAAAAAA9P/q/+L/3//a/9f/0v/I/8D/tf+6/7n/vf+9/8H/t//I/77/zf+9/8z/xP/R/9H/3//b/9L/6v/V////4/8yAP//mQB4ANsBegIWCNoKMwagA1v+EwAUAmoAuv8EAkcDOweqBlsCpQI7/3gA3f70/En8ovuO+5/8Pv79/J8B+/88BIUGAAASAe4A1QQOCeAHHATwB5gFxgUoA1H/3gJFAP4Asv69/eH7WP2x+4b7Rf1K+wv9hPtP+sz6Zfva/PH+X/3C/H7/+v16/7n+GP5QAFr/2P+U/5L+PP68AJ3+Av+f/n/9/f7V/Rb+Hf7Q/ab9MP+j/W39kP7D/S3/Gv+N/lL/1/4e/63/qv6r/tf/Av9W/wL/N/72/sD+8f4z/5f+Lf47/4P+qP4G/4P+W/8T/w3/Fv/T/rb+ov8F/yP/kP9a/4r/tf87AU8B8AEeAPL/AQC4/9oAvP8n/kX9c/xx+6P8r/wY/Xn8QPtX+/b60/uc/Gz9//wu/b79Bf4b/5X/EQE3AVgBYgHsAOQAFAKJAkQCHgJCAfwBrgHcAYQC5wGiAWgBCQEOAXQBzAEEAnIBMwHKAasBygGpAWgB+QDoAIEA7f9+//P+3v64/XH8tvtg+6T6gvn7+ML4ufet9in2XfXy9JX0OPRA9NDz3vPo8wD0avRK9Uv22fZn9yH40vk1+5z87P1Q/7UAtAIVBDIFOgeICKQK1wteDGMN1w7gD6IQ9RC0EAAR8xBZEcoQ5Q+KD5UP4A6qDdAMgAvaCqIJRQheBtoDkgK0AV0A4/0A/G36tfjL9gf16vNV8hfxcO4n7LPq4ukd6MLlaOM14sLhzOBA4G7fg96W31TlN+tb7fjsrO+H9D36QwCqBR8IogoMEFEWSxo2HSUhMCRFJcQlSyY+Jo8mEiawJIEfdxwAG50ZphaUErYO6QqACEEHIgYzA08CXQGNAIT/yf8iANv/XP/p/mD+Xv28/VP9tPuz+CX2SvOS8F/t/ena5MvfAdwK2bXVctK80ILRGtec213bGNiu20PlgO5p8z/3//mE/2gK0xU8G08bkB6eJCYpySo9Lc0t9SwhKk0niSNSIR0hxR1wFcYN4gp6CsYIogTJ//D7/fv9/vsAHAAkACkCCwXVBk0JKAxmDqwOeg0TDJYMGQ5ZDfUIAAMG/y794PqP9eTtPOaF4NPb/ta40dvL/Mb7xL7E+8jVzj3RKs7ozt3YWuTT68jw4vRH+cMDUBJjHFodqx7tJPorhjAyMyEz6S/ALdUt+yvoJkAjwx8kGbcRHQ7TC5AHYQIb/m364fjl+vv80Pvv+Sv8lQAGBEQGaAj4CacLvw2oDmYOOA+cD0ENawg/BU0EDgIL/bX1h+7f6BzlmuAE2TPQ18rUyBfIrsaSyerMLswtyZPN9NhI4Vjlr+ib7Zv0KgIbEN0VOBSYGAIjASzDLiswhjC0Lggu/y8dMJcqviSKIFocZxdTFa8RbAp6Asv/n//r/h79DvuJ+HT4mPyfAGsBsgDBAkQG0AmzDLgN6At5C68Nhg/oDDYJmwa7BEMBmP2O+BHyfuvL5r7iNNsB1ALPl80UygnIc8sLzw7LfcYCzc7Y6d2t3i7iZ+e579T9cwo1C58JHhLDIOYn2igRKSgqry2QMsszEC65KQIqrSgCI5oe5BsnFzgQxAuiCAEFgQJiAGD89fh++qP9Kv0++gD7nP6UAsoEhAUABe0FDwlRC84KKwlzCDcHXwYUBSAD5f3u+Ir1e/J27fTnXOLw24rXX9Xn03jOdc4O0uzRWsxtzSPX0Nyj3A3etePg6VT0Q/83Aw0BFgcOFbkeNh9HHz8ifibSKysw5S2CJswlESrgKXsiUh2QGvYWSBMJEYwMIAYcA04DrgG1/dP8PP1f/H77sf3D//X/cQDbAmEEMgWrBkkHYgZTBmUIRgggBT8C4QHqANH92PnG9dnxE+/D7G3o8eGR3SLcEtzX2JbWlNgc2tfX7tV620DhSeIx4jbmS+sn8UD5xf6d/jEAowlwE5kV6hTLFocb1B/OImMjdx+oHaUfSSJkHzYa+hbEFW4UghJDD6sKoQf6Bh4HsgQJAtkA6QAJAXYBrgFwASABZALdA1QE8gPBA+0DnwPjAwAEPwMXAc3/pP8P/0P96voi+Wb3pfYK9W/y+u8D7nvtbOx76qjoz+cb6MXpzuoF6nDnyeeo7Nrv7u4q7ebuD/N+92H6qPrM+TX8TAK7BmQGGgWGBngKiA11DosNNwycDQQQ8RBSDwgOOA6sDngO2A3iDOYLpQuvC3wLuwp/CmIK7Am8CREKGApOCVYIDwjwB30HjQZTBWoECATXA/8CXwElABsALQB5/xz+F/3k/Cn9GP0d/Nb6k/om+2z7ePop+aX49vhK+YX4LfcO9tr15fWk9Xn0g/OS85TzgfIx8Wvx8/F18Xvwf/BR8WHykvNl9Hv0PfXT98z6APw6/Jr9UQDpAosEjAVIBocHgwmDC1YMSAydDKMNlQ7yDtwOlQ5jDq0OIg/2DgoOTg0oDRUNnAyvC6UKzAlMCdIIswccBvcEZATeA9QCngGbABMAyP9V/4X+rP1c/X39ff3l/Dn89/sZ/BD8svsR+5L6XPpT+hL6Tvlq+PX3zvdx97T23fVP9cz0cPQa9LLzDfOO8pby1vL/8vjyDvNp8zz0avWF9lL3MviC+Sn7tfz3/QL/NACfARsDTQQeBe4F7AbcB48IOgnQCU4KqwopC58L8ws3DI8M0wz8DD0NdA1tDTMNBg3QDHUM2AsbC0AKUwliCFsHHwbhBMcDzAK8AZMAhv+b/tL9G/18/NP7Svvx+rf6Y/r9+bf5j/lw+UP5KfkZ+fr47fjx+OD4wPi3+Lz4pviF+HH4VPgf+Pj35PfJ95T3dfdr9233gvec97L31fch+JH4Avls+QX6yvql+378Xv1L/kn/VwBxAXQCVANHBEkFQQYTB78HYwgECaYJLgqRCt4KJAtpC6YLwwu2C5ULWgsKC50KFQpuCa0I1QfzBv4F9QTyA+UC1wHXAOP/+f4k/lX9oPz8+3D7A/ur+lb6EPru+ef54fnm+QL6F/o3+mz6sPre+gD7Mvtx+5v7wPvq+w78IPws/EH8Ufxl/HD8bvxd/GP8ffyT/JD8hvyX/L387vwY/Sr9R/18/dL9G/5R/o/+z/4u/4r/2v8lAHIAwwAXAWwBwgEQAmACsQIAA0YDmwPvAzYEfQS0BPMEIgVNBWsFdgV3BXcFdAVXBScF8gS4BHYEHwS9A1QD5AKDAhUCmQESAZ0AKwC3/0L/yf5i/vb9mv1C/ej8nPxd/Cb89PvI+6/7ovub+5f7oPu/++D7/fsh/Fj8lPza/CT9Xv2g/e79R/6W/tP+Ff9W/5z/x//9/yUAZQBxAGwAlwCPAJUAogCtAJkAnAB9AGUAWABJAEwAQQBEAFAAYwBSAE0ATQBNAGAAhwChAL4A3AADASYBNQFKAVoBdgGRAbEBuwG4AboBsAGeAYEBYAE6AQ8B6wDDAIYARAAFAMf/hv9M/xT/3f6q/nn+Uf4h/vz96P3U/cf9xf3J/cr92f30/Q/+J/5E/mb+mP7S/gL/Mf9g/5//2P8CACoAWwCHAKkA1ADqAP4ACQEWAR0BEAEIAQMB/wDlANIAwQCsAJoAiQCFAHMAbwBvAGsAZQBgAGgAaQBqAGMAaQBrAG0AcgBuAHUAcwB4AHMAawBoAGgAaABcAFEAQwA4ACkAGwAJAPP/5v/V/8L/s/+S/3b/YP9D/yn/DP/y/t7+yf63/qH+lf6T/o7+hf6B/pD+nv6w/sT+2P7u/gz/NP9X/3L/iP+v/9r//f8ZADMAUQByAJcAsQDFANcA8gAFARABGgEaAR8BHQEaARQBBQH2AO0A4gDNALsAqQCYAIgAcwBhAEcAMgAmABUACAD9//L/6//h/9f/z//I/7z/wP+7/63/ov+W/5v/lf+T/4z/hP99/37/ff96/3L/YP9d/13/V/9J/zr/Nv8s/yv/KP8X/w7/Dv8V/xD/Df8N/xb/I/84/0T/Tf9e/3D/kP+i/7b/0f/p////GQA3AEcAWABvAHsAkQCmAK8AsQC1AMEAygDOAMgAwQC2ALQAtACsAJ4AhwBzAGgAXwBIADYAGwAFAPf/6v/c/8D/tf+n/5f/lP+P/4f/fv9z/3D/dP90/3L/Zf9n/23/af9v/2X/Wv9f/13/W/9U/0z/TP9N/0//Tf9L/0z/V/9f/2f/cv98/4f/lP+o/7b/xP/V/+X/8P8AABIAHwAvADkAPQBKAFUAZQBrAHMAcgBwAH0AfgB8AG8AbQBnAFsAWgBNAEAANAArACMAHgAXAAwABAACAPv/+v/1/+7/6P/g/9r/1v/N/8X/u/+u/6r/o/+Z/4n/gv92/2X/XP9L/z3/L/8i/xP/DP8H//z+8/7z/uv+7f72/vj+/f4D/xf/Iv8w/0D/Tf9i/3z/kP+i/7X/xf/h//b/CAAZACcAOABHAFQAXQBkAG4AdAB7AHoAdgB4AHYAcwBsAGsAYgBbAFcATABDAD8APwA5AC0AJAAgACEAHAAVAA4ACQADAP3/8//r/+L/2//W/8H/uv+v/6f/o/+Z/47/if+B/3f/d/9r/2X/XP9W/1b/U/9G/0j/Rf89/zz/Of83/zL/Mf8w/zT/N/8+/0D/Sf9T/1n/Zv9x/3v/hP+Q/6H/rP+2/8b/0v/i/+///f8NABkAKAAzADsASABRAFwAYQBmAHAAcAB5AH0AfgB2AHQAbwBiAF4ATABDADQAJQAYAAYA9f/m/9n/x/+//7T/pv+Y/47/h/+G/4f/gf9+/37/gP+D/4b/i/+J/4f/j/+S/5T/kP+M/47/j/+N/4r/gv96/3f/dP9u/2f/Yv9f/1//W/9U/1P/Uv9U/1n/Yf9p/23/d/+B/4r/mv+i/7L/vv/M/+T/6/8FAAsAHQAiADwANQBMAEYAVABHAFMASwBYACoAaQD0A+cBm/3O/ksAmQFyATD/Gv6h/wIBUwElAEv+O/7p/5EAq/+J/kn+Qv8BAKv/t/4aAa0Bc//Z/nz+bf9tAAQA0f6x/lv/UwBiAGv/Zv7+/g7/MQG4BIL+Ffty/g4B9QH+/0L9xf4vCcsHxPw0+3D+ZwOeBD7/IPqv/3MIjQSW/Ur8n/v7/5wD8v5u+9z8kwBAAuH/Lfzg/PgAMQHB/pj9J/4bAHAB9/9Y/nr/PQF9Ac//fP+v/10AkABu/7D+SACWB1wEMPxc/E3/JwI9AdX8uPqF/rQCpgYOAp77IP7UAhcE4wAE/2n+dACpAXIAhv7I/YP/WAJnA4H+Yvx//20Bc//X/Qb+W/6v/+4BgQGi/cP9kADeAvH/Wv2N/4UA9gCO/+H+Xv/R/gkAJgEn/l790P9+AGb/bf2w/QX/Sf+i/i7+Q/66/en+lgCN/mf9pP5J/9f/nv6o/bf/CADW/rP/ov/Y/pj+UQAMAZ7+Nf5d/zkA3//G/h//BQARANb/AgAGAJr+zv9WAbj+df42/+P/PwCN/mP+C/9K/1D/A/+5/X/+6f+Y/rr+Gf6//XD/lf5Y/hj/qv6l/rb/Xv9q/i7/z/5k/vH/qf+u/Yb/GQBJ/2D/BP92/7X+8/9XAP3+/v4BABwBZwHS/3T/pwGsAPX/fgCHAFEAVwDw/9H/OwA8AJ4Axv/M/xIAZAAHAfP/ef7R/7kAwf/U/8r+If/BAOAB8AA3/9z/RwD6AAAAtf/e/xf/AADR/+P/XP92/jr/m/+D/qn+Vv9A/jj+af43/oT+wv49/hL+7f2X/fn+M/9H/t/9ff5s/1b/lP/3/iz+W/+GACMAnf/A/2IAWwAWAMoAagAoALcAjgAUAd4AtgB8ARwBrwD7AIkBtwHBASoBDQE+AusBCAGlAcYBjgEgAgQCXQE4AbUB0gF5AUkAs//dAJkAp/82/xT/X/6i/ub+Ov3V/Cn8AfyS/Or7Zvq6+Yv6JvqL+Zz5yPg6+K74oPj3+CD5dvh7+B35ffl3+mL7yPoC+yz8yf3L/qT/3/9MADECUwPsBDgFEwW6BiEI7QihCe8JSQpHC6cLxAszDOULqAvrC1ULggr0CpAK1whvCBUITgesBoUFAgRjAvkAWACB/9D9DPwh+j75ovgQ95/1Z/R28pjxHfEv7yDub+1U7Jvrm+u46rDpVOok6kHpAOr26tTrW+6U8F3yjPPD9Eb5Dv5IAPkBdwVUCYcM5BCmFNgWaxjGGq4dIh+5H8YgVyHbH10e7B15HXIbaRiqFY0Slw+LDYgLtwfIA2ABtP/O/a/7n/nQ96r2S/Wp9Ej0KvNN8ubxuPCd74/vU+9a7erqp+kZ6BHnruVa5O/hSd+h3QvhzOjf6gTkgt7m5cfwLvbp9p32gfYk+1MHmhEKErUNchCvGVMfeR/9H6shXiH5IJUh7x8IHTUcVhxOGGoRqw1CDtgN2wkjBfEBfQCaAA0ClAG8/pb9+f9lApoC2wKnBEcGQQamBWEFigUdBmIGpwRsACX9ffzz+3r4QfOG7hnrpud/4xffgNom1xPVldNx0tHUx9i62MTVvdc23x7mE+u876vzGfeB/hIJ7hCBE+0V+xvkIYAkWiYqKY8qtCm/KFknbSQwIkEhnR7YGMYSRw9MDTUKbAYpA0kA5/0Q/QX9QvzF+/b8zv52/+H/xgGyBLEGFQekBuoFzQW8BkAHVQUcArj/zf2/+o32LfIy7s7pdeR33rzYf9SU0uHRmNFo0/HU59J60O/U8ty74kjnp+xb8fv1gP7hCFAQ+xPAGHsfIyRnJcUnxSuELX0s+CpmKA0kICE6IJ0ddhc9ER0NtglSBY4Bbf96/UX7G/qZ+Zb4yfio+yn/yQCyAdsDMAfDCbYL3g3bDjIOaA0eDQkM8wnxB6AF/QE//VP45/MW7xLq3uRc3+DY+tLZzhzMscrFymPOqdFf0WHPPdLJ2aPgEedZ7u30rfnBABIKmRGCFnocQyRZKSMqRSqbLMwuoi7dLdcr9SbVIbwehhsgFskQCA02CaYDIv68+jX5Gvim9+n39vYQ9rX3IPv5/XkA+gOeB+YJDAulDDsOzw4jD2wPjg6UC7cIXAaDA9j/zvuT90jyxeyS57jicN301zrTos8WzffLf8xSzzbTOtXX1BnXXN2W44Pp3PBH+On9agTtC0USxharGzIiryeMKWwpEiq5Kvwp1SgqJ5sjQB9nG50XWxLpDOkIEgaMAl7+Cvu5+FT3z/aB90/4Hfn5+r/9KgD4AagEbgigC4wN2Q6iD7cPLw93DmoN5wuzCTMHXQRSAA/8KfhY9OvvZOv85rzir92v2OHUqdHYz0zPE88Z0fHVRNqz3A7fveNL6UvvVfUy/FICyAY4DDISlhWeF/cbWiD/IrUjniPtIt8g5x2gG0UZWxVPEYEO6gqNBpoDVwKCAZQAJgBQAGsA3v9UAMoB9gJkBBoHlgnUCsoLTQ2pDi0PLg9hD78OCw3ECv0HDwXAAe3+uv2A+6P3Dvd29G/x6fC27QvsquuQ6XbnLOZg42ngNOAm3/LdkN5H31Pi3Ob350Lnbumb66TtivFv9Tf5Cf3IAKcE4AcnCXMLExBvEwYV8xZHGIUYoheIFrkVeRQ8EyUSEhHFDpUMpgv/CsEJ0AjQCLsIewjvB28HGQezBisHQgiPCHcI0AhaCd0IHgjzBzsHawa9BcEEPgN4AQoA8v4H/tf8KvzQ+8P6k/k1+Bv3JvZ59GjzGfJe8JXukOzb6s3oY+dM5krldOTf5C/mwuaO5p3mvefY6Dnq1ewS8L/yyfWR+Vf9KAC4Aj4G6wnpDOIPRhOyFawWYBcOGC0YrhcaF6cW5BUBFfYTJRMTEksQOw+JDkoN+QveCq4JcQhzB6IG6AU0BYoEYwRUBNYDhQMfA3YCvQFKAdsARADV/z7/5P5o/qn9KP2q/P/7TvvA+tv5p/iE91T20PT38u3wL+997aPrCOqB6OXmuOWj5ZPlMuXI5NPkV+Ub5m/nienL69DtdvAw9Pz3Cfsn/tcBmAVSCWINChG1E+EVMxg2GkgbpBvTG9obzxudG04bsRrBGagYfxccFlkUnxIGEV4Png0PDLYKTgnIB4wGhQWBBJMDwQLcAcoAy//p/uD9svy2+xv7jvrK+f/4U/iN98P2/fUH9bTzQfIW8e/vfO7p7Djri+nS50fm/uTL40PjP+Op46vjueNF5D7ltObB6Dzrie0k8JTzhPfn+vb9aQE7BQsJCw3KELYT4xUCGLwZmRq4GoMahRqMGoMaTBroGTgZSBhGFysWwxQ2E+YRuRBZDwAO2wy2C2UKLwlTCI8H1gYjBl8FZQRBAzYCDwGu/0b+Mv2G/Mn78/oV+jL5K/g19zH2/vSL8zfy+/Cj7/ntC+w96lTohOaj5CPjreEm4YPhCeIM4uThOOL/4oLkt+ZS6V/rIu4r8nP21vkK/a0ArATaCCoNCREBFGMWnBiUGoYbexs1G2kbkBt5G0YbERtwGlYZOhj2FkMVdRMLEtAQYA/lDcAMlwshCsYI9gdPB4MG1QUaBSwEGQMiAhIBnP8k/i/9p/z9+zX7dPqy+cP40PfM9mz14PN08kLx3u8T7lTscuph6FPme+Su4g/hqeAW4Yzhb+F34ebhlOLm4wfmlujN6rjt6/E/9pT5zfyCAHUEVQiODKYQthM3Fr0YzRqHG2IbQxthG0cbJhswGxEbbxp/GYIYRBeKFcMTfBIzEbAPgA6tDZYMGwvlCREJOQhRB6AG7QUEBQYEEgPhAUEAsf6f/d78APwx+4H6tPm4+Nf31PZq9eHze/Iu8a3v+u1B7ITqnOir5szk+uJK4XPgn+A74V3hJeFU4QniNOMG5WPno+kv7PLvjfRh+I/7FP8UAxEHQQtrD7YSSxXsF3AatRvJG4YbfBtkG0EbRxszG7ga8hkfGfwXYxafFBoTuRFKEBEPNQ5GDfkLvgreCR4JNghkB6YGyAXZBAkEAQOCAd7/o/7F/dv85/si+2n6f/ma+KH3WvbW9IbzQvLJ8PbuH+1N61npTOcZ5SbjWOEi4L3fCOBa4BXgE+Cb4HDh0eIE5YLn6ukZ7Zbx6PV4+Q39EgFFBWsJzg2uEb0UZBfwGdwbmBx4HDkcKBz/G88byBt4G6sawxnUGHQXkxXOE0kS1BBnD1MOZg1BDBgLNwqDCZ0ItwcBB04GdwWTBLgDhQIEAa//rv7L/df8BfxE+2/6o/nQ+NL3a/bW9FHzt/Hv7/TtC+wR6u3n0eXP4w/ic+DE387f/d/O34bf4t+N4LvhjOMW5oXobet/7xb0A/hu+13/kAOtB9QL7g8/E+sVmRgNG1YcgxxQHEAcAxy5G44bZRvQGtoZAhn0F1IWcxTrEmUR1A+PDsENyQyaC5cK5AkuCTgIYAelBtQF7AQvBE0DAwKjAJj/vv6//cj8Bvw7+0/6b/mR+GP3/vWW9BnzU/F/76ftuOub6XDnWOWG4+bhj+Ds3+ffEOCr37HfEODA4AjibuTy5lXpkOzq8Gv1Afm5/IcAoASjCNwMphCwE2UWJhleG1scdxxKHEgc8xueG0kbABs0Gl8ZlBhfF6oV6ROAEuwQXQ8sDlQNQAwRCysKiAmnCLUH5AYVBiEFQQSPA5QCSQEUADz/XP5o/Yj8w/vk+gn6OflY+Bj3xfVq9P/yR/Fk73zthet+6ZXnu+UA5FTiCeGw4NDgF+GQ4FngneCn4RfjRuWZ58npNO3M8Ur2i/nr/LwAvASkCKoMLRD3Eq0Vrhj/GvobEBwRHCgc1RtaG/0anxrMGQkZbRhuF9sVShTjEkQRng9jDnoNVgwTCywKmQm7CLEHvQbOBbMEswPoAugBoQCA/87+Af7//Pz7Mfte+nX5p/jc99H2i/Vb9AjzYfFz73/tfutx6X/nwuUm5HriZeE44YDheOEL4czg6OCu4SnjZ+WX5+Hpau0k8nf20vlJ/S0BAgW/CJ4MChDVEpQVnRjsGucbFhxJHGccCBxqGxQbqBrVGSIZlBiYF/QVeBQQE2gRjw9HDk0NJAwJC2sKEQosCR4IGQc/BsQE2AMBA9QHOQnsA4YFUQGs/jn+6vn8+ff2WPUK9ZbyMfAg7Yrqf+fO4+Tg/N3n2jLYqtY/1h3W6dn23k7hLuS95j/qGe2G7t/yj/e7+0IBSwdXDAIPCRFXE0gUyRMMFKUVURbSFW8VYhWGE/4QLw5uC7sJcAgfCbcKPQsGDCcNrA1eDX4MdwwQDcoN6g5vEFIRkhGfEQcRng8uDoMNSA2ADCQLxQkUCLwFEwP0ANP+zvxC+4f5bvgC99H1xvSN8oTvf+1S6mHmJ+T53zrdgdp01x3VxdJm0dPRzta23P3gleRZ6RvuPvHe8+j3Gf0wAjUIHw+vE1sV9hYxGEoXuhSLE5cUZhT8EogSkxEyD9ALWglXB6UF+gVdCFsLngzDDeoPshD6D68PkxDFEdQSXhS/FWQVJhRDE+IReA+IDQ8Ncgz7ChoJEgdpBNQA8/3F+wf5Bfdc9of1pfMX8RLvyexo6WfmbuPj4I7de9rz18vUddGXzrDOmdBX1tDeZuem7djyVvgq/Gv+ZwDQBPwJPw/kEzsX4heAFowUKRKqDuML1QskDGgMpQveCjcJDgbpA+QC5gOdBikL9w8KE9EUrxWoFX4UiBMAFHYVnhZuF18X7RU4EzUQLA4rDBQLFwvoCr4JEwfgA30AOP1B+j/40fbs9UD1avRV8r7uNOuY5ybkhuCz3HrZANaO0izQGs2hyqXKLNAI21/nIPFN9/j9yQOxBgkH1QgrDSASfRblGC4YahRpEK4MeQjiA6EClARBBvYF7AThA/wBxQAwAd0DjgfODTIVwRnkGpcaYBrOGHAWeBVpFm4XoxeuFlwUWxDADOgKzQkQCZAJQQtOC84I9QRWAXb+ffx7+zX7yvpL+hH5A/Yl8QDsBuhw5KHg1Ns32OTUgtEyzf3H88TjxQHMide25mTzqvv/AqMJlwufCgEM+xC7FfQY/BrzGe0ULQ6hCIoDbv7i/Lb/tAH5AB0A6QDXAI//ugBUBU0L9hB2F7Yc0h2OHLYbexp1F54VeRaeF1MW3RO0EaUOnAosCCQIawgzCeMKyAucCRgGHgPAAJT+SP2m/U797vsJ+tr3nPNT7g3qreeh47feuNnM1JXQosvzyNjF6sXhyRLUD+Og8Q78/wHLCB4Oow/pDh8RGBU7GDAZ9BdjE2UMmgbuAaT9hPmK+XH8lv2s/Lj8g/9lATYDCge9DGEStBbgGmodTR3VGx0b7xltF6EVXxVjFJURqQ6ZDIAKUAi2B5MIjAk8CtAKZAohCFoFPAOOASQAbv/z/kv99/qp+Br2vvHS7O/on+WA4R/cKNbb0BDNOMoayG3GbMitzsvZxehI99YAywbHDeoScBMsErEThxanFw8XcBQjD1kIugJo/uX5UPZ19kz5mPqw+pj85QCFBEwHTQuSEDMVdxhhG/Ac9xzXGysbfRmMFicUDhNrEUkO3Qu7CtAJmQhjCCMJ/AlVCqMK2QnsB6YF8QNeAqQAlf+Z/hL9kvr+9271TvHd6x/nNOOw3jPZctT6z1XMrsrlyQfJ1slCz/vaUesw+rwDrgoPEvMWtRZTFPQTTBVsFj4WWBNTDccGrQEC/VP3avP/82n3lfmg+iz9zgEuBg8Jbgy3EIMVMBnpG/0cLR2zHLcblhkeFk8TyRFIEHANEgsKCt0JfQlZCbEJYQoFCykLFwrzB/sFegTxAloBEgDD/qX8EPp795X0w/BE7ADoDOS636Ha+NShz6rLR8kRyJ3GE8hdzsra1erv+YcEKgvNEZoWDReWFGUUhRaGGCsYJxVoD7YIpgIc/Wz3TvN983X28fik+bH7CQDHBJsHUQqUDqgTsBdNGhccFx1sHeQcJhvUF8QU9hJTEWoOsgvBCt4KiwrYCbQJCApZCiEK/wgKB1YFQwQWA2cB2P+J/vn8vfrs9+z0B/FL7Tzpv+WJ4b3cF9fg0BLNx8nEx2XFscYCzLvVkeT39NkB+AgIEDMWBhgFFukV4Bd6GZgZexgVFNIMxQUUAF/6n/T78s30Lfe691r5xPyiAIgDkQbLCrMPkhROGDIb/BxVHpQedB2cGtMX5RXbE9wQDw6GDK4LyAqVCc0IbQimCLYI4Qd0BlwF2wTKA+8BTwBm/y3+tPse+cH2+fPr7+LrIOhG5APf8tje0wLPL8o2xqvE68Skx+3OsdyQ7ab7BAXCDIoTuha1Ft4Wrhi/GuQcjB2NGrsTTAywBeP+EPg49CT0ifVN9s32bPg2+yf+pAAKBOQI9A5RFJwYBhzEHjkgMyDhHnccKhoaGLMVaxJsD2oN8gsYCkgINQfhBsUGIwYUBfADVQPSAr8BYgB4/83+jP1f+9L4IfbI8oHvD+wu6CPkgt8A2RDSaMy3xxrElMIqxBXI+dDb3+TvcPuZA7cLVxJ1FaUWrRhhG04eGCF+ITodXxbUDz4JWQFQ+u72G/bB9RH18/TT9Yr3Rfln+67+sgMUCkMQsBU7GrceqyGBIqIhHiCFHmUcgxlJFm0T3RBcDosLzAjEBrcFxQSEAz0CdgH4ABQA2v7X/Wn9xPyk+9T5KvhQ9ufzsPDw7FDpJuVZ4J/ZKdPlzVnJCsXhwlLE0cd40JHfu+7V9x7/kgiZDzMRmRIBF+MbWCDNJHMmpCKsHBQXCRB5Bt3+7/u7+mf4HPYg9XX02PNt8/vz6vXJ+rMBigg5DjAUzxpnH1Ih6iG9IhkjSiJXIAMeRxtMGNwUsBA2DO8IDwfeBBECwv+z/ov9rfuu+ZP4SfiX+CH4DvdC9uL1zPQm8o3uN+v86OblneAG2o7UytBRzZXINMagyNjPe9qo5rrwjfcV/94G7wqXC/MO1hXqHAUiVCX1JbUjXh9NGX0RrwkOBfoCawBw/KT5V/gt9qnyG/AN8HPyyvZc/KsCnAnAENEW0ho8HX8fxSEiI1MjHCOLIt0geh33GDAUsA/NCy0ImASHAWb/Q/1d+jj3APXI8yjz1vJS8lHy7PIs88Pxee8V7vDskeo451Pj6d9u3K/Ym9RX0DnOm8+A1VHdNOU57KTzePrR/uoAWgPuB/kN7BRCGzsg6SKyI8khGB30FuQRlg7IC+cIWgZyBBQCL/5j+TT1wPK/8oz05PfR/O0CEgm1DfMQiRNPFiYZthsPHkgg3SHuId4fGBzYF5sTjw+nC4wINAbvA/EAHP1A+e31iPOo8Xzw8e9u8KDwE/CC7n7tSuyZ693q0+j55kPkHeL63vvbZ9g+1pjVFdhg3mfl/eqp7x/1Avkb+438rP/3A9oJtxABFwQbQx1fHjEdhxl5FfUSZhGpD20Oew1XC/UHQQQtAM37+Pi7+GL6pvzt/+cDaweUCUYLEg3MDgERGhRLF5MZ6hpVGywaZRcvFGURxg5jDI8KwQg0BhcDGwDY/Fj5BPaj8x7yRPGM8BXwBe9v7QLs5uqq6RDoi+av5F3joeF93xndONvy2ffZyNxR4iLoZeys8H71+vhu+jT8XP9pA3AIlg4rFNIXJxqdG+8a5hfHFCUT/RGSEOQPmA8aDi4L+gdTBEoAiP1A/WH+yf8FAh4FqAfNCJgJvwoUDNINhxBTE3YVyBawFzYXNRXHEtYQwQ6ODLoKDwnMBv8DGAGw/TX6CfcT9X3zKvLo8E3wCe/W7aLs7epu6ZDnteVe4xfhT9/z3Rfce9qq2QHb/t6z5HjpDO2O8VP2p/lN+5b9IwHoBWwL+hBLFQwYQxo8G6QZaBb5E9ASoBEvEGkPzw7lDAsK4QY1A7j/8v04/kP/kQAKAy8GSAgeCUQKyQs2DTAP1xFtFA8WSRfIF9EWkxRyEqYQYQ4JDDUKIggqBdsB3P6L+xX4Z/XO803yqvB672HuIe2E6/HpjOi35hDl8+N54kbgDt7B3DHbs9la2avcx+L36LHtWvI99/v6A/2F/vQApwQXCkEQVRU7GE0aZBs6GpEW6hKmEJcPWg5wDeMMogsYCdwFKAJN/gj8UPxH/mUANQOsBr8JKwvKC+wMpg7gELcToRawGNIZ9RmwGNQVxBKBEGwOIQzNCaoHxQQpAXb9Cfq59u3zDfKH8CPvye197L3qcOk76BbnfeVI4yjhRd9G3QjbPtkI2A7YMtrw3yTn4+zn8Mf1zvqO/TL/EAJOBicLBRHKFiQaGRuJG+MaoxcYExgQyQ5ADTwLfgmrB1sFOQKz/hL79/hM+a77jP6eAWIFmQnIDH4O/A9CEocVzRibG5Id7x4VH48dQhpPFuwSPhCMDVMKPQf9A18A2vtO93nz8PBt71buXO0/7Enr/+lF6PnlguSI44jiueD93jPdJNvx2LLXYtd92cLgPerp8Oj0bfrH//0BTQKsBK4IxA0RFAAaeRwQHJob5RnMFKAOdwuQCg8JrAbcBIkCvf/G/IH57fV99Nr2Lvsr//sCHggdDYIQfBK+FGIXlBocHuggHyIgIpEhJR+iGqgV/RHfDkELlgcYBFYA3Pt+9zbzoe877Vbs0evZ6mbq1+kM6WTnDeYO5crjK+H13k3dttuG2e3XkNcL2YrfRunD8QX2rfp+AGME0gT5Ba8JCQ8AFWsaNB1VHNQazxhnFLANNAkACCcHhwRwAcP+Q/y0+cz25fPE8lP1Sfo6/zQDHwjXDZkSWBWmF6kaFh42IR4jlSPpIsghUx8pG/YV5hHCDkALrAYjAv79zfl99WrxYe5Z7J3r8uoq6qPox+cD507mZOWs5N/jYuKO4EHdLdrG11nXddfp26LmZPLY+D38ogGEBYoFgQXvCIoNJxP5GaoepR3WGRAXSRNUDEUGygQHBQcDMwAy/Wv5AfYa9C7zDPI99AL6TgCmBNcINA7hEjEWWxmnHEUfwyGoI9cjnCFUHzUd2hktFQ0RPA7ECmAG7gG6/Qr58/QP8s7vpO2O7BDs/OqI6TfoIud05Z/kL+Qf47Pgvt6D3ffau9dG1rLXVt6Q6/X3Tv1LAPEGQQucCdcHIgvyEPIWnRzSHqsb/RbGE4kOzwWq/+n/FAFO/kT6dvfB9PTyWPLs8qrzLvlOABQGLwqPDXkT+RdyGoAcmB89IRwi4CGXH7kb9xiXFoASUg4/CzYJ9QWLAS392vnD9ejyLvHK70nusu3G7STsNuqM6GTnp+Vx5GLiz9/73c/cZtrm11fXQ9kb44byfv3r/3ME3QyqD00MpwsGEOEU+xnLHSYdrheHE9gQgwqLAH/73vwk/Dj3efNS8lbx5fEb9IX1//YA/UkFPAvtDrEUzxvSH2sgYSBYIO8eWh31G6sZmhbDFGoSbQ1FB0UDrQAa/ZX5nPdG9gr0KfKQ8Hruk+xX7FXsnOsm62vqZ+gb5WziSODW3Q7clNqI2gDaI9+k7XP7Jf/s/zUJHxCBDq0LOw9pExcX0RuBHZQYZhIHEWcNxAOi+rb6K/xm+DLz4fEE8eLvnPE09Lf1YvlzArcKdg99FAcc6iA/IZMgASHlH20d7xv9GV8WmRIYEJYLSwXvAGf/Cv0u+d32qvVl81bw4O5w7fTr5+sM7bnsmOrS6WTpxObr4hPhmOCi3q/c69xr34Tp9PePABoBHwVVDYMPuAyXDOIQIxVyGZQbGRnEEtQOkQw1Bqv8Xvhr+rn56vQu8bzwsPBd8Zzz+vWp+cQAxgnVD50TtRhUHpIgQh+qHvseYh5jHAwajRYcEkEOUQoCBRoAmv5B/lz8VPm495n10vH77cXrv+pl6sHr0uwG7DTpf+fD5SvjQuD33g7fQ9+j4K/oTPdrACoBBwRoDJAOXgvJCx0QMBOnFoAa/xhsElkNdgsLBrr8p/fN+Tb6+vXB8ivy2fBQ8GvyPfRP9ln9LgdADfYPvhVkHc8f5B1pHTkfVh6aG2EZVRamEckNtgphBZr/9P2k/nj8wPjg9574jvY+8njvRO3R63nr2Ouj6rno4ehN6JPlBOIM4SDgG9/l4BDrXPib/38B+wU0DJAMCAvJC70OqhHLFr8Zrxa1EA8N3wlfAur5iPYi+NL3Q/VW82ryk/Hg8YLz6fNs9qf9EQbhCoYNfxIKGYcdux0WHWodRx4SHU0Z/xODDwMNAgreBLr/uf1P/c37dvh39gf2kvYi9r70H/NM8oryUvGR7l3rtelS56/jE+Gt4JLgxOCF5qnxlfke+839EQRGB9QG3AhQDcoQaBSqGM4Y5BNWDwgNPwgbAJn6N/q9+VX2Y/P58Vvwae/C8DLytfNh+Ov/OQVBB6UJBA6YEVQSZBPDFmkaTxtYGv0XaBSKEOkMoQgLBNYBwwH3ADj++PtR+8X6a/mo+Hb58/pz/FX9B/1++935UPi59Vry/e/Z7qrsNOlt5Rnje+G74r3pdfJ/9xj7DgJLB4cH9wbACVkNSRCZEy0WiBVkEpsPagshBOH8Gfop+WX2ZPN/8v7xb/DB71fwqvH69Cv7UAGdBWAK+Q+QE+0TVRRQFikYcBgbGBYXjhRBEWsNiAjpAlL/7P2x/Gj6BPkT+av4+vb39CT0pPNl877yrPEg8OPu2O3R65zpG+iM6WDuMPZF/Mj+vwAcBLoFCARxA9cFAgqFDVEQ/hBlD4QMUAl6BFj+X/oJ+nb6s/ip9rP1FvWn87zy2/KO9J74Jf6RAhYFygfsCqwMNwzqCy0Nyw4lD1YOnwz5CcoGHgOb/hD6U/dK9nb1BPRd8wD05vR19Yn29/hs/JEAwgRFCP8Kqw2RD9kP3w4DDnUNVww9CqkHYgXaAvj/3vwy+ln44fdA+LL4dfkZ+3z9if8mAe8CNwVIB8oI2gl9CoAKHQr5CNwGLATvAd7/S/1g+tv35/Xb89PxHvAO76Du/O6p703wFfGp8p305/ZC+fr7+/4xAggFxAa0BxsIMQhfBxgGvwTRA9YCowEnALv+aP1L/FX7U/rG+QH6DPsM/Bj9Pv6n//8ACQLoAs8D3QTfBZkGuAZ7BhQGoAWjBEEDAQIaASEA0/6a/bL8Fvxr+9T6g/qR+t/6ZPu6++b7P/zY/Er9Wv19/ef9dP7B/g//hf8fAKcAIwFwAYoBwAECAg0CCAJUAtICOwNgA2cDWgMuA9kCawIVAvcBHAJXAlICLQIrAjoCBgKLARUBywBgAM7/O/+Q/tr9RP29/AP8Ovun+nf6Xvpf+q/6Rvvl+4H8Nf3P/Uv+uP5D/8f/WAAZAb0BCAL2AboBNgFkAHf/uf4G/nr9LP0B/cf8kfyB/ID8o/zy/MH9xf7X/+cA+QHDAlIDzAMJBB8EJwQ4BBcEqwMiA5UC0QHXAO//Ov+N/hH+yf2z/cD9E/6b/h//lv8vAPEAiQH0AVECrgLRAsQCjQI+AsIBRQHMAE4Azv9f/wn/nv4y/un92P3H/c/9Av5Z/qv+B/9x/8n/BQBBAIUAlwCXAI0AewA0AOj/pv9P//j+o/5y/kX+Mf5K/nT+n/7v/nL/5/8zAI4A+wBSAXABdwF7AVcBGgHKAGgA8P+A/yX/0v5n/gX+0f22/Yr9Z/1t/Xb9fv10/Xj9Sf0h/b/89vyU/uz/LgCuAN8BUALrAUkBFAEcAU8BvwEBAs4BngGhAfgAk/9Z/kv+jf5I/hj+m/4D/yj/Qf/4/sT+Kv/l/2AAogDnAKcBDgJyAbsAmACMAEoAIAABAAgAGgAUALX/Bv+o/tr+9P67/tz+if8YAEUASgBZAIsAsADRAOUA/gBDAZkBiAH9AIYAUwAMAIH/DP/0/hL/E//4/tD+uf7T/gD/Gf8p/4f/FwB+AIcAgQCYAKUAhwBCABcABAAEAOb/6/8FAP3/AQD//wAAAAAAAAAAAAAAAAAAAAAAAAAAAAAAAAAAAAAAAAAAAAAAAAAAAAAAAAAAAAAAAAAAAAAAAAAAAAAAAAAAAAAAAAAAAAAAAAAAAAAAAAAAAAAAAAAAAAAAAAAAAAAAAAAAAAAAAAAAAAAAAAAAAAAAAAAAAAAAAAAAAAAAAAAAAAAAAAAAAAAAAAAAAAAAAAAAAAAAAAAAAAAAAAAAAAAAAAAAAAAAAAAAAAAAAAAAAAAAAAAAAAAAAAAAAAAAAAAAAAAAAAAAAAAAAAAAAAAAAAAAAAAAAAAAAAAAAAAAAAAAAAAAAAAAAAAAAAAAAAAAAAAAAAAAAAAAAAAAAAAAAAAAAAAAAAAAAAAAAAAAAAAAAAAAAAAAAAAAAAAAAAAAAAAAAAAAAAAAAAAAAAAAAAAAAAAAAAAAAAAAAAAAAAAAAAAAAAAAAAAAAAAAAAAAAAAAAAAAAAAAAAAAAAAAAAAAAAAAAAAAAAAAAAAAAAAAAAAAAAAAAAAAAAAAAAAAAAAAAAAAAAAAAAAAAAAAAAAAAAAAAAAAAAAAAAAAAAAAAAAAAAAAAAAAAAAAAAAAAAAAAAAAAAAAAAAAAAAAAAAAAAAAAAAAAAAAAAAAAAAAAAAAAAAAAAAAAAAAAAAAAAAAAAAAAAAAAAAAAAAAAAAAAAAAAAAAAAAAAAAAAAAAAAAAAAAAAAAAAAAAAAAAAAAAAAAAAAAAAAAAAAAAAAAAAAAAAAAAAAAAAAAAAAAAAAAAAAAAAAAAAAAAAAAAAAAAAAAAAAAAAAAAAAAAAAAAAAAAAAAAAAAAAAAAAAAAAAAAAAAAAAAAAAAAAAAAAAAAAAAAAAAAAAAAAAAAAAAAAAAAAAAAAAAAAAAAAAAAAAAAAAAAAAAAAAAAAAAAAAAAAAAAAAAAAAAAAAAAAAAAAAAAAAAAAAAAAAAAAAAAAAAAAAAAAAAAAAAAAAAAAAAAAAAAAAAAAAAAAAAAAAAAAAAAAAAAAAAAAAAAAAAAAAAAAAAAAAAAAAAAAAAAAAAAAAAAAAAAAAAAAAAAAAAAAAAAAAAAAAAAAAAAAAAAAAAAAAAAAAAAAAAAAAAAAAAAAAAAAAAAAAAAAAAAAAAAAAAAAAAAAAAAAAAAAAAAAAAAAAAAAAAAAAAAAAAAAAAAAAAAAAAAAAAAAAAAAAAAAAAAAAAAAAAAAAAAAAAAAAAAAAAAAAAAAAAAAAAAAAAAAAAAAAAAAAAAAAAAAAAAAAAAAAAAAAAAAAAAAAAAAAAAAAAAAAAAAAAAAAAAAAAAAAAAAAAAAAAAAAAAAAAAAAAAAAAAAAAAAAAAAAAAAAAAAAAAAAAAAAAAAAAAAAAAAAAAAAAAAAAAAAAAAAAAAAAAAAAAAAAAAAAAAAAAAAAAAAAAAAAAAAAAAAAAAAAAAAAAAAAAAAAAAAAAAAAAAAAAAAAAAAAAAAAAAAAAAAAAAAAAAAAAAAAAAAAAAAAAAAAAAAAAAAAAAAAAAAAAAAAAAAAAAAAAAAAAAAAAAAAAAAAAAAAAAAAAAAAAAAAAAAAAAAAAAAAAAAAAAAAAAAAAAAAAAAAAAAAAAAAAAAAAAAAAAAAAAAAAAAAAAAAAAAAAAAAAAAAAAAAAAAAAAAAAAAAAAAAAAAAAAAAAAAAAAAAAAAAAAAAAAAAAAAAAAAAAAAAAAAAAAAAAAAAAAAAAAAAAAAAAAAAAAAAAAAAAAAAAAAAAAAAAAAAAAAAAAAAAAAAAAAAAAAAAAAAAAAAAAAAAAAAAAAAAAAAAAAAAAAAAAAAAAAAAAAAAAAAAAAAAAAAAAAAAAAAAAAAAAAAAAAAAAAAAAAAAAAAAAAAAAAAAAAAAAAAAAAAAAAAAAAAAAAAAAAAAAAAAAAAAAAAAAAAAAAAAAAAAAAAAAAAAAAAAAAAAAAAAAAAAAAAAAAAAAAAAAAAAAAAAAAAAAAAAAAAAAAAAAAAAAAAAAAAAAAAAAAAAAAAAAAAAAAAAAAAAAAAAAAAAAAAAAAAAAAAAAAAAAAAAAAAAAAAAAAAAAAAAAAAAAAAAAAAAAAAAAAAAAAAAAAAAAAAAAAAAAAAAAAAAAAAAAAAAAAAAAAAAAAAAAAAAAAAAAAAAAAAAAAAAAAAAAAAAAAAAAAAAAAAAAAAAAAAAAAAAAAAAAAAAAAAAAAAAAAAAAAAAAAAAAAAAAAAAAAAAAAAAAAAAAAAAAAAAAAAAAAAAAAAAAAAAAAAAAAAAAAAAAAAAAAAAAAAAAAAAAAAAAAAAAAAAAAAAAAAAAAAAAAAAAAAAAAAAAAAAAAAAAAAAAAAAAAAAAAAAAAAAAAAAAAAAAAAAAAAAAAAAAAAAAAAAAAAAAAAAAAAAAAAAAAAAAAAAAAAAAAAAAAAAAAAAAAAAAAAAAAAAAAAAAAAAAAAAAAAAAAAAAAAAAAAAAAAAAAAAAAAAAAAAAAAAAAAAAAAAAAAAAAAAAAAAAAAAAAAAAAAAAAAAAAAAAAAAAAAAAAAAAAAAAAAAAAAAAAAAAAAAAAAAAAAAAAAAAAAAAAAAAAAAAAAAAAAAAAAAAAAAAAAAAAAAAAAAAAAAAAAAAAAAAAAAAAAAAAAAAAAAAAAAAAAAAAAAAAAAAAAAAAAAAAAAAAAAAAAAAAAAAAAAAAAAAAAAAAAAAAAAAAAAAAAAAAAAAAAAAAAAAAAAAAAAAAAAAAAAAAAAAAAAAAAAAAAAAAAAAAAAAAAAAAAAAAAAAAAAAAAAAAAAAAAAAAAAAAAAAAAAAAAAAAAAAAAAAAAAAAAAAAAAAAAAAAAAAAAAAAAAAAAAAAAAAAAAAAAAAAAAAAAAAAAAAAAAAAAAAAAAAAAAAAAAAAAAAAAAAAAAAAAAAAAAAAAAAAAAAAAAAAAAAAAAAAAAAAAAAAAAAAAAAAAAAAAAAAAAAAAAAAAAAAAAAAAAAAAAAAAAAAAAAAAAAAAAAAAAAAAAAAAAAAAAAAAAAAAAAAAAAAAAAAAAAAAAAAAAAAAAAAAAAAAAAAAAAAAAAAAAAAAAAAAAAAAAAAAAAAAAAAAAAAAAAAAAAAAAAAAAAAAAAAAAAAAAAAAAAAAAAAAAAAAAAAAAAAAAAAAAAAAAAAAAAAAAAAAAAAAAAAAAAAAAAAAAAAAAAAAAAAAAAAAAAAAAAAAAAAAAAAAAAAAAAAAAAAAAAAAAAAAAAAAAAAAAAAAAAAAAAAAAAAAAAAAAAAAAAAAAAAAAAAAAAAAAAAAAAAAAAAAAAAAAAAAAAAAAAAAAAAAAAAAAAAAAAAAAAAAAAAAAAAAAAAAAAAAAAAAAAAAAAAAAAAAAAAAAAAAAAAAAAAAAAAAAAAAAAAAAAAAAAAAAAAAAAAAAAAAAAAAAAAAAAAAAAAAAAAAAAAAAAAAAAAAAAAAAAAAAAAAAAAAAAAAAAAAAAAAAAAAAAAAAAAAAAAAAAAAAAAAAAAAAAAAAAAAAAAAAAAAAAAAAAAAAAAAAAAAAAAAAAAAAAAAAAAAAAAAAAAAAAAAAAAAAAAAAAAAAAAAAAAAAAAAAAAAAAAAAAAAAAAAAAAAAAAAAAAAAAAAAAAAAAAAAAAAAAAAAAAAAAAAAAAAAAAAAAAAAAAAAAAAAAAAAAAAAAAAAAAAAAAAAAAAAAAAAAAAAAAAAAAAAAAAAAAAAAAAAAAAAAAAAAAAAAAAAAAAAAAAAAAAAAAAAAAAAAAAAAAAAAAAAAAAAAAAAAAAAAAAAAAAAAAAAAAAAAAAAAAAAAAAAAAAAAAAAAAAAAAAAAAAAAAAAAAAAAAAAAAAAAAAAAAAAAAAAAAAAAAAAAAAAAAAAAAAAAAAAAAAAAAAAAAAAAAAAAAAAAAAAAAAAAAAAAAAAAAAAAAAAAAAAAAAAAAAAAAAAAAAAAAAAAAAAAAAAAAAAAAAAAAAAAAAAAAAAAAAAAAAAAAAAAAAAAAAAAAAAAAAAAAAAAAAAAAAAAAAAAAAAAAAAAAAAAAAAAAAAAAAAAAAAAAAAAAAAAAAAAAAAAAAAAAAAAAAAAAAAAAAAAAAAAAAAAAAAAAAAAAAAAAAAAAAAAAAAAAAAAAAAAAAAAAAAAAAAAAAAAAAAAAAAAAAAAAAAAAAAAAAAAAAAAAAAAAAAAAAAAAAAAAAAAAAAAAAAAAAAAAAAAAAAAAAAAAAAAAAAAAAAAAAAAAAAAAAAAAAAAAAAAAAAAAAAAAAAAAAAAAAAAAAAAAAAAAAAAAAAAAAAAAAAAAAAAAAAAAAAAAAAAAAAAAAAAAAAAAAAAAAAAAAAAAAAAAAAAAAAAAAAAAAAAAAAAAAAAAAAAAAAAAAAAAAAAAAAAAAAAAAAAAAAAAAAAAAAAAAAAAAAAAAAAAAAAAAAAAAAAAAAAAAAAAAAAAAAAAAAAAAAAAAAAAAAAAAAAAAAAAAAAAAAAAAAAAAAAAAAAAAAAAAAAAAAAAAAAAAAAAAAAAAAAAAAAAAAAAAAAAAAAAAAAAAAAAAAAAAAAAAAAAAAAAAAAAAAAAAAAAAAAAAAAAAAAAAAAAAAAAAAAAAAAAAAAAAAAAAAAAAAAAAAAAAAAAAAAAAAAAAAAAAAAAAAAAAAAAAAAAAAAAAAAAAAAAAAAAAAAAAAAAAAAAAAAAAAAAAAAAAAAAAAAAAAAAAAAAAAAAAAAAAAAAAAAAAAAAAAAAAAAAAAAAAAAAAAAAAAAAAAAAAAAAAAAAAAAAAAAAAAAAAAAAAAAAAAAAAAAAAAAAAAAAAAAAAAAAAAAAAAAAAAAAAAAAAAAAAAAAAAAAAAAAAAAAAAAAAAAAAAAAAAAAAAAAAAAAAAAAAAAAAAAAAAAAAAAAAAAAAAAAAAAAAAAAAAAAAAAAAAAAAAAAAAAAAAAAAAAAAAAAAAAAAAAAAAAAAAAAAAAAAAAAAAAAAAAAAAAAAAAAAAAAAAAAAAAAAAAAAAAAAAAAAAAAAAAAAAAAAAAAAAAAAAAAAAAAAAAAAAAAAAAAAAAAAAAAAAAAAAAAAAAAAAAAAAAAAAAAAAAAAAAAAAAAAAAAAAAAAAAAAAAAAAAAAAAAAAAAAAAAAAAAAAAAAAAAAAAAAAAAAAAAAAAAAAAAAAAAAAAAAAAAAAAAAAAAAAAAAAAAAAAAAAAAAAAAAAAAAAAAAAAAAAAAAAAAAAAAAAAAAAAAAAAAAAAAAAAAAAAAAAAAAAAAAAAAAAAAAAAAAAAAAAAAAAAAAAAAAAAAAAAAAAAAAAAAAAAAAAAAAAAAAAAAAAAAAAAAAAAAAAAAAAAAAAAAAAAAAAAAAAAAAAAAAAAAAAAAAAAAAAAAAAAAAAAAAAAAAAAAAAAAAAAAAAAAAAAAAAAAAAAAAAAAAAAAAAAAAAAAAAAAAAAAAAAAAAAAAAAAAAAAAAAAAAAAAAAAAAAAAAAAAAAAAAAAAAAAAAAAAAAAAAAAAAAAAAAAAAAAAAAAAAAAAAAAAAAAAAAAAAAAAAAAAAAAAAAAAAAAAAAAAAAAAAAAAAAAAAAAAAAAAAAAAAAAAAAAAAAAAAAAAAAAAAAAAAAAAAAAAAAAAAAAAAAAAAAAAAAAAAAAAAAAAAAAAAAAAAAAAAAAAAAAAAAAAAAAAAAAAAAAAAAAAAAAAAAAAAAAAAAAAAAAAAAAAAAAAAAAAAAAAAAAAAAAAAAAAAAAAAAAAAAAAAAAAAAAAAAAAAAAAAAAAAAAAAAAAAAAAAAAAAAAAAAAAAAAAAAAAAAAAAAAAAAAAAAAAAAAAAAAAAAAAAAAAAAAAAAAAAAAAAAAAAAAAAAAAAAAAAAAAAAAAAAAAAAAAAAAAAAAAAAAAAAAAAAAAAAAAAAAAAAAAAAAAAAAAAAAAAAAAAAAAAAAAAAAAAAAAAAAAAAAAAAAAAAAAAAAAAAAAAAAAAAAAAAAAAAAAAAAAAAAAAAAAAAAAAAAAAAAAAAAAAAAAAAAAAAAAAAAAAAAAAAAAAAAAAAAAAAAAAAAAAAAAAAAAAAAAAAAAAAAAAAAAAAAAAAAAAAAAAAAAAAAAAAAAAAAAAAAAAAAAAAAAAAAAAAAAAAAAAAAAAAAAAAAAAAAAAAAAAAAAAAAAAAAAAAAAAAAAAAAAAAAAAAAAAAAAAAAAAAAAAAAAAAAAAAAAAAAAAAAAAAAAAAAAAAAAAAAAAAAAAAAAAAAAAAAAAAAAAAAAAAAAAAAAAAAAAAAAAAAAAAAAAAAAAAAAAAAAAAAAAAAAAAAAAAAAAAAAAAAAAAAAAAAAAAAAAAAAAAAAAAAAAAAAAAAAAAAAAAAAAAAAAAAAAAAAAAAAAAAAAAAAAAAAAAAAAAAAAAAAAAAAAAAAAAAAAAAAAAAAAAAAAAAAAAAAAAAAAAAAAAAAAAAAAAAAAAAAAAAAAAAAAAAAAAAAAAAAAAAAAAAAAAAAAAAAAAAAAAAAAAAAAAAAAAAAAAAAAAAAAAAAAAAAAAAAAAAAAAAAAAAAAAAAAAAAAAAAAAAAAAAAAAAAAAAAAAAAAAAAAAAAAAAAAAAAAAAAAAAAAAAAAAAAAAAAAAAAAAAAAAAAAAAAAAAAAAAAAAAAAAAAAAAAAAAAAAAAAAAAAAAAAAAAAAAAAAAAAAAAAAAAAAAAAAAAAAAAAAAAAAAAAAAAAAAAAAAAAAAAAAAAAAAAAAAAAAAAAAAAAAAAAAAAAAAAAAAAAAAAAAAAAAAAAAAAAAAAAAAAAAAAAAAAAAAAAAAAAAAAAAAAAAAAAAAAAAAAAAAAAAAAAAAAAAAAAAAAAAAAAAAAAAAAAAAAAAAAAAAAAAAAAAAAAAAAAAAAAAAAAAAAAAAAAAAAAAAAAAAAAAAAAAAAAAAAAAAAAAAAAAAAAAAAAAAAAAAAAAAAAAAAAAAAAAAAAAAAAAAAAAAAAAAAAAAAAAAAAAAAAAAAAAAAAAAAAAAAAAAAAAAAAAAAAAAAAAAAAAAAAAAAAAAAAAAAAAAAAAAAAAAAAAAAAAAAAAAAAAAAAAAAAAAAAAAAAAAAAAAAAAAAAAAAAAAAAAAAAAAAAAAAAAAAAAAAAAAAAAAAAAAAAAAAAAAAAAAAAAAAAAAAAAAAAAAAAAAAAAAAAAAAAAAAAAAAAAAAAAAAAAAAAAAAAAAAAAAAAAAAAAAAAAAAAAAAAAAAAAAAAAAAAAAAAAAAAAAAAAAAAAAAAAAAAAAAAAAAAAAAAAAAAAAAAAAAAAAAAAAAAAAAAAAAAAAAAAAAAAAAAAAAAAAAAAAAAAAAAAAAAAAAAAAAAAAAAAAAAAAAAAAAAAAAAAAAAAAAAAAAAAAAAAAAAAAAAAAAAAAAAAAAAAAAAAAAAAAAAAAAAAAAAAAAAAAAAAAAAAAAAAAAAAAAAAAAAAAAAAAAAAAAAAAAAAAAAAAAAAAAAAAAAAAAAAAAAAAAAAAAAAAAAAAAAAAAAAAAAAAAAAAAAAAAAAAAAAAAAAAAAAAAAAAAAAAAAAAAAAAAAAAAAAAAAAAAAAAAAAAAAAAAAAAAAAAAAAAAAAAAAAAAAAAAAAAAAAAAAAAAAAAAAAAAAAAAAAAAAAAAAAAAAAAAAAAAAAAAAAAAAAAAAAAAAAAAAAAAAAAAAAAAAAAAAAAAAAAAAAAAAAAAAAAAAAAAAAAAAAAAAAAAAAAAAAAAAAAAAAAAAAAAAAAAAAAAAAAAAAAAAAAAAAAAAAAAAAAAAAAAAAAAAAAAAAAAAAAAAAAAAAAAAAAAAAAAAAAAAAAAAAAAAAAAAAAAAAAAAAAAAAAAAAAAAAAAAAAAAAAAAAAAAAAAAAAAAAAAAAAAAAAAAAAAAAAAAAAAAAAAAAAAAAAAAAAAAAAAAAAAAAAAAAAAAAAAAAAAAAAAAAAAAAAAAAAAAAAAAAAAAAAAAAAAAAAAAAAAAAAAAAAAAAAAAAAAAAAAAAAAAAAAAAAAAAAAAAAAAAAAAAAAAAAAAAAAAAAAAAAAAAAAAAAAAAAAAAAAAAAAAAAAAAAAAAAAAAAAAAAAAAAAAAAAAAAAAAAAAAAAAAAAAAAAAAAAAAAAAAAAAAAAAAAAAAAAAAAAAAAAAAAAAAAAAAAAAAAAAAAAAAAAAAAAAAAAAAAAAAAAAAAAAAAAAAAAAAAAAAAAAAAAAAAAAAAAAAAAAAAAAAAAAAAAAAAAAAAAAAAAAAAAAAAAAAAAAAAAAAAAAAAAAAAAAAAAAAAAAAAAAAAAAAAAAAAAAAAAAAAAAAAAAAAAAAAAAAAAAAAAAAAAAAAAAAAAAAAAAAAAAAAAAAAAAAAAAAAAAAAAAAAAAAAAAAAAAAAAAAAAAAAAAAAAAAAAAAAAAAAAAAAAAAAAAAAAAAAAAAAAAAAAAAAAAAAAAAAAAAAAAAAAAAAAAAAAAAAAAAAAAAAAAAAAAAAAAAAAAAAAAAAAAAAAAAAAAAAAAAAAAAAAAAAAAAAAAAAAAAAAAAAAAAAAAAAAAAAAAAAAAAAAAAAAAAAAAAAAAAAAAAAAAAAAAAAAAAAAAAAAAAAAAAAAAAAAAAAAAAAAAAAAAAAAAAAAAAAAAAAAAAAAAAAAAAAAAAAAAAAAAAAAAAAAAAAAAAAAAAAAAAAAAAAAAAAAAAAAAAAAAAAAAAAAAAAAAAAAAAAAAAAAAAAAAAAAAAAAAAAAAAAAAAAAAAAAAAAAAAAAAAAAAAAAAAAAAAAAAAAAAAAAAAAAAAAAAAAAAAAAAAAAAAAAAAAAAAAAAAAAAAAAAAAAAAAAAAAAAAAAAAAAAAAAAAAAAAAAAAAAAAAAAAAAAAAAAAAAAAAAAAAAAAAAAAAAAAAAAAAAAAAAAAAAAAAAAAAAAAAAAAAAAAAAAAAAAAAAAAAAAAAAAAAAAAAAAAAAAAAAAAAAAAAAAAAAAAAAAAAAAAAAAAAAAAAAAAAAAAAAAAAAAAAAAAAAAAAAAAAAAAAAAAAAAAAAAAAAAAAAAAAAAAAAAAAAAAAAAAAAAAAAAAAAAAAAAAAAAAAAAAAAAAAAAAAAAAAAAAAAAAAAAAAAAAAAAAAAAAAAAAAAAAAAAAAAAAAAAAAAAAAAAAAAAAAAAAAAAAAAAAAAAAAAAAAAAAAAAAAAAAAAAAAAAAAAAAAAAAAAAAAAAAAAAAAAAAAAAAAAAAAAAAAAAAAAAAAAAAAAAAAAAAAAAAAAAAAAAAAAAAAAAAAAAAAAAAAAAAAAAAAAAAAAAAAAAAAAAAAAAAAAAAAAAAAAAAAAAAAAAAAAAAAAAAAAAAAAAAAAAAAAAAAAAAAAAAAAAAAAAAAAAAAAAAAAAAAAAAAAAAAAAAAAAAAAAAAAAAAAAAAAAAAAAAAAAAAAAAAAAAAAAAAAAAAAAAAAAAAAAAAAAAAAAAAAAAAAAAAAAAAAAAAAAAAAAAAAAAAAAAAAAAAAAAAAAAAAAAAAAAAAAAAAAAAAAAAAAAAAAAAAAAAAAAAAAAAAAAAAAAAAAAAAAAAAAAAAAAAAAAAAAAAAAAAAAAAAAAAAAAAAAAAAAAAAAAAAAAAAAAAAAAAAAAAAAAAAAAAAAAAAAAAAAAAAAAAAAAAAAAAAAAAAAAAAAAAAAAAAAAAAAAAAAAAAAAAAAAAAAAAAAAAAAAAAAAAAAAAAAAAAAAAAAAAAAAAAAAAAAAAAAAAAAAAAAAAAAAAAAAAAAAAAAAAAAAAAAAAAAAAAAAAAAAAAAAAAAAAAAAAAAAAAAAAAAAAAAAAAAAAAAAAAAAAAAAAAAAAAAAAAAAAAAAAAAAAAAAAAAAAAAAAAAAAAAAAAAAAAAAAAAAAAAAAAAAAAAAAAAAAAAAAAAAAAAAAAAAAAAAAAAAAAAAAAAAAAAAAAAAAAAAAAAAAAAAAAAAAAAAAAAAAAAAAAAAAAAAAAAAAAAAAAAAAAAAAAAAAAAAAAAAAAAAAAAAAAAAAAAAAAAAAAAAAAAAAAAAAAAAAAAAAAAAAAAAAAAAAAAAAAAAAAAAAAAAAAAAAAAAAAAAAAAAAAAAAAAAAAAAAAAAAAAAAAAAAAAAAAAAAAAAAAAAAAAAAAAAAAAAAAAAAAAAAAAAAAAAAAAAAAAAAAAAAAAAAAAAAAAAAAAAAAAAAAAAAAAAAAAAAAAAAAAAAAAAAAAAAAAAAAAAAAAAAAAAAAAAAAAAAAAAAAAAAAAAAAAAAAAAAAAAAAAAAAAAAAAAAAAAAAAAAAAAAAAAAAAAAAAAAAAAAAAAAAAAAAAAAAAAAAAAAAAAAAAAAAAAAAAAAAAAAAAAAAAAAAAAAAAAAAAAAAAAAAAAAAAAAAAAAAAAAAAAAAAAAAAAAAAAAAAAAAAAAAAAAAAAAAAAAAAAAAAAAAAAAAAAAAAAAAAAAAAAAAAAAAAAAAAAAAAAAAAAAAAAAAAAAAAAAAAAAAAAAAAAAAAAAAAAAAAAAAAAAAAAAAAAAAAAAAAAAAAAAAAAAAAAAAAAAAAAAAAAAAAAAAAAAAAAAAAAAAAAAAAAAAAAAAAAAAAAAAAAAAAAAAAAAAAAAAAAAAAAAAAAAAAAAAAAAAAAAAAAAAAAAAAAAAAAAAAAAAAAAAAAAAAAAAAAAAAAAAAAAAAAAAAAAAAAAAAAAAAAAAAAAAAAAAAAAAAAAAAAAAAAAAAAAAAAAAAAAAAAAAAAAAAAAAAAAAAAAAAAAAAAAAAAAAAAAAAAAAAAAAAAAAAAAAAAAAAAAAAAAAAAAAAAAAAAAAAAAAAAAAAAAAAAAAAAA==\" type=\"audio/wav\" />\n",
       "                    Your browser does not support the audio element.\n",
       "                </audio>\n",
       "              "
      ],
      "text/plain": [
       "<IPython.lib.display.Audio object>"
      ]
     },
     "execution_count": 46,
     "metadata": {},
     "output_type": "execute_result"
    }
   ],
   "source": [
    "import IPython.display as ipd\n",
    "import numpy as np\n",
    "import random\n",
    "\n",
    "rand_int = random.randint(0, len(common_voice_train)-1)\n",
    "\n",
    "ipd.Audio(data=np.asarray(common_voice_train[rand_int][\"speech\"]), autoplay=True, rate=16000)"
   ]
  },
  {
   "cell_type": "markdown",
   "metadata": {
    "id": "1MaL9J2dNVtG"
   },
   "source": [
    "It can be heard, that the speakers change along with their speaking rate, accent, and background environment, etc. Overall, the recordings sound acceptably clear though, which is to be expected from a crowd-sourced read speech corpus.\n",
    "\n",
    "Let's do a final check that the data is correctly prepared, by printing the shape of the speech input, its transcription, and the corresponding sampling rate.\n",
    "\n",
    "**Note**: *You can click the following cell a couple of times to verify multiple samples.*"
   ]
  },
  {
   "cell_type": "code",
   "execution_count": 48,
   "metadata": {
    "colab": {
     "base_uri": "https://localhost:8080/"
    },
    "id": "1Po2g7YPuRTx",
    "outputId": "96b0b82c-a5df-4ae6-d17b-9c7d4f710b42"
   },
   "outputs": [
    {
     "name": "stdout",
     "output_type": "stream",
     "text": [
      "Target text: എന്നിട്ട് അവന്‍ സിംഹത്തോടായി പറഞ്ഞു \n",
      "Input array shape: (54720,)\n",
      "Sampling rate: 16000\n"
     ]
    }
   ],
   "source": [
    "rand_int = random.randint(0, len(common_voice_train)-1)\n",
    "\n",
    "print(\"Target text:\", common_voice_train[rand_int][\"target_text\"])\n",
    "print(\"Input array shape:\", np.asarray(common_voice_train[rand_int][\"speech\"]).shape)\n",
    "print(\"Sampling rate:\", common_voice_train[rand_int][\"sampling_rate\"])"
   ]
  },
  {
   "cell_type": "markdown",
   "metadata": {
    "id": "M9teZcSwOBJ4"
   },
   "source": [
    "Good! Everything looks fine - the data is a 1-dimensional array, the sampling rate always corresponds to 16kHz, and the target text is normalized."
   ]
  },
  {
   "cell_type": "markdown",
   "metadata": {
    "id": "k3Pbn5WvOYZF"
   },
   "source": [
    "Finally, we can process the dataset to the format expected by the model for training. We will again make use of the `map(...)` function.\n",
    "\n",
    "First, we check that the data samples have the same sampling rate of 16kHz.\n",
    "Second, we extract the `input_values` from the loaded audio file. In our case, this includes only normalization, but for other speech models, this step could correspond to extracting, *e.g.* [Log-Mel features](https://en.wikipedia.org/wiki/Mel-frequency_cepstrum). \n",
    "Third, we encode the transcriptions to label ids.\n",
    "\n",
    "**Note**: This mapping function is a good example of how the `Wav2Vec2Processor` class should be used. In \"normal\" context, calling `processor(...)` is redirected to `Wav2Vec2FeatureExtractor`'s call method. When wrapping the processor into the `as_target_processor` context, however, the same method is redirected to `Wav2Vec2CTCTokenizer`'s call method.\n",
    "For more information please check the [docs](https://huggingface.co/transformers/master/model_doc/wav2vec2.html#transformers.Wav2Vec2Processor.__call__)."
   ]
  },
  {
   "cell_type": "code",
   "execution_count": 49,
   "metadata": {
    "id": "eJY7I0XAwe9p"
   },
   "outputs": [],
   "source": [
    "def prepare_dataset(batch):\n",
    "    # check that all files have the correct sampling rate\n",
    "    assert (\n",
    "        len(set(batch[\"sampling_rate\"])) == 1\n",
    "    ), f\"Make sure all inputs have the same sampling rate of {processor.feature_extractor.sampling_rate}.\"\n",
    "\n",
    "    batch[\"input_values\"] = processor(batch[\"speech\"], sampling_rate=batch[\"sampling_rate\"][0]).input_values\n",
    "    \n",
    "    with processor.as_target_processor():\n",
    "        batch[\"labels\"] = processor(batch[\"target_text\"]).input_ids\n",
    "    return batch"
   ]
  },
  {
   "cell_type": "code",
   "execution_count": 50,
   "metadata": {
    "colab": {
     "base_uri": "https://localhost:8080/",
     "height": 509,
     "referenced_widgets": [
      "4797f1acd9924b4e97f12f964c83078c",
      "73940df84ffd4e0f96637342e9fd12b7",
      "5370c0f2d54b45c0a89f11fb5b70cd4b",
      "018c1f8e198e4df4b480e609bd1be602",
      "fa7926bbe77e48b3a0648b45f5d2dc7a",
      "020bdb330b0d40f5b89697ff37025f69",
      "d35c15beeb33476894b07c3563f8facd",
      "768ab09956774f50a79b2493a8bf179b",
      "7ef969e47c2d429a9848d5ab3f5bb2d9",
      "fe62265afdc74026b7e9c5a50ef61d2c",
      "015c5690e1ea4281954c7efda1c80a6a",
      "f4135dd72864445391f43f387635bfdc",
      "2f727c76652944e3892dd584bea11af2",
      "dec796237765477ea904834d9a824b61",
      "8df9d19602cb4951b397c385458a11ef",
      "923ed9e127524187ab8cfcac31164ba7",
      "bf9e57d81135412d9a9a2281f28bd52a",
      "c41610c0baef412984f8661d96e08b7e",
      "579b6055028f473981ce789a0733a753",
      "4fb7347e9ca542e6ab9003bf4db218e0",
      "3133b378b9294a759c8dfb786ed8f815",
      "6de66d6b7a73434cbdc59b2109bdf0a0",
      "6d4a26d876fb4ac6b5948a09945bdc6b",
      "0987aac282af415da2fbc9dc1b4d5069",
      "ac35dca0845149a284b9867d9e607232",
      "b54bff6261964119bcb562c1a9f74ce6",
      "5071a31d06f544a5b7340a4e863d8fdf",
      "542027ba12f444d586e8072452badea0",
      "49defa4284554baf85f32de242b22709",
      "b2473405490e4556bf30c0cc81237aa5",
      "02bdb06c176145feaa842b97ae58609c",
      "bc41384bbae04044b9780651c6b5a47c",
      "7040945accce4739a41746cc75bb7fce",
      "71011f0d2bc942ac8f9ea1d1fd30c78d",
      "6f60626242534f44a6381195e6eb6530",
      "9fee9d9dd1164d97a9109e942444c332",
      "5ab30242cd154ec0b560c23c0f178546",
      "0ffcbedb8d4444508ac0c3c0b41ea8ac",
      "f9efaa7678c2450f847ff2c2f21ff96e",
      "c126ea97019149848396e593cfab016f",
      "0f99011a13754ed99f3c51a478b0e793",
      "4abe2731ec624729b401d60a392cae63",
      "bd187486ac2548f2961cfcb63d852de1",
      "3f780f0aa8834fc189b292e0474e2ffa",
      "231c66f195d34f86b216805518f4bccd",
      "58f3e8002f984594ac05c973aa78ef69",
      "ec36a94ee2574ac8b227ccaefdee5520",
      "a868dea9d9b047a4b853b390e138e4c1",
      "6462bd9561e24abb98fce6ce4675d810",
      "bd3447291ce54812af10ac6245ea4328",
      "e273548a15aa4d4994132b317adb66fc",
      "f6930dd5519d4dfda64c597def220a30",
      "7d62810674c8482abe46c60fc08884b4",
      "80697300a4394b909f1c499ba80aeb13",
      "ab72c80dfd5e4ab19a183f4204486b59",
      "56ad6231a0a04228be29ceecbc6b7c0e",
      "b6221b4c04e64c9da9eb9e11539bac89",
      "dc6862530f6e429ba61a169b4c95722c",
      "02d1f77324854fbca0df9384c57faac8",
      "8e63ba7f1fd24555bf11bc9dbe9c770b",
      "704ea5e05fd744d998b76d6435992995",
      "d4a3f79644fc41848450ba29e6fdfc3d",
      "405b5de4ae854cf9896f63d15f2207dd",
      "26e7bab0f3bf4797bfcef83dcace24f0"
     ]
    },
    "id": "-np9xYK-wl8q",
    "outputId": "6155b5f0-a5a2-4e20-d0e2-0b3a60c13f98"
   },
   "outputs": [
    {
     "name": "stdout",
     "output_type": "stream",
     "text": [
      " "
     ]
    },
    {
     "data": {
      "application/vnd.jupyter.widget-view+json": {
       "model_id": "620cbbb45d0843038479f5df0613bde3",
       "version_major": 2,
       "version_minor": 0
      },
      "text/plain": [
       "HBox(children=(FloatProgress(value=0.0, description='#3', max=382.0, style=ProgressStyle(description_width='in…"
      ]
     },
     "metadata": {},
     "output_type": "display_data"
    },
    {
     "name": "stdout",
     "output_type": "stream",
     "text": [
      "  "
     ]
    },
    {
     "data": {
      "application/vnd.jupyter.widget-view+json": {
       "model_id": "ff279e0d90284934bce944d1b34f977b",
       "version_major": 2,
       "version_minor": 0
      },
      "text/plain": [
       "HBox(children=(FloatProgress(value=0.0, description='#2', max=382.0, style=ProgressStyle(description_width='in…"
      ]
     },
     "metadata": {},
     "output_type": "display_data"
    },
    {
     "data": {
      "application/vnd.jupyter.widget-view+json": {
       "model_id": "eb03051428644908944e5cb3a195e02c",
       "version_major": 2,
       "version_minor": 0
      },
      "text/plain": [
       "HBox(children=(FloatProgress(value=0.0, description='#0', max=382.0, style=ProgressStyle(description_width='in…"
      ]
     },
     "metadata": {},
     "output_type": "display_data"
    },
    {
     "data": {
      "application/vnd.jupyter.widget-view+json": {
       "model_id": "b8c0b7c11ea944dcbb8d2320829aac04",
       "version_major": 2,
       "version_minor": 0
      },
      "text/plain": [
       "HBox(children=(FloatProgress(value=0.0, description='#1', max=382.0, style=ProgressStyle(description_width='in…"
      ]
     },
     "metadata": {},
     "output_type": "display_data"
    },
    {
     "name": "stdout",
     "output_type": "stream",
     "text": [
      "\n",
      "\n",
      "\n",
      "\n",
      "    "
     ]
    },
    {
     "data": {
      "application/vnd.jupyter.widget-view+json": {
       "model_id": "b3e203fa8d684da994e780cca903dab7",
       "version_major": 2,
       "version_minor": 0
      },
      "text/plain": [
       "HBox(children=(FloatProgress(value=0.0, description='#3', max=96.0, style=ProgressStyle(description_width='ini…"
      ]
     },
     "metadata": {},
     "output_type": "display_data"
    },
    {
     "data": {
      "application/vnd.jupyter.widget-view+json": {
       "model_id": "7bdf450be1d74c3e8f642a38cda91cae",
       "version_major": 2,
       "version_minor": 0
      },
      "text/plain": [
       "HBox(children=(FloatProgress(value=0.0, description='#0', max=96.0, style=ProgressStyle(description_width='ini…"
      ]
     },
     "metadata": {},
     "output_type": "display_data"
    },
    {
     "data": {
      "application/vnd.jupyter.widget-view+json": {
       "model_id": "c99c8a2d31bf4a5c82adda27310427ea",
       "version_major": 2,
       "version_minor": 0
      },
      "text/plain": [
       "HBox(children=(FloatProgress(value=0.0, description='#2', max=96.0, style=ProgressStyle(description_width='ini…"
      ]
     },
     "metadata": {},
     "output_type": "display_data"
    },
    {
     "data": {
      "application/vnd.jupyter.widget-view+json": {
       "model_id": "52384500a1a5455aac94493fc14a13be",
       "version_major": 2,
       "version_minor": 0
      },
      "text/plain": [
       "HBox(children=(FloatProgress(value=0.0, description='#1', max=96.0, style=ProgressStyle(description_width='ini…"
      ]
     },
     "metadata": {},
     "output_type": "display_data"
    },
    {
     "name": "stdout",
     "output_type": "stream",
     "text": [
      "\n",
      "\n",
      "\n",
      "\n"
     ]
    }
   ],
   "source": [
    "common_voice_train = common_voice_train.map(prepare_dataset, remove_columns=common_voice_train.column_names, batch_size=8, num_proc=4, batched=True)\n",
    "common_voice_test = common_voice_test.map(prepare_dataset, remove_columns=common_voice_test.column_names, batch_size=8, num_proc=4, batched=True)"
   ]
  },
  {
   "cell_type": "markdown",
   "metadata": {
    "id": "gYlQkKVoRUos"
   },
   "source": [
    "## Training\n",
    "\n",
    "The data is processed so that we are ready to start setting up the training pipeline. We will make use of 🤗's [Trainer](https://huggingface.co/transformers/master/main_classes/trainer.html?highlight=trainer) for which we essentially need to do the following:\n",
    "\n",
    "- Define a data collator. In contrast to most NLP models, XLSR-Wav2Vec2 has a much larger input length than output length. *E.g.*, a sample of input length 50000 has an output length of no more than 100. Given the large input sizes, it is much more efficient to pad the training batches dynamically meaning that all training samples should only be padded to the longest sample in their batch and not the overall longest sample. Therefore, fine-tuning XLSR-Wav2Vec2 requires a special padding data collator, which we will define below\n",
    "\n",
    "- Evaluation metric. During training, the model should be evaluated on the word error rate. We should define a `compute_metrics` function accordingly\n",
    "\n",
    "- Load a pretrained checkpoint. We need to load a pretrained checkpoint and configure it correctly for training.\n",
    "\n",
    "- Define the training configuration.\n",
    "\n",
    "After having fine-tuned the model, we will correctly evaluate it on the test data and verify that it has indeed learned to correctly transcribe speech."
   ]
  },
  {
   "cell_type": "markdown",
   "metadata": {
    "id": "Slk403unUS91"
   },
   "source": [
    "### Set-up Trainer\n",
    "\n",
    "Let's start by defining the data collator. The code for the data collator was copied from [this example](https://github.com/huggingface/transformers/blob/9a06b6b11bdfc42eea08fa91d0c737d1863c99e3/examples/research_projects/wav2vec2/run_asr.py#L81).\n",
    "\n",
    "Without going into too many details, in contrast to the common data collators, this data collator treats the `input_values` and `labels` differently and thus applies to separate padding functions on them (again making use of XLSR-Wav2Vec2's context manager). This is necessary because in speech input and output are of different modalities meaning that they should not be treated by the same padding function.\n",
    "Analogous to the common data collators, the padding tokens in the labels with `-100` so that those tokens are **not** taken into account when computing the loss."
   ]
  },
  {
   "cell_type": "code",
   "execution_count": 51,
   "metadata": {
    "id": "tborvC9hx88e"
   },
   "outputs": [],
   "source": [
    "import torch\n",
    "\n",
    "from dataclasses import dataclass, field\n",
    "from typing import Any, Dict, List, Optional, Union\n",
    "\n",
    "@dataclass\n",
    "class DataCollatorCTCWithPadding:\n",
    "    \"\"\"\n",
    "    Data collator that will dynamically pad the inputs received.\n",
    "    Args:\n",
    "        processor (:class:`~transformers.Wav2Vec2Processor`)\n",
    "            The processor used for proccessing the data.\n",
    "        padding (:obj:`bool`, :obj:`str` or :class:`~transformers.tokenization_utils_base.PaddingStrategy`, `optional`, defaults to :obj:`True`):\n",
    "            Select a strategy to pad the returned sequences (according to the model's padding side and padding index)\n",
    "            among:\n",
    "            * :obj:`True` or :obj:`'longest'`: Pad to the longest sequence in the batch (or no padding if only a single\n",
    "              sequence if provided).\n",
    "            * :obj:`'max_length'`: Pad to a maximum length specified with the argument :obj:`max_length` or to the\n",
    "              maximum acceptable input length for the model if that argument is not provided.\n",
    "            * :obj:`False` or :obj:`'do_not_pad'` (default): No padding (i.e., can output a batch with sequences of\n",
    "              different lengths).\n",
    "        max_length (:obj:`int`, `optional`):\n",
    "            Maximum length of the ``input_values`` of the returned list and optionally padding length (see above).\n",
    "        max_length_labels (:obj:`int`, `optional`):\n",
    "            Maximum length of the ``labels`` returned list and optionally padding length (see above).\n",
    "        pad_to_multiple_of (:obj:`int`, `optional`):\n",
    "            If set will pad the sequence to a multiple of the provided value.\n",
    "            This is especially useful to enable the use of Tensor Cores on NVIDIA hardware with compute capability >=\n",
    "            7.5 (Volta).\n",
    "    \"\"\"\n",
    "\n",
    "    processor: Wav2Vec2Processor\n",
    "    padding: Union[bool, str] = True\n",
    "    max_length: Optional[int] = None\n",
    "    max_length_labels: Optional[int] = None\n",
    "    pad_to_multiple_of: Optional[int] = None\n",
    "    pad_to_multiple_of_labels: Optional[int] = None\n",
    "\n",
    "    def __call__(self, features: List[Dict[str, Union[List[int], torch.Tensor]]]) -> Dict[str, torch.Tensor]:\n",
    "        # split inputs and labels since they have to be of different lenghts and need\n",
    "        # different padding methods\n",
    "        input_features = [{\"input_values\": feature[\"input_values\"]} for feature in features]\n",
    "        label_features = [{\"input_ids\": feature[\"labels\"]} for feature in features]\n",
    "\n",
    "        batch = self.processor.pad(\n",
    "            input_features,\n",
    "            padding=self.padding,\n",
    "            max_length=self.max_length,\n",
    "            pad_to_multiple_of=self.pad_to_multiple_of,\n",
    "            return_tensors=\"pt\",\n",
    "        )\n",
    "        with self.processor.as_target_processor():\n",
    "            labels_batch = self.processor.pad(\n",
    "                label_features,\n",
    "                padding=self.padding,\n",
    "                max_length=self.max_length_labels,\n",
    "                pad_to_multiple_of=self.pad_to_multiple_of_labels,\n",
    "                return_tensors=\"pt\",\n",
    "            )\n",
    "\n",
    "        # replace padding with -100 to ignore loss correctly\n",
    "        labels = labels_batch[\"input_ids\"].masked_fill(labels_batch.attention_mask.ne(1), -100)\n",
    "\n",
    "        batch[\"labels\"] = labels\n",
    "\n",
    "        return batch"
   ]
  },
  {
   "cell_type": "code",
   "execution_count": 52,
   "metadata": {
    "id": "lbQf5GuZyQ4_"
   },
   "outputs": [],
   "source": [
    "data_collator = DataCollatorCTCWithPadding(processor=processor, padding=True)"
   ]
  },
  {
   "cell_type": "markdown",
   "metadata": {
    "id": "xO-Zdj-5cxXp"
   },
   "source": [
    "Next, the evaluation metric is defined. As mentioned earlier, the \n",
    "predominant metric in ASR is the word error rate (WER), hence we will use it in this notebook as well."
   ]
  },
  {
   "cell_type": "code",
   "execution_count": 53,
   "metadata": {
    "colab": {
     "base_uri": "https://localhost:8080/",
     "height": 67,
     "referenced_widgets": [
      "d5fb02debe4347e781543a996ce39be3",
      "da12267c52144292adb9896249d61a6a",
      "8e1a85a4a6214a16b7431da23a301ada",
      "57198e3250374e1fa64c5a4be255861e",
      "a3c04c75ec9743feb795f69e7c4dff4f",
      "d453bd4a35e54bfba20dac1fe86c60c1",
      "969080b52ad44ee997829986d198c505",
      "8f737725708c4097a8caaf4da6229636"
     ]
    },
    "id": "9Xsux2gmyXso",
    "outputId": "58e0e6f5-6131-4147-bccb-6c42223833db"
   },
   "outputs": [
    {
     "data": {
      "application/vnd.jupyter.widget-view+json": {
       "model_id": "b943a6eebf824c6ebe6b0797dcd83ac4",
       "version_major": 2,
       "version_minor": 0
      },
      "text/plain": [
       "HBox(children=(FloatProgress(value=0.0, description='Downloading', max=1764.0, style=ProgressStyle(description…"
      ]
     },
     "metadata": {},
     "output_type": "display_data"
    },
    {
     "name": "stdout",
     "output_type": "stream",
     "text": [
      "\n"
     ]
    }
   ],
   "source": [
    "wer_metric = load_metric(\"wer\")"
   ]
  },
  {
   "cell_type": "markdown",
   "metadata": {
    "id": "E1qZU5p-deqB"
   },
   "source": [
    "The model will return a sequence of logit vectors:\n",
    "$\\mathbf{y}_1, \\ldots, \\mathbf{y}_m$ with $\\mathbf{y}_1 = f_{\\theta}(x_1, \\ldots, x_n)[0]$ and $n >> m$.\n",
    "\n",
    "A logit vector $\\mathbf{y}_1$ contains the log-odds for each word in the vocabulary we defined earlier, thus $\\text{len}(\\mathbf{y}_i) =$ `config.vocab_size`. We are interested in the most likely prediction of the model and thus take the `argmax(...)` of the logits. Also, we transform the encoded labels back to the original string by replacing `-100` with the `pad_token_id` and decoding the ids while making sure that consecutive tokens are **not** grouped to the same token in CTC style ${}^1$."
   ]
  },
  {
   "cell_type": "code",
   "execution_count": 54,
   "metadata": {
    "id": "1XZ-kjweyTy_"
   },
   "outputs": [],
   "source": [
    "def compute_metrics(pred):\n",
    "    pred_logits = pred.predictions\n",
    "    pred_ids = np.argmax(pred_logits, axis=-1)\n",
    "\n",
    "    pred.label_ids[pred.label_ids == -100] = processor.tokenizer.pad_token_id\n",
    "\n",
    "    pred_str = processor.batch_decode(pred_ids)\n",
    "    # we do not want to group tokens when computing the metrics\n",
    "    label_str = processor.batch_decode(pred.label_ids, group_tokens=False)\n",
    "\n",
    "    wer = wer_metric.compute(predictions=pred_str, references=label_str)\n",
    "\n",
    "    return {\"wer\": wer}"
   ]
  },
  {
   "cell_type": "markdown",
   "metadata": {
    "id": "Xmgrx4bRwLIH"
   },
   "source": [
    "Now, we can load the pretrained `XLSR-Wav2Vec2` checkpoint. The tokenizer's `pad_token_id` must be to define the model's `pad_token_id` or in the case of `Wav2Vec2ForCTC` also CTC's *blank token* ${}^2$. To save GPU memory, we enable PyTorch's [gradient checkpointing](https://pytorch.org/docs/stable/checkpoint.html) and also set the loss reduction to \"*mean*\".\n",
    "\n",
    "Because the dataset is quite small (~6h of training data) and because Common Voice is quite noisy, fine-tuning Facebook's [wav2vec2-large-xlsr-53 checkpoint](https://huggingface.co/facebook/wav2vec2-large-xlsr-53) seems to require some hyper-parameter tuning. Therefore, I had to play around a bit with different values for dropout, [SpecAugment](https://arxiv.org/abs/1904.08779)'s masking dropout rate, layer dropout, and the learning rate until training seemed to be stable enough. \n",
    "\n",
    "**Note**: When using this notebook to train XLSR-Wav2Vec2 on another language of Common Voice those hyper-parameter settings might not work very well. Feel free to adapt those depending on your use case. "
   ]
  },
  {
   "cell_type": "code",
   "execution_count": 55,
   "metadata": {
    "colab": {
     "base_uri": "https://localhost:8080/"
    },
    "id": "e7cqAWIayn6w",
    "outputId": "0a5ab559-6c38-47c6-b4f5-64480ed1df65"
   },
   "outputs": [
    {
     "data": {
      "application/vnd.jupyter.widget-view+json": {
       "model_id": "94152a0bb0d44a63bdac0db8aa580942",
       "version_major": 2,
       "version_minor": 0
      },
      "text/plain": [
       "HBox(children=(FloatProgress(value=0.0, description='Downloading', max=1451.0, style=ProgressStyle(description…"
      ]
     },
     "metadata": {},
     "output_type": "display_data"
    },
    {
     "name": "stdout",
     "output_type": "stream",
     "text": [
      "\n"
     ]
    },
    {
     "data": {
      "application/vnd.jupyter.widget-view+json": {
       "model_id": "cb7226eef4fc4a88a7b103092933e192",
       "version_major": 2,
       "version_minor": 0
      },
      "text/plain": [
       "HBox(children=(FloatProgress(value=0.0, description='Downloading', max=1261920069.0, style=ProgressStyle(descr…"
      ]
     },
     "metadata": {},
     "output_type": "display_data"
    },
    {
     "name": "stdout",
     "output_type": "stream",
     "text": [
      "\n"
     ]
    },
    {
     "name": "stderr",
     "output_type": "stream",
     "text": [
      "Some weights of Wav2Vec2ForCTC were not initialized from the model checkpoint at facebook/wav2vec2-large-xlsr-53 and are newly initialized: ['lm_head.bias', 'lm_head.weight']\n",
      "You should probably TRAIN this model on a down-stream task to be able to use it for predictions and inference.\n"
     ]
    }
   ],
   "source": [
    "from transformers import Wav2Vec2ForCTC\n",
    "\n",
    "model = Wav2Vec2ForCTC.from_pretrained(\n",
    "    \"facebook/wav2vec2-large-xlsr-53\", \n",
    "    attention_dropout=0.094,\n",
    "    hidden_dropout=0.05,\n",
    "    feat_proj_dropout=0.0,\n",
    "    mask_time_prob=0.082,\n",
    "    layerdrop=0.045,\n",
    "    gradient_checkpointing=True, \n",
    "    ctc_loss_reduction=\"mean\", \n",
    "    pad_token_id=processor.tokenizer.pad_token_id,\n",
    "    vocab_size=len(processor.tokenizer)\n",
    ")"
   ]
  },
  {
   "cell_type": "markdown",
   "metadata": {
    "id": "1DwR3XLSzGDD"
   },
   "source": [
    "The first component of XLSR-Wav2Vec2 consists of a stack of CNN layers that are used to extract acoustically meaningful - but contextually independent - features from the raw speech signal. This part of the model has already been sufficiently trained during pretraining and as stated in the [paper](https://arxiv.org/pdf/2006.13979.pdf) does not need to be fine-tuned anymore. \n",
    "Thus, we can set the `requires_grad` to `False` for all parameters of the *feature extraction* part."
   ]
  },
  {
   "cell_type": "code",
   "execution_count": 56,
   "metadata": {
    "id": "oGI8zObtZ3V0"
   },
   "outputs": [],
   "source": [
    "model.freeze_feature_extractor()"
   ]
  },
  {
   "cell_type": "markdown",
   "metadata": {
    "id": "lD4aGhQM0K-D"
   },
   "source": [
    "In a final step, we define all parameters related to training. \n",
    "To give more explanation on some of the parameters:\n",
    "- `group_by_length` makes training more efficient by grouping training samples of similar input length into one batch. This can significantly speed up training time by heavily reducing the overall number of useless padding tokens that are passed through the model\n",
    "- `learning_rate` and `weight_decay` were heuristically tuned until fine-tuning has become stable. Note that those parameters strongly depend on the Common Voice dataset and might be suboptimal for other speech datasets.\n",
    "\n",
    "For more explanations on other parameters, one can take a look at the [docs](https://huggingface.co/transformers/master/main_classes/trainer.html?highlight=trainer#trainingarguments).\n",
    "\n",
    "**Note**: If one wants to save the trained models in his/her google drive the commented-out `output_dir` can be used instead."
   ]
  },
  {
   "cell_type": "code",
   "execution_count": 61,
   "metadata": {
    "id": "KbeKSV7uzGPP"
   },
   "outputs": [],
   "source": [
    "from transformers import TrainingArguments\n",
    "\n",
    "training_args = TrainingArguments(\n",
    "  output_dir=output_models_dir,\n",
    "  group_by_length=True,\n",
    "  per_device_train_batch_size=16,\n",
    "  gradient_accumulation_steps=2,\n",
    "  evaluation_strategy=\"steps\",\n",
    "  num_train_epochs=25,\n",
    "  fp16=True,\n",
    "  save_steps=800,\n",
    "  eval_steps=500,\n",
    "  logging_steps=500,\n",
    "  learning_rate=2.4e-4,\n",
    "  warmup_steps=800,\n",
    "  save_total_limit=5,\n",
    ")"
   ]
  },
  {
   "cell_type": "markdown",
   "metadata": {
    "id": "OsW-WZcL1ZtN"
   },
   "source": [
    "Now, all instances can be passed to Trainer and we are ready to start training!"
   ]
  },
  {
   "cell_type": "code",
   "execution_count": 62,
   "metadata": {
    "id": "rY7vBmFCPFgC"
   },
   "outputs": [],
   "source": [
    "from transformers import Trainer\n",
    "\n",
    "trainer = Trainer(\n",
    "    model=model,\n",
    "    data_collator=data_collator,\n",
    "    args=training_args,\n",
    "    compute_metrics=compute_metrics,\n",
    "    train_dataset=common_voice_train,\n",
    "    eval_dataset=common_voice_test,\n",
    "    tokenizer=processor.feature_extractor,\n",
    ")"
   ]
  },
  {
   "cell_type": "markdown",
   "metadata": {
    "id": "UoXBx1JAA0DX"
   },
   "source": [
    "\n",
    "\n",
    "---\n",
    "\n",
    "${}^1$ To allow models to become independent of the speaker rate, in CTC, consecutive tokens that are identical are simply grouped as a single token. However, the encoded labels should not be grouped when decoding since they don't correspond to the predicted tokens of the model, which is why the `group_tokens=False` parameter has to be passed. If we wouldn't pass this parameter a word like `\"hello\"` would incorrectly be encoded, and decoded as `\"helo\"`.\n",
    "\n",
    "${}^2$ The blank token allows the model to predict a word, such as `\"hello\"` by forcing it to insert the blank token between the two l's. A CTC-conform prediction of `\"hello\"` of our model would be `[PAD] [PAD] \"h\" \"e\" \"e\" \"l\" \"l\" [PAD] \"l\" \"o\" \"o\" [PAD]`."
   ]
  },
  {
   "cell_type": "markdown",
   "metadata": {
    "id": "rpvZHM1xReIW"
   },
   "source": [
    "### Training"
   ]
  },
  {
   "cell_type": "markdown",
   "metadata": {
    "id": "j-3oKSzZ1hGq"
   },
   "source": [
    "Lets train model using our training data\n",
    "\n",
    "In case you want to use this google colab to fine-tune your model, you should make sure that your training doesn't stop due to inactivity. A simple hack to prevent this is to paste the following code into the console of this tab (*right mouse click -> inspect -> Console tab and insert code*)."
   ]
  },
  {
   "cell_type": "markdown",
   "metadata": {
    "id": "VYYAvgkW4P0m"
   },
   "source": [
    "```javascript\n",
    "function ConnectButton(){\n",
    "    console.log(\"Connect pushed\"); \n",
    "    document.querySelector(\"#top-toolbar > colab-connect-button\").shadowRoot.querySelector(\"#connect\").click() \n",
    "}\n",
    "setInterval(ConnectButton,60000);\n",
    "```"
   ]
  },
  {
   "cell_type": "markdown",
   "metadata": {},
   "source": [
    "### Init wandb"
   ]
  },
  {
   "cell_type": "code",
   "execution_count": 59,
   "metadata": {},
   "outputs": [],
   "source": [
    "import wandb"
   ]
  },
  {
   "cell_type": "code",
   "execution_count": 60,
   "metadata": {},
   "outputs": [
    {
     "name": "stderr",
     "output_type": "stream",
     "text": [
      "\u001b[34m\u001b[1mwandb\u001b[0m: Currently logged in as: \u001b[33mgvs\u001b[0m (use `wandb login --relogin` to force relogin)\n",
      "\u001b[34m\u001b[1mwandb\u001b[0m: wandb version 0.10.23 is available!  To upgrade, please run:\n",
      "\u001b[34m\u001b[1mwandb\u001b[0m:  $ pip install wandb --upgrade\n"
     ]
    },
    {
     "data": {
      "text/html": [
       "\n",
       "                Tracking run with wandb version 0.10.12<br/>\n",
       "                Syncing run <strong style=\"color:#cdcd00\">peachy-valley-3</strong> to <a href=\"https://wandb.ai\" target=\"_blank\">Weights & Biases</a> <a href=\"https://docs.wandb.com/integrations/jupyter.html\" target=\"_blank\">(Documentation)</a>.<br/>\n",
       "                Project page: <a href=\"https://wandb.ai/gvs/uncategorized\" target=\"_blank\">https://wandb.ai/gvs/uncategorized</a><br/>\n",
       "                Run page: <a href=\"https://wandb.ai/gvs/uncategorized/runs/275p62ym\" target=\"_blank\">https://wandb.ai/gvs/uncategorized/runs/275p62ym</a><br/>\n",
       "                Run data is saved locally in <code>/workspace/wav2vec/wandb/run-20210329_022301-275p62ym</code><br/><br/>\n",
       "            "
      ],
      "text/plain": [
       "<IPython.core.display.HTML object>"
      ]
     },
     "metadata": {},
     "output_type": "display_data"
    },
    {
     "data": {
      "text/html": [
       "<h1>Run(275p62ym)</h1><p></p><iframe src=\"https://wandb.ai/gvs/uncategorized/runs/275p62ym\" style=\"border:none;width:100%;height:400px\"></iframe>"
      ],
      "text/plain": [
       "<wandb.sdk.wandb_run.Run at 0x7f42746c1d10>"
      ]
     },
     "execution_count": 60,
     "metadata": {},
     "output_type": "execute_result"
    }
   ],
   "source": [
    "wandb.init()"
   ]
  },
  {
   "cell_type": "code",
   "execution_count": null,
   "metadata": {
    "colab": {
     "base_uri": "https://localhost:8080/",
     "height": 348
    },
    "id": "_UEjJqGsQw24",
    "outputId": "2e23b190-ca76-48ad-8117-376d1d7c058e"
   },
   "outputs": [
    {
     "name": "stderr",
     "output_type": "stream",
     "text": [
      "/opt/conda/lib/python3.7/site-packages/torch/optim/lr_scheduler.py:136: UserWarning: Detected call of `lr_scheduler.step()` before `optimizer.step()`. In PyTorch 1.1.0 and later, you should call them in the opposite order: `optimizer.step()` before `lr_scheduler.step()`.  Failure to do this will result in PyTorch skipping the first value of the learning rate schedule. See more details at https://pytorch.org/docs/stable/optim.html#how-to-adjust-learning-rate\n",
      "  \"https://pytorch.org/docs/stable/optim.html#how-to-adjust-learning-rate\", UserWarning)\n"
     ]
    },
    {
     "data": {
      "text/html": [
       "\n",
       "    <div>\n",
       "        <style>\n",
       "            /* Turns off some styling */\n",
       "            progress {\n",
       "                /* gets rid of default border in Firefox and Opera. */\n",
       "                border: none;\n",
       "                /* Needs to be in here for Safari polyfill so background images work as expected. */\n",
       "                background-size: auto;\n",
       "            }\n",
       "        </style>\n",
       "      \n",
       "      <progress value='7' max='9550' style='width:300px; height:20px; vertical-align: middle;'></progress>\n",
       "      [   7/9550 00:30 < 16:14:45, 0.16 it/s, Epoch 0.02/25]\n",
       "    </div>\n",
       "    <table border=\"1\" class=\"dataframe\">\n",
       "  <thead>\n",
       "    <tr style=\"text-align: left;\">\n",
       "      <th>Step</th>\n",
       "      <th>Training Loss</th>\n",
       "      <th>Validation Loss</th>\n",
       "    </tr>\n",
       "  </thead>\n",
       "  <tbody>\n",
       "  </tbody>\n",
       "</table><p>"
      ],
      "text/plain": [
       "<IPython.core.display.HTML object>"
      ]
     },
     "metadata": {},
     "output_type": "display_data"
    }
   ],
   "source": [
    "trainer.train()"
   ]
  },
  {
   "cell_type": "markdown",
   "metadata": {},
   "source": [
    "The training loss goes down and we can see that the WER on the test set also improves nicely. Lets save the final model"
   ]
  },
  {
   "cell_type": "code",
   "execution_count": 65,
   "metadata": {},
   "outputs": [],
   "source": [
    "trainer.save_model(f\"{output_models_dir}/final/\")"
   ]
  },
  {
   "cell_type": "markdown",
   "metadata": {},
   "source": [
    "## Evaluate model on test dataset"
   ]
  },
  {
   "cell_type": "code",
   "execution_count": 14,
   "metadata": {},
   "outputs": [
    {
     "name": "stderr",
     "output_type": "stream",
     "text": [
      "Special tokens have been added in the vocabulary, make sure the associated word embedding are fine-tuned or trained.\n"
     ]
    },
    {
     "data": {
      "text/plain": [
       "Wav2Vec2ForCTC(\n",
       "  (wav2vec2): Wav2Vec2Model(\n",
       "    (feature_extractor): Wav2Vec2FeatureExtractor(\n",
       "      (conv_layers): ModuleList(\n",
       "        (0): Wav2Vec2LayerNormConvLayer(\n",
       "          (conv): Conv1d(1, 512, kernel_size=(10,), stride=(5,))\n",
       "          (layer_norm): LayerNorm((512,), eps=1e-05, elementwise_affine=True)\n",
       "        )\n",
       "        (1): Wav2Vec2LayerNormConvLayer(\n",
       "          (conv): Conv1d(512, 512, kernel_size=(3,), stride=(2,))\n",
       "          (layer_norm): LayerNorm((512,), eps=1e-05, elementwise_affine=True)\n",
       "        )\n",
       "        (2): Wav2Vec2LayerNormConvLayer(\n",
       "          (conv): Conv1d(512, 512, kernel_size=(3,), stride=(2,))\n",
       "          (layer_norm): LayerNorm((512,), eps=1e-05, elementwise_affine=True)\n",
       "        )\n",
       "        (3): Wav2Vec2LayerNormConvLayer(\n",
       "          (conv): Conv1d(512, 512, kernel_size=(3,), stride=(2,))\n",
       "          (layer_norm): LayerNorm((512,), eps=1e-05, elementwise_affine=True)\n",
       "        )\n",
       "        (4): Wav2Vec2LayerNormConvLayer(\n",
       "          (conv): Conv1d(512, 512, kernel_size=(3,), stride=(2,))\n",
       "          (layer_norm): LayerNorm((512,), eps=1e-05, elementwise_affine=True)\n",
       "        )\n",
       "        (5): Wav2Vec2LayerNormConvLayer(\n",
       "          (conv): Conv1d(512, 512, kernel_size=(2,), stride=(2,))\n",
       "          (layer_norm): LayerNorm((512,), eps=1e-05, elementwise_affine=True)\n",
       "        )\n",
       "        (6): Wav2Vec2LayerNormConvLayer(\n",
       "          (conv): Conv1d(512, 512, kernel_size=(2,), stride=(2,))\n",
       "          (layer_norm): LayerNorm((512,), eps=1e-05, elementwise_affine=True)\n",
       "        )\n",
       "      )\n",
       "    )\n",
       "    (feature_projection): Wav2Vec2FeatureProjection(\n",
       "      (layer_norm): LayerNorm((512,), eps=1e-05, elementwise_affine=True)\n",
       "      (projection): Linear(in_features=512, out_features=1024, bias=True)\n",
       "      (dropout): Dropout(p=0.0, inplace=False)\n",
       "    )\n",
       "    (encoder): Wav2Vec2EncoderStableLayerNorm(\n",
       "      (pos_conv_embed): Wav2Vec2PositionalConvEmbedding(\n",
       "        (conv): Conv1d(1024, 1024, kernel_size=(128,), stride=(1,), padding=(64,), groups=16)\n",
       "        (padding): Wav2Vec2SamePadLayer()\n",
       "      )\n",
       "      (layer_norm): LayerNorm((1024,), eps=1e-05, elementwise_affine=True)\n",
       "      (dropout): Dropout(p=0.05, inplace=False)\n",
       "      (layers): ModuleList(\n",
       "        (0): Wav2Vec2EncoderLayerStableLayerNorm(\n",
       "          (attention): Wav2Vec2Attention(\n",
       "            (k_proj): Linear(in_features=1024, out_features=1024, bias=True)\n",
       "            (v_proj): Linear(in_features=1024, out_features=1024, bias=True)\n",
       "            (q_proj): Linear(in_features=1024, out_features=1024, bias=True)\n",
       "            (out_proj): Linear(in_features=1024, out_features=1024, bias=True)\n",
       "          )\n",
       "          (dropout): Dropout(p=0.05, inplace=False)\n",
       "          (layer_norm): LayerNorm((1024,), eps=1e-05, elementwise_affine=True)\n",
       "          (feed_forward): Wav2Vec2FeedForward(\n",
       "            (intermediate_dropout): Dropout(p=0.0, inplace=False)\n",
       "            (intermediate_dense): Linear(in_features=1024, out_features=4096, bias=True)\n",
       "            (output_dense): Linear(in_features=4096, out_features=1024, bias=True)\n",
       "            (output_dropout): Dropout(p=0.05, inplace=False)\n",
       "          )\n",
       "          (final_layer_norm): LayerNorm((1024,), eps=1e-05, elementwise_affine=True)\n",
       "        )\n",
       "        (1): Wav2Vec2EncoderLayerStableLayerNorm(\n",
       "          (attention): Wav2Vec2Attention(\n",
       "            (k_proj): Linear(in_features=1024, out_features=1024, bias=True)\n",
       "            (v_proj): Linear(in_features=1024, out_features=1024, bias=True)\n",
       "            (q_proj): Linear(in_features=1024, out_features=1024, bias=True)\n",
       "            (out_proj): Linear(in_features=1024, out_features=1024, bias=True)\n",
       "          )\n",
       "          (dropout): Dropout(p=0.05, inplace=False)\n",
       "          (layer_norm): LayerNorm((1024,), eps=1e-05, elementwise_affine=True)\n",
       "          (feed_forward): Wav2Vec2FeedForward(\n",
       "            (intermediate_dropout): Dropout(p=0.0, inplace=False)\n",
       "            (intermediate_dense): Linear(in_features=1024, out_features=4096, bias=True)\n",
       "            (output_dense): Linear(in_features=4096, out_features=1024, bias=True)\n",
       "            (output_dropout): Dropout(p=0.05, inplace=False)\n",
       "          )\n",
       "          (final_layer_norm): LayerNorm((1024,), eps=1e-05, elementwise_affine=True)\n",
       "        )\n",
       "        (2): Wav2Vec2EncoderLayerStableLayerNorm(\n",
       "          (attention): Wav2Vec2Attention(\n",
       "            (k_proj): Linear(in_features=1024, out_features=1024, bias=True)\n",
       "            (v_proj): Linear(in_features=1024, out_features=1024, bias=True)\n",
       "            (q_proj): Linear(in_features=1024, out_features=1024, bias=True)\n",
       "            (out_proj): Linear(in_features=1024, out_features=1024, bias=True)\n",
       "          )\n",
       "          (dropout): Dropout(p=0.05, inplace=False)\n",
       "          (layer_norm): LayerNorm((1024,), eps=1e-05, elementwise_affine=True)\n",
       "          (feed_forward): Wav2Vec2FeedForward(\n",
       "            (intermediate_dropout): Dropout(p=0.0, inplace=False)\n",
       "            (intermediate_dense): Linear(in_features=1024, out_features=4096, bias=True)\n",
       "            (output_dense): Linear(in_features=4096, out_features=1024, bias=True)\n",
       "            (output_dropout): Dropout(p=0.05, inplace=False)\n",
       "          )\n",
       "          (final_layer_norm): LayerNorm((1024,), eps=1e-05, elementwise_affine=True)\n",
       "        )\n",
       "        (3): Wav2Vec2EncoderLayerStableLayerNorm(\n",
       "          (attention): Wav2Vec2Attention(\n",
       "            (k_proj): Linear(in_features=1024, out_features=1024, bias=True)\n",
       "            (v_proj): Linear(in_features=1024, out_features=1024, bias=True)\n",
       "            (q_proj): Linear(in_features=1024, out_features=1024, bias=True)\n",
       "            (out_proj): Linear(in_features=1024, out_features=1024, bias=True)\n",
       "          )\n",
       "          (dropout): Dropout(p=0.05, inplace=False)\n",
       "          (layer_norm): LayerNorm((1024,), eps=1e-05, elementwise_affine=True)\n",
       "          (feed_forward): Wav2Vec2FeedForward(\n",
       "            (intermediate_dropout): Dropout(p=0.0, inplace=False)\n",
       "            (intermediate_dense): Linear(in_features=1024, out_features=4096, bias=True)\n",
       "            (output_dense): Linear(in_features=4096, out_features=1024, bias=True)\n",
       "            (output_dropout): Dropout(p=0.05, inplace=False)\n",
       "          )\n",
       "          (final_layer_norm): LayerNorm((1024,), eps=1e-05, elementwise_affine=True)\n",
       "        )\n",
       "        (4): Wav2Vec2EncoderLayerStableLayerNorm(\n",
       "          (attention): Wav2Vec2Attention(\n",
       "            (k_proj): Linear(in_features=1024, out_features=1024, bias=True)\n",
       "            (v_proj): Linear(in_features=1024, out_features=1024, bias=True)\n",
       "            (q_proj): Linear(in_features=1024, out_features=1024, bias=True)\n",
       "            (out_proj): Linear(in_features=1024, out_features=1024, bias=True)\n",
       "          )\n",
       "          (dropout): Dropout(p=0.05, inplace=False)\n",
       "          (layer_norm): LayerNorm((1024,), eps=1e-05, elementwise_affine=True)\n",
       "          (feed_forward): Wav2Vec2FeedForward(\n",
       "            (intermediate_dropout): Dropout(p=0.0, inplace=False)\n",
       "            (intermediate_dense): Linear(in_features=1024, out_features=4096, bias=True)\n",
       "            (output_dense): Linear(in_features=4096, out_features=1024, bias=True)\n",
       "            (output_dropout): Dropout(p=0.05, inplace=False)\n",
       "          )\n",
       "          (final_layer_norm): LayerNorm((1024,), eps=1e-05, elementwise_affine=True)\n",
       "        )\n",
       "        (5): Wav2Vec2EncoderLayerStableLayerNorm(\n",
       "          (attention): Wav2Vec2Attention(\n",
       "            (k_proj): Linear(in_features=1024, out_features=1024, bias=True)\n",
       "            (v_proj): Linear(in_features=1024, out_features=1024, bias=True)\n",
       "            (q_proj): Linear(in_features=1024, out_features=1024, bias=True)\n",
       "            (out_proj): Linear(in_features=1024, out_features=1024, bias=True)\n",
       "          )\n",
       "          (dropout): Dropout(p=0.05, inplace=False)\n",
       "          (layer_norm): LayerNorm((1024,), eps=1e-05, elementwise_affine=True)\n",
       "          (feed_forward): Wav2Vec2FeedForward(\n",
       "            (intermediate_dropout): Dropout(p=0.0, inplace=False)\n",
       "            (intermediate_dense): Linear(in_features=1024, out_features=4096, bias=True)\n",
       "            (output_dense): Linear(in_features=4096, out_features=1024, bias=True)\n",
       "            (output_dropout): Dropout(p=0.05, inplace=False)\n",
       "          )\n",
       "          (final_layer_norm): LayerNorm((1024,), eps=1e-05, elementwise_affine=True)\n",
       "        )\n",
       "        (6): Wav2Vec2EncoderLayerStableLayerNorm(\n",
       "          (attention): Wav2Vec2Attention(\n",
       "            (k_proj): Linear(in_features=1024, out_features=1024, bias=True)\n",
       "            (v_proj): Linear(in_features=1024, out_features=1024, bias=True)\n",
       "            (q_proj): Linear(in_features=1024, out_features=1024, bias=True)\n",
       "            (out_proj): Linear(in_features=1024, out_features=1024, bias=True)\n",
       "          )\n",
       "          (dropout): Dropout(p=0.05, inplace=False)\n",
       "          (layer_norm): LayerNorm((1024,), eps=1e-05, elementwise_affine=True)\n",
       "          (feed_forward): Wav2Vec2FeedForward(\n",
       "            (intermediate_dropout): Dropout(p=0.0, inplace=False)\n",
       "            (intermediate_dense): Linear(in_features=1024, out_features=4096, bias=True)\n",
       "            (output_dense): Linear(in_features=4096, out_features=1024, bias=True)\n",
       "            (output_dropout): Dropout(p=0.05, inplace=False)\n",
       "          )\n",
       "          (final_layer_norm): LayerNorm((1024,), eps=1e-05, elementwise_affine=True)\n",
       "        )\n",
       "        (7): Wav2Vec2EncoderLayerStableLayerNorm(\n",
       "          (attention): Wav2Vec2Attention(\n",
       "            (k_proj): Linear(in_features=1024, out_features=1024, bias=True)\n",
       "            (v_proj): Linear(in_features=1024, out_features=1024, bias=True)\n",
       "            (q_proj): Linear(in_features=1024, out_features=1024, bias=True)\n",
       "            (out_proj): Linear(in_features=1024, out_features=1024, bias=True)\n",
       "          )\n",
       "          (dropout): Dropout(p=0.05, inplace=False)\n",
       "          (layer_norm): LayerNorm((1024,), eps=1e-05, elementwise_affine=True)\n",
       "          (feed_forward): Wav2Vec2FeedForward(\n",
       "            (intermediate_dropout): Dropout(p=0.0, inplace=False)\n",
       "            (intermediate_dense): Linear(in_features=1024, out_features=4096, bias=True)\n",
       "            (output_dense): Linear(in_features=4096, out_features=1024, bias=True)\n",
       "            (output_dropout): Dropout(p=0.05, inplace=False)\n",
       "          )\n",
       "          (final_layer_norm): LayerNorm((1024,), eps=1e-05, elementwise_affine=True)\n",
       "        )\n",
       "        (8): Wav2Vec2EncoderLayerStableLayerNorm(\n",
       "          (attention): Wav2Vec2Attention(\n",
       "            (k_proj): Linear(in_features=1024, out_features=1024, bias=True)\n",
       "            (v_proj): Linear(in_features=1024, out_features=1024, bias=True)\n",
       "            (q_proj): Linear(in_features=1024, out_features=1024, bias=True)\n",
       "            (out_proj): Linear(in_features=1024, out_features=1024, bias=True)\n",
       "          )\n",
       "          (dropout): Dropout(p=0.05, inplace=False)\n",
       "          (layer_norm): LayerNorm((1024,), eps=1e-05, elementwise_affine=True)\n",
       "          (feed_forward): Wav2Vec2FeedForward(\n",
       "            (intermediate_dropout): Dropout(p=0.0, inplace=False)\n",
       "            (intermediate_dense): Linear(in_features=1024, out_features=4096, bias=True)\n",
       "            (output_dense): Linear(in_features=4096, out_features=1024, bias=True)\n",
       "            (output_dropout): Dropout(p=0.05, inplace=False)\n",
       "          )\n",
       "          (final_layer_norm): LayerNorm((1024,), eps=1e-05, elementwise_affine=True)\n",
       "        )\n",
       "        (9): Wav2Vec2EncoderLayerStableLayerNorm(\n",
       "          (attention): Wav2Vec2Attention(\n",
       "            (k_proj): Linear(in_features=1024, out_features=1024, bias=True)\n",
       "            (v_proj): Linear(in_features=1024, out_features=1024, bias=True)\n",
       "            (q_proj): Linear(in_features=1024, out_features=1024, bias=True)\n",
       "            (out_proj): Linear(in_features=1024, out_features=1024, bias=True)\n",
       "          )\n",
       "          (dropout): Dropout(p=0.05, inplace=False)\n",
       "          (layer_norm): LayerNorm((1024,), eps=1e-05, elementwise_affine=True)\n",
       "          (feed_forward): Wav2Vec2FeedForward(\n",
       "            (intermediate_dropout): Dropout(p=0.0, inplace=False)\n",
       "            (intermediate_dense): Linear(in_features=1024, out_features=4096, bias=True)\n",
       "            (output_dense): Linear(in_features=4096, out_features=1024, bias=True)\n",
       "            (output_dropout): Dropout(p=0.05, inplace=False)\n",
       "          )\n",
       "          (final_layer_norm): LayerNorm((1024,), eps=1e-05, elementwise_affine=True)\n",
       "        )\n",
       "        (10): Wav2Vec2EncoderLayerStableLayerNorm(\n",
       "          (attention): Wav2Vec2Attention(\n",
       "            (k_proj): Linear(in_features=1024, out_features=1024, bias=True)\n",
       "            (v_proj): Linear(in_features=1024, out_features=1024, bias=True)\n",
       "            (q_proj): Linear(in_features=1024, out_features=1024, bias=True)\n",
       "            (out_proj): Linear(in_features=1024, out_features=1024, bias=True)\n",
       "          )\n",
       "          (dropout): Dropout(p=0.05, inplace=False)\n",
       "          (layer_norm): LayerNorm((1024,), eps=1e-05, elementwise_affine=True)\n",
       "          (feed_forward): Wav2Vec2FeedForward(\n",
       "            (intermediate_dropout): Dropout(p=0.0, inplace=False)\n",
       "            (intermediate_dense): Linear(in_features=1024, out_features=4096, bias=True)\n",
       "            (output_dense): Linear(in_features=4096, out_features=1024, bias=True)\n",
       "            (output_dropout): Dropout(p=0.05, inplace=False)\n",
       "          )\n",
       "          (final_layer_norm): LayerNorm((1024,), eps=1e-05, elementwise_affine=True)\n",
       "        )\n",
       "        (11): Wav2Vec2EncoderLayerStableLayerNorm(\n",
       "          (attention): Wav2Vec2Attention(\n",
       "            (k_proj): Linear(in_features=1024, out_features=1024, bias=True)\n",
       "            (v_proj): Linear(in_features=1024, out_features=1024, bias=True)\n",
       "            (q_proj): Linear(in_features=1024, out_features=1024, bias=True)\n",
       "            (out_proj): Linear(in_features=1024, out_features=1024, bias=True)\n",
       "          )\n",
       "          (dropout): Dropout(p=0.05, inplace=False)\n",
       "          (layer_norm): LayerNorm((1024,), eps=1e-05, elementwise_affine=True)\n",
       "          (feed_forward): Wav2Vec2FeedForward(\n",
       "            (intermediate_dropout): Dropout(p=0.0, inplace=False)\n",
       "            (intermediate_dense): Linear(in_features=1024, out_features=4096, bias=True)\n",
       "            (output_dense): Linear(in_features=4096, out_features=1024, bias=True)\n",
       "            (output_dropout): Dropout(p=0.05, inplace=False)\n",
       "          )\n",
       "          (final_layer_norm): LayerNorm((1024,), eps=1e-05, elementwise_affine=True)\n",
       "        )\n",
       "        (12): Wav2Vec2EncoderLayerStableLayerNorm(\n",
       "          (attention): Wav2Vec2Attention(\n",
       "            (k_proj): Linear(in_features=1024, out_features=1024, bias=True)\n",
       "            (v_proj): Linear(in_features=1024, out_features=1024, bias=True)\n",
       "            (q_proj): Linear(in_features=1024, out_features=1024, bias=True)\n",
       "            (out_proj): Linear(in_features=1024, out_features=1024, bias=True)\n",
       "          )\n",
       "          (dropout): Dropout(p=0.05, inplace=False)\n",
       "          (layer_norm): LayerNorm((1024,), eps=1e-05, elementwise_affine=True)\n",
       "          (feed_forward): Wav2Vec2FeedForward(\n",
       "            (intermediate_dropout): Dropout(p=0.0, inplace=False)\n",
       "            (intermediate_dense): Linear(in_features=1024, out_features=4096, bias=True)\n",
       "            (output_dense): Linear(in_features=4096, out_features=1024, bias=True)\n",
       "            (output_dropout): Dropout(p=0.05, inplace=False)\n",
       "          )\n",
       "          (final_layer_norm): LayerNorm((1024,), eps=1e-05, elementwise_affine=True)\n",
       "        )\n",
       "        (13): Wav2Vec2EncoderLayerStableLayerNorm(\n",
       "          (attention): Wav2Vec2Attention(\n",
       "            (k_proj): Linear(in_features=1024, out_features=1024, bias=True)\n",
       "            (v_proj): Linear(in_features=1024, out_features=1024, bias=True)\n",
       "            (q_proj): Linear(in_features=1024, out_features=1024, bias=True)\n",
       "            (out_proj): Linear(in_features=1024, out_features=1024, bias=True)\n",
       "          )\n",
       "          (dropout): Dropout(p=0.05, inplace=False)\n",
       "          (layer_norm): LayerNorm((1024,), eps=1e-05, elementwise_affine=True)\n",
       "          (feed_forward): Wav2Vec2FeedForward(\n",
       "            (intermediate_dropout): Dropout(p=0.0, inplace=False)\n",
       "            (intermediate_dense): Linear(in_features=1024, out_features=4096, bias=True)\n",
       "            (output_dense): Linear(in_features=4096, out_features=1024, bias=True)\n",
       "            (output_dropout): Dropout(p=0.05, inplace=False)\n",
       "          )\n",
       "          (final_layer_norm): LayerNorm((1024,), eps=1e-05, elementwise_affine=True)\n",
       "        )\n",
       "        (14): Wav2Vec2EncoderLayerStableLayerNorm(\n",
       "          (attention): Wav2Vec2Attention(\n",
       "            (k_proj): Linear(in_features=1024, out_features=1024, bias=True)\n",
       "            (v_proj): Linear(in_features=1024, out_features=1024, bias=True)\n",
       "            (q_proj): Linear(in_features=1024, out_features=1024, bias=True)\n",
       "            (out_proj): Linear(in_features=1024, out_features=1024, bias=True)\n",
       "          )\n",
       "          (dropout): Dropout(p=0.05, inplace=False)\n",
       "          (layer_norm): LayerNorm((1024,), eps=1e-05, elementwise_affine=True)\n",
       "          (feed_forward): Wav2Vec2FeedForward(\n",
       "            (intermediate_dropout): Dropout(p=0.0, inplace=False)\n",
       "            (intermediate_dense): Linear(in_features=1024, out_features=4096, bias=True)\n",
       "            (output_dense): Linear(in_features=4096, out_features=1024, bias=True)\n",
       "            (output_dropout): Dropout(p=0.05, inplace=False)\n",
       "          )\n",
       "          (final_layer_norm): LayerNorm((1024,), eps=1e-05, elementwise_affine=True)\n",
       "        )\n",
       "        (15): Wav2Vec2EncoderLayerStableLayerNorm(\n",
       "          (attention): Wav2Vec2Attention(\n",
       "            (k_proj): Linear(in_features=1024, out_features=1024, bias=True)\n",
       "            (v_proj): Linear(in_features=1024, out_features=1024, bias=True)\n",
       "            (q_proj): Linear(in_features=1024, out_features=1024, bias=True)\n",
       "            (out_proj): Linear(in_features=1024, out_features=1024, bias=True)\n",
       "          )\n",
       "          (dropout): Dropout(p=0.05, inplace=False)\n",
       "          (layer_norm): LayerNorm((1024,), eps=1e-05, elementwise_affine=True)\n",
       "          (feed_forward): Wav2Vec2FeedForward(\n",
       "            (intermediate_dropout): Dropout(p=0.0, inplace=False)\n",
       "            (intermediate_dense): Linear(in_features=1024, out_features=4096, bias=True)\n",
       "            (output_dense): Linear(in_features=4096, out_features=1024, bias=True)\n",
       "            (output_dropout): Dropout(p=0.05, inplace=False)\n",
       "          )\n",
       "          (final_layer_norm): LayerNorm((1024,), eps=1e-05, elementwise_affine=True)\n",
       "        )\n",
       "        (16): Wav2Vec2EncoderLayerStableLayerNorm(\n",
       "          (attention): Wav2Vec2Attention(\n",
       "            (k_proj): Linear(in_features=1024, out_features=1024, bias=True)\n",
       "            (v_proj): Linear(in_features=1024, out_features=1024, bias=True)\n",
       "            (q_proj): Linear(in_features=1024, out_features=1024, bias=True)\n",
       "            (out_proj): Linear(in_features=1024, out_features=1024, bias=True)\n",
       "          )\n",
       "          (dropout): Dropout(p=0.05, inplace=False)\n",
       "          (layer_norm): LayerNorm((1024,), eps=1e-05, elementwise_affine=True)\n",
       "          (feed_forward): Wav2Vec2FeedForward(\n",
       "            (intermediate_dropout): Dropout(p=0.0, inplace=False)\n",
       "            (intermediate_dense): Linear(in_features=1024, out_features=4096, bias=True)\n",
       "            (output_dense): Linear(in_features=4096, out_features=1024, bias=True)\n",
       "            (output_dropout): Dropout(p=0.05, inplace=False)\n",
       "          )\n",
       "          (final_layer_norm): LayerNorm((1024,), eps=1e-05, elementwise_affine=True)\n",
       "        )\n",
       "        (17): Wav2Vec2EncoderLayerStableLayerNorm(\n",
       "          (attention): Wav2Vec2Attention(\n",
       "            (k_proj): Linear(in_features=1024, out_features=1024, bias=True)\n",
       "            (v_proj): Linear(in_features=1024, out_features=1024, bias=True)\n",
       "            (q_proj): Linear(in_features=1024, out_features=1024, bias=True)\n",
       "            (out_proj): Linear(in_features=1024, out_features=1024, bias=True)\n",
       "          )\n",
       "          (dropout): Dropout(p=0.05, inplace=False)\n",
       "          (layer_norm): LayerNorm((1024,), eps=1e-05, elementwise_affine=True)\n",
       "          (feed_forward): Wav2Vec2FeedForward(\n",
       "            (intermediate_dropout): Dropout(p=0.0, inplace=False)\n",
       "            (intermediate_dense): Linear(in_features=1024, out_features=4096, bias=True)\n",
       "            (output_dense): Linear(in_features=4096, out_features=1024, bias=True)\n",
       "            (output_dropout): Dropout(p=0.05, inplace=False)\n",
       "          )\n",
       "          (final_layer_norm): LayerNorm((1024,), eps=1e-05, elementwise_affine=True)\n",
       "        )\n",
       "        (18): Wav2Vec2EncoderLayerStableLayerNorm(\n",
       "          (attention): Wav2Vec2Attention(\n",
       "            (k_proj): Linear(in_features=1024, out_features=1024, bias=True)\n",
       "            (v_proj): Linear(in_features=1024, out_features=1024, bias=True)\n",
       "            (q_proj): Linear(in_features=1024, out_features=1024, bias=True)\n",
       "            (out_proj): Linear(in_features=1024, out_features=1024, bias=True)\n",
       "          )\n",
       "          (dropout): Dropout(p=0.05, inplace=False)\n",
       "          (layer_norm): LayerNorm((1024,), eps=1e-05, elementwise_affine=True)\n",
       "          (feed_forward): Wav2Vec2FeedForward(\n",
       "            (intermediate_dropout): Dropout(p=0.0, inplace=False)\n",
       "            (intermediate_dense): Linear(in_features=1024, out_features=4096, bias=True)\n",
       "            (output_dense): Linear(in_features=4096, out_features=1024, bias=True)\n",
       "            (output_dropout): Dropout(p=0.05, inplace=False)\n",
       "          )\n",
       "          (final_layer_norm): LayerNorm((1024,), eps=1e-05, elementwise_affine=True)\n",
       "        )\n",
       "        (19): Wav2Vec2EncoderLayerStableLayerNorm(\n",
       "          (attention): Wav2Vec2Attention(\n",
       "            (k_proj): Linear(in_features=1024, out_features=1024, bias=True)\n",
       "            (v_proj): Linear(in_features=1024, out_features=1024, bias=True)\n",
       "            (q_proj): Linear(in_features=1024, out_features=1024, bias=True)\n",
       "            (out_proj): Linear(in_features=1024, out_features=1024, bias=True)\n",
       "          )\n",
       "          (dropout): Dropout(p=0.05, inplace=False)\n",
       "          (layer_norm): LayerNorm((1024,), eps=1e-05, elementwise_affine=True)\n",
       "          (feed_forward): Wav2Vec2FeedForward(\n",
       "            (intermediate_dropout): Dropout(p=0.0, inplace=False)\n",
       "            (intermediate_dense): Linear(in_features=1024, out_features=4096, bias=True)\n",
       "            (output_dense): Linear(in_features=4096, out_features=1024, bias=True)\n",
       "            (output_dropout): Dropout(p=0.05, inplace=False)\n",
       "          )\n",
       "          (final_layer_norm): LayerNorm((1024,), eps=1e-05, elementwise_affine=True)\n",
       "        )\n",
       "        (20): Wav2Vec2EncoderLayerStableLayerNorm(\n",
       "          (attention): Wav2Vec2Attention(\n",
       "            (k_proj): Linear(in_features=1024, out_features=1024, bias=True)\n",
       "            (v_proj): Linear(in_features=1024, out_features=1024, bias=True)\n",
       "            (q_proj): Linear(in_features=1024, out_features=1024, bias=True)\n",
       "            (out_proj): Linear(in_features=1024, out_features=1024, bias=True)\n",
       "          )\n",
       "          (dropout): Dropout(p=0.05, inplace=False)\n",
       "          (layer_norm): LayerNorm((1024,), eps=1e-05, elementwise_affine=True)\n",
       "          (feed_forward): Wav2Vec2FeedForward(\n",
       "            (intermediate_dropout): Dropout(p=0.0, inplace=False)\n",
       "            (intermediate_dense): Linear(in_features=1024, out_features=4096, bias=True)\n",
       "            (output_dense): Linear(in_features=4096, out_features=1024, bias=True)\n",
       "            (output_dropout): Dropout(p=0.05, inplace=False)\n",
       "          )\n",
       "          (final_layer_norm): LayerNorm((1024,), eps=1e-05, elementwise_affine=True)\n",
       "        )\n",
       "        (21): Wav2Vec2EncoderLayerStableLayerNorm(\n",
       "          (attention): Wav2Vec2Attention(\n",
       "            (k_proj): Linear(in_features=1024, out_features=1024, bias=True)\n",
       "            (v_proj): Linear(in_features=1024, out_features=1024, bias=True)\n",
       "            (q_proj): Linear(in_features=1024, out_features=1024, bias=True)\n",
       "            (out_proj): Linear(in_features=1024, out_features=1024, bias=True)\n",
       "          )\n",
       "          (dropout): Dropout(p=0.05, inplace=False)\n",
       "          (layer_norm): LayerNorm((1024,), eps=1e-05, elementwise_affine=True)\n",
       "          (feed_forward): Wav2Vec2FeedForward(\n",
       "            (intermediate_dropout): Dropout(p=0.0, inplace=False)\n",
       "            (intermediate_dense): Linear(in_features=1024, out_features=4096, bias=True)\n",
       "            (output_dense): Linear(in_features=4096, out_features=1024, bias=True)\n",
       "            (output_dropout): Dropout(p=0.05, inplace=False)\n",
       "          )\n",
       "          (final_layer_norm): LayerNorm((1024,), eps=1e-05, elementwise_affine=True)\n",
       "        )\n",
       "        (22): Wav2Vec2EncoderLayerStableLayerNorm(\n",
       "          (attention): Wav2Vec2Attention(\n",
       "            (k_proj): Linear(in_features=1024, out_features=1024, bias=True)\n",
       "            (v_proj): Linear(in_features=1024, out_features=1024, bias=True)\n",
       "            (q_proj): Linear(in_features=1024, out_features=1024, bias=True)\n",
       "            (out_proj): Linear(in_features=1024, out_features=1024, bias=True)\n",
       "          )\n",
       "          (dropout): Dropout(p=0.05, inplace=False)\n",
       "          (layer_norm): LayerNorm((1024,), eps=1e-05, elementwise_affine=True)\n",
       "          (feed_forward): Wav2Vec2FeedForward(\n",
       "            (intermediate_dropout): Dropout(p=0.0, inplace=False)\n",
       "            (intermediate_dense): Linear(in_features=1024, out_features=4096, bias=True)\n",
       "            (output_dense): Linear(in_features=4096, out_features=1024, bias=True)\n",
       "            (output_dropout): Dropout(p=0.05, inplace=False)\n",
       "          )\n",
       "          (final_layer_norm): LayerNorm((1024,), eps=1e-05, elementwise_affine=True)\n",
       "        )\n",
       "        (23): Wav2Vec2EncoderLayerStableLayerNorm(\n",
       "          (attention): Wav2Vec2Attention(\n",
       "            (k_proj): Linear(in_features=1024, out_features=1024, bias=True)\n",
       "            (v_proj): Linear(in_features=1024, out_features=1024, bias=True)\n",
       "            (q_proj): Linear(in_features=1024, out_features=1024, bias=True)\n",
       "            (out_proj): Linear(in_features=1024, out_features=1024, bias=True)\n",
       "          )\n",
       "          (dropout): Dropout(p=0.05, inplace=False)\n",
       "          (layer_norm): LayerNorm((1024,), eps=1e-05, elementwise_affine=True)\n",
       "          (feed_forward): Wav2Vec2FeedForward(\n",
       "            (intermediate_dropout): Dropout(p=0.0, inplace=False)\n",
       "            (intermediate_dense): Linear(in_features=1024, out_features=4096, bias=True)\n",
       "            (output_dense): Linear(in_features=4096, out_features=1024, bias=True)\n",
       "            (output_dropout): Dropout(p=0.05, inplace=False)\n",
       "          )\n",
       "          (final_layer_norm): LayerNorm((1024,), eps=1e-05, elementwise_affine=True)\n",
       "        )\n",
       "      )\n",
       "    )\n",
       "  )\n",
       "  (dropout): Dropout(p=0.0, inplace=False)\n",
       "  (lm_head): Linear(in_features=1024, out_features=76, bias=True)\n",
       ")"
      ]
     },
     "execution_count": 14,
     "metadata": {},
     "output_type": "execute_result"
    }
   ],
   "source": [
    "# Load the model we want to evaluate. Here, I'm using the final model but \n",
    "# you can also load from a checkpoint.\n",
    "from transformers import Wav2Vec2Processor\n",
    "from transformers import Wav2Vec2ForCTC\n",
    "\n",
    "eval_processor = Wav2Vec2Processor.from_pretrained(f\"{output_models_dir}/final/\")\n",
    "eval_model = Wav2Vec2ForCTC.from_pretrained(f\"{output_models_dir}/final/\") \n",
    "eval_model.to(\"cuda\")"
   ]
  },
  {
   "cell_type": "code",
   "execution_count": 24,
   "metadata": {},
   "outputs": [
    {
     "data": {
      "application/vnd.jupyter.widget-view+json": {
       "model_id": "68b91746ca9c4badbefeefb16e4f79e1",
       "version_major": 2,
       "version_minor": 0
      },
      "text/plain": [
       "HBox(children=(FloatProgress(value=0.0, max=3055.0), HTML(value='')))"
      ]
     },
     "metadata": {},
     "output_type": "display_data"
    },
    {
     "name": "stdout",
     "output_type": "stream",
     "text": [
      "\n"
     ]
    },
    {
     "data": {
      "application/vnd.jupyter.widget-view+json": {
       "model_id": "55e641ae179146c59f13fb691b0ffb67",
       "version_major": 2,
       "version_minor": 0
      },
      "text/plain": [
       "HBox(children=(FloatProgress(value=0.0, max=382.0), HTML(value='')))"
      ]
     },
     "metadata": {},
     "output_type": "display_data"
    },
    {
     "name": "stdout",
     "output_type": "stream",
     "text": [
      "\n",
      "WER: 28.432890\n"
     ]
    }
   ],
   "source": [
    "import torchaudio\n",
    "import torch\n",
    "import re\n",
    "import librosa\n",
    "\n",
    "# Evaluating on the test dataset\n",
    "test_dataset = datasets.concatenate_datasets([split['test'] for split in split_list])\n",
    "\n",
    "wer = load_metric(\"wer\")\n",
    "\n",
    "resamplers = {\n",
    "    48000: torchaudio.transforms.Resample(48_000, 16_000),\n",
    "}\n",
    "\n",
    "\n",
    "chars_to_ignore_regex = '[\\,\\?\\.\\!\\-\\;\\:\\\"\\“\\%\\‘\\”\\�Utrnle\\_]'\n",
    "unicode_ignore_regex = r'[\\u200e]'\n",
    "\n",
    "# Preprocessing the datasets.\n",
    "# We need to read the audio files as arrays\n",
    "def speech_file_to_array_fn(batch):\n",
    "    batch[\"sentence\"] = re.sub(chars_to_ignore_regex, '', batch[\"sentence\"])\n",
    "    batch[\"sentence\"] = re.sub(unicode_ignore_regex, '', batch[\"sentence\"])\n",
    "    speech_array, sampling_rate = torchaudio.load(batch[\"path\"])\n",
    "    # Resample if required\n",
    "    if sampling_rate !=16000:\n",
    "        batch[\"speech\"] = resamplers[sampling_rate](speech_array).squeeze().numpy()\n",
    "    else:\n",
    "        batch[\"speech\"] = speech_array.squeeze().numpy()\n",
    "    # If more than one dimension is present, pick first one\n",
    "    if batch[\"speech\"].ndim > 1:\n",
    "        batch[\"speech\"] = batch[\"speech\"][0]\n",
    "    return batch\n",
    "\n",
    "test_dataset = test_dataset.map(speech_file_to_array_fn)\n",
    "\n",
    "# Preprocessing the datasets.\n",
    "# We need to read the audio files as arrays\n",
    "def evaluate(batch):\n",
    "    inputs = eval_processor(batch[\"speech\"], sampling_rate=16_000, return_tensors=\"pt\", padding=True)\n",
    "\n",
    "    with torch.no_grad():\n",
    "        logits = eval_model(inputs.input_values.to(\"cuda\"), attention_mask=inputs.attention_mask.to(\"cuda\")).logits\n",
    "\n",
    "    pred_ids = torch.argmax(logits, dim=-1)\n",
    "    batch[\"pred_strings\"] = eval_processor.batch_decode(pred_ids)\n",
    "    return batch\n",
    "\n",
    "result = test_dataset.map(evaluate, batched=True, batch_size=8)\n",
    "\n",
    "print(\"WER: {:2f}\".format(100 * wer.compute(predictions=result[\"pred_strings\"], references=result[\"sentence\"])))"
   ]
  },
  {
   "cell_type": "markdown",
   "metadata": {
    "id": "RHIVc44_fY2N"
   },
   "source": [
    "The resulting model of this notebook has been saved to [`gvs/wav2vec2-large-xlsr-malayalam`](https://huggingface.co/gvs/wav2vec2-large-xlsr-malayalam)\n",
    "\n",
    "As a final check, let's load the model and verify that it indeed has learned to transcribe Malayalam speech.\n",
    "\n",
    "Let's first load the pretrained checkpoint."
   ]
  },
  {
   "cell_type": "code",
   "execution_count": null,
   "metadata": {
    "colab": {
     "base_uri": "https://localhost:8080/"
    },
    "id": "J8E8pxJ9hgZS",
    "outputId": "5d137935-475d-4dbf-d833-d26780311e18"
   },
   "outputs": [],
   "source": [
    "model = Wav2Vec2ForCTC.from_pretrained(pretrain_model).to(\"cuda\")\n",
    "processor = Wav2Vec2Processor.from_pretrained(pretrain_model)"
   ]
  },
  {
   "cell_type": "markdown",
   "metadata": {
    "id": "QsfGCQYSvY8C"
   },
   "source": [
    "Now, we will just take the first example of the test set, run it through the model and take the `argmax(...)` of the logits to retrieve the predicted token ids."
   ]
  },
  {
   "cell_type": "code",
   "execution_count": 56,
   "metadata": {
    "colab": {
     "base_uri": "https://localhost:8080/"
    },
    "id": "EA6fxk-jiHby",
    "outputId": "8b91a977-2559-4adc-8298-b4ad6b7ff196"
   },
   "outputs": [
    {
     "name": "stderr",
     "output_type": "stream",
     "text": [
      "It is strongly recommended to pass the ``sampling_rate`` argument to this function.Failing to do so can result in silent errors that might be hard to debug.\n"
     ]
    }
   ],
   "source": [
    "input_dict = processor(common_voice_test[\"input_values\"][0], return_tensors=\"pt\", padding=True)\n",
    "\n",
    "logits = model(input_dict.input_values.to(\"cuda\")).logits\n",
    "\n",
    "pred_ids = torch.argmax(logits, dim=-1)[0]"
   ]
  },
  {
   "cell_type": "markdown",
   "metadata": {
    "id": "1JDyVCMDvlYd"
   },
   "source": [
    "We adapted `common_voice_test` quite a bit so that the dataset instance does not contain the original sentence label anymore. Thus, we re-use the original dataset to get the label of the first example."
   ]
  },
  {
   "cell_type": "markdown",
   "metadata": {
    "id": "ApS3MmN4v5P7"
   },
   "source": [
    "Finally, we can decode the example."
   ]
  },
  {
   "cell_type": "code",
   "execution_count": 57,
   "metadata": {
    "colab": {
     "base_uri": "https://localhost:8080/"
    },
    "id": "Phqxa1O1jMDk",
    "outputId": "60d48c9f-f745-45ac-9105-446dc71025ca"
   },
   "outputs": [
    {
     "name": "stdout",
     "output_type": "stream",
     "text": [
      "Prediction:\n",
      "അതിനെക്കുറിച്ച് തന്നെയായി അദ്ദേഹം മിക്കവാറും ഒന്നും എഴുതിയിട്ടില്ല\n",
      "\n",
      "Reference:\n",
      "അതിനെക്കുറിച്ച് തന്നെയായി അദ്ദേഹം മിക്കവാറും ഒന്നും എഴുതിയിട്ടില്ല\n"
     ]
    }
   ],
   "source": [
    "print(\"Prediction:\")\n",
    "print(processor.decode(pred_ids))\n",
    "\n",
    "print(\"\\nReference:\")\n",
    "print(test_dataset[\"sentence\"][0].lower())\n"
   ]
  },
  {
   "cell_type": "markdown",
   "metadata": {
    "id": "4n_8vhzUv7aw"
   },
   "source": [
    "Looks good :)"
   ]
  },
  {
   "cell_type": "code",
   "execution_count": null,
   "metadata": {},
   "outputs": [],
   "source": []
  }
 ],
 "metadata": {
  "accelerator": "GPU",
  "colab": {
   "collapsed_sections": [],
   "include_colab_link": true,
   "machine_shape": "hm",
   "name": "Fine-Tune XLSR-Wav2Vec2 on Turkish ASR with 🤗 Transformers.ipynb",
   "provenance": []
  },
  "kernelspec": {
   "display_name": "Python 3",
   "language": "python",
   "name": "python3"
  },
  "language_info": {
   "codemirror_mode": {
    "name": "ipython",
    "version": 3
   },
   "file_extension": ".py",
   "mimetype": "text/x-python",
   "name": "python",
   "nbconvert_exporter": "python",
   "pygments_lexer": "ipython3",
   "version": "3.7.6"
  },
  "widgets": {
   "application/vnd.jupyter.widget-state+json": {
    "015c5690e1ea4281954c7efda1c80a6a": {
     "model_module": "@jupyter-widgets/controls",
     "model_name": "FloatProgressModel",
     "state": {
      "_dom_classes": [],
      "_model_module": "@jupyter-widgets/controls",
      "_model_module_version": "1.5.0",
      "_model_name": "FloatProgressModel",
      "_view_count": null,
      "_view_module": "@jupyter-widgets/controls",
      "_view_module_version": "1.5.0",
      "_view_name": "ProgressView",
      "bar_style": "success",
      "description": "#1: 100%",
      "description_tooltip": null,
      "layout": "IPY_MODEL_dec796237765477ea904834d9a824b61",
      "max": 109,
      "min": 0,
      "orientation": "horizontal",
      "style": "IPY_MODEL_2f727c76652944e3892dd584bea11af2",
      "value": 109
     }
    },
    "018c1f8e198e4df4b480e609bd1be602": {
     "model_module": "@jupyter-widgets/controls",
     "model_name": "HTMLModel",
     "state": {
      "_dom_classes": [],
      "_model_module": "@jupyter-widgets/controls",
      "_model_module_version": "1.5.0",
      "_model_name": "HTMLModel",
      "_view_count": null,
      "_view_module": "@jupyter-widgets/controls",
      "_view_module_version": "1.5.0",
      "_view_name": "HTMLView",
      "description": "",
      "description_tooltip": null,
      "layout": "IPY_MODEL_768ab09956774f50a79b2493a8bf179b",
      "placeholder": "​",
      "style": "IPY_MODEL_d35c15beeb33476894b07c3563f8facd",
      "value": " 109/109 [00:56&lt;00:00,  1.92ba/s]"
     }
    },
    "020bdb330b0d40f5b89697ff37025f69": {
     "model_module": "@jupyter-widgets/base",
     "model_name": "LayoutModel",
     "state": {
      "_model_module": "@jupyter-widgets/base",
      "_model_module_version": "1.2.0",
      "_model_name": "LayoutModel",
      "_view_count": null,
      "_view_module": "@jupyter-widgets/base",
      "_view_module_version": "1.2.0",
      "_view_name": "LayoutView",
      "align_content": null,
      "align_items": null,
      "align_self": null,
      "border": null,
      "bottom": null,
      "display": null,
      "flex": null,
      "flex_flow": null,
      "grid_area": null,
      "grid_auto_columns": null,
      "grid_auto_flow": null,
      "grid_auto_rows": null,
      "grid_column": null,
      "grid_gap": null,
      "grid_row": null,
      "grid_template_areas": null,
      "grid_template_columns": null,
      "grid_template_rows": null,
      "height": null,
      "justify_content": null,
      "justify_items": null,
      "left": null,
      "margin": null,
      "max_height": null,
      "max_width": null,
      "min_height": null,
      "min_width": null,
      "object_fit": null,
      "object_position": null,
      "order": null,
      "overflow": null,
      "overflow_x": null,
      "overflow_y": null,
      "padding": null,
      "right": null,
      "top": null,
      "visibility": null,
      "width": null
     }
    },
    "024989cea06f435894776b0a921164b2": {
     "model_module": "@jupyter-widgets/controls",
     "model_name": "ProgressStyleModel",
     "state": {
      "_model_module": "@jupyter-widgets/controls",
      "_model_module_version": "1.5.0",
      "_model_name": "ProgressStyleModel",
      "_view_count": null,
      "_view_module": "@jupyter-widgets/base",
      "_view_module_version": "1.2.0",
      "_view_name": "StyleView",
      "bar_color": null,
      "description_width": "initial"
     }
    },
    "02bdb06c176145feaa842b97ae58609c": {
     "model_module": "@jupyter-widgets/controls",
     "model_name": "DescriptionStyleModel",
     "state": {
      "_model_module": "@jupyter-widgets/controls",
      "_model_module_version": "1.5.0",
      "_model_name": "DescriptionStyleModel",
      "_view_count": null,
      "_view_module": "@jupyter-widgets/base",
      "_view_module_version": "1.2.0",
      "_view_name": "StyleView",
      "description_width": ""
     }
    },
    "02d1f77324854fbca0df9384c57faac8": {
     "model_module": "@jupyter-widgets/controls",
     "model_name": "FloatProgressModel",
     "state": {
      "_dom_classes": [],
      "_model_module": "@jupyter-widgets/controls",
      "_model_module_version": "1.5.0",
      "_model_name": "FloatProgressModel",
      "_view_count": null,
      "_view_module": "@jupyter-widgets/controls",
      "_view_module_version": "1.5.0",
      "_view_name": "ProgressView",
      "bar_style": "success",
      "description": "#3: 100%",
      "description_tooltip": null,
      "layout": "IPY_MODEL_d4a3f79644fc41848450ba29e6fdfc3d",
      "max": 52,
      "min": 0,
      "orientation": "horizontal",
      "style": "IPY_MODEL_704ea5e05fd744d998b76d6435992995",
      "value": 52
     }
    },
    "0354ab33471e4c34a0c1b3c062bcd6bb": {
     "model_module": "@jupyter-widgets/base",
     "model_name": "LayoutModel",
     "state": {
      "_model_module": "@jupyter-widgets/base",
      "_model_module_version": "1.2.0",
      "_model_name": "LayoutModel",
      "_view_count": null,
      "_view_module": "@jupyter-widgets/base",
      "_view_module_version": "1.2.0",
      "_view_name": "LayoutView",
      "align_content": null,
      "align_items": null,
      "align_self": null,
      "border": null,
      "bottom": null,
      "display": null,
      "flex": null,
      "flex_flow": null,
      "grid_area": null,
      "grid_auto_columns": null,
      "grid_auto_flow": null,
      "grid_auto_rows": null,
      "grid_column": null,
      "grid_gap": null,
      "grid_row": null,
      "grid_template_areas": null,
      "grid_template_columns": null,
      "grid_template_rows": null,
      "height": null,
      "justify_content": null,
      "justify_items": null,
      "left": null,
      "margin": null,
      "max_height": null,
      "max_width": null,
      "min_height": null,
      "min_width": null,
      "object_fit": null,
      "object_position": null,
      "order": null,
      "overflow": null,
      "overflow_x": null,
      "overflow_y": null,
      "padding": null,
      "right": null,
      "top": null,
      "visibility": null,
      "width": null
     }
    },
    "03b33c17734d49e28c4636dddd6e833d": {
     "model_module": "@jupyter-widgets/controls",
     "model_name": "FloatProgressModel",
     "state": {
      "_dom_classes": [],
      "_model_module": "@jupyter-widgets/controls",
      "_model_module_version": "1.5.0",
      "_model_name": "FloatProgressModel",
      "_view_count": null,
      "_view_module": "@jupyter-widgets/controls",
      "_view_module_version": "1.5.0",
      "_view_name": "ProgressView",
      "bar_style": "info",
      "description": "",
      "description_tooltip": null,
      "layout": "IPY_MODEL_bee0f50055eb4f738636142a10da0ddd",
      "max": 1,
      "min": 0,
      "orientation": "horizontal",
      "style": "IPY_MODEL_da1ff50f8b9241108a325ada04224642",
      "value": 1
     }
    },
    "05f83d714f864a399083f0e34a812467": {
     "model_module": "@jupyter-widgets/controls",
     "model_name": "DescriptionStyleModel",
     "state": {
      "_model_module": "@jupyter-widgets/controls",
      "_model_module_version": "1.5.0",
      "_model_name": "DescriptionStyleModel",
      "_view_count": null,
      "_view_module": "@jupyter-widgets/base",
      "_view_module_version": "1.2.0",
      "_view_name": "StyleView",
      "description_width": ""
     }
    },
    "089428f56e66419f85ea149d9d102454": {
     "model_module": "@jupyter-widgets/controls",
     "model_name": "HBoxModel",
     "state": {
      "_dom_classes": [],
      "_model_module": "@jupyter-widgets/controls",
      "_model_module_version": "1.5.0",
      "_model_name": "HBoxModel",
      "_view_count": null,
      "_view_module": "@jupyter-widgets/controls",
      "_view_module_version": "1.5.0",
      "_view_name": "HBoxView",
      "box_style": "",
      "children": [
       "IPY_MODEL_4db5037af3f64a3a8a8a1203018a80ff",
       "IPY_MODEL_6a957c1c17474d8d89c27ddecf702fda"
      ],
      "layout": "IPY_MODEL_d649c0f9c1c24634a84b7ef697721ffa"
     }
    },
    "0987aac282af415da2fbc9dc1b4d5069": {
     "model_module": "@jupyter-widgets/base",
     "model_name": "LayoutModel",
     "state": {
      "_model_module": "@jupyter-widgets/base",
      "_model_module_version": "1.2.0",
      "_model_name": "LayoutModel",
      "_view_count": null,
      "_view_module": "@jupyter-widgets/base",
      "_view_module_version": "1.2.0",
      "_view_name": "LayoutView",
      "align_content": null,
      "align_items": null,
      "align_self": null,
      "border": null,
      "bottom": null,
      "display": null,
      "flex": null,
      "flex_flow": null,
      "grid_area": null,
      "grid_auto_columns": null,
      "grid_auto_flow": null,
      "grid_auto_rows": null,
      "grid_column": null,
      "grid_gap": null,
      "grid_row": null,
      "grid_template_areas": null,
      "grid_template_columns": null,
      "grid_template_rows": null,
      "height": null,
      "justify_content": null,
      "justify_items": null,
      "left": null,
      "margin": null,
      "max_height": null,
      "max_width": null,
      "min_height": null,
      "min_width": null,
      "object_fit": null,
      "object_position": null,
      "order": null,
      "overflow": null,
      "overflow_x": null,
      "overflow_y": null,
      "padding": null,
      "right": null,
      "top": null,
      "visibility": null,
      "width": null
     }
    },
    "0a9b58c98508420d8f8936189f064316": {
     "model_module": "@jupyter-widgets/controls",
     "model_name": "FloatProgressModel",
     "state": {
      "_dom_classes": [],
      "_model_module": "@jupyter-widgets/controls",
      "_model_module_version": "1.5.0",
      "_model_name": "FloatProgressModel",
      "_view_count": null,
      "_view_module": "@jupyter-widgets/controls",
      "_view_module_version": "1.5.0",
      "_view_name": "ProgressView",
      "bar_style": "info",
      "description": "",
      "description_tooltip": null,
      "layout": "IPY_MODEL_af85713f677243d19cba9fe69a4a5f46",
      "max": 1,
      "min": 0,
      "orientation": "horizontal",
      "style": "IPY_MODEL_c546bca23ee248a1be7bd8ead3e82a8f",
      "value": 1
     }
    },
    "0b795d4b68014de19bf9579c67b55ffb": {
     "model_module": "@jupyter-widgets/controls",
     "model_name": "DescriptionStyleModel",
     "state": {
      "_model_module": "@jupyter-widgets/controls",
      "_model_module_version": "1.5.0",
      "_model_name": "DescriptionStyleModel",
      "_view_count": null,
      "_view_module": "@jupyter-widgets/base",
      "_view_module_version": "1.2.0",
      "_view_name": "StyleView",
      "description_width": ""
     }
    },
    "0cd1932178c945d48604ffd299e65d2c": {
     "model_module": "@jupyter-widgets/base",
     "model_name": "LayoutModel",
     "state": {
      "_model_module": "@jupyter-widgets/base",
      "_model_module_version": "1.2.0",
      "_model_name": "LayoutModel",
      "_view_count": null,
      "_view_module": "@jupyter-widgets/base",
      "_view_module_version": "1.2.0",
      "_view_name": "LayoutView",
      "align_content": null,
      "align_items": null,
      "align_self": null,
      "border": null,
      "bottom": null,
      "display": null,
      "flex": null,
      "flex_flow": null,
      "grid_area": null,
      "grid_auto_columns": null,
      "grid_auto_flow": null,
      "grid_auto_rows": null,
      "grid_column": null,
      "grid_gap": null,
      "grid_row": null,
      "grid_template_areas": null,
      "grid_template_columns": null,
      "grid_template_rows": null,
      "height": null,
      "justify_content": null,
      "justify_items": null,
      "left": null,
      "margin": null,
      "max_height": null,
      "max_width": null,
      "min_height": null,
      "min_width": null,
      "object_fit": null,
      "object_position": null,
      "order": null,
      "overflow": null,
      "overflow_x": null,
      "overflow_y": null,
      "padding": null,
      "right": null,
      "top": null,
      "visibility": null,
      "width": null
     }
    },
    "0e999af234bd4b63ad2937e61d08b693": {
     "model_module": "@jupyter-widgets/base",
     "model_name": "LayoutModel",
     "state": {
      "_model_module": "@jupyter-widgets/base",
      "_model_module_version": "1.2.0",
      "_model_name": "LayoutModel",
      "_view_count": null,
      "_view_module": "@jupyter-widgets/base",
      "_view_module_version": "1.2.0",
      "_view_name": "LayoutView",
      "align_content": null,
      "align_items": null,
      "align_self": null,
      "border": null,
      "bottom": null,
      "display": null,
      "flex": null,
      "flex_flow": null,
      "grid_area": null,
      "grid_auto_columns": null,
      "grid_auto_flow": null,
      "grid_auto_rows": null,
      "grid_column": null,
      "grid_gap": null,
      "grid_row": null,
      "grid_template_areas": null,
      "grid_template_columns": null,
      "grid_template_rows": null,
      "height": null,
      "justify_content": null,
      "justify_items": null,
      "left": null,
      "margin": null,
      "max_height": null,
      "max_width": null,
      "min_height": null,
      "min_width": null,
      "object_fit": null,
      "object_position": null,
      "order": null,
      "overflow": null,
      "overflow_x": null,
      "overflow_y": null,
      "padding": null,
      "right": null,
      "top": null,
      "visibility": null,
      "width": null
     }
    },
    "0f3756509e3b405d87936f599b153de2": {
     "model_module": "@jupyter-widgets/base",
     "model_name": "LayoutModel",
     "state": {
      "_model_module": "@jupyter-widgets/base",
      "_model_module_version": "1.2.0",
      "_model_name": "LayoutModel",
      "_view_count": null,
      "_view_module": "@jupyter-widgets/base",
      "_view_module_version": "1.2.0",
      "_view_name": "LayoutView",
      "align_content": null,
      "align_items": null,
      "align_self": null,
      "border": null,
      "bottom": null,
      "display": null,
      "flex": null,
      "flex_flow": null,
      "grid_area": null,
      "grid_auto_columns": null,
      "grid_auto_flow": null,
      "grid_auto_rows": null,
      "grid_column": null,
      "grid_gap": null,
      "grid_row": null,
      "grid_template_areas": null,
      "grid_template_columns": null,
      "grid_template_rows": null,
      "height": null,
      "justify_content": null,
      "justify_items": null,
      "left": null,
      "margin": null,
      "max_height": null,
      "max_width": null,
      "min_height": null,
      "min_width": null,
      "object_fit": null,
      "object_position": null,
      "order": null,
      "overflow": null,
      "overflow_x": null,
      "overflow_y": null,
      "padding": null,
      "right": null,
      "top": null,
      "visibility": null,
      "width": null
     }
    },
    "0f99011a13754ed99f3c51a478b0e793": {
     "model_module": "@jupyter-widgets/controls",
     "model_name": "HBoxModel",
     "state": {
      "_dom_classes": [],
      "_model_module": "@jupyter-widgets/controls",
      "_model_module_version": "1.5.0",
      "_model_name": "HBoxModel",
      "_view_count": null,
      "_view_module": "@jupyter-widgets/controls",
      "_view_module_version": "1.5.0",
      "_view_name": "HBoxView",
      "box_style": "",
      "children": [
       "IPY_MODEL_bd187486ac2548f2961cfcb63d852de1",
       "IPY_MODEL_3f780f0aa8834fc189b292e0474e2ffa"
      ],
      "layout": "IPY_MODEL_4abe2731ec624729b401d60a392cae63"
     }
    },
    "0ffcbedb8d4444508ac0c3c0b41ea8ac": {
     "model_module": "@jupyter-widgets/base",
     "model_name": "LayoutModel",
     "state": {
      "_model_module": "@jupyter-widgets/base",
      "_model_module_version": "1.2.0",
      "_model_name": "LayoutModel",
      "_view_count": null,
      "_view_module": "@jupyter-widgets/base",
      "_view_module_version": "1.2.0",
      "_view_name": "LayoutView",
      "align_content": null,
      "align_items": null,
      "align_self": null,
      "border": null,
      "bottom": null,
      "display": null,
      "flex": null,
      "flex_flow": null,
      "grid_area": null,
      "grid_auto_columns": null,
      "grid_auto_flow": null,
      "grid_auto_rows": null,
      "grid_column": null,
      "grid_gap": null,
      "grid_row": null,
      "grid_template_areas": null,
      "grid_template_columns": null,
      "grid_template_rows": null,
      "height": null,
      "justify_content": null,
      "justify_items": null,
      "left": null,
      "margin": null,
      "max_height": null,
      "max_width": null,
      "min_height": null,
      "min_width": null,
      "object_fit": null,
      "object_position": null,
      "order": null,
      "overflow": null,
      "overflow_x": null,
      "overflow_y": null,
      "padding": null,
      "right": null,
      "top": null,
      "visibility": null,
      "width": null
     }
    },
    "1261590ef796493798f7068ea0547b74": {
     "model_module": "@jupyter-widgets/controls",
     "model_name": "ProgressStyleModel",
     "state": {
      "_model_module": "@jupyter-widgets/controls",
      "_model_module_version": "1.5.0",
      "_model_name": "ProgressStyleModel",
      "_view_count": null,
      "_view_module": "@jupyter-widgets/base",
      "_view_module_version": "1.2.0",
      "_view_name": "StyleView",
      "bar_color": null,
      "description_width": "initial"
     }
    },
    "12696cc03f464a63a411efb2b5e5ac3b": {
     "model_module": "@jupyter-widgets/controls",
     "model_name": "HTMLModel",
     "state": {
      "_dom_classes": [],
      "_model_module": "@jupyter-widgets/controls",
      "_model_module_version": "1.5.0",
      "_model_name": "HTMLModel",
      "_view_count": null,
      "_view_module": "@jupyter-widgets/controls",
      "_view_module_version": "1.5.0",
      "_view_name": "HTMLView",
      "description": "",
      "description_tooltip": null,
      "layout": "IPY_MODEL_ceb44ba4fdf34da19a52469acf1ce63f",
      "placeholder": "​",
      "style": "IPY_MODEL_68a3178fe7a54e838e798ff28ff9aa0b",
      "value": " 139k/? [00:00&lt;00:00, 2.38MB/s]"
     }
    },
    "1813458f75514f039ba0214597a09bb4": {
     "model_module": "@jupyter-widgets/base",
     "model_name": "LayoutModel",
     "state": {
      "_model_module": "@jupyter-widgets/base",
      "_model_module_version": "1.2.0",
      "_model_name": "LayoutModel",
      "_view_count": null,
      "_view_module": "@jupyter-widgets/base",
      "_view_module_version": "1.2.0",
      "_view_name": "LayoutView",
      "align_content": null,
      "align_items": null,
      "align_self": null,
      "border": null,
      "bottom": null,
      "display": null,
      "flex": null,
      "flex_flow": null,
      "grid_area": null,
      "grid_auto_columns": null,
      "grid_auto_flow": null,
      "grid_auto_rows": null,
      "grid_column": null,
      "grid_gap": null,
      "grid_row": null,
      "grid_template_areas": null,
      "grid_template_columns": null,
      "grid_template_rows": null,
      "height": null,
      "justify_content": null,
      "justify_items": null,
      "left": null,
      "margin": null,
      "max_height": null,
      "max_width": null,
      "min_height": null,
      "min_width": null,
      "object_fit": null,
      "object_position": null,
      "order": null,
      "overflow": null,
      "overflow_x": null,
      "overflow_y": null,
      "padding": null,
      "right": null,
      "top": null,
      "visibility": null,
      "width": null
     }
    },
    "19e263785ea343ba99ee2127d9b83d1d": {
     "model_module": "@jupyter-widgets/controls",
     "model_name": "DescriptionStyleModel",
     "state": {
      "_model_module": "@jupyter-widgets/controls",
      "_model_module_version": "1.5.0",
      "_model_name": "DescriptionStyleModel",
      "_view_count": null,
      "_view_module": "@jupyter-widgets/base",
      "_view_module_version": "1.2.0",
      "_view_name": "StyleView",
      "description_width": ""
     }
    },
    "1f1faa7b986e475c9e6839b2e7b55c74": {
     "model_module": "@jupyter-widgets/controls",
     "model_name": "HTMLModel",
     "state": {
      "_dom_classes": [],
      "_model_module": "@jupyter-widgets/controls",
      "_model_module_version": "1.5.0",
      "_model_name": "HTMLModel",
      "_view_count": null,
      "_view_module": "@jupyter-widgets/controls",
      "_view_module_version": "1.5.0",
      "_view_name": "HTMLView",
      "description": "",
      "description_tooltip": null,
      "layout": "IPY_MODEL_b320306eaf264ad9872d507a1a1cb2da",
      "placeholder": "​",
      "style": "IPY_MODEL_2ca2f397c4ef405bba27ae2b1415cada",
      "value": " 3478/3478 [03:59&lt;00:00, 14.53ex/s]"
     }
    },
    "20347ed29fdc4c0a96da28c09aacf44d": {
     "model_module": "@jupyter-widgets/controls",
     "model_name": "DescriptionStyleModel",
     "state": {
      "_model_module": "@jupyter-widgets/controls",
      "_model_module_version": "1.5.0",
      "_model_name": "DescriptionStyleModel",
      "_view_count": null,
      "_view_module": "@jupyter-widgets/base",
      "_view_module_version": "1.2.0",
      "_view_name": "StyleView",
      "description_width": ""
     }
    },
    "231c66f195d34f86b216805518f4bccd": {
     "model_module": "@jupyter-widgets/controls",
     "model_name": "ProgressStyleModel",
     "state": {
      "_model_module": "@jupyter-widgets/controls",
      "_model_module_version": "1.5.0",
      "_model_name": "ProgressStyleModel",
      "_view_count": null,
      "_view_module": "@jupyter-widgets/base",
      "_view_module_version": "1.2.0",
      "_view_name": "StyleView",
      "bar_color": null,
      "description_width": "initial"
     }
    },
    "24ea17ae8ab14e8a871e5e115c3f4c06": {
     "model_module": "@jupyter-widgets/controls",
     "model_name": "HBoxModel",
     "state": {
      "_dom_classes": [],
      "_model_module": "@jupyter-widgets/controls",
      "_model_module_version": "1.5.0",
      "_model_name": "HBoxModel",
      "_view_count": null,
      "_view_module": "@jupyter-widgets/controls",
      "_view_module_version": "1.5.0",
      "_view_name": "HBoxView",
      "box_style": "",
      "children": [
       "IPY_MODEL_f3905820a42c499fba04af9c1ad19705",
       "IPY_MODEL_4e1a725fd90b45e280b8b0028ba65250"
      ],
      "layout": "IPY_MODEL_f57d087016124ebeb073fd7428dcb68b"
     }
    },
    "25ba4f4c8b9c44af9885b3903a9261fd": {
     "model_module": "@jupyter-widgets/controls",
     "model_name": "HBoxModel",
     "state": {
      "_dom_classes": [],
      "_model_module": "@jupyter-widgets/controls",
      "_model_module_version": "1.5.0",
      "_model_name": "HBoxModel",
      "_view_count": null,
      "_view_module": "@jupyter-widgets/controls",
      "_view_module_version": "1.5.0",
      "_view_name": "HBoxView",
      "box_style": "",
      "children": [
       "IPY_MODEL_03b33c17734d49e28c4636dddd6e833d",
       "IPY_MODEL_71c059a0f3c246f3a40d55744331daaa"
      ],
      "layout": "IPY_MODEL_dde7ae43ef954ef1b901c80f0a4e11fd"
     }
    },
    "26e7bab0f3bf4797bfcef83dcace24f0": {
     "model_module": "@jupyter-widgets/base",
     "model_name": "LayoutModel",
     "state": {
      "_model_module": "@jupyter-widgets/base",
      "_model_module_version": "1.2.0",
      "_model_name": "LayoutModel",
      "_view_count": null,
      "_view_module": "@jupyter-widgets/base",
      "_view_module_version": "1.2.0",
      "_view_name": "LayoutView",
      "align_content": null,
      "align_items": null,
      "align_self": null,
      "border": null,
      "bottom": null,
      "display": null,
      "flex": null,
      "flex_flow": null,
      "grid_area": null,
      "grid_auto_columns": null,
      "grid_auto_flow": null,
      "grid_auto_rows": null,
      "grid_column": null,
      "grid_gap": null,
      "grid_row": null,
      "grid_template_areas": null,
      "grid_template_columns": null,
      "grid_template_rows": null,
      "height": null,
      "justify_content": null,
      "justify_items": null,
      "left": null,
      "margin": null,
      "max_height": null,
      "max_width": null,
      "min_height": null,
      "min_width": null,
      "object_fit": null,
      "object_position": null,
      "order": null,
      "overflow": null,
      "overflow_x": null,
      "overflow_y": null,
      "padding": null,
      "right": null,
      "top": null,
      "visibility": null,
      "width": null
     }
    },
    "2a6e1185a6a247f5acba8111824ad36b": {
     "model_module": "@jupyter-widgets/controls",
     "model_name": "ProgressStyleModel",
     "state": {
      "_model_module": "@jupyter-widgets/controls",
      "_model_module_version": "1.5.0",
      "_model_name": "ProgressStyleModel",
      "_view_count": null,
      "_view_module": "@jupyter-widgets/base",
      "_view_module_version": "1.2.0",
      "_view_name": "StyleView",
      "bar_color": null,
      "description_width": "initial"
     }
    },
    "2ca2f397c4ef405bba27ae2b1415cada": {
     "model_module": "@jupyter-widgets/controls",
     "model_name": "DescriptionStyleModel",
     "state": {
      "_model_module": "@jupyter-widgets/controls",
      "_model_module_version": "1.5.0",
      "_model_name": "DescriptionStyleModel",
      "_view_count": null,
      "_view_module": "@jupyter-widgets/base",
      "_view_module_version": "1.2.0",
      "_view_name": "StyleView",
      "description_width": ""
     }
    },
    "2cd13e03a2ab45dc8570c8c739a613b4": {
     "model_module": "@jupyter-widgets/base",
     "model_name": "LayoutModel",
     "state": {
      "_model_module": "@jupyter-widgets/base",
      "_model_module_version": "1.2.0",
      "_model_name": "LayoutModel",
      "_view_count": null,
      "_view_module": "@jupyter-widgets/base",
      "_view_module_version": "1.2.0",
      "_view_name": "LayoutView",
      "align_content": null,
      "align_items": null,
      "align_self": null,
      "border": null,
      "bottom": null,
      "display": null,
      "flex": null,
      "flex_flow": null,
      "grid_area": null,
      "grid_auto_columns": null,
      "grid_auto_flow": null,
      "grid_auto_rows": null,
      "grid_column": null,
      "grid_gap": null,
      "grid_row": null,
      "grid_template_areas": null,
      "grid_template_columns": null,
      "grid_template_rows": null,
      "height": null,
      "justify_content": null,
      "justify_items": null,
      "left": null,
      "margin": null,
      "max_height": null,
      "max_width": null,
      "min_height": null,
      "min_width": null,
      "object_fit": null,
      "object_position": null,
      "order": null,
      "overflow": null,
      "overflow_x": null,
      "overflow_y": null,
      "padding": null,
      "right": null,
      "top": null,
      "visibility": null,
      "width": null
     }
    },
    "2f18d89c684343b69c3f44ffbb9b42a0": {
     "model_module": "@jupyter-widgets/controls",
     "model_name": "DescriptionStyleModel",
     "state": {
      "_model_module": "@jupyter-widgets/controls",
      "_model_module_version": "1.5.0",
      "_model_name": "DescriptionStyleModel",
      "_view_count": null,
      "_view_module": "@jupyter-widgets/base",
      "_view_module_version": "1.2.0",
      "_view_name": "StyleView",
      "description_width": ""
     }
    },
    "2f5406546970425282a881b5d2f7c248": {
     "model_module": "@jupyter-widgets/base",
     "model_name": "LayoutModel",
     "state": {
      "_model_module": "@jupyter-widgets/base",
      "_model_module_version": "1.2.0",
      "_model_name": "LayoutModel",
      "_view_count": null,
      "_view_module": "@jupyter-widgets/base",
      "_view_module_version": "1.2.0",
      "_view_name": "LayoutView",
      "align_content": null,
      "align_items": null,
      "align_self": null,
      "border": null,
      "bottom": null,
      "display": null,
      "flex": null,
      "flex_flow": null,
      "grid_area": null,
      "grid_auto_columns": null,
      "grid_auto_flow": null,
      "grid_auto_rows": null,
      "grid_column": null,
      "grid_gap": null,
      "grid_row": null,
      "grid_template_areas": null,
      "grid_template_columns": null,
      "grid_template_rows": null,
      "height": null,
      "justify_content": null,
      "justify_items": null,
      "left": null,
      "margin": null,
      "max_height": null,
      "max_width": null,
      "min_height": null,
      "min_width": null,
      "object_fit": null,
      "object_position": null,
      "order": null,
      "overflow": null,
      "overflow_x": null,
      "overflow_y": null,
      "padding": null,
      "right": null,
      "top": null,
      "visibility": null,
      "width": null
     }
    },
    "2f727c76652944e3892dd584bea11af2": {
     "model_module": "@jupyter-widgets/controls",
     "model_name": "ProgressStyleModel",
     "state": {
      "_model_module": "@jupyter-widgets/controls",
      "_model_module_version": "1.5.0",
      "_model_name": "ProgressStyleModel",
      "_view_count": null,
      "_view_module": "@jupyter-widgets/base",
      "_view_module_version": "1.2.0",
      "_view_name": "StyleView",
      "bar_color": null,
      "description_width": "initial"
     }
    },
    "2fd148d5587b4139919b0158f9dad71e": {
     "model_module": "@jupyter-widgets/base",
     "model_name": "LayoutModel",
     "state": {
      "_model_module": "@jupyter-widgets/base",
      "_model_module_version": "1.2.0",
      "_model_name": "LayoutModel",
      "_view_count": null,
      "_view_module": "@jupyter-widgets/base",
      "_view_module_version": "1.2.0",
      "_view_name": "LayoutView",
      "align_content": null,
      "align_items": null,
      "align_self": null,
      "border": null,
      "bottom": null,
      "display": null,
      "flex": null,
      "flex_flow": null,
      "grid_area": null,
      "grid_auto_columns": null,
      "grid_auto_flow": null,
      "grid_auto_rows": null,
      "grid_column": null,
      "grid_gap": null,
      "grid_row": null,
      "grid_template_areas": null,
      "grid_template_columns": null,
      "grid_template_rows": null,
      "height": null,
      "justify_content": null,
      "justify_items": null,
      "left": null,
      "margin": null,
      "max_height": null,
      "max_width": null,
      "min_height": null,
      "min_width": null,
      "object_fit": null,
      "object_position": null,
      "order": null,
      "overflow": null,
      "overflow_x": null,
      "overflow_y": null,
      "padding": null,
      "right": null,
      "top": null,
      "visibility": null,
      "width": null
     }
    },
    "304e9130c12f4110941bfbd3db49a28c": {
     "model_module": "@jupyter-widgets/controls",
     "model_name": "HBoxModel",
     "state": {
      "_dom_classes": [],
      "_model_module": "@jupyter-widgets/controls",
      "_model_module_version": "1.5.0",
      "_model_name": "HBoxModel",
      "_view_count": null,
      "_view_module": "@jupyter-widgets/controls",
      "_view_module_version": "1.5.0",
      "_view_name": "HBoxView",
      "box_style": "",
      "children": [
       "IPY_MODEL_75e00c38605f44cfb584067db1160349",
       "IPY_MODEL_8c07a528fc4a4e108b393ab117fe2e46"
      ],
      "layout": "IPY_MODEL_5e6bae23461b4378b6e5fc890fe6bc97"
     }
    },
    "3133b378b9294a759c8dfb786ed8f815": {
     "model_module": "@jupyter-widgets/controls",
     "model_name": "ProgressStyleModel",
     "state": {
      "_model_module": "@jupyter-widgets/controls",
      "_model_module_version": "1.5.0",
      "_model_name": "ProgressStyleModel",
      "_view_count": null,
      "_view_module": "@jupyter-widgets/base",
      "_view_module_version": "1.2.0",
      "_view_name": "StyleView",
      "bar_color": null,
      "description_width": "initial"
     }
    },
    "330226a977694de1bd88c0aa3789be47": {
     "model_module": "@jupyter-widgets/base",
     "model_name": "LayoutModel",
     "state": {
      "_model_module": "@jupyter-widgets/base",
      "_model_module_version": "1.2.0",
      "_model_name": "LayoutModel",
      "_view_count": null,
      "_view_module": "@jupyter-widgets/base",
      "_view_module_version": "1.2.0",
      "_view_name": "LayoutView",
      "align_content": null,
      "align_items": null,
      "align_self": null,
      "border": null,
      "bottom": null,
      "display": null,
      "flex": null,
      "flex_flow": null,
      "grid_area": null,
      "grid_auto_columns": null,
      "grid_auto_flow": null,
      "grid_auto_rows": null,
      "grid_column": null,
      "grid_gap": null,
      "grid_row": null,
      "grid_template_areas": null,
      "grid_template_columns": null,
      "grid_template_rows": null,
      "height": null,
      "justify_content": null,
      "justify_items": null,
      "left": null,
      "margin": null,
      "max_height": null,
      "max_width": null,
      "min_height": null,
      "min_width": null,
      "object_fit": null,
      "object_position": null,
      "order": null,
      "overflow": null,
      "overflow_x": null,
      "overflow_y": null,
      "padding": null,
      "right": null,
      "top": null,
      "visibility": null,
      "width": null
     }
    },
    "33c92b5afd1d4b6d88016aabfb434194": {
     "model_module": "@jupyter-widgets/controls",
     "model_name": "FloatProgressModel",
     "state": {
      "_dom_classes": [],
      "_model_module": "@jupyter-widgets/controls",
      "_model_module_version": "1.5.0",
      "_model_name": "FloatProgressModel",
      "_view_count": null,
      "_view_module": "@jupyter-widgets/controls",
      "_view_module_version": "1.5.0",
      "_view_name": "ProgressView",
      "bar_style": "success",
      "description": "100%",
      "description_tooltip": null,
      "layout": "IPY_MODEL_3dc9ea77b842455a91f00e9ca9f41948",
      "max": 1647,
      "min": 0,
      "orientation": "horizontal",
      "style": "IPY_MODEL_45f0a2f361da4608bc8314a27657a56c",
      "value": 1647
     }
    },
    "348ef54c80b2449f8a3bc950cccd62cc": {
     "model_module": "@jupyter-widgets/controls",
     "model_name": "HBoxModel",
     "state": {
      "_dom_classes": [],
      "_model_module": "@jupyter-widgets/controls",
      "_model_module_version": "1.5.0",
      "_model_name": "HBoxModel",
      "_view_count": null,
      "_view_module": "@jupyter-widgets/controls",
      "_view_module_version": "1.5.0",
      "_view_name": "HBoxView",
      "box_style": "",
      "children": [
       "IPY_MODEL_7edbecaccdd94ede8fddc0e1807e777e",
       "IPY_MODEL_5e3aad95e52f4be2bd670d1345398f1b"
      ],
      "layout": "IPY_MODEL_b78413dcc0584a0c8f71731a06aaa1b8"
     }
    },
    "389e43e47a734193a507817ebad955f7": {
     "model_module": "@jupyter-widgets/base",
     "model_name": "LayoutModel",
     "state": {
      "_model_module": "@jupyter-widgets/base",
      "_model_module_version": "1.2.0",
      "_model_name": "LayoutModel",
      "_view_count": null,
      "_view_module": "@jupyter-widgets/base",
      "_view_module_version": "1.2.0",
      "_view_name": "LayoutView",
      "align_content": null,
      "align_items": null,
      "align_self": null,
      "border": null,
      "bottom": null,
      "display": null,
      "flex": null,
      "flex_flow": null,
      "grid_area": null,
      "grid_auto_columns": null,
      "grid_auto_flow": null,
      "grid_auto_rows": null,
      "grid_column": null,
      "grid_gap": null,
      "grid_row": null,
      "grid_template_areas": null,
      "grid_template_columns": null,
      "grid_template_rows": null,
      "height": null,
      "justify_content": null,
      "justify_items": null,
      "left": null,
      "margin": null,
      "max_height": null,
      "max_width": null,
      "min_height": null,
      "min_width": null,
      "object_fit": null,
      "object_position": null,
      "order": null,
      "overflow": null,
      "overflow_x": null,
      "overflow_y": null,
      "padding": null,
      "right": null,
      "top": null,
      "visibility": null,
      "width": null
     }
    },
    "3bdb4058f40f40e3a10e323325a64638": {
     "model_module": "@jupyter-widgets/controls",
     "model_name": "HTMLModel",
     "state": {
      "_dom_classes": [],
      "_model_module": "@jupyter-widgets/controls",
      "_model_module_version": "1.5.0",
      "_model_name": "HTMLModel",
      "_view_count": null,
      "_view_module": "@jupyter-widgets/controls",
      "_view_module_version": "1.5.0",
      "_view_name": "HTMLView",
      "description": "",
      "description_tooltip": null,
      "layout": "IPY_MODEL_d7f27e9cf8a844349ca90393e0c49a03",
      "placeholder": "​",
      "style": "IPY_MODEL_751ae6b9e2da4b85be9600561485f1ac",
      "value": " 412/412 [03:04&lt;00:00,  2.23ex/s]"
     }
    },
    "3d929b9e2518402b81a71757ffb753d2": {
     "model_module": "@jupyter-widgets/base",
     "model_name": "LayoutModel",
     "state": {
      "_model_module": "@jupyter-widgets/base",
      "_model_module_version": "1.2.0",
      "_model_name": "LayoutModel",
      "_view_count": null,
      "_view_module": "@jupyter-widgets/base",
      "_view_module_version": "1.2.0",
      "_view_name": "LayoutView",
      "align_content": null,
      "align_items": null,
      "align_self": null,
      "border": null,
      "bottom": null,
      "display": null,
      "flex": null,
      "flex_flow": null,
      "grid_area": null,
      "grid_auto_columns": null,
      "grid_auto_flow": null,
      "grid_auto_rows": null,
      "grid_column": null,
      "grid_gap": null,
      "grid_row": null,
      "grid_template_areas": null,
      "grid_template_columns": null,
      "grid_template_rows": null,
      "height": null,
      "justify_content": null,
      "justify_items": null,
      "left": null,
      "margin": null,
      "max_height": null,
      "max_width": null,
      "min_height": null,
      "min_width": null,
      "object_fit": null,
      "object_position": null,
      "order": null,
      "overflow": null,
      "overflow_x": null,
      "overflow_y": null,
      "padding": null,
      "right": null,
      "top": null,
      "visibility": null,
      "width": null
     }
    },
    "3dc9ea77b842455a91f00e9ca9f41948": {
     "model_module": "@jupyter-widgets/base",
     "model_name": "LayoutModel",
     "state": {
      "_model_module": "@jupyter-widgets/base",
      "_model_module_version": "1.2.0",
      "_model_name": "LayoutModel",
      "_view_count": null,
      "_view_module": "@jupyter-widgets/base",
      "_view_module_version": "1.2.0",
      "_view_name": "LayoutView",
      "align_content": null,
      "align_items": null,
      "align_self": null,
      "border": null,
      "bottom": null,
      "display": null,
      "flex": null,
      "flex_flow": null,
      "grid_area": null,
      "grid_auto_columns": null,
      "grid_auto_flow": null,
      "grid_auto_rows": null,
      "grid_column": null,
      "grid_gap": null,
      "grid_row": null,
      "grid_template_areas": null,
      "grid_template_columns": null,
      "grid_template_rows": null,
      "height": null,
      "justify_content": null,
      "justify_items": null,
      "left": null,
      "margin": null,
      "max_height": null,
      "max_width": null,
      "min_height": null,
      "min_width": null,
      "object_fit": null,
      "object_position": null,
      "order": null,
      "overflow": null,
      "overflow_x": null,
      "overflow_y": null,
      "padding": null,
      "right": null,
      "top": null,
      "visibility": null,
      "width": null
     }
    },
    "3e2cd59ac697495f8db14b894b783f95": {
     "model_module": "@jupyter-widgets/base",
     "model_name": "LayoutModel",
     "state": {
      "_model_module": "@jupyter-widgets/base",
      "_model_module_version": "1.2.0",
      "_model_name": "LayoutModel",
      "_view_count": null,
      "_view_module": "@jupyter-widgets/base",
      "_view_module_version": "1.2.0",
      "_view_name": "LayoutView",
      "align_content": null,
      "align_items": null,
      "align_self": null,
      "border": null,
      "bottom": null,
      "display": null,
      "flex": null,
      "flex_flow": null,
      "grid_area": null,
      "grid_auto_columns": null,
      "grid_auto_flow": null,
      "grid_auto_rows": null,
      "grid_column": null,
      "grid_gap": null,
      "grid_row": null,
      "grid_template_areas": null,
      "grid_template_columns": null,
      "grid_template_rows": null,
      "height": null,
      "justify_content": null,
      "justify_items": null,
      "left": null,
      "margin": null,
      "max_height": null,
      "max_width": null,
      "min_height": null,
      "min_width": null,
      "object_fit": null,
      "object_position": null,
      "order": null,
      "overflow": null,
      "overflow_x": null,
      "overflow_y": null,
      "padding": null,
      "right": null,
      "top": null,
      "visibility": null,
      "width": null
     }
    },
    "3e3a022a9f304b0f9f7ef067fcee1e56": {
     "model_module": "@jupyter-widgets/base",
     "model_name": "LayoutModel",
     "state": {
      "_model_module": "@jupyter-widgets/base",
      "_model_module_version": "1.2.0",
      "_model_name": "LayoutModel",
      "_view_count": null,
      "_view_module": "@jupyter-widgets/base",
      "_view_module_version": "1.2.0",
      "_view_name": "LayoutView",
      "align_content": null,
      "align_items": null,
      "align_self": null,
      "border": null,
      "bottom": null,
      "display": null,
      "flex": null,
      "flex_flow": null,
      "grid_area": null,
      "grid_auto_columns": null,
      "grid_auto_flow": null,
      "grid_auto_rows": null,
      "grid_column": null,
      "grid_gap": null,
      "grid_row": null,
      "grid_template_areas": null,
      "grid_template_columns": null,
      "grid_template_rows": null,
      "height": null,
      "justify_content": null,
      "justify_items": null,
      "left": null,
      "margin": null,
      "max_height": null,
      "max_width": null,
      "min_height": null,
      "min_width": null,
      "object_fit": null,
      "object_position": null,
      "order": null,
      "overflow": null,
      "overflow_x": null,
      "overflow_y": null,
      "padding": null,
      "right": null,
      "top": null,
      "visibility": null,
      "width": null
     }
    },
    "3ec3285e9f3e4a5abcefabb7f140f4a3": {
     "model_module": "@jupyter-widgets/controls",
     "model_name": "ProgressStyleModel",
     "state": {
      "_model_module": "@jupyter-widgets/controls",
      "_model_module_version": "1.5.0",
      "_model_name": "ProgressStyleModel",
      "_view_count": null,
      "_view_module": "@jupyter-widgets/base",
      "_view_module_version": "1.2.0",
      "_view_name": "StyleView",
      "bar_color": null,
      "description_width": "initial"
     }
    },
    "3f780f0aa8834fc189b292e0474e2ffa": {
     "model_module": "@jupyter-widgets/controls",
     "model_name": "HTMLModel",
     "state": {
      "_dom_classes": [],
      "_model_module": "@jupyter-widgets/controls",
      "_model_module_version": "1.5.0",
      "_model_name": "HTMLModel",
      "_view_count": null,
      "_view_module": "@jupyter-widgets/controls",
      "_view_module_version": "1.5.0",
      "_view_name": "HTMLView",
      "description": "",
      "description_tooltip": null,
      "layout": "IPY_MODEL_a868dea9d9b047a4b853b390e138e4c1",
      "placeholder": "​",
      "style": "IPY_MODEL_ec36a94ee2574ac8b227ccaefdee5520",
      "value": " 52/52 [00:31&lt;00:00,  1.67ba/s]"
     }
    },
    "405b5de4ae854cf9896f63d15f2207dd": {
     "model_module": "@jupyter-widgets/controls",
     "model_name": "DescriptionStyleModel",
     "state": {
      "_model_module": "@jupyter-widgets/controls",
      "_model_module_version": "1.5.0",
      "_model_name": "DescriptionStyleModel",
      "_view_count": null,
      "_view_module": "@jupyter-widgets/base",
      "_view_module_version": "1.2.0",
      "_view_name": "StyleView",
      "description_width": ""
     }
    },
    "416badb151ee4660b53fdbc136e0c8fb": {
     "model_module": "@jupyter-widgets/controls",
     "model_name": "HTMLModel",
     "state": {
      "_dom_classes": [],
      "_model_module": "@jupyter-widgets/controls",
      "_model_module_version": "1.5.0",
      "_model_name": "HTMLModel",
      "_view_count": null,
      "_view_module": "@jupyter-widgets/controls",
      "_view_module_version": "1.5.0",
      "_view_name": "HTMLView",
      "description": "",
      "description_tooltip": null,
      "layout": "IPY_MODEL_0f3756509e3b405d87936f599b153de2",
      "placeholder": "​",
      "style": "IPY_MODEL_824569c63ec445c08362659ca228dd2a",
      "value": " 412/412 [03:01&lt;00:00,  2.28ex/s]"
     }
    },
    "430c3c079d0e4006b90e72df7986ffb0": {
     "model_module": "@jupyter-widgets/base",
     "model_name": "LayoutModel",
     "state": {
      "_model_module": "@jupyter-widgets/base",
      "_model_module_version": "1.2.0",
      "_model_name": "LayoutModel",
      "_view_count": null,
      "_view_module": "@jupyter-widgets/base",
      "_view_module_version": "1.2.0",
      "_view_name": "LayoutView",
      "align_content": null,
      "align_items": null,
      "align_self": null,
      "border": null,
      "bottom": null,
      "display": null,
      "flex": null,
      "flex_flow": null,
      "grid_area": null,
      "grid_auto_columns": null,
      "grid_auto_flow": null,
      "grid_auto_rows": null,
      "grid_column": null,
      "grid_gap": null,
      "grid_row": null,
      "grid_template_areas": null,
      "grid_template_columns": null,
      "grid_template_rows": null,
      "height": null,
      "justify_content": null,
      "justify_items": null,
      "left": null,
      "margin": null,
      "max_height": null,
      "max_width": null,
      "min_height": null,
      "min_width": null,
      "object_fit": null,
      "object_position": null,
      "order": null,
      "overflow": null,
      "overflow_x": null,
      "overflow_y": null,
      "padding": null,
      "right": null,
      "top": null,
      "visibility": null,
      "width": null
     }
    },
    "4382726ef043441a9b1a4a647d84f242": {
     "model_module": "@jupyter-widgets/controls",
     "model_name": "ProgressStyleModel",
     "state": {
      "_model_module": "@jupyter-widgets/controls",
      "_model_module_version": "1.5.0",
      "_model_name": "ProgressStyleModel",
      "_view_count": null,
      "_view_module": "@jupyter-widgets/base",
      "_view_module_version": "1.2.0",
      "_view_name": "StyleView",
      "bar_color": null,
      "description_width": "initial"
     }
    },
    "45f0a2f361da4608bc8314a27657a56c": {
     "model_module": "@jupyter-widgets/controls",
     "model_name": "ProgressStyleModel",
     "state": {
      "_model_module": "@jupyter-widgets/controls",
      "_model_module_version": "1.5.0",
      "_model_name": "ProgressStyleModel",
      "_view_count": null,
      "_view_module": "@jupyter-widgets/base",
      "_view_module_version": "1.2.0",
      "_view_name": "StyleView",
      "bar_color": null,
      "description_width": "initial"
     }
    },
    "4797f1acd9924b4e97f12f964c83078c": {
     "model_module": "@jupyter-widgets/controls",
     "model_name": "HBoxModel",
     "state": {
      "_dom_classes": [],
      "_model_module": "@jupyter-widgets/controls",
      "_model_module_version": "1.5.0",
      "_model_name": "HBoxModel",
      "_view_count": null,
      "_view_module": "@jupyter-widgets/controls",
      "_view_module_version": "1.5.0",
      "_view_name": "HBoxView",
      "box_style": "",
      "children": [
       "IPY_MODEL_5370c0f2d54b45c0a89f11fb5b70cd4b",
       "IPY_MODEL_018c1f8e198e4df4b480e609bd1be602"
      ],
      "layout": "IPY_MODEL_73940df84ffd4e0f96637342e9fd12b7"
     }
    },
    "47a6c3c427614f21a6dab1c048e5dd37": {
     "model_module": "@jupyter-widgets/base",
     "model_name": "LayoutModel",
     "state": {
      "_model_module": "@jupyter-widgets/base",
      "_model_module_version": "1.2.0",
      "_model_name": "LayoutModel",
      "_view_count": null,
      "_view_module": "@jupyter-widgets/base",
      "_view_module_version": "1.2.0",
      "_view_name": "LayoutView",
      "align_content": null,
      "align_items": null,
      "align_self": null,
      "border": null,
      "bottom": null,
      "display": null,
      "flex": null,
      "flex_flow": null,
      "grid_area": null,
      "grid_auto_columns": null,
      "grid_auto_flow": null,
      "grid_auto_rows": null,
      "grid_column": null,
      "grid_gap": null,
      "grid_row": null,
      "grid_template_areas": null,
      "grid_template_columns": null,
      "grid_template_rows": null,
      "height": null,
      "justify_content": null,
      "justify_items": null,
      "left": null,
      "margin": null,
      "max_height": null,
      "max_width": null,
      "min_height": null,
      "min_width": null,
      "object_fit": null,
      "object_position": null,
      "order": null,
      "overflow": null,
      "overflow_x": null,
      "overflow_y": null,
      "padding": null,
      "right": null,
      "top": null,
      "visibility": null,
      "width": null
     }
    },
    "491fd969d61a478f8e85ffcd3e1a3e20": {
     "model_module": "@jupyter-widgets/base",
     "model_name": "LayoutModel",
     "state": {
      "_model_module": "@jupyter-widgets/base",
      "_model_module_version": "1.2.0",
      "_model_name": "LayoutModel",
      "_view_count": null,
      "_view_module": "@jupyter-widgets/base",
      "_view_module_version": "1.2.0",
      "_view_name": "LayoutView",
      "align_content": null,
      "align_items": null,
      "align_self": null,
      "border": null,
      "bottom": null,
      "display": null,
      "flex": null,
      "flex_flow": null,
      "grid_area": null,
      "grid_auto_columns": null,
      "grid_auto_flow": null,
      "grid_auto_rows": null,
      "grid_column": null,
      "grid_gap": null,
      "grid_row": null,
      "grid_template_areas": null,
      "grid_template_columns": null,
      "grid_template_rows": null,
      "height": null,
      "justify_content": null,
      "justify_items": null,
      "left": null,
      "margin": null,
      "max_height": null,
      "max_width": null,
      "min_height": null,
      "min_width": null,
      "object_fit": null,
      "object_position": null,
      "order": null,
      "overflow": null,
      "overflow_x": null,
      "overflow_y": null,
      "padding": null,
      "right": null,
      "top": null,
      "visibility": null,
      "width": null
     }
    },
    "49defa4284554baf85f32de242b22709": {
     "model_module": "@jupyter-widgets/controls",
     "model_name": "ProgressStyleModel",
     "state": {
      "_model_module": "@jupyter-widgets/controls",
      "_model_module_version": "1.5.0",
      "_model_name": "ProgressStyleModel",
      "_view_count": null,
      "_view_module": "@jupyter-widgets/base",
      "_view_module_version": "1.2.0",
      "_view_name": "StyleView",
      "bar_color": null,
      "description_width": "initial"
     }
    },
    "4abe2731ec624729b401d60a392cae63": {
     "model_module": "@jupyter-widgets/base",
     "model_name": "LayoutModel",
     "state": {
      "_model_module": "@jupyter-widgets/base",
      "_model_module_version": "1.2.0",
      "_model_name": "LayoutModel",
      "_view_count": null,
      "_view_module": "@jupyter-widgets/base",
      "_view_module_version": "1.2.0",
      "_view_name": "LayoutView",
      "align_content": null,
      "align_items": null,
      "align_self": null,
      "border": null,
      "bottom": null,
      "display": null,
      "flex": null,
      "flex_flow": null,
      "grid_area": null,
      "grid_auto_columns": null,
      "grid_auto_flow": null,
      "grid_auto_rows": null,
      "grid_column": null,
      "grid_gap": null,
      "grid_row": null,
      "grid_template_areas": null,
      "grid_template_columns": null,
      "grid_template_rows": null,
      "height": null,
      "justify_content": null,
      "justify_items": null,
      "left": null,
      "margin": null,
      "max_height": null,
      "max_width": null,
      "min_height": null,
      "min_width": null,
      "object_fit": null,
      "object_position": null,
      "order": null,
      "overflow": null,
      "overflow_x": null,
      "overflow_y": null,
      "padding": null,
      "right": null,
      "top": null,
      "visibility": null,
      "width": null
     }
    },
    "4c0ad31e73234e46aac0a297ec18bdeb": {
     "model_module": "@jupyter-widgets/controls",
     "model_name": "ProgressStyleModel",
     "state": {
      "_model_module": "@jupyter-widgets/controls",
      "_model_module_version": "1.5.0",
      "_model_name": "ProgressStyleModel",
      "_view_count": null,
      "_view_module": "@jupyter-widgets/base",
      "_view_module_version": "1.2.0",
      "_view_name": "StyleView",
      "bar_color": null,
      "description_width": "initial"
     }
    },
    "4db5037af3f64a3a8a8a1203018a80ff": {
     "model_module": "@jupyter-widgets/controls",
     "model_name": "FloatProgressModel",
     "state": {
      "_dom_classes": [],
      "_model_module": "@jupyter-widgets/controls",
      "_model_module_version": "1.5.0",
      "_model_name": "FloatProgressModel",
      "_view_count": null,
      "_view_module": "@jupyter-widgets/controls",
      "_view_module_version": "1.5.0",
      "_view_name": "ProgressView",
      "bar_style": "info",
      "description": "",
      "description_tooltip": null,
      "layout": "IPY_MODEL_c0e6b6e6395d4dbd827eb1c0de1ad21a",
      "max": 1,
      "min": 0,
      "orientation": "horizontal",
      "style": "IPY_MODEL_2a6e1185a6a247f5acba8111824ad36b",
      "value": 1
     }
    },
    "4e1a725fd90b45e280b8b0028ba65250": {
     "model_module": "@jupyter-widgets/controls",
     "model_name": "HTMLModel",
     "state": {
      "_dom_classes": [],
      "_model_module": "@jupyter-widgets/controls",
      "_model_module_version": "1.5.0",
      "_model_name": "HTMLModel",
      "_view_count": null,
      "_view_module": "@jupyter-widgets/controls",
      "_view_module_version": "1.5.0",
      "_view_name": "HTMLView",
      "description": "",
      "description_tooltip": null,
      "layout": "IPY_MODEL_491fd969d61a478f8e85ffcd3e1a3e20",
      "placeholder": "​",
      "style": "IPY_MODEL_9f79629ad6a94201acf3283862d1ae17",
      "value": " 869/869 [05:48&lt;00:00,  2.49ex/s]"
     }
    },
    "4f8957dc035d4c1a9e8630fc8ab8cd10": {
     "model_module": "@jupyter-widgets/controls",
     "model_name": "FloatProgressModel",
     "state": {
      "_dom_classes": [],
      "_model_module": "@jupyter-widgets/controls",
      "_model_module_version": "1.5.0",
      "_model_name": "FloatProgressModel",
      "_view_count": null,
      "_view_module": "@jupyter-widgets/controls",
      "_view_module_version": "1.5.0",
      "_view_name": "ProgressView",
      "bar_style": "success",
      "description": "#1: 100%",
      "description_tooltip": null,
      "layout": "IPY_MODEL_47a6c3c427614f21a6dab1c048e5dd37",
      "max": 870,
      "min": 0,
      "orientation": "horizontal",
      "style": "IPY_MODEL_596aea0362924c7db583203268dd5a3e",
      "value": 870
     }
    },
    "4fb7347e9ca542e6ab9003bf4db218e0": {
     "model_module": "@jupyter-widgets/controls",
     "model_name": "HTMLModel",
     "state": {
      "_dom_classes": [],
      "_model_module": "@jupyter-widgets/controls",
      "_model_module_version": "1.5.0",
      "_model_name": "HTMLModel",
      "_view_count": null,
      "_view_module": "@jupyter-widgets/controls",
      "_view_module_version": "1.5.0",
      "_view_name": "HTMLView",
      "description": "",
      "description_tooltip": null,
      "layout": "IPY_MODEL_0987aac282af415da2fbc9dc1b4d5069",
      "placeholder": "​",
      "style": "IPY_MODEL_6d4a26d876fb4ac6b5948a09945bdc6b",
      "value": " 109/109 [00:58&lt;00:00,  1.88ba/s]"
     }
    },
    "4ff7ccffc36a4a0f93031f5cdc3b718d": {
     "model_module": "@jupyter-widgets/controls",
     "model_name": "ProgressStyleModel",
     "state": {
      "_model_module": "@jupyter-widgets/controls",
      "_model_module_version": "1.5.0",
      "_model_name": "ProgressStyleModel",
      "_view_count": null,
      "_view_module": "@jupyter-widgets/base",
      "_view_module_version": "1.2.0",
      "_view_name": "StyleView",
      "bar_color": null,
      "description_width": "initial"
     }
    },
    "5071a31d06f544a5b7340a4e863d8fdf": {
     "model_module": "@jupyter-widgets/controls",
     "model_name": "FloatProgressModel",
     "state": {
      "_dom_classes": [],
      "_model_module": "@jupyter-widgets/controls",
      "_model_module_version": "1.5.0",
      "_model_name": "FloatProgressModel",
      "_view_count": null,
      "_view_module": "@jupyter-widgets/controls",
      "_view_module_version": "1.5.0",
      "_view_name": "ProgressView",
      "bar_style": "success",
      "description": "#3: 100%",
      "description_tooltip": null,
      "layout": "IPY_MODEL_b2473405490e4556bf30c0cc81237aa5",
      "max": 109,
      "min": 0,
      "orientation": "horizontal",
      "style": "IPY_MODEL_49defa4284554baf85f32de242b22709",
      "value": 109
     }
    },
    "530f66ac087e4f8f979fcaa33941c60d": {
     "model_module": "@jupyter-widgets/controls",
     "model_name": "ProgressStyleModel",
     "state": {
      "_model_module": "@jupyter-widgets/controls",
      "_model_module_version": "1.5.0",
      "_model_name": "ProgressStyleModel",
      "_view_count": null,
      "_view_module": "@jupyter-widgets/base",
      "_view_module_version": "1.2.0",
      "_view_name": "StyleView",
      "bar_color": null,
      "description_width": "initial"
     }
    },
    "5370c0f2d54b45c0a89f11fb5b70cd4b": {
     "model_module": "@jupyter-widgets/controls",
     "model_name": "FloatProgressModel",
     "state": {
      "_dom_classes": [],
      "_model_module": "@jupyter-widgets/controls",
      "_model_module_version": "1.5.0",
      "_model_name": "FloatProgressModel",
      "_view_count": null,
      "_view_module": "@jupyter-widgets/controls",
      "_view_module_version": "1.5.0",
      "_view_name": "ProgressView",
      "bar_style": "success",
      "description": "#0: 100%",
      "description_tooltip": null,
      "layout": "IPY_MODEL_020bdb330b0d40f5b89697ff37025f69",
      "max": 109,
      "min": 0,
      "orientation": "horizontal",
      "style": "IPY_MODEL_fa7926bbe77e48b3a0648b45f5d2dc7a",
      "value": 109
     }
    },
    "540510088d3947f1b3cf6f4c983c1a53": {
     "model_module": "@jupyter-widgets/base",
     "model_name": "LayoutModel",
     "state": {
      "_model_module": "@jupyter-widgets/base",
      "_model_module_version": "1.2.0",
      "_model_name": "LayoutModel",
      "_view_count": null,
      "_view_module": "@jupyter-widgets/base",
      "_view_module_version": "1.2.0",
      "_view_name": "LayoutView",
      "align_content": null,
      "align_items": null,
      "align_self": null,
      "border": null,
      "bottom": null,
      "display": null,
      "flex": null,
      "flex_flow": null,
      "grid_area": null,
      "grid_auto_columns": null,
      "grid_auto_flow": null,
      "grid_auto_rows": null,
      "grid_column": null,
      "grid_gap": null,
      "grid_row": null,
      "grid_template_areas": null,
      "grid_template_columns": null,
      "grid_template_rows": null,
      "height": null,
      "justify_content": null,
      "justify_items": null,
      "left": null,
      "margin": null,
      "max_height": null,
      "max_width": null,
      "min_height": null,
      "min_width": null,
      "object_fit": null,
      "object_position": null,
      "order": null,
      "overflow": null,
      "overflow_x": null,
      "overflow_y": null,
      "padding": null,
      "right": null,
      "top": null,
      "visibility": null,
      "width": null
     }
    },
    "542027ba12f444d586e8072452badea0": {
     "model_module": "@jupyter-widgets/controls",
     "model_name": "HTMLModel",
     "state": {
      "_dom_classes": [],
      "_model_module": "@jupyter-widgets/controls",
      "_model_module_version": "1.5.0",
      "_model_name": "HTMLModel",
      "_view_count": null,
      "_view_module": "@jupyter-widgets/controls",
      "_view_module_version": "1.5.0",
      "_view_name": "HTMLView",
      "description": "",
      "description_tooltip": null,
      "layout": "IPY_MODEL_bc41384bbae04044b9780651c6b5a47c",
      "placeholder": "​",
      "style": "IPY_MODEL_02bdb06c176145feaa842b97ae58609c",
      "value": " 109/109 [00:58&lt;00:00,  1.88ba/s]"
     }
    },
    "55071fc1b7484620803aeba453e9af72": {
     "model_module": "@jupyter-widgets/base",
     "model_name": "LayoutModel",
     "state": {
      "_model_module": "@jupyter-widgets/base",
      "_model_module_version": "1.2.0",
      "_model_name": "LayoutModel",
      "_view_count": null,
      "_view_module": "@jupyter-widgets/base",
      "_view_module_version": "1.2.0",
      "_view_name": "LayoutView",
      "align_content": null,
      "align_items": null,
      "align_self": null,
      "border": null,
      "bottom": null,
      "display": null,
      "flex": null,
      "flex_flow": null,
      "grid_area": null,
      "grid_auto_columns": null,
      "grid_auto_flow": null,
      "grid_auto_rows": null,
      "grid_column": null,
      "grid_gap": null,
      "grid_row": null,
      "grid_template_areas": null,
      "grid_template_columns": null,
      "grid_template_rows": null,
      "height": null,
      "justify_content": null,
      "justify_items": null,
      "left": null,
      "margin": null,
      "max_height": null,
      "max_width": null,
      "min_height": null,
      "min_width": null,
      "object_fit": null,
      "object_position": null,
      "order": null,
      "overflow": null,
      "overflow_x": null,
      "overflow_y": null,
      "padding": null,
      "right": null,
      "top": null,
      "visibility": null,
      "width": null
     }
    },
    "56ad6231a0a04228be29ceecbc6b7c0e": {
     "model_module": "@jupyter-widgets/base",
     "model_name": "LayoutModel",
     "state": {
      "_model_module": "@jupyter-widgets/base",
      "_model_module_version": "1.2.0",
      "_model_name": "LayoutModel",
      "_view_count": null,
      "_view_module": "@jupyter-widgets/base",
      "_view_module_version": "1.2.0",
      "_view_name": "LayoutView",
      "align_content": null,
      "align_items": null,
      "align_self": null,
      "border": null,
      "bottom": null,
      "display": null,
      "flex": null,
      "flex_flow": null,
      "grid_area": null,
      "grid_auto_columns": null,
      "grid_auto_flow": null,
      "grid_auto_rows": null,
      "grid_column": null,
      "grid_gap": null,
      "grid_row": null,
      "grid_template_areas": null,
      "grid_template_columns": null,
      "grid_template_rows": null,
      "height": null,
      "justify_content": null,
      "justify_items": null,
      "left": null,
      "margin": null,
      "max_height": null,
      "max_width": null,
      "min_height": null,
      "min_width": null,
      "object_fit": null,
      "object_position": null,
      "order": null,
      "overflow": null,
      "overflow_x": null,
      "overflow_y": null,
      "padding": null,
      "right": null,
      "top": null,
      "visibility": null,
      "width": null
     }
    },
    "57198e3250374e1fa64c5a4be255861e": {
     "model_module": "@jupyter-widgets/controls",
     "model_name": "HTMLModel",
     "state": {
      "_dom_classes": [],
      "_model_module": "@jupyter-widgets/controls",
      "_model_module_version": "1.5.0",
      "_model_name": "HTMLModel",
      "_view_count": null,
      "_view_module": "@jupyter-widgets/controls",
      "_view_module_version": "1.5.0",
      "_view_name": "HTMLView",
      "description": "",
      "description_tooltip": null,
      "layout": "IPY_MODEL_8f737725708c4097a8caaf4da6229636",
      "placeholder": "​",
      "style": "IPY_MODEL_969080b52ad44ee997829986d198c505",
      "value": " 3.90k/? [00:00&lt;00:00, 23.0kB/s]"
     }
    },
    "579b6055028f473981ce789a0733a753": {
     "model_module": "@jupyter-widgets/controls",
     "model_name": "FloatProgressModel",
     "state": {
      "_dom_classes": [],
      "_model_module": "@jupyter-widgets/controls",
      "_model_module_version": "1.5.0",
      "_model_name": "FloatProgressModel",
      "_view_count": null,
      "_view_module": "@jupyter-widgets/controls",
      "_view_module_version": "1.5.0",
      "_view_name": "ProgressView",
      "bar_style": "success",
      "description": "#2: 100%",
      "description_tooltip": null,
      "layout": "IPY_MODEL_6de66d6b7a73434cbdc59b2109bdf0a0",
      "max": 109,
      "min": 0,
      "orientation": "horizontal",
      "style": "IPY_MODEL_3133b378b9294a759c8dfb786ed8f815",
      "value": 109
     }
    },
    "58f3e8002f984594ac05c973aa78ef69": {
     "model_module": "@jupyter-widgets/base",
     "model_name": "LayoutModel",
     "state": {
      "_model_module": "@jupyter-widgets/base",
      "_model_module_version": "1.2.0",
      "_model_name": "LayoutModel",
      "_view_count": null,
      "_view_module": "@jupyter-widgets/base",
      "_view_module_version": "1.2.0",
      "_view_name": "LayoutView",
      "align_content": null,
      "align_items": null,
      "align_self": null,
      "border": null,
      "bottom": null,
      "display": null,
      "flex": null,
      "flex_flow": null,
      "grid_area": null,
      "grid_auto_columns": null,
      "grid_auto_flow": null,
      "grid_auto_rows": null,
      "grid_column": null,
      "grid_gap": null,
      "grid_row": null,
      "grid_template_areas": null,
      "grid_template_columns": null,
      "grid_template_rows": null,
      "height": null,
      "justify_content": null,
      "justify_items": null,
      "left": null,
      "margin": null,
      "max_height": null,
      "max_width": null,
      "min_height": null,
      "min_width": null,
      "object_fit": null,
      "object_position": null,
      "order": null,
      "overflow": null,
      "overflow_x": null,
      "overflow_y": null,
      "padding": null,
      "right": null,
      "top": null,
      "visibility": null,
      "width": null
     }
    },
    "596aea0362924c7db583203268dd5a3e": {
     "model_module": "@jupyter-widgets/controls",
     "model_name": "ProgressStyleModel",
     "state": {
      "_model_module": "@jupyter-widgets/controls",
      "_model_module_version": "1.5.0",
      "_model_name": "ProgressStyleModel",
      "_view_count": null,
      "_view_module": "@jupyter-widgets/base",
      "_view_module_version": "1.2.0",
      "_view_name": "StyleView",
      "bar_color": null,
      "description_width": "initial"
     }
    },
    "59e0f5200068461cbfb256ad5479c4c8": {
     "model_module": "@jupyter-widgets/controls",
     "model_name": "DescriptionStyleModel",
     "state": {
      "_model_module": "@jupyter-widgets/controls",
      "_model_module_version": "1.5.0",
      "_model_name": "DescriptionStyleModel",
      "_view_count": null,
      "_view_module": "@jupyter-widgets/base",
      "_view_module_version": "1.2.0",
      "_view_name": "StyleView",
      "description_width": ""
     }
    },
    "5a5bc8b4a1c644dea08a60128d888d10": {
     "model_module": "@jupyter-widgets/controls",
     "model_name": "DescriptionStyleModel",
     "state": {
      "_model_module": "@jupyter-widgets/controls",
      "_model_module_version": "1.5.0",
      "_model_name": "DescriptionStyleModel",
      "_view_count": null,
      "_view_module": "@jupyter-widgets/base",
      "_view_module_version": "1.2.0",
      "_view_name": "StyleView",
      "description_width": ""
     }
    },
    "5ab30242cd154ec0b560c23c0f178546": {
     "model_module": "@jupyter-widgets/controls",
     "model_name": "ProgressStyleModel",
     "state": {
      "_model_module": "@jupyter-widgets/controls",
      "_model_module_version": "1.5.0",
      "_model_name": "ProgressStyleModel",
      "_view_count": null,
      "_view_module": "@jupyter-widgets/base",
      "_view_module_version": "1.2.0",
      "_view_name": "StyleView",
      "bar_color": null,
      "description_width": "initial"
     }
    },
    "5ccd12253fff448f9c15c9b03c70a408": {
     "model_module": "@jupyter-widgets/controls",
     "model_name": "HBoxModel",
     "state": {
      "_dom_classes": [],
      "_model_module": "@jupyter-widgets/controls",
      "_model_module_version": "1.5.0",
      "_model_name": "HBoxModel",
      "_view_count": null,
      "_view_module": "@jupyter-widgets/controls",
      "_view_module_version": "1.5.0",
      "_view_name": "HBoxView",
      "box_style": "",
      "children": [
       "IPY_MODEL_f203c54e7e054d97aa4d1097f320f611",
       "IPY_MODEL_6266a4019e124aff877bb55f21740180"
      ],
      "layout": "IPY_MODEL_330226a977694de1bd88c0aa3789be47"
     }
    },
    "5e3aad95e52f4be2bd670d1345398f1b": {
     "model_module": "@jupyter-widgets/controls",
     "model_name": "HTMLModel",
     "state": {
      "_dom_classes": [],
      "_model_module": "@jupyter-widgets/controls",
      "_model_module_version": "1.5.0",
      "_model_name": "HTMLModel",
      "_view_count": null,
      "_view_module": "@jupyter-widgets/controls",
      "_view_module_version": "1.5.0",
      "_view_name": "HTMLView",
      "description": "",
      "description_tooltip": null,
      "layout": "IPY_MODEL_99d5c44ea54b45ee9bd89380cb1ad189",
      "placeholder": "​",
      "style": "IPY_MODEL_7aa70322bdfe46938b583a20003093d5",
      "value": " 3478/3478 [03:16&lt;00:00, 17.67ex/s]"
     }
    },
    "5e6bae23461b4378b6e5fc890fe6bc97": {
     "model_module": "@jupyter-widgets/base",
     "model_name": "LayoutModel",
     "state": {
      "_model_module": "@jupyter-widgets/base",
      "_model_module_version": "1.2.0",
      "_model_name": "LayoutModel",
      "_view_count": null,
      "_view_module": "@jupyter-widgets/base",
      "_view_module_version": "1.2.0",
      "_view_name": "LayoutView",
      "align_content": null,
      "align_items": null,
      "align_self": null,
      "border": null,
      "bottom": null,
      "display": null,
      "flex": null,
      "flex_flow": null,
      "grid_area": null,
      "grid_auto_columns": null,
      "grid_auto_flow": null,
      "grid_auto_rows": null,
      "grid_column": null,
      "grid_gap": null,
      "grid_row": null,
      "grid_template_areas": null,
      "grid_template_columns": null,
      "grid_template_rows": null,
      "height": null,
      "justify_content": null,
      "justify_items": null,
      "left": null,
      "margin": null,
      "max_height": null,
      "max_width": null,
      "min_height": null,
      "min_width": null,
      "object_fit": null,
      "object_position": null,
      "order": null,
      "overflow": null,
      "overflow_x": null,
      "overflow_y": null,
      "padding": null,
      "right": null,
      "top": null,
      "visibility": null,
      "width": null
     }
    },
    "5f48f54986924e418aa4ac22aa54b714": {
     "model_module": "@jupyter-widgets/controls",
     "model_name": "HBoxModel",
     "state": {
      "_dom_classes": [],
      "_model_module": "@jupyter-widgets/controls",
      "_model_module_version": "1.5.0",
      "_model_name": "HBoxModel",
      "_view_count": null,
      "_view_module": "@jupyter-widgets/controls",
      "_view_module_version": "1.5.0",
      "_view_name": "HBoxView",
      "box_style": "",
      "children": [
       "IPY_MODEL_a58c203a7cc54086aea45f2029821207",
       "IPY_MODEL_8d409ca0372a48e2972ca1d8eee5ffa1"
      ],
      "layout": "IPY_MODEL_db71db50799c404aafa4a54de8b9b799"
     }
    },
    "6266a4019e124aff877bb55f21740180": {
     "model_module": "@jupyter-widgets/controls",
     "model_name": "HTMLModel",
     "state": {
      "_dom_classes": [],
      "_model_module": "@jupyter-widgets/controls",
      "_model_module_version": "1.5.0",
      "_model_name": "HTMLModel",
      "_view_count": null,
      "_view_module": "@jupyter-widgets/controls",
      "_view_module_version": "1.5.0",
      "_view_name": "HTMLView",
      "description": "",
      "description_tooltip": null,
      "layout": "IPY_MODEL_55071fc1b7484620803aeba453e9af72",
      "placeholder": "​",
      "style": "IPY_MODEL_8ad3e4b211e34c048d0f48e36fdbfe48",
      "value": " 411/411 [02:58&lt;00:00,  2.30ex/s]"
     }
    },
    "6462bd9561e24abb98fce6ce4675d810": {
     "model_module": "@jupyter-widgets/controls",
     "model_name": "HBoxModel",
     "state": {
      "_dom_classes": [],
      "_model_module": "@jupyter-widgets/controls",
      "_model_module_version": "1.5.0",
      "_model_name": "HBoxModel",
      "_view_count": null,
      "_view_module": "@jupyter-widgets/controls",
      "_view_module_version": "1.5.0",
      "_view_name": "HBoxView",
      "box_style": "",
      "children": [
       "IPY_MODEL_e273548a15aa4d4994132b317adb66fc",
       "IPY_MODEL_f6930dd5519d4dfda64c597def220a30"
      ],
      "layout": "IPY_MODEL_bd3447291ce54812af10ac6245ea4328"
     }
    },
    "68a3178fe7a54e838e798ff28ff9aa0b": {
     "model_module": "@jupyter-widgets/controls",
     "model_name": "DescriptionStyleModel",
     "state": {
      "_model_module": "@jupyter-widgets/controls",
      "_model_module_version": "1.5.0",
      "_model_name": "DescriptionStyleModel",
      "_view_count": null,
      "_view_module": "@jupyter-widgets/base",
      "_view_module_version": "1.2.0",
      "_view_name": "StyleView",
      "description_width": ""
     }
    },
    "69828f4a101f4340916a4be141866904": {
     "model_module": "@jupyter-widgets/base",
     "model_name": "LayoutModel",
     "state": {
      "_model_module": "@jupyter-widgets/base",
      "_model_module_version": "1.2.0",
      "_model_name": "LayoutModel",
      "_view_count": null,
      "_view_module": "@jupyter-widgets/base",
      "_view_module_version": "1.2.0",
      "_view_name": "LayoutView",
      "align_content": null,
      "align_items": null,
      "align_self": null,
      "border": null,
      "bottom": null,
      "display": null,
      "flex": null,
      "flex_flow": null,
      "grid_area": null,
      "grid_auto_columns": null,
      "grid_auto_flow": null,
      "grid_auto_rows": null,
      "grid_column": null,
      "grid_gap": null,
      "grid_row": null,
      "grid_template_areas": null,
      "grid_template_columns": null,
      "grid_template_rows": null,
      "height": null,
      "justify_content": null,
      "justify_items": null,
      "left": null,
      "margin": null,
      "max_height": null,
      "max_width": null,
      "min_height": null,
      "min_width": null,
      "object_fit": null,
      "object_position": null,
      "order": null,
      "overflow": null,
      "overflow_x": null,
      "overflow_y": null,
      "padding": null,
      "right": null,
      "top": null,
      "visibility": null,
      "width": null
     }
    },
    "6a957c1c17474d8d89c27ddecf702fda": {
     "model_module": "@jupyter-widgets/controls",
     "model_name": "HTMLModel",
     "state": {
      "_dom_classes": [],
      "_model_module": "@jupyter-widgets/controls",
      "_model_module_version": "1.5.0",
      "_model_name": "HTMLModel",
      "_view_count": null,
      "_view_module": "@jupyter-widgets/controls",
      "_view_module_version": "1.5.0",
      "_view_name": "HTMLView",
      "description": "",
      "description_tooltip": null,
      "layout": "IPY_MODEL_91fcf0641fe3489ab96f3aaa40adf245",
      "placeholder": "​",
      "style": "IPY_MODEL_05f83d714f864a399083f0e34a812467",
      "value": " 1647/0 [00:00&lt;00:00, 14016.07 examples/s]"
     }
    },
    "6abfbe44a1bd4518b41f5f53f920e936": {
     "model_module": "@jupyter-widgets/base",
     "model_name": "LayoutModel",
     "state": {
      "_model_module": "@jupyter-widgets/base",
      "_model_module_version": "1.2.0",
      "_model_name": "LayoutModel",
      "_view_count": null,
      "_view_module": "@jupyter-widgets/base",
      "_view_module_version": "1.2.0",
      "_view_name": "LayoutView",
      "align_content": null,
      "align_items": null,
      "align_self": null,
      "border": null,
      "bottom": null,
      "display": null,
      "flex": null,
      "flex_flow": null,
      "grid_area": null,
      "grid_auto_columns": null,
      "grid_auto_flow": null,
      "grid_auto_rows": null,
      "grid_column": null,
      "grid_gap": null,
      "grid_row": null,
      "grid_template_areas": null,
      "grid_template_columns": null,
      "grid_template_rows": null,
      "height": null,
      "justify_content": null,
      "justify_items": null,
      "left": null,
      "margin": null,
      "max_height": null,
      "max_width": null,
      "min_height": null,
      "min_width": null,
      "object_fit": null,
      "object_position": null,
      "order": null,
      "overflow": null,
      "overflow_x": null,
      "overflow_y": null,
      "padding": null,
      "right": null,
      "top": null,
      "visibility": null,
      "width": null
     }
    },
    "6ba6d07674a34836be53cf173c2b61ca": {
     "model_module": "@jupyter-widgets/base",
     "model_name": "LayoutModel",
     "state": {
      "_model_module": "@jupyter-widgets/base",
      "_model_module_version": "1.2.0",
      "_model_name": "LayoutModel",
      "_view_count": null,
      "_view_module": "@jupyter-widgets/base",
      "_view_module_version": "1.2.0",
      "_view_name": "LayoutView",
      "align_content": null,
      "align_items": null,
      "align_self": null,
      "border": null,
      "bottom": null,
      "display": null,
      "flex": null,
      "flex_flow": null,
      "grid_area": null,
      "grid_auto_columns": null,
      "grid_auto_flow": null,
      "grid_auto_rows": null,
      "grid_column": null,
      "grid_gap": null,
      "grid_row": null,
      "grid_template_areas": null,
      "grid_template_columns": null,
      "grid_template_rows": null,
      "height": null,
      "justify_content": null,
      "justify_items": null,
      "left": null,
      "margin": null,
      "max_height": null,
      "max_width": null,
      "min_height": null,
      "min_width": null,
      "object_fit": null,
      "object_position": null,
      "order": null,
      "overflow": null,
      "overflow_x": null,
      "overflow_y": null,
      "padding": null,
      "right": null,
      "top": null,
      "visibility": null,
      "width": null
     }
    },
    "6c065aa34661469ca1efb4c5e90fe136": {
     "model_module": "@jupyter-widgets/controls",
     "model_name": "HBoxModel",
     "state": {
      "_dom_classes": [],
      "_model_module": "@jupyter-widgets/controls",
      "_model_module_version": "1.5.0",
      "_model_name": "HBoxModel",
      "_view_count": null,
      "_view_module": "@jupyter-widgets/controls",
      "_view_module_version": "1.5.0",
      "_view_name": "HBoxView",
      "box_style": "",
      "children": [
       "IPY_MODEL_0a9b58c98508420d8f8936189f064316",
       "IPY_MODEL_8dd5b08bb5bd4e608d04122424796ae7"
      ],
      "layout": "IPY_MODEL_540510088d3947f1b3cf6f4c983c1a53"
     }
    },
    "6d4a26d876fb4ac6b5948a09945bdc6b": {
     "model_module": "@jupyter-widgets/controls",
     "model_name": "DescriptionStyleModel",
     "state": {
      "_model_module": "@jupyter-widgets/controls",
      "_model_module_version": "1.5.0",
      "_model_name": "DescriptionStyleModel",
      "_view_count": null,
      "_view_module": "@jupyter-widgets/base",
      "_view_module_version": "1.2.0",
      "_view_name": "StyleView",
      "description_width": ""
     }
    },
    "6de66d6b7a73434cbdc59b2109bdf0a0": {
     "model_module": "@jupyter-widgets/base",
     "model_name": "LayoutModel",
     "state": {
      "_model_module": "@jupyter-widgets/base",
      "_model_module_version": "1.2.0",
      "_model_name": "LayoutModel",
      "_view_count": null,
      "_view_module": "@jupyter-widgets/base",
      "_view_module_version": "1.2.0",
      "_view_name": "LayoutView",
      "align_content": null,
      "align_items": null,
      "align_self": null,
      "border": null,
      "bottom": null,
      "display": null,
      "flex": null,
      "flex_flow": null,
      "grid_area": null,
      "grid_auto_columns": null,
      "grid_auto_flow": null,
      "grid_auto_rows": null,
      "grid_column": null,
      "grid_gap": null,
      "grid_row": null,
      "grid_template_areas": null,
      "grid_template_columns": null,
      "grid_template_rows": null,
      "height": null,
      "justify_content": null,
      "justify_items": null,
      "left": null,
      "margin": null,
      "max_height": null,
      "max_width": null,
      "min_height": null,
      "min_width": null,
      "object_fit": null,
      "object_position": null,
      "order": null,
      "overflow": null,
      "overflow_x": null,
      "overflow_y": null,
      "padding": null,
      "right": null,
      "top": null,
      "visibility": null,
      "width": null
     }
    },
    "6f60626242534f44a6381195e6eb6530": {
     "model_module": "@jupyter-widgets/controls",
     "model_name": "FloatProgressModel",
     "state": {
      "_dom_classes": [],
      "_model_module": "@jupyter-widgets/controls",
      "_model_module_version": "1.5.0",
      "_model_name": "FloatProgressModel",
      "_view_count": null,
      "_view_module": "@jupyter-widgets/controls",
      "_view_module_version": "1.5.0",
      "_view_name": "ProgressView",
      "bar_style": "success",
      "description": "#2: 100%",
      "description_tooltip": null,
      "layout": "IPY_MODEL_0ffcbedb8d4444508ac0c3c0b41ea8ac",
      "max": 52,
      "min": 0,
      "orientation": "horizontal",
      "style": "IPY_MODEL_5ab30242cd154ec0b560c23c0f178546",
      "value": 52
     }
    },
    "7040945accce4739a41746cc75bb7fce": {
     "model_module": "@jupyter-widgets/controls",
     "model_name": "HBoxModel",
     "state": {
      "_dom_classes": [],
      "_model_module": "@jupyter-widgets/controls",
      "_model_module_version": "1.5.0",
      "_model_name": "HBoxModel",
      "_view_count": null,
      "_view_module": "@jupyter-widgets/controls",
      "_view_module_version": "1.5.0",
      "_view_name": "HBoxView",
      "box_style": "",
      "children": [
       "IPY_MODEL_6f60626242534f44a6381195e6eb6530",
       "IPY_MODEL_9fee9d9dd1164d97a9109e942444c332"
      ],
      "layout": "IPY_MODEL_71011f0d2bc942ac8f9ea1d1fd30c78d"
     }
    },
    "704ea5e05fd744d998b76d6435992995": {
     "model_module": "@jupyter-widgets/controls",
     "model_name": "ProgressStyleModel",
     "state": {
      "_model_module": "@jupyter-widgets/controls",
      "_model_module_version": "1.5.0",
      "_model_name": "ProgressStyleModel",
      "_view_count": null,
      "_view_module": "@jupyter-widgets/base",
      "_view_module_version": "1.2.0",
      "_view_name": "StyleView",
      "bar_color": null,
      "description_width": "initial"
     }
    },
    "71011f0d2bc942ac8f9ea1d1fd30c78d": {
     "model_module": "@jupyter-widgets/base",
     "model_name": "LayoutModel",
     "state": {
      "_model_module": "@jupyter-widgets/base",
      "_model_module_version": "1.2.0",
      "_model_name": "LayoutModel",
      "_view_count": null,
      "_view_module": "@jupyter-widgets/base",
      "_view_module_version": "1.2.0",
      "_view_name": "LayoutView",
      "align_content": null,
      "align_items": null,
      "align_self": null,
      "border": null,
      "bottom": null,
      "display": null,
      "flex": null,
      "flex_flow": null,
      "grid_area": null,
      "grid_auto_columns": null,
      "grid_auto_flow": null,
      "grid_auto_rows": null,
      "grid_column": null,
      "grid_gap": null,
      "grid_row": null,
      "grid_template_areas": null,
      "grid_template_columns": null,
      "grid_template_rows": null,
      "height": null,
      "justify_content": null,
      "justify_items": null,
      "left": null,
      "margin": null,
      "max_height": null,
      "max_width": null,
      "min_height": null,
      "min_width": null,
      "object_fit": null,
      "object_position": null,
      "order": null,
      "overflow": null,
      "overflow_x": null,
      "overflow_y": null,
      "padding": null,
      "right": null,
      "top": null,
      "visibility": null,
      "width": null
     }
    },
    "71c059a0f3c246f3a40d55744331daaa": {
     "model_module": "@jupyter-widgets/controls",
     "model_name": "HTMLModel",
     "state": {
      "_dom_classes": [],
      "_model_module": "@jupyter-widgets/controls",
      "_model_module_version": "1.5.0",
      "_model_name": "HTMLModel",
      "_view_count": null,
      "_view_module": "@jupyter-widgets/controls",
      "_view_module_version": "1.5.0",
      "_view_name": "HTMLView",
      "description": "",
      "description_tooltip": null,
      "layout": "IPY_MODEL_430c3c079d0e4006b90e72df7986ffb0",
      "placeholder": "​",
      "style": "IPY_MODEL_cb5666eb8ebb4d1392e98d6b5af8761c",
      "value": " 325/0 [00:00&lt;00:00, 7071.04 examples/s]"
     }
    },
    "71ffdf6f26ba4381a8e671958e679f88": {
     "model_module": "@jupyter-widgets/controls",
     "model_name": "ProgressStyleModel",
     "state": {
      "_model_module": "@jupyter-widgets/controls",
      "_model_module_version": "1.5.0",
      "_model_name": "ProgressStyleModel",
      "_view_count": null,
      "_view_module": "@jupyter-widgets/base",
      "_view_module_version": "1.2.0",
      "_view_name": "StyleView",
      "bar_color": null,
      "description_width": "initial"
     }
    },
    "73940df84ffd4e0f96637342e9fd12b7": {
     "model_module": "@jupyter-widgets/base",
     "model_name": "LayoutModel",
     "state": {
      "_model_module": "@jupyter-widgets/base",
      "_model_module_version": "1.2.0",
      "_model_name": "LayoutModel",
      "_view_count": null,
      "_view_module": "@jupyter-widgets/base",
      "_view_module_version": "1.2.0",
      "_view_name": "LayoutView",
      "align_content": null,
      "align_items": null,
      "align_self": null,
      "border": null,
      "bottom": null,
      "display": null,
      "flex": null,
      "flex_flow": null,
      "grid_area": null,
      "grid_auto_columns": null,
      "grid_auto_flow": null,
      "grid_auto_rows": null,
      "grid_column": null,
      "grid_gap": null,
      "grid_row": null,
      "grid_template_areas": null,
      "grid_template_columns": null,
      "grid_template_rows": null,
      "height": null,
      "justify_content": null,
      "justify_items": null,
      "left": null,
      "margin": null,
      "max_height": null,
      "max_width": null,
      "min_height": null,
      "min_width": null,
      "object_fit": null,
      "object_position": null,
      "order": null,
      "overflow": null,
      "overflow_x": null,
      "overflow_y": null,
      "padding": null,
      "right": null,
      "top": null,
      "visibility": null,
      "width": null
     }
    },
    "73ecbfc3c5c5456bb42e19b8a34b1576": {
     "model_module": "@jupyter-widgets/base",
     "model_name": "LayoutModel",
     "state": {
      "_model_module": "@jupyter-widgets/base",
      "_model_module_version": "1.2.0",
      "_model_name": "LayoutModel",
      "_view_count": null,
      "_view_module": "@jupyter-widgets/base",
      "_view_module_version": "1.2.0",
      "_view_name": "LayoutView",
      "align_content": null,
      "align_items": null,
      "align_self": null,
      "border": null,
      "bottom": null,
      "display": null,
      "flex": null,
      "flex_flow": null,
      "grid_area": null,
      "grid_auto_columns": null,
      "grid_auto_flow": null,
      "grid_auto_rows": null,
      "grid_column": null,
      "grid_gap": null,
      "grid_row": null,
      "grid_template_areas": null,
      "grid_template_columns": null,
      "grid_template_rows": null,
      "height": null,
      "justify_content": null,
      "justify_items": null,
      "left": null,
      "margin": null,
      "max_height": null,
      "max_width": null,
      "min_height": null,
      "min_width": null,
      "object_fit": null,
      "object_position": null,
      "order": null,
      "overflow": null,
      "overflow_x": null,
      "overflow_y": null,
      "padding": null,
      "right": null,
      "top": null,
      "visibility": null,
      "width": null
     }
    },
    "751ae6b9e2da4b85be9600561485f1ac": {
     "model_module": "@jupyter-widgets/controls",
     "model_name": "DescriptionStyleModel",
     "state": {
      "_model_module": "@jupyter-widgets/controls",
      "_model_module_version": "1.5.0",
      "_model_name": "DescriptionStyleModel",
      "_view_count": null,
      "_view_module": "@jupyter-widgets/base",
      "_view_module_version": "1.2.0",
      "_view_name": "StyleView",
      "description_width": ""
     }
    },
    "757e7bd0e6c5410da0490d191b4e68c8": {
     "model_module": "@jupyter-widgets/controls",
     "model_name": "HTMLModel",
     "state": {
      "_dom_classes": [],
      "_model_module": "@jupyter-widgets/controls",
      "_model_module_version": "1.5.0",
      "_model_name": "HTMLModel",
      "_view_count": null,
      "_view_module": "@jupyter-widgets/controls",
      "_view_module_version": "1.5.0",
      "_view_name": "HTMLView",
      "description": "",
      "description_tooltip": null,
      "layout": "IPY_MODEL_9185f86719af476da41e3835e8f06f8d",
      "placeholder": "​",
      "style": "IPY_MODEL_0b795d4b68014de19bf9579c67b55ffb",
      "value": " 870/870 [05:35&lt;00:00,  2.59ex/s]"
     }
    },
    "75e00c38605f44cfb584067db1160349": {
     "model_module": "@jupyter-widgets/controls",
     "model_name": "FloatProgressModel",
     "state": {
      "_dom_classes": [],
      "_model_module": "@jupyter-widgets/controls",
      "_model_module_version": "1.5.0",
      "_model_name": "FloatProgressModel",
      "_view_count": null,
      "_view_module": "@jupyter-widgets/controls",
      "_view_module_version": "1.5.0",
      "_view_name": "ProgressView",
      "bar_style": "success",
      "description": "100%",
      "description_tooltip": null,
      "layout": "IPY_MODEL_73ecbfc3c5c5456bb42e19b8a34b1576",
      "max": 1,
      "min": 0,
      "orientation": "horizontal",
      "style": "IPY_MODEL_c01aca3229a24d41841be2b4a3a65bcc",
      "value": 1
     }
    },
    "768ab09956774f50a79b2493a8bf179b": {
     "model_module": "@jupyter-widgets/base",
     "model_name": "LayoutModel",
     "state": {
      "_model_module": "@jupyter-widgets/base",
      "_model_module_version": "1.2.0",
      "_model_name": "LayoutModel",
      "_view_count": null,
      "_view_module": "@jupyter-widgets/base",
      "_view_module_version": "1.2.0",
      "_view_name": "LayoutView",
      "align_content": null,
      "align_items": null,
      "align_self": null,
      "border": null,
      "bottom": null,
      "display": null,
      "flex": null,
      "flex_flow": null,
      "grid_area": null,
      "grid_auto_columns": null,
      "grid_auto_flow": null,
      "grid_auto_rows": null,
      "grid_column": null,
      "grid_gap": null,
      "grid_row": null,
      "grid_template_areas": null,
      "grid_template_columns": null,
      "grid_template_rows": null,
      "height": null,
      "justify_content": null,
      "justify_items": null,
      "left": null,
      "margin": null,
      "max_height": null,
      "max_width": null,
      "min_height": null,
      "min_width": null,
      "object_fit": null,
      "object_position": null,
      "order": null,
      "overflow": null,
      "overflow_x": null,
      "overflow_y": null,
      "padding": null,
      "right": null,
      "top": null,
      "visibility": null,
      "width": null
     }
    },
    "76d162d3ea0845cc837651a77a5a2d36": {
     "model_module": "@jupyter-widgets/controls",
     "model_name": "HBoxModel",
     "state": {
      "_dom_classes": [],
      "_model_module": "@jupyter-widgets/controls",
      "_model_module_version": "1.5.0",
      "_model_name": "HBoxModel",
      "_view_count": null,
      "_view_module": "@jupyter-widgets/controls",
      "_view_module_version": "1.5.0",
      "_view_name": "HBoxView",
      "box_style": "",
      "children": [
       "IPY_MODEL_f6b01ad0433a40178ef3ba5657bc1583",
       "IPY_MODEL_eed2ccc12daa4c71b080794a7a18f5cb"
      ],
      "layout": "IPY_MODEL_98c594f1e41e4b3fab10f0763bd93d75"
     }
    },
    "771959e46cb64b3ebafe931f96f5ff52": {
     "model_module": "@jupyter-widgets/controls",
     "model_name": "HBoxModel",
     "state": {
      "_dom_classes": [],
      "_model_module": "@jupyter-widgets/controls",
      "_model_module_version": "1.5.0",
      "_model_name": "HBoxModel",
      "_view_count": null,
      "_view_module": "@jupyter-widgets/controls",
      "_view_module_version": "1.5.0",
      "_view_name": "HBoxView",
      "box_style": "",
      "children": [
       "IPY_MODEL_f792530a76ee486688cbc2502dfae594",
       "IPY_MODEL_d69468d63dd74fdd807fe061b92aa84e"
      ],
      "layout": "IPY_MODEL_0e999af234bd4b63ad2937e61d08b693"
     }
    },
    "7916b06da182435a9cc1d13c73310500": {
     "model_module": "@jupyter-widgets/base",
     "model_name": "LayoutModel",
     "state": {
      "_model_module": "@jupyter-widgets/base",
      "_model_module_version": "1.2.0",
      "_model_name": "LayoutModel",
      "_view_count": null,
      "_view_module": "@jupyter-widgets/base",
      "_view_module_version": "1.2.0",
      "_view_name": "LayoutView",
      "align_content": null,
      "align_items": null,
      "align_self": null,
      "border": null,
      "bottom": null,
      "display": null,
      "flex": null,
      "flex_flow": null,
      "grid_area": null,
      "grid_auto_columns": null,
      "grid_auto_flow": null,
      "grid_auto_rows": null,
      "grid_column": null,
      "grid_gap": null,
      "grid_row": null,
      "grid_template_areas": null,
      "grid_template_columns": null,
      "grid_template_rows": null,
      "height": null,
      "justify_content": null,
      "justify_items": null,
      "left": null,
      "margin": null,
      "max_height": null,
      "max_width": null,
      "min_height": null,
      "min_width": null,
      "object_fit": null,
      "object_position": null,
      "order": null,
      "overflow": null,
      "overflow_x": null,
      "overflow_y": null,
      "padding": null,
      "right": null,
      "top": null,
      "visibility": null,
      "width": null
     }
    },
    "7aa70322bdfe46938b583a20003093d5": {
     "model_module": "@jupyter-widgets/controls",
     "model_name": "DescriptionStyleModel",
     "state": {
      "_model_module": "@jupyter-widgets/controls",
      "_model_module_version": "1.5.0",
      "_model_name": "DescriptionStyleModel",
      "_view_count": null,
      "_view_module": "@jupyter-widgets/base",
      "_view_module_version": "1.2.0",
      "_view_name": "StyleView",
      "description_width": ""
     }
    },
    "7b4cfd2b448643b8a4409dd612aef0d1": {
     "model_module": "@jupyter-widgets/base",
     "model_name": "LayoutModel",
     "state": {
      "_model_module": "@jupyter-widgets/base",
      "_model_module_version": "1.2.0",
      "_model_name": "LayoutModel",
      "_view_count": null,
      "_view_module": "@jupyter-widgets/base",
      "_view_module_version": "1.2.0",
      "_view_name": "LayoutView",
      "align_content": null,
      "align_items": null,
      "align_self": null,
      "border": null,
      "bottom": null,
      "display": null,
      "flex": null,
      "flex_flow": null,
      "grid_area": null,
      "grid_auto_columns": null,
      "grid_auto_flow": null,
      "grid_auto_rows": null,
      "grid_column": null,
      "grid_gap": null,
      "grid_row": null,
      "grid_template_areas": null,
      "grid_template_columns": null,
      "grid_template_rows": null,
      "height": null,
      "justify_content": null,
      "justify_items": null,
      "left": null,
      "margin": null,
      "max_height": null,
      "max_width": null,
      "min_height": null,
      "min_width": null,
      "object_fit": null,
      "object_position": null,
      "order": null,
      "overflow": null,
      "overflow_x": null,
      "overflow_y": null,
      "padding": null,
      "right": null,
      "top": null,
      "visibility": null,
      "width": null
     }
    },
    "7bf5b2b625764f63ad57a360c3fd0a61": {
     "model_module": "@jupyter-widgets/controls",
     "model_name": "DescriptionStyleModel",
     "state": {
      "_model_module": "@jupyter-widgets/controls",
      "_model_module_version": "1.5.0",
      "_model_name": "DescriptionStyleModel",
      "_view_count": null,
      "_view_module": "@jupyter-widgets/base",
      "_view_module_version": "1.2.0",
      "_view_name": "StyleView",
      "description_width": ""
     }
    },
    "7d62810674c8482abe46c60fc08884b4": {
     "model_module": "@jupyter-widgets/controls",
     "model_name": "ProgressStyleModel",
     "state": {
      "_model_module": "@jupyter-widgets/controls",
      "_model_module_version": "1.5.0",
      "_model_name": "ProgressStyleModel",
      "_view_count": null,
      "_view_module": "@jupyter-widgets/base",
      "_view_module_version": "1.2.0",
      "_view_name": "StyleView",
      "bar_color": null,
      "description_width": "initial"
     }
    },
    "7e50f8027fb74d669daae5e46082026c": {
     "model_module": "@jupyter-widgets/base",
     "model_name": "LayoutModel",
     "state": {
      "_model_module": "@jupyter-widgets/base",
      "_model_module_version": "1.2.0",
      "_model_name": "LayoutModel",
      "_view_count": null,
      "_view_module": "@jupyter-widgets/base",
      "_view_module_version": "1.2.0",
      "_view_name": "LayoutView",
      "align_content": null,
      "align_items": null,
      "align_self": null,
      "border": null,
      "bottom": null,
      "display": null,
      "flex": null,
      "flex_flow": null,
      "grid_area": null,
      "grid_auto_columns": null,
      "grid_auto_flow": null,
      "grid_auto_rows": null,
      "grid_column": null,
      "grid_gap": null,
      "grid_row": null,
      "grid_template_areas": null,
      "grid_template_columns": null,
      "grid_template_rows": null,
      "height": null,
      "justify_content": null,
      "justify_items": null,
      "left": null,
      "margin": null,
      "max_height": null,
      "max_width": null,
      "min_height": null,
      "min_width": null,
      "object_fit": null,
      "object_position": null,
      "order": null,
      "overflow": null,
      "overflow_x": null,
      "overflow_y": null,
      "padding": null,
      "right": null,
      "top": null,
      "visibility": null,
      "width": null
     }
    },
    "7edbecaccdd94ede8fddc0e1807e777e": {
     "model_module": "@jupyter-widgets/controls",
     "model_name": "FloatProgressModel",
     "state": {
      "_dom_classes": [],
      "_model_module": "@jupyter-widgets/controls",
      "_model_module_version": "1.5.0",
      "_model_name": "FloatProgressModel",
      "_view_count": null,
      "_view_module": "@jupyter-widgets/controls",
      "_view_module_version": "1.5.0",
      "_view_name": "ProgressView",
      "bar_style": "success",
      "description": "100%",
      "description_tooltip": null,
      "layout": "IPY_MODEL_3e3a022a9f304b0f9f7ef067fcee1e56",
      "max": 3478,
      "min": 0,
      "orientation": "horizontal",
      "style": "IPY_MODEL_b9c5c6dd54cc4dc5ad5a2bb69a24ab05",
      "value": 3478
     }
    },
    "7ef969e47c2d429a9848d5ab3f5bb2d9": {
     "model_module": "@jupyter-widgets/controls",
     "model_name": "HBoxModel",
     "state": {
      "_dom_classes": [],
      "_model_module": "@jupyter-widgets/controls",
      "_model_module_version": "1.5.0",
      "_model_name": "HBoxModel",
      "_view_count": null,
      "_view_module": "@jupyter-widgets/controls",
      "_view_module_version": "1.5.0",
      "_view_name": "HBoxView",
      "box_style": "",
      "children": [
       "IPY_MODEL_015c5690e1ea4281954c7efda1c80a6a",
       "IPY_MODEL_f4135dd72864445391f43f387635bfdc"
      ],
      "layout": "IPY_MODEL_fe62265afdc74026b7e9c5a50ef61d2c"
     }
    },
    "7f5203fde6b64bf7ad53d6ecd3041bfc": {
     "model_module": "@jupyter-widgets/controls",
     "model_name": "DescriptionStyleModel",
     "state": {
      "_model_module": "@jupyter-widgets/controls",
      "_model_module_version": "1.5.0",
      "_model_name": "DescriptionStyleModel",
      "_view_count": null,
      "_view_module": "@jupyter-widgets/base",
      "_view_module_version": "1.2.0",
      "_view_name": "StyleView",
      "description_width": ""
     }
    },
    "7f787df324514a8c915785e272a8af18": {
     "model_module": "@jupyter-widgets/controls",
     "model_name": "FloatProgressModel",
     "state": {
      "_dom_classes": [],
      "_model_module": "@jupyter-widgets/controls",
      "_model_module_version": "1.5.0",
      "_model_name": "FloatProgressModel",
      "_view_count": null,
      "_view_module": "@jupyter-widgets/controls",
      "_view_module_version": "1.5.0",
      "_view_name": "ProgressView",
      "bar_style": "info",
      "description": "",
      "description_tooltip": null,
      "layout": "IPY_MODEL_7916b06da182435a9cc1d13c73310500",
      "max": 1,
      "min": 0,
      "orientation": "horizontal",
      "style": "IPY_MODEL_71ffdf6f26ba4381a8e671958e679f88",
      "value": 1
     }
    },
    "80697300a4394b909f1c499ba80aeb13": {
     "model_module": "@jupyter-widgets/base",
     "model_name": "LayoutModel",
     "state": {
      "_model_module": "@jupyter-widgets/base",
      "_model_module_version": "1.2.0",
      "_model_name": "LayoutModel",
      "_view_count": null,
      "_view_module": "@jupyter-widgets/base",
      "_view_module_version": "1.2.0",
      "_view_name": "LayoutView",
      "align_content": null,
      "align_items": null,
      "align_self": null,
      "border": null,
      "bottom": null,
      "display": null,
      "flex": null,
      "flex_flow": null,
      "grid_area": null,
      "grid_auto_columns": null,
      "grid_auto_flow": null,
      "grid_auto_rows": null,
      "grid_column": null,
      "grid_gap": null,
      "grid_row": null,
      "grid_template_areas": null,
      "grid_template_columns": null,
      "grid_template_rows": null,
      "height": null,
      "justify_content": null,
      "justify_items": null,
      "left": null,
      "margin": null,
      "max_height": null,
      "max_width": null,
      "min_height": null,
      "min_width": null,
      "object_fit": null,
      "object_position": null,
      "order": null,
      "overflow": null,
      "overflow_x": null,
      "overflow_y": null,
      "padding": null,
      "right": null,
      "top": null,
      "visibility": null,
      "width": null
     }
    },
    "813fc95246034f5cb9e5198897b4ed42": {
     "model_module": "@jupyter-widgets/controls",
     "model_name": "DescriptionStyleModel",
     "state": {
      "_model_module": "@jupyter-widgets/controls",
      "_model_module_version": "1.5.0",
      "_model_name": "DescriptionStyleModel",
      "_view_count": null,
      "_view_module": "@jupyter-widgets/base",
      "_view_module_version": "1.2.0",
      "_view_name": "StyleView",
      "description_width": ""
     }
    },
    "82015055d32449b89346ea18e7474c4d": {
     "model_module": "@jupyter-widgets/controls",
     "model_name": "HBoxModel",
     "state": {
      "_dom_classes": [],
      "_model_module": "@jupyter-widgets/controls",
      "_model_module_version": "1.5.0",
      "_model_name": "HBoxModel",
      "_view_count": null,
      "_view_module": "@jupyter-widgets/controls",
      "_view_module_version": "1.5.0",
      "_view_name": "HBoxView",
      "box_style": "",
      "children": [
       "IPY_MODEL_f5f1f0865d7e4d8b810ccb9c3c4d2683",
       "IPY_MODEL_416badb151ee4660b53fdbc136e0c8fb"
      ],
      "layout": "IPY_MODEL_a170c0cb21cf425fbee97fd6d5584e2c"
     }
    },
    "824569c63ec445c08362659ca228dd2a": {
     "model_module": "@jupyter-widgets/controls",
     "model_name": "DescriptionStyleModel",
     "state": {
      "_model_module": "@jupyter-widgets/controls",
      "_model_module_version": "1.5.0",
      "_model_name": "DescriptionStyleModel",
      "_view_count": null,
      "_view_module": "@jupyter-widgets/base",
      "_view_module_version": "1.2.0",
      "_view_name": "StyleView",
      "description_width": ""
     }
    },
    "8292dafcd40745958d0f3c563bf6b9b0": {
     "model_module": "@jupyter-widgets/controls",
     "model_name": "ProgressStyleModel",
     "state": {
      "_model_module": "@jupyter-widgets/controls",
      "_model_module_version": "1.5.0",
      "_model_name": "ProgressStyleModel",
      "_view_count": null,
      "_view_module": "@jupyter-widgets/base",
      "_view_module_version": "1.2.0",
      "_view_name": "StyleView",
      "bar_color": null,
      "description_width": "initial"
     }
    },
    "83b51e16d88046c48dcd745cf09d2e56": {
     "model_module": "@jupyter-widgets/base",
     "model_name": "LayoutModel",
     "state": {
      "_model_module": "@jupyter-widgets/base",
      "_model_module_version": "1.2.0",
      "_model_name": "LayoutModel",
      "_view_count": null,
      "_view_module": "@jupyter-widgets/base",
      "_view_module_version": "1.2.0",
      "_view_name": "LayoutView",
      "align_content": null,
      "align_items": null,
      "align_self": null,
      "border": null,
      "bottom": null,
      "display": null,
      "flex": null,
      "flex_flow": null,
      "grid_area": null,
      "grid_auto_columns": null,
      "grid_auto_flow": null,
      "grid_auto_rows": null,
      "grid_column": null,
      "grid_gap": null,
      "grid_row": null,
      "grid_template_areas": null,
      "grid_template_columns": null,
      "grid_template_rows": null,
      "height": null,
      "justify_content": null,
      "justify_items": null,
      "left": null,
      "margin": null,
      "max_height": null,
      "max_width": null,
      "min_height": null,
      "min_width": null,
      "object_fit": null,
      "object_position": null,
      "order": null,
      "overflow": null,
      "overflow_x": null,
      "overflow_y": null,
      "padding": null,
      "right": null,
      "top": null,
      "visibility": null,
      "width": null
     }
    },
    "84e7f0001ebe458dad3c96e7e9a38cdc": {
     "model_module": "@jupyter-widgets/base",
     "model_name": "LayoutModel",
     "state": {
      "_model_module": "@jupyter-widgets/base",
      "_model_module_version": "1.2.0",
      "_model_name": "LayoutModel",
      "_view_count": null,
      "_view_module": "@jupyter-widgets/base",
      "_view_module_version": "1.2.0",
      "_view_name": "LayoutView",
      "align_content": null,
      "align_items": null,
      "align_self": null,
      "border": null,
      "bottom": null,
      "display": null,
      "flex": null,
      "flex_flow": null,
      "grid_area": null,
      "grid_auto_columns": null,
      "grid_auto_flow": null,
      "grid_auto_rows": null,
      "grid_column": null,
      "grid_gap": null,
      "grid_row": null,
      "grid_template_areas": null,
      "grid_template_columns": null,
      "grid_template_rows": null,
      "height": null,
      "justify_content": null,
      "justify_items": null,
      "left": null,
      "margin": null,
      "max_height": null,
      "max_width": null,
      "min_height": null,
      "min_width": null,
      "object_fit": null,
      "object_position": null,
      "order": null,
      "overflow": null,
      "overflow_x": null,
      "overflow_y": null,
      "padding": null,
      "right": null,
      "top": null,
      "visibility": null,
      "width": null
     }
    },
    "8701fb161cec47e89fc4d57b599ee7fe": {
     "model_module": "@jupyter-widgets/controls",
     "model_name": "HBoxModel",
     "state": {
      "_dom_classes": [],
      "_model_module": "@jupyter-widgets/controls",
      "_model_module_version": "1.5.0",
      "_model_name": "HBoxModel",
      "_view_count": null,
      "_view_module": "@jupyter-widgets/controls",
      "_view_module_version": "1.5.0",
      "_view_name": "HBoxView",
      "box_style": "",
      "children": [
       "IPY_MODEL_7f787df324514a8c915785e272a8af18",
       "IPY_MODEL_889da3e5ed2945849d3c8a6a75175747"
      ],
      "layout": "IPY_MODEL_1813458f75514f039ba0214597a09bb4"
     }
    },
    "889da3e5ed2945849d3c8a6a75175747": {
     "model_module": "@jupyter-widgets/controls",
     "model_name": "HTMLModel",
     "state": {
      "_dom_classes": [],
      "_model_module": "@jupyter-widgets/controls",
      "_model_module_version": "1.5.0",
      "_model_name": "HTMLModel",
      "_view_count": null,
      "_view_module": "@jupyter-widgets/controls",
      "_view_module_version": "1.5.0",
      "_view_name": "HTMLView",
      "description": "",
      "description_tooltip": null,
      "layout": "IPY_MODEL_2cd13e03a2ab45dc8570c8c739a613b4",
      "placeholder": "​",
      "style": "IPY_MODEL_59e0f5200068461cbfb256ad5479c4c8",
      "value": " 1647/0 [00:00&lt;00:00, 14767.90 examples/s]"
     }
    },
    "8ad3e4b211e34c048d0f48e36fdbfe48": {
     "model_module": "@jupyter-widgets/controls",
     "model_name": "DescriptionStyleModel",
     "state": {
      "_model_module": "@jupyter-widgets/controls",
      "_model_module_version": "1.5.0",
      "_model_name": "DescriptionStyleModel",
      "_view_count": null,
      "_view_module": "@jupyter-widgets/base",
      "_view_module_version": "1.2.0",
      "_view_name": "StyleView",
      "description_width": ""
     }
    },
    "8bb78a89ff81400791e3005098fdcb94": {
     "model_module": "@jupyter-widgets/base",
     "model_name": "LayoutModel",
     "state": {
      "_model_module": "@jupyter-widgets/base",
      "_model_module_version": "1.2.0",
      "_model_name": "LayoutModel",
      "_view_count": null,
      "_view_module": "@jupyter-widgets/base",
      "_view_module_version": "1.2.0",
      "_view_name": "LayoutView",
      "align_content": null,
      "align_items": null,
      "align_self": null,
      "border": null,
      "bottom": null,
      "display": null,
      "flex": null,
      "flex_flow": null,
      "grid_area": null,
      "grid_auto_columns": null,
      "grid_auto_flow": null,
      "grid_auto_rows": null,
      "grid_column": null,
      "grid_gap": null,
      "grid_row": null,
      "grid_template_areas": null,
      "grid_template_columns": null,
      "grid_template_rows": null,
      "height": null,
      "justify_content": null,
      "justify_items": null,
      "left": null,
      "margin": null,
      "max_height": null,
      "max_width": null,
      "min_height": null,
      "min_width": null,
      "object_fit": null,
      "object_position": null,
      "order": null,
      "overflow": null,
      "overflow_x": null,
      "overflow_y": null,
      "padding": null,
      "right": null,
      "top": null,
      "visibility": null,
      "width": null
     }
    },
    "8c07a528fc4a4e108b393ab117fe2e46": {
     "model_module": "@jupyter-widgets/controls",
     "model_name": "HTMLModel",
     "state": {
      "_dom_classes": [],
      "_model_module": "@jupyter-widgets/controls",
      "_model_module_version": "1.5.0",
      "_model_name": "HTMLModel",
      "_view_count": null,
      "_view_module": "@jupyter-widgets/controls",
      "_view_module_version": "1.5.0",
      "_view_name": "HTMLView",
      "description": "",
      "description_tooltip": null,
      "layout": "IPY_MODEL_8bb78a89ff81400791e3005098fdcb94",
      "placeholder": "​",
      "style": "IPY_MODEL_813fc95246034f5cb9e5198897b4ed42",
      "value": " 1/1 [00:00&lt;00:00, 13.94ba/s]"
     }
    },
    "8d409ca0372a48e2972ca1d8eee5ffa1": {
     "model_module": "@jupyter-widgets/controls",
     "model_name": "HTMLModel",
     "state": {
      "_dom_classes": [],
      "_model_module": "@jupyter-widgets/controls",
      "_model_module_version": "1.5.0",
      "_model_name": "HTMLModel",
      "_view_count": null,
      "_view_module": "@jupyter-widgets/controls",
      "_view_module_version": "1.5.0",
      "_view_name": "HTMLView",
      "description": "",
      "description_tooltip": null,
      "layout": "IPY_MODEL_b0479f03f96241ca959f6fe7bcbd1aba",
      "placeholder": "​",
      "style": "IPY_MODEL_d362345c05234c97a675c6bacdad0e92",
      "value": " 1647/1647 [01:20&lt;00:00, 20.38ex/s]"
     }
    },
    "8dd5b08bb5bd4e608d04122424796ae7": {
     "model_module": "@jupyter-widgets/controls",
     "model_name": "HTMLModel",
     "state": {
      "_dom_classes": [],
      "_model_module": "@jupyter-widgets/controls",
      "_model_module_version": "1.5.0",
      "_model_name": "HTMLModel",
      "_view_count": null,
      "_view_module": "@jupyter-widgets/controls",
      "_view_module_version": "1.5.0",
      "_view_name": "HTMLView",
      "description": "",
      "description_tooltip": null,
      "layout": "IPY_MODEL_9eb51a6ecf3f41578aa397a5c2a33673",
      "placeholder": "​",
      "style": "IPY_MODEL_2f18d89c684343b69c3f44ffbb9b42a0",
      "value": " 1726/0 [00:00&lt;00:00, 13986.88 examples/s]"
     }
    },
    "8dddd0245dcb4532917cbfa0181d2a00": {
     "model_module": "@jupyter-widgets/controls",
     "model_name": "FloatProgressModel",
     "state": {
      "_dom_classes": [],
      "_model_module": "@jupyter-widgets/controls",
      "_model_module_version": "1.5.0",
      "_model_name": "FloatProgressModel",
      "_view_count": null,
      "_view_module": "@jupyter-widgets/controls",
      "_view_module_version": "1.5.0",
      "_view_name": "ProgressView",
      "bar_style": "success",
      "description": "#2: 100%",
      "description_tooltip": null,
      "layout": "IPY_MODEL_b1d93a7521fa47b8a815445b5232da59",
      "max": 412,
      "min": 0,
      "orientation": "horizontal",
      "style": "IPY_MODEL_024989cea06f435894776b0a921164b2",
      "value": 412
     }
    },
    "8df9d19602cb4951b397c385458a11ef": {
     "model_module": "@jupyter-widgets/controls",
     "model_name": "DescriptionStyleModel",
     "state": {
      "_model_module": "@jupyter-widgets/controls",
      "_model_module_version": "1.5.0",
      "_model_name": "DescriptionStyleModel",
      "_view_count": null,
      "_view_module": "@jupyter-widgets/base",
      "_view_module_version": "1.2.0",
      "_view_name": "StyleView",
      "description_width": ""
     }
    },
    "8e1a85a4a6214a16b7431da23a301ada": {
     "model_module": "@jupyter-widgets/controls",
     "model_name": "FloatProgressModel",
     "state": {
      "_dom_classes": [],
      "_model_module": "@jupyter-widgets/controls",
      "_model_module_version": "1.5.0",
      "_model_name": "FloatProgressModel",
      "_view_count": null,
      "_view_module": "@jupyter-widgets/controls",
      "_view_module_version": "1.5.0",
      "_view_name": "ProgressView",
      "bar_style": "success",
      "description": "Downloading: ",
      "description_tooltip": null,
      "layout": "IPY_MODEL_d453bd4a35e54bfba20dac1fe86c60c1",
      "max": 1764,
      "min": 0,
      "orientation": "horizontal",
      "style": "IPY_MODEL_a3c04c75ec9743feb795f69e7c4dff4f",
      "value": 1764
     }
    },
    "8e63ba7f1fd24555bf11bc9dbe9c770b": {
     "model_module": "@jupyter-widgets/controls",
     "model_name": "HTMLModel",
     "state": {
      "_dom_classes": [],
      "_model_module": "@jupyter-widgets/controls",
      "_model_module_version": "1.5.0",
      "_model_name": "HTMLModel",
      "_view_count": null,
      "_view_module": "@jupyter-widgets/controls",
      "_view_module_version": "1.5.0",
      "_view_name": "HTMLView",
      "description": "",
      "description_tooltip": null,
      "layout": "IPY_MODEL_26e7bab0f3bf4797bfcef83dcace24f0",
      "placeholder": "​",
      "style": "IPY_MODEL_405b5de4ae854cf9896f63d15f2207dd",
      "value": " 52/52 [00:30&lt;00:00,  1.68ba/s]"
     }
    },
    "8f737725708c4097a8caaf4da6229636": {
     "model_module": "@jupyter-widgets/base",
     "model_name": "LayoutModel",
     "state": {
      "_model_module": "@jupyter-widgets/base",
      "_model_module_version": "1.2.0",
      "_model_name": "LayoutModel",
      "_view_count": null,
      "_view_module": "@jupyter-widgets/base",
      "_view_module_version": "1.2.0",
      "_view_name": "LayoutView",
      "align_content": null,
      "align_items": null,
      "align_self": null,
      "border": null,
      "bottom": null,
      "display": null,
      "flex": null,
      "flex_flow": null,
      "grid_area": null,
      "grid_auto_columns": null,
      "grid_auto_flow": null,
      "grid_auto_rows": null,
      "grid_column": null,
      "grid_gap": null,
      "grid_row": null,
      "grid_template_areas": null,
      "grid_template_columns": null,
      "grid_template_rows": null,
      "height": null,
      "justify_content": null,
      "justify_items": null,
      "left": null,
      "margin": null,
      "max_height": null,
      "max_width": null,
      "min_height": null,
      "min_width": null,
      "object_fit": null,
      "object_position": null,
      "order": null,
      "overflow": null,
      "overflow_x": null,
      "overflow_y": null,
      "padding": null,
      "right": null,
      "top": null,
      "visibility": null,
      "width": null
     }
    },
    "90b8bc59e26a46009e1d3763f86f227a": {
     "model_module": "@jupyter-widgets/controls",
     "model_name": "HBoxModel",
     "state": {
      "_dom_classes": [],
      "_model_module": "@jupyter-widgets/controls",
      "_model_module_version": "1.5.0",
      "_model_name": "HBoxModel",
      "_view_count": null,
      "_view_module": "@jupyter-widgets/controls",
      "_view_module_version": "1.5.0",
      "_view_name": "HBoxView",
      "box_style": "",
      "children": [
       "IPY_MODEL_98e7ab5f7ebf426fbb71a37bbad4c28f",
       "IPY_MODEL_e3b719c0ffcc4fd1b410ffb7f969b7a5"
      ],
      "layout": "IPY_MODEL_3e2cd59ac697495f8db14b894b783f95"
     }
    },
    "9185f86719af476da41e3835e8f06f8d": {
     "model_module": "@jupyter-widgets/base",
     "model_name": "LayoutModel",
     "state": {
      "_model_module": "@jupyter-widgets/base",
      "_model_module_version": "1.2.0",
      "_model_name": "LayoutModel",
      "_view_count": null,
      "_view_module": "@jupyter-widgets/base",
      "_view_module_version": "1.2.0",
      "_view_name": "LayoutView",
      "align_content": null,
      "align_items": null,
      "align_self": null,
      "border": null,
      "bottom": null,
      "display": null,
      "flex": null,
      "flex_flow": null,
      "grid_area": null,
      "grid_auto_columns": null,
      "grid_auto_flow": null,
      "grid_auto_rows": null,
      "grid_column": null,
      "grid_gap": null,
      "grid_row": null,
      "grid_template_areas": null,
      "grid_template_columns": null,
      "grid_template_rows": null,
      "height": null,
      "justify_content": null,
      "justify_items": null,
      "left": null,
      "margin": null,
      "max_height": null,
      "max_width": null,
      "min_height": null,
      "min_width": null,
      "object_fit": null,
      "object_position": null,
      "order": null,
      "overflow": null,
      "overflow_x": null,
      "overflow_y": null,
      "padding": null,
      "right": null,
      "top": null,
      "visibility": null,
      "width": null
     }
    },
    "91fcf0641fe3489ab96f3aaa40adf245": {
     "model_module": "@jupyter-widgets/base",
     "model_name": "LayoutModel",
     "state": {
      "_model_module": "@jupyter-widgets/base",
      "_model_module_version": "1.2.0",
      "_model_name": "LayoutModel",
      "_view_count": null,
      "_view_module": "@jupyter-widgets/base",
      "_view_module_version": "1.2.0",
      "_view_name": "LayoutView",
      "align_content": null,
      "align_items": null,
      "align_self": null,
      "border": null,
      "bottom": null,
      "display": null,
      "flex": null,
      "flex_flow": null,
      "grid_area": null,
      "grid_auto_columns": null,
      "grid_auto_flow": null,
      "grid_auto_rows": null,
      "grid_column": null,
      "grid_gap": null,
      "grid_row": null,
      "grid_template_areas": null,
      "grid_template_columns": null,
      "grid_template_rows": null,
      "height": null,
      "justify_content": null,
      "justify_items": null,
      "left": null,
      "margin": null,
      "max_height": null,
      "max_width": null,
      "min_height": null,
      "min_width": null,
      "object_fit": null,
      "object_position": null,
      "order": null,
      "overflow": null,
      "overflow_x": null,
      "overflow_y": null,
      "padding": null,
      "right": null,
      "top": null,
      "visibility": null,
      "width": null
     }
    },
    "923ed9e127524187ab8cfcac31164ba7": {
     "model_module": "@jupyter-widgets/base",
     "model_name": "LayoutModel",
     "state": {
      "_model_module": "@jupyter-widgets/base",
      "_model_module_version": "1.2.0",
      "_model_name": "LayoutModel",
      "_view_count": null,
      "_view_module": "@jupyter-widgets/base",
      "_view_module_version": "1.2.0",
      "_view_name": "LayoutView",
      "align_content": null,
      "align_items": null,
      "align_self": null,
      "border": null,
      "bottom": null,
      "display": null,
      "flex": null,
      "flex_flow": null,
      "grid_area": null,
      "grid_auto_columns": null,
      "grid_auto_flow": null,
      "grid_auto_rows": null,
      "grid_column": null,
      "grid_gap": null,
      "grid_row": null,
      "grid_template_areas": null,
      "grid_template_columns": null,
      "grid_template_rows": null,
      "height": null,
      "justify_content": null,
      "justify_items": null,
      "left": null,
      "margin": null,
      "max_height": null,
      "max_width": null,
      "min_height": null,
      "min_width": null,
      "object_fit": null,
      "object_position": null,
      "order": null,
      "overflow": null,
      "overflow_x": null,
      "overflow_y": null,
      "padding": null,
      "right": null,
      "top": null,
      "visibility": null,
      "width": null
     }
    },
    "929cde17b3484f3e9e8f8774bc43e374": {
     "model_module": "@jupyter-widgets/controls",
     "model_name": "ProgressStyleModel",
     "state": {
      "_model_module": "@jupyter-widgets/controls",
      "_model_module_version": "1.5.0",
      "_model_name": "ProgressStyleModel",
      "_view_count": null,
      "_view_module": "@jupyter-widgets/base",
      "_view_module_version": "1.2.0",
      "_view_name": "StyleView",
      "bar_color": null,
      "description_width": "initial"
     }
    },
    "92a35db69bbf4ad6af44c53aa3870be5": {
     "model_module": "@jupyter-widgets/controls",
     "model_name": "HBoxModel",
     "state": {
      "_dom_classes": [],
      "_model_module": "@jupyter-widgets/controls",
      "_model_module_version": "1.5.0",
      "_model_name": "HBoxModel",
      "_view_count": null,
      "_view_module": "@jupyter-widgets/controls",
      "_view_module_version": "1.5.0",
      "_view_name": "HBoxView",
      "box_style": "",
      "children": [
       "IPY_MODEL_b94e374d92c146009447c3827b977267",
       "IPY_MODEL_1f1faa7b986e475c9e6839b2e7b55c74"
      ],
      "layout": "IPY_MODEL_389e43e47a734193a507817ebad955f7"
     }
    },
    "93f191a48b3141e1889fd94870b6ac0e": {
     "model_module": "@jupyter-widgets/base",
     "model_name": "LayoutModel",
     "state": {
      "_model_module": "@jupyter-widgets/base",
      "_model_module_version": "1.2.0",
      "_model_name": "LayoutModel",
      "_view_count": null,
      "_view_module": "@jupyter-widgets/base",
      "_view_module_version": "1.2.0",
      "_view_name": "LayoutView",
      "align_content": null,
      "align_items": null,
      "align_self": null,
      "border": null,
      "bottom": null,
      "display": null,
      "flex": null,
      "flex_flow": null,
      "grid_area": null,
      "grid_auto_columns": null,
      "grid_auto_flow": null,
      "grid_auto_rows": null,
      "grid_column": null,
      "grid_gap": null,
      "grid_row": null,
      "grid_template_areas": null,
      "grid_template_columns": null,
      "grid_template_rows": null,
      "height": null,
      "justify_content": null,
      "justify_items": null,
      "left": null,
      "margin": null,
      "max_height": null,
      "max_width": null,
      "min_height": null,
      "min_width": null,
      "object_fit": null,
      "object_position": null,
      "order": null,
      "overflow": null,
      "overflow_x": null,
      "overflow_y": null,
      "padding": null,
      "right": null,
      "top": null,
      "visibility": null,
      "width": null
     }
    },
    "9532db4cdc5e4371a4a02055a4c67a08": {
     "model_module": "@jupyter-widgets/controls",
     "model_name": "DescriptionStyleModel",
     "state": {
      "_model_module": "@jupyter-widgets/controls",
      "_model_module_version": "1.5.0",
      "_model_name": "DescriptionStyleModel",
      "_view_count": null,
      "_view_module": "@jupyter-widgets/base",
      "_view_module_version": "1.2.0",
      "_view_name": "StyleView",
      "description_width": ""
     }
    },
    "969080b52ad44ee997829986d198c505": {
     "model_module": "@jupyter-widgets/controls",
     "model_name": "DescriptionStyleModel",
     "state": {
      "_model_module": "@jupyter-widgets/controls",
      "_model_module_version": "1.5.0",
      "_model_name": "DescriptionStyleModel",
      "_view_count": null,
      "_view_module": "@jupyter-widgets/base",
      "_view_module_version": "1.2.0",
      "_view_name": "StyleView",
      "description_width": ""
     }
    },
    "98c594f1e41e4b3fab10f0763bd93d75": {
     "model_module": "@jupyter-widgets/base",
     "model_name": "LayoutModel",
     "state": {
      "_model_module": "@jupyter-widgets/base",
      "_model_module_version": "1.2.0",
      "_model_name": "LayoutModel",
      "_view_count": null,
      "_view_module": "@jupyter-widgets/base",
      "_view_module_version": "1.2.0",
      "_view_name": "LayoutView",
      "align_content": null,
      "align_items": null,
      "align_self": null,
      "border": null,
      "bottom": null,
      "display": null,
      "flex": null,
      "flex_flow": null,
      "grid_area": null,
      "grid_auto_columns": null,
      "grid_auto_flow": null,
      "grid_auto_rows": null,
      "grid_column": null,
      "grid_gap": null,
      "grid_row": null,
      "grid_template_areas": null,
      "grid_template_columns": null,
      "grid_template_rows": null,
      "height": null,
      "justify_content": null,
      "justify_items": null,
      "left": null,
      "margin": null,
      "max_height": null,
      "max_width": null,
      "min_height": null,
      "min_width": null,
      "object_fit": null,
      "object_position": null,
      "order": null,
      "overflow": null,
      "overflow_x": null,
      "overflow_y": null,
      "padding": null,
      "right": null,
      "top": null,
      "visibility": null,
      "width": null
     }
    },
    "98e7ab5f7ebf426fbb71a37bbad4c28f": {
     "model_module": "@jupyter-widgets/controls",
     "model_name": "FloatProgressModel",
     "state": {
      "_dom_classes": [],
      "_model_module": "@jupyter-widgets/controls",
      "_model_module_version": "1.5.0",
      "_model_name": "FloatProgressModel",
      "_view_count": null,
      "_view_module": "@jupyter-widgets/controls",
      "_view_module_version": "1.5.0",
      "_view_name": "ProgressView",
      "bar_style": "info",
      "description": "",
      "description_tooltip": null,
      "layout": "IPY_MODEL_2f5406546970425282a881b5d2f7c248",
      "max": 1,
      "min": 0,
      "orientation": "horizontal",
      "style": "IPY_MODEL_4382726ef043441a9b1a4a647d84f242",
      "value": 1
     }
    },
    "998676d59f9c464e8463d65baad6448b": {
     "model_module": "@jupyter-widgets/controls",
     "model_name": "HTMLModel",
     "state": {
      "_dom_classes": [],
      "_model_module": "@jupyter-widgets/controls",
      "_model_module_version": "1.5.0",
      "_model_name": "HTMLModel",
      "_view_count": null,
      "_view_module": "@jupyter-widgets/controls",
      "_view_module_version": "1.5.0",
      "_view_name": "HTMLView",
      "description": "",
      "description_tooltip": null,
      "layout": "IPY_MODEL_7b4cfd2b448643b8a4409dd612aef0d1",
      "placeholder": "​",
      "style": "IPY_MODEL_7bf5b2b625764f63ad57a360c3fd0a61",
      "value": " 1647/1647 [00:45&lt;00:00, 36.39ex/s]"
     }
    },
    "99d5c44ea54b45ee9bd89380cb1ad189": {
     "model_module": "@jupyter-widgets/base",
     "model_name": "LayoutModel",
     "state": {
      "_model_module": "@jupyter-widgets/base",
      "_model_module_version": "1.2.0",
      "_model_name": "LayoutModel",
      "_view_count": null,
      "_view_module": "@jupyter-widgets/base",
      "_view_module_version": "1.2.0",
      "_view_name": "LayoutView",
      "align_content": null,
      "align_items": null,
      "align_self": null,
      "border": null,
      "bottom": null,
      "display": null,
      "flex": null,
      "flex_flow": null,
      "grid_area": null,
      "grid_auto_columns": null,
      "grid_auto_flow": null,
      "grid_auto_rows": null,
      "grid_column": null,
      "grid_gap": null,
      "grid_row": null,
      "grid_template_areas": null,
      "grid_template_columns": null,
      "grid_template_rows": null,
      "height": null,
      "justify_content": null,
      "justify_items": null,
      "left": null,
      "margin": null,
      "max_height": null,
      "max_width": null,
      "min_height": null,
      "min_width": null,
      "object_fit": null,
      "object_position": null,
      "order": null,
      "overflow": null,
      "overflow_x": null,
      "overflow_y": null,
      "padding": null,
      "right": null,
      "top": null,
      "visibility": null,
      "width": null
     }
    },
    "9eb51a6ecf3f41578aa397a5c2a33673": {
     "model_module": "@jupyter-widgets/base",
     "model_name": "LayoutModel",
     "state": {
      "_model_module": "@jupyter-widgets/base",
      "_model_module_version": "1.2.0",
      "_model_name": "LayoutModel",
      "_view_count": null,
      "_view_module": "@jupyter-widgets/base",
      "_view_module_version": "1.2.0",
      "_view_name": "LayoutView",
      "align_content": null,
      "align_items": null,
      "align_self": null,
      "border": null,
      "bottom": null,
      "display": null,
      "flex": null,
      "flex_flow": null,
      "grid_area": null,
      "grid_auto_columns": null,
      "grid_auto_flow": null,
      "grid_auto_rows": null,
      "grid_column": null,
      "grid_gap": null,
      "grid_row": null,
      "grid_template_areas": null,
      "grid_template_columns": null,
      "grid_template_rows": null,
      "height": null,
      "justify_content": null,
      "justify_items": null,
      "left": null,
      "margin": null,
      "max_height": null,
      "max_width": null,
      "min_height": null,
      "min_width": null,
      "object_fit": null,
      "object_position": null,
      "order": null,
      "overflow": null,
      "overflow_x": null,
      "overflow_y": null,
      "padding": null,
      "right": null,
      "top": null,
      "visibility": null,
      "width": null
     }
    },
    "9f79629ad6a94201acf3283862d1ae17": {
     "model_module": "@jupyter-widgets/controls",
     "model_name": "DescriptionStyleModel",
     "state": {
      "_model_module": "@jupyter-widgets/controls",
      "_model_module_version": "1.5.0",
      "_model_name": "DescriptionStyleModel",
      "_view_count": null,
      "_view_module": "@jupyter-widgets/base",
      "_view_module_version": "1.2.0",
      "_view_name": "StyleView",
      "description_width": ""
     }
    },
    "9fee9d9dd1164d97a9109e942444c332": {
     "model_module": "@jupyter-widgets/controls",
     "model_name": "HTMLModel",
     "state": {
      "_dom_classes": [],
      "_model_module": "@jupyter-widgets/controls",
      "_model_module_version": "1.5.0",
      "_model_name": "HTMLModel",
      "_view_count": null,
      "_view_module": "@jupyter-widgets/controls",
      "_view_module_version": "1.5.0",
      "_view_name": "HTMLView",
      "description": "",
      "description_tooltip": null,
      "layout": "IPY_MODEL_c126ea97019149848396e593cfab016f",
      "placeholder": "​",
      "style": "IPY_MODEL_f9efaa7678c2450f847ff2c2f21ff96e",
      "value": " 52/52 [00:31&lt;00:00,  1.66ba/s]"
     }
    },
    "a170c0cb21cf425fbee97fd6d5584e2c": {
     "model_module": "@jupyter-widgets/base",
     "model_name": "LayoutModel",
     "state": {
      "_model_module": "@jupyter-widgets/base",
      "_model_module_version": "1.2.0",
      "_model_name": "LayoutModel",
      "_view_count": null,
      "_view_module": "@jupyter-widgets/base",
      "_view_module_version": "1.2.0",
      "_view_name": "LayoutView",
      "align_content": null,
      "align_items": null,
      "align_self": null,
      "border": null,
      "bottom": null,
      "display": null,
      "flex": null,
      "flex_flow": null,
      "grid_area": null,
      "grid_auto_columns": null,
      "grid_auto_flow": null,
      "grid_auto_rows": null,
      "grid_column": null,
      "grid_gap": null,
      "grid_row": null,
      "grid_template_areas": null,
      "grid_template_columns": null,
      "grid_template_rows": null,
      "height": null,
      "justify_content": null,
      "justify_items": null,
      "left": null,
      "margin": null,
      "max_height": null,
      "max_width": null,
      "min_height": null,
      "min_width": null,
      "object_fit": null,
      "object_position": null,
      "order": null,
      "overflow": null,
      "overflow_x": null,
      "overflow_y": null,
      "padding": null,
      "right": null,
      "top": null,
      "visibility": null,
      "width": null
     }
    },
    "a34dae18d9994b848630d4e3d836e0cb": {
     "model_module": "@jupyter-widgets/base",
     "model_name": "LayoutModel",
     "state": {
      "_model_module": "@jupyter-widgets/base",
      "_model_module_version": "1.2.0",
      "_model_name": "LayoutModel",
      "_view_count": null,
      "_view_module": "@jupyter-widgets/base",
      "_view_module_version": "1.2.0",
      "_view_name": "LayoutView",
      "align_content": null,
      "align_items": null,
      "align_self": null,
      "border": null,
      "bottom": null,
      "display": null,
      "flex": null,
      "flex_flow": null,
      "grid_area": null,
      "grid_auto_columns": null,
      "grid_auto_flow": null,
      "grid_auto_rows": null,
      "grid_column": null,
      "grid_gap": null,
      "grid_row": null,
      "grid_template_areas": null,
      "grid_template_columns": null,
      "grid_template_rows": null,
      "height": null,
      "justify_content": null,
      "justify_items": null,
      "left": null,
      "margin": null,
      "max_height": null,
      "max_width": null,
      "min_height": null,
      "min_width": null,
      "object_fit": null,
      "object_position": null,
      "order": null,
      "overflow": null,
      "overflow_x": null,
      "overflow_y": null,
      "padding": null,
      "right": null,
      "top": null,
      "visibility": null,
      "width": null
     }
    },
    "a3c04c75ec9743feb795f69e7c4dff4f": {
     "model_module": "@jupyter-widgets/controls",
     "model_name": "ProgressStyleModel",
     "state": {
      "_model_module": "@jupyter-widgets/controls",
      "_model_module_version": "1.5.0",
      "_model_name": "ProgressStyleModel",
      "_view_count": null,
      "_view_module": "@jupyter-widgets/base",
      "_view_module_version": "1.2.0",
      "_view_name": "StyleView",
      "bar_color": null,
      "description_width": "initial"
     }
    },
    "a47f1ea64f894f0b8e6b277c31ae9f7d": {
     "model_module": "@jupyter-widgets/controls",
     "model_name": "ProgressStyleModel",
     "state": {
      "_model_module": "@jupyter-widgets/controls",
      "_model_module_version": "1.5.0",
      "_model_name": "ProgressStyleModel",
      "_view_count": null,
      "_view_module": "@jupyter-widgets/base",
      "_view_module_version": "1.2.0",
      "_view_name": "StyleView",
      "bar_color": null,
      "description_width": "initial"
     }
    },
    "a58c203a7cc54086aea45f2029821207": {
     "model_module": "@jupyter-widgets/controls",
     "model_name": "FloatProgressModel",
     "state": {
      "_dom_classes": [],
      "_model_module": "@jupyter-widgets/controls",
      "_model_module_version": "1.5.0",
      "_model_name": "FloatProgressModel",
      "_view_count": null,
      "_view_module": "@jupyter-widgets/controls",
      "_view_module_version": "1.5.0",
      "_view_name": "ProgressView",
      "bar_style": "success",
      "description": "100%",
      "description_tooltip": null,
      "layout": "IPY_MODEL_b1b6a4649fc34c9996f993c57671766b",
      "max": 1647,
      "min": 0,
      "orientation": "horizontal",
      "style": "IPY_MODEL_c8fdf261ac294093a355778a3a4aba3b",
      "value": 1647
     }
    },
    "a868dea9d9b047a4b853b390e138e4c1": {
     "model_module": "@jupyter-widgets/base",
     "model_name": "LayoutModel",
     "state": {
      "_model_module": "@jupyter-widgets/base",
      "_model_module_version": "1.2.0",
      "_model_name": "LayoutModel",
      "_view_count": null,
      "_view_module": "@jupyter-widgets/base",
      "_view_module_version": "1.2.0",
      "_view_name": "LayoutView",
      "align_content": null,
      "align_items": null,
      "align_self": null,
      "border": null,
      "bottom": null,
      "display": null,
      "flex": null,
      "flex_flow": null,
      "grid_area": null,
      "grid_auto_columns": null,
      "grid_auto_flow": null,
      "grid_auto_rows": null,
      "grid_column": null,
      "grid_gap": null,
      "grid_row": null,
      "grid_template_areas": null,
      "grid_template_columns": null,
      "grid_template_rows": null,
      "height": null,
      "justify_content": null,
      "justify_items": null,
      "left": null,
      "margin": null,
      "max_height": null,
      "max_width": null,
      "min_height": null,
      "min_width": null,
      "object_fit": null,
      "object_position": null,
      "order": null,
      "overflow": null,
      "overflow_x": null,
      "overflow_y": null,
      "padding": null,
      "right": null,
      "top": null,
      "visibility": null,
      "width": null
     }
    },
    "aafd4b2c56db43378c4627797665db17": {
     "model_module": "@jupyter-widgets/controls",
     "model_name": "HTMLModel",
     "state": {
      "_dom_classes": [],
      "_model_module": "@jupyter-widgets/controls",
      "_model_module_version": "1.5.0",
      "_model_name": "HTMLModel",
      "_view_count": null,
      "_view_module": "@jupyter-widgets/controls",
      "_view_module_version": "1.5.0",
      "_view_name": "HTMLView",
      "description": "",
      "description_tooltip": null,
      "layout": "IPY_MODEL_ad428686450f4ebdb50a0356b2e5a8c4",
      "placeholder": "​",
      "style": "IPY_MODEL_ccb720bf256e42f7b0251494ccb7741f",
      "value": " 1/1 [00:45&lt;00:00, 45.03s/ba]"
     }
    },
    "ab72c80dfd5e4ab19a183f4204486b59": {
     "model_module": "@jupyter-widgets/controls",
     "model_name": "DescriptionStyleModel",
     "state": {
      "_model_module": "@jupyter-widgets/controls",
      "_model_module_version": "1.5.0",
      "_model_name": "DescriptionStyleModel",
      "_view_count": null,
      "_view_module": "@jupyter-widgets/base",
      "_view_module_version": "1.2.0",
      "_view_name": "StyleView",
      "description_width": ""
     }
    },
    "ac35dca0845149a284b9867d9e607232": {
     "model_module": "@jupyter-widgets/controls",
     "model_name": "HBoxModel",
     "state": {
      "_dom_classes": [],
      "_model_module": "@jupyter-widgets/controls",
      "_model_module_version": "1.5.0",
      "_model_name": "HBoxModel",
      "_view_count": null,
      "_view_module": "@jupyter-widgets/controls",
      "_view_module_version": "1.5.0",
      "_view_name": "HBoxView",
      "box_style": "",
      "children": [
       "IPY_MODEL_5071a31d06f544a5b7340a4e863d8fdf",
       "IPY_MODEL_542027ba12f444d586e8072452badea0"
      ],
      "layout": "IPY_MODEL_b54bff6261964119bcb562c1a9f74ce6"
     }
    },
    "ad428686450f4ebdb50a0356b2e5a8c4": {
     "model_module": "@jupyter-widgets/base",
     "model_name": "LayoutModel",
     "state": {
      "_model_module": "@jupyter-widgets/base",
      "_model_module_version": "1.2.0",
      "_model_name": "LayoutModel",
      "_view_count": null,
      "_view_module": "@jupyter-widgets/base",
      "_view_module_version": "1.2.0",
      "_view_name": "LayoutView",
      "align_content": null,
      "align_items": null,
      "align_self": null,
      "border": null,
      "bottom": null,
      "display": null,
      "flex": null,
      "flex_flow": null,
      "grid_area": null,
      "grid_auto_columns": null,
      "grid_auto_flow": null,
      "grid_auto_rows": null,
      "grid_column": null,
      "grid_gap": null,
      "grid_row": null,
      "grid_template_areas": null,
      "grid_template_columns": null,
      "grid_template_rows": null,
      "height": null,
      "justify_content": null,
      "justify_items": null,
      "left": null,
      "margin": null,
      "max_height": null,
      "max_width": null,
      "min_height": null,
      "min_width": null,
      "object_fit": null,
      "object_position": null,
      "order": null,
      "overflow": null,
      "overflow_x": null,
      "overflow_y": null,
      "padding": null,
      "right": null,
      "top": null,
      "visibility": null,
      "width": null
     }
    },
    "af85713f677243d19cba9fe69a4a5f46": {
     "model_module": "@jupyter-widgets/base",
     "model_name": "LayoutModel",
     "state": {
      "_model_module": "@jupyter-widgets/base",
      "_model_module_version": "1.2.0",
      "_model_name": "LayoutModel",
      "_view_count": null,
      "_view_module": "@jupyter-widgets/base",
      "_view_module_version": "1.2.0",
      "_view_name": "LayoutView",
      "align_content": null,
      "align_items": null,
      "align_self": null,
      "border": null,
      "bottom": null,
      "display": null,
      "flex": null,
      "flex_flow": null,
      "grid_area": null,
      "grid_auto_columns": null,
      "grid_auto_flow": null,
      "grid_auto_rows": null,
      "grid_column": null,
      "grid_gap": null,
      "grid_row": null,
      "grid_template_areas": null,
      "grid_template_columns": null,
      "grid_template_rows": null,
      "height": null,
      "justify_content": null,
      "justify_items": null,
      "left": null,
      "margin": null,
      "max_height": null,
      "max_width": null,
      "min_height": null,
      "min_width": null,
      "object_fit": null,
      "object_position": null,
      "order": null,
      "overflow": null,
      "overflow_x": null,
      "overflow_y": null,
      "padding": null,
      "right": null,
      "top": null,
      "visibility": null,
      "width": null
     }
    },
    "b0479f03f96241ca959f6fe7bcbd1aba": {
     "model_module": "@jupyter-widgets/base",
     "model_name": "LayoutModel",
     "state": {
      "_model_module": "@jupyter-widgets/base",
      "_model_module_version": "1.2.0",
      "_model_name": "LayoutModel",
      "_view_count": null,
      "_view_module": "@jupyter-widgets/base",
      "_view_module_version": "1.2.0",
      "_view_name": "LayoutView",
      "align_content": null,
      "align_items": null,
      "align_self": null,
      "border": null,
      "bottom": null,
      "display": null,
      "flex": null,
      "flex_flow": null,
      "grid_area": null,
      "grid_auto_columns": null,
      "grid_auto_flow": null,
      "grid_auto_rows": null,
      "grid_column": null,
      "grid_gap": null,
      "grid_row": null,
      "grid_template_areas": null,
      "grid_template_columns": null,
      "grid_template_rows": null,
      "height": null,
      "justify_content": null,
      "justify_items": null,
      "left": null,
      "margin": null,
      "max_height": null,
      "max_width": null,
      "min_height": null,
      "min_width": null,
      "object_fit": null,
      "object_position": null,
      "order": null,
      "overflow": null,
      "overflow_x": null,
      "overflow_y": null,
      "padding": null,
      "right": null,
      "top": null,
      "visibility": null,
      "width": null
     }
    },
    "b054b00a32e64fc5988fbd2966ebbce6": {
     "model_module": "@jupyter-widgets/base",
     "model_name": "LayoutModel",
     "state": {
      "_model_module": "@jupyter-widgets/base",
      "_model_module_version": "1.2.0",
      "_model_name": "LayoutModel",
      "_view_count": null,
      "_view_module": "@jupyter-widgets/base",
      "_view_module_version": "1.2.0",
      "_view_name": "LayoutView",
      "align_content": null,
      "align_items": null,
      "align_self": null,
      "border": null,
      "bottom": null,
      "display": null,
      "flex": null,
      "flex_flow": null,
      "grid_area": null,
      "grid_auto_columns": null,
      "grid_auto_flow": null,
      "grid_auto_rows": null,
      "grid_column": null,
      "grid_gap": null,
      "grid_row": null,
      "grid_template_areas": null,
      "grid_template_columns": null,
      "grid_template_rows": null,
      "height": null,
      "justify_content": null,
      "justify_items": null,
      "left": null,
      "margin": null,
      "max_height": null,
      "max_width": null,
      "min_height": null,
      "min_width": null,
      "object_fit": null,
      "object_position": null,
      "order": null,
      "overflow": null,
      "overflow_x": null,
      "overflow_y": null,
      "padding": null,
      "right": null,
      "top": null,
      "visibility": null,
      "width": null
     }
    },
    "b0e3a36279d243ab9943149705c72c3e": {
     "model_module": "@jupyter-widgets/controls",
     "model_name": "FloatProgressModel",
     "state": {
      "_dom_classes": [],
      "_model_module": "@jupyter-widgets/controls",
      "_model_module_version": "1.5.0",
      "_model_name": "FloatProgressModel",
      "_view_count": null,
      "_view_module": "@jupyter-widgets/controls",
      "_view_module_version": "1.5.0",
      "_view_name": "ProgressView",
      "bar_style": "success",
      "description": "Downloading: ",
      "description_tooltip": null,
      "layout": "IPY_MODEL_a34dae18d9994b848630d4e3d836e0cb",
      "max": 5925,
      "min": 0,
      "orientation": "horizontal",
      "style": "IPY_MODEL_530f66ac087e4f8f979fcaa33941c60d",
      "value": 5925
     }
    },
    "b0f3a205ad4546188fc6e7e7cf96ab32": {
     "model_module": "@jupyter-widgets/controls",
     "model_name": "ProgressStyleModel",
     "state": {
      "_model_module": "@jupyter-widgets/controls",
      "_model_module_version": "1.5.0",
      "_model_name": "ProgressStyleModel",
      "_view_count": null,
      "_view_module": "@jupyter-widgets/base",
      "_view_module_version": "1.2.0",
      "_view_name": "StyleView",
      "bar_color": null,
      "description_width": "initial"
     }
    },
    "b177a8cb85a24b88ab6d56205b630f1d": {
     "model_module": "@jupyter-widgets/base",
     "model_name": "LayoutModel",
     "state": {
      "_model_module": "@jupyter-widgets/base",
      "_model_module_version": "1.2.0",
      "_model_name": "LayoutModel",
      "_view_count": null,
      "_view_module": "@jupyter-widgets/base",
      "_view_module_version": "1.2.0",
      "_view_name": "LayoutView",
      "align_content": null,
      "align_items": null,
      "align_self": null,
      "border": null,
      "bottom": null,
      "display": null,
      "flex": null,
      "flex_flow": null,
      "grid_area": null,
      "grid_auto_columns": null,
      "grid_auto_flow": null,
      "grid_auto_rows": null,
      "grid_column": null,
      "grid_gap": null,
      "grid_row": null,
      "grid_template_areas": null,
      "grid_template_columns": null,
      "grid_template_rows": null,
      "height": null,
      "justify_content": null,
      "justify_items": null,
      "left": null,
      "margin": null,
      "max_height": null,
      "max_width": null,
      "min_height": null,
      "min_width": null,
      "object_fit": null,
      "object_position": null,
      "order": null,
      "overflow": null,
      "overflow_x": null,
      "overflow_y": null,
      "padding": null,
      "right": null,
      "top": null,
      "visibility": null,
      "width": null
     }
    },
    "b1b6a4649fc34c9996f993c57671766b": {
     "model_module": "@jupyter-widgets/base",
     "model_name": "LayoutModel",
     "state": {
      "_model_module": "@jupyter-widgets/base",
      "_model_module_version": "1.2.0",
      "_model_name": "LayoutModel",
      "_view_count": null,
      "_view_module": "@jupyter-widgets/base",
      "_view_module_version": "1.2.0",
      "_view_name": "LayoutView",
      "align_content": null,
      "align_items": null,
      "align_self": null,
      "border": null,
      "bottom": null,
      "display": null,
      "flex": null,
      "flex_flow": null,
      "grid_area": null,
      "grid_auto_columns": null,
      "grid_auto_flow": null,
      "grid_auto_rows": null,
      "grid_column": null,
      "grid_gap": null,
      "grid_row": null,
      "grid_template_areas": null,
      "grid_template_columns": null,
      "grid_template_rows": null,
      "height": null,
      "justify_content": null,
      "justify_items": null,
      "left": null,
      "margin": null,
      "max_height": null,
      "max_width": null,
      "min_height": null,
      "min_width": null,
      "object_fit": null,
      "object_position": null,
      "order": null,
      "overflow": null,
      "overflow_x": null,
      "overflow_y": null,
      "padding": null,
      "right": null,
      "top": null,
      "visibility": null,
      "width": null
     }
    },
    "b1d93a7521fa47b8a815445b5232da59": {
     "model_module": "@jupyter-widgets/base",
     "model_name": "LayoutModel",
     "state": {
      "_model_module": "@jupyter-widgets/base",
      "_model_module_version": "1.2.0",
      "_model_name": "LayoutModel",
      "_view_count": null,
      "_view_module": "@jupyter-widgets/base",
      "_view_module_version": "1.2.0",
      "_view_name": "LayoutView",
      "align_content": null,
      "align_items": null,
      "align_self": null,
      "border": null,
      "bottom": null,
      "display": null,
      "flex": null,
      "flex_flow": null,
      "grid_area": null,
      "grid_auto_columns": null,
      "grid_auto_flow": null,
      "grid_auto_rows": null,
      "grid_column": null,
      "grid_gap": null,
      "grid_row": null,
      "grid_template_areas": null,
      "grid_template_columns": null,
      "grid_template_rows": null,
      "height": null,
      "justify_content": null,
      "justify_items": null,
      "left": null,
      "margin": null,
      "max_height": null,
      "max_width": null,
      "min_height": null,
      "min_width": null,
      "object_fit": null,
      "object_position": null,
      "order": null,
      "overflow": null,
      "overflow_x": null,
      "overflow_y": null,
      "padding": null,
      "right": null,
      "top": null,
      "visibility": null,
      "width": null
     }
    },
    "b2473405490e4556bf30c0cc81237aa5": {
     "model_module": "@jupyter-widgets/base",
     "model_name": "LayoutModel",
     "state": {
      "_model_module": "@jupyter-widgets/base",
      "_model_module_version": "1.2.0",
      "_model_name": "LayoutModel",
      "_view_count": null,
      "_view_module": "@jupyter-widgets/base",
      "_view_module_version": "1.2.0",
      "_view_name": "LayoutView",
      "align_content": null,
      "align_items": null,
      "align_self": null,
      "border": null,
      "bottom": null,
      "display": null,
      "flex": null,
      "flex_flow": null,
      "grid_area": null,
      "grid_auto_columns": null,
      "grid_auto_flow": null,
      "grid_auto_rows": null,
      "grid_column": null,
      "grid_gap": null,
      "grid_row": null,
      "grid_template_areas": null,
      "grid_template_columns": null,
      "grid_template_rows": null,
      "height": null,
      "justify_content": null,
      "justify_items": null,
      "left": null,
      "margin": null,
      "max_height": null,
      "max_width": null,
      "min_height": null,
      "min_width": null,
      "object_fit": null,
      "object_position": null,
      "order": null,
      "overflow": null,
      "overflow_x": null,
      "overflow_y": null,
      "padding": null,
      "right": null,
      "top": null,
      "visibility": null,
      "width": null
     }
    },
    "b320306eaf264ad9872d507a1a1cb2da": {
     "model_module": "@jupyter-widgets/base",
     "model_name": "LayoutModel",
     "state": {
      "_model_module": "@jupyter-widgets/base",
      "_model_module_version": "1.2.0",
      "_model_name": "LayoutModel",
      "_view_count": null,
      "_view_module": "@jupyter-widgets/base",
      "_view_module_version": "1.2.0",
      "_view_name": "LayoutView",
      "align_content": null,
      "align_items": null,
      "align_self": null,
      "border": null,
      "bottom": null,
      "display": null,
      "flex": null,
      "flex_flow": null,
      "grid_area": null,
      "grid_auto_columns": null,
      "grid_auto_flow": null,
      "grid_auto_rows": null,
      "grid_column": null,
      "grid_gap": null,
      "grid_row": null,
      "grid_template_areas": null,
      "grid_template_columns": null,
      "grid_template_rows": null,
      "height": null,
      "justify_content": null,
      "justify_items": null,
      "left": null,
      "margin": null,
      "max_height": null,
      "max_width": null,
      "min_height": null,
      "min_width": null,
      "object_fit": null,
      "object_position": null,
      "order": null,
      "overflow": null,
      "overflow_x": null,
      "overflow_y": null,
      "padding": null,
      "right": null,
      "top": null,
      "visibility": null,
      "width": null
     }
    },
    "b54bff6261964119bcb562c1a9f74ce6": {
     "model_module": "@jupyter-widgets/base",
     "model_name": "LayoutModel",
     "state": {
      "_model_module": "@jupyter-widgets/base",
      "_model_module_version": "1.2.0",
      "_model_name": "LayoutModel",
      "_view_count": null,
      "_view_module": "@jupyter-widgets/base",
      "_view_module_version": "1.2.0",
      "_view_name": "LayoutView",
      "align_content": null,
      "align_items": null,
      "align_self": null,
      "border": null,
      "bottom": null,
      "display": null,
      "flex": null,
      "flex_flow": null,
      "grid_area": null,
      "grid_auto_columns": null,
      "grid_auto_flow": null,
      "grid_auto_rows": null,
      "grid_column": null,
      "grid_gap": null,
      "grid_row": null,
      "grid_template_areas": null,
      "grid_template_columns": null,
      "grid_template_rows": null,
      "height": null,
      "justify_content": null,
      "justify_items": null,
      "left": null,
      "margin": null,
      "max_height": null,
      "max_width": null,
      "min_height": null,
      "min_width": null,
      "object_fit": null,
      "object_position": null,
      "order": null,
      "overflow": null,
      "overflow_x": null,
      "overflow_y": null,
      "padding": null,
      "right": null,
      "top": null,
      "visibility": null,
      "width": null
     }
    },
    "b6221b4c04e64c9da9eb9e11539bac89": {
     "model_module": "@jupyter-widgets/controls",
     "model_name": "HBoxModel",
     "state": {
      "_dom_classes": [],
      "_model_module": "@jupyter-widgets/controls",
      "_model_module_version": "1.5.0",
      "_model_name": "HBoxModel",
      "_view_count": null,
      "_view_module": "@jupyter-widgets/controls",
      "_view_module_version": "1.5.0",
      "_view_name": "HBoxView",
      "box_style": "",
      "children": [
       "IPY_MODEL_02d1f77324854fbca0df9384c57faac8",
       "IPY_MODEL_8e63ba7f1fd24555bf11bc9dbe9c770b"
      ],
      "layout": "IPY_MODEL_dc6862530f6e429ba61a169b4c95722c"
     }
    },
    "b78413dcc0584a0c8f71731a06aaa1b8": {
     "model_module": "@jupyter-widgets/base",
     "model_name": "LayoutModel",
     "state": {
      "_model_module": "@jupyter-widgets/base",
      "_model_module_version": "1.2.0",
      "_model_name": "LayoutModel",
      "_view_count": null,
      "_view_module": "@jupyter-widgets/base",
      "_view_module_version": "1.2.0",
      "_view_name": "LayoutView",
      "align_content": null,
      "align_items": null,
      "align_self": null,
      "border": null,
      "bottom": null,
      "display": null,
      "flex": null,
      "flex_flow": null,
      "grid_area": null,
      "grid_auto_columns": null,
      "grid_auto_flow": null,
      "grid_auto_rows": null,
      "grid_column": null,
      "grid_gap": null,
      "grid_row": null,
      "grid_template_areas": null,
      "grid_template_columns": null,
      "grid_template_rows": null,
      "height": null,
      "justify_content": null,
      "justify_items": null,
      "left": null,
      "margin": null,
      "max_height": null,
      "max_width": null,
      "min_height": null,
      "min_width": null,
      "object_fit": null,
      "object_position": null,
      "order": null,
      "overflow": null,
      "overflow_x": null,
      "overflow_y": null,
      "padding": null,
      "right": null,
      "top": null,
      "visibility": null,
      "width": null
     }
    },
    "b7c43fb5efdd4afbb82c81b923f2815a": {
     "model_module": "@jupyter-widgets/controls",
     "model_name": "HBoxModel",
     "state": {
      "_dom_classes": [],
      "_model_module": "@jupyter-widgets/controls",
      "_model_module_version": "1.5.0",
      "_model_name": "HBoxModel",
      "_view_count": null,
      "_view_module": "@jupyter-widgets/controls",
      "_view_module_version": "1.5.0",
      "_view_name": "HBoxView",
      "box_style": "",
      "children": [
       "IPY_MODEL_8dddd0245dcb4532917cbfa0181d2a00",
       "IPY_MODEL_3bdb4058f40f40e3a10e323325a64638"
      ],
      "layout": "IPY_MODEL_c0a661f20e7e4649a3c8c42a5fd01956"
     }
    },
    "b94e374d92c146009447c3827b977267": {
     "model_module": "@jupyter-widgets/controls",
     "model_name": "FloatProgressModel",
     "state": {
      "_dom_classes": [],
      "_model_module": "@jupyter-widgets/controls",
      "_model_module_version": "1.5.0",
      "_model_name": "FloatProgressModel",
      "_view_count": null,
      "_view_module": "@jupyter-widgets/controls",
      "_view_module_version": "1.5.0",
      "_view_name": "ProgressView",
      "bar_style": "success",
      "description": "100%",
      "description_tooltip": null,
      "layout": "IPY_MODEL_b177a8cb85a24b88ab6d56205b630f1d",
      "max": 3478,
      "min": 0,
      "orientation": "horizontal",
      "style": "IPY_MODEL_4ff7ccffc36a4a0f93031f5cdc3b718d",
      "value": 3478
     }
    },
    "b9c5c6dd54cc4dc5ad5a2bb69a24ab05": {
     "model_module": "@jupyter-widgets/controls",
     "model_name": "ProgressStyleModel",
     "state": {
      "_model_module": "@jupyter-widgets/controls",
      "_model_module_version": "1.5.0",
      "_model_name": "ProgressStyleModel",
      "_view_count": null,
      "_view_module": "@jupyter-widgets/base",
      "_view_module_version": "1.2.0",
      "_view_name": "StyleView",
      "bar_color": null,
      "description_width": "initial"
     }
    },
    "bc41384bbae04044b9780651c6b5a47c": {
     "model_module": "@jupyter-widgets/base",
     "model_name": "LayoutModel",
     "state": {
      "_model_module": "@jupyter-widgets/base",
      "_model_module_version": "1.2.0",
      "_model_name": "LayoutModel",
      "_view_count": null,
      "_view_module": "@jupyter-widgets/base",
      "_view_module_version": "1.2.0",
      "_view_name": "LayoutView",
      "align_content": null,
      "align_items": null,
      "align_self": null,
      "border": null,
      "bottom": null,
      "display": null,
      "flex": null,
      "flex_flow": null,
      "grid_area": null,
      "grid_auto_columns": null,
      "grid_auto_flow": null,
      "grid_auto_rows": null,
      "grid_column": null,
      "grid_gap": null,
      "grid_row": null,
      "grid_template_areas": null,
      "grid_template_columns": null,
      "grid_template_rows": null,
      "height": null,
      "justify_content": null,
      "justify_items": null,
      "left": null,
      "margin": null,
      "max_height": null,
      "max_width": null,
      "min_height": null,
      "min_width": null,
      "object_fit": null,
      "object_position": null,
      "order": null,
      "overflow": null,
      "overflow_x": null,
      "overflow_y": null,
      "padding": null,
      "right": null,
      "top": null,
      "visibility": null,
      "width": null
     }
    },
    "bd0958ea97b141b1aca367c71721c549": {
     "model_module": "@jupyter-widgets/controls",
     "model_name": "HBoxModel",
     "state": {
      "_dom_classes": [],
      "_model_module": "@jupyter-widgets/controls",
      "_model_module_version": "1.5.0",
      "_model_name": "HBoxModel",
      "_view_count": null,
      "_view_module": "@jupyter-widgets/controls",
      "_view_module_version": "1.5.0",
      "_view_name": "HBoxView",
      "box_style": "",
      "children": [
       "IPY_MODEL_d080668299ef42fabb8ab6fbcf329cea",
       "IPY_MODEL_aafd4b2c56db43378c4627797665db17"
      ],
      "layout": "IPY_MODEL_0354ab33471e4c34a0c1b3c062bcd6bb"
     }
    },
    "bd187486ac2548f2961cfcb63d852de1": {
     "model_module": "@jupyter-widgets/controls",
     "model_name": "FloatProgressModel",
     "state": {
      "_dom_classes": [],
      "_model_module": "@jupyter-widgets/controls",
      "_model_module_version": "1.5.0",
      "_model_name": "FloatProgressModel",
      "_view_count": null,
      "_view_module": "@jupyter-widgets/controls",
      "_view_module_version": "1.5.0",
      "_view_name": "ProgressView",
      "bar_style": "success",
      "description": "#1: 100%",
      "description_tooltip": null,
      "layout": "IPY_MODEL_58f3e8002f984594ac05c973aa78ef69",
      "max": 52,
      "min": 0,
      "orientation": "horizontal",
      "style": "IPY_MODEL_231c66f195d34f86b216805518f4bccd",
      "value": 52
     }
    },
    "bd3447291ce54812af10ac6245ea4328": {
     "model_module": "@jupyter-widgets/base",
     "model_name": "LayoutModel",
     "state": {
      "_model_module": "@jupyter-widgets/base",
      "_model_module_version": "1.2.0",
      "_model_name": "LayoutModel",
      "_view_count": null,
      "_view_module": "@jupyter-widgets/base",
      "_view_module_version": "1.2.0",
      "_view_name": "LayoutView",
      "align_content": null,
      "align_items": null,
      "align_self": null,
      "border": null,
      "bottom": null,
      "display": null,
      "flex": null,
      "flex_flow": null,
      "grid_area": null,
      "grid_auto_columns": null,
      "grid_auto_flow": null,
      "grid_auto_rows": null,
      "grid_column": null,
      "grid_gap": null,
      "grid_row": null,
      "grid_template_areas": null,
      "grid_template_columns": null,
      "grid_template_rows": null,
      "height": null,
      "justify_content": null,
      "justify_items": null,
      "left": null,
      "margin": null,
      "max_height": null,
      "max_width": null,
      "min_height": null,
      "min_width": null,
      "object_fit": null,
      "object_position": null,
      "order": null,
      "overflow": null,
      "overflow_x": null,
      "overflow_y": null,
      "padding": null,
      "right": null,
      "top": null,
      "visibility": null,
      "width": null
     }
    },
    "beca070c32124a119a08cb21c2ca95e5": {
     "model_module": "@jupyter-widgets/controls",
     "model_name": "ProgressStyleModel",
     "state": {
      "_model_module": "@jupyter-widgets/controls",
      "_model_module_version": "1.5.0",
      "_model_name": "ProgressStyleModel",
      "_view_count": null,
      "_view_module": "@jupyter-widgets/base",
      "_view_module_version": "1.2.0",
      "_view_name": "StyleView",
      "bar_color": null,
      "description_width": "initial"
     }
    },
    "bee0f50055eb4f738636142a10da0ddd": {
     "model_module": "@jupyter-widgets/base",
     "model_name": "LayoutModel",
     "state": {
      "_model_module": "@jupyter-widgets/base",
      "_model_module_version": "1.2.0",
      "_model_name": "LayoutModel",
      "_view_count": null,
      "_view_module": "@jupyter-widgets/base",
      "_view_module_version": "1.2.0",
      "_view_name": "LayoutView",
      "align_content": null,
      "align_items": null,
      "align_self": null,
      "border": null,
      "bottom": null,
      "display": null,
      "flex": null,
      "flex_flow": null,
      "grid_area": null,
      "grid_auto_columns": null,
      "grid_auto_flow": null,
      "grid_auto_rows": null,
      "grid_column": null,
      "grid_gap": null,
      "grid_row": null,
      "grid_template_areas": null,
      "grid_template_columns": null,
      "grid_template_rows": null,
      "height": null,
      "justify_content": null,
      "justify_items": null,
      "left": null,
      "margin": null,
      "max_height": null,
      "max_width": null,
      "min_height": null,
      "min_width": null,
      "object_fit": null,
      "object_position": null,
      "order": null,
      "overflow": null,
      "overflow_x": null,
      "overflow_y": null,
      "padding": null,
      "right": null,
      "top": null,
      "visibility": null,
      "width": null
     }
    },
    "bf9e57d81135412d9a9a2281f28bd52a": {
     "model_module": "@jupyter-widgets/controls",
     "model_name": "HBoxModel",
     "state": {
      "_dom_classes": [],
      "_model_module": "@jupyter-widgets/controls",
      "_model_module_version": "1.5.0",
      "_model_name": "HBoxModel",
      "_view_count": null,
      "_view_module": "@jupyter-widgets/controls",
      "_view_module_version": "1.5.0",
      "_view_name": "HBoxView",
      "box_style": "",
      "children": [
       "IPY_MODEL_579b6055028f473981ce789a0733a753",
       "IPY_MODEL_4fb7347e9ca542e6ab9003bf4db218e0"
      ],
      "layout": "IPY_MODEL_c41610c0baef412984f8661d96e08b7e"
     }
    },
    "c01aca3229a24d41841be2b4a3a65bcc": {
     "model_module": "@jupyter-widgets/controls",
     "model_name": "ProgressStyleModel",
     "state": {
      "_model_module": "@jupyter-widgets/controls",
      "_model_module_version": "1.5.0",
      "_model_name": "ProgressStyleModel",
      "_view_count": null,
      "_view_module": "@jupyter-widgets/base",
      "_view_module_version": "1.2.0",
      "_view_name": "StyleView",
      "bar_color": null,
      "description_width": "initial"
     }
    },
    "c0a661f20e7e4649a3c8c42a5fd01956": {
     "model_module": "@jupyter-widgets/base",
     "model_name": "LayoutModel",
     "state": {
      "_model_module": "@jupyter-widgets/base",
      "_model_module_version": "1.2.0",
      "_model_name": "LayoutModel",
      "_view_count": null,
      "_view_module": "@jupyter-widgets/base",
      "_view_module_version": "1.2.0",
      "_view_name": "LayoutView",
      "align_content": null,
      "align_items": null,
      "align_self": null,
      "border": null,
      "bottom": null,
      "display": null,
      "flex": null,
      "flex_flow": null,
      "grid_area": null,
      "grid_auto_columns": null,
      "grid_auto_flow": null,
      "grid_auto_rows": null,
      "grid_column": null,
      "grid_gap": null,
      "grid_row": null,
      "grid_template_areas": null,
      "grid_template_columns": null,
      "grid_template_rows": null,
      "height": null,
      "justify_content": null,
      "justify_items": null,
      "left": null,
      "margin": null,
      "max_height": null,
      "max_width": null,
      "min_height": null,
      "min_width": null,
      "object_fit": null,
      "object_position": null,
      "order": null,
      "overflow": null,
      "overflow_x": null,
      "overflow_y": null,
      "padding": null,
      "right": null,
      "top": null,
      "visibility": null,
      "width": null
     }
    },
    "c0e6b6e6395d4dbd827eb1c0de1ad21a": {
     "model_module": "@jupyter-widgets/base",
     "model_name": "LayoutModel",
     "state": {
      "_model_module": "@jupyter-widgets/base",
      "_model_module_version": "1.2.0",
      "_model_name": "LayoutModel",
      "_view_count": null,
      "_view_module": "@jupyter-widgets/base",
      "_view_module_version": "1.2.0",
      "_view_name": "LayoutView",
      "align_content": null,
      "align_items": null,
      "align_self": null,
      "border": null,
      "bottom": null,
      "display": null,
      "flex": null,
      "flex_flow": null,
      "grid_area": null,
      "grid_auto_columns": null,
      "grid_auto_flow": null,
      "grid_auto_rows": null,
      "grid_column": null,
      "grid_gap": null,
      "grid_row": null,
      "grid_template_areas": null,
      "grid_template_columns": null,
      "grid_template_rows": null,
      "height": null,
      "justify_content": null,
      "justify_items": null,
      "left": null,
      "margin": null,
      "max_height": null,
      "max_width": null,
      "min_height": null,
      "min_width": null,
      "object_fit": null,
      "object_position": null,
      "order": null,
      "overflow": null,
      "overflow_x": null,
      "overflow_y": null,
      "padding": null,
      "right": null,
      "top": null,
      "visibility": null,
      "width": null
     }
    },
    "c126ea97019149848396e593cfab016f": {
     "model_module": "@jupyter-widgets/base",
     "model_name": "LayoutModel",
     "state": {
      "_model_module": "@jupyter-widgets/base",
      "_model_module_version": "1.2.0",
      "_model_name": "LayoutModel",
      "_view_count": null,
      "_view_module": "@jupyter-widgets/base",
      "_view_module_version": "1.2.0",
      "_view_name": "LayoutView",
      "align_content": null,
      "align_items": null,
      "align_self": null,
      "border": null,
      "bottom": null,
      "display": null,
      "flex": null,
      "flex_flow": null,
      "grid_area": null,
      "grid_auto_columns": null,
      "grid_auto_flow": null,
      "grid_auto_rows": null,
      "grid_column": null,
      "grid_gap": null,
      "grid_row": null,
      "grid_template_areas": null,
      "grid_template_columns": null,
      "grid_template_rows": null,
      "height": null,
      "justify_content": null,
      "justify_items": null,
      "left": null,
      "margin": null,
      "max_height": null,
      "max_width": null,
      "min_height": null,
      "min_width": null,
      "object_fit": null,
      "object_position": null,
      "order": null,
      "overflow": null,
      "overflow_x": null,
      "overflow_y": null,
      "padding": null,
      "right": null,
      "top": null,
      "visibility": null,
      "width": null
     }
    },
    "c41610c0baef412984f8661d96e08b7e": {
     "model_module": "@jupyter-widgets/base",
     "model_name": "LayoutModel",
     "state": {
      "_model_module": "@jupyter-widgets/base",
      "_model_module_version": "1.2.0",
      "_model_name": "LayoutModel",
      "_view_count": null,
      "_view_module": "@jupyter-widgets/base",
      "_view_module_version": "1.2.0",
      "_view_name": "LayoutView",
      "align_content": null,
      "align_items": null,
      "align_self": null,
      "border": null,
      "bottom": null,
      "display": null,
      "flex": null,
      "flex_flow": null,
      "grid_area": null,
      "grid_auto_columns": null,
      "grid_auto_flow": null,
      "grid_auto_rows": null,
      "grid_column": null,
      "grid_gap": null,
      "grid_row": null,
      "grid_template_areas": null,
      "grid_template_columns": null,
      "grid_template_rows": null,
      "height": null,
      "justify_content": null,
      "justify_items": null,
      "left": null,
      "margin": null,
      "max_height": null,
      "max_width": null,
      "min_height": null,
      "min_width": null,
      "object_fit": null,
      "object_position": null,
      "order": null,
      "overflow": null,
      "overflow_x": null,
      "overflow_y": null,
      "padding": null,
      "right": null,
      "top": null,
      "visibility": null,
      "width": null
     }
    },
    "c546bca23ee248a1be7bd8ead3e82a8f": {
     "model_module": "@jupyter-widgets/controls",
     "model_name": "ProgressStyleModel",
     "state": {
      "_model_module": "@jupyter-widgets/controls",
      "_model_module_version": "1.5.0",
      "_model_name": "ProgressStyleModel",
      "_view_count": null,
      "_view_module": "@jupyter-widgets/base",
      "_view_module_version": "1.2.0",
      "_view_name": "StyleView",
      "bar_color": null,
      "description_width": "initial"
     }
    },
    "c8fdf261ac294093a355778a3a4aba3b": {
     "model_module": "@jupyter-widgets/controls",
     "model_name": "ProgressStyleModel",
     "state": {
      "_model_module": "@jupyter-widgets/controls",
      "_model_module_version": "1.5.0",
      "_model_name": "ProgressStyleModel",
      "_view_count": null,
      "_view_module": "@jupyter-widgets/base",
      "_view_module_version": "1.2.0",
      "_view_name": "StyleView",
      "bar_color": null,
      "description_width": "initial"
     }
    },
    "c9dc4421940241c59f1151aeabedc98b": {
     "model_module": "@jupyter-widgets/base",
     "model_name": "LayoutModel",
     "state": {
      "_model_module": "@jupyter-widgets/base",
      "_model_module_version": "1.2.0",
      "_model_name": "LayoutModel",
      "_view_count": null,
      "_view_module": "@jupyter-widgets/base",
      "_view_module_version": "1.2.0",
      "_view_name": "LayoutView",
      "align_content": null,
      "align_items": null,
      "align_self": null,
      "border": null,
      "bottom": null,
      "display": null,
      "flex": null,
      "flex_flow": null,
      "grid_area": null,
      "grid_auto_columns": null,
      "grid_auto_flow": null,
      "grid_auto_rows": null,
      "grid_column": null,
      "grid_gap": null,
      "grid_row": null,
      "grid_template_areas": null,
      "grid_template_columns": null,
      "grid_template_rows": null,
      "height": null,
      "justify_content": null,
      "justify_items": null,
      "left": null,
      "margin": null,
      "max_height": null,
      "max_width": null,
      "min_height": null,
      "min_width": null,
      "object_fit": null,
      "object_position": null,
      "order": null,
      "overflow": null,
      "overflow_x": null,
      "overflow_y": null,
      "padding": null,
      "right": null,
      "top": null,
      "visibility": null,
      "width": null
     }
    },
    "cb5666eb8ebb4d1392e98d6b5af8761c": {
     "model_module": "@jupyter-widgets/controls",
     "model_name": "DescriptionStyleModel",
     "state": {
      "_model_module": "@jupyter-widgets/controls",
      "_model_module_version": "1.5.0",
      "_model_name": "DescriptionStyleModel",
      "_view_count": null,
      "_view_module": "@jupyter-widgets/base",
      "_view_module_version": "1.2.0",
      "_view_name": "StyleView",
      "description_width": ""
     }
    },
    "cc9c1e00c2d34516b8fd9edff96bb0d8": {
     "model_module": "@jupyter-widgets/controls",
     "model_name": "HBoxModel",
     "state": {
      "_dom_classes": [],
      "_model_module": "@jupyter-widgets/controls",
      "_model_module_version": "1.5.0",
      "_model_name": "HBoxModel",
      "_view_count": null,
      "_view_module": "@jupyter-widgets/controls",
      "_view_module_version": "1.5.0",
      "_view_name": "HBoxView",
      "box_style": "",
      "children": [
       "IPY_MODEL_33c92b5afd1d4b6d88016aabfb434194",
       "IPY_MODEL_998676d59f9c464e8463d65baad6448b"
      ],
      "layout": "IPY_MODEL_6abfbe44a1bd4518b41f5f53f920e936"
     }
    },
    "ccb720bf256e42f7b0251494ccb7741f": {
     "model_module": "@jupyter-widgets/controls",
     "model_name": "DescriptionStyleModel",
     "state": {
      "_model_module": "@jupyter-widgets/controls",
      "_model_module_version": "1.5.0",
      "_model_name": "DescriptionStyleModel",
      "_view_count": null,
      "_view_module": "@jupyter-widgets/base",
      "_view_module_version": "1.2.0",
      "_view_name": "StyleView",
      "description_width": ""
     }
    },
    "ce337f50183942e6a74ca1b33735ade9": {
     "model_module": "@jupyter-widgets/controls",
     "model_name": "HTMLModel",
     "state": {
      "_dom_classes": [],
      "_model_module": "@jupyter-widgets/controls",
      "_model_module_version": "1.5.0",
      "_model_name": "HTMLModel",
      "_view_count": null,
      "_view_module": "@jupyter-widgets/controls",
      "_view_module_version": "1.5.0",
      "_view_name": "HTMLView",
      "description": "",
      "description_tooltip": null,
      "layout": "IPY_MODEL_e9a702f10538415b970ea1345804d72c",
      "placeholder": "​",
      "style": "IPY_MODEL_9532db4cdc5e4371a4a02055a4c67a08",
      "value": " 23.0k/? [00:00&lt;00:00, 72.2kB/s]"
     }
    },
    "ceb44ba4fdf34da19a52469acf1ce63f": {
     "model_module": "@jupyter-widgets/base",
     "model_name": "LayoutModel",
     "state": {
      "_model_module": "@jupyter-widgets/base",
      "_model_module_version": "1.2.0",
      "_model_name": "LayoutModel",
      "_view_count": null,
      "_view_module": "@jupyter-widgets/base",
      "_view_module_version": "1.2.0",
      "_view_name": "LayoutView",
      "align_content": null,
      "align_items": null,
      "align_self": null,
      "border": null,
      "bottom": null,
      "display": null,
      "flex": null,
      "flex_flow": null,
      "grid_area": null,
      "grid_auto_columns": null,
      "grid_auto_flow": null,
      "grid_auto_rows": null,
      "grid_column": null,
      "grid_gap": null,
      "grid_row": null,
      "grid_template_areas": null,
      "grid_template_columns": null,
      "grid_template_rows": null,
      "height": null,
      "justify_content": null,
      "justify_items": null,
      "left": null,
      "margin": null,
      "max_height": null,
      "max_width": null,
      "min_height": null,
      "min_width": null,
      "object_fit": null,
      "object_position": null,
      "order": null,
      "overflow": null,
      "overflow_x": null,
      "overflow_y": null,
      "padding": null,
      "right": null,
      "top": null,
      "visibility": null,
      "width": null
     }
    },
    "d080668299ef42fabb8ab6fbcf329cea": {
     "model_module": "@jupyter-widgets/controls",
     "model_name": "FloatProgressModel",
     "state": {
      "_dom_classes": [],
      "_model_module": "@jupyter-widgets/controls",
      "_model_module_version": "1.5.0",
      "_model_name": "FloatProgressModel",
      "_view_count": null,
      "_view_module": "@jupyter-widgets/controls",
      "_view_module_version": "1.5.0",
      "_view_name": "ProgressView",
      "bar_style": "success",
      "description": "100%",
      "description_tooltip": null,
      "layout": "IPY_MODEL_f972527479e74337a98f236ed018ae1d",
      "max": 1,
      "min": 0,
      "orientation": "horizontal",
      "style": "IPY_MODEL_b0f3a205ad4546188fc6e7e7cf96ab32",
      "value": 1
     }
    },
    "d35c15beeb33476894b07c3563f8facd": {
     "model_module": "@jupyter-widgets/controls",
     "model_name": "DescriptionStyleModel",
     "state": {
      "_model_module": "@jupyter-widgets/controls",
      "_model_module_version": "1.5.0",
      "_model_name": "DescriptionStyleModel",
      "_view_count": null,
      "_view_module": "@jupyter-widgets/base",
      "_view_module_version": "1.2.0",
      "_view_name": "StyleView",
      "description_width": ""
     }
    },
    "d362345c05234c97a675c6bacdad0e92": {
     "model_module": "@jupyter-widgets/controls",
     "model_name": "DescriptionStyleModel",
     "state": {
      "_model_module": "@jupyter-widgets/controls",
      "_model_module_version": "1.5.0",
      "_model_name": "DescriptionStyleModel",
      "_view_count": null,
      "_view_module": "@jupyter-widgets/base",
      "_view_module_version": "1.2.0",
      "_view_name": "StyleView",
      "description_width": ""
     }
    },
    "d453bd4a35e54bfba20dac1fe86c60c1": {
     "model_module": "@jupyter-widgets/base",
     "model_name": "LayoutModel",
     "state": {
      "_model_module": "@jupyter-widgets/base",
      "_model_module_version": "1.2.0",
      "_model_name": "LayoutModel",
      "_view_count": null,
      "_view_module": "@jupyter-widgets/base",
      "_view_module_version": "1.2.0",
      "_view_name": "LayoutView",
      "align_content": null,
      "align_items": null,
      "align_self": null,
      "border": null,
      "bottom": null,
      "display": null,
      "flex": null,
      "flex_flow": null,
      "grid_area": null,
      "grid_auto_columns": null,
      "grid_auto_flow": null,
      "grid_auto_rows": null,
      "grid_column": null,
      "grid_gap": null,
      "grid_row": null,
      "grid_template_areas": null,
      "grid_template_columns": null,
      "grid_template_rows": null,
      "height": null,
      "justify_content": null,
      "justify_items": null,
      "left": null,
      "margin": null,
      "max_height": null,
      "max_width": null,
      "min_height": null,
      "min_width": null,
      "object_fit": null,
      "object_position": null,
      "order": null,
      "overflow": null,
      "overflow_x": null,
      "overflow_y": null,
      "padding": null,
      "right": null,
      "top": null,
      "visibility": null,
      "width": null
     }
    },
    "d4a3f79644fc41848450ba29e6fdfc3d": {
     "model_module": "@jupyter-widgets/base",
     "model_name": "LayoutModel",
     "state": {
      "_model_module": "@jupyter-widgets/base",
      "_model_module_version": "1.2.0",
      "_model_name": "LayoutModel",
      "_view_count": null,
      "_view_module": "@jupyter-widgets/base",
      "_view_module_version": "1.2.0",
      "_view_name": "LayoutView",
      "align_content": null,
      "align_items": null,
      "align_self": null,
      "border": null,
      "bottom": null,
      "display": null,
      "flex": null,
      "flex_flow": null,
      "grid_area": null,
      "grid_auto_columns": null,
      "grid_auto_flow": null,
      "grid_auto_rows": null,
      "grid_column": null,
      "grid_gap": null,
      "grid_row": null,
      "grid_template_areas": null,
      "grid_template_columns": null,
      "grid_template_rows": null,
      "height": null,
      "justify_content": null,
      "justify_items": null,
      "left": null,
      "margin": null,
      "max_height": null,
      "max_width": null,
      "min_height": null,
      "min_width": null,
      "object_fit": null,
      "object_position": null,
      "order": null,
      "overflow": null,
      "overflow_x": null,
      "overflow_y": null,
      "padding": null,
      "right": null,
      "top": null,
      "visibility": null,
      "width": null
     }
    },
    "d5fb02debe4347e781543a996ce39be3": {
     "model_module": "@jupyter-widgets/controls",
     "model_name": "HBoxModel",
     "state": {
      "_dom_classes": [],
      "_model_module": "@jupyter-widgets/controls",
      "_model_module_version": "1.5.0",
      "_model_name": "HBoxModel",
      "_view_count": null,
      "_view_module": "@jupyter-widgets/controls",
      "_view_module_version": "1.5.0",
      "_view_name": "HBoxView",
      "box_style": "",
      "children": [
       "IPY_MODEL_8e1a85a4a6214a16b7431da23a301ada",
       "IPY_MODEL_57198e3250374e1fa64c5a4be255861e"
      ],
      "layout": "IPY_MODEL_da12267c52144292adb9896249d61a6a"
     }
    },
    "d649c0f9c1c24634a84b7ef697721ffa": {
     "model_module": "@jupyter-widgets/base",
     "model_name": "LayoutModel",
     "state": {
      "_model_module": "@jupyter-widgets/base",
      "_model_module_version": "1.2.0",
      "_model_name": "LayoutModel",
      "_view_count": null,
      "_view_module": "@jupyter-widgets/base",
      "_view_module_version": "1.2.0",
      "_view_name": "LayoutView",
      "align_content": null,
      "align_items": null,
      "align_self": null,
      "border": null,
      "bottom": null,
      "display": null,
      "flex": null,
      "flex_flow": null,
      "grid_area": null,
      "grid_auto_columns": null,
      "grid_auto_flow": null,
      "grid_auto_rows": null,
      "grid_column": null,
      "grid_gap": null,
      "grid_row": null,
      "grid_template_areas": null,
      "grid_template_columns": null,
      "grid_template_rows": null,
      "height": null,
      "justify_content": null,
      "justify_items": null,
      "left": null,
      "margin": null,
      "max_height": null,
      "max_width": null,
      "min_height": null,
      "min_width": null,
      "object_fit": null,
      "object_position": null,
      "order": null,
      "overflow": null,
      "overflow_x": null,
      "overflow_y": null,
      "padding": null,
      "right": null,
      "top": null,
      "visibility": null,
      "width": null
     }
    },
    "d69468d63dd74fdd807fe061b92aa84e": {
     "model_module": "@jupyter-widgets/controls",
     "model_name": "HTMLModel",
     "state": {
      "_dom_classes": [],
      "_model_module": "@jupyter-widgets/controls",
      "_model_module_version": "1.5.0",
      "_model_name": "HTMLModel",
      "_view_count": null,
      "_view_module": "@jupyter-widgets/controls",
      "_view_module_version": "1.5.0",
      "_view_name": "HTMLView",
      "description": "",
      "description_tooltip": null,
      "layout": "IPY_MODEL_84e7f0001ebe458dad3c96e7e9a38cdc",
      "placeholder": "​",
      "style": "IPY_MODEL_7f5203fde6b64bf7ad53d6ecd3041bfc",
      "value": " 869/869 [05:47&lt;00:00,  2.50ex/s]"
     }
    },
    "d7f27e9cf8a844349ca90393e0c49a03": {
     "model_module": "@jupyter-widgets/base",
     "model_name": "LayoutModel",
     "state": {
      "_model_module": "@jupyter-widgets/base",
      "_model_module_version": "1.2.0",
      "_model_name": "LayoutModel",
      "_view_count": null,
      "_view_module": "@jupyter-widgets/base",
      "_view_module_version": "1.2.0",
      "_view_name": "LayoutView",
      "align_content": null,
      "align_items": null,
      "align_self": null,
      "border": null,
      "bottom": null,
      "display": null,
      "flex": null,
      "flex_flow": null,
      "grid_area": null,
      "grid_auto_columns": null,
      "grid_auto_flow": null,
      "grid_auto_rows": null,
      "grid_column": null,
      "grid_gap": null,
      "grid_row": null,
      "grid_template_areas": null,
      "grid_template_columns": null,
      "grid_template_rows": null,
      "height": null,
      "justify_content": null,
      "justify_items": null,
      "left": null,
      "margin": null,
      "max_height": null,
      "max_width": null,
      "min_height": null,
      "min_width": null,
      "object_fit": null,
      "object_position": null,
      "order": null,
      "overflow": null,
      "overflow_x": null,
      "overflow_y": null,
      "padding": null,
      "right": null,
      "top": null,
      "visibility": null,
      "width": null
     }
    },
    "d96e01ad62c342cdb7d9b1eceb39afa3": {
     "model_module": "@jupyter-widgets/controls",
     "model_name": "HBoxModel",
     "state": {
      "_dom_classes": [],
      "_model_module": "@jupyter-widgets/controls",
      "_model_module_version": "1.5.0",
      "_model_name": "HBoxModel",
      "_view_count": null,
      "_view_module": "@jupyter-widgets/controls",
      "_view_module_version": "1.5.0",
      "_view_name": "HBoxView",
      "box_style": "",
      "children": [
       "IPY_MODEL_e6178f7b148c4bf39f2826f208e0cc64",
       "IPY_MODEL_f78ff14b9c8f46448ed1ecb3fe1f5e0b"
      ],
      "layout": "IPY_MODEL_e6ce9330460d4a0fb67cc493ca74ae96"
     }
    },
    "da12267c52144292adb9896249d61a6a": {
     "model_module": "@jupyter-widgets/base",
     "model_name": "LayoutModel",
     "state": {
      "_model_module": "@jupyter-widgets/base",
      "_model_module_version": "1.2.0",
      "_model_name": "LayoutModel",
      "_view_count": null,
      "_view_module": "@jupyter-widgets/base",
      "_view_module_version": "1.2.0",
      "_view_name": "LayoutView",
      "align_content": null,
      "align_items": null,
      "align_self": null,
      "border": null,
      "bottom": null,
      "display": null,
      "flex": null,
      "flex_flow": null,
      "grid_area": null,
      "grid_auto_columns": null,
      "grid_auto_flow": null,
      "grid_auto_rows": null,
      "grid_column": null,
      "grid_gap": null,
      "grid_row": null,
      "grid_template_areas": null,
      "grid_template_columns": null,
      "grid_template_rows": null,
      "height": null,
      "justify_content": null,
      "justify_items": null,
      "left": null,
      "margin": null,
      "max_height": null,
      "max_width": null,
      "min_height": null,
      "min_width": null,
      "object_fit": null,
      "object_position": null,
      "order": null,
      "overflow": null,
      "overflow_x": null,
      "overflow_y": null,
      "padding": null,
      "right": null,
      "top": null,
      "visibility": null,
      "width": null
     }
    },
    "da1ff50f8b9241108a325ada04224642": {
     "model_module": "@jupyter-widgets/controls",
     "model_name": "ProgressStyleModel",
     "state": {
      "_model_module": "@jupyter-widgets/controls",
      "_model_module_version": "1.5.0",
      "_model_name": "ProgressStyleModel",
      "_view_count": null,
      "_view_module": "@jupyter-widgets/base",
      "_view_module_version": "1.2.0",
      "_view_name": "StyleView",
      "bar_color": null,
      "description_width": "initial"
     }
    },
    "db71db50799c404aafa4a54de8b9b799": {
     "model_module": "@jupyter-widgets/base",
     "model_name": "LayoutModel",
     "state": {
      "_model_module": "@jupyter-widgets/base",
      "_model_module_version": "1.2.0",
      "_model_name": "LayoutModel",
      "_view_count": null,
      "_view_module": "@jupyter-widgets/base",
      "_view_module_version": "1.2.0",
      "_view_name": "LayoutView",
      "align_content": null,
      "align_items": null,
      "align_self": null,
      "border": null,
      "bottom": null,
      "display": null,
      "flex": null,
      "flex_flow": null,
      "grid_area": null,
      "grid_auto_columns": null,
      "grid_auto_flow": null,
      "grid_auto_rows": null,
      "grid_column": null,
      "grid_gap": null,
      "grid_row": null,
      "grid_template_areas": null,
      "grid_template_columns": null,
      "grid_template_rows": null,
      "height": null,
      "justify_content": null,
      "justify_items": null,
      "left": null,
      "margin": null,
      "max_height": null,
      "max_width": null,
      "min_height": null,
      "min_width": null,
      "object_fit": null,
      "object_position": null,
      "order": null,
      "overflow": null,
      "overflow_x": null,
      "overflow_y": null,
      "padding": null,
      "right": null,
      "top": null,
      "visibility": null,
      "width": null
     }
    },
    "dc6862530f6e429ba61a169b4c95722c": {
     "model_module": "@jupyter-widgets/base",
     "model_name": "LayoutModel",
     "state": {
      "_model_module": "@jupyter-widgets/base",
      "_model_module_version": "1.2.0",
      "_model_name": "LayoutModel",
      "_view_count": null,
      "_view_module": "@jupyter-widgets/base",
      "_view_module_version": "1.2.0",
      "_view_name": "LayoutView",
      "align_content": null,
      "align_items": null,
      "align_self": null,
      "border": null,
      "bottom": null,
      "display": null,
      "flex": null,
      "flex_flow": null,
      "grid_area": null,
      "grid_auto_columns": null,
      "grid_auto_flow": null,
      "grid_auto_rows": null,
      "grid_column": null,
      "grid_gap": null,
      "grid_row": null,
      "grid_template_areas": null,
      "grid_template_columns": null,
      "grid_template_rows": null,
      "height": null,
      "justify_content": null,
      "justify_items": null,
      "left": null,
      "margin": null,
      "max_height": null,
      "max_width": null,
      "min_height": null,
      "min_width": null,
      "object_fit": null,
      "object_position": null,
      "order": null,
      "overflow": null,
      "overflow_x": null,
      "overflow_y": null,
      "padding": null,
      "right": null,
      "top": null,
      "visibility": null,
      "width": null
     }
    },
    "dde7ae43ef954ef1b901c80f0a4e11fd": {
     "model_module": "@jupyter-widgets/base",
     "model_name": "LayoutModel",
     "state": {
      "_model_module": "@jupyter-widgets/base",
      "_model_module_version": "1.2.0",
      "_model_name": "LayoutModel",
      "_view_count": null,
      "_view_module": "@jupyter-widgets/base",
      "_view_module_version": "1.2.0",
      "_view_name": "LayoutView",
      "align_content": null,
      "align_items": null,
      "align_self": null,
      "border": null,
      "bottom": null,
      "display": null,
      "flex": null,
      "flex_flow": null,
      "grid_area": null,
      "grid_auto_columns": null,
      "grid_auto_flow": null,
      "grid_auto_rows": null,
      "grid_column": null,
      "grid_gap": null,
      "grid_row": null,
      "grid_template_areas": null,
      "grid_template_columns": null,
      "grid_template_rows": null,
      "height": null,
      "justify_content": null,
      "justify_items": null,
      "left": null,
      "margin": null,
      "max_height": null,
      "max_width": null,
      "min_height": null,
      "min_width": null,
      "object_fit": null,
      "object_position": null,
      "order": null,
      "overflow": null,
      "overflow_x": null,
      "overflow_y": null,
      "padding": null,
      "right": null,
      "top": null,
      "visibility": null,
      "width": null
     }
    },
    "dec796237765477ea904834d9a824b61": {
     "model_module": "@jupyter-widgets/base",
     "model_name": "LayoutModel",
     "state": {
      "_model_module": "@jupyter-widgets/base",
      "_model_module_version": "1.2.0",
      "_model_name": "LayoutModel",
      "_view_count": null,
      "_view_module": "@jupyter-widgets/base",
      "_view_module_version": "1.2.0",
      "_view_name": "LayoutView",
      "align_content": null,
      "align_items": null,
      "align_self": null,
      "border": null,
      "bottom": null,
      "display": null,
      "flex": null,
      "flex_flow": null,
      "grid_area": null,
      "grid_auto_columns": null,
      "grid_auto_flow": null,
      "grid_auto_rows": null,
      "grid_column": null,
      "grid_gap": null,
      "grid_row": null,
      "grid_template_areas": null,
      "grid_template_columns": null,
      "grid_template_rows": null,
      "height": null,
      "justify_content": null,
      "justify_items": null,
      "left": null,
      "margin": null,
      "max_height": null,
      "max_width": null,
      "min_height": null,
      "min_width": null,
      "object_fit": null,
      "object_position": null,
      "order": null,
      "overflow": null,
      "overflow_x": null,
      "overflow_y": null,
      "padding": null,
      "right": null,
      "top": null,
      "visibility": null,
      "width": null
     }
    },
    "def702d8f8354fa4999587a5c68d0034": {
     "model_module": "@jupyter-widgets/controls",
     "model_name": "HBoxModel",
     "state": {
      "_dom_classes": [],
      "_model_module": "@jupyter-widgets/controls",
      "_model_module_version": "1.5.0",
      "_model_name": "HBoxModel",
      "_view_count": null,
      "_view_module": "@jupyter-widgets/controls",
      "_view_module_version": "1.5.0",
      "_view_name": "HBoxView",
      "box_style": "",
      "children": [
       "IPY_MODEL_edf36819322e4f9fa227a11592fef429",
       "IPY_MODEL_ce337f50183942e6a74ca1b33735ade9"
      ],
      "layout": "IPY_MODEL_2fd148d5587b4139919b0158f9dad71e"
     }
    },
    "e273548a15aa4d4994132b317adb66fc": {
     "model_module": "@jupyter-widgets/controls",
     "model_name": "FloatProgressModel",
     "state": {
      "_dom_classes": [],
      "_model_module": "@jupyter-widgets/controls",
      "_model_module_version": "1.5.0",
      "_model_name": "FloatProgressModel",
      "_view_count": null,
      "_view_module": "@jupyter-widgets/controls",
      "_view_module_version": "1.5.0",
      "_view_name": "ProgressView",
      "bar_style": "success",
      "description": "#0: 100%",
      "description_tooltip": null,
      "layout": "IPY_MODEL_80697300a4394b909f1c499ba80aeb13",
      "max": 52,
      "min": 0,
      "orientation": "horizontal",
      "style": "IPY_MODEL_7d62810674c8482abe46c60fc08884b4",
      "value": 52
     }
    },
    "e3b719c0ffcc4fd1b410ffb7f969b7a5": {
     "model_module": "@jupyter-widgets/controls",
     "model_name": "HTMLModel",
     "state": {
      "_dom_classes": [],
      "_model_module": "@jupyter-widgets/controls",
      "_model_module_version": "1.5.0",
      "_model_name": "HTMLModel",
      "_view_count": null,
      "_view_module": "@jupyter-widgets/controls",
      "_view_module_version": "1.5.0",
      "_view_name": "HTMLView",
      "description": "",
      "description_tooltip": null,
      "layout": "IPY_MODEL_c9dc4421940241c59f1151aeabedc98b",
      "placeholder": "​",
      "style": "IPY_MODEL_19e263785ea343ba99ee2127d9b83d1d",
      "value": " 1831/0 [00:04&lt;00:00,  4.82s/ examples]"
     }
    },
    "e51b5fd9d5a6416d986fac1526d1666f": {
     "model_module": "@jupyter-widgets/base",
     "model_name": "LayoutModel",
     "state": {
      "_model_module": "@jupyter-widgets/base",
      "_model_module_version": "1.2.0",
      "_model_name": "LayoutModel",
      "_view_count": null,
      "_view_module": "@jupyter-widgets/base",
      "_view_module_version": "1.2.0",
      "_view_name": "LayoutView",
      "align_content": null,
      "align_items": null,
      "align_self": null,
      "border": null,
      "bottom": null,
      "display": null,
      "flex": null,
      "flex_flow": null,
      "grid_area": null,
      "grid_auto_columns": null,
      "grid_auto_flow": null,
      "grid_auto_rows": null,
      "grid_column": null,
      "grid_gap": null,
      "grid_row": null,
      "grid_template_areas": null,
      "grid_template_columns": null,
      "grid_template_rows": null,
      "height": null,
      "justify_content": null,
      "justify_items": null,
      "left": null,
      "margin": null,
      "max_height": null,
      "max_width": null,
      "min_height": null,
      "min_width": null,
      "object_fit": null,
      "object_position": null,
      "order": null,
      "overflow": null,
      "overflow_x": null,
      "overflow_y": null,
      "padding": null,
      "right": null,
      "top": null,
      "visibility": null,
      "width": null
     }
    },
    "e6178f7b148c4bf39f2826f208e0cc64": {
     "model_module": "@jupyter-widgets/controls",
     "model_name": "FloatProgressModel",
     "state": {
      "_dom_classes": [],
      "_model_module": "@jupyter-widgets/controls",
      "_model_module_version": "1.5.0",
      "_model_name": "FloatProgressModel",
      "_view_count": null,
      "_view_module": "@jupyter-widgets/controls",
      "_view_module_version": "1.5.0",
      "_view_name": "ProgressView",
      "bar_style": "success",
      "description": "#0: 100%",
      "description_tooltip": null,
      "layout": "IPY_MODEL_6ba6d07674a34836be53cf173c2b61ca",
      "max": 412,
      "min": 0,
      "orientation": "horizontal",
      "style": "IPY_MODEL_929cde17b3484f3e9e8f8774bc43e374",
      "value": 412
     }
    },
    "e6ce9330460d4a0fb67cc493ca74ae96": {
     "model_module": "@jupyter-widgets/base",
     "model_name": "LayoutModel",
     "state": {
      "_model_module": "@jupyter-widgets/base",
      "_model_module_version": "1.2.0",
      "_model_name": "LayoutModel",
      "_view_count": null,
      "_view_module": "@jupyter-widgets/base",
      "_view_module_version": "1.2.0",
      "_view_name": "LayoutView",
      "align_content": null,
      "align_items": null,
      "align_self": null,
      "border": null,
      "bottom": null,
      "display": null,
      "flex": null,
      "flex_flow": null,
      "grid_area": null,
      "grid_auto_columns": null,
      "grid_auto_flow": null,
      "grid_auto_rows": null,
      "grid_column": null,
      "grid_gap": null,
      "grid_row": null,
      "grid_template_areas": null,
      "grid_template_columns": null,
      "grid_template_rows": null,
      "height": null,
      "justify_content": null,
      "justify_items": null,
      "left": null,
      "margin": null,
      "max_height": null,
      "max_width": null,
      "min_height": null,
      "min_width": null,
      "object_fit": null,
      "object_position": null,
      "order": null,
      "overflow": null,
      "overflow_x": null,
      "overflow_y": null,
      "padding": null,
      "right": null,
      "top": null,
      "visibility": null,
      "width": null
     }
    },
    "e9a702f10538415b970ea1345804d72c": {
     "model_module": "@jupyter-widgets/base",
     "model_name": "LayoutModel",
     "state": {
      "_model_module": "@jupyter-widgets/base",
      "_model_module_version": "1.2.0",
      "_model_name": "LayoutModel",
      "_view_count": null,
      "_view_module": "@jupyter-widgets/base",
      "_view_module_version": "1.2.0",
      "_view_name": "LayoutView",
      "align_content": null,
      "align_items": null,
      "align_self": null,
      "border": null,
      "bottom": null,
      "display": null,
      "flex": null,
      "flex_flow": null,
      "grid_area": null,
      "grid_auto_columns": null,
      "grid_auto_flow": null,
      "grid_auto_rows": null,
      "grid_column": null,
      "grid_gap": null,
      "grid_row": null,
      "grid_template_areas": null,
      "grid_template_columns": null,
      "grid_template_rows": null,
      "height": null,
      "justify_content": null,
      "justify_items": null,
      "left": null,
      "margin": null,
      "max_height": null,
      "max_width": null,
      "min_height": null,
      "min_width": null,
      "object_fit": null,
      "object_position": null,
      "order": null,
      "overflow": null,
      "overflow_x": null,
      "overflow_y": null,
      "padding": null,
      "right": null,
      "top": null,
      "visibility": null,
      "width": null
     }
    },
    "ec36a94ee2574ac8b227ccaefdee5520": {
     "model_module": "@jupyter-widgets/controls",
     "model_name": "DescriptionStyleModel",
     "state": {
      "_model_module": "@jupyter-widgets/controls",
      "_model_module_version": "1.5.0",
      "_model_name": "DescriptionStyleModel",
      "_view_count": null,
      "_view_module": "@jupyter-widgets/base",
      "_view_module_version": "1.2.0",
      "_view_name": "StyleView",
      "description_width": ""
     }
    },
    "edf36819322e4f9fa227a11592fef429": {
     "model_module": "@jupyter-widgets/controls",
     "model_name": "FloatProgressModel",
     "state": {
      "_dom_classes": [],
      "_model_module": "@jupyter-widgets/controls",
      "_model_module_version": "1.5.0",
      "_model_name": "FloatProgressModel",
      "_view_count": null,
      "_view_module": "@jupyter-widgets/controls",
      "_view_module_version": "1.5.0",
      "_view_name": "ProgressView",
      "bar_style": "success",
      "description": "Downloading: ",
      "description_tooltip": null,
      "layout": "IPY_MODEL_93f191a48b3141e1889fd94870b6ac0e",
      "max": 4662,
      "min": 0,
      "orientation": "horizontal",
      "style": "IPY_MODEL_8292dafcd40745958d0f3c563bf6b9b0",
      "value": 4662
     }
    },
    "ee641bbf54a7499597713c517baa81bb": {
     "model_module": "@jupyter-widgets/controls",
     "model_name": "HBoxModel",
     "state": {
      "_dom_classes": [],
      "_model_module": "@jupyter-widgets/controls",
      "_model_module_version": "1.5.0",
      "_model_name": "HBoxModel",
      "_view_count": null,
      "_view_module": "@jupyter-widgets/controls",
      "_view_module_version": "1.5.0",
      "_view_name": "HBoxView",
      "box_style": "",
      "children": [
       "IPY_MODEL_4f8957dc035d4c1a9e8630fc8ab8cd10",
       "IPY_MODEL_757e7bd0e6c5410da0490d191b4e68c8"
      ],
      "layout": "IPY_MODEL_3d929b9e2518402b81a71757ffb753d2"
     }
    },
    "eed2ccc12daa4c71b080794a7a18f5cb": {
     "model_module": "@jupyter-widgets/controls",
     "model_name": "HTMLModel",
     "state": {
      "_dom_classes": [],
      "_model_module": "@jupyter-widgets/controls",
      "_model_module_version": "1.5.0",
      "_model_name": "HTMLModel",
      "_view_count": null,
      "_view_module": "@jupyter-widgets/controls",
      "_view_module_version": "1.5.0",
      "_view_name": "HTMLView",
      "description": "",
      "description_tooltip": null,
      "layout": "IPY_MODEL_f18eddbd3d994ddc88f37e02d754c206",
      "placeholder": "​",
      "style": "IPY_MODEL_20347ed29fdc4c0a96da28c09aacf44d",
      "value": " 870/870 [05:39&lt;00:00,  2.45ex/s]"
     }
    },
    "f18eddbd3d994ddc88f37e02d754c206": {
     "model_module": "@jupyter-widgets/base",
     "model_name": "LayoutModel",
     "state": {
      "_model_module": "@jupyter-widgets/base",
      "_model_module_version": "1.2.0",
      "_model_name": "LayoutModel",
      "_view_count": null,
      "_view_module": "@jupyter-widgets/base",
      "_view_module_version": "1.2.0",
      "_view_name": "LayoutView",
      "align_content": null,
      "align_items": null,
      "align_self": null,
      "border": null,
      "bottom": null,
      "display": null,
      "flex": null,
      "flex_flow": null,
      "grid_area": null,
      "grid_auto_columns": null,
      "grid_auto_flow": null,
      "grid_auto_rows": null,
      "grid_column": null,
      "grid_gap": null,
      "grid_row": null,
      "grid_template_areas": null,
      "grid_template_columns": null,
      "grid_template_rows": null,
      "height": null,
      "justify_content": null,
      "justify_items": null,
      "left": null,
      "margin": null,
      "max_height": null,
      "max_width": null,
      "min_height": null,
      "min_width": null,
      "object_fit": null,
      "object_position": null,
      "order": null,
      "overflow": null,
      "overflow_x": null,
      "overflow_y": null,
      "padding": null,
      "right": null,
      "top": null,
      "visibility": null,
      "width": null
     }
    },
    "f203c54e7e054d97aa4d1097f320f611": {
     "model_module": "@jupyter-widgets/controls",
     "model_name": "FloatProgressModel",
     "state": {
      "_dom_classes": [],
      "_model_module": "@jupyter-widgets/controls",
      "_model_module_version": "1.5.0",
      "_model_name": "FloatProgressModel",
      "_view_count": null,
      "_view_module": "@jupyter-widgets/controls",
      "_view_module_version": "1.5.0",
      "_view_name": "ProgressView",
      "bar_style": "success",
      "description": "#3: 100%",
      "description_tooltip": null,
      "layout": "IPY_MODEL_0cd1932178c945d48604ffd299e65d2c",
      "max": 411,
      "min": 0,
      "orientation": "horizontal",
      "style": "IPY_MODEL_3ec3285e9f3e4a5abcefabb7f140f4a3",
      "value": 411
     }
    },
    "f3905820a42c499fba04af9c1ad19705": {
     "model_module": "@jupyter-widgets/controls",
     "model_name": "FloatProgressModel",
     "state": {
      "_dom_classes": [],
      "_model_module": "@jupyter-widgets/controls",
      "_model_module_version": "1.5.0",
      "_model_name": "FloatProgressModel",
      "_view_count": null,
      "_view_module": "@jupyter-widgets/controls",
      "_view_module_version": "1.5.0",
      "_view_name": "ProgressView",
      "bar_style": "success",
      "description": "#2: 100%",
      "description_tooltip": null,
      "layout": "IPY_MODEL_fc9504846f424542a7feb932964f1f5b",
      "max": 869,
      "min": 0,
      "orientation": "horizontal",
      "style": "IPY_MODEL_4c0ad31e73234e46aac0a297ec18bdeb",
      "value": 869
     }
    },
    "f3adb92e618743cca3299e3e7b6e369f": {
     "model_module": "@jupyter-widgets/controls",
     "model_name": "HBoxModel",
     "state": {
      "_dom_classes": [],
      "_model_module": "@jupyter-widgets/controls",
      "_model_module_version": "1.5.0",
      "_model_name": "HBoxModel",
      "_view_count": null,
      "_view_module": "@jupyter-widgets/controls",
      "_view_module_version": "1.5.0",
      "_view_name": "HBoxView",
      "box_style": "",
      "children": [
       "IPY_MODEL_b0e3a36279d243ab9943149705c72c3e",
       "IPY_MODEL_12696cc03f464a63a411efb2b5e5ac3b"
      ],
      "layout": "IPY_MODEL_83b51e16d88046c48dcd745cf09d2e56"
     }
    },
    "f4135dd72864445391f43f387635bfdc": {
     "model_module": "@jupyter-widgets/controls",
     "model_name": "HTMLModel",
     "state": {
      "_dom_classes": [],
      "_model_module": "@jupyter-widgets/controls",
      "_model_module_version": "1.5.0",
      "_model_name": "HTMLModel",
      "_view_count": null,
      "_view_module": "@jupyter-widgets/controls",
      "_view_module_version": "1.5.0",
      "_view_name": "HTMLView",
      "description": "",
      "description_tooltip": null,
      "layout": "IPY_MODEL_923ed9e127524187ab8cfcac31164ba7",
      "placeholder": "​",
      "style": "IPY_MODEL_8df9d19602cb4951b397c385458a11ef",
      "value": " 109/109 [00:56&lt;00:00,  1.93ba/s]"
     }
    },
    "f57d087016124ebeb073fd7428dcb68b": {
     "model_module": "@jupyter-widgets/base",
     "model_name": "LayoutModel",
     "state": {
      "_model_module": "@jupyter-widgets/base",
      "_model_module_version": "1.2.0",
      "_model_name": "LayoutModel",
      "_view_count": null,
      "_view_module": "@jupyter-widgets/base",
      "_view_module_version": "1.2.0",
      "_view_name": "LayoutView",
      "align_content": null,
      "align_items": null,
      "align_self": null,
      "border": null,
      "bottom": null,
      "display": null,
      "flex": null,
      "flex_flow": null,
      "grid_area": null,
      "grid_auto_columns": null,
      "grid_auto_flow": null,
      "grid_auto_rows": null,
      "grid_column": null,
      "grid_gap": null,
      "grid_row": null,
      "grid_template_areas": null,
      "grid_template_columns": null,
      "grid_template_rows": null,
      "height": null,
      "justify_content": null,
      "justify_items": null,
      "left": null,
      "margin": null,
      "max_height": null,
      "max_width": null,
      "min_height": null,
      "min_width": null,
      "object_fit": null,
      "object_position": null,
      "order": null,
      "overflow": null,
      "overflow_x": null,
      "overflow_y": null,
      "padding": null,
      "right": null,
      "top": null,
      "visibility": null,
      "width": null
     }
    },
    "f5f1f0865d7e4d8b810ccb9c3c4d2683": {
     "model_module": "@jupyter-widgets/controls",
     "model_name": "FloatProgressModel",
     "state": {
      "_dom_classes": [],
      "_model_module": "@jupyter-widgets/controls",
      "_model_module_version": "1.5.0",
      "_model_name": "FloatProgressModel",
      "_view_count": null,
      "_view_module": "@jupyter-widgets/controls",
      "_view_module_version": "1.5.0",
      "_view_name": "ProgressView",
      "bar_style": "success",
      "description": "#1: 100%",
      "description_tooltip": null,
      "layout": "IPY_MODEL_e51b5fd9d5a6416d986fac1526d1666f",
      "max": 412,
      "min": 0,
      "orientation": "horizontal",
      "style": "IPY_MODEL_a47f1ea64f894f0b8e6b277c31ae9f7d",
      "value": 412
     }
    },
    "f6930dd5519d4dfda64c597def220a30": {
     "model_module": "@jupyter-widgets/controls",
     "model_name": "HTMLModel",
     "state": {
      "_dom_classes": [],
      "_model_module": "@jupyter-widgets/controls",
      "_model_module_version": "1.5.0",
      "_model_name": "HTMLModel",
      "_view_count": null,
      "_view_module": "@jupyter-widgets/controls",
      "_view_module_version": "1.5.0",
      "_view_name": "HTMLView",
      "description": "",
      "description_tooltip": null,
      "layout": "IPY_MODEL_56ad6231a0a04228be29ceecbc6b7c0e",
      "placeholder": "​",
      "style": "IPY_MODEL_ab72c80dfd5e4ab19a183f4204486b59",
      "value": " 52/52 [00:31&lt;00:00,  1.63ba/s]"
     }
    },
    "f6b01ad0433a40178ef3ba5657bc1583": {
     "model_module": "@jupyter-widgets/controls",
     "model_name": "FloatProgressModel",
     "state": {
      "_dom_classes": [],
      "_model_module": "@jupyter-widgets/controls",
      "_model_module_version": "1.5.0",
      "_model_name": "FloatProgressModel",
      "_view_count": null,
      "_view_module": "@jupyter-widgets/controls",
      "_view_module_version": "1.5.0",
      "_view_name": "ProgressView",
      "bar_style": "success",
      "description": "#0: 100%",
      "description_tooltip": null,
      "layout": "IPY_MODEL_69828f4a101f4340916a4be141866904",
      "max": 870,
      "min": 0,
      "orientation": "horizontal",
      "style": "IPY_MODEL_beca070c32124a119a08cb21c2ca95e5",
      "value": 870
     }
    },
    "f78ff14b9c8f46448ed1ecb3fe1f5e0b": {
     "model_module": "@jupyter-widgets/controls",
     "model_name": "HTMLModel",
     "state": {
      "_dom_classes": [],
      "_model_module": "@jupyter-widgets/controls",
      "_model_module_version": "1.5.0",
      "_model_name": "HTMLModel",
      "_view_count": null,
      "_view_module": "@jupyter-widgets/controls",
      "_view_module_version": "1.5.0",
      "_view_name": "HTMLView",
      "description": "",
      "description_tooltip": null,
      "layout": "IPY_MODEL_b054b00a32e64fc5988fbd2966ebbce6",
      "placeholder": "​",
      "style": "IPY_MODEL_5a5bc8b4a1c644dea08a60128d888d10",
      "value": " 412/412 [03:06&lt;00:00,  2.20ex/s]"
     }
    },
    "f792530a76ee486688cbc2502dfae594": {
     "model_module": "@jupyter-widgets/controls",
     "model_name": "FloatProgressModel",
     "state": {
      "_dom_classes": [],
      "_model_module": "@jupyter-widgets/controls",
      "_model_module_version": "1.5.0",
      "_model_name": "FloatProgressModel",
      "_view_count": null,
      "_view_module": "@jupyter-widgets/controls",
      "_view_module_version": "1.5.0",
      "_view_name": "ProgressView",
      "bar_style": "success",
      "description": "#3: 100%",
      "description_tooltip": null,
      "layout": "IPY_MODEL_7e50f8027fb74d669daae5e46082026c",
      "max": 869,
      "min": 0,
      "orientation": "horizontal",
      "style": "IPY_MODEL_1261590ef796493798f7068ea0547b74",
      "value": 869
     }
    },
    "f972527479e74337a98f236ed018ae1d": {
     "model_module": "@jupyter-widgets/base",
     "model_name": "LayoutModel",
     "state": {
      "_model_module": "@jupyter-widgets/base",
      "_model_module_version": "1.2.0",
      "_model_name": "LayoutModel",
      "_view_count": null,
      "_view_module": "@jupyter-widgets/base",
      "_view_module_version": "1.2.0",
      "_view_name": "LayoutView",
      "align_content": null,
      "align_items": null,
      "align_self": null,
      "border": null,
      "bottom": null,
      "display": null,
      "flex": null,
      "flex_flow": null,
      "grid_area": null,
      "grid_auto_columns": null,
      "grid_auto_flow": null,
      "grid_auto_rows": null,
      "grid_column": null,
      "grid_gap": null,
      "grid_row": null,
      "grid_template_areas": null,
      "grid_template_columns": null,
      "grid_template_rows": null,
      "height": null,
      "justify_content": null,
      "justify_items": null,
      "left": null,
      "margin": null,
      "max_height": null,
      "max_width": null,
      "min_height": null,
      "min_width": null,
      "object_fit": null,
      "object_position": null,
      "order": null,
      "overflow": null,
      "overflow_x": null,
      "overflow_y": null,
      "padding": null,
      "right": null,
      "top": null,
      "visibility": null,
      "width": null
     }
    },
    "f9efaa7678c2450f847ff2c2f21ff96e": {
     "model_module": "@jupyter-widgets/controls",
     "model_name": "DescriptionStyleModel",
     "state": {
      "_model_module": "@jupyter-widgets/controls",
      "_model_module_version": "1.5.0",
      "_model_name": "DescriptionStyleModel",
      "_view_count": null,
      "_view_module": "@jupyter-widgets/base",
      "_view_module_version": "1.2.0",
      "_view_name": "StyleView",
      "description_width": ""
     }
    },
    "fa7926bbe77e48b3a0648b45f5d2dc7a": {
     "model_module": "@jupyter-widgets/controls",
     "model_name": "ProgressStyleModel",
     "state": {
      "_model_module": "@jupyter-widgets/controls",
      "_model_module_version": "1.5.0",
      "_model_name": "ProgressStyleModel",
      "_view_count": null,
      "_view_module": "@jupyter-widgets/base",
      "_view_module_version": "1.2.0",
      "_view_name": "StyleView",
      "bar_color": null,
      "description_width": "initial"
     }
    },
    "fc9504846f424542a7feb932964f1f5b": {
     "model_module": "@jupyter-widgets/base",
     "model_name": "LayoutModel",
     "state": {
      "_model_module": "@jupyter-widgets/base",
      "_model_module_version": "1.2.0",
      "_model_name": "LayoutModel",
      "_view_count": null,
      "_view_module": "@jupyter-widgets/base",
      "_view_module_version": "1.2.0",
      "_view_name": "LayoutView",
      "align_content": null,
      "align_items": null,
      "align_self": null,
      "border": null,
      "bottom": null,
      "display": null,
      "flex": null,
      "flex_flow": null,
      "grid_area": null,
      "grid_auto_columns": null,
      "grid_auto_flow": null,
      "grid_auto_rows": null,
      "grid_column": null,
      "grid_gap": null,
      "grid_row": null,
      "grid_template_areas": null,
      "grid_template_columns": null,
      "grid_template_rows": null,
      "height": null,
      "justify_content": null,
      "justify_items": null,
      "left": null,
      "margin": null,
      "max_height": null,
      "max_width": null,
      "min_height": null,
      "min_width": null,
      "object_fit": null,
      "object_position": null,
      "order": null,
      "overflow": null,
      "overflow_x": null,
      "overflow_y": null,
      "padding": null,
      "right": null,
      "top": null,
      "visibility": null,
      "width": null
     }
    },
    "fe62265afdc74026b7e9c5a50ef61d2c": {
     "model_module": "@jupyter-widgets/base",
     "model_name": "LayoutModel",
     "state": {
      "_model_module": "@jupyter-widgets/base",
      "_model_module_version": "1.2.0",
      "_model_name": "LayoutModel",
      "_view_count": null,
      "_view_module": "@jupyter-widgets/base",
      "_view_module_version": "1.2.0",
      "_view_name": "LayoutView",
      "align_content": null,
      "align_items": null,
      "align_self": null,
      "border": null,
      "bottom": null,
      "display": null,
      "flex": null,
      "flex_flow": null,
      "grid_area": null,
      "grid_auto_columns": null,
      "grid_auto_flow": null,
      "grid_auto_rows": null,
      "grid_column": null,
      "grid_gap": null,
      "grid_row": null,
      "grid_template_areas": null,
      "grid_template_columns": null,
      "grid_template_rows": null,
      "height": null,
      "justify_content": null,
      "justify_items": null,
      "left": null,
      "margin": null,
      "max_height": null,
      "max_width": null,
      "min_height": null,
      "min_width": null,
      "object_fit": null,
      "object_position": null,
      "order": null,
      "overflow": null,
      "overflow_x": null,
      "overflow_y": null,
      "padding": null,
      "right": null,
      "top": null,
      "visibility": null,
      "width": null
     }
    }
   }
  }
 },
 "nbformat": 4,
 "nbformat_minor": 4
}
